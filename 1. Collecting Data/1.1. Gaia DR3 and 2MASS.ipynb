{
 "cells": [
  {
   "cell_type": "markdown",
   "metadata": {},
   "source": [
    "Prerequisites:\n",
    "* astroquery\n",
    "* vaex\n",
    "* numpy\n",
    "* pandas\n",
    "* signal (optional)\n",
    "* time (optional)\n",
    "* datetime (optional)"
   ]
  },
  {
   "cell_type": "code",
   "execution_count": 36,
   "metadata": {},
   "outputs": [],
   "source": [
    "from astroquery.utils.tap.core import Tap\n",
    "import vaex\n",
    "import numpy as np\n",
    "from datetime import datetime\n",
    "from time import time\n",
    "from astroquery.gaia import Gaia\n",
    "from os.path import join, abspath\n",
    "from os import pardir, curdir, mkdir\n",
    "from glob import glob"
   ]
  },
  {
   "cell_type": "code",
   "execution_count": 34,
   "metadata": {},
   "outputs": [
    {
     "name": "stdout",
     "output_type": "stream",
     "text": [
      "Creating Gaia-2MASS dir in Data dir\n"
     ]
    }
   ],
   "source": [
    "root_data_dir = abspath(join(pardir, \"Data\"))\n",
    "data_dir = join(root_data_dir, \"Gaia-2MASS\")\n",
    "try:\n",
    "  mkdir(data_dir)\n",
    "  print(\"Creating Gaia-2MASS dir in Data dir\")\n",
    "except FileExistsError:\n",
    "  print(\"Directory already exist. Good to go!\")\n"
   ]
  },
  {
   "cell_type": "markdown",
   "metadata": {},
   "source": [
    "### utility functions"
   ]
  },
  {
   "cell_type": "code",
   "execution_count": 3,
   "metadata": {},
   "outputs": [],
   "source": [
    "# progress bar\n",
    "def progress(percent=0, width=50):\n",
    "    left = int((width * percent) // 100)\n",
    "    right = width - left\n",
    "    \n",
    "    tags = \"#\" * left\n",
    "    spaces = \" \" * right\n",
    "    percents = f\"{percent:.0f}%\"\n",
    "    \n",
    "    print(\"\\r[\", tags, spaces, \"]\", percents, sep=\"\", end=\"\", flush=True)"
   ]
  },
  {
   "cell_type": "code",
   "execution_count": 5,
   "metadata": {},
   "outputs": [],
   "source": [
    "# add timeout, such that sending request again after some period of time\n",
    "def timeout(func, args=(), kwargs={}, timeout_duration=1, default=None):\n",
    "    import signal\n",
    "    from time import time\n",
    "    from requests import HTTPError\n",
    "    from time import sleep\n",
    "\n",
    "    class TimeoutError(Exception):\n",
    "        pass\n",
    "\n",
    "    def handler(signum, frame):\n",
    "        raise TimeoutError()\n",
    "\n",
    "    # set the timeout handler\n",
    "    t0 = time()\n",
    "    signal.signal(signal.SIGALRM, handler) \n",
    "    signal.alarm(timeout_duration)\n",
    "    try:\n",
    "        result = func(*args, **kwargs)\n",
    "    except TimeoutError as exc:\n",
    "        result = default\n",
    "        t1 = time()\n",
    "        print(\"too long, requesting again...\")\n",
    "        print(f\"time = {round(t1-t0,2)}s\")\n",
    "    except HTTPError:\n",
    "        result = default\n",
    "        t1 = time()\n",
    "        # a litte hacky, need some fixes\n",
    "        if(t1-t0 < 1):\n",
    "            print(\"service unavailable, sleep for 300s\")\n",
    "            print(f\"time = {round(t1-t0,2)}s\")\n",
    "            sleep(300)\n",
    "            print(\"continue\")\n",
    "        else:\n",
    "            print(\"server not responding, try again\")\n",
    "            print(f\"time = {round(t1-t0,2)}s\")\n",
    "    except KeyboardInterrupt:\n",
    "        raise KeyboardInterrupt\n",
    "    except Exception:\n",
    "        result = default\n",
    "        t1 = time()\n",
    "        print(\"some error\")\n",
    "        print(Exception)\n",
    "        print(f\"time = {round(t1-t0,2)}s\")\n",
    "    finally:\n",
    "        signal.alarm(0)\n",
    "    \n",
    "    return result"
   ]
  },
  {
   "cell_type": "markdown",
   "metadata": {},
   "source": [
    "### defining columns"
   ]
  },
  {
   "cell_type": "code",
   "execution_count": 6,
   "metadata": {},
   "outputs": [
    {
     "data": {
      "text/plain": [
       "['gdr3.\"source_id\"',\n",
       " 'gdr3.\"pm\"',\n",
       " 'gdr3.\"pmra\"',\n",
       " 'gdr3.\"pmra_error\" AS e_pmra',\n",
       " 'gdr3.\"pmdec\"',\n",
       " 'gdr3.\"pmdec_error\" AS e_pmdec',\n",
       " 'gdr3.\"parallax\"',\n",
       " 'gdr3.\"parallax_error\" AS e_parallax',\n",
       " 'gdr3.\"phot_g_mean_mag\" AS Gmag',\n",
       " 'gdr3.\"phot_bp_mean_mag\" AS BPmag',\n",
       " 'gdr3.\"phot_rp_mean_mag\" AS RPmag',\n",
       " 'gdr3.\"radial_velocity\" AS rv_gaia',\n",
       " 'gdr3.\"radial_velocity_error\" AS e_rv_gaia',\n",
       " 'gdr3.\"bp_rp\"',\n",
       " 'gdr3.\"l\" AS GLON',\n",
       " 'gdr3.\"b\" AS GLAT',\n",
       " 'gdr3.\"teff_gspphot\"',\n",
       " 'gdr3.\"teff_gspphot_lower\"',\n",
       " 'gdr3.\"teff_gspphot_upper\"',\n",
       " 'gdr3.\"logg_gspphot\"',\n",
       " 'gdr3.\"logg_gspphot_lower\"',\n",
       " 'gdr3.\"logg_gspphot_upper\"',\n",
       " 'astrophysical.\"mh_gspphot\"',\n",
       " 'astrophysical.\"mh_gspphot_lower\"',\n",
       " 'astrophysical.\"mh_gspphot_upper\"',\n",
       " 'astrophysical.\"distance_gspphot\"',\n",
       " 'astrophysical.\"distance_gspphot_lower\"',\n",
       " 'astrophysical.\"distance_gspphot_upper\"',\n",
       " 'astrophysical.\"ag_gspphot\"',\n",
       " 'astrophysical.\"ag_gspphot_lower\"',\n",
       " 'astrophysical.\"ag_gspphot_upper\"',\n",
       " 'astrophysical.\"mh_gspspec\"',\n",
       " 'astrophysical.\"mh_gspspec_lower\"',\n",
       " 'astrophysical.\"mh_gspspec_upper\"',\n",
       " 'astrophysical.\"alphafe_gspspec\"',\n",
       " 'astrophysical.\"alphafe_gspspec_lower\"',\n",
       " 'astrophysical.\"alphafe_gspspec_upper\"',\n",
       " 'astrophysical.\"fem_gspspec\"',\n",
       " 'astrophysical.\"fem_gspspec_lower\"',\n",
       " 'astrophysical.\"fem_gspspec_upper\"',\n",
       " 'astrophysical.\"spectraltype_esphs\"',\n",
       " 'tmass.\"original_ext_source_id\" AS tmass']"
      ]
     },
     "execution_count": 6,
     "metadata": {},
     "output_type": "execute_result"
    }
   ],
   "source": [
    "column_gaia = [\"source_id\", \"pm\", \"pmra\", \"pmra_error AS e_pmra\", \"pmdec\", \n",
    "           \"pmdec_error AS e_pmdec\", \"parallax\", \"parallax_error AS e_parallax\", \"phot_g_mean_mag AS Gmag\",\t\"phot_bp_mean_mag AS BPmag\", \n",
    "           \"phot_rp_mean_mag AS RPmag\", \"radial_velocity AS rv_gaia\",\t\"radial_velocity_error AS e_rv_gaia\",\n",
    "           \"bp_rp\", \"l AS GLON\", \"b AS GLAT\", \"teff_gspphot\", \"teff_gspphot_lower\", \"teff_gspphot_upper\",\n",
    "           \"logg_gspphot\", \"logg_gspphot_lower\", \"logg_gspphot_upper\"]\n",
    "\n",
    "column_astrophysical = [\"mh_gspphot\", \"mh_gspphot_lower\", \"mh_gspphot_upper\", \"distance_gspphot\", \"distance_gspphot_lower\", \n",
    "                         \"distance_gspphot_upper\", \"ag_gspphot\", \"ag_gspphot_lower\", \"ag_gspphot_upper\",\n",
    "                         \"mh_gspspec\", \"mh_gspspec_lower\", \"mh_gspspec_upper\", \"alphafe_gspspec\", \"alphafe_gspspec_lower\", \n",
    "                         \"alphafe_gspspec_upper\", \"fem_gspspec\", \"fem_gspspec_lower\", \"fem_gspspec_upper\" ,\"spectraltype_esphs\"]\n",
    "\n",
    "column_xmatch_tmass = [\"original_ext_source_id AS tmass\"]\n",
    "\n",
    "def appendName(element, name):\n",
    "    string = element.split(\" AS \")\n",
    "    if(len(string) == 1):\n",
    "        return f\"{name}.\\\"{element}\\\"\"\n",
    "    else:\n",
    "        return f\"{name}.\\\"{string[0]}\\\" AS {string[1]}\"\n",
    "\n",
    "column_gaia = list(map(lambda x: appendName(x, \"gdr3\"), column_gaia))\n",
    "column_astrophysical = list(map(lambda x: appendName(x, \"astrophysical\"), column_astrophysical))\n",
    "column_xmatch_tmass = list(map(lambda x: appendName(x, \"tmass\"), column_xmatch_tmass))\n",
    "\n",
    "columns = column_gaia + column_astrophysical  + column_xmatch_tmass\n",
    "columns"
   ]
  },
  {
   "cell_type": "code",
   "execution_count": 7,
   "metadata": {},
   "outputs": [],
   "source": [
    "# 2MASS tap endpoint\n",
    "tap_tmass = Tap(url=\"https://irsa.ipac.caltech.edu/TAP/sync\")\n",
    "\n",
    "columns_tmass = [\"ra\", \"dec\",\"j_m\", \"h_m\", \"k_m\", \"designation\"]\n",
    "columns_tmass_names = [\"ra\", \"dec\", \"Jmag\", \"Hmag\", \"Kmag\", \"designation\"]"
   ]
  },
  {
   "cell_type": "markdown",
   "metadata": {},
   "source": [
    "### Divide into multiple RAs\n",
    "this strategy is to reduce the size of response"
   ]
  },
  {
   "cell_type": "code",
   "execution_count": 8,
   "metadata": {},
   "outputs": [
    {
     "data": {
      "text/plain": [
       "array([  0,   1,   2,   3,   4,   5,   6,   7,   8,   9,  10,  11,  12,\n",
       "        13,  14,  15,  16,  17,  18,  19,  20,  21,  22,  23,  24,  25,\n",
       "        26,  27,  28,  29,  30,  31,  32,  33,  34,  35,  36,  37,  38,\n",
       "        39,  40,  41,  42,  43,  44,  45,  46,  47,  48,  49,  50,  51,\n",
       "        52,  53,  54,  55,  56,  57,  58,  59,  60,  61,  62,  63,  64,\n",
       "        65,  66,  67,  68,  69,  70,  71,  72,  73,  74,  75,  76,  77,\n",
       "        78,  79,  80,  81,  82,  83,  84,  85,  86,  87,  88,  89,  90,\n",
       "        91,  92,  93,  94,  95,  96,  97,  98,  99, 100, 101, 102, 103,\n",
       "       104, 105, 106, 107, 108, 109, 110, 111, 112, 113, 114, 115, 116,\n",
       "       117, 118, 119, 120, 121, 122, 123, 124, 125, 126, 127, 128, 129,\n",
       "       130, 131, 132, 133, 134, 135, 136, 137, 138, 139, 140, 141, 142,\n",
       "       143, 144, 145, 146, 147, 148, 149, 150, 151, 152, 153, 154, 155,\n",
       "       156, 157, 158, 159, 160, 161, 162, 163, 164, 165, 166, 167, 168,\n",
       "       169, 170, 171, 172, 173, 174, 175, 176, 177, 178, 179, 180, 181,\n",
       "       182, 183, 184, 185, 186, 187, 188, 189, 190, 191, 192, 193, 194,\n",
       "       195, 196, 197, 198, 199, 200, 201, 202, 203, 204, 205, 206, 207,\n",
       "       208, 209, 210, 211, 212, 213, 214, 215, 216, 217, 218, 219, 220,\n",
       "       221, 222, 223, 224, 225, 226, 227, 228, 229, 230, 231, 232, 233,\n",
       "       234, 235, 236, 237, 238, 239, 240, 241, 242, 243, 244, 245, 246,\n",
       "       247, 248, 249, 250, 251, 252, 253, 254, 255, 256, 257, 258, 259,\n",
       "       260, 261, 262, 263, 264, 265, 266, 267, 268, 269, 270, 271, 272,\n",
       "       273, 274, 275, 276, 277, 278, 279, 280, 281, 282, 283, 284, 285,\n",
       "       286, 287, 288, 289, 290, 291, 292, 293, 294, 295, 296, 297, 298,\n",
       "       299, 300, 301, 302, 303, 304, 305, 306, 307, 308, 309, 310, 311,\n",
       "       312, 313, 314, 315, 316, 317, 318, 319, 320, 321, 322, 323, 324,\n",
       "       325, 326, 327, 328, 329, 330, 331, 332, 333, 334, 335, 336, 337,\n",
       "       338, 339, 340, 341, 342, 343, 344, 345, 346, 347, 348, 349, 350,\n",
       "       351, 352, 353, 354, 355, 356, 357, 358, 359, 360])"
      ]
     },
     "execution_count": 8,
     "metadata": {},
     "output_type": "execute_result"
    }
   ],
   "source": [
    "# divide into 360 RAs, depend on preference\n",
    "ras = np.arange(0,361, 1).astype(int)\n",
    "ras"
   ]
  },
  {
   "cell_type": "markdown",
   "metadata": {},
   "source": [
    "#### Divide further in DECs direction"
   ]
  },
  {
   "cell_type": "code",
   "execution_count": 9,
   "metadata": {},
   "outputs": [
    {
     "data": {
      "text/plain": [
       "array([-90, -80, -70, -60, -50, -40, -30, -20, -10,   0,  10,  20,  30,\n",
       "        40,  50,  60,  70,  80,  90])"
      ]
     },
     "execution_count": 9,
     "metadata": {},
     "output_type": "execute_result"
    }
   ],
   "source": [
    "decs = np.linspace(-90,90,19).astype(int)\n",
    "decs"
   ]
  },
  {
   "cell_type": "markdown",
   "metadata": {},
   "source": [
    "run in loop"
   ]
  },
  {
   "cell_type": "code",
   "execution_count": 11,
   "metadata": {},
   "outputs": [
    {
     "name": "stdout",
     "output_type": "stream",
     "text": [
      "[##                                                ]6%"
     ]
    }
   ],
   "source": [
    "TOP = 50_000 # cap maximum rows for each response, so that the response is not exploding\n",
    "\n",
    "# ra0 for lower boundry and ra1 for upper boundary\n",
    "# same with dec0 and dec1\n",
    "for i, (ra0, ra1) in enumerate(zip(ras[:-1], ras[1:])):\n",
    "    df_com = [] #initial table\n",
    "    time0 = time()\n",
    "    progress(0)\n",
    "    j = 0\n",
    "    while j < len(decs) -1:\n",
    "        dec0 = decs[j]\n",
    "        dec1 = decs[j+1]\n",
    "        # query gaia data\n",
    "        # taking wider ra and dec constrains than 2MASS, because of different epoch\n",
    "        # the contrains are based on https://doi.org/10.1093/mnras/stab3671\n",
    "        query_gaia = f\"\"\"\n",
    "        SELECT TOP {TOP} {', '.join(columns)}\n",
    "        FROM gaiadr3.gaia_source AS gdr3\n",
    "        LEFT JOIN gaiadr3.astrophysical_parameters AS astrophysical ON astrophysical.source_id = gdr3.source_id\n",
    "        RIGHT JOIN gaiadr3.tmass_psc_xsc_best_neighbour AS tmass ON tmass.source_id = gdr3.source_id\n",
    "        WHERE gdr3.ra BETWEEN {ra0-1} AND {ra1+1}\n",
    "        AND gdr3.dec BETWEEN {dec0-1} AND {dec1+1}\n",
    "        AND parallax > 0\n",
    "        AND parallax_error/parallax < 0.15\n",
    "        AND bp_rp BETWEEN -3 AND 6\n",
    "        AND gdr3.phot_g_mean_mag BETWEEN 3 AND 21\n",
    "        AND phot_bp_mean_flux_error/phot_bp_mean_flux < 0.15\n",
    "        AND phot_rp_mean_flux_error/phot_rp_mean_flux < 0.15\n",
    "        AND ruwe < 1.4\t\n",
    "        AND phot_bp_rp_excess_factor > 1 + 0.015*gdr3.bp_rp*gdr3.bp_rp\n",
    "        AND phot_bp_rp_excess_factor < 1.3 + 0.06*gdr3.bp_rp*gdr3.bp_rp\n",
    "        \"\"\"\n",
    "        job_gaia = timeout(Gaia.launch_job, args=(query_gaia,), timeout_duration=120)\n",
    "        if job_gaia == None: #if failed, try again\n",
    "            print(\"fail to fetch gaia\")\n",
    "            print(\"length = \", len(df_com))\n",
    "            continue\n",
    "        result_gaia = job_gaia.get_results()\n",
    "        df_gaia = vaex.from_pandas(result_gaia.to_pandas())\n",
    "        # query 2MASS data\n",
    "        query_tmass = f\"\"\"\n",
    "        SELECT TOP {TOP} {\", \".join(columns_tmass)} \n",
    "        FROM fp_psc\n",
    "        WHERE ra BETWEEN {ra0} AND {ra1}\n",
    "        AND dec BETWEEN {dec0} AND {dec1} \n",
    "        AND ph_qual = 'AAA'\n",
    "        \"\"\"\n",
    "        job_tmass = timeout(tap_tmass.launch_job, args=(query_tmass,), timeout_duration=120)\n",
    "        if job_tmass == None: \n",
    "            print(\"fail to fetch tmass\")\n",
    "            print(\"length = \", len(df_com))\n",
    "            continue\n",
    "        result_tmass = job_tmass.get_results()\n",
    "        df_tmass = result_tmass.to_pandas()\n",
    "        df_tmass.columns = columns_tmass_names\n",
    "        # join\n",
    "        df_tmass = vaex.from_pandas(df_tmass)\n",
    "        join = df_tmass.join(df_gaia, left_on=\"designation\", right_on=\"tmass\", how=\"left\", allow_duplication=True)\n",
    "        join.drop([\"designation\", \"tmass\"], inplace=True)\n",
    "        progress((j+1)/(len(decs)-1)*100)\n",
    "        if(len(df_com) == 0):\n",
    "            df_com = join\n",
    "        else:\n",
    "            df_com = df_com.concat(join)\n",
    "        j += 1\n",
    "        t1 = time()\n",
    "    time1 = time()  \n",
    "    df_com.rename(\"sdss13\", \"SDSS13\")\n",
    "    df_com.rename(\"rave6\", \"RAVE6\")\n",
    "    df_com.export(join(data_dir, f\"gaia-{ra0:03d}-{ra1:03d}.hdf5\"), progress=True)\n",
    "    print(f\"{len(df_com)} || {round((time1-time0)/60, 2)}m\")\n",
    "    print(f\"{i} saved {ra0}-{ra1} || {datetime.now()}\")"
   ]
  },
  {
   "cell_type": "markdown",
   "metadata": {},
   "source": [
    "Approximately 95 mil rows (23 GB)\n",
    "\n",
    "taking ~ 48 hours"
   ]
  },
  {
   "cell_type": "markdown",
   "metadata": {},
   "source": [
    "### Preview"
   ]
  },
  {
   "cell_type": "code",
   "execution_count": 39,
   "metadata": {},
   "outputs": [
    {
     "data": {
      "text/plain": [
       "['/home2/s20321005/Thesis-Project/Data/Gaia-2MASS/gaia-219-220.hdf5',\n",
       " '/home2/s20321005/Thesis-Project/Data/Gaia-2MASS/gaia-079-080.hdf5',\n",
       " '/home2/s20321005/Thesis-Project/Data/Gaia-2MASS/gaia-218-219.hdf5',\n",
       " '/home2/s20321005/Thesis-Project/Data/Gaia-2MASS/gaia-182-183.hdf5',\n",
       " '/home2/s20321005/Thesis-Project/Data/Gaia-2MASS/gaia-045-046.hdf5']"
      ]
     },
     "execution_count": 39,
     "metadata": {},
     "output_type": "execute_result"
    }
   ],
   "source": [
    "files = glob(join(data_dir, \"*.hdf5\"))\n",
    "files[:5]"
   ]
  },
  {
   "cell_type": "code",
   "execution_count": 40,
   "metadata": {},
   "outputs": [
    {
     "data": {
      "text/html": [
       "<table>\n",
       "<thead>\n",
       "<tr><th>#                                     </th><th>source_id          </th><th>ra             </th><th>dec            </th><th>pm    </th><th>pmra   </th><th>e_pmra  </th><th>pmdec  </th><th>e_pmdec    </th><th>parallax  </th><th>e_parallax  </th><th>Gmag     </th><th>BPmag    </th><th>RPmag    </th><th>rv_gaia  </th><th>e_rv_gaia  </th><th>bp_rp   </th><th>GLON           </th><th>GLAT           </th><th>teff_gspphot  </th><th>teff_gspphot_lower  </th><th>teff_gspphot_upper  </th><th>logg_gspphot  </th><th>logg_gspphot_lower  </th><th>logg_gspphot_upper  </th><th>mh_gspphot  </th><th>mh_gspphot_lower  </th><th>mh_gspphot_upper  </th><th>distance_gspphot  </th><th>distance_gspphot_lower  </th><th>distance_gspphot_upper  </th><th>ag_gspphot  </th><th>ag_gspphot_lower  </th><th>ag_gspphot_upper  </th><th>RAVE6  </th><th>SDSS13  </th><th>Jmag  </th><th>Hmag  </th><th>Kmag  </th><th>mh_gspspec  </th><th>mh_gspspec_lower  </th><th>mh_gspspec_upper  </th><th>alphafe_gspspec  </th><th>alphafe_gspspec_lower  </th><th>alphafe_gspspec_upper  </th><th>fem_gspspec  </th><th>fem_gspspec_lower  </th><th>fem_gspspec_upper  </th><th>spectraltype_esphs  </th></tr>\n",
       "</thead>\n",
       "<tbody>\n",
       "<tr><td><i style='opacity: 0.6'>0</i>         </td><td>5764635079544432128</td><td>219.77805455719</td><td>-89.56922832436</td><td>7.511 </td><td>1.522  </td><td>0.021   </td><td>-7.355 </td><td>0.020949371</td><td>2.8775    </td><td>0.0184      </td><td>10.847249</td><td>11.118501</td><td>10.412085</td><td>-5.29    </td><td>0.73       </td><td>0.706416</td><td>303.15029042357</td><td>-26.74401558194</td><td>6141.6        </td><td>6130.1              </td><td>6152.1              </td><td>4.043         </td><td>4.0398              </td><td>4.0469              </td><td>-0.4365     </td><td>-0.4457           </td><td>-0.4269           </td><td>344.0585          </td><td>341.9788                </td><td>346.0511                </td><td>0.0799      </td><td>0.0745            </td><td>0.0847            </td><td>       </td><td>--      </td><td>9.953 </td><td>9.698 </td><td>9.683 </td><td>-0.26       </td><td>-0.32             </td><td>-0.22             </td><td>0.33             </td><td>0.26                   </td><td>0.4                    </td><td>nan          </td><td>nan                </td><td>nan                </td><td>F                   </td></tr>\n",
       "<tr><td><i style='opacity: 0.6'>1</i>         </td><td>5764635393079767296</td><td>219.15195997564</td><td>-89.5318109641 </td><td>11.203</td><td>-8.352 </td><td>0.012   </td><td>-7.467 </td><td>0.012214055</td><td>0.4305    </td><td>0.011       </td><td>13.174702</td><td>13.789571</td><td>12.425439</td><td>67.09    </td><td>0.91       </td><td>1.364132</td><td>303.16401990137</td><td>-26.70832039314</td><td>4718.7        </td><td>4713.3              </td><td>4724.8              </td><td>2.5833        </td><td>2.5655              </td><td>2.6014              </td><td>-0.1946     </td><td>-0.1952           </td><td>-0.1941           </td><td>2070.6995         </td><td>2031.6134               </td><td>2112.0928               </td><td>0.3619      </td><td>0.3574            </td><td>0.3668            </td><td>       </td><td>--      </td><td>11.418</td><td>10.819</td><td>10.704</td><td>nan         </td><td>nan               </td><td>nan               </td><td>nan              </td><td>nan                    </td><td>nan                    </td><td>nan          </td><td>nan                </td><td>nan                </td><td>K                   </td></tr>\n",
       "<tr><td><i style='opacity: 0.6'>2</i>         </td><td>5764635496158988544</td><td>219.83101507284</td><td>-89.50979783241</td><td>2.65  </td><td>-2.095 </td><td>0.022   </td><td>1.623  </td><td>0.024982337</td><td>0.2155    </td><td>0.0218      </td><td>14.993793</td><td>15.584641</td><td>14.263248</td><td>nan      </td><td>nan        </td><td>1.321393</td><td>303.18075914642</td><td>-26.69113646047</td><td>4881.6        </td><td>4875.7              </td><td>4888.8              </td><td>3.0708        </td><td>3.0509              </td><td>3.0862              </td><td>-0.1415     </td><td>-0.15             </td><td>-0.1356           </td><td>3446.1995         </td><td>3376.546                </td><td>3517.8865               </td><td>0.4145      </td><td>0.4093            </td><td>0.4207            </td><td>       </td><td>--      </td><td>13.306</td><td>12.725</td><td>12.634</td><td>nan         </td><td>nan               </td><td>nan               </td><td>nan              </td><td>nan                    </td><td>nan                    </td><td>nan          </td><td>nan                </td><td>nan                </td><td>K                   </td></tr>\n",
       "<tr><td><i style='opacity: 0.6'>3</i>         </td><td>5764638554175708672</td><td>219.24632619569</td><td>-89.48870252979</td><td>11.672</td><td>-10.811</td><td>0.017   </td><td>-4.399 </td><td>0.01951931 </td><td>1.9675    </td><td>0.0166      </td><td>14.446186</td><td>14.915824</td><td>13.815229</td><td>13.17    </td><td>3.9        </td><td>1.100595</td><td>303.18615009602</td><td>-26.66999019517</td><td>5226.6        </td><td>5217.9              </td><td>5235.5              </td><td>4.5456        </td><td>4.5418              </td><td>4.5518              </td><td>-0.1967     </td><td>-0.2063           </td><td>-0.1864           </td><td>490.8246          </td><td>487.5747                </td><td>493.967                 </td><td>0.2623      </td><td>0.2565            </td><td>0.2679            </td><td>       </td><td>--      </td><td>13.026</td><td>12.587</td><td>12.512</td><td>nan         </td><td>nan               </td><td>nan               </td><td>nan              </td><td>nan                    </td><td>nan                    </td><td>nan          </td><td>nan                </td><td>nan                </td><td>K                   </td></tr>\n",
       "<tr><td><i style='opacity: 0.6'>4</i>         </td><td>5764639241370488064</td><td>219.24010479539</td><td>-89.44765029195</td><td>14.783</td><td>-10.759</td><td>0.113   </td><td>-10.139</td><td>0.12553297 </td><td>1.2643    </td><td>0.1066      </td><td>17.817894</td><td>18.871086</td><td>16.80843 </td><td>nan      </td><td>nan        </td><td>2.062656</td><td>303.2064053892 </td><td>-26.63317348591</td><td>4119.2        </td><td>4089.7              </td><td>4135.9              </td><td>4.6477        </td><td>4.6411              </td><td>4.6547              </td><td>0.3467      </td><td>0.2681            </td><td>0.3855            </td><td>822.1085          </td><td>799.1945                </td><td>831.1044                </td><td>0.7264      </td><td>0.6964            </td><td>0.7513            </td><td>       </td><td>--      </td><td>15.434</td><td>14.768</td><td>14.468</td><td>nan         </td><td>nan               </td><td>nan               </td><td>nan              </td><td>nan                    </td><td>nan                    </td><td>nan          </td><td>nan                </td><td>nan                </td><td>                    </td></tr>\n",
       "<tr><td>...                                   </td><td>...                </td><td>...            </td><td>...            </td><td>...   </td><td>...    </td><td>...     </td><td>...    </td><td>...        </td><td>...       </td><td>...         </td><td>...      </td><td>...      </td><td>...      </td><td>...      </td><td>...        </td><td>...     </td><td>...            </td><td>...            </td><td>...           </td><td>...                 </td><td>...                 </td><td>...           </td><td>...                 </td><td>...                 </td><td>...         </td><td>...               </td><td>...               </td><td>...               </td><td>...                     </td><td>...                     </td><td>...         </td><td>...               </td><td>...               </td><td>...    </td><td>...     </td><td>...   </td><td>...   </td><td>...   </td><td>...         </td><td>...               </td><td>...               </td><td>...              </td><td>...                    </td><td>...                    </td><td>...          </td><td>...                </td><td>...                </td><td>...                 </td></tr>\n",
       "<tr><td><i style='opacity: 0.6'>94,994,937</i></td><td>576406227696244864 </td><td>33.65804765403 </td><td>89.33197663578 </td><td>4.686 </td><td>-4.139 </td><td>0.072   </td><td>-2.197 </td><td>0.064973824</td><td>0.6416    </td><td>0.0561      </td><td>16.92992 </td><td>17.625141</td><td>16.097548</td><td>nan      </td><td>nan        </td><td>1.527594</td><td>123.19695964994</td><td>26.50349463792 </td><td>4337.4        </td><td>4217.8              </td><td>4422.2              </td><td>4.3911        </td><td>4.2846              </td><td>4.4237              </td><td>-0.3812     </td><td>-0.4888           </td><td>-0.3243           </td><td>1117.2708         </td><td>1065.5874               </td><td>1205.549                </td><td>0.305       </td><td>0.1938            </td><td>0.3925            </td><td>       </td><td>--      </td><td>14.993</td><td>14.263</td><td>14.201</td><td>nan         </td><td>nan               </td><td>nan               </td><td>nan              </td><td>nan                    </td><td>nan                    </td><td>nan          </td><td>nan                </td><td>nan                </td><td>K                   </td></tr>\n",
       "<tr><td><i style='opacity: 0.6'>94,994,938</i></td><td>576431585183142528 </td><td>33.61268607589 </td><td>89.48206639541 </td><td>1.894 </td><td>-1.763 </td><td>0.02    </td><td>0.693  </td><td>0.017867079</td><td>0.6989    </td><td>0.0159      </td><td>14.399571</td><td>15.067607</td><td>13.604876</td><td>-14.88   </td><td>3.59       </td><td>1.462731</td><td>123.13723815775</td><td>26.64377331058 </td><td>5178.8        </td><td>5133.0              </td><td>5367.7              </td><td>3.5746        </td><td>3.4492              </td><td>3.8413              </td><td>-0.4349     </td><td>-0.4827           </td><td>-0.291            </td><td>1165.2085         </td><td>893.3535                </td><td>1341.377                </td><td>0.9013      </td><td>0.8756            </td><td>0.9909            </td><td>       </td><td>--      </td><td>12.616</td><td>12.051</td><td>11.924</td><td>nan         </td><td>nan               </td><td>nan               </td><td>nan              </td><td>nan                    </td><td>nan                    </td><td>nan          </td><td>nan                </td><td>nan                </td><td>K                   </td></tr>\n",
       "<tr><td><i style='opacity: 0.6'>94,994,939</i></td><td>576445638316125184 </td><td>33.60957894134 </td><td>89.57301292445 </td><td>4.728 </td><td>-2.691 </td><td>0.018   </td><td>3.887  </td><td>0.015934618</td><td>0.7782    </td><td>0.015       </td><td>14.292352</td><td>14.78063 </td><td>13.633098</td><td>-36.36   </td><td>7.38       </td><td>1.147533</td><td>123.10127650839</td><td>26.72887005884 </td><td>5855.7        </td><td>5835.1              </td><td>5878.4              </td><td>4.0048        </td><td>3.9971              </td><td>4.0145              </td><td>-0.583      </td><td>-0.6066           </td><td>-0.555            </td><td>1217.041          </td><td>1196.2493               </td><td>1234.8632               </td><td>0.7542      </td><td>0.7434            </td><td>0.7665            </td><td>       </td><td>--      </td><td>12.857</td><td>12.457</td><td>12.404</td><td>nan         </td><td>nan               </td><td>nan               </td><td>nan              </td><td>nan                    </td><td>nan                    </td><td>nan          </td><td>nan                </td><td>nan                </td><td>G                   </td></tr>\n",
       "<tr><td><i style='opacity: 0.6'>94,994,940</i></td><td>576447459382243200 </td><td>33.57768719537 </td><td>89.70251709954 </td><td>17.162</td><td>10.764 </td><td>0.021   </td><td>13.367 </td><td>0.021056626</td><td>0.9942    </td><td>0.0197      </td><td>14.856944</td><td>15.333351</td><td>14.206361</td><td>-6.87    </td><td>13.13      </td><td>1.12699 </td><td>123.04990412536</td><td>26.85002805556 </td><td>5420.3        </td><td>5395.1              </td><td>5501.3              </td><td>4.2236        </td><td>4.2103              </td><td>4.2407              </td><td>-1.28       </td><td>-1.323            </td><td>-1.1485           </td><td>946.7403          </td><td>929.4686                </td><td>962.1341                </td><td>0.4847      </td><td>0.4702            </td><td>0.5309            </td><td>       </td><td>--      </td><td>13.478</td><td>13.002</td><td>12.953</td><td>nan         </td><td>nan               </td><td>nan               </td><td>nan              </td><td>nan                    </td><td>nan                    </td><td>nan          </td><td>nan                </td><td>nan                </td><td>G                   </td></tr>\n",
       "<tr><td><i style='opacity: 0.6'>94,994,941</i></td><td>576453437976715520 </td><td>33.20610602573 </td><td>89.73429020887 </td><td>67.239</td><td>-60.351</td><td>0.065   </td><td>29.646 </td><td>0.060682155</td><td>2.999     </td><td>0.0569      </td><td>17.162838</td><td>18.440525</td><td>16.054945</td><td>nan      </td><td>nan        </td><td>2.38558 </td><td>123.03516360374</td><td>26.87911167663 </td><td>3580.4        </td><td>3564.6              </td><td>3610.1              </td><td>4.6601        </td><td>4.406               </td><td>4.7487              </td><td>-0.2742     </td><td>-0.3302           </td><td>-0.2065           </td><td>372.0011          </td><td>325.6846                </td><td>559.3815                </td><td>0.4324      </td><td>0.4105            </td><td>0.4687            </td><td>       </td><td>--      </td><td>14.654</td><td>14.07 </td><td>13.732</td><td>nan         </td><td>nan               </td><td>nan               </td><td>nan              </td><td>nan                    </td><td>nan                    </td><td>nan          </td><td>nan                </td><td>nan                </td><td>M                   </td></tr>\n",
       "</tbody>\n",
       "</table>"
      ],
      "text/plain": [
       "#           source_id            ra               dec              pm      pmra     e_pmra    pmdec    e_pmdec      parallax    e_parallax    Gmag       BPmag      RPmag      rv_gaia    e_rv_gaia    bp_rp     GLON             GLAT             teff_gspphot    teff_gspphot_lower    teff_gspphot_upper    logg_gspphot    logg_gspphot_lower    logg_gspphot_upper    mh_gspphot    mh_gspphot_lower    mh_gspphot_upper    distance_gspphot    distance_gspphot_lower    distance_gspphot_upper    ag_gspphot    ag_gspphot_lower    ag_gspphot_upper    RAVE6    SDSS13    Jmag    Hmag    Kmag    mh_gspspec    mh_gspspec_lower    mh_gspspec_upper    alphafe_gspspec    alphafe_gspspec_lower    alphafe_gspspec_upper    fem_gspspec    fem_gspspec_lower    fem_gspspec_upper    spectraltype_esphs\n",
       "0           5764635079544432128  219.77805455719  -89.56922832436  7.511   1.522    0.021     -7.355   0.020949371  2.8775      0.0184        10.847249  11.118501  10.412085  -5.29      0.73         0.706416  303.15029042357  -26.74401558194  6141.6          6130.1                6152.1                4.043           4.0398                4.0469                -0.4365       -0.4457             -0.4269             344.0585            341.9788                  346.0511                  0.0799        0.0745              0.0847                       --        9.953   9.698   9.683   -0.26         -0.32               -0.22               0.33               0.26                     0.4                      nan            nan                  nan                  F\n",
       "1           5764635393079767296  219.15195997564  -89.5318109641   11.203  -8.352   0.012     -7.467   0.012214055  0.4305      0.011         13.174702  13.789571  12.425439  67.09      0.91         1.364132  303.16401990137  -26.70832039314  4718.7          4713.3                4724.8                2.5833          2.5655                2.6014                -0.1946       -0.1952             -0.1941             2070.6995           2031.6134                 2112.0928                 0.3619        0.3574              0.3668                       --        11.418  10.819  10.704  nan           nan                 nan                 nan                nan                      nan                      nan            nan                  nan                  K\n",
       "2           5764635496158988544  219.83101507284  -89.50979783241  2.65    -2.095   0.022     1.623    0.024982337  0.2155      0.0218        14.993793  15.584641  14.263248  nan        nan          1.321393  303.18075914642  -26.69113646047  4881.6          4875.7                4888.8                3.0708          3.0509                3.0862                -0.1415       -0.15               -0.1356             3446.1995           3376.546                  3517.8865                 0.4145        0.4093              0.4207                       --        13.306  12.725  12.634  nan           nan                 nan                 nan                nan                      nan                      nan            nan                  nan                  K\n",
       "3           5764638554175708672  219.24632619569  -89.48870252979  11.672  -10.811  0.017     -4.399   0.01951931   1.9675      0.0166        14.446186  14.915824  13.815229  13.17      3.9          1.100595  303.18615009602  -26.66999019517  5226.6          5217.9                5235.5                4.5456          4.5418                4.5518                -0.1967       -0.2063             -0.1864             490.8246            487.5747                  493.967                   0.2623        0.2565              0.2679                       --        13.026  12.587  12.512  nan           nan                 nan                 nan                nan                      nan                      nan            nan                  nan                  K\n",
       "4           5764639241370488064  219.24010479539  -89.44765029195  14.783  -10.759  0.113     -10.139  0.12553297   1.2643      0.1066        17.817894  18.871086  16.80843   nan        nan          2.062656  303.2064053892   -26.63317348591  4119.2          4089.7                4135.9                4.6477          4.6411                4.6547                0.3467        0.2681              0.3855              822.1085            799.1945                  831.1044                  0.7264        0.6964              0.7513                       --        15.434  14.768  14.468  nan           nan                 nan                 nan                nan                      nan                      nan            nan                  nan\n",
       "...         ...                  ...              ...              ...     ...      ...       ...      ...          ...         ...           ...        ...        ...        ...        ...          ...       ...              ...              ...             ...                   ...                   ...             ...                   ...                   ...           ...                 ...                 ...                 ...                       ...                       ...           ...                 ...                 ...      ...       ...     ...     ...     ...           ...                 ...                 ...                ...                      ...                      ...            ...                  ...                  ...\n",
       "94,994,937  576406227696244864   33.65804765403   89.33197663578   4.686   -4.139   0.072     -2.197   0.064973824  0.6416      0.0561        16.92992   17.625141  16.097548  nan        nan          1.527594  123.19695964994  26.50349463792   4337.4          4217.8                4422.2                4.3911          4.2846                4.4237                -0.3812       -0.4888             -0.3243             1117.2708           1065.5874                 1205.549                  0.305         0.1938              0.3925                       --        14.993  14.263  14.201  nan           nan                 nan                 nan                nan                      nan                      nan            nan                  nan                  K\n",
       "94,994,938  576431585183142528   33.61268607589   89.48206639541   1.894   -1.763   0.02      0.693    0.017867079  0.6989      0.0159        14.399571  15.067607  13.604876  -14.88     3.59         1.462731  123.13723815775  26.64377331058   5178.8          5133.0                5367.7                3.5746          3.4492                3.8413                -0.4349       -0.4827             -0.291              1165.2085           893.3535                  1341.377                  0.9013        0.8756              0.9909                       --        12.616  12.051  11.924  nan           nan                 nan                 nan                nan                      nan                      nan            nan                  nan                  K\n",
       "94,994,939  576445638316125184   33.60957894134   89.57301292445   4.728   -2.691   0.018     3.887    0.015934618  0.7782      0.015         14.292352  14.78063   13.633098  -36.36     7.38         1.147533  123.10127650839  26.72887005884   5855.7          5835.1                5878.4                4.0048          3.9971                4.0145                -0.583        -0.6066             -0.555              1217.041            1196.2493                 1234.8632                 0.7542        0.7434              0.7665                       --        12.857  12.457  12.404  nan           nan                 nan                 nan                nan                      nan                      nan            nan                  nan                  G\n",
       "94,994,940  576447459382243200   33.57768719537   89.70251709954   17.162  10.764   0.021     13.367   0.021056626  0.9942      0.0197        14.856944  15.333351  14.206361  -6.87      13.13        1.12699   123.04990412536  26.85002805556   5420.3          5395.1                5501.3                4.2236          4.2103                4.2407                -1.28         -1.323              -1.1485             946.7403            929.4686                  962.1341                  0.4847        0.4702              0.5309                       --        13.478  13.002  12.953  nan           nan                 nan                 nan                nan                      nan                      nan            nan                  nan                  G\n",
       "94,994,941  576453437976715520   33.20610602573   89.73429020887   67.239  -60.351  0.065     29.646   0.060682155  2.999       0.0569        17.162838  18.440525  16.054945  nan        nan          2.38558   123.03516360374  26.87911167663   3580.4          3564.6                3610.1                4.6601          4.406                 4.7487                -0.2742       -0.3302             -0.2065             372.0011            325.6846                  559.3815                  0.4324        0.4105              0.4687                       --        14.654  14.07   13.732  nan           nan                 nan                 nan                nan                      nan                      nan            nan                  nan                  M"
      ]
     },
     "execution_count": 40,
     "metadata": {},
     "output_type": "execute_result"
    }
   ],
   "source": [
    "gaia = vaex.open_many(files)\n",
    "gaia"
   ]
  }
 ],
 "metadata": {
  "kernelspec": {
   "display_name": "Python 3.9.7 ('vaex2')",
   "language": "python",
   "name": "python3"
  },
  "language_info": {
   "codemirror_mode": {
    "name": "ipython",
    "version": 3
   },
   "file_extension": ".py",
   "mimetype": "text/x-python",
   "name": "python",
   "nbconvert_exporter": "python",
   "pygments_lexer": "ipython3",
   "version": "3.9.7"
  },
  "orig_nbformat": 4,
  "vscode": {
   "interpreter": {
    "hash": "ce24ca8aae0c18c4327bef86187bd310e85b0b68e0fbab549c3fc8d824c6eee6"
   }
  }
 },
 "nbformat": 4,
 "nbformat_minor": 2
}
