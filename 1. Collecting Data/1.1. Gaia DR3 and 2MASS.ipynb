{
 "cells": [
  {
   "cell_type": "markdown",
   "metadata": {},
   "source": [
    "Prerequisites:\n",
    "* astroquery\n",
    "* vaex\n",
    "* numpy\n",
    "* pandas\n",
    "* signal (optional)\n",
    "* time (optional)\n",
    "* datetime (optional)"
   ]
  },
  {
   "cell_type": "code",
   "execution_count": 5,
   "metadata": {},
   "outputs": [],
   "source": [
    "from astroquery.utils.tap.core import Tap\n",
    "import vaex\n",
    "import numpy as np\n",
    "from datetime import datetime\n",
    "from time import time\n",
    "import signal\n",
    "from astroquery.gaia import Gaia"
   ]
  },
  {
   "cell_type": "markdown",
   "metadata": {},
   "source": [
    "### utility functions"
   ]
  },
  {
   "cell_type": "code",
   "execution_count": 3,
   "metadata": {},
   "outputs": [],
   "source": [
    "# progress bar\n",
    "def progress(percent=0, width=50):\n",
    "    left = int((width * percent) // 100)\n",
    "    right = width - left\n",
    "    \n",
    "    tags = \"#\" * left\n",
    "    spaces = \" \" * right\n",
    "    percents = f\"{percent:.0f}%\"\n",
    "    \n",
    "    print(\"\\r[\", tags, spaces, \"]\", percents, sep=\"\", end=\"\", flush=True)"
   ]
  },
  {
   "cell_type": "code",
   "execution_count": 4,
   "metadata": {},
   "outputs": [],
   "source": [
    "# add timeout, such that sending request again after some period of time\n",
    "def timeout(func, args=(), kwargs={}, timeout_duration=1, default=None):\n",
    "    import signal\n",
    "    from time import time\n",
    "    from requests import HTTPError\n",
    "    from time import sleep\n",
    "\n",
    "    class TimeoutError(Exception):\n",
    "        pass\n",
    "\n",
    "    def handler(signum, frame):\n",
    "        raise TimeoutError()\n",
    "\n",
    "    # set the timeout handler\n",
    "    t0 = time()\n",
    "    signal.signal(signal.SIGALRM, handler) \n",
    "    signal.alarm(timeout_duration)\n",
    "    try:\n",
    "        result = func(*args, **kwargs)\n",
    "    except TimeoutError as exc:\n",
    "        result = default\n",
    "        t1 = time()\n",
    "        print(\"too long, requesting again...\")\n",
    "        print(f\"time = {round(t1-t0,2)}s\")\n",
    "    except HTTPError:\n",
    "        result = default\n",
    "        t1 = time()\n",
    "        if(t1-t0 < 1):\n",
    "            print(\"service unavailable, sleep for 300s\")\n",
    "            print(f\"time = {round(t1-t0,2)}s\")\n",
    "            sleep(300)\n",
    "            print(\"continue\")\n",
    "        else:\n",
    "            print(\"server not responding, try again\")\n",
    "            print(f\"time = {round(t1-t0,2)}s\")\n",
    "    except KeyboardInterrupt:\n",
    "        raise KeyboardInterrupt\n",
    "    except:\n",
    "        result = default\n",
    "        t1 = time()\n",
    "        print(\"some error\")\n",
    "        print(f\"time = {round(t1-t0,2)}s\")\n",
    "    finally:\n",
    "        signal.alarm(0)\n",
    "    \n",
    "    return result"
   ]
  },
  {
   "cell_type": "markdown",
   "metadata": {},
   "source": [
    "### defining columns"
   ]
  },
  {
   "cell_type": "code",
   "execution_count": 14,
   "metadata": {},
   "outputs": [
    {
     "data": {
      "text/plain": [
       "['gdr3.\"source_id\"',\n",
       " 'gdr3.\"pm\"',\n",
       " 'gdr3.\"pmra\"',\n",
       " 'gdr3.\"pmra_error\" AS e_pmra',\n",
       " 'gdr3.\"pmdec\"',\n",
       " 'gdr3.\"pmdec_error\" AS e_pmdec',\n",
       " 'gdr3.\"parallax\"',\n",
       " 'gdr3.\"parallax_error\" AS e_parallax',\n",
       " 'gdr3.\"phot_g_mean_mag\" AS Gmag',\n",
       " 'gdr3.\"phot_bp_mean_mag\" AS BPmag',\n",
       " 'gdr3.\"phot_rp_mean_mag\" AS RPmag',\n",
       " 'gdr3.\"radial_velocity\" AS rv_gaia',\n",
       " 'gdr3.\"radial_velocity_error\" AS e_rv_gaia',\n",
       " 'gdr3.\"bp_rp\"',\n",
       " 'gdr3.\"l\" AS GLON',\n",
       " 'gdr3.\"b\" AS GLAT',\n",
       " 'gdr3.\"teff_gspphot\"',\n",
       " 'gdr3.\"teff_gspphot_lower\"',\n",
       " 'gdr3.\"teff_gspphot_upper\"',\n",
       " 'gdr3.\"logg_gspphot\"',\n",
       " 'gdr3.\"logg_gspphot_lower\"',\n",
       " 'gdr3.\"logg_gspphot_upper\"',\n",
       " 'astrophysical.\"mh_gspphot\"',\n",
       " 'astrophysical.\"mh_gspphot_lower\"',\n",
       " 'astrophysical.\"mh_gspphot_upper\"',\n",
       " 'astrophysical.\"distance_gspphot\"',\n",
       " 'astrophysical.\"distance_gspphot_lower\"',\n",
       " 'astrophysical.\"distance_gspphot_upper\"',\n",
       " 'astrophysical.\"ag_gspphot\"',\n",
       " 'astrophysical.\"ag_gspphot_lower\"',\n",
       " 'astrophysical.\"ag_gspphot_upper\"',\n",
       " 'astrophysical.\"mh_gspspec\"',\n",
       " 'astrophysical.\"mh_gspspec_lower\"',\n",
       " 'astrophysical.\"mh_gspspec_upper\"',\n",
       " 'astrophysical.\"alphafe_gspspec\"',\n",
       " 'astrophysical.\"alphafe_gspspec_lower\"',\n",
       " 'astrophysical.\"alphafe_gspspec_upper\"',\n",
       " 'astrophysical.\"fem_gspspec\"',\n",
       " 'astrophysical.\"fem_gspspec_lower\"',\n",
       " 'astrophysical.\"fem_gspspec_upper\"',\n",
       " 'astrophysical.\"spectraltype_esphs\"',\n",
       " 'tmass.\"original_ext_source_id\" AS tmass']"
      ]
     },
     "execution_count": 14,
     "metadata": {},
     "output_type": "execute_result"
    }
   ],
   "source": [
    "column_gaia = [\"source_id\", \"pm\", \"pmra\", \"pmra_error AS e_pmra\", \"pmdec\", \n",
    "           \"pmdec_error AS e_pmdec\", \"parallax\", \"parallax_error AS e_parallax\", \"phot_g_mean_mag AS Gmag\",\t\"phot_bp_mean_mag AS BPmag\", \n",
    "           \"phot_rp_mean_mag AS RPmag\", \"radial_velocity AS rv_gaia\",\t\"radial_velocity_error AS e_rv_gaia\",\n",
    "           \"bp_rp\", \"l AS GLON\", \"b AS GLAT\", \"teff_gspphot\", \"teff_gspphot_lower\", \"teff_gspphot_upper\",\n",
    "           \"logg_gspphot\", \"logg_gspphot_lower\", \"logg_gspphot_upper\"]\n",
    "\n",
    "column_astrophysical = [\"mh_gspphot\", \"mh_gspphot_lower\", \"mh_gspphot_upper\", \"distance_gspphot\", \"distance_gspphot_lower\", \n",
    "                         \"distance_gspphot_upper\", \"ag_gspphot\", \"ag_gspphot_lower\", \"ag_gspphot_upper\",\n",
    "                         \"mh_gspspec\", \"mh_gspspec_lower\", \"mh_gspspec_upper\", \"alphafe_gspspec\", \"alphafe_gspspec_lower\", \n",
    "                         \"alphafe_gspspec_upper\", \"fem_gspspec\", \"fem_gspspec_lower\", \"fem_gspspec_upper\" ,\"spectraltype_esphs\"]\n",
    "\n",
    "column_xmatch_tmass = [\"original_ext_source_id AS tmass\"]\n",
    "\n",
    "def appendName(element, name):\n",
    "    string = element.split(\" AS \")\n",
    "    if(len(string) == 1):\n",
    "        return f\"{name}.\\\"{element}\\\"\"\n",
    "    else:\n",
    "        return f\"{name}.\\\"{string[0]}\\\" AS {string[1]}\"\n",
    "\n",
    "column_gaia = list(map(lambda x: appendName(x, \"gdr3\"), column_gaia))\n",
    "column_astrophysical = list(map(lambda x: appendName(x, \"astrophysical\"), column_astrophysical))\n",
    "column_xmatch_tmass = list(map(lambda x: appendName(x, \"tmass\"), column_xmatch_tmass))\n",
    "\n",
    "columns = column_gaia + column_astrophysical  + column_xmatch_tmass\n",
    "columns"
   ]
  },
  {
   "cell_type": "code",
   "execution_count": 11,
   "metadata": {},
   "outputs": [],
   "source": [
    "# Join with 2MASS,\n",
    "tap_tmass = Tap(url=\"https://irsa.ipac.caltech.edu/TAP/sync\")\n",
    "\n",
    "columns_tmass = [\"ra\", \"dec\",\"j_m\", \"h_m\", \"k_m\", \"designation\"]\n",
    "columns_tmass_names = [\"ra\", \"dec\", \"Jmag\", \"Hmag\", \"Kmag\", \"designation\"]"
   ]
  },
  {
   "cell_type": "markdown",
   "metadata": {},
   "source": [
    "### Divide into multiple RAs\n",
    "this strategy is to reduce the size of response"
   ]
  },
  {
   "cell_type": "code",
   "execution_count": 8,
   "metadata": {},
   "outputs": [
    {
     "data": {
      "text/plain": [
       "array([  0,   1,   2,   3,   4,   5,   6,   7,   8,   9,  10,  11,  12,\n",
       "        13,  14,  15,  16,  17,  18,  19,  20,  21,  22,  23,  24,  25,\n",
       "        26,  27,  28,  29,  30,  31,  32,  33,  34,  35,  36,  37,  38,\n",
       "        39,  40,  41,  42,  43,  44,  45,  46,  47,  48,  49,  50,  51,\n",
       "        52,  53,  54,  55,  56,  57,  58,  59,  60,  61,  62,  63,  64,\n",
       "        65,  66,  67,  68,  69,  70,  71,  72,  73,  74,  75,  76,  77,\n",
       "        78,  79,  80,  81,  82,  83,  84,  85,  86,  87,  88,  89,  90,\n",
       "        91,  92,  93,  94,  95,  96,  97,  98,  99, 100, 101, 102, 103,\n",
       "       104, 105, 106, 107, 108, 109, 110, 111, 112, 113, 114, 115, 116,\n",
       "       117, 118, 119, 120, 121, 122, 123, 124, 125, 126, 127, 128, 129,\n",
       "       130, 131, 132, 133, 134, 135, 136, 137, 138, 139, 140, 141, 142,\n",
       "       143, 144, 145, 146, 147, 148, 149, 150, 151, 152, 153, 154, 155,\n",
       "       156, 157, 158, 159, 160, 161, 162, 163, 164, 165, 166, 167, 168,\n",
       "       169, 170, 171, 172, 173, 174, 175, 176, 177, 178, 179, 180, 181,\n",
       "       182, 183, 184, 185, 186, 187, 188, 189, 190, 191, 192, 193, 194,\n",
       "       195, 196, 197, 198, 199, 200, 201, 202, 203, 204, 205, 206, 207,\n",
       "       208, 209, 210, 211, 212, 213, 214, 215, 216, 217, 218, 219, 220,\n",
       "       221, 222, 223, 224, 225, 226, 227, 228, 229, 230, 231, 232, 233,\n",
       "       234, 235, 236, 237, 238, 239, 240, 241, 242, 243, 244, 245, 246,\n",
       "       247, 248, 249, 250, 251, 252, 253, 254, 255, 256, 257, 258, 259,\n",
       "       260, 261, 262, 263, 264, 265, 266, 267, 268, 269, 270, 271, 272,\n",
       "       273, 274, 275, 276, 277, 278, 279, 280, 281, 282, 283, 284, 285,\n",
       "       286, 287, 288, 289, 290, 291, 292, 293, 294, 295, 296, 297, 298,\n",
       "       299, 300, 301, 302, 303, 304, 305, 306, 307, 308, 309, 310, 311,\n",
       "       312, 313, 314, 315, 316, 317, 318, 319, 320, 321, 322, 323, 324,\n",
       "       325, 326, 327, 328, 329, 330, 331, 332, 333, 334, 335, 336, 337,\n",
       "       338, 339, 340, 341, 342, 343, 344, 345, 346, 347, 348, 349, 350,\n",
       "       351, 352, 353, 354, 355, 356, 357, 358, 359, 360])"
      ]
     },
     "execution_count": 8,
     "metadata": {},
     "output_type": "execute_result"
    }
   ],
   "source": [
    "# divide into 360 RAs, depend on preference\n",
    "ras = np.arange(0,361, 1).astype(int)\n",
    "ras"
   ]
  },
  {
   "cell_type": "markdown",
   "metadata": {},
   "source": [
    "#### Divide further in DECs direction"
   ]
  },
  {
   "cell_type": "code",
   "execution_count": 13,
   "metadata": {},
   "outputs": [
    {
     "data": {
      "text/plain": [
       "array([-90, -80, -70, -60, -50, -40, -30, -20, -10,   0,  10,  20,  30,\n",
       "        40,  50,  60,  70,  80,  90])"
      ]
     },
     "execution_count": 13,
     "metadata": {},
     "output_type": "execute_result"
    }
   ],
   "source": [
    "decs = np.linspace(-90,90,19).astype(int)\n",
    "decs"
   ]
  },
  {
   "cell_type": "markdown",
   "metadata": {},
   "source": [
    "run in loop"
   ]
  },
  {
   "cell_type": "code",
   "execution_count": 16,
   "metadata": {},
   "outputs": [],
   "source": [
    "TOP = 50_000 # cap maximum rows for each response, so that the response is not exploding\n",
    "\n",
    "# ra0 for lower boundry and ra1 for upper boundary\n",
    "# same with dec0 and dec1\n",
    "for i, (ra0, ra1) in enumerate(zip(ras[:-1], ras[1:])):\n",
    "    df_com = [] #initial table\n",
    "    time0 = time()\n",
    "    progress(0)\n",
    "    j = 0\n",
    "    while j < len(decs) -1:\n",
    "        dec0 = decs[j]\n",
    "        dec1 = decs[j+1]\n",
    "        # query gaia data\n",
    "        # taking wider ra and dec constrains, because of different epoch with 2MASS\n",
    "        query_gaia = f\"\"\"\n",
    "        SELECT TOP {TOP} {', '.join(columns)}\n",
    "        FROM gaiadr3.gaia_source AS gdr3\n",
    "        LEFT JOIN gaiadr3.astrophysical_parameters AS astrophysical ON astrophysical.source_id = gdr3.source_id\n",
    "        RIGHT JOIN gaiadr3.tmass_psc_xsc_best_neighbour AS tmass ON tmass.source_id = gdr3.source_id\n",
    "        WHERE gdr3.ra BETWEEN {ra0-1} AND {ra1+1}\n",
    "        AND gdr3.dec BETWEEN {dec0-1} AND {dec1+1}\n",
    "        AND parallax > 0\n",
    "        AND parallax_error/parallax < 0.15\n",
    "        AND bp_rp BETWEEN -3 AND 6\n",
    "        AND gdr3.phot_g_mean_mag BETWEEN 3 AND 21\n",
    "        AND phot_bp_mean_flux_error/phot_bp_mean_flux < 0.15\n",
    "        AND phot_rp_mean_flux_error/phot_rp_mean_flux < 0.15\n",
    "        AND ruwe < 1.4\t\n",
    "        AND phot_bp_rp_excess_factor > 1 + 0.015*gdr3.bp_rp*gdr3.bp_rp\n",
    "        AND phot_bp_rp_excess_factor < 1.3 + 0.06*gdr3.bp_rp*gdr3.bp_rp\n",
    "        \"\"\"\n",
    "        job_gaia = timeout(Gaia.launch_job, args=(query_gaia,), timeout_duration=120)\n",
    "        if job_gaia == None: #if failed, try again\n",
    "            print(\"fail to fetch gaia\")\n",
    "            print(\"length = \", len(df_com))\n",
    "            continue\n",
    "        result_gaia = job_gaia.get_results()\n",
    "        df_gaia = vaex.from_pandas(result_gaia.to_pandas())\n",
    "        # query 2MASS data\n",
    "        query_tmass = f\"\"\"\n",
    "        SELECT TOP {TOP} {\", \".join(columns_tmass)} \n",
    "        FROM fp_psc\n",
    "        WHERE ra BETWEEN {ra0} AND {ra1}\n",
    "        AND dec BETWEEN {dec0} AND {dec1} \n",
    "        AND ph_qual = 'AAA'\n",
    "        \"\"\"\n",
    "        job_tmass = timeout(tap_tmass.launch_job, args=(query_tmass,), timeout_duration=120)\n",
    "        if job_tmass == None: \n",
    "            print(\"fail to fetch tmass\")\n",
    "            print(\"length = \", len(df_com))\n",
    "            continue\n",
    "        result_tmass = job_tmass.get_results()\n",
    "        df_tmass = result_tmass.to_pandas()\n",
    "        df_tmass.columns = columns_tmass_names\n",
    "        # join\n",
    "        df_tmass = vaex.from_pandas(df_tmass)\n",
    "        join = df_tmass.join(df_gaia, left_on=\"designation\", right_on=\"tmass\", how=\"left\", allow_duplication=True)\n",
    "        join.drop([\"designation\", \"tmass\"], inplace=True)\n",
    "        progress((j+1)/(len(decs)-1)*100)\n",
    "        if(len(df_com) == 0):\n",
    "            df_com = join\n",
    "        else:\n",
    "            df_com = df_com.concat(join)\n",
    "        j += 1\n",
    "        t1 = time()\n",
    "    time1 = time()  \n",
    "    df_com.rename(\"sdss13\", \"SDSS13\")\n",
    "    df_com.rename(\"rave6\", \"RAVE6\")\n",
    "    df_com.export(f\"gaia-{ra0:03d}-{ra1:03d}.hdf5\", progress=True)\n",
    "    print(f\"{len(df_com)} || {round((time1-time0)/60, 2)}m\")\n",
    "    print(f\"{i} saved {ra0}-{ra1} || {datetime.now()}\")"
   ]
  },
  {
   "cell_type": "markdown",
   "metadata": {},
   "source": [
    "Approximately 95 mil rows (23 GB)"
   ]
  }
 ],
 "metadata": {
  "kernelspec": {
   "display_name": "Python 3.8.10 64-bit",
   "language": "python",
   "name": "python3"
  },
  "language_info": {
   "codemirror_mode": {
    "name": "ipython",
    "version": 3
   },
   "file_extension": ".py",
   "mimetype": "text/x-python",
   "name": "python",
   "nbconvert_exporter": "python",
   "pygments_lexer": "ipython3",
   "version": "3.8.10"
  },
  "orig_nbformat": 4,
  "vscode": {
   "interpreter": {
    "hash": "31f2aee4e71d21fbe5cf8b01ff0e069b9275f58929596ceb00d14d90e3e16cd6"
   }
  }
 },
 "nbformat": 4,
 "nbformat_minor": 2
}
