{
 "cells": [
  {
   "cell_type": "markdown",
   "metadata": {},
   "source": [
    "Go to http://skyserver.sdss.org/dr17/SearchTools/sql \n",
    "![apogee query page](<images/sdss-query-page.png>)"
   ]
  },
  {
   "cell_type": "markdown",
   "metadata": {},
   "source": [
    "The query\n",
    "```\n",
    "-- it was limited to 500k rows only by server\n",
    "\n",
    "SELECT TOP 500000\n",
    "s.vhelio_avg AS rv_apogee,s.vscatter AS e_rv_apogee,\n",
    "a.teff AS teff_apogee, a.teff_err AS e_teff_apogee, a.logg AS logg_apogee, \n",
    "a.logg_err AS e_logg_apogee, a.m_h AS mh_apogee, a.m_h_err AS e_mh_apogee,\n",
    "a.fe_h AS feh_apogee, a.fe_h_err AS e_feh_apogee, \n",
    "a.alpha_m AS alpham_apogee, a.alpha_m_err AS e_alpham_apogee\n",
    "FROM apogeeStar s\n",
    "JOIN aspcapStar a on a.apstar_id = s.apstar_id\n",
    "WHERE (a.aspcapflag & dbo.fApogeeAspcapFlag('STAR_BAD')) = 0 and\n",
    "(s.apogee_target1 &\n",
    "(dbo.fApogeeTarget1('APOGEE_SHORT')+\n",
    "dbo.fApogeeTarget1('APOGEE_INTERMEDIATE')+\n",
    "dbo.fApogeeTarget1('APOGEE_LONG'))) != 0\n",
    "AND s.ra BETWEEN 0 AND 60\n",
    "```\n",
    "\n",
    "download as csv, because it has header at the first row"
   ]
  },
  {
   "cell_type": "code",
   "execution_count": null,
   "metadata": {},
   "outputs": [],
   "source": [
    "import vaex\n",
    "from glob import glob\n",
    "import pandas as pd"
   ]
  },
  {
   "cell_type": "code",
   "execution_count": null,
   "metadata": {},
   "outputs": [],
   "source": [
    "# let say the file name is\n",
    "file = 'apogee.csv'"
   ]
  },
  {
   "cell_type": "code",
   "execution_count": null,
   "metadata": {},
   "outputs": [],
   "source": [
    "# skip first row\n",
    "df_pandas = pd.read_csv(file, skiprows=1)"
   ]
  },
  {
   "cell_type": "code",
   "execution_count": null,
   "metadata": {},
   "outputs": [],
   "source": [
    "# convert to vaex\n",
    "df = vaex.from_pandas(df_pandas)"
   ]
  },
  {
   "cell_type": "code",
   "execution_count": null,
   "metadata": {},
   "outputs": [],
   "source": [
    "# mask outliers\n",
    "masking = ((df.e_teff_apogee > 0)*(df.e_teff_apogee < 200)*\n",
    "           (df.e_rv_apogee > 0)*(df.e_rv_apogee < 500)*\n",
    "           (df.e_mh_apogee > 0)*(df.e_mh_apogee < 0.1)*\n",
    "           (df.e_feh_apogee > 0)*(df.e_feh_apogee < 0.1)*\n",
    "           (df.e_alpham_apogee > 0)*(df.e_alpham_apogee < 0.1))\n",
    "df_filtered = df[masking]\n",
    "df_filtered = df_filtered.extract()\n",
    "df_filtered"
   ]
  },
  {
   "cell_type": "code",
   "execution_count": null,
   "metadata": {},
   "outputs": [],
   "source": [
    "# convert to hdf5\n",
    "df_filtered.export(\"apogee.hdf5\", progress=True)"
   ]
  }
 ],
 "metadata": {
  "kernelspec": {
   "display_name": "Python 3.8.10 64-bit",
   "language": "python",
   "name": "python3"
  },
  "language_info": {
   "name": "python",
   "version": "3.8.10"
  },
  "orig_nbformat": 4,
  "vscode": {
   "interpreter": {
    "hash": "31f2aee4e71d21fbe5cf8b01ff0e069b9275f58929596ceb00d14d90e3e16cd6"
   }
  }
 },
 "nbformat": 4,
 "nbformat_minor": 2
}
