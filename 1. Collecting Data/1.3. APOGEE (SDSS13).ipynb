{
 "cells": [
  {
   "cell_type": "markdown",
   "metadata": {},
   "source": [
    "Go to http://skyserver.sdss.org/dr17/SearchTools/sql \n",
    "![apogee query page](<images/sdss-query-page.png>)"
   ]
  },
  {
   "cell_type": "markdown",
   "metadata": {},
   "source": [
    "The query\n",
    "```\n",
    "<forget to save the query, sorry :'(>\n",
    "<later....>\n",
    "```"
   ]
  },
  {
   "cell_type": "markdown",
   "metadata": {},
   "source": [
    "### some errors"
   ]
  },
  {
   "cell_type": "markdown",
   "metadata": {},
   "source": [
    "after downloading, there might be some issues with the files.\n",
    "\n",
    "if we try to open it with `vaex`, the following errors present\n",
    "\n",
    "![apogee file error](<images/apogee-error.png>)"
   ]
  },
  {
   "cell_type": "markdown",
   "metadata": {},
   "source": [
    "to tacke it, open the files with `topcat` first, concate the files, then save it (e.g. save as `apogee.fits`)\n",
    "![open apogee with topcat](<images/apogee-concate.png>)"
   ]
  },
  {
   "cell_type": "code",
   "execution_count": null,
   "metadata": {},
   "outputs": [],
   "source": [
    "# Open with Table, combine files name is `apogee.fits`\n",
    "from astropy.table import Table\n",
    "import vaex\n",
    "table = Table.read('apogee.fits', memmap=True)"
   ]
  },
  {
   "cell_type": "code",
   "execution_count": null,
   "metadata": {},
   "outputs": [],
   "source": [
    "# open with vaex, then export to hdf5\n",
    "df = vaex.from_astropy_table(table)\n",
    "df.export(\"apogee.hdf5\", progress=True)"
   ]
  },
  {
   "cell_type": "markdown",
   "metadata": {},
   "source": [
    "### Pre-proccessing"
   ]
  },
  {
   "cell_type": "code",
   "execution_count": null,
   "metadata": {},
   "outputs": [],
   "source": []
  },
  {
   "cell_type": "markdown",
   "metadata": {},
   "source": [
    "From here: https://www.sdss.org/dr13/irspec/spectro_data/\n",
    "\n",
    "download https://data.sdss.org/sas/dr13/apogee/spectro/redux/r6/allStar-l30e.2.fits"
   ]
  },
  {
   "cell_type": "markdown",
   "metadata": {},
   "source": []
  }
 ],
 "metadata": {
  "kernelspec": {
   "display_name": "Python 3.8.10 64-bit",
   "language": "python",
   "name": "python3"
  },
  "language_info": {
   "name": "python",
   "version": "3.8.10"
  },
  "orig_nbformat": 4,
  "vscode": {
   "interpreter": {
    "hash": "31f2aee4e71d21fbe5cf8b01ff0e069b9275f58929596ceb00d14d90e3e16cd6"
   }
  }
 },
 "nbformat": 4,
 "nbformat_minor": 2
}
