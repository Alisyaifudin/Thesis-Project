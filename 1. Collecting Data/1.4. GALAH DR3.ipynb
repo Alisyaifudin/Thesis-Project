{
 "cells": [
  {
   "cell_type": "markdown",
   "metadata": {},
   "source": [
    "Go to https://datacentral.org.au/services/query/\n",
    "![galah query page](<images/galah-query-page.png>)"
   ]
  },
  {
   "cell_type": "markdown",
   "metadata": {},
   "source": [
    "The query\n",
    "```\n",
    "SELECT TOP 100000 galah_main.rv_galah,\n",
    "galah_main.fe_h AS feh_galah, gaia_vac.dr3_source_id AS source_id, \n",
    "galah_main.alpha_fe AS alphafe_galah, galah_main.teff AS teff_galah,\n",
    "galah_main.e_teff AS e_teff_galah, galah_main.logg AS logg_galah,\n",
    "galah_main.e_logg AS e_logg_galah\n",
    "FROM galah_dr3p2.main_star as galah_main\n",
    "INNER JOIN galah_dr3p2.vac_gaia_edr3 as gaia_vac on galah_main.dr3_source_id = gaia_vac.dr3_source_id\n",
    "WHERE galah_main.flag_sp = 0 AND galah_main.flag_fe_h = 0\n",
    "AND galah_main.flag_alpha_fe = 0\n",
    "AND galah_main.ra_dr2 BETWEEN 60 AND 120\n",
    "```\n",
    "Divide RA in smaller chunk if necessary"
   ]
  },
  {
   "cell_type": "markdown",
   "metadata": {},
   "source": [
    "Data downloaded have `byte` data type, which is annoying.\n",
    "\n",
    "convert it to `float64`"
   ]
  },
  {
   "cell_type": "markdown",
   "metadata": {},
   "source": [
    "import vaex\n",
    "from glob import glob\n",
    "from astropy.table import Table"
   ]
  },
  {
   "cell_type": "code",
   "execution_count": null,
   "metadata": {},
   "outputs": [],
   "source": [
    "# load downloaded data in this directory with .fits format\n",
    "\n",
    "files = glob(\"*.fits\")\n",
    "files.sort()"
   ]
  },
  {
   "cell_type": "code",
   "execution_count": null,
   "metadata": {},
   "outputs": [],
   "source": [
    "# convert the data types\n",
    "\n",
    "df_com = []\n",
    "for file in files:\n",
    "    table = Table.read(file)\n",
    "    for col in table.colnames:\n",
    "        table[col] = table[col].astype(\"float64\")\n",
    "    df = vaex.from_astropy_table(table)\n",
    "    if len(df_com) == 0:\n",
    "        df_com = df\n",
    "    else:\n",
    "        df_com = df_com.concat(df)"
   ]
  },
  {
   "cell_type": "code",
   "execution_count": null,
   "metadata": {},
   "outputs": [],
   "source": [
    "# export to hdf5\n",
    "\n",
    "df_com.export(\"galah.hdf5\", progress=True)"
   ]
  }
 ],
 "metadata": {
  "kernelspec": {
   "display_name": "Python 3.8.10 64-bit",
   "language": "python",
   "name": "python3"
  },
  "language_info": {
   "name": "python",
   "version": "3.8.10"
  },
  "orig_nbformat": 4,
  "vscode": {
   "interpreter": {
    "hash": "31f2aee4e71d21fbe5cf8b01ff0e069b9275f58929596ceb00d14d90e3e16cd6"
   }
  }
 },
 "nbformat": 4,
 "nbformat_minor": 2
}
