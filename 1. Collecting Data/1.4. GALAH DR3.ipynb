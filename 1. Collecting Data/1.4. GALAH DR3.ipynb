{
 "cells": [
  {
   "cell_type": "markdown",
   "metadata": {},
   "source": [
    "Go to https://datacentral.org.au/services/query/\n",
    "![galah query page](<images/galah-query-page.png>)"
   ]
  },
  {
   "cell_type": "markdown",
   "metadata": {},
   "source": [
    "The query\n",
    "```\n",
    "SELECT TOP 100000 galah_main.rv_galah,\n",
    "galah_main.fe_h AS feh_galah, gaia_vac.dr3_source_id AS source_id, \n",
    "galah_main.alpha_fe AS alphafe_galah, galah_main.teff AS teff_galah,\n",
    "galah_main.e_teff AS e_teff_galah, galah_main.logg AS logg_galah,\n",
    "galah_main.e_logg AS e_logg_galah\n",
    "FROM galah_dr3p2.main_star as galah_main\n",
    "INNER JOIN galah_dr3p2.vac_gaia_edr3 as gaia_vac on galah_main.dr3_source_id = gaia_vac.dr3_source_id\n",
    "WHERE galah_main.flag_sp = 0 AND galah_main.flag_fe_h = 0\n",
    "AND galah_main.flag_alpha_fe = 0\n",
    "AND galah_main.ra_dr2 BETWEEN 60 AND 120\n",
    "```\n",
    "Divide RA in smaller chunk if necessary"
   ]
  },
  {
   "cell_type": "markdown",
   "metadata": {},
   "source": []
  }
 ],
 "metadata": {
  "kernelspec": {
   "display_name": "Python 3.8.10 64-bit",
   "language": "python",
   "name": "python3"
  },
  "language_info": {
   "name": "python",
   "version": "3.8.10"
  },
  "orig_nbformat": 4,
  "vscode": {
   "interpreter": {
    "hash": "31f2aee4e71d21fbe5cf8b01ff0e069b9275f58929596ceb00d14d90e3e16cd6"
   }
  }
 },
 "nbformat": 4,
 "nbformat_minor": 2
}
