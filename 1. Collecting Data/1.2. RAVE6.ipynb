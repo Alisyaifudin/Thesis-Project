{
 "cells": [
  {
   "cell_type": "markdown",
   "metadata": {},
   "source": [
    "There are two way to download RAVE:\n",
    "1. From website\n",
    "2. Tap Vizier\n",
    "\n",
    "choose one of the step only"
   ]
  },
  {
   "cell_type": "markdown",
   "metadata": {},
   "source": [
    "# 1. From website"
   ]
  },
  {
   "cell_type": "markdown",
   "metadata": {},
   "source": [
    "Query rave6 from their website: https://www.rave-survey.org/query/ \n",
    "\n",
    "![rave query page](<images/rave-query-page.png>)"
   ]
  },
  {
   "cell_type": "markdown",
   "metadata": {},
   "source": [
    "#### The query\n",
    "\n",
    "divide into multiple RAs for smaller response, if needed\n",
    "\n",
    "```\n",
    "SELECT TOP 150000 sparv.\"hrv_sparv\" AS rv_rave, sparv.\"hrv_error_sparv\" AS e_rv_rave, aux.\"teff_sparv\" AS teff_rave, aux.\"logg_sparv\" AS logg_rave, aux.\"m_h_sparv\" AS mh_rave, aux.\"alpha_sparv\" AS alphafe_rave, gaia.\"source_id\" \n",
    "FROM ravedr6.dr6_sparv AS sparv \n",
    "JOIN ravedr6.dr6_sparv_aux AS aux ON sparv.rave_obs_id = aux.rave_obs_id \n",
    "RIGHT JOIN ravedr6.dr6_x_gaiaedr3 AS gaia ON gaia.rave_obs_id = sparv.rave_obs_id \n",
    "WHERE gaia.ra BETWEEN 0 AND 60\n",
    "```\n",
    "\n",
    "Change `WHERE gaia.ra BETWEEN 0 AND 60` into other interval"
   ]
  },
  {
   "cell_type": "markdown",
   "metadata": {},
   "source": [
    "# 2. Tap Vizier"
   ]
  },
  {
   "cell_type": "code",
   "execution_count": 1,
   "metadata": {},
   "outputs": [],
   "source": [
    "from astroquery.utils.tap.core import Tap\n",
    "from os.path import join, abspath\n",
    "from os import pardir, curdir, mkdir\n",
    "from glob import glob\n",
    "import sys\n",
    "import numpy as np\n",
    "import pandas as pd\n",
    "import vaex"
   ]
  },
  {
   "cell_type": "code",
   "execution_count": 2,
   "metadata": {},
   "outputs": [],
   "source": [
    "# import utils\n",
    "util_dir = abspath(pardir)\n",
    "sys.path.insert(0, util_dir)\n",
    "\n",
    "from utils import timeout, progressbar, appendName"
   ]
  },
  {
   "cell_type": "code",
   "execution_count": 28,
   "metadata": {},
   "outputs": [
    {
     "name": "stdout",
     "output_type": "stream",
     "text": [
      "Directory already exist. Good to go!\n"
     ]
    },
    {
     "data": {
      "text/plain": [
       "'/home2/s20321005/Thesis-Project/Data/RAVE6'"
      ]
     },
     "execution_count": 28,
     "metadata": {},
     "output_type": "execute_result"
    }
   ],
   "source": [
    "name = \"RAVE6\"\n",
    "root_data_dir = abspath(join(pardir, \"Data\"))\n",
    "data_dir = join(root_data_dir, name)\n",
    "try:\n",
    "  mkdir(data_dir)\n",
    "  print(f\"Creating {name} dir in Data dir\")\n",
    "except FileExistsError:\n",
    "  print(\"Directory already exist. Good to go!\")\n",
    "data_dir"
   ]
  },
  {
   "cell_type": "code",
   "execution_count": 4,
   "metadata": {},
   "outputs": [
    {
     "data": {
      "text/plain": [
       "['xmatch.\"Gaiae3\" AS source_id',\n",
       " 'aux.\"Teffs\" AS teff_rave',\n",
       " 'aux.\"loggs\" AS logg_rave',\n",
       " 'aux.\"[M/H]s\" AS mh_rave',\n",
       " 'aux.\"[a/Fe]s\" AS alphafe_rave',\n",
       " 'main.\"HRV\" AS rv_rave',\n",
       " 'main.\"e_HRV\" AS e_rv_rave']"
      ]
     },
     "execution_count": 4,
     "metadata": {},
     "output_type": "execute_result"
    }
   ],
   "source": [
    "# Vizier tap endpoint\n",
    "tap = Tap(url=\"http://tapvizier.u-strasbg.fr/TAPVizieR/tap/sync/\")\n",
    "\n",
    "columns_main = [\"HRV AS rv_rave\", \"e_HRV AS e_rv_rave\"]\n",
    "columns_aux = [\"Teffs AS teff_rave\", \"loggs AS logg_rave\", \n",
    "               \"[M/H]s AS mh_rave\", \"[a/Fe]s AS alphafe_rave\"]\n",
    "columns_xmatch = [\"Gaiae3 AS source_id\"]\n",
    "\n",
    "columns_main = list(map(lambda x: appendName(x, \"main\"), columns_main))\n",
    "columns_aux = list(map(lambda x: appendName(x, \"aux\"), columns_aux))\n",
    "columns_xmatch = list(map(lambda x: appendName(x, \"xmatch\"), columns_xmatch))\n",
    "\n",
    "columns = columns_xmatch + columns_aux + columns_main\n",
    "columns"
   ]
  },
  {
   "cell_type": "code",
   "execution_count": 34,
   "metadata": {},
   "outputs": [
    {
     "data": {
      "text/plain": [
       "array([  0,  40,  80, 120, 160, 200, 240, 280, 320, 360])"
      ]
     },
     "execution_count": 34,
     "metadata": {},
     "output_type": "execute_result"
    }
   ],
   "source": [
    "# divide ra into multiple partitions\n",
    "ras = np.linspace(0, 360, 10).astype(int)\n",
    "ras"
   ]
  },
  {
   "cell_type": "code",
   "execution_count": 25,
   "metadata": {},
   "outputs": [],
   "source": [
    "TOP = 10\n",
    "ra0 = ras[0]\n",
    "ra1 = ras[0+1]\n",
    "query = f\"\"\"\n",
    "SELECT TOP {TOP} HRV \n",
    "FROM \"III/283/ravedr6\" AS main\n",
    "JOIN \"III/283/aux\" AS aux ON main.ObsID = aux.ObsID\n",
    "RIGHT JOIN \"III/283/xgaiae3\" AS xmatch ON main.ObsID = xmatch.ObsID\n",
    "WHERE RAJ2000 BETWEEN {ra0} AND {ra1}\n",
    "\"\"\"\n",
    "cek = timeout(tap.launch_job, args=(query,), timeout_duration=120, minVal=0.2)"
   ]
  },
  {
   "cell_type": "code",
   "execution_count": 40,
   "metadata": {},
   "outputs": [
    {
     "name": "stdout",
     "output_type": "stream",
     "text": [
      "0 saved rave-000-040.fits | 49685\n",
      "1 saved rave-040-080.fits | 49320\n",
      "2 saved rave-080-120.fits | 51684\n",
      "3 saved rave-120-160.fits | 60302\n",
      "4 saved rave-160-200.fits | 68358\n",
      "5 saved rave-200-240.fits | 73444\n",
      "6 saved rave-240-280.fits | 34980\n",
      "7 saved rave-280-320.fits | 74489\n",
      "8 saved rave-320-360.fits | 55095\n"
     ]
    }
   ],
   "source": [
    "TOP = 100_000\n",
    "i = 0\n",
    "while i < len(ras) -1:\n",
    "    ra0 = ras[i]\n",
    "    ra1 = ras[i+1]\n",
    "    query = f\"\"\"\n",
    "    SELECT TOP {TOP} {\", \".join(columns)} \n",
    "    FROM \"III/283/ravedr6\" AS main\n",
    "    JOIN \"III/283/aux\" AS aux ON main.ObsID = aux.ObsID\n",
    "    RIGHT JOIN \"III/283/xgaiae3\" AS xmatch ON main.ObsID = xmatch.ObsID\n",
    "    WHERE RAJ2000 BETWEEN {ra0} AND {ra1}\n",
    "    \"\"\"\n",
    "    job = timeout(tap.launch_job, args=(query,), timeout_duration=120, minVal=0.1)\n",
    "    if job == None: \n",
    "        print(\"fail to fetch\")\n",
    "        continue\n",
    "    result = job.get_results()\n",
    "    result.write(join(data_dir, f\"rave-{ra0:03d}-{ra1:03d}.fits\"), overwrite=True)\n",
    "    print(f\"{i} saved rave-{ra0:03d}-{ra1:03d}.fits | {len(result)}\")\n",
    "    i +=1"
   ]
  },
  {
   "cell_type": "markdown",
   "metadata": {},
   "source": [
    "# Cleaning"
   ]
  },
  {
   "cell_type": "code",
   "execution_count": 41,
   "metadata": {},
   "outputs": [],
   "source": [
    "# workaround weird error from vaex\n",
    "# combine all files\n",
    "\n",
    "import vaex\n",
    "from glob import glob\n",
    "from astropy.table import Table\n",
    "\n",
    "# load all fits files that were downloaded\n",
    "files = glob(join(data_dir, \"*.fits\"))\n",
    "files.sort()\n",
    "\n",
    "# combine in loop\n",
    "df_com = []\n",
    "for file in files:\n",
    "    table = Table.read(file)\n",
    "    df_pandas = table.to_pandas()\n",
    "    df = vaex.from_pandas(df_pandas)\n",
    "    if len(df_com) == 0:\n",
    "        df_com = df\n",
    "    else:\n",
    "        df_com = df_com.concat(df)\n",
    "# mask large error\n",
    "mask = (df_com.e_rv_rave < 200)\n",
    "df_masked = df_com[mask]"
   ]
  },
  {
   "cell_type": "code",
   "execution_count": 42,
   "metadata": {},
   "outputs": [
    {
     "data": {
      "text/html": [
       "<table>\n",
       "<thead>\n",
       "<tr><th>#                                  </th><th>source_id          </th><th>teff_rave  </th><th>logg_rave  </th><th>mh_rave  </th><th>alphafe_rave  </th><th>rv_rave  </th><th>e_rv_rave  </th></tr>\n",
       "</thead>\n",
       "<tbody>\n",
       "<tr><td><i style='opacity: 0.6'>0</i>      </td><td>4972049927935844480</td><td>6005       </td><td>3.82       </td><td>0.01     </td><td>0.0           </td><td>20.92    </td><td>1.36       </td></tr>\n",
       "<tr><td><i style='opacity: 0.6'>1</i>      </td><td>4900290576426088960</td><td>6452       </td><td>4.86       </td><td>-0.03    </td><td>0.11          </td><td>8.88     </td><td>2.72       </td></tr>\n",
       "<tr><td><i style='opacity: 0.6'>2</i>      </td><td>4900221307193513216</td><td>5546       </td><td>4.35       </td><td>-0.01    </td><td>0.23          </td><td>52.03    </td><td>2.99       </td></tr>\n",
       "<tr><td><i style='opacity: 0.6'>3</i>      </td><td>4919128440425220992</td><td>6526       </td><td>4.75       </td><td>0.16     </td><td>0.0           </td><td>22.99    </td><td>2.25       </td></tr>\n",
       "<tr><td><i style='opacity: 0.6'>4</i>      </td><td>2312704477167095040</td><td>4345       </td><td>1.36       </td><td>-0.91    </td><td>0.16          </td><td>-24.16   </td><td>0.74       </td></tr>\n",
       "<tr><td>...                                </td><td>...                </td><td>...        </td><td>...        </td><td>...      </td><td>...           </td><td>...      </td><td>...        </td></tr>\n",
       "<tr><td><i style='opacity: 0.6'>517,279</i></td><td>2306375898691934208</td><td>4551       </td><td>2.28       </td><td>-0.35    </td><td>0.0           </td><td>3.74     </td><td>0.86       </td></tr>\n",
       "<tr><td><i style='opacity: 0.6'>517,280</i></td><td>6386817309198311424</td><td>4642       </td><td>1.92       </td><td>-0.62    </td><td>0.0           </td><td>-26.17   </td><td>0.9        </td></tr>\n",
       "<tr><td><i style='opacity: 0.6'>517,281</i></td><td>6386817309198311424</td><td>4571       </td><td>2.03       </td><td>-0.5     </td><td>0.07          </td><td>-22.35   </td><td>2.63       </td></tr>\n",
       "<tr><td><i style='opacity: 0.6'>517,282</i></td><td>6386817309198311424</td><td>4557       </td><td>1.96       </td><td>-0.62    </td><td>0.07          </td><td>-25.11   </td><td>1.35       </td></tr>\n",
       "<tr><td><i style='opacity: 0.6'>517,283</i></td><td>6389069280810419200</td><td>4911       </td><td>3.4        </td><td>0.0      </td><td>0.0           </td><td>5.3      </td><td>0.86       </td></tr>\n",
       "</tbody>\n",
       "</table>"
      ],
      "text/plain": [
       "#        source_id            teff_rave    logg_rave    mh_rave    alphafe_rave    rv_rave    e_rv_rave\n",
       "0        4972049927935844480  6005         3.82         0.01       0.0             20.92      1.36\n",
       "1        4900290576426088960  6452         4.86         -0.03      0.11            8.88       2.72\n",
       "2        4900221307193513216  5546         4.35         -0.01      0.23            52.03      2.99\n",
       "3        4919128440425220992  6526         4.75         0.16       0.0             22.99      2.25\n",
       "4        2312704477167095040  4345         1.36         -0.91      0.16            -24.16     0.74\n",
       "...      ...                  ...          ...          ...        ...             ...        ...\n",
       "517,279  2306375898691934208  4551         2.28         -0.35      0.0             3.74       0.86\n",
       "517,280  6386817309198311424  4642         1.92         -0.62      0.0             -26.17     0.9\n",
       "517,281  6386817309198311424  4571         2.03         -0.5       0.07            -22.35     2.63\n",
       "517,282  6386817309198311424  4557         1.96         -0.62      0.07            -25.11     1.35\n",
       "517,283  6389069280810419200  4911         3.4          0.0        0.0             5.3        0.86"
      ]
     },
     "execution_count": 42,
     "metadata": {},
     "output_type": "execute_result"
    }
   ],
   "source": [
    "df_masked"
   ]
  },
  {
   "cell_type": "code",
   "execution_count": 43,
   "metadata": {},
   "outputs": [
    {
     "data": {
      "text/html": [
       "<table>\n",
       "<thead>\n",
       "<tr><th>#                                  </th><th>source_id          </th><th>teff_rave  </th><th>logg_rave  </th><th>mh_rave  </th><th>alphafe_rave  </th><th>rv_rave  </th><th>e_rv_rave  </th></tr>\n",
       "</thead>\n",
       "<tbody>\n",
       "<tr><td><i style='opacity: 0.6'>0</i>      </td><td>4972049927935844480</td><td>6005       </td><td>3.82       </td><td>0.01     </td><td>0.0           </td><td>20.92    </td><td>1.36       </td></tr>\n",
       "<tr><td><i style='opacity: 0.6'>1</i>      </td><td>4900290576426088960</td><td>6452       </td><td>4.86       </td><td>-0.03    </td><td>0.11          </td><td>8.88     </td><td>2.72       </td></tr>\n",
       "<tr><td><i style='opacity: 0.6'>2</i>      </td><td>4900221307193513216</td><td>5546       </td><td>4.35       </td><td>-0.01    </td><td>0.23          </td><td>52.03    </td><td>2.99       </td></tr>\n",
       "<tr><td><i style='opacity: 0.6'>3</i>      </td><td>4919128440425220992</td><td>6526       </td><td>4.75       </td><td>0.16     </td><td>0.0           </td><td>22.99    </td><td>2.25       </td></tr>\n",
       "<tr><td><i style='opacity: 0.6'>4</i>      </td><td>2312704477167095040</td><td>4345       </td><td>1.36       </td><td>-0.91    </td><td>0.16          </td><td>-24.16   </td><td>0.74       </td></tr>\n",
       "<tr><td>...                                </td><td>...                </td><td>...        </td><td>...        </td><td>...      </td><td>...           </td><td>...      </td><td>...        </td></tr>\n",
       "<tr><td><i style='opacity: 0.6'>450,925</i></td><td>6485889525973362688</td><td>6435       </td><td>4.1        </td><td>-0.18    </td><td>0.0           </td><td>16.48    </td><td>1.16       </td></tr>\n",
       "<tr><td><i style='opacity: 0.6'>450,926</i></td><td>2334561325218787584</td><td>4481       </td><td>2.88       </td><td>0.49     </td><td>0.0           </td><td>-54.43   </td><td>1.59       </td></tr>\n",
       "<tr><td><i style='opacity: 0.6'>450,927</i></td><td>2306375898691934208</td><td>4551       </td><td>2.28       </td><td>-0.35    </td><td>0.0           </td><td>3.74     </td><td>0.86       </td></tr>\n",
       "<tr><td><i style='opacity: 0.6'>450,928</i></td><td>6386817309198311424</td><td>4642       </td><td>1.92       </td><td>-0.62    </td><td>0.0           </td><td>-26.17   </td><td>0.9        </td></tr>\n",
       "<tr><td><i style='opacity: 0.6'>450,929</i></td><td>6389069280810419200</td><td>4911       </td><td>3.4        </td><td>0.0      </td><td>0.0           </td><td>5.3      </td><td>0.86       </td></tr>\n",
       "</tbody>\n",
       "</table>"
      ],
      "text/plain": [
       "#        source_id            teff_rave    logg_rave    mh_rave    alphafe_rave    rv_rave    e_rv_rave\n",
       "0        4972049927935844480  6005         3.82         0.01       0.0             20.92      1.36\n",
       "1        4900290576426088960  6452         4.86         -0.03      0.11            8.88       2.72\n",
       "2        4900221307193513216  5546         4.35         -0.01      0.23            52.03      2.99\n",
       "3        4919128440425220992  6526         4.75         0.16       0.0             22.99      2.25\n",
       "4        2312704477167095040  4345         1.36         -0.91      0.16            -24.16     0.74\n",
       "...      ...                  ...          ...          ...        ...             ...        ...\n",
       "450,925  6485889525973362688  6435         4.1          -0.18      0.0             16.48      1.16\n",
       "450,926  2334561325218787584  4481         2.88         0.49       0.0             -54.43     1.59\n",
       "450,927  2306375898691934208  4551         2.28         -0.35      0.0             3.74       0.86\n",
       "450,928  6386817309198311424  4642         1.92         -0.62      0.0             -26.17     0.9\n",
       "450,929  6389069280810419200  4911         3.4          0.0        0.0             5.3        0.86"
      ]
     },
     "execution_count": 43,
     "metadata": {},
     "output_type": "execute_result"
    }
   ],
   "source": [
    "# remove duplicates, if any\n",
    "df_pandas = df_masked.to_pandas_df()\n",
    "df_pandas.drop_duplicates(\"source_id\", inplace=True)\n",
    "df = vaex.from_pandas(df_pandas)\n",
    "df"
   ]
  },
  {
   "cell_type": "code",
   "execution_count": 44,
   "metadata": {},
   "outputs": [
    {
     "name": "stdout",
     "output_type": "stream",
     "text": [
      "export(hdf5) [########################################] 100.00% elapsed time  :     0.06s =  0.0m =  0.0h\n",
      " "
     ]
    }
   ],
   "source": [
    "# export to hdf5\n",
    "df.export(join(data_dir, \"rave6.hdf5\"), progress=True)"
   ]
  }
 ],
 "metadata": {
  "kernelspec": {
   "display_name": "Python 3.9.7 ('vaex2')",
   "language": "python",
   "name": "python3"
  },
  "language_info": {
   "codemirror_mode": {
    "name": "ipython",
    "version": 3
   },
   "file_extension": ".py",
   "mimetype": "text/x-python",
   "name": "python",
   "nbconvert_exporter": "python",
   "pygments_lexer": "ipython3",
   "version": "3.9.7"
  },
  "orig_nbformat": 4,
  "vscode": {
   "interpreter": {
    "hash": "ce24ca8aae0c18c4327bef86187bd310e85b0b68e0fbab549c3fc8d824c6eee6"
   }
  }
 },
 "nbformat": 4,
 "nbformat_minor": 2
}
