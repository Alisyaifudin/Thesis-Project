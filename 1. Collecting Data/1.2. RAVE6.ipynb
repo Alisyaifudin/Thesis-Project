{
 "cells": [
  {
   "cell_type": "markdown",
   "metadata": {},
   "source": [
    "Query rave6 from their website: https://www.rave-survey.org/query/ \n",
    "\n",
    "![rave query page](<images/rave-query-page.png>)"
   ]
  },
  {
   "cell_type": "markdown",
   "metadata": {},
   "source": [
    "#### The query\n",
    "\n",
    "divide into multiple RAs for smaller response, if needed\n",
    "\n",
    "```\n",
    "SELECT TOP 150000 sparv.\"hrv_sparv\" AS rv_rave, sparv.\"hrv_error_sparv\" AS e_rv_rave, aux.\"teff_sparv\" AS teff_rave, aux.\"logg_sparv\" AS logg_rave, aux.\"m_h_sparv\" AS mh_rave, aux.\"alpha_sparv\" AS alphafe_rave, gaia.\"source_id\" \n",
    "FROM ravedr6.dr6_sparv AS sparv \n",
    "JOIN ravedr6.dr6_sparv_aux AS aux ON sparv.rave_obs_id = aux.rave_obs_id \n",
    "RIGHT JOIN ravedr6.dr6_x_gaiaedr3 AS gaia ON gaia.rave_obs_id = sparv.rave_obs_id \n",
    "WHERE gaia.ra BETWEEN 0 AND 60\n",
    "```\n",
    "\n",
    "Change `WHERE gaia.ra BETWEEN 0 AND 60` into other interval"
   ]
  }
 ],
 "metadata": {
  "kernelspec": {
   "display_name": "Python 3.8.10 64-bit",
   "language": "python",
   "name": "python3"
  },
  "language_info": {
   "name": "python",
   "version": "3.8.10"
  },
  "orig_nbformat": 4,
  "vscode": {
   "interpreter": {
    "hash": "31f2aee4e71d21fbe5cf8b01ff0e069b9275f58929596ceb00d14d90e3e16cd6"
   }
  }
 },
 "nbformat": 4,
 "nbformat_minor": 2
}
