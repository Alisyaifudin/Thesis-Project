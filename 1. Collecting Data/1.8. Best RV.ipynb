{
 "cells": [
  {
   "cell_type": "code",
   "execution_count": null,
   "metadata": {},
   "outputs": [],
   "source": [
    "import vaex\n",
    "import pandas as pd\n",
    "import numpy as np\n",
    "from glob import glob\n",
    "import matplotlib.pyplot as plt\n",
    "from time import time"
   ]
  },
  {
   "cell_type": "code",
   "execution_count": null,
   "metadata": {},
   "outputs": [],
   "source": [
    "# file path\n",
    "file = \"1rv.hdf5\"\n",
    "data = vaex.open(file)"
   ]
  },
  {
   "cell_type": "code",
   "execution_count": null,
   "metadata": {},
   "outputs": [],
   "source": [
    "# divide into multiple RAs for stability\n",
    "ras = np.linspace(0,360, 361).astype(int)"
   ]
  },
  {
   "cell_type": "code",
   "execution_count": null,
   "metadata": {},
   "outputs": [],
   "source": [
    "# function to select the BEST rv to select, not optimized tho, but works\n",
    "\n",
    "def selectRV(RVs, e_RVs, RV_cats, index, debug=False):\n",
    "    rvs = np.array(RVs)\n",
    "    e_rvs = np.array(e_RVs)\n",
    "    rv_cats = np.array(RV_cats)\n",
    "    if len(rvs) != len(e_rvs) != len(rv_cats):\n",
    "        raise TypeError('rvs, e_rvs, or rv_cat has different dimension')\n",
    "    else:\n",
    "        mask = []\n",
    "        if debug:\n",
    "            print(rvs, e_rvs, rv_cats)\n",
    "        if len(rvs) == 1:\n",
    "            return [rvs[0], e_rvs[0], rv_cats[0]]\n",
    "        for e_rv in e_rvs:\n",
    "            if e_rv > 0:\n",
    "                mask.append(True)\n",
    "            else:\n",
    "                mask.append(False)\n",
    "        rvs = rvs[mask]\n",
    "        e_rvs = e_rvs[mask]\n",
    "        rv_cats = rv_cats[mask]\n",
    "        if len(rvs) == 0:\n",
    "            raise ValueError('rvs is empty')\n",
    "        elif len(rvs) == 1:\n",
    "            return [rvs[0], e_rvs[0], rv_cats[0]]\n",
    "        elif len(rvs) == 2:\n",
    "            i = np.argmin(e_rvs)\n",
    "            return [rvs[i], e_rvs[i], rv_cats[i]]\n",
    "        else:\n",
    "            avg = np.average(rvs, weights=1/e_rvs)\n",
    "            selected_rvs = []\n",
    "            selected_e_rvs = []\n",
    "            selected_rv_cats = []\n",
    "            for rv, e_rv, rv_cat in zip(rvs, e_rvs, rv_cats):\n",
    "                if (rv + e_rv > avg) and (rv - e_rv < avg):\n",
    "                    selected_rvs.append(rv)\n",
    "                    selected_e_rvs.append(e_rv)\n",
    "                    selected_rv_cats.append(rv_cat)\n",
    "            if (len(selected_rvs) == 0):\n",
    "                i = np.argmin(e_rvs)\n",
    "                return [rvs[i], e_rvs[i], rv_cats[i]]\n",
    "            else:\n",
    "                i = np.argmin(selected_e_rvs)\n",
    "                return [selected_rvs[i], selected_e_rvs[i], selected_rv_cats[i]]"
   ]
  },
  {
   "cell_type": "code",
   "execution_count": null,
   "metadata": {},
   "outputs": [],
   "source": [
    "# for my project, these columns are not necessary\n",
    "removed_columns = ['teff_gspphot', 'teff_gspphot_lower', 'teff_gspphot_upper',\n",
    "                   'logg_gspphot', 'logg_gspphot_lower', 'logg_gspphot_upper',\n",
    "                   'mh_gspphot', 'mh_gspphot_lower', 'mh_gspphot_upper',\n",
    "                   'ag_gspphot', 'ag_gspphot_lower', 'ag_gspphot_upper', \n",
    "                   'mh_gspspec', 'mh_gspspec_lower', 'mh_gspspec_upper',\n",
    "                   'alphafe_gspspec', 'alphafe_gspspec_lower', 'alphafe_gspspec_upper',\n",
    "                   'fem_gspspec', 'fem_gspspec_lower', 'fem_gspspec_upper',\n",
    "                    'teff_rave', 'logg_rave', 'mh_rave', 'alphafe_rave', \n",
    "                   'feh_galah', 'alphafe_galah', 'teff_galah', 'e_teff_galah', \n",
    "                   'logg_galah', 'e_logg_galah', 'teff_lamost',\n",
    "                   'e_teff_lamost', 'logg_lamost', 'e_logg_lamost', 'feh_lamost',\n",
    "                   'e_feh_lamost', 'alpham_lamost', 'e_alpham_lamost',\n",
    "                   'teff_apogee', 'e_teff_apogee', 'logg_apogee', 'e_logg_apogee',\n",
    "                   'mh_apogee', 'e_mh_apogee', 'feh_apogee', 'e_feh_apogee',\n",
    "                   'alpham_apogee', 'e_alpham_apogee']\n"
   ]
  },
  {
   "cell_type": "code",
   "execution_count": null,
   "metadata": {},
   "outputs": [],
   "source": [
    "# run the operation!\n",
    "\n",
    "rv_columns = [\"rv_gaia\", \"rv_rave\", \"rv_lamost\", \"rv_apogee\", \"rv_galah\"]\n",
    "e_rv_columns = [\"e_rv_gaia\", \"e_rv_rave\", \"e_rv_lamost\", \"e_rv_apogee\", \"e_rv_galah\"]\n",
    "df_com = []\n",
    "for i, (ra0, ra1) in enumerate(zip(ras[:-1], ras[1:])):\n",
    "    # if ra0 <= 69: continue\n",
    "    RVs = []\n",
    "    e_RVs = []\n",
    "    RV_cats = []\n",
    "    data_filtered = data.filter(data.ra > ra0).filter(data.ra <= ra1)\n",
    "    df = data_filtered.to_pandas_df()\n",
    "    t0 = time()\n",
    "    for index, row in df.iterrows():\n",
    "        rvs = []\n",
    "        e_rvs = []\n",
    "        rv_cats = []\n",
    "        for e_rv, rv in zip(e_rv_columns, rv_columns):\n",
    "            if (row[rv] == row[rv]):\n",
    "                rvs.append(row[rv])\n",
    "                e_rvs.append(row[e_rv])\n",
    "                rv_cats.append(rv)\n",
    "        if(len(rvs) == 0):\n",
    "            raise ValueError('no radial velocity found')\n",
    "        rv, e_rv, rv_cat = selectRV(rvs, e_rvs, rv_cats, index)\n",
    "        RVs.append(rv)\n",
    "        e_RVs.append(e_rv)\n",
    "        RV_cats.append(rv_cat)\n",
    "    df['rv'] = RVs\n",
    "    df['e_rv'] = e_RVs\n",
    "    df['rv_cat'] = RV_cats\n",
    "    df.drop(labels=(rv_columns+e_rv_columns+removed_columns),axis=1, inplace=True)\n",
    "    if len(df_com) == 0:\n",
    "        df_com = vaex.from_pandas(df)\n",
    "    else:\n",
    "        df_com = df_com.concat(vaex.from_pandas(df))\n",
    "    t1 = time()\n",
    "    print(f\"saved {ra0:03d}-{ra1:03d} | {round(t1-t0, 2)}s\")"
   ]
  },
  {
   "cell_type": "code",
   "execution_count": null,
   "metadata": {},
   "outputs": [],
   "source": [
    "# if you want tp see rv distribution by which catalog it was choosen, run this\n",
    "df_com['rv_cat'].value_counts().plot(kind='bar')"
   ]
  },
  {
   "cell_type": "code",
   "execution_count": null,
   "metadata": {},
   "outputs": [],
   "source": [
    "# export/save the result\n",
    "df_com.export(\"rv/combined.hdf5\", progress=True)"
   ]
  }
 ],
 "metadata": {
  "kernelspec": {
   "display_name": "Python 3.8.10 64-bit",
   "language": "python",
   "name": "python3"
  },
  "language_info": {
   "name": "python",
   "version": "3.8.10"
  },
  "orig_nbformat": 4,
  "vscode": {
   "interpreter": {
    "hash": "31f2aee4e71d21fbe5cf8b01ff0e069b9275f58929596ceb00d14d90e3e16cd6"
   }
  }
 },
 "nbformat": 4,
 "nbformat_minor": 2
}
