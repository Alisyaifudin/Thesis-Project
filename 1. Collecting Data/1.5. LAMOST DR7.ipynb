{
 "cells": [
  {
   "cell_type": "markdown",
   "metadata": {},
   "source": [
    "Download the catalogue from: https://dr7.lamost.org/catalogue \\\n",
    "Download `LAMOST LRS Stellar Parameter Catalog of A, F, G and K Stars`\n",
    "![lamost catalog page](<images/lamost-catalog.png>)"
   ]
  },
  {
   "cell_type": "code",
   "execution_count": 1,
   "metadata": {},
   "outputs": [],
   "source": [
    "import vaex"
   ]
  },
  {
   "cell_type": "code",
   "execution_count": null,
   "metadata": {},
   "outputs": [],
   "source": [
    "file = \"<downloaded file name>\""
   ]
  },
  {
   "cell_type": "code",
   "execution_count": null,
   "metadata": {},
   "outputs": [],
   "source": [
    "# open with vaex\n",
    "df = vaex.open(file)"
   ]
  },
  {
   "cell_type": "code",
   "execution_count": null,
   "metadata": {},
   "outputs": [],
   "source": [
    "# extract the following columns\n",
    "cols = [\"subclass\",\"teff\", \"teff_err\", \"logg\", \"logg_err\", \"feh\", \"feh_err\", \"rv\", \"rv_err\", \"alpha_m\", \"alpha_m_err\", \"gaia_source_id\"]\n",
    "df_filtered = df[cols]\n",
    "df_filtered = df_filtered.extract()"
   ]
  },
  {
   "cell_type": "code",
   "execution_count": null,
   "metadata": {},
   "outputs": [],
   "source": [
    "# change type from 'Byte' to 'str'\n",
    "source_id = df_filtered[\"gaia_source_id\"].to_numpy().astype(str)\n",
    "subclass = df_filtered[\"subclass\"].to_numpy().astype(str)"
   ]
  },
  {
   "cell_type": "code",
   "execution_count": null,
   "metadata": {},
   "outputs": [],
   "source": [
    "# replace the columns\n",
    "\n",
    "df_filtered.drop([\"gaia_source_id\", \"subclass\"], inplace=True)\n",
    "df_filtered[\"source_id\"] = source_id\n",
    "df_filtered[\"subclass\"] = subclass"
   ]
  },
  {
   "cell_type": "code",
   "execution_count": null,
   "metadata": {},
   "outputs": [],
   "source": [
    "# filter -9999\n",
    "\n",
    "masking = ((df_filtered[\"teff_err\"].to_numpy() != -9999.0)*\n",
    "           (df_filtered[\"logg_err\"].to_numpy() != -9999.0)*\n",
    "           (df_filtered[\"feh_err\"].to_numpy() != -9999.0)*\n",
    "           (df_filtered[\"rv_err\"].to_numpy() != -9999.0)*\n",
    "           (df_filtered[\"alpha_m_err\"].to_numpy() != -9999.0))"
   ]
  },
  {
   "cell_type": "code",
   "execution_count": null,
   "metadata": {},
   "outputs": [],
   "source": [
    "# convert to pandas dataframe to avoid stu*id \"AttributeError: 'FitsBinTable' object has no attribute 'snake_name'\"\n",
    "\n",
    "df_pandas = df_filtered.to_pandas_df()"
   ]
  },
  {
   "cell_type": "code",
   "execution_count": null,
   "metadata": {},
   "outputs": [],
   "source": [
    "# apply masking\n",
    "\n",
    "df_clean = df_pandas[masking]"
   ]
  },
  {
   "cell_type": "code",
   "execution_count": null,
   "metadata": {},
   "outputs": [],
   "source": [
    "# remove duplicates, if any\n",
    "df_clean.drop_duplicates(\"source_id\", inplace=True)\n",
    "df = vaex.from_pandas(df_clean)"
   ]
  },
  {
   "cell_type": "code",
   "execution_count": null,
   "metadata": {},
   "outputs": [],
   "source": [
    "# rename column names\n",
    "\n",
    "cols_name = [\"teff_lamost\", \"e_teff_lamost\", \"logg_lamost\", \"e_logg_lamost\", \"feh_lamost\", \"e_feh_lamost\", \"rv_lamost\", \n",
    "             \"e_rv_lamost\", \"alpham_lamost\", \"e_alpham_lamost\", \"source_id\", \"subclass_lamost\"]\n",
    "for old, new in zip(df.column_names, cols_name):\n",
    "    df.rename(old, new,)"
   ]
  },
  {
   "cell_type": "code",
   "execution_count": null,
   "metadata": {},
   "outputs": [],
   "source": [
    "# save as hdf5, if needed\n",
    "\n",
    "df.export(\"lamost.hdf5\", progress=True)"
   ]
  }
 ],
 "metadata": {
  "kernelspec": {
   "display_name": "Python 3.8.10 64-bit",
   "language": "python",
   "name": "python3"
  },
  "language_info": {
   "codemirror_mode": {
    "name": "ipython",
    "version": 3
   },
   "file_extension": ".py",
   "mimetype": "text/x-python",
   "name": "python",
   "nbconvert_exporter": "python",
   "pygments_lexer": "ipython3",
   "version": "3.8.10"
  },
  "orig_nbformat": 4,
  "vscode": {
   "interpreter": {
    "hash": "31f2aee4e71d21fbe5cf8b01ff0e069b9275f58929596ceb00d14d90e3e16cd6"
   }
  }
 },
 "nbformat": 4,
 "nbformat_minor": 2
}
