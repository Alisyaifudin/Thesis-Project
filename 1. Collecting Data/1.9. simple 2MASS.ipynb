{
 "cells": [
  {
   "cell_type": "code",
   "execution_count": null,
   "metadata": {},
   "outputs": [],
   "source": [
    "from astroquery.utils.tap.core import Tap\n",
    "import vaex\n",
    "import numpy as np\n",
    "from datetime import datetime\n",
    "from time import time\n",
    "import signal\n",
    "from glob import glob\n",
    "from matplotlib import pyplot as plt"
   ]
  },
  {
   "cell_type": "code",
   "execution_count": null,
   "metadata": {},
   "outputs": [],
   "source": [
    "# progress bar\n",
    "def progress(percent=0, width=50):\n",
    "    left = int((width * percent) // 100)\n",
    "    right = width - left\n",
    "    \n",
    "    tags = \"#\" * left\n",
    "    spaces = \" \" * right\n",
    "    percents = f\"{percent:.0f}%\"\n",
    "    \n",
    "    print(\"\\r[\", tags, spaces, \"]\", percents, sep=\"\", end=\"\", flush=True)"
   ]
  },
  {
   "cell_type": "code",
   "execution_count": null,
   "metadata": {},
   "outputs": [],
   "source": [
    "# add timeout, such that sending request again after some period of time\n",
    "def timeout(func, args=(), kwargs={}, timeout_duration=1, default=None):\n",
    "    import signal\n",
    "    from time import time\n",
    "    from requests import HTTPError\n",
    "    from time import sleep\n",
    "\n",
    "    class TimeoutError(Exception):\n",
    "        pass\n",
    "\n",
    "    def handler(signum, frame):\n",
    "        raise TimeoutError()\n",
    "\n",
    "    # set the timeout handler\n",
    "    t0 = time()\n",
    "    signal.signal(signal.SIGALRM, handler) \n",
    "    signal.alarm(timeout_duration)\n",
    "    try:\n",
    "        result = func(*args, **kwargs)\n",
    "    except TimeoutError as exc:\n",
    "        result = default\n",
    "        t1 = time()\n",
    "        print(\"too long, requesting again...\")\n",
    "        print(f\"time = {round(t1-t0,2)}s\")\n",
    "    except HTTPError:\n",
    "        result = default\n",
    "        t1 = time()\n",
    "        if(t1-t0 < 1):\n",
    "            print(\"service unavailable, sleep for 300s\")\n",
    "            print(f\"time = {round(t1-t0,2)}s\")\n",
    "            sleep(300)\n",
    "            print(\"continue\")\n",
    "        else:\n",
    "            print(\"server not responding, try again\")\n",
    "            print(f\"time = {round(t1-t0,2)}s\")\n",
    "    except KeyboardInterrupt:\n",
    "        raise KeyboardInterrupt\n",
    "    except :\n",
    "        result = default\n",
    "        t1 = time()\n",
    "        print(\"some error\")\n",
    "        print(f\"time = {round(t1-t0,2)}s\")\n",
    "    finally:\n",
    "        signal.alarm(0)\n",
    "    \n",
    "    return result"
   ]
  },
  {
   "cell_type": "code",
   "execution_count": null,
   "metadata": {},
   "outputs": [],
   "source": [
    "# 2MASS,\n",
    "tap_tmass = Tap(url=\"https://irsa.ipac.caltech.edu/TAP/sync\")\n",
    "\n",
    "columns_tmass = [\"ra\", \"dec\",\"j_m\", \"h_m\", \"k_m\"]\n",
    "columns_tmass_names = [\"ra\", \"dec\", \"Jmag\", \"Hmag\", \"Kmag\"]"
   ]
  },
  {
   "cell_type": "code",
   "execution_count": null,
   "metadata": {},
   "outputs": [],
   "source": [
    "# divide into 360 RAs, depend on preference\n",
    "ras = np.arange(0,361, 10).astype(int)\n",
    "ras"
   ]
  },
  {
   "cell_type": "code",
   "execution_count": null,
   "metadata": {},
   "outputs": [],
   "source": [
    "des = np.linspace(-90, 90, 16)\n",
    "des"
   ]
  },
  {
   "cell_type": "code",
   "execution_count": null,
   "metadata": {},
   "outputs": [],
   "source": [
    "TOP = 100_000 # cap maximum rows for each response, so that the response is not exploding\n",
    "\n",
    "# ra0 for lower boundry and ra1 for upper boundary\n",
    "# same with dec0 and dec1\n",
    "for i, (ra0, ra1) in enumerate(zip(ras[:-1], ras[1:])):\n",
    "    if i <= 23: continue\n",
    "    df_com = [] #initial table\n",
    "    time0 = time() \n",
    "    # print(f\"{i} downloading... {ra0}-{ra1}\")\n",
    "    progress(0)\n",
    "    j = 0\n",
    "    while j < len(des) - 1:\n",
    "        dec0 = des[j]\n",
    "        dec1 = des[j+1]\n",
    "        query_tmass = f\"\"\"\n",
    "        SELECT TOP {TOP} {\", \".join(columns_tmass)} \n",
    "        FROM fp_psc\n",
    "        WHERE ra BETWEEN {ra0} AND {ra1}\n",
    "        AND dec BETWEEN {dec0} AND {dec1}\n",
    "        AND j_m < 11\n",
    "        \"\"\"\n",
    "        job_tmass = timeout(tap_tmass.launch_job, args=(query_tmass,), timeout_duration=180)\n",
    "        if job_tmass == None: \n",
    "            print(job_tmass)\n",
    "            print(\"fail to fetch tmass\")\n",
    "            print(\"length = \", len(df_com))\n",
    "            continue\n",
    "        result_tmass = job_tmass.get_results()\n",
    "        progress((j+1)/(len(des)-1)*100)\n",
    "        df_tmass = result_tmass.to_pandas()\n",
    "        df_tmass.columns = columns_tmass_names\n",
    "        df_tmass = vaex.from_pandas(df_tmass)\n",
    "        if len(df_com) == 0:\n",
    "            df_com = df_tmass\n",
    "        else:\n",
    "            df_com = df_com.concat(df_tmass)\n",
    "        j += 1\n",
    "    time1 = time()  \n",
    "    df_com.export(f\"tmass-{ra0:03d}-{ra1:03d}.hdf5\", progress=True)\n",
    "    print(f\"{len(df_com)} || {round((time1-time0)/60, 2)}m\")\n",
    "    print(f\"{i} saved {ra0}-{ra1} || {datetime.now()}\")"
   ]
  }
 ],
 "metadata": {
  "kernelspec": {
   "display_name": "Python 3.8.10 64-bit",
   "language": "python",
   "name": "python3"
  },
  "language_info": {
   "name": "python",
   "version": "3.8.10"
  },
  "orig_nbformat": 4,
  "vscode": {
   "interpreter": {
    "hash": "31f2aee4e71d21fbe5cf8b01ff0e069b9275f58929596ceb00d14d90e3e16cd6"
   }
  }
 },
 "nbformat": 4,
 "nbformat_minor": 2
}
