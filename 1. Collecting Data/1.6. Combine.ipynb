{
 "cells": [
  {
   "cell_type": "code",
   "execution_count": null,
   "metadata": {},
   "outputs": [],
   "source": [
    "import vaex\n",
    "from glob import glob\n",
    "import pandas as pd\n",
    "import numpy as np"
   ]
  },
  {
   "cell_type": "code",
   "execution_count": null,
   "metadata": {},
   "outputs": [],
   "source": [
    "files = glob(<gaia files path>)\n",
    "files.sort()"
   ]
  },
  {
   "cell_type": "markdown",
   "metadata": {},
   "source": [
    "# RAVE6"
   ]
  },
  {
   "cell_type": "code",
   "execution_count": null,
   "metadata": {},
   "outputs": [],
   "source": [
    "file_rave = \"<rave file path>\"\n",
    "rave = vaex.open(file_rave)"
   ]
  },
  {
   "cell_type": "code",
   "execution_count": null,
   "metadata": {},
   "outputs": [],
   "source": [
    "# Join\n",
    "cols = rave.column_names\n",
    "for file in files:\n",
    "    gaia = vaex.open(file)\n",
    "    join_rave = gaia.join(rave, on=\"source_id\", how=\"left\")\n",
    "    for col in cols:\n",
    "        if col == \"source_id\": continue\n",
    "        join_rave[col] = join_rave[col].to_pandas_series().to_numpy()\n",
    "    join_rave.export(f\"rave/{file}\", progress=True) #save the result if necessary"
   ]
  },
  {
   "cell_type": "markdown",
   "metadata": {},
   "source": [
    "# GALAH\n",
    "\n",
    "pre: After joining with rave"
   ]
  },
  {
   "cell_type": "code",
   "execution_count": null,
   "metadata": {},
   "outputs": [],
   "source": [
    "# let's say gaia + rave is in the following path\n",
    "files = glob(\"rave/*.hdf5\")\n",
    "files.sort()"
   ]
  },
  {
   "cell_type": "code",
   "execution_count": null,
   "metadata": {},
   "outputs": [],
   "source": [
    "file_galah = \"<galah file path>\"\n",
    "galah = vaex.open(file_galah)"
   ]
  },
  {
   "cell_type": "code",
   "execution_count": null,
   "metadata": {},
   "outputs": [],
   "source": [
    "# Join with galah\n",
    "cols = galah.column_names\n",
    "for file in files:\n",
    "    gaia = vaex.open(file)\n",
    "    join = gaia.join(galah, on=\"source_id\", how=\"left\")\n",
    "    for col in cols:\n",
    "        if col == \"source_id\": continue\n",
    "        join[col] = join[col].to_pandas_series().to_numpy()\n",
    "    join.export(f\"rave-galah/{file[-17:]}\", progress=True) #save if necessary"
   ]
  },
  {
   "cell_type": "markdown",
   "metadata": {},
   "source": [
    "# Lamost\n",
    "\n",
    "pre: galah and rave"
   ]
  },
  {
   "cell_type": "code",
   "execution_count": null,
   "metadata": {},
   "outputs": [],
   "source": [
    "# let's say gaia + rave + galah is in the following path\n",
    "files = glob(\"rave-galah/*.hdf5\")\n",
    "files.sort()\n",
    "files"
   ]
  },
  {
   "cell_type": "code",
   "execution_count": null,
   "metadata": {},
   "outputs": [],
   "source": [
    "file_lamost = \"<lamost file path>\"\n",
    "lamost = vaex.open(file_lamost)\n",
    "lamost"
   ]
  },
  {
   "cell_type": "code",
   "execution_count": null,
   "metadata": {},
   "outputs": [],
   "source": [
    "%%time\n",
    "cols = lamost.column_names\n",
    "for file in files:\n",
    "    gaia = vaex.open(file)\n",
    "    join = gaia.join(lamost, on=\"source_id\", how=\"left\")\n",
    "    for col in cols:\n",
    "        if col == \"source_id\": continue\n",
    "        join[col] = join[col].to_pandas_series().to_numpy()\n",
    "    join.export(f\"rave-galah-lamost/{file[-17:]}\", progress=True)"
   ]
  },
  {
   "cell_type": "markdown",
   "metadata": {},
   "source": [
    "# Apogee\n",
    "pre: rave + galah + lamost"
   ]
  },
  {
   "cell_type": "code",
   "execution_count": null,
   "metadata": {},
   "outputs": [],
   "source": [
    "# assume\n",
    "files = glob(\"rave-galah-lamost/*.hdf5\")\n",
    "files.sort()"
   ]
  },
  {
   "cell_type": "code",
   "execution_count": null,
   "metadata": {},
   "outputs": [],
   "source": [
    "file_apogee = \"<apogee path>\"\n",
    "apogee = vaex.open(file_apogee)"
   ]
  },
  {
   "cell_type": "code",
   "execution_count": null,
   "metadata": {},
   "outputs": [],
   "source": [
    "%%time\n",
    "cols = apogee.column_names\n",
    "for file in files:\n",
    "    gaia = vaex.open(file)\n",
    "    join = gaia.join(apogee, on=\"source_id\", how=\"left\")\n",
    "    for col in cols:\n",
    "        if col == \"source_id\": continue\n",
    "        join[col] = join[col].to_pandas_series().to_numpy()\n",
    "    # save it, final forms!\n",
    "    join.export(f\"/<path>/{file[-17:]}\", progress=True)\n",
    "    # file[-17:] is gaia-xxx-yyy.hdf5 in my case, with xxx and yyy are numbers"
   ]
  }
 ],
 "metadata": {
  "kernelspec": {
   "display_name": "Python 3.8.10 64-bit",
   "language": "python",
   "name": "python3"
  },
  "language_info": {
   "name": "python",
   "version": "3.8.10"
  },
  "orig_nbformat": 4,
  "vscode": {
   "interpreter": {
    "hash": "31f2aee4e71d21fbe5cf8b01ff0e069b9275f58929596ceb00d14d90e3e16cd6"
   }
  }
 },
 "nbformat": 4,
 "nbformat_minor": 2
}
