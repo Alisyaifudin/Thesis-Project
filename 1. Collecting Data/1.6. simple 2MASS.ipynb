{
 "cells": [
  {
   "cell_type": "code",
   "execution_count": 1,
   "metadata": {},
   "outputs": [],
   "source": [
    "from astroquery.utils.tap.core import Tap\n",
    "import vaex\n",
    "from datetime import datetime\n",
    "from time import time\n",
    "from glob import glob\n",
    "import sys\n",
    "from matplotlib import pyplot as plt\n",
    "from os.path import join, abspath\n",
    "from os import pardir, curdir, mkdir\n",
    "import numpy as np\n",
    "import pandas as pd"
   ]
  },
  {
   "cell_type": "code",
   "execution_count": 2,
   "metadata": {},
   "outputs": [],
   "source": [
    "# import utils\n",
    "util_dir = abspath(pardir)\n",
    "sys.path.insert(0, util_dir)\n",
    "\n",
    "from utils import timeout, appendName, progressbar"
   ]
  },
  {
   "cell_type": "code",
   "execution_count": 3,
   "metadata": {},
   "outputs": [
    {
     "name": "stdout",
     "output_type": "stream",
     "text": [
      "Directory already exist. Good to go!\n"
     ]
    },
    {
     "data": {
      "text/plain": [
       "'/home2/s20321005/Thesis-Project/Data/TWOMASS'"
      ]
     },
     "execution_count": 3,
     "metadata": {},
     "output_type": "execute_result"
    }
   ],
   "source": [
    "name = \"TWOMASS\"\n",
    "root_data_dir = abspath(join(pardir, \"Data\"))\n",
    "data_dir = join(root_data_dir, name)\n",
    "try:\n",
    "  mkdir(data_dir)\n",
    "  print(f\"Creating {name} dir in Data dir\")\n",
    "except FileExistsError:\n",
    "  print(\"Directory already exist. Good to go!\")\n",
    "data_dir"
   ]
  },
  {
   "cell_type": "code",
   "execution_count": 4,
   "metadata": {},
   "outputs": [],
   "source": [
    "# 2MASS,\n",
    "tap_tmass = Tap(url=\"https://irsa.ipac.caltech.edu/TAP/sync\")\n",
    "\n",
    "columns_tmass = [\"ra\", \"dec\",\"j_m\", \"h_m\", \"k_m\"]\n",
    "columns_tmass_names = [\"ra\", \"dec\", \"Jmag\", \"Hmag\", \"Kmag\"]"
   ]
  },
  {
   "cell_type": "code",
   "execution_count": 5,
   "metadata": {},
   "outputs": [
    {
     "data": {
      "text/plain": [
       "array([  0,  10,  20,  30,  40,  50,  60,  70,  80,  90, 100, 110, 120,\n",
       "       130, 140, 150, 160, 170, 180, 190, 200, 210, 220, 230, 240, 250,\n",
       "       260, 270, 280, 290, 300, 310, 320, 330, 340, 350, 360])"
      ]
     },
     "execution_count": 5,
     "metadata": {},
     "output_type": "execute_result"
    }
   ],
   "source": [
    "# divide into 360 RAs, depend on preference\n",
    "ras = np.arange(0,361, 10).astype(int)\n",
    "ras"
   ]
  },
  {
   "cell_type": "code",
   "execution_count": 6,
   "metadata": {},
   "outputs": [
    {
     "data": {
      "text/plain": [
       "array([-90., -70., -50., -30., -10.,  10.,  30.,  50.,  70.,  90.])"
      ]
     },
     "execution_count": 6,
     "metadata": {},
     "output_type": "execute_result"
    }
   ],
   "source": [
    "des = np.linspace(-90, 90, 10)\n",
    "des"
   ]
  },
  {
   "cell_type": "code",
   "execution_count": 7,
   "metadata": {},
   "outputs": [
    {
     "name": "stdout",
     "output_type": "stream",
     "text": [
      "0 downloading... 0-10\n",
      "export(hdf5) [########################################] 100.00% elapsed time  :     0.07s =  0.0m =  0.0h\n",
      " 528108 || 9.7m\n",
      "0 saved 0-10 || 2022-07-17 02:46:43.014601\n",
      "1 downloading... 10-20\n",
      "export(hdf5) [########################################] 100.00% elapsed time  :     0.06s =  0.0m =  0.0h\n",
      " 507529 || 12.32m\n",
      "1 saved 10-20 || 2022-07-17 02:59:02.106177\n",
      "2 downloading... 20-30\n",
      "export(hdf5) [########################################] 100.00% elapsed time  :     0.06s =  0.0m =  0.0h\n",
      " 501555 || 10.52m\n",
      "2 saved 20-30 || 2022-07-17 03:09:33.201714\n",
      "3 downloading... 30-40\n",
      "export(hdf5) [########################################] 100.00% elapsed time  :     0.05s =  0.0m =  0.0h\n",
      " 515716 || 11.48m\n",
      "3 saved 30-40 || 2022-07-17 03:21:02.164384\n",
      "4 downloading... 40-50\n",
      "export(hdf5) [########################################] 100.00% elapsed time  :     0.07s =  0.0m =  0.0h\n",
      " 524734 || 11.52m\n",
      "4 saved 40-50 || 2022-07-17 03:32:33.230023\n",
      "5 downloading... 50-60\n",
      "export(hdf5) [########################################] 100.00% elapsed time  :     0.09s =  0.0m =  0.0h\n",
      " 566836 || 10.12m\n",
      "5 saved 50-60 || 2022-07-17 03:42:40.781678\n",
      "6 downloading... 60-70\n",
      "[######################################            ]78%too long, requesting again...\n",
      "time = 180.0s\n",
      "None\n",
      "fail to fetch tmass\n",
      "length =  481363\n",
      "export(hdf5) [########################################] 100.00% elapsed time  :     0.06s =  0.0m =  0.0h\n",
      " 647735 || 15.58m\n",
      "6 saved 60-70 || 2022-07-17 03:58:15.566955\n"
     ]
    }
   ],
   "source": [
    "TOP = 500_000 # cap maximum rows for each response, so that the response is not exploding\n",
    "\n",
    "# ra0 for lower boundry and ra1 for upper boundary\n",
    "# same with dec0 and dec1\n",
    "# download 2MASS with J < 13.5\n",
    "for i, (ra0, ra1) in enumerate(zip(ras[:-1], ras[1:])):\n",
    "    if i > 6: break\n",
    "    df_com = [] #initial table\n",
    "    time0 = time() \n",
    "    print(f\"{i} downloading... {ra0}-{ra1}\")\n",
    "    progressbar(0)\n",
    "    j = 0\n",
    "    while j < len(des) - 1:\n",
    "        dec0 = des[j]\n",
    "        dec1 = des[j+1]\n",
    "        \n",
    "        query_tmass = f\"\"\"\n",
    "        SELECT TOP {TOP} {\", \".join(columns_tmass)} \n",
    "        FROM fp_psc\n",
    "        WHERE ra BETWEEN {ra0} AND {ra1}\n",
    "        AND dec BETWEEN {dec0} AND {dec1}\n",
    "        AND j_m < 13.5\n",
    "        \"\"\"\n",
    "        job_tmass = timeout(tap_tmass.launch_job, args=(query_tmass,), timeout_duration=180)\n",
    "        if job_tmass == None: \n",
    "            print(job_tmass)\n",
    "            print(\"fail to fetch tmass\")\n",
    "            print(\"length = \", len(df_com))\n",
    "            continue\n",
    "        result_tmass = job_tmass.get_results()\n",
    "        progressbar((j+1)/(len(des)-1)*100)\n",
    "        df_tmass = result_tmass.to_pandas()\n",
    "        df_tmass.columns = columns_tmass_names\n",
    "        df_tmass = vaex.from_pandas(df_tmass)\n",
    "        if len(df_com) == 0:\n",
    "            df_com = df_tmass\n",
    "        else:\n",
    "            df_com = df_com.concat(df_tmass)\n",
    "        j += 1\n",
    "        # break\n",
    "    time1 = time()  \n",
    "    df_com.export(join(data_dir, f\"tmass-{ra0:03d}-{ra1:03d}.hdf5\"), progress=True)\n",
    "    print(f\"{len(df_com)} || {round((time1-time0)/60, 2)}m\")\n",
    "    print(f\"{i} saved {ra0}-{ra1} || {datetime.now()}\")"
   ]
  },
  {
   "cell_type": "code",
   "execution_count": 11,
   "metadata": {},
   "outputs": [
    {
     "data": {
      "text/html": [
       "<table>\n",
       "<thead>\n",
       "<tr><th>#                                 </th><th>ra        </th><th>dec       </th><th>Jmag  </th><th>Hmag  </th><th>Kmag  </th></tr>\n",
       "</thead>\n",
       "<tbody>\n",
       "<tr><td><i style='opacity: 0.6'>0</i>     </td><td>240.01014 </td><td>-83.193924</td><td>13.243</td><td>12.723</td><td>12.664</td></tr>\n",
       "<tr><td><i style='opacity: 0.6'>1</i>     </td><td>240.000307</td><td>-80.888763</td><td>13.493</td><td>13.099</td><td>12.924</td></tr>\n",
       "<tr><td><i style='opacity: 0.6'>2</i>     </td><td>240.008543</td><td>-78.211967</td><td>10.554</td><td>10.269</td><td>10.193</td></tr>\n",
       "<tr><td><i style='opacity: 0.6'>3</i>     </td><td>240.00093 </td><td>-89.657791</td><td>13.193</td><td>12.632</td><td>12.495</td></tr>\n",
       "<tr><td><i style='opacity: 0.6'>4</i>     </td><td>240.001039</td><td>-84.839127</td><td>10.048</td><td>9.91  </td><td>9.865 </td></tr>\n",
       "<tr><td>...                               </td><td>...       </td><td>...       </td><td>...   </td><td>...   </td><td>...   </td></tr>\n",
       "<tr><td><i style='opacity: 0.6'>10,645</i></td><td>249.976756</td><td>-80.378571</td><td>13.402</td><td>12.809</td><td>12.736</td></tr>\n",
       "<tr><td><i style='opacity: 0.6'>10,646</i></td><td>249.962133</td><td>-84.364761</td><td>13.22 </td><td>12.661</td><td>12.603</td></tr>\n",
       "<tr><td><i style='opacity: 0.6'>10,647</i></td><td>249.971772</td><td>-79.018723</td><td>12.848</td><td>12.519</td><td>12.48 </td></tr>\n",
       "<tr><td><i style='opacity: 0.6'>10,648</i></td><td>249.9973  </td><td>-84.4104  </td><td>12.269</td><td>11.773</td><td>11.681</td></tr>\n",
       "<tr><td><i style='opacity: 0.6'>10,649</i></td><td>249.997453</td><td>-81.070869</td><td>13.082</td><td>12.503</td><td>12.426</td></tr>\n",
       "</tbody>\n",
       "</table>"
      ],
      "text/plain": [
       "#       ra          dec         Jmag    Hmag    Kmag\n",
       "0       240.01014   -83.193924  13.243  12.723  12.664\n",
       "1       240.000307  -80.888763  13.493  13.099  12.924\n",
       "2       240.008543  -78.211967  10.554  10.269  10.193\n",
       "3       240.00093   -89.657791  13.193  12.632  12.495\n",
       "4       240.001039  -84.839127  10.048  9.91    9.865\n",
       "...     ...         ...         ...     ...     ...\n",
       "10,645  249.976756  -80.378571  13.402  12.809  12.736\n",
       "10,646  249.962133  -84.364761  13.22   12.661  12.603\n",
       "10,647  249.971772  -79.018723  12.848  12.519  12.48\n",
       "10,648  249.9973    -84.4104    12.269  11.773  11.681\n",
       "10,649  249.997453  -81.070869  13.082  12.503  12.426"
      ]
     },
     "execution_count": 11,
     "metadata": {},
     "output_type": "execute_result"
    }
   ],
   "source": [
    "df_com"
   ]
  }
 ],
 "metadata": {
  "kernelspec": {
   "display_name": "Python 3.9.7 ('vaex2': conda)",
   "language": "python",
   "name": "python3"
  },
  "language_info": {
   "codemirror_mode": {
    "name": "ipython",
    "version": 3
   },
   "file_extension": ".py",
   "mimetype": "text/x-python",
   "name": "python",
   "nbconvert_exporter": "python",
   "pygments_lexer": "ipython3",
   "version": "3.9.7"
  },
  "orig_nbformat": 4,
  "vscode": {
   "interpreter": {
    "hash": "ce24ca8aae0c18c4327bef86187bd310e85b0b68e0fbab549c3fc8d824c6eee6"
   }
  }
 },
 "nbformat": 4,
 "nbformat_minor": 2
}
