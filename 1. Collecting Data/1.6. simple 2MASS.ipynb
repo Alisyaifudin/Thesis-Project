{
 "cells": [
  {
   "cell_type": "code",
   "execution_count": 1,
   "metadata": {},
   "outputs": [],
   "source": [
    "from astroquery.utils.tap.core import Tap\n",
    "import vaex\n",
    "from datetime import datetime\n",
    "from time import time\n",
    "from glob import glob\n",
    "import sys\n",
    "from os.path import join, abspath\n",
    "from os import pardir, curdir, mkdir\n",
    "import numpy as np"
   ]
  },
  {
   "cell_type": "code",
   "execution_count": 2,
   "metadata": {},
   "outputs": [],
   "source": [
    "# import utils\n",
    "util_dir = abspath(pardir)\n",
    "sys.path.insert(0, util_dir)\n",
    "\n",
    "from utils import timeout, progressbar"
   ]
  },
  {
   "cell_type": "code",
   "execution_count": 4,
   "metadata": {},
   "outputs": [
    {
     "name": "stdout",
     "output_type": "stream",
     "text": [
      "Creating TWOMASS-TGAS dir in Data dir\n"
     ]
    },
    {
     "data": {
      "text/plain": [
       "'/home2/s20321005/Thesis-Project/Data/TWOMASS-TGAS'"
      ]
     },
     "execution_count": 4,
     "metadata": {},
     "output_type": "execute_result"
    }
   ],
   "source": [
    "name = \"TWOMASS-TGAS\"\n",
    "root_data_dir = abspath(join(pardir, \"Data\"))\n",
    "data_dir = join(root_data_dir, name)\n",
    "try:\n",
    "  mkdir(data_dir)\n",
    "  print(f\"Creating {name} dir in Data dir\")\n",
    "except FileExistsError:\n",
    "  print(\"Directory already exist. Good to go!\")\n",
    "data_dir"
   ]
  },
  {
   "cell_type": "code",
   "execution_count": 9,
   "metadata": {},
   "outputs": [],
   "source": [
    "# 2MASS,\n",
    "tap_tmass = Tap(url=\"https://irsa.ipac.caltech.edu/TAP/sync\")\n",
    "\n",
    "columns_tmass = [\"ra\", \"dec\",\"j_m\", \"h_m\", \"k_m\"]\n",
    "columns_tmass_names = [\"ra\", \"dec\", \"Jmag\", \"Hmag\", \"Kmag\"]"
   ]
  },
  {
   "cell_type": "code",
   "execution_count": 50,
   "metadata": {},
   "outputs": [
    {
     "data": {
      "text/plain": [
       "array([260, 270, 280, 290, 300, 310, 320, 330, 340, 350, 360])"
      ]
     },
     "execution_count": 50,
     "metadata": {},
     "output_type": "execute_result"
    }
   ],
   "source": [
    "# divide into 360 RAs, depend on preference\n",
    "ras = np.arange(260,361, 10).astype(int)\n",
    "ras"
   ]
  },
  {
   "cell_type": "code",
   "execution_count": 48,
   "metadata": {},
   "outputs": [
    {
     "data": {
      "text/plain": [
       "array([-90., -80., -70., -60., -50., -40., -30., -20., -10.,   0.,  10.,\n",
       "        20.,  30.,  40.,  50.,  60.,  70.,  80.,  90.])"
      ]
     },
     "execution_count": 48,
     "metadata": {},
     "output_type": "execute_result"
    }
   ],
   "source": [
    "des = np.linspace(-90, 90, 19)\n",
    "des"
   ]
  },
  {
   "cell_type": "code",
   "execution_count": 7,
   "metadata": {},
   "outputs": [
    {
     "name": "stdout",
     "output_type": "stream",
     "text": [
      "0 downloading... 0-10\n",
      "export(hdf5) [########################################] 100.00% elapsed time  :     0.07s =  0.0m =  0.0h\n",
      " 528108 || 9.7m\n",
      "0 saved 0-10 || 2022-07-17 02:46:43.014601\n",
      "1 downloading... 10-20\n",
      "export(hdf5) [########################################] 100.00% elapsed time  :     0.06s =  0.0m =  0.0h\n",
      " 507529 || 12.32m\n",
      "1 saved 10-20 || 2022-07-17 02:59:02.106177\n",
      "2 downloading... 20-30\n",
      "export(hdf5) [########################################] 100.00% elapsed time  :     0.06s =  0.0m =  0.0h\n",
      " 501555 || 10.52m\n",
      "2 saved 20-30 || 2022-07-17 03:09:33.201714\n",
      "3 downloading... 30-40\n",
      "export(hdf5) [########################################] 100.00% elapsed time  :     0.05s =  0.0m =  0.0h\n",
      " 515716 || 11.48m\n",
      "3 saved 30-40 || 2022-07-17 03:21:02.164384\n",
      "4 downloading... 40-50\n",
      "export(hdf5) [########################################] 100.00% elapsed time  :     0.07s =  0.0m =  0.0h\n",
      " 524734 || 11.52m\n",
      "4 saved 40-50 || 2022-07-17 03:32:33.230023\n",
      "5 downloading... 50-60\n",
      "export(hdf5) [########################################] 100.00% elapsed time  :     0.09s =  0.0m =  0.0h\n",
      " 566836 || 10.12m\n",
      "5 saved 50-60 || 2022-07-17 03:42:40.781678\n",
      "6 downloading... 60-70\n",
      "[######################################            ]78%too long, requesting again...\n",
      "time = 180.0s\n",
      "None\n",
      "fail to fetch tmass\n",
      "length =  481363\n",
      "export(hdf5) [########################################] 100.00% elapsed time  :     0.06s =  0.0m =  0.0h\n",
      " 647735 || 15.58m\n",
      "6 saved 60-70 || 2022-07-17 03:58:15.566955\n"
     ]
    }
   ],
   "source": [
    "TOP = 500_000 # cap maximum rows for each response, so that the response is not exploding\n",
    "\n",
    "# ra0 for lower boundry and ra1 for upper boundary\n",
    "# same with dec0 and dec1\n",
    "# download 2MASS with J < 13.5\n",
    "for i, (ra0, ra1) in enumerate(zip(ras[:-1], ras[1:])):\n",
    "    if i > 6: break\n",
    "    df_com = [] #initial table\n",
    "    time0 = time() \n",
    "    print(f\"{i} downloading... {ra0}-{ra1}\")\n",
    "    progressbar(0)\n",
    "    j = 0\n",
    "    while j < len(des) - 1:\n",
    "        dec0 = des[j]\n",
    "        dec1 = des[j+1]\n",
    "        \n",
    "        query_tmass = f\"\"\"\n",
    "        SELECT TOP {TOP} {\", \".join(columns_tmass)} \n",
    "        FROM fp_psc\n",
    "        WHERE ra BETWEEN {ra0} AND {ra1}\n",
    "        AND dec BETWEEN {dec0} AND {dec1}\n",
    "        AND j_m < 13.5\n",
    "        \"\"\"\n",
    "        job_tmass = timeout(tap_tmass.launch_job, args=(query_tmass,), timeout_duration=180)\n",
    "        if job_tmass == None: \n",
    "            print(job_tmass)\n",
    "            print(\"fail to fetch tmass\")\n",
    "            print(\"length = \", len(df_com))\n",
    "            continue\n",
    "        result_tmass = job_tmass.get_results()\n",
    "        progressbar((j+1)/(len(des)-1)*100)\n",
    "        df_tmass = result_tmass.to_pandas()\n",
    "        df_tmass.columns = columns_tmass_names\n",
    "        df_tmass = vaex.from_pandas(df_tmass)\n",
    "        if len(df_com) == 0:\n",
    "            df_com = df_tmass\n",
    "        else:\n",
    "            df_com = df_com.concat(df_tmass)\n",
    "        j += 1\n",
    "        # break\n",
    "    time1 = time()  \n",
    "    df_com.export(join(data_dir, f\"tmass-{ra0:03d}-{ra1:03d}.hdf5\"), progress=True)\n",
    "    print(f\"{len(df_com)} || {round((time1-time0)/60, 2)}m\")\n",
    "    print(f\"{i} saved {ra0}-{ra1} || {datetime.now()}\")"
   ]
  },
  {
   "cell_type": "markdown",
   "metadata": {},
   "source": [
    "## Preview"
   ]
  },
  {
   "cell_type": "code",
   "execution_count": 5,
   "metadata": {},
   "outputs": [
    {
     "data": {
      "text/plain": [
       "['/home2/s20321005/Thesis-Project/Data/TWOMASS/tmass-070-080.hdf5',\n",
       " '/home2/s20321005/Thesis-Project/Data/TWOMASS/tmass-060-070.hdf5',\n",
       " '/home2/s20321005/Thesis-Project/Data/TWOMASS/tmass-010-020.hdf5',\n",
       " '/home2/s20321005/Thesis-Project/Data/TWOMASS/tmass-320-330.hdf5',\n",
       " '/home2/s20321005/Thesis-Project/Data/TWOMASS/tmass-200-210.hdf5',\n",
       " '/home2/s20321005/Thesis-Project/Data/TWOMASS/tmass-340-350.hdf5',\n",
       " '/home2/s20321005/Thesis-Project/Data/TWOMASS/tmass-090-100.hdf5',\n",
       " '/home2/s20321005/Thesis-Project/Data/TWOMASS/tmass-120-130.hdf5',\n",
       " '/home2/s20321005/Thesis-Project/Data/TWOMASS/tmass-080-090.hdf5',\n",
       " '/home2/s20321005/Thesis-Project/Data/TWOMASS/tmass-350-360.hdf5',\n",
       " '/home2/s20321005/Thesis-Project/Data/TWOMASS/tmass-250-260.hdf5',\n",
       " '/home2/s20321005/Thesis-Project/Data/TWOMASS/tmass-280-290.hdf5',\n",
       " '/home2/s20321005/Thesis-Project/Data/TWOMASS/tmass-210-220.hdf5',\n",
       " '/home2/s20321005/Thesis-Project/Data/TWOMASS/tmass-150-160.hdf5',\n",
       " '/home2/s20321005/Thesis-Project/Data/TWOMASS/tmass-160-170.hdf5',\n",
       " '/home2/s20321005/Thesis-Project/Data/TWOMASS/tmass-040-050.hdf5',\n",
       " '/home2/s20321005/Thesis-Project/Data/TWOMASS/tmass-240-250.hdf5',\n",
       " '/home2/s20321005/Thesis-Project/Data/TWOMASS/tmass-330-340.hdf5',\n",
       " '/home2/s20321005/Thesis-Project/Data/TWOMASS/tmass-230-240.hdf5',\n",
       " '/home2/s20321005/Thesis-Project/Data/TWOMASS/tmass-310-320.hdf5',\n",
       " '/home2/s20321005/Thesis-Project/Data/TWOMASS/tmass-290-300.hdf5',\n",
       " '/home2/s20321005/Thesis-Project/Data/TWOMASS/tmass-300-310.hdf5',\n",
       " '/home2/s20321005/Thesis-Project/Data/TWOMASS/tmass-260-270.hdf5',\n",
       " '/home2/s20321005/Thesis-Project/Data/TWOMASS/tmass-050-060.hdf5',\n",
       " '/home2/s20321005/Thesis-Project/Data/TWOMASS/tmass-180-190.hdf5',\n",
       " '/home2/s20321005/Thesis-Project/Data/TWOMASS/tmass-220-230.hdf5',\n",
       " '/home2/s20321005/Thesis-Project/Data/TWOMASS/tmass-000-010.hdf5',\n",
       " '/home2/s20321005/Thesis-Project/Data/TWOMASS/tmass-170-180.hdf5',\n",
       " '/home2/s20321005/Thesis-Project/Data/TWOMASS/tmass-110-120.hdf5',\n",
       " '/home2/s20321005/Thesis-Project/Data/TWOMASS/tmass-020-030.hdf5',\n",
       " '/home2/s20321005/Thesis-Project/Data/TWOMASS/tmass-270-280.hdf5',\n",
       " '/home2/s20321005/Thesis-Project/Data/TWOMASS/tmass-140-150.hdf5',\n",
       " '/home2/s20321005/Thesis-Project/Data/TWOMASS/tmass-190-200.hdf5',\n",
       " '/home2/s20321005/Thesis-Project/Data/TWOMASS/tmass-030-040.hdf5',\n",
       " '/home2/s20321005/Thesis-Project/Data/TWOMASS/tmass-130-140.hdf5',\n",
       " '/home2/s20321005/Thesis-Project/Data/TWOMASS/tmass-100-110.hdf5']"
      ]
     },
     "execution_count": 5,
     "metadata": {},
     "output_type": "execute_result"
    }
   ],
   "source": [
    "files = glob(join(data_dir, \"*.hdf5\"))\n",
    "files"
   ]
  },
  {
   "cell_type": "code",
   "execution_count": 6,
   "metadata": {},
   "outputs": [
    {
     "data": {
      "text/html": [
       "<table>\n",
       "<thead>\n",
       "<tr><th>#                                     </th><th>ra        </th><th>dec       </th><th>Jmag  </th><th>Hmag  </th><th>Kmag  </th></tr>\n",
       "</thead>\n",
       "<tbody>\n",
       "<tr><td><i style='opacity: 0.6'>0</i>         </td><td>70.000147 </td><td>-73.327232</td><td>10.583</td><td>9.985 </td><td>9.717 </td></tr>\n",
       "<tr><td><i style='opacity: 0.6'>1</i>         </td><td>70.000158 </td><td>-73.298195</td><td>12.086</td><td>11.151</td><td>10.797</td></tr>\n",
       "<tr><td><i style='opacity: 0.6'>2</i>         </td><td>70.000188 </td><td>-79.923325</td><td>13.487</td><td>13.145</td><td>13.07 </td></tr>\n",
       "<tr><td><i style='opacity: 0.6'>3</i>         </td><td>70.000465 </td><td>-89.049103</td><td>12.022</td><td>11.554</td><td>11.451</td></tr>\n",
       "<tr><td><i style='opacity: 0.6'>4</i>         </td><td>70.000511 </td><td>-76.362122</td><td>11.954</td><td>11.548</td><td>11.413</td></tr>\n",
       "<tr><td>...                                   </td><td>...       </td><td>...       </td><td>...   </td><td>...   </td><td>...   </td></tr>\n",
       "<tr><td><i style='opacity: 0.6'>37,995,329</i></td><td>109.959101</td><td>71.371353 </td><td>12.514</td><td>12.192</td><td>12.19 </td></tr>\n",
       "<tr><td><i style='opacity: 0.6'>37,995,330</i></td><td>109.96032 </td><td>71.409782 </td><td>11.604</td><td>11.099</td><td>11.043</td></tr>\n",
       "<tr><td><i style='opacity: 0.6'>37,995,331</i></td><td>109.967031</td><td>70.026169 </td><td>12.273</td><td>11.984</td><td>11.952</td></tr>\n",
       "<tr><td><i style='opacity: 0.6'>37,995,332</i></td><td>109.973617</td><td>77.130386 </td><td>13.272</td><td>12.965</td><td>12.945</td></tr>\n",
       "<tr><td><i style='opacity: 0.6'>37,995,333</i></td><td>109.991703</td><td>71.01152  </td><td>12.825</td><td>12.448</td><td>12.369</td></tr>\n",
       "</tbody>\n",
       "</table>"
      ],
      "text/plain": [
       "#           ra          dec         Jmag    Hmag    Kmag\n",
       "0           70.000147   -73.327232  10.583  9.985   9.717\n",
       "1           70.000158   -73.298195  12.086  11.151  10.797\n",
       "2           70.000188   -79.923325  13.487  13.145  13.07\n",
       "3           70.000465   -89.049103  12.022  11.554  11.451\n",
       "4           70.000511   -76.362122  11.954  11.548  11.413\n",
       "...         ...         ...         ...     ...     ...\n",
       "37,995,329  109.959101  71.371353   12.514  12.192  12.19\n",
       "37,995,330  109.96032   71.409782   11.604  11.099  11.043\n",
       "37,995,331  109.967031  70.026169   12.273  11.984  11.952\n",
       "37,995,332  109.973617  77.130386   13.272  12.965  12.945\n",
       "37,995,333  109.991703  71.01152    12.825  12.448  12.369"
      ]
     },
     "execution_count": 6,
     "metadata": {},
     "output_type": "execute_result"
    }
   ],
   "source": [
    "vaex.open_many(files)"
   ]
  }
 ],
 "metadata": {
  "kernelspec": {
   "display_name": "Python 3.9.7 ('vaex2': conda)",
   "language": "python",
   "name": "python3"
  },
  "language_info": {
   "codemirror_mode": {
    "name": "ipython",
    "version": 3
   },
   "file_extension": ".py",
   "mimetype": "text/x-python",
   "name": "python",
   "nbconvert_exporter": "python",
   "pygments_lexer": "ipython3",
   "version": "3.9.7"
  },
  "orig_nbformat": 4,
  "vscode": {
   "interpreter": {
    "hash": "ce24ca8aae0c18c4327bef86187bd310e85b0b68e0fbab549c3fc8d824c6eee6"
   }
  }
 },
 "nbformat": 4,
 "nbformat_minor": 2
}
