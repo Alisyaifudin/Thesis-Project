{
 "cells": [
  {
   "cell_type": "code",
   "execution_count": null,
   "metadata": {},
   "outputs": [],
   "source": [
    "import vaex\n",
    "import numpy as np\n",
    "import pandas as pd\n",
    "from glob import glob\n",
    "from datetime import datetime\n",
    "from astropy.table import Table\n",
    "from matplotlib import pyplot as plt"
   ]
  },
  {
   "cell_type": "code",
   "execution_count": null,
   "metadata": {},
   "outputs": [],
   "source": [
    "files = glob(\"<combined files path>\")\n",
    "files.sort()"
   ]
  },
  {
   "cell_type": "code",
   "execution_count": null,
   "metadata": {},
   "outputs": [],
   "source": [
    "full = vaex.open_many(files)"
   ]
  },
  {
   "cell_type": "code",
   "execution_count": null,
   "metadata": {},
   "outputs": [],
   "source": [
    "# masking\n",
    "\n",
    "cek_gaia = full.rv_gaia == full.rv_gaia\n",
    "cek_gaia_no = full.rv_gaia != full.rv_gaia\n",
    "\n",
    "cek_rave = full.rv_rave == full.rv_rave\n",
    "cek_rave_no = full.rv_rave != full.rv_rave\n",
    "\n",
    "cek_lamost = full.rv_lamost == full.rv_lamost\n",
    "cek_lamost_no = full.rv_lamost != full.rv_lamost\n",
    "\n",
    "cek_apogee = full.rv_apogee == full.rv_apogee\n",
    "cek_apogee_no = full.rv_apogee != full.rv_apogee\n",
    "\n",
    "cek_galah = full.rv_galah == full.rv_galah\n",
    "cek_galah_no = full.rv_galah != full.rv_galah"
   ]
  },
  {
   "cell_type": "code",
   "execution_count": null,
   "metadata": {},
   "outputs": [],
   "source": [
    "# 5rv, all 5 rv from each catalog must presents\n",
    "mask = cek_gaia*cek_rave*cek_lamost*cek_apogee*cek_galah\n",
    "# check how many rows got filtered\n",
    "mask.sum()"
   ]
  },
  {
   "cell_type": "code",
   "execution_count": null,
   "metadata": {},
   "outputs": [],
   "source": [
    "rv5 = full[mask]\n",
    "rv5.export(\"5rv.hdf5\", progress=True)"
   ]
  },
  {
   "cell_type": "code",
   "execution_count": null,
   "metadata": {},
   "outputs": [],
   "source": [
    "# 4rv\n",
    "mask1 = cek_gaia*cek_rave*cek_lamost*cek_apogee\n",
    "mask2 = cek_gaia*cek_rave*cek_lamost*cek_galah\n",
    "mask3 = cek_gaia*cek_rave*cek_apogee*cek_galah\n",
    "mask4 = cek_gaia*cek_lamost*cek_apogee*cek_galah\n",
    "mask5 = cek_rave*cek_lamost*cek_apogee*cek_galah\n",
    "mask = mask1 | mask2 | mask3 | mask4 | mask5\n",
    "mask.sum()"
   ]
  },
  {
   "cell_type": "code",
   "execution_count": null,
   "metadata": {},
   "outputs": [],
   "source": [
    "rv4 = full[mask]\n",
    "rv4.export(\"4rv.hdf5\", progress=True)"
   ]
  },
  {
   "cell_type": "code",
   "execution_count": null,
   "metadata": {},
   "outputs": [],
   "source": [
    "# 3rv\n",
    "mask1 = cek_gaia*cek_galah*cek_rave\n",
    "mask2 = cek_gaia*cek_galah*cek_lamost\n",
    "mask3 = cek_gaia*cek_galah*cek_apogee\n",
    "mask4 = cek_gaia*cek_rave*cek_lamost\n",
    "mask5 = cek_gaia*cek_rave*cek_apogee\n",
    "mask6 = cek_gaia*cek_lamost*cek_apogee\n",
    "mask7 = cek_galah*cek_rave*cek_lamost\n",
    "mask8 = cek_galah*cek_rave*cek_apogee\n",
    "mask9 = cek_galah*cek_lamost*cek_apogee\n",
    "mask10 = cek_rave*cek_lamost*cek_apogee\n",
    "\n",
    "mask = mask1 | mask2 | mask3 | mask4 | mask5 | mask6 | mask7 | mask8 | mask9 | mask10\n",
    "mask.sum()"
   ]
  },
  {
   "cell_type": "code",
   "execution_count": null,
   "metadata": {},
   "outputs": [],
   "source": [
    "rv3 = full[mask]\n",
    "rv3.export(\"3rv.hdf5\", progress=True)"
   ]
  },
  {
   "cell_type": "code",
   "execution_count": null,
   "metadata": {},
   "outputs": [],
   "source": [
    "# 2rv\n",
    "mask1 = cek_gaia*cek_rave\n",
    "mask2 = cek_gaia*cek_galah\n",
    "mask3 = cek_gaia*cek_lamost\n",
    "mask4 = cek_gaia*cek_apogee\n",
    "mask5 = cek_galah*cek_rave\n",
    "mask6 = cek_lamost*cek_galah\n",
    "mask7 = cek_galah*cek_apogee\n",
    "mask8 = cek_rave*cek_lamost\n",
    "mask9 = cek_rave*cek_apogee\n",
    "mask10 = cek_lamost*cek_apogee\n",
    "\n",
    "mask = mask1 | mask2 | mask3 | mask4 | mask5 | mask6 | mask7 | mask8 | mask9 | mask10\n",
    "mask.sum()"
   ]
  },
  {
   "cell_type": "code",
   "execution_count": null,
   "metadata": {},
   "outputs": [],
   "source": [
    "rv2 = full[mask]\n",
    "rv2.export(\"2rv.hdf5\", progress=True)"
   ]
  },
  {
   "cell_type": "code",
   "execution_count": null,
   "metadata": {},
   "outputs": [],
   "source": [
    "# 1rv\n",
    "mask1 = cek_gaia\n",
    "mask2 = cek_galah\n",
    "mask3 = cek_lamost\n",
    "mask4 = cek_apogee\n",
    "mask5 = cek_rave\n",
    "\n",
    "mask = mask1 | mask2 | mask3 | mask4 | mask5\n",
    "mask.sum()"
   ]
  },
  {
   "cell_type": "code",
   "execution_count": null,
   "metadata": {},
   "outputs": [],
   "source": [
    "rv1 = full[mask]\n",
    "rv1.export(\"1rv.hdf5\", progress=True)"
   ]
  },
  {
   "cell_type": "markdown",
   "metadata": {},
   "source": [
    "### convert to fits?"
   ]
  },
  {
   "cell_type": "code",
   "execution_count": null,
   "metadata": {},
   "outputs": [],
   "source": [
    "files = glob(<rv path>)\n",
    "files.sort()"
   ]
  },
  {
   "cell_type": "code",
   "execution_count": null,
   "metadata": {},
   "outputs": [],
   "source": [
    "# 1rv is big, very big.\n",
    "# it's better to divide it into multiple RAs\n",
    "ras = np.linspace(0,360, 19).astype(int)"
   ]
  },
  {
   "cell_type": "code",
   "execution_count": null,
   "metadata": {},
   "outputs": [],
   "source": [
    "%%time\n",
    "rv1 = vaex.open(<rv1 path>)\n",
    "for i, (ra0, ra1) in enumerate(zip(ras[:-1], ras[1:])):\n",
    "    if ra0 <= 80: continue\n",
    "    rv_mask = rv1.filter(rv1.ra > ra0).filter(rv1.ra < ra1)\n",
    "    print(\"filtered\")\n",
    "    rv_pandas = rv_mask.to_pandas_df()\n",
    "    print(f\"pandas-ed {ra0:03d}-{ra1:03d}\")\n",
    "    table = Table.from_pandas(rv_pandas)\n",
    "    print(\"tabled \")\n",
    "    table[\"subclass_lamost\"] = table[\"subclass_lamost\"].astype(str)\n",
    "    # save into 1rv directory\n",
    "    table.write(f\"1rv/gaia-{ra0:03d}-{ra1:03d}.fits\")"
   ]
  },
  {
   "cell_type": "code",
   "execution_count": null,
   "metadata": {},
   "outputs": [],
   "source": [
    "# for other rvs, not necessary to divide them"
   ]
  },
  {
   "cell_type": "code",
   "execution_count": null,
   "metadata": {},
   "outputs": [],
   "source": [
    "# files is rvs path ('1rv.hdf5', '2rv.hdf5', ...)\n",
    "for file in files[1:]:\n",
    "    rv = vaex.open(file)\n",
    "    rv_pandas = rv.to_pandas_df()\n",
    "    print(f\"pandas-ed {file}\")\n",
    "    table = Table.from_pandas(rv_pandas)\n",
    "    print(\"tabled \")\n",
    "    table[\"subclass_lamost\"] = table[\"subclass_lamost\"].astype(str)\n",
    "    # save it in fits format, strip '.hdf5' in file name\n",
    "    table.write(f\"{file[:3]}.fits\")"
   ]
  }
 ],
 "metadata": {
  "kernelspec": {
   "display_name": "Python 3.8.10 64-bit",
   "language": "python",
   "name": "python3"
  },
  "language_info": {
   "name": "python",
   "version": "3.8.10"
  },
  "orig_nbformat": 4,
  "vscode": {
   "interpreter": {
    "hash": "31f2aee4e71d21fbe5cf8b01ff0e069b9275f58929596ceb00d14d90e3e16cd6"
   }
  }
 },
 "nbformat": 4,
 "nbformat_minor": 2
}
