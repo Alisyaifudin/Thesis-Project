{
 "cells": [
  {
   "attachments": {},
   "cell_type": "markdown",
   "metadata": {},
   "source": [
    "this `hammer` module is install from rust binding with pyO3\n",
    "\n",
    "check `rust` folder for more details"
   ]
  },
  {
   "attachments": {},
   "cell_type": "markdown",
   "metadata": {},
   "source": [
    "# Create mock data for Dark Matter Halo model"
   ]
  },
  {
   "cell_type": "code",
   "execution_count": 4,
   "metadata": {},
   "outputs": [],
   "source": [
    "from matplotlib import pyplot as plt\n",
    "import numpy as np\n",
    "from hammer import dm \n",
    "from os.path import join, abspath, pardir\n",
    "import sys\n",
    "import vaex"
   ]
  },
  {
   "cell_type": "code",
   "execution_count": 8,
   "metadata": {},
   "outputs": [
    {
     "data": {
      "text/plain": [
       "'/home2/s20321005/Thesis-Project'"
      ]
     },
     "execution_count": 8,
     "metadata": {},
     "output_type": "execute_result"
    }
   ],
   "source": [
    "root_dir = abspath(join(pardir,pardir))\n",
    "root_dir"
   ]
  },
  {
   "cell_type": "code",
   "execution_count": 9,
   "metadata": {},
   "outputs": [
    {
     "data": {
      "text/plain": [
       "['/home2/s20321005/Thesis-Project/6_mcmc/1_mock_dm',\n",
       " '/home2/s20321005/.conda/envs/vaex/lib/python38.zip',\n",
       " '/home2/s20321005/.conda/envs/vaex/lib/python3.8',\n",
       " '/home2/s20321005/.conda/envs/vaex/lib/python3.8/lib-dynload',\n",
       " '',\n",
       " '/home2/s20321005/.local/lib/python3.8/site-packages',\n",
       " '/home2/s20321005/.conda/envs/vaex/lib/python3.8/site-packages',\n",
       " '/home2/s20321005/Thesis-Project/6_mcmc',\n",
       " '/home2/s20321005/Thesis-Project']"
      ]
     },
     "execution_count": 9,
     "metadata": {},
     "output_type": "execute_result"
    }
   ],
   "source": [
    "if sys.path is not root_dir:\n",
    "    sys.path.append(root_dir)\n",
    "sys.path"
   ]
  },
  {
   "cell_type": "code",
   "execution_count": 10,
   "metadata": {},
   "outputs": [],
   "source": [
    "from utils import concat, style"
   ]
  },
  {
   "cell_type": "code",
   "execution_count": 11,
   "metadata": {},
   "outputs": [],
   "source": [
    "style()"
   ]
  },
  {
   "cell_type": "code",
   "execution_count": 12,
   "metadata": {},
   "outputs": [
    {
     "data": {
      "text/plain": [
       "'/home2/s20321005/Thesis-Project/Data'"
      ]
     },
     "execution_count": 12,
     "metadata": {},
     "output_type": "execute_result"
    }
   ],
   "source": [
    "root_data_dir = join(root_dir, 'Data')\n",
    "root_data_dir"
   ]
  },
  {
   "cell_type": "code",
   "execution_count": 13,
   "metadata": {},
   "outputs": [
    {
     "data": {
      "text/plain": [
       "'/home2/s20321005/Thesis-Project/Data/Baryon'"
      ]
     },
     "execution_count": 13,
     "metadata": {},
     "output_type": "execute_result"
    }
   ],
   "source": [
    "baryon_dir = join(root_data_dir, \"Baryon\")\n",
    "baryon_dir"
   ]
  },
  {
   "cell_type": "code",
   "execution_count": 14,
   "metadata": {},
   "outputs": [
    {
     "data": {
      "text/html": [
       "<table>\n",
       "<thead>\n",
       "<tr><th>#                             </th><th>components             </th><th>rho   </th><th>e_rho  </th><th>sigma_z  </th><th>e_sigma_z  </th></tr>\n",
       "</thead>\n",
       "<tbody>\n",
       "<tr><td><i style='opacity: 0.6'>0</i> </td><td>Molecular gas (H2)     </td><td>0.0104</td><td>0.00312</td><td>3.7      </td><td>0.2        </td></tr>\n",
       "<tr><td><i style='opacity: 0.6'>1</i> </td><td>Cold atomic gas (HI(1))</td><td>0.0277</td><td>0.00554</td><td>7.1      </td><td>0.5        </td></tr>\n",
       "<tr><td><i style='opacity: 0.6'>2</i> </td><td>Warm atomic gas (HI(2))</td><td>0.0073</td><td>0.0007 </td><td>22.1     </td><td>2.4        </td></tr>\n",
       "<tr><td><i style='opacity: 0.6'>3</i> </td><td>Hot ionized gas (HII)  </td><td>0.0005</td><td>3e-05  </td><td>39.0     </td><td>4.0        </td></tr>\n",
       "<tr><td><i style='opacity: 0.6'>4</i> </td><td>Giant stars            </td><td>0.0006</td><td>6e-05  </td><td>15.5     </td><td>1.6        </td></tr>\n",
       "<tr><td>...                           </td><td>...                    </td><td>...   </td><td>...    </td><td>...      </td><td>...        </td></tr>\n",
       "<tr><td><i style='opacity: 0.6'>7</i> </td><td>4 &lt; MV &lt; 5             </td><td>0.0029</td><td>0.00029</td><td>18.0     </td><td>1.8        </td></tr>\n",
       "<tr><td><i style='opacity: 0.6'>8</i> </td><td>5 &lt; MV &lt; 8             </td><td>0.0072</td><td>0.00072</td><td>18.5     </td><td>1.9        </td></tr>\n",
       "<tr><td><i style='opacity: 0.6'>9</i> </td><td>MV &gt; 8                 </td><td>0.0216</td><td>0.0028 </td><td>18.5     </td><td>4.0        </td></tr>\n",
       "<tr><td><i style='opacity: 0.6'>10</i></td><td>White dwarfs           </td><td>0.0056</td><td>0.001  </td><td>20.0     </td><td>5.0        </td></tr>\n",
       "<tr><td><i style='opacity: 0.6'>11</i></td><td>Brown dwarfs           </td><td>0.0015</td><td>0.0005 </td><td>20.0     </td><td>5.0        </td></tr>\n",
       "</tbody>\n",
       "</table>"
      ],
      "text/plain": [
       "#    components               rho     e_rho    sigma_z    e_sigma_z\n",
       "0    Molecular gas (H2)       0.0104  0.00312  3.7        0.2\n",
       "1    Cold atomic gas (HI(1))  0.0277  0.00554  7.1        0.5\n",
       "2    Warm atomic gas (HI(2))  0.0073  0.0007   22.1       2.4\n",
       "3    Hot ionized gas (HII)    0.0005  3e-05    39.0       4.0\n",
       "4    Giant stars              0.0006  6e-05    15.5       1.6\n",
       "...  ...                      ...     ...      ...        ...\n",
       "7    4 < MV < 5               0.0029  0.00029  18.0       1.8\n",
       "8    5 < MV < 8               0.0072  0.00072  18.5       1.9\n",
       "9    MV > 8                   0.0216  0.0028   18.5       4.0\n",
       "10   White dwarfs             0.0056  0.001    20.0       5.0\n",
       "11   Brown dwarfs             0.0015  0.0005   20.0       5.0"
      ]
     },
     "execution_count": 14,
     "metadata": {},
     "output_type": "execute_result"
    }
   ],
   "source": [
    "# load baryons components\n",
    "df_baryon = vaex.open(join(baryon_dir, \"baryon.hdf5\"))\n",
    "df_baryon"
   ]
  },
  {
   "cell_type": "code",
   "execution_count": null,
   "metadata": {},
   "outputs": [],
   "source": []
  },
  {
   "attachments": {},
   "cell_type": "markdown",
   "metadata": {},
   "source": [
    "## Math\n",
    "\n",
    "from Poisson eq.\n",
    "\\begin{aligned}\n",
    "  \\nabla^2\\Phi(z, r, \\phi) = \\frac{\\partial^2 \\Phi}{\\partial z^2}+\\frac{1}{r^2}\\frac{\\partial \\Phi}{\\partial \\phi^2} + \\frac{1}{r}\\frac{\\partial}{\\partial r}\\left(r\\frac{\\partial \\Phi}{\\partial r}\\right) = 4\\pi G\\rho\n",
    "\\end{aligned}"
   ]
  },
  {
   "cell_type": "markdown",
   "metadata": {},
   "source": [
    "Assume axisymmetric potential, and can be decoupled\n",
    "\\begin{aligned}\n",
    "  \\Phi(z, r, \\phi) =  \\Phi(z, r) =  \\Phi_z(z) + \\Phi_r(r)\n",
    "\\end{aligned}"
   ]
  },
  {
   "cell_type": "markdown",
   "metadata": {},
   "source": [
    "Therefore\n",
    "\\begin{aligned}\n",
    "  \\nabla^2\\Phi(z, r, \\phi)  = \\frac{\\partial^2 \\Phi_z}{\\partial z^2}+ \\frac{1}{r}\\frac{\\partial}{\\partial r}\\left(r\\frac{\\partial \\Phi}{\\partial r}\\right) = 4\\pi G\\rho\n",
    "\\end{aligned}"
   ]
  },
  {
   "cell_type": "markdown",
   "metadata": {},
   "source": [
    "where (Buch et. al. [2019](https://iopscience.iop.org/article/10.1088/1475-7516/2019/04/026))\n",
    "\\begin{aligned}\n",
    "  \\mathcal{R} &= \\frac{1}{(4\\pi G)} \\frac{1}{r}\\frac{\\partial}{\\partial r}\\left(r\\frac{\\partial \\Phi}{\\partial r}\\right) \\\\\n",
    "    &= (3.4\\pm 0.6)\\times10^{-3} M_\\odot /\\text{pc}^3\n",
    "\\end{aligned}"
   ]
  },
  {
   "attachments": {},
   "cell_type": "markdown",
   "metadata": {},
   "source": [
    "and $\\rho$ is divided into three parts\n",
    "* Baryon, $\\rho_i$\n",
    "* Thin Dark Disk, $\\rho_\\text{DD}$\n",
    "* Constant Local Halo Dark Matter $\\rho_\\text{DM}$\n"
   ]
  },
  {
   "cell_type": "markdown",
   "metadata": {},
   "source": [
    "Using Bahcall Model for Baryon, for each components\n",
    "\\begin{aligned}\n",
    "  \\rho_i = \\rho_{i,0}\\exp{\\left(-\\frac{\\Phi(z)}{\\sigma_{z,i}}\\right)}\n",
    "\\end{aligned}\n",
    "And total baryons\n",
    "\\begin{aligned}\n",
    "  \\rho_b = \\sum_i^N\\rho_i\n",
    "\\end{aligned}"
   ]
  },
  {
   "cell_type": "markdown",
   "metadata": {},
   "source": [
    "For thin DD\n",
    "\\begin{aligned}\n",
    "  \\rho_\\text{DD}(z) = \\frac{\\Sigma_\\text{DD}}{4h_\\text{DD}}\\text{sech}^2\\left(\\frac{z}{2h_\\text{DD}}\\right)\n",
    "\\end{aligned}"
   ]
  },
  {
   "cell_type": "markdown",
   "metadata": {},
   "source": [
    "So,\n",
    "\\begin{aligned}\n",
    "  \\frac{\\partial^2 \\Phi_z}{\\partial z^2} &= 4\\pi G\\rho_\\text{eff} \\\\\n",
    "  \\frac{1}{4\\pi G}\\frac{\\partial^2 \\Phi_z}{\\partial z^2} &= \\sum_i^N\\left[\\rho_{i,0}\\exp{\\left(-\\frac{\\Phi(z)}{\\sigma_{z,i}}\\right)}\\right] + \\frac{\\Sigma_\\text{DD}}{4h_\\text{DD}}\\text{sech}^2\\left(\\frac{z}{2h_\\text{DD}}\\right) + \\rho_\\text{DM} - \\mathcal{R}\n",
    "\\end{aligned}"
   ]
  },
  {
   "attachments": {},
   "cell_type": "markdown",
   "metadata": {},
   "source": [
    "All of this math has been baked into `hammer` module. Check out the `rust` folder for more details."
   ]
  },
  {
   "attachments": {},
   "cell_type": "markdown",
   "metadata": {},
   "source": [
    "Example"
   ]
  },
  {
   "cell_type": "code",
   "execution_count": 15,
   "metadata": {},
   "outputs": [
    {
     "data": {
      "text/plain": [
       "(28,)"
      ]
     },
     "execution_count": 15,
     "metadata": {},
     "output_type": "execute_result"
    }
   ],
   "source": [
    "# Baryonic density, check table 1 from this https://journals.aps.org/prl/pdf/10.1103/PhysRevLett.121.081101\n",
    "rhob = df_baryon[\"rho\"].to_numpy()  # Msun/pc^3\n",
    "sigmaz = df_baryon[\"sigma_z\"].to_numpy() # km/s\n",
    "# dark matter density\n",
    "rhoDM = 0.016\n",
    "\n",
    "# normalisation of vertical density profile\n",
    "log_nu0 = 0\n",
    "\n",
    "# the rotation curve term\n",
    "R = 3.4E-3\n",
    "\n",
    "# the solar offset\n",
    "zsun = 30\n",
    "\n",
    "theta = concat(rhob, sigmaz, rhoDM, log_nu0, R, zsun)\n",
    "\n",
    "# integration limits\n",
    "z_start = 0\n",
    "z_end = 200\n",
    "theta.shape"
   ]
  },
  {
   "attachments": {},
   "cell_type": "markdown",
   "metadata": {},
   "source": [
    "integrate using `mcmc.dm`"
   ]
  },
  {
   "cell_type": "code",
   "execution_count": 16,
   "metadata": {},
   "outputs": [
    {
     "data": {
      "image/png": "[encoded data removed]",
      "text/plain": [
       "<Figure size 432x432 with 2 Axes>"
      ]
     },
     "metadata": {
      "needs_background": "light"
     },
     "output_type": "display_data"
    }
   ],
   "source": [
    "dz = 1\n",
    "z, phi, Kz = dm.solve_potential(theta, z_start, z_end, dz)\n",
    "u = np.array([phi, Kz])\n",
    "dphi, dKz = dm.f(z, u, theta)\n",
    "phi_int = np.cumsum(dphi)*dz\n",
    "Kz_int = np.cumsum(dKz)*dz\n",
    "# subplot\n",
    "fig, ax = plt.subplots(2, 1, figsize=(6, 6))\n",
    "ax[0].plot(z, phi, label=r\"rust\")\n",
    "ax[0].plot(z, phi_int, label=r\"int\", ls=\"--\")\n",
    "# ax[0].set_xlabel(r\"$z$ (pc)\")\n",
    "# ax[0].set_ylabel(r\"$\\phi$ (km/s)$^2$\")\n",
    "ax[0].set_xlim(0, z[-1])\n",
    "ax[0].set_ylim(0, phi[-1]*1.2)\n",
    "ax[0].legend()\n",
    "ax[1].plot(z, Kz, label=r\"rust\")\n",
    "ax[1].plot(z, Kz_int, label=r\"int\", ls=\"--\")\n",
    "# ax[1].set_xlabel(r\"$z$ (pc)\")\n",
    "# ax[1].set_ylabel(r\"$K_z$ [pc (km/s)$^2$]\")\n",
    "ax[1].set_xlim(0, z[-1])\n",
    "ax[1].set_ylim(0, Kz[-1]*1.2)\n",
    "ax[1].legend()\n",
    "# plt.tight_layout()\n",
    "plt.show()"
   ]
  },
  {
   "cell_type": "code",
   "execution_count": 17,
   "metadata": {},
   "outputs": [
    {
     "data": {
      "image/png": "[encoded data removed]",
      "text/plain": [
       "<Figure size 432x288 with 1 Axes>"
      ]
     },
     "metadata": {
      "needs_background": "light"
     },
     "output_type": "display_data"
    }
   ],
   "source": [
    "plt.plot(u[0], u[1], label=r\"rust\")\n",
    "plt.plot(phi_int, Kz_int, label=r\"int\", ls=\"--\")\n",
    "plt.xlabel(r\"$\\phi$ (km/s)$^2$\")\n",
    "plt.ylabel(r\"$K_z$ [pc (km/s)$^2$]\")\n",
    "plt.xlim(0, u[0][-1])\n",
    "plt.ylim(0, u[1][-1]*1.2)\n",
    "plt.legend()\n",
    "plt.show()"
   ]
  },
  {
   "attachments": {},
   "cell_type": "markdown",
   "metadata": {},
   "source": [
    "Check the difference for different z interval"
   ]
  },
  {
   "cell_type": "code",
   "execution_count": 18,
   "metadata": {},
   "outputs": [
    {
     "data": {
      "image/png": "[encoded data removed]",
      "text/plain": [
       "<Figure size 432x288 with 1 Axes>"
      ]
     },
     "metadata": {
      "needs_background": "light"
     },
     "output_type": "display_data"
    }
   ],
   "source": [
    "z, phi, Kz = dm.solve_potential(theta, z_start, z_end, 1)\n",
    "plt.plot(phi, Kz, label=r\"rust (1)\", c='k')\n",
    "for dz in range(5, 51, 5):\n",
    "    z, phi, Kz = dm.solve_potential(theta, z_start, z_end, dz)\n",
    "    u = np.array([phi, Kz])\n",
    "    dphi, dKz = dm.f(z, u, theta)\n",
    "    phi_int = np.cumsum(dphi)*dz\n",
    "    Kz_int = np.cumsum(dKz)*dz\n",
    "    plt.plot(phi_int, Kz_int, label=dz, ls=\"--\", lw=1)\n",
    "plt.xlabel(r\"$\\phi$ (km/s)$^2$\")\n",
    "plt.ylabel(r\"$K_z$ [pc (km/s)$^2$]\")\n",
    "plt.xlim(-10, u[0][-1]*1.2)\n",
    "plt.ylim(-0.2, u[1][-1]*1.2)\n",
    "plt.legend()\n",
    "plt.show()"
   ]
  },
  {
   "attachments": {},
   "cell_type": "markdown",
   "metadata": {},
   "source": [
    "the interval `z = 1` is the most accurate"
   ]
  }
 ],
 "metadata": {
  "kernelspec": {
   "display_name": "maturin",
   "language": "python",
   "name": "python3"
  },
  "language_info": {
   "codemirror_mode": {
    "name": "ipython",
    "version": 3
   },
   "file_extension": ".py",
   "mimetype": "text/x-python",
   "name": "python",
   "nbconvert_exporter": "python",
   "pygments_lexer": "ipython3",
   "version": "3.8.10"
  },
  "orig_nbformat": 4
 },
 "nbformat": 4,
 "nbformat_minor": 2
}
