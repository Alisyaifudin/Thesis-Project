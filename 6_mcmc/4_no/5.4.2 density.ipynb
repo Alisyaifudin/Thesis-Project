{
 "cells": [
  {
   "cell_type": "code",
   "execution_count": 12,
   "metadata": {},
   "outputs": [],
   "source": [
    "from matplotlib import pyplot as plt\n",
    "import numpy as np\n",
    "from os.path import join, abspath\n",
    "from hammer import no\n",
    "root_dir = abspath(join('..', '..'))\n",
    "import sys\n",
    "sys.path.append(root_dir)\n",
    "from utils import style"
   ]
  },
  {
   "cell_type": "code",
   "execution_count": 13,
   "metadata": {},
   "outputs": [
    {
     "data": {
      "text/plain": [
       "['Solarize_Light2',\n",
       " '_classic_test_patch',\n",
       " '_mpl-gallery',\n",
       " '_mpl-gallery-nogrid',\n",
       " 'bmh',\n",
       " 'classic',\n",
       " 'dark_background',\n",
       " 'fast',\n",
       " 'fivethirtyeight',\n",
       " 'ggplot',\n",
       " 'grayscale',\n",
       " 'seaborn',\n",
       " 'seaborn-bright',\n",
       " 'seaborn-colorblind',\n",
       " 'seaborn-dark',\n",
       " 'seaborn-dark-palette',\n",
       " 'seaborn-darkgrid',\n",
       " 'seaborn-deep',\n",
       " 'seaborn-muted',\n",
       " 'seaborn-notebook',\n",
       " 'seaborn-paper',\n",
       " 'seaborn-pastel',\n",
       " 'seaborn-poster',\n",
       " 'seaborn-talk',\n",
       " 'seaborn-ticks',\n",
       " 'seaborn-v0_8',\n",
       " 'seaborn-v0_8-bright',\n",
       " 'seaborn-v0_8-colorblind',\n",
       " 'seaborn-v0_8-dark',\n",
       " 'seaborn-v0_8-dark-palette',\n",
       " 'seaborn-v0_8-darkgrid',\n",
       " 'seaborn-v0_8-deep',\n",
       " 'seaborn-v0_8-muted',\n",
       " 'seaborn-v0_8-notebook',\n",
       " 'seaborn-v0_8-paper',\n",
       " 'seaborn-v0_8-pastel',\n",
       " 'seaborn-v0_8-poster',\n",
       " 'seaborn-v0_8-talk',\n",
       " 'seaborn-v0_8-ticks',\n",
       " 'seaborn-v0_8-white',\n",
       " 'seaborn-v0_8-whitegrid',\n",
       " 'seaborn-white',\n",
       " 'seaborn-whitegrid',\n",
       " 'tableau-colorblind10']"
      ]
     },
     "execution_count": 13,
     "metadata": {},
     "output_type": "execute_result"
    }
   ],
   "source": [
    "plt.style.available"
   ]
  },
  {
   "cell_type": "code",
   "execution_count": 14,
   "metadata": {},
   "outputs": [],
   "source": [
    "style('seaborn-bright')"
   ]
  },
  {
   "cell_type": "code",
   "execution_count": 19,
   "metadata": {},
   "outputs": [
    {
     "data": {
      "text/plain": [
       "(32,)"
      ]
     },
     "execution_count": 19,
     "metadata": {},
     "output_type": "execute_result"
    }
   ],
   "source": [
    "# Baryonic density, check table 1 from this https://journals.aps.org/prl/pdf/10.1103/PhysRevLett.121.081101\n",
    "rhob = [\n",
    "    0.0104, 0.0277, 0.0073, 0.0005, 0.0006, 0.0018,\n",
    "    0.0018, 0.0029, 0.0072, 0.0216, 0.0056, 0.0015\n",
    "]\n",
    "sigmaz = [\n",
    "    3.7, 7.1, 22.1, 39.0, 15.5, 7.5, 12.0, \n",
    "    18.0, 18.5, 18.5, 20.0, 20.0]\n",
    "log_nu0 = [0]\n",
    "R = [3.4E-3]\n",
    "zsun = [30]\n",
    "w0 = [-7.]\n",
    "sigma1 = 5.\n",
    "sigma2 = 10.\n",
    "log_sigmaw = [np.log(sigma1)]\n",
    "q_sigmaw = [sigma1/sigma2]\n",
    "a1 = 0.9\n",
    "a2 = 0.1\n",
    "log_a = [np.log(a1)]\n",
    "q_a = [a2/a1]\n",
    "\n",
    "theta = np.array([rhob + sigmaz + log_nu0 + R + zsun + w0 + log_sigmaw + q_sigmaw + log_a + q_a]).flatten()\n",
    "theta.shape"
   ]
  },
  {
   "cell_type": "code",
   "execution_count": 16,
   "metadata": {},
   "outputs": [
    {
     "data": {
      "image/png": "[encoded data removed]",
      "text/plain": [
       "<Figure size 432x288 with 1 Axes>"
      ]
     },
     "metadata": {
      "needs_background": "light"
     },
     "output_type": "display_data"
    }
   ],
   "source": [
    "z_start = -300\n",
    "z_end = 300\n",
    "dz = 1.\n",
    "\n",
    "z = np.arange(z_start, z_end, dz)\n",
    "\n",
    "phi = no.potential(z, theta, dz)\n",
    "\n",
    "plt.figure(figsize=(6, 4))\n",
    "plt.plot(z, phi)\n",
    "plt.xlabel(r'$z$')\n",
    "plt.ylabel(r'$\\Phi(z)$')\n",
    "plt.show()\n"
   ]
  },
  {
   "cell_type": "code",
   "execution_count": 17,
   "metadata": {},
   "outputs": [
    {
     "ename": "ValueError",
     "evalue": "Invalid number of dimensions, expected 32",
     "output_type": "error",
     "traceback": [
      "\u001b[0;31m---------------------------------------------------------------------------\u001b[0m",
      "\u001b[0;31mValueError\u001b[0m                                Traceback (most recent call last)",
      "\u001b[1;32m/home2/s20321005/Thesis-Project/5_mcmc/4_no/5.4.2 density.ipynb Cell 6\u001b[0m in \u001b[0;36m<cell line: 3>\u001b[0;34m()\u001b[0m\n\u001b[1;32m      <a href='vscode-notebook-cell://ssh-remote%2Bmilkyway.as.itb.ac.id/home2/s20321005/Thesis-Project/5_mcmc/4_no/5.4.2%20density.ipynb#X21sdnNjb2RlLXJlbW90ZQ%3D%3D?line=0'>1</a>\u001b[0m z \u001b[39m=\u001b[39m np\u001b[39m.\u001b[39mlinspace(\u001b[39m-\u001b[39m\u001b[39m500\u001b[39m, \u001b[39m500\u001b[39m, \u001b[39m305\u001b[39m)\n\u001b[1;32m      <a href='vscode-notebook-cell://ssh-remote%2Bmilkyway.as.itb.ac.id/home2/s20321005/Thesis-Project/5_mcmc/4_no/5.4.2%20density.ipynb#X21sdnNjb2RlLXJlbW90ZQ%3D%3D?line=1'>2</a>\u001b[0m dz \u001b[39m=\u001b[39m z[\u001b[39m10\u001b[39m] \u001b[39m-\u001b[39m z[\u001b[39m0\u001b[39m]\n\u001b[0;32m----> <a href='vscode-notebook-cell://ssh-remote%2Bmilkyway.as.itb.ac.id/home2/s20321005/Thesis-Project/5_mcmc/4_no/5.4.2%20density.ipynb#X21sdnNjb2RlLXJlbW90ZQ%3D%3D?line=2'>3</a>\u001b[0m fz \u001b[39m=\u001b[39m no\u001b[39m.\u001b[39;49mfz(z[::\u001b[39m10\u001b[39;49m], theta, dz)\n\u001b[1;32m      <a href='vscode-notebook-cell://ssh-remote%2Bmilkyway.as.itb.ac.id/home2/s20321005/Thesis-Project/5_mcmc/4_no/5.4.2%20density.ipynb#X21sdnNjb2RlLXJlbW90ZQ%3D%3D?line=3'>4</a>\u001b[0m fz_smooth \u001b[39m=\u001b[39m no\u001b[39m.\u001b[39mfz(z, theta, dz\u001b[39m/\u001b[39m\u001b[39m10\u001b[39m)\n\u001b[1;32m      <a href='vscode-notebook-cell://ssh-remote%2Bmilkyway.as.itb.ac.id/home2/s20321005/Thesis-Project/5_mcmc/4_no/5.4.2%20density.ipynb#X21sdnNjb2RlLXJlbW90ZQ%3D%3D?line=4'>5</a>\u001b[0m plt\u001b[39m.\u001b[39mfigure(figsize\u001b[39m=\u001b[39m(\u001b[39m6\u001b[39m, \u001b[39m4\u001b[39m))\n",
      "\u001b[0;31mValueError\u001b[0m: Invalid number of dimensions, expected 32"
     ]
    }
   ],
   "source": [
    "z = np.linspace(-500, 500, 305)\n",
    "dz = z[10] - z[0]\n",
    "fz = no.fz(z[::10], theta, dz)\n",
    "fz_smooth = no.fz(z, theta, dz/10)\n",
    "plt.figure(figsize=(6, 4))\n",
    "plt.bar(z[::10], fz, width=dz, color='b', alpha=0.5, ec=\"k\")\n",
    "plt.plot(z, fz_smooth, color='r', lw=2)\n",
    "plt.xlabel(r'$z$')\n",
    "plt.ylabel(r'$\\nu$')\n",
    "plt.show()"
   ]
  },
  {
   "cell_type": "code",
   "execution_count": 18,
   "metadata": {},
   "outputs": [
    {
     "ename": "ValueError",
     "evalue": "Invalid number of dimensions, expected 32",
     "output_type": "error",
     "traceback": [
      "\u001b[0;31m---------------------------------------------------------------------------\u001b[0m",
      "\u001b[0;31mValueError\u001b[0m                                Traceback (most recent call last)",
      "\u001b[1;32m/home2/s20321005/Thesis-Project/5_mcmc/4_no/5.4.2 density.ipynb Cell 7\u001b[0m in \u001b[0;36m<cell line: 3>\u001b[0;34m()\u001b[0m\n\u001b[1;32m      <a href='vscode-notebook-cell://ssh-remote%2Bmilkyway.as.itb.ac.id/home2/s20321005/Thesis-Project/5_mcmc/4_no/5.4.2%20density.ipynb#X22sdnNjb2RlLXJlbW90ZQ%3D%3D?line=0'>1</a>\u001b[0m w \u001b[39m=\u001b[39m np\u001b[39m.\u001b[39mlinspace(\u001b[39m-\u001b[39m\u001b[39m50\u001b[39m, \u001b[39m30\u001b[39m, \u001b[39m300\u001b[39m)\n\u001b[1;32m      <a href='vscode-notebook-cell://ssh-remote%2Bmilkyway.as.itb.ac.id/home2/s20321005/Thesis-Project/5_mcmc/4_no/5.4.2%20density.ipynb#X22sdnNjb2RlLXJlbW90ZQ%3D%3D?line=1'>2</a>\u001b[0m dw \u001b[39m=\u001b[39m w[\u001b[39m10\u001b[39m] \u001b[39m-\u001b[39m w[\u001b[39m0\u001b[39m]\n\u001b[0;32m----> <a href='vscode-notebook-cell://ssh-remote%2Bmilkyway.as.itb.ac.id/home2/s20321005/Thesis-Project/5_mcmc/4_no/5.4.2%20density.ipynb#X22sdnNjb2RlLXJlbW90ZQ%3D%3D?line=2'>3</a>\u001b[0m fw \u001b[39m=\u001b[39m no\u001b[39m.\u001b[39;49mfw(w[::\u001b[39m10\u001b[39;49m], theta, dz)\n\u001b[1;32m      <a href='vscode-notebook-cell://ssh-remote%2Bmilkyway.as.itb.ac.id/home2/s20321005/Thesis-Project/5_mcmc/4_no/5.4.2%20density.ipynb#X22sdnNjb2RlLXJlbW90ZQ%3D%3D?line=3'>4</a>\u001b[0m fw_smooth \u001b[39m=\u001b[39m no\u001b[39m.\u001b[39mfw(w, theta, dz)\n\u001b[1;32m      <a href='vscode-notebook-cell://ssh-remote%2Bmilkyway.as.itb.ac.id/home2/s20321005/Thesis-Project/5_mcmc/4_no/5.4.2%20density.ipynb#X22sdnNjb2RlLXJlbW90ZQ%3D%3D?line=4'>5</a>\u001b[0m plt\u001b[39m.\u001b[39mfigure(figsize\u001b[39m=\u001b[39m(\u001b[39m6\u001b[39m, \u001b[39m4\u001b[39m))\n",
      "\u001b[0;31mValueError\u001b[0m: Invalid number of dimensions, expected 32"
     ]
    }
   ],
   "source": [
    "w = np.linspace(-50, 30, 300)\n",
    "dw = w[10] - w[0]\n",
    "fw = no.fw(w[::10], theta, dz)\n",
    "fw_smooth = no.fw(w, theta, dz)\n",
    "plt.figure(figsize=(6, 4))\n",
    "plt.bar(w[::10], fw, width=dw, color='b', alpha=0.5, ec=\"k\")\n",
    "plt.plot(w, fw_smooth, color='r', lw=2)\n",
    "plt.xlabel(r'$z$')\n",
    "plt.ylabel(r'$\\nu$')\n",
    "plt.show()"
   ]
  },
  {
   "cell_type": "code",
   "execution_count": null,
   "metadata": {},
   "outputs": [],
   "source": []
  }
 ],
 "metadata": {
  "kernelspec": {
   "display_name": "maturin",
   "language": "python",
   "name": "python3"
  },
  "language_info": {
   "codemirror_mode": {
    "name": "ipython",
    "version": 3
   },
   "file_extension": ".py",
   "mimetype": "text/x-python",
   "name": "python",
   "nbconvert_exporter": "python",
   "pygments_lexer": "ipython3",
   "version": "3.8.10"
  },
  "orig_nbformat": 4
 },
 "nbformat": 4,
 "nbformat_minor": 2
}
