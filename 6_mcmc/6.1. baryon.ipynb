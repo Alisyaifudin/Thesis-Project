{
 "cells": [
  {
   "cell_type": "code",
   "execution_count": 3,
   "metadata": {},
   "outputs": [
    {
     "data": {
      "text/plain": [
       "('/home2/s20321005/Thesis-Project/Data', '/home2/s20321005/Thesis-Project')"
      ]
     },
     "execution_count": 3,
     "metadata": {},
     "output_type": "execute_result"
    }
   ],
   "source": [
    "import vaex\n",
    "from os.path import abspath, join, pardir\n",
    "import sys\n",
    "current_dir = abspath(\"\")\n",
    "root_dir = abspath(join(current_dir, pardir))\n",
    "sys.path.append(root_dir)\n",
    "root_data_dir = abspath(join(root_dir, \"Data\"))\n",
    "root_data_dir, root_dir"
   ]
  },
  {
   "cell_type": "code",
   "execution_count": 4,
   "metadata": {},
   "outputs": [
    {
     "name": "stdout",
     "output_type": "stream",
     "text": [
      "Creating /home2/s20321005/Thesis-Project/Data/Baryon dir in Data dir\n"
     ]
    }
   ],
   "source": [
    "from utils import safe_mkdir\n",
    "\n",
    "name = \"Baryon\"\n",
    "data_dir = join(root_data_dir, name)\n",
    "safe_mkdir(data_dir)"
   ]
  },
  {
   "attachments": {},
   "cell_type": "markdown",
   "metadata": {},
   "source": [
    "# All Components"
   ]
  },
  {
   "cell_type": "markdown",
   "metadata": {},
   "source": [
    "Baryonic components (compiled by [Schutz, K., Lin, T., Safdi, B. R., & Wu, C. L. (2018). Constraining a Thin Dark Matter Disk with G a i a. Physical review letters, 121(8), 081101](https://journals.aps.org/prl/abstract/10.1103/PhysRevLett.121.081101))\n",
    "\n",
    "| Components               | density (Msun/pc^3) | sigma_z (km/s) |\n",
    "| ------------------------ | ------------------- | -------------- |\n",
    "| Molecular gas (H2)       | 0.0104 ± 0.00312    |  3.7 ± 0.2     |\n",
    "| Cold atomic gas (HI(1))  | 0.0277 ± 0.00554    |  7.1 ± 0.5     |\n",
    "| Warm atomic gas (HI(2))  | 0.0073 ± 0.00070    | 22.1 ± 2.4     |\n",
    "| Hot ionized gas (HII)    | 0.0005 ± 0.00003    | 39.0 ± 4.0     |\n",
    "| Giant stars              | 0.0006 ± 0.00006    | 15.5 ± 1.6     |\n",
    "| MV < 3                   | 0.0018 ± 0.00018    |  7.5 ± 2.0     |\n",
    "| 3 < MV < 4               | 0.0018 ± 0.00018    | 12.0 ± 2.4     |\n",
    "| 4 < MV < 5               | 0.0029 ± 0.00029    | 18.0 ± 1.8     |\n",
    "| 5 < MV < 8               | 0.0072 ± 0.00072    | 18.5 ± 1.9     |\n",
    "| MV > 8 (M dwarfs)        | 0.0216 ± 0.00280    | 18.5 ± 4.0     |\n",
    "| White dwarfs             | 0.0056 ± 0.00100    | 20.0 ± 5.0     |\n",
    "| Brown dwarfs             | 0.0015 ± 0.00050    | 20.0 ± 5.0     |\n",
    "\n",
    "let's create this table, and save it\n"
   ]
  },
  {
   "cell_type": "code",
   "execution_count": 5,
   "metadata": {},
   "outputs": [
    {
     "data": {
      "text/html": [
       "<table>\n",
       "<thead>\n",
       "<tr><th>#                             </th><th>components             </th><th>rho   </th><th>e_rho  </th><th>sigma_z  </th><th>e_sigma_z  </th></tr>\n",
       "</thead>\n",
       "<tbody>\n",
       "<tr><td><i style='opacity: 0.6'>0</i> </td><td>Molecular gas (H2)     </td><td>0.0104</td><td>0.00312</td><td>3.7      </td><td>0.2        </td></tr>\n",
       "<tr><td><i style='opacity: 0.6'>1</i> </td><td>Cold atomic gas (HI(1))</td><td>0.0277</td><td>0.00554</td><td>7.1      </td><td>0.5        </td></tr>\n",
       "<tr><td><i style='opacity: 0.6'>2</i> </td><td>Warm atomic gas (HI(2))</td><td>0.0073</td><td>0.0007 </td><td>22.1     </td><td>2.4        </td></tr>\n",
       "<tr><td><i style='opacity: 0.6'>3</i> </td><td>Hot ionized gas (HII)  </td><td>0.0005</td><td>3e-05  </td><td>39.0     </td><td>4.0        </td></tr>\n",
       "<tr><td><i style='opacity: 0.6'>4</i> </td><td>Giant stars            </td><td>0.0006</td><td>6e-05  </td><td>15.5     </td><td>1.6        </td></tr>\n",
       "<tr><td>...                           </td><td>...                    </td><td>...   </td><td>...    </td><td>...      </td><td>...        </td></tr>\n",
       "<tr><td><i style='opacity: 0.6'>7</i> </td><td>4 &lt; MV &lt; 5             </td><td>0.0029</td><td>0.00029</td><td>18.0     </td><td>1.8        </td></tr>\n",
       "<tr><td><i style='opacity: 0.6'>8</i> </td><td>5 &lt; MV &lt; 8             </td><td>0.0072</td><td>0.00072</td><td>18.5     </td><td>1.9        </td></tr>\n",
       "<tr><td><i style='opacity: 0.6'>9</i> </td><td>MV &gt; 8                 </td><td>0.0216</td><td>0.0028 </td><td>18.5     </td><td>4.0        </td></tr>\n",
       "<tr><td><i style='opacity: 0.6'>10</i></td><td>White dwarfs           </td><td>0.0056</td><td>0.001  </td><td>20.0     </td><td>5.0        </td></tr>\n",
       "<tr><td><i style='opacity: 0.6'>11</i></td><td>Brown dwarfs           </td><td>0.0015</td><td>0.0005 </td><td>20.0     </td><td>5.0        </td></tr>\n",
       "</tbody>\n",
       "</table>"
      ],
      "text/plain": [
       "#    components               rho     e_rho    sigma_z    e_sigma_z\n",
       "0    Molecular gas (H2)       0.0104  0.00312  3.7        0.2\n",
       "1    Cold atomic gas (HI(1))  0.0277  0.00554  7.1        0.5\n",
       "2    Warm atomic gas (HI(2))  0.0073  0.0007   22.1       2.4\n",
       "3    Hot ionized gas (HII)    0.0005  3e-05    39.0       4.0\n",
       "4    Giant stars              0.0006  6e-05    15.5       1.6\n",
       "...  ...                      ...     ...      ...        ...\n",
       "7    4 < MV < 5               0.0029  0.00029  18.0       1.8\n",
       "8    5 < MV < 8               0.0072  0.00072  18.5       1.9\n",
       "9    MV > 8                   0.0216  0.0028   18.5       4.0\n",
       "10   White dwarfs             0.0056  0.001    20.0       5.0\n",
       "11   Brown dwarfs             0.0015  0.0005   20.0       5.0"
      ]
     },
     "execution_count": 5,
     "metadata": {},
     "output_type": "execute_result"
    }
   ],
   "source": [
    "# if you already have it, just skip to test with all components\n",
    "\n",
    "table_dict = {\n",
    "  \"components\": [\n",
    "    \"Molecular gas (H2)\", \n",
    "    \"Cold atomic gas (HI(1))\",\n",
    "    \"Warm atomic gas (HI(2))\",\n",
    "    \"Hot ionized gas (HII)\",\n",
    "    \"Giant stars\",\n",
    "    \"MV < 3\",\n",
    "    \"3 < MV < 4\",\n",
    "    \"4 < MV < 5\",\n",
    "    \"5 < MV < 8\",\n",
    "    \"MV > 8\",\n",
    "    \"White dwarfs\",\n",
    "    \"Brown dwarfs\"\n",
    "    ],\n",
    "    \"rho\": [\n",
    "       0.0104,\n",
    "       0.0277,\n",
    "       0.0073,\n",
    "       0.0005,\n",
    "       0.0006,\n",
    "       0.0018,\n",
    "       0.0018,\n",
    "       0.0029,\n",
    "       0.0072,\n",
    "       0.0216,\n",
    "       0.0056,\n",
    "       0.0015\n",
    "    ],\n",
    "    \"e_rho\": [0.00312, 0.00554, 0.00070, 0.00003, 0.00006, 0.00018, 0.00018, 0.00029, 0.00072, 0.00280, 0.00100, 0.00050],\n",
    "    \"sigma_z\": [3.7, 7.1, 22.1, 39.0, 15.5, 7.5, 12.0, 18.0, 18.5, 18.5, 20.0, 20.0],\n",
    "    \"e_sigma_z\": [0.2, 0.5, 2.4, 4.0, 1.6, 2.0, 2.4, 1.8, 1.9, 4.0, 5.0, 5.0]\n",
    "  }\n",
    "\n",
    "df = vaex.from_dict(table_dict)\n",
    "df"
   ]
  },
  {
   "cell_type": "code",
   "execution_count": 6,
   "metadata": {},
   "outputs": [
    {
     "name": "stdout",
     "output_type": "stream",
     "text": [
      "export(hdf5) [########################################] 100.00% elapsed time  :     0.24s =  0.0m =  0.0h\n",
      " "
     ]
    }
   ],
   "source": [
    "df.export(join(data_dir, \"baryon.hdf5\"), progress=True)"
   ]
  }
 ],
 "metadata": {
  "kernelspec": {
   "display_name": "vaex",
   "language": "python",
   "name": "python3"
  },
  "language_info": {
   "codemirror_mode": {
    "name": "ipython",
    "version": 3
   },
   "file_extension": ".py",
   "mimetype": "text/x-python",
   "name": "python",
   "nbconvert_exporter": "python",
   "pygments_lexer": "ipython3",
   "version": "3.8.10"
  },
  "orig_nbformat": 4
 },
 "nbformat": 4,
 "nbformat_minor": 2
}
