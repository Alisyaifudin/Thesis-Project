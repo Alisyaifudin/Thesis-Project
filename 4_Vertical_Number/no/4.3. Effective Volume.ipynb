{
 "cells": [
  {
   "cell_type": "code",
   "execution_count": 21,
   "metadata": {
    "execution": {
     "iopub.execute_input": "2023-07-02T22:48:30.799607Z",
     "iopub.status.busy": "2023-07-02T22:48:30.799126Z",
     "iopub.status.idle": "2023-07-02T22:48:32.645174Z",
     "shell.execute_reply": "2023-07-02T22:48:32.644442Z",
     "shell.execute_reply.started": "2023-07-02T22:48:30.799555Z"
    },
    "tags": []
   },
   "outputs": [],
   "source": [
    "import vaex\n",
    "import numpy as np\n",
    "from matplotlib import pyplot as plt\n",
    "from os.path import join, abspath\n",
    "from os import pardir\n",
    "from scipy import interpolate\n",
    "from glob import glob\n",
    "import sys"
   ]
  },
  {
   "cell_type": "code",
   "execution_count": 22,
   "metadata": {
    "execution": {
     "iopub.execute_input": "2023-07-02T22:48:33.190353Z",
     "iopub.status.busy": "2023-07-02T22:48:33.189690Z",
     "iopub.status.idle": "2023-07-02T22:48:33.202127Z",
     "shell.execute_reply": "2023-07-02T22:48:33.201128Z",
     "shell.execute_reply.started": "2023-07-02T22:48:33.190305Z"
    },
    "tags": []
   },
   "outputs": [
    {
     "data": {
      "text/plain": [
       "'/home2/s20321005/Thesis-Project'"
      ]
     },
     "execution_count": 22,
     "metadata": {},
     "output_type": "execute_result"
    }
   ],
   "source": [
    "root_dir = abspath(join(pardir, pardir))\n",
    "root_dir"
   ]
  },
  {
   "cell_type": "code",
   "execution_count": 23,
   "metadata": {
    "execution": {
     "iopub.execute_input": "2023-07-02T22:48:37.969755Z",
     "iopub.status.busy": "2023-07-02T22:48:37.969164Z",
     "iopub.status.idle": "2023-07-02T22:48:37.977597Z",
     "shell.execute_reply": "2023-07-02T22:48:37.976580Z",
     "shell.execute_reply.started": "2023-07-02T22:48:37.969701Z"
    },
    "tags": []
   },
   "outputs": [
    {
     "data": {
      "text/plain": [
       "['/home2/s20321005/Thesis-Project/4_Vertical_Number/no',\n",
       " '/home2/s20321005/.conda/envs/vaex/lib/python38.zip',\n",
       " '/home2/s20321005/.conda/envs/vaex/lib/python3.8',\n",
       " '/home2/s20321005/.conda/envs/vaex/lib/python3.8/lib-dynload',\n",
       " '',\n",
       " '/home2/s20321005/.local/lib/python3.8/site-packages',\n",
       " '/home2/s20321005/.conda/envs/vaex/lib/python3.8/site-packages',\n",
       " '/home2/s20321005/Thesis-Project']"
      ]
     },
     "execution_count": 23,
     "metadata": {},
     "output_type": "execute_result"
    }
   ],
   "source": [
    "if root_dir not in sys.path:\n",
    "    sys.path.append(root_dir)\n",
    "sys.path"
   ]
  },
  {
   "cell_type": "code",
   "execution_count": 24,
   "metadata": {
    "execution": {
     "iopub.execute_input": "2023-07-02T22:48:40.420462Z",
     "iopub.status.busy": "2023-07-02T22:48:40.419847Z",
     "iopub.status.idle": "2023-07-02T22:48:41.202614Z",
     "shell.execute_reply": "2023-07-02T22:48:41.201942Z",
     "shell.execute_reply.started": "2023-07-02T22:48:40.420406Z"
    },
    "tags": []
   },
   "outputs": [],
   "source": [
    "from utils import safe_mkdir, style\n",
    "\n",
    "style()"
   ]
  },
  {
   "cell_type": "code",
   "execution_count": 25,
   "metadata": {
    "execution": {
     "iopub.execute_input": "2023-07-02T22:49:06.436663Z",
     "iopub.status.busy": "2023-07-02T22:49:06.436034Z",
     "iopub.status.idle": "2023-07-02T22:49:06.442980Z",
     "shell.execute_reply": "2023-07-02T22:49:06.441751Z",
     "shell.execute_reply.started": "2023-07-02T22:49:06.436608Z"
    },
    "tags": []
   },
   "outputs": [],
   "source": [
    "root_data_dir = abspath(join(root_dir, \"Data\"))\n",
    "name = \"no\"\n",
    "comp_dir = join(root_data_dir, \"Effective-Completeness\", name)\n",
    "spectral_dir = join(root_data_dir, \"Color\", name)"
   ]
  },
  {
   "cell_type": "code",
   "execution_count": 26,
   "metadata": {
    "execution": {
     "iopub.execute_input": "2023-07-02T22:49:07.997563Z",
     "iopub.status.busy": "2023-07-02T22:49:07.997002Z",
     "iopub.status.idle": "2023-07-02T22:49:08.004465Z",
     "shell.execute_reply": "2023-07-02T22:49:08.003405Z",
     "shell.execute_reply.started": "2023-07-02T22:49:07.997511Z"
    },
    "tags": []
   },
   "outputs": [
    {
     "name": "stdout",
     "output_type": "stream",
     "text": [
      "Directory /home2/s20321005/Thesis-Project/Data/Effective-Volume already exist. Good to go!\n",
      "Directory /home2/s20321005/Thesis-Project/Data/Effective-Volume/no already exist. Good to go!\n"
     ]
    }
   ],
   "source": [
    "data_dir = join(root_data_dir, \"Effective-Volume\")\n",
    "safe_mkdir(data_dir)\n",
    "data_dir = join(root_data_dir, \"Effective-Volume\", name)\n",
    "safe_mkdir(data_dir)"
   ]
  },
  {
   "cell_type": "code",
   "execution_count": 27,
   "metadata": {
    "execution": {
     "iopub.execute_input": "2023-07-02T22:49:09.687625Z",
     "iopub.status.busy": "2023-07-02T22:49:09.687114Z",
     "iopub.status.idle": "2023-07-02T22:49:09.696301Z",
     "shell.execute_reply": "2023-07-02T22:49:09.695145Z",
     "shell.execute_reply.started": "2023-07-02T22:49:09.687575Z"
    },
    "tags": []
   },
   "outputs": [
    {
     "data": {
      "text/plain": [
       "['/home2/s20321005/Thesis-Project/Data/Effective-Completeness/no/comp_(-0.019)_(0.127).hdf5',\n",
       " '/home2/s20321005/Thesis-Project/Data/Effective-Completeness/no/comp_(0.127)_(0.190).hdf5',\n",
       " '/home2/s20321005/Thesis-Project/Data/Effective-Completeness/no/comp_(0.190)_(0.220).hdf5',\n",
       " '/home2/s20321005/Thesis-Project/Data/Effective-Completeness/no/comp_(0.220)_(0.242).hdf5',\n",
       " '/home2/s20321005/Thesis-Project/Data/Effective-Completeness/no/comp_(0.242)_(0.260).hdf5',\n",
       " '/home2/s20321005/Thesis-Project/Data/Effective-Completeness/no/comp_(0.260)_(0.276).hdf5',\n",
       " '/home2/s20321005/Thesis-Project/Data/Effective-Completeness/no/comp_(0.276)_(0.289).hdf5',\n",
       " '/home2/s20321005/Thesis-Project/Data/Effective-Completeness/no/comp_(0.289)_(0.301).hdf5',\n",
       " '/home2/s20321005/Thesis-Project/Data/Effective-Completeness/no/comp_(0.301)_(0.313).hdf5',\n",
       " '/home2/s20321005/Thesis-Project/Data/Effective-Completeness/no/comp_(0.313)_(0.325).hdf5',\n",
       " '/home2/s20321005/Thesis-Project/Data/Effective-Completeness/no/comp_(0.325)_(0.335).hdf5',\n",
       " '/home2/s20321005/Thesis-Project/Data/Effective-Completeness/no/comp_(0.335)_(0.345).hdf5',\n",
       " '/home2/s20321005/Thesis-Project/Data/Effective-Completeness/no/comp_(0.345)_(0.355).hdf5',\n",
       " '/home2/s20321005/Thesis-Project/Data/Effective-Completeness/no/comp_(0.355)_(0.365).hdf5',\n",
       " '/home2/s20321005/Thesis-Project/Data/Effective-Completeness/no/comp_(0.365)_(0.374).hdf5']"
      ]
     },
     "execution_count": 27,
     "metadata": {},
     "output_type": "execute_result"
    }
   ],
   "source": [
    "files = glob(join(comp_dir, \"*.hdf5\"))\n",
    "files.sort()\n",
    "files"
   ]
  },
  {
   "cell_type": "code",
   "execution_count": 8,
   "metadata": {
    "execution": {
     "iopub.execute_input": "2023-07-02T22:49:12.354752Z",
     "iopub.status.busy": "2023-07-02T22:49:12.354197Z",
     "iopub.status.idle": "2023-07-02T22:49:12.361730Z",
     "shell.execute_reply": "2023-07-02T22:49:12.360752Z",
     "shell.execute_reply.started": "2023-07-02T22:49:12.354700Z"
    },
    "tags": []
   },
   "outputs": [
    {
     "data": {
      "text/plain": [
       "'comp_(-0.019)_(0.127).hdf5'"
      ]
     },
     "execution_count": 8,
     "metadata": {},
     "output_type": "execute_result"
    }
   ],
   "source": [
    "index = 0\n",
    "name = files[index].split(\"/\")[-1]\n",
    "name"
   ]
  },
  {
   "cell_type": "code",
   "execution_count": 9,
   "metadata": {
    "execution": {
     "iopub.execute_input": "2023-07-02T22:49:13.823753Z",
     "iopub.status.busy": "2023-07-02T22:49:13.823211Z",
     "iopub.status.idle": "2023-07-02T22:49:13.844349Z",
     "shell.execute_reply": "2023-07-02T22:49:13.843422Z",
     "shell.execute_reply.started": "2023-07-02T22:49:13.823701Z"
    },
    "tags": []
   },
   "outputs": [
    {
     "data": {
      "text/html": [
       "<table>\n",
       "<thead>\n",
       "<tr><th>#                             </th><th>dm                 </th><th>comp                 </th></tr>\n",
       "</thead>\n",
       "<tbody>\n",
       "<tr><td><i style='opacity: 0.6'>0</i> </td><td>-4.0               </td><td>1.857784879780074e-10</td></tr>\n",
       "<tr><td><i style='opacity: 0.6'>1</i> </td><td>-3.808080808080808 </td><td>6.250300501256317e-10</td></tr>\n",
       "<tr><td><i style='opacity: 0.6'>2</i> </td><td>-3.6161616161616164</td><td>2.019505117318487e-09</td></tr>\n",
       "<tr><td><i style='opacity: 0.6'>3</i> </td><td>-3.4242424242424243</td><td>6.267453194727305e-09</td></tr>\n",
       "<tr><td><i style='opacity: 0.6'>4</i> </td><td>-3.2323232323232323</td><td>1.868565145480802e-08</td></tr>\n",
       "<tr><td>...                           </td><td>...                </td><td>...                  </td></tr>\n",
       "<tr><td><i style='opacity: 0.6'>95</i></td><td>14.232323232323232 </td><td>0.008579498474283593 </td></tr>\n",
       "<tr><td><i style='opacity: 0.6'>96</i></td><td>14.424242424242422 </td><td>0.005030946835943911 </td></tr>\n",
       "<tr><td><i style='opacity: 0.6'>97</i></td><td>14.616161616161616 </td><td>0.0028501570152633226</td></tr>\n",
       "<tr><td><i style='opacity: 0.6'>98</i></td><td>14.808080808080806 </td><td>0.001559340861474476 </td></tr>\n",
       "<tr><td><i style='opacity: 0.6'>99</i></td><td>15.0               </td><td>0.0008235682746634361</td></tr>\n",
       "</tbody>\n",
       "</table>"
      ],
      "text/plain": [
       "#    dm                   comp\n",
       "0    -4.0                 1.857784879780074e-10\n",
       "1    -3.808080808080808   6.250300501256317e-10\n",
       "2    -3.6161616161616164  2.019505117318487e-09\n",
       "3    -3.4242424242424243  6.267453194727305e-09\n",
       "4    -3.2323232323232323  1.868565145480802e-08\n",
       "...  ...                  ...\n",
       "95   14.232323232323232   0.008579498474283593\n",
       "96   14.424242424242422   0.005030946835943911\n",
       "97   14.616161616161616   0.0028501570152633226\n",
       "98   14.808080808080806   0.001559340861474476\n",
       "99   15.0                 0.0008235682746634361"
      ]
     },
     "execution_count": 9,
     "metadata": {},
     "output_type": "execute_result"
    }
   ],
   "source": [
    "df_comp = vaex.open(join(comp_dir, name))\n",
    "df_comp"
   ]
  },
  {
   "cell_type": "code",
   "execution_count": 10,
   "metadata": {
    "execution": {
     "iopub.execute_input": "2023-07-02T22:49:15.877516Z",
     "iopub.status.busy": "2023-07-02T22:49:15.876917Z",
     "iopub.status.idle": "2023-07-02T22:49:16.315070Z",
     "shell.execute_reply": "2023-07-02T22:49:16.314370Z",
     "shell.execute_reply.started": "2023-07-02T22:49:15.877461Z"
    },
    "tags": []
   },
   "outputs": [
    {
     "data": {
      "image/png": "[encoded data removed]",
      "text/plain": [
       "<Figure size 432x288 with 1 Axes>"
      ]
     },
     "metadata": {
      "needs_background": "light"
     },
     "output_type": "display_data"
    }
   ],
   "source": [
    "compDM = df_comp[\"comp\"].to_numpy()\n",
    "DM = df_comp[\"dm\"].to_numpy()\n",
    "\n",
    "# plot\n",
    "plt.plot(DM, compDM)\n",
    "plt.xlabel(\"DM\")\n",
    "plt.ylabel(\"Completeness\")\n",
    "plt.show()\n"
   ]
  },
  {
   "cell_type": "markdown",
   "metadata": {},
   "source": [
    "# plot for all"
   ]
  },
  {
   "cell_type": "code",
   "execution_count": 12,
   "metadata": {
    "execution": {
     "iopub.execute_input": "2023-07-02T22:49:24.174241Z",
     "iopub.status.busy": "2023-07-02T22:49:24.173645Z",
     "iopub.status.idle": "2023-07-02T22:49:25.993815Z",
     "shell.execute_reply": "2023-07-02T22:49:25.993100Z",
     "shell.execute_reply.started": "2023-07-02T22:49:24.174186Z"
    },
    "tags": []
   },
   "outputs": [
    {
     "data": {
      "image/png": "[encoded data removed]",
      "text/plain": [
       "<Figure size 504x288 with 1 Axes>"
      ]
     },
     "metadata": {
      "needs_background": "light"
     },
     "output_type": "display_data"
    },
    {
     "data": {
      "text/plain": [
       "'comp_(0.345)_(0.355).hdf5'"
      ]
     },
     "execution_count": 12,
     "metadata": {},
     "output_type": "execute_result"
    }
   ],
   "source": [
    "import re\n",
    "\n",
    "# regex to extract number between ()\n",
    "regex = re.compile(r\"\\((.*?)\\)\")\n",
    "\n",
    "# plot\n",
    "fig, ax = plt.subplots(figsize=(7, 4))\n",
    "for file in files[::3]:\n",
    "    name = file.split(\"/\")[-1]\n",
    "    c = regex.findall(name)\n",
    "    df_comp = vaex.open(join(comp_dir, name))\n",
    "    compDM = df_comp[\"comp\"].to_numpy()\n",
    "    DM = df_comp[\"dm\"].to_numpy()\n",
    "    ax.plot(DM, compDM, label=r\"${}\\leq J-K_s < {}$\".format(c[0], c[1]), alpha=0.5)\n",
    "ax.set_xlabel(\"Modulus jarak\")\n",
    "ax.set_ylabel(\"Kelengkapan\")\n",
    "ax.set_ylim(0, 1)\n",
    "ax.grid()\n",
    "ax.legend(loc='center left', bbox_to_anchor=(1, 0.5))\n",
    "fig.suptitle(\"Fungsi Kelengkapan\", fontsize=14)\n",
    "fig.tight_layout()\n",
    "fig.subplots_adjust(top=0.90)\n",
    "fig.savefig(join('..', 'img', \"fungsi-kelengkapan-no.pdf\"), dpi=200)\n",
    "plt.show()\n",
    "\n",
    "name"
   ]
  },
  {
   "cell_type": "markdown",
   "metadata": {},
   "source": [
    "interpolate compDM, set to 0 if beyond the range"
   ]
  },
  {
   "cell_type": "code",
   "execution_count": 13,
   "metadata": {
    "execution": {
     "iopub.execute_input": "2023-07-02T22:49:29.950880Z",
     "iopub.status.busy": "2023-07-02T22:49:29.950493Z",
     "iopub.status.idle": "2023-07-02T22:49:29.958116Z",
     "shell.execute_reply": "2023-07-02T22:49:29.957296Z",
     "shell.execute_reply.started": "2023-07-02T22:49:29.950842Z"
    },
    "tags": []
   },
   "outputs": [
    {
     "data": {
      "text/plain": [
       "array(0.)"
      ]
     },
     "execution_count": 13,
     "metadata": {},
     "output_type": "execute_result"
    }
   ],
   "source": [
    "compDM_interp = interpolate.interp1d(DM, compDM, fill_value=0, bounds_error=False, kind=\"cubic\")\n",
    "\n",
    "compDM_interp(-20)"
   ]
  },
  {
   "cell_type": "code",
   "execution_count": 14,
   "metadata": {
    "execution": {
     "iopub.execute_input": "2023-07-02T22:49:31.985977Z",
     "iopub.status.busy": "2023-07-02T22:49:31.985376Z",
     "iopub.status.idle": "2023-07-02T22:49:32.222723Z",
     "shell.execute_reply": "2023-07-02T22:49:32.222067Z",
     "shell.execute_reply.started": "2023-07-02T22:49:31.985923Z"
    },
    "tags": []
   },
   "outputs": [
    {
     "data": {
      "image/png": "[encoded data removed]",
      "text/plain": [
       "<Figure size 432x288 with 1 Axes>"
      ]
     },
     "metadata": {
      "needs_background": "light"
     },
     "output_type": "display_data"
    }
   ],
   "source": [
    "dms = np.linspace(-5, 20, 1000)\n",
    "compDMs = compDM_interp(dms)\n",
    "\n",
    "# plot\n",
    "plt.plot(dms, compDMs)\n",
    "plt.xlabel(\"DM\")\n",
    "plt.ylabel(\"Completeness\")\n",
    "plt.show()"
   ]
  },
  {
   "cell_type": "code",
   "execution_count": 15,
   "metadata": {
    "execution": {
     "iopub.execute_input": "2023-07-02T22:49:34.586793Z",
     "iopub.status.busy": "2023-07-02T22:49:34.586214Z",
     "iopub.status.idle": "2023-07-02T22:49:34.591540Z",
     "shell.execute_reply": "2023-07-02T22:49:34.590559Z",
     "shell.execute_reply.started": "2023-07-02T22:49:34.586741Z"
    },
    "tags": []
   },
   "outputs": [],
   "source": [
    "R = 150\n",
    "Z = 300"
   ]
  },
  {
   "cell_type": "code",
   "execution_count": 16,
   "metadata": {
    "execution": {
     "iopub.execute_input": "2023-07-02T22:49:36.125958Z",
     "iopub.status.busy": "2023-07-02T22:49:36.125526Z",
     "iopub.status.idle": "2023-07-02T22:49:36.132779Z",
     "shell.execute_reply": "2023-07-02T22:49:36.131622Z",
     "shell.execute_reply.started": "2023-07-02T22:49:36.125916Z"
    },
    "tags": []
   },
   "outputs": [],
   "source": [
    "# divide space into small tube with rings\n",
    "ez = np.linspace(-Z, Z, 100) #edges\n",
    "er = np.linspace(0, R, 100)\n",
    "z = (ez[:-1]+ez[1:])/2\n",
    "r = (er[:-1]+er[1:])/2\n",
    "\n",
    "dz = ez[1]-ez[0]"
   ]
  },
  {
   "cell_type": "code",
   "execution_count": 17,
   "metadata": {
    "execution": {
     "iopub.execute_input": "2023-07-02T22:49:37.954739Z",
     "iopub.status.busy": "2023-07-02T22:49:37.954151Z",
     "iopub.status.idle": "2023-07-02T22:49:38.220707Z",
     "shell.execute_reply": "2023-07-02T22:49:38.220128Z",
     "shell.execute_reply.started": "2023-07-02T22:49:37.954685Z"
    },
    "tags": []
   },
   "outputs": [
    {
     "name": "stderr",
     "output_type": "stream",
     "text": [
      "100%|██████████| 99/99 [00:00<00:00, 214.53it/s]\n"
     ]
    }
   ],
   "source": [
    "from tqdm import tqdm\n",
    "\n",
    "frac = []\n",
    "for zz in tqdm(z):\n",
    "    real_vol = 0\n",
    "    eff_vol = 0\n",
    "    for j, (rr, r_in, r_out) in enumerate(zip(r, er[:-1], er[1:])):\n",
    "        glat = np.arctan(zz/rr)\n",
    "        dv = np.pi*(r_out**2-r_in**2)*dz\n",
    "        real_vol += dv\n",
    "        distance =np.sqrt(rr**2+zz**2)\n",
    "        dm = 5*np.log10(distance)-5\n",
    "        # b = np.arctan(zz/rr)\n",
    "        # if np.abs(zz) < 50:\n",
    "        eff_vol += dv*compDM_interp(dm)\n",
    "    frac.append(eff_vol/real_vol)\n"
   ]
  },
  {
   "cell_type": "code",
   "execution_count": 18,
   "metadata": {
    "execution": {
     "iopub.execute_input": "2023-07-02T22:49:40.073559Z",
     "iopub.status.busy": "2023-07-02T22:49:40.072968Z",
     "iopub.status.idle": "2023-07-02T22:49:40.319157Z",
     "shell.execute_reply": "2023-07-02T22:49:40.318547Z",
     "shell.execute_reply.started": "2023-07-02T22:49:40.073505Z"
    },
    "tags": []
   },
   "outputs": [
    {
     "data": {
      "text/plain": [
       "(0.0, 1.0)"
      ]
     },
     "execution_count": 18,
     "metadata": {},
     "output_type": "execute_result"
    },
    {
     "data": {
      "image/png": "[encoded data removed]",
      "text/plain": [
       "<Figure size 432x288 with 1 Axes>"
      ]
     },
     "metadata": {
      "needs_background": "light"
     },
     "output_type": "display_data"
    }
   ],
   "source": [
    "plt.plot(z, frac)\n",
    "plt.ylim(0,1)"
   ]
  },
  {
   "cell_type": "markdown",
   "metadata": {},
   "source": [
    "# all out"
   ]
  },
  {
   "cell_type": "markdown",
   "metadata": {},
   "source": [
    "only for index 0 and 2, cut the midplane"
   ]
  },
  {
   "cell_type": "code",
   "execution_count": 19,
   "metadata": {
    "execution": {
     "iopub.execute_input": "2023-07-02T22:49:43.352471Z",
     "iopub.status.busy": "2023-07-02T22:49:43.351864Z",
     "iopub.status.idle": "2023-07-02T22:49:58.691437Z",
     "shell.execute_reply": "2023-07-02T22:49:58.690882Z",
     "shell.execute_reply.started": "2023-07-02T22:49:43.352418Z"
    },
    "tags": []
   },
   "outputs": [
    {
     "name": "stderr",
     "output_type": "stream",
     "text": [
      "100%|██████████| 499/499 [00:01<00:00, 421.53it/s]\n",
      "100%|██████████| 499/499 [00:01<00:00, 423.26it/s]\n",
      "100%|██████████| 499/499 [00:01<00:00, 400.18it/s]\n",
      "100%|██████████| 499/499 [00:01<00:00, 401.01it/s]\n",
      "100%|██████████| 499/499 [00:01<00:00, 421.27it/s]\n",
      "100%|██████████| 499/499 [00:01<00:00, 434.66it/s]\n",
      "100%|██████████| 499/499 [00:01<00:00, 431.88it/s]\n",
      "100%|██████████| 499/499 [00:01<00:00, 423.49it/s]\n",
      "100%|██████████| 499/499 [00:01<00:00, 424.74it/s]\n",
      "100%|██████████| 499/499 [00:01<00:00, 431.63it/s]\n",
      "100%|██████████| 499/499 [00:01<00:00, 444.75it/s]\n",
      "100%|██████████| 499/499 [00:01<00:00, 420.65it/s]\n",
      "100%|██████████| 499/499 [00:01<00:00, 431.63it/s]\n",
      "100%|██████████| 499/499 [00:01<00:00, 430.21it/s]\n",
      "100%|██████████| 499/499 [00:01<00:00, 425.46it/s]\n"
     ]
    },
    {
     "data": {
      "image/png": "[encoded data removed]",
      "text/plain": [
       "<Figure size 432x288 with 1 Axes>"
      ]
     },
     "metadata": {
      "needs_background": "light"
     },
     "output_type": "display_data"
    }
   ],
   "source": [
    "from tqdm import tqdm\n",
    "import re\n",
    "import matplotlib.pylab as pl\n",
    "\n",
    "# regex to extract number between ()\n",
    "regex = re.compile(r\"\\((.*?)\\)\")\n",
    "Z = 300\n",
    "R = 150\n",
    "ez = np.linspace(-Z, Z, 500) #edges\n",
    "er = np.linspace(0, R, 100)\n",
    "z = (ez[:-1]+ez[1:])/2\n",
    "r = (er[:-1]+er[1:])/2\n",
    "dms = np.linspace(-20, 20, 1000)\n",
    "dz = ez[1]-ez[0]\n",
    "colors = pl.cm.jet(np.linspace(0,1,len(files)))\n",
    "fig, ax = plt.subplots(figsize=(6, 4))\n",
    "fracs = np.empty((len(files), len(z)))\n",
    "names = []\n",
    "for i, file in enumerate(files):\n",
    "    name = file.split(\"/\")[-1]\n",
    "    names.append(name)\n",
    "    c = regex.findall(name)\n",
    "    df_comp = vaex.open(join(comp_dir, name))\n",
    "    compDM = df_comp[\"comp\"].to_numpy()\n",
    "    DM = df_comp[\"dm\"].to_numpy()\n",
    "    compDM_interp = interpolate.interp1d(DM, compDM, fill_value=0, bounds_error=False)\n",
    "    compDMs = compDM_interp(dms)\n",
    "    # plt.plot(dms, compDMs, color=colors[i], alpha=0.5)\n",
    "    # continue\n",
    "    frac = []\n",
    "    for zz in tqdm(z):\n",
    "        real_vol = 0\n",
    "        eff_vol = 0\n",
    "        for j, (rr, r_in, r_out) in enumerate(zip(r, er[:-1], er[1:])):\n",
    "            glat = np.arctan(zz/rr)\n",
    "            dv = np.pi*(r_out**2-r_in**2)*dz\n",
    "            real_vol += dv\n",
    "            distance =np.sqrt(rr**2+zz**2)\n",
    "            dm = 5*np.log10(distance)-5\n",
    "            b = np.arctan(zz/rr)\n",
    "            # if np.abs(zz) < 13.79310345 and i < 1:\n",
    "            #     continue\n",
    "            eff_vol += dv*compDM_interp(dm)\n",
    "        frac.append(eff_vol/real_vol)\n",
    "    # if i % 4 == 0:\n",
    "        # ax.plot(z, frac, label=r\"${}\\leq c < {}$\".format(c[0], c[1]), alpha=0.5)\n",
    "    ax.plot(z, frac, label=r\"${}\\leq c < {}$\".format(c[0], c[1]), alpha=0.5)\n",
    "    fracs[i] = frac\n",
    "    df = vaex.from_arrays(z=z, frac=frac)\n",
    "    # df.export(join(data_dir, name), progress=True)\n",
    "# ax.set_xlabel(r\"$z$ (pc)\")\n",
    "# ax.set_ylabel(\"Kelengkapan Efektif\")\n",
    "# ax.grid()\n",
    "# ax.set_ylim(0,1)\n",
    "# ax.set_xlim(-Z, Z)\n",
    "# ax.legend(loc='center left', bbox_to_anchor=(1, 0.5))\n",
    "# fig.suptitle(\"Fungsi Kelengkapan Efektif\", fontsize=14)\n",
    "# fig.tight_layout()\n",
    "# fig.subplots_adjust(top=0.90)\n",
    "# fig.savefig(join('..', 'img', \"fungsi-kelengkapan-efektif.pdf\"), dpi=200)"
   ]
  },
  {
   "cell_type": "code",
   "execution_count": 20,
   "metadata": {},
   "outputs": [
    {
     "name": "stdout",
     "output_type": "stream",
     "text": [
      "export(hdf5) [########################################] 100.00% elapsed time  :     0.01s =  0.0m =  0.0h\n",
      "export(hdf5) [########################################] 100.00% elapsed time  :     0.01s =  0.0m =  0.0h\n",
      "export(hdf5) [########################################] 100.00% elapsed time  :     0.01s =  0.0m =  0.0h\n",
      "export(hdf5) [########################################] 100.00% elapsed time  :     0.01s =  0.0m =  0.0h\n",
      "export(hdf5) [########################################] 100.00% elapsed time  :     0.01s =  0.0m =  0.0h\n",
      "export(hdf5) [########################################] 100.00% elapsed time  :     0.01s =  0.0m =  0.0h\n",
      "export(hdf5) [########################################] 100.00% elapsed time  :     0.01s =  0.0m =  0.0h\n",
      "export(hdf5) [########################################] 100.00% elapsed time  :     0.01s =  0.0m =  0.0h\n",
      "export(hdf5) [########################################] 100.00% elapsed time  :     0.01s =  0.0m =  0.0h\n",
      "export(hdf5) [########################################] 100.00% elapsed time  :     0.01s =  0.0m =  0.0h\n",
      "export(hdf5) [########################################] 100.00% elapsed time  :     0.01s =  0.0m =  0.0h\n",
      "export(hdf5) [########################################] 100.00% elapsed time  :     0.01s =  0.0m =  0.0h\n",
      "export(hdf5) [########################################] 100.00% elapsed time  :     0.01s =  0.0m =  0.0h\n",
      "export(hdf5) [########################################] 100.00% elapsed time  :     0.01s =  0.0m =  0.0h\n",
      "export(hdf5) [########################################] 100.00% elapsed time  :     0.01s =  0.0m =  0.0h\n",
      " "
     ]
    },
    {
     "data": {
      "image/png": "[encoded data removed]",
      "text/plain": [
       "<Figure size 432x288 with 1 Axes>"
      ]
     },
     "metadata": {
      "needs_background": "light"
     },
     "output_type": "display_data"
    }
   ],
   "source": [
    "for frac, name in zip(fracs, names):\n",
    "    plt.plot(z, frac)\n",
    "    plt.ylim(0,1)\n",
    "\n",
    "    df  = vaex.from_arrays(z=z, frac=frac)\n",
    "    # print(df)\n",
    "    df.export(join(data_dir, name), progress=True)"
   ]
  }
 ],
 "metadata": {
  "kernelspec": {
   "display_name": "Python 3",
   "language": "python",
   "name": "python3"
  },
  "language_info": {
   "codemirror_mode": {
    "name": "ipython",
    "version": 3
   },
   "file_extension": ".py",
   "mimetype": "text/x-python",
   "name": "python",
   "nbconvert_exporter": "python",
   "pygments_lexer": "ipython3",
   "version": "3.8.10"
  },
  "vscode": {
   "interpreter": {
    "hash": "2e98b01e139963c1272b06356b7ab7b4729889064e74152a80e8f95bb2c4292e"
   }
  }
 },
 "nbformat": 4,
 "nbformat_minor": 4
}
