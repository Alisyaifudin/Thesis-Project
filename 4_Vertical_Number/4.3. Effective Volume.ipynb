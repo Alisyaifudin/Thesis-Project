{
 "cells": [
  {
   "cell_type": "code",
   "execution_count": 1,
   "metadata": {
    "execution": {
     "iopub.execute_input": "2023-11-29T07:26:15.084453Z",
     "iopub.status.busy": "2023-11-29T07:26:15.084007Z",
     "iopub.status.idle": "2023-11-29T07:26:15.095231Z",
     "shell.execute_reply": "2023-11-29T07:26:15.094400Z",
     "shell.execute_reply.started": "2023-11-29T07:26:15.084412Z"
    },
    "tags": []
   },
   "outputs": [],
   "source": [
    "import vaex\n",
    "import numpy as np\n",
    "from matplotlib import pyplot as plt\n",
    "from os.path import join, abspath\n",
    "from scipy import interpolate\n",
    "from glob import glob\n",
    "import sys"
   ]
  },
  {
   "cell_type": "code",
   "execution_count": 2,
   "metadata": {
    "execution": {
     "iopub.execute_input": "2023-11-29T07:26:20.397374Z",
     "iopub.status.busy": "2023-11-29T07:26:20.396876Z",
     "iopub.status.idle": "2023-11-29T07:26:20.411499Z",
     "shell.execute_reply": "2023-11-29T07:26:20.410496Z",
     "shell.execute_reply.started": "2023-11-29T07:26:20.397327Z"
    },
    "tags": []
   },
   "outputs": [
    {
     "data": {
      "text/plain": [
       "'/home2/s20321005/Thesis-Project'"
      ]
     },
     "execution_count": 2,
     "metadata": {},
     "output_type": "execute_result"
    }
   ],
   "source": [
    "root_dir = abspath(join(\"..\"))\n",
    "root_dir"
   ]
  },
  {
   "cell_type": "code",
   "execution_count": 3,
   "metadata": {
    "execution": {
     "iopub.execute_input": "2023-11-29T07:26:22.557232Z",
     "iopub.status.busy": "2023-11-29T07:26:22.556789Z",
     "iopub.status.idle": "2023-11-29T07:26:22.563324Z",
     "shell.execute_reply": "2023-11-29T07:26:22.562533Z",
     "shell.execute_reply.started": "2023-11-29T07:26:22.557191Z"
    },
    "tags": []
   },
   "outputs": [
    {
     "data": {
      "text/plain": [
       "['/home2/s20321005/Thesis-Project/4_Vertical_Number',\n",
       " '/home2/s20321005/.conda/envs/vaex/lib/python38.zip',\n",
       " '/home2/s20321005/.conda/envs/vaex/lib/python3.8',\n",
       " '/home2/s20321005/.conda/envs/vaex/lib/python3.8/lib-dynload',\n",
       " '',\n",
       " '/home2/s20321005/.local/lib/python3.8/site-packages',\n",
       " '/home2/s20321005/.conda/envs/vaex/lib/python3.8/site-packages',\n",
       " '/home2/s20321005/Thesis-Project']"
      ]
     },
     "execution_count": 3,
     "metadata": {},
     "output_type": "execute_result"
    }
   ],
   "source": [
    "if root_dir not in sys.path:\n",
    "    sys.path.append(root_dir)\n",
    "sys.path"
   ]
  },
  {
   "cell_type": "code",
   "execution_count": 4,
   "metadata": {
    "execution": {
     "iopub.execute_input": "2023-11-29T07:26:24.540986Z",
     "iopub.status.busy": "2023-11-29T07:26:24.540545Z",
     "iopub.status.idle": "2023-11-29T07:26:25.888444Z",
     "shell.execute_reply": "2023-11-29T07:26:25.887590Z",
     "shell.execute_reply.started": "2023-11-29T07:26:24.540945Z"
    },
    "tags": []
   },
   "outputs": [],
   "source": [
    "from utils import safe_mkdir, style\n",
    "\n",
    "style()"
   ]
  },
  {
   "cell_type": "code",
   "execution_count": 5,
   "metadata": {
    "execution": {
     "iopub.execute_input": "2023-11-29T07:26:27.452898Z",
     "iopub.status.busy": "2023-11-29T07:26:27.452460Z",
     "iopub.status.idle": "2023-11-29T07:26:27.457250Z",
     "shell.execute_reply": "2023-11-29T07:26:27.456359Z",
     "shell.execute_reply.started": "2023-11-29T07:26:27.452856Z"
    },
    "tags": []
   },
   "outputs": [],
   "source": [
    "root_data_dir = abspath(join(root_dir, \"Data\"))\n",
    "comp_dir = join(root_data_dir, \"Effective-Completeness\")\n",
    "spectral_dir = join(root_data_dir, \"Color\")"
   ]
  },
  {
   "cell_type": "code",
   "execution_count": 6,
   "metadata": {
    "execution": {
     "iopub.execute_input": "2023-11-29T07:26:29.512121Z",
     "iopub.status.busy": "2023-11-29T07:26:29.511667Z",
     "iopub.status.idle": "2023-11-29T07:26:29.524101Z",
     "shell.execute_reply": "2023-11-29T07:26:29.523217Z",
     "shell.execute_reply.started": "2023-11-29T07:26:29.512079Z"
    },
    "tags": []
   },
   "outputs": [
    {
     "name": "stdout",
     "output_type": "stream",
     "text": [
      "Directory /home2/s20321005/Thesis-Project/Data/Effective-Volume already exist. Good to go!\n"
     ]
    }
   ],
   "source": [
    "data_dir = join(root_data_dir, \"Effective-Volume\")\n",
    "safe_mkdir(data_dir)"
   ]
  },
  {
   "cell_type": "code",
   "execution_count": 7,
   "metadata": {
    "execution": {
     "iopub.execute_input": "2023-11-29T07:38:21.691313Z",
     "iopub.status.busy": "2023-11-29T07:38:21.690855Z",
     "iopub.status.idle": "2023-11-29T07:38:21.711731Z",
     "shell.execute_reply": "2023-11-29T07:38:21.710947Z",
     "shell.execute_reply.started": "2023-11-29T07:38:21.691271Z"
    },
    "tags": []
   },
   "outputs": [
    {
     "data": {
      "text/plain": [
       "['/home2/s20321005/Thesis-Project/Data/Effective-Completeness/comp_(-0.019)_(0.124).hdf5',\n",
       " '/home2/s20321005/Thesis-Project/Data/Effective-Completeness/comp_(0.124)_(0.188).hdf5',\n",
       " '/home2/s20321005/Thesis-Project/Data/Effective-Completeness/comp_(0.188)_(0.219).hdf5',\n",
       " '/home2/s20321005/Thesis-Project/Data/Effective-Completeness/comp_(0.219)_(0.241).hdf5',\n",
       " '/home2/s20321005/Thesis-Project/Data/Effective-Completeness/comp_(0.241)_(0.259).hdf5',\n",
       " '/home2/s20321005/Thesis-Project/Data/Effective-Completeness/comp_(0.259)_(0.275).hdf5',\n",
       " '/home2/s20321005/Thesis-Project/Data/Effective-Completeness/comp_(0.275)_(0.288).hdf5',\n",
       " '/home2/s20321005/Thesis-Project/Data/Effective-Completeness/comp_(0.288)_(0.300).hdf5',\n",
       " '/home2/s20321005/Thesis-Project/Data/Effective-Completeness/comp_(0.300)_(0.312).hdf5',\n",
       " '/home2/s20321005/Thesis-Project/Data/Effective-Completeness/comp_(0.312)_(0.323).hdf5',\n",
       " '/home2/s20321005/Thesis-Project/Data/Effective-Completeness/comp_(0.323)_(0.333).hdf5',\n",
       " '/home2/s20321005/Thesis-Project/Data/Effective-Completeness/comp_(0.333)_(0.343).hdf5',\n",
       " '/home2/s20321005/Thesis-Project/Data/Effective-Completeness/comp_(0.343)_(0.353).hdf5',\n",
       " '/home2/s20321005/Thesis-Project/Data/Effective-Completeness/comp_(0.353)_(0.362).hdf5',\n",
       " '/home2/s20321005/Thesis-Project/Data/Effective-Completeness/comp_(0.362)_(0.376).hdf5']"
      ]
     },
     "execution_count": 7,
     "metadata": {},
     "output_type": "execute_result"
    }
   ],
   "source": [
    "files = glob(join(comp_dir, \"*.hdf5\"))\n",
    "files.sort()\n",
    "files = files[:15]\n",
    "files"
   ]
  },
  {
   "cell_type": "code",
   "execution_count": 8,
   "metadata": {
    "execution": {
     "iopub.execute_input": "2023-11-29T07:38:29.347877Z",
     "iopub.status.busy": "2023-11-29T07:38:29.347445Z",
     "iopub.status.idle": "2023-11-29T07:38:29.353434Z",
     "shell.execute_reply": "2023-11-29T07:38:29.352723Z",
     "shell.execute_reply.started": "2023-11-29T07:38:29.347838Z"
    },
    "tags": []
   },
   "outputs": [
    {
     "data": {
      "text/plain": [
       "'comp_(-0.019)_(0.124).hdf5'"
      ]
     },
     "execution_count": 8,
     "metadata": {},
     "output_type": "execute_result"
    }
   ],
   "source": [
    "index = 0\n",
    "name = files[index].split(\"/\")[-1]\n",
    "name"
   ]
  },
  {
   "cell_type": "code",
   "execution_count": 9,
   "metadata": {
    "execution": {
     "iopub.execute_input": "2023-11-29T07:38:31.492774Z",
     "iopub.status.busy": "2023-11-29T07:38:31.492338Z",
     "iopub.status.idle": "2023-11-29T07:38:31.513433Z",
     "shell.execute_reply": "2023-11-29T07:38:31.512668Z",
     "shell.execute_reply.started": "2023-11-29T07:38:31.492731Z"
    },
    "tags": []
   },
   "outputs": [
    {
     "data": {
      "text/html": [
       "<table>\n",
       "<thead>\n",
       "<tr><th>#                             </th><th>dm                 </th><th>comp                  </th></tr>\n",
       "</thead>\n",
       "<tbody>\n",
       "<tr><td><i style='opacity: 0.6'>0</i> </td><td>-4.0               </td><td>1.6664531912078738e-10</td></tr>\n",
       "<tr><td><i style='opacity: 0.6'>1</i> </td><td>-3.808080808080808 </td><td>5.629656939656256e-10 </td></tr>\n",
       "<tr><td><i style='opacity: 0.6'>2</i> </td><td>-3.6161616161616164</td><td>1.8265418071756009e-09</td></tr>\n",
       "<tr><td><i style='opacity: 0.6'>3</i> </td><td>-3.4242424242424243</td><td>5.692408691587433e-09 </td></tr>\n",
       "<tr><td><i style='opacity: 0.6'>4</i> </td><td>-3.2323232323232323</td><td>1.7043004586889648e-08</td></tr>\n",
       "<tr><td>...                           </td><td>...                </td><td>...                   </td></tr>\n",
       "<tr><td><i style='opacity: 0.6'>95</i></td><td>14.232323232323232 </td><td>0.010108456733988627  </td></tr>\n",
       "<tr><td><i style='opacity: 0.6'>96</i></td><td>14.424242424242422 </td><td>0.006049613030132633  </td></tr>\n",
       "<tr><td><i style='opacity: 0.6'>97</i></td><td>14.616161616161616 </td><td>0.0035029242589121232 </td></tr>\n",
       "<tr><td><i style='opacity: 0.6'>98</i></td><td>14.808080808080806 </td><td>0.001961540113989624  </td></tr>\n",
       "<tr><td><i style='opacity: 0.6'>99</i></td><td>15.0               </td><td>0.0010617797742916682 </td></tr>\n",
       "</tbody>\n",
       "</table>"
      ],
      "text/plain": [
       "#    dm                   comp\n",
       "0    -4.0                 1.6664531912078738e-10\n",
       "1    -3.808080808080808   5.629656939656256e-10\n",
       "2    -3.6161616161616164  1.8265418071756009e-09\n",
       "3    -3.4242424242424243  5.692408691587433e-09\n",
       "4    -3.2323232323232323  1.7043004586889648e-08\n",
       "...  ...                  ...\n",
       "95   14.232323232323232   0.010108456733988627\n",
       "96   14.424242424242422   0.006049613030132633\n",
       "97   14.616161616161616   0.0035029242589121232\n",
       "98   14.808080808080806   0.001961540113989624\n",
       "99   15.0                 0.0010617797742916682"
      ]
     },
     "execution_count": 9,
     "metadata": {},
     "output_type": "execute_result"
    }
   ],
   "source": [
    "df_comp = vaex.open(join(comp_dir, name))\n",
    "df_comp"
   ]
  },
  {
   "cell_type": "code",
   "execution_count": 10,
   "metadata": {
    "execution": {
     "iopub.execute_input": "2023-11-29T07:38:33.546080Z",
     "iopub.status.busy": "2023-11-29T07:38:33.545640Z",
     "iopub.status.idle": "2023-11-29T07:38:33.925133Z",
     "shell.execute_reply": "2023-11-29T07:38:33.924337Z",
     "shell.execute_reply.started": "2023-11-29T07:38:33.546036Z"
    },
    "tags": []
   },
   "outputs": [
    {
     "data": {
      "image/png": "[encoded data removed]",
      "text/plain": [
       "<Figure size 432x288 with 1 Axes>"
      ]
     },
     "metadata": {
      "needs_background": "light"
     },
     "output_type": "display_data"
    }
   ],
   "source": [
    "compDM = df_comp[\"comp\"].to_numpy()\n",
    "DM = df_comp[\"dm\"].to_numpy()\n",
    "\n",
    "# plot\n",
    "plt.plot(DM, compDM)\n",
    "plt.xlabel(\"DM\")\n",
    "plt.ylabel(\"Completeness\")\n",
    "plt.show()\n"
   ]
  },
  {
   "cell_type": "markdown",
   "metadata": {},
   "source": [
    "# plot for all"
   ]
  },
  {
   "cell_type": "code",
   "execution_count": 11,
   "metadata": {
    "execution": {
     "iopub.execute_input": "2023-11-29T07:39:09.327411Z",
     "iopub.status.busy": "2023-11-29T07:39:09.326955Z",
     "iopub.status.idle": "2023-11-29T07:39:09.332634Z",
     "shell.execute_reply": "2023-11-29T07:39:09.331839Z",
     "shell.execute_reply.started": "2023-11-29T07:39:09.327370Z"
    },
    "tags": []
   },
   "outputs": [],
   "source": [
    "bound = np.load(join(root_data_dir, \"boundaries.npy\"))\n",
    "c1 = bound[:,0]\n",
    "c2 = bound[:,1]"
   ]
  },
  {
   "cell_type": "code",
   "execution_count": 12,
   "metadata": {
    "execution": {
     "iopub.execute_input": "2023-11-29T07:40:42.526491Z",
     "iopub.status.busy": "2023-11-29T07:40:42.525903Z",
     "iopub.status.idle": "2023-11-29T07:40:42.962376Z",
     "shell.execute_reply": "2023-11-29T07:40:42.961657Z",
     "shell.execute_reply.started": "2023-11-29T07:40:42.526433Z"
    },
    "tags": []
   },
   "outputs": [
    {
     "data": {
      "image/png": "[encoded data removed]",
      "text/plain": [
       "<Figure size 504x288 with 1 Axes>"
      ]
     },
     "metadata": {
      "needs_background": "light"
     },
     "output_type": "display_data"
    },
    {
     "data": {
      "text/plain": [
       "'comp_(0.343)_(0.353).hdf5'"
      ]
     },
     "execution_count": 12,
     "metadata": {},
     "output_type": "execute_result"
    }
   ],
   "source": [
    "import re\n",
    "\n",
    "# regex to extract number between ()\n",
    "regex = re.compile(r\"\\((.*?)\\)\")\n",
    "\n",
    "# plot\n",
    "fig, ax = plt.subplots(figsize=(7, 4))\n",
    "for file, bo in zip(files[::3], bound[::3]):\n",
    "    name = file.split(\"/\")[-1]\n",
    "    df_comp = vaex.open(join(comp_dir, name))\n",
    "    compDM = df_comp[\"comp\"].to_numpy()\n",
    "    DM = df_comp[\"dm\"].to_numpy()\n",
    "    ax.plot(DM, compDM, label=r\"${}\\leq J-K_s < {}$\".format(np.round(bo[0],3), np.round(bo[1],3)), alpha=0.5)\n",
    "ax.set_xlabel(\"Modulus jarak\")\n",
    "ax.set_ylabel(\"Kelengkapan\")\n",
    "ax.set_ylim(0, 1)\n",
    "ax.grid()\n",
    "ax.legend(loc='center left', bbox_to_anchor=(1, 0.5))\n",
    "fig.suptitle(\"Fungsi Kelengkapan\", fontsize=14)\n",
    "fig.tight_layout()\n",
    "fig.subplots_adjust(top=0.90)\n",
    "# fig.savefig(join('..', 'img', \"fungsi-kelengkapan-no.pdf\"), dpi=200)\n",
    "plt.show()\n",
    "\n",
    "name"
   ]
  },
  {
   "cell_type": "markdown",
   "metadata": {},
   "source": [
    "interpolate compDM, set to 0 if beyond the range"
   ]
  },
  {
   "cell_type": "code",
   "execution_count": 13,
   "metadata": {
    "execution": {
     "iopub.execute_input": "2023-11-29T07:40:49.809630Z",
     "iopub.status.busy": "2023-11-29T07:40:49.809313Z",
     "iopub.status.idle": "2023-11-29T07:40:49.816301Z",
     "shell.execute_reply": "2023-11-29T07:40:49.815571Z",
     "shell.execute_reply.started": "2023-11-29T07:40:49.809603Z"
    },
    "tags": []
   },
   "outputs": [
    {
     "data": {
      "text/plain": [
       "array(0.)"
      ]
     },
     "execution_count": 13,
     "metadata": {},
     "output_type": "execute_result"
    }
   ],
   "source": [
    "compDM_interp = interpolate.interp1d(DM, compDM, fill_value=0, bounds_error=False, kind=\"cubic\")\n",
    "\n",
    "compDM_interp(-20)"
   ]
  },
  {
   "cell_type": "code",
   "execution_count": 14,
   "metadata": {
    "execution": {
     "iopub.execute_input": "2023-11-29T07:40:51.928605Z",
     "iopub.status.busy": "2023-11-29T07:40:51.928057Z",
     "iopub.status.idle": "2023-11-29T07:40:52.175220Z",
     "shell.execute_reply": "2023-11-29T07:40:52.174508Z",
     "shell.execute_reply.started": "2023-11-29T07:40:51.928555Z"
    },
    "tags": []
   },
   "outputs": [
    {
     "data": {
      "image/png": "[encoded data removed]",
      "text/plain": [
       "<Figure size 432x288 with 1 Axes>"
      ]
     },
     "metadata": {
      "needs_background": "light"
     },
     "output_type": "display_data"
    }
   ],
   "source": [
    "dms = np.linspace(-5, 20, 1000)\n",
    "compDMs = compDM_interp(dms)\n",
    "\n",
    "# plot\n",
    "plt.plot(dms, compDMs)\n",
    "plt.xlabel(\"DM\")\n",
    "plt.ylabel(\"Completeness\")\n",
    "plt.show()"
   ]
  },
  {
   "cell_type": "code",
   "execution_count": 15,
   "metadata": {
    "execution": {
     "iopub.execute_input": "2023-11-29T07:40:53.929384Z",
     "iopub.status.busy": "2023-11-29T07:40:53.928834Z",
     "iopub.status.idle": "2023-11-29T07:40:53.934521Z",
     "shell.execute_reply": "2023-11-29T07:40:53.933228Z",
     "shell.execute_reply.started": "2023-11-29T07:40:53.929333Z"
    },
    "tags": []
   },
   "outputs": [],
   "source": [
    "R = 150\n",
    "Z = 300"
   ]
  },
  {
   "cell_type": "code",
   "execution_count": 16,
   "metadata": {
    "execution": {
     "iopub.execute_input": "2023-11-29T07:40:55.946179Z",
     "iopub.status.busy": "2023-11-29T07:40:55.945631Z",
     "iopub.status.idle": "2023-11-29T07:40:55.954203Z",
     "shell.execute_reply": "2023-11-29T07:40:55.952882Z",
     "shell.execute_reply.started": "2023-11-29T07:40:55.946128Z"
    },
    "tags": []
   },
   "outputs": [],
   "source": [
    "# divide space into small tube with rings\n",
    "ez = np.linspace(-Z, Z, 100) #edges\n",
    "er = np.linspace(0, R, 100)\n",
    "z = (ez[:-1]+ez[1:])/2\n",
    "r = (er[:-1]+er[1:])/2\n",
    "\n",
    "dz = ez[1]-ez[0]"
   ]
  },
  {
   "cell_type": "code",
   "execution_count": 17,
   "metadata": {
    "execution": {
     "iopub.execute_input": "2023-11-29T07:40:58.665460Z",
     "iopub.status.busy": "2023-11-29T07:40:58.664910Z",
     "iopub.status.idle": "2023-11-29T07:40:59.104719Z",
     "shell.execute_reply": "2023-11-29T07:40:59.104067Z",
     "shell.execute_reply.started": "2023-11-29T07:40:58.665410Z"
    },
    "tags": []
   },
   "outputs": [
    {
     "name": "stderr",
     "output_type": "stream",
     "text": [
      "100%|██████████| 99/99 [00:00<00:00, 214.80it/s]\n"
     ]
    }
   ],
   "source": [
    "from tqdm import tqdm\n",
    "\n",
    "frac = []\n",
    "for zz in tqdm(z):\n",
    "    real_vol = 0\n",
    "    eff_vol = 0\n",
    "    for j, (rr, r_in, r_out) in enumerate(zip(r, er[:-1], er[1:])):\n",
    "        glat = np.arctan(zz/rr)\n",
    "        dv = np.pi*(r_out**2-r_in**2)*dz\n",
    "        real_vol += dv\n",
    "        distance =np.sqrt(rr**2+zz**2)\n",
    "        dm = 5*np.log10(distance)-5\n",
    "        # b = np.arctan(zz/rr)\n",
    "        # if np.abs(zz) < 50:\n",
    "        eff_vol += dv*compDM_interp(dm)\n",
    "    frac.append(eff_vol/real_vol)\n"
   ]
  },
  {
   "cell_type": "code",
   "execution_count": 18,
   "metadata": {
    "execution": {
     "iopub.execute_input": "2023-11-29T07:41:01.300624Z",
     "iopub.status.busy": "2023-11-29T07:41:01.300240Z",
     "iopub.status.idle": "2023-11-29T07:41:01.547610Z",
     "shell.execute_reply": "2023-11-29T07:41:01.547048Z",
     "shell.execute_reply.started": "2023-11-29T07:41:01.300589Z"
    },
    "tags": []
   },
   "outputs": [
    {
     "data": {
      "text/plain": [
       "(0.0, 1.0)"
      ]
     },
     "execution_count": 18,
     "metadata": {},
     "output_type": "execute_result"
    },
    {
     "data": {
      "image/png": "[encoded data removed]",
      "text/plain": [
       "<Figure size 432x288 with 1 Axes>"
      ]
     },
     "metadata": {
      "needs_background": "light"
     },
     "output_type": "display_data"
    }
   ],
   "source": [
    "plt.plot(z, frac)\n",
    "plt.ylim(0,1)"
   ]
  },
  {
   "cell_type": "markdown",
   "metadata": {},
   "source": [
    "# all out"
   ]
  },
  {
   "cell_type": "markdown",
   "metadata": {},
   "source": [
    "only for index 0 and 2, cut the midplane"
   ]
  },
  {
   "cell_type": "code",
   "execution_count": 20,
   "metadata": {
    "execution": {
     "iopub.execute_input": "2023-11-29T07:42:07.214042Z",
     "iopub.status.busy": "2023-11-29T07:42:07.213602Z",
     "iopub.status.idle": "2023-11-29T07:42:35.884127Z",
     "shell.execute_reply": "2023-11-29T07:42:35.883278Z",
     "shell.execute_reply.started": "2023-11-29T07:42:07.214001Z"
    },
    "tags": []
   },
   "outputs": [
    {
     "name": "stderr",
     "output_type": "stream",
     "text": [
      "100%|██████████| 499/499 [00:02<00:00, 212.45it/s]\n",
      "100%|██████████| 499/499 [00:02<00:00, 212.22it/s]\n",
      "100%|██████████| 499/499 [00:02<00:00, 210.47it/s]\n",
      "100%|██████████| 499/499 [00:02<00:00, 209.67it/s]\n",
      "100%|██████████| 499/499 [00:02<00:00, 217.46it/s]\n",
      "100%|██████████| 499/499 [00:02<00:00, 209.85it/s]\n",
      "100%|██████████| 499/499 [00:02<00:00, 216.44it/s]\n",
      "100%|██████████| 499/499 [00:02<00:00, 214.91it/s]\n",
      "100%|██████████| 499/499 [00:02<00:00, 214.09it/s]\n",
      "100%|██████████| 499/499 [00:02<00:00, 204.95it/s]\n",
      "100%|██████████| 499/499 [00:02<00:00, 211.21it/s]\n",
      "100%|██████████| 499/499 [00:02<00:00, 209.53it/s]\n",
      "100%|██████████| 499/499 [00:02<00:00, 215.18it/s]\n",
      "100%|██████████| 499/499 [00:02<00:00, 217.16it/s]\n",
      "100%|██████████| 499/499 [00:02<00:00, 217.50it/s]\n"
     ]
    },
    {
     "data": {
      "image/png": "[encoded data removed]",
      "text/plain": [
       "<Figure size 432x288 with 1 Axes>"
      ]
     },
     "metadata": {
      "needs_background": "light"
     },
     "output_type": "display_data"
    }
   ],
   "source": [
    "from tqdm import tqdm\n",
    "import re\n",
    "import matplotlib.pylab as pl\n",
    "\n",
    "# regex to extract number between ()\n",
    "regex = re.compile(r\"\\((.*?)\\)\")\n",
    "Z = 300\n",
    "R = 150\n",
    "ez = np.linspace(-Z, Z, 500) #edges\n",
    "er = np.linspace(0, R, 200)\n",
    "z = (ez[:-1]+ez[1:])/2\n",
    "r = (er[:-1]+er[1:])/2\n",
    "dms = np.linspace(-20, 20, 1000)\n",
    "dz = ez[1]-ez[0]\n",
    "colors = pl.cm.jet(np.linspace(0,1,len(files)))\n",
    "fig, ax = plt.subplots(figsize=(6, 4))\n",
    "fracs = np.empty((len(files), len(z)))\n",
    "names = []\n",
    "for i, (file, bo) in enumerate(zip(files, bound)):\n",
    "    name = file.split(\"/\")[-1]\n",
    "    names.append(name)\n",
    "    df_comp = vaex.open(join(comp_dir, name))\n",
    "    compDM = df_comp[\"comp\"].to_numpy()\n",
    "    DM = df_comp[\"dm\"].to_numpy()\n",
    "    compDM_interp = interpolate.interp1d(DM, compDM, fill_value=0, bounds_error=False)\n",
    "    compDMs = compDM_interp(dms)\n",
    "    # plt.plot(dms, compDMs, color=colors[i], alpha=0.5)\n",
    "    # continue\n",
    "    frac = []\n",
    "    for zz in tqdm(z):\n",
    "        real_vol = 0\n",
    "        eff_vol = 0\n",
    "        for j, (rr, r_in, r_out) in enumerate(zip(r, er[:-1], er[1:])):\n",
    "            glat = np.arctan(zz/rr)\n",
    "            dv = np.pi*(r_out**2-r_in**2)*dz\n",
    "            real_vol += dv\n",
    "            distance =np.sqrt(rr**2+zz**2)\n",
    "            dm = 5*np.log10(distance)-5\n",
    "            b = np.arctan(zz/rr)\n",
    "            # if np.abs(zz) < 13.79310345 and i < 1:\n",
    "            #     continue\n",
    "            eff_vol += dv*compDM_interp(dm)\n",
    "        frac.append(eff_vol/real_vol)\n",
    "    # if i % 4 == 0:\n",
    "        # ax.plot(z, frac, label=r\"${}\\leq c < {}$\".format(c[0], c[1]), alpha=0.5)\n",
    "    ax.plot(z, frac, label=r\"${}\\leq c < {}$\".format(np.round(bo[0],3), np.round(bo[1],3)), alpha=0.5)\n",
    "    fracs[i] = frac\n",
    "    df = vaex.from_arrays(z=z, frac=frac)\n",
    "    # df.export(join(data_dir, name), progress=True)\n",
    "# ax.set_xlabel(r\"$z$ (pc)\")\n",
    "# ax.set_ylabel(\"Kelengkapan Efektif\")\n",
    "# ax.grid()\n",
    "# ax.set_ylim(0,1)\n",
    "# ax.set_xlim(-Z, Z)\n",
    "# ax.legend(loc='center left', bbox_to_anchor=(1, 0.5))\n",
    "# fig.suptitle(\"Fungsi Kelengkapan Efektif\", fontsize=14)\n",
    "# fig.tight_layout()\n",
    "# fig.subplots_adjust(top=0.90)\n",
    "# fig.savefig(join('..', 'img', \"fungsi-kelengkapan-efektif.pdf\"), dpi=200)"
   ]
  },
  {
   "cell_type": "code",
   "execution_count": 21,
   "metadata": {
    "execution": {
     "iopub.execute_input": "2023-11-29T07:42:42.848793Z",
     "iopub.status.busy": "2023-11-29T07:42:42.848352Z",
     "iopub.status.idle": "2023-11-29T07:42:42.854311Z",
     "shell.execute_reply": "2023-11-29T07:42:42.853540Z",
     "shell.execute_reply.started": "2023-11-29T07:42:42.848752Z"
    },
    "tags": []
   },
   "outputs": [
    {
     "data": {
      "text/plain": [
       "15"
      ]
     },
     "execution_count": 21,
     "metadata": {},
     "output_type": "execute_result"
    }
   ],
   "source": [
    "len(fracs)"
   ]
  },
  {
   "cell_type": "code",
   "execution_count": 22,
   "metadata": {
    "execution": {
     "iopub.execute_input": "2023-11-29T07:28:13.270876Z",
     "iopub.status.busy": "2023-11-29T07:28:13.270615Z",
     "iopub.status.idle": "2023-11-29T07:28:13.288772Z",
     "shell.execute_reply": "2023-11-29T07:28:13.287997Z",
     "shell.execute_reply.started": "2023-11-29T07:28:13.270851Z"
    }
   },
   "outputs": [],
   "source": [
    "# import re\n",
    "# c1, c2 = [], []\n",
    "# # get the value between () of the file name\n",
    "# for f in names:\n",
    "#     c1.append(float(re.findall(r'\\((.*?)\\)', f)[0]))\n",
    "#     c2.append(float(re.findall(r'\\((.*?)\\)', f)[1]))\n",
    "# c1 = np.array(c1)\n",
    "# c2 = np.array(c2)\n",
    "# c = 0.5*(c1+c2)\n",
    "# c"
   ]
  },
  {
   "cell_type": "code",
   "execution_count": 23,
   "metadata": {
    "execution": {
     "iopub.execute_input": "2023-11-29T07:30:16.027224Z",
     "iopub.status.busy": "2023-11-29T07:30:16.026770Z",
     "iopub.status.idle": "2023-11-29T07:30:16.032459Z",
     "shell.execute_reply": "2023-11-29T07:30:16.031685Z",
     "shell.execute_reply.started": "2023-11-29T07:30:16.027175Z"
    },
    "tags": []
   },
   "outputs": [
    {
     "data": {
      "text/plain": [
       "499"
      ]
     },
     "execution_count": 23,
     "metadata": {},
     "output_type": "execute_result"
    }
   ],
   "source": [
    "len(fracs[0])"
   ]
  },
  {
   "cell_type": "code",
   "execution_count": 24,
   "metadata": {
    "execution": {
     "iopub.execute_input": "2023-11-29T07:44:58.528799Z",
     "iopub.status.busy": "2023-11-29T07:44:58.528285Z",
     "iopub.status.idle": "2023-11-29T07:44:59.298966Z",
     "shell.execute_reply": "2023-11-29T07:44:59.298312Z",
     "shell.execute_reply.started": "2023-11-29T07:44:58.528752Z"
    },
    "tags": []
   },
   "outputs": [
    {
     "data": {
      "image/png": "[encoded data removed]",
      "text/plain": [
       "<Figure size 432x288 with 1 Axes>"
      ]
     },
     "metadata": {
      "needs_background": "light"
     },
     "output_type": "display_data"
    }
   ],
   "source": [
    "i_samples = [0, 1, 8, 12]\n",
    "style_samples = [\"solid\", \"dotted\", \"dashed\", \"dashdot\"]\n",
    "color_samples = [\"red\", \"black\", \"green\", \"blue\"]\n",
    "\n",
    "for i, ls, color in zip(i_samples, style_samples, color_samples):\n",
    "  plt.plot(z, fracs[i], label=r\"${}\\leq J-K_s < {}$\".format(np.round(c1[i],3), np.round(c2[i],3)), ls=ls, c=color)\n",
    "plt.ylim(0.6,0.85)\n",
    "plt.xlim(-200, 200)\n",
    "plt.ylabel(\"Effective volume completeness\")\n",
    "plt.xlabel(r\"$z$ (pc)\")\n",
    "plt.legend()\n",
    "# plt.xlim(-Z, Z)\n",
    "plt.savefig(join('img', \"eff-volume.pdf\"), dpi=70)\n",
    "plt.show()"
   ]
  },
  {
   "cell_type": "code",
   "execution_count": 25,
   "metadata": {},
   "outputs": [
    {
     "name": "stdout",
     "output_type": "stream",
     "text": [
      "export(hdf5) [########################################] 100.00% elapsed time  :     0.02s =  0.0m =  0.0h\n",
      "export(hdf5) [########################################] 100.00% elapsed time  :     0.01s =  0.0m =  0.0h\n",
      "export(hdf5) [########################################] 100.00% elapsed time  :     0.01s =  0.0m =  0.0h\n",
      "export(hdf5) [########################################] 100.00% elapsed time  :     0.01s =  0.0m =  0.0h\n",
      "export(hdf5) [########################################] 100.00% elapsed time  :     0.01s =  0.0m =  0.0h\n",
      "export(hdf5) [########################################] 100.00% elapsed time  :     0.01s =  0.0m =  0.0h\n",
      "export(hdf5) [########################################] 100.00% elapsed time  :     0.01s =  0.0m =  0.0h\n",
      "export(hdf5) [########################################] 100.00% elapsed time  :     0.01s =  0.0m =  0.0h\n",
      "export(hdf5) [########################################] 100.00% elapsed time  :     0.01s =  0.0m =  0.0h\n",
      "export(hdf5) [########################################] 100.00% elapsed time  :     0.01s =  0.0m =  0.0h\n",
      "export(hdf5) [########################################] 100.00% elapsed time  :     0.01s =  0.0m =  0.0h\n",
      "export(hdf5) [########################################] 100.00% elapsed time  :     0.01s =  0.0m =  0.0h\n",
      "export(hdf5) [########################################] 100.00% elapsed time  :     0.01s =  0.0m =  0.0h\n",
      "export(hdf5) [########################################] 100.00% elapsed time  :     0.01s =  0.0m =  0.0h\n",
      "export(hdf5) [########################################] 100.00% elapsed time  :     0.01s =  0.0m =  0.0h\n",
      " "
     ]
    },
    {
     "data": {
      "image/png": "[encoded data removed]",
      "text/plain": [
       "<Figure size 432x288 with 1 Axes>"
      ]
     },
     "metadata": {
      "needs_background": "light"
     },
     "output_type": "display_data"
    }
   ],
   "source": [
    "for frac, name in zip(fracs, names):\n",
    "    plt.plot(z, frac)\n",
    "    plt.ylim(0,1)\n",
    "\n",
    "    df  = vaex.from_arrays(z=z, frac=frac)\n",
    "    # print(df)\n",
    "    df.export(join(data_dir, name), progress=True)"
   ]
  }
 ],
 "metadata": {
  "kernelspec": {
   "display_name": "Python 3",
   "language": "python",
   "name": "python3"
  },
  "language_info": {
   "codemirror_mode": {
    "name": "ipython",
    "version": 3
   },
   "file_extension": ".py",
   "mimetype": "text/x-python",
   "name": "python",
   "nbconvert_exporter": "python",
   "pygments_lexer": "ipython3",
   "version": "3.8.10"
  },
  "vscode": {
   "interpreter": {
    "hash": "2e98b01e139963c1272b06356b7ab7b4729889064e74152a80e8f95bb2c4292e"
   }
  }
 },
 "nbformat": 4,
 "nbformat_minor": 4
}
