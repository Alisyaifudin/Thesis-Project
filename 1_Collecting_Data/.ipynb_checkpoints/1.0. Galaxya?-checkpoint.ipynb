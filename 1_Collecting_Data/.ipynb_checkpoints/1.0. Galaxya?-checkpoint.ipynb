{
 "cells": [
  {
   "cell_type": "code",
   "execution_count": 1,
   "id": "8a433438-e254-4b6a-94d7-1c5c144eb78d",
   "metadata": {
    "execution": {
     "iopub.execute_input": "2023-01-15T12:02:26.743536Z",
     "iopub.status.busy": "2023-01-15T12:02:26.742929Z",
     "iopub.status.idle": "2023-01-15T12:02:36.370432Z",
     "shell.execute_reply": "2023-01-15T12:02:36.369211Z",
     "shell.execute_reply.started": "2023-01-15T12:02:26.743469Z"
    }
   },
   "outputs": [],
   "source": [
    "from astroquery.utils.tap.core import Tap\n",
    "import vaex\n",
    "import numpy as np\n",
    "from datetime import datetime\n",
    "from time import time\n",
    "from astroquery.gaia import Gaia\n",
    "from os.path import join, abspath\n",
    "from os import pardir, mkdir\n",
    "from glob import glob\n",
    "import sys"
   ]
  },
  {
   "cell_type": "code",
   "execution_count": 2,
   "id": "7f4476b8-223e-4c71-834c-2ff2a72ec2f2",
   "metadata": {
    "execution": {
     "iopub.execute_input": "2023-01-15T12:04:38.627788Z",
     "iopub.status.busy": "2023-01-15T12:04:38.627137Z",
     "iopub.status.idle": "2023-01-15T12:04:39.939208Z",
     "shell.execute_reply": "2023-01-15T12:04:39.938497Z",
     "shell.execute_reply.started": "2023-01-15T12:04:38.627729Z"
    }
   },
   "outputs": [],
   "source": [
    "# import utils\n",
    "util_dir = abspath(pardir)\n",
    "sys.path.insert(0, util_dir)\n",
    "\n",
    "from utils import timeout, progressbar, appendName"
   ]
  },
  {
   "cell_type": "code",
   "execution_count": 3,
   "id": "99b9299c-9ad0-4731-8200-709aa9af7c04",
   "metadata": {
    "execution": {
     "iopub.execute_input": "2023-01-15T12:04:44.928893Z",
     "iopub.status.busy": "2023-01-15T12:04:44.928284Z",
     "iopub.status.idle": "2023-01-15T12:04:44.942165Z",
     "shell.execute_reply": "2023-01-15T12:04:44.940899Z",
     "shell.execute_reply.started": "2023-01-15T12:04:44.928836Z"
    }
   },
   "outputs": [
    {
     "data": {
      "text/plain": [
       "'/home2/s20321005/Thesis-Project/Data'"
      ]
     },
     "execution_count": 3,
     "metadata": {},
     "output_type": "execute_result"
    }
   ],
   "source": [
    "root_data_dir = abspath(join(pardir, \"Data\"))\n",
    "root_data_dir"
   ]
  },
  {
   "cell_type": "code",
   "execution_count": 4,
   "id": "3ea6ffed-0e57-42d9-b4ff-22f70b6b03ef",
   "metadata": {
    "execution": {
     "iopub.execute_input": "2023-01-15T12:05:00.795714Z",
     "iopub.status.busy": "2023-01-15T12:05:00.795108Z",
     "iopub.status.idle": "2023-01-15T12:05:00.858268Z",
     "shell.execute_reply": "2023-01-15T12:05:00.857528Z",
     "shell.execute_reply.started": "2023-01-15T12:05:00.795660Z"
    }
   },
   "outputs": [
    {
     "name": "stdout",
     "output_type": "stream",
     "text": [
      "Creating /home2/s20321005/Thesis-Project/Data/GUMS dir in Data dir\n"
     ]
    }
   ],
   "source": [
    "name = \"GUMS\"\n",
    "gaia_data_dir = join(root_data_dir, name)\n",
    "try:\n",
    "    mkdir(gaia_data_dir)\n",
    "    print(f\"Creating {gaia_data_dir} dir in Data dir\")\n",
    "except FileExistsError:\n",
    "    print(f\"Directory {gaia_data_dir} already exist. Good to go!\")\n"
   ]
  },
  {
   "cell_type": "code",
   "execution_count": 9,
   "id": "8fc9b567-8ac0-4e1c-a118-5f7dfe5e666a",
   "metadata": {
    "execution": {
     "iopub.execute_input": "2023-01-15T12:11:27.845363Z",
     "iopub.status.busy": "2023-01-15T12:11:27.844882Z",
     "iopub.status.idle": "2023-01-15T12:11:27.849653Z",
     "shell.execute_reply": "2023-01-15T12:11:27.848849Z",
     "shell.execute_reply.started": "2023-01-15T12:11:27.845320Z"
    },
    "tags": []
   },
   "outputs": [],
   "source": [
    "columns = [\"ra\", \"dec\", \"barycentric_distance\", \"pmra\", \"pmdec\", \"radial_velocity\",\n",
    "              \"mag_g\", \"mag_bp\", \"mag_rp\", \"feh\", \"alphafe\", \"mass\"]\n"
   ]
  },
  {
   "cell_type": "code",
   "execution_count": 6,
   "id": "aa65561c-6411-41b8-a120-e5f9457e3585",
   "metadata": {
    "execution": {
     "iopub.execute_input": "2023-01-15T12:08:31.931110Z",
     "iopub.status.busy": "2023-01-15T12:08:31.930651Z",
     "iopub.status.idle": "2023-01-15T12:08:31.938516Z",
     "shell.execute_reply": "2023-01-15T12:08:31.937631Z",
     "shell.execute_reply.started": "2023-01-15T12:08:31.931070Z"
    }
   },
   "outputs": [
    {
     "data": {
      "text/plain": [
       "array([  0,  10,  20,  30,  40,  50,  60,  70,  80,  90, 100, 110, 120,\n",
       "       130, 140, 150, 160, 170, 180, 190, 200, 210, 220, 230, 240, 250,\n",
       "       260, 270, 280, 290, 300, 310, 320, 330, 340, 350, 360])"
      ]
     },
     "execution_count": 6,
     "metadata": {},
     "output_type": "execute_result"
    }
   ],
   "source": [
    "# divide into 360 RAs, depend on preference\n",
    "ras = np.arange(0,360+0.1, 10).astype(int)\n",
    "dra = ras[1] - ras[0]\n",
    "ras"
   ]
  },
  {
   "cell_type": "code",
   "execution_count": 7,
   "id": "43a6aecf-eda5-4efe-b09c-e257fb2013bc",
   "metadata": {
    "execution": {
     "iopub.execute_input": "2023-01-15T12:08:50.710844Z",
     "iopub.status.busy": "2023-01-15T12:08:50.710311Z",
     "iopub.status.idle": "2023-01-15T12:08:50.718507Z",
     "shell.execute_reply": "2023-01-15T12:08:50.717556Z",
     "shell.execute_reply.started": "2023-01-15T12:08:50.710795Z"
    }
   },
   "outputs": [
    {
     "data": {
      "text/plain": [
       "array([-90, -60, -30,   0,  30,  60,  90])"
      ]
     },
     "execution_count": 7,
     "metadata": {},
     "output_type": "execute_result"
    }
   ],
   "source": [
    "decs = np.arange(-90,90+0.1,30).astype(int)\n",
    "ddec = decs[1] - decs[0]\n",
    "decs"
   ]
  },
  {
   "cell_type": "code",
   "execution_count": 10,
   "id": "d77c75a5-2aa3-4f3a-aa78-ec12a3201415",
   "metadata": {
    "execution": {
     "iopub.execute_input": "2023-01-15T12:11:31.631962Z",
     "iopub.status.busy": "2023-01-15T12:11:31.631381Z",
     "iopub.status.idle": "2023-01-15T12:11:46.540526Z",
     "shell.execute_reply": "2023-01-15T12:11:46.539428Z",
     "shell.execute_reply.started": "2023-01-15T12:11:31.631909Z"
    },
    "tags": []
   },
   "outputs": [
    {
     "name": "stdout",
     "output_type": "stream",
     "text": [
      "[                                                  ] 0% 0-10\n"
     ]
    },
    {
     "ename": "KeyboardInterrupt",
     "evalue": "",
     "output_type": "error",
     "traceback": [
      "\u001b[0;31m---------------------------------------------------------------------------\u001b[0m",
      "\u001b[0;31mKeyboardInterrupt\u001b[0m                         Traceback (most recent call last)",
      "File \u001b[0;32m~/Thesis-Project/utils.py:49\u001b[0m, in \u001b[0;36mtimeout\u001b[0;34m(func, args, kwargs, timeout_duration, default, minVal, path)\u001b[0m\n\u001b[1;32m     48\u001b[0m \u001b[38;5;28;01mtry\u001b[39;00m:\n\u001b[0;32m---> 49\u001b[0m     result \u001b[38;5;241m=\u001b[39m \u001b[43mfunc\u001b[49m\u001b[43m(\u001b[49m\u001b[38;5;241;43m*\u001b[39;49m\u001b[43margs\u001b[49m\u001b[43m,\u001b[49m\u001b[43m \u001b[49m\u001b[38;5;241;43m*\u001b[39;49m\u001b[38;5;241;43m*\u001b[39;49m\u001b[43mkwargs\u001b[49m\u001b[43m)\u001b[49m\n\u001b[1;32m     50\u001b[0m \u001b[38;5;28;01mexcept\u001b[39;00m \u001b[38;5;167;01mTimeoutError\u001b[39;00m \u001b[38;5;28;01mas\u001b[39;00m exc:\n",
      "File \u001b[0;32m~/.conda/envs/vaex/lib/python3.8/site-packages/astroquery/gaia/core.py:854\u001b[0m, in \u001b[0;36mGaiaClass.launch_job\u001b[0;34m(self, query, name, output_file, output_format, verbose, dump_to_file, upload_resource, upload_table_name)\u001b[0m\n\u001b[1;32m    823\u001b[0m \u001b[38;5;124;03m\"\"\"Launches a synchronous job\u001b[39;00m\n\u001b[1;32m    824\u001b[0m \n\u001b[1;32m    825\u001b[0m \u001b[38;5;124;03mParameters\u001b[39;00m\n\u001b[0;32m   (...)\u001b[0m\n\u001b[1;32m    851\u001b[0m \u001b[38;5;124;03mA Job object\u001b[39;00m\n\u001b[1;32m    852\u001b[0m \u001b[38;5;124;03m\"\"\"\u001b[39;00m\n\u001b[0;32m--> 854\u001b[0m \u001b[38;5;28;01mreturn\u001b[39;00m \u001b[43mTapPlus\u001b[49m\u001b[38;5;241;43m.\u001b[39;49m\u001b[43mlaunch_job\u001b[49m\u001b[43m(\u001b[49m\u001b[38;5;28;43mself\u001b[39;49m\u001b[43m,\u001b[49m\u001b[43m \u001b[49m\u001b[43mquery\u001b[49m\u001b[38;5;241;43m=\u001b[39;49m\u001b[43mquery\u001b[49m\u001b[43m,\u001b[49m\u001b[43m \u001b[49m\u001b[43mname\u001b[49m\u001b[38;5;241;43m=\u001b[39;49m\u001b[43mname\u001b[49m\u001b[43m,\u001b[49m\n\u001b[1;32m    855\u001b[0m \u001b[43m                          \u001b[49m\u001b[43moutput_file\u001b[49m\u001b[38;5;241;43m=\u001b[39;49m\u001b[43moutput_file\u001b[49m\u001b[43m,\u001b[49m\n\u001b[1;32m    856\u001b[0m \u001b[43m                          \u001b[49m\u001b[43moutput_format\u001b[49m\u001b[38;5;241;43m=\u001b[39;49m\u001b[43moutput_format\u001b[49m\u001b[43m,\u001b[49m\n\u001b[1;32m    857\u001b[0m \u001b[43m                          \u001b[49m\u001b[43mverbose\u001b[49m\u001b[38;5;241;43m=\u001b[39;49m\u001b[43mverbose\u001b[49m\u001b[43m,\u001b[49m\n\u001b[1;32m    858\u001b[0m \u001b[43m                          \u001b[49m\u001b[43mdump_to_file\u001b[49m\u001b[38;5;241;43m=\u001b[39;49m\u001b[43mdump_to_file\u001b[49m\u001b[43m,\u001b[49m\n\u001b[1;32m    859\u001b[0m \u001b[43m                          \u001b[49m\u001b[43mupload_resource\u001b[49m\u001b[38;5;241;43m=\u001b[39;49m\u001b[43mupload_resource\u001b[49m\u001b[43m,\u001b[49m\n\u001b[1;32m    860\u001b[0m \u001b[43m                          \u001b[49m\u001b[43mupload_table_name\u001b[49m\u001b[38;5;241;43m=\u001b[39;49m\u001b[43mupload_table_name\u001b[49m\u001b[43m)\u001b[49m\n",
      "File \u001b[0;32m~/.conda/envs/vaex/lib/python3.8/site-packages/astroquery/utils/tap/core.py:345\u001b[0m, in \u001b[0;36mTap.launch_job\u001b[0;34m(self, query, name, output_file, output_format, verbose, dump_to_file, upload_resource, upload_table_name)\u001b[0m\n\u001b[1;32m    344\u001b[0m \u001b[38;5;28;01melse\u001b[39;00m:\n\u001b[0;32m--> 345\u001b[0m     results \u001b[38;5;241m=\u001b[39m \u001b[43mutils\u001b[49m\u001b[38;5;241;43m.\u001b[39;49m\u001b[43mread_http_response\u001b[49m\u001b[43m(\u001b[49m\u001b[43mresponse\u001b[49m\u001b[43m,\u001b[49m\u001b[43m \u001b[49m\u001b[43moutput_format\u001b[49m\u001b[43m)\u001b[49m\n\u001b[1;32m    346\u001b[0m     job\u001b[38;5;241m.\u001b[39mset_results(results)\n",
      "File \u001b[0;32m~/.conda/envs/vaex/lib/python3.8/site-packages/astroquery/utils/tap/xmlparser/utils.py:31\u001b[0m, in \u001b[0;36mread_http_response\u001b[0;34m(response, output_format, correct_units)\u001b[0m\n\u001b[1;32m     30\u001b[0m \u001b[38;5;66;03m# If we want to use astropy.table, we have to read the data\u001b[39;00m\n\u001b[0;32m---> 31\u001b[0m data \u001b[38;5;241m=\u001b[39m io\u001b[38;5;241m.\u001b[39mBytesIO(\u001b[43mresponse\u001b[49m\u001b[38;5;241;43m.\u001b[39;49m\u001b[43mread\u001b[49m\u001b[43m(\u001b[49m\u001b[43m)\u001b[49m)\n\u001b[1;32m     33\u001b[0m \u001b[38;5;28;01mtry\u001b[39;00m:\n",
      "File \u001b[0;32m~/.conda/envs/vaex/lib/python3.8/http/client.py:462\u001b[0m, in \u001b[0;36mHTTPResponse.read\u001b[0;34m(self, amt)\u001b[0m\n\u001b[1;32m    461\u001b[0m \u001b[38;5;28;01mif\u001b[39;00m \u001b[38;5;28mself\u001b[39m\u001b[38;5;241m.\u001b[39mchunked:\n\u001b[0;32m--> 462\u001b[0m     \u001b[38;5;28;01mreturn\u001b[39;00m \u001b[38;5;28;43mself\u001b[39;49m\u001b[38;5;241;43m.\u001b[39;49m\u001b[43m_readall_chunked\u001b[49m\u001b[43m(\u001b[49m\u001b[43m)\u001b[49m\n\u001b[1;32m    464\u001b[0m \u001b[38;5;28;01mif\u001b[39;00m \u001b[38;5;28mself\u001b[39m\u001b[38;5;241m.\u001b[39mlength \u001b[38;5;129;01mis\u001b[39;00m \u001b[38;5;28;01mNone\u001b[39;00m:\n",
      "File \u001b[0;32m~/.conda/envs/vaex/lib/python3.8/http/client.py:569\u001b[0m, in \u001b[0;36mHTTPResponse._readall_chunked\u001b[0;34m(self)\u001b[0m\n\u001b[1;32m    568\u001b[0m \u001b[38;5;28;01mwhile\u001b[39;00m \u001b[38;5;28;01mTrue\u001b[39;00m:\n\u001b[0;32m--> 569\u001b[0m     chunk_left \u001b[38;5;241m=\u001b[39m \u001b[38;5;28;43mself\u001b[39;49m\u001b[38;5;241;43m.\u001b[39;49m\u001b[43m_get_chunk_left\u001b[49m\u001b[43m(\u001b[49m\u001b[43m)\u001b[49m\n\u001b[1;32m    570\u001b[0m     \u001b[38;5;28;01mif\u001b[39;00m chunk_left \u001b[38;5;129;01mis\u001b[39;00m \u001b[38;5;28;01mNone\u001b[39;00m:\n",
      "File \u001b[0;32m~/.conda/envs/vaex/lib/python3.8/http/client.py:550\u001b[0m, in \u001b[0;36mHTTPResponse._get_chunk_left\u001b[0;34m(self)\u001b[0m\n\u001b[1;32m    548\u001b[0m \u001b[38;5;28;01mif\u001b[39;00m chunk_left \u001b[38;5;129;01mis\u001b[39;00m \u001b[38;5;129;01mnot\u001b[39;00m \u001b[38;5;28;01mNone\u001b[39;00m:\n\u001b[1;32m    549\u001b[0m     \u001b[38;5;66;03m# We are at the end of chunk, discard chunk end\u001b[39;00m\n\u001b[0;32m--> 550\u001b[0m     \u001b[38;5;28;43mself\u001b[39;49m\u001b[38;5;241;43m.\u001b[39;49m\u001b[43m_safe_read\u001b[49m\u001b[43m(\u001b[49m\u001b[38;5;241;43m2\u001b[39;49m\u001b[43m)\u001b[49m  \u001b[38;5;66;03m# toss the CRLF at the end of the chunk\u001b[39;00m\n\u001b[1;32m    551\u001b[0m \u001b[38;5;28;01mtry\u001b[39;00m:\n",
      "File \u001b[0;32m~/.conda/envs/vaex/lib/python3.8/http/client.py:609\u001b[0m, in \u001b[0;36mHTTPResponse._safe_read\u001b[0;34m(self, amt)\u001b[0m\n\u001b[1;32m    603\u001b[0m \u001b[38;5;124;03m\"\"\"Read the number of bytes requested.\u001b[39;00m\n\u001b[1;32m    604\u001b[0m \n\u001b[1;32m    605\u001b[0m \u001b[38;5;124;03mThis function should be used when <amt> bytes \"should\" be present for\u001b[39;00m\n\u001b[1;32m    606\u001b[0m \u001b[38;5;124;03mreading. If the bytes are truly not available (due to EOF), then the\u001b[39;00m\n\u001b[1;32m    607\u001b[0m \u001b[38;5;124;03mIncompleteRead exception can be used to detect the problem.\u001b[39;00m\n\u001b[1;32m    608\u001b[0m \u001b[38;5;124;03m\"\"\"\u001b[39;00m\n\u001b[0;32m--> 609\u001b[0m data \u001b[38;5;241m=\u001b[39m \u001b[38;5;28;43mself\u001b[39;49m\u001b[38;5;241;43m.\u001b[39;49m\u001b[43mfp\u001b[49m\u001b[38;5;241;43m.\u001b[39;49m\u001b[43mread\u001b[49m\u001b[43m(\u001b[49m\u001b[43mamt\u001b[49m\u001b[43m)\u001b[49m\n\u001b[1;32m    610\u001b[0m \u001b[38;5;28;01mif\u001b[39;00m \u001b[38;5;28mlen\u001b[39m(data) \u001b[38;5;241m<\u001b[39m amt:\n",
      "File \u001b[0;32m~/.conda/envs/vaex/lib/python3.8/socket.py:669\u001b[0m, in \u001b[0;36mSocketIO.readinto\u001b[0;34m(self, b)\u001b[0m\n\u001b[1;32m    668\u001b[0m \u001b[38;5;28;01mtry\u001b[39;00m:\n\u001b[0;32m--> 669\u001b[0m     \u001b[38;5;28;01mreturn\u001b[39;00m \u001b[38;5;28;43mself\u001b[39;49m\u001b[38;5;241;43m.\u001b[39;49m\u001b[43m_sock\u001b[49m\u001b[38;5;241;43m.\u001b[39;49m\u001b[43mrecv_into\u001b[49m\u001b[43m(\u001b[49m\u001b[43mb\u001b[49m\u001b[43m)\u001b[49m\n\u001b[1;32m    670\u001b[0m \u001b[38;5;28;01mexcept\u001b[39;00m timeout:\n",
      "File \u001b[0;32m~/.conda/envs/vaex/lib/python3.8/ssl.py:1241\u001b[0m, in \u001b[0;36mSSLSocket.recv_into\u001b[0;34m(self, buffer, nbytes, flags)\u001b[0m\n\u001b[1;32m   1238\u001b[0m         \u001b[38;5;28;01mraise\u001b[39;00m \u001b[38;5;167;01mValueError\u001b[39;00m(\n\u001b[1;32m   1239\u001b[0m           \u001b[38;5;124m\"\u001b[39m\u001b[38;5;124mnon-zero flags not allowed in calls to recv_into() on \u001b[39m\u001b[38;5;132;01m%s\u001b[39;00m\u001b[38;5;124m\"\u001b[39m \u001b[38;5;241m%\u001b[39m\n\u001b[1;32m   1240\u001b[0m           \u001b[38;5;28mself\u001b[39m\u001b[38;5;241m.\u001b[39m\u001b[38;5;18m__class__\u001b[39m)\n\u001b[0;32m-> 1241\u001b[0m     \u001b[38;5;28;01mreturn\u001b[39;00m \u001b[38;5;28;43mself\u001b[39;49m\u001b[38;5;241;43m.\u001b[39;49m\u001b[43mread\u001b[49m\u001b[43m(\u001b[49m\u001b[43mnbytes\u001b[49m\u001b[43m,\u001b[49m\u001b[43m \u001b[49m\u001b[43mbuffer\u001b[49m\u001b[43m)\u001b[49m\n\u001b[1;32m   1242\u001b[0m \u001b[38;5;28;01melse\u001b[39;00m:\n",
      "File \u001b[0;32m~/.conda/envs/vaex/lib/python3.8/ssl.py:1099\u001b[0m, in \u001b[0;36mSSLSocket.read\u001b[0;34m(self, len, buffer)\u001b[0m\n\u001b[1;32m   1098\u001b[0m \u001b[38;5;28;01mif\u001b[39;00m buffer \u001b[38;5;129;01mis\u001b[39;00m \u001b[38;5;129;01mnot\u001b[39;00m \u001b[38;5;28;01mNone\u001b[39;00m:\n\u001b[0;32m-> 1099\u001b[0m     \u001b[38;5;28;01mreturn\u001b[39;00m \u001b[38;5;28;43mself\u001b[39;49m\u001b[38;5;241;43m.\u001b[39;49m\u001b[43m_sslobj\u001b[49m\u001b[38;5;241;43m.\u001b[39;49m\u001b[43mread\u001b[49m\u001b[43m(\u001b[49m\u001b[38;5;28;43mlen\u001b[39;49m\u001b[43m,\u001b[49m\u001b[43m \u001b[49m\u001b[43mbuffer\u001b[49m\u001b[43m)\u001b[49m\n\u001b[1;32m   1100\u001b[0m \u001b[38;5;28;01melse\u001b[39;00m:\n",
      "\u001b[0;31mKeyboardInterrupt\u001b[0m: ",
      "\nDuring handling of the above exception, another exception occurred:\n",
      "\u001b[0;31mKeyboardInterrupt\u001b[0m                         Traceback (most recent call last)",
      "Input \u001b[0;32mIn [10]\u001b[0m, in \u001b[0;36m<cell line: 4>\u001b[0;34m()\u001b[0m\n\u001b[1;32m     21\u001b[0m \u001b[38;5;66;03m# query gaia data\u001b[39;00m\n\u001b[1;32m     22\u001b[0m \u001b[38;5;66;03m# taking wider ra and dec constrains than 2MASS, because of different epoch\u001b[39;00m\n\u001b[1;32m     23\u001b[0m query_gaia \u001b[38;5;241m=\u001b[39m \u001b[38;5;124mf\u001b[39m\u001b[38;5;124m\"\"\"\u001b[39m\n\u001b[1;32m     24\u001b[0m \u001b[38;5;124mSELECT TOP \u001b[39m\u001b[38;5;132;01m{\u001b[39;00mTOP\u001b[38;5;132;01m}\u001b[39;00m\u001b[38;5;124m \u001b[39m\u001b[38;5;132;01m{\u001b[39;00m\u001b[38;5;124m'\u001b[39m\u001b[38;5;124m, \u001b[39m\u001b[38;5;124m'\u001b[39m\u001b[38;5;241m.\u001b[39mjoin(columns)\u001b[38;5;132;01m}\u001b[39;00m\n\u001b[1;32m     25\u001b[0m \u001b[38;5;124mFROM gaiadr3.gaia_universe_model AS gdr3\u001b[39m\n\u001b[1;32m     26\u001b[0m \u001b[38;5;124mWHERE gdr3.ra BETWEEN \u001b[39m\u001b[38;5;132;01m{\u001b[39;00mra0\u001b[38;5;241m-\u001b[39mdra\u001b[38;5;241m*\u001b[39m\u001b[38;5;241m1\u001b[39m\u001b[38;5;132;01m}\u001b[39;00m\u001b[38;5;124m AND \u001b[39m\u001b[38;5;132;01m{\u001b[39;00mra1\u001b[38;5;241m+\u001b[39mdra\u001b[38;5;241m*\u001b[39m\u001b[38;5;241m1\u001b[39m\u001b[38;5;132;01m}\u001b[39;00m\n\u001b[1;32m     27\u001b[0m \u001b[38;5;124mAND gdr3.dec BETWEEN \u001b[39m\u001b[38;5;132;01m{\u001b[39;00mdec0\u001b[38;5;241m-\u001b[39mddec\u001b[38;5;241m*\u001b[39m\u001b[38;5;241m1\u001b[39m\u001b[38;5;132;01m}\u001b[39;00m\u001b[38;5;124m AND \u001b[39m\u001b[38;5;132;01m{\u001b[39;00mdec1\u001b[38;5;241m+\u001b[39mddec\u001b[38;5;241m*\u001b[39m\u001b[38;5;241m1\u001b[39m\u001b[38;5;132;01m}\u001b[39;00m\u001b[38;5;124m \u001b[39m\n\u001b[1;32m     28\u001b[0m \u001b[38;5;124m\u001b[39m\u001b[38;5;124m\"\"\"\u001b[39m\n\u001b[0;32m---> 29\u001b[0m job_gaia \u001b[38;5;241m=\u001b[39m \u001b[43mtimeout\u001b[49m\u001b[43m(\u001b[49m\u001b[43mGaia\u001b[49m\u001b[38;5;241;43m.\u001b[39;49m\u001b[43mlaunch_job\u001b[49m\u001b[43m,\u001b[49m\u001b[43m \u001b[49m\u001b[43margs\u001b[49m\u001b[38;5;241;43m=\u001b[39;49m\u001b[43m(\u001b[49m\u001b[43mquery_gaia\u001b[49m\u001b[43m,\u001b[49m\u001b[43m)\u001b[49m\u001b[43m,\u001b[49m\u001b[43m \u001b[49m\u001b[43mtimeout_duration\u001b[49m\u001b[38;5;241;43m=\u001b[39;49m\u001b[38;5;241;43m600\u001b[39;49m\u001b[43m)\u001b[49m\n\u001b[1;32m     30\u001b[0m \u001b[38;5;28mprint\u001b[39m(\u001b[38;5;124m\"\u001b[39m\u001b[38;5;124mUWU\u001b[39m\u001b[38;5;124m\"\u001b[39m)\n\u001b[1;32m     31\u001b[0m \u001b[38;5;28;01mif\u001b[39;00m job_gaia \u001b[38;5;241m==\u001b[39m \u001b[38;5;28;01mNone\u001b[39;00m: \u001b[38;5;66;03m#if failed, try again\u001b[39;00m\n",
      "File \u001b[0;32m~/Thesis-Project/utils.py:81\u001b[0m, in \u001b[0;36mtimeout\u001b[0;34m(func, args, kwargs, timeout_duration, default, minVal, path)\u001b[0m\n\u001b[1;32m     79\u001b[0m                 f\u001b[38;5;241m.\u001b[39mwrite(\u001b[38;5;124mf\u001b[39m\u001b[38;5;124m\"\u001b[39m\u001b[38;5;132;01m{\u001b[39;00mtext\u001b[38;5;132;01m}\u001b[39;00m\u001b[38;5;124m\"\u001b[39m)\n\u001b[1;32m     80\u001b[0m \u001b[38;5;28;01mexcept\u001b[39;00m \u001b[38;5;167;01mKeyboardInterrupt\u001b[39;00m:\n\u001b[0;32m---> 81\u001b[0m     \u001b[38;5;28;01mraise\u001b[39;00m \u001b[38;5;167;01mKeyboardInterrupt\u001b[39;00m\n\u001b[1;32m     82\u001b[0m \u001b[38;5;28;01mexcept\u001b[39;00m \u001b[38;5;167;01mException\u001b[39;00m:\n\u001b[1;32m     83\u001b[0m     result \u001b[38;5;241m=\u001b[39m default\n",
      "\u001b[0;31mKeyboardInterrupt\u001b[0m: "
     ]
    }
   ],
   "source": [
    "# ra0 for lower boundry and ra1 for upper boundary\n",
    "# same with dec0 and dec1\n",
    "ORI_TOP = 50_000_000\n",
    "for i, (ra0, ra1) in enumerate(zip(ras[:-1], ras[1:])):\n",
    "    TOP = ORI_TOP # cap maximum rows for each response, so that the response is not exploding\n",
    "    df_com = [] #initial table\n",
    "    df_com_tmass = [] #initial tmass table\n",
    "    time0 = time()\n",
    "    progressbar(0, info=f\"{ra0}-{ra1}\")\n",
    "    j = 0\n",
    "    skip = False\n",
    "    trying = 0\n",
    "    while j < len(decs) -1:\n",
    "        if trying > 15:\n",
    "            print(\"too many tries, raise error\")\n",
    "            raise Exception(\"too many tries\")\n",
    "        if ~skip:\n",
    "            t0 = time()\n",
    "        dec0 = decs[j]\n",
    "        dec1 = decs[j+1]\n",
    "        # query gaia data\n",
    "        # taking wider ra and dec constrains than 2MASS, because of different epoch\n",
    "        query_gaia = f\"\"\"\n",
    "        SELECT TOP {TOP} {', '.join(columns)}\n",
    "        FROM gaiadr3.gaia_universe_model AS gdr3\n",
    "        WHERE gdr3.ra BETWEEN {ra0-dra*1} AND {ra1+dra*1}\n",
    "        AND gdr3.dec BETWEEN {dec0-ddec*1} AND {dec1+ddec*1} \n",
    "        AND barycentric_distance < 1000\n",
    "        \"\"\"\n",
    "        job_gaia = timeout(Gaia.launch_job, args=(query_gaia,), timeout_duration=600)\n",
    "        if job_gaia == None: #if failed, try again\n",
    "            print(\"fail to fetch gaia\")\n",
    "            print(\"length = \", len(df_com))\n",
    "            skip = True\n",
    "            trying += 1\n",
    "            continue\n",
    "        result_gaia = job_gaia.get_results()\n",
    "        if(len(result_gaia) == TOP):\n",
    "            print(f\"gaia data is capped, increase TOP | {TOP}\")\n",
    "            TOP *= 2\n",
    "            skip = True\n",
    "            continue\n",
    "        df_pandas = result_gaia.to_pandas()\n",
    "        df_gaia = vaex.from_pandas(df_pandas)\n",
    "        if(len(df_com) == 0):\n",
    "            df_com = df_gaia\n",
    "        else:\n",
    "            df_com = df_com.concat(join_table)\n",
    "        j += 1\n",
    "        t1 = time()\n",
    "        skip = False\n",
    "        trying = 0\n",
    "        TOP = np.max([int(len(df_tmass) * 2), ORI_TOP, int(len(df_gaia) * 2)])\n",
    "        progressbar((j)/(len(decs)-1)*100, info=f\"{ra0}-{ra1} | [{dec0}]-[{dec1}] | {round(t1-t0,2)} s | join = {len(join_table)} | tmass = {len(df_tmass)} | gaia = {len(df_gaia)}| TOP = {TOP}\")\n",
    "    time1 = time()  \n",
    "    df_com.export(join(gaia_data_dir, f\"gaia-{ra0:03d}-{ra1:03d}.hdf5\"), progress=True)\n",
    "    print(f\"{len(df_com)} || {round((time1-time0)/60, 2)}m\")\n",
    "    print(f\"{i} saved {ra0}-{ra1} || {datetime.now()}\")\n",
    "    break\n"
   ]
  },
  {
   "cell_type": "code",
   "execution_count": null,
   "id": "1556d66c-f0cb-4715-85dd-1f0694264e3e",
   "metadata": {},
   "outputs": [],
   "source": []
  }
 ],
 "metadata": {
  "kernelspec": {
   "display_name": "Python 3",
   "language": "python",
   "name": "python3"
  },
  "language_info": {
   "codemirror_mode": {
    "name": "ipython",
    "version": 3
   },
   "file_extension": ".py",
   "mimetype": "text/x-python",
   "name": "python",
   "nbconvert_exporter": "python",
   "pygments_lexer": "ipython3",
   "version": "3.8.10"
  }
 },
 "nbformat": 4,
 "nbformat_minor": 5
}
