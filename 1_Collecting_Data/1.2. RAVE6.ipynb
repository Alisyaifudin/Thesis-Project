{
 "cells": [
  {
   "attachments": {},
   "cell_type": "markdown",
   "metadata": {},
   "source": [
    "There are two way to download RAVE:\n",
    "1. From website\n",
    "2. Tap Vizier\n",
    "\n",
    "choose one of the step only"
   ]
  },
  {
   "attachments": {},
   "cell_type": "markdown",
   "metadata": {},
   "source": [
    "# 1. From website"
   ]
  },
  {
   "attachments": {},
   "cell_type": "markdown",
   "metadata": {},
   "source": [
    "Query rave6 from their website: https://www.rave-survey.org/query/ \n",
    "\n",
    "![rave query page](<images/rave-query-page.png>)"
   ]
  },
  {
   "attachments": {},
   "cell_type": "markdown",
   "metadata": {},
   "source": [
    "#### The query\n",
    "\n",
    "divide into multiple RAs for smaller response, if needed\n",
    "\n",
    "```\n",
    "SELECT TOP 150000 sparv.\"hrv_sparv\" AS rv_rave, sparv.\"hrv_error_sparv\" AS e_rv_rave, aux.\"teff_sparv\" AS teff_rave, aux.\"logg_sparv\" AS logg_rave, aux.\"m_h_sparv\" AS mh_rave, aux.\"alpha_sparv\" AS alphafe_rave, gaia.\"source_id\" \n",
    "FROM ravedr6.dr6_sparv AS sparv \n",
    "JOIN ravedr6.dr6_sparv_aux AS aux ON sparv.rave_obs_id = aux.rave_obs_id \n",
    "RIGHT JOIN ravedr6.dr6_x_gaiaedr3 AS gaia ON gaia.rave_obs_id = sparv.rave_obs_id \n",
    "WHERE gaia.ra BETWEEN 0 AND 60\n",
    "```\n",
    "\n",
    "Change `WHERE gaia.ra BETWEEN 0 AND 60` into other interval"
   ]
  },
  {
   "attachments": {},
   "cell_type": "markdown",
   "metadata": {},
   "source": [
    "save the downloaded files to `Thesis-Project/Data/RAVE6`"
   ]
  },
  {
   "attachments": {},
   "cell_type": "markdown",
   "metadata": {},
   "source": [
    "# 2. TAP RAVE VO"
   ]
  },
  {
   "cell_type": "code",
   "execution_count": 13,
   "metadata": {},
   "outputs": [],
   "source": [
    "from astroquery.utils.tap.core import Tap\n",
    "from os.path import join, abspath\n",
    "from os import pardir, curdir, mkdir\n",
    "from glob import glob\n",
    "import sys\n",
    "import numpy as np\n",
    "import pandas as pd\n",
    "import vaex\n",
    "from astropy.table import Table"
   ]
  },
  {
   "cell_type": "code",
   "execution_count": 16,
   "metadata": {},
   "outputs": [],
   "source": [
    "# import utils\n",
    "util_dir = abspath(pardir)\n",
    "sys.path.insert(0, util_dir)\n",
    "\n",
    "from utils import append_name, launch_job, check_df, safe_mkdir"
   ]
  },
  {
   "cell_type": "code",
   "execution_count": 17,
   "metadata": {},
   "outputs": [
    {
     "name": "stdout",
     "output_type": "stream",
     "text": [
      "Directory /home2/s20321005/Thesis-Project/Data/RAVE6 already exist. Good to go!\n"
     ]
    }
   ],
   "source": [
    "name = \"RAVE6\"\n",
    "root_data_dir = abspath(join(pardir, \"Data\"))\n",
    "data_dir = join(root_data_dir, name)\n",
    "safe_mkdir(data_dir)"
   ]
  },
  {
   "cell_type": "code",
   "execution_count": 4,
   "metadata": {},
   "outputs": [],
   "source": [
    "# Vizier tap endpoint\n",
    "# # tap = Tap(url=\"http://tapvizier.u-strasbg.fr/TAPVizieR/tap/sync/\")\n",
    "# tap = Tap(url=\"https://www.rave-survey.org/tap/\")\n",
    "# # tables = tap.load_table('')\n",
    "# # for table in tables:\n",
    "# #   print(table.get_qualified_name())\n",
    "# columns_main = [\"rv_rave\", \"e_HRV AS e_rv_rave\"]\n",
    "# # columns_aux = [\"Teffs AS teff_rave\", \"loggs AS logg_rave\", \n",
    "# #                \"[M/H]s AS mh_rave\", \"[a/Fe]s AS alphafe_rave\"]\n",
    "# # columns_xmatch = [\"Gaiae3 AS source_id\"]\n",
    "\n",
    "# columns_main = list(map(lambda x: appendName(x, \"main\"), columns_main))\n",
    "# # columns_aux = list(map(lambda x: appendName(x, \"aux\"), columns_aux))\n",
    "# # columns_xmatch = list(map(lambda x: appendName(x, \"xmatch\"), columns_xmatch))\n",
    "\n",
    "# # columns = columns_xmatch + columns_aux + columns_main\n",
    "# columns"
   ]
  },
  {
   "cell_type": "code",
   "execution_count": 5,
   "metadata": {},
   "outputs": [
    {
     "data": {
      "text/plain": [
       "['ravedr6.dr6_sparv.\"hrv_sparv\" AS rv_rave',\n",
       " 'ravedr6.dr6_sparv.\"hrv_error_sparv\" AS e_rv_rave',\n",
       " 'ravedr6.dr6_sparv_aux.\"teff_sparv\" AS teff_rave',\n",
       " 'ravedr6.dr6_sparv_aux.\"logg_sparv\" AS logg_rave',\n",
       " 'ravedr6.dr6_sparv_aux.\"m_h_sparv\" AS mh_rave',\n",
       " 'ravedr6.dr6_sparv_aux.\"alpha_sparv\" AS alphafe_rave',\n",
       " 'ravedr6.dr6_x_gaiaedr3.\"source_id\"']"
      ]
     },
     "execution_count": 5,
     "metadata": {},
     "output_type": "execute_result"
    }
   ],
   "source": [
    "# RAVE tap endpoint\n",
    "# tap = Tap(url=\"http://tapvizier.u-strasbg.fr/TAPVizieR/tap/sync/\")\n",
    "tap = Tap(url=\"https://www.rave-survey.org/tap/\")\n",
    "\n",
    "columns_sparv = [\"hrv_sparv AS rv_rave\", \"hrv_error_sparv AS e_rv_rave\"]\n",
    "columns_aux = [\"teff_sparv AS teff_rave\", \"logg_sparv AS logg_rave\", \n",
    "               \"m_h_sparv AS mh_rave\", \"alpha_sparv AS alphafe_rave\"]\n",
    "columns_xmatch = [\"source_id\"]\n",
    "\n",
    "sparv_table = \"ravedr6.dr6_sparv\"\n",
    "aux_table = \"ravedr6.dr6_sparv_aux\"\n",
    "xmatch_table = \"ravedr6.dr6_x_gaiaedr3\"\n",
    "columns_sparv = list(map(lambda x: append_name(x, sparv_table), columns_sparv))\n",
    "columns_aux = list(map(lambda x: append_name(x, aux_table), columns_aux))\n",
    "columns_xmatch = list(map(lambda x: append_name(x, xmatch_table), columns_xmatch))\n",
    "\n",
    "columns = columns_sparv + columns_aux + columns_xmatch\n",
    "columns"
   ]
  },
  {
   "attachments": {},
   "cell_type": "markdown",
   "metadata": {},
   "source": [
    "# Test Query"
   ]
  },
  {
   "cell_type": "code",
   "execution_count": 6,
   "metadata": {},
   "outputs": [
    {
     "data": {
      "text/html": [
       "<table>\n",
       "<thead>\n",
       "<tr><th>#                                 </th><th>hrv_sparv  </th><th>hrv_error_sparv  </th><th>teff_sparv  </th><th>logg_sparv  </th><th>m_h_sparv  </th><th>alpha_sparv  </th><th>source_id          </th></tr>\n",
       "</thead>\n",
       "<tbody>\n",
       "<tr><td><i style='opacity: 0.6'>0</i>     </td><td>-2.564     </td><td>6.833            </td><td>3813.0      </td><td>2.89        </td><td>0.38       </td><td>0.38         </td><td>4976544490953365632</td></tr>\n",
       "<tr><td><i style='opacity: 0.6'>1</i>     </td><td>9.119      </td><td>4.21             </td><td>5244.0      </td><td>4.08        </td><td>0.07       </td><td>0.01         </td><td>4973522036567243264</td></tr>\n",
       "<tr><td><i style='opacity: 0.6'>2</i>     </td><td>77.837     </td><td>1.993            </td><td>4962.0      </td><td>3.24        </td><td>-0.61      </td><td>0.07         </td><td>4976851014178872448</td></tr>\n",
       "<tr><td><i style='opacity: 0.6'>3</i>     </td><td>-37.893    </td><td>4.791            </td><td>3953.0      </td><td>2.41        </td><td>0.11       </td><td>0.13         </td><td>4973212867641442560</td></tr>\n",
       "<tr><td><i style='opacity: 0.6'>4</i>     </td><td>52.252     </td><td>2.572            </td><td>4423.0      </td><td>2.85        </td><td>-0.39      </td><td>0.17         </td><td>4973611303167610496</td></tr>\n",
       "<tr><td>...                               </td><td>...        </td><td>...              </td><td>...         </td><td>...         </td><td>...        </td><td>...          </td><td>...                </td></tr>\n",
       "<tr><td><i style='opacity: 0.6'>13,283</i></td><td>-21.983    </td><td>1.564            </td><td>6461.0      </td><td>4.89        </td><td>-0.27      </td><td>0.04         </td><td>4702435241420083712</td></tr>\n",
       "<tr><td><i style='opacity: 0.6'>13,284</i></td><td>-18.22     </td><td>1.364            </td><td>5734.0      </td><td>4.34        </td><td>-0.31      </td><td>0.21         </td><td>4702833505145819136</td></tr>\n",
       "<tr><td><i style='opacity: 0.6'>13,285</i></td><td>37.739     </td><td>5.139            </td><td>4736.0      </td><td>4.01        </td><td>0.23       </td><td>0.08         </td><td>4690043337353950208</td></tr>\n",
       "<tr><td><i style='opacity: 0.6'>13,286</i></td><td>37.162     </td><td>4.149            </td><td>4162.0      </td><td>2.34        </td><td>-0.34      </td><td>0.05         </td><td>4690063983264790784</td></tr>\n",
       "<tr><td><i style='opacity: 0.6'>13,287</i></td><td>25.32      </td><td>1.243            </td><td>4902.0      </td><td>3.15        </td><td>-0.34      </td><td>0.09         </td><td>4690253481512528896</td></tr>\n",
       "</tbody>\n",
       "</table>"
      ],
      "text/plain": [
       "#       hrv_sparv    hrv_error_sparv    teff_sparv    logg_sparv    m_h_sparv    alpha_sparv    source_id\n",
       "0       -2.564       6.833              3813.0        2.89          0.38         0.38           4976544490953365632\n",
       "1       9.119        4.21               5244.0        4.08          0.07         0.01           4973522036567243264\n",
       "2       77.837       1.993              4962.0        3.24          -0.61        0.07           4976851014178872448\n",
       "3       -37.893      4.791              3953.0        2.41          0.11         0.13           4973212867641442560\n",
       "4       52.252       2.572              4423.0        2.85          -0.39        0.17           4973611303167610496\n",
       "...     ...          ...                ...           ...           ...          ...            ...\n",
       "13,283  -21.983      1.564              6461.0        4.89          -0.27        0.04           4702435241420083712\n",
       "13,284  -18.22       1.364              5734.0        4.34          -0.31        0.21           4702833505145819136\n",
       "13,285  37.739       5.139              4736.0        4.01          0.23         0.08           4690043337353950208\n",
       "13,286  37.162       4.149              4162.0        2.34          -0.34        0.05           4690063983264790784\n",
       "13,287  25.32        1.243              4902.0        3.15          -0.34        0.09           4690253481512528896"
      ]
     },
     "execution_count": 6,
     "metadata": {},
     "output_type": "execute_result"
    }
   ],
   "source": [
    "TOP = 100_000\n",
    "query = f\"\"\"SELECT TOP {TOP} {\", \".join(columns)}\n",
    "FROM {sparv_table}\n",
    "JOIN {aux_table} ON {sparv_table}.rave_obs_id = {aux_table}.rave_obs_id\n",
    "JOIN {xmatch_table} ON {sparv_table}.rave_obs_id = {xmatch_table}.rave_obs_id\n",
    "WHERE {xmatch_table}.ra BETWEEN {0} AND {10}\n",
    "\"\"\"\n",
    "df = launch_job(tap.launch_job, query, duration=60)\n",
    "df"
   ]
  },
  {
   "cell_type": "code",
   "execution_count": 7,
   "metadata": {},
   "outputs": [
    {
     "data": {
      "text/plain": [
       "array([  0,  10,  20,  30,  40,  50,  60,  70,  80,  90, 100, 110, 120,\n",
       "       130, 140, 150, 160, 170, 180, 190, 200, 210, 220, 230, 240, 250,\n",
       "       260, 270, 280, 290, 300, 310, 320, 330, 340, 350, 360])"
      ]
     },
     "execution_count": 7,
     "metadata": {},
     "output_type": "execute_result"
    }
   ],
   "source": [
    "# divide ra into multiple partitions\n",
    "ras = np.linspace(0, 360, 37).astype(int)\n",
    "ras"
   ]
  },
  {
   "cell_type": "code",
   "execution_count": 8,
   "metadata": {},
   "outputs": [
    {
     "name": "stdout",
     "output_type": "stream",
     "text": [
      "querying 0 10\n",
      "13288 26576\n",
      "export(hdf5) [########################################] 100.00% elapsed time  :     0.03s =  0.0m =  0.0h\n",
      " querying 10 20\n",
      "11349 22698\n",
      "export(hdf5) [########################################] 100.00% elapsed time  :     0.03s =  0.0m =  0.0h\n",
      " querying 20 30\n",
      "12119 24238\n",
      "export(hdf5) [########################################] 100.00% elapsed time  :     0.03s =  0.0m =  0.0h\n",
      " querying 30 40\n",
      "12927 25854\n",
      "export(hdf5) [########################################] 100.00% elapsed time  :     0.03s =  0.0m =  0.0h\n",
      " querying 40 50\n",
      "11226 22452\n",
      "export(hdf5) [########################################] 100.00% elapsed time  :     0.03s =  0.0m =  0.0h\n",
      " querying 50 60\n",
      "11269 22538\n",
      "export(hdf5) [########################################] 100.00% elapsed time  :     0.03s =  0.0m =  0.0h\n",
      " querying 60 70\n",
      "12422 24844\n",
      "export(hdf5) [########################################] 100.00% elapsed time  :     0.03s =  0.0m =  0.0h\n",
      " querying 70 80\n",
      "14405 28810\n",
      "export(hdf5) [########################################] 100.00% elapsed time  :     0.03s =  0.0m =  0.0h\n",
      " querying 80 90\n",
      "11274 22548\n",
      "export(hdf5) [########################################] 100.00% elapsed time  :     0.03s =  0.0m =  0.0h\n",
      " querying 90 100\n",
      "13118 26236\n",
      "export(hdf5) [########################################] 100.00% elapsed time  :     0.03s =  0.0m =  0.0h\n",
      " querying 100 110\n",
      "14844 29688\n",
      "export(hdf5) [########################################] 100.00% elapsed time  :     0.03s =  0.0m =  0.0h\n",
      " querying 110 120\n",
      "12448 24896\n",
      "export(hdf5) [########################################] 100.00% elapsed time  :     0.03s =  0.0m =  0.0h\n",
      " querying 120 130\n",
      "11386 22772\n",
      "export(hdf5) [########################################] 100.00% elapsed time  :     0.03s =  0.0m =  0.0h\n",
      " querying 130 140\n",
      "12882 25764\n",
      "export(hdf5) [########################################] 100.00% elapsed time  :     0.03s =  0.0m =  0.0h\n",
      " querying 140 150\n",
      "17102 34204\n",
      "export(hdf5) [########################################] 100.00% elapsed time  :     0.03s =  0.0m =  0.0h\n",
      " querying 150 160\n",
      "18934 37868\n",
      "export(hdf5) [########################################] 100.00% elapsed time  :     0.03s =  0.0m =  0.0h\n",
      " querying 160 170\n",
      "15487 30974\n",
      "export(hdf5) [########################################] 100.00% elapsed time  :     0.05s =  0.0m =  0.0h\n",
      " querying 170 180\n",
      "17857 35714\n",
      "export(hdf5) [########################################] 100.00% elapsed time  :     0.03s =  0.0m =  0.0h\n",
      " querying 180 190\n",
      "16576 33152\n",
      "export(hdf5) [########################################] 100.00% elapsed time  :     0.03s =  0.0m =  0.0h\n",
      " querying 190 200\n",
      "18436 36872\n",
      "export(hdf5) [########################################] 100.00% elapsed time  :     0.03s =  0.0m =  0.0h\n",
      " querying 200 210\n",
      "19551 39102\n",
      "export(hdf5) [########################################] 100.00% elapsed time  :     0.03s =  0.0m =  0.0h\n",
      " querying 210 220\n",
      "18409 36818\n",
      "export(hdf5) [########################################] 100.00% elapsed time  :     0.03s =  0.0m =  0.0h\n",
      " querying 220 230\n",
      "19276 38552\n",
      "export(hdf5) [########################################] 100.00% elapsed time  :     0.03s =  0.0m =  0.0h\n",
      " querying 230 240\n",
      "16208 32416\n",
      "export(hdf5) [########################################] 100.00% elapsed time  :     0.03s =  0.0m =  0.0h\n",
      " querying 240 250\n",
      "15648 31296\n",
      "export(hdf5) [########################################] 100.00% elapsed time  :     0.03s =  0.0m =  0.0h\n",
      " querying 250 260\n",
      "6347 12694\n",
      "export(hdf5) [########################################] 100.00% elapsed time  :     0.03s =  0.0m =  0.0h\n",
      " querying 260 270\n",
      "5716 11432\n",
      "export(hdf5) [########################################] 100.00% elapsed time  :     0.03s =  0.0m =  0.0h\n",
      " querying 270 280\n",
      "7269 14538\n",
      "export(hdf5) [########################################] 100.00% elapsed time  :     0.03s =  0.0m =  0.0h\n",
      " querying 280 290\n",
      "11558 23116\n",
      "export(hdf5) [########################################] 100.00% elapsed time  :     0.02s =  0.0m =  0.0h\n",
      " querying 290 300\n",
      "18134 36268\n",
      "export(hdf5) [########################################] 100.00% elapsed time  :     0.03s =  0.0m =  0.0h\n",
      " querying 300 310\n",
      "24348 48696\n",
      "export(hdf5) [########################################] 100.00% elapsed time  :     0.03s =  0.0m =  0.0h\n",
      " querying 310 320\n",
      "20449 40898\n",
      "export(hdf5) [########################################] 100.00% elapsed time  :     0.03s =  0.0m =  0.0h\n",
      " querying 320 330\n",
      "14204 28408\n",
      "export(hdf5) [########################################] 100.00% elapsed time  :     0.03s =  0.0m =  0.0h\n",
      " querying 330 340\n",
      "15503 31006\n",
      "export(hdf5) [########################################] 100.00% elapsed time  :     0.03s =  0.0m =  0.0h\n",
      " querying 340 350\n",
      "12463 24926\n",
      "export(hdf5) [########################################] 100.00% elapsed time  :     0.03s =  0.0m =  0.0h\n",
      " querying 350 360\n",
      "12925 25850\n",
      "export(hdf5) [########################################] 100.00% elapsed time  :     0.02s =  0.0m =  0.0h\n",
      " "
     ]
    }
   ],
   "source": [
    "force_break = False\n",
    "for ra_lower, ra_upper in zip(ras[:-1], ras[1:]):\n",
    "    TOP = 100000\n",
    "    while True:\n",
    "        print(\"querying\", ra_lower, ra_upper)\n",
    "        query = f\"\"\"\n",
    "        SELECT TOP {TOP} {\", \".join(columns)}\n",
    "        FROM {sparv_table}\n",
    "        JOIN {aux_table} ON {sparv_table}.rave_obs_id = {aux_table}.rave_obs_id\n",
    "        JOIN {xmatch_table} ON {sparv_table}.rave_obs_id = {xmatch_table}.rave_obs_id\n",
    "        WHERE {xmatch_table}.ra BETWEEN {ra_lower} AND {ra_upper}\n",
    "        \"\"\"\n",
    "        df = launch_job(tap.launch_job, query, duration=60)\n",
    "        check = check_df(df, TOP)\n",
    "        force_break = check['force_break']\n",
    "        if force_break: break\n",
    "        retry = check['retry']\n",
    "        TOP = check['new_top']\n",
    "        if retry: \n",
    "            print(f\"retrying, previous top: {len(df)}, new top: {TOP}\")\n",
    "            continue\n",
    "        # everything is good\n",
    "        break\n",
    "    if force_break: break\n",
    "    print(len(df), TOP)\n",
    "    df.export(join(data_dir, f\"rave-{ra_lower:03d}-{ra_upper:03d}.hdf5\"), progress=True)"
   ]
  },
  {
   "attachments": {},
   "cell_type": "markdown",
   "metadata": {},
   "source": [
    "# Cleaning"
   ]
  },
  {
   "cell_type": "code",
   "execution_count": 18,
   "metadata": {},
   "outputs": [
    {
     "data": {
      "text/plain": [
       "['/home2/s20321005/Thesis-Project/Data/RAVE6/rave-000-010.hdf5',\n",
       " '/home2/s20321005/Thesis-Project/Data/RAVE6/rave-010-020.hdf5',\n",
       " '/home2/s20321005/Thesis-Project/Data/RAVE6/rave-020-030.hdf5',\n",
       " '/home2/s20321005/Thesis-Project/Data/RAVE6/rave-030-040.hdf5',\n",
       " '/home2/s20321005/Thesis-Project/Data/RAVE6/rave-040-050.hdf5',\n",
       " '/home2/s20321005/Thesis-Project/Data/RAVE6/rave-050-060.hdf5',\n",
       " '/home2/s20321005/Thesis-Project/Data/RAVE6/rave-060-070.hdf5',\n",
       " '/home2/s20321005/Thesis-Project/Data/RAVE6/rave-070-080.hdf5',\n",
       " '/home2/s20321005/Thesis-Project/Data/RAVE6/rave-080-090.hdf5',\n",
       " '/home2/s20321005/Thesis-Project/Data/RAVE6/rave-090-100.hdf5',\n",
       " '/home2/s20321005/Thesis-Project/Data/RAVE6/rave-100-110.hdf5',\n",
       " '/home2/s20321005/Thesis-Project/Data/RAVE6/rave-110-120.hdf5',\n",
       " '/home2/s20321005/Thesis-Project/Data/RAVE6/rave-120-130.hdf5',\n",
       " '/home2/s20321005/Thesis-Project/Data/RAVE6/rave-130-140.hdf5',\n",
       " '/home2/s20321005/Thesis-Project/Data/RAVE6/rave-140-150.hdf5',\n",
       " '/home2/s20321005/Thesis-Project/Data/RAVE6/rave-150-160.hdf5',\n",
       " '/home2/s20321005/Thesis-Project/Data/RAVE6/rave-160-170.hdf5',\n",
       " '/home2/s20321005/Thesis-Project/Data/RAVE6/rave-170-180.hdf5',\n",
       " '/home2/s20321005/Thesis-Project/Data/RAVE6/rave-180-190.hdf5',\n",
       " '/home2/s20321005/Thesis-Project/Data/RAVE6/rave-190-200.hdf5',\n",
       " '/home2/s20321005/Thesis-Project/Data/RAVE6/rave-200-210.hdf5',\n",
       " '/home2/s20321005/Thesis-Project/Data/RAVE6/rave-210-220.hdf5',\n",
       " '/home2/s20321005/Thesis-Project/Data/RAVE6/rave-220-230.hdf5',\n",
       " '/home2/s20321005/Thesis-Project/Data/RAVE6/rave-230-240.hdf5',\n",
       " '/home2/s20321005/Thesis-Project/Data/RAVE6/rave-240-250.hdf5',\n",
       " '/home2/s20321005/Thesis-Project/Data/RAVE6/rave-250-260.hdf5',\n",
       " '/home2/s20321005/Thesis-Project/Data/RAVE6/rave-260-270.hdf5',\n",
       " '/home2/s20321005/Thesis-Project/Data/RAVE6/rave-270-280.hdf5',\n",
       " '/home2/s20321005/Thesis-Project/Data/RAVE6/rave-280-290.hdf5',\n",
       " '/home2/s20321005/Thesis-Project/Data/RAVE6/rave-290-300.hdf5',\n",
       " '/home2/s20321005/Thesis-Project/Data/RAVE6/rave-300-310.hdf5',\n",
       " '/home2/s20321005/Thesis-Project/Data/RAVE6/rave-310-320.hdf5',\n",
       " '/home2/s20321005/Thesis-Project/Data/RAVE6/rave-320-330.hdf5',\n",
       " '/home2/s20321005/Thesis-Project/Data/RAVE6/rave-330-340.hdf5',\n",
       " '/home2/s20321005/Thesis-Project/Data/RAVE6/rave-340-350.hdf5',\n",
       " '/home2/s20321005/Thesis-Project/Data/RAVE6/rave-350-360.hdf5',\n",
       " '/home2/s20321005/Thesis-Project/Data/RAVE6/rave6.hdf5']"
      ]
     },
     "execution_count": 18,
     "metadata": {},
     "output_type": "execute_result"
    }
   ],
   "source": [
    "files = glob(join(data_dir, \"*.hdf5\"))\n",
    "files.sort()\n",
    "files"
   ]
  },
  {
   "cell_type": "code",
   "execution_count": 19,
   "metadata": {},
   "outputs": [
    {
     "data": {
      "text/html": [
       "<table>\n",
       "<thead>\n",
       "<tr><th>#                                  </th><th>hrv_sparv  </th><th>hrv_error_sparv  </th><th>teff_sparv  </th><th>logg_sparv  </th><th>m_h_sparv  </th><th>alpha_sparv  </th><th>source_id          </th></tr>\n",
       "</thead>\n",
       "<tbody>\n",
       "<tr><td><i style='opacity: 0.6'>0</i>      </td><td>-37.893    </td><td>4.791            </td><td>3953.0      </td><td>2.41        </td><td>0.11       </td><td>0.13         </td><td>4973212867641442560</td></tr>\n",
       "<tr><td><i style='opacity: 0.6'>1</i>      </td><td>4.044      </td><td>6.539            </td><td>8286.0      </td><td>4.91        </td><td>0.39       </td><td>0.0          </td><td>4973250147957768832</td></tr>\n",
       "<tr><td><i style='opacity: 0.6'>2</i>      </td><td>-2.564     </td><td>6.833            </td><td>3813.0      </td><td>2.89        </td><td>0.38       </td><td>0.38         </td><td>4976544490953365632</td></tr>\n",
       "<tr><td><i style='opacity: 0.6'>3</i>      </td><td>77.837     </td><td>1.993            </td><td>4962.0      </td><td>3.24        </td><td>-0.61      </td><td>0.07         </td><td>4976851014178872448</td></tr>\n",
       "<tr><td><i style='opacity: 0.6'>4</i>      </td><td>3.519      </td><td>4.035            </td><td>4171.0      </td><td>2.61        </td><td>-0.14      </td><td>0.19         </td><td>4972468120311892096</td></tr>\n",
       "<tr><td>...                                </td><td>...        </td><td>...              </td><td>...         </td><td>...         </td><td>...        </td><td>...          </td><td>...                </td></tr>\n",
       "<tr><td><i style='opacity: 0.6'>968,330</i></td><td>-0.753     </td><td>1.277            </td><td>5908.0      </td><td>4.32        </td><td>-0.01      </td><td>0.11         </td><td>6523116137833329792</td></tr>\n",
       "<tr><td><i style='opacity: 0.6'>968,331</i></td><td>-1.839     </td><td>2.183            </td><td>5726.0      </td><td>3.84        </td><td>0.01       </td><td>0.18         </td><td>6523133145903856768</td></tr>\n",
       "<tr><td><i style='opacity: 0.6'>968,332</i></td><td>7.603      </td><td>1.202            </td><td>3927.0      </td><td>4.07        </td><td>-0.41      </td><td>0.0          </td><td>6524623911873631104</td></tr>\n",
       "<tr><td><i style='opacity: 0.6'>968,333</i></td><td>25.576     </td><td>1.922            </td><td>5654.0      </td><td>4.33        </td><td>0.05       </td><td>0.19         </td><td>6522142314129013504</td></tr>\n",
       "<tr><td><i style='opacity: 0.6'>968,334</i></td><td>-48.736    </td><td>0.837            </td><td>5845.0      </td><td>4.19        </td><td>-0.34      </td><td>0.19         </td><td>6497508134063976448</td></tr>\n",
       "</tbody>\n",
       "</table>"
      ],
      "text/plain": [
       "#        hrv_sparv    hrv_error_sparv    teff_sparv    logg_sparv    m_h_sparv    alpha_sparv    source_id\n",
       "0        -37.893      4.791              3953.0        2.41          0.11         0.13           4973212867641442560\n",
       "1        4.044        6.539              8286.0        4.91          0.39         0.0            4973250147957768832\n",
       "2        -2.564       6.833              3813.0        2.89          0.38         0.38           4976544490953365632\n",
       "3        77.837       1.993              4962.0        3.24          -0.61        0.07           4976851014178872448\n",
       "4        3.519        4.035              4171.0        2.61          -0.14        0.19           4972468120311892096\n",
       "...      ...          ...                ...           ...           ...          ...            ...\n",
       "968,330  -0.753       1.277              5908.0        4.32          -0.01        0.11           6523116137833329792\n",
       "968,331  -1.839       2.183              5726.0        3.84          0.01         0.18           6523133145903856768\n",
       "968,332  7.603        1.202              3927.0        4.07          -0.41        0.0            6524623911873631104\n",
       "968,333  25.576       1.922              5654.0        4.33          0.05         0.19           6522142314129013504\n",
       "968,334  -48.736      0.837              5845.0        4.19          -0.34        0.19           6497508134063976448"
      ]
     },
     "execution_count": 19,
     "metadata": {},
     "output_type": "execute_result"
    }
   ],
   "source": [
    "rave = vaex.open_many(files)\n",
    "rave"
   ]
  },
  {
   "cell_type": "code",
   "execution_count": 20,
   "metadata": {},
   "outputs": [
    {
     "data": {
      "text/html": [
       "<table>\n",
       "<thead>\n",
       "<tr><th>#                                  </th><th>hrv_sparv  </th><th>hrv_error_sparv  </th><th>teff_sparv  </th><th>logg_sparv  </th><th>m_h_sparv  </th><th>alpha_sparv  </th><th>source_id          </th></tr>\n",
       "</thead>\n",
       "<tbody>\n",
       "<tr><td><i style='opacity: 0.6'>0</i>      </td><td>-37.893    </td><td>4.791            </td><td>3953.0      </td><td>2.41        </td><td>0.11       </td><td>0.13         </td><td>4973212867641442560</td></tr>\n",
       "<tr><td><i style='opacity: 0.6'>1</i>      </td><td>4.044      </td><td>6.539            </td><td>8286.0      </td><td>4.91        </td><td>0.39       </td><td>0.0          </td><td>4973250147957768832</td></tr>\n",
       "<tr><td><i style='opacity: 0.6'>2</i>      </td><td>-2.564     </td><td>6.833            </td><td>3813.0      </td><td>2.89        </td><td>0.38       </td><td>0.38         </td><td>4976544490953365632</td></tr>\n",
       "<tr><td><i style='opacity: 0.6'>3</i>      </td><td>77.837     </td><td>1.993            </td><td>4962.0      </td><td>3.24        </td><td>-0.61      </td><td>0.07         </td><td>4976851014178872448</td></tr>\n",
       "<tr><td><i style='opacity: 0.6'>4</i>      </td><td>3.519      </td><td>4.035            </td><td>4171.0      </td><td>2.61        </td><td>-0.14      </td><td>0.19         </td><td>4972468120311892096</td></tr>\n",
       "<tr><td>...                                </td><td>...        </td><td>...              </td><td>...         </td><td>...         </td><td>...        </td><td>...          </td><td>...                </td></tr>\n",
       "<tr><td><i style='opacity: 0.6'>450,973</i></td><td>-0.753     </td><td>1.277            </td><td>5908.0      </td><td>4.32        </td><td>-0.01      </td><td>0.11         </td><td>6523116137833329792</td></tr>\n",
       "<tr><td><i style='opacity: 0.6'>450,974</i></td><td>-1.839     </td><td>2.183            </td><td>5726.0      </td><td>3.84        </td><td>0.01       </td><td>0.18         </td><td>6523133145903856768</td></tr>\n",
       "<tr><td><i style='opacity: 0.6'>450,975</i></td><td>7.603      </td><td>1.202            </td><td>3927.0      </td><td>4.07        </td><td>-0.41      </td><td>0.0          </td><td>6524623911873631104</td></tr>\n",
       "<tr><td><i style='opacity: 0.6'>450,976</i></td><td>25.576     </td><td>1.922            </td><td>5654.0      </td><td>4.33        </td><td>0.05       </td><td>0.19         </td><td>6522142314129013504</td></tr>\n",
       "<tr><td><i style='opacity: 0.6'>450,977</i></td><td>-48.736    </td><td>0.837            </td><td>5845.0      </td><td>4.19        </td><td>-0.34      </td><td>0.19         </td><td>6497508134063976448</td></tr>\n",
       "</tbody>\n",
       "</table>"
      ],
      "text/plain": [
       "#        hrv_sparv    hrv_error_sparv    teff_sparv    logg_sparv    m_h_sparv    alpha_sparv    source_id\n",
       "0        -37.893      4.791              3953.0        2.41          0.11         0.13           4973212867641442560\n",
       "1        4.044        6.539              8286.0        4.91          0.39         0.0            4973250147957768832\n",
       "2        -2.564       6.833              3813.0        2.89          0.38         0.38           4976544490953365632\n",
       "3        77.837       1.993              4962.0        3.24          -0.61        0.07           4976851014178872448\n",
       "4        3.519        4.035              4171.0        2.61          -0.14        0.19           4972468120311892096\n",
       "...      ...          ...                ...           ...           ...          ...            ...\n",
       "450,973  -0.753       1.277              5908.0        4.32          -0.01        0.11           6523116137833329792\n",
       "450,974  -1.839       2.183              5726.0        3.84          0.01         0.18           6523133145903856768\n",
       "450,975  7.603        1.202              3927.0        4.07          -0.41        0.0            6524623911873631104\n",
       "450,976  25.576       1.922              5654.0        4.33          0.05         0.19           6522142314129013504\n",
       "450,977  -48.736      0.837              5845.0        4.19          -0.34        0.19           6497508134063976448"
      ]
     },
     "execution_count": 20,
     "metadata": {},
     "output_type": "execute_result"
    }
   ],
   "source": [
    "# remove duplicates with pandas\n",
    "df = rave.to_pandas_df()\n",
    "df = df.drop_duplicates(\"source_id\")\n",
    "rave = vaex.from_pandas(df)\n",
    "rave"
   ]
  },
  {
   "cell_type": "code",
   "execution_count": 24,
   "metadata": {},
   "outputs": [
    {
     "data": {
      "text/plain": [
       "['hrv_sparv',\n",
       " 'hrv_error_sparv',\n",
       " 'teff_sparv',\n",
       " 'logg_sparv',\n",
       " 'm_h_sparv',\n",
       " 'alpha_sparv',\n",
       " 'source_id']"
      ]
     },
     "execution_count": 24,
     "metadata": {},
     "output_type": "execute_result"
    }
   ],
   "source": [
    "columns = rave.column_names\n",
    "columns"
   ]
  },
  {
   "cell_type": "code",
   "execution_count": 25,
   "metadata": {},
   "outputs": [
    {
     "data": {
      "text/html": [
       "<table>\n",
       "<thead>\n",
       "<tr><th>#                                  </th><th>rv_rave  </th><th>e_rv_rave  </th><th>teff_rave  </th><th>logg_rave  </th><th>mh_rave  </th><th>alphafe_rave  </th><th>source_id          </th></tr>\n",
       "</thead>\n",
       "<tbody>\n",
       "<tr><td><i style='opacity: 0.6'>0</i>      </td><td>-37.893  </td><td>4.791      </td><td>3953.0     </td><td>2.41       </td><td>0.11     </td><td>0.13          </td><td>4973212867641442560</td></tr>\n",
       "<tr><td><i style='opacity: 0.6'>1</i>      </td><td>4.044    </td><td>6.539      </td><td>8286.0     </td><td>4.91       </td><td>0.39     </td><td>0.0           </td><td>4973250147957768832</td></tr>\n",
       "<tr><td><i style='opacity: 0.6'>2</i>      </td><td>-2.564   </td><td>6.833      </td><td>3813.0     </td><td>2.89       </td><td>0.38     </td><td>0.38          </td><td>4976544490953365632</td></tr>\n",
       "<tr><td><i style='opacity: 0.6'>3</i>      </td><td>77.837   </td><td>1.993      </td><td>4962.0     </td><td>3.24       </td><td>-0.61    </td><td>0.07          </td><td>4976851014178872448</td></tr>\n",
       "<tr><td><i style='opacity: 0.6'>4</i>      </td><td>3.519    </td><td>4.035      </td><td>4171.0     </td><td>2.61       </td><td>-0.14    </td><td>0.19          </td><td>4972468120311892096</td></tr>\n",
       "<tr><td>...                                </td><td>...      </td><td>...        </td><td>...        </td><td>...        </td><td>...      </td><td>...           </td><td>...                </td></tr>\n",
       "<tr><td><i style='opacity: 0.6'>450,973</i></td><td>-0.753   </td><td>1.277      </td><td>5908.0     </td><td>4.32       </td><td>-0.01    </td><td>0.11          </td><td>6523116137833329792</td></tr>\n",
       "<tr><td><i style='opacity: 0.6'>450,974</i></td><td>-1.839   </td><td>2.183      </td><td>5726.0     </td><td>3.84       </td><td>0.01     </td><td>0.18          </td><td>6523133145903856768</td></tr>\n",
       "<tr><td><i style='opacity: 0.6'>450,975</i></td><td>7.603    </td><td>1.202      </td><td>3927.0     </td><td>4.07       </td><td>-0.41    </td><td>0.0           </td><td>6524623911873631104</td></tr>\n",
       "<tr><td><i style='opacity: 0.6'>450,976</i></td><td>25.576   </td><td>1.922      </td><td>5654.0     </td><td>4.33       </td><td>0.05     </td><td>0.19          </td><td>6522142314129013504</td></tr>\n",
       "<tr><td><i style='opacity: 0.6'>450,977</i></td><td>-48.736  </td><td>0.837      </td><td>5845.0     </td><td>4.19       </td><td>-0.34    </td><td>0.19          </td><td>6497508134063976448</td></tr>\n",
       "</tbody>\n",
       "</table>"
      ],
      "text/plain": [
       "#        rv_rave    e_rv_rave    teff_rave    logg_rave    mh_rave    alphafe_rave    source_id\n",
       "0        -37.893    4.791        3953.0       2.41         0.11       0.13            4973212867641442560\n",
       "1        4.044      6.539        8286.0       4.91         0.39       0.0             4973250147957768832\n",
       "2        -2.564     6.833        3813.0       2.89         0.38       0.38            4976544490953365632\n",
       "3        77.837     1.993        4962.0       3.24         -0.61      0.07            4976851014178872448\n",
       "4        3.519      4.035        4171.0       2.61         -0.14      0.19            4972468120311892096\n",
       "...      ...        ...          ...          ...          ...        ...             ...\n",
       "450,973  -0.753     1.277        5908.0       4.32         -0.01      0.11            6523116137833329792\n",
       "450,974  -1.839     2.183        5726.0       3.84         0.01       0.18            6523133145903856768\n",
       "450,975  7.603      1.202        3927.0       4.07         -0.41      0.0             6524623911873631104\n",
       "450,976  25.576     1.922        5654.0       4.33         0.05       0.19            6522142314129013504\n",
       "450,977  -48.736    0.837        5845.0       4.19         -0.34      0.19            6497508134063976448"
      ]
     },
     "execution_count": 25,
     "metadata": {},
     "output_type": "execute_result"
    }
   ],
   "source": [
    "columns_new = ['rv_rave',\n",
    " 'e_rv_rave',\n",
    " 'teff_rave',\n",
    " 'logg_rave',\n",
    " 'mh_rave',\n",
    " 'alphafe_rave',\n",
    " 'source_id']\n",
    "\n",
    "for old, new in zip(columns, columns_new):\n",
    "    rave.rename(old, new)\n",
    "rave"
   ]
  },
  {
   "cell_type": "code",
   "execution_count": 26,
   "metadata": {},
   "outputs": [
    {
     "name": "stdout",
     "output_type": "stream",
     "text": [
      "export(hdf5) [########################################] 100.00% elapsed time  :     0.08s =  0.0m =  0.0h\n",
      " "
     ]
    }
   ],
   "source": [
    "# export to hdf5\n",
    "rave.export(join(data_dir, \"rave6.hdf5\"), progress=True)"
   ]
  }
 ],
 "metadata": {
  "kernelspec": {
   "display_name": "vaex",
   "language": "python",
   "name": "python3"
  },
  "language_info": {
   "codemirror_mode": {
    "name": "ipython",
    "version": 3
   },
   "file_extension": ".py",
   "mimetype": "text/x-python",
   "name": "python",
   "nbconvert_exporter": "python",
   "pygments_lexer": "ipython3",
   "version": "3.8.10"
  },
  "vscode": {
   "interpreter": {
    "hash": "2e98b01e139963c1272b06356b7ab7b4729889064e74152a80e8f95bb2c4292e"
   }
  }
 },
 "nbformat": 4,
 "nbformat_minor": 4
}
