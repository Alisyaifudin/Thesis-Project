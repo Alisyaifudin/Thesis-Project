{
 "cells": [
  {
   "cell_type": "markdown",
   "metadata": {},
   "source": [
    "There are two way to download RAVE:\n",
    "1. From website\n",
    "2. Tap Vizier\n",
    "\n",
    "choose one of the step only"
   ]
  },
  {
   "cell_type": "markdown",
   "metadata": {},
   "source": [
    "# 1. From website"
   ]
  },
  {
   "cell_type": "markdown",
   "metadata": {},
   "source": [
    "Query rave6 from their website: https://www.rave-survey.org/query/ \n",
    "\n",
    "![rave query page](<images/rave-query-page.png>)"
   ]
  },
  {
   "cell_type": "markdown",
   "metadata": {},
   "source": [
    "#### The query\n",
    "\n",
    "divide into multiple RAs for smaller response, if needed\n",
    "\n",
    "```\n",
    "SELECT TOP 150000 sparv.\"hrv_sparv\" AS rv_rave, sparv.\"hrv_error_sparv\" AS e_rv_rave, aux.\"teff_sparv\" AS teff_rave, aux.\"logg_sparv\" AS logg_rave, aux.\"m_h_sparv\" AS mh_rave, aux.\"alpha_sparv\" AS alphafe_rave, gaia.\"source_id\" \n",
    "FROM ravedr6.dr6_sparv AS sparv \n",
    "JOIN ravedr6.dr6_sparv_aux AS aux ON sparv.rave_obs_id = aux.rave_obs_id \n",
    "RIGHT JOIN ravedr6.dr6_x_gaiaedr3 AS gaia ON gaia.rave_obs_id = sparv.rave_obs_id \n",
    "WHERE gaia.ra BETWEEN 0 AND 60\n",
    "```\n",
    "\n",
    "Change `WHERE gaia.ra BETWEEN 0 AND 60` into other interval"
   ]
  },
  {
   "cell_type": "markdown",
   "metadata": {},
   "source": [
    "save the downloaded files to `Thesis-Project/Data/RAVE6`"
   ]
  },
  {
   "cell_type": "markdown",
   "metadata": {},
   "source": [
    "# 2. TAP RAVE VO"
   ]
  },
  {
   "cell_type": "code",
   "execution_count": 16,
   "metadata": {},
   "outputs": [],
   "source": [
    "from astroquery.utils.tap.core import Tap\n",
    "from os.path import join, abspath\n",
    "from os import pardir, curdir, mkdir\n",
    "from glob import glob\n",
    "import sys\n",
    "import numpy as np\n",
    "import pandas as pd\n",
    "import vaex\n",
    "from astropy.table import Table\n",
    "\n"
   ]
  },
  {
   "cell_type": "code",
   "execution_count": 2,
   "metadata": {},
   "outputs": [],
   "source": [
    "# import utils\n",
    "util_dir = abspath(pardir)\n",
    "sys.path.insert(0, util_dir)\n",
    "\n",
    "from utils import timeout, appendName"
   ]
  },
  {
   "cell_type": "code",
   "execution_count": 3,
   "metadata": {},
   "outputs": [
    {
     "name": "stdout",
     "output_type": "stream",
     "text": [
      "Directory already exist. Good to go!\n"
     ]
    },
    {
     "data": {
      "text/plain": [
       "'/home2/s20321005/Thesis-Project/Data/RAVE6'"
      ]
     },
     "execution_count": 3,
     "metadata": {},
     "output_type": "execute_result"
    }
   ],
   "source": [
    "name = \"RAVE6\"\n",
    "root_data_dir = abspath(join(pardir, \"Data\"))\n",
    "data_dir = join(root_data_dir, name)\n",
    "try:\n",
    "  mkdir(data_dir)\n",
    "  print(f\"Creating {name} dir in Data dir\")\n",
    "except FileExistsError:\n",
    "  print(\"Directory already exist. Good to go!\")\n",
    "data_dir"
   ]
  },
  {
   "cell_type": "code",
   "execution_count": 6,
   "metadata": {},
   "outputs": [],
   "source": [
    "# Vizier tap endpoint\n",
    "# # tap = Tap(url=\"http://tapvizier.u-strasbg.fr/TAPVizieR/tap/sync/\")\n",
    "# tap = Tap(url=\"https://www.rave-survey.org/tap/\")\n",
    "# # tables = tap.load_table('')\n",
    "# # for table in tables:\n",
    "# #   print(table.get_qualified_name())\n",
    "# columns_main = [\"rv_rave\", \"e_HRV AS e_rv_rave\"]\n",
    "# # columns_aux = [\"Teffs AS teff_rave\", \"loggs AS logg_rave\", \n",
    "# #                \"[M/H]s AS mh_rave\", \"[a/Fe]s AS alphafe_rave\"]\n",
    "# # columns_xmatch = [\"Gaiae3 AS source_id\"]\n",
    "\n",
    "# columns_main = list(map(lambda x: appendName(x, \"main\"), columns_main))\n",
    "# # columns_aux = list(map(lambda x: appendName(x, \"aux\"), columns_aux))\n",
    "# # columns_xmatch = list(map(lambda x: appendName(x, \"xmatch\"), columns_xmatch))\n",
    "\n",
    "# # columns = columns_xmatch + columns_aux + columns_main\n",
    "# columns"
   ]
  },
  {
   "cell_type": "code",
   "execution_count": 4,
   "metadata": {},
   "outputs": [
    {
     "data": {
      "text/plain": [
       "['ravedr6.dr6_sparv.\"hrv_sparv\" AS rv_rave',\n",
       " 'ravedr6.dr6_sparv.\"hrv_error_sparv\" AS e_rv_rave',\n",
       " 'ravedr6.dr6_sparv_aux.\"teff_sparv\" AS teff_rave',\n",
       " 'ravedr6.dr6_sparv_aux.\"logg_sparv\" AS logg_rave',\n",
       " 'ravedr6.dr6_sparv_aux.\"m_h_sparv\" AS mh_rave',\n",
       " 'ravedr6.dr6_sparv_aux.\"alpha_sparv\" AS alphafe_rave',\n",
       " 'ravedr6.dr6_x_gaiaedr3.\"source_id\"']"
      ]
     },
     "execution_count": 4,
     "metadata": {},
     "output_type": "execute_result"
    }
   ],
   "source": [
    "# RAVE tap endpoint\n",
    "# tap = Tap(url=\"http://tapvizier.u-strasbg.fr/TAPVizieR/tap/sync/\")\n",
    "tap = Tap(url=\"https://www.rave-survey.org/tap/\")\n",
    "\n",
    "columns_sparv = [\"hrv_sparv AS rv_rave\", \"hrv_error_sparv AS e_rv_rave\"]\n",
    "columns_aux = [\"teff_sparv AS teff_rave\", \"logg_sparv AS logg_rave\", \n",
    "               \"m_h_sparv AS mh_rave\", \"alpha_sparv AS alphafe_rave\"]\n",
    "columns_xmatch = [\"source_id\"]\n",
    "\n",
    "sparv_table = \"ravedr6.dr6_sparv\"\n",
    "aux_table = \"ravedr6.dr6_sparv_aux\"\n",
    "xmatch_table = \"ravedr6.dr6_x_gaiaedr3\"\n",
    "columns_sparv = list(map(lambda x: appendName(x, sparv_table), columns_sparv))\n",
    "columns_aux = list(map(lambda x: appendName(x, aux_table), columns_aux))\n",
    "columns_xmatch = list(map(lambda x: appendName(x, xmatch_table), columns_xmatch))\n",
    "\n",
    "columns = columns_sparv + columns_aux + columns_xmatch\n",
    "columns"
   ]
  },
  {
   "cell_type": "code",
   "execution_count": 5,
   "metadata": {},
   "outputs": [
    {
     "data": {
      "text/plain": [
       "array([  0,  40,  80, 120, 160, 200, 240, 280, 320, 360])"
      ]
     },
     "execution_count": 5,
     "metadata": {},
     "output_type": "execute_result"
    }
   ],
   "source": [
    "# divide ra into multiple partitions\n",
    "ras = np.linspace(0, 360, 10).astype(int)\n",
    "ras"
   ]
  },
  {
   "cell_type": "code",
   "execution_count": 6,
   "metadata": {},
   "outputs": [
    {
     "data": {
      "text/plain": [
       "'ravedr6.dr6_sparv.\"hrv_sparv\" AS rv_rave, ravedr6.dr6_sparv.\"hrv_error_sparv\" AS e_rv_rave, ravedr6.dr6_sparv_aux.\"teff_sparv\" AS teff_rave, ravedr6.dr6_sparv_aux.\"logg_sparv\" AS logg_rave, ravedr6.dr6_sparv_aux.\"m_h_sparv\" AS mh_rave, ravedr6.dr6_sparv_aux.\"alpha_sparv\" AS alphafe_rave, ravedr6.dr6_x_gaiaedr3.\"source_id\"'"
      ]
     },
     "execution_count": 6,
     "metadata": {},
     "output_type": "execute_result"
    }
   ],
   "source": [
    "\", \".join(columns)"
   ]
  },
  {
   "cell_type": "code",
   "execution_count": 15,
   "metadata": {},
   "outputs": [
    {
     "name": "stdout",
     "output_type": "stream",
     "text": [
      "querying 0 40\n",
      "INFO: Query finished. [astroquery.utils.tap.core]\n",
      "querying 40 80\n",
      "INFO: Query finished. [astroquery.utils.tap.core]\n",
      "querying 80 120\n",
      "INFO: Query finished. [astroquery.utils.tap.core]\n",
      "querying 120 160\n",
      "INFO: Query finished. [astroquery.utils.tap.core]\n",
      "querying 160 200\n",
      "INFO: Query finished. [astroquery.utils.tap.core]\n",
      "querying 200 240\n",
      "INFO: Query finished. [astroquery.utils.tap.core]\n",
      "querying 240 280\n",
      "INFO: Query finished. [astroquery.utils.tap.core]\n",
      "querying 280 320\n",
      "INFO: Query finished. [astroquery.utils.tap.core]\n",
      "querying 320 360\n",
      "INFO: Query finished. [astroquery.utils.tap.core]\n"
     ]
    }
   ],
   "source": [
    "for ra_lower, ra_upper in zip(ras[:-1], ras[1:]):\n",
    "    TOP = 100000\n",
    "    while True:\n",
    "        print(\"querying\", ra_lower, ra_upper)\n",
    "        query = f\"\"\"\n",
    "        SELECT TOP {TOP} {\", \".join(columns)}\n",
    "        FROM {sparv_table}\n",
    "        JOIN {aux_table} ON {sparv_table}.rave_obs_id = {aux_table}.rave_obs_id\n",
    "        JOIN {xmatch_table} ON {sparv_table}.rave_obs_id = {xmatch_table}.rave_obs_id\n",
    "        WHERE {xmatch_table}.ra BETWEEN {ra_lower} AND {ra_upper}\n",
    "        \"\"\"\n",
    "        job = timeout(tap.launch_job_async, args=(query,), timeout_duration=120, minVal=0.2)\n",
    "        result = job.get_results()\n",
    "        if len(result) != TOP:\n",
    "            df = result.to_pandas()\n",
    "            df = vaex.from_pandas(df)\n",
    "            df.export_hdf5(join(data_dir, f\"rave-{ra_lower:03d}-{ra_upper:03d}.hdf5\"))\n",
    "            break\n",
    "        TOP *= 2\n",
    "        print(\"capped at\", TOP)"
   ]
  },
  {
   "cell_type": "markdown",
   "metadata": {},
   "source": [
    "# Cleaning"
   ]
  },
  {
   "cell_type": "code",
   "execution_count": 17,
   "metadata": {},
   "outputs": [
    {
     "data": {
      "text/plain": [
       "['/home2/s20321005/Thesis-Project/Data/RAVE6/rave-000-040.hdf5',\n",
       " '/home2/s20321005/Thesis-Project/Data/RAVE6/rave-040-080.hdf5',\n",
       " '/home2/s20321005/Thesis-Project/Data/RAVE6/rave-080-120.hdf5',\n",
       " '/home2/s20321005/Thesis-Project/Data/RAVE6/rave-120-160.hdf5',\n",
       " '/home2/s20321005/Thesis-Project/Data/RAVE6/rave-160-200.hdf5',\n",
       " '/home2/s20321005/Thesis-Project/Data/RAVE6/rave-200-240.hdf5',\n",
       " '/home2/s20321005/Thesis-Project/Data/RAVE6/rave-240-280.hdf5',\n",
       " '/home2/s20321005/Thesis-Project/Data/RAVE6/rave-280-320.hdf5',\n",
       " '/home2/s20321005/Thesis-Project/Data/RAVE6/rave-320-360.hdf5']"
      ]
     },
     "execution_count": 17,
     "metadata": {},
     "output_type": "execute_result"
    }
   ],
   "source": [
    "files = glob(join(data_dir, \"*.hdf5\"))\n",
    "files.sort()\n",
    "files"
   ]
  },
  {
   "cell_type": "code",
   "execution_count": 18,
   "metadata": {},
   "outputs": [
    {
     "data": {
      "text/html": [
       "<table>\n",
       "<thead>\n",
       "<tr><th>#                                  </th><th>rv_rave  </th><th>e_rv_rave  </th><th>teff_rave  </th><th>logg_rave  </th><th>mh_rave  </th><th>alphafe_rave  </th><th>source_id          </th></tr>\n",
       "</thead>\n",
       "<tbody>\n",
       "<tr><td><i style='opacity: 0.6'>0</i>      </td><td>77.837   </td><td>1.993      </td><td>4962.0     </td><td>3.24       </td><td>-0.61    </td><td>0.07          </td><td>4976851014178872448</td></tr>\n",
       "<tr><td><i style='opacity: 0.6'>1</i>      </td><td>34.994   </td><td>2.406      </td><td>4969.0     </td><td>3.5        </td><td>-0.15    </td><td>0.14          </td><td>4976832150682472320</td></tr>\n",
       "<tr><td><i style='opacity: 0.6'>2</i>      </td><td>-32.216  </td><td>3.533      </td><td>3709.0     </td><td>2.59       </td><td>-0.17    </td><td>0.4           </td><td>4976765595869168512</td></tr>\n",
       "<tr><td><i style='opacity: 0.6'>3</i>      </td><td>-2.564   </td><td>6.833      </td><td>3813.0     </td><td>2.89       </td><td>0.38     </td><td>0.38          </td><td>4976544490953365632</td></tr>\n",
       "<tr><td><i style='opacity: 0.6'>4</i>      </td><td>9.119    </td><td>4.21       </td><td>5244.0     </td><td>4.08       </td><td>0.07     </td><td>0.01          </td><td>4973522036567243264</td></tr>\n",
       "<tr><td>...                                </td><td>...      </td><td>...        </td><td>...        </td><td>...        </td><td>...      </td><td>...           </td><td>...                </td></tr>\n",
       "<tr><td><i style='opacity: 0.6'>517,352</i></td><td>-7.549   </td><td>1.682      </td><td>6710.0     </td><td>4.78       </td><td>-0.27    </td><td>0.0           </td><td>6459331406720374912</td></tr>\n",
       "<tr><td><i style='opacity: 0.6'>517,353</i></td><td>-22.461  </td><td>1.746      </td><td>6196.0     </td><td>4.96       </td><td>-0.06    </td><td>0.02          </td><td>6459386657179753984</td></tr>\n",
       "<tr><td><i style='opacity: 0.6'>517,354</i></td><td>-1.974   </td><td>1.182      </td><td>4255.0     </td><td>1.53       </td><td>-0.54    </td><td>0.22          </td><td>6459807009922689920</td></tr>\n",
       "<tr><td><i style='opacity: 0.6'>517,355</i></td><td>-11.966  </td><td>2.76       </td><td>6208.0     </td><td>4.61       </td><td>0.02     </td><td>0.0           </td><td>6459288491407088768</td></tr>\n",
       "<tr><td><i style='opacity: 0.6'>517,356</i></td><td>-25.83   </td><td>2.752      </td><td>5220.0     </td><td>3.91       </td><td>-0.06    </td><td>0.08          </td><td>6453248530438341376</td></tr>\n",
       "</tbody>\n",
       "</table>"
      ],
      "text/plain": [
       "#        rv_rave    e_rv_rave    teff_rave    logg_rave    mh_rave    alphafe_rave    source_id\n",
       "0        77.837     1.993        4962.0       3.24         -0.61      0.07            4976851014178872448\n",
       "1        34.994     2.406        4969.0       3.5          -0.15      0.14            4976832150682472320\n",
       "2        -32.216    3.533        3709.0       2.59         -0.17      0.4             4976765595869168512\n",
       "3        -2.564     6.833        3813.0       2.89         0.38       0.38            4976544490953365632\n",
       "4        9.119      4.21         5244.0       4.08         0.07       0.01            4973522036567243264\n",
       "...      ...        ...          ...          ...          ...        ...             ...\n",
       "517,352  -7.549     1.682        6710.0       4.78         -0.27      0.0             6459331406720374912\n",
       "517,353  -22.461    1.746        6196.0       4.96         -0.06      0.02            6459386657179753984\n",
       "517,354  -1.974     1.182        4255.0       1.53         -0.54      0.22            6459807009922689920\n",
       "517,355  -11.966    2.76         6208.0       4.61         0.02       0.0             6459288491407088768\n",
       "517,356  -25.83     2.752        5220.0       3.91         -0.06      0.08            6453248530438341376"
      ]
     },
     "execution_count": 18,
     "metadata": {},
     "output_type": "execute_result"
    }
   ],
   "source": [
    "rave = vaex.open_many(files)\n",
    "rave"
   ]
  },
  {
   "cell_type": "code",
   "execution_count": 20,
   "metadata": {},
   "outputs": [
    {
     "data": {
      "text/html": [
       "<table>\n",
       "<thead>\n",
       "<tr><th>#                                  </th><th>rv_rave  </th><th>e_rv_rave  </th><th>teff_rave  </th><th>logg_rave  </th><th>mh_rave  </th><th>alphafe_rave  </th><th>source_id          </th></tr>\n",
       "</thead>\n",
       "<tbody>\n",
       "<tr><td><i style='opacity: 0.6'>0</i>      </td><td>77.837   </td><td>1.993      </td><td>4962.0     </td><td>3.24       </td><td>-0.61    </td><td>0.07          </td><td>4976851014178872448</td></tr>\n",
       "<tr><td><i style='opacity: 0.6'>1</i>      </td><td>34.994   </td><td>2.406      </td><td>4969.0     </td><td>3.5        </td><td>-0.15    </td><td>0.14          </td><td>4976832150682472320</td></tr>\n",
       "<tr><td><i style='opacity: 0.6'>2</i>      </td><td>-32.216  </td><td>3.533      </td><td>3709.0     </td><td>2.59       </td><td>-0.17    </td><td>0.4           </td><td>4976765595869168512</td></tr>\n",
       "<tr><td><i style='opacity: 0.6'>3</i>      </td><td>-2.564   </td><td>6.833      </td><td>3813.0     </td><td>2.89       </td><td>0.38     </td><td>0.38          </td><td>4976544490953365632</td></tr>\n",
       "<tr><td><i style='opacity: 0.6'>4</i>      </td><td>9.119    </td><td>4.21       </td><td>5244.0     </td><td>4.08       </td><td>0.07     </td><td>0.01          </td><td>4973522036567243264</td></tr>\n",
       "<tr><td>...                                </td><td>...      </td><td>...        </td><td>...        </td><td>...        </td><td>...      </td><td>...           </td><td>...                </td></tr>\n",
       "<tr><td><i style='opacity: 0.6'>450,973</i></td><td>-3.353   </td><td>2.577      </td><td>5430.0     </td><td>4.23       </td><td>0.22     </td><td>0.05          </td><td>6523068137278802048</td></tr>\n",
       "<tr><td><i style='opacity: 0.6'>450,974</i></td><td>-0.753   </td><td>1.277      </td><td>5908.0     </td><td>4.32       </td><td>-0.01    </td><td>0.11          </td><td>6523116137833329792</td></tr>\n",
       "<tr><td><i style='opacity: 0.6'>450,975</i></td><td>-1.839   </td><td>2.183      </td><td>5726.0     </td><td>3.84       </td><td>0.01     </td><td>0.18          </td><td>6523133145903856768</td></tr>\n",
       "<tr><td><i style='opacity: 0.6'>450,976</i></td><td>7.603    </td><td>1.202      </td><td>3927.0     </td><td>4.07       </td><td>-0.41    </td><td>0.0           </td><td>6524623911873631104</td></tr>\n",
       "<tr><td><i style='opacity: 0.6'>450,977</i></td><td>-48.736  </td><td>0.837      </td><td>5845.0     </td><td>4.19       </td><td>-0.34    </td><td>0.19          </td><td>6497508134063976448</td></tr>\n",
       "</tbody>\n",
       "</table>"
      ],
      "text/plain": [
       "#        rv_rave    e_rv_rave    teff_rave    logg_rave    mh_rave    alphafe_rave    source_id\n",
       "0        77.837     1.993        4962.0       3.24         -0.61      0.07            4976851014178872448\n",
       "1        34.994     2.406        4969.0       3.5          -0.15      0.14            4976832150682472320\n",
       "2        -32.216    3.533        3709.0       2.59         -0.17      0.4             4976765595869168512\n",
       "3        -2.564     6.833        3813.0       2.89         0.38       0.38            4976544490953365632\n",
       "4        9.119      4.21         5244.0       4.08         0.07       0.01            4973522036567243264\n",
       "...      ...        ...          ...          ...          ...        ...             ...\n",
       "450,973  -3.353     2.577        5430.0       4.23         0.22       0.05            6523068137278802048\n",
       "450,974  -0.753     1.277        5908.0       4.32         -0.01      0.11            6523116137833329792\n",
       "450,975  -1.839     2.183        5726.0       3.84         0.01       0.18            6523133145903856768\n",
       "450,976  7.603      1.202        3927.0       4.07         -0.41      0.0             6524623911873631104\n",
       "450,977  -48.736    0.837        5845.0       4.19         -0.34      0.19            6497508134063976448"
      ]
     },
     "execution_count": 20,
     "metadata": {},
     "output_type": "execute_result"
    }
   ],
   "source": [
    "# remove duplicates with pandas\n",
    "df = rave.to_pandas_df()\n",
    "df = df.drop_duplicates(\"source_id\")\n",
    "rave = vaex.from_pandas(df)\n",
    "rave"
   ]
  },
  {
   "cell_type": "code",
   "execution_count": 22,
   "metadata": {},
   "outputs": [
    {
     "name": "stdout",
     "output_type": "stream",
     "text": [
      "export(hdf5) [########################################] 100.00% elapsed time  :     0.06s =  0.0m =  0.0h\n",
      " "
     ]
    }
   ],
   "source": [
    "# export to hdf5\n",
    "rave.export(join(data_dir, \"rave6.hdf5\"), progress=True)"
   ]
  }
 ],
 "metadata": {
  "kernelspec": {
   "display_name": "Python 3",
   "language": "python",
   "name": "python3"
  },
  "language_info": {
   "codemirror_mode": {
    "name": "ipython",
    "version": 3
   },
   "file_extension": ".py",
   "mimetype": "text/x-python",
   "name": "python",
   "nbconvert_exporter": "python",
   "pygments_lexer": "ipython3",
   "version": "3.8.10"
  },
  "vscode": {
   "interpreter": {
    "hash": "ce24ca8aae0c18c4327bef86187bd310e85b0b68e0fbab549c3fc8d824c6eee6"
   }
  }
 },
 "nbformat": 4,
 "nbformat_minor": 4
}
