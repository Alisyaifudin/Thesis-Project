{
 "cells": [
  {
   "attachments": {},
   "cell_type": "markdown",
   "metadata": {},
   "source": [
    "# The Beginning\n",
    "\n",
    "we need the following packages:\n",
    "\n",
    "* `numpy`: to manipulate in vector array\n",
    "* `vaex`: to open and manipulate big data in dataframe\n",
    "* `astroquery.gaia.Gaia`: to query Gaia DR3\n",
    "* `astroquery.utils.tap.core.Tap`: to query 2MASS from Tap protocols\n",
    "\n",
    "and some utility packages:\n",
    "\n",
    "* `datetime`: to get the current time\n",
    "* `time`: to get the current time\n",
    "* `os.path`:\n",
    "    * `join`: to join path\n",
    "    * `abspath`: to get the absolute path\n",
    "\n",
    "* `os`:\n",
    "    * `mkdir`: to create a directory\n",
    "    * `rmdir`: to remove a directory\n",
    "    * `pardir`: to get the parent directory\n",
    "* `sys`: to import local package\n",
    "* `glob`: to get the list of files in a directory\n",
    "\n"
   ]
  },
  {
   "cell_type": "code",
   "execution_count": 1,
   "metadata": {
    "execution": {
     "iopub.execute_input": "2023-01-14T15:44:41.043434Z",
     "iopub.status.busy": "2023-01-14T15:44:41.042823Z",
     "iopub.status.idle": "2023-01-14T15:44:41.050286Z",
     "shell.execute_reply": "2023-01-14T15:44:41.049182Z",
     "shell.execute_reply.started": "2023-01-14T15:44:41.043376Z"
    },
    "tags": []
   },
   "outputs": [],
   "source": [
    "import numpy as np\n",
    "import vaex\n",
    "from astroquery.gaia import Gaia\n",
    "from astroquery.utils.tap.core import Tap\n",
    "\n",
    "from datetime import datetime\n",
    "from time import time\n",
    "from os.path import join, abspath\n",
    "from os import pardir\n",
    "from glob import glob\n",
    "import sys"
   ]
  },
  {
   "attachments": {},
   "cell_type": "markdown",
   "metadata": {},
   "source": [
    "import some utility packages\n",
    "\n",
    "* timeout: to set the timeout for the query\n",
    "* append_name: append table name to the column name"
   ]
  },
  {
   "cell_type": "code",
   "execution_count": 2,
   "metadata": {
    "execution": {
     "iopub.execute_input": "2023-01-14T15:34:56.071064Z",
     "iopub.status.busy": "2023-01-14T15:34:56.070494Z",
     "iopub.status.idle": "2023-01-14T15:34:56.076481Z",
     "shell.execute_reply": "2023-01-14T15:34:56.075432Z",
     "shell.execute_reply.started": "2023-01-14T15:34:56.071011Z"
    },
    "tags": []
   },
   "outputs": [
    {
     "data": {
      "text/plain": [
       "['/home2/s20321005/Thesis-Project',\n",
       " '/home2/s20321005/Thesis-Project/1_Collecting_Data',\n",
       " '/home2/s20321005/.conda/envs/vaex/lib/python38.zip',\n",
       " '/home2/s20321005/.conda/envs/vaex/lib/python3.8',\n",
       " '/home2/s20321005/.conda/envs/vaex/lib/python3.8/lib-dynload',\n",
       " '',\n",
       " '/home2/s20321005/.local/lib/python3.8/site-packages',\n",
       " '/home2/s20321005/.conda/envs/vaex/lib/python3.8/site-packages']"
      ]
     },
     "execution_count": 2,
     "metadata": {},
     "output_type": "execute_result"
    }
   ],
   "source": [
    "# import utils\n",
    "util_dir = join(abspath(pardir))\n",
    "if not util_dir in sys.path:\n",
    "    sys.path.insert(0, util_dir)\n",
    "sys.path"
   ]
  },
  {
   "attachments": {},
   "cell_type": "markdown",
   "metadata": {},
   "source": [
    "# Begin > Utils Functions"
   ]
  },
  {
   "cell_type": "code",
   "execution_count": 3,
   "metadata": {},
   "outputs": [],
   "source": [
    "import signal\n",
    "\n",
    "class TimeoutError(Exception):\n",
    "    pass\n",
    "\n",
    "def timeout(func, duration, args=()):\n",
    "    \"\"\"\n",
    "    Run a function with a time limit.\n",
    "\n",
    "    Args:\n",
    "        func (function): The function to run.\n",
    "        duration (int): The maximum number of seconds to allow the function to run.\n",
    "        args (tuple): The positional arguments to pass to the function. Defaults to an empty tuple.\n",
    "\n",
    "    Returns:\n",
    "        dict: A dictionary containing the results of the function call, or an error message if the function timed out or raised an exception.\n",
    "        The dictionary has two keys:\n",
    "            - \"data\": If the function completed successfully, this key maps to the return value of the function.\n",
    "              If the function failed or timed out, this key maps to None.\n",
    "            - \"error\": If the function failed or timed out, this key maps to a dictionary containing information about the error.\n",
    "              The dictionary has two keys: \"type\" (a string with the name of the exception) and \"message\" (a string with the error message).\n",
    "\n",
    "    Raises:\n",
    "        TimeoutError: If the function takes longer than `duration` seconds to complete.\n",
    "\n",
    "    Example usage:\n",
    "        result = timeout(launch_job, 10, args=(arg1, arg2))\n",
    "        if result[\"error\"]:\n",
    "            print(\"Error:\", result[\"error\"][\"type\"], result[\"error\"][\"message\"])\n",
    "        else:\n",
    "            print(\"Result:\", result[\"data\"])\n",
    "    \"\"\"\n",
    "    def handler(signum, frame):\n",
    "        raise TimeoutError(\"Function timed out\")\n",
    "\n",
    "    # Set the signal handler for SIGALRM\n",
    "    signal.signal(signal.SIGALRM, handler)\n",
    "    signal.alarm(duration)\n",
    "\n",
    "    try:\n",
    "        result = func(*args)\n",
    "        data = result\n",
    "        error = None\n",
    "    except TimeoutError:\n",
    "        print(\"Function timed out\")\n",
    "        data = None\n",
    "        error = {\"type\": \"TimeoutError\", \"message\": \"Function timed out\"}\n",
    "    except Exception as e:\n",
    "        data = None\n",
    "        error = {\"type\": type(e).__name__, \"message\": str(e)}\n",
    "\n",
    "    # Disable the alarm\n",
    "    signal.alarm(0)\n",
    "\n",
    "    return {\"data\": data, \"error\": error}"
   ]
  },
  {
   "cell_type": "code",
   "execution_count": 4,
   "metadata": {},
   "outputs": [],
   "source": [
    "def launch_job(job_func, query, cols=\"\", duration=10):\n",
    "    \"\"\"\n",
    "    Launch a job with a timeout.\n",
    "\n",
    "    Args:\n",
    "        job_func (func): The job to launch.\n",
    "        query (str): The query to run.\n",
    "        cols (str): Rename the cols name if needed.\n",
    "        duration (int): The timeout duration.\n",
    "\n",
    "    Returns:\n",
    "        df (vaex.dataframe): The dataframe or None.\n",
    "    \"\"\"\n",
    "    # run the job and wrap in timeout\n",
    "    job = timeout(job_func, args=(query,), duration=duration)\n",
    "    df = None\n",
    "    # print error if job failed\n",
    "    if job['data'] == None:\n",
    "        print(job['error'])\n",
    "    # convert the result into vaex.dataframe if successful\n",
    "    else:\n",
    "        result = job['data'].get_results()\n",
    "        df = result.to_pandas()\n",
    "        if cols != \"\":\n",
    "            df.columns = cols\n",
    "        df = vaex.from_pandas(df)\n",
    "    return df"
   ]
  },
  {
   "cell_type": "code",
   "execution_count": 5,
   "metadata": {},
   "outputs": [],
   "source": [
    "def append_name(element, name):\n",
    "    \"\"\"\n",
    "    Append a table name to a column name.\n",
    "    \n",
    "    Parameters:\n",
    "    ----------\n",
    "    element: str \n",
    "        The column name.\n",
    "    name: str \n",
    "        The table name.\n",
    "\n",
    "    Returns:\n",
    "    -------\n",
    "        str: The column name with the table name appended.\n",
    "    \n",
    "    Example usage:\n",
    "    --------------\n",
    "        [in]:  append_name(\"id\", \"users\")\n",
    "\n",
    "        [out]: users.\\\"id\\\"\n",
    "\n",
    "        [in]:  append_name(\"id AS user_id\", \"users\")\n",
    "\n",
    "        [out]: users.\\\"id\\\" AS user_id\n",
    "    \"\"\"\n",
    "    string = element.split(\" AS \")\n",
    "    if(len(string) == 1):\n",
    "        return f\"{name}.\\\"{element}\\\"\"\n",
    "    else:\n",
    "        return f\"{name}.\\\"{string[0]}\\\" AS {string[1]}\""
   ]
  },
  {
   "cell_type": "code",
   "execution_count": 6,
   "metadata": {},
   "outputs": [],
   "source": [
    "from os import mkdir\n",
    "\n",
    "def safe_mkdir(path: str):\n",
    "    \"\"\"\n",
    "    Create a directory if it doesn't exist\n",
    "\n",
    "    Args:\n",
    "        path (str): Path to the directory to create\n",
    "    \"\"\"\n",
    "    try:\n",
    "        mkdir(path)\n",
    "        print(f\"Creating {path} dir in Data dir\")\n",
    "    except FileExistsError:\n",
    "        print(f\"Directory {path} already exist. Good to go!\")"
   ]
  },
  {
   "cell_type": "code",
   "execution_count": 7,
   "metadata": {},
   "outputs": [],
   "source": [
    "import shutil\n",
    "import os\n",
    "\n",
    "def delete_directory(dir_path):\n",
    "    \"\"\"\n",
    "    Deletes a directory and all its contents.\n",
    "    \n",
    "    Args:\n",
    "        dir_path (str): The path to the directory to be deleted.\n",
    "        \n",
    "    Returns:\n",
    "        bool: True if the directory was deleted successfully, False otherwise.\n",
    "    \"\"\"\n",
    "    try:\n",
    "        shutil.rmtree(dir_path)\n",
    "        if os.path.exists(dir_path):\n",
    "            return False\n",
    "        else:\n",
    "            return True\n",
    "    except Exception as e:\n",
    "        print(\"Error deleting directory:\", e)\n",
    "        return False\n"
   ]
  },
  {
   "attachments": {},
   "cell_type": "markdown",
   "metadata": {},
   "source": [
    "# End > Utils Functions"
   ]
  },
  {
   "cell_type": "code",
   "execution_count": 3,
   "metadata": {},
   "outputs": [],
   "source": [
    "from utils import (launch_job, append_name, safe_mkdir, delete_directory, check_df)"
   ]
  },
  {
   "cell_type": "code",
   "execution_count": 4,
   "metadata": {
    "execution": {
     "iopub.execute_input": "2023-01-14T15:34:58.022211Z",
     "iopub.status.busy": "2023-01-14T15:34:58.021633Z",
     "iopub.status.idle": "2023-01-14T15:34:58.029227Z",
     "shell.execute_reply": "2023-01-14T15:34:58.028211Z",
     "shell.execute_reply.started": "2023-01-14T15:34:58.022157Z"
    },
    "tags": []
   },
   "outputs": [
    {
     "data": {
      "text/plain": [
       "'/home2/s20321005/Thesis-Project/Data'"
      ]
     },
     "execution_count": 4,
     "metadata": {},
     "output_type": "execute_result"
    }
   ],
   "source": [
    "# get the root of data directory\n",
    "root_data_dir = abspath(join(pardir, \"Data\"))\n",
    "root_data_dir"
   ]
  },
  {
   "cell_type": "code",
   "execution_count": 5,
   "metadata": {
    "execution": {
     "iopub.execute_input": "2023-01-14T15:34:59.471392Z",
     "iopub.status.busy": "2023-01-14T15:34:59.470882Z",
     "iopub.status.idle": "2023-01-14T15:34:59.477756Z",
     "shell.execute_reply": "2023-01-14T15:34:59.476750Z",
     "shell.execute_reply.started": "2023-01-14T15:34:59.471342Z"
    },
    "tags": []
   },
   "outputs": [
    {
     "name": "stdout",
     "output_type": "stream",
     "text": [
      "Creating /home2/s20321005/Thesis-Project/Data/Gaia-2MASS-test dir in Data dir\n"
     ]
    }
   ],
   "source": [
    "# Create a directory for Gaia DR3 and 2MASS data\n",
    "# or if it already exists, just move on\n",
    "ra_name = \"Gaia-2MASS-test\"\n",
    "gaia_data_dir = join(root_data_dir, ra_name)\n",
    "safe_mkdir(gaia_data_dir)"
   ]
  },
  {
   "cell_type": "code",
   "execution_count": 6,
   "metadata": {
    "execution": {
     "iopub.execute_input": "2023-01-14T15:35:01.125855Z",
     "iopub.status.busy": "2023-01-14T15:35:01.125353Z",
     "iopub.status.idle": "2023-01-14T15:35:01.173509Z",
     "shell.execute_reply": "2023-01-14T15:35:01.172507Z",
     "shell.execute_reply.started": "2023-01-14T15:35:01.125807Z"
    },
    "tags": []
   },
   "outputs": [
    {
     "name": "stdout",
     "output_type": "stream",
     "text": [
      "Creating /home2/s20321005/Thesis-Project/Data/TWOMASS-test dir in Data dir\n"
     ]
    }
   ],
   "source": [
    "# Do the same for 2MASS data\n",
    "ra_name = \"TWOMASS-test\"\n",
    "tmass_data_dir = join(root_data_dir, ra_name)\n",
    "safe_mkdir(tmass_data_dir)"
   ]
  },
  {
   "attachments": {},
   "cell_type": "markdown",
   "metadata": {},
   "source": [
    "### defining columns"
   ]
  },
  {
   "attachments": {},
   "cell_type": "markdown",
   "metadata": {},
   "source": [
    "there are many columns and tables in Gaia DR3 that we need.\n",
    "\n",
    "gaiadr3.gaia_source AS gdr3:\n",
    "| Name | Description | Unit |\n",
    "| --- | --- | --- |\n",
    "| pm | proper motion | mas/yr |\n",
    "| pmra | proper motion in right ascension (already corrected for declination) | mas/yr |\n",
    "| pmdec | proper motion in declination | mas/yr |\n",
    "| pmra_error (e_pmra) | error of proper motion in right ascension | mas/yr |\n",
    "| pmdec_error (e_pmdec) | error of proper motion in declination | mas/yr |\n",
    "| parallax | parallax | mas |\n",
    "| parallax_error (e_parallax) | error of parallax | mas |\n",
    "| phot_g_mean_mag (gmag) | mean magnitude in G band | mag |\n",
    "| phot_bp_mean_mag (bpmag) | mean magnitude in BP band | mag |\n",
    "| phot_rp_mean_mag (rpmag) | mean magnitude in RP band | mag |\n",
    "| phot_bp_mean_flux_over_error (fb_over_err) | mean flux in BP band over error | - |\n",
    "| phot_rp_mean_flux_over_error (fr_over_err) | mean flux in RP band over error | - |\n",
    "| ruwe | robust estimator of the weighted scatter of the astrometric solution | - |\n",
    "| phot_bp_rp_excess_factor (excess_factor) | excess factor of the BP-RP color | - |\n",
    "| radial_velocity (rv_gaia) | radial velocity | km/s |\n",
    "| radial_velocity_error (e_rv_gaia) | error of radial velocity | km/s |\n",
    "| l (glon) | galactic longitude | deg |\n",
    "| b (glat) | galactic latitude | deg |\n",
    "| teff_gspphot | effective temperature according to gssphot | K |\n",
    "| teff_gspphot_upper | upper error of effective temperature according to gssphot | K |\n",
    "| teff_gspphot_lower | lower error of effective temperature according to gssphot | K |\n",
    "| logg_gspphot | surface gravity according to gssphot | dex |\n",
    "| logg_gspphot_upper | upper error of surface gravity according to gssphot | dex |\n",
    "| logg_gspphot_lower | lower error of surface gravity according to gssphot | dex |"
   ]
  },
  {
   "attachments": {},
   "cell_type": "markdown",
   "metadata": {},
   "source": [
    "gaiadr3.astrophysical_parameters AS astrophysical:\n",
    "| Name                    | Description                                                     | Unit  |\n",
    "|-------------------------|-----------------------------------------------------------------|-------|\n",
    "| `mh_gspphot`            | metallicity according to gssphot                                 | dex   |\n",
    "| `mh_gspphot_upper`      | upper error of metallicity according to gssphot                  | dex   |\n",
    "| `mh_gspphot_lower`      | lower error of metallicity according to gssphot                  | dex   |\n",
    "| `distance_gspphot`      | distance according to gssphot                                    | pc    |\n",
    "| `distance_gspphot_upper`| upper error of distance according to gssphot                     | pc    |\n",
    "| `distance_gspphot_lower`| lower error of distance according to gssphot                     | pc    |\n",
    "| `ag`                    | extinction in G band                                            | mag   |\n",
    "| `ag_upper`              | upper error of extinction in G band                              | mag   |\n",
    "| `ag_lower`              | lower error of extinction in G band                              | mag   |\n",
    "| `mh_gspspec`            | metallicity according to gspspec                                  | dex   |\n",
    "| `mh_gspspec_upper`      | upper error of metallicity according to gspspec                   | dex   |\n",
    "| `mh_gspspec_lower`      | lower error of metallicity according to gspspec                   | dex   |\n",
    "| `alphafe_gspspec`       | alpha abundance according to gspspec                              | dex   |\n",
    "| `alphafe_gspspec_upper` | upper error of alpha abundance according to gspspec               | dex   |\n",
    "| `alphafe_gspspec_lower` | lower error of alpha abundance according to gspspec               | dex   |\n",
    "| `fem_gspspec`           | iron to metal abundance according to gspspec                      | dex   |\n",
    "| `fem_gspspec_upper`     | upper error of iron to metal abundance according to gspspec       | dex   |\n",
    "| `fem_gspspec_lower`     | lower error of iron to metal abundance according to gspspec       | dex   |\n",
    "| `spectraltype_esphs`    | spectral type according to esphs                                  |       |\n",
    "\n"
   ]
  },
  {
   "attachments": {},
   "cell_type": "markdown",
   "metadata": {},
   "source": [
    "gaiadr3.tmass_psc_xsc_join AS join_table:\n",
    "| Name                    | Description                                                     | Unit  |\n",
    "|-------------------------|-----------------------------------------------------------------|-------|\n",
    "|`original_psc_source_id`| crossmatch table from gaia to 2mass|"
   ]
  },
  {
   "cell_type": "code",
   "execution_count": 7,
   "metadata": {
    "execution": {
     "iopub.execute_input": "2023-01-08T05:50:45.093296Z",
     "iopub.status.busy": "2023-01-08T05:50:45.092732Z",
     "iopub.status.idle": "2023-01-08T05:50:45.108467Z",
     "shell.execute_reply": "2023-01-08T05:50:45.107765Z",
     "shell.execute_reply.started": "2023-01-08T05:50:45.093241Z"
    },
    "tags": []
   },
   "outputs": [
    {
     "data": {
      "text/plain": [
       "['gdr3.\"source_id\"',\n",
       " 'gdr3.\"pm\"',\n",
       " 'gdr3.\"pmra\"',\n",
       " 'gdr3.\"pmra_error\" AS e_pmra',\n",
       " 'gdr3.\"pmdec\"',\n",
       " 'gdr3.\"pmdec_error\" AS e_pmdec',\n",
       " 'gdr3.\"parallax\"',\n",
       " 'gdr3.\"parallax_error\" AS e_parallax',\n",
       " 'gdr3.\"phot_g_mean_mag\" AS Gmag',\n",
       " 'gdr3.\"phot_bp_mean_mag\" AS BPmag',\n",
       " 'gdr3.\"phot_rp_mean_mag\" AS RPmag',\n",
       " 'gdr3.\"phot_bp_mean_flux_over_error\" AS Fb_over_err',\n",
       " 'gdr3.\"phot_rp_mean_flux_over_error\" AS Fr_over_err',\n",
       " 'gdr3.\"ruwe\"',\n",
       " 'gdr3.\"phot_bp_rp_excess_factor\" AS excess_factor',\n",
       " 'gdr3.\"radial_velocity\" AS rv_gaia',\n",
       " 'gdr3.\"radial_velocity_error\" AS e_rv_gaia',\n",
       " 'gdr3.\"l\" AS glon',\n",
       " 'gdr3.\"b\" AS glat',\n",
       " 'gdr3.\"teff_gspphot\"',\n",
       " 'gdr3.\"teff_gspphot_lower\"',\n",
       " 'gdr3.\"teff_gspphot_upper\"',\n",
       " 'gdr3.\"logg_gspphot\"',\n",
       " 'gdr3.\"logg_gspphot_lower\"',\n",
       " 'gdr3.\"logg_gspphot_upper\"',\n",
       " 'astrophysical.\"mh_gspphot\"',\n",
       " 'astrophysical.\"mh_gspphot_lower\"',\n",
       " 'astrophysical.\"mh_gspphot_upper\"',\n",
       " 'astrophysical.\"distance_gspphot\"',\n",
       " 'astrophysical.\"distance_gspphot_lower\"',\n",
       " 'astrophysical.\"distance_gspphot_upper\"',\n",
       " 'astrophysical.\"ag_gspphot\"',\n",
       " 'astrophysical.\"ag_gspphot_lower\"',\n",
       " 'astrophysical.\"ag_gspphot_upper\"',\n",
       " 'astrophysical.\"mh_gspspec\"',\n",
       " 'astrophysical.\"mh_gspspec_lower\"',\n",
       " 'astrophysical.\"mh_gspspec_upper\"',\n",
       " 'astrophysical.\"alphafe_gspspec\"',\n",
       " 'astrophysical.\"alphafe_gspspec_lower\"',\n",
       " 'astrophysical.\"alphafe_gspspec_upper\"',\n",
       " 'astrophysical.\"fem_gspspec\"',\n",
       " 'astrophysical.\"fem_gspspec_lower\"',\n",
       " 'astrophysical.\"fem_gspspec_upper\"',\n",
       " 'astrophysical.\"spectraltype_esphs\"',\n",
       " 'join_table.\"original_psc_source_id\" AS tmass']"
      ]
     },
     "execution_count": 7,
     "metadata": {},
     "output_type": "execute_result"
    }
   ],
   "source": [
    "column_gaia = [\n",
    "    \"source_id\", \n",
    "    \"pm\", \"pmra\", \"pmra_error AS e_pmra\", \"pmdec\", \"pmdec_error AS e_pmdec\", \n",
    "    \"parallax\", \"parallax_error AS e_parallax\", \n",
    "    \"phot_g_mean_mag AS Gmag\",\t\"phot_bp_mean_mag AS BPmag\", \"phot_rp_mean_mag AS RPmag\", \n",
    "    \"phot_bp_mean_flux_over_error AS Fb_over_err\", \n",
    "    \"phot_rp_mean_flux_over_error AS Fr_over_err\", \n",
    "    \"ruwe\", \n",
    "    \"phot_bp_rp_excess_factor AS excess_factor\", \n",
    "    \"radial_velocity AS rv_gaia\", \"radial_velocity_error AS e_rv_gaia\",\n",
    "    \"l AS glon\", \"b AS glat\", \n",
    "    \"teff_gspphot\", \"teff_gspphot_lower\", \"teff_gspphot_upper\",\n",
    "    \"logg_gspphot\", \"logg_gspphot_lower\", \"logg_gspphot_upper\"\n",
    "]\n",
    "\n",
    "column_astrophysical = [\n",
    "    \"mh_gspphot\", \"mh_gspphot_lower\", \"mh_gspphot_upper\", \n",
    "    \"distance_gspphot\", \"distance_gspphot_lower\", \"distance_gspphot_upper\", \n",
    "    \"ag_gspphot\", \"ag_gspphot_lower\", \"ag_gspphot_upper\",\n",
    "    \"mh_gspspec\", \"mh_gspspec_lower\", \"mh_gspspec_upper\", \n",
    "    \"alphafe_gspspec\", \"alphafe_gspspec_lower\", \"alphafe_gspspec_upper\", \n",
    "    \"fem_gspspec\", \"fem_gspspec_lower\", \"fem_gspspec_upper\" , \n",
    "    \"spectraltype_esphs\"\n",
    "]\n",
    "\n",
    "column_join = [\"original_psc_source_id AS tmass\"]\n",
    "\n",
    "gaia_alias = \"gdr3\"\n",
    "astrophysical_alias = \"astrophysical\"\n",
    "join_alias = \"join_table\"\n",
    "\n",
    "column_gaia = list(map(lambda x: append_name(x, gaia_alias), column_gaia))\n",
    "column_astrophysical = list(map(lambda x: append_name(x, astrophysical_alias), column_astrophysical))\n",
    "column_join = list(map(lambda x: append_name(x, join_alias), column_join))\n",
    "\n",
    "columns = column_gaia + column_astrophysical + column_join\n",
    "columns"
   ]
  },
  {
   "attachments": {},
   "cell_type": "markdown",
   "metadata": {},
   "source": [
    "Test gaia query"
   ]
  },
  {
   "cell_type": "code",
   "execution_count": 14,
   "metadata": {},
   "outputs": [
    {
     "name": "stdout",
     "output_type": "stream",
     "text": [
      "Function timed out\n",
      "{'type': 'TimeoutError', 'message': 'Function timed out'}\n"
     ]
    }
   ],
   "source": [
    "TOP = 1000\n",
    "query_gaia = f\"\"\"\n",
    "SELECT TOP {TOP} {', '.join(columns)}\n",
    "FROM gaiadr3.gaia_source AS {gaia_alias}\n",
    "LEFT JOIN gaiadr3.astrophysical_parameters AS {astrophysical_alias} ON astrophysical.source_id = gdr3.source_id\n",
    "RIGHT JOIN gaiadr3.tmass_psc_xsc_best_neighbour AS tmass ON tmass.source_id = gdr3.source_id\n",
    "RIGHT JOIN gaiadr3.tmass_psc_xsc_join as {join_alias} ON join_table.clean_tmass_psc_xsc_oid = tmass.clean_tmass_psc_xsc_oid\n",
    "WHERE gdr3.ra BETWEEN 0 AND 1\n",
    "AND gdr3.dec BETWEEN 0 AND 1\n",
    "\"\"\"\n",
    "# test for timeout error\n",
    "df_gaia = launch_job(Gaia.launch_job, query_gaia, duration=2)\n",
    "df_gaia"
   ]
  },
  {
   "cell_type": "code",
   "execution_count": 15,
   "metadata": {},
   "outputs": [
    {
     "data": {
      "text/html": [
       "<table>\n",
       "<thead>\n",
       "<tr><th>#                              </th><th>source_id          </th><th>pm       </th><th>pmra               </th><th>e_pmra     </th><th>pmdec              </th><th>e_pmdec    </th><th>parallax           </th><th>e_parallax  </th><th>gmag     </th><th>bpmag    </th><th>rpmag     </th><th>fb_over_err  </th><th>fr_over_err  </th><th>ruwe     </th><th>excess_factor  </th><th>rv_gaia   </th><th>e_rv_gaia  </th><th>glon             </th><th>glat               </th><th>teff_gspphot  </th><th>teff_gspphot_lower  </th><th>teff_gspphot_upper  </th><th>logg_gspphot  </th><th>logg_gspphot_lower  </th><th>logg_gspphot_upper  </th><th>mh_gspphot  </th><th>mh_gspphot_lower  </th><th>mh_gspphot_upper  </th><th>distance_gspphot  </th><th>distance_gspphot_lower  </th><th>distance_gspphot_upper  </th><th>ag_gspphot  </th><th>ag_gspphot_lower  </th><th>ag_gspphot_upper  </th><th>mh_gspspec  </th><th>mh_gspspec_lower  </th><th>mh_gspspec_upper  </th><th>alphafe_gspspec  </th><th>alphafe_gspspec_lower  </th><th>alphafe_gspspec_upper  </th><th>fem_gspspec  </th><th>fem_gspspec_lower  </th><th>fem_gspspec_upper  </th><th>spectraltype_esphs  </th><th>tmass           </th></tr>\n",
       "</thead>\n",
       "<tbody>\n",
       "<tr><td><i style='opacity: 0.6'>0</i>  </td><td>2738301239023951872</td><td>15.452848</td><td>-2.4396361203715675</td><td>0.213626   </td><td>-15.25905314657402 </td><td>0.08839811 </td><td>1.5546639904202617 </td><td>0.15466519  </td><td>17.89857 </td><td>19.039177</td><td>16.878193 </td><td>38.471077    </td><td>143.97571    </td><td>0.9964819</td><td>1.3310089      </td><td>nan       </td><td>nan        </td><td>96.97304732424277</td><td>-59.444562933467886</td><td>5094.257      </td><td>5023.718            </td><td>5204.422            </td><td>3.7555        </td><td>3.6905              </td><td>3.8066              </td><td>-0.141      </td><td>-0.25             </td><td>-0.0424           </td><td>2644.472          </td><td>2498.6218               </td><td>2834.452                </td><td>2.106       </td><td>2.0446            </td><td>2.1876            </td><td>nan         </td><td>nan               </td><td>nan               </td><td>nan              </td><td>nan                    </td><td>nan                    </td><td>nan          </td><td>nan                </td><td>nan                </td><td>                    </td><td>00000015+0048353</td></tr>\n",
       "<tr><td><i style='opacity: 0.6'>1</i>  </td><td>2738215374037617280</td><td>16.528448</td><td>7.622902933696334  </td><td>0.45880646 </td><td>-14.66563928781094 </td><td>0.3445331  </td><td>1.9316520479956616 </td><td>0.4761021   </td><td>19.701853</td><td>20.95092 </td><td>18.441822 </td><td>8.090968     </td><td>56.30646     </td><td>1.0155579</td><td>1.5729879      </td><td>nan       </td><td>nan        </td><td>96.61675636214513</td><td>-59.86845292011402 </td><td>nan           </td><td>nan                 </td><td>nan                 </td><td>nan           </td><td>nan                 </td><td>nan                 </td><td>nan         </td><td>nan               </td><td>nan               </td><td>nan               </td><td>nan                     </td><td>nan                     </td><td>nan         </td><td>nan               </td><td>nan               </td><td>nan         </td><td>nan               </td><td>nan               </td><td>nan              </td><td>nan                    </td><td>nan                    </td><td>nan          </td><td>nan                </td><td>nan                </td><td>                    </td><td>00000029+0020573</td></tr>\n",
       "<tr><td><i style='opacity: 0.6'>2</i>  </td><td>2738294646249950464</td><td>16.920013</td><td>15.727889485752868 </td><td>0.030565234</td><td>-6.2386182378986526</td><td>0.020169798</td><td>0.7111678925386531 </td><td>0.029599223 </td><td>14.743093</td><td>15.096594</td><td>14.216369 </td><td>565.61774    </td><td>1347.9517    </td><td>1.0475903</td><td>1.2074407      </td><td>nan       </td><td>nan        </td><td>96.86294240272038</td><td>-59.577965704038135</td><td>5450.4346     </td><td>5441.9224           </td><td>5464.8667           </td><td>4.2182        </td><td>4.2039              </td><td>4.2367              </td><td>-0.7167     </td><td>-0.7351           </td><td>-0.6937           </td><td>1233.3447         </td><td>1195.9532               </td><td>1262.7806               </td><td>0.0072      </td><td>0.0021            </td><td>0.0158            </td><td>nan         </td><td>nan               </td><td>nan               </td><td>nan              </td><td>nan                    </td><td>nan                    </td><td>nan          </td><td>nan                </td><td>nan                </td><td>G                   </td><td>00000029+0039544</td></tr>\n",
       "<tr><td><i style='opacity: 0.6'>3</i>  </td><td>2738223208058015488</td><td>4.151558 </td><td>-0.6464668177867251</td><td>0.3133622  </td><td>-4.100916174464353 </td><td>0.20489562 </td><td>1.0249887525602555 </td><td>0.27208024  </td><td>19.067236</td><td>20.3389  </td><td>17.999353 </td><td>17.2238      </td><td>64.74676     </td><td>1.041015 </td><td>1.350354       </td><td>nan       </td><td>nan        </td><td>96.76009244969302</td><td>-59.70010809470707 </td><td>nan           </td><td>nan                 </td><td>nan                 </td><td>nan           </td><td>nan                 </td><td>nan                 </td><td>nan         </td><td>nan               </td><td>nan               </td><td>nan               </td><td>nan                     </td><td>nan                     </td><td>nan         </td><td>nan               </td><td>nan               </td><td>nan         </td><td>nan               </td><td>nan               </td><td>nan              </td><td>nan                    </td><td>nan                    </td><td>nan          </td><td>nan                </td><td>nan                </td><td>                    </td><td>00000033+0031565</td></tr>\n",
       "<tr><td><i style='opacity: 0.6'>4</i>  </td><td>2738223212353886336</td><td>3.2468765</td><td>-0.8893183875639226</td><td>0.100175604</td><td>-3.122710383878679 </td><td>0.056938235</td><td>0.3968673345305549 </td><td>0.0785026   </td><td>17.077734</td><td>17.48083 </td><td>16.532284 </td><td>108.20531    </td><td>225.85867    </td><td>1.0158308</td><td>1.1959527      </td><td>nan       </td><td>nan        </td><td>96.75568080515606</td><td>-59.70685893017676 </td><td>5228.9937     </td><td>5220.0737           </td><td>5239.315            </td><td>4.6324        </td><td>4.6078              </td><td>4.6513              </td><td>-0.4984     </td><td>-0.5504           </td><td>-0.4493           </td><td>1647.3835         </td><td>1611.6805               </td><td>1685.5164               </td><td>0.0021      </td><td>0.0005            </td><td>0.0063            </td><td>nan         </td><td>nan               </td><td>nan               </td><td>nan              </td><td>nan                    </td><td>nan                    </td><td>nan          </td><td>nan                </td><td>nan                </td><td>F                   </td><td>00000046+0031309</td></tr>\n",
       "<tr><td>...                            </td><td>...                </td><td>...      </td><td>...                </td><td>...        </td><td>...                </td><td>...        </td><td>...                </td><td>...         </td><td>...      </td><td>...      </td><td>...       </td><td>...          </td><td>...          </td><td>...      </td><td>...            </td><td>...       </td><td>...        </td><td>...              </td><td>...                </td><td>...           </td><td>...                 </td><td>...                 </td><td>...           </td><td>...                 </td><td>...                 </td><td>...         </td><td>...               </td><td>...               </td><td>...               </td><td>...                     </td><td>...                     </td><td>...         </td><td>...               </td><td>...               </td><td>...         </td><td>...               </td><td>...               </td><td>...              </td><td>...                    </td><td>...                    </td><td>...          </td><td>...                </td><td>...                </td><td>...                 </td><td>...             </td></tr>\n",
       "<tr><td><i style='opacity: 0.6'>995</i></td><td>2738349999788572544</td><td>6.3607173</td><td>6.312159620749597  </td><td>0.04976042 </td><td>-0.7844519734167342</td><td>0.024988519</td><td>0.6486367108544879 </td><td>0.037183046 </td><td>13.985814</td><td>14.309882</td><td>13.4921465</td><td>1014.50806   </td><td>1764.2107    </td><td>1.8059769</td><td>1.2013278      </td><td>32.311348 </td><td>7.2830186  </td><td>98.1800314014436 </td><td>-59.59874511100543 </td><td>5637.1553     </td><td>5619.762            </td><td>5654.2793           </td><td>3.9416        </td><td>3.9256              </td><td>3.9544              </td><td>-0.4926     </td><td>-0.5074           </td><td>-0.4812           </td><td>1117.4271         </td><td>1104.3173               </td><td>1135.2659               </td><td>0.0174      </td><td>0.0078            </td><td>0.0268            </td><td>nan         </td><td>nan               </td><td>nan               </td><td>nan              </td><td>nan                    </td><td>nan                    </td><td>nan          </td><td>nan                </td><td>nan                </td><td>G                   </td><td>00023010+0054020</td></tr>\n",
       "<tr><td><i style='opacity: 0.6'>996</i></td><td>2738349995493681792</td><td>7.13749  </td><td>7.106839345414534  </td><td>0.34193558 </td><td>-0.6607552440056009</td><td>0.2225997  </td><td>0.9643509107139575 </td><td>0.30446807  </td><td>19.02612 </td><td>20.144407</td><td>18.081076 </td><td>21.624804    </td><td>45.393475    </td><td>1.0065513</td><td>1.2640594      </td><td>nan       </td><td>nan        </td><td>98.18313043744496</td><td>-59.598733900362475</td><td>nan           </td><td>nan                 </td><td>nan                 </td><td>nan           </td><td>nan                 </td><td>nan                 </td><td>nan         </td><td>nan               </td><td>nan               </td><td>nan               </td><td>nan                     </td><td>nan                     </td><td>nan         </td><td>nan               </td><td>nan               </td><td>nan         </td><td>nan               </td><td>nan               </td><td>nan              </td><td>nan                    </td><td>nan                    </td><td>nan          </td><td>nan                </td><td>nan                </td><td>                    </td><td>00023045+0054043</td></tr>\n",
       "<tr><td><i style='opacity: 0.6'>997</i></td><td>2546052975233206144</td><td>10.117639</td><td>-2.561369133529036 </td><td>0.019812861</td><td>-9.78805364273433  </td><td>0.010469069</td><td>0.5520039758830554 </td><td>0.017639948 </td><td>13.583392</td><td>14.08934 </td><td>12.92118  </td><td>1425.7131    </td><td>2881.922     </td><td>1.0662869</td><td>1.2297167      </td><td>-12.123729</td><td>1.421052   </td><td>97.6503228769986 </td><td>-60.25646124365543 </td><td>4908.696      </td><td>4819.217            </td><td>4942.209            </td><td>3.0002        </td><td>2.7621              </td><td>3.1205              </td><td>-0.2521     </td><td>-0.2625           </td><td>-0.2405           </td><td>2147.195          </td><td>1876.1539               </td><td>2787.842                </td><td>0.1603      </td><td>0.0818            </td><td>0.1916            </td><td>nan         </td><td>nan               </td><td>nan               </td><td>nan              </td><td>nan                    </td><td>nan                    </td><td>nan          </td><td>nan                </td><td>nan                </td><td>K                   </td><td>00023050+0011288</td></tr>\n",
       "<tr><td><i style='opacity: 0.6'>998</i></td><td>2738350785766437632</td><td>21.199188</td><td>-4.4902258510394155</td><td>0.19513817 </td><td>-20.71819059142849 </td><td>0.12353605 </td><td>0.24249435473078346</td><td>0.15911621  </td><td>17.975513</td><td>18.64996 </td><td>17.328594 </td><td>52.26134     </td><td>51.454967    </td><td>1.0550491</td><td>1.1534642      </td><td>nan       </td><td>nan        </td><td>98.18952498659485</td><td>-59.59220605303184 </td><td>4458.9844     </td><td>4448.293            </td><td>4471.604            </td><td>4.4218        </td><td>4.3883              </td><td>4.5812              </td><td>-0.8987     </td><td>-1.1263           </td><td>-0.7804           </td><td>2135.0576         </td><td>1599.1514               </td><td>2215.301                </td><td>0.0055      </td><td>0.0013            </td><td>0.0138            </td><td>nan         </td><td>nan               </td><td>nan               </td><td>nan              </td><td>nan                    </td><td>nan                    </td><td>nan          </td><td>nan                </td><td>nan                </td><td>                    </td><td>00023059+0054308</td></tr>\n",
       "<tr><td><i style='opacity: 0.6'>999</i></td><td>2738350790062844032</td><td>nan      </td><td>nan                </td><td>nan        </td><td>nan                </td><td>nan        </td><td>nan                </td><td>nan         </td><td>20.530914</td><td>19.386303</td><td>17.842886 </td><td>33.967613    </td><td>60.4468      </td><td>nan      </td><td>7.0864234      </td><td>nan       </td><td>nan        </td><td>98.18810249212653</td><td>-59.594315363006025</td><td>nan           </td><td>nan                 </td><td>nan                 </td><td>nan           </td><td>nan                 </td><td>nan                 </td><td>nan         </td><td>nan               </td><td>nan               </td><td>nan               </td><td>nan                     </td><td>nan                     </td><td>nan         </td><td>nan               </td><td>nan               </td><td>nan         </td><td>nan               </td><td>nan               </td><td>nan              </td><td>nan                    </td><td>nan                    </td><td>nan          </td><td>nan                </td><td>nan                </td><td>                    </td><td>00023061+0054220</td></tr>\n",
       "</tbody>\n",
       "</table>"
      ],
      "text/plain": [
       "#    source_id            pm         pmra                 e_pmra       pmdec                e_pmdec      parallax             e_parallax    gmag       bpmag      rpmag       fb_over_err    fr_over_err    ruwe       excess_factor    rv_gaia     e_rv_gaia    glon               glat                 teff_gspphot    teff_gspphot_lower    teff_gspphot_upper    logg_gspphot    logg_gspphot_lower    logg_gspphot_upper    mh_gspphot    mh_gspphot_lower    mh_gspphot_upper    distance_gspphot    distance_gspphot_lower    distance_gspphot_upper    ag_gspphot    ag_gspphot_lower    ag_gspphot_upper    mh_gspspec    mh_gspspec_lower    mh_gspspec_upper    alphafe_gspspec    alphafe_gspspec_lower    alphafe_gspspec_upper    fem_gspspec    fem_gspspec_lower    fem_gspspec_upper    spectraltype_esphs    tmass\n",
       "0    2738301239023951872  15.452848  -2.4396361203715675  0.213626     -15.25905314657402   0.08839811   1.5546639904202617   0.15466519    17.89857   19.039177  16.878193   38.471077      143.97571      0.9964819  1.3310089        nan         nan          96.97304732424277  -59.444562933467886  5094.257        5023.718              5204.422              3.7555          3.6905                3.8066                -0.141        -0.25               -0.0424             2644.472            2498.6218                 2834.452                  2.106         2.0446              2.1876              nan           nan                 nan                 nan                nan                      nan                      nan            nan                  nan                                        00000015+0048353\n",
       "1    2738215374037617280  16.528448  7.622902933696334    0.45880646   -14.66563928781094   0.3445331    1.9316520479956616   0.4761021     19.701853  20.95092   18.441822   8.090968       56.30646       1.0155579  1.5729879        nan         nan          96.61675636214513  -59.86845292011402   nan             nan                   nan                   nan             nan                   nan                   nan           nan                 nan                 nan                 nan                       nan                       nan           nan                 nan                 nan           nan                 nan                 nan                nan                      nan                      nan            nan                  nan                                        00000029+0020573\n",
       "2    2738294646249950464  16.920013  15.727889485752868   0.030565234  -6.2386182378986526  0.020169798  0.7111678925386531   0.029599223   14.743093  15.096594  14.216369   565.61774      1347.9517      1.0475903  1.2074407        nan         nan          96.86294240272038  -59.577965704038135  5450.4346       5441.9224             5464.8667             4.2182          4.2039                4.2367                -0.7167       -0.7351             -0.6937             1233.3447           1195.9532                 1262.7806                 0.0072        0.0021              0.0158              nan           nan                 nan                 nan                nan                      nan                      nan            nan                  nan                  G                     00000029+0039544\n",
       "3    2738223208058015488  4.151558   -0.6464668177867251  0.3133622    -4.100916174464353   0.20489562   1.0249887525602555   0.27208024    19.067236  20.3389    17.999353   17.2238        64.74676       1.041015   1.350354         nan         nan          96.76009244969302  -59.70010809470707   nan             nan                   nan                   nan             nan                   nan                   nan           nan                 nan                 nan                 nan                       nan                       nan           nan                 nan                 nan           nan                 nan                 nan                nan                      nan                      nan            nan                  nan                                        00000033+0031565\n",
       "4    2738223212353886336  3.2468765  -0.8893183875639226  0.100175604  -3.122710383878679   0.056938235  0.3968673345305549   0.0785026     17.077734  17.48083   16.532284   108.20531      225.85867      1.0158308  1.1959527        nan         nan          96.75568080515606  -59.70685893017676   5228.9937       5220.0737             5239.315              4.6324          4.6078                4.6513                -0.4984       -0.5504             -0.4493             1647.3835           1611.6805                 1685.5164                 0.0021        0.0005              0.0063              nan           nan                 nan                 nan                nan                      nan                      nan            nan                  nan                  F                     00000046+0031309\n",
       "...  ...                  ...        ...                  ...          ...                  ...          ...                  ...           ...        ...        ...         ...            ...            ...        ...              ...         ...          ...                ...                  ...             ...                   ...                   ...             ...                   ...                   ...           ...                 ...                 ...                 ...                       ...                       ...           ...                 ...                 ...           ...                 ...                 ...                ...                      ...                      ...            ...                  ...                  ...                   ...\n",
       "995  2738349999788572544  6.3607173  6.312159620749597    0.04976042   -0.7844519734167342  0.024988519  0.6486367108544879   0.037183046   13.985814  14.309882  13.4921465  1014.50806     1764.2107      1.8059769  1.2013278        32.311348   7.2830186    98.1800314014436   -59.59874511100543   5637.1553       5619.762              5654.2793             3.9416          3.9256                3.9544                -0.4926       -0.5074             -0.4812             1117.4271           1104.3173                 1135.2659                 0.0174        0.0078              0.0268              nan           nan                 nan                 nan                nan                      nan                      nan            nan                  nan                  G                     00023010+0054020\n",
       "996  2738349995493681792  7.13749    7.106839345414534    0.34193558   -0.6607552440056009  0.2225997    0.9643509107139575   0.30446807    19.02612   20.144407  18.081076   21.624804      45.393475      1.0065513  1.2640594        nan         nan          98.18313043744496  -59.598733900362475  nan             nan                   nan                   nan             nan                   nan                   nan           nan                 nan                 nan                 nan                       nan                       nan           nan                 nan                 nan           nan                 nan                 nan                nan                      nan                      nan            nan                  nan                                        00023045+0054043\n",
       "997  2546052975233206144  10.117639  -2.561369133529036   0.019812861  -9.78805364273433    0.010469069  0.5520039758830554   0.017639948   13.583392  14.08934   12.92118    1425.7131      2881.922       1.0662869  1.2297167        -12.123729  1.421052     97.6503228769986   -60.25646124365543   4908.696        4819.217              4942.209              3.0002          2.7621                3.1205                -0.2521       -0.2625             -0.2405             2147.195            1876.1539                 2787.842                  0.1603        0.0818              0.1916              nan           nan                 nan                 nan                nan                      nan                      nan            nan                  nan                  K                     00023050+0011288\n",
       "998  2738350785766437632  21.199188  -4.4902258510394155  0.19513817   -20.71819059142849   0.12353605   0.24249435473078346  0.15911621    17.975513  18.64996   17.328594   52.26134       51.454967      1.0550491  1.1534642        nan         nan          98.18952498659485  -59.59220605303184   4458.9844       4448.293              4471.604              4.4218          4.3883                4.5812                -0.8987       -1.1263             -0.7804             2135.0576           1599.1514                 2215.301                  0.0055        0.0013              0.0138              nan           nan                 nan                 nan                nan                      nan                      nan            nan                  nan                                        00023059+0054308\n",
       "999  2738350790062844032  nan        nan                  nan          nan                  nan          nan                  nan           20.530914  19.386303  17.842886   33.967613      60.4468        nan        7.0864234        nan         nan          98.18810249212653  -59.594315363006025  nan             nan                   nan                   nan             nan                   nan                   nan           nan                 nan                 nan                 nan                       nan                       nan           nan                 nan                 nan           nan                 nan                 nan                nan                      nan                      nan            nan                  nan                                        00023061+0054220"
      ]
     },
     "execution_count": 15,
     "metadata": {},
     "output_type": "execute_result"
    }
   ],
   "source": [
    "# increase the timeout duration, should be working now\n",
    "df_gaia = launch_job(Gaia.launch_job, query_gaia, duration=10)\n",
    "df_gaia"
   ]
  },
  {
   "attachments": {},
   "cell_type": "markdown",
   "metadata": {},
   "source": [
    "Querying from tap API is a bit different. The resulting table has no column names.\n",
    "\n",
    "We need to rename the table columns names"
   ]
  },
  {
   "cell_type": "code",
   "execution_count": 8,
   "metadata": {
    "execution": {
     "iopub.execute_input": "2023-01-14T15:35:25.104058Z",
     "iopub.status.busy": "2023-01-14T15:35:25.103382Z",
     "iopub.status.idle": "2023-01-14T15:35:25.109999Z",
     "shell.execute_reply": "2023-01-14T15:35:25.108984Z",
     "shell.execute_reply.started": "2023-01-14T15:35:25.104004Z"
    },
    "tags": []
   },
   "outputs": [
    {
     "data": {
      "text/plain": [
       "['fp_psc.\"ra\"',\n",
       " 'fp_psc.\"dec\"',\n",
       " 'fp_psc.\"j_m\"',\n",
       " 'fp_psc.\"k_m\"',\n",
       " 'fp_psc.\"designation\"',\n",
       " 'fp_psc.\"ph_qual\"']"
      ]
     },
     "execution_count": 8,
     "metadata": {},
     "output_type": "execute_result"
    }
   ],
   "source": [
    "# 2MASS tap endpoint\n",
    "tap_tmass = Tap(url=\"https://irsa.ipac.caltech.edu/TAP/sync\")\n",
    "\n",
    "columns_tmass = [\"ra\", \"dec\",\"j_m\", \"k_m\", \"designation\", \"ph_qual\"]\n",
    "\n",
    "# rename the table columns as \n",
    "columns_tmass_names = [\"ra\", \"dec\",\"Jmag\", \"Kmag\", \"designation\", \"ph_qual\"]\n",
    "\n",
    "tmass_table = \"fp_psc\"\n",
    "column_tmass = list(map(lambda x: append_name(x, tmass_table), columns_tmass))\n",
    "column_tmass"
   ]
  },
  {
   "attachments": {},
   "cell_type": "markdown",
   "metadata": {},
   "source": [
    "Test 2MASS endpoint"
   ]
  },
  {
   "cell_type": "code",
   "execution_count": 19,
   "metadata": {},
   "outputs": [
    {
     "name": "stdout",
     "output_type": "stream",
     "text": [
      "Function timed out\n",
      "{'type': 'TimeoutError', 'message': 'Function timed out'}\n"
     ]
    }
   ],
   "source": [
    "TOP = 1000\n",
    "query_tmass = f\"\"\"\n",
    "SELECT TOP {TOP} {\", \".join(columns_tmass)} \n",
    "FROM {tmass_table}\n",
    "WHERE ra BETWEEN 0 AND 1\n",
    "AND dec BETWEEN 0 AND 1\n",
    "\"\"\"\n",
    "# should timeout\n",
    "df_tmass = launch_job(tap_tmass.launch_job, query_tmass, cols=columns_tmass_names, duration=2)"
   ]
  },
  {
   "cell_type": "code",
   "execution_count": 20,
   "metadata": {},
   "outputs": [
    {
     "data": {
      "text/html": [
       "<table>\n",
       "<thead>\n",
       "<tr><th>#                              </th><th>ra      </th><th>dec     </th><th>Jmag  </th><th>Kmag  </th><th>designation     </th><th>ph_qual  </th></tr>\n",
       "</thead>\n",
       "<tbody>\n",
       "<tr><td><i style='opacity: 0.6'>0</i>  </td><td>0.000664</td><td>0.809816</td><td>15.43 </td><td>14.721</td><td>00000015+0048353</td><td>AAA      </td></tr>\n",
       "<tr><td><i style='opacity: 0.6'>1</i>  </td><td>0.001234</td><td>0.349274</td><td>16.56 </td><td>15.455</td><td>00000029+0020573</td><td>ABC      </td></tr>\n",
       "<tr><td><i style='opacity: 0.6'>2</i>  </td><td>0.001245</td><td>0.665133</td><td>13.609</td><td>13.182</td><td>00000029+0039544</td><td>AAA      </td></tr>\n",
       "<tr><td><i style='opacity: 0.6'>3</i>  </td><td>0.001414</td><td>0.532371</td><td>16.45 </td><td>15.33 </td><td>00000033+0031565</td><td>ACB      </td></tr>\n",
       "<tr><td><i style='opacity: 0.6'>4</i>  </td><td>0.001945</td><td>0.52526 </td><td>15.891</td><td>15.267</td><td>00000046+0031309</td><td>ABB      </td></tr>\n",
       "<tr><td>...                            </td><td>...     </td><td>...     </td><td>...   </td><td>...   </td><td>...             </td><td>...      </td></tr>\n",
       "<tr><td><i style='opacity: 0.6'>995</i></td><td>0.594102</td><td>0.392011</td><td>14.421</td><td>13.639</td><td>00022258+0023312</td><td>AAA      </td></tr>\n",
       "<tr><td><i style='opacity: 0.6'>996</i></td><td>0.594154</td><td>0.312531</td><td>15.169</td><td>14.691</td><td>00022259+0018451</td><td>AAA      </td></tr>\n",
       "<tr><td><i style='opacity: 0.6'>997</i></td><td>0.596997</td><td>0.579075</td><td>16.662</td><td>15.866</td><td>00022327+0034446</td><td>BDU      </td></tr>\n",
       "<tr><td><i style='opacity: 0.6'>998</i></td><td>0.597254</td><td>0.709375</td><td>16.567</td><td>15.26 </td><td>00022334+0042337</td><td>BCC      </td></tr>\n",
       "<tr><td><i style='opacity: 0.6'>999</i></td><td>0.597544</td><td>0.683025</td><td>16.552</td><td>14.848</td><td>00022341+0040588</td><td>BBB      </td></tr>\n",
       "</tbody>\n",
       "</table>"
      ],
      "text/plain": [
       "#    ra        dec       Jmag    Kmag    designation       ph_qual\n",
       "0    0.000664  0.809816  15.43   14.721  00000015+0048353  AAA\n",
       "1    0.001234  0.349274  16.56   15.455  00000029+0020573  ABC\n",
       "2    0.001245  0.665133  13.609  13.182  00000029+0039544  AAA\n",
       "3    0.001414  0.532371  16.45   15.33   00000033+0031565  ACB\n",
       "4    0.001945  0.52526   15.891  15.267  00000046+0031309  ABB\n",
       "...  ...       ...       ...     ...     ...               ...\n",
       "995  0.594102  0.392011  14.421  13.639  00022258+0023312  AAA\n",
       "996  0.594154  0.312531  15.169  14.691  00022259+0018451  AAA\n",
       "997  0.596997  0.579075  16.662  15.866  00022327+0034446  BDU\n",
       "998  0.597254  0.709375  16.567  15.26   00022334+0042337  BCC\n",
       "999  0.597544  0.683025  16.552  14.848  00022341+0040588  BBB"
      ]
     },
     "execution_count": 20,
     "metadata": {},
     "output_type": "execute_result"
    }
   ],
   "source": [
    "df_tmass = launch_job(tap_tmass.launch_job, query_tmass, cols=columns_tmass_names, duration=10)\n",
    "df_tmass"
   ]
  },
  {
   "attachments": {},
   "cell_type": "markdown",
   "metadata": {},
   "source": [
    "The crossmatch table being used have some information to be considered.\n",
    "\n",
    "The crossmatch from Gaia to 2MASS (dense survey) can have mates. Two or more\n",
    "Gaia objects with the same best neighbour in 2MASS are called mates. Therefore,\n",
    "there can be duplicates in the crossmatch table.\n",
    "\n",
    "`tmass_psc_xsc_best_neighbour` table contains gaia id `source_id` and `clean_tmass_psc_xsc_oid`.\n",
    "This table contains every objects from Gaia that have companion in 2MASS.\n",
    "Therefore, every gaia object in the table only have one 2MASS object.\n",
    "`clean_tmass_psc_xsc_oid` column can be used to match with `tmass_psc_xsc_join` table.\n",
    "\n",
    "2MASS catalog contains both stars (point sources) and galaxies (extended sources). `tmass_psc_xsc_join`\n",
    "table contains `original_psc_source_id`. Therefore we can crossmatch:\n",
    "\n",
    "> gaia_source.source_id == tmass_psc_xsc_best_neighbour.source_id (RIGHT)\n",
    "> tmass_psc_xsc_best_neighbour.clean_tmass_psc_xsc_oid == tmass_psc_xsc_join.clean_tmass_psc_xsc_oid (LEFT or RIGHT)\n",
    "> tmass_psc_xsc_join.original_psc_source_id == tmass.designation (LEFT)\n",
    "\n",
    "The problem now is that, the 2MASS object matched to the Gaia object can the same. Ergo, duplicates.\n",
    "One way to mitigate the problem is by choosing the first object in duplicates.\n",
    "Illustration:\n",
    "\n",
    "    gaia_id | tmass_id\n",
    "    1       | 1\n",
    "    2       | 1\n",
    "    3       | 2\n",
    "    4       | 3\n",
    "    5       | 4\n",
    "    6       | 4\n",
    "Drop duplicates:\n",
    "\n",
    "    gaia_id | tmass_id\n",
    "    1       | 1\n",
    "    3       | 2\n",
    "    4       | 3\n",
    "    5       | 4\n",
    "    "
   ]
  },
  {
   "attachments": {},
   "cell_type": "markdown",
   "metadata": {},
   "source": [
    "crossmatch gaia and 2mass"
   ]
  },
  {
   "cell_type": "code",
   "execution_count": 21,
   "metadata": {},
   "outputs": [
    {
     "data": {
      "text/html": [
       "<table>\n",
       "<thead>\n",
       "<tr><th>#                              </th><th>source_id          </th><th>pm       </th><th>pmra               </th><th>e_pmra     </th><th>pmdec              </th><th>e_pmdec    </th><th>parallax           </th><th>e_parallax  </th><th>gmag     </th><th>bpmag    </th><th>rpmag     </th><th>fb_over_err  </th><th>fr_over_err  </th><th>ruwe     </th><th>excess_factor  </th><th>rv_gaia   </th><th>e_rv_gaia  </th><th>glon             </th><th>glat               </th><th>teff_gspphot  </th><th>teff_gspphot_lower  </th><th>teff_gspphot_upper  </th><th>logg_gspphot  </th><th>logg_gspphot_lower  </th><th>logg_gspphot_upper  </th><th>mh_gspphot  </th><th>mh_gspphot_lower  </th><th>mh_gspphot_upper  </th><th>distance_gspphot  </th><th>distance_gspphot_lower  </th><th>distance_gspphot_upper  </th><th>ag_gspphot  </th><th>ag_gspphot_lower  </th><th>ag_gspphot_upper  </th><th>mh_gspspec  </th><th>mh_gspspec_lower  </th><th>mh_gspspec_upper  </th><th>alphafe_gspspec  </th><th>alphafe_gspspec_lower  </th><th>alphafe_gspspec_upper  </th><th>fem_gspspec  </th><th>fem_gspspec_lower  </th><th>fem_gspspec_upper  </th><th>spectraltype_esphs  </th><th>tmass           </th><th>ra      </th><th>dec     </th><th>Jmag  </th><th>Kmag  </th><th>designation     </th><th>ph_qual  </th></tr>\n",
       "</thead>\n",
       "<tbody>\n",
       "<tr><td><i style='opacity: 0.6'>0</i>  </td><td>2738301239023951872</td><td>15.452848</td><td>-2.4396361203715675</td><td>0.213626   </td><td>-15.25905314657402 </td><td>0.08839811 </td><td>1.5546639904202617 </td><td>0.15466519  </td><td>17.89857 </td><td>19.039177</td><td>16.878193 </td><td>38.471077    </td><td>143.97571    </td><td>0.9964819</td><td>1.3310089      </td><td>nan       </td><td>nan        </td><td>96.97304732424277</td><td>-59.444562933467886</td><td>5094.257      </td><td>5023.718            </td><td>5204.422            </td><td>3.7555        </td><td>3.6905              </td><td>3.8066              </td><td>-0.141      </td><td>-0.25             </td><td>-0.0424           </td><td>2644.472          </td><td>2498.6218               </td><td>2834.452                </td><td>2.106       </td><td>2.0446            </td><td>2.1876            </td><td>nan         </td><td>nan               </td><td>nan               </td><td>nan              </td><td>nan                    </td><td>nan                    </td><td>nan          </td><td>nan                </td><td>nan                </td><td>                    </td><td>00000015+0048353</td><td>0.000664</td><td>0.809816</td><td>15.43 </td><td>14.721</td><td>00000015+0048353</td><td>AAA      </td></tr>\n",
       "<tr><td><i style='opacity: 0.6'>1</i>  </td><td>2738215374037617280</td><td>16.528448</td><td>7.622902933696334  </td><td>0.45880646 </td><td>-14.66563928781094 </td><td>0.3445331  </td><td>1.9316520479956616 </td><td>0.4761021   </td><td>19.701853</td><td>20.95092 </td><td>18.441822 </td><td>8.090968     </td><td>56.30646     </td><td>1.0155579</td><td>1.5729879      </td><td>nan       </td><td>nan        </td><td>96.61675636214513</td><td>-59.86845292011402 </td><td>nan           </td><td>nan                 </td><td>nan                 </td><td>nan           </td><td>nan                 </td><td>nan                 </td><td>nan         </td><td>nan               </td><td>nan               </td><td>nan               </td><td>nan                     </td><td>nan                     </td><td>nan         </td><td>nan               </td><td>nan               </td><td>nan         </td><td>nan               </td><td>nan               </td><td>nan              </td><td>nan                    </td><td>nan                    </td><td>nan          </td><td>nan                </td><td>nan                </td><td>                    </td><td>00000029+0020573</td><td>0.001234</td><td>0.349274</td><td>16.56 </td><td>15.455</td><td>00000029+0020573</td><td>ABC      </td></tr>\n",
       "<tr><td><i style='opacity: 0.6'>2</i>  </td><td>2738294646249950464</td><td>16.920013</td><td>15.727889485752868 </td><td>0.030565234</td><td>-6.2386182378986526</td><td>0.020169798</td><td>0.7111678925386531 </td><td>0.029599223 </td><td>14.743093</td><td>15.096594</td><td>14.216369 </td><td>565.61774    </td><td>1347.9517    </td><td>1.0475903</td><td>1.2074407      </td><td>nan       </td><td>nan        </td><td>96.86294240272038</td><td>-59.577965704038135</td><td>5450.4346     </td><td>5441.9224           </td><td>5464.8667           </td><td>4.2182        </td><td>4.2039              </td><td>4.2367              </td><td>-0.7167     </td><td>-0.7351           </td><td>-0.6937           </td><td>1233.3447         </td><td>1195.9532               </td><td>1262.7806               </td><td>0.0072      </td><td>0.0021            </td><td>0.0158            </td><td>nan         </td><td>nan               </td><td>nan               </td><td>nan              </td><td>nan                    </td><td>nan                    </td><td>nan          </td><td>nan                </td><td>nan                </td><td>G                   </td><td>00000029+0039544</td><td>0.001245</td><td>0.665133</td><td>13.609</td><td>13.182</td><td>00000029+0039544</td><td>AAA      </td></tr>\n",
       "<tr><td><i style='opacity: 0.6'>3</i>  </td><td>2738223208058015488</td><td>4.151558 </td><td>-0.6464668177867251</td><td>0.3133622  </td><td>-4.100916174464353 </td><td>0.20489562 </td><td>1.0249887525602555 </td><td>0.27208024  </td><td>19.067236</td><td>20.3389  </td><td>17.999353 </td><td>17.2238      </td><td>64.74676     </td><td>1.041015 </td><td>1.350354       </td><td>nan       </td><td>nan        </td><td>96.76009244969302</td><td>-59.70010809470707 </td><td>nan           </td><td>nan                 </td><td>nan                 </td><td>nan           </td><td>nan                 </td><td>nan                 </td><td>nan         </td><td>nan               </td><td>nan               </td><td>nan               </td><td>nan                     </td><td>nan                     </td><td>nan         </td><td>nan               </td><td>nan               </td><td>nan         </td><td>nan               </td><td>nan               </td><td>nan              </td><td>nan                    </td><td>nan                    </td><td>nan          </td><td>nan                </td><td>nan                </td><td>                    </td><td>00000033+0031565</td><td>0.001414</td><td>0.532371</td><td>16.45 </td><td>15.33 </td><td>00000033+0031565</td><td>ACB      </td></tr>\n",
       "<tr><td><i style='opacity: 0.6'>4</i>  </td><td>2738223212353886336</td><td>3.2468765</td><td>-0.8893183875639226</td><td>0.100175604</td><td>-3.122710383878679 </td><td>0.056938235</td><td>0.3968673345305549 </td><td>0.0785026   </td><td>17.077734</td><td>17.48083 </td><td>16.532284 </td><td>108.20531    </td><td>225.85867    </td><td>1.0158308</td><td>1.1959527      </td><td>nan       </td><td>nan        </td><td>96.75568080515606</td><td>-59.70685893017676 </td><td>5228.9937     </td><td>5220.0737           </td><td>5239.315            </td><td>4.6324        </td><td>4.6078              </td><td>4.6513              </td><td>-0.4984     </td><td>-0.5504           </td><td>-0.4493           </td><td>1647.3835         </td><td>1611.6805               </td><td>1685.5164               </td><td>0.0021      </td><td>0.0005            </td><td>0.0063            </td><td>nan         </td><td>nan               </td><td>nan               </td><td>nan              </td><td>nan                    </td><td>nan                    </td><td>nan          </td><td>nan                </td><td>nan                </td><td>F                   </td><td>00000046+0031309</td><td>0.001945</td><td>0.52526 </td><td>15.891</td><td>15.267</td><td>00000046+0031309</td><td>ABB      </td></tr>\n",
       "<tr><td>...                            </td><td>...                </td><td>...      </td><td>...                </td><td>...        </td><td>...                </td><td>...        </td><td>...                </td><td>...         </td><td>...      </td><td>...      </td><td>...       </td><td>...          </td><td>...          </td><td>...      </td><td>...            </td><td>...       </td><td>...        </td><td>...              </td><td>...                </td><td>...           </td><td>...                 </td><td>...                 </td><td>...           </td><td>...                 </td><td>...                 </td><td>...         </td><td>...               </td><td>...               </td><td>...               </td><td>...                     </td><td>...                     </td><td>...         </td><td>...               </td><td>...               </td><td>...         </td><td>...               </td><td>...               </td><td>...              </td><td>...                    </td><td>...                    </td><td>...          </td><td>...                </td><td>...                </td><td>...                 </td><td>...             </td><td>...     </td><td>...     </td><td>...   </td><td>...   </td><td>...             </td><td>...      </td></tr>\n",
       "<tr><td><i style='opacity: 0.6'>995</i></td><td>2738349999788572544</td><td>6.3607173</td><td>6.312159620749597  </td><td>0.04976042 </td><td>-0.7844519734167342</td><td>0.024988519</td><td>0.6486367108544879 </td><td>0.037183046 </td><td>13.985814</td><td>14.309882</td><td>13.4921465</td><td>1014.50806   </td><td>1764.2107    </td><td>1.8059769</td><td>1.2013278      </td><td>32.311348 </td><td>7.2830186  </td><td>98.1800314014436 </td><td>-59.59874511100543 </td><td>5637.1553     </td><td>5619.762            </td><td>5654.2793           </td><td>3.9416        </td><td>3.9256              </td><td>3.9544              </td><td>-0.4926     </td><td>-0.5074           </td><td>-0.4812           </td><td>1117.4271         </td><td>1104.3173               </td><td>1135.2659               </td><td>0.0174      </td><td>0.0078            </td><td>0.0268            </td><td>nan         </td><td>nan               </td><td>nan               </td><td>nan              </td><td>nan                    </td><td>nan                    </td><td>nan          </td><td>nan                </td><td>nan                </td><td>G                   </td><td>00023010+0054020</td><td>--      </td><td>--      </td><td>--    </td><td>--    </td><td>--              </td><td>--       </td></tr>\n",
       "<tr><td><i style='opacity: 0.6'>996</i></td><td>2738349995493681792</td><td>7.13749  </td><td>7.106839345414534  </td><td>0.34193558 </td><td>-0.6607552440056009</td><td>0.2225997  </td><td>0.9643509107139575 </td><td>0.30446807  </td><td>19.02612 </td><td>20.144407</td><td>18.081076 </td><td>21.624804    </td><td>45.393475    </td><td>1.0065513</td><td>1.2640594      </td><td>nan       </td><td>nan        </td><td>98.18313043744496</td><td>-59.598733900362475</td><td>nan           </td><td>nan                 </td><td>nan                 </td><td>nan           </td><td>nan                 </td><td>nan                 </td><td>nan         </td><td>nan               </td><td>nan               </td><td>nan               </td><td>nan                     </td><td>nan                     </td><td>nan         </td><td>nan               </td><td>nan               </td><td>nan         </td><td>nan               </td><td>nan               </td><td>nan              </td><td>nan                    </td><td>nan                    </td><td>nan          </td><td>nan                </td><td>nan                </td><td>                    </td><td>00023045+0054043</td><td>--      </td><td>--      </td><td>--    </td><td>--    </td><td>--              </td><td>--       </td></tr>\n",
       "<tr><td><i style='opacity: 0.6'>997</i></td><td>2546052975233206144</td><td>10.117639</td><td>-2.561369133529036 </td><td>0.019812861</td><td>-9.78805364273433  </td><td>0.010469069</td><td>0.5520039758830554 </td><td>0.017639948 </td><td>13.583392</td><td>14.08934 </td><td>12.92118  </td><td>1425.7131    </td><td>2881.922     </td><td>1.0662869</td><td>1.2297167      </td><td>-12.123729</td><td>1.421052   </td><td>97.6503228769986 </td><td>-60.25646124365543 </td><td>4908.696      </td><td>4819.217            </td><td>4942.209            </td><td>3.0002        </td><td>2.7621              </td><td>3.1205              </td><td>-0.2521     </td><td>-0.2625           </td><td>-0.2405           </td><td>2147.195          </td><td>1876.1539               </td><td>2787.842                </td><td>0.1603      </td><td>0.0818            </td><td>0.1916            </td><td>nan         </td><td>nan               </td><td>nan               </td><td>nan              </td><td>nan                    </td><td>nan                    </td><td>nan          </td><td>nan                </td><td>nan                </td><td>K                   </td><td>00023050+0011288</td><td>--      </td><td>--      </td><td>--    </td><td>--    </td><td>--              </td><td>--       </td></tr>\n",
       "<tr><td><i style='opacity: 0.6'>998</i></td><td>2738350785766437632</td><td>21.199188</td><td>-4.4902258510394155</td><td>0.19513817 </td><td>-20.71819059142849 </td><td>0.12353605 </td><td>0.24249435473078346</td><td>0.15911621  </td><td>17.975513</td><td>18.64996 </td><td>17.328594 </td><td>52.26134     </td><td>51.454967    </td><td>1.0550491</td><td>1.1534642      </td><td>nan       </td><td>nan        </td><td>98.18952498659485</td><td>-59.59220605303184 </td><td>4458.9844     </td><td>4448.293            </td><td>4471.604            </td><td>4.4218        </td><td>4.3883              </td><td>4.5812              </td><td>-0.8987     </td><td>-1.1263           </td><td>-0.7804           </td><td>2135.0576         </td><td>1599.1514               </td><td>2215.301                </td><td>0.0055      </td><td>0.0013            </td><td>0.0138            </td><td>nan         </td><td>nan               </td><td>nan               </td><td>nan              </td><td>nan                    </td><td>nan                    </td><td>nan          </td><td>nan                </td><td>nan                </td><td>                    </td><td>00023059+0054308</td><td>--      </td><td>--      </td><td>--    </td><td>--    </td><td>--              </td><td>--       </td></tr>\n",
       "<tr><td><i style='opacity: 0.6'>999</i></td><td>2738350790062844032</td><td>nan      </td><td>nan                </td><td>nan        </td><td>nan                </td><td>nan        </td><td>nan                </td><td>nan         </td><td>20.530914</td><td>19.386303</td><td>17.842886 </td><td>33.967613    </td><td>60.4468      </td><td>nan      </td><td>7.0864234      </td><td>nan       </td><td>nan        </td><td>98.18810249212653</td><td>-59.594315363006025</td><td>nan           </td><td>nan                 </td><td>nan                 </td><td>nan           </td><td>nan                 </td><td>nan                 </td><td>nan         </td><td>nan               </td><td>nan               </td><td>nan               </td><td>nan                     </td><td>nan                     </td><td>nan         </td><td>nan               </td><td>nan               </td><td>nan         </td><td>nan               </td><td>nan               </td><td>nan              </td><td>nan                    </td><td>nan                    </td><td>nan          </td><td>nan                </td><td>nan                </td><td>                    </td><td>00023061+0054220</td><td>--      </td><td>--      </td><td>--    </td><td>--    </td><td>--              </td><td>--       </td></tr>\n",
       "</tbody>\n",
       "</table>"
      ],
      "text/plain": [
       "#    source_id            pm         pmra                 e_pmra       pmdec                e_pmdec      parallax             e_parallax    gmag       bpmag      rpmag       fb_over_err    fr_over_err    ruwe       excess_factor    rv_gaia     e_rv_gaia    glon               glat                 teff_gspphot    teff_gspphot_lower    teff_gspphot_upper    logg_gspphot    logg_gspphot_lower    logg_gspphot_upper    mh_gspphot    mh_gspphot_lower    mh_gspphot_upper    distance_gspphot    distance_gspphot_lower    distance_gspphot_upper    ag_gspphot    ag_gspphot_lower    ag_gspphot_upper    mh_gspspec    mh_gspspec_lower    mh_gspspec_upper    alphafe_gspspec    alphafe_gspspec_lower    alphafe_gspspec_upper    fem_gspspec    fem_gspspec_lower    fem_gspspec_upper    spectraltype_esphs    tmass             ra        dec       Jmag    Kmag    designation       ph_qual\n",
       "0    2738301239023951872  15.452848  -2.4396361203715675  0.213626     -15.25905314657402   0.08839811   1.5546639904202617   0.15466519    17.89857   19.039177  16.878193   38.471077      143.97571      0.9964819  1.3310089        nan         nan          96.97304732424277  -59.444562933467886  5094.257        5023.718              5204.422              3.7555          3.6905                3.8066                -0.141        -0.25               -0.0424             2644.472            2498.6218                 2834.452                  2.106         2.0446              2.1876              nan           nan                 nan                 nan                nan                      nan                      nan            nan                  nan                                        00000015+0048353  0.000664  0.809816  15.43   14.721  00000015+0048353  AAA\n",
       "1    2738215374037617280  16.528448  7.622902933696334    0.45880646   -14.66563928781094   0.3445331    1.9316520479956616   0.4761021     19.701853  20.95092   18.441822   8.090968       56.30646       1.0155579  1.5729879        nan         nan          96.61675636214513  -59.86845292011402   nan             nan                   nan                   nan             nan                   nan                   nan           nan                 nan                 nan                 nan                       nan                       nan           nan                 nan                 nan           nan                 nan                 nan                nan                      nan                      nan            nan                  nan                                        00000029+0020573  0.001234  0.349274  16.56   15.455  00000029+0020573  ABC\n",
       "2    2738294646249950464  16.920013  15.727889485752868   0.030565234  -6.2386182378986526  0.020169798  0.7111678925386531   0.029599223   14.743093  15.096594  14.216369   565.61774      1347.9517      1.0475903  1.2074407        nan         nan          96.86294240272038  -59.577965704038135  5450.4346       5441.9224             5464.8667             4.2182          4.2039                4.2367                -0.7167       -0.7351             -0.6937             1233.3447           1195.9532                 1262.7806                 0.0072        0.0021              0.0158              nan           nan                 nan                 nan                nan                      nan                      nan            nan                  nan                  G                     00000029+0039544  0.001245  0.665133  13.609  13.182  00000029+0039544  AAA\n",
       "3    2738223208058015488  4.151558   -0.6464668177867251  0.3133622    -4.100916174464353   0.20489562   1.0249887525602555   0.27208024    19.067236  20.3389    17.999353   17.2238        64.74676       1.041015   1.350354         nan         nan          96.76009244969302  -59.70010809470707   nan             nan                   nan                   nan             nan                   nan                   nan           nan                 nan                 nan                 nan                       nan                       nan           nan                 nan                 nan           nan                 nan                 nan                nan                      nan                      nan            nan                  nan                                        00000033+0031565  0.001414  0.532371  16.45   15.33   00000033+0031565  ACB\n",
       "4    2738223212353886336  3.2468765  -0.8893183875639226  0.100175604  -3.122710383878679   0.056938235  0.3968673345305549   0.0785026     17.077734  17.48083   16.532284   108.20531      225.85867      1.0158308  1.1959527        nan         nan          96.75568080515606  -59.70685893017676   5228.9937       5220.0737             5239.315              4.6324          4.6078                4.6513                -0.4984       -0.5504             -0.4493             1647.3835           1611.6805                 1685.5164                 0.0021        0.0005              0.0063              nan           nan                 nan                 nan                nan                      nan                      nan            nan                  nan                  F                     00000046+0031309  0.001945  0.52526   15.891  15.267  00000046+0031309  ABB\n",
       "...  ...                  ...        ...                  ...          ...                  ...          ...                  ...           ...        ...        ...         ...            ...            ...        ...              ...         ...          ...                ...                  ...             ...                   ...                   ...             ...                   ...                   ...           ...                 ...                 ...                 ...                       ...                       ...           ...                 ...                 ...           ...                 ...                 ...                ...                      ...                      ...            ...                  ...                  ...                   ...               ...       ...       ...     ...     ...               ...\n",
       "995  2738349999788572544  6.3607173  6.312159620749597    0.04976042   -0.7844519734167342  0.024988519  0.6486367108544879   0.037183046   13.985814  14.309882  13.4921465  1014.50806     1764.2107      1.8059769  1.2013278        32.311348   7.2830186    98.1800314014436   -59.59874511100543   5637.1553       5619.762              5654.2793             3.9416          3.9256                3.9544                -0.4926       -0.5074             -0.4812             1117.4271           1104.3173                 1135.2659                 0.0174        0.0078              0.0268              nan           nan                 nan                 nan                nan                      nan                      nan            nan                  nan                  G                     00023010+0054020  --        --        --      --      --                --\n",
       "996  2738349995493681792  7.13749    7.106839345414534    0.34193558   -0.6607552440056009  0.2225997    0.9643509107139575   0.30446807    19.02612   20.144407  18.081076   21.624804      45.393475      1.0065513  1.2640594        nan         nan          98.18313043744496  -59.598733900362475  nan             nan                   nan                   nan             nan                   nan                   nan           nan                 nan                 nan                 nan                       nan                       nan           nan                 nan                 nan           nan                 nan                 nan                nan                      nan                      nan            nan                  nan                                        00023045+0054043  --        --        --      --      --                --\n",
       "997  2546052975233206144  10.117639  -2.561369133529036   0.019812861  -9.78805364273433    0.010469069  0.5520039758830554   0.017639948   13.583392  14.08934   12.92118    1425.7131      2881.922       1.0662869  1.2297167        -12.123729  1.421052     97.6503228769986   -60.25646124365543   4908.696        4819.217              4942.209              3.0002          2.7621                3.1205                -0.2521       -0.2625             -0.2405             2147.195            1876.1539                 2787.842                  0.1603        0.0818              0.1916              nan           nan                 nan                 nan                nan                      nan                      nan            nan                  nan                  K                     00023050+0011288  --        --        --      --      --                --\n",
       "998  2738350785766437632  21.199188  -4.4902258510394155  0.19513817   -20.71819059142849   0.12353605   0.24249435473078346  0.15911621    17.975513  18.64996   17.328594   52.26134       51.454967      1.0550491  1.1534642        nan         nan          98.18952498659485  -59.59220605303184   4458.9844       4448.293              4471.604              4.4218          4.3883                4.5812                -0.8987       -1.1263             -0.7804             2135.0576           1599.1514                 2215.301                  0.0055        0.0013              0.0138              nan           nan                 nan                 nan                nan                      nan                      nan            nan                  nan                                        00023059+0054308  --        --        --      --      --                --\n",
       "999  2738350790062844032  nan        nan                  nan          nan                  nan          nan                  nan           20.530914  19.386303  17.842886   33.967613      60.4468        nan        7.0864234        nan         nan          98.18810249212653  -59.594315363006025  nan             nan                   nan                   nan             nan                   nan                   nan           nan                 nan                 nan                 nan                       nan                       nan           nan                 nan                 nan           nan                 nan                 nan                nan                      nan                      nan            nan                  nan                                        00023061+0054220  --        --        --      --      --                --"
      ]
     },
     "execution_count": 21,
     "metadata": {},
     "output_type": "execute_result"
    }
   ],
   "source": [
    "TOP = 1000\n",
    "query_gaia = f\"\"\"\n",
    "SELECT TOP {TOP} {', '.join(columns)}\n",
    "FROM gaiadr3.gaia_source AS {gaia_alias}\n",
    "LEFT JOIN gaiadr3.astrophysical_parameters AS {astrophysical_alias} ON astrophysical.source_id = gdr3.source_id\n",
    "RIGHT JOIN gaiadr3.tmass_psc_xsc_best_neighbour AS tmass ON tmass.source_id = gdr3.source_id\n",
    "RIGHT JOIN gaiadr3.tmass_psc_xsc_join as {join_alias} ON join_table.clean_tmass_psc_xsc_oid = tmass.clean_tmass_psc_xsc_oid\n",
    "WHERE gdr3.ra BETWEEN 0 AND 1\n",
    "AND gdr3.dec BETWEEN 0 AND 1\n",
    "\"\"\"\n",
    "\n",
    "df_gaia = launch_job(Gaia.launch_job, query_gaia, duration=10)\n",
    "    \n",
    "query_tmass = f\"\"\"\n",
    "SELECT TOP {TOP} {\", \".join(columns_tmass)} \n",
    "FROM {tmass_table}\n",
    "WHERE ra BETWEEN 0 AND 1\n",
    "AND dec BETWEEN 0 AND 1\n",
    "\"\"\"\n",
    "\n",
    "df_tmass = launch_job(tap_tmass.launch_job, query_tmass, cols=columns_tmass_names, duration=10)\n",
    "\n",
    "df_table = df_gaia.join(df_tmass, right_on=\"designation\", left_on=\"tmass\", how=\"left\")\n",
    "df_table"
   ]
  },
  {
   "attachments": {},
   "cell_type": "markdown",
   "metadata": {},
   "source": [
    "But, querying ALL data is too much DATA (slow internet = bad). We need a better strategy. One way is to query the data according to their position in the sky. We can query from some RA and DEC range for both catalogs, then join the tables.\n",
    "\n",
    "But, we need to be careful. The two catalogs may have slightly different coordinate system. To make sure\n",
    "every object in 2MASS joined to Gaia, we can give more range in RA and DEC for 2MASS."
   ]
  },
  {
   "cell_type": "code",
   "execution_count": 22,
   "metadata": {},
   "outputs": [
    {
     "name": "stdout",
     "output_type": "stream",
     "text": [
      "gaia:  11\n",
      "tmass:  99\n"
     ]
    },
    {
     "data": {
      "text/html": [
       "<table>\n",
       "<thead>\n",
       "<tr><th>#                             </th><th>source_id          </th><th>pm        </th><th>pmra               </th><th>e_pmra     </th><th>pmdec                </th><th>e_pmdec    </th><th>parallax             </th><th>e_parallax  </th><th>gmag     </th><th>bpmag    </th><th>rpmag     </th><th>fb_over_err  </th><th>fr_over_err  </th><th>ruwe     </th><th>excess_factor  </th><th>rv_gaia   </th><th>e_rv_gaia  </th><th>glon             </th><th>glat               </th><th>teff_gspphot  </th><th>teff_gspphot_lower  </th><th>teff_gspphot_upper  </th><th>logg_gspphot  </th><th>logg_gspphot_lower  </th><th>logg_gspphot_upper  </th><th>mh_gspphot  </th><th>mh_gspphot_lower  </th><th>mh_gspphot_upper  </th><th>distance_gspphot  </th><th>distance_gspphot_lower  </th><th>distance_gspphot_upper  </th><th>ag_gspphot  </th><th>ag_gspphot_lower  </th><th>ag_gspphot_upper  </th><th>mh_gspspec  </th><th>mh_gspspec_lower  </th><th>mh_gspspec_upper  </th><th>alphafe_gspspec  </th><th>alphafe_gspspec_lower  </th><th>alphafe_gspspec_upper  </th><th>fem_gspspec  </th><th>fem_gspspec_lower  </th><th>fem_gspspec_upper  </th><th>spectraltype_esphs  </th><th>tmass           </th><th>ra      </th><th>dec     </th><th>Jmag  </th><th>Kmag  </th><th>designation     </th><th>ph_qual  </th></tr>\n",
       "</thead>\n",
       "<tbody>\n",
       "<tr><td><i style='opacity: 0.6'>0</i> </td><td>2738190261363834752</td><td>nan       </td><td>nan                </td><td>nan        </td><td>nan                  </td><td>nan        </td><td>nan                  </td><td>nan         </td><td>21.206774</td><td>19.901033</td><td>18.391542 </td><td>14.618735    </td><td>22.232944    </td><td>nan      </td><td>8.041515       </td><td>nan       </td><td>nan        </td><td>96.4252265874694 </td><td>-60.11441184663786 </td><td>nan           </td><td>nan                 </td><td>nan                 </td><td>nan           </td><td>nan                 </td><td>nan                 </td><td>nan         </td><td>nan               </td><td>nan               </td><td>nan               </td><td>nan                     </td><td>nan                     </td><td>nan         </td><td>nan               </td><td>nan               </td><td>nan         </td><td>nan               </td><td>nan               </td><td>nan              </td><td>nan                    </td><td>nan                    </td><td>nan          </td><td>nan                </td><td>nan                </td><td>                    </td><td>00000259+0005072</td><td>0.010819</td><td>0.085355</td><td>16.84 </td><td>15.856</td><td>00000259+0005072</td><td>CCD      </td></tr>\n",
       "<tr><td><i style='opacity: 0.6'>1</i> </td><td>2738189402371313536</td><td>24.489563 </td><td>0.2235421139061587 </td><td>0.08540153 </td><td>-24.488543202676073  </td><td>0.041835785</td><td>1.6185493076794253   </td><td>0.065504305 </td><td>16.613222</td><td>17.438858</td><td>15.7189665</td><td>164.80835    </td><td>311.57825    </td><td>1.0524493</td><td>1.2982227      </td><td>nan       </td><td>nan        </td><td>96.42178639552206</td><td>-60.14181278325434 </td><td>4198.347      </td><td>4170.506            </td><td>4226.2886           </td><td>4.6701        </td><td>4.6618              </td><td>4.6804              </td><td>0.0584      </td><td>0.0053            </td><td>0.1375            </td><td>576.2736          </td><td>561.851                 </td><td>593.2487                </td><td>0.3414      </td><td>0.3128            </td><td>0.3677            </td><td>nan         </td><td>nan               </td><td>nan               </td><td>nan              </td><td>nan                    </td><td>nan                    </td><td>nan          </td><td>nan                </td><td>nan                </td><td>K                   </td><td>00000480+0003350</td><td>0.020036</td><td>0.059739</td><td>14.557</td><td>13.806</td><td>00000480+0003350</td><td>AAA      </td></tr>\n",
       "<tr><td><i style='opacity: 0.6'>2</i> </td><td>2738188745240343552</td><td>14.690249 </td><td>-9.282249009982245 </td><td>0.13744329 </td><td>-11.386099945128661  </td><td>0.06628131 </td><td>0.8263479780786821   </td><td>0.10552607  </td><td>17.364765</td><td>18.00437 </td><td>16.604973 </td><td>124.53133    </td><td>148.70398    </td><td>1.09727  </td><td>1.2498498      </td><td>nan       </td><td>nan        </td><td>96.42272203573486</td><td>-60.16196157984787 </td><td>4323.9336     </td><td>4310.5596           </td><td>4345.1406           </td><td>4.4015        </td><td>4.3847              </td><td>4.4458              </td><td>-0.3972     </td><td>-0.4403           </td><td>-0.3433           </td><td>1512.8055         </td><td>1451.449                </td><td>1543.9949               </td><td>0.0038      </td><td>0.0008            </td><td>0.0111            </td><td>nan         </td><td>nan               </td><td>nan               </td><td>nan              </td><td>nan                    </td><td>nan                    </td><td>nan          </td><td>nan                </td><td>nan                </td><td>K                   </td><td>00000683+0002288</td><td>0.028464</td><td>0.041338</td><td>15.749</td><td>14.816</td><td>00000683+0002288</td><td>AAA      </td></tr>\n",
       "<tr><td><i style='opacity: 0.6'>3</i> </td><td>2546034936370507392</td><td>53.83092  </td><td>53.80102086344147  </td><td>0.05314502 </td><td>1.793957230040646    </td><td>0.021066993</td><td>6.828829490743712    </td><td>0.035262    </td><td>15.031088</td><td>16.092154</td><td>14.005127 </td><td>395.76547    </td><td>1066.124     </td><td>1.0320184</td><td>1.3558441      </td><td>18.514708 </td><td>3.7578015  </td><td>96.41090544008978</td><td>-60.202732734001714</td><td>3795.7495     </td><td>3787.6335           </td><td>3840.5676           </td><td>4.7789        </td><td>4.6699              </td><td>4.7887              </td><td>-0.4065     </td><td>-0.4424           </td><td>-0.2037           </td><td>146.8167          </td><td>144.7157                </td><td>180.4319                </td><td>0.4392      </td><td>0.429             </td><td>0.4801            </td><td>nan         </td><td>nan               </td><td>nan               </td><td>nan              </td><td>nan                    </td><td>nan                    </td><td>nan          </td><td>nan                </td><td>nan                </td><td>M                   </td><td>00000935+0000055</td><td>0.038972</td><td>0.001536</td><td>12.682</td><td>11.844</td><td>00000935+0000055</td><td>AAA      </td></tr>\n",
       "<tr><td><i style='opacity: 0.6'>4</i> </td><td>2738189539810574080</td><td>45.44853  </td><td>-18.048060627808546</td><td>0.09670794 </td><td>-41.71134584570512   </td><td>0.046627097</td><td>2.835518131408606    </td><td>0.07095567  </td><td>16.774633</td><td>17.926857</td><td>15.709566 </td><td>128.28415    </td><td>369.85077    </td><td>1.0316745</td><td>1.3735807      </td><td>nan       </td><td>nan        </td><td>96.48994554109956</td><td>-60.12527252252441 </td><td>3638.9036     </td><td>3628.5981           </td><td>3649.657            </td><td>4.5734        </td><td>4.4247              </td><td>4.633               </td><td>-0.4568     </td><td>-0.489            </td><td>-0.428            </td><td>385.2143          </td><td>351.1896                </td><td>481.1929                </td><td>0.3437      </td><td>0.3304            </td><td>0.3583            </td><td>nan         </td><td>nan               </td><td>nan               </td><td>nan              </td><td>nan                    </td><td>nan                    </td><td>nan          </td><td>nan                </td><td>nan                </td><td>M                   </td><td>00001072+0005183</td><td>0.044682</td><td>0.088436</td><td>14.331</td><td>13.546</td><td>00001072+0005183</td><td>AAA      </td></tr>\n",
       "<tr><td>...                           </td><td>...                </td><td>...       </td><td>...                </td><td>...        </td><td>...                  </td><td>...        </td><td>...                  </td><td>...         </td><td>...      </td><td>...      </td><td>...       </td><td>...          </td><td>...          </td><td>...      </td><td>...            </td><td>...       </td><td>...        </td><td>...              </td><td>...                </td><td>...           </td><td>...                 </td><td>...                 </td><td>...           </td><td>...                 </td><td>...                 </td><td>...         </td><td>...               </td><td>...               </td><td>...               </td><td>...                     </td><td>...                     </td><td>...         </td><td>...               </td><td>...               </td><td>...         </td><td>...               </td><td>...               </td><td>...              </td><td>...                    </td><td>...                    </td><td>...          </td><td>...                </td><td>...                </td><td>...                 </td><td>...             </td><td>...     </td><td>...     </td><td>...   </td><td>...   </td><td>...             </td><td>...      </td></tr>\n",
       "<tr><td><i style='opacity: 0.6'>6</i> </td><td>2546035516189912192</td><td>0.22024563</td><td>0.22021081325784556</td><td>0.13663568 </td><td>-0.003916356131951143</td><td>0.07339427 </td><td>-0.009259253271187956</td><td>0.11804573  </td><td>17.471752</td><td>17.499405</td><td>17.11613  </td><td>48.956383    </td><td>57.256275    </td><td>1.0207223</td><td>1.291047       </td><td>nan       </td><td>nan        </td><td>96.46151573227536</td><td>-60.17132657705381 </td><td>7007.0664     </td><td>6988.895            </td><td>7024.1396           </td><td>4.5895        </td><td>4.5749              </td><td>4.5964              </td><td>-3.3229     </td><td>-3.3749           </td><td>-3.2095           </td><td>4216.833          </td><td>4163.766                </td><td>4273.0693               </td><td>0.0008      </td><td>0.0002            </td><td>0.0022            </td><td>nan         </td><td>nan               </td><td>nan               </td><td>nan              </td><td>nan                    </td><td>nan                    </td><td>nan          </td><td>nan                </td><td>nan                </td><td>                    </td><td>00001197+0002253</td><td>0.049897</td><td>0.040369</td><td>16.651</td><td>14.821</td><td>00001197+0002253</td><td>BBB      </td></tr>\n",
       "<tr><td><i style='opacity: 0.6'>7</i> </td><td>2546035073809587456</td><td>nan       </td><td>nan                </td><td>nan        </td><td>nan                  </td><td>nan        </td><td>nan                  </td><td>nan         </td><td>21.311394</td><td>20.673088</td><td>18.571123 </td><td>8.352885     </td><td>19.27899     </td><td>nan      </td><td>6.55748        </td><td>nan       </td><td>nan        </td><td>96.44856659873795</td><td>-60.189836039004675</td><td>nan           </td><td>nan                 </td><td>nan                 </td><td>nan           </td><td>nan                 </td><td>nan                 </td><td>nan         </td><td>nan               </td><td>nan               </td><td>nan               </td><td>nan                     </td><td>nan                     </td><td>nan         </td><td>nan               </td><td>nan               </td><td>nan         </td><td>nan               </td><td>nan               </td><td>nan              </td><td>nan                    </td><td>nan                    </td><td>nan          </td><td>nan                </td><td>nan                </td><td>                    </td><td>00001231+0001150</td><td>0.051312</td><td>0.020844</td><td>16.664</td><td>15.385</td><td>00001231+0001150</td><td>CCC      </td></tr>\n",
       "<tr><td><i style='opacity: 0.6'>8</i> </td><td>2546034867651031168</td><td>7.281073  </td><td>5.114631151080502  </td><td>0.06850985 </td><td>-5.182139871871228   </td><td>0.034158   </td><td>0.3758082284893357   </td><td>0.053153638 </td><td>16.063038</td><td>16.507826</td><td>15.453807 </td><td>358.19595    </td><td>493.05597    </td><td>1.0705945</td><td>1.2191943      </td><td>nan       </td><td>nan        </td><td>96.48282612835861</td><td>-60.20910194261328 </td><td>5372.527      </td><td>5351.7856           </td><td>5396.5205           </td><td>3.1783        </td><td>3.149               </td><td>3.1906              </td><td>-0.0989     </td><td>-0.1009           </td><td>-0.0968           </td><td>8723.284          </td><td>8606.326                </td><td>9017.521                </td><td>0.2721      </td><td>0.2581            </td><td>0.288             </td><td>nan         </td><td>nan               </td><td>nan               </td><td>nan              </td><td>nan                    </td><td>nan                    </td><td>nan          </td><td>nan                </td><td>nan                </td><td>G                   </td><td>00001788+0000357</td><td>0.074518</td><td>0.009934</td><td>14.727</td><td>14.038</td><td>00001788+0000357</td><td>AAA      </td></tr>\n",
       "<tr><td><i style='opacity: 0.6'>9</i> </td><td>2546034798931891072</td><td>12.396395 </td><td>-5.306950643375085 </td><td>0.42373046 </td><td>-11.202984893135167  </td><td>0.25162122 </td><td>1.1618273714750367   </td><td>0.4076149   </td><td>19.43763 </td><td>20.695728</td><td>18.323637 </td><td>12.632016    </td><td>46.29938     </td><td>0.9835538</td><td>1.4020089      </td><td>nan       </td><td>nan        </td><td>96.47783508921316</td><td>-60.21578552726819 </td><td>nan           </td><td>nan                 </td><td>nan                 </td><td>nan           </td><td>nan                 </td><td>nan                 </td><td>nan         </td><td>nan               </td><td>nan               </td><td>nan               </td><td>nan                     </td><td>nan                     </td><td>nan         </td><td>nan               </td><td>nan               </td><td>nan         </td><td>nan               </td><td>nan               </td><td>nan              </td><td>nan                    </td><td>nan                    </td><td>nan          </td><td>nan                </td><td>nan                </td><td>                    </td><td>00001799+0000103</td><td>0.07498 </td><td>0.002871</td><td>16.764</td><td>15.571</td><td>00001799+0000103</td><td>CCC      </td></tr>\n",
       "<tr><td><i style='opacity: 0.6'>10</i></td><td>2546035657925014144</td><td>245.90294 </td><td>237.21967365776175 </td><td>0.029605923</td><td>-64.76947081140212   </td><td>0.013806014</td><td>9.096386638762276    </td><td>0.021812173 </td><td>14.138312</td><td>15.248385</td><td>13.085976 </td><td>835.831      </td><td>1673.8456    </td><td>1.1055157</td><td>1.3704288      </td><td>-6.0834556</td><td>1.968142   </td><td>96.52266700252693</td><td>-60.16767461474748 </td><td>3594.5005     </td><td>3591.0608           </td><td>3596.0203           </td><td>4.4977        </td><td>4.4852              </td><td>4.5009              </td><td>-0.7218     </td><td>-0.7413           </td><td>-0.716            </td><td>110.4428          </td><td>110.2054                </td><td>110.7201                </td><td>0.2445      </td><td>0.2409            </td><td>0.2474            </td><td>nan         </td><td>nan               </td><td>nan               </td><td>nan              </td><td>nan                    </td><td>nan                    </td><td>nan          </td><td>nan                </td><td>nan                </td><td>M                   </td><td>00001806+0003218</td><td>0.075254</td><td>0.05606 </td><td>11.752</td><td>10.902</td><td>00001806+0003218</td><td>AAA      </td></tr>\n",
       "</tbody>\n",
       "</table>"
      ],
      "text/plain": [
       "#    source_id            pm          pmra                 e_pmra       pmdec                  e_pmdec      parallax               e_parallax    gmag       bpmag      rpmag       fb_over_err    fr_over_err    ruwe       excess_factor    rv_gaia     e_rv_gaia    glon               glat                 teff_gspphot    teff_gspphot_lower    teff_gspphot_upper    logg_gspphot    logg_gspphot_lower    logg_gspphot_upper    mh_gspphot    mh_gspphot_lower    mh_gspphot_upper    distance_gspphot    distance_gspphot_lower    distance_gspphot_upper    ag_gspphot    ag_gspphot_lower    ag_gspphot_upper    mh_gspspec    mh_gspspec_lower    mh_gspspec_upper    alphafe_gspspec    alphafe_gspspec_lower    alphafe_gspspec_upper    fem_gspspec    fem_gspspec_lower    fem_gspspec_upper    spectraltype_esphs    tmass             ra        dec       Jmag    Kmag    designation       ph_qual\n",
       "0    2738190261363834752  nan         nan                  nan          nan                    nan          nan                    nan           21.206774  19.901033  18.391542   14.618735      22.232944      nan        8.041515         nan         nan          96.4252265874694   -60.11441184663786   nan             nan                   nan                   nan             nan                   nan                   nan           nan                 nan                 nan                 nan                       nan                       nan           nan                 nan                 nan           nan                 nan                 nan                nan                      nan                      nan            nan                  nan                                        00000259+0005072  0.010819  0.085355  16.84   15.856  00000259+0005072  CCD\n",
       "1    2738189402371313536  24.489563   0.2235421139061587   0.08540153   -24.488543202676073    0.041835785  1.6185493076794253     0.065504305   16.613222  17.438858  15.7189665  164.80835      311.57825      1.0524493  1.2982227        nan         nan          96.42178639552206  -60.14181278325434   4198.347        4170.506              4226.2886             4.6701          4.6618                4.6804                0.0584        0.0053              0.1375              576.2736            561.851                   593.2487                  0.3414        0.3128              0.3677              nan           nan                 nan                 nan                nan                      nan                      nan            nan                  nan                  K                     00000480+0003350  0.020036  0.059739  14.557  13.806  00000480+0003350  AAA\n",
       "2    2738188745240343552  14.690249   -9.282249009982245   0.13744329   -11.386099945128661    0.06628131   0.8263479780786821     0.10552607    17.364765  18.00437   16.604973   124.53133      148.70398      1.09727    1.2498498        nan         nan          96.42272203573486  -60.16196157984787   4323.9336       4310.5596             4345.1406             4.4015          4.3847                4.4458                -0.3972       -0.4403             -0.3433             1512.8055           1451.449                  1543.9949                 0.0038        0.0008              0.0111              nan           nan                 nan                 nan                nan                      nan                      nan            nan                  nan                  K                     00000683+0002288  0.028464  0.041338  15.749  14.816  00000683+0002288  AAA\n",
       "3    2546034936370507392  53.83092    53.80102086344147    0.05314502   1.793957230040646      0.021066993  6.828829490743712      0.035262      15.031088  16.092154  14.005127   395.76547      1066.124       1.0320184  1.3558441        18.514708   3.7578015    96.41090544008978  -60.202732734001714  3795.7495       3787.6335             3840.5676             4.7789          4.6699                4.7887                -0.4065       -0.4424             -0.2037             146.8167            144.7157                  180.4319                  0.4392        0.429               0.4801              nan           nan                 nan                 nan                nan                      nan                      nan            nan                  nan                  M                     00000935+0000055  0.038972  0.001536  12.682  11.844  00000935+0000055  AAA\n",
       "4    2738189539810574080  45.44853    -18.048060627808546  0.09670794   -41.71134584570512     0.046627097  2.835518131408606      0.07095567    16.774633  17.926857  15.709566   128.28415      369.85077      1.0316745  1.3735807        nan         nan          96.48994554109956  -60.12527252252441   3638.9036       3628.5981             3649.657              4.5734          4.4247                4.633                 -0.4568       -0.489              -0.428              385.2143            351.1896                  481.1929                  0.3437        0.3304              0.3583              nan           nan                 nan                 nan                nan                      nan                      nan            nan                  nan                  M                     00001072+0005183  0.044682  0.088436  14.331  13.546  00001072+0005183  AAA\n",
       "...  ...                  ...         ...                  ...          ...                    ...          ...                    ...           ...        ...        ...         ...            ...            ...        ...              ...         ...          ...                ...                  ...             ...                   ...                   ...             ...                   ...                   ...           ...                 ...                 ...                 ...                       ...                       ...           ...                 ...                 ...           ...                 ...                 ...                ...                      ...                      ...            ...                  ...                  ...                   ...               ...       ...       ...     ...     ...               ...\n",
       "6    2546035516189912192  0.22024563  0.22021081325784556  0.13663568   -0.003916356131951143  0.07339427   -0.009259253271187956  0.11804573    17.471752  17.499405  17.11613    48.956383      57.256275      1.0207223  1.291047         nan         nan          96.46151573227536  -60.17132657705381   7007.0664       6988.895              7024.1396             4.5895          4.5749                4.5964                -3.3229       -3.3749             -3.2095             4216.833            4163.766                  4273.0693                 0.0008        0.0002              0.0022              nan           nan                 nan                 nan                nan                      nan                      nan            nan                  nan                                        00001197+0002253  0.049897  0.040369  16.651  14.821  00001197+0002253  BBB\n",
       "7    2546035073809587456  nan         nan                  nan          nan                    nan          nan                    nan           21.311394  20.673088  18.571123   8.352885       19.27899       nan        6.55748          nan         nan          96.44856659873795  -60.189836039004675  nan             nan                   nan                   nan             nan                   nan                   nan           nan                 nan                 nan                 nan                       nan                       nan           nan                 nan                 nan           nan                 nan                 nan                nan                      nan                      nan            nan                  nan                                        00001231+0001150  0.051312  0.020844  16.664  15.385  00001231+0001150  CCC\n",
       "8    2546034867651031168  7.281073    5.114631151080502    0.06850985   -5.182139871871228     0.034158     0.3758082284893357     0.053153638   16.063038  16.507826  15.453807   358.19595      493.05597      1.0705945  1.2191943        nan         nan          96.48282612835861  -60.20910194261328   5372.527        5351.7856             5396.5205             3.1783          3.149                 3.1906                -0.0989       -0.1009             -0.0968             8723.284            8606.326                  9017.521                  0.2721        0.2581              0.288               nan           nan                 nan                 nan                nan                      nan                      nan            nan                  nan                  G                     00001788+0000357  0.074518  0.009934  14.727  14.038  00001788+0000357  AAA\n",
       "9    2546034798931891072  12.396395   -5.306950643375085   0.42373046   -11.202984893135167    0.25162122   1.1618273714750367     0.4076149     19.43763   20.695728  18.323637   12.632016      46.29938       0.9835538  1.4020089        nan         nan          96.47783508921316  -60.21578552726819   nan             nan                   nan                   nan             nan                   nan                   nan           nan                 nan                 nan                 nan                       nan                       nan           nan                 nan                 nan           nan                 nan                 nan                nan                      nan                      nan            nan                  nan                                        00001799+0000103  0.07498   0.002871  16.764  15.571  00001799+0000103  CCC\n",
       "10   2546035657925014144  245.90294   237.21967365776175   0.029605923  -64.76947081140212     0.013806014  9.096386638762276      0.021812173   14.138312  15.248385  13.085976   835.831        1673.8456      1.1055157  1.3704288        -6.0834556  1.968142     96.52266700252693  -60.16767461474748   3594.5005       3591.0608             3596.0203             4.4977          4.4852                4.5009                -0.7218       -0.7413             -0.716              110.4428            110.2054                  110.7201                  0.2445        0.2409              0.2474              nan           nan                 nan                 nan                nan                      nan                      nan            nan                  nan                  M                     00001806+0003218  0.075254  0.05606   11.752  10.902  00001806+0003218  AAA"
      ]
     },
     "execution_count": 22,
     "metadata": {},
     "output_type": "execute_result"
    }
   ],
   "source": [
    "TOP = 1000\n",
    "query_gaia = f\"\"\"\n",
    "SELECT TOP {TOP} {', '.join(columns)}\n",
    "FROM gaiadr3.gaia_source AS {gaia_alias}\n",
    "LEFT JOIN gaiadr3.astrophysical_parameters AS {astrophysical_alias} ON astrophysical.source_id = gdr3.source_id\n",
    "RIGHT JOIN gaiadr3.tmass_psc_xsc_best_neighbour AS tmass ON tmass.source_id = gdr3.source_id\n",
    "RIGHT JOIN gaiadr3.tmass_psc_xsc_join as {join_alias} ON join_table.clean_tmass_psc_xsc_oid = tmass.clean_tmass_psc_xsc_oid\n",
    "WHERE gdr3.ra BETWEEN 0 AND 0.1\n",
    "AND gdr3.dec BETWEEN 0 AND 0.1\n",
    "\"\"\"\n",
    "\n",
    "df_gaia = launch_job(Gaia.launch_job, query_gaia, duration=10)\n",
    "print(\"gaia: \", len(df_gaia))\n",
    "query_tmass = f\"\"\"\n",
    "SELECT TOP {TOP} {\", \".join(columns_tmass)} \n",
    "FROM {tmass_table}\n",
    "WHERE ra BETWEEN -0.1 AND 0.2\n",
    "AND dec BETWEEN -0.1 AND 0.2\n",
    "\"\"\"\n",
    "\n",
    "df_tmass = launch_job(tap_tmass.launch_job, query_tmass, cols=columns_tmass_names, duration=10)\n",
    "print(\"tmass: \", len(df_tmass))\n",
    "\n",
    "df_table = df_gaia.join(df_tmass, right_on=\"designation\", left_on=\"tmass\", how=\"left\")\n",
    "df_table"
   ]
  },
  {
   "attachments": {},
   "cell_type": "markdown",
   "metadata": {},
   "source": [
    "Querying without limits could be problematic. Ideally, we only querying subset with manageable size. But, if something wrong in the code, we could accidentally query a lot of data. This is not a desiredable situation. Therefore, we need to limit the query size. But what is the limit? If the limit is too small, we might miss some objects. If the limit is too big, we might query a lot of data. We need to find the balance.\n",
    "\n",
    "One of the solutions is to make the limit dynamic. If the query result has the same number of rows as the limit, we can increase the limit. If the query result has less rows than the limit, we can adjust the limit well above the previous numbers.\n",
    "\n",
    "This is my proposal:\n",
    "1. set initial limit = 100_000\n",
    "2. set for loops (range in RA and DEC)\n",
    "3. query the data\n",
    "4. if the query result has the same number of rows as the limit, increase the limit by 2 times, then go to step 2\n",
    "5. if the query result has less rows than the limit, adjust the limit to be 2 times the rows, then go to step 2\n",
    "6. save the data in a file\n",
    "7. if we still need to query more data, go to step 2"
   ]
  },
  {
   "attachments": {},
   "cell_type": "markdown",
   "metadata": {},
   "source": [
    "My proposal is to divide the data into RA and DEC ranges. The ranges are chosen based on the data distribution. The ranges are:\n",
    "\n",
    "    RA: 0-360 into 360 parts\n",
    "    DEC: -90-90 into 180 parts\n",
    "\n",
    "in total, 360x180 = 64800 parts. That's a lot of data to save. Not really convenient.\n",
    "\n",
    "Let loops over DEC than RA. This way, we can create temporary directory for each DEC range. In each RA iteration, we can save the data into the temporary directory. After the iteration, we can combine all the files into one file, then remove the temporary directory.\n",
    "\n",
    "Doing this way, we can make sure every data is save and can be resumed if the process is interrupted."
   ]
  },
  {
   "attachments": {},
   "cell_type": "markdown",
   "metadata": {},
   "source": [
    "There are three combination of the results from the query. \n",
    "1. The query result is empty. \n",
    "    * in this case, we stop the program and investigate the problem.\n",
    "2. The query result has the same number of rows as the limit.\n",
    "    * in this case, we can adjust the limit to be 2 times previous limit\n",
    "3. The query result has less rows than the limit.\n",
    "    * this is the desired case. We accept the result. But, for efficiency, intuitively, the next result should have roughly about the same number of rows as the previous result. Therefore, the limit of 2 times the number of rows is a good lower bound choice. If the previous limit is less than 2 times the number of rows, we can adjust the limit to be 2 times the number of rows."
   ]
  },
  {
   "cell_type": "code",
   "execution_count": 38,
   "metadata": {},
   "outputs": [],
   "source": [
    "def check_df(df, top):\n",
    "    \"\"\"\n",
    "    Check if the dataframe is None, capped, or empty\n",
    "\n",
    "    Args:\n",
    "        df (DataFrame-like): the dataframe to check\n",
    "        top (int): the top number of rows to query\n",
    "    \n",
    "    Returns:\n",
    "        {force_break: bool, retry: bool, prev_top: int, new_top: int}\n",
    "    \"\"\"\n",
    "    new_top = top # default new top\n",
    "    if df is None:\n",
    "        # if the dataframe is None, therefore the query failed for some reason\n",
    "        return {\n",
    "            \"force_break\": True,\n",
    "            \"retry\": False,\n",
    "            \"prev_top\": top,\n",
    "            \"new_top\": top\n",
    "        }\n",
    "    elif len(df) == top:\n",
    "        # if the dataframe is capped, double the top number of rows to query\n",
    "        new_top = 2*top\n",
    "        return {\n",
    "            \"force_break\": False,\n",
    "            \"retry\": True,\n",
    "            \"prev_top\": top,\n",
    "            \"new_top\": new_top\n",
    "        }\n",
    "    elif len(df) == 0:\n",
    "        # if the dataframe is empty, it means that there is something wrong.\n",
    "        # let's force the break and investigate further\n",
    "        return {\n",
    "            \"force_break\": True,\n",
    "            \"retry\": False,\n",
    "            \"prev_top\": top,\n",
    "            \"new_top\": top\n",
    "        }\n",
    "    if top > 2*len(df):\n",
    "        # just for good measure.\n",
    "        new_top = 2*len(df)\n",
    "    # no problem, return the new top number of rows to query. Let's go!\n",
    "    return {\n",
    "        \"force_break\": False,\n",
    "        \"retry\": False,\n",
    "        \"prev_top\": top,\n",
    "        \"new_top\": new_top\n",
    "    }"
   ]
  },
  {
   "cell_type": "code",
   "execution_count": 39,
   "metadata": {},
   "outputs": [],
   "source": [
    "# def point_in_time(t0):\n",
    "#     t1 = time()\n",
    "#     d1 = datetime.now()\n",
    "#     print(f\"======= {d1} | {t1-t0} s =======\")"
   ]
  },
  {
   "cell_type": "code",
   "execution_count": 27,
   "metadata": {},
   "outputs": [],
   "source": [
    "df_tmass = []\n",
    "df_gaia = []\n",
    "df_tmass_only = []\n",
    "\n",
    "def iterate_job(ras, decs, gen_gaia_query, gen_tmass_query, path_gaia, path_tmass, \n",
    "                columns_tmass_names, gaia_top=100_000, tmass_top=100_000, timeout=300, \n",
    "                start_dec=-999, num_tries=10):\n",
    "    \"\"\"\n",
    "    Iterate through the RAs and Decs to query the Gaia and TMASS databases\n",
    "    Args:\n",
    "        ras (array-like): the RAs to iterate through\n",
    "        decs (array-like): the Decs to iterate through\n",
    "        gen_gaia_query (str): the query to run on the Gaia database\n",
    "        gen_tmass_query (str): the query to run on the TMASS database\n",
    "        path_gaia (str): the path to save the Gaia dataframes\n",
    "        path_tmass (str): the path to save the TMASS dataframes\n",
    "        columns_tmass_names (list): the columns to query from the TMASS database\n",
    "        gaia_top (int): the top number of rows to query from the Gaia database\n",
    "        tmass_top (int): the top number of rows to query from the TMASS database\n",
    "        timeout (int): the timeout for the query\n",
    "        start_dec (float): the starting dec to start the query from for the first ra\n",
    "        num_tries (int): the number of tries to query the database before giving up\n",
    "    \"\"\"\n",
    "    # keep track of the old top for recording purposes\n",
    "    old_gaia_top = gaia_top\n",
    "    old_tmass_top = tmass_top\n",
    "    # keep track the force_break flag\n",
    "    force_break = False\n",
    "    # loop through the RAs\n",
    "    for i, (ra0, ra1) in enumerate(zip(ras[:-1], ras[1:])):\n",
    "        if force_break: break\n",
    "        # create the directory to save the dataframes\n",
    "        ra_name = f\"ra_{ra0:03d}-{ra1:03d}\"\n",
    "        safe_mkdir(join(path_gaia, ra_name))\n",
    "        safe_mkdir(join(path_tmass, ra_name))\n",
    "        # loop through the Decs\n",
    "        time0 = time()\n",
    "        date0 = datetime.now()\n",
    "        print(f\"RA: {ra0:03d}-{ra1:03d} {date0}\")\n",
    "        for j, (dec0, dec1) in enumerate(zip(decs[:-1], decs[1:])):\n",
    "            t0 = time()\n",
    "            d0 = datetime.now()\n",
    "            print(f\"\\tDEC: {dec0:02d}-{dec1:02d} {d0}\")\n",
    "            # keep track of the number of tries\n",
    "            tries = 0\n",
    "            # if the starting dec is not -999, then we are continuing from the previous query\n",
    "            if (ra0 == ras[0]) and (dec0 < start_dec): \n",
    "                continue\n",
    "            if force_break: break\n",
    "            # loop over the queries until we get a dataframe that is not capped or empty or failed\n",
    "            while True:\n",
    "                try_log =  f\"RA:{ra0:03}-{ra1:03}, DEC:({dec0:02d})-({dec1:02d})\"\n",
    "                # increment the number of tries\n",
    "                tries += 1\n",
    "                # if we have tried too many times, then something is wrong. Let's force the break\n",
    "                if tries > num_tries:\n",
    "                    force_break = True\n",
    "                    print(f\"\\n\\tGaia {try_log} have tried {num_tries} times, something wrong\")\n",
    "                    # point_in_time(t0)\n",
    "                if force_break: break\n",
    "                # sql query to query the Gaia database\n",
    "                query_gaia = gen_gaia_query(ra0, ra1, dec0, dec1, gaia_top)\n",
    "                # launch the job to query the Gaia database\n",
    "                df_gaia = launch_job(Gaia.launch_job, query_gaia, duration=timeout)\n",
    "                # check the result\n",
    "                res_gaia = check_df(df_gaia, gaia_top)\n",
    "                # if something is wrong, let's force the break\n",
    "                force_break = res_gaia['force_break']\n",
    "                if force_break: \n",
    "                    print(f\"\\n\\tGaia {try_log} is empty\")\n",
    "                    # point_in_time(t0)\n",
    "                    break\n",
    "                # if failed, let's retry with a larger top\n",
    "                retry = res_gaia['retry']\n",
    "                old_gaia_top = res_gaia['prev_top']\n",
    "                gaia_top = res_gaia['new_top']\n",
    "                if retry: \n",
    "                    print(f\"\\n\\tGaia  {try_log} is capped at {old_gaia_top}, increasing to {gaia_top}\")\n",
    "                    # point_in_time(t0)\n",
    "                    continue\n",
    "                # if everything is fine, let's continue the journey\n",
    "                print(f\"\\n\\tGaia {try_log} has {len(df_gaia)} rows | TOP={gaia_top}\")\n",
    "                # point_in_time(t0)\n",
    "                # sql query to query the TMASS database\n",
    "                query_tmass = gen_tmass_query(ra0, ra1, dec0, dec1, tmass_top)\n",
    "                # launch the job to query the TMASS database\n",
    "                df_tmass = launch_job(tap_tmass.launch_job, query_tmass, cols=columns_tmass_names, duration=timeout)\n",
    "                # check the result\n",
    "                res_tmass = check_df(df_tmass, tmass_top)\n",
    "                # if something is wrong, let's force the break\n",
    "                force_break = res_tmass['force_break']\n",
    "                if force_break: \n",
    "                    print(f\"\\t2MASS {try_log} is empty\")\n",
    "                    # point_in_time(t0)\n",
    "                    break\n",
    "                # if failed, let's retry with a larger top\n",
    "                retry = res_tmass['retry']\n",
    "                old_tmass_top = res_tmass['prev_top']\n",
    "                tmass_top = res_tmass['new_top']\n",
    "                if retry: \n",
    "                    print(f\"\\t2MASS {try_log} is capped at {old_tmass_top}, increasing to {tmass_top}\")\n",
    "                    # point_in_time(t0)\n",
    "                    continue\n",
    "                # if everything is fine, let's continue the journey\n",
    "                print(f\"\\t2MASS {try_log} has {len(df_tmass)} rows | TOP={tmass_top}\")\n",
    "                # point_in_time(t0)\n",
    "                # ===========================\n",
    "                # this is to get the tmass only\n",
    "                # because we are querying a larger area, we need to filter the result\n",
    "                df_tmass_only = df_tmass.filter(f\"ra > {ra0}\").filter(f\"ra < {ra1}\").filter(f\"dec > {dec0}\").filter(f\"dec < {dec1}\")\n",
    "                df_tmass_only = df_tmass_only.extract()\n",
    "                # to avoid this random stup*d error\n",
    "                # RuntimeError: Oops, get an empty chunk, from 1024 to 1024, that should not happen\n",
    "                # convert to pandas, then back to vaex\n",
    "                a = df_tmass_only.to_pandas_df()\n",
    "                df_tmass_only = vaex.from_pandas(a)\n",
    "                # ===========================   \n",
    "                # join the gaia and tmass\n",
    "                df_join = df_gaia.join(df_tmass, right_on=\"designation\", left_on=\"tmass\", how=\"left\")\n",
    "                # delete the columns that are not needed\n",
    "                df_join.drop(columns=[\"designation\", \"tmass\"], inplace=True)\n",
    "                # save the result to the disk\n",
    "                df_join.export(join(path_gaia, ra_name, f\"dec_({dec0})-({dec1}).hdf5\"), progress=True)\n",
    "                print(f\"\\tgaia&tmass RA:{ra0:03}-{ra1:03}, DEC:({dec0})-({dec1}) is complete with rows {len(df_join)}\")\n",
    "                # point_in_time(t0)\n",
    "                df_tmass_only.export(join(path_tmass, ra_name, f\"dec_({dec0})-({dec1}).hdf5\"), progress=True)\n",
    "                # do the same for the tmass only\n",
    "                print(f\"\\ttmass ONLY RA:{ra0:03}-{ra1:03}, DEC:({dec0})-({dec1}) is complete with rows {len(df_tmass_only)}\")\n",
    "                # point_in_time(t0)\n",
    "                # get out of the while loop\n",
    "                break\n",
    "        # after looping for all decs, let's combine them\n",
    "        df_gaia_tmass = vaex.open_many(glob(join(path_gaia, ra_name, \"*.hdf5\")))\n",
    "        # save\n",
    "        df_gaia_tmass.export(join(path_gaia, f\"gaia-{ra0:03d}-{ra1:03d}.hdf5\"), progress=True)\n",
    "        # delete the temporary directory\n",
    "        check_delete = delete_directory(join(path_gaia, ra_name))\n",
    "        # check if the directory is deleted\n",
    "        if not check_delete:\n",
    "            force_break = True\n",
    "            print(join(path_gaia, f\"{ra_name}.txt\"), f\"Error deleting directory {ra_name}! Stopping loop.\")\n",
    "            # point_in_time(time0)\n",
    "            break\n",
    "        # tell the world that everything is fine\n",
    "        print(f\"gaia&tmass RA:{ra0:03}-{ra1:03} is complete with rows {len(df_gaia_tmass)}\")\n",
    "        # point_in_time(time0)\n",
    "        # do the same for the tmass only\n",
    "        df_tmass_only = vaex.open_many(glob(join(path_tmass, ra_name, \"*.hdf5\")))\n",
    "        df_tmass_only.export(join(path_tmass, f\"tmass-{ra0:03d}-{ra1:03d}.hdf5\"), progress=True)\n",
    "        check_delete = delete_directory(join(path_tmass, ra_name))\n",
    "        if not check_delete:\n",
    "            force_break = True\n",
    "            print(join(path_tmass, f\"{ra_name}.txt\"), f\"Error deleting directory {ra_name}! Stopping loop.\")\n",
    "            # point_in_time(time0)\n",
    "            break\n",
    "        print(f\"tmass only RA:{ra0:03}-{ra1:03} is complete with rows {len(df_tmass_only)}\\n\")\n",
    "        # point_in_time(time0)\n",
    "        # loop again over the next ra"
   ]
  },
  {
   "cell_type": "code",
   "execution_count": 10,
   "metadata": {},
   "outputs": [
    {
     "data": {
      "text/plain": [
       "(array([11, 12]), array([-34, -33]))"
      ]
     },
     "execution_count": 10,
     "metadata": {},
     "output_type": "execute_result"
    }
   ],
   "source": [
    "ras = np.arange(11,12+0.1, 1).astype(int)\n",
    "decs = np.arange(-34,-33+0.1,1).astype(int)\n",
    "\n",
    "def gen_gaia_query(ra0, ra1, dec0, dec1, top):\n",
    "    return f\"\"\"SELECT TOP {top} {', '.join(columns)}\n",
    "    FROM gaiadr3.gaia_source AS {gaia_alias}\n",
    "    LEFT JOIN gaiadr3.astrophysical_parameters AS {astrophysical_alias} ON astrophysical.source_id = gdr3.source_id\n",
    "    RIGHT JOIN gaiadr3.tmass_psc_xsc_best_neighbour AS tmass ON tmass.source_id = gdr3.source_id\n",
    "    RIGHT JOIN gaiadr3.tmass_psc_xsc_join as {join_alias} ON join_table.clean_tmass_psc_xsc_oid = tmass.clean_tmass_psc_xsc_oid\n",
    "    WHERE ra BETWEEN {ra0} AND {ra1} \n",
    "    AND dec BETWEEN {dec0} AND {dec1}\n",
    "    \"\"\"\n",
    "\n",
    "def gen_tmass_query(ra0, ra1, dec0, dec1, top):\n",
    "    return f\"\"\"SELECT TOP {top} {\", \".join(columns_tmass)} \n",
    "    FROM {tmass_table}\n",
    "    WHERE ra BETWEEN {ra0-0.5} AND {ra1+0.5}\n",
    "    AND dec BETWEEN {dec0-0.5} AND {dec1+0.5}\n",
    "    \"\"\"\n",
    "ras, decs"
   ]
  },
  {
   "cell_type": "code",
   "execution_count": 28,
   "metadata": {},
   "outputs": [
    {
     "name": "stdout",
     "output_type": "stream",
     "text": [
      "Directory /home2/s20321005/Thesis-Project/Data/Gaia-2MASS-test/ra_011-012 already exist. Good to go!\n",
      "Directory /home2/s20321005/Thesis-Project/Data/TWOMASS-test/ra_011-012 already exist. Good to go!\n",
      "RA: 011-012 2023-05-15 18:52:35.420912\n",
      "\tDEC: -34--33 2023-05-15 18:52:35.420979\n",
      "\n",
      "\tGaia RA:011-012, DEC:(-34)-(-33) has 979 rows | TOP=1958\n",
      "\t2MASS RA:011-012, DEC:(-34)-(-33) has 4420 rows | TOP=8840\n",
      "export(hdf5) [########################################] 100.00% elapsed time  :     0.27s =  0.0m =  0.0h\n",
      " \tgaia&tmass RA:011-012, DEC:(-34)-(-33) is complete with rows 979\n",
      "export(hdf5) [########################################] 100.00% elapsed time  :     0.05s =  0.0m =  0.0h\n",
      " \ttmass ONLY RA:011-012, DEC:(-34)-(-33) is complete with rows 1024\n",
      "export(hdf5) [########################################] 100.00% elapsed time  :     0.21s =  0.0m =  0.0h \n",
      " gaia&tmass RA:011-012 is complete with rows 979\n",
      "export(hdf5) [########################################] 100.00% elapsed time  :     0.06s =  0.0m =  0.0h\n",
      " tmass only RA:011-012 is complete with rows 1024\n",
      "\n"
     ]
    }
   ],
   "source": [
    "iterate_job(ras, decs, gen_gaia_query, gen_tmass_query, gaia_data_dir, tmass_data_dir, \n",
    "            columns_tmass_names, gaia_top=100_000, tmass_top=100_000, timeout=300, \n",
    "            start_dec=-999, num_tries=10)"
   ]
  },
  {
   "cell_type": "code",
   "execution_count": 18,
   "metadata": {},
   "outputs": [
    {
     "name": "stdout",
     "output_type": "stream",
     "text": [
      "\n",
      "\tGaia has 979 rows | TOP=1958\n",
      "\t2MASS has 4420 rows | TOP=8840\n"
     ]
    },
    {
     "data": {
      "text/html": [
       "<table>\n",
       "<thead>\n",
       "<tr><th>#                              </th><th>source_id          </th><th>pm       </th><th>pmra              </th><th>e_pmra     </th><th>pmdec              </th><th>e_pmdec    </th><th>parallax          </th><th>e_parallax  </th><th>gmag     </th><th>bpmag    </th><th>rpmag    </th><th>fb_over_err  </th><th>fr_over_err  </th><th>ruwe      </th><th>excess_factor  </th><th>rv_gaia   </th><th>e_rv_gaia  </th><th>glon              </th><th>glat              </th><th>teff_gspphot  </th><th>teff_gspphot_lower  </th><th>teff_gspphot_upper  </th><th>logg_gspphot  </th><th>logg_gspphot_lower  </th><th>logg_gspphot_upper  </th><th>mh_gspphot  </th><th>mh_gspphot_lower  </th><th>mh_gspphot_upper  </th><th>distance_gspphot  </th><th>distance_gspphot_lower  </th><th>distance_gspphot_upper  </th><th>ag_gspphot  </th><th>ag_gspphot_lower  </th><th>ag_gspphot_upper  </th><th>mh_gspspec  </th><th>mh_gspspec_lower  </th><th>mh_gspspec_upper  </th><th>alphafe_gspspec  </th><th>alphafe_gspspec_lower  </th><th>alphafe_gspspec_upper  </th><th>fem_gspspec  </th><th>fem_gspspec_lower  </th><th>fem_gspspec_upper  </th><th>spectraltype_esphs  </th><th>ra       </th><th>dec       </th><th>Jmag  </th><th>Kmag  </th><th>ph_qual  </th></tr>\n",
       "</thead>\n",
       "<tbody>\n",
       "<tr><td><i style='opacity: 0.6'>0</i>  </td><td>5006272188693764480</td><td>25.881508</td><td>25.87940633115308 </td><td>0.59455925 </td><td>-0.3298329350977657</td><td>0.46031117 </td><td>2.049412546040849 </td><td>0.3859044   </td><td>19.479687</td><td>20.900537</td><td>18.239414</td><td>8.02105      </td><td>59.495518    </td><td>1.0557042 </td><td>1.5151731      </td><td>nan       </td><td>nan        </td><td>316.8325729762962 </td><td>-83.52766118327081</td><td>nan           </td><td>nan                 </td><td>nan                 </td><td>nan           </td><td>nan                 </td><td>nan                 </td><td>nan         </td><td>nan               </td><td>nan               </td><td>nan               </td><td>nan                     </td><td>nan                     </td><td>nan         </td><td>nan               </td><td>nan               </td><td>nan         </td><td>nan               </td><td>nan               </td><td>nan              </td><td>nan                    </td><td>nan                    </td><td>nan          </td><td>nan                </td><td>nan                </td><td>                    </td><td>11.000524</td><td>-33.39867 </td><td>16.387</td><td>15.459</td><td>ACC      </td></tr>\n",
       "<tr><td><i style='opacity: 0.6'>1</i>  </td><td>5006272360492460416</td><td>12.353131</td><td>-6.017497389927294</td><td>0.39562958 </td><td>10.788400675717241 </td><td>0.2940971  </td><td>4.249156326170408 </td><td>0.2556005   </td><td>19.082079</td><td>20.720028</td><td>17.75842 </td><td>7.887264     </td><td>55.39603     </td><td>0.98654395</td><td>1.5849715      </td><td>nan       </td><td>nan        </td><td>316.8668118219386 </td><td>-83.54233916405768</td><td>nan           </td><td>nan                 </td><td>nan                 </td><td>nan           </td><td>nan                 </td><td>nan                 </td><td>nan         </td><td>nan               </td><td>nan               </td><td>nan               </td><td>nan                     </td><td>nan                     </td><td>nan         </td><td>nan               </td><td>nan               </td><td>nan         </td><td>nan               </td><td>nan               </td><td>nan              </td><td>nan                    </td><td>nan                    </td><td>nan          </td><td>nan                </td><td>nan                </td><td>                    </td><td>11.000696</td><td>-33.383556</td><td>15.795</td><td>14.857</td><td>AAA      </td></tr>\n",
       "<tr><td><i style='opacity: 0.6'>2</i>  </td><td>5006272364788288384</td><td>17.968739</td><td>-4.840249081457927</td><td>0.015554671</td><td>-17.30455312925456 </td><td>0.014522816</td><td>2.7574034968548418</td><td>0.01352037  </td><td>10.720402</td><td>10.967661</td><td>10.313985</td><td>2189.436     </td><td>4852.0156    </td><td>0.92771965</td><td>1.189557       </td><td>5.002669  </td><td>0.3120724  </td><td>316.87941382607727</td><td>-83.54822842945974</td><td>6209.1367     </td><td>6193.813            </td><td>6223.046            </td><td>4.0062        </td><td>3.9981              </td><td>4.01                </td><td>-0.4501     </td><td>-0.4631           </td><td>-0.4374           </td><td>361.7601          </td><td>359.5354                </td><td>366.9255                </td><td>0.0105      </td><td>0.0023            </td><td>0.0179            </td><td>-0.3        </td><td>-0.35             </td><td>-0.24             </td><td>0.32             </td><td>0.24                   </td><td>0.43                   </td><td>0.01         </td><td>-0.21              </td><td>0.15               </td><td>F                   </td><td>11.000862</td><td>-33.377396</td><td>9.878 </td><td>9.593 </td><td>AAA      </td></tr>\n",
       "<tr><td><i style='opacity: 0.6'>3</i>  </td><td>5006302425263603072</td><td>10.230598</td><td>8.05320865471344  </td><td>0.060675204</td><td>-6.309594465858185 </td><td>0.070022315</td><td>0.4077170660983986</td><td>0.06838203  </td><td>17.032448</td><td>17.492155</td><td>16.418238</td><td>186.5118     </td><td>241.17017    </td><td>0.9639873 </td><td>1.2160147      </td><td>nan       </td><td>nan        </td><td>317.45321468351636</td><td>-83.78285625325518</td><td>4961.4717     </td><td>4946.2583           </td><td>4978.0054           </td><td>4.4934        </td><td>4.465               </td><td>4.516               </td><td>-0.3743     </td><td>-0.4212           </td><td>-0.3286           </td><td>1741.4481         </td><td>1674.4619               </td><td>1836.0886               </td><td>0.0006      </td><td>1e-04             </td><td>0.002             </td><td>nan         </td><td>nan               </td><td>nan               </td><td>nan              </td><td>nan                    </td><td>nan                    </td><td>nan          </td><td>nan                </td><td>nan                </td><td>G                   </td><td>11.001137</td><td>-33.134464</td><td>15.691</td><td>15.06 </td><td>AAB      </td></tr>\n",
       "<tr><td><i style='opacity: 0.6'>4</i>  </td><td>5006274048415466624</td><td>39.62228 </td><td>32.001703473268954</td><td>0.015813133</td><td>-23.362704941033346</td><td>0.015312383</td><td>1.9717723096027606</td><td>0.015182628 </td><td>13.570873</td><td>13.923272</td><td>13.052158</td><td>1741.4764    </td><td>1521.555     </td><td>1.0319531 </td><td>1.202947       </td><td>-3.3028622</td><td>2.9666595  </td><td>317.1074319369728 </td><td>-83.65351824625826</td><td>5447.473      </td><td>5445.7627           </td><td>5449.369            </td><td>4.4351        </td><td>4.4309              </td><td>4.4391              </td><td>-0.519      </td><td>-0.5268           </td><td>-0.5115           </td><td>493.2722          </td><td>489.6659                </td><td>497.0734                </td><td>0.0005      </td><td>1e-04             </td><td>0.0013            </td><td>nan         </td><td>nan               </td><td>nan               </td><td>nan              </td><td>nan                    </td><td>nan                    </td><td>nan          </td><td>nan                </td><td>nan                </td><td>G                   </td><td>11.003885</td><td>-33.269123</td><td>12.428</td><td>12.066</td><td>AAA      </td></tr>\n",
       "<tr><td>...                            </td><td>...                </td><td>...      </td><td>...               </td><td>...        </td><td>...                </td><td>...        </td><td>...               </td><td>...         </td><td>...      </td><td>...      </td><td>...      </td><td>...          </td><td>...          </td><td>...       </td><td>...            </td><td>...       </td><td>...        </td><td>...               </td><td>...               </td><td>...           </td><td>...                 </td><td>...                 </td><td>...           </td><td>...                 </td><td>...                 </td><td>...         </td><td>...               </td><td>...               </td><td>...               </td><td>...                     </td><td>...                     </td><td>...         </td><td>...               </td><td>...               </td><td>...         </td><td>...               </td><td>...               </td><td>...              </td><td>...                    </td><td>...                    </td><td>...          </td><td>...                </td><td>...                </td><td>...                 </td><td>...      </td><td>...       </td><td>...   </td><td>...   </td><td>...      </td></tr>\n",
       "<tr><td><i style='opacity: 0.6'>974</i></td><td>5006596372825617536</td><td>9.451533 </td><td>-5.293269780841161</td><td>0.16276602 </td><td>-7.830247967166388 </td><td>0.15892017 </td><td>0.6842038814650301</td><td>0.13880053  </td><td>18.21406 </td><td>18.794975</td><td>17.555641</td><td>43.47655     </td><td>117.36791    </td><td>1.000151  </td><td>1.1966524      </td><td>nan       </td><td>nan        </td><td>309.53588734104653</td><td>-83.6722837349411 </td><td>4561.6777     </td><td>4550.872            </td><td>4575.0176           </td><td>4.6954        </td><td>4.6644              </td><td>4.7314              </td><td>-0.8864     </td><td>-1.0083           </td><td>-0.7675           </td><td>1633.4547         </td><td>1547.6456               </td><td>1718.3372               </td><td>0.0008      </td><td>1e-04             </td><td>0.0026            </td><td>nan         </td><td>nan               </td><td>nan               </td><td>nan              </td><td>nan                    </td><td>nan                    </td><td>nan          </td><td>nan                </td><td>nan                </td><td>                    </td><td>11.989455</td><td>-33.411297</td><td>16.949</td><td>15.869</td><td>CDD      </td></tr>\n",
       "<tr><td><i style='opacity: 0.6'>975</i></td><td>5006622421802710400</td><td>12.590373</td><td>4.136245789024968 </td><td>0.1423591  </td><td>-11.891549967532852</td><td>0.17914435 </td><td>0.3743014953645126</td><td>0.17100392  </td><td>18.285034</td><td>18.822287</td><td>17.622894</td><td>64.78428     </td><td>67.88284     </td><td>1.0190394 </td><td>1.2167314      </td><td>nan       </td><td>nan        </td><td>309.8870306726123 </td><td>-83.99243568882441</td><td>4634.7227     </td><td>4620.6074           </td><td>4658.732            </td><td>4.8378        </td><td>4.7434              </td><td>4.8846              </td><td>-1.4648     </td><td>-1.7384           </td><td>-0.9898           </td><td>1416.2649         </td><td>1314.4305               </td><td>1641.0065               </td><td>0.0039      </td><td>0.0007            </td><td>0.0131            </td><td>nan         </td><td>nan               </td><td>nan               </td><td>nan              </td><td>nan                    </td><td>nan                    </td><td>nan          </td><td>nan                </td><td>nan                </td><td>                    </td><td>11.992637</td><td>-33.088688</td><td>16.691</td><td>15.69 </td><td>BUU      </td></tr>\n",
       "<tr><td><i style='opacity: 0.6'>976</i></td><td>5006610189735852416</td><td>42.577003</td><td>39.631213703928594</td><td>0.021681327</td><td>-15.561752515724985</td><td>0.02442226 </td><td>0.7124430327630487</td><td>0.025343014 </td><td>14.325352</td><td>14.57544 </td><td>13.912325</td><td>1120.3326    </td><td>991.6829     </td><td>1.0351112 </td><td>1.191791       </td><td>118.74942 </td><td>12.110964  </td><td>309.83381122028834</td><td>-83.94934400914104</td><td>6229.636      </td><td>6181.893            </td><td>6313.3286           </td><td>4.1838        </td><td>4.1152              </td><td>4.2622              </td><td>-1.4889     </td><td>-1.4971           </td><td>-1.4748           </td><td>1280.1755         </td><td>1146.1885               </td><td>1421.1998               </td><td>0.0597      </td><td>0.0403            </td><td>0.0963            </td><td>nan         </td><td>nan               </td><td>nan               </td><td>nan              </td><td>nan                    </td><td>nan                    </td><td>nan          </td><td>nan                </td><td>nan                </td><td>F                   </td><td>11.992548</td><td>-33.132275</td><td>13.434</td><td>13.1  </td><td>AAA      </td></tr>\n",
       "<tr><td><i style='opacity: 0.6'>977</i></td><td>5006596063587971200</td><td>35.640152</td><td>25.81237233537678 </td><td>0.40919444 </td><td>-24.575227344568624</td><td>0.37384018 </td><td>2.7653295627642662</td><td>0.29987586  </td><td>19.31142 </td><td>20.952156</td><td>18.063562</td><td>8.532091     </td><td>46.414646    </td><td>1.1047448 </td><td>1.4884996      </td><td>nan       </td><td>nan        </td><td>309.4939579899106 </td><td>-83.65803339506482</td><td>nan           </td><td>nan                 </td><td>nan                 </td><td>nan           </td><td>nan                 </td><td>nan                 </td><td>nan         </td><td>nan               </td><td>nan               </td><td>nan               </td><td>nan                     </td><td>nan                     </td><td>nan         </td><td>nan               </td><td>nan               </td><td>nan         </td><td>nan               </td><td>nan               </td><td>nan              </td><td>nan                    </td><td>nan                    </td><td>nan          </td><td>nan                </td><td>nan                </td><td>                    </td><td>11.992708</td><td>-33.425858</td><td>16.269</td><td>15.299</td><td>ABC      </td></tr>\n",
       "<tr><td><i style='opacity: 0.6'>978</i></td><td>5006004839865165056</td><td>50.481808</td><td>41.75137005708976 </td><td>0.10131271 </td><td>-28.376678594018014</td><td>0.1089883  </td><td>3.33010214748486  </td><td>0.1279288   </td><td>16.586624</td><td>17.665909</td><td>15.486874</td><td>91.175575    </td><td>426.34756    </td><td>1.965182  </td><td>1.4274594      </td><td>nan       </td><td>nan        </td><td>308.94833562052486</td><td>-83.14429091899137</td><td>3662.784      </td><td>3650.5947           </td><td>3676.7795           </td><td>4.7373        </td><td>4.7049              </td><td>4.7738              </td><td>-0.5119     </td><td>-0.598            </td><td>-0.4367           </td><td>274.1202          </td><td>260.8213                </td><td>292.6339                </td><td>0.359       </td><td>0.348             </td><td>0.3724            </td><td>nan         </td><td>nan               </td><td>nan               </td><td>nan              </td><td>nan                    </td><td>nan                    </td><td>nan          </td><td>nan                </td><td>nan                </td><td>M                   </td><td>11.995143</td><td>-33.943432</td><td>14.172</td><td>13.329</td><td>AAA      </td></tr>\n",
       "</tbody>\n",
       "</table>"
      ],
      "text/plain": [
       "#    source_id            pm         pmra                e_pmra       pmdec                e_pmdec      parallax            e_parallax    gmag       bpmag      rpmag      fb_over_err    fr_over_err    ruwe        excess_factor    rv_gaia     e_rv_gaia    glon                glat                teff_gspphot    teff_gspphot_lower    teff_gspphot_upper    logg_gspphot    logg_gspphot_lower    logg_gspphot_upper    mh_gspphot    mh_gspphot_lower    mh_gspphot_upper    distance_gspphot    distance_gspphot_lower    distance_gspphot_upper    ag_gspphot    ag_gspphot_lower    ag_gspphot_upper    mh_gspspec    mh_gspspec_lower    mh_gspspec_upper    alphafe_gspspec    alphafe_gspspec_lower    alphafe_gspspec_upper    fem_gspspec    fem_gspspec_lower    fem_gspspec_upper    spectraltype_esphs    ra         dec         Jmag    Kmag    ph_qual\n",
       "0    5006272188693764480  25.881508  25.87940633115308   0.59455925   -0.3298329350977657  0.46031117   2.049412546040849   0.3859044     19.479687  20.900537  18.239414  8.02105        59.495518      1.0557042   1.5151731        nan         nan          316.8325729762962   -83.52766118327081  nan             nan                   nan                   nan             nan                   nan                   nan           nan                 nan                 nan                 nan                       nan                       nan           nan                 nan                 nan           nan                 nan                 nan                nan                      nan                      nan            nan                  nan                                        11.000524  -33.39867   16.387  15.459  ACC\n",
       "1    5006272360492460416  12.353131  -6.017497389927294  0.39562958   10.788400675717241   0.2940971    4.249156326170408   0.2556005     19.082079  20.720028  17.75842   7.887264       55.39603       0.98654395  1.5849715        nan         nan          316.8668118219386   -83.54233916405768  nan             nan                   nan                   nan             nan                   nan                   nan           nan                 nan                 nan                 nan                       nan                       nan           nan                 nan                 nan           nan                 nan                 nan                nan                      nan                      nan            nan                  nan                                        11.000696  -33.383556  15.795  14.857  AAA\n",
       "2    5006272364788288384  17.968739  -4.840249081457927  0.015554671  -17.30455312925456   0.014522816  2.7574034968548418  0.01352037    10.720402  10.967661  10.313985  2189.436       4852.0156      0.92771965  1.189557         5.002669    0.3120724    316.87941382607727  -83.54822842945974  6209.1367       6193.813              6223.046              4.0062          3.9981                4.01                  -0.4501       -0.4631             -0.4374             361.7601            359.5354                  366.9255                  0.0105        0.0023              0.0179              -0.3          -0.35               -0.24               0.32               0.24                     0.43                     0.01           -0.21                0.15                 F                     11.000862  -33.377396  9.878   9.593   AAA\n",
       "3    5006302425263603072  10.230598  8.05320865471344    0.060675204  -6.309594465858185   0.070022315  0.4077170660983986  0.06838203    17.032448  17.492155  16.418238  186.5118       241.17017      0.9639873   1.2160147        nan         nan          317.45321468351636  -83.78285625325518  4961.4717       4946.2583             4978.0054             4.4934          4.465                 4.516                 -0.3743       -0.4212             -0.3286             1741.4481           1674.4619                 1836.0886                 0.0006        1e-04               0.002               nan           nan                 nan                 nan                nan                      nan                      nan            nan                  nan                  G                     11.001137  -33.134464  15.691  15.06   AAB\n",
       "4    5006274048415466624  39.62228   32.001703473268954  0.015813133  -23.362704941033346  0.015312383  1.9717723096027606  0.015182628   13.570873  13.923272  13.052158  1741.4764      1521.555       1.0319531   1.202947         -3.3028622  2.9666595    317.1074319369728   -83.65351824625826  5447.473        5445.7627             5449.369              4.4351          4.4309                4.4391                -0.519        -0.5268             -0.5115             493.2722            489.6659                  497.0734                  0.0005        1e-04               0.0013              nan           nan                 nan                 nan                nan                      nan                      nan            nan                  nan                  G                     11.003885  -33.269123  12.428  12.066  AAA\n",
       "...  ...                  ...        ...                 ...          ...                  ...          ...                 ...           ...        ...        ...        ...            ...            ...         ...              ...         ...          ...                 ...                 ...             ...                   ...                   ...             ...                   ...                   ...           ...                 ...                 ...                 ...                       ...                       ...           ...                 ...                 ...           ...                 ...                 ...                ...                      ...                      ...            ...                  ...                  ...                   ...        ...         ...     ...     ...\n",
       "974  5006596372825617536  9.451533   -5.293269780841161  0.16276602   -7.830247967166388   0.15892017   0.6842038814650301  0.13880053    18.21406   18.794975  17.555641  43.47655       117.36791      1.000151    1.1966524        nan         nan          309.53588734104653  -83.6722837349411   4561.6777       4550.872              4575.0176             4.6954          4.6644                4.7314                -0.8864       -1.0083             -0.7675             1633.4547           1547.6456                 1718.3372                 0.0008        1e-04               0.0026              nan           nan                 nan                 nan                nan                      nan                      nan            nan                  nan                                        11.989455  -33.411297  16.949  15.869  CDD\n",
       "975  5006622421802710400  12.590373  4.136245789024968   0.1423591    -11.891549967532852  0.17914435   0.3743014953645126  0.17100392    18.285034  18.822287  17.622894  64.78428       67.88284       1.0190394   1.2167314        nan         nan          309.8870306726123   -83.99243568882441  4634.7227       4620.6074             4658.732              4.8378          4.7434                4.8846                -1.4648       -1.7384             -0.9898             1416.2649           1314.4305                 1641.0065                 0.0039        0.0007              0.0131              nan           nan                 nan                 nan                nan                      nan                      nan            nan                  nan                                        11.992637  -33.088688  16.691  15.69   BUU\n",
       "976  5006610189735852416  42.577003  39.631213703928594  0.021681327  -15.561752515724985  0.02442226   0.7124430327630487  0.025343014   14.325352  14.57544   13.912325  1120.3326      991.6829       1.0351112   1.191791         118.74942   12.110964    309.83381122028834  -83.94934400914104  6229.636        6181.893              6313.3286             4.1838          4.1152                4.2622                -1.4889       -1.4971             -1.4748             1280.1755           1146.1885                 1421.1998                 0.0597        0.0403              0.0963              nan           nan                 nan                 nan                nan                      nan                      nan            nan                  nan                  F                     11.992548  -33.132275  13.434  13.1    AAA\n",
       "977  5006596063587971200  35.640152  25.81237233537678   0.40919444   -24.575227344568624  0.37384018   2.7653295627642662  0.29987586    19.31142   20.952156  18.063562  8.532091       46.414646      1.1047448   1.4884996        nan         nan          309.4939579899106   -83.65803339506482  nan             nan                   nan                   nan             nan                   nan                   nan           nan                 nan                 nan                 nan                       nan                       nan           nan                 nan                 nan           nan                 nan                 nan                nan                      nan                      nan            nan                  nan                                        11.992708  -33.425858  16.269  15.299  ABC\n",
       "978  5006004839865165056  50.481808  41.75137005708976   0.10131271   -28.376678594018014  0.1089883    3.33010214748486    0.1279288     16.586624  17.665909  15.486874  91.175575      426.34756      1.965182    1.4274594        nan         nan          308.94833562052486  -83.14429091899137  3662.784        3650.5947             3676.7795             4.7373          4.7049                4.7738                -0.5119       -0.598              -0.4367             274.1202            260.8213                  292.6339                  0.359         0.348               0.3724              nan           nan                 nan                 nan                nan                      nan                      nan            nan                  nan                  M                     11.995143  -33.943432  14.172  13.329  AAA"
      ]
     },
     "execution_count": 18,
     "metadata": {},
     "output_type": "execute_result"
    }
   ],
   "source": [
    "dec0 = -34\n",
    "dec1 = -33\n",
    "ra0 = 11\n",
    "ra1 = 12\n",
    "gaia_top = 100_000\n",
    "tmass_top = 100_000\n",
    "timeout = 60\n",
    "\n",
    "query_gaia = gen_gaia_query(ra0, ra1, dec0, dec1, gaia_top)\n",
    "# launch the job to query the Gaia database\n",
    "df_gaia = launch_job(Gaia.launch_job, query_gaia, duration=timeout)\n",
    "# check the result\n",
    "res_gaia = check_df(df_gaia, gaia_top)\n",
    "# if something is wrong, let's force the break\n",
    "force_break = res_gaia['force_break']\n",
    "if force_break: \n",
    "    print(f\"\\n\\tGaia is empty\")\n",
    "# if failed, let's retry with a larger top\n",
    "retry = res_gaia['retry']\n",
    "old_gaia_top = res_gaia['prev_top']\n",
    "gaia_top = res_gaia['new_top']\n",
    "if retry: \n",
    "    print(f\"\\n\\tGaia is capped at {old_gaia_top}, increasing to {gaia_top}\")\n",
    "# if everything is fine, let's continue the journey\n",
    "print(f\"\\n\\tGaia has {len(df_gaia)} rows | TOP={gaia_top}\")\n",
    "# point_in_time(t0)\n",
    "# sql query to query the TMASS database\n",
    "query_tmass = gen_tmass_query(ra0, ra1, dec0, dec1, tmass_top)\n",
    "# launch the job to query the TMASS database\n",
    "df_tmass = launch_job(tap_tmass.launch_job, query_tmass, cols=columns_tmass_names, duration=timeout)\n",
    "# check the result\n",
    "res_tmass = check_df(df_tmass, tmass_top)\n",
    "# if something is wrong, let's force the break\n",
    "retry = res_tmass['retry']\n",
    "old_tmass_top = res_tmass['prev_top']\n",
    "tmass_top = res_tmass['new_top']\n",
    "# if everything is fine, let's continue the journey\n",
    "print(f\"\\t2MASS has {len(df_tmass)} rows | TOP={tmass_top}\")\n",
    "# point_in_time(t0)\n",
    "# ===========================\n",
    "# this is to get the tmass only\n",
    "# because we are querying a larger area, we need to filter the result\n",
    "df_tmass_only = df_tmass.filter(f\"ra > {ra0}\").filter(f\"ra < {ra1}\").filter(f\"dec > {dec0}\").filter(f\"dec < {dec1}\")\n",
    "df_tmass_only = df_tmass_only.extract()\n",
    "# ===========================   \n",
    "# join the gaia and tmass\n",
    "df_join = df_gaia.join(df_tmass, right_on=\"designation\", left_on=\"tmass\", how=\"left\")\n",
    "# delete the columns that are not needed\n",
    "df_join.drop(columns=[\"designation\", \"tmass\"], inplace=True)"
   ]
  },
  {
   "cell_type": "code",
   "execution_count": 19,
   "metadata": {},
   "outputs": [
    {
     "data": {
      "text/html": [
       "<table>\n",
       "<thead>\n",
       "<tr><th>#                              </th><th>source_id          </th><th>pm       </th><th>pmra              </th><th>e_pmra     </th><th>pmdec              </th><th>e_pmdec    </th><th>parallax          </th><th>e_parallax  </th><th>gmag     </th><th>bpmag    </th><th>rpmag    </th><th>fb_over_err  </th><th>fr_over_err  </th><th>ruwe      </th><th>excess_factor  </th><th>rv_gaia   </th><th>e_rv_gaia  </th><th>glon              </th><th>glat              </th><th>teff_gspphot  </th><th>teff_gspphot_lower  </th><th>teff_gspphot_upper  </th><th>logg_gspphot  </th><th>logg_gspphot_lower  </th><th>logg_gspphot_upper  </th><th>mh_gspphot  </th><th>mh_gspphot_lower  </th><th>mh_gspphot_upper  </th><th>distance_gspphot  </th><th>distance_gspphot_lower  </th><th>distance_gspphot_upper  </th><th>ag_gspphot  </th><th>ag_gspphot_lower  </th><th>ag_gspphot_upper  </th><th>mh_gspspec  </th><th>mh_gspspec_lower  </th><th>mh_gspspec_upper  </th><th>alphafe_gspspec  </th><th>alphafe_gspspec_lower  </th><th>alphafe_gspspec_upper  </th><th>fem_gspspec  </th><th>fem_gspspec_lower  </th><th>fem_gspspec_upper  </th><th>spectraltype_esphs  </th><th>tmass           </th></tr>\n",
       "</thead>\n",
       "<tbody>\n",
       "<tr><td><i style='opacity: 0.6'>0</i>  </td><td>5006272188693764480</td><td>25.881508</td><td>25.87940633115308 </td><td>0.59455925 </td><td>-0.3298329350977657</td><td>0.46031117 </td><td>2.049412546040849 </td><td>0.3859044   </td><td>19.479687</td><td>20.900537</td><td>18.239414</td><td>8.02105      </td><td>59.495518    </td><td>1.0557042 </td><td>1.5151731      </td><td>nan       </td><td>nan        </td><td>316.8325729762962 </td><td>-83.52766118327081</td><td>nan           </td><td>nan                 </td><td>nan                 </td><td>nan           </td><td>nan                 </td><td>nan                 </td><td>nan         </td><td>nan               </td><td>nan               </td><td>nan               </td><td>nan                     </td><td>nan                     </td><td>nan         </td><td>nan               </td><td>nan               </td><td>nan         </td><td>nan               </td><td>nan               </td><td>nan              </td><td>nan                    </td><td>nan                    </td><td>nan          </td><td>nan                </td><td>nan                </td><td>                    </td><td>00440012-3323552</td></tr>\n",
       "<tr><td><i style='opacity: 0.6'>1</i>  </td><td>5006272360492460416</td><td>12.353131</td><td>-6.017497389927294</td><td>0.39562958 </td><td>10.788400675717241 </td><td>0.2940971  </td><td>4.249156326170408 </td><td>0.2556005   </td><td>19.082079</td><td>20.720028</td><td>17.75842 </td><td>7.887264     </td><td>55.39603     </td><td>0.98654395</td><td>1.5849715      </td><td>nan       </td><td>nan        </td><td>316.8668118219386 </td><td>-83.54233916405768</td><td>nan           </td><td>nan                 </td><td>nan                 </td><td>nan           </td><td>nan                 </td><td>nan                 </td><td>nan         </td><td>nan               </td><td>nan               </td><td>nan               </td><td>nan                     </td><td>nan                     </td><td>nan         </td><td>nan               </td><td>nan               </td><td>nan         </td><td>nan               </td><td>nan               </td><td>nan              </td><td>nan                    </td><td>nan                    </td><td>nan          </td><td>nan                </td><td>nan                </td><td>                    </td><td>00440016-3323008</td></tr>\n",
       "<tr><td><i style='opacity: 0.6'>2</i>  </td><td>5006272364788288384</td><td>17.968739</td><td>-4.840249081457927</td><td>0.015554671</td><td>-17.30455312925456 </td><td>0.014522816</td><td>2.7574034968548418</td><td>0.01352037  </td><td>10.720402</td><td>10.967661</td><td>10.313985</td><td>2189.436     </td><td>4852.0156    </td><td>0.92771965</td><td>1.189557       </td><td>5.002669  </td><td>0.3120724  </td><td>316.87941382607727</td><td>-83.54822842945974</td><td>6209.1367     </td><td>6193.813            </td><td>6223.046            </td><td>4.0062        </td><td>3.9981              </td><td>4.01                </td><td>-0.4501     </td><td>-0.4631           </td><td>-0.4374           </td><td>361.7601          </td><td>359.5354                </td><td>366.9255                </td><td>0.0105      </td><td>0.0023            </td><td>0.0179            </td><td>-0.3        </td><td>-0.35             </td><td>-0.24             </td><td>0.32             </td><td>0.24                   </td><td>0.43                   </td><td>0.01         </td><td>-0.21              </td><td>0.15               </td><td>F                   </td><td>00440020-3322386</td></tr>\n",
       "<tr><td><i style='opacity: 0.6'>3</i>  </td><td>5006302425263603072</td><td>10.230598</td><td>8.05320865471344  </td><td>0.060675204</td><td>-6.309594465858185 </td><td>0.070022315</td><td>0.4077170660983986</td><td>0.06838203  </td><td>17.032448</td><td>17.492155</td><td>16.418238</td><td>186.5118     </td><td>241.17017    </td><td>0.9639873 </td><td>1.2160147      </td><td>nan       </td><td>nan        </td><td>317.45321468351636</td><td>-83.78285625325518</td><td>4961.4717     </td><td>4946.2583           </td><td>4978.0054           </td><td>4.4934        </td><td>4.465               </td><td>4.516               </td><td>-0.3743     </td><td>-0.4212           </td><td>-0.3286           </td><td>1741.4481         </td><td>1674.4619               </td><td>1836.0886               </td><td>0.0006      </td><td>1e-04             </td><td>0.002             </td><td>nan         </td><td>nan               </td><td>nan               </td><td>nan              </td><td>nan                    </td><td>nan                    </td><td>nan          </td><td>nan                </td><td>nan                </td><td>G                   </td><td>00440027-3308040</td></tr>\n",
       "<tr><td><i style='opacity: 0.6'>4</i>  </td><td>5006274048415466624</td><td>39.62228 </td><td>32.001703473268954</td><td>0.015813133</td><td>-23.362704941033346</td><td>0.015312383</td><td>1.9717723096027606</td><td>0.015182628 </td><td>13.570873</td><td>13.923272</td><td>13.052158</td><td>1741.4764    </td><td>1521.555     </td><td>1.0319531 </td><td>1.202947       </td><td>-3.3028622</td><td>2.9666595  </td><td>317.1074319369728 </td><td>-83.65351824625826</td><td>5447.473      </td><td>5445.7627           </td><td>5449.369            </td><td>4.4351        </td><td>4.4309              </td><td>4.4391              </td><td>-0.519      </td><td>-0.5268           </td><td>-0.5115           </td><td>493.2722          </td><td>489.6659                </td><td>497.0734                </td><td>0.0005      </td><td>1e-04             </td><td>0.0013            </td><td>nan         </td><td>nan               </td><td>nan               </td><td>nan              </td><td>nan                    </td><td>nan                    </td><td>nan          </td><td>nan                </td><td>nan                </td><td>G                   </td><td>00440093-3316088</td></tr>\n",
       "<tr><td>...                            </td><td>...                </td><td>...      </td><td>...               </td><td>...        </td><td>...                </td><td>...        </td><td>...               </td><td>...         </td><td>...      </td><td>...      </td><td>...      </td><td>...          </td><td>...          </td><td>...       </td><td>...            </td><td>...       </td><td>...        </td><td>...               </td><td>...               </td><td>...           </td><td>...                 </td><td>...                 </td><td>...           </td><td>...                 </td><td>...                 </td><td>...         </td><td>...               </td><td>...               </td><td>...               </td><td>...                     </td><td>...                     </td><td>...         </td><td>...               </td><td>...               </td><td>...         </td><td>...               </td><td>...               </td><td>...              </td><td>...                    </td><td>...                    </td><td>...          </td><td>...                </td><td>...                </td><td>...                 </td><td>...             </td></tr>\n",
       "<tr><td><i style='opacity: 0.6'>974</i></td><td>5006596372825617536</td><td>9.451533 </td><td>-5.293269780841161</td><td>0.16276602 </td><td>-7.830247967166388 </td><td>0.15892017 </td><td>0.6842038814650301</td><td>0.13880053  </td><td>18.21406 </td><td>18.794975</td><td>17.555641</td><td>43.47655     </td><td>117.36791    </td><td>1.000151  </td><td>1.1966524      </td><td>nan       </td><td>nan        </td><td>309.53588734104653</td><td>-83.6722837349411 </td><td>4561.6777     </td><td>4550.872            </td><td>4575.0176           </td><td>4.6954        </td><td>4.6644              </td><td>4.7314              </td><td>-0.8864     </td><td>-1.0083           </td><td>-0.7675           </td><td>1633.4547         </td><td>1547.6456               </td><td>1718.3372               </td><td>0.0008      </td><td>1e-04             </td><td>0.0026            </td><td>nan         </td><td>nan               </td><td>nan               </td><td>nan              </td><td>nan                    </td><td>nan                    </td><td>nan          </td><td>nan                </td><td>nan                </td><td>                    </td><td>00475746-3324406</td></tr>\n",
       "<tr><td><i style='opacity: 0.6'>975</i></td><td>5006622421802710400</td><td>12.590373</td><td>4.136245789024968 </td><td>0.1423591  </td><td>-11.891549967532852</td><td>0.17914435 </td><td>0.3743014953645126</td><td>0.17100392  </td><td>18.285034</td><td>18.822287</td><td>17.622894</td><td>64.78428     </td><td>67.88284     </td><td>1.0190394 </td><td>1.2167314      </td><td>nan       </td><td>nan        </td><td>309.8870306726123 </td><td>-83.99243568882441</td><td>4634.7227     </td><td>4620.6074           </td><td>4658.732            </td><td>4.8378        </td><td>4.7434              </td><td>4.8846              </td><td>-1.4648     </td><td>-1.7384           </td><td>-0.9898           </td><td>1416.2649         </td><td>1314.4305               </td><td>1641.0065               </td><td>0.0039      </td><td>0.0007            </td><td>0.0131            </td><td>nan         </td><td>nan               </td><td>nan               </td><td>nan              </td><td>nan                    </td><td>nan                    </td><td>nan          </td><td>nan                </td><td>nan                </td><td>                    </td><td>00475823-3305192</td></tr>\n",
       "<tr><td><i style='opacity: 0.6'>976</i></td><td>5006610189735852416</td><td>42.577003</td><td>39.631213703928594</td><td>0.021681327</td><td>-15.561752515724985</td><td>0.02442226 </td><td>0.7124430327630487</td><td>0.025343014 </td><td>14.325352</td><td>14.57544 </td><td>13.912325</td><td>1120.3326    </td><td>991.6829     </td><td>1.0351112 </td><td>1.191791       </td><td>118.74942 </td><td>12.110964  </td><td>309.83381122028834</td><td>-83.94934400914104</td><td>6229.636      </td><td>6181.893            </td><td>6313.3286           </td><td>4.1838        </td><td>4.1152              </td><td>4.2622              </td><td>-1.4889     </td><td>-1.4971           </td><td>-1.4748           </td><td>1280.1755         </td><td>1146.1885               </td><td>1421.1998               </td><td>0.0597      </td><td>0.0403            </td><td>0.0963            </td><td>nan         </td><td>nan               </td><td>nan               </td><td>nan              </td><td>nan                    </td><td>nan                    </td><td>nan          </td><td>nan                </td><td>nan                </td><td>F                   </td><td>00475821-3307561</td></tr>\n",
       "<tr><td><i style='opacity: 0.6'>977</i></td><td>5006596063587971200</td><td>35.640152</td><td>25.81237233537678 </td><td>0.40919444 </td><td>-24.575227344568624</td><td>0.37384018 </td><td>2.7653295627642662</td><td>0.29987586  </td><td>19.31142 </td><td>20.952156</td><td>18.063562</td><td>8.532091     </td><td>46.414646    </td><td>1.1047448 </td><td>1.4884996      </td><td>nan       </td><td>nan        </td><td>309.4939579899106 </td><td>-83.65803339506482</td><td>nan           </td><td>nan                 </td><td>nan                 </td><td>nan           </td><td>nan                 </td><td>nan                 </td><td>nan         </td><td>nan               </td><td>nan               </td><td>nan               </td><td>nan                     </td><td>nan                     </td><td>nan         </td><td>nan               </td><td>nan               </td><td>nan         </td><td>nan               </td><td>nan               </td><td>nan              </td><td>nan                    </td><td>nan                    </td><td>nan          </td><td>nan                </td><td>nan                </td><td>                    </td><td>00475824-3325330</td></tr>\n",
       "<tr><td><i style='opacity: 0.6'>978</i></td><td>5006004839865165056</td><td>50.481808</td><td>41.75137005708976 </td><td>0.10131271 </td><td>-28.376678594018014</td><td>0.1089883  </td><td>3.33010214748486  </td><td>0.1279288   </td><td>16.586624</td><td>17.665909</td><td>15.486874</td><td>91.175575    </td><td>426.34756    </td><td>1.965182  </td><td>1.4274594      </td><td>nan       </td><td>nan        </td><td>308.94833562052486</td><td>-83.14429091899137</td><td>3662.784      </td><td>3650.5947           </td><td>3676.7795           </td><td>4.7373        </td><td>4.7049              </td><td>4.7738              </td><td>-0.5119     </td><td>-0.598            </td><td>-0.4367           </td><td>274.1202          </td><td>260.8213                </td><td>292.6339                </td><td>0.359       </td><td>0.348             </td><td>0.3724            </td><td>nan         </td><td>nan               </td><td>nan               </td><td>nan              </td><td>nan                    </td><td>nan                    </td><td>nan          </td><td>nan                </td><td>nan                </td><td>M                   </td><td>00475883-3356363</td></tr>\n",
       "</tbody>\n",
       "</table>"
      ],
      "text/plain": [
       "#    source_id            pm         pmra                e_pmra       pmdec                e_pmdec      parallax            e_parallax    gmag       bpmag      rpmag      fb_over_err    fr_over_err    ruwe        excess_factor    rv_gaia     e_rv_gaia    glon                glat                teff_gspphot    teff_gspphot_lower    teff_gspphot_upper    logg_gspphot    logg_gspphot_lower    logg_gspphot_upper    mh_gspphot    mh_gspphot_lower    mh_gspphot_upper    distance_gspphot    distance_gspphot_lower    distance_gspphot_upper    ag_gspphot    ag_gspphot_lower    ag_gspphot_upper    mh_gspspec    mh_gspspec_lower    mh_gspspec_upper    alphafe_gspspec    alphafe_gspspec_lower    alphafe_gspspec_upper    fem_gspspec    fem_gspspec_lower    fem_gspspec_upper    spectraltype_esphs    tmass\n",
       "0    5006272188693764480  25.881508  25.87940633115308   0.59455925   -0.3298329350977657  0.46031117   2.049412546040849   0.3859044     19.479687  20.900537  18.239414  8.02105        59.495518      1.0557042   1.5151731        nan         nan          316.8325729762962   -83.52766118327081  nan             nan                   nan                   nan             nan                   nan                   nan           nan                 nan                 nan                 nan                       nan                       nan           nan                 nan                 nan           nan                 nan                 nan                nan                      nan                      nan            nan                  nan                                        00440012-3323552\n",
       "1    5006272360492460416  12.353131  -6.017497389927294  0.39562958   10.788400675717241   0.2940971    4.249156326170408   0.2556005     19.082079  20.720028  17.75842   7.887264       55.39603       0.98654395  1.5849715        nan         nan          316.8668118219386   -83.54233916405768  nan             nan                   nan                   nan             nan                   nan                   nan           nan                 nan                 nan                 nan                       nan                       nan           nan                 nan                 nan           nan                 nan                 nan                nan                      nan                      nan            nan                  nan                                        00440016-3323008\n",
       "2    5006272364788288384  17.968739  -4.840249081457927  0.015554671  -17.30455312925456   0.014522816  2.7574034968548418  0.01352037    10.720402  10.967661  10.313985  2189.436       4852.0156      0.92771965  1.189557         5.002669    0.3120724    316.87941382607727  -83.54822842945974  6209.1367       6193.813              6223.046              4.0062          3.9981                4.01                  -0.4501       -0.4631             -0.4374             361.7601            359.5354                  366.9255                  0.0105        0.0023              0.0179              -0.3          -0.35               -0.24               0.32               0.24                     0.43                     0.01           -0.21                0.15                 F                     00440020-3322386\n",
       "3    5006302425263603072  10.230598  8.05320865471344    0.060675204  -6.309594465858185   0.070022315  0.4077170660983986  0.06838203    17.032448  17.492155  16.418238  186.5118       241.17017      0.9639873   1.2160147        nan         nan          317.45321468351636  -83.78285625325518  4961.4717       4946.2583             4978.0054             4.4934          4.465                 4.516                 -0.3743       -0.4212             -0.3286             1741.4481           1674.4619                 1836.0886                 0.0006        1e-04               0.002               nan           nan                 nan                 nan                nan                      nan                      nan            nan                  nan                  G                     00440027-3308040\n",
       "4    5006274048415466624  39.62228   32.001703473268954  0.015813133  -23.362704941033346  0.015312383  1.9717723096027606  0.015182628   13.570873  13.923272  13.052158  1741.4764      1521.555       1.0319531   1.202947         -3.3028622  2.9666595    317.1074319369728   -83.65351824625826  5447.473        5445.7627             5449.369              4.4351          4.4309                4.4391                -0.519        -0.5268             -0.5115             493.2722            489.6659                  497.0734                  0.0005        1e-04               0.0013              nan           nan                 nan                 nan                nan                      nan                      nan            nan                  nan                  G                     00440093-3316088\n",
       "...  ...                  ...        ...                 ...          ...                  ...          ...                 ...           ...        ...        ...        ...            ...            ...         ...              ...         ...          ...                 ...                 ...             ...                   ...                   ...             ...                   ...                   ...           ...                 ...                 ...                 ...                       ...                       ...           ...                 ...                 ...           ...                 ...                 ...                ...                      ...                      ...            ...                  ...                  ...                   ...\n",
       "974  5006596372825617536  9.451533   -5.293269780841161  0.16276602   -7.830247967166388   0.15892017   0.6842038814650301  0.13880053    18.21406   18.794975  17.555641  43.47655       117.36791      1.000151    1.1966524        nan         nan          309.53588734104653  -83.6722837349411   4561.6777       4550.872              4575.0176             4.6954          4.6644                4.7314                -0.8864       -1.0083             -0.7675             1633.4547           1547.6456                 1718.3372                 0.0008        1e-04               0.0026              nan           nan                 nan                 nan                nan                      nan                      nan            nan                  nan                                        00475746-3324406\n",
       "975  5006622421802710400  12.590373  4.136245789024968   0.1423591    -11.891549967532852  0.17914435   0.3743014953645126  0.17100392    18.285034  18.822287  17.622894  64.78428       67.88284       1.0190394   1.2167314        nan         nan          309.8870306726123   -83.99243568882441  4634.7227       4620.6074             4658.732              4.8378          4.7434                4.8846                -1.4648       -1.7384             -0.9898             1416.2649           1314.4305                 1641.0065                 0.0039        0.0007              0.0131              nan           nan                 nan                 nan                nan                      nan                      nan            nan                  nan                                        00475823-3305192\n",
       "976  5006610189735852416  42.577003  39.631213703928594  0.021681327  -15.561752515724985  0.02442226   0.7124430327630487  0.025343014   14.325352  14.57544   13.912325  1120.3326      991.6829       1.0351112   1.191791         118.74942   12.110964    309.83381122028834  -83.94934400914104  6229.636        6181.893              6313.3286             4.1838          4.1152                4.2622                -1.4889       -1.4971             -1.4748             1280.1755           1146.1885                 1421.1998                 0.0597        0.0403              0.0963              nan           nan                 nan                 nan                nan                      nan                      nan            nan                  nan                  F                     00475821-3307561\n",
       "977  5006596063587971200  35.640152  25.81237233537678   0.40919444   -24.575227344568624  0.37384018   2.7653295627642662  0.29987586    19.31142   20.952156  18.063562  8.532091       46.414646      1.1047448   1.4884996        nan         nan          309.4939579899106   -83.65803339506482  nan             nan                   nan                   nan             nan                   nan                   nan           nan                 nan                 nan                 nan                       nan                       nan           nan                 nan                 nan           nan                 nan                 nan                nan                      nan                      nan            nan                  nan                                        00475824-3325330\n",
       "978  5006004839865165056  50.481808  41.75137005708976   0.10131271   -28.376678594018014  0.1089883    3.33010214748486    0.1279288     16.586624  17.665909  15.486874  91.175575      426.34756      1.965182    1.4274594        nan         nan          308.94833562052486  -83.14429091899137  3662.784        3650.5947             3676.7795             4.7373          4.7049                4.7738                -0.5119       -0.598              -0.4367             274.1202            260.8213                  292.6339                  0.359         0.348               0.3724              nan           nan                 nan                 nan                nan                      nan                      nan            nan                  nan                  M                     00475883-3356363"
      ]
     },
     "execution_count": 19,
     "metadata": {},
     "output_type": "execute_result"
    }
   ],
   "source": [
    "df_gaia"
   ]
  },
  {
   "cell_type": "code",
   "execution_count": 20,
   "metadata": {},
   "outputs": [
    {
     "data": {
      "text/html": [
       "<table>\n",
       "<thead>\n",
       "<tr><th>#                                </th><th>ra       </th><th>dec       </th><th>Jmag  </th><th>Kmag  </th><th>designation     </th><th>ph_qual  </th></tr>\n",
       "</thead>\n",
       "<tbody>\n",
       "<tr><td><i style='opacity: 0.6'>0</i>    </td><td>10.500105</td><td>-32.967701</td><td>15.871</td><td>15.332</td><td>00420002-3258037</td><td>AAC      </td></tr>\n",
       "<tr><td><i style='opacity: 0.6'>1</i>    </td><td>10.500134</td><td>-34.083687</td><td>16.647</td><td>15.105</td><td>00420003-3405012</td><td>BBC      </td></tr>\n",
       "<tr><td><i style='opacity: 0.6'>2</i>    </td><td>10.500733</td><td>-32.63662 </td><td>15.787</td><td>15.529</td><td>00420017-3238118</td><td>ABC      </td></tr>\n",
       "<tr><td><i style='opacity: 0.6'>3</i>    </td><td>10.501126</td><td>-33.799397</td><td>16.919</td><td>15.704</td><td>00420027-3347578</td><td>CDD      </td></tr>\n",
       "<tr><td><i style='opacity: 0.6'>4</i>    </td><td>10.501516</td><td>-33.941376</td><td>16.801</td><td>15.122</td><td>00420036-3356289</td><td>BDU      </td></tr>\n",
       "<tr><td>...                              </td><td>...      </td><td>...       </td><td>...   </td><td>...   </td><td>...             </td><td>...      </td></tr>\n",
       "<tr><td><i style='opacity: 0.6'>4,415</i></td><td>12.498572</td><td>-33.730888</td><td>16.268</td><td>15.242</td><td>00495965-3343511</td><td>BCC      </td></tr>\n",
       "<tr><td><i style='opacity: 0.6'>4,416</i></td><td>12.498644</td><td>-34.063778</td><td>17.034</td><td>15.656</td><td>00495967-3403496</td><td>CDD      </td></tr>\n",
       "<tr><td><i style='opacity: 0.6'>4,417</i></td><td>12.498813</td><td>-33.418926</td><td>16.547</td><td>15.565</td><td>00495971-3325081</td><td>BUD      </td></tr>\n",
       "<tr><td><i style='opacity: 0.6'>4,418</i></td><td>12.499268</td><td>-33.095966</td><td>16.261</td><td>15.361</td><td>00495982-3305454</td><td>ACC      </td></tr>\n",
       "<tr><td><i style='opacity: 0.6'>4,419</i></td><td>12.499804</td><td>-33.6521  </td><td>14.725</td><td>14.392</td><td>00495995-3339075</td><td>AAA      </td></tr>\n",
       "</tbody>\n",
       "</table>"
      ],
      "text/plain": [
       "#      ra         dec         Jmag    Kmag    designation       ph_qual\n",
       "0      10.500105  -32.967701  15.871  15.332  00420002-3258037  AAC\n",
       "1      10.500134  -34.083687  16.647  15.105  00420003-3405012  BBC\n",
       "2      10.500733  -32.63662   15.787  15.529  00420017-3238118  ABC\n",
       "3      10.501126  -33.799397  16.919  15.704  00420027-3347578  CDD\n",
       "4      10.501516  -33.941376  16.801  15.122  00420036-3356289  BDU\n",
       "...    ...        ...         ...     ...     ...               ...\n",
       "4,415  12.498572  -33.730888  16.268  15.242  00495965-3343511  BCC\n",
       "4,416  12.498644  -34.063778  17.034  15.656  00495967-3403496  CDD\n",
       "4,417  12.498813  -33.418926  16.547  15.565  00495971-3325081  BUD\n",
       "4,418  12.499268  -33.095966  16.261  15.361  00495982-3305454  ACC\n",
       "4,419  12.499804  -33.6521    14.725  14.392  00495995-3339075  AAA"
      ]
     },
     "execution_count": 20,
     "metadata": {},
     "output_type": "execute_result"
    }
   ],
   "source": [
    "df_tmass"
   ]
  },
  {
   "cell_type": "code",
   "execution_count": 24,
   "metadata": {},
   "outputs": [
    {
     "data": {
      "text/html": [
       "<div>\n",
       "<style scoped>\n",
       "    .dataframe tbody tr th:only-of-type {\n",
       "        vertical-align: middle;\n",
       "    }\n",
       "\n",
       "    .dataframe tbody tr th {\n",
       "        vertical-align: top;\n",
       "    }\n",
       "\n",
       "    .dataframe thead th {\n",
       "        text-align: right;\n",
       "    }\n",
       "</style>\n",
       "<table border=\"1\" class=\"dataframe\">\n",
       "  <thead>\n",
       "    <tr style=\"text-align: right;\">\n",
       "      <th></th>\n",
       "      <th>ra</th>\n",
       "      <th>dec</th>\n",
       "      <th>Jmag</th>\n",
       "      <th>Kmag</th>\n",
       "      <th>designation</th>\n",
       "      <th>ph_qual</th>\n",
       "    </tr>\n",
       "  </thead>\n",
       "  <tbody>\n",
       "    <tr>\n",
       "      <th>0</th>\n",
       "      <td>11.000524</td>\n",
       "      <td>-33.398670</td>\n",
       "      <td>16.386999</td>\n",
       "      <td>15.459</td>\n",
       "      <td>00440012-3323552</td>\n",
       "      <td>ACC</td>\n",
       "    </tr>\n",
       "    <tr>\n",
       "      <th>1</th>\n",
       "      <td>11.000696</td>\n",
       "      <td>-33.383556</td>\n",
       "      <td>15.795000</td>\n",
       "      <td>14.857</td>\n",
       "      <td>00440016-3323008</td>\n",
       "      <td>AAA</td>\n",
       "    </tr>\n",
       "    <tr>\n",
       "      <th>2</th>\n",
       "      <td>11.000862</td>\n",
       "      <td>-33.377396</td>\n",
       "      <td>9.878000</td>\n",
       "      <td>9.593</td>\n",
       "      <td>00440020-3322386</td>\n",
       "      <td>AAA</td>\n",
       "    </tr>\n",
       "    <tr>\n",
       "      <th>3</th>\n",
       "      <td>11.001137</td>\n",
       "      <td>-33.134464</td>\n",
       "      <td>15.691000</td>\n",
       "      <td>15.060</td>\n",
       "      <td>00440027-3308040</td>\n",
       "      <td>AAB</td>\n",
       "    </tr>\n",
       "    <tr>\n",
       "      <th>4</th>\n",
       "      <td>11.003885</td>\n",
       "      <td>-33.269123</td>\n",
       "      <td>12.428000</td>\n",
       "      <td>12.066</td>\n",
       "      <td>00440093-3316088</td>\n",
       "      <td>AAA</td>\n",
       "    </tr>\n",
       "    <tr>\n",
       "      <th>...</th>\n",
       "      <td>...</td>\n",
       "      <td>...</td>\n",
       "      <td>...</td>\n",
       "      <td>...</td>\n",
       "      <td>...</td>\n",
       "      <td>...</td>\n",
       "    </tr>\n",
       "    <tr>\n",
       "      <th>1019</th>\n",
       "      <td>11.992548</td>\n",
       "      <td>-33.132275</td>\n",
       "      <td>13.434000</td>\n",
       "      <td>13.100</td>\n",
       "      <td>00475821-3307561</td>\n",
       "      <td>AAA</td>\n",
       "    </tr>\n",
       "    <tr>\n",
       "      <th>1020</th>\n",
       "      <td>11.992637</td>\n",
       "      <td>-33.088688</td>\n",
       "      <td>16.691000</td>\n",
       "      <td>15.690</td>\n",
       "      <td>00475823-3305192</td>\n",
       "      <td>BUU</td>\n",
       "    </tr>\n",
       "    <tr>\n",
       "      <th>1021</th>\n",
       "      <td>11.992708</td>\n",
       "      <td>-33.425858</td>\n",
       "      <td>16.268999</td>\n",
       "      <td>15.299</td>\n",
       "      <td>00475824-3325330</td>\n",
       "      <td>ABC</td>\n",
       "    </tr>\n",
       "    <tr>\n",
       "      <th>1022</th>\n",
       "      <td>11.995143</td>\n",
       "      <td>-33.943432</td>\n",
       "      <td>14.172000</td>\n",
       "      <td>13.329</td>\n",
       "      <td>00475883-3356363</td>\n",
       "      <td>AAA</td>\n",
       "    </tr>\n",
       "    <tr>\n",
       "      <th>1023</th>\n",
       "      <td>11.999920</td>\n",
       "      <td>-33.374165</td>\n",
       "      <td>16.849001</td>\n",
       "      <td>15.567</td>\n",
       "      <td>00475998-3322269</td>\n",
       "      <td>CUU</td>\n",
       "    </tr>\n",
       "  </tbody>\n",
       "</table>\n",
       "<p>1024 rows × 6 columns</p>\n",
       "</div>"
      ],
      "text/plain": [
       "             ra        dec       Jmag    Kmag       designation ph_qual\n",
       "0     11.000524 -33.398670  16.386999  15.459  00440012-3323552     ACC\n",
       "1     11.000696 -33.383556  15.795000  14.857  00440016-3323008     AAA\n",
       "2     11.000862 -33.377396   9.878000   9.593  00440020-3322386     AAA\n",
       "3     11.001137 -33.134464  15.691000  15.060  00440027-3308040     AAB\n",
       "4     11.003885 -33.269123  12.428000  12.066  00440093-3316088     AAA\n",
       "...         ...        ...        ...     ...               ...     ...\n",
       "1019  11.992548 -33.132275  13.434000  13.100  00475821-3307561     AAA\n",
       "1020  11.992637 -33.088688  16.691000  15.690  00475823-3305192     BUU\n",
       "1021  11.992708 -33.425858  16.268999  15.299  00475824-3325330     ABC\n",
       "1022  11.995143 -33.943432  14.172000  13.329  00475883-3356363     AAA\n",
       "1023  11.999920 -33.374165  16.849001  15.567  00475998-3322269     CUU\n",
       "\n",
       "[1024 rows x 6 columns]"
      ]
     },
     "execution_count": 24,
     "metadata": {},
     "output_type": "execute_result"
    }
   ],
   "source": [
    "a = df_tmass_only.to_pandas_df()\n",
    "a"
   ]
  },
  {
   "cell_type": "code",
   "execution_count": 25,
   "metadata": {},
   "outputs": [
    {
     "data": {
      "text/html": [
       "<table>\n",
       "<thead>\n",
       "<tr><th>#                                </th><th>ra       </th><th>dec       </th><th>Jmag  </th><th>Kmag  </th><th>designation     </th><th>ph_qual  </th></tr>\n",
       "</thead>\n",
       "<tbody>\n",
       "<tr><td><i style='opacity: 0.6'>0</i>    </td><td>11.000524</td><td>-33.39867 </td><td>16.387</td><td>15.459</td><td>00440012-3323552</td><td>ACC      </td></tr>\n",
       "<tr><td><i style='opacity: 0.6'>1</i>    </td><td>11.000696</td><td>-33.383556</td><td>15.795</td><td>14.857</td><td>00440016-3323008</td><td>AAA      </td></tr>\n",
       "<tr><td><i style='opacity: 0.6'>2</i>    </td><td>11.000862</td><td>-33.377396</td><td>9.878 </td><td>9.593 </td><td>00440020-3322386</td><td>AAA      </td></tr>\n",
       "<tr><td><i style='opacity: 0.6'>3</i>    </td><td>11.001137</td><td>-33.134464</td><td>15.691</td><td>15.06 </td><td>00440027-3308040</td><td>AAB      </td></tr>\n",
       "<tr><td><i style='opacity: 0.6'>4</i>    </td><td>11.003885</td><td>-33.269123</td><td>12.428</td><td>12.066</td><td>00440093-3316088</td><td>AAA      </td></tr>\n",
       "<tr><td>...                              </td><td>...      </td><td>...       </td><td>...   </td><td>...   </td><td>...             </td><td>...      </td></tr>\n",
       "<tr><td><i style='opacity: 0.6'>1,019</i></td><td>11.992548</td><td>-33.132275</td><td>13.434</td><td>13.1  </td><td>00475821-3307561</td><td>AAA      </td></tr>\n",
       "<tr><td><i style='opacity: 0.6'>1,020</i></td><td>11.992637</td><td>-33.088688</td><td>16.691</td><td>15.69 </td><td>00475823-3305192</td><td>BUU      </td></tr>\n",
       "<tr><td><i style='opacity: 0.6'>1,021</i></td><td>11.992708</td><td>-33.425858</td><td>16.269</td><td>15.299</td><td>00475824-3325330</td><td>ABC      </td></tr>\n",
       "<tr><td><i style='opacity: 0.6'>1,022</i></td><td>11.995143</td><td>-33.943432</td><td>14.172</td><td>13.329</td><td>00475883-3356363</td><td>AAA      </td></tr>\n",
       "<tr><td><i style='opacity: 0.6'>1,023</i></td><td>11.99992 </td><td>-33.374165</td><td>16.849</td><td>15.567</td><td>00475998-3322269</td><td>CUU      </td></tr>\n",
       "</tbody>\n",
       "</table>"
      ],
      "text/plain": [
       "#      ra         dec         Jmag    Kmag    designation       ph_qual\n",
       "0      11.000524  -33.39867   16.387  15.459  00440012-3323552  ACC\n",
       "1      11.000696  -33.383556  15.795  14.857  00440016-3323008  AAA\n",
       "2      11.000862  -33.377396  9.878   9.593   00440020-3322386  AAA\n",
       "3      11.001137  -33.134464  15.691  15.06   00440027-3308040  AAB\n",
       "4      11.003885  -33.269123  12.428  12.066  00440093-3316088  AAA\n",
       "...    ...        ...         ...     ...     ...               ...\n",
       "1,019  11.992548  -33.132275  13.434  13.1    00475821-3307561  AAA\n",
       "1,020  11.992637  -33.088688  16.691  15.69   00475823-3305192  BUU\n",
       "1,021  11.992708  -33.425858  16.269  15.299  00475824-3325330  ABC\n",
       "1,022  11.995143  -33.943432  14.172  13.329  00475883-3356363  AAA\n",
       "1,023  11.99992   -33.374165  16.849  15.567  00475998-3322269  CUU"
      ]
     },
     "execution_count": 25,
     "metadata": {},
     "output_type": "execute_result"
    }
   ],
   "source": [
    "b = vaex.from_pandas(a)\n",
    "b"
   ]
  },
  {
   "attachments": {},
   "cell_type": "markdown",
   "metadata": {},
   "source": [
    "# Check the Data"
   ]
  },
  {
   "cell_type": "code",
   "execution_count": 43,
   "metadata": {},
   "outputs": [
    {
     "data": {
      "text/plain": [
       "[<matplotlib.lines.Line2D at 0x7f5620daedf0>]"
      ]
     },
     "execution_count": 43,
     "metadata": {},
     "output_type": "execute_result"
    },
    {
     "data": {
      "image/png": "[encoded data removed]",
      "text/plain": [
       "<Figure size 432x288 with 1 Axes>"
      ]
     },
     "metadata": {
      "needs_background": "light"
     },
     "output_type": "display_data"
    }
   ],
   "source": [
    "# check the data\n",
    "tmass = vaex.open_many(glob(join(tmass_data_dir, \"*.hdf5\")))\n",
    "tmass.viz.histogram(\"ra\")"
   ]
  },
  {
   "cell_type": "code",
   "execution_count": 44,
   "metadata": {},
   "outputs": [
    {
     "data": {
      "text/html": [
       "<table>\n",
       "<thead>\n",
       "<tr><th>#                              </th><th>ra      </th><th>dec       </th><th>Jmag  </th><th>Kmag  </th><th>designation     </th><th>ph_qual  </th></tr>\n",
       "</thead>\n",
       "<tbody>\n",
       "<tr><td><i style='opacity: 0.6'>0</i>  </td><td>1.026885</td><td>-89.175842</td><td>11.901</td><td>11.433</td><td>00040645-8910330</td><td>AAA      </td></tr>\n",
       "<tr><td><i style='opacity: 0.6'>1</i>  </td><td>1.076087</td><td>-89.012215</td><td>16.695</td><td>15.64 </td><td>00041826-8900439</td><td>CDD      </td></tr>\n",
       "<tr><td><i style='opacity: 0.6'>2</i>  </td><td>1.112842</td><td>-89.039803</td><td>15.765</td><td>15.183</td><td>00042708-8902232</td><td>ABC      </td></tr>\n",
       "<tr><td><i style='opacity: 0.6'>3</i>  </td><td>1.119851</td><td>-89.91861 </td><td>12.467</td><td>11.963</td><td>00042876-8955069</td><td>AAA      </td></tr>\n",
       "<tr><td><i style='opacity: 0.6'>4</i>  </td><td>1.126831</td><td>-89.655006</td><td>16.695</td><td>15.314</td><td>00043043-8939180</td><td>CDU      </td></tr>\n",
       "<tr><td>...                            </td><td>...     </td><td>...       </td><td>...   </td><td>...   </td><td>...             </td><td>...      </td></tr>\n",
       "<tr><td><i style='opacity: 0.6'>828</i></td><td>0.96741 </td><td>-88.64447 </td><td>14.898</td><td>14.432</td><td>00035217-8838400</td><td>AAA      </td></tr>\n",
       "<tr><td><i style='opacity: 0.6'>829</i></td><td>0.970521</td><td>-88.709099</td><td>16.314</td><td>14.861</td><td>00035292-8842327</td><td>BBB      </td></tr>\n",
       "<tr><td><i style='opacity: 0.6'>830</i></td><td>0.975295</td><td>-88.220215</td><td>15.019</td><td>14.441</td><td>00035407-8813127</td><td>AAA      </td></tr>\n",
       "<tr><td><i style='opacity: 0.6'>831</i></td><td>0.978394</td><td>-88.385124</td><td>13.256</td><td>12.921</td><td>00035481-8823064</td><td>AAA      </td></tr>\n",
       "<tr><td><i style='opacity: 0.6'>832</i></td><td>0.989785</td><td>-88.107384</td><td>14.8  </td><td>14.316</td><td>00035754-8806265</td><td>AAA      </td></tr>\n",
       "</tbody>\n",
       "</table>"
      ],
      "text/plain": [
       "#    ra        dec         Jmag    Kmag    designation       ph_qual\n",
       "0    1.026885  -89.175842  11.901  11.433  00040645-8910330  AAA\n",
       "1    1.076087  -89.012215  16.695  15.64   00041826-8900439  CDD\n",
       "2    1.112842  -89.039803  15.765  15.183  00042708-8902232  ABC\n",
       "3    1.119851  -89.91861   12.467  11.963  00042876-8955069  AAA\n",
       "4    1.126831  -89.655006  16.695  15.314  00043043-8939180  CDU\n",
       "...  ...       ...         ...     ...     ...               ...\n",
       "828  0.96741   -88.64447   14.898  14.432  00035217-8838400  AAA\n",
       "829  0.970521  -88.709099  16.314  14.861  00035292-8842327  BBB\n",
       "830  0.975295  -88.220215  15.019  14.441  00035407-8813127  AAA\n",
       "831  0.978394  -88.385124  13.256  12.921  00035481-8823064  AAA\n",
       "832  0.989785  -88.107384  14.8    14.316  00035754-8806265  AAA"
      ]
     },
     "execution_count": 44,
     "metadata": {},
     "output_type": "execute_result"
    }
   ],
   "source": [
    "tmass"
   ]
  },
  {
   "cell_type": "code",
   "execution_count": 45,
   "metadata": {},
   "outputs": [
    {
     "data": {
      "text/plain": [
       "[<matplotlib.lines.Line2D at 0x7f5620b4ba30>]"
      ]
     },
     "execution_count": 45,
     "metadata": {},
     "output_type": "execute_result"
    },
    {
     "data": {
      "image/png": "[encoded data removed]",
      "text/plain": [
       "<Figure size 432x288 with 1 Axes>"
      ]
     },
     "metadata": {
      "needs_background": "light"
     },
     "output_type": "display_data"
    }
   ],
   "source": [
    "gaia = vaex.open_many(glob(join(gaia_data_dir, \"*.hdf5\")))\n",
    "gaia.viz.histogram(\"ra\")"
   ]
  },
  {
   "cell_type": "code",
   "execution_count": 82,
   "metadata": {},
   "outputs": [
    {
     "data": {
      "text/html": [
       "<table>\n",
       "<thead>\n",
       "<tr><th>#                              </th><th>source_id          </th><th>pm       </th><th>pmra               </th><th>e_pmra     </th><th>pmdec              </th><th>e_pmdec    </th><th>parallax           </th><th>e_parallax  </th><th>gmag     </th><th>bpmag    </th><th>rpmag    </th><th>fb_over_err  </th><th>fr_over_err  </th><th>ruwe      </th><th>excess_factor  </th><th>rv_gaia  </th><th>e_rv_gaia  </th><th>glon              </th><th>glat               </th><th>teff_gspphot  </th><th>teff_gspphot_lower  </th><th>teff_gspphot_upper  </th><th>logg_gspphot  </th><th>logg_gspphot_lower  </th><th>logg_gspphot_upper  </th><th>mh_gspphot  </th><th>mh_gspphot_lower  </th><th>mh_gspphot_upper  </th><th>distance_gspphot  </th><th>distance_gspphot_lower  </th><th>distance_gspphot_upper  </th><th>ag_gspphot  </th><th>ag_gspphot_lower  </th><th>ag_gspphot_upper  </th><th>mh_gspspec  </th><th>mh_gspspec_lower  </th><th>mh_gspspec_upper  </th><th>alphafe_gspspec  </th><th>alphafe_gspspec_lower  </th><th>alphafe_gspspec_upper  </th><th>fem_gspspec  </th><th>fem_gspspec_lower  </th><th>fem_gspspec_upper  </th><th>spectraltype_esphs  </th><th>ra      </th><th>dec       </th><th>jmag  </th><th>kmag  </th><th>ph_qual  </th></tr>\n",
       "</thead>\n",
       "<tbody>\n",
       "<tr><td><i style='opacity: 0.6'>0</i>  </td><td>6341071024116923392</td><td>27.181486</td><td>26.219907673498525 </td><td>0.1619937  </td><td>7.165867662690853  </td><td>0.15926693 </td><td>0.8462159280166782 </td><td>0.12653747  </td><td>18.468872</td><td>19.508224</td><td>17.452581</td><td>25.009687    </td><td>77.59609     </td><td>0.98283386</td><td>1.3517543      </td><td>nan      </td><td>nan        </td><td>302.9676499367185 </td><td>-27.26768267853092 </td><td>3799.133      </td><td>3732.1882           </td><td>3952.4932           </td><td>4.3191        </td><td>4.2565              </td><td>4.3851              </td><td>-0.6771     </td><td>-0.779            </td><td>-0.3774           </td><td>1328.1719         </td><td>1110.3856               </td><td>1523.1396               </td><td>0.5527      </td><td>0.454             </td><td>0.6938            </td><td>nan         </td><td>nan               </td><td>nan               </td><td>nan              </td><td>nan                    </td><td>nan                    </td><td>nan          </td><td>nan                </td><td>nan                </td><td>                    </td><td>nan     </td><td>nan       </td><td>nan   </td><td>nan   </td><td>--       </td></tr>\n",
       "<tr><td><i style='opacity: 0.6'>1</i>  </td><td>4611690760072888960</td><td>6.8924713</td><td>-6.16283580475118  </td><td>0.43619978 </td><td>3.0863599386693785 </td><td>0.40768367 </td><td>1.1372669643805726 </td><td>0.34071845  </td><td>19.688269</td><td>20.921812</td><td>18.517662</td><td>7.7283173    </td><td>34.448048    </td><td>1.0588416 </td><td>1.4700757      </td><td>nan      </td><td>nan        </td><td>302.9628286548731 </td><td>-27.25695019518819 </td><td>nan           </td><td>nan                 </td><td>nan                 </td><td>nan           </td><td>nan                 </td><td>nan                 </td><td>nan         </td><td>nan               </td><td>nan               </td><td>nan               </td><td>nan                     </td><td>nan                     </td><td>nan         </td><td>nan               </td><td>nan               </td><td>nan         </td><td>nan               </td><td>nan               </td><td>nan              </td><td>nan                    </td><td>nan                    </td><td>nan          </td><td>nan                </td><td>nan                </td><td>                    </td><td>0.783867</td><td>-89.868309</td><td>16.567</td><td>14.901</td><td>BUU      </td></tr>\n",
       "<tr><td><i style='opacity: 0.6'>2</i>  </td><td>4611708008660299264</td><td>17.08801 </td><td>15.516851761166475 </td><td>0.081242345</td><td>-7.157333249113848 </td><td>0.07781357 </td><td>1.2855724542192457 </td><td>0.06615926  </td><td>17.507706</td><td>18.50154 </td><td>16.532976</td><td>61.309105    </td><td>194.06754    </td><td>0.9743772 </td><td>1.3233652      </td><td>nan      </td><td>nan        </td><td>303.0014568841523 </td><td>-27.404831574405826</td><td>4000.4795     </td><td>3970.193            </td><td>4025.0796           </td><td>4.6917        </td><td>4.6815              </td><td>4.7024              </td><td>-0.1676     </td><td>-0.2143           </td><td>-0.133            </td><td>624.159           </td><td>607.684                 </td><td>638.4129                </td><td>0.513       </td><td>0.4907            </td><td>0.5373            </td><td>nan         </td><td>nan               </td><td>nan               </td><td>nan              </td><td>nan                    </td><td>nan                    </td><td>nan          </td><td>nan                </td><td>nan                </td><td>K                   </td><td>0.268558</td><td>-89.71653 </td><td>15.169</td><td>14.209</td><td>AAA      </td></tr>\n",
       "<tr><td><i style='opacity: 0.6'>3</i>  </td><td>4611709181188492928</td><td>6.5878043</td><td>4.821691903032647  </td><td>0.034149557</td><td>-4.4889254028881815</td><td>0.034355145</td><td>0.8222923699537003 </td><td>0.030214705 </td><td>15.962487</td><td>16.491627</td><td>15.286262</td><td>229.36317    </td><td>409.8019     </td><td>0.9597021 </td><td>1.2301626      </td><td>nan      </td><td>nan        </td><td>303.01551745721014</td><td>-27.46239540245029 </td><td>4887.0454     </td><td>4839.9053           </td><td>5161.509            </td><td>4.1988        </td><td>4.1877              </td><td>4.273               </td><td>-0.6894     </td><td>-0.7505           </td><td>-0.4165           </td><td>1388.719          </td><td>1307.4613               </td><td>1527.9545               </td><td>0.2559      </td><td>0.2211            </td><td>0.4355            </td><td>nan         </td><td>nan               </td><td>nan               </td><td>nan              </td><td>nan                    </td><td>nan                    </td><td>nan          </td><td>nan                </td><td>nan                </td><td>G                   </td><td>0.34258 </td><td>-89.657608</td><td>14.428</td><td>13.751</td><td>AAA      </td></tr>\n",
       "<tr><td><i style='opacity: 0.6'>4</i>  </td><td>4611709387346922880</td><td>12.490191</td><td>12.39432274452295  </td><td>0.057449825</td><td>1.5445518674661234 </td><td>0.057337705</td><td>0.6999401747378959 </td><td>0.049945816 </td><td>16.996668</td><td>17.514515</td><td>16.347021</td><td>129.61122    </td><td>278.62268    </td><td>1.0217737 </td><td>1.2158437      </td><td>nan      </td><td>nan        </td><td>303.0176640705403 </td><td>-27.47153258215086 </td><td>4913.182      </td><td>4848.237            </td><td>4982.7627           </td><td>4.7116        </td><td>4.6903              </td><td>4.7365              </td><td>-0.9876     </td><td>-1.0736           </td><td>-0.8543           </td><td>1057.1335         </td><td>1004.3998               </td><td>1115.8271               </td><td>0.1751      </td><td>0.125             </td><td>0.2253            </td><td>nan         </td><td>nan               </td><td>nan               </td><td>nan              </td><td>nan                    </td><td>nan                    </td><td>nan          </td><td>nan                </td><td>nan                </td><td>G                   </td><td>0.363665</td><td>-89.648338</td><td>15.516</td><td>14.838</td><td>AAB      </td></tr>\n",
       "<tr><td>...                            </td><td>...                </td><td>...      </td><td>...                </td><td>...        </td><td>...                </td><td>...        </td><td>...                </td><td>...         </td><td>...      </td><td>...      </td><td>...      </td><td>...          </td><td>...          </td><td>...       </td><td>...            </td><td>...      </td><td>...        </td><td>...               </td><td>...                </td><td>...           </td><td>...                 </td><td>...                 </td><td>...           </td><td>...                 </td><td>...                 </td><td>...         </td><td>...               </td><td>...               </td><td>...               </td><td>...                     </td><td>...                     </td><td>...         </td><td>...               </td><td>...               </td><td>...         </td><td>...               </td><td>...               </td><td>...              </td><td>...                    </td><td>...                    </td><td>...          </td><td>...                </td><td>...                </td><td>...                 </td><td>...     </td><td>...       </td><td>...   </td><td>...   </td><td>...      </td></tr>\n",
       "<tr><td><i style='opacity: 0.6'>812</i></td><td>4612886822564461824</td><td>61.342426</td><td>56.92306878079999  </td><td>0.1249683  </td><td>22.861701753408674 </td><td>0.12232917 </td><td>6.842426813094137  </td><td>0.09899294  </td><td>17.847067</td><td>19.903294</td><td>16.506058</td><td>18.422266    </td><td>258.6981     </td><td>1.0231612 </td><td>1.5566264      </td><td>nan      </td><td>nan        </td><td>303.38300854090386</td><td>-29.041089333818462</td><td>3127.656      </td><td>3126.7273           </td><td>3129.291            </td><td>4.9635        </td><td>4.9613              </td><td>4.966               </td><td>0.065       </td><td>0.0563            </td><td>0.0735            </td><td>146.8128          </td><td>145.5035                </td><td>148.0269                </td><td>0.7481      </td><td>0.7366            </td><td>0.7594            </td><td>nan         </td><td>nan               </td><td>nan               </td><td>nan              </td><td>nan                    </td><td>nan                    </td><td>nan          </td><td>nan                </td><td>nan                </td><td>                    </td><td>1.20566 </td><td>-88.046265</td><td>14.502</td><td>13.663</td><td>AAA      </td></tr>\n",
       "<tr><td><i style='opacity: 0.6'>813</i></td><td>4612886861220777088</td><td>2.4308429</td><td>-1.863307704177515 </td><td>0.021097505</td><td>-1.5611155571106174</td><td>0.021909082</td><td>0.872861443704937  </td><td>0.01782017  </td><td>14.847667</td><td>15.243402</td><td>14.285301</td><td>717.40906    </td><td>1361.9264    </td><td>0.9901175 </td><td>1.210279       </td><td>nan      </td><td>nan        </td><td>303.3603091361332 </td><td>-29.054622345682514</td><td>5427.8994     </td><td>5405.3057           </td><td>5450.979            </td><td>4.296         </td><td>4.2849              </td><td>4.3064              </td><td>-0.3573     </td><td>-0.3825           </td><td>-0.3333           </td><td>1089.6416         </td><td>1071.1868               </td><td>1110.5289               </td><td>0.139       </td><td>0.1263            </td><td>0.1508            </td><td>nan         </td><td>nan               </td><td>nan               </td><td>nan              </td><td>nan                    </td><td>nan                    </td><td>nan          </td><td>nan                </td><td>nan                </td><td>F                   </td><td>1.860193</td><td>-88.036919</td><td>13.57 </td><td>13.184</td><td>AAA      </td></tr>\n",
       "<tr><td><i style='opacity: 0.6'>814</i></td><td>4612886895580518144</td><td>22.915434</td><td>22.851253060603284 </td><td>0.07982483 </td><td>1.7138654145737418 </td><td>0.07778088 </td><td>0.8022813979717222 </td><td>0.06346507  </td><td>17.36722 </td><td>17.984463</td><td>16.627222</td><td>81.54515     </td><td>236.02202    </td><td>0.98161715</td><td>1.2429122      </td><td>nan      </td><td>nan        </td><td>303.3861612733324 </td><td>-29.044489345859354</td><td>4419.5264     </td><td>4376.617            </td><td>4452.461            </td><td>4.7289        </td><td>4.7152              </td><td>4.7422              </td><td>-0.715      </td><td>-0.7731           </td><td>-0.6603           </td><td>945.1326          </td><td>921.2568                </td><td>970.9032                </td><td>0.0741      </td><td>0.0267            </td><td>0.1115            </td><td>nan         </td><td>nan               </td><td>nan               </td><td>nan              </td><td>nan                    </td><td>nan                    </td><td>nan          </td><td>nan                </td><td>nan                </td><td>K                   </td><td>1.151434</td><td>-88.042274</td><td>15.554</td><td>14.851</td><td>AAB      </td></tr>\n",
       "<tr><td><i style='opacity: 0.6'>815</i></td><td>4612887097442391552</td><td>2.9769835</td><td>-1.6916276689984315</td><td>0.11500653 </td><td>-2.449658649958147 </td><td>0.10786187 </td><td>0.03004623204906711</td><td>0.089771524 </td><td>17.975988</td><td>18.3664  </td><td>17.467276</td><td>60.661457    </td><td>85.21703     </td><td>0.9351024 </td><td>1.1786873      </td><td>nan      </td><td>nan        </td><td>303.3762314186581 </td><td>-29.067756145770147</td><td>5395.028      </td><td>5381.5566           </td><td>5410.751            </td><td>4.7059        </td><td>4.6796              </td><td>4.7288              </td><td>-1.3944     </td><td>-1.529            </td><td>-1.2556           </td><td>2298.3345         </td><td>2244.3726               </td><td>2351.086                </td><td>0.0046      </td><td>0.0012            </td><td>0.0126            </td><td>nan         </td><td>nan               </td><td>nan               </td><td>nan              </td><td>nan                    </td><td>nan                    </td><td>nan          </td><td>nan                </td><td>nan                </td><td>                    </td><td>1.539791</td><td>-88.021187</td><td>16.514</td><td>16.384</td><td>BUU      </td></tr>\n",
       "<tr><td><i style='opacity: 0.6'>816</i></td><td>4612887097442392960</td><td>18.201658</td><td>17.82729400469637  </td><td>0.13861437 </td><td>-3.672598048450666 </td><td>0.13252057 </td><td>0.7588729695366041 </td><td>0.106975265 </td><td>18.272455</td><td>19.29792 </td><td>17.3309  </td><td>27.579334    </td><td>103.56836    </td><td>1.0198756 </td><td>1.2839427      </td><td>nan      </td><td>nan        </td><td>303.38447666824254</td><td>-29.0669673051228  </td><td>3807.5474     </td><td>3783.7202           </td><td>3921.53             </td><td>4.8055        </td><td>4.742               </td><td>4.8345              </td><td>-0.5005     </td><td>-0.5699           </td><td>-0.347            </td><td>716.0562          </td><td>678.2218                </td><td>843.41                  </td><td>0.2827      </td><td>0.2477            </td><td>0.3556            </td><td>nan         </td><td>nan               </td><td>nan               </td><td>nan              </td><td>nan                    </td><td>nan                    </td><td>nan          </td><td>nan                </td><td>nan                </td><td>                    </td><td>1.326856</td><td>-88.020576</td><td>16.221</td><td>15.119</td><td>BBC      </td></tr>\n",
       "</tbody>\n",
       "</table>"
      ],
      "text/plain": [
       "#    source_id            pm         pmra                 e_pmra       pmdec                e_pmdec      parallax             e_parallax    gmag       bpmag      rpmag      fb_over_err    fr_over_err    ruwe        excess_factor    rv_gaia    e_rv_gaia    glon                glat                 teff_gspphot    teff_gspphot_lower    teff_gspphot_upper    logg_gspphot    logg_gspphot_lower    logg_gspphot_upper    mh_gspphot    mh_gspphot_lower    mh_gspphot_upper    distance_gspphot    distance_gspphot_lower    distance_gspphot_upper    ag_gspphot    ag_gspphot_lower    ag_gspphot_upper    mh_gspspec    mh_gspspec_lower    mh_gspspec_upper    alphafe_gspspec    alphafe_gspspec_lower    alphafe_gspspec_upper    fem_gspspec    fem_gspspec_lower    fem_gspspec_upper    spectraltype_esphs    ra        dec         jmag    kmag    ph_qual\n",
       "0    6341071024116923392  27.181486  26.219907673498525   0.1619937    7.165867662690853    0.15926693   0.8462159280166782   0.12653747    18.468872  19.508224  17.452581  25.009687      77.59609       0.98283386  1.3517543        nan        nan          302.9676499367185   -27.26768267853092   3799.133        3732.1882             3952.4932             4.3191          4.2565                4.3851                -0.6771       -0.779              -0.3774             1328.1719           1110.3856                 1523.1396                 0.5527        0.454               0.6938              nan           nan                 nan                 nan                nan                      nan                      nan            nan                  nan                                        nan       nan         nan     nan     --\n",
       "1    4611690760072888960  6.8924713  -6.16283580475118    0.43619978   3.0863599386693785   0.40768367   1.1372669643805726   0.34071845    19.688269  20.921812  18.517662  7.7283173      34.448048      1.0588416   1.4700757        nan        nan          302.9628286548731   -27.25695019518819   nan             nan                   nan                   nan             nan                   nan                   nan           nan                 nan                 nan                 nan                       nan                       nan           nan                 nan                 nan           nan                 nan                 nan                nan                      nan                      nan            nan                  nan                                        0.783867  -89.868309  16.567  14.901  BUU\n",
       "2    4611708008660299264  17.08801   15.516851761166475   0.081242345  -7.157333249113848   0.07781357   1.2855724542192457   0.06615926    17.507706  18.50154   16.532976  61.309105      194.06754      0.9743772   1.3233652        nan        nan          303.0014568841523   -27.404831574405826  4000.4795       3970.193              4025.0796             4.6917          4.6815                4.7024                -0.1676       -0.2143             -0.133              624.159             607.684                   638.4129                  0.513         0.4907              0.5373              nan           nan                 nan                 nan                nan                      nan                      nan            nan                  nan                  K                     0.268558  -89.71653   15.169  14.209  AAA\n",
       "3    4611709181188492928  6.5878043  4.821691903032647    0.034149557  -4.4889254028881815  0.034355145  0.8222923699537003   0.030214705   15.962487  16.491627  15.286262  229.36317      409.8019       0.9597021   1.2301626        nan        nan          303.01551745721014  -27.46239540245029   4887.0454       4839.9053             5161.509              4.1988          4.1877                4.273                 -0.6894       -0.7505             -0.4165             1388.719            1307.4613                 1527.9545                 0.2559        0.2211              0.4355              nan           nan                 nan                 nan                nan                      nan                      nan            nan                  nan                  G                     0.34258   -89.657608  14.428  13.751  AAA\n",
       "4    4611709387346922880  12.490191  12.39432274452295    0.057449825  1.5445518674661234   0.057337705  0.6999401747378959   0.049945816   16.996668  17.514515  16.347021  129.61122      278.62268      1.0217737   1.2158437        nan        nan          303.0176640705403   -27.47153258215086   4913.182        4848.237              4982.7627             4.7116          4.6903                4.7365                -0.9876       -1.0736             -0.8543             1057.1335           1004.3998                 1115.8271                 0.1751        0.125               0.2253              nan           nan                 nan                 nan                nan                      nan                      nan            nan                  nan                  G                     0.363665  -89.648338  15.516  14.838  AAB\n",
       "...  ...                  ...        ...                  ...          ...                  ...          ...                  ...           ...        ...        ...        ...            ...            ...         ...              ...        ...          ...                 ...                  ...             ...                   ...                   ...             ...                   ...                   ...           ...                 ...                 ...                 ...                       ...                       ...           ...                 ...                 ...           ...                 ...                 ...                ...                      ...                      ...            ...                  ...                  ...                   ...       ...         ...     ...     ...\n",
       "812  4612886822564461824  61.342426  56.92306878079999    0.1249683    22.861701753408674   0.12232917   6.842426813094137    0.09899294    17.847067  19.903294  16.506058  18.422266      258.6981       1.0231612   1.5566264        nan        nan          303.38300854090386  -29.041089333818462  3127.656        3126.7273             3129.291              4.9635          4.9613                4.966                 0.065         0.0563              0.0735              146.8128            145.5035                  148.0269                  0.7481        0.7366              0.7594              nan           nan                 nan                 nan                nan                      nan                      nan            nan                  nan                                        1.20566   -88.046265  14.502  13.663  AAA\n",
       "813  4612886861220777088  2.4308429  -1.863307704177515   0.021097505  -1.5611155571106174  0.021909082  0.872861443704937    0.01782017    14.847667  15.243402  14.285301  717.40906      1361.9264      0.9901175   1.210279         nan        nan          303.3603091361332   -29.054622345682514  5427.8994       5405.3057             5450.979              4.296           4.2849                4.3064                -0.3573       -0.3825             -0.3333             1089.6416           1071.1868                 1110.5289                 0.139         0.1263              0.1508              nan           nan                 nan                 nan                nan                      nan                      nan            nan                  nan                  F                     1.860193  -88.036919  13.57   13.184  AAA\n",
       "814  4612886895580518144  22.915434  22.851253060603284   0.07982483   1.7138654145737418   0.07778088   0.8022813979717222   0.06346507    17.36722   17.984463  16.627222  81.54515       236.02202      0.98161715  1.2429122        nan        nan          303.3861612733324   -29.044489345859354  4419.5264       4376.617              4452.461              4.7289          4.7152                4.7422                -0.715        -0.7731             -0.6603             945.1326            921.2568                  970.9032                  0.0741        0.0267              0.1115              nan           nan                 nan                 nan                nan                      nan                      nan            nan                  nan                  K                     1.151434  -88.042274  15.554  14.851  AAB\n",
       "815  4612887097442391552  2.9769835  -1.6916276689984315  0.11500653   -2.449658649958147   0.10786187   0.03004623204906711  0.089771524   17.975988  18.3664    17.467276  60.661457      85.21703       0.9351024   1.1786873        nan        nan          303.3762314186581   -29.067756145770147  5395.028        5381.5566             5410.751              4.7059          4.6796                4.7288                -1.3944       -1.529              -1.2556             2298.3345           2244.3726                 2351.086                  0.0046        0.0012              0.0126              nan           nan                 nan                 nan                nan                      nan                      nan            nan                  nan                                        1.539791  -88.021187  16.514  16.384  BUU\n",
       "816  4612887097442392960  18.201658  17.82729400469637    0.13861437   -3.672598048450666   0.13252057   0.7588729695366041   0.106975265   18.272455  19.29792   17.3309    27.579334      103.56836      1.0198756   1.2839427        nan        nan          303.38447666824254  -29.0669673051228    3807.5474       3783.7202             3921.53               4.8055          4.742                 4.8345                -0.5005       -0.5699             -0.347              716.0562            678.2218                  843.41                    0.2827        0.2477              0.3556              nan           nan                 nan                 nan                nan                      nan                      nan            nan                  nan                                        1.326856  -88.020576  16.221  15.119  BBC"
      ]
     },
     "execution_count": 82,
     "metadata": {},
     "output_type": "execute_result"
    }
   ],
   "source": [
    "gaia"
   ]
  },
  {
   "attachments": {},
   "cell_type": "markdown",
   "metadata": {},
   "source": [
    "Now, we are ready to query the whole data.\n",
    "\n",
    "It is better to run the code in dedicated python file instead of jupyter notebook. This way, we can run the code in the background. We can also run the code in parallel."
   ]
  }
 ],
 "metadata": {
  "kernelspec": {
   "display_name": "vaex",
   "language": "python",
   "name": "python3"
  },
  "language_info": {
   "codemirror_mode": {
    "name": "ipython",
    "version": 3
   },
   "file_extension": ".py",
   "mimetype": "text/x-python",
   "name": "python",
   "nbconvert_exporter": "python",
   "pygments_lexer": "ipython3",
   "version": "3.8.10"
  },
  "vscode": {
   "interpreter": {
    "hash": "2e98b01e139963c1272b06356b7ab7b4729889064e74152a80e8f95bb2c4292e"
   }
  }
 },
 "nbformat": 4,
 "nbformat_minor": 4
}
