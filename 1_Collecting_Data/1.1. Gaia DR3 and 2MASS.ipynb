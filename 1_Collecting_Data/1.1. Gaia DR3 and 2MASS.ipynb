{
 "cells": [
  {
   "attachments": {},
   "cell_type": "markdown",
   "metadata": {},
   "source": [
    "# The Beginning\n",
    "\n",
    "we need the following libraries installed:\n",
    "\n",
    "* `numpy`: to manipulate in vector array\n",
    "* `vaex`: to open and manipulate big data in dataframe\n",
    "* `astroquery`: to query Gaia DR3 and other catalogs"
   ]
  },
  {
   "cell_type": "code",
   "execution_count": 1,
   "metadata": {
    "execution": {
     "iopub.execute_input": "2023-01-14T15:44:41.043434Z",
     "iopub.status.busy": "2023-01-14T15:44:41.042823Z",
     "iopub.status.idle": "2023-01-14T15:44:41.050286Z",
     "shell.execute_reply": "2023-01-14T15:44:41.049182Z",
     "shell.execute_reply.started": "2023-01-14T15:44:41.043376Z"
    },
    "tags": []
   },
   "outputs": [],
   "source": [
    "import numpy as np\n",
    "import vaex\n",
    "from astroquery.gaia import Gaia\n",
    "from astroquery.utils.tap.core import Tap\n",
    "\n",
    "from datetime import datetime\n",
    "from os.path import join, abspath\n",
    "from glob import glob\n",
    "import sys\n",
    "from enum import Enum"
   ]
  },
  {
   "cell_type": "markdown",
   "metadata": {},
   "source": [
    "There are also many utilities functions in `utils.py` that we will use.\n",
    "Please be mindful."
   ]
  },
  {
   "cell_type": "code",
   "execution_count": 2,
   "metadata": {
    "execution": {
     "iopub.execute_input": "2023-01-14T15:34:56.071064Z",
     "iopub.status.busy": "2023-01-14T15:34:56.070494Z",
     "iopub.status.idle": "2023-01-14T15:34:56.076481Z",
     "shell.execute_reply": "2023-01-14T15:34:56.075432Z",
     "shell.execute_reply.started": "2023-01-14T15:34:56.071011Z"
    },
    "tags": []
   },
   "outputs": [
    {
     "data": {
      "text/plain": [
       "['/home2/s20321005/Thesis-Project/1_Collecting_Data',\n",
       " '/home2/s20321005/.conda/envs/vaex/lib/python38.zip',\n",
       " '/home2/s20321005/.conda/envs/vaex/lib/python3.8',\n",
       " '/home2/s20321005/.conda/envs/vaex/lib/python3.8/lib-dynload',\n",
       " '',\n",
       " '/home2/s20321005/.local/lib/python3.8/site-packages',\n",
       " '/home2/s20321005/.conda/envs/vaex/lib/python3.8/site-packages',\n",
       " '/home2/s20321005/Thesis-Project']"
      ]
     },
     "execution_count": 2,
     "metadata": {},
     "output_type": "execute_result"
    }
   ],
   "source": [
    "current = abspath('')\n",
    "root_dir = abspath(join(current, \"..\"))\n",
    "# add root_dir path to sys.path\n",
    "# to import modules from the root directory\n",
    "if not root_dir in sys.path:\n",
    "    sys.path.append(root_dir)\n",
    "sys.path"
   ]
  },
  {
   "attachments": {},
   "cell_type": "markdown",
   "metadata": {},
   "source": [
    "# Utility Functions"
   ]
  },
  {
   "cell_type": "code",
   "execution_count": 3,
   "metadata": {},
   "outputs": [],
   "source": [
    "import signal\n",
    "\n",
    "class TimeoutError(Exception):\n",
    "    pass\n",
    "\n",
    "def timeout(func, duration, args=()):\n",
    "    \"\"\"\n",
    "    Run a function with a time limit.\n",
    "\n",
    "    Args:\n",
    "        func (function): The function to run.\n",
    "        duration (int): The maximum number of seconds to allow the function to run.\n",
    "        args (tuple): The positional arguments to pass to the function. Defaults to an empty tuple.\n",
    "\n",
    "    Returns:\n",
    "        dict: A dictionary containing the results of the function call, or an error message if the function timed out or raised an exception.\n",
    "        The dictionary has two keys:\n",
    "            - \"data\": If the function completed successfully, this key maps to the return value of the function.\n",
    "              If the function failed or timed out, this key maps to None.\n",
    "            - \"error\": If the function failed or timed out, this key maps to a dictionary containing information about the error.\n",
    "              The dictionary has two keys: \"type\" (a string with the name of the exception) and \"message\" (a string with the error message).\n",
    "\n",
    "    Raises:\n",
    "        TimeoutError: If the function takes longer than `duration` seconds to complete.\n",
    "\n",
    "    Example usage:\n",
    "        result = timeout(launch_job, 10, args=(arg1, arg2))\n",
    "        if result[\"error\"]:\n",
    "            print(\"Error:\", result[\"error\"][\"type\"], result[\"error\"][\"message\"])\n",
    "        else:\n",
    "            print(\"Result:\", result[\"data\"])\n",
    "    \"\"\"\n",
    "    def handler(signum, frame):\n",
    "        raise TimeoutError(\"Function timed out\")\n",
    "\n",
    "    # Set the signal handler for SIGALRM\n",
    "    signal.signal(signal.SIGALRM, handler)\n",
    "    signal.alarm(duration)\n",
    "\n",
    "    try:\n",
    "        result = func(*args)\n",
    "        data = result\n",
    "        error = None\n",
    "    except TimeoutError:\n",
    "        data = None\n",
    "        error = {\"type\": \"TimeoutError\", \"message\": \"Function timed out\"}\n",
    "    except Exception as e:\n",
    "        data = None\n",
    "        error = {\"type\": type(e).__name__, \"message\": str(e)}\n",
    "\n",
    "    # Disable the alarm\n",
    "    signal.alarm(0)\n",
    "\n",
    "    return {\"data\": data, \"error\": error}"
   ]
  },
  {
   "cell_type": "code",
   "execution_count": 4,
   "metadata": {},
   "outputs": [],
   "source": [
    "def launch_job(job_func, query, cols=\"\", duration=10):\n",
    "    \"\"\"\n",
    "    Launch a job with a timeout.\n",
    "\n",
    "    Args:\n",
    "        job_func (func): The job to launch.\n",
    "        query (str): The query to run.\n",
    "        cols (str): Rename the cols name if needed.\n",
    "        duration (int): The timeout duration.\n",
    "\n",
    "    Returns:\n",
    "        df (vaex.dataframe): The dataframe or None.\n",
    "    \"\"\"\n",
    "    # run the job and wrap in timeout\n",
    "    job = timeout(job_func, args=(query,), duration=duration)\n",
    "    res = { \"data\": None, \"error\": None }\n",
    "    # print error if job failed\n",
    "    if job['data'] == None:\n",
    "        res[\"error\"] = job['error']\n",
    "    # convert the result into vaex.dataframe if successful\n",
    "    else:\n",
    "        result = job['data'].get_results()\n",
    "        df = result.to_pandas()\n",
    "        if cols != \"\":\n",
    "            df.columns = cols\n",
    "        df = vaex.from_pandas(df)\n",
    "        res[\"data\"] = df\n",
    "    return res"
   ]
  },
  {
   "cell_type": "code",
   "execution_count": 5,
   "metadata": {},
   "outputs": [],
   "source": [
    "def append_name(element, name):\n",
    "    \"\"\"\n",
    "    Append a table name to a column name.\n",
    "    \n",
    "    Parameters:\n",
    "    ----------\n",
    "    element: str \n",
    "        The column name.\n",
    "    name: str \n",
    "        The table name.\n",
    "\n",
    "    Returns:\n",
    "    -------\n",
    "        str: The column name with the table name appended.\n",
    "    \n",
    "    Example usage:\n",
    "    --------------\n",
    "        [in]:  append_name(\"id\", \"users\")\n",
    "\n",
    "        [out]: users.\\\"id\\\"\n",
    "\n",
    "        [in]:  append_name(\"id AS user_id\", \"users\")\n",
    "\n",
    "        [out]: users.\\\"id\\\" AS user_id\n",
    "    \"\"\"\n",
    "    string = element.split(\" AS \")\n",
    "    if(len(string) == 1):\n",
    "        return f\"{name}.\\\"{element}\\\"\"\n",
    "    else:\n",
    "        return f\"{name}.\\\"{string[0]}\\\" AS {string[1]}\""
   ]
  },
  {
   "cell_type": "code",
   "execution_count": 6,
   "metadata": {},
   "outputs": [],
   "source": [
    "from utils import safe_mkdir, delete_directory"
   ]
  },
  {
   "cell_type": "code",
   "execution_count": 7,
   "metadata": {
    "execution": {
     "iopub.execute_input": "2023-01-14T15:34:58.022211Z",
     "iopub.status.busy": "2023-01-14T15:34:58.021633Z",
     "iopub.status.idle": "2023-01-14T15:34:58.029227Z",
     "shell.execute_reply": "2023-01-14T15:34:58.028211Z",
     "shell.execute_reply.started": "2023-01-14T15:34:58.022157Z"
    },
    "tags": []
   },
   "outputs": [
    {
     "data": {
      "text/plain": [
       "'/home2/s20321005/Thesis-Project/Data'"
      ]
     },
     "execution_count": 7,
     "metadata": {},
     "output_type": "execute_result"
    }
   ],
   "source": [
    "# get the root of data directory\n",
    "root_data_dir = abspath(join(root_dir, \"Data\"))\n",
    "root_data_dir"
   ]
  },
  {
   "cell_type": "code",
   "execution_count": 8,
   "metadata": {
    "execution": {
     "iopub.execute_input": "2023-01-14T15:34:59.471392Z",
     "iopub.status.busy": "2023-01-14T15:34:59.470882Z",
     "iopub.status.idle": "2023-01-14T15:34:59.477756Z",
     "shell.execute_reply": "2023-01-14T15:34:59.476750Z",
     "shell.execute_reply.started": "2023-01-14T15:34:59.471342Z"
    },
    "tags": []
   },
   "outputs": [
    {
     "name": "stdout",
     "output_type": "stream",
     "text": [
      "Directory /home2/s20321005/Thesis-Project/Data/Gaia-2MASS already exist. Good to go!\n"
     ]
    }
   ],
   "source": [
    "# Create a directory for Gaia DR3 and 2MASS data\n",
    "# or if it already exists, just move on\n",
    "ra_name = \"Gaia-2MASS\"\n",
    "gaia_data_dir = join(root_data_dir, ra_name)\n",
    "safe_mkdir(gaia_data_dir)"
   ]
  },
  {
   "cell_type": "code",
   "execution_count": 9,
   "metadata": {
    "execution": {
     "iopub.execute_input": "2023-01-14T15:35:01.125855Z",
     "iopub.status.busy": "2023-01-14T15:35:01.125353Z",
     "iopub.status.idle": "2023-01-14T15:35:01.173509Z",
     "shell.execute_reply": "2023-01-14T15:35:01.172507Z",
     "shell.execute_reply.started": "2023-01-14T15:35:01.125807Z"
    },
    "tags": []
   },
   "outputs": [
    {
     "name": "stdout",
     "output_type": "stream",
     "text": [
      "Directory /home2/s20321005/Thesis-Project/Data/2MASS already exist. Good to go!\n"
     ]
    }
   ],
   "source": [
    "# Do the same for 2MASS data\n",
    "ra_name = \"2MASS\"\n",
    "tmass_data_dir = join(root_data_dir, ra_name)\n",
    "safe_mkdir(tmass_data_dir)"
   ]
  },
  {
   "attachments": {},
   "cell_type": "markdown",
   "metadata": {},
   "source": [
    "### defining columns"
   ]
  },
  {
   "attachments": {},
   "cell_type": "markdown",
   "metadata": {},
   "source": [
    "there are many columns and tables in Gaia DR3 that we need.\n",
    "\n",
    "gaiadr3.gaia_source AS gdr3:\n",
    "| Name | Description | Unit |\n",
    "| --- | --- | --- |\n",
    "| source_id | unique source identifier | - |\n",
    "| ra | right ascension | deg |\n",
    "| dec | declination | deg |\n",
    "| pmra | proper motion in right ascension (already corrected for declination) | mas/yr |\n",
    "| pmdec | proper motion in declination | mas/yr |\n",
    "| pmra_error (e_pmra) | error of proper motion in right ascension | mas/yr |\n",
    "| pmdec_error (e_pmdec) | error of proper motion in declination | mas/yr |\n",
    "| parallax | parallax | mas |\n",
    "| parallax_error (e_parallax) | error of parallax | mas |\n",
    "| phot_g_mean_mag (gmag) | mean magnitude in G band | mag |\n",
    "| phot_bp_mean_mag (bpmag) | mean magnitude in BP band | mag |\n",
    "| phot_rp_mean_mag (rpmag) | mean magnitude in RP band | mag |\n",
    "| phot_bp_mean_flux_over_error (fb_over_err) | mean flux in BP band over error | - |\n",
    "| phot_rp_mean_flux_over_error (fr_over_err) | mean flux in RP band over error | - |\n",
    "| ruwe | robust estimator of the weighted scatter of the astrometric solution | - |\n",
    "| phot_bp_rp_excess_factor (excess_factor) | excess factor of the BP-RP color | - |\n",
    "| radial_velocity (rv_gaia) | radial velocity | km/s |\n",
    "| radial_velocity_error (e_rv_gaia) | error of radial velocity | km/s |\n",
    "| l (glon) | galactic longitude | deg |\n",
    "| b (glat) | galactic latitude | deg |"
   ]
  },
  {
   "attachments": {},
   "cell_type": "markdown",
   "metadata": {},
   "source": [
    "gaiadr3.tmass_psc_xsc_join AS join_table:\n",
    "| Name                    | Description                                                     | Unit  |\n",
    "|-------------------------|-----------------------------------------------------------------|-------|\n",
    "|`original_psc_source_id`| crossmatch table from gaia to 2mass|"
   ]
  },
  {
   "cell_type": "code",
   "execution_count": 10,
   "metadata": {
    "execution": {
     "iopub.execute_input": "2023-01-08T05:50:45.093296Z",
     "iopub.status.busy": "2023-01-08T05:50:45.092732Z",
     "iopub.status.idle": "2023-01-08T05:50:45.108467Z",
     "shell.execute_reply": "2023-01-08T05:50:45.107765Z",
     "shell.execute_reply.started": "2023-01-08T05:50:45.093241Z"
    },
    "tags": []
   },
   "outputs": [
    {
     "data": {
      "text/plain": [
       "['gdr3.\"source_id\"',\n",
       " 'gdr3.\"ra\"',\n",
       " 'gdr3.\"dec\"',\n",
       " 'gdr3.\"pm\"',\n",
       " 'gdr3.\"pmra\"',\n",
       " 'gdr3.\"pmra_error\" AS e_pmra',\n",
       " 'gdr3.\"pmdec\"',\n",
       " 'gdr3.\"pmdec_error\" AS e_pmdec',\n",
       " 'gdr3.\"parallax\"',\n",
       " 'gdr3.\"parallax_error\" AS e_parallax',\n",
       " 'gdr3.\"phot_g_mean_mag\" AS g',\n",
       " 'gdr3.\"phot_bp_mean_mag\" AS bp',\n",
       " 'gdr3.\"phot_rp_mean_mag\" AS rp',\n",
       " 'gdr3.\"phot_bp_mean_flux_over_error\" AS fb_over_err',\n",
       " 'gdr3.\"phot_rp_mean_flux_over_error\" AS fr_over_err',\n",
       " 'gdr3.\"ruwe\"',\n",
       " 'gdr3.\"phot_bp_rp_excess_factor\" AS excess_factor',\n",
       " 'gdr3.\"radial_velocity\" AS rv_gaia',\n",
       " 'gdr3.\"radial_velocity_error\" AS e_rv_gaia',\n",
       " 'gdr3.\"l\"',\n",
       " 'gdr3.\"b\"',\n",
       " 'join_table.\"original_ext_source_id\" AS tmass_id']"
      ]
     },
     "execution_count": 10,
     "metadata": {},
     "output_type": "execute_result"
    }
   ],
   "source": [
    "column_gaia = [\n",
    "    \"source_id\", \"ra\", \"dec\",\n",
    "    \"pm\", \"pmra\", \"pmra_error AS e_pmra\", \"pmdec\", \"pmdec_error AS e_pmdec\", \n",
    "    \"parallax\", \"parallax_error AS e_parallax\", \n",
    "    \"phot_g_mean_mag AS g\",\t\"phot_bp_mean_mag AS bp\", \"phot_rp_mean_mag AS rp\", \n",
    "    \"phot_bp_mean_flux_over_error AS fb_over_err\", \n",
    "    \"phot_rp_mean_flux_over_error AS fr_over_err\", \n",
    "    \"ruwe\", \n",
    "    \"phot_bp_rp_excess_factor AS excess_factor\", \n",
    "    \"radial_velocity AS rv_gaia\", \"radial_velocity_error AS e_rv_gaia\",\n",
    "    \"l\", \"b\", \n",
    "]\n",
    "\n",
    "\n",
    "column_join_table = [\"original_ext_source_id AS tmass_id\"]\n",
    "\n",
    "gaia_alias = \"gdr3\"\n",
    "join_table_alias = \"join_table\"\n",
    "\n",
    "column_gaia = list(map(lambda x: append_name(x, gaia_alias), column_gaia))\n",
    "column_join_table = list(map(lambda x: append_name(x, join_table_alias), column_join_table))\n",
    "\n",
    "columns = column_gaia + column_join_table\n",
    "columns"
   ]
  },
  {
   "attachments": {},
   "cell_type": "markdown",
   "metadata": {},
   "source": [
    "Test gaia query"
   ]
  },
  {
   "cell_type": "code",
   "execution_count": 11,
   "metadata": {},
   "outputs": [
    {
     "name": "stdout",
     "output_type": "stream",
     "text": [
      "{'type': 'TimeoutError', 'message': 'Function timed out'}\n"
     ]
    }
   ],
   "source": [
    "TOP = 100\n",
    "query_gaia = f\"\"\"\n",
    "SELECT TOP {TOP} {', '.join(columns)}\n",
    "FROM gaiadr3.gaia_source AS {gaia_alias}\n",
    "RIGHT JOIN gaiadr3.tmass_psc_xsc_best_neighbour AS {join_table_alias} ON {join_table_alias}.source_id = {gaia_alias}.source_id\n",
    "WHERE {gaia_alias}.ra BETWEEN 0 AND 1\n",
    "AND {gaia_alias}.dec BETWEEN 0 AND 1\n",
    "AND {join_table_alias}.original_ext_source_id IS NOT NULL\n",
    "\"\"\"\n",
    "# test for timeout error\n",
    "job = launch_job(Gaia.launch_job, query_gaia, duration=2)\n",
    "df_gaia = None if job[\"error\"] else job[\"data\"]\n",
    "print(job[\"error\"])"
   ]
  },
  {
   "cell_type": "code",
   "execution_count": 12,
   "metadata": {},
   "outputs": [
    {
     "name": "stdout",
     "output_type": "stream",
     "text": [
      "None\n"
     ]
    }
   ],
   "source": [
    "# increase the timeout duration, should be working now\n",
    "job = launch_job(Gaia.launch_job, query_gaia, duration=20)\n",
    "df_gaia = None if job[\"error\"] else job[\"data\"]\n",
    "print(job[\"error\"])"
   ]
  },
  {
   "cell_type": "code",
   "execution_count": 13,
   "metadata": {},
   "outputs": [
    {
     "data": {
      "text/html": [
       "<table>\n",
       "<thead>\n",
       "<tr><th>#                             </th><th>source_id          </th><th>ra                   </th><th>dec                </th><th>pm       </th><th>pmra               </th><th>e_pmra     </th><th>pmdec              </th><th>e_pmdec    </th><th>parallax          </th><th>e_parallax  </th><th>g        </th><th>bp       </th><th>rp        </th><th>fb_over_err  </th><th>fr_over_err  </th><th>ruwe     </th><th>excess_factor  </th><th>rv_gaia  </th><th>e_rv_gaia  </th><th>l                </th><th>b                  </th><th>tmass_id        </th></tr>\n",
       "</thead>\n",
       "<tbody>\n",
       "<tr><td><i style='opacity: 0.6'>0</i> </td><td>2738301239023951872</td><td>0.0006456433664899519</td><td>0.8097416453527122 </td><td>15.452848</td><td>-2.4396361203715675</td><td>0.213626   </td><td>-15.25905314657402 </td><td>0.08839811 </td><td>1.5546639904202617</td><td>0.15466519  </td><td>17.89857 </td><td>19.039177</td><td>16.878193 </td><td>38.471077    </td><td>143.97571    </td><td>0.9964819</td><td>1.3310089      </td><td>nan      </td><td>nan        </td><td>96.97304732424277</td><td>-59.444562933467886</td><td>00000015+0048353</td></tr>\n",
       "<tr><td><i style='opacity: 0.6'>1</i> </td><td>2738215374037617280</td><td>0.0012629950677771962</td><td>0.34922240309758057</td><td>16.528448</td><td>7.622902933696334  </td><td>0.45880646 </td><td>-14.66563928781094 </td><td>0.3445331  </td><td>1.9316520479956616</td><td>0.4761021   </td><td>19.701853</td><td>20.95092 </td><td>18.441822 </td><td>8.090968     </td><td>56.30646     </td><td>1.0155579</td><td>1.5729879      </td><td>nan      </td><td>nan        </td><td>96.61675636214513</td><td>-59.86845292011402 </td><td>00000029+0020573</td></tr>\n",
       "<tr><td><i style='opacity: 0.6'>2</i> </td><td>2738294646249950464</td><td>0.0012909602109158805</td><td>0.6651158011662879 </td><td>16.920013</td><td>15.727889485752868 </td><td>0.030565234</td><td>-6.2386182378986526</td><td>0.020169798</td><td>0.7111678925386531</td><td>0.029599223 </td><td>14.743093</td><td>15.096594</td><td>14.216369 </td><td>565.61774    </td><td>1347.9517    </td><td>1.0475903</td><td>1.2074407      </td><td>nan      </td><td>nan        </td><td>96.86294240272038</td><td>-59.577965704038135</td><td>00000029+0039544</td></tr>\n",
       "<tr><td><i style='opacity: 0.6'>3</i> </td><td>2738223208058015488</td><td>0.0013241720443225478</td><td>0.5323709244397402 </td><td>4.151558 </td><td>-0.6464668177867251</td><td>0.3133622  </td><td>-4.100916174464353 </td><td>0.20489562 </td><td>1.0249887525602555</td><td>0.27208024  </td><td>19.067236</td><td>20.3389  </td><td>17.999353 </td><td>17.2238      </td><td>64.74676     </td><td>1.041015 </td><td>1.350354       </td><td>nan      </td><td>nan        </td><td>96.76009244969302</td><td>-59.70010809470707 </td><td>00000033+0031565</td></tr>\n",
       "<tr><td><i style='opacity: 0.6'>4</i> </td><td>2738223212353886336</td><td>0.0019276238052624622</td><td>0.525288354580034  </td><td>3.2468765</td><td>-0.8893183875639226</td><td>0.100175604</td><td>-3.122710383878679 </td><td>0.056938235</td><td>0.3968673345305549</td><td>0.0785026   </td><td>17.077734</td><td>17.48083 </td><td>16.532284 </td><td>108.20531    </td><td>225.85867    </td><td>1.0158308</td><td>1.1959527      </td><td>nan      </td><td>nan        </td><td>96.75568080515606</td><td>-59.70685893017676 </td><td>00000046+0031309</td></tr>\n",
       "<tr><td>...                           </td><td>...                </td><td>...                  </td><td>...                </td><td>...      </td><td>...                </td><td>...        </td><td>...                </td><td>...        </td><td>...               </td><td>...         </td><td>...      </td><td>...      </td><td>...       </td><td>...          </td><td>...          </td><td>...      </td><td>...            </td><td>...      </td><td>...        </td><td>...              </td><td>...                </td><td>...             </td></tr>\n",
       "<tr><td><i style='opacity: 0.6'>95</i></td><td>2738195823346461696</td><td>0.04559675228353849  </td><td>0.21353232932709998</td><td>15.559514</td><td>3.3960153556482204 </td><td>0.111507   </td><td>-15.184384887899478</td><td>0.05912127 </td><td>0.7933356524805847</td><td>0.091132306 </td><td>17.281574</td><td>17.866968</td><td>16.560892 </td><td>109.7085     </td><td>242.68715    </td><td>1.0482442</td><td>1.2404666      </td><td>nan      </td><td>nan        </td><td>96.59115008984638</td><td>-60.0106243335588  </td><td>00001093+0012488</td></tr>\n",
       "<tr><td><i style='opacity: 0.6'>96</i></td><td>2738301689996346240</td><td>0.04684677458145219  </td><td>0.8303576704255886 </td><td>16.706104</td><td>-7.863631303873304 </td><td>0.061871137</td><td>-14.739648030156722</td><td>0.022348046</td><td>1.1508000937791572</td><td>0.035905667 </td><td>14.722095</td><td>15.101274</td><td>14.174364 </td><td>831.60004    </td><td>989.8217     </td><td>1.0230855</td><td>1.2085584      </td><td>nan      </td><td>nan        </td><td>97.0725348330201 </td><td>-59.44353644718163 </td><td>00001125+0049495</td></tr>\n",
       "<tr><td><i style='opacity: 0.6'>97</i></td><td>2738222319000689408</td><td>0.047547745390467175 </td><td>0.521952840089972  </td><td>7.587917 </td><td>-1.1426196762730185</td><td>0.022207774</td><td>-7.501393538766906 </td><td>0.014980014</td><td>0.6072870383846353</td><td>0.020025257 </td><td>13.952925</td><td>14.330565</td><td>13.405709 </td><td>993.43005    </td><td>1436.459     </td><td>1.0415099</td><td>1.208953       </td><td>48.437172</td><td>3.0808918  </td><td>96.83630948542306</td><td>-59.72781239712606 </td><td>00001141+0031190</td></tr>\n",
       "<tr><td><i style='opacity: 0.6'>98</i></td><td>2738246954933098240</td><td>0.047659594083887785 </td><td>0.5839258913941553 </td><td>9.417106 </td><td>3.965888827029452  </td><td>0.06365672 </td><td>-8.54128865703624  </td><td>0.046550024</td><td>0.2109612023333499</td><td>0.06531078  </td><td>16.177603</td><td>16.526539</td><td>15.6474905</td><td>341.083      </td><td>456.2808     </td><td>1.0173217</td><td>1.2117829      </td><td>nan      </td><td>nan        </td><td>96.88456032198424</td><td>-59.670820964247106</td><td>00001143+0035022</td></tr>\n",
       "<tr><td><i style='opacity: 0.6'>99</i></td><td>2738189226276680960</td><td>0.04785007183869447  </td><td>0.06151367670815005</td><td>nan      </td><td>nan                </td><td>nan        </td><td>nan                </td><td>nan        </td><td>nan               </td><td>nan         </td><td>21.318129</td><td>20.31148 </td><td>18.743277 </td><td>8.576155     </td><td>25.480307    </td><td>nan      </td><td>6.3426137      </td><td>nan      </td><td>nan        </td><td>96.47469420743467</td><td>-60.151126425875304</td><td>00001142+0003417</td></tr>\n",
       "</tbody>\n",
       "</table>"
      ],
      "text/plain": [
       "#    source_id            ra                     dec                  pm         pmra                 e_pmra       pmdec                e_pmdec      parallax            e_parallax    g          bp         rp          fb_over_err    fr_over_err    ruwe       excess_factor    rv_gaia    e_rv_gaia    l                  b                    tmass_id\n",
       "0    2738301239023951872  0.0006456433664899519  0.8097416453527122   15.452848  -2.4396361203715675  0.213626     -15.25905314657402   0.08839811   1.5546639904202617  0.15466519    17.89857   19.039177  16.878193   38.471077      143.97571      0.9964819  1.3310089        nan        nan          96.97304732424277  -59.444562933467886  00000015+0048353\n",
       "1    2738215374037617280  0.0012629950677771962  0.34922240309758057  16.528448  7.622902933696334    0.45880646   -14.66563928781094   0.3445331    1.9316520479956616  0.4761021     19.701853  20.95092   18.441822   8.090968       56.30646       1.0155579  1.5729879        nan        nan          96.61675636214513  -59.86845292011402   00000029+0020573\n",
       "2    2738294646249950464  0.0012909602109158805  0.6651158011662879   16.920013  15.727889485752868   0.030565234  -6.2386182378986526  0.020169798  0.7111678925386531  0.029599223   14.743093  15.096594  14.216369   565.61774      1347.9517      1.0475903  1.2074407        nan        nan          96.86294240272038  -59.577965704038135  00000029+0039544\n",
       "3    2738223208058015488  0.0013241720443225478  0.5323709244397402   4.151558   -0.6464668177867251  0.3133622    -4.100916174464353   0.20489562   1.0249887525602555  0.27208024    19.067236  20.3389    17.999353   17.2238        64.74676       1.041015   1.350354         nan        nan          96.76009244969302  -59.70010809470707   00000033+0031565\n",
       "4    2738223212353886336  0.0019276238052624622  0.525288354580034    3.2468765  -0.8893183875639226  0.100175604  -3.122710383878679   0.056938235  0.3968673345305549  0.0785026     17.077734  17.48083   16.532284   108.20531      225.85867      1.0158308  1.1959527        nan        nan          96.75568080515606  -59.70685893017676   00000046+0031309\n",
       "...  ...                  ...                    ...                  ...        ...                  ...          ...                  ...          ...                 ...           ...        ...        ...         ...            ...            ...        ...              ...        ...          ...                ...                  ...\n",
       "95   2738195823346461696  0.04559675228353849    0.21353232932709998  15.559514  3.3960153556482204   0.111507     -15.184384887899478  0.05912127   0.7933356524805847  0.091132306   17.281574  17.866968  16.560892   109.7085       242.68715      1.0482442  1.2404666        nan        nan          96.59115008984638  -60.0106243335588    00001093+0012488\n",
       "96   2738301689996346240  0.04684677458145219    0.8303576704255886   16.706104  -7.863631303873304   0.061871137  -14.739648030156722  0.022348046  1.1508000937791572  0.035905667   14.722095  15.101274  14.174364   831.60004      989.8217       1.0230855  1.2085584        nan        nan          97.0725348330201   -59.44353644718163   00001125+0049495\n",
       "97   2738222319000689408  0.047547745390467175   0.521952840089972    7.587917   -1.1426196762730185  0.022207774  -7.501393538766906   0.014980014  0.6072870383846353  0.020025257   13.952925  14.330565  13.405709   993.43005      1436.459       1.0415099  1.208953         48.437172  3.0808918    96.83630948542306  -59.72781239712606   00001141+0031190\n",
       "98   2738246954933098240  0.047659594083887785   0.5839258913941553   9.417106   3.965888827029452    0.06365672   -8.54128865703624    0.046550024  0.2109612023333499  0.06531078    16.177603  16.526539  15.6474905  341.083        456.2808       1.0173217  1.2117829        nan        nan          96.88456032198424  -59.670820964247106  00001143+0035022\n",
       "99   2738189226276680960  0.04785007183869447    0.06151367670815005  nan        nan                  nan          nan                  nan          nan                 nan           21.318129  20.31148   18.743277   8.576155       25.480307      nan        6.3426137        nan        nan          96.47469420743467  -60.151126425875304  00001142+0003417"
      ]
     },
     "execution_count": 13,
     "metadata": {},
     "output_type": "execute_result"
    }
   ],
   "source": [
    "df_gaia"
   ]
  },
  {
   "attachments": {},
   "cell_type": "markdown",
   "metadata": {},
   "source": [
    "## 2MASS"
   ]
  },
  {
   "attachments": {},
   "cell_type": "markdown",
   "metadata": {},
   "source": [
    "Querying from tap API is a bit different. The resulting table has no column names.\n",
    "\n",
    "We need to rename the table columns names"
   ]
  },
  {
   "cell_type": "code",
   "execution_count": 12,
   "metadata": {
    "execution": {
     "iopub.execute_input": "2023-01-14T15:35:25.104058Z",
     "iopub.status.busy": "2023-01-14T15:35:25.103382Z",
     "iopub.status.idle": "2023-01-14T15:35:25.109999Z",
     "shell.execute_reply": "2023-01-14T15:35:25.108984Z",
     "shell.execute_reply.started": "2023-01-14T15:35:25.104004Z"
    },
    "tags": []
   },
   "outputs": [
    {
     "data": {
      "text/plain": [
       "['fp_psc.\"ra\"',\n",
       " 'fp_psc.\"dec\"',\n",
       " 'fp_psc.\"j_m\"',\n",
       " 'fp_psc.\"k_m\"',\n",
       " 'fp_psc.\"designation\"',\n",
       " 'fp_psc.\"ph_qual\"',\n",
       " 'fp_psc.\"use_src\"',\n",
       " 'fp_psc.\"rd_flg\"']"
      ]
     },
     "execution_count": 12,
     "metadata": {},
     "output_type": "execute_result"
    }
   ],
   "source": [
    "# 2MASS tap endpoint\n",
    "tap_tmass = Tap(url=\"https://irsa.ipac.caltech.edu/TAP/sync\")\n",
    "\n",
    "columns_tmass = [\"ra\", \"dec\",\"j_m\", \"k_m\", \"designation\", \"ph_qual\", \"use_src\", \"rd_flg\"]\n",
    "\n",
    "# rename the table columns as \n",
    "columns_tmass_names = [\"ra\", \"dec\", \"j\", \"k\", \"designation\", \"ph_qual\", \"use_src\", \"rd_flg\"]\n",
    "\n",
    "tmass_table = \"fp_psc\"\n",
    "column_tmass = list(map(lambda x: append_name(x, tmass_table), columns_tmass))\n",
    "column_tmass"
   ]
  },
  {
   "attachments": {},
   "cell_type": "markdown",
   "metadata": {},
   "source": [
    "Test 2MASS endpoint"
   ]
  },
  {
   "cell_type": "markdown",
   "metadata": {},
   "source": [
    "AND (ph_qual like 'A__' OR (rd_flg like '1__' OR rd_flg like '3__'))\n",
    "AND (ph_qual like '__A' OR (rd_flg like '__1' OR rd_flg like '__3')) \n",
    "AND use_src='1' AND ext_key is null\n",
    "AND (j_m-k_m) > -0.05\n",
    "AND (j_m-k_m) < 1.0\n",
    "AND j_m < 13.5 AND j_m > 2"
   ]
  },
  {
   "cell_type": "code",
   "execution_count": 13,
   "metadata": {},
   "outputs": [
    {
     "name": "stdout",
     "output_type": "stream",
     "text": [
      "{'type': 'TimeoutError', 'message': 'Function timed out'}\n"
     ]
    }
   ],
   "source": [
    "TOP = 100\n",
    "query_tmass = f\"\"\"\n",
    "SELECT TOP {TOP} {\", \".join(columns_tmass)} \n",
    "FROM {tmass_table}\n",
    "WHERE ra BETWEEN 0 AND 1\n",
    "AND dec BETWEEN 0 AND 1\n",
    "\"\"\"\n",
    "# should timeout\n",
    "job_tmass = launch_job(tap_tmass.launch_job, query_tmass, cols=columns_tmass_names, duration=2)\n",
    "df_tmass = None if job_tmass[\"error\"] else job_tmass[\"data\"]\n",
    "print(job_tmass[\"error\"])"
   ]
  },
  {
   "cell_type": "code",
   "execution_count": 17,
   "metadata": {},
   "outputs": [
    {
     "name": "stdout",
     "output_type": "stream",
     "text": [
      "None\n"
     ]
    }
   ],
   "source": [
    "job_tmass = launch_job(tap_tmass.launch_job, query_tmass, cols=columns_tmass_names, duration=10)\n",
    "df_tmass = None if job_tmass[\"error\"] else job_tmass[\"data\"]\n",
    "print(job_tmass[\"error\"])"
   ]
  },
  {
   "cell_type": "code",
   "execution_count": 18,
   "metadata": {},
   "outputs": [
    {
     "data": {
      "text/html": [
       "<table>\n",
       "<thead>\n",
       "<tr><th>#                             </th><th>ra      </th><th>dec     </th><th>j     </th><th>k     </th><th>designation     </th><th>ph_qual  </th><th>use_src  </th><th>rd_flg  </th></tr>\n",
       "</thead>\n",
       "<tbody>\n",
       "<tr><td><i style='opacity: 0.6'>0</i> </td><td>0.000664</td><td>0.809816</td><td>15.43 </td><td>14.721</td><td>00000015+0048353</td><td>AAA      </td><td>1        </td><td>222     </td></tr>\n",
       "<tr><td><i style='opacity: 0.6'>1</i> </td><td>0.001234</td><td>0.349274</td><td>16.56 </td><td>15.455</td><td>00000029+0020573</td><td>ABC      </td><td>1        </td><td>222     </td></tr>\n",
       "<tr><td><i style='opacity: 0.6'>2</i> </td><td>0.001245</td><td>0.665133</td><td>13.609</td><td>13.182</td><td>00000029+0039544</td><td>AAA      </td><td>1        </td><td>222     </td></tr>\n",
       "<tr><td><i style='opacity: 0.6'>3</i> </td><td>0.001414</td><td>0.532371</td><td>16.45 </td><td>15.33 </td><td>00000033+0031565</td><td>ACB      </td><td>1        </td><td>222     </td></tr>\n",
       "<tr><td><i style='opacity: 0.6'>4</i> </td><td>0.001945</td><td>0.52526 </td><td>15.891</td><td>15.267</td><td>00000046+0031309</td><td>ABB      </td><td>1        </td><td>222     </td></tr>\n",
       "<tr><td>...                           </td><td>...     </td><td>...     </td><td>...   </td><td>...   </td><td>...             </td><td>...      </td><td>...      </td><td>...     </td></tr>\n",
       "<tr><td><i style='opacity: 0.6'>95</i></td><td>0.043312</td><td>0.607167</td><td>15.152</td><td>14.65 </td><td>00001039+0036258</td><td>ABB      </td><td>1        </td><td>222     </td></tr>\n",
       "<tr><td><i style='opacity: 0.6'>96</i></td><td>0.043556</td><td>0.698789</td><td>17.21 </td><td>15.542</td><td>00001045+0041556</td><td>CCC      </td><td>0        </td><td>222     </td></tr>\n",
       "<tr><td><i style='opacity: 0.6'>97</i></td><td>0.043576</td><td>0.693381</td><td>15.954</td><td>14.987</td><td>00001045+0041361</td><td>AAB      </td><td>1        </td><td>222     </td></tr>\n",
       "<tr><td><i style='opacity: 0.6'>98</i></td><td>0.044623</td><td>0.91675 </td><td>16.83 </td><td>16.921</td><td>00001070+0055003</td><td>BCU      </td><td>0        </td><td>220     </td></tr>\n",
       "<tr><td><i style='opacity: 0.6'>99</i></td><td>0.044682</td><td>0.088436</td><td>14.331</td><td>13.546</td><td>00001072+0005183</td><td>AAA      </td><td>1        </td><td>222     </td></tr>\n",
       "</tbody>\n",
       "</table>"
      ],
      "text/plain": [
       "#    ra        dec       j       k       designation       ph_qual    use_src    rd_flg\n",
       "0    0.000664  0.809816  15.43   14.721  00000015+0048353  AAA        1          222\n",
       "1    0.001234  0.349274  16.56   15.455  00000029+0020573  ABC        1          222\n",
       "2    0.001245  0.665133  13.609  13.182  00000029+0039544  AAA        1          222\n",
       "3    0.001414  0.532371  16.45   15.33   00000033+0031565  ACB        1          222\n",
       "4    0.001945  0.52526   15.891  15.267  00000046+0031309  ABB        1          222\n",
       "...  ...       ...       ...     ...     ...               ...        ...        ...\n",
       "95   0.043312  0.607167  15.152  14.65   00001039+0036258  ABB        1          222\n",
       "96   0.043556  0.698789  17.21   15.542  00001045+0041556  CCC        0          222\n",
       "97   0.043576  0.693381  15.954  14.987  00001045+0041361  AAB        1          222\n",
       "98   0.044623  0.91675   16.83   16.921  00001070+0055003  BCU        0          220\n",
       "99   0.044682  0.088436  14.331  13.546  00001072+0005183  AAA        1          222"
      ]
     },
     "execution_count": 18,
     "metadata": {},
     "output_type": "execute_result"
    }
   ],
   "source": [
    "df_tmass"
   ]
  },
  {
   "attachments": {},
   "cell_type": "markdown",
   "metadata": {},
   "source": [
    "The crossmatch table being used have some information to be considered.\n",
    "\n",
    "The crossmatch from Gaia to 2MASS (dense survey) can have mates. Two or more\n",
    "Gaia objects with the same best neighbour in 2MASS are called mates. Therefore,\n",
    "there can be duplicates in the crossmatch table.\n",
    "\n",
    "`tmass_psc_xsc_best_neighbour` table contains gaia id `source_id` and `original_ext_source_id`.\n",
    "This table contains every objects from Gaia that have companion in 2MASS.\n",
    "Therefore, every gaia object in the table only have one 2MASS object, but the corresponding 2MASS object could be duplicated.\n",
    "\n",
    "The problem now is that, the 2MASS object matched to the Gaia object can the same one. Ergo, duplicates.\n",
    "One way to mitigate the problem is by choosing the first object in duplicates.\n",
    "Illustration:\n",
    "\n",
    "    gaia_id | tmass_id\n",
    "    1       | 1\n",
    "    2       | 1\n",
    "    3       | 2\n",
    "    4       | 3\n",
    "    5       | 4\n",
    "    6       | 4\n",
    "\n",
    "Rudimentary solution: Just drop the duplicates, and keep the first one.\n",
    "\n",
    "    gaia_id | tmass_id\n",
    "    1       | 1\n",
    "    3       | 2\n",
    "    4       | 3\n",
    "    5       | 4\n",
    "    "
   ]
  },
  {
   "attachments": {},
   "cell_type": "markdown",
   "metadata": {},
   "source": [
    "crossmatch gaia and 2mass"
   ]
  },
  {
   "cell_type": "code",
   "execution_count": 19,
   "metadata": {},
   "outputs": [
    {
     "data": {
      "text/html": [
       "<table>\n",
       "<thead>\n",
       "<tr><th>#                             </th><th>source_id          </th><th>ra                   </th><th>dec                </th><th>pm       </th><th>pmra               </th><th>e_pmra     </th><th>pmdec              </th><th>e_pmdec    </th><th>parallax           </th><th>e_parallax  </th><th>g        </th><th>bp       </th><th>rp       </th><th>fb_over_err  </th><th>fr_over_err  </th><th>ruwe      </th><th>excess_factor  </th><th>rv_gaia  </th><th>e_rv_gaia  </th><th>l                </th><th>b                  </th><th>tmass_id        </th><th>j     </th><th>k     </th><th>designation     </th><th>ph_qual  </th><th>use_src  </th><th>rd_flg  </th></tr>\n",
       "</thead>\n",
       "<tbody>\n",
       "<tr><td><i style='opacity: 0.6'>0</i> </td><td>2738301239023951872</td><td>0.0006456433664899519</td><td>0.8097416453527122 </td><td>15.452848</td><td>-2.4396361203715675</td><td>0.213626   </td><td>-15.25905314657402 </td><td>0.08839811 </td><td>1.5546639904202617 </td><td>0.15466519  </td><td>17.89857 </td><td>19.039177</td><td>16.878193</td><td>38.471077    </td><td>143.97571    </td><td>0.9964819 </td><td>1.3310089      </td><td>nan      </td><td>nan        </td><td>96.97304732424277</td><td>-59.444562933467886</td><td>00000015+0048353</td><td>15.43 </td><td>14.721</td><td>00000015+0048353</td><td>AAA      </td><td>1        </td><td>222     </td></tr>\n",
       "<tr><td><i style='opacity: 0.6'>1</i> </td><td>2738215374037617280</td><td>0.0012629950677771962</td><td>0.34922240309758057</td><td>16.528448</td><td>7.622902933696334  </td><td>0.45880646 </td><td>-14.66563928781094 </td><td>0.3445331  </td><td>1.9316520479956616 </td><td>0.4761021   </td><td>19.701853</td><td>20.95092 </td><td>18.441822</td><td>8.090968     </td><td>56.30646     </td><td>1.0155579 </td><td>1.5729879      </td><td>nan      </td><td>nan        </td><td>96.61675636214513</td><td>-59.86845292011402 </td><td>00000029+0020573</td><td>16.56 </td><td>15.455</td><td>00000029+0020573</td><td>ABC      </td><td>1        </td><td>222     </td></tr>\n",
       "<tr><td><i style='opacity: 0.6'>2</i> </td><td>2738294646249950464</td><td>0.0012909602109158805</td><td>0.6651158011662879 </td><td>16.920013</td><td>15.727889485752868 </td><td>0.030565234</td><td>-6.2386182378986526</td><td>0.020169798</td><td>0.7111678925386531 </td><td>0.029599223 </td><td>14.743093</td><td>15.096594</td><td>14.216369</td><td>565.61774    </td><td>1347.9517    </td><td>1.0475903 </td><td>1.2074407      </td><td>nan      </td><td>nan        </td><td>96.86294240272038</td><td>-59.577965704038135</td><td>00000029+0039544</td><td>13.609</td><td>13.182</td><td>00000029+0039544</td><td>AAA      </td><td>1        </td><td>222     </td></tr>\n",
       "<tr><td><i style='opacity: 0.6'>3</i> </td><td>2738223208058015488</td><td>0.0013241720443225478</td><td>0.5323709244397402 </td><td>4.151558 </td><td>-0.6464668177867251</td><td>0.3133622  </td><td>-4.100916174464353 </td><td>0.20489562 </td><td>1.0249887525602555 </td><td>0.27208024  </td><td>19.067236</td><td>20.3389  </td><td>17.999353</td><td>17.2238      </td><td>64.74676     </td><td>1.041015  </td><td>1.350354       </td><td>nan      </td><td>nan        </td><td>96.76009244969302</td><td>-59.70010809470707 </td><td>00000033+0031565</td><td>16.45 </td><td>15.33 </td><td>00000033+0031565</td><td>ACB      </td><td>1        </td><td>222     </td></tr>\n",
       "<tr><td><i style='opacity: 0.6'>4</i> </td><td>2738223212353886336</td><td>0.0019276238052624622</td><td>0.525288354580034  </td><td>3.2468765</td><td>-0.8893183875639226</td><td>0.100175604</td><td>-3.122710383878679 </td><td>0.056938235</td><td>0.3968673345305549 </td><td>0.0785026   </td><td>17.077734</td><td>17.48083 </td><td>16.532284</td><td>108.20531    </td><td>225.85867    </td><td>1.0158308 </td><td>1.1959527      </td><td>nan      </td><td>nan        </td><td>96.75568080515606</td><td>-59.70685893017676 </td><td>00000046+0031309</td><td>15.891</td><td>15.267</td><td>00000046+0031309</td><td>ABB      </td><td>1        </td><td>222     </td></tr>\n",
       "<tr><td>...                           </td><td>...                </td><td>...                  </td><td>...                </td><td>...      </td><td>...                </td><td>...        </td><td>...                </td><td>...        </td><td>...                </td><td>...         </td><td>...      </td><td>...      </td><td>...      </td><td>...          </td><td>...          </td><td>...       </td><td>...            </td><td>...      </td><td>...        </td><td>...              </td><td>...                </td><td>...             </td><td>...   </td><td>...   </td><td>...             </td><td>...      </td><td>...      </td><td>...     </td></tr>\n",
       "<tr><td><i style='opacity: 0.6'>63</i></td><td>2738188745240343552</td><td>0.02841136703668464  </td><td>0.0413039491782326 </td><td>14.690249</td><td>-9.282249009982245 </td><td>0.13744329 </td><td>-11.386099945128661</td><td>0.06628131 </td><td>0.8263479780786821 </td><td>0.10552607  </td><td>17.364765</td><td>18.00437 </td><td>16.604973</td><td>124.53133    </td><td>148.70398    </td><td>1.09727   </td><td>1.2498498      </td><td>nan      </td><td>nan        </td><td>96.42272203573486</td><td>-60.16196157984787 </td><td>00000683+0002288</td><td>15.749</td><td>14.816</td><td>00000683+0002288</td><td>AAA      </td><td>1        </td><td>222     </td></tr>\n",
       "<tr><td><i style='opacity: 0.6'>64</i></td><td>2738247225515161472</td><td>0.028558969755402005 </td><td>0.6049385475566833 </td><td>16.05541 </td><td>4.210005701359856  </td><td>0.16932166 </td><td>-15.493612588320206</td><td>0.102673866</td><td>0.46346441047351367</td><td>0.14767276  </td><td>18.083744</td><td>18.732693</td><td>17.342382</td><td>62.079212    </td><td>124.1235     </td><td>1.0160583 </td><td>1.2321367      </td><td>nan      </td><td>nan        </td><td>96.86602315041853</td><td>-59.64401361106711 </td><td>00000685+0036176</td><td>16.56 </td><td>15.559</td><td>00000685+0036176</td><td>BCC      </td><td>1        </td><td>222     </td></tr>\n",
       "<tr><td><i style='opacity: 0.6'>65</i></td><td>2738218642508977920</td><td>0.02883844689911101  </td><td>0.4555390123415237 </td><td>nan      </td><td>nan                </td><td>nan        </td><td>nan                </td><td>nan        </td><td>nan                </td><td>nan         </td><td>20.861416</td><td>19.796679</td><td>18.175903</td><td>15.651783    </td><td>30.90305     </td><td>nan       </td><td>6.9272285      </td><td>nan      </td><td>nan        </td><td>96.75044363651675</td><td>-59.781572695380525</td><td>00000692+0027197</td><td>16.716</td><td>15.243</td><td>00000692+0027197</td><td>CCC      </td><td>1        </td><td>222     </td></tr>\n",
       "<tr><td><i style='opacity: 0.6'>66</i></td><td>2738247332890219264</td><td>0.0292317211475914   </td><td>0.6102568334153728 </td><td>12.413139</td><td>4.497483967811462  </td><td>0.14188297 </td><td>-11.569731077892849</td><td>0.08132849 </td><td>0.27225757842803283</td><td>0.11825303  </td><td>17.692068</td><td>18.111576</td><td>17.100853</td><td>100.70133    </td><td>124.911804   </td><td>0.99439615</td><td>1.2183949      </td><td>nan      </td><td>nan        </td><td>96.87136313238678</td><td>-59.63938188668804 </td><td>00000701+0036376</td><td>16.577</td><td>15.666</td><td>00000701+0036376</td><td>BDD      </td><td>1        </td><td>222     </td></tr>\n",
       "<tr><td><i style='opacity: 0.6'>67</i></td><td>2738321378126427648</td><td>0.029276468745105342 </td><td>0.9722424937526448 </td><td>20.683517</td><td>-20.650331029084946</td><td>0.1579386  </td><td>1.1712148727199312 </td><td>0.050915286</td><td>2.11966113916389   </td><td>0.08660331  </td><td>16.809479</td><td>17.85839 </td><td>15.793398</td><td>112.93741    </td><td>472.37527    </td><td>1.0594159 </td><td>1.349107       </td><td>nan      </td><td>nan        </td><td>97.14872752481574</td><td>-59.30593771479631 </td><td>00000705+0058200</td><td>14.499</td><td>13.641</td><td>00000705+0058200</td><td>AAA      </td><td>1        </td><td>222     </td></tr>\n",
       "</tbody>\n",
       "</table>"
      ],
      "text/plain": [
       "#    source_id            ra                     dec                  pm         pmra                 e_pmra       pmdec                e_pmdec      parallax             e_parallax    g          bp         rp         fb_over_err    fr_over_err    ruwe        excess_factor    rv_gaia    e_rv_gaia    l                  b                    tmass_id          j       k       designation       ph_qual    use_src    rd_flg\n",
       "0    2738301239023951872  0.0006456433664899519  0.8097416453527122   15.452848  -2.4396361203715675  0.213626     -15.25905314657402   0.08839811   1.5546639904202617   0.15466519    17.89857   19.039177  16.878193  38.471077      143.97571      0.9964819   1.3310089        nan        nan          96.97304732424277  -59.444562933467886  00000015+0048353  15.43   14.721  00000015+0048353  AAA        1          222\n",
       "1    2738215374037617280  0.0012629950677771962  0.34922240309758057  16.528448  7.622902933696334    0.45880646   -14.66563928781094   0.3445331    1.9316520479956616   0.4761021     19.701853  20.95092   18.441822  8.090968       56.30646       1.0155579   1.5729879        nan        nan          96.61675636214513  -59.86845292011402   00000029+0020573  16.56   15.455  00000029+0020573  ABC        1          222\n",
       "2    2738294646249950464  0.0012909602109158805  0.6651158011662879   16.920013  15.727889485752868   0.030565234  -6.2386182378986526  0.020169798  0.7111678925386531   0.029599223   14.743093  15.096594  14.216369  565.61774      1347.9517      1.0475903   1.2074407        nan        nan          96.86294240272038  -59.577965704038135  00000029+0039544  13.609  13.182  00000029+0039544  AAA        1          222\n",
       "3    2738223208058015488  0.0013241720443225478  0.5323709244397402   4.151558   -0.6464668177867251  0.3133622    -4.100916174464353   0.20489562   1.0249887525602555   0.27208024    19.067236  20.3389    17.999353  17.2238        64.74676       1.041015    1.350354         nan        nan          96.76009244969302  -59.70010809470707   00000033+0031565  16.45   15.33   00000033+0031565  ACB        1          222\n",
       "4    2738223212353886336  0.0019276238052624622  0.525288354580034    3.2468765  -0.8893183875639226  0.100175604  -3.122710383878679   0.056938235  0.3968673345305549   0.0785026     17.077734  17.48083   16.532284  108.20531      225.85867      1.0158308   1.1959527        nan        nan          96.75568080515606  -59.70685893017676   00000046+0031309  15.891  15.267  00000046+0031309  ABB        1          222\n",
       "...  ...                  ...                    ...                  ...        ...                  ...          ...                  ...          ...                  ...           ...        ...        ...        ...            ...            ...         ...              ...        ...          ...                ...                  ...               ...     ...     ...               ...        ...        ...\n",
       "63   2738188745240343552  0.02841136703668464    0.0413039491782326   14.690249  -9.282249009982245   0.13744329   -11.386099945128661  0.06628131   0.8263479780786821   0.10552607    17.364765  18.00437   16.604973  124.53133      148.70398      1.09727     1.2498498        nan        nan          96.42272203573486  -60.16196157984787   00000683+0002288  15.749  14.816  00000683+0002288  AAA        1          222\n",
       "64   2738247225515161472  0.028558969755402005   0.6049385475566833   16.05541   4.210005701359856    0.16932166   -15.493612588320206  0.102673866  0.46346441047351367  0.14767276    18.083744  18.732693  17.342382  62.079212      124.1235       1.0160583   1.2321367        nan        nan          96.86602315041853  -59.64401361106711   00000685+0036176  16.56   15.559  00000685+0036176  BCC        1          222\n",
       "65   2738218642508977920  0.02883844689911101    0.4555390123415237   nan        nan                  nan          nan                  nan          nan                  nan           20.861416  19.796679  18.175903  15.651783      30.90305       nan         6.9272285        nan        nan          96.75044363651675  -59.781572695380525  00000692+0027197  16.716  15.243  00000692+0027197  CCC        1          222\n",
       "66   2738247332890219264  0.0292317211475914     0.6102568334153728   12.413139  4.497483967811462    0.14188297   -11.569731077892849  0.08132849   0.27225757842803283  0.11825303    17.692068  18.111576  17.100853  100.70133      124.911804     0.99439615  1.2183949        nan        nan          96.87136313238678  -59.63938188668804   00000701+0036376  16.577  15.666  00000701+0036376  BDD        1          222\n",
       "67   2738321378126427648  0.029276468745105342   0.9722424937526448   20.683517  -20.650331029084946  0.1579386    1.1712148727199312   0.050915286  2.11966113916389     0.08660331    16.809479  17.85839   15.793398  112.93741      472.37527      1.0594159   1.349107         nan        nan          97.14872752481574  -59.30593771479631   00000705+0058200  14.499  13.641  00000705+0058200  AAA        1          222"
      ]
     },
     "execution_count": 19,
     "metadata": {},
     "output_type": "execute_result"
    }
   ],
   "source": [
    "TOP = 100\n",
    "query_gaia = f\"\"\"\n",
    "SELECT TOP {TOP} {', '.join(columns)}\n",
    "FROM gaiadr3.gaia_source AS {gaia_alias}\n",
    "RIGHT JOIN gaiadr3.tmass_psc_xsc_best_neighbour AS {join_table_alias} ON {join_table_alias}.source_id = {gaia_alias}.source_id\n",
    "WHERE {gaia_alias}.ra BETWEEN 0 AND 1\n",
    "AND {gaia_alias}.dec BETWEEN 0 AND 1\n",
    "AND {join_table_alias}.original_ext_source_id IS NOT NULL\n",
    "\"\"\"\n",
    "\n",
    "query_tmass = f\"\"\"\n",
    "SELECT TOP {TOP} {\", \".join(columns_tmass)} \n",
    "FROM {tmass_table}\n",
    "WHERE ra BETWEEN -0.5 AND 1.5\n",
    "AND dec BETWEEN -0.5 AND 1.5\n",
    "\"\"\"\n",
    "\n",
    "job_gaia = launch_job(Gaia.launch_job, query_gaia, duration=20)\n",
    "df_gaia = None if job_gaia[\"error\"] else job_gaia[\"data\"]\n",
    "df_table = None\n",
    "df_tmass = None\n",
    "if job_gaia[\"error\"]:\n",
    "    print(job_gaia[\"error\"])\n",
    "else:\n",
    "    job_tmass = launch_job(tap_tmass.launch_job, query_tmass, cols=columns_tmass_names, duration=20)\n",
    "    df_tmass = None if job_tmass[\"error\"] else job_tmass[\"data\"]\n",
    "    df_tmass.drop([\"ra\", \"dec\"], inplace=True)\n",
    "    if job_tmass[\"error\"]: \n",
    "        print(job_tmass[\"error\"])\n",
    "    else:\n",
    "        df_table = df_gaia.join(df_tmass, right_on=\"designation\", left_on=\"tmass_id\", how=\"inner\")\n",
    "df_table"
   ]
  },
  {
   "attachments": {},
   "cell_type": "markdown",
   "metadata": {},
   "source": [
    "But, querying ALL data is too much DATA (slow internet = bad). We need a better strategy. One way is to query the data according to their position in the sky. We can query from some RA and DEC range for both catalogs, then join the tables.\n",
    "\n",
    "But, we need to be careful. The two catalogs may have slightly different coordinate system. To make sure\n",
    "every object in 2MASS joined to Gaia, we can give more range in RA and DEC for 2MASS."
   ]
  },
  {
   "cell_type": "code",
   "execution_count": 20,
   "metadata": {},
   "outputs": [
    {
     "name": "stdout",
     "output_type": "stream",
     "text": [
      "join:  62\n",
      "2mass:  67\n",
      "gaia:  62\n"
     ]
    }
   ],
   "source": [
    "TOP = 1000\n",
    "query_gaia = f\"\"\"\n",
    "SELECT TOP {TOP} {', '.join(columns)}\n",
    "FROM gaiadr3.gaia_source AS {gaia_alias}\n",
    "RIGHT JOIN gaiadr3.tmass_psc_xsc_best_neighbour AS {join_table_alias} ON {join_table_alias}.source_id = {gaia_alias}.source_id\n",
    "WHERE {gaia_alias}.ra BETWEEN 0 AND 0.2\n",
    "AND {gaia_alias}.dec BETWEEN 0 AND 0.2\n",
    "AND {join_table_alias}.original_ext_source_id IS NOT NULL\n",
    "\"\"\"\n",
    "\n",
    "query_tmass = f\"\"\"\n",
    "SELECT TOP {TOP} {\", \".join(columns_tmass)} \n",
    "FROM {tmass_table}\n",
    "WHERE ra BETWEEN -0.1 AND 0.3\n",
    "AND dec BETWEEN -0.1 AND 0.3\n",
    "\"\"\"\n",
    "\n",
    "time_out = 50\n",
    "\n",
    "job_gaia = launch_job(Gaia.launch_job, query_gaia, duration=time_out)\n",
    "df_gaia = None if job_gaia[\"error\"] else job_gaia[\"data\"]\n",
    "df_join = None\n",
    "df_tmass = None\n",
    "if job_gaia[\"error\"]:\n",
    "    print(job_gaia[\"error\"])\n",
    "else:\n",
    "    job_tmass = launch_job(tap_tmass.launch_job, query_tmass, cols=columns_tmass_names, duration=time_out)\n",
    "    df_tmass = None if job_tmass[\"error\"] else job_tmass[\"data\"]\n",
    "    if job_tmass[\"error\"]: \n",
    "        print(job_tmass[\"error\"])\n",
    "    else:\n",
    "        df_join = df_gaia.join(df_tmass, right_on=\"designation\", left_on=\"tmass_id\", how=\"inner\", rsuffix=\"_tmass\")\n",
    "        df_join.drop([\"ra_tmass\", \"dec_tmass\"], inplace=True)\n",
    "        df_tmass = df_tmass.filter(\"ra > 0\").filter(\"ra < 0.2\").filter(\"dec > 0\").filter(\"dec < 0.2\").extract()\n",
    "print(\"join: \", len(df_join))\n",
    "print(\"2mass: \", len(df_tmass))\n",
    "print(\"gaia: \", len(df_gaia))"
   ]
  },
  {
   "cell_type": "code",
   "execution_count": 21,
   "metadata": {},
   "outputs": [
    {
     "data": {
      "text/html": [
       "<table>\n",
       "<thead>\n",
       "<tr><th>#                             </th><th>source_id          </th><th>ra                   </th><th>dec                 </th><th>pm       </th><th>pmra                </th><th>e_pmra    </th><th>pmdec              </th><th>e_pmdec    </th><th>parallax          </th><th>e_parallax  </th><th>g        </th><th>bp       </th><th>rp        </th><th>fb_over_err  </th><th>fr_over_err  </th><th>ruwe      </th><th>excess_factor  </th><th>rv_gaia  </th><th>e_rv_gaia  </th><th>l                </th><th>b                  </th><th>tmass_id        </th><th>j     </th><th>k     </th><th>designation     </th><th>ph_qual  </th><th>use_src  </th><th>rd_flg  </th></tr>\n",
       "</thead>\n",
       "<tbody>\n",
       "<tr><td><i style='opacity: 0.6'>0</i> </td><td>2738190330084253184</td><td>0.0025424884289752107</td><td>0.10177693502267232 </td><td>39.10947 </td><td>33.19658362932991   </td><td>0.1458902 </td><td>-20.67698252018906 </td><td>0.07314559 </td><td>3.200976844838659 </td><td>0.113492794 </td><td>17.624596</td><td>19.168922</td><td>16.406017 </td><td>39.01283     </td><td>223.32146    </td><td>0.95980024</td><td>1.4680123      </td><td>nan      </td><td>nan        </td><td>96.4232876399872 </td><td>-60.096188481712744</td><td>00000059+0006067</td><td>14.693</td><td>13.829</td><td>00000059+0006067</td><td>AAA      </td><td>1        </td><td>222     </td></tr>\n",
       "<tr><td><i style='opacity: 0.6'>1</i> </td><td>2738190261363834752</td><td>0.010668020069275698 </td><td>0.08543677457798904 </td><td>nan      </td><td>nan                 </td><td>nan       </td><td>nan                </td><td>nan        </td><td>nan               </td><td>nan         </td><td>21.206774</td><td>19.901033</td><td>18.391542 </td><td>14.618735    </td><td>22.232944    </td><td>nan       </td><td>8.041515       </td><td>nan      </td><td>nan        </td><td>96.4252265874694 </td><td>-60.11441184663786 </td><td>00000259+0005072</td><td>16.84 </td><td>15.856</td><td>00000259+0005072</td><td>CCD      </td><td>0        </td><td>222     </td></tr>\n",
       "<tr><td><i style='opacity: 0.6'>2</i> </td><td>2738195204871164032</td><td>0.011017394423504568 </td><td>0.16964033795239167 </td><td>4.0278854</td><td>-2.7314489775780797 </td><td>0.31325513</td><td>-2.9602447362836446</td><td>0.18183763 </td><td>1.5701326901064503</td><td>0.26590964  </td><td>18.976717</td><td>20.34849 </td><td>17.838379 </td><td>17.406052    </td><td>67.48214     </td><td>0.97962517</td><td>1.4060137      </td><td>nan      </td><td>nan        </td><td>96.49283602288897</td><td>-60.03725719336579 </td><td>00000265+0010106</td><td>16.297</td><td>15.32 </td><td>00000265+0010106</td><td>ABB      </td><td>1        </td><td>222     </td></tr>\n",
       "<tr><td><i style='opacity: 0.6'>3</i> </td><td>2738189402371313536</td><td>0.01997999831877518  </td><td>0.05960976602390108 </td><td>24.489563</td><td>0.2235421139061587  </td><td>0.08540153</td><td>-24.488543202676073</td><td>0.041835785</td><td>1.6185493076794253</td><td>0.065504305 </td><td>16.613222</td><td>17.438858</td><td>15.7189665</td><td>164.80835    </td><td>311.57825    </td><td>1.0524493 </td><td>1.2982227      </td><td>nan      </td><td>nan        </td><td>96.42178639552206</td><td>-60.14181278325434 </td><td>00000480+0003350</td><td>14.557</td><td>13.806</td><td>00000480+0003350</td><td>AAA      </td><td>1        </td><td>222     </td></tr>\n",
       "<tr><td><i style='opacity: 0.6'>4</i> </td><td>2738195312246339840</td><td>0.024940246040036914 </td><td>0.17051789435368653 </td><td>9.7699175</td><td>-0.6832913922014614 </td><td>0.0931071 </td><td>-9.74599367881514  </td><td>0.04997705 </td><td>1.1034173524435522</td><td>0.06916356  </td><td>16.834997</td><td>17.476324</td><td>16.0625   </td><td>114.301025   </td><td>260.79767    </td><td>0.9089829 </td><td>1.259189       </td><td>nan      </td><td>nan        </td><td>96.51913091275877</td><td>-60.04196598277905 </td><td>00000598+0010139</td><td>15.069</td><td>14.359</td><td>00000598+0010139</td><td>AAA      </td><td>1        </td><td>222     </td></tr>\n",
       "<tr><td>...                           </td><td>...                </td><td>...                  </td><td>...                 </td><td>...      </td><td>...                 </td><td>...       </td><td>...                </td><td>...        </td><td>...               </td><td>...         </td><td>...      </td><td>...      </td><td>...       </td><td>...          </td><td>...          </td><td>...       </td><td>...            </td><td>...      </td><td>...        </td><td>...              </td><td>...                </td><td>...             </td><td>...   </td><td>...   </td><td>...             </td><td>...      </td><td>...      </td><td>...     </td></tr>\n",
       "<tr><td><i style='opacity: 0.6'>57</i></td><td>2546036551278548224</td><td>0.19301596156416229  </td><td>0.06526523178791951 </td><td>nan      </td><td>nan                 </td><td>nan       </td><td>nan                </td><td>nan        </td><td>nan               </td><td>nan         </td><td>19.974792</td><td>17.941725</td><td>16.448463 </td><td>45.568012    </td><td>87.297585    </td><td>nan       </td><td>15.550209      </td><td>nan      </td><td>nan        </td><td>96.74588469652684</td><td>-60.20496615454758 </td><td>00004632+0003547</td><td>15.03 </td><td>13.794</td><td>00004632+0003547</td><td>AAA      </td><td>1        </td><td>222     </td></tr>\n",
       "<tr><td><i style='opacity: 0.6'>58</i></td><td>2546037513349239552</td><td>0.19511077356027692  </td><td>0.10069802236672445 </td><td>11.266732</td><td>6.828802723483533   </td><td>0.53531027</td><td>-8.961400525159982 </td><td>0.31959477 </td><td>1.7225376168710511</td><td>0.5059269   </td><td>19.725063</td><td>21.15644 </td><td>18.464766 </td><td>9.073784     </td><td>47.551125    </td><td>0.9960658 </td><td>1.5378393      </td><td>nan      </td><td>nan        </td><td>96.77773637819952</td><td>-60.173199308557024</td><td>00004676+0006024</td><td>16.264</td><td>15.741</td><td>00004676+0006024</td><td>AUD      </td><td>1        </td><td>202     </td></tr>\n",
       "<tr><td><i style='opacity: 0.6'>59</i></td><td>2546035967162660736</td><td>0.19521183317215018  </td><td>0.052678220554925534</td><td>8.051814 </td><td>2.9682158985415636  </td><td>0.07381347</td><td>-7.4847446883816025</td><td>0.037861597</td><td>0.4568832069135301</td><td>0.060547456 </td><td>16.416542</td><td>16.778887</td><td>15.887607 </td><td>205.93034    </td><td>407.736      </td><td>0.98390025</td><td>1.2045867      </td><td>nan      </td><td>nan        </td><td>96.73999796821364</td><td>-60.21740406781714 </td><td>00004684+0003094</td><td>15.344</td><td>14.867</td><td>00004684+0003094</td><td>AAB      </td><td>1        </td><td>222     </td></tr>\n",
       "<tr><td><i style='opacity: 0.6'>60</i></td><td>2738197506973634560</td><td>0.19634027571809876  </td><td>0.16900066008164497 </td><td>20.040821</td><td>-0.22495363104518815</td><td>0.22480753</td><td>-20.039558831812876</td><td>0.15169534 </td><td>0.8340755820312465</td><td>0.23465532  </td><td>18.761127</td><td>20.050947</td><td>17.708147 </td><td>18.931309    </td><td>88.502525    </td><td>0.98200727</td><td>1.3312805      </td><td>nan      </td><td>nan        </td><td>96.83377595431031</td><td>-60.110842384274385</td><td>00004709+0010082</td><td>16.106</td><td>15.243</td><td>00004709+0010082</td><td>ACC      </td><td>1        </td><td>222     </td></tr>\n",
       "<tr><td><i style='opacity: 0.6'>61</i></td><td>2546035859787286912</td><td>0.1966748803354995   </td><td>0.02958574474919441 </td><td>14.876557</td><td>-5.739306309121252  </td><td>0.24789108</td><td>13.724879534729729 </td><td>0.1463195  </td><td>1.3172762259634079</td><td>0.22923122  </td><td>18.573935</td><td>19.62881 </td><td>17.564306 </td><td>23.10813     </td><td>79.28907     </td><td>0.94282186</td><td>1.3412365      </td><td>nan      </td><td>nan        </td><td>96.72443366939237</td><td>-60.23921404580824 </td><td>00004719+0001460</td><td>16.305</td><td>15.493</td><td>00004719+0001460</td><td>ABC      </td><td>1        </td><td>222     </td></tr>\n",
       "</tbody>\n",
       "</table>"
      ],
      "text/plain": [
       "#    source_id            ra                     dec                   pm         pmra                  e_pmra      pmdec                e_pmdec      parallax            e_parallax    g          bp         rp          fb_over_err    fr_over_err    ruwe        excess_factor    rv_gaia    e_rv_gaia    l                  b                    tmass_id          j       k       designation       ph_qual    use_src    rd_flg\n",
       "0    2738190330084253184  0.0025424884289752107  0.10177693502267232   39.10947   33.19658362932991     0.1458902   -20.67698252018906   0.07314559   3.200976844838659   0.113492794   17.624596  19.168922  16.406017   39.01283       223.32146      0.95980024  1.4680123        nan        nan          96.4232876399872   -60.096188481712744  00000059+0006067  14.693  13.829  00000059+0006067  AAA        1          222\n",
       "1    2738190261363834752  0.010668020069275698   0.08543677457798904   nan        nan                   nan         nan                  nan          nan                 nan           21.206774  19.901033  18.391542   14.618735      22.232944      nan         8.041515         nan        nan          96.4252265874694   -60.11441184663786   00000259+0005072  16.84   15.856  00000259+0005072  CCD        0          222\n",
       "2    2738195204871164032  0.011017394423504568   0.16964033795239167   4.0278854  -2.7314489775780797   0.31325513  -2.9602447362836446  0.18183763   1.5701326901064503  0.26590964    18.976717  20.34849   17.838379   17.406052      67.48214       0.97962517  1.4060137        nan        nan          96.49283602288897  -60.03725719336579   00000265+0010106  16.297  15.32   00000265+0010106  ABB        1          222\n",
       "3    2738189402371313536  0.01997999831877518    0.05960976602390108   24.489563  0.2235421139061587    0.08540153  -24.488543202676073  0.041835785  1.6185493076794253  0.065504305   16.613222  17.438858  15.7189665  164.80835      311.57825      1.0524493   1.2982227        nan        nan          96.42178639552206  -60.14181278325434   00000480+0003350  14.557  13.806  00000480+0003350  AAA        1          222\n",
       "4    2738195312246339840  0.024940246040036914   0.17051789435368653   9.7699175  -0.6832913922014614   0.0931071   -9.74599367881514    0.04997705   1.1034173524435522  0.06916356    16.834997  17.476324  16.0625     114.301025     260.79767      0.9089829   1.259189         nan        nan          96.51913091275877  -60.04196598277905   00000598+0010139  15.069  14.359  00000598+0010139  AAA        1          222\n",
       "...  ...                  ...                    ...                   ...        ...                   ...         ...                  ...          ...                 ...           ...        ...        ...         ...            ...            ...         ...              ...        ...          ...                ...                  ...               ...     ...     ...               ...        ...        ...\n",
       "57   2546036551278548224  0.19301596156416229    0.06526523178791951   nan        nan                   nan         nan                  nan          nan                 nan           19.974792  17.941725  16.448463   45.568012      87.297585      nan         15.550209        nan        nan          96.74588469652684  -60.20496615454758   00004632+0003547  15.03   13.794  00004632+0003547  AAA        1          222\n",
       "58   2546037513349239552  0.19511077356027692    0.10069802236672445   11.266732  6.828802723483533     0.53531027  -8.961400525159982   0.31959477   1.7225376168710511  0.5059269     19.725063  21.15644   18.464766   9.073784       47.551125      0.9960658   1.5378393        nan        nan          96.77773637819952  -60.173199308557024  00004676+0006024  16.264  15.741  00004676+0006024  AUD        1          202\n",
       "59   2546035967162660736  0.19521183317215018    0.052678220554925534  8.051814   2.9682158985415636    0.07381347  -7.4847446883816025  0.037861597  0.4568832069135301  0.060547456   16.416542  16.778887  15.887607   205.93034      407.736        0.98390025  1.2045867        nan        nan          96.73999796821364  -60.21740406781714   00004684+0003094  15.344  14.867  00004684+0003094  AAB        1          222\n",
       "60   2738197506973634560  0.19634027571809876    0.16900066008164497   20.040821  -0.22495363104518815  0.22480753  -20.039558831812876  0.15169534   0.8340755820312465  0.23465532    18.761127  20.050947  17.708147   18.931309      88.502525      0.98200727  1.3312805        nan        nan          96.83377595431031  -60.110842384274385  00004709+0010082  16.106  15.243  00004709+0010082  ACC        1          222\n",
       "61   2546035859787286912  0.1966748803354995     0.02958574474919441   14.876557  -5.739306309121252    0.24789108  13.724879534729729   0.1463195    1.3172762259634079  0.22923122    18.573935  19.62881   17.564306   23.10813       79.28907       0.94282186  1.3412365        nan        nan          96.72443366939237  -60.23921404580824   00004719+0001460  16.305  15.493  00004719+0001460  ABC        1          222"
      ]
     },
     "execution_count": 21,
     "metadata": {},
     "output_type": "execute_result"
    }
   ],
   "source": [
    "df_join"
   ]
  },
  {
   "attachments": {},
   "cell_type": "markdown",
   "metadata": {},
   "source": [
    "Querying without limits could be problematic. Ideally, we only querying subset with manageable size. But, if something wrong in the code (or server), we could accidentally query a lot of data. This is not a desiredable situation. Therefore, we need to limit the query size. But what is the limit? If the limit is too small, we might miss some objects. If the limit is too big, we might query a lot of data. We need to find the balance.\n",
    "\n",
    "One of the solutions is to make the limit dynamic. If the query result has the same number of rows as the limit, we can increase the limit. If the query result has less rows than the limit, we can adjust the limit well above the previous numbers.\n",
    "\n",
    "This is my proposal:\n",
    "1. set initial limit = 100_000\n",
    "2. set for loops (range in RA and DEC)\n",
    "3. query the data\n",
    "4. if the query result has the same number of rows as the limit, increase the limit by 2 times, then go to step 2\n",
    "5. if the query result has less rows than the limit, adjust the limit to be 2 times the rows, then go to step 2\n",
    "6. save the data in a file\n",
    "7. if we still need to query more data, go to step 2"
   ]
  },
  {
   "attachments": {},
   "cell_type": "markdown",
   "metadata": {},
   "source": [
    "My proposal is to divide the data into RA and DEC ranges. The ranges are chosen based on the data distribution. The ranges are:\n",
    "\n",
    "    RA: 0-360 into 360 parts\n",
    "    DEC: -90-90 into 180 parts\n",
    "\n",
    "in total, 360x180 = 64800 parts. That's a lot of data to save. Not really convenient.\n",
    "\n",
    "Let loops over DEC than RA. This way, we can create temporary directory for each DEC range. In each RA iteration, we can save the data into the temporary directory. After the iteration, we can combine all the files into one file, then remove the temporary directory.\n",
    "\n",
    "Doing this way, we can make sure every data is save and can be resumed if the process is interrupted."
   ]
  },
  {
   "attachments": {},
   "cell_type": "markdown",
   "metadata": {},
   "source": [
    "There are three combination of the results from the query. \n",
    "1. The query result is empty. \n",
    "    * in this case, we stop the program and investigate the problem.\n",
    "2. The query result has the same number of rows as the limit.\n",
    "    * in this case, we can adjust the limit to be 2 times previous limit\n",
    "3. The query result has less rows than the limit.\n",
    "    * this is the desired case. We accept the result. But, for efficiency, intuitively, the next result should have roughly about the same number of rows as the previous result. Therefore, the limit of 2 times the number of rows is a good lower bound choice. If the previous limit is less than 2 times the number of rows, we can adjust the limit to be 2 times the number of rows."
   ]
  },
  {
   "cell_type": "code",
   "execution_count": 75,
   "metadata": {},
   "outputs": [],
   "source": [
    "class Next(Enum):\n",
    "    BREAK = 1\n",
    "    RETRY = 2\n",
    "    CONTINUE = 3\n",
    "\n",
    "def get_df(options):\n",
    "    limit = options.get(\"limit\", {\n",
    "        \"gaia\": 1000,\n",
    "        \"tmass\": 1000\n",
    "    })\n",
    "    time_out = options.get(\"time_out\", 120)\n",
    "    result = {\n",
    "        \"join\": None,\n",
    "        \"tmass\": None,\n",
    "        \"gaia\": None,\n",
    "        \"next\": None,\n",
    "        \"info\": None,\n",
    "        \"limit\": limit\n",
    "    }    \n",
    "    \n",
    "    ra_low = options.get(\"ra_low\")\n",
    "    ra_high = options.get(\"ra_high\")\n",
    "    dec_low = options.get(\"dec_low\")\n",
    "    dec_high = options.get(\"dec_high\")\n",
    "\n",
    "    query_gaia = f\"\"\"\n",
    "    SELECT TOP {limit[\"gaia\"]} {', '.join(columns)}\n",
    "    FROM gaiadr3.gaia_source AS {gaia_alias}\n",
    "    RIGHT JOIN gaiadr3.tmass_psc_xsc_best_neighbour AS {join_table_alias} ON {join_table_alias}.source_id = {gaia_alias}.source_id\n",
    "    WHERE {gaia_alias}.ra BETWEEN {ra_low} AND {ra_high}\n",
    "    AND {gaia_alias}.dec BETWEEN {dec_low} AND {dec_high}\n",
    "    AND {join_table_alias}.original_ext_source_id IS NOT NULL\n",
    "    \"\"\"\n",
    "\n",
    "    query_tmass = f\"\"\"\n",
    "    SELECT TOP {limit[\"tmass\"]} {\", \".join(columns_tmass)} \n",
    "    FROM {tmass_table}\n",
    "    WHERE ra BETWEEN {ra_low-0.3} AND {ra_high+0.3}\n",
    "    AND dec BETWEEN {dec_low-0.3} AND {dec_high+0.3}\n",
    "    \"\"\"\n",
    "\n",
    "    job_gaia = launch_job(Gaia.launch_job, query_gaia, duration=time_out)\n",
    "    df_gaia = None if job_gaia[\"error\"] else job_gaia[\"data\"]\n",
    "    df_join = None\n",
    "    df_tmass = None\n",
    "\n",
    "    if job_gaia[\"error\"]:\n",
    "        if job_gaia[\"error\"][\"type\"] == \"TimeoutError\":\n",
    "            result[\"next\"] = Next.BREAK\n",
    "            result[\"info\"] = f\"Gaia job error, with message: {job_gaia['error']}\"\n",
    "        elif job_gaia[\"error\"][\"type\"] == \"IncompleteRead\" or job_gaia[\"error\"][\"type\"] == \"ConnectionResetError\":\n",
    "            result[\"next\"] = Next.RETRY\n",
    "            result[\"info\"] = f\"\\tGaia job error, with message: {job_gaia['error']}\\nTry again...\"\n",
    "        return result\n",
    "    if len(df_gaia) == limit[\"gaia\"]:\n",
    "        result[\"next\"] = Next.RETRY\n",
    "        result[\"info\"] = f\"Gaia job capped at {limit['gaia']}, increase to {limit['gaia']*2}\"\n",
    "        result[\"limit\"]['gaia'] = 2 * limit[\"gaia\"]\n",
    "        return result\n",
    "    job_tmass = launch_job(tap_tmass.launch_job, query_tmass, cols=columns_tmass_names, duration=time_out)\n",
    "    df_tmass = None if job_tmass[\"error\"] else job_tmass[\"data\"]\n",
    "\n",
    "    if job_tmass[\"error\"]:\n",
    "        if job_tmass[\"error\"][\"type\"] == \"TimeoutError\":\n",
    "            result[\"next\"] = Next.BREAK\n",
    "            result[\"info\"] = f\"2MASS job error, with message: {job_gaia['error']}\"\n",
    "        elif job_tmass[\"error\"][\"type\"] == \"IncompleteRead\" or job_tmass[\"error\"][\"type\"] == \"ConnectionResetError\":\n",
    "            result[\"next\"] = Next.RETRY\n",
    "            result[\"info\"] = f\"\\t2MASS job error, with message: {job_gaia['error']}\\nTry again...\"\n",
    "        return result\n",
    "    if len(df_tmass) == limit['tmass']:\n",
    "        result[\"next\"] = Next.RETRY\n",
    "        result[\"info\"] = f\"2MASS job capped at {limit['tmass']}, increase to {limit['tmass']*2}\"\n",
    "        result[\"limit\"]['tmass'] = 2 * limit['tmass']\n",
    "        return result\n",
    "    df_join = df_gaia.join(df_tmass, right_on=\"designation\", left_on=\"tmass_id\", how=\"inner\", rsuffix=\"_tmass\")\n",
    "    df_tmass = df_tmass.filter(f\"ra > {ra_low}\").filter(f\"ra < {ra_high}\").filter(f\"dec > {dec_low}\").filter(f\"dec < {dec_high}\")\n",
    "    df_tmass = df_tmass.extract()\n",
    "    # convert to pandas dataframe, because vaex has a weird bug\n",
    "    # when len(df_tmass) is 2^x, x is an integer\n",
    "    # I know it's annoying, but it's a temporary solution\n",
    "    df_tmass = df_tmass.to_pandas_df()\n",
    "    # convert back to vaex dataframe\n",
    "    df_tmass = vaex.from_pandas(df_tmass)\n",
    "    df_join.drop([\"ra_tmass\", \"dec_tmass\", \"designation\"], inplace=True)\n",
    "    df_pandas = df_join.to_pandas_df()\n",
    "    # drop tmass_id duplicates\n",
    "    df_pandas.drop_duplicates(subset=[\"tmass_id\"], inplace=True)\n",
    "    result[\"join\"] = vaex.from_pandas(df_pandas)\n",
    "    result[\"gaia\"] = df_gaia\n",
    "    result[\"tmass\"] = df_tmass\n",
    "    result[\"info\"] = \"Gaia and 2MASS job success\"\n",
    "    result[\"next\"] = Next.CONTINUE\n",
    "    return result"
   ]
  },
  {
   "cell_type": "code",
   "execution_count": 71,
   "metadata": {},
   "outputs": [
    {
     "name": "stdout",
     "output_type": "stream",
     "text": [
      "Progress: [------------------->] 100.0 % | None"
     ]
    }
   ],
   "source": [
    "import time\n",
    "def progress_bar(current, total, interval=None, barLength = 20):\n",
    "    percent = float(current) * 100 / total\n",
    "    arrow   = '-' * int(percent/100 * barLength - 1) + '>'\n",
    "    spaces  = ' ' * (barLength - len(arrow))\n",
    "\n",
    "    sys.stdout.write(f'\\rProgress: [{arrow}{spaces}] {percent:.01f} % | {interval}')\n",
    "    sys.stdout.flush()\n",
    "\n",
    "for i in range(11):\n",
    "    progress_bar(i, 10)\n",
    "    time.sleep(0.5)"
   ]
  },
  {
   "cell_type": "code",
   "execution_count": 80,
   "metadata": {},
   "outputs": [],
   "source": [
    "def iterate_job(options):\n",
    "    limit = options.get(\"limit\", {\n",
    "        \"gaia\": 100_000,\n",
    "        \"tmass\": 100_000\n",
    "    })\n",
    "    # keep track force_break flags\n",
    "    force_break = False\n",
    "    # read options\n",
    "    ras = options.get(\"ras\")\n",
    "    decs = options.get(\"decs\")\n",
    "    dec_start = options.get(\"dec_start\", -90)\n",
    "    num_tries = options.get(\"num_tries\", 10)\n",
    "    time_out = options.get(\"time_out\", 120)\n",
    "    dir_path = options.get(\"dir_path\")\n",
    "    n = options.get(\"n\", 21)\n",
    "    # loop through the RAs\n",
    "    for i, (ra0, ra1) in enumerate(zip(ras[:-1], ras[1:])):\n",
    "        if force_break: break\n",
    "        # create the directory to save the dataframes\n",
    "        ra_name = f\"ra_{ra0:03d}-{ra1:03d}\"\n",
    "        safe_mkdir(join(dir_path[\"gaia\"], ra_name))\n",
    "        safe_mkdir(join(dir_path[\"tmass\"], ra_name))\n",
    "        date0 = datetime.now()\n",
    "        print(\"================================\")\n",
    "        print(f\"RA: {ra0:03d}-{ra1:03d} | {date0} | limit: {limit}\")\n",
    "        for j, (dec0, dec1) in enumerate(zip(decs[:-1], decs[1:])):\n",
    "            if force_break: break\n",
    "            if (ra0 == ras[0]) and (dec0 < dec_start): \n",
    "                continue\n",
    "            d0 = datetime.now()\n",
    "            dec_name = f\"dec_({dec0:02d})_({dec1:02d})\"\n",
    "            print(f\"\\tRA: {ra_name}; DEC: {dec_name} | {d0}\")\n",
    "            # keep track of the number of tries\n",
    "            tries = 0\n",
    "            result = None\n",
    "            try_log =  f\"RA:{ra0:03}-{ra1:03}, DEC:({dec0:02d})-({dec1:02d})\"\n",
    "            # if we have tried too many times, then something is wrong. Let's force the break\n",
    "            if tries > num_tries:\n",
    "                force_break = True\n",
    "                print(f\"\\n\\tGaia {try_log} have tried {num_tries} times, something wrong\")\n",
    "                break\n",
    "            decs_inner = np.linspace(dec0, dec1, n)\n",
    "            result = {\n",
    "                \"join\": None,\n",
    "                \"tmass\": None,\n",
    "                \"next\": None,\n",
    "                \"info\": None,\n",
    "            }\n",
    "            progress_bar(0, n-1, interval=d0-d0)\n",
    "            for i, (dec_low, dec_high) in enumerate(zip(decs_inner[:-1], decs_inner[1:])):\n",
    "                if force_break: break\n",
    "                # if i == 2: break\n",
    "                opts = {\n",
    "                    \"limit\": limit,\n",
    "                    \"time_out\": time_out,\n",
    "                    \"ra_low\": ra0,\n",
    "                    \"ra_high\":  ra1,\n",
    "                    \"dec_low\": dec_low,\n",
    "                    \"dec_high\": dec_high\n",
    "                }\n",
    "                while True:\n",
    "                    res = get_df(opts)\n",
    "                    if res[\"next\"] == Next.BREAK:\n",
    "                        force_break = True\n",
    "                        result = res\n",
    "                        print(result[\"info\"])\n",
    "                        break\n",
    "                    elif res[\"next\"] == Next.RETRY:\n",
    "                        limit = res[\"limit\"]\n",
    "                        print(f\"\\tGaia {try_log} retrying {tries+1} times\\n\\t{res['info']}\")\n",
    "                        tries += 1\n",
    "                        continue\n",
    "                    elif res[\"next\"] == Next.CONTINUE:\n",
    "                        progress_bar(i+1, n-1, interval=datetime.now()-d0)\n",
    "                        if i == 0:\n",
    "                            result = res\n",
    "                        else:\n",
    "                            result[\"join\"] = result[\"join\"].concat(res[\"join\"])\n",
    "                            result[\"tmass\"] = result[\"tmass\"].concat(res[\"tmass\"])\n",
    "                            result[\"gaia\"] = result[\"gaia\"].concat(res[\"gaia\"])\n",
    "                            result[\"info\"] = res[\"info\"]\n",
    "                        break\n",
    "            if force_break: break\n",
    "            print(\"\\n\\t\", result[\"info\"])\n",
    "            print(f\"\\tjoin: {len(result['join'])}\\n\\ttmass: {len(result['tmass'])}\\n\\tgaia: {len(result['gaia'])}\")\n",
    "            df_tmass = result[\"tmass\"]\n",
    "            df_join = result[\"join\"]\n",
    "            \n",
    "            df_tmass.export(join(dir_path[\"tmass\"], ra_name, f\"{dec_name}.hdf5\"))\n",
    "            df_join.export(join(dir_path[\"gaia\"], ra_name, f\"{dec_name}.hdf5\"))\n",
    "            d1 = datetime.now()\n",
    "            print(\"duration: \", d1 - d0)\n",
    "        # after looping for all decs, let's combine them\n",
    "        if force_break: break\n",
    "        print(\"Combine all ra\")\n",
    "        df_join = vaex.open_many(glob(join(dir_path[\"gaia\"], ra_name, f\"*.hdf5\")))\n",
    "        df_tmass = vaex.open_many(glob(join(dir_path[\"tmass\"], ra_name, f\"*.hdf5\")))\n",
    "\n",
    "        df_join.export(join(dir_path[\"gaia\"], f\"gaia-{ra0:03d}-{ra1:03d}.hdf5\"))\n",
    "        df_tmass.export(join(dir_path[\"tmass\"], f\"tmass-{ra0:03d}-{ra1:03d}.hdf5\"))\n",
    "\n",
    "        delete_join_ra_dir = delete_directory(join(dir_path[\"gaia\"], ra_name))\n",
    "        delete_tmass_ra_dir = delete_directory(join(dir_path[\"tmass\"], ra_name))\n",
    "        if not delete_join_ra_dir:\n",
    "            force_break = True\n",
    "            print(join(dir_path[\"gaia\"], f\"{ra_name}.txt\"), f\"Error deleting directory {ra_name}! Stopping loop.\")\n",
    "            break\n",
    "        if not delete_tmass_ra_dir:\n",
    "            force_break = True\n",
    "            print(join(dir_path[\"tmass\"], f\"{ra_name}.txt\"), f\"Error deleting directory {ra_name}! Stopping loop.\")\n",
    "            break\n",
    "        date1 = datetime.now()\n",
    "        print(\"Complete RA: \", ra_name)\n",
    "        print(\"Total duration\", date1 - date0)\n",
    "        print(\"***************************\")"
   ]
  },
  {
   "cell_type": "code",
   "execution_count": 81,
   "metadata": {},
   "outputs": [
    {
     "data": {
      "text/plain": [
       "(array([359, 360]),\n",
       " array([-34, -33]),\n",
       " {'ras': array([359, 360]),\n",
       "  'decs': array([-34, -33]),\n",
       "  'dir_path': {'gaia': '/home2/s20321005/Thesis-Project/Data/Gaia-2MASS',\n",
       "   'tmass': '/home2/s20321005/Thesis-Project/Data/2MASS'},\n",
       "  'limit': {'gaia': 500, 'tmass': 3000},\n",
       "  'num_tries': 25,\n",
       "  'time_out': 60})"
      ]
     },
     "execution_count": 81,
     "metadata": {},
     "output_type": "execute_result"
    }
   ],
   "source": [
    "ras = np.arange(359,360+0.1, 1).astype(int)\n",
    "decs = np.arange(-34,-33+0.1,1).astype(int)\n",
    "options = {\n",
    "    \"ras\": ras,\n",
    "    \"decs\": decs,\n",
    "    \"dir_path\": {\n",
    "        \"gaia\": gaia_data_dir,\n",
    "        \"tmass\": tmass_data_dir\n",
    "    },\n",
    "    \"limit\": {\n",
    "        \"gaia\": 500,\n",
    "        \"tmass\": 3000\n",
    "    },\n",
    "    \"num_tries\": 25,\n",
    "    \"time_out\": 60\n",
    "}\n",
    "\n",
    "ras, decs, options"
   ]
  },
  {
   "cell_type": "code",
   "execution_count": 82,
   "metadata": {},
   "outputs": [
    {
     "name": "stdout",
     "output_type": "stream",
     "text": [
      "Creating /home2/s20321005/Thesis-Project/Data/Gaia-2MASS/ra_359-360 dir in Data dir\n",
      "Creating /home2/s20321005/Thesis-Project/Data/2MASS/ra_359-360 dir in Data dir\n",
      "================================\n",
      "RA: 359-360 | 2023-11-19 01:11:41.735536 | limit: {'gaia': 500, 'tmass': 3000}\n",
      "\tRA: ra_359-360; DEC: dec_(-34)_(-33) | 2023-11-19 01:11:41.735682\n",
      "Progress: [------------------->] 100.0 % | 0:02:25.076273\n",
      "\t Gaia and 2MASS job success\n",
      "\tjoin: 1233\n",
      "\ttmass: 1321\n",
      "\tgaia: 1248\n",
      "duration:  0:02:26.490190\n",
      "Combine all ra\n",
      "Complete RA:  ra_359-360\n",
      "Total duration 0:02:27.698752\n",
      "***************************\n"
     ]
    }
   ],
   "source": [
    "iterate_job(options)"
   ]
  },
  {
   "attachments": {},
   "cell_type": "markdown",
   "metadata": {},
   "source": [
    "# Check the Data"
   ]
  },
  {
   "cell_type": "code",
   "execution_count": 41,
   "metadata": {},
   "outputs": [
    {
     "data": {
      "text/plain": [
       "[<matplotlib.lines.Line2D at 0x7f99014ba5e0>]"
      ]
     },
     "execution_count": 41,
     "metadata": {},
     "output_type": "execute_result"
    },
    {
     "data": {
      "image/png": "[encoded data removed]",
      "text/plain": [
       "<Figure size 432x288 with 1 Axes>"
      ]
     },
     "metadata": {
      "needs_background": "light"
     },
     "output_type": "display_data"
    }
   ],
   "source": [
    "# check the data\n",
    "tmass = vaex.open_many(glob(join(tmass_data_dir, \"*.hdf5\")))\n",
    "tmass.viz.histogram(\"ra\")"
   ]
  },
  {
   "cell_type": "code",
   "execution_count": 42,
   "metadata": {},
   "outputs": [
    {
     "data": {
      "text/html": [
       "<table>\n",
       "<thead>\n",
       "<tr><th>#                                </th><th>ra       </th><th>dec       </th><th>j     </th><th>k     </th><th>designation     </th><th>ph_qual  </th><th>use_src  </th><th>rd_flg  </th></tr>\n",
       "</thead>\n",
       "<tbody>\n",
       "<tr><td><i style='opacity: 0.6'>0</i>    </td><td>11.000156</td><td>-34.379086</td><td>15.911</td><td>15.031</td><td>00440003-3422447</td><td>AAB      </td><td>1        </td><td>222     </td></tr>\n",
       "<tr><td><i style='opacity: 0.6'>1</i>    </td><td>11.00208 </td><td>-34.455269</td><td>16.007</td><td>15.541</td><td>00440049-3427189</td><td>ABC      </td><td>1        </td><td>222     </td></tr>\n",
       "<tr><td><i style='opacity: 0.6'>2</i>    </td><td>11.002762</td><td>-34.668907</td><td>16.01 </td><td>14.98 </td><td>00440066-3440080</td><td>AAA      </td><td>1        </td><td>222     </td></tr>\n",
       "<tr><td><i style='opacity: 0.6'>3</i>    </td><td>11.00316 </td><td>-34.744743</td><td>15.308</td><td>14.42 </td><td>00440075-3444410</td><td>AAA      </td><td>1        </td><td>222     </td></tr>\n",
       "<tr><td><i style='opacity: 0.6'>4</i>    </td><td>11.003373</td><td>-34.072971</td><td>16.143</td><td>15.411</td><td>00440080-3404226</td><td>ACC      </td><td>1        </td><td>222     </td></tr>\n",
       "<tr><td>...                              </td><td>...      </td><td>...       </td><td>...   </td><td>...   </td><td>...             </td><td>...      </td><td>...      </td><td>...     </td></tr>\n",
       "<tr><td><i style='opacity: 0.6'>4,159</i></td><td>12.995733</td><td>-33.493195</td><td>13.635</td><td>13.231</td><td>00515897-3329355</td><td>AAA      </td><td>1        </td><td>222     </td></tr>\n",
       "<tr><td><i style='opacity: 0.6'>4,160</i></td><td>12.995735</td><td>-33.672951</td><td>14.869</td><td>14.439</td><td>00515897-3340226</td><td>AAA      </td><td>1        </td><td>222     </td></tr>\n",
       "<tr><td><i style='opacity: 0.6'>4,161</i></td><td>12.99595 </td><td>-33.89793 </td><td>16.168</td><td>15.348</td><td>00515902-3353525</td><td>ACC      </td><td>1        </td><td>222     </td></tr>\n",
       "<tr><td><i style='opacity: 0.6'>4,162</i></td><td>12.996678</td><td>-33.365849</td><td>15.876</td><td>15.157</td><td>00515920-3321570</td><td>ABC      </td><td>1        </td><td>222     </td></tr>\n",
       "<tr><td><i style='opacity: 0.6'>4,163</i></td><td>12.998929</td><td>-33.725662</td><td>12.892</td><td>12.348</td><td>00515974-3343323</td><td>AAA      </td><td>1        </td><td>222     </td></tr>\n",
       "</tbody>\n",
       "</table>"
      ],
      "text/plain": [
       "#      ra         dec         j       k       designation       ph_qual    use_src    rd_flg\n",
       "0      11.000156  -34.379086  15.911  15.031  00440003-3422447  AAB        1          222\n",
       "1      11.00208   -34.455269  16.007  15.541  00440049-3427189  ABC        1          222\n",
       "2      11.002762  -34.668907  16.01   14.98   00440066-3440080  AAA        1          222\n",
       "3      11.00316   -34.744743  15.308  14.42   00440075-3444410  AAA        1          222\n",
       "4      11.003373  -34.072971  16.143  15.411  00440080-3404226  ACC        1          222\n",
       "...    ...        ...         ...     ...     ...               ...        ...        ...\n",
       "4,159  12.995733  -33.493195  13.635  13.231  00515897-3329355  AAA        1          222\n",
       "4,160  12.995735  -33.672951  14.869  14.439  00515897-3340226  AAA        1          222\n",
       "4,161  12.99595   -33.89793   16.168  15.348  00515902-3353525  ACC        1          222\n",
       "4,162  12.996678  -33.365849  15.876  15.157  00515920-3321570  ABC        1          222\n",
       "4,163  12.998929  -33.725662  12.892  12.348  00515974-3343323  AAA        1          222"
      ]
     },
     "execution_count": 42,
     "metadata": {},
     "output_type": "execute_result"
    }
   ],
   "source": [
    "tmass"
   ]
  },
  {
   "cell_type": "code",
   "execution_count": 43,
   "metadata": {},
   "outputs": [
    {
     "data": {
      "text/plain": [
       "[<matplotlib.lines.Line2D at 0x7f9900f1f0d0>]"
      ]
     },
     "execution_count": 43,
     "metadata": {},
     "output_type": "execute_result"
    },
    {
     "data": {
      "image/png": "[encoded data removed]",
      "text/plain": [
       "<Figure size 432x288 with 1 Axes>"
      ]
     },
     "metadata": {
      "needs_background": "light"
     },
     "output_type": "display_data"
    }
   ],
   "source": [
    "gaia = vaex.open_many(glob(join(gaia_data_dir, \"*.hdf5\")))\n",
    "gaia.viz.histogram(\"ra\")"
   ]
  },
  {
   "cell_type": "code",
   "execution_count": 44,
   "metadata": {},
   "outputs": [
    {
     "data": {
      "text/html": [
       "<table>\n",
       "<thead>\n",
       "<tr><th>#                                </th><th>source_id          </th><th>ra                </th><th>dec                </th><th>pm       </th><th>pmra               </th><th>e_pmra     </th><th>pmdec              </th><th>e_pmdec    </th><th>parallax          </th><th>e_parallax  </th><th>g        </th><th>bp       </th><th>rp       </th><th>fb_over_err  </th><th>fr_over_err  </th><th>ruwe     </th><th>excess_factor  </th><th>rv_gaia  </th><th>e_rv_gaia  </th><th>l                 </th><th>b                 </th><th>tmass_id        </th><th>j     </th><th>k     </th><th>ph_qual  </th><th>use_src  </th><th>rd_flg  </th></tr>\n",
       "</thead>\n",
       "<tbody>\n",
       "<tr><td><i style='opacity: 0.6'>0</i>    </td><td>5006000613617348480</td><td>12.000475962077937</td><td>-34.069343325658345</td><td>nan      </td><td>nan                </td><td>nan        </td><td>nan                </td><td>nan        </td><td>nan               </td><td>nan         </td><td>20.698315</td><td>19.004793</td><td>17.458633</td><td>30.479643    </td><td>61.362537    </td><td>nan      </td><td>11.76973       </td><td>nan      </td><td>nan        </td><td>308.7971153296628 </td><td>-83.01973493064607</td><td>00480011-3404097</td><td>16.133</td><td>14.936</td><td>BBB      </td><td>1        </td><td>222     </td></tr>\n",
       "<tr><td><i style='opacity: 0.6'>1</i>    </td><td>5005925464574027648</td><td>12.003640026108222</td><td>-34.320654634311815</td><td>17.09273 </td><td>14.79353364569145  </td><td>0.29525915 </td><td>-8.562287149048096 </td><td>0.3328816  </td><td>1.2145172637041746</td><td>0.29973266  </td><td>19.326653</td><td>20.664236</td><td>18.19406 </td><td>13.955322    </td><td>52.419224    </td><td>1.0302474</td><td>1.406235       </td><td>nan      </td><td>nan        </td><td>308.5572335841579 </td><td>-82.77016701782436</td><td>00480082-3419141</td><td>16.535</td><td>15.594</td><td>BBU      </td><td>1        </td><td>220     </td></tr>\n",
       "<tr><td><i style='opacity: 0.6'>2</i>    </td><td>5005918871799755776</td><td>12.004462402496701</td><td>-34.49869117704842 </td><td>24.27987 </td><td>-10.926337773629225</td><td>0.016928181</td><td>-21.682416101688816</td><td>0.019475468</td><td>3.1664930559344517</td><td>0.018302858 </td><td>12.783537</td><td>13.171815</td><td>12.230554</td><td>1353.5066    </td><td>3172.65      </td><td>1.1590643</td><td>1.2076706      </td><td>20.107126</td><td>1.6923168  </td><td>308.40612578566333</td><td>-82.59317259997916</td><td>00480107-3429549</td><td>11.574</td><td>11.113</td><td>AAA      </td><td>1        </td><td>222     </td></tr>\n",
       "<tr><td><i style='opacity: 0.6'>3</i>    </td><td>5005894265931313536</td><td>12.009745372236292</td><td>-34.823773070966   </td><td>6.415928 </td><td>-4.534141609454265 </td><td>0.06865835 </td><td>-4.5393489564714695</td><td>0.13403375 </td><td>0.5683489454120091</td><td>0.123656765 </td><td>17.877136</td><td>18.358871</td><td>17.270817</td><td>72.98521     </td><td>127.87862    </td><td>0.9660927</td><td>1.2011118      </td><td>nan      </td><td>nan        </td><td>308.1250617895592 </td><td>-82.2701751164736 </td><td>00480233-3449256</td><td>16.314</td><td>15.891</td><td>BCD      </td><td>1        </td><td>222     </td></tr>\n",
       "<tr><td><i style='opacity: 0.6'>4</i>    </td><td>5005921616283297536</td><td>12.010099059618875</td><td>-34.40476810829329 </td><td>nan      </td><td>nan                </td><td>nan        </td><td>nan                </td><td>nan        </td><td>nan               </td><td>nan         </td><td>20.884142</td><td>19.518343</td><td>17.933954</td><td>13.488242    </td><td>26.016285    </td><td>nan      </td><td>8.923625       </td><td>nan      </td><td>nan        </td><td>308.44579992531743</td><td>-82.68707317525265</td><td>00480243-3424171</td><td>16.414</td><td>14.867</td><td>BCB      </td><td>1        </td><td>222     </td></tr>\n",
       "<tr><td>...                              </td><td>...                </td><td>...               </td><td>...                </td><td>...      </td><td>...                </td><td>...        </td><td>...                </td><td>...        </td><td>...               </td><td>...         </td><td>...      </td><td>...      </td><td>...      </td><td>...          </td><td>...          </td><td>...      </td><td>...            </td><td>...      </td><td>...        </td><td>...               </td><td>...               </td><td>...             </td><td>...   </td><td>...   </td><td>...      </td><td>...      </td><td>...     </td></tr>\n",
       "<tr><td><i style='opacity: 0.6'>3,995</i></td><td>5006596372825617536</td><td>11.989418810981633</td><td>-33.411281185209795</td><td>9.451533 </td><td>-5.293269780841161 </td><td>0.16276602 </td><td>-7.830247967166388 </td><td>0.15892017 </td><td>0.6842038814650301</td><td>0.13880053  </td><td>18.21406 </td><td>18.794975</td><td>17.555641</td><td>43.47655     </td><td>117.36791    </td><td>1.000151 </td><td>1.1966524      </td><td>nan      </td><td>nan        </td><td>309.53588734104653</td><td>-83.6722837349411 </td><td>00475746-3324406</td><td>16.949</td><td>15.869</td><td>CDD      </td><td>1        </td><td>222     </td></tr>\n",
       "<tr><td><i style='opacity: 0.6'>3,996</i></td><td>5006622421802710400</td><td>11.992757003734987</td><td>-33.0889276861141  </td><td>12.590373</td><td>4.136245789024968  </td><td>0.1423591  </td><td>-11.891549967532852</td><td>0.17914435 </td><td>0.3743014953645126</td><td>0.17100392  </td><td>18.285034</td><td>18.822287</td><td>17.622894</td><td>64.78428     </td><td>67.88284     </td><td>1.0190394</td><td>1.2167314      </td><td>nan      </td><td>nan        </td><td>309.8870306726123 </td><td>-83.99243568882441</td><td>00475823-3305192</td><td>16.691</td><td>15.69 </td><td>BUU      </td><td>1        </td><td>200     </td></tr>\n",
       "<tr><td><i style='opacity: 0.6'>3,997</i></td><td>5006610189735852416</td><td>11.99278153766965 </td><td>-33.13238039975485 </td><td>42.577003</td><td>39.631213703928594 </td><td>0.021681327</td><td>-15.561752515724985</td><td>0.02442226 </td><td>0.7124430327630487</td><td>0.025343014 </td><td>14.325352</td><td>14.57544 </td><td>13.912325</td><td>1120.3326    </td><td>991.6829     </td><td>1.0351112</td><td>1.191791       </td><td>118.74942</td><td>12.110964  </td><td>309.83381122028834</td><td>-83.94934400914104</td><td>00475821-3307561</td><td>13.434</td><td>13.1  </td><td>AAA      </td><td>1        </td><td>222     </td></tr>\n",
       "<tr><td><i style='opacity: 0.6'>3,998</i></td><td>5006596063587971200</td><td>11.9928330577061  </td><td>-33.42599019126854 </td><td>35.640152</td><td>25.81237233537678  </td><td>0.40919444 </td><td>-24.575227344568624</td><td>0.37384018 </td><td>2.7653295627642662</td><td>0.29987586  </td><td>19.31142 </td><td>20.952156</td><td>18.063562</td><td>8.532091     </td><td>46.414646    </td><td>1.1047448</td><td>1.4884996      </td><td>nan      </td><td>nan        </td><td>309.4939579899106 </td><td>-83.65803339506482</td><td>00475824-3325330</td><td>16.269</td><td>15.299</td><td>ABC      </td><td>1        </td><td>222     </td></tr>\n",
       "<tr><td><i style='opacity: 0.6'>3,999</i></td><td>5006004839865165056</td><td>11.995335776892706</td><td>-33.94353486172639 </td><td>50.481808</td><td>41.75137005708976  </td><td>0.10131271 </td><td>-28.376678594018014</td><td>0.1089883  </td><td>3.33010214748486  </td><td>0.1279288   </td><td>16.586624</td><td>17.665909</td><td>15.486874</td><td>91.175575    </td><td>426.34756    </td><td>1.965182 </td><td>1.4274594      </td><td>nan      </td><td>nan        </td><td>308.94833562052486</td><td>-83.14429091899137</td><td>00475883-3356363</td><td>14.172</td><td>13.329</td><td>AAA      </td><td>1        </td><td>222     </td></tr>\n",
       "</tbody>\n",
       "</table>"
      ],
      "text/plain": [
       "#      source_id            ra                  dec                  pm         pmra                 e_pmra       pmdec                e_pmdec      parallax            e_parallax    g          bp         rp         fb_over_err    fr_over_err    ruwe       excess_factor    rv_gaia    e_rv_gaia    l                   b                   tmass_id          j       k       ph_qual    use_src    rd_flg\n",
       "0      5006000613617348480  12.000475962077937  -34.069343325658345  nan        nan                  nan          nan                  nan          nan                 nan           20.698315  19.004793  17.458633  30.479643      61.362537      nan        11.76973         nan        nan          308.7971153296628   -83.01973493064607  00480011-3404097  16.133  14.936  BBB        1          222\n",
       "1      5005925464574027648  12.003640026108222  -34.320654634311815  17.09273   14.79353364569145    0.29525915   -8.562287149048096   0.3328816    1.2145172637041746  0.29973266    19.326653  20.664236  18.19406   13.955322      52.419224      1.0302474  1.406235         nan        nan          308.5572335841579   -82.77016701782436  00480082-3419141  16.535  15.594  BBU        1          220\n",
       "2      5005918871799755776  12.004462402496701  -34.49869117704842   24.27987   -10.926337773629225  0.016928181  -21.682416101688816  0.019475468  3.1664930559344517  0.018302858   12.783537  13.171815  12.230554  1353.5066      3172.65        1.1590643  1.2076706        20.107126  1.6923168    308.40612578566333  -82.59317259997916  00480107-3429549  11.574  11.113  AAA        1          222\n",
       "3      5005894265931313536  12.009745372236292  -34.823773070966     6.415928   -4.534141609454265   0.06865835   -4.5393489564714695  0.13403375   0.5683489454120091  0.123656765   17.877136  18.358871  17.270817  72.98521       127.87862      0.9660927  1.2011118        nan        nan          308.1250617895592   -82.2701751164736   00480233-3449256  16.314  15.891  BCD        1          222\n",
       "4      5005921616283297536  12.010099059618875  -34.40476810829329   nan        nan                  nan          nan                  nan          nan                 nan           20.884142  19.518343  17.933954  13.488242      26.016285      nan        8.923625         nan        nan          308.44579992531743  -82.68707317525265  00480243-3424171  16.414  14.867  BCB        1          222\n",
       "...    ...                  ...                 ...                  ...        ...                  ...          ...                  ...          ...                 ...           ...        ...        ...        ...            ...            ...        ...              ...        ...          ...                 ...                 ...               ...     ...     ...        ...        ...\n",
       "3,995  5006596372825617536  11.989418810981633  -33.411281185209795  9.451533   -5.293269780841161   0.16276602   -7.830247967166388   0.15892017   0.6842038814650301  0.13880053    18.21406   18.794975  17.555641  43.47655       117.36791      1.000151   1.1966524        nan        nan          309.53588734104653  -83.6722837349411   00475746-3324406  16.949  15.869  CDD        1          222\n",
       "3,996  5006622421802710400  11.992757003734987  -33.0889276861141    12.590373  4.136245789024968    0.1423591    -11.891549967532852  0.17914435   0.3743014953645126  0.17100392    18.285034  18.822287  17.622894  64.78428       67.88284       1.0190394  1.2167314        nan        nan          309.8870306726123   -83.99243568882441  00475823-3305192  16.691  15.69   BUU        1          200\n",
       "3,997  5006610189735852416  11.99278153766965   -33.13238039975485   42.577003  39.631213703928594   0.021681327  -15.561752515724985  0.02442226   0.7124430327630487  0.025343014   14.325352  14.57544   13.912325  1120.3326      991.6829       1.0351112  1.191791         118.74942  12.110964    309.83381122028834  -83.94934400914104  00475821-3307561  13.434  13.1    AAA        1          222\n",
       "3,998  5006596063587971200  11.9928330577061    -33.42599019126854   35.640152  25.81237233537678    0.40919444   -24.575227344568624  0.37384018   2.7653295627642662  0.29987586    19.31142   20.952156  18.063562  8.532091       46.414646      1.1047448  1.4884996        nan        nan          309.4939579899106   -83.65803339506482  00475824-3325330  16.269  15.299  ABC        1          222\n",
       "3,999  5006004839865165056  11.995335776892706  -33.94353486172639   50.481808  41.75137005708976    0.10131271   -28.376678594018014  0.1089883    3.33010214748486    0.1279288     16.586624  17.665909  15.486874  91.175575      426.34756      1.965182   1.4274594        nan        nan          308.94833562052486  -83.14429091899137  00475883-3356363  14.172  13.329  AAA        1          222"
      ]
     },
     "execution_count": 44,
     "metadata": {},
     "output_type": "execute_result"
    }
   ],
   "source": [
    "gaia"
   ]
  },
  {
   "attachments": {},
   "cell_type": "markdown",
   "metadata": {},
   "source": [
    "Now, we are ready to query the whole data.\n",
    "\n",
    "It is better to run the code in dedicated python file instead of jupyter notebook. This way, we can run the code in the background. We can also run the code in parallel."
   ]
  },
  {
   "cell_type": "markdown",
   "metadata": {},
   "source": [
    "in `/script` directory, run `python gaia-tmass.py (ra_low) (ra_high) (dec_low) (dec_high) [dec_start]` to query the data.\n",
    "The `(...)` means the argument is required, while `[...]` means the argument is optional.\n",
    "This will create an array of RA and DEC ranges, with step of 1 degree. The `dec_start` is the starting DEC of the first RA. The default value is -90.\n",
    "Sometimes we want to continue the last query if something wrong happen."
   ]
  },
  {
   "cell_type": "markdown",
   "metadata": {},
   "source": [
    "run `python -u gaia-tmass.py (ra_low) (ra_high) (dec_low) (dec_high) [dec_start] [dec_end] | tee (log-file)` save the std output to `log-file`. The `-u` flag is to make sure the std output is not buffered."
   ]
  }
 ],
 "metadata": {
  "kernelspec": {
   "display_name": "vaex",
   "language": "python",
   "name": "python3"
  },
  "language_info": {
   "codemirror_mode": {
    "name": "ipython",
    "version": 3
   },
   "file_extension": ".py",
   "mimetype": "text/x-python",
   "name": "python",
   "nbconvert_exporter": "python",
   "pygments_lexer": "ipython3",
   "version": "3.8.10"
  },
  "vscode": {
   "interpreter": {
    "hash": "2e98b01e139963c1272b06356b7ab7b4729889064e74152a80e8f95bb2c4292e"
   }
  }
 },
 "nbformat": 4,
 "nbformat_minor": 4
}
