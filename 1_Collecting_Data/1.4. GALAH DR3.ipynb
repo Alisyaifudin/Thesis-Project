{
 "cells": [
  {
   "cell_type": "markdown",
   "metadata": {},
   "source": [
    "Go to https://datacentral.org.au/services/query/\n",
    "![galah query page](<images/galah-query-page.png>)"
   ]
  },
  {
   "attachments": {},
   "cell_type": "markdown",
   "metadata": {},
   "source": [
    "Extra metal elements in GALAH"
   ]
  },
  {
   "cell_type": "code",
   "execution_count": 1,
   "metadata": {},
   "outputs": [
    {
     "data": {
      "text/plain": [
       "'m.Li_fe, m.C_fe, m.O_fe, m.Na_fe, m.Mg_fe, m.Al_fe, m.Si_fe, m.K_fe, m.Ca_fe, m.Sc_fe, m.Sc2_fe, m.Ti_fe, m.Ti2_fe, m.V_fe, m.Cr_fe, m.Cr2_fe, m.Mn_fe, m.Co_fe, m.Ni_fe, m.Cu_fe, m.Zn_fe, m.Rb_fe, m.Sr_fe, m.Y_fe, m.Zr_fe, m.Mo_fe, m.Ru_fe, m.Ba_fe, m.La_fe, m.Ce_fe, m.Nd_fe, m.Sm_fe, m.Eu_fe, m.Li_fe, m.C_fe, m.O_fe, m.Na_fe, m.Mg_fe, m.Al_fe, m.Si_fe, m.K_fe, m.Ca_fe, m.Sc_fe, m.Sc2_fe, m.Ti_fe, m.Ti2_fe, m.V_fe, m.Cr_fe, m.Cr2_fe, m.Mn_fe, m.Co_fe, m.Ni_fe, m.Cu_fe, m.Zn_fe, m.Rb_fe, m.Sr_fe, m.Y_fe, m.Zr_fe, m.Mo_fe, m.Ru_fe, m.Ba_fe, m.La_fe, m.Ce_fe, m.Nd_fe, m.Sm_fe, m.Eu_fe'"
      ]
     },
     "execution_count": 1,
     "metadata": {},
     "output_type": "execute_result"
    }
   ],
   "source": [
    "els = \"Li_fe C_fe O_fe Na_fe Mg_fe Al_fe Si_fe K_fe Ca_fe Sc_fe Sc2_fe Ti_fe Ti2_fe V_fe Cr_fe Cr2_fe Mn_fe Co_fe Ni_fe Cu_fe Zn_fe Rb_fe Sr_fe Y_fe Zr_fe Mo_fe Ru_fe Ba_fe La_fe Ce_fe Nd_fe Sm_fe Eu_fe Li_fe C_fe O_fe Na_fe Mg_fe Al_fe Si_fe K_fe Ca_fe Sc_fe Sc2_fe Ti_fe Ti2_fe V_fe Cr_fe Cr2_fe Mn_fe Co_fe Ni_fe Cu_fe Zn_fe Rb_fe Sr_fe Y_fe Zr_fe Mo_fe Ru_fe Ba_fe La_fe Ce_fe Nd_fe Sm_fe Eu_fe\"\n",
    "els = els.split()\n",
    "# add 'm.' to the beginning of each element\n",
    "els = [\"m.\"+el for el in els]\n",
    "# concatenate the elements with \"+\" symbol in between\n",
    "els = \", \".join(els)\n",
    "els"
   ]
  },
  {
   "cell_type": "code",
   "execution_count": 2,
   "metadata": {},
   "outputs": [
    {
     "data": {
      "text/plain": [
       "'SQRT(POWER(m.e_Li_fe,2), POWER(m.e_C_fe,2), POWER(m.e_O_fe,2), POWER(m.e_Na_fe,2), POWER(m.e_Mg_fe,2), POWER(m.e_Al_fe,2), POWER(m.e_Si_fe,2), POWER(m.e_K_fe,2), POWER(m.e_Ca_fe,2), POWER(m.e_Sc_fe,2), POWER(m.e_Sc2_fe,2), POWER(m.e_Ti_fe,2), POWER(m.e_Ti2_fe,2), POWER(m.e_V_fe,2), POWER(m.e_Cr_fe,2), POWER(m.e_Cr2_fe,2), POWER(m.e_Mn_fe,2), POWER(m.e_Co_fe,2), POWER(m.e_Ni_fe,2), POWER(m.e_Cu_fe,2), POWER(m.e_Zn_fe,2), POWER(m.e_Rb_fe,2), POWER(m.e_Sr_fe,2), POWER(m.e_Y_fe,2), POWER(m.e_Zr_fe,2), POWER(m.e_Mo_fe,2), POWER(m.e_Ru_fe,2), POWER(m.e_Ba_fe,2), POWER(m.e_La_fe,2), POWER(m.e_Ce_fe,2), POWER(m.e_Nd_fe,2), POWER(m.e_Sm_fe,2), POWER(m.e_Eu_fe,2), POWER(m.e_Li_fe,2), POWER(m.e_C_fe,2), POWER(m.e_O_fe,2), POWER(m.e_Na_fe,2), POWER(m.e_Mg_fe,2), POWER(m.e_Al_fe,2), POWER(m.e_Si_fe,2), POWER(m.e_K_fe,2), POWER(m.e_Ca_fe,2), POWER(m.e_Sc_fe,2), POWER(m.e_Sc2_fe,2), POWER(m.e_Ti_fe,2), POWER(m.e_Ti2_fe,2), POWER(m.e_V_fe,2), POWER(m.e_Cr_fe,2), POWER(m.e_Cr2_fe,2), POWER(m.e_Mn_fe,2), POWER(m.e_Co_fe,2), POWER(m.e_Ni_fe,2), POWER(m.e_Cu_fe,2), POWER(m.e_Zn_fe,2), POWER(m.e_Rb_fe,2), POWER(m.e_Sr_fe,2), POWER(m.e_Y_fe,2), POWER(m.e_Zr_fe,2), POWER(m.e_Mo_fe,2), POWER(m.e_Ru_fe,2), POWER(m.e_Ba_fe,2), POWER(m.e_La_fe,2), POWER(m.e_Ce_fe,2), POWER(m.e_Nd_fe,2), POWER(m.e_Sm_fe,2), POWER(m.e_Eu_fe,2))'"
      ]
     },
     "execution_count": 2,
     "metadata": {},
     "output_type": "execute_result"
    }
   ],
   "source": [
    "els = \"e_Li_fe e_C_fe e_O_fe e_Na_fe e_Mg_fe e_Al_fe e_Si_fe e_K_fe e_Ca_fe e_Sc_fe e_Sc2_fe e_Ti_fe e_Ti2_fe e_V_fe e_Cr_fe e_Cr2_fe e_Mn_fe e_Co_fe e_Ni_fe e_Cu_fe e_Zn_fe e_Rb_fe e_Sr_fe e_Y_fe e_Zr_fe e_Mo_fe e_Ru_fe e_Ba_fe e_La_fe e_Ce_fe e_Nd_fe e_Sm_fe e_Eu_fe e_Li_fe e_C_fe e_O_fe e_Na_fe e_Mg_fe e_Al_fe e_Si_fe e_K_fe e_Ca_fe e_Sc_fe e_Sc2_fe e_Ti_fe e_Ti2_fe e_V_fe e_Cr_fe e_Cr2_fe e_Mn_fe e_Co_fe e_Ni_fe e_Cu_fe e_Zn_fe e_Rb_fe e_Sr_fe e_Y_fe e_Zr_fe e_Mo_fe e_Ru_fe e_Ba_fe e_La_fe e_Ce_fe e_Nd_fe e_Sm_fe e_Eu_fe\"\n",
    "els = els.split()\n",
    "# add 'm.' to the beginning of each element\n",
    "els = [\"POWER(m.\"+el+\",2)\" for el in els]\n",
    "# concatenate the elements with \"+\" symbol in between\n",
    "els = \", \".join(els)\n",
    "els = \"SQRT(\"+els+\")\"\n",
    "els"
   ]
  },
  {
   "attachments": {},
   "cell_type": "markdown",
   "metadata": {},
   "source": [
    "The query\n",
    "```\n",
    "SELECT TOP 100 \n",
    "m.rv_galah, m.e_rv_galah,\n",
    "m.logg AS logg_galah, m.e_logg AS e_logg_galah,\n",
    "m.teff AS teff_galah, m.e_teff AS e_teff_galah,\n",
    "m.fe_h AS feh_galah, m.e_fe_h AS e_feh_galah, \n",
    "m.alpha_fe AS alphafe_galah, m.e_alpha_fe AS e_alphafe_galah,\n",
    "m.Li_fe + m.C_fe + m.O_fe + m.Na_fe + m.Mg_fe + m.Al_fe + m.Si_fe + m.K_fe + m.Ca_fe + m.Sc_fe + m.Sc2_fe + m.Ti_fe + m.Ti2_fe + m.V_fe + m.Cr_fe + m.Cr2_fe + m.Mn_fe + m.Co_fe + m.Ni_fe + m.Cu_fe + m.Zn_fe + m.Rb_fe + m.Sr_fe + m.Y_fe + m.Zr_fe + m.Mo_fe + m.Ru_fe + m.Ba_fe + m.La_fe + m.Ce_fe + m.Nd_fe + m.Sm_fe + m.Eu_fe + m.Li_fe + m.C_fe + m.O_fe + m.Na_fe + m.Mg_fe + m.Al_fe + m.Si_fe + m.K_fe + m.Ca_fe + m.Sc_fe + m.Sc2_fe + m.Ti_fe + m.Ti2_fe + m.V_fe + m.Cr_fe + m.Cr2_fe + m.Mn_fe + m.Co_fe + m.Ni_fe + m.Cu_fe + m.Zn_fe + m.Rb_fe + m.Sr_fe + m.Y_fe + m.Zr_fe + m.Mo_fe + m.Ru_fe + m.Ba_fe + m.La_fe + m.Ce_fe + m.Nd_fe + m.Sm_fe + m.Eu_fe AS m_fe, \n",
    "SQRT(POWER(m.e_Li_fe,2) + POWER(m.e_C_fe,2) + POWER(m.e_O_fe,2) + POWER(m.e_Na_fe,2) + POWER(m.e_Mg_fe,2) + POWER(m.e_Al_fe,2) + POWER(m.e_Si_fe,2) + POWER(m.e_K_fe,2) + POWER(m.e_Ca_fe,2) + POWER(m.e_Sc_fe,2) + POWER(m.e_Sc2_fe,2) + POWER(m.e_Ti_fe,2) + POWER(m.e_Ti2_fe,2) + POWER(m.e_V_fe,2) + POWER(m.e_Cr_fe,2) + POWER(m.e_Cr2_fe,2) + POWER(m.e_Mn_fe,2) + POWER(m.e_Co_fe,2) + POWER(m.e_Ni_fe,2) + POWER(m.e_Cu_fe,2) + POWER(m.e_Zn_fe,2) + POWER(m.e_Rb_fe,2) + POWER(m.e_Sr_fe,2) + POWER(m.e_Y_fe,2) + POWER(m.e_Zr_fe,2) + POWER(m.e_Mo_fe,2) + POWER(m.e_Ru_fe,2) + POWER(m.e_Ba_fe,2) + POWER(m.e_La_fe,2) + POWER(m.e_Ce_fe,2) + POWER(m.e_Nd_fe,2) + POWER(m.e_Sm_fe,2) + POWER(m.e_Eu_fe,2) + POWER(m.e_Li_fe,2) + POWER(m.e_C_fe,2) + POWER(m.e_O_fe,2) + POWER(m.e_Na_fe,2) + POWER(m.e_Mg_fe,2) + POWER(m.e_Al_fe,2) + POWER(m.e_Si_fe,2) + POWER(m.e_K_fe,2) + POWER(m.e_Ca_fe,2) + POWER(m.e_Sc_fe,2) + POWER(m.e_Sc2_fe,2) + POWER(m.e_Ti_fe,2) + POWER(m.e_Ti2_fe,2) + POWER(m.e_V_fe,2) + POWER(m.e_Cr_fe,2) + POWER(m.e_Cr2_fe,2) + POWER(m.e_Mn_fe,2) + POWER(m.e_Co_fe,2) + POWER(m.e_Ni_fe,2) + POWER(m.e_Cu_fe,2) + POWER(m.e_Zn_fe,2) + POWER(m.e_Rb_fe,2) + POWER(m.e_Sr_fe,2) + POWER(m.e_Y_fe,2) + POWER(m.e_Zr_fe,2) + POWER(m.e_Mo_fe,2) + POWER(m.e_Ru_fe,2) + POWER(m.e_Ba_fe,2) + POWER(m.e_La_fe,2) + POWER(m.e_Ce_fe,2) + POWER(m.e_Nd_fe,2) + POWER(m.e_Sm_fe,2) + POWER(m.e_Eu_fe,2)) AS e_m_fe\n",
    "FROM galah_dr3.main_star as m\n",
    "```\n",
    "Divide RA in smaller chunk if necessary\n",
    "\n",
    "save the downloaded files to `Thesis-Project/Data/GALAH`"
   ]
  },
  {
   "attachments": {},
   "cell_type": "markdown",
   "metadata": {},
   "source": [
    "SELECT TOP 100 \n",
    "m.rv_galah, m.e_rv_galah,\n",
    "m.logg AS logg_galah, m.e_logg AS e_logg_galah,\n",
    "m.teff AS teff_galah, m.e_teff AS e_teff_galah,\n",
    "m.fe_h AS feh_galah, m.e_fe_h AS e_feh_galah, \n",
    "m.Li_fe, m.C_fe, m.O_fe, m.Na_fe, m.Mg_fe, m.Al_fe,\n",
    "m.Si_fe, m.K_fe, m.Ca_fe\n",
    "FROM galah_dr3.main_star as m"
   ]
  },
  {
   "attachments": {},
   "cell_type": "markdown",
   "metadata": {},
   "source": [
    "m.Sc_fe, m.Sc2_fe,\n",
    "m.Ti_fe, m.Ti2_fe, m.V_fe, m.Cr_fe, m.Cr2_fe, \n",
    "m.Mn_fe, m.Co_fe, m.Ni_fe, m.Cu_fe, m.Zn_fe, \n",
    "m.Rb_fe, m.Sr_fe, m.Y_fe, m.Zr_fe, m.Mo_fe, \n",
    "m.Ru_fe, m.Ba_fe, m.La_fe, m.Ce_fe, m.Nd_fe, \n",
    "m.Sm_fe, m.Eu_fe, m.Li_fe, m.C_fe, m.O_fe, \n",
    "m.Na_fe, m.Mg_fe, m.Al_fe, m.Si_fe, m.K_fe, \n",
    "m.Ca_fe, m.Sc_fe, m.Sc2_fe, m.Ti_fe, m.Ti2_fe, \n",
    "m.V_fe, m.Cr_fe, m.Cr2_fe, m.Mn_fe, m.Co_fe, \n",
    "m.Ni_fe, m.Cu_fe, m.Zn_fe, m.Rb_fe, m.Sr_fe, \n",
    "m.Y_fe, m.Zr_fe, m.Mo_fe, m.Ru_fe, m.Ba_fe, \n",
    "m.La_fe, m.Ce_fe, m.Nd_fe, m.Sm_fe, m.Eu_fe"
   ]
  },
  {
   "cell_type": "code",
   "execution_count": 2,
   "metadata": {},
   "outputs": [],
   "source": [
    "from astroquery.utils.tap.core import Tap\n",
    "from os.path import join, abspath\n",
    "from os import pardir\n",
    "from glob import glob\n",
    "import sys\n",
    "import numpy as np\n",
    "import pandas as pd\n",
    "import vaex\n",
    "from astropy.table import Table\n",
    "from astropy.io import fits "
   ]
  },
  {
   "cell_type": "code",
   "execution_count": 4,
   "metadata": {},
   "outputs": [],
   "source": [
    "# import utils\n",
    "util_dir = abspath(pardir)\n",
    "sys.path.insert(0, util_dir)\n",
    "\n",
    "from utils import append_name, launch_job, check_df, safe_mkdir"
   ]
  },
  {
   "attachments": {},
   "cell_type": "markdown",
   "metadata": {},
   "source": [
    "But, accessing [datacentral.org.au](datacentral.org.au) is never a good idea.\n",
    "It is extremely slow and the connection is unstable (what happen to australia?).\n",
    "Just be patient"
   ]
  },
  {
   "attachments": {},
   "cell_type": "markdown",
   "metadata": {},
   "source": [
    "# Underconstruction"
   ]
  },
  {
   "cell_type": "code",
   "execution_count": 5,
   "metadata": {},
   "outputs": [
    {
     "data": {
      "text/plain": [
       "['xmatch.\"Gaiae3\" AS source_id',\n",
       " 'aux.\"Teffs\" AS teff_rave',\n",
       " 'aux.\"loggs\" AS logg_rave',\n",
       " 'aux.\"[M/H]s\" AS mh_rave',\n",
       " 'aux.\"[a/Fe]s\" AS alphafe_rave',\n",
       " 'main.\"HRV\" AS rv_rave',\n",
       " 'main.\"e_HRV\" AS e_rv_rave']"
      ]
     },
     "execution_count": 5,
     "metadata": {},
     "output_type": "execute_result"
    }
   ],
   "source": [
    "# # Vizier tap endpoint\n",
    "# tap = Tap(url=\"https://datacentral.org.au/services/query/\")\n",
    "\n",
    "# columns_main = [\"HRV AS rv_rave\", \"e_HRV AS e_rv_rave\"]\n",
    "# columns_aux = [\"Teffs AS teff_rave\", \"loggs AS logg_rave\", \n",
    "#                \"[M/H]s AS mh_rave\", \"[a/Fe]s AS alphafe_rave\"]\n",
    "# columns_xmatch = [\"Gaiae3 AS source_id\"]\n",
    "\n",
    "# columns_main = list(map(lambda x: append_name(x, \"main\"), columns_main))\n",
    "# columns_aux = list(map(lambda x: append_name(x, \"aux\"), columns_aux))\n",
    "# columns_xmatch = list(map(lambda x: append_name(x, \"xmatch\"), columns_xmatch))\n",
    "\n",
    "# columns = columns_xmatch + columns_aux + columns_main\n",
    "# columns"
   ]
  },
  {
   "cell_type": "code",
   "execution_count": null,
   "metadata": {},
   "outputs": [],
   "source": [
    "# TOP = 100_000\n",
    "# query = f\"\"\"SELECT TOP {TOP} {\", \".join(columns)}\n",
    "# FROM {sparv_table}\n",
    "# JOIN {aux_table} ON {sparv_table}.rave_obs_id = {aux_table}.rave_obs_id\n",
    "# JOIN {xmatch_table} ON {sparv_table}.rave_obs_id = {xmatch_table}.rave_obs_id\n",
    "# WHERE {xmatch_table}.ra BETWEEN {0} AND {10}\n",
    "# \"\"\"\n",
    "# df = launch_job(tap.launch_job, query, duration=60)\n",
    "# df"
   ]
  },
  {
   "attachments": {},
   "cell_type": "markdown",
   "metadata": {},
   "source": [
    "# End of underconstruction"
   ]
  },
  {
   "attachments": {},
   "cell_type": "markdown",
   "metadata": {},
   "source": [
    "You can download the data here https://cloud.datacentral.org.au/teamdata/GALAH/public/GALAH_DR3/"
   ]
  },
  {
   "cell_type": "markdown",
   "metadata": {},
   "source": [
    "# Cleaning"
   ]
  },
  {
   "cell_type": "markdown",
   "metadata": {},
   "source": [
    "Data downloaded from Website have `byte` data type, which is annoying.\n",
    "\n",
    "convert it to `float64`, follow the following instruction"
   ]
  },
  {
   "cell_type": "code",
   "execution_count": 3,
   "metadata": {},
   "outputs": [
    {
     "ename": "NameError",
     "evalue": "name 'safe_mkdir' is not defined",
     "output_type": "error",
     "traceback": [
      "\u001b[0;31m---------------------------------------------------------------------------\u001b[0m",
      "\u001b[0;31mNameError\u001b[0m                                 Traceback (most recent call last)",
      "\u001b[1;32m/home2/s20321005/Thesis-Project/1_Collecting_Data/1.4. GALAH DR3.ipynb Cell 18\u001b[0m in \u001b[0;36m<cell line: 4>\u001b[0;34m()\u001b[0m\n\u001b[1;32m      <a href='vscode-notebook-cell://ssh-remote%2Bmilkyway.as.itb.ac.id/home2/s20321005/Thesis-Project/1_Collecting_Data/1.4.%20GALAH%20DR3.ipynb#X23sdnNjb2RlLXJlbW90ZQ%3D%3D?line=1'>2</a>\u001b[0m root_data_dir \u001b[39m=\u001b[39m abspath(join(pardir, \u001b[39m\"\u001b[39m\u001b[39mData\u001b[39m\u001b[39m\"\u001b[39m))\n\u001b[1;32m      <a href='vscode-notebook-cell://ssh-remote%2Bmilkyway.as.itb.ac.id/home2/s20321005/Thesis-Project/1_Collecting_Data/1.4.%20GALAH%20DR3.ipynb#X23sdnNjb2RlLXJlbW90ZQ%3D%3D?line=2'>3</a>\u001b[0m data_dir \u001b[39m=\u001b[39m join(root_data_dir, name)\n\u001b[0;32m----> <a href='vscode-notebook-cell://ssh-remote%2Bmilkyway.as.itb.ac.id/home2/s20321005/Thesis-Project/1_Collecting_Data/1.4.%20GALAH%20DR3.ipynb#X23sdnNjb2RlLXJlbW90ZQ%3D%3D?line=3'>4</a>\u001b[0m safe_mkdir(data_dir)\n",
      "\u001b[0;31mNameError\u001b[0m: name 'safe_mkdir' is not defined"
     ]
    }
   ],
   "source": [
    "name = \"GALAH\"\n",
    "root_data_dir = abspath(join(pardir, \"Data\"))\n",
    "data_dir = join(root_data_dir, name)\n",
    "safe_mkdir(data_dir)"
   ]
  },
  {
   "cell_type": "code",
   "execution_count": 5,
   "metadata": {},
   "outputs": [
    {
     "data": {
      "text/plain": [
       "'/home2/s20321005/Thesis-Project/Data/GALAH/GALAH_DR3_main_allstar_v2.fits'"
      ]
     },
     "execution_count": 5,
     "metadata": {},
     "output_type": "execute_result"
    }
   ],
   "source": [
    "# load downloaded data in this directory with .fits format\n",
    "file = join(data_dir, \"GALAH_DR3_main_allstar_v2.fits\")\n",
    "file"
   ]
  },
  {
   "cell_type": "code",
   "execution_count": 6,
   "metadata": {},
   "outputs": [
    {
     "name": "stderr",
     "output_type": "stream",
     "text": [
      "WARNING: UnitsWarning: 'log(cm.s**-2)' did not parse as fits unit: 'log' is not a recognized function If this is meant to be a custom unit, define it with 'u.def_unit'. To have it recognized inside a file reader or other code, enable it with 'u.add_enabled_units'. For details, see https://docs.astropy.org/en/latest/units/combining_and_defining.html [astropy.units.core]\n"
     ]
    },
    {
     "data": {
      "text/html": [
       "<div><i>Table length=588571</i>\n",
       "<table id=\"table140087512991248\" class=\"table-striped table-bordered table-condensed\">\n",
       "<thead><tr><th>star_id</th><th>sobject_id</th><th>dr2_source_id</th><th>dr3_source_id</th><th>survey_name</th><th>field_id</th><th>flag_repeat</th><th>wg4_field</th><th>wg4_pipeline</th><th>flag_sp</th><th>teff</th><th>e_teff</th><th>irfm_teff</th><th>irfm_ebv</th><th>irfm_ebv_ref</th><th>logg</th><th>e_logg</th><th>fe_h</th><th>e_fe_h</th><th>flag_fe_h</th><th>fe_h_atmo</th><th>vmic</th><th>vbroad</th><th>e_vbroad</th><th>chi2_sp</th><th>alpha_fe</th><th>e_alpha_fe</th><th>nr_alpha_fe</th><th>flag_alpha_fe</th><th>flux_A_Fe</th><th>chi_A_Fe</th><th>Li_fe</th><th>e_Li_fe</th><th>nr_Li_fe</th><th>flag_Li_fe</th><th>C_fe</th><th>e_C_fe</th><th>nr_C_fe</th><th>flag_C_fe</th><th>O_fe</th><th>e_O_fe</th><th>nr_O_fe</th><th>flag_O_fe</th><th>Na_fe</th><th>e_Na_fe</th><th>nr_Na_fe</th><th>flag_Na_fe</th><th>Mg_fe</th><th>e_Mg_fe</th><th>nr_Mg_fe</th><th>flag_Mg_fe</th><th>Al_fe</th><th>e_Al_fe</th><th>nr_Al_fe</th><th>flag_Al_fe</th><th>Si_fe</th><th>e_Si_fe</th><th>nr_Si_fe</th><th>flag_Si_fe</th><th>K_fe</th><th>e_K_fe</th><th>nr_K_fe</th><th>flag_K_fe</th><th>Ca_fe</th><th>e_Ca_fe</th><th>nr_Ca_fe</th><th>flag_Ca_fe</th><th>Sc_fe</th><th>e_Sc_fe</th><th>nr_Sc_fe</th><th>flag_Sc_fe</th><th>Sc2_fe</th><th>e_Sc2_fe</th><th>nr_Sc2_fe</th><th>flag_Sc2_fe</th><th>Ti_fe</th><th>e_Ti_fe</th><th>nr_Ti_fe</th><th>flag_Ti_fe</th><th>Ti2_fe</th><th>e_Ti2_fe</th><th>nr_Ti2_fe</th><th>flag_Ti2_fe</th><th>V_fe</th><th>e_V_fe</th><th>nr_V_fe</th><th>flag_V_fe</th><th>Cr_fe</th><th>e_Cr_fe</th><th>nr_Cr_fe</th><th>flag_Cr_fe</th><th>Cr2_fe</th><th>e_Cr2_fe</th><th>nr_Cr2_fe</th><th>flag_Cr2_fe</th><th>Mn_fe</th><th>e_Mn_fe</th><th>nr_Mn_fe</th><th>flag_Mn_fe</th><th>Co_fe</th><th>e_Co_fe</th><th>nr_Co_fe</th><th>flag_Co_fe</th><th>Ni_fe</th><th>e_Ni_fe</th><th>nr_Ni_fe</th><th>flag_Ni_fe</th><th>Cu_fe</th><th>e_Cu_fe</th><th>nr_Cu_fe</th><th>flag_Cu_fe</th><th>Zn_fe</th><th>e_Zn_fe</th><th>nr_Zn_fe</th><th>flag_Zn_fe</th><th>Rb_fe</th><th>e_Rb_fe</th><th>nr_Rb_fe</th><th>flag_Rb_fe</th><th>Sr_fe</th><th>e_Sr_fe</th><th>nr_Sr_fe</th><th>flag_Sr_fe</th><th>Y_fe</th><th>e_Y_fe</th><th>nr_Y_fe</th><th>flag_Y_fe</th><th>Zr_fe</th><th>e_Zr_fe</th><th>nr_Zr_fe</th><th>flag_Zr_fe</th><th>Mo_fe</th><th>e_Mo_fe</th><th>nr_Mo_fe</th><th>flag_Mo_fe</th><th>Ru_fe</th><th>e_Ru_fe</th><th>nr_Ru_fe</th><th>flag_Ru_fe</th><th>Ba_fe</th><th>e_Ba_fe</th><th>nr_Ba_fe</th><th>flag_Ba_fe</th><th>La_fe</th><th>e_La_fe</th><th>nr_La_fe</th><th>flag_La_fe</th><th>Ce_fe</th><th>e_Ce_fe</th><th>nr_Ce_fe</th><th>flag_Ce_fe</th><th>Nd_fe</th><th>e_Nd_fe</th><th>nr_Nd_fe</th><th>flag_Nd_fe</th><th>Sm_fe</th><th>e_Sm_fe</th><th>nr_Sm_fe</th><th>flag_Sm_fe</th><th>Eu_fe</th><th>e_Eu_fe</th><th>nr_Eu_fe</th><th>flag_Eu_fe</th><th>ra_dr2</th><th>dec_dr2</th><th>parallax_dr2</th><th>parallax_error_dr2</th><th>r_est_dr2</th><th>r_lo_dr2</th><th>r_hi_dr2</th><th>r_len_dr2</th><th>rv_galah</th><th>e_rv_galah</th><th>rv_gaia_dr2</th><th>e_rv_gaia_dr2</th><th>red_flag</th><th>ebv</th><th>snr_c1_iraf</th><th>snr_c2_iraf</th><th>snr_c3_iraf</th><th>snr_c4_iraf</th><th>flag_guess</th><th>v_jk</th><th>j_m</th><th>j_msigcom</th><th>h_m</th><th>h_msigcom</th><th>ks_m</th><th>ks_msigcom</th><th>ph_qual_tmass</th><th>w2mpro</th><th>w2mpro_error</th><th>ph_qual_wise</th><th>a_ks</th><th>e_a_ks</th><th>bc_ks</th><th>ruwe_dr2</th></tr></thead>\n",
       "<thead><tr><th></th><th></th><th></th><th></th><th></th><th></th><th></th><th></th><th></th><th></th><th>K</th><th>K</th><th>K</th><th>mag</th><th></th><th>log(cm.s**-2)</th><th>log(cm.s**-2)</th><th></th><th></th><th></th><th></th><th>km / s</th><th>km / s</th><th>km / s</th><th></th><th></th><th></th><th></th><th></th><th></th><th></th><th></th><th></th><th></th><th></th><th></th><th></th><th></th><th></th><th></th><th></th><th></th><th></th><th></th><th></th><th></th><th></th><th></th><th></th><th></th><th></th><th></th><th></th><th></th><th></th><th></th><th></th><th></th><th></th><th></th><th></th><th></th><th></th><th></th><th></th><th></th><th></th><th></th><th></th><th></th><th></th><th></th><th></th><th></th><th></th><th></th><th></th><th></th><th></th><th></th><th></th><th></th><th></th><th></th><th></th><th></th><th></th><th></th><th></th><th></th><th></th><th></th><th></th><th></th><th></th><th></th><th></th><th></th><th></th><th></th><th></th><th></th><th></th><th></th><th></th><th></th><th></th><th></th><th></th><th></th><th></th><th></th><th></th><th></th><th></th><th></th><th></th><th></th><th></th><th></th><th></th><th></th><th></th><th></th><th></th><th></th><th></th><th></th><th></th><th></th><th></th><th></th><th></th><th></th><th></th><th></th><th></th><th></th><th></th><th></th><th></th><th></th><th></th><th></th><th></th><th></th><th></th><th></th><th></th><th></th><th></th><th></th><th></th><th></th><th></th><th></th><th></th><th></th><th></th><th></th><th></th><th></th><th></th><th>deg</th><th>deg</th><th>mas</th><th>mas</th><th>pc</th><th>pc</th><th>pc</th><th>pc</th><th></th><th></th><th>km / s</th><th>km / s</th><th></th><th>mag</th><th></th><th></th><th></th><th></th><th></th><th>mag</th><th>mag</th><th>mag</th><th>mag</th><th>mag</th><th>mag</th><th>mag</th><th></th><th>mag</th><th>mag</th><th></th><th>mag</th><th>mag</th><th>mag</th><th></th></tr></thead>\n",
       "<thead><tr><th>bytes16</th><th>int64</th><th>int64</th><th>int64</th><th>bytes12</th><th>int64</th><th>int64</th><th>bytes6</th><th>bytes4</th><th>int64</th><th>float32</th><th>float64</th><th>float32</th><th>float32</th><th>bytes3</th><th>float32</th><th>float64</th><th>float32</th><th>float64</th><th>int64</th><th>float32</th><th>float32</th><th>float32</th><th>float64</th><th>float32</th><th>float64</th><th>float64</th><th>float64</th><th>int64</th><th>float32</th><th>float32</th><th>float64</th><th>float64</th><th>int64</th><th>int64</th><th>float64</th><th>float64</th><th>int64</th><th>int64</th><th>float64</th><th>float64</th><th>int64</th><th>int64</th><th>float64</th><th>float64</th><th>int64</th><th>int64</th><th>float64</th><th>float64</th><th>int64</th><th>int64</th><th>float64</th><th>float64</th><th>int64</th><th>int64</th><th>float64</th><th>float64</th><th>int64</th><th>int64</th><th>float64</th><th>float64</th><th>int64</th><th>int64</th><th>float64</th><th>float64</th><th>int64</th><th>int64</th><th>float64</th><th>float64</th><th>int64</th><th>int64</th><th>float64</th><th>float64</th><th>int64</th><th>int64</th><th>float64</th><th>float64</th><th>int64</th><th>int64</th><th>float64</th><th>float64</th><th>int64</th><th>int64</th><th>float64</th><th>float64</th><th>int64</th><th>int64</th><th>float64</th><th>float64</th><th>int64</th><th>int64</th><th>float64</th><th>float64</th><th>int64</th><th>int64</th><th>float64</th><th>float64</th><th>int64</th><th>int64</th><th>float64</th><th>float64</th><th>int64</th><th>int64</th><th>float64</th><th>float64</th><th>int64</th><th>int64</th><th>float64</th><th>float64</th><th>int64</th><th>int64</th><th>float64</th><th>float64</th><th>int64</th><th>int64</th><th>float64</th><th>float64</th><th>int64</th><th>int64</th><th>float64</th><th>float64</th><th>int64</th><th>int64</th><th>float64</th><th>float64</th><th>int64</th><th>int64</th><th>float64</th><th>float64</th><th>int64</th><th>int64</th><th>float64</th><th>float64</th><th>int64</th><th>int64</th><th>float64</th><th>float64</th><th>int64</th><th>int64</th><th>float64</th><th>float64</th><th>int64</th><th>int64</th><th>float64</th><th>float64</th><th>int64</th><th>int64</th><th>float64</th><th>float64</th><th>int64</th><th>int64</th><th>float64</th><th>float64</th><th>int64</th><th>int64</th><th>float64</th><th>float64</th><th>int64</th><th>int64</th><th>float64</th><th>float64</th><th>int64</th><th>int64</th><th>float64</th><th>float64</th><th>float64</th><th>float64</th><th>float64</th><th>float64</th><th>float64</th><th>float64</th><th>float64</th><th>float64</th><th>float32</th><th>float32</th><th>int64</th><th>float64</th><th>float64</th><th>float64</th><th>float64</th><th>float64</th><th>int64</th><th>float32</th><th>float32</th><th>float32</th><th>float32</th><th>float32</th><th>float32</th><th>float32</th><th>bytes3</th><th>float64</th><th>float64</th><th>bytes4</th><th>float64</th><th>float64</th><th>float32</th><th>float64</th></tr></thead>\n",
       "<tr><td>03325271-6840304</td><td>131116000501002</td><td>4667368899326729856</td><td>4667368899326729856</td><td>galah_main</td><td>138</td><td>0</td><td>10k_2</td><td>lbol</td><td>0</td><td>4553.3545</td><td>137.06088556228917</td><td>4138.0</td><td>0.048</td><td>sfd</td><td>4.7149534</td><td>0.20121636742743593</td><td>-0.33501863</td><td>0.12021913955493135</td><td>0</td><td>-0.109347336</td><td>0.94853675</td><td>9.345594</td><td>2.5080910007092827</td><td>0.5873856</td><td>0.35136763119226394</td><td>0.07919326531297675</td><td>405.0</td><td>0</td><td>0.73446965</td><td>0.80794984</td><td>-0.18375580310821538</td><td>0.12854836388714738</td><td>1</td><td>1</td><td>--</td><td>--</td><td>--</td><td>32</td><td>1.2146472740173344</td><td>0.2138376266813869</td><td>1</td><td>1</td><td>0.14526838302612344</td><td>0.11489051187565578</td><td>1</td><td>0</td><td>-0.08849821090698207</td><td>0.19155067846881743</td><td>1</td><td>0</td><td>0.46733125686645494</td><td>0.11861814440786478</td><td>1</td><td>0</td><td>--</td><td>--</td><td>1</td><td>32</td><td>0.4403888511657712</td><td>0.1647182437596357</td><td>1</td><td>0</td><td>0.40222770690917997</td><td>0.12761818533447994</td><td>1</td><td>0</td><td>0.427332248687744</td><td>0.10620845786539221</td><td>1</td><td>0</td><td>--</td><td>--</td><td>0</td><td>0</td><td>0.6909773123929537</td><td>0.20731252088935498</td><td>18</td><td>0</td><td>--</td><td>--</td><td>--</td><td>32</td><td>0.8553736305236814</td><td>0.3077087728097469</td><td>2</td><td>0</td><td>0.24255144119262706</td><td>0.15220728948870532</td><td>1</td><td>0</td><td>--</td><td>--</td><td>0</td><td>0</td><td>-0.1137567329406739</td><td>0.18646203092799396</td><td>1</td><td>0</td><td>0.6453323573865888</td><td>0.09574441488706045</td><td>6</td><td>0</td><td>--</td><td>--</td><td>--</td><td>32</td><td>0.1880807304382328</td><td>0.13495869404319633</td><td>2</td><td>0</td><td>--</td><td>--</td><td>--</td><td>32</td><td>--</td><td>--</td><td>--</td><td>32</td><td>0.5278627395629885</td><td>0.153388484303307</td><td>1</td><td>1</td><td>--</td><td>--</td><td>--</td><td>32</td><td>--</td><td>--</td><td>16</td><td>32</td><td>--</td><td>--</td><td>2</td><td>32</td><td>--</td><td>--</td><td>2</td><td>32</td><td>0.16386278152465827</td><td>0.17453543596116106</td><td>1</td><td>0</td><td>--</td><td>--</td><td>4</td><td>32</td><td>--</td><td>--</td><td>--</td><td>32</td><td>--</td><td>--</td><td>--</td><td>32</td><td>--</td><td>--</td><td>2</td><td>32</td><td>--</td><td>--</td><td>1</td><td>32</td><td>53.221131958529945</td><td>-68.67480027451936</td><td>6.944818500235433</td><td>0.014118345603723981</td><td>143.394475173609</td><td>143.102579738791</td><td>143.687542609767</td><td>509.572275021421</td><td>36.20399856567383</td><td>0.18299999833106995</td><td>35.907078</td><td>1.7959878</td><td>0</td><td>0.0465022</td><td>6.31334872044</td><td>17.3632540391</td><td>31.2749203375</td><td>29.0651741585</td><td>0</td><td>13.705686</td><td>11.396</td><td>0.023</td><td>10.728</td><td>0.022</td><td>10.607</td><td>0.021</td><td>AAA</td><td>10.558</td><td>0.019</td><td>AAAU</td><td>0.08261971284484879</td><td>0.02668523507339685</td><td>2.1981099</td><td>1.0987638037798317</td></tr>\n",
       "<tr><td>03345385-6836362</td><td>131116000501003</td><td>4667362989451832448</td><td>4667362989451832448</td><td>galah_main</td><td>138</td><td>0</td><td>10k_0</td><td>lbol</td><td>256</td><td>3622.7446</td><td>104.98349008795871</td><td>--</td><td>--</td><td></td><td>4.6915054</td><td>0.19856208380453938</td><td>--</td><td>--</td><td>17</td><td>0.34029227</td><td>0.79963917</td><td>14.891972</td><td>2.424654620895376</td><td>2.1496592</td><td>--</td><td>--</td><td>--</td><td>32</td><td>0.44742674</td><td>0.1310177</td><td>--</td><td>--</td><td>--</td><td>32</td><td>--</td><td>--</td><td>--</td><td>32</td><td>--</td><td>--</td><td>--</td><td>32</td><td>--</td><td>--</td><td>--</td><td>32</td><td>--</td><td>--</td><td>--</td><td>32</td><td>--</td><td>--</td><td>--</td><td>32</td><td>--</td><td>--</td><td>--</td><td>32</td><td>--</td><td>--</td><td>--</td><td>32</td><td>--</td><td>--</td><td>--</td><td>32</td><td>--</td><td>--</td><td>--</td><td>32</td><td>--</td><td>--</td><td>0</td><td>0</td><td>--</td><td>--</td><td>--</td><td>32</td><td>--</td><td>--</td><td>--</td><td>32</td><td>--</td><td>--</td><td>--</td><td>32</td><td>--</td><td>--</td><td>--</td><td>32</td><td>--</td><td>--</td><td>0</td><td>0</td><td>--</td><td>--</td><td>--</td><td>32</td><td>--</td><td>--</td><td>--</td><td>32</td><td>--</td><td>--</td><td>--</td><td>32</td><td>--</td><td>--</td><td>--</td><td>32</td><td>--</td><td>--</td><td>--</td><td>32</td><td>--</td><td>--</td><td>--</td><td>32</td><td>--</td><td>--</td><td>--</td><td>32</td><td>--</td><td>--</td><td>--</td><td>32</td><td>--</td><td>--</td><td>--</td><td>32</td><td>--</td><td>--</td><td>--</td><td>32</td><td>--</td><td>--</td><td>--</td><td>32</td><td>--</td><td>--</td><td>--</td><td>32</td><td>--</td><td>--</td><td>--</td><td>32</td><td>--</td><td>--</td><td>--</td><td>32</td><td>--</td><td>--</td><td>--</td><td>32</td><td>--</td><td>--</td><td>--</td><td>32</td><td>--</td><td>--</td><td>--</td><td>32</td><td>53.72602065860112</td><td>-68.61105093014966</td><td>10.360334657362394</td><td>0.016036012367258233</td><td>96.2529697018425</td><td>96.1035151103683</td><td>96.4028815885316</td><td>508.606084882748</td><td>55.373325571289065</td><td>0.7317890322419305</td><td>--</td><td>--</td><td>0</td><td>0.0</td><td>6.4556164766</td><td>18.4624855256</td><td>35.2540472447</td><td>32.247355967</td><td>0</td><td>13.426032</td><td>11.06</td><td>0.024</td><td>10.425</td><td>0.023</td><td>10.255</td><td>0.025</td><td>AAA</td><td>10.121</td><td>0.021</td><td>AAAU</td><td>0.0</td><td>0.0</td><td>2.669922</td><td>1.184694482545447</td></tr>\n",
       "<tr><td>03422255-6841522</td><td>131116000501004</td><td>4667324643983679744</td><td>4667324643983679744</td><td>galah_main</td><td>138</td><td>0</td><td>10k_26</td><td>lbol</td><td>0</td><td>4852.4756</td><td>172.75096900138723</td><td>4925.0</td><td>0.037</td><td>sfd</td><td>2.4668846</td><td>0.22319904274460833</td><td>-1.1701574</td><td>0.18190171456363485</td><td>0</td><td>-1.1479353</td><td>1.2029628</td><td>8.185776</td><td>2.876024403414056</td><td>0.27335835</td><td>0.27304791329884204</td><td>0.0853664789169457</td><td>7.0</td><td>0</td><td>0.5224489</td><td>0.32454506</td><td>1.0704490661621093</td><td>0.13536586392819236</td><td>1</td><td>1</td><td>--</td><td>--</td><td>1</td><td>32</td><td>0.7590327072143559</td><td>0.2293689008811489</td><td>1</td><td>1</td><td>-0.09108978271484336</td><td>0.12906693222360996</td><td>1</td><td>0</td><td>0.10771360397338903</td><td>0.22164796605124426</td><td>1</td><td>0</td><td>0.5268400573730467</td><td>0.1278229244151585</td><td>1</td><td>1</td><td>0.3356387901306155</td><td>0.12488414357858917</td><td>1</td><td>0</td><td>0.034968070983886435</td><td>0.18122666630749934</td><td>1</td><td>0</td><td>0.2607658576965335</td><td>0.13768748933157277</td><td>1</td><td>0</td><td>0.2452782058715819</td><td>0.11662904839016222</td><td>1</td><td>0</td><td>--</td><td>--</td><td>0</td><td>0</td><td>--</td><td>--</td><td>--</td><td>32</td><td>--</td><td>--</td><td>--</td><td>32</td><td>0.7469940280914305</td><td>0.3376534708082479</td><td>2</td><td>1</td><td>0.31753122329711925</td><td>0.16797777028262084</td><td>1</td><td>1</td><td>--</td><td>--</td><td>0</td><td>0</td><td>-0.430754737854004</td><td>0.21247207320030573</td><td>1</td><td>0</td><td>0.7501663589477543</td><td>0.24506798917739497</td><td>8</td><td>1</td><td>-0.006909828186035583</td><td>0.2047127644658996</td><td>2</td><td>0</td><td>-0.40098219871520957</td><td>0.1479941547827939</td><td>2</td><td>1</td><td>--</td><td>--</td><td>--</td><td>32</td><td>--</td><td>--</td><td>--</td><td>32</td><td>--</td><td>--</td><td>1</td><td>32</td><td>--</td><td>--</td><td>2</td><td>32</td><td>--</td><td>--</td><td>--</td><td>32</td><td>--</td><td>--</td><td>2</td><td>32</td><td>--</td><td>--</td><td>--</td><td>32</td><td>-0.03373805999755852</td><td>0.1924346219727886</td><td>1</td><td>0</td><td>1.0962916564941407</td><td>0.1456543666193846</td><td>4</td><td>1</td><td>0.9110014295578002</td><td>0.19326104140725978</td><td>1</td><td>1</td><td>1.3957192659378053</td><td>0.12388273144766232</td><td>2</td><td>1</td><td>1.0390346908569337</td><td>0.1667520813200468</td><td>2</td><td>1</td><td>0.8312043625116349</td><td>0.14460609718035686</td><td>1</td><td>1</td><td>55.5939792412479</td><td>-68.69793128381444</td><td>0.26650270452443187</td><td>0.01189447511321563</td><td>3359.01711102619</td><td>3230.06000247868</td><td>3498.38882540794</td><td>506.137800107038</td><td>95.87799835205078</td><td>0.1509999930858612</td><td>--</td><td>--</td><td>0</td><td>0.0387456</td><td>6.73577914541</td><td>14.2009174993</td><td>24.7487199023</td><td>19.9223602593</td><td>0</td><td>13.730144</td><td>11.981</td><td>0.023</td><td>11.468</td><td>0.024</td><td>11.374</td><td>0.019</td><td>AAA</td><td>11.379</td><td>0.021</td><td>AABU</td><td>0.008262378204346107</td><td>0.029275421861509228</td><td>1.9896321</td><td>0.9910400074815263</td></tr>\n",
       "<tr><td>03373408-6841062</td><td>131116000501005</td><td>4667335913977929728</td><td>4667335913977929728</td><td>galah_main</td><td>138</td><td>0</td><td>10k_33</td><td>lbol</td><td>1</td><td>5588.5005</td><td>104.29455501889545</td><td>5504.0</td><td>0.037</td><td>sfd</td><td>3.9993572</td><td>0.18612670726590325</td><td>0.052394867</td><td>0.09937209372391331</td><td>0</td><td>0.05899211</td><td>1.1119831</td><td>12.291694</td><td>2.3744396385168756</td><td>0.443703</td><td>-0.015429693609670742</td><td>0.05371322433644004</td><td>159.0</td><td>0</td><td>0.6112031</td><td>0.87341</td><td>0.5345733880996704</td><td>0.11160424502347113</td><td>1</td><td>1</td><td>-0.012350273132323508</td><td>0.15910315641757974</td><td>1</td><td>1</td><td>-0.0191645812988277</td><td>0.17742363564773667</td><td>1</td><td>0</td><td>0.04352325439453164</td><td>0.0846132911330551</td><td>1</td><td>0</td><td>0.0860876083374027</td><td>0.13060746990334504</td><td>1</td><td>0</td><td>0.2447460556030272</td><td>0.09702860618439443</td><td>1</td><td>0</td><td>-0.06691286087036108</td><td>0.08688879771527325</td><td>1</td><td>0</td><td>-0.009887046813965128</td><td>0.12803156926725534</td><td>1</td><td>0</td><td>0.05680830001831083</td><td>0.10421269598967589</td><td>1</td><td>0</td><td>0.022937622070312358</td><td>0.08269513660185172</td><td>1</td><td>0</td><td>--</td><td>--</td><td>0</td><td>0</td><td>-0.14315939605676797</td><td>0.15450547508039372</td><td>18</td><td>0</td><td>0.10152044296264684</td><td>0.16909238696098328</td><td>2</td><td>0</td><td>--</td><td>--</td><td>--</td><td>32</td><td>0.20608627319335948</td><td>0.1170130113065205</td><td>1</td><td>0</td><td>--</td><td>--</td><td>0</td><td>0</td><td>0.10330860137939446</td><td>0.13191300373199452</td><td>1</td><td>0</td><td>0.1970347785949711</td><td>0.19963276123767998</td><td>8</td><td>1</td><td>-0.1943988609313969</td><td>0.15145769388740715</td><td>2</td><td>0</td><td>0.04464341029936219</td><td>0.08590529130177613</td><td>3</td><td>0</td><td>-0.09222532367142064</td><td>0.15929123499034192</td><td>3</td><td>0</td><td>--</td><td>--</td><td>--</td><td>32</td><td>--</td><td>--</td><td>1</td><td>32</td><td>-0.017366256713867045</td><td>0.2637916188876764</td><td>2</td><td>0</td><td>--</td><td>--</td><td>16</td><td>32</td><td>--</td><td>--</td><td>2</td><td>32</td><td>--</td><td>--</td><td>2</td><td>32</td><td>-0.05982582092285149</td><td>0.13471361663479298</td><td>1</td><td>0</td><td>--</td><td>--</td><td>4</td><td>32</td><td>--</td><td>--</td><td>1</td><td>32</td><td>--</td><td>--</td><td>2</td><td>32</td><td>--</td><td>--</td><td>2</td><td>32</td><td>--</td><td>--</td><td>1</td><td>32</td><td>54.392072328589165</td><td>-68.68500209686545</td><td>1.2146076768453273</td><td>0.018661324179761803</td><td>804.187683047385</td><td>792.207993641738</td><td>816.528454022354</td><td>508.102011350455</td><td>7.130000114440918</td><td>0.12600000202655792</td><td>--</td><td>--</td><td>0</td><td>0.0</td><td>16.0023120406</td><td>26.1767683392</td><td>39.7826258548</td><td>27.7541624452</td><td>0</td><td>13.4390955</td><td>12.135</td><td>0.024</td><td>11.76</td><td>0.022</td><td>11.71</td><td>0.023</td><td>AAA</td><td>11.73</td><td>0.021</td><td>AABU</td><td>0.0</td><td>0.027919879851504546</td><td>1.5770009</td><td>1.62980943619104</td></tr>\n",
       "<tr><td>03430488-6843208</td><td>131116000501006</td><td>4667323681911007232</td><td>4667323681911007232</td><td>galah_main</td><td>138</td><td>0</td><td>10k_41</td><td>lbol</td><td>1</td><td>5709.503</td><td>109.2033998665521</td><td>5725.0</td><td>0.04</td><td>sfd</td><td>4.1819053</td><td>0.18470374660212685</td><td>-0.013732433</td><td>0.11137627470861318</td><td>0</td><td>-0.012599111</td><td>1.1385069</td><td>12.9611435</td><td>2.481610418094461</td><td>0.36644137</td><td>0.08102261072159844</td><td>0.0803723809132596</td><td>149.0</td><td>0</td><td>0.58534443</td><td>1.0214833</td><td>1.0378443717956543</td><td>0.11814705893645124</td><td>1</td><td>0</td><td>0.12284688949585032</td><td>0.16753269724043543</td><td>1</td><td>1</td><td>-0.030803699493407777</td><td>0.19110481006868496</td><td>1</td><td>0</td><td>-0.06756025314331016</td><td>0.09548310800225006</td><td>1</td><td>0</td><td>0.06459465026855504</td><td>0.15190491917809654</td><td>1</td><td>0</td><td>-0.08054510116577163</td><td>0.10514155635802754</td><td>1</td><td>0</td><td>-0.14394018173217749</td><td>0.09637794828824486</td><td>1</td><td>0</td><td>0.3196479606628415</td><td>0.1414634723199241</td><td>1</td><td>0</td><td>0.11632329940795927</td><td>0.11297032294284093</td><td>1</td><td>0</td><td>0.0735886955261229</td><td>0.09136811760686372</td><td>1</td><td>0</td><td>--</td><td>--</td><td>0</td><td>0</td><td>0.018990011468218573</td><td>0.17378060745674445</td><td>18</td><td>0</td><td>--</td><td>--</td><td>--</td><td>32</td><td>--</td><td>--</td><td>--</td><td>32</td><td>0.04184782028198253</td><td>0.12992498622992935</td><td>1</td><td>0</td><td>--</td><td>--</td><td>0</td><td>0</td><td>0.012897415161132741</td><td>0.15131884433161769</td><td>1</td><td>0</td><td>0.3876032257080082</td><td>0.21216250688135174</td><td>8</td><td>1</td><td>0.005661029815673402</td><td>0.16539034836224079</td><td>2</td><td>0</td><td>-0.12656408309936484</td><td>0.11636832567234576</td><td>2</td><td>0</td><td>-0.18101013170767846</td><td>0.17897387524707473</td><td>3</td><td>0</td><td>--</td><td>--</td><td>--</td><td>32</td><td>--</td><td>--</td><td>1</td><td>32</td><td>0.11839357376098647</td><td>0.2996743180587472</td><td>2</td><td>0</td><td>--</td><td>--</td><td>--</td><td>32</td><td>--</td><td>--</td><td>2</td><td>32</td><td>--</td><td>--</td><td>--</td><td>32</td><td>0.022581653594970774</td><td>0.14930133878190555</td><td>1</td><td>0</td><td>--</td><td>--</td><td>4</td><td>32</td><td>--</td><td>--</td><td>1</td><td>32</td><td>--</td><td>--</td><td>2</td><td>32</td><td>--</td><td>--</td><td>2</td><td>32</td><td>--</td><td>--</td><td>1</td><td>32</td><td>55.77049402234547</td><td>-68.72245271415676</td><td>2.3610539598278524</td><td>0.01958931994020445</td><td>418.433567707082</td><td>415.005773705545</td><td>421.917428971084</td><td>505.910006831732</td><td>24.81599998474121</td><td>0.16300000250339508</td><td>28.70949</td><td>1.6540529</td><td>0</td><td>0.0</td><td>14.3958322384</td><td>22.5936752799</td><td>36.087040824</td><td>26.4494696616</td><td>0</td><td>12.554296</td><td>11.248</td><td>0.024</td><td>10.883</td><td>0.022</td><td>10.822</td><td>0.021</td><td>AAA</td><td>10.827</td><td>0.021</td><td>AAAU</td><td>0.0</td><td>0.027919879851504546</td><td>1.5089293</td><td>1.4031795399212366</td></tr>\n",
       "<tr><td>03425716-6844462</td><td>131116000501007</td><td>4667323544472053888</td><td>4667323544472053888</td><td>galah_main</td><td>138</td><td>0</td><td>10k_57</td><td>lbol</td><td>1</td><td>6235.3145</td><td>108.18794750114685</td><td>6064.0</td><td>0.039</td><td>sfd</td><td>4.100623</td><td>0.19112432261704415</td><td>-0.32357025</td><td>0.1462187036262967</td><td>0</td><td>-0.3137603</td><td>1.3898064</td><td>9.967797</td><td>2.706815220859221</td><td>0.2749326</td><td>0.059424770301388416</td><td>0.09710625308779575</td><td>5.0</td><td>0</td><td>0.4544868</td><td>0.33100364</td><td>1.9030010223388671</td><td>0.12255319802358268</td><td>1</td><td>0</td><td>0.13223438262939524</td><td>0.17316686159589514</td><td>1</td><td>1</td><td>0.290998916625977</td><td>0.20058994390710622</td><td>1</td><td>0</td><td>0.21065563201904336</td><td>0.10338138626023291</td><td>1</td><td>0</td><td>-0.04013738632202113</td><td>0.16780513201527056</td><td>1</td><td>0</td><td>0.2217648887634276</td><td>0.11076515702784075</td><td>1</td><td>1</td><td>--</td><td>--</td><td>--</td><td>32</td><td>-0.23851568222045927</td><td>0.15102954407621708</td><td>1</td><td>0</td><td>0.1095522117614749</td><td>0.119068219768443</td><td>1</td><td>0</td><td>0.13779052734374986</td><td>0.09749773664420676</td><td>1</td><td>0</td><td>--</td><td>--</td><td>0</td><td>0</td><td>--</td><td>--</td><td>--</td><td>32</td><td>--</td><td>--</td><td>--</td><td>32</td><td>--</td><td>--</td><td>--</td><td>32</td><td>-0.02911317825317372</td><td>0.13910133641446548</td><td>1</td><td>0</td><td>--</td><td>--</td><td>0</td><td>0</td><td>-0.23593004226684577</td><td>0.16555031226373865</td><td>1</td><td>0</td><td>1.1707233810424809</td><td>0.22059192739465103</td><td>8</td><td>1</td><td>--</td><td>--</td><td>2</td><td>32</td><td>--</td><td>--</td><td>2</td><td>32</td><td>-0.05639783178889956</td><td>0.1930187856376155</td><td>3</td><td>0</td><td>--</td><td>--</td><td>1</td><td>32</td><td>--</td><td>--</td><td>--</td><td>32</td><td>0.14057675623750598</td><td>0.24675519162359288</td><td>3</td><td>0</td><td>--</td><td>--</td><td>--</td><td>32</td><td>--</td><td>--</td><td>--</td><td>32</td><td>--</td><td>--</td><td>--</td><td>32</td><td>0.15915592193603523</td><td>0.15968473056353083</td><td>1</td><td>0</td><td>--</td><td>--</td><td>4</td><td>32</td><td>--</td><td>--</td><td>1</td><td>32</td><td>--</td><td>--</td><td>2</td><td>32</td><td>--</td><td>--</td><td>2</td><td>32</td><td>--</td><td>--</td><td>1</td><td>32</td><td>55.738300571586</td><td>-68.74617973122437</td><td>1.624054243275433</td><td>0.05746676646806385</td><td>605.529389660267</td><td>585.011568776895</td><td>627.509417322287</td><td>506.076392030802</td><td>-38.36000061035156</td><td>0.13600000739097595</td><td>-28.930613</td><td>1.929695</td><td>0</td><td>0.0</td><td>13.3899462368</td><td>20.3132131955</td><td>31.9328651417</td><td>22.2356275885</td><td>0</td><td>12.80671</td><td>11.576</td><td>0.027</td><td>11.222</td><td>0.022</td><td>11.185</td><td>0.021</td><td>AAA</td><td>11.165</td><td>0.02</td><td>AAAU</td><td>0.0</td><td>0.027294102053785345</td><td>1.2224644</td><td>2.6568542930184345</td></tr>\n",
       "<tr><td>03415061-6844479</td><td>131116000501008</td><td>4667323235234552064</td><td>4667323235234552064</td><td>galah_main</td><td>138</td><td>0</td><td>10k_25</td><td>lbol</td><td>0</td><td>4966.2104</td><td>176.98966364275333</td><td>5148.0</td><td>0.035</td><td>sfd</td><td>3.0899649</td><td>0.21535796048022715</td><td>-1.2057476</td><td>0.20254064930006094</td><td>0</td><td>-1.1631954</td><td>1.1605936</td><td>7.9239855</td><td>3.2465983962720024</td><td>0.31600887</td><td>0.3428791202993938</td><td>0.09024230705500048</td><td>7.0</td><td>0</td><td>0.527349</td><td>0.4734404</td><td>1.286950421333313</td><td>0.13936532802032384</td><td>1</td><td>1</td><td>--</td><td>--</td><td>--</td><td>32</td><td>1.1295904922485356</td><td>0.23870572373667404</td><td>1</td><td>1</td><td>0.41913646697998086</td><td>0.13793231869672992</td><td>1</td><td>0</td><td>0.26992073059082067</td><td>0.2409030657500002</td><td>1</td><td>0</td><td>0.8678377532958983</td><td>0.13335559073365552</td><td>1</td><td>1</td><td>0.4459908294677737</td><td>0.13224585348306772</td><td>1</td><td>0</td><td>0.5383221435546872</td><td>0.1913777515971723</td><td>1</td><td>0</td><td>0.24700862884521513</td><td>0.14376277194104925</td><td>1</td><td>0</td><td>0.3100727462768553</td><td>0.12299552768210041</td><td>1</td><td>0</td><td>--</td><td>--</td><td>0</td><td>0</td><td>--</td><td>--</td><td>--</td><td>32</td><td>--</td><td>--</td><td>--</td><td>32</td><td>1.0032484626770017</td><td>0.3558769717257193</td><td>2</td><td>1</td><td>0.511854763031006</td><td>0.17765786386148774</td><td>1</td><td>1</td><td>--</td><td>--</td><td>0</td><td>0</td><td>-0.0828886795043946</td><td>0.22886436921704867</td><td>1</td><td>0</td><td>1.084915580749512</td><td>0.25269792024623383</td><td>8</td><td>1</td><td>--</td><td>--</td><td>--</td><td>32</td><td>-0.09794264793395957</td><td>0.15595159631338426</td><td>2</td><td>1</td><td>--</td><td>--</td><td>--</td><td>32</td><td>1.4560462474822997</td><td>0.17053078602864907</td><td>1</td><td>1</td><td>--</td><td>--</td><td>1</td><td>32</td><td>--</td><td>--</td><td>--</td><td>32</td><td>--</td><td>--</td><td>--</td><td>32</td><td>--</td><td>--</td><td>2</td><td>32</td><td>--</td><td>--</td><td>--</td><td>32</td><td>-0.17292301177978509</td><td>0.2034356890763408</td><td>1</td><td>0</td><td>1.4046285104751588</td><td>0.147585401660168</td><td>4</td><td>1</td><td>1.2061768627166747</td><td>0.19727528696206592</td><td>1</td><td>1</td><td>--</td><td>--</td><td>--</td><td>32</td><td>1.2849996948242188</td><td>0.1691802441103214</td><td>2</td><td>1</td><td>1.1222327280044557</td><td>0.14821097142835526</td><td>1</td><td>1</td><td>55.46092008164234</td><td>-68.74669223755294</td><td>0.5389809873980008</td><td>0.012740560951591888</td><td>1759.31955369873</td><td>1720.4977826216</td><td>1799.89795344772</td><td>506.605778605597</td><td>106.0719985961914</td><td>0.18799999356269836</td><td>--</td><td>--</td><td>0</td><td>0.0</td><td>6.01747365484</td><td>12.4317942174</td><td>23.0167329439</td><td>15.432156919</td><td>0</td><td>13.580122</td><td>12.063</td><td>0.023</td><td>11.605</td><td>0.021</td><td>11.546</td><td>0.021</td><td>AAA</td><td>11.554</td><td>0.021</td><td>AAAU</td><td>0.0</td><td>0.02726320877641714</td><td>1.9149778</td><td>1.024880375775855</td></tr>\n",
       "<tr><td>03430083-6847248</td><td>131116000501010</td><td>4667134286736917248</td><td>4667134286736917248</td><td>galah_main</td><td>138</td><td>0</td><td>10k_34</td><td>lbol</td><td>0</td><td>5857.342</td><td>140.8312197854804</td><td>5877.0</td><td>0.039</td><td>sfd</td><td>4.2040153</td><td>0.19147522673003115</td><td>-0.024733543</td><td>0.18740401250234054</td><td>0</td><td>-0.0037341788</td><td>1.1868114</td><td>11.188813</td><td>2.9755419970433823</td><td>0.3478042</td><td>0.0322409769808939</td><td>0.09389778646489419</td><td>7.0</td><td>0</td><td>0.5750601</td><td>0.720996</td><td>1.2889501571655273</td><td>0.14229146852885594</td><td>1</td><td>0</td><td>0.4279392242431648</td><td>0.19803020604915123</td><td>1</td><td>1</td><td>0.7092270660400395</td><td>0.245640462334886</td><td>1</td><td>0</td><td>0.14480775833129922</td><td>0.1446792202706697</td><td>1</td><td>0</td><td>0.13077821731567418</td><td>0.2557646482407494</td><td>1</td><td>0</td><td>0.36918624877929673</td><td>0.1374644542557341</td><td>1</td><td>1</td><td>0.09854820251464869</td><td>0.13781023992363467</td><td>1</td><td>0</td><td>0.5047394561767575</td><td>0.1990230889769669</td><td>1</td><td>0</td><td>-0.07765119552612276</td><td>0.148285164581263</td><td>1</td><td>0</td><td>0.24491962432861314</td><td>0.12777143465062768</td><td>1</td><td>0</td><td>--</td><td>--</td><td>0</td><td>0</td><td>--</td><td>--</td><td>--</td><td>32</td><td>--</td><td>--</td><td>--</td><td>32</td><td>--</td><td>--</td><td>--</td><td>32</td><td>0.09503089904785167</td><td>0.19318346679210663</td><td>1</td><td>0</td><td>--</td><td>--</td><td>0</td><td>0</td><td>-0.003496723175048899</td><td>0.24139946023623413</td><td>1</td><td>0</td><td>1.083896579742432</td><td>0.2582773173553428</td><td>8</td><td>1</td><td>--</td><td>--</td><td>2</td><td>32</td><td>0.17372602462768594</td><td>0.1619179355324501</td><td>2</td><td>0</td><td>0.5730648422241211</td><td>0.34438016904267876</td><td>2</td><td>0</td><td>--</td><td>--</td><td>--</td><td>32</td><td>--</td><td>--</td><td>1</td><td>32</td><td>--</td><td>--</td><td>2</td><td>32</td><td>--</td><td>--</td><td>--</td><td>32</td><td>--</td><td>--</td><td>--</td><td>32</td><td>--</td><td>--</td><td>--</td><td>32</td><td>0.07454307556152351</td><td>0.21171877657258426</td><td>1</td><td>0</td><td>--</td><td>--</td><td>4</td><td>32</td><td>--</td><td>--</td><td>1</td><td>32</td><td>--</td><td>--</td><td>2</td><td>32</td><td>--</td><td>--</td><td>2</td><td>32</td><td>--</td><td>--</td><td>1</td><td>32</td><td>55.75335093339096</td><td>-68.79025212275894</td><td>1.8131794144221058</td><td>0.02101330041201229</td><td>542.900823411603</td><td>536.730591319397</td><td>549.21196187921</td><td>506.240780885644</td><td>52.26300048828125</td><td>0.27900001406669617</td><td>--</td><td>--</td><td>0</td><td>0.0415157</td><td>6.79645788262</td><td>11.174677097</td><td>17.9152772704</td><td>11.0736515072</td><td>0</td><td>12.900349</td><td>11.724</td><td>0.026</td><td>11.442</td><td>0.025</td><td>11.359</td><td>0.021</td><td>AAA</td><td>11.348</td><td>0.02</td><td>AAAU</td><td>0.012852357192992471</td><td>0.029390340884043426</td><td>1.4298027</td><td>1.1971164424736473</td></tr>\n",
       "<tr><td>03405609-6844483</td><td>131116000501012</td><td>4667320108498310656</td><td>4667320108498310656</td><td>galah_main</td><td>138</td><td>0</td><td>10k_44</td><td>lbol</td><td>0</td><td>5642.7427</td><td>116.18223856886398</td><td>5835.0</td><td>0.034</td><td>sfd</td><td>4.2985377</td><td>0.187614360454785</td><td>0.08286619</td><td>0.11861984489121277</td><td>0</td><td>0.09919102</td><td>1.1224245</td><td>8.619909</td><td>2.5179712775880687</td><td>0.3513293</td><td>-0.038428970792295826</td><td>0.06941369658648928</td><td>31.0</td><td>0</td><td>0.67511785</td><td>0.68905246</td><td>0.5939059972763061</td><td>0.1256436632698861</td><td>1</td><td>1</td><td>0.12141351699829173</td><td>0.1770992943860334</td><td>1</td><td>1</td><td>0.07118700027465863</td><td>0.20737039285597247</td><td>1</td><td>0</td><td>-0.004927215576171484</td><td>0.10920356501975784</td><td>1</td><td>0</td><td>-0.0621515274047848</td><td>0.17973571040698663</td><td>1</td><td>0</td><td>0.22022947311401353</td><td>0.11478467783967869</td><td>1</td><td>0</td><td>0.09276082992553736</td><td>0.10815594288584889</td><td>1</td><td>0</td><td>-0.13764793395996122</td><td>0.1579891384882412</td><td>1</td><td>0</td><td>-0.229511909484863</td><td>0.1234396120423388</td><td>1</td><td>0</td><td>0.09252103805541978</td><td>0.10193489422127003</td><td>1</td><td>0</td><td>--</td><td>--</td><td>0</td><td>0</td><td>0.04243009439608577</td><td>0.19813201566303393</td><td>3</td><td>0</td><td>--</td><td>--</td><td>--</td><td>32</td><td>--</td><td>--</td><td>--</td><td>32</td><td>0.0801135253906251</td><td>0.1457681638219121</td><td>1</td><td>0</td><td>--</td><td>--</td><td>0</td><td>0</td><td>-0.07330854415893562</td><td>0.17610453852963703</td><td>1</td><td>0</td><td>0.5858339691162113</td><td>0.22650042752429278</td><td>8</td><td>0</td><td>-0.009575410529224549</td><td>0.12993343986895564</td><td>3</td><td>0</td><td>0.06470192822265461</td><td>0.10291667582212098</td><td>3</td><td>0</td><td>0.047038593292236364</td><td>0.2586558472614412</td><td>2</td><td>0</td><td>--</td><td>--</td><td>--</td><td>32</td><td>--</td><td>--</td><td>1</td><td>32</td><td>--</td><td>--</td><td>--</td><td>32</td><td>--</td><td>--</td><td>--</td><td>32</td><td>--</td><td>--</td><td>2</td><td>32</td><td>--</td><td>--</td><td>2</td><td>32</td><td>-0.19698183059692376</td><td>0.16723616915935352</td><td>1</td><td>0</td><td>--</td><td>--</td><td>--</td><td>32</td><td>--</td><td>--</td><td>1</td><td>32</td><td>--</td><td>--</td><td>2</td><td>32</td><td>--</td><td>--</td><td>2</td><td>32</td><td>--</td><td>--</td><td>1</td><td>32</td><td>55.233797772514514</td><td>-68.74674627858889</td><td>1.6290673453201392</td><td>0.013925485264266733</td><td>603.146291544571</td><td>598.084534658994</td><td>608.292897761011</td><td>507.02102893253</td><td>-2.746999979019165</td><td>0.12099999934434891</td><td>--</td><td>--</td><td>0</td><td>0.0355331</td><td>9.36252212842</td><td>18.7715658131</td><td>31.0340985473</td><td>26.5140606709</td><td>0</td><td>13.498083</td><td>12.301</td><td>0.026</td><td>12.03</td><td>0.023</td><td>11.926</td><td>0.023</td><td>AAA</td><td>11.939</td><td>0.021</td><td>AABC</td><td>0.010097754867553658</td><td>0.02859094769139741</td><td>1.5493774</td><td>1.0273200178634123</td></tr>\n",
       "<tr><td>...</td><td>...</td><td>...</td><td>...</td><td>...</td><td>...</td><td>...</td><td>...</td><td>...</td><td>...</td><td>...</td><td>...</td><td>...</td><td>...</td><td>...</td><td>...</td><td>...</td><td>...</td><td>...</td><td>...</td><td>...</td><td>...</td><td>...</td><td>...</td><td>...</td><td>...</td><td>...</td><td>...</td><td>...</td><td>...</td><td>...</td><td>...</td><td>...</td><td>...</td><td>...</td><td>...</td><td>...</td><td>...</td><td>...</td><td>...</td><td>...</td><td>...</td><td>...</td><td>...</td><td>...</td><td>...</td><td>...</td><td>...</td><td>...</td><td>...</td><td>...</td><td>...</td><td>...</td><td>...</td><td>...</td><td>...</td><td>...</td><td>...</td><td>...</td><td>...</td><td>...</td><td>...</td><td>...</td><td>...</td><td>...</td><td>...</td><td>...</td><td>...</td><td>...</td><td>...</td><td>...</td><td>...</td><td>...</td><td>...</td><td>...</td><td>...</td><td>...</td><td>...</td><td>...</td><td>...</td><td>...</td><td>...</td><td>...</td><td>...</td><td>...</td><td>...</td><td>...</td><td>...</td><td>...</td><td>...</td><td>...</td><td>...</td><td>...</td><td>...</td><td>...</td><td>...</td><td>...</td><td>...</td><td>...</td><td>...</td><td>...</td><td>...</td><td>...</td><td>...</td><td>...</td><td>...</td><td>...</td><td>...</td><td>...</td><td>...</td><td>...</td><td>...</td><td>...</td><td>...</td><td>...</td><td>...</td><td>...</td><td>...</td><td>...</td><td>...</td><td>...</td><td>...</td><td>...</td><td>...</td><td>...</td><td>...</td><td>...</td><td>...</td><td>...</td><td>...</td><td>...</td><td>...</td><td>...</td><td>...</td><td>...</td><td>...</td><td>...</td><td>...</td><td>...</td><td>...</td><td>...</td><td>...</td><td>...</td><td>...</td><td>...</td><td>...</td><td>...</td><td>...</td><td>...</td><td>...</td><td>...</td><td>...</td><td>...</td><td>...</td><td>...</td><td>...</td><td>...</td><td>...</td><td>...</td><td>...</td><td>...</td><td>...</td><td>...</td><td>...</td><td>...</td><td>...</td><td>...</td><td>...</td><td>...</td><td>...</td><td>...</td><td>...</td><td>...</td><td>...</td><td>...</td><td>...</td><td>...</td><td>...</td><td>...</td><td>...</td><td>...</td><td>...</td><td>...</td><td>...</td><td>...</td><td>...</td><td>...</td><td>...</td><td>...</td><td>...</td><td>...</td><td>...</td><td>...</td><td>...</td><td>...</td><td>...</td><td>...</td></tr>\n",
       "<tr><td>15155692-4410157</td><td>190225005301390</td><td>6000434766992385536</td><td>6000434767003135232</td><td>galah_main</td><td>4235</td><td>0</td><td>190225</td><td>lbol</td><td>0</td><td>4626.5635</td><td>99.88453200208804</td><td>--</td><td>--</td><td></td><td>2.6147392</td><td>0.19895956416259025</td><td>-0.31719112</td><td>0.08444125630097907</td><td>0</td><td>-0.32504737</td><td>1.3178129</td><td>8.281374</td><td>2.265844216058288</td><td>0.7662571</td><td>0.09054013800936005</td><td>0.040663108574083014</td><td>447.0</td><td>0</td><td>0.715573</td><td>1.3448861</td><td>-0.3598843693733216</td><td>0.10274481669175632</td><td>1</td><td>1</td><td>--</td><td>--</td><td>--</td><td>32</td><td>0.4700588989257817</td><td>0.15969394900309997</td><td>1</td><td>0</td><td>-0.08714776992797812</td><td>0.07149002966577975</td><td>1</td><td>0</td><td>0.01861038208007848</td><td>0.10592351071834286</td><td>1</td><td>0</td><td>0.24474367141723619</td><td>0.08651179924178769</td><td>1</td><td>0</td><td>0.11968162536621119</td><td>0.07520270721378097</td><td>1</td><td>0</td><td>-0.1815741729736331</td><td>0.11131688748960661</td><td>1</td><td>0</td><td>0.17158538818359403</td><td>0.09293717751251218</td><td>1</td><td>0</td><td>0.0409496688842772</td><td>0.0717768683861001</td><td>1</td><td>0</td><td>--</td><td>--</td><td>0</td><td>0</td><td>-0.03183597756251359</td><td>0.08692564928261376</td><td>23</td><td>0</td><td>0.16259628056811692</td><td>0.08190468346058924</td><td>11</td><td>0</td><td>-0.1549150848388674</td><td>0.16403267520149062</td><td>1</td><td>0</td><td>-0.0838283348083495</td><td>0.10089397299028259</td><td>1</td><td>0</td><td>--</td><td>--</td><td>0</td><td>0</td><td>-0.23908193588256843</td><td>0.1088077153438216</td><td>1</td><td>0</td><td>0.00472568840793434</td><td>0.06004595767802907</td><td>15</td><td>0</td><td>-0.09068288645081365</td><td>0.09372566059882201</td><td>3</td><td>0</td><td>-0.04776661820647921</td><td>0.06991832770485132</td><td>3</td><td>0</td><td>-0.06119392499726757</td><td>0.13489294560440837</td><td>3</td><td>0</td><td>-0.046599960327148526</td><td>0.12291547933227177</td><td>1</td><td>0</td><td>--</td><td>--</td><td>--</td><td>32</td><td>-0.1506737136840819</td><td>0.2204850412943399</td><td>2</td><td>0</td><td>-0.19290596008300787</td><td>0.16237503979897408</td><td>1</td><td>0</td><td>--</td><td>--</td><td>--</td><td>32</td><td>--</td><td>--</td><td>2</td><td>32</td><td>-0.018374366760253835</td><td>0.1165452207756281</td><td>1</td><td>0</td><td>--</td><td>--</td><td>--</td><td>32</td><td>-0.10818447113037122</td><td>0.1581745898310132</td><td>1</td><td>0</td><td>0.236151580810547</td><td>0.16676577404177512</td><td>1</td><td>0</td><td>-0.19018712997436515</td><td>0.14481650563121531</td><td>2</td><td>1</td><td>0.24579971313476567</td><td>0.11380733062808938</td><td>1</td><td>0</td><td>228.98701581914577</td><td>-44.171027405353186</td><td>1.0481751622092261</td><td>0.04018585811066928</td><td>930.240109483799</td><td>896.435300102507</td><td>966.644335086974</td><td>1702.94849265658</td><td>96.74500274658203</td><td>0.07199999690055847</td><td>97.40874</td><td>0.63341236</td><td>0</td><td>0.19112714</td><td>21.431325745219</td><td>31.4608463818828</td><td>53.1486949204558</td><td>61.0848029069249</td><td>0</td><td>11.62601</td><td>9.704</td><td>0.022</td><td>9.162</td><td>0.022</td><td>9.036</td><td>0.021</td><td>AAA</td><td>9.022</td><td>0.019</td><td>AAAU</td><td>0.05507972685241677</td><td>0.02668523507339685</td><td>2.0596023</td><td>1.1562496423721313</td></tr>\n",
       "<tr><td>15143444-4410291</td><td>190225005301391</td><td>6003345479206258176</td><td>6003345479206258176</td><td>galah_main</td><td>4235</td><td>0</td><td>190225</td><td>lbol</td><td>0</td><td>7069.9604</td><td>74.66314178607834</td><td>--</td><td>--</td><td></td><td>3.9425986</td><td>0.179078373079509</td><td>0.22707129</td><td>0.06266547206209279</td><td>0</td><td>0.029554918</td><td>2.2429063</td><td>13.204644</td><td>2.194789243598331</td><td>1.6007367</td><td>-0.5288264168329017</td><td>0.024515203562259568</td><td>135.0</td><td>0</td><td>0.4558394</td><td>2.3335867</td><td>--</td><td>--</td><td>--</td><td>32</td><td>--</td><td>--</td><td>--</td><td>32</td><td>-1.1881652069091793</td><td>0.09338919273975918</td><td>1</td><td>0</td><td>0.08185428619384805</td><td>0.033644055874914064</td><td>1</td><td>0</td><td>-0.5336662292480465</td><td>0.044072557032442734</td><td>1</td><td>0</td><td>-0.25033584594726577</td><td>0.04713738934247795</td><td>1</td><td>0</td><td>-0.41115877151489233</td><td>0.0390303217568881</td><td>1</td><td>0</td><td>-0.205607719421387</td><td>0.05759017837196416</td><td>1</td><td>0</td><td>-0.9772631454467771</td><td>0.05180102011451962</td><td>1</td><td>0</td><td>-0.886658344268799</td><td>0.0492979995906353</td><td>1</td><td>0</td><td>--</td><td>--</td><td>0</td><td>0</td><td>0.24112100601196307</td><td>0.09129963213744682</td><td>16</td><td>0</td><td>-0.5762021113917287</td><td>0.053996173655230364</td><td>6</td><td>0</td><td>--</td><td>--</td><td>--</td><td>32</td><td>-0.1415809440612792</td><td>0.04847418121474517</td><td>1</td><td>0</td><td>--</td><td>--</td><td>0</td><td>0</td><td>-0.2734428215026856</td><td>0.04533718394174047</td><td>1</td><td>0</td><td>--</td><td>--</td><td>--</td><td>32</td><td>--</td><td>--</td><td>--</td><td>32</td><td>0.4584019906996884</td><td>0.04064289067475021</td><td>3</td><td>0</td><td>0.7322090351919616</td><td>0.05839683133846032</td><td>3</td><td>0</td><td>--</td><td>--</td><td>--</td><td>32</td><td>--</td><td>--</td><td>--</td><td>32</td><td>1.659583979328698</td><td>0.08068021373225617</td><td>3</td><td>0</td><td>--</td><td>--</td><td>--</td><td>32</td><td>--</td><td>--</td><td>--</td><td>32</td><td>--</td><td>--</td><td>--</td><td>32</td><td>1.5993533897399903</td><td>0.05796465593249979</td><td>1</td><td>0</td><td>0.7180939950297571</td><td>0.07807219337147095</td><td>3</td><td>0</td><td>0.23143659591674792</td><td>0.10729520720687685</td><td>1</td><td>0</td><td>0.8676599311828614</td><td>0.10848382625144354</td><td>1</td><td>0</td><td>0.6593108057587729</td><td>0.07661975340172268</td><td>3</td><td>0</td><td>0.6725665855407715</td><td>0.07177725155382982</td><td>1</td><td>0</td><td>228.64344498254982</td><td>-44.174776541345835</td><td>2.0238727538814496</td><td>0.05374503149017337</td><td>487.694942472701</td><td>475.1360200211</td><td>500.923270494185</td><td>1688.87133354953</td><td>-30.45199966430664</td><td>0.2980000078678131</td><td>-78.17414</td><td>7.0300417</td><td>0</td><td>0.038279840649718795</td><td>49.2555496919916</td><td>65.0237711155518</td><td>85.3651377173757</td><td>81.8302297307359</td><td>0</td><td>10.748437</td><td>9.904</td><td>0.023</td><td>9.787</td><td>0.022</td><td>9.714</td><td>0.019</td><td>AAA</td><td>9.692</td><td>0.02</td><td>AAAC</td><td>0.013769726852416835</td><td>0.027294102053785345</td><td>0.8294134</td><td>0.9941818118095398</td></tr>\n",
       "<tr><td>15155839-4411222</td><td>190225005301392</td><td>6000433903695851520</td><td>6000433903695851520</td><td>galah_main</td><td>4235</td><td>0</td><td>190225</td><td>lbol</td><td>0</td><td>6320.469</td><td>70.83264582472003</td><td>--</td><td>--</td><td></td><td>4.002362</td><td>0.17606171219921002</td><td>-0.16107273</td><td>0.052936462450190375</td><td>0</td><td>-0.24208736</td><td>1.4513148</td><td>40.316414</td><td>2.2087107575137814</td><td>1.588413</td><td>0.04832225707788677</td><td>0.017398831895236798</td><td>7.0</td><td>0</td><td>0.25480366</td><td>2.7394047</td><td>2.1824361801147463</td><td>0.030402222023893304</td><td>1</td><td>0</td><td>--</td><td>--</td><td>--</td><td>32</td><td>0.14212463378906293</td><td>0.05813510796165177</td><td>1</td><td>0</td><td>0.19884675979614297</td><td>0.023459042562442405</td><td>1</td><td>0</td><td>-0.1015959739685055</td><td>0.032559384771766654</td><td>1</td><td>0</td><td>--</td><td>--</td><td>--</td><td>32</td><td>0.015008716583252202</td><td>0.027317703251627485</td><td>1</td><td>0</td><td>0.5624462890624997</td><td>0.038389758423262865</td><td>1</td><td>0</td><td>0.23071891784667997</td><td>0.03131008708164221</td><td>1</td><td>0</td><td>-0.05320182800292983</td><td>0.023677019402384758</td><td>1</td><td>0</td><td>--</td><td>--</td><td>0</td><td>0</td><td>--</td><td>--</td><td>--</td><td>32</td><td>-0.11632404327392543</td><td>0.05760236829519272</td><td>4</td><td>0</td><td>--</td><td>--</td><td>--</td><td>32</td><td>--</td><td>--</td><td>1</td><td>32</td><td>--</td><td>--</td><td>0</td><td>0</td><td>-0.02341087341308601</td><td>0.030296949067923983</td><td>1</td><td>0</td><td>--</td><td>--</td><td>--</td><td>32</td><td>--</td><td>--</td><td>--</td><td>32</td><td>--</td><td>--</td><td>--</td><td>32</td><td>-0.15727094588056426</td><td>0.0395568015920627</td><td>3</td><td>0</td><td>--</td><td>--</td><td>--</td><td>32</td><td>--</td><td>--</td><td>--</td><td>32</td><td>-0.010274081015122049</td><td>0.05235776655420069</td><td>3</td><td>0</td><td>--</td><td>--</td><td>--</td><td>32</td><td>--</td><td>--</td><td>--</td><td>32</td><td>--</td><td>--</td><td>--</td><td>32</td><td>0.239658432006836</td><td>0.036859326659515114</td><td>1</td><td>0</td><td>--</td><td>--</td><td>--</td><td>32</td><td>--</td><td>--</td><td>--</td><td>32</td><td>--</td><td>--</td><td>--</td><td>32</td><td>--</td><td>--</td><td>--</td><td>32</td><td>--</td><td>--</td><td>--</td><td>32</td><td>228.99319780206147</td><td>-44.1895856603651</td><td>6.4712492561037385</td><td>0.0467629321478514</td><td>153.855462269716</td><td>152.748042891552</td><td>154.978766188085</td><td>1703.86895808841</td><td>7.925000190734863</td><td>0.15600000321865082</td><td>--</td><td>--</td><td>0</td><td>0.19416869</td><td>107.998065625505</td><td>139.985716980687</td><td>188.058797041548</td><td>179.037746529976</td><td>0</td><td>9.620161</td><td>8.366</td><td>0.023</td><td>8.058</td><td>0.033</td><td>7.964</td><td>0.016</td><td>AAA</td><td>7.923</td><td>0.019</td><td>AAAB</td><td>0.050489642807006796</td><td>0.034956398877700204</td><td>1.0938306</td><td>1.1400079727172852</td></tr>\n",
       "<tr><td>15145791-4413486</td><td>190225005301393</td><td>6000436313189153152</td><td>6000436313189153152</td><td>galah_main</td><td>4235</td><td>0</td><td>190225</td><td>lbol</td><td>1</td><td>5174.439</td><td>75.8556008692775</td><td>--</td><td>--</td><td></td><td>3.0179756</td><td>0.34854001042504007</td><td>-0.18914843</td><td>0.04820591185532295</td><td>0</td><td>-0.2577094</td><td>1.1098399</td><td>6.4373245</td><td>2.109692923728531</td><td>2.2990737</td><td>-0.05103896735498406</td><td>0.016936446348544985</td><td>315.0</td><td>0</td><td>0.66909194</td><td>5.14545</td><td>0.5377356529235839</td><td>0.04433275879703759</td><td>1</td><td>0</td><td>--</td><td>--</td><td>--</td><td>32</td><td>-0.11185552597045856</td><td>0.07009635033482658</td><td>1</td><td>0</td><td>0.018140735626221094</td><td>0.025779761609324086</td><td>1</td><td>0</td><td>-0.040608024597167613</td><td>0.034604111121512876</td><td>1</td><td>0</td><td>0.0419414901733397</td><td>0.03327523895110589</td><td>1</td><td>0</td><td>-0.10301992416381811</td><td>0.03031619774409475</td><td>1</td><td>0</td><td>-0.08988601684570341</td><td>0.04360723305484021</td><td>1</td><td>0</td><td>0.13011056900024442</td><td>0.03802715511785583</td><td>1</td><td>0</td><td>-0.12029520034790053</td><td>0.024775202764390353</td><td>1</td><td>0</td><td>--</td><td>--</td><td>0</td><td>0</td><td>-0.020427778264239457</td><td>0.025293696689484193</td><td>39</td><td>0</td><td>-0.2402468803844314</td><td>0.027094406487305038</td><td>11</td><td>0</td><td>-0.0688419930065186</td><td>0.0474060980633953</td><td>3</td><td>0</td><td>-0.04050672531127919</td><td>0.03450454112054914</td><td>1</td><td>0</td><td>--</td><td>--</td><td>0</td><td>0</td><td>-0.03929527282714851</td><td>0.033449326488002806</td><td>1</td><td>0</td><td>-0.11744123172554127</td><td>0.036437392167304156</td><td>12</td><td>0</td><td>-0.15545103739299596</td><td>0.034995943666632216</td><td>3</td><td>0</td><td>-0.17302729439992304</td><td>0.0274082461469689</td><td>3</td><td>0</td><td>-0.08494778729087792</td><td>0.03983864814107111</td><td>3</td><td>0</td><td>--</td><td>--</td><td>--</td><td>32</td><td>--</td><td>--</td><td>--</td><td>32</td><td>-0.3171231776330029</td><td>0.05753642302513179</td><td>3</td><td>0</td><td>0.04112156022500133</td><td>0.05342483411718134</td><td>3</td><td>0</td><td>--</td><td>--</td><td>--</td><td>32</td><td>--</td><td>--</td><td>--</td><td>32</td><td>-0.04287187576293938</td><td>0.042622139563275666</td><td>1</td><td>0</td><td>-0.10129595541608932</td><td>0.058318883535952735</td><td>3</td><td>0</td><td>-0.26970304489135755</td><td>0.07582511831219692</td><td>1</td><td>0</td><td>0.04023492813110363</td><td>0.07366260549854597</td><td>1</td><td>0</td><td>--</td><td>--</td><td>--</td><td>32</td><td>--</td><td>--</td><td>--</td><td>32</td><td>228.74127381618533</td><td>-44.23017127550549</td><td>2.0592694339837925</td><td>0.30765995608911306</td><td>498.048555877098</td><td>425.693742410802</td><td>599.732046670896</td><td>1694.99399126198</td><td>6.494999885559082</td><td>0.057999998331069946</td><td>7.6466703</td><td>1.0914346</td><td>0</td><td>0.19176696</td><td>66.2001674021543</td><td>95.2394227777358</td><td>137.030344332599</td><td>138.105092891575</td><td>0</td><td>9.883614</td><td>8.337</td><td>0.026</td><td>7.903</td><td>0.038</td><td>7.808</td><td>0.031</td><td>AAA</td><td>7.779</td><td>0.019</td><td>AAAB</td><td>0.040391887939453204</td><td>0.03900149697073837</td><td>1.7195796</td><td>9.423050880432129</td></tr>\n",
       "<tr><td>15141216-4414570</td><td>190225005301394</td><td>6003344109124763008</td><td>6003344109124763008</td><td>galah_main</td><td>4235</td><td>0</td><td>190225</td><td>lbol</td><td>0</td><td>5995.7153</td><td>82.79617112549185</td><td>--</td><td>--</td><td></td><td>3.4676821</td><td>0.1880533173290586</td><td>-0.31032705</td><td>0.07669249333169036</td><td>0</td><td>-0.3373316</td><td>1.247865</td><td>13.993375</td><td>2.2519860831492733</td><td>0.98479086</td><td>0.022984535802852844</td><td>0.030635066611558934</td><td>15.0</td><td>0</td><td>0.38517666</td><td>1.6133338</td><td>2.202974033355713</td><td>0.0766680191819615</td><td>1</td><td>0</td><td>-0.013793659210204368</td><td>0.11251590066681942</td><td>1</td><td>0</td><td>-0.2824726295471187</td><td>0.11328075418387493</td><td>1</td><td>0</td><td>-0.017580089569091406</td><td>0.042899454144846555</td><td>1</td><td>0</td><td>0.07528152465820348</td><td>0.05740183680749856</td><td>1</td><td>0</td><td>-0.06667867660522475</td><td>0.05895931269003818</td><td>1</td><td>0</td><td>0.005811004638672124</td><td>0.04841631366618669</td><td>1</td><td>0</td><td>-0.31693059921264677</td><td>0.07196211033554745</td><td>1</td><td>0</td><td>-0.01234310150146456</td><td>0.06392219604135141</td><td>1</td><td>0</td><td>-0.13608804702758803</td><td>0.04528656233113581</td><td>1</td><td>0</td><td>--</td><td>--</td><td>0</td><td>0</td><td>0.14701052258080924</td><td>0.06142477614422011</td><td>19</td><td>0</td><td>0.07728243433538502</td><td>0.04408696462060216</td><td>15</td><td>0</td><td>--</td><td>--</td><td>--</td><td>32</td><td>0.0852853012084962</td><td>0.06262687368105299</td><td>1</td><td>0</td><td>--</td><td>--</td><td>0</td><td>0</td><td>-0.09759052276611335</td><td>0.060215017836570656</td><td>1</td><td>0</td><td>--</td><td>--</td><td>--</td><td>32</td><td>0.20719196319580035</td><td>0.08735705720741405</td><td>2</td><td>0</td><td>0.13958257675170938</td><td>0.05835626029867722</td><td>2</td><td>0</td><td>-0.11302381330678452</td><td>0.0783470278130136</td><td>3</td><td>0</td><td>--</td><td>--</td><td>--</td><td>32</td><td>--</td><td>--</td><td>--</td><td>32</td><td>-0.19274539948412855</td><td>0.1054217014702195</td><td>3</td><td>0</td><td>--</td><td>--</td><td>--</td><td>32</td><td>--</td><td>--</td><td>--</td><td>32</td><td>--</td><td>--</td><td>--</td><td>32</td><td>0.15401323318481452</td><td>0.07367366673876133</td><td>1</td><td>0</td><td>0.7190948677062989</td><td>0.13576193153858185</td><td>4</td><td>0</td><td>0.35920415878295886</td><td>0.1259443952880342</td><td>1</td><td>0</td><td>--</td><td>--</td><td>2</td><td>32</td><td>--</td><td>--</td><td>2</td><td>32</td><td>0.4697992134094239</td><td>0.08904168754816055</td><td>1</td><td>0</td><td>228.5505992072962</td><td>-44.24923801385154</td><td>1.2593079285709687</td><td>0.045141388448325596</td><td>777.684365441397</td><td>751.086033623244</td><td>806.199155554508</td><td>1687.69070277399</td><td>-39.066001892089844</td><td>0.12700000405311584</td><td>--</td><td>--</td><td>0</td><td>0.04338557564392144</td><td>37.1850552999228</td><td>51.142116295224</td><td>70.793922152927</td><td>75.0387845322555</td><td>0</td><td>11.329287</td><td>10.155</td><td>0.022</td><td>9.857</td><td>0.023</td><td>9.791</td><td>0.019</td><td>AAA</td><td>9.76</td><td>0.02</td><td>AAAB</td><td>0.01560632217407246</td><td>0.02798018237775127</td><td>1.3469667</td><td>1.061646819114685</td></tr>\n",
       "<tr><td>15142072-4415325</td><td>190225005301395</td><td>6003344796319529600</td><td>6003344796319529600</td><td>galah_main</td><td>4235</td><td>0</td><td>190225</td><td>lbol</td><td>0</td><td>4531.2153</td><td>71.12315268169422</td><td>--</td><td>--</td><td></td><td>2.4103317</td><td>0.18300246561395928</td><td>-0.29380798</td><td>0.04297140239160699</td><td>0</td><td>-0.30682096</td><td>1.3785391</td><td>6.77526</td><td>2.066990940622587</td><td>19.339724</td><td>0.157507937659917</td><td>0.01185075698787861</td><td>487.0</td><td>0</td><td>0.74910897</td><td>38.74566</td><td>--</td><td>--</td><td>--</td><td>32</td><td>--</td><td>--</td><td>--</td><td>32</td><td>0.35674427032470746</td><td>0.055814685341587136</td><td>1</td><td>0</td><td>0.023998680114746485</td><td>0.02321938814866251</td><td>1</td><td>0</td><td>0.14968385696411168</td><td>0.03241432039992471</td><td>1</td><td>0</td><td>0.3833378219604491</td><td>0.02475249180925569</td><td>1</td><td>0</td><td>0.14731195449829126</td><td>0.02694717515233455</td><td>1</td><td>0</td><td>-0.045210666656494425</td><td>0.03768202587381204</td><td>1</td><td>0</td><td>0.1799581718444827</td><td>0.030078957301680004</td><td>1</td><td>0</td><td>0.09609779357910142</td><td>0.019895933075161736</td><td>1</td><td>0</td><td>--</td><td>--</td><td>0</td><td>0</td><td>0.14981179650672413</td><td>0.015432719441551607</td><td>61</td><td>0</td><td>0.1716444605038052</td><td>0.02436520114285075</td><td>9</td><td>0</td><td>0.1062238311767576</td><td>0.03584044745773188</td><td>1</td><td>0</td><td>-0.09156692504882802</td><td>0.028414677729812005</td><td>1</td><td>0</td><td>--</td><td>--</td><td>0</td><td>0</td><td>-0.18702037811279304</td><td>0.030010226103755443</td><td>1</td><td>0</td><td>0.07419900736617238</td><td>0.013951126823007193</td><td>15</td><td>0</td><td>0.020482900180543134</td><td>0.02167572291236511</td><td>3</td><td>0</td><td>0.12809585691383935</td><td>0.019430727876523148</td><td>3</td><td>0</td><td>0.03445714679110362</td><td>0.0323300369419662</td><td>3</td><td>0</td><td>0.09618320465087882</td><td>0.03864553273486695</td><td>1</td><td>0</td><td>--</td><td>--</td><td>--</td><td>32</td><td>-0.14658912658691392</td><td>0.06150118568190023</td><td>2</td><td>0</td><td>-0.05303207397460952</td><td>0.04757377339419292</td><td>8</td><td>0</td><td>--</td><td>--</td><td>--</td><td>32</td><td>--</td><td>--</td><td>2</td><td>32</td><td>-0.17839996337890618</td><td>0.036071674379171255</td><td>1</td><td>0</td><td>-0.05265975679902326</td><td>0.02278799382952906</td><td>7</td><td>0</td><td>-0.16208137512207044</td><td>0.03432996909495176</td><td>1</td><td>0</td><td>0.1939440246561054</td><td>0.025577490615124168</td><td>3</td><td>0</td><td>-0.07225833892822275</td><td>0.046524806250526365</td><td>1</td><td>0</td><td>0.34627407073974614</td><td>0.019515910626461616</td><td>1</td><td>0</td><td>228.5863150956595</td><td>-44.25905814779528</td><td>2.8018164206256575</td><td>0.043909907274001486</td><td>353.407322277524</td><td>347.964579984074</td><td>359.019896012344</td><td>1689.5598505107</td><td>58.42599868774414</td><td>0.05700000002980232</td><td>--</td><td>--</td><td>0</td><td>0.19374931</td><td>107.628033880711</td><td>165.41023112626</td><td>252.866020965373</td><td>261.676897793404</td><td>0</td><td>9.369889</td><td>7.189</td><td>0.03</td><td>6.621</td><td>0.044</td><td>6.438</td><td>0.02</td><td>AAA</td><td>6.453</td><td>0.025</td><td>AAAA</td><td>0.08078382840728733</td><td>0.046456604780050356</td><td>2.1225576</td><td>0.8410329818725586</td></tr>\n",
       "<tr><td>15151322-4415182</td><td>190225005301396</td><td>6000435312445129984</td><td>6000435312445129984</td><td>galah_main</td><td>4235</td><td>0</td><td>190225</td><td>lbol</td><td>0</td><td>6059.4995</td><td>89.92103435161873</td><td>--</td><td>--</td><td></td><td>3.5193155</td><td>0.1905389116378251</td><td>-0.04507351</td><td>0.09163415120321836</td><td>0</td><td>-0.114182495</td><td>1.2811658</td><td>15.524404</td><td>2.3530614693425904</td><td>0.41317672</td><td>0.003646820192376051</td><td>0.04083085258215475</td><td>151.0</td><td>0</td><td>0.40449435</td><td>0.5657665</td><td>1.3651477813720703</td><td>0.09412375834760314</td><td>1</td><td>0</td><td>-0.3405658721923821</td><td>0.13616429256927046</td><td>1</td><td>0</td><td>0.19302700042724652</td><td>0.14336036697994567</td><td>1</td><td>0</td><td>0.020072879791260156</td><td>0.06042491322305593</td><td>1</td><td>0</td><td>-0.11260662078857386</td><td>0.08614960687089616</td><td>1</td><td>0</td><td>-0.1339766120910646</td><td>0.0768195773824131</td><td>1</td><td>0</td><td>-0.014719219207763423</td><td>0.06510134431072476</td><td>1</td><td>0</td><td>0.39434402465820284</td><td>0.0966795284930203</td><td>1</td><td>0</td><td>0.16771156311035185</td><td>0.08263364316993013</td><td>1</td><td>0</td><td>-0.028786811828613423</td><td>0.06207618810965845</td><td>1</td><td>0</td><td>--</td><td>--</td><td>0</td><td>0</td><td>-0.04508951420587054</td><td>0.10997316001878736</td><td>18</td><td>0</td><td>0.05614957051353344</td><td>0.06821427894584081</td><td>15</td><td>0</td><td>--</td><td>--</td><td>--</td><td>32</td><td>-0.12050188064575185</td><td>0.08672177428151262</td><td>1</td><td>0</td><td>--</td><td>--</td><td>0</td><td>0</td><td>0.0516027641296386</td><td>0.08966270681832741</td><td>1</td><td>0</td><td>--</td><td>--</td><td>--</td><td>32</td><td>-0.304121475219727</td><td>0.14042136073112488</td><td>2</td><td>0</td><td>-0.19869476318359336</td><td>0.0812988206744194</td><td>2</td><td>0</td><td>-0.08127011081603949</td><td>0.11366341195815412</td><td>3</td><td>0</td><td>--</td><td>--</td><td>1</td><td>32</td><td>--</td><td>--</td><td>--</td><td>32</td><td>0.2438667705743015</td><td>0.14930697466378334</td><td>3</td><td>0</td><td>--</td><td>--</td><td>16</td><td>32</td><td>--</td><td>--</td><td>--</td><td>32</td><td>--</td><td>--</td><td>--</td><td>32</td><td>0.5907393264770509</td><td>0.1006179195354816</td><td>1</td><td>0</td><td>--</td><td>--</td><td>4</td><td>32</td><td>--</td><td>--</td><td>1</td><td>32</td><td>--</td><td>--</td><td>2</td><td>32</td><td>--</td><td>--</td><td>2</td><td>32</td><td>--</td><td>--</td><td>--</td><td>32</td><td>228.80508885499023</td><td>-44.255052745367095</td><td>1.158823890239741</td><td>0.0462113403227404</td><td>843.799825746561</td><td>811.86048778864</td><td>878.305780257375</td><td>1698.53934372561</td><td>0.2770000100135803</td><td>0.10999999940395355</td><td>-2.4819188</td><td>0.18368606</td><td>0</td><td>0.19188192</td><td>25.7535473128226</td><td>37.1784167632014</td><td>50.6913969234349</td><td>52.7831584974675</td><td>0</td><td>11.56248</td><td>10.465</td><td>0.022</td><td>10.209</td><td>0.021</td><td>10.139</td><td>0.021</td><td>AAA</td><td>10.102</td><td>0.02</td><td>AAAU</td><td>0.02478566381835909</td><td>0.026621999714268433</td><td>1.2320412</td><td>0.9155728816986084</td></tr>\n",
       "<tr><td>15162269-4414571</td><td>190225005301397</td><td>6000421607212226048</td><td>6000421607212226048</td><td>galah_main</td><td>4235</td><td>0</td><td>190225</td><td>lbol</td><td>0</td><td>4132.9727</td><td>83.45848117487678</td><td>--</td><td>--</td><td></td><td>0.95939153</td><td>0.3021431599031527</td><td>-1.003942</td><td>0.06525723837358276</td><td>0</td><td>-1.0679356</td><td>1.7108028</td><td>7.0077114</td><td>2.178454317235057</td><td>1.63639</td><td>0.1258948343706562</td><td>0.028202345502403702</td><td>475.0</td><td>0</td><td>0.70449376</td><td>2.2946532</td><td>--</td><td>--</td><td>--</td><td>32</td><td>--</td><td>--</td><td>--</td><td>32</td><td>--</td><td>--</td><td>--</td><td>32</td><td>-0.1663356399536129</td><td>0.04488692612986421</td><td>1</td><td>0</td><td>0.08704271316528356</td><td>0.06046368756700828</td><td>1</td><td>0</td><td>-0.09636178970336928</td><td>0.06121049476396566</td><td>1</td><td>0</td><td>0.0915320205688479</td><td>0.05036602970984489</td><td>1</td><td>0</td><td>-0.19560701370239286</td><td>0.07489573583296766</td><td>1</td><td>0</td><td>0.35172063827514677</td><td>0.06625740578896068</td><td>1</td><td>0</td><td>-0.037583980560302876</td><td>0.047313808076449415</td><td>1</td><td>0</td><td>--</td><td>--</td><td>0</td><td>0</td><td>0.16689927575871985</td><td>0.04118568580465613</td><td>59</td><td>0</td><td>0.1828427457869396</td><td>0.05369464452566123</td><td>11</td><td>0</td><td>0.043471584320068146</td><td>0.12768002781600568</td><td>1</td><td>0</td><td>-0.165050868988037</td><td>0.0655002372892144</td><td>1</td><td>0</td><td>--</td><td>--</td><td>0</td><td>0</td><td>-0.47314603805542</td><td>0.06348445854911813</td><td>1</td><td>0</td><td>-0.06967866245402962</td><td>0.04847934134218084</td><td>15</td><td>0</td><td>-0.13371652553933808</td><td>0.06745887617373403</td><td>3</td><td>0</td><td>-0.3906515472374064</td><td>0.04988558764469782</td><td>3</td><td>0</td><td>0.06987025023583238</td><td>0.0824867030328731</td><td>3</td><td>0</td><td>--</td><td>--</td><td>--</td><td>32</td><td>--</td><td>--</td><td>--</td><td>32</td><td>-0.012379274894640328</td><td>0.11056556203038997</td><td>3</td><td>0</td><td>0.22942826565211766</td><td>0.0717873677546707</td><td>28</td><td>0</td><td>0.05492124557495126</td><td>0.0721894947199683</td><td>1</td><td>0</td><td>0.28520593643188485</td><td>0.16162066659188634</td><td>1</td><td>0</td><td>0.20200117111206062</td><td>0.07687563434237835</td><td>1</td><td>0</td><td>-0.061486328503253536</td><td>0.07141878177454841</td><td>7</td><td>0</td><td>-0.8556436443328859</td><td>0.12904998070802973</td><td>1</td><td>1</td><td>0.0944074393104026</td><td>0.083480960404519</td><td>3</td><td>0</td><td>-0.16134732090058004</td><td>0.08846836832708106</td><td>3</td><td>0</td><td>0.17809122085571294</td><td>0.08932058126269721</td><td>1</td><td>0</td><td>229.09450990906342</td><td>-44.24920983867849</td><td>0.35956378370163156</td><td>0.04918640629290813</td><td>2593.82160346394</td><td>2286.87275359416</td><td>2992.16261502095</td><td>1710.0729330925</td><td>37.00600051879883</td><td>0.06700000166893005</td><td>36.910324</td><td>0.3799709</td><td>0</td><td>0.226952</td><td>27.9750700430743</td><td>49.0351375113278</td><td>78.561259225668</td><td>90.9814457445228</td><td>0</td><td>11.3271</td><td>8.327</td><td>0.023</td><td>7.558</td><td>0.044</td><td>7.364</td><td>0.026</td><td>AAA</td><td>7.309</td><td>0.02</td><td>AAAB</td><td>0.1551420805435179</td><td>0.04436894440585439</td><td>2.401451</td><td>1.1149317026138306</td></tr>\n",
       "<tr><td>15161847-4418028</td><td>190225005301398</td><td>6000420675196587392</td><td>6000420675196587392</td><td>galah_main</td><td>4235</td><td>0</td><td>190225</td><td>lbol</td><td>0</td><td>4776.9272</td><td>98.42247509802459</td><td>--</td><td>--</td><td></td><td>2.4207969</td><td>0.22091855410307684</td><td>0.007314205</td><td>0.07383443001503355</td><td>0</td><td>-0.066664584</td><td>1.2368264</td><td>7.4177213</td><td>2.221344195168524</td><td>1.2783221</td><td>-0.022905150506586088</td><td>0.0371291787455343</td><td>443.0</td><td>0</td><td>0.73667085</td><td>2.4514465</td><td>--</td><td>--</td><td>--</td><td>32</td><td>--</td><td>--</td><td>--</td><td>32</td><td>0.1961507606506352</td><td>0.1390454669558315</td><td>1</td><td>0</td><td>0.15016645431518594</td><td>0.05767548825076903</td><td>1</td><td>0</td><td>-0.029940700531005504</td><td>0.08140874793698052</td><td>1</td><td>0</td><td>0.18680128097534165</td><td>0.07425850406763591</td><td>1</td><td>0</td><td>-0.0050995063781735794</td><td>0.06254767722271293</td><td>1</td><td>0</td><td>-0.09505970001220732</td><td>0.09294561742235466</td><td>1</td><td>0</td><td>0.16831094741821317</td><td>0.07992690227001945</td><td>1</td><td>0</td><td>-0.09473863601684585</td><td>0.05957671261552455</td><td>1</td><td>0</td><td>--</td><td>--</td><td>0</td><td>0</td><td>-0.033848549627604495</td><td>0.05599914638726844</td><td>55</td><td>0</td><td>0.06423160488454416</td><td>0.08674585495130639</td><td>9</td><td>0</td><td>0.46129919052124</td><td>0.17132937434357637</td><td>2</td><td>0</td><td>-0.02792251586914052</td><td>0.08309652335837708</td><td>1</td><td>0</td><td>--</td><td>--</td><td>0</td><td>0</td><td>-0.0041771697998047586</td><td>0.0849630165997603</td><td>1</td><td>0</td><td>-0.13155603751204423</td><td>0.06393533156075748</td><td>14</td><td>0</td><td>0.09459385235254038</td><td>0.08128795439752595</td><td>3</td><td>0</td><td>-0.008000404830431436</td><td>0.0603509814169579</td><td>3</td><td>0</td><td>0.25471071243286136</td><td>0.1309684403746383</td><td>2</td><td>0</td><td>--</td><td>--</td><td>--</td><td>32</td><td>0.43655128479003924</td><td>0.2001524716615677</td><td>1</td><td>1</td><td>0.008443508148193501</td><td>0.17491981930824624</td><td>2</td><td>0</td><td>--</td><td>--</td><td>16</td><td>32</td><td>--</td><td>--</td><td>--</td><td>32</td><td>--</td><td>--</td><td>2</td><td>32</td><td>0.34232862472534187</td><td>0.09655196501221473</td><td>1</td><td>0</td><td>-0.19608401659219687</td><td>0.10295934900443027</td><td>3</td><td>0</td><td>-0.13426889419555676</td><td>0.14517136985133558</td><td>1</td><td>0</td><td>0.07883012771606457</td><td>0.1516767603757767</td><td>1</td><td>0</td><td>-0.6108790969848632</td><td>0.13631606154999393</td><td>2</td><td>1</td><td>0.020479373931884814</td><td>0.10274370036807258</td><td>1</td><td>0</td><td>229.07692284225578</td><td>-44.30079895838391</td><td>0.6310558147909486</td><td>0.043504955892150636</td><td>1522.40254200529</td><td>1425.56128550852</td><td>1633.06334111627</td><td>1711.19132164681</td><td>-69.5719985961914</td><td>0.0560000017285347</td><td>-68.999</td><td>0.33299533</td><td>0</td><td>0.23642099</td><td>25.4702967229732</td><td>38.8634993478845</td><td>57.2859675386827</td><td>62.8535822043895</td><td>0</td><td>11.495899</td><td>9.502</td><td>0.024</td><td>8.971</td><td>0.04</td><td>8.81</td><td>0.019</td><td>AAA</td><td>8.841</td><td>0.02</td><td>BAAB</td><td>0.045899740859985994</td><td>0.04105420765204953</td><td>1.9678478</td><td>0.926809549331665</td></tr>\n",
       "<tr><td>15132160-4416479</td><td>190225005301399</td><td>6003341772662216960</td><td>6003341772662216960</td><td>galah_main</td><td>4235</td><td>0</td><td>190225</td><td>lbol</td><td>0</td><td>6125.684</td><td>75.33335448175832</td><td>--</td><td>--</td><td></td><td>3.717687</td><td>0.17800067002033065</td><td>-0.0021514893</td><td>0.05465198362960346</td><td>0</td><td>-0.05599425</td><td>1.3191607</td><td>8.356025</td><td>2.1392743710173265</td><td>1.1636121</td><td>-0.09670603374211155</td><td>0.021309995376658997</td><td>155.0</td><td>0</td><td>0.5306138</td><td>2.0197272</td><td>--</td><td>--</td><td>--</td><td>32</td><td>0.03728370666503977</td><td>0.0814829323631447</td><td>1</td><td>0</td><td>-0.024126548767089417</td><td>0.082099435011973</td><td>1</td><td>0</td><td>0.007419528961182031</td><td>0.02937528604582852</td><td>1</td><td>0</td><td>-0.12284049987792933</td><td>0.03862354171847741</td><td>1</td><td>0</td><td>-0.06692806243896499</td><td>0.04042193964697384</td><td>1</td><td>0</td><td>-0.05896875381469702</td><td>0.034441015065837445</td><td>1</td><td>0</td><td>0.08167331695556612</td><td>0.050345135439646</td><td>1</td><td>0</td><td>0.17438203811645536</td><td>0.04505079911057554</td><td>1</td><td>0</td><td>0.048420753479003764</td><td>0.029877469541574123</td><td>1</td><td>0</td><td>--</td><td>--</td><td>0</td><td>0</td><td>-0.11746256719315061</td><td>0.03810526020882739</td><td>19</td><td>0</td><td>-0.04229973472061845</td><td>0.03318795927751834</td><td>11</td><td>0</td><td>--</td><td>--</td><td>--</td><td>32</td><td>-0.18921554565429677</td><td>0.041272611453321346</td><td>1</td><td>0</td><td>--</td><td>--</td><td>0</td><td>0</td><td>-0.08242328643798835</td><td>0.03875098212355179</td><td>1</td><td>0</td><td>--</td><td>--</td><td>--</td><td>32</td><td>-0.12448111401709128</td><td>0.04935172149819304</td><td>3</td><td>0</td><td>0.04011950378699573</td><td>0.03485384593721398</td><td>3</td><td>0</td><td>0.11995651023230784</td><td>0.04863858258335311</td><td>3</td><td>0</td><td>--</td><td>--</td><td>--</td><td>32</td><td>--</td><td>--</td><td>--</td><td>32</td><td>0.020053785769853266</td><td>0.06859141008952174</td><td>3</td><td>0</td><td>--</td><td>--</td><td>--</td><td>32</td><td>--</td><td>--</td><td>--</td><td>32</td><td>--</td><td>--</td><td>--</td><td>32</td><td>0.27303798675537116</td><td>0.050025851693333234</td><td>1</td><td>0</td><td>--</td><td>--</td><td>--</td><td>32</td><td>--</td><td>--</td><td>--</td><td>32</td><td>--</td><td>--</td><td>--</td><td>32</td><td>--</td><td>--</td><td>--</td><td>32</td><td>--</td><td>--</td><td>--</td><td>32</td><td>228.33977880986077</td><td>-44.28004431787623</td><td>2.143858810598126</td><td>0.032030467036529425</td><td>460.395918797011</td><td>453.65306161799</td><td>467.338550194595</td><td>1679.82155586864</td><td>-62.75199890136719</td><td>0.08900000154972076</td><td>-61.969482</td><td>1.81296</td><td>0</td><td>0.18790634</td><td>66.9390772143382</td><td>76.4623177298932</td><td>100.61628932733</td><td>94.9991217988702</td><td>0</td><td>10.823439</td><td>9.72</td><td>0.023</td><td>9.49</td><td>0.022</td><td>9.391</td><td>0.019</td><td>AAA</td><td>9.384</td><td>0.02</td><td>AAAU</td><td>0.023867789886474297</td><td>0.027294102053785345</td><td>1.1990316</td><td>0.9321654438972473</td></tr>\n",
       "</table></div>"
      ],
      "text/plain": [
       "<Table length=588571>\n",
       "    star_id         sobject_id   ...   bc_ks        ruwe_dr2     \n",
       "                                 ...    mag                      \n",
       "    bytes16           int64      ...  float32       float64      \n",
       "---------------- --------------- ... --------- ------------------\n",
       "03325271-6840304 131116000501002 ... 2.1981099 1.0987638037798317\n",
       "03345385-6836362 131116000501003 ...  2.669922  1.184694482545447\n",
       "03422255-6841522 131116000501004 ... 1.9896321 0.9910400074815263\n",
       "03373408-6841062 131116000501005 ... 1.5770009   1.62980943619104\n",
       "03430488-6843208 131116000501006 ... 1.5089293 1.4031795399212366\n",
       "03425716-6844462 131116000501007 ... 1.2224644 2.6568542930184345\n",
       "03415061-6844479 131116000501008 ... 1.9149778  1.024880375775855\n",
       "03430083-6847248 131116000501010 ... 1.4298027 1.1971164424736473\n",
       "03405609-6844483 131116000501012 ... 1.5493774 1.0273200178634123\n",
       "             ...             ... ...       ...                ...\n",
       "15155692-4410157 190225005301390 ... 2.0596023 1.1562496423721313\n",
       "15143444-4410291 190225005301391 ... 0.8294134 0.9941818118095398\n",
       "15155839-4411222 190225005301392 ... 1.0938306 1.1400079727172852\n",
       "15145791-4413486 190225005301393 ... 1.7195796  9.423050880432129\n",
       "15141216-4414570 190225005301394 ... 1.3469667  1.061646819114685\n",
       "15142072-4415325 190225005301395 ... 2.1225576 0.8410329818725586\n",
       "15151322-4415182 190225005301396 ... 1.2320412 0.9155728816986084\n",
       "15162269-4414571 190225005301397 ...  2.401451 1.1149317026138306\n",
       "15161847-4418028 190225005301398 ... 1.9678478  0.926809549331665\n",
       "15132160-4416479 190225005301399 ... 1.1990316 0.9321654438972473"
      ]
     },
     "execution_count": 6,
     "metadata": {},
     "output_type": "execute_result"
    }
   ],
   "source": [
    "table = Table.read(file)\n",
    "table"
   ]
  },
  {
   "cell_type": "code",
   "execution_count": 13,
   "metadata": {},
   "outputs": [
    {
     "data": {
      "text/plain": [
       "['star_id',\n",
       " 'sobject_id',\n",
       " 'dr2_source_id',\n",
       " 'dr3_source_id',\n",
       " 'survey_name',\n",
       " 'field_id',\n",
       " 'flag_repeat',\n",
       " 'wg4_field',\n",
       " 'wg4_pipeline',\n",
       " 'flag_sp',\n",
       " 'teff',\n",
       " 'e_teff',\n",
       " 'irfm_teff',\n",
       " 'irfm_ebv',\n",
       " 'irfm_ebv_ref',\n",
       " 'logg',\n",
       " 'e_logg',\n",
       " 'fe_h',\n",
       " 'e_fe_h',\n",
       " 'flag_fe_h',\n",
       " 'fe_h_atmo',\n",
       " 'vmic',\n",
       " 'vbroad',\n",
       " 'e_vbroad',\n",
       " 'chi2_sp',\n",
       " 'alpha_fe',\n",
       " 'e_alpha_fe',\n",
       " 'nr_alpha_fe',\n",
       " 'flag_alpha_fe',\n",
       " 'flux_A_Fe',\n",
       " 'chi_A_Fe',\n",
       " 'Li_fe',\n",
       " 'e_Li_fe',\n",
       " 'nr_Li_fe',\n",
       " 'flag_Li_fe',\n",
       " 'C_fe',\n",
       " 'e_C_fe',\n",
       " 'nr_C_fe',\n",
       " 'flag_C_fe',\n",
       " 'O_fe',\n",
       " 'e_O_fe',\n",
       " 'nr_O_fe',\n",
       " 'flag_O_fe',\n",
       " 'Na_fe',\n",
       " 'e_Na_fe',\n",
       " 'nr_Na_fe',\n",
       " 'flag_Na_fe',\n",
       " 'Mg_fe',\n",
       " 'e_Mg_fe',\n",
       " 'nr_Mg_fe',\n",
       " 'flag_Mg_fe',\n",
       " 'Al_fe',\n",
       " 'e_Al_fe',\n",
       " 'nr_Al_fe',\n",
       " 'flag_Al_fe',\n",
       " 'Si_fe',\n",
       " 'e_Si_fe',\n",
       " 'nr_Si_fe',\n",
       " 'flag_Si_fe',\n",
       " 'K_fe',\n",
       " 'e_K_fe',\n",
       " 'nr_K_fe',\n",
       " 'flag_K_fe',\n",
       " 'Ca_fe',\n",
       " 'e_Ca_fe',\n",
       " 'nr_Ca_fe',\n",
       " 'flag_Ca_fe',\n",
       " 'Sc_fe',\n",
       " 'e_Sc_fe',\n",
       " 'nr_Sc_fe',\n",
       " 'flag_Sc_fe',\n",
       " 'Sc2_fe',\n",
       " 'e_Sc2_fe',\n",
       " 'nr_Sc2_fe',\n",
       " 'flag_Sc2_fe',\n",
       " 'Ti_fe',\n",
       " 'e_Ti_fe',\n",
       " 'nr_Ti_fe',\n",
       " 'flag_Ti_fe',\n",
       " 'Ti2_fe',\n",
       " 'e_Ti2_fe',\n",
       " 'nr_Ti2_fe',\n",
       " 'flag_Ti2_fe',\n",
       " 'V_fe',\n",
       " 'e_V_fe',\n",
       " 'nr_V_fe',\n",
       " 'flag_V_fe',\n",
       " 'Cr_fe',\n",
       " 'e_Cr_fe',\n",
       " 'nr_Cr_fe',\n",
       " 'flag_Cr_fe',\n",
       " 'Cr2_fe',\n",
       " 'e_Cr2_fe',\n",
       " 'nr_Cr2_fe',\n",
       " 'flag_Cr2_fe',\n",
       " 'Mn_fe',\n",
       " 'e_Mn_fe',\n",
       " 'nr_Mn_fe',\n",
       " 'flag_Mn_fe',\n",
       " 'Co_fe',\n",
       " 'e_Co_fe',\n",
       " 'nr_Co_fe',\n",
       " 'flag_Co_fe',\n",
       " 'Ni_fe',\n",
       " 'e_Ni_fe',\n",
       " 'nr_Ni_fe',\n",
       " 'flag_Ni_fe',\n",
       " 'Cu_fe',\n",
       " 'e_Cu_fe',\n",
       " 'nr_Cu_fe',\n",
       " 'flag_Cu_fe',\n",
       " 'Zn_fe',\n",
       " 'e_Zn_fe',\n",
       " 'nr_Zn_fe',\n",
       " 'flag_Zn_fe',\n",
       " 'Rb_fe',\n",
       " 'e_Rb_fe',\n",
       " 'nr_Rb_fe',\n",
       " 'flag_Rb_fe',\n",
       " 'Sr_fe',\n",
       " 'e_Sr_fe',\n",
       " 'nr_Sr_fe',\n",
       " 'flag_Sr_fe',\n",
       " 'Y_fe',\n",
       " 'e_Y_fe',\n",
       " 'nr_Y_fe',\n",
       " 'flag_Y_fe',\n",
       " 'Zr_fe',\n",
       " 'e_Zr_fe',\n",
       " 'nr_Zr_fe',\n",
       " 'flag_Zr_fe',\n",
       " 'Mo_fe',\n",
       " 'e_Mo_fe',\n",
       " 'nr_Mo_fe',\n",
       " 'flag_Mo_fe',\n",
       " 'Ru_fe',\n",
       " 'e_Ru_fe',\n",
       " 'nr_Ru_fe',\n",
       " 'flag_Ru_fe',\n",
       " 'Ba_fe',\n",
       " 'e_Ba_fe',\n",
       " 'nr_Ba_fe',\n",
       " 'flag_Ba_fe',\n",
       " 'La_fe',\n",
       " 'e_La_fe',\n",
       " 'nr_La_fe',\n",
       " 'flag_La_fe',\n",
       " 'Ce_fe',\n",
       " 'e_Ce_fe',\n",
       " 'nr_Ce_fe',\n",
       " 'flag_Ce_fe',\n",
       " 'Nd_fe',\n",
       " 'e_Nd_fe',\n",
       " 'nr_Nd_fe',\n",
       " 'flag_Nd_fe',\n",
       " 'Sm_fe',\n",
       " 'e_Sm_fe',\n",
       " 'nr_Sm_fe',\n",
       " 'flag_Sm_fe',\n",
       " 'Eu_fe',\n",
       " 'e_Eu_fe',\n",
       " 'nr_Eu_fe',\n",
       " 'flag_Eu_fe',\n",
       " 'ra_dr2',\n",
       " 'dec_dr2',\n",
       " 'parallax_dr2',\n",
       " 'parallax_error_dr2',\n",
       " 'r_est_dr2',\n",
       " 'r_lo_dr2',\n",
       " 'r_hi_dr2',\n",
       " 'r_len_dr2',\n",
       " 'rv_galah',\n",
       " 'e_rv_galah',\n",
       " 'rv_gaia_dr2',\n",
       " 'e_rv_gaia_dr2',\n",
       " 'red_flag',\n",
       " 'ebv',\n",
       " 'snr_c1_iraf',\n",
       " 'snr_c2_iraf',\n",
       " 'snr_c3_iraf',\n",
       " 'snr_c4_iraf',\n",
       " 'flag_guess',\n",
       " 'v_jk',\n",
       " 'j_m',\n",
       " 'j_msigcom',\n",
       " 'h_m',\n",
       " 'h_msigcom',\n",
       " 'ks_m',\n",
       " 'ks_msigcom',\n",
       " 'ph_qual_tmass',\n",
       " 'w2mpro',\n",
       " 'w2mpro_error',\n",
       " 'ph_qual_wise',\n",
       " 'a_ks',\n",
       " 'e_a_ks',\n",
       " 'bc_ks',\n",
       " 'ruwe_dr2']"
      ]
     },
     "execution_count": 13,
     "metadata": {},
     "output_type": "execute_result"
    }
   ],
   "source": [
    "table.colnames"
   ]
  },
  {
   "cell_type": "code",
   "execution_count": 7,
   "metadata": {},
   "outputs": [],
   "source": [
    "columns = ['dr3_source_id', 'teff', 'e_teff', 'logg', 'e_logg',\n",
    "           'fe_h', 'e_fe_h', 'alpha_fe', 'e_alpha_fe', \n",
    "           'rv_galah', 'e_rv_galah']"
   ]
  },
  {
   "cell_type": "code",
   "execution_count": 8,
   "metadata": {},
   "outputs": [
    {
     "data": {
      "text/html": [
       "<div>\n",
       "<style scoped>\n",
       "    .dataframe tbody tr th:only-of-type {\n",
       "        vertical-align: middle;\n",
       "    }\n",
       "\n",
       "    .dataframe tbody tr th {\n",
       "        vertical-align: top;\n",
       "    }\n",
       "\n",
       "    .dataframe thead th {\n",
       "        text-align: right;\n",
       "    }\n",
       "</style>\n",
       "<table border=\"1\" class=\"dataframe\">\n",
       "  <thead>\n",
       "    <tr style=\"text-align: right;\">\n",
       "      <th></th>\n",
       "      <th>dr3_source_id</th>\n",
       "      <th>teff</th>\n",
       "      <th>e_teff</th>\n",
       "      <th>logg</th>\n",
       "      <th>e_logg</th>\n",
       "      <th>fe_h</th>\n",
       "      <th>e_fe_h</th>\n",
       "      <th>alpha_fe</th>\n",
       "      <th>e_alpha_fe</th>\n",
       "      <th>rv_galah</th>\n",
       "      <th>e_rv_galah</th>\n",
       "    </tr>\n",
       "  </thead>\n",
       "  <tbody>\n",
       "    <tr>\n",
       "      <th>0</th>\n",
       "      <td>4667368899326730240</td>\n",
       "      <td>4553.354492</td>\n",
       "      <td>137.060886</td>\n",
       "      <td>4.714953</td>\n",
       "      <td>0.201216</td>\n",
       "      <td>-0.335019</td>\n",
       "      <td>0.120219</td>\n",
       "      <td>0.351368</td>\n",
       "      <td>0.079193</td>\n",
       "      <td>36.203999</td>\n",
       "      <td>0.183000</td>\n",
       "    </tr>\n",
       "    <tr>\n",
       "      <th>1</th>\n",
       "      <td>4667362989451832320</td>\n",
       "      <td>3622.744629</td>\n",
       "      <td>104.983490</td>\n",
       "      <td>4.691505</td>\n",
       "      <td>0.198562</td>\n",
       "      <td>NaN</td>\n",
       "      <td>NaN</td>\n",
       "      <td>NaN</td>\n",
       "      <td>NaN</td>\n",
       "      <td>55.373326</td>\n",
       "      <td>0.731789</td>\n",
       "    </tr>\n",
       "    <tr>\n",
       "      <th>2</th>\n",
       "      <td>4667324643983679488</td>\n",
       "      <td>4852.475586</td>\n",
       "      <td>172.750969</td>\n",
       "      <td>2.466885</td>\n",
       "      <td>0.223199</td>\n",
       "      <td>-1.170157</td>\n",
       "      <td>0.181902</td>\n",
       "      <td>0.273048</td>\n",
       "      <td>0.085366</td>\n",
       "      <td>95.877998</td>\n",
       "      <td>0.151000</td>\n",
       "    </tr>\n",
       "    <tr>\n",
       "      <th>3</th>\n",
       "      <td>4667335913977929728</td>\n",
       "      <td>5588.500488</td>\n",
       "      <td>104.294555</td>\n",
       "      <td>3.999357</td>\n",
       "      <td>0.186127</td>\n",
       "      <td>0.052395</td>\n",
       "      <td>0.099372</td>\n",
       "      <td>-0.015430</td>\n",
       "      <td>0.053713</td>\n",
       "      <td>7.130000</td>\n",
       "      <td>0.126000</td>\n",
       "    </tr>\n",
       "    <tr>\n",
       "      <th>4</th>\n",
       "      <td>4667323681911007232</td>\n",
       "      <td>5709.502930</td>\n",
       "      <td>109.203400</td>\n",
       "      <td>4.181905</td>\n",
       "      <td>0.184704</td>\n",
       "      <td>-0.013732</td>\n",
       "      <td>0.111376</td>\n",
       "      <td>0.081023</td>\n",
       "      <td>0.080372</td>\n",
       "      <td>24.816000</td>\n",
       "      <td>0.163000</td>\n",
       "    </tr>\n",
       "    <tr>\n",
       "      <th>...</th>\n",
       "      <td>...</td>\n",
       "      <td>...</td>\n",
       "      <td>...</td>\n",
       "      <td>...</td>\n",
       "      <td>...</td>\n",
       "      <td>...</td>\n",
       "      <td>...</td>\n",
       "      <td>...</td>\n",
       "      <td>...</td>\n",
       "      <td>...</td>\n",
       "      <td>...</td>\n",
       "    </tr>\n",
       "    <tr>\n",
       "      <th>588566</th>\n",
       "      <td>6003344796319529984</td>\n",
       "      <td>4531.215332</td>\n",
       "      <td>71.123153</td>\n",
       "      <td>2.410332</td>\n",
       "      <td>0.183002</td>\n",
       "      <td>-0.293808</td>\n",
       "      <td>0.042971</td>\n",
       "      <td>0.157508</td>\n",
       "      <td>0.011851</td>\n",
       "      <td>58.425999</td>\n",
       "      <td>0.057000</td>\n",
       "    </tr>\n",
       "    <tr>\n",
       "      <th>588567</th>\n",
       "      <td>6000435312445129728</td>\n",
       "      <td>6059.499512</td>\n",
       "      <td>89.921034</td>\n",
       "      <td>3.519315</td>\n",
       "      <td>0.190539</td>\n",
       "      <td>-0.045074</td>\n",
       "      <td>0.091634</td>\n",
       "      <td>0.003647</td>\n",
       "      <td>0.040831</td>\n",
       "      <td>0.277000</td>\n",
       "      <td>0.110000</td>\n",
       "    </tr>\n",
       "    <tr>\n",
       "      <th>588568</th>\n",
       "      <td>6000421607212226560</td>\n",
       "      <td>4132.972656</td>\n",
       "      <td>83.458481</td>\n",
       "      <td>0.959392</td>\n",
       "      <td>0.302143</td>\n",
       "      <td>-1.003942</td>\n",
       "      <td>0.065257</td>\n",
       "      <td>0.125895</td>\n",
       "      <td>0.028202</td>\n",
       "      <td>37.006001</td>\n",
       "      <td>0.067000</td>\n",
       "    </tr>\n",
       "    <tr>\n",
       "      <th>588569</th>\n",
       "      <td>6000420675196587008</td>\n",
       "      <td>4776.927246</td>\n",
       "      <td>98.422475</td>\n",
       "      <td>2.420797</td>\n",
       "      <td>0.220919</td>\n",
       "      <td>0.007314</td>\n",
       "      <td>0.073834</td>\n",
       "      <td>-0.022905</td>\n",
       "      <td>0.037129</td>\n",
       "      <td>-69.571999</td>\n",
       "      <td>0.056000</td>\n",
       "    </tr>\n",
       "    <tr>\n",
       "      <th>588570</th>\n",
       "      <td>6003341772662216704</td>\n",
       "      <td>6125.684082</td>\n",
       "      <td>75.333354</td>\n",
       "      <td>3.717687</td>\n",
       "      <td>0.178001</td>\n",
       "      <td>-0.002151</td>\n",
       "      <td>0.054652</td>\n",
       "      <td>-0.096706</td>\n",
       "      <td>0.021310</td>\n",
       "      <td>-62.751999</td>\n",
       "      <td>0.089000</td>\n",
       "    </tr>\n",
       "  </tbody>\n",
       "</table>\n",
       "<p>588571 rows × 11 columns</p>\n",
       "</div>"
      ],
      "text/plain": [
       "              dr3_source_id         teff      e_teff      logg    e_logg  \\\n",
       "0       4667368899326730240  4553.354492  137.060886  4.714953  0.201216   \n",
       "1       4667362989451832320  3622.744629  104.983490  4.691505  0.198562   \n",
       "2       4667324643983679488  4852.475586  172.750969  2.466885  0.223199   \n",
       "3       4667335913977929728  5588.500488  104.294555  3.999357  0.186127   \n",
       "4       4667323681911007232  5709.502930  109.203400  4.181905  0.184704   \n",
       "...                     ...          ...         ...       ...       ...   \n",
       "588566  6003344796319529984  4531.215332   71.123153  2.410332  0.183002   \n",
       "588567  6000435312445129728  6059.499512   89.921034  3.519315  0.190539   \n",
       "588568  6000421607212226560  4132.972656   83.458481  0.959392  0.302143   \n",
       "588569  6000420675196587008  4776.927246   98.422475  2.420797  0.220919   \n",
       "588570  6003341772662216704  6125.684082   75.333354  3.717687  0.178001   \n",
       "\n",
       "            fe_h    e_fe_h  alpha_fe  e_alpha_fe   rv_galah  e_rv_galah  \n",
       "0      -0.335019  0.120219  0.351368    0.079193  36.203999    0.183000  \n",
       "1            NaN       NaN       NaN         NaN  55.373326    0.731789  \n",
       "2      -1.170157  0.181902  0.273048    0.085366  95.877998    0.151000  \n",
       "3       0.052395  0.099372 -0.015430    0.053713   7.130000    0.126000  \n",
       "4      -0.013732  0.111376  0.081023    0.080372  24.816000    0.163000  \n",
       "...          ...       ...       ...         ...        ...         ...  \n",
       "588566 -0.293808  0.042971  0.157508    0.011851  58.425999    0.057000  \n",
       "588567 -0.045074  0.091634  0.003647    0.040831   0.277000    0.110000  \n",
       "588568 -1.003942  0.065257  0.125895    0.028202  37.006001    0.067000  \n",
       "588569  0.007314  0.073834 -0.022905    0.037129 -69.571999    0.056000  \n",
       "588570 -0.002151  0.054652 -0.096706    0.021310 -62.751999    0.089000  \n",
       "\n",
       "[588571 rows x 11 columns]"
      ]
     },
     "execution_count": 8,
     "metadata": {},
     "output_type": "execute_result"
    }
   ],
   "source": [
    "df_pandas = table[columns].to_pandas()\n",
    "df_pandas"
   ]
  },
  {
   "cell_type": "code",
   "execution_count": 9,
   "metadata": {},
   "outputs": [
    {
     "data": {
      "text/html": [
       "<table>\n",
       "<thead>\n",
       "<tr><th>#                                  </th><th>dr3_source_id      </th><th>teff     </th><th>e_teff            </th><th>logg      </th><th>e_logg             </th><th>fe_h         </th><th>e_fe_h             </th><th>alpha_fe             </th><th>e_alpha_fe          </th><th>rv_galah          </th><th>e_rv_galah         </th></tr>\n",
       "</thead>\n",
       "<tbody>\n",
       "<tr><td><i style='opacity: 0.6'>0</i>      </td><td>4667368899326730240</td><td>4553.3545</td><td>137.06088556228917</td><td>4.7149534 </td><td>0.20121636742743593</td><td>-0.33501863  </td><td>0.12021913955493135</td><td>0.35136763119226394  </td><td>0.07919326531297675 </td><td>36.20399856567383 </td><td>0.18299999833106995</td></tr>\n",
       "<tr><td><i style='opacity: 0.6'>1</i>      </td><td>4667362989451832320</td><td>3622.7446</td><td>104.98349008795871</td><td>4.6915054 </td><td>0.19856208380453938</td><td>nan          </td><td>nan                </td><td>nan                  </td><td>nan                 </td><td>55.373325571289065</td><td>0.7317890322419305 </td></tr>\n",
       "<tr><td><i style='opacity: 0.6'>2</i>      </td><td>4667324643983679488</td><td>4852.4756</td><td>172.75096900138723</td><td>2.4668846 </td><td>0.22319904274460833</td><td>-1.1701574   </td><td>0.18190171456363485</td><td>0.27304791329884204  </td><td>0.0853664789169457  </td><td>95.87799835205078 </td><td>0.1509999930858612 </td></tr>\n",
       "<tr><td><i style='opacity: 0.6'>3</i>      </td><td>4667335913977929728</td><td>5588.5005</td><td>104.29455501889545</td><td>3.9993572 </td><td>0.18612670726590325</td><td>0.052394867  </td><td>0.09937209372391331</td><td>-0.015429693609670742</td><td>0.05371322433644004 </td><td>7.130000114440918 </td><td>0.12600000202655792</td></tr>\n",
       "<tr><td><i style='opacity: 0.6'>4</i>      </td><td>4667323681911007232</td><td>5709.503 </td><td>109.2033998665521 </td><td>4.1819053 </td><td>0.18470374660212685</td><td>-0.013732433 </td><td>0.11137627470861318</td><td>0.08102261072159844  </td><td>0.0803723809132596  </td><td>24.81599998474121 </td><td>0.16300000250339508</td></tr>\n",
       "<tr><td>...                                </td><td>...                </td><td>...      </td><td>...               </td><td>...       </td><td>...                </td><td>...          </td><td>...                </td><td>...                  </td><td>...                 </td><td>...               </td><td>...                </td></tr>\n",
       "<tr><td><i style='opacity: 0.6'>588,056</i></td><td>6003344796319529984</td><td>4531.2153</td><td>71.12315268169422 </td><td>2.4103317 </td><td>0.18300246561395928</td><td>-0.29380798  </td><td>0.04297140239160699</td><td>0.157507937659917    </td><td>0.01185075698787861 </td><td>58.42599868774414 </td><td>0.05700000002980232</td></tr>\n",
       "<tr><td><i style='opacity: 0.6'>588,057</i></td><td>6000435312445129728</td><td>6059.4995</td><td>89.92103435161873 </td><td>3.5193155 </td><td>0.1905389116378251 </td><td>-0.04507351  </td><td>0.09163415120321836</td><td>0.003646820192376051 </td><td>0.04083085258215475 </td><td>0.2770000100135803</td><td>0.10999999940395355</td></tr>\n",
       "<tr><td><i style='opacity: 0.6'>588,058</i></td><td>6000421607212226560</td><td>4132.9727</td><td>83.45848117487678 </td><td>0.95939153</td><td>0.3021431599031527 </td><td>-1.003942    </td><td>0.06525723837358276</td><td>0.1258948343706562   </td><td>0.028202345502403702</td><td>37.00600051879883 </td><td>0.06700000166893005</td></tr>\n",
       "<tr><td><i style='opacity: 0.6'>588,059</i></td><td>6000420675196587008</td><td>4776.9272</td><td>98.42247509802459 </td><td>2.4207969 </td><td>0.22091855410307684</td><td>0.007314205  </td><td>0.07383443001503355</td><td>-0.022905150506586088</td><td>0.0371291787455343  </td><td>-69.5719985961914 </td><td>0.0560000017285347 </td></tr>\n",
       "<tr><td><i style='opacity: 0.6'>588,060</i></td><td>6003341772662216704</td><td>6125.684 </td><td>75.33335448175832 </td><td>3.717687  </td><td>0.17800067002033065</td><td>-0.0021514893</td><td>0.05465198362960346</td><td>-0.09670603374211155 </td><td>0.021309995376658997</td><td>-62.75199890136719</td><td>0.08900000154972076</td></tr>\n",
       "</tbody>\n",
       "</table>"
      ],
      "text/plain": [
       "#        dr3_source_id        teff       e_teff              logg        e_logg               fe_h           e_fe_h               alpha_fe               e_alpha_fe            rv_galah            e_rv_galah\n",
       "0        4667368899326730240  4553.3545  137.06088556228917  4.7149534   0.20121636742743593  -0.33501863    0.12021913955493135  0.35136763119226394    0.07919326531297675   36.20399856567383   0.18299999833106995\n",
       "1        4667362989451832320  3622.7446  104.98349008795871  4.6915054   0.19856208380453938  nan            nan                  nan                    nan                   55.373325571289065  0.7317890322419305\n",
       "2        4667324643983679488  4852.4756  172.75096900138723  2.4668846   0.22319904274460833  -1.1701574     0.18190171456363485  0.27304791329884204    0.0853664789169457    95.87799835205078   0.1509999930858612\n",
       "3        4667335913977929728  5588.5005  104.29455501889545  3.9993572   0.18612670726590325  0.052394867    0.09937209372391331  -0.015429693609670742  0.05371322433644004   7.130000114440918   0.12600000202655792\n",
       "4        4667323681911007232  5709.503   109.2033998665521   4.1819053   0.18470374660212685  -0.013732433   0.11137627470861318  0.08102261072159844    0.0803723809132596    24.81599998474121   0.16300000250339508\n",
       "...      ...                  ...        ...                 ...         ...                  ...            ...                  ...                    ...                   ...                 ...\n",
       "588,056  6003344796319529984  4531.2153  71.12315268169422   2.4103317   0.18300246561395928  -0.29380798    0.04297140239160699  0.157507937659917      0.01185075698787861   58.42599868774414   0.05700000002980232\n",
       "588,057  6000435312445129728  6059.4995  89.92103435161873   3.5193155   0.1905389116378251   -0.04507351    0.09163415120321836  0.003646820192376051   0.04083085258215475   0.2770000100135803  0.10999999940395355\n",
       "588,058  6000421607212226560  4132.9727  83.45848117487678   0.95939153  0.3021431599031527   -1.003942      0.06525723837358276  0.1258948343706562     0.028202345502403702  37.00600051879883   0.06700000166893005\n",
       "588,059  6000420675196587008  4776.9272  98.42247509802459   2.4207969   0.22091855410307684  0.007314205    0.07383443001503355  -0.022905150506586088  0.0371291787455343    -69.5719985961914   0.0560000017285347\n",
       "588,060  6003341772662216704  6125.684   75.33335448175832   3.717687    0.17800067002033065  -0.0021514893  0.05465198362960346  -0.09670603374211155   0.021309995376658997  -62.75199890136719  0.08900000154972076"
      ]
     },
     "execution_count": 9,
     "metadata": {},
     "output_type": "execute_result"
    }
   ],
   "source": [
    "# remove duplicates, if any\n",
    "df_pandas.drop_duplicates(\"dr3_source_id\", inplace=True)\n",
    "df = vaex.from_pandas(df_pandas)\n",
    "df"
   ]
  },
  {
   "cell_type": "code",
   "execution_count": 15,
   "metadata": {},
   "outputs": [
    {
     "data": {
      "text/html": [
       "<table>\n",
       "<thead>\n",
       "<tr><th>#                                  </th><th>source_id          </th><th>teff_galah  </th><th>e_teff_galah      </th><th>logg_galah  </th><th>e_logg_galah       </th><th>feh_galah    </th><th>e_feh_galah        </th><th>alphafe_galah        </th><th>e_alphafe_galah     </th><th>rv_galah          </th><th>e_rv_galah         </th></tr>\n",
       "</thead>\n",
       "<tbody>\n",
       "<tr><td><i style='opacity: 0.6'>0</i>      </td><td>4667368899326730240</td><td>4553.3545   </td><td>137.06088556228917</td><td>4.7149534   </td><td>0.20121636742743593</td><td>-0.33501863  </td><td>0.12021913955493135</td><td>0.35136763119226394  </td><td>0.07919326531297675 </td><td>36.20399856567383 </td><td>0.18299999833106995</td></tr>\n",
       "<tr><td><i style='opacity: 0.6'>1</i>      </td><td>4667362989451832320</td><td>3622.7446   </td><td>104.98349008795871</td><td>4.6915054   </td><td>0.19856208380453938</td><td>nan          </td><td>nan                </td><td>nan                  </td><td>nan                 </td><td>55.373325571289065</td><td>0.7317890322419305 </td></tr>\n",
       "<tr><td><i style='opacity: 0.6'>2</i>      </td><td>4667324643983679488</td><td>4852.4756   </td><td>172.75096900138723</td><td>2.4668846   </td><td>0.22319904274460833</td><td>-1.1701574   </td><td>0.18190171456363485</td><td>0.27304791329884204  </td><td>0.0853664789169457  </td><td>95.87799835205078 </td><td>0.1509999930858612 </td></tr>\n",
       "<tr><td><i style='opacity: 0.6'>3</i>      </td><td>4667335913977929728</td><td>5588.5005   </td><td>104.29455501889545</td><td>3.9993572   </td><td>0.18612670726590325</td><td>0.052394867  </td><td>0.09937209372391331</td><td>-0.015429693609670742</td><td>0.05371322433644004 </td><td>7.130000114440918 </td><td>0.12600000202655792</td></tr>\n",
       "<tr><td><i style='opacity: 0.6'>4</i>      </td><td>4667323681911007232</td><td>5709.503    </td><td>109.2033998665521 </td><td>4.1819053   </td><td>0.18470374660212685</td><td>-0.013732433 </td><td>0.11137627470861318</td><td>0.08102261072159844  </td><td>0.0803723809132596  </td><td>24.81599998474121 </td><td>0.16300000250339508</td></tr>\n",
       "<tr><td>...                                </td><td>...                </td><td>...         </td><td>...               </td><td>...         </td><td>...                </td><td>...          </td><td>...                </td><td>...                  </td><td>...                 </td><td>...               </td><td>...                </td></tr>\n",
       "<tr><td><i style='opacity: 0.6'>588,056</i></td><td>6003344796319529984</td><td>4531.2153   </td><td>71.12315268169422 </td><td>2.4103317   </td><td>0.18300246561395928</td><td>-0.29380798  </td><td>0.04297140239160699</td><td>0.157507937659917    </td><td>0.01185075698787861 </td><td>58.42599868774414 </td><td>0.05700000002980232</td></tr>\n",
       "<tr><td><i style='opacity: 0.6'>588,057</i></td><td>6000435312445129728</td><td>6059.4995   </td><td>89.92103435161873 </td><td>3.5193155   </td><td>0.1905389116378251 </td><td>-0.04507351  </td><td>0.09163415120321836</td><td>0.003646820192376051 </td><td>0.04083085258215475 </td><td>0.2770000100135803</td><td>0.10999999940395355</td></tr>\n",
       "<tr><td><i style='opacity: 0.6'>588,058</i></td><td>6000421607212226560</td><td>4132.9727   </td><td>83.45848117487678 </td><td>0.95939153  </td><td>0.3021431599031527 </td><td>-1.003942    </td><td>0.06525723837358276</td><td>0.1258948343706562   </td><td>0.028202345502403702</td><td>37.00600051879883 </td><td>0.06700000166893005</td></tr>\n",
       "<tr><td><i style='opacity: 0.6'>588,059</i></td><td>6000420675196587008</td><td>4776.9272   </td><td>98.42247509802459 </td><td>2.4207969   </td><td>0.22091855410307684</td><td>0.007314205  </td><td>0.07383443001503355</td><td>-0.022905150506586088</td><td>0.0371291787455343  </td><td>-69.5719985961914 </td><td>0.0560000017285347 </td></tr>\n",
       "<tr><td><i style='opacity: 0.6'>588,060</i></td><td>6003341772662216704</td><td>6125.684    </td><td>75.33335448175832 </td><td>3.717687    </td><td>0.17800067002033065</td><td>-0.0021514893</td><td>0.05465198362960346</td><td>-0.09670603374211155 </td><td>0.021309995376658997</td><td>-62.75199890136719</td><td>0.08900000154972076</td></tr>\n",
       "</tbody>\n",
       "</table>"
      ],
      "text/plain": [
       "#        source_id            teff_galah    e_teff_galah        logg_galah    e_logg_galah         feh_galah      e_feh_galah          alphafe_galah          e_alphafe_galah       rv_galah            e_rv_galah\n",
       "0        4667368899326730240  4553.3545     137.06088556228917  4.7149534     0.20121636742743593  -0.33501863    0.12021913955493135  0.35136763119226394    0.07919326531297675   36.20399856567383   0.18299999833106995\n",
       "1        4667362989451832320  3622.7446     104.98349008795871  4.6915054     0.19856208380453938  nan            nan                  nan                    nan                   55.373325571289065  0.7317890322419305\n",
       "2        4667324643983679488  4852.4756     172.75096900138723  2.4668846     0.22319904274460833  -1.1701574     0.18190171456363485  0.27304791329884204    0.0853664789169457    95.87799835205078   0.1509999930858612\n",
       "3        4667335913977929728  5588.5005     104.29455501889545  3.9993572     0.18612670726590325  0.052394867    0.09937209372391331  -0.015429693609670742  0.05371322433644004   7.130000114440918   0.12600000202655792\n",
       "4        4667323681911007232  5709.503      109.2033998665521   4.1819053     0.18470374660212685  -0.013732433   0.11137627470861318  0.08102261072159844    0.0803723809132596    24.81599998474121   0.16300000250339508\n",
       "...      ...                  ...           ...                 ...           ...                  ...            ...                  ...                    ...                   ...                 ...\n",
       "588,056  6003344796319529984  4531.2153     71.12315268169422   2.4103317     0.18300246561395928  -0.29380798    0.04297140239160699  0.157507937659917      0.01185075698787861   58.42599868774414   0.05700000002980232\n",
       "588,057  6000435312445129728  6059.4995     89.92103435161873   3.5193155     0.1905389116378251   -0.04507351    0.09163415120321836  0.003646820192376051   0.04083085258215475   0.2770000100135803  0.10999999940395355\n",
       "588,058  6000421607212226560  4132.9727     83.45848117487678   0.95939153    0.3021431599031527   -1.003942      0.06525723837358276  0.1258948343706562     0.028202345502403702  37.00600051879883   0.06700000166893005\n",
       "588,059  6000420675196587008  4776.9272     98.42247509802459   2.4207969     0.22091855410307684  0.007314205    0.07383443001503355  -0.022905150506586088  0.0371291787455343    -69.5719985961914   0.0560000017285347\n",
       "588,060  6003341772662216704  6125.684      75.33335448175832   3.717687      0.17800067002033065  -0.0021514893  0.05465198362960346  -0.09670603374211155   0.021309995376658997  -62.75199890136719  0.08900000154972076"
      ]
     },
     "execution_count": 15,
     "metadata": {},
     "output_type": "execute_result"
    }
   ],
   "source": [
    "# rename the columns\n",
    "column_names = ['source_id', 'teff_galah', 'e_teff_galah', 'logg_galah', 'e_logg_galah',\n",
    "           'feh_galah', 'e_feh_galah', 'alphafe_galah', 'e_alphafe_galah', \n",
    "           'rv_galah', 'e_rv_galah']\n",
    "\n",
    "for old, new in zip(columns, column_names):\n",
    "    df.rename(old, new)\n",
    "df"
   ]
  },
  {
   "cell_type": "code",
   "execution_count": 16,
   "metadata": {},
   "outputs": [
    {
     "name": "stdout",
     "output_type": "stream",
     "text": [
      "export(hdf5) [########################################] 100.00% elapsed time  :     0.09s =  0.0m =  0.0h\n",
      " "
     ]
    }
   ],
   "source": [
    "# export to hdf5\n",
    "df.export(join(data_dir, \"galah.hdf5\"), progress=True)"
   ]
  }
 ],
 "metadata": {
  "kernelspec": {
   "display_name": "vaex",
   "language": "python",
   "name": "python3"
  },
  "language_info": {
   "codemirror_mode": {
    "name": "ipython",
    "version": 3
   },
   "file_extension": ".py",
   "mimetype": "text/x-python",
   "name": "python",
   "nbconvert_exporter": "python",
   "pygments_lexer": "ipython3",
   "version": "3.8.10"
  },
  "vscode": {
   "interpreter": {
    "hash": "2e98b01e139963c1272b06356b7ab7b4729889064e74152a80e8f95bb2c4292e"
   }
  }
 },
 "nbformat": 4,
 "nbformat_minor": 4
}
