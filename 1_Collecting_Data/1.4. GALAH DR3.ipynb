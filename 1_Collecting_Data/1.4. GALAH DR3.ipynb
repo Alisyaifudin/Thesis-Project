{
 "cells": [
  {
   "attachments": {},
   "cell_type": "markdown",
   "metadata": {},
   "source": [
    "SELECT TOP 100 \n",
    "m.rv_galah, m.e_rv_galah,\n",
    "m.logg AS logg_galah, m.e_logg AS e_logg_galah,\n",
    "m.teff AS teff_galah, m.e_teff AS e_teff_galah,\n",
    "m.fe_h AS feh_galah, m.e_fe_h AS e_feh_galah, \n",
    "m.alpha_fe AS alphafe_galah, m.e_alpha_fe AS e_alphafe_galah\n",
    "FROM galah_dr3.main_star as m"
   ]
  },
  {
   "cell_type": "markdown",
   "metadata": {},
   "source": [
    "Go to https://datacentral.org.au/services/query/\n",
    "![galah query page](<images/galah-query-page.png>)"
   ]
  },
  {
   "cell_type": "markdown",
   "metadata": {},
   "source": [
    "The query\n",
    "```\n",
    "SELECT TOP 100000 galah_main.rv_galah,\n",
    "galah_main.fe_h AS feh_galah, gaia_vac.dr3_source_id AS source_id, \n",
    "galah_main.alpha_fe AS alphafe_galah, galah_main.teff AS teff_galah,\n",
    "galah_main.e_teff AS e_teff_galah, galah_main.logg AS logg_galah,\n",
    "galah_main.e_logg AS e_logg_galah\n",
    "FROM galah_dr3p2.main_star as galah_main\n",
    "INNER JOIN galah_dr3p2.vac_gaia_edr3 as gaia_vac on galah_main.dr3_source_id = gaia_vac.dr3_source_id\n",
    "WHERE galah_main.flag_sp = 0 AND galah_main.flag_fe_h = 0\n",
    "AND galah_main.flag_alpha_fe = 0\n",
    "AND galah_main.ra_dr2 BETWEEN 60 AND 120\n",
    "```\n",
    "Divide RA in smaller chunk if necessary\n",
    "\n",
    "save the downloaded files to `Thesis-Project/Data/GALAH`"
   ]
  },
  {
   "cell_type": "code",
   "execution_count": null,
   "metadata": {},
   "outputs": [],
   "source": [
    "# Vizier tap endpoint\n",
    "tap = Tap(url=\"http://tapvizier.u-strasbg.fr/TAPVizieR/tap/sync/\")\n",
    "\n",
    "columns_main = [\"HRV AS rv_rave\", \"e_HRV AS e_rv_rave\"]\n",
    "columns_aux = [\"Teffs AS teff_rave\", \"loggs AS logg_rave\", \n",
    "               \"[M/H]s AS mh_rave\", \"[a/Fe]s AS alphafe_rave\"]\n",
    "columns_xmatch = [\"Gaiae3 AS source_id\"]\n",
    "\n",
    "columns_main = list(map(lambda x: appendName(x, \"main\"), columns_main))\n",
    "columns_aux = list(map(lambda x: appendName(x, \"aux\"), columns_aux))\n",
    "columns_xmatch = list(map(lambda x: appendName(x, \"xmatch\"), columns_xmatch))\n",
    "\n",
    "columns = columns_xmatch + columns_aux + columns_main\n",
    "columns"
   ]
  },
  {
   "cell_type": "markdown",
   "metadata": {},
   "source": [
    "# Cleaning"
   ]
  },
  {
   "cell_type": "markdown",
   "metadata": {},
   "source": [
    "Data downloaded from Website have `byte` data type, which is annoying.\n",
    "\n",
    "convert it to `float64`, follow the following instruction"
   ]
  },
  {
   "cell_type": "code",
   "execution_count": 8,
   "metadata": {},
   "outputs": [],
   "source": [
    "from astroquery.utils.tap.core import Tap\n",
    "from os.path import join, abspath\n",
    "from os import pardir, curdir, mkdir\n",
    "from glob import glob\n",
    "from astropy.table import Table\n",
    "import vaex"
   ]
  },
  {
   "cell_type": "code",
   "execution_count": 5,
   "metadata": {},
   "outputs": [
    {
     "name": "stdout",
     "output_type": "stream",
     "text": [
      "Directory already exist. Good to go!\n"
     ]
    },
    {
     "data": {
      "text/plain": [
       "'/home2/s20321005/Thesis-Project/Data/GALAH'"
      ]
     },
     "execution_count": 5,
     "metadata": {},
     "output_type": "execute_result"
    }
   ],
   "source": [
    "name = \"GALAH\"\n",
    "root_data_dir = abspath(join(pardir, \"Data\"))\n",
    "data_dir = join(root_data_dir, name)\n",
    "try:\n",
    "  mkdir(data_dir)\n",
    "  print(f\"Creating {name} dir in Data dir\")\n",
    "except FileExistsError:\n",
    "  print(\"Directory already exist. Good to go!\")\n",
    "data_dir"
   ]
  },
  {
   "cell_type": "code",
   "execution_count": 7,
   "metadata": {},
   "outputs": [
    {
     "data": {
      "text/plain": [
       "['/home2/s20321005/Thesis-Project/Data/GALAH/0-180.fits',\n",
       " '/home2/s20321005/Thesis-Project/Data/GALAH/180-300.fits',\n",
       " '/home2/s20321005/Thesis-Project/Data/GALAH/300-360.fits']"
      ]
     },
     "execution_count": 7,
     "metadata": {},
     "output_type": "execute_result"
    }
   ],
   "source": [
    "# load downloaded data in this directory with .fits format\n",
    "files = glob(join(data_dir, \"*.fits\"))\n",
    "files.sort()\n",
    "files"
   ]
  },
  {
   "cell_type": "code",
   "execution_count": 9,
   "metadata": {},
   "outputs": [
    {
     "data": {
      "text/html": [
       "<table>\n",
       "<thead>\n",
       "<tr><th>#                                  </th><th>rv_galah             </th><th>e_rv_galah         </th><th>feh_galah   </th><th>source_id            </th><th>alphafe_galah        </th><th>teff_galah  </th><th>e_teff_galah      </th><th>logg_galah  </th><th>e_logg_galah       </th></tr>\n",
       "</thead>\n",
       "<tbody>\n",
       "<tr><td><i style='opacity: 0.6'>0</i>      </td><td>13.437999725341797   </td><td>0.05400000140070915</td><td>0.03595352  </td><td>4.641115615375957e+18</td><td>0.09246221004384556  </td><td>4506.731    </td><td>82.13812325830732 </td><td>2.7686563   </td><td>0.1915454424534654 </td></tr>\n",
       "<tr><td><i style='opacity: 0.6'>1</i>      </td><td>9.869000434875488    </td><td>0.12600000202655792</td><td>0.18803501  </td><td>4.641111702662211e+18</td><td>-0.10428717418309698 </td><td>5663.523    </td><td>128.3193470261073 </td><td>3.8865454   </td><td>0.19110837782879747</td></tr>\n",
       "<tr><td><i style='opacity: 0.6'>2</i>      </td><td>-9.939000129699707   </td><td>0.1469999998807907 </td><td>-0.38892412 </td><td>4.629114377239289e+18</td><td>0.10956293667349712  </td><td>6137.2373   </td><td>111.88808100892342</td><td>4.1912      </td><td>0.18346672370192932</td></tr>\n",
       "<tr><td><i style='opacity: 0.6'>3</i>      </td><td>-9.939000129699707   </td><td>0.1469999998807907 </td><td>-0.38892412 </td><td>4.629114377239289e+18</td><td>0.10956293667349712  </td><td>6137.2373   </td><td>111.88808100892342</td><td>4.1912      </td><td>0.18346672370192932</td></tr>\n",
       "<tr><td><i style='opacity: 0.6'>4</i>      </td><td>-24.608999252319336  </td><td>0.09000000357627869</td><td>-0.32791662 </td><td>4.629109326357751e+18</td><td>0.055064224666230004 </td><td>5661.511    </td><td>86.80019357157002 </td><td>4.3855586   </td><td>0.18051787846182552</td></tr>\n",
       "<tr><td>...                                </td><td>...                  </td><td>...                </td><td>...         </td><td>...                  </td><td>...                  </td><td>...         </td><td>...               </td><td>...         </td><td>...                </td></tr>\n",
       "<tr><td><i style='opacity: 0.6'>470,506</i></td><td>14.376999855041504   </td><td>0.12200000137090683</td><td>0.1387043   </td><td>6.837094224446874e+18</td><td>-0.033266165556283395</td><td>5424.1885   </td><td>123.60539815993849</td><td>3.917587    </td><td>0.1965486258996146 </td></tr>\n",
       "<tr><td><i style='opacity: 0.6'>470,507</i></td><td>-5.7870001792907715  </td><td>0.1770000010728836 </td><td>0.011001587 </td><td>6.837087833535546e+18</td><td>0.026654315913336002 </td><td>6452.1133   </td><td>121.06105587151487</td><td>4.1991615   </td><td>0.20145014972469574</td></tr>\n",
       "<tr><td><i style='opacity: 0.6'>470,508</i></td><td>-36.01300048828125   </td><td>0.09700000286102295</td><td>0.48132372  </td><td>6.837109858127866e+18</td><td>0.039617528753247075 </td><td>5668.3193   </td><td>128.53344891021374</td><td>4.189171    </td><td>0.19843652758638192</td></tr>\n",
       "<tr><td><i style='opacity: 0.6'>470,509</i></td><td>14.550000190734863   </td><td>0.08799999952316284</td><td>-0.121267796</td><td>6.837118615565941e+18</td><td>0.05056864915165997  </td><td>4467.411    </td><td>109.93485597196742</td><td>4.61917     </td><td>0.19285309555419056</td></tr>\n",
       "<tr><td><i style='opacity: 0.6'>470,510</i></td><td>-0.023000000044703484</td><td>0.1940000057220459 </td><td>-0.057799816</td><td>6.8370853553392e+18  </td><td>0.04518365750588093  </td><td>5833.7974   </td><td>96.53644595945883 </td><td>4.003326    </td><td>0.18657621086798215</td></tr>\n",
       "</tbody>\n",
       "</table>"
      ],
      "text/plain": [
       "#        rv_galah               e_rv_galah           feh_galah     source_id              alphafe_galah          teff_galah    e_teff_galah        logg_galah    e_logg_galah\n",
       "0        13.437999725341797     0.05400000140070915  0.03595352    4.641115615375957e+18  0.09246221004384556    4506.731      82.13812325830732   2.7686563     0.1915454424534654\n",
       "1        9.869000434875488      0.12600000202655792  0.18803501    4.641111702662211e+18  -0.10428717418309698   5663.523      128.3193470261073   3.8865454     0.19110837782879747\n",
       "2        -9.939000129699707     0.1469999998807907   -0.38892412   4.629114377239289e+18  0.10956293667349712    6137.2373     111.88808100892342  4.1912        0.18346672370192932\n",
       "3        -9.939000129699707     0.1469999998807907   -0.38892412   4.629114377239289e+18  0.10956293667349712    6137.2373     111.88808100892342  4.1912        0.18346672370192932\n",
       "4        -24.608999252319336    0.09000000357627869  -0.32791662   4.629109326357751e+18  0.055064224666230004   5661.511      86.80019357157002   4.3855586     0.18051787846182552\n",
       "...      ...                    ...                  ...           ...                    ...                    ...           ...                 ...           ...\n",
       "470,506  14.376999855041504     0.12200000137090683  0.1387043     6.837094224446874e+18  -0.033266165556283395  5424.1885     123.60539815993849  3.917587      0.1965486258996146\n",
       "470,507  -5.7870001792907715    0.1770000010728836   0.011001587   6.837087833535546e+18  0.026654315913336002   6452.1133     121.06105587151487  4.1991615     0.20145014972469574\n",
       "470,508  -36.01300048828125     0.09700000286102295  0.48132372    6.837109858127866e+18  0.039617528753247075   5668.3193     128.53344891021374  4.189171      0.19843652758638192\n",
       "470,509  14.550000190734863     0.08799999952316284  -0.121267796  6.837118615565941e+18  0.05056864915165997    4467.411      109.93485597196742  4.61917       0.19285309555419056\n",
       "470,510  -0.023000000044703484  0.1940000057220459   -0.057799816  6.8370853553392e+18    0.04518365750588093    5833.7974     96.53644595945883   4.003326      0.18657621086798215"
      ]
     },
     "execution_count": 9,
     "metadata": {},
     "output_type": "execute_result"
    }
   ],
   "source": [
    "# convert the data types\n",
    "df_com = []\n",
    "for file in files:\n",
    "    table = Table.read(file)\n",
    "    for col in table.colnames:\n",
    "        table[col] = table[col].astype(\"float64\")\n",
    "    df = vaex.from_astropy_table(table)\n",
    "    if len(df_com) == 0:\n",
    "        df_com = df\n",
    "    else:\n",
    "        df_com = df_com.concat(df)\n",
    "df_com"
   ]
  },
  {
   "cell_type": "code",
   "execution_count": 10,
   "metadata": {},
   "outputs": [
    {
     "data": {
      "text/html": [
       "<table>\n",
       "<thead>\n",
       "<tr><th>#                                  </th><th>rv_galah             </th><th>e_rv_galah         </th><th>feh_galah   </th><th>source_id            </th><th>alphafe_galah         </th><th>teff_galah  </th><th>e_teff_galah      </th><th>logg_galah  </th><th>e_logg_galah       </th></tr>\n",
       "</thead>\n",
       "<tbody>\n",
       "<tr><td><i style='opacity: 0.6'>0</i>      </td><td>13.437999725341797   </td><td>0.05400000140070915</td><td>0.03595352  </td><td>4.641115615375957e+18</td><td>0.09246221004384556   </td><td>4506.731    </td><td>82.13812325830732 </td><td>2.7686563   </td><td>0.1915454424534654 </td></tr>\n",
       "<tr><td><i style='opacity: 0.6'>1</i>      </td><td>9.869000434875488    </td><td>0.12600000202655792</td><td>0.18803501  </td><td>4.641111702662211e+18</td><td>-0.10428717418309698  </td><td>5663.523    </td><td>128.3193470261073 </td><td>3.8865454   </td><td>0.19110837782879747</td></tr>\n",
       "<tr><td><i style='opacity: 0.6'>2</i>      </td><td>-9.939000129699707   </td><td>0.1469999998807907 </td><td>-0.38892412 </td><td>4.629114377239289e+18</td><td>0.10956293667349712   </td><td>6137.2373   </td><td>111.88808100892342</td><td>4.1912      </td><td>0.18346672370192932</td></tr>\n",
       "<tr><td><i style='opacity: 0.6'>3</i>      </td><td>-24.608999252319336  </td><td>0.09000000357627869</td><td>-0.32791662 </td><td>4.629109326357751e+18</td><td>0.055064224666230004  </td><td>5661.511    </td><td>86.80019357157002 </td><td>4.3855586   </td><td>0.18051787846182552</td></tr>\n",
       "<tr><td><i style='opacity: 0.6'>4</i>      </td><td>47.25600051879883    </td><td>0.10999999940395355</td><td>-0.20193052 </td><td>4.629121219123632e+18</td><td>-0.0007175464608104134</td><td>5579.666    </td><td>84.7359424959418  </td><td>4.1815453   </td><td>0.17985555918706975</td></tr>\n",
       "<tr><td>...                                </td><td>...                  </td><td>...                </td><td>...         </td><td>...                  </td><td>...                   </td><td>...         </td><td>...               </td><td>...         </td><td>...                </td></tr>\n",
       "<tr><td><i style='opacity: 0.6'>415,421</i></td><td>14.376999855041504   </td><td>0.12200000137090683</td><td>0.1387043   </td><td>6.837094224446874e+18</td><td>-0.033266165556283395 </td><td>5424.1885   </td><td>123.60539815993849</td><td>3.917587    </td><td>0.1965486258996146 </td></tr>\n",
       "<tr><td><i style='opacity: 0.6'>415,422</i></td><td>-5.7870001792907715  </td><td>0.1770000010728836 </td><td>0.011001587 </td><td>6.837087833535546e+18</td><td>0.026654315913336002  </td><td>6452.1133   </td><td>121.06105587151487</td><td>4.1991615   </td><td>0.20145014972469574</td></tr>\n",
       "<tr><td><i style='opacity: 0.6'>415,423</i></td><td>-36.01300048828125   </td><td>0.09700000286102295</td><td>0.48132372  </td><td>6.837109858127866e+18</td><td>0.039617528753247075  </td><td>5668.3193   </td><td>128.53344891021374</td><td>4.189171    </td><td>0.19843652758638192</td></tr>\n",
       "<tr><td><i style='opacity: 0.6'>415,424</i></td><td>14.550000190734863   </td><td>0.08799999952316284</td><td>-0.121267796</td><td>6.837118615565941e+18</td><td>0.05056864915165997   </td><td>4467.411    </td><td>109.93485597196742</td><td>4.61917     </td><td>0.19285309555419056</td></tr>\n",
       "<tr><td><i style='opacity: 0.6'>415,425</i></td><td>-0.023000000044703484</td><td>0.1940000057220459 </td><td>-0.057799816</td><td>6.8370853553392e+18  </td><td>0.04518365750588093   </td><td>5833.7974   </td><td>96.53644595945883 </td><td>4.003326    </td><td>0.18657621086798215</td></tr>\n",
       "</tbody>\n",
       "</table>"
      ],
      "text/plain": [
       "#        rv_galah               e_rv_galah           feh_galah     source_id              alphafe_galah           teff_galah    e_teff_galah        logg_galah    e_logg_galah\n",
       "0        13.437999725341797     0.05400000140070915  0.03595352    4.641115615375957e+18  0.09246221004384556     4506.731      82.13812325830732   2.7686563     0.1915454424534654\n",
       "1        9.869000434875488      0.12600000202655792  0.18803501    4.641111702662211e+18  -0.10428717418309698    5663.523      128.3193470261073   3.8865454     0.19110837782879747\n",
       "2        -9.939000129699707     0.1469999998807907   -0.38892412   4.629114377239289e+18  0.10956293667349712     6137.2373     111.88808100892342  4.1912        0.18346672370192932\n",
       "3        -24.608999252319336    0.09000000357627869  -0.32791662   4.629109326357751e+18  0.055064224666230004    5661.511      86.80019357157002   4.3855586     0.18051787846182552\n",
       "4        47.25600051879883      0.10999999940395355  -0.20193052   4.629121219123632e+18  -0.0007175464608104134  5579.666      84.7359424959418    4.1815453     0.17985555918706975\n",
       "...      ...                    ...                  ...           ...                    ...                     ...           ...                 ...           ...\n",
       "415,421  14.376999855041504     0.12200000137090683  0.1387043     6.837094224446874e+18  -0.033266165556283395   5424.1885     123.60539815993849  3.917587      0.1965486258996146\n",
       "415,422  -5.7870001792907715    0.1770000010728836   0.011001587   6.837087833535546e+18  0.026654315913336002    6452.1133     121.06105587151487  4.1991615     0.20145014972469574\n",
       "415,423  -36.01300048828125     0.09700000286102295  0.48132372    6.837109858127866e+18  0.039617528753247075    5668.3193     128.53344891021374  4.189171      0.19843652758638192\n",
       "415,424  14.550000190734863     0.08799999952316284  -0.121267796  6.837118615565941e+18  0.05056864915165997     4467.411      109.93485597196742  4.61917       0.19285309555419056\n",
       "415,425  -0.023000000044703484  0.1940000057220459   -0.057799816  6.8370853553392e+18    0.04518365750588093     5833.7974     96.53644595945883   4.003326      0.18657621086798215"
      ]
     },
     "execution_count": 10,
     "metadata": {},
     "output_type": "execute_result"
    }
   ],
   "source": [
    "# remove duplicates, if any\n",
    "df_pandas = df_com.to_pandas_df()\n",
    "df_pandas.drop_duplicates(\"source_id\", inplace=True)\n",
    "df = vaex.from_pandas(df_pandas)\n",
    "df"
   ]
  },
  {
   "cell_type": "code",
   "execution_count": 11,
   "metadata": {},
   "outputs": [
    {
     "name": "stdout",
     "output_type": "stream",
     "text": [
      "export(hdf5) [########################################] 100.00% elapsed time  :     0.07s =  0.0m =  0.0h\n",
      " "
     ]
    }
   ],
   "source": [
    "# export to hdf5\n",
    "df.export(join(data_dir, \"galah.hdf5\"), progress=True)"
   ]
  }
 ],
 "metadata": {
  "kernelspec": {
   "display_name": "vaex",
   "language": "python",
   "name": "python3"
  },
  "language_info": {
   "codemirror_mode": {
    "name": "ipython",
    "version": 3
   },
   "file_extension": ".py",
   "mimetype": "text/x-python",
   "name": "python",
   "nbconvert_exporter": "python",
   "pygments_lexer": "ipython3",
   "version": "3.8.10"
  },
  "vscode": {
   "interpreter": {
    "hash": "2e98b01e139963c1272b06356b7ab7b4729889064e74152a80e8f95bb2c4292e"
   }
  }
 },
 "nbformat": 4,
 "nbformat_minor": 4
}
