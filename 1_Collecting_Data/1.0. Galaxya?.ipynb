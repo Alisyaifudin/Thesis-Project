{
 "cells": [
  {
   "cell_type": "code",
   "execution_count": 1,
   "id": "8a433438-e254-4b6a-94d7-1c5c144eb78d",
   "metadata": {
    "execution": {
     "iopub.execute_input": "2023-01-15T12:02:26.743536Z",
     "iopub.status.busy": "2023-01-15T12:02:26.742929Z",
     "iopub.status.idle": "2023-01-15T12:02:36.370432Z",
     "shell.execute_reply": "2023-01-15T12:02:36.369211Z",
     "shell.execute_reply.started": "2023-01-15T12:02:26.743469Z"
    }
   },
   "outputs": [],
   "source": [
    "from astroquery.utils.tap.core import Tap\n",
    "import vaex\n",
    "import numpy as np\n",
    "from datetime import datetime\n",
    "from time import time\n",
    "from astroquery.gaia import Gaia\n",
    "from os.path import join, abspath\n",
    "from os import pardir, mkdir\n",
    "from glob import glob\n",
    "import sys"
   ]
  },
  {
   "cell_type": "code",
   "execution_count": 2,
   "id": "7f4476b8-223e-4c71-834c-2ff2a72ec2f2",
   "metadata": {
    "execution": {
     "iopub.execute_input": "2023-01-15T12:04:38.627788Z",
     "iopub.status.busy": "2023-01-15T12:04:38.627137Z",
     "iopub.status.idle": "2023-01-15T12:04:39.939208Z",
     "shell.execute_reply": "2023-01-15T12:04:39.938497Z",
     "shell.execute_reply.started": "2023-01-15T12:04:38.627729Z"
    }
   },
   "outputs": [],
   "source": [
    "# import utils\n",
    "util_dir = abspath(pardir)\n",
    "sys.path.insert(0, util_dir)\n",
    "\n",
    "from utils import timeout, progressbar, appendName"
   ]
  },
  {
   "cell_type": "code",
   "execution_count": 3,
   "id": "99b9299c-9ad0-4731-8200-709aa9af7c04",
   "metadata": {
    "execution": {
     "iopub.execute_input": "2023-01-15T12:04:44.928893Z",
     "iopub.status.busy": "2023-01-15T12:04:44.928284Z",
     "iopub.status.idle": "2023-01-15T12:04:44.942165Z",
     "shell.execute_reply": "2023-01-15T12:04:44.940899Z",
     "shell.execute_reply.started": "2023-01-15T12:04:44.928836Z"
    }
   },
   "outputs": [
    {
     "data": {
      "text/plain": [
       "'/home2/s20321005/Thesis-Project/Data'"
      ]
     },
     "execution_count": 3,
     "metadata": {},
     "output_type": "execute_result"
    }
   ],
   "source": [
    "root_data_dir = abspath(join(pardir, \"Data\"))\n",
    "root_data_dir"
   ]
  },
  {
   "cell_type": "code",
   "execution_count": 4,
   "id": "3ea6ffed-0e57-42d9-b4ff-22f70b6b03ef",
   "metadata": {
    "execution": {
     "iopub.execute_input": "2023-01-15T12:05:00.795714Z",
     "iopub.status.busy": "2023-01-15T12:05:00.795108Z",
     "iopub.status.idle": "2023-01-15T12:05:00.858268Z",
     "shell.execute_reply": "2023-01-15T12:05:00.857528Z",
     "shell.execute_reply.started": "2023-01-15T12:05:00.795660Z"
    }
   },
   "outputs": [
    {
     "name": "stdout",
     "output_type": "stream",
     "text": [
      "Creating /home2/s20321005/Thesis-Project/Data/GUMS dir in Data dir\n"
     ]
    }
   ],
   "source": [
    "name = \"GUMS\"\n",
    "gaia_data_dir = join(root_data_dir, name)\n",
    "try:\n",
    "    mkdir(gaia_data_dir)\n",
    "    print(f\"Creating {gaia_data_dir} dir in Data dir\")\n",
    "except FileExistsError:\n",
    "    print(f\"Directory {gaia_data_dir} already exist. Good to go!\")\n"
   ]
  },
  {
   "cell_type": "code",
   "execution_count": 9,
   "id": "8fc9b567-8ac0-4e1c-a118-5f7dfe5e666a",
   "metadata": {
    "execution": {
     "iopub.execute_input": "2023-01-15T12:11:27.845363Z",
     "iopub.status.busy": "2023-01-15T12:11:27.844882Z",
     "iopub.status.idle": "2023-01-15T12:11:27.849653Z",
     "shell.execute_reply": "2023-01-15T12:11:27.848849Z",
     "shell.execute_reply.started": "2023-01-15T12:11:27.845320Z"
    },
    "tags": []
   },
   "outputs": [],
   "source": [
    "columns = [\"ra\", \"dec\", \"barycentric_distance\", \"pmra\", \"pmdec\", \"radial_velocity\",\n",
    "              \"mag_g\", \"mag_bp\", \"mag_rp\", \"feh\", \"alphafe\", \"mass\", \"population\", \"logg\", \"teff\", \"spectral_type\"]\n"
   ]
  },
  {
   "cell_type": "code",
   "execution_count": 6,
   "id": "aa65561c-6411-41b8-a120-e5f9457e3585",
   "metadata": {
    "execution": {
     "iopub.execute_input": "2023-01-15T12:08:31.931110Z",
     "iopub.status.busy": "2023-01-15T12:08:31.930651Z",
     "iopub.status.idle": "2023-01-15T12:08:31.938516Z",
     "shell.execute_reply": "2023-01-15T12:08:31.937631Z",
     "shell.execute_reply.started": "2023-01-15T12:08:31.931070Z"
    }
   },
   "outputs": [
    {
     "data": {
      "text/plain": [
       "array([  0,  10,  20,  30,  40,  50,  60,  70,  80,  90, 100, 110, 120,\n",
       "       130, 140, 150, 160, 170, 180, 190, 200, 210, 220, 230, 240, 250,\n",
       "       260, 270, 280, 290, 300, 310, 320, 330, 340, 350, 360])"
      ]
     },
     "execution_count": 6,
     "metadata": {},
     "output_type": "execute_result"
    }
   ],
   "source": [
    "# divide into 360 RAs, depend on preference\n",
    "ras = np.arange(0,360+0.1, 10).astype(int)\n",
    "dra = ras[1] - ras[0]\n",
    "ras"
   ]
  },
  {
   "cell_type": "code",
   "execution_count": 7,
   "id": "43a6aecf-eda5-4efe-b09c-e257fb2013bc",
   "metadata": {
    "execution": {
     "iopub.execute_input": "2023-01-15T12:08:50.710844Z",
     "iopub.status.busy": "2023-01-15T12:08:50.710311Z",
     "iopub.status.idle": "2023-01-15T12:08:50.718507Z",
     "shell.execute_reply": "2023-01-15T12:08:50.717556Z",
     "shell.execute_reply.started": "2023-01-15T12:08:50.710795Z"
    }
   },
   "outputs": [
    {
     "data": {
      "text/plain": [
       "array([-90, -60, -30,   0,  30,  60,  90])"
      ]
     },
     "execution_count": 7,
     "metadata": {},
     "output_type": "execute_result"
    }
   ],
   "source": [
    "decs = np.arange(-90,90+0.1,30).astype(int)\n",
    "ddec = decs[1] - decs[0]\n",
    "decs"
   ]
  },
  {
   "cell_type": "code",
   "execution_count": 14,
   "id": "d77c75a5-2aa3-4f3a-aa78-ec12a3201415",
   "metadata": {
    "execution": {
     "iopub.execute_input": "2023-01-15T12:21:25.621994Z",
     "iopub.status.busy": "2023-01-15T12:21:25.621436Z",
     "iopub.status.idle": "2023-01-15T12:31:13.679315Z",
     "shell.execute_reply": "2023-01-15T12:31:13.678525Z",
     "shell.execute_reply.started": "2023-01-15T12:21:25.621941Z"
    },
    "tags": []
   },
   "outputs": [
    {
     "name": "stdout",
     "output_type": "stream",
     "text": [
      "[                                                  ] 0% 0-10\n",
      "[########                                          ] 17% 0-10 | [-90]-[-60] | 94.47 s | gaia = 405377| TOP = 50000000\n",
      "[################                                  ] 33% 0-10 | [-60]-[-30] | 100.65 s | gaia = 456171| TOP = 50000000\n",
      "[#########################                         ] 50% 0-10 | [-30]-[0] | 100.29 s | gaia = 469626| TOP = 50000000\n",
      "[#################################                 ] 67% 0-10 | [0]-[30] | 98.05 s | gaia = 391296| TOP = 50000000\n",
      "[#########################################         ] 83% 0-10 | [30]-[60] | 96.27 s | gaia = 420500| TOP = 50000000\n",
      "[##################################################] 100% 0-10 | [60]-[90] | 97.34 s | gaia = 396824| TOP = 50000000\n",
      "export(hdf5) [########################################] 100.00% elapsed time  :     0.62s =  0.0m =  0.0h\n",
      " 2539794 || 9.78m\n",
      "0 saved 0-10 || 2023-01-15 19:31:13.676671\n"
     ]
    }
   ],
   "source": [
    "# ra0 for lower boundry and ra1 for upper boundary\n",
    "# same with dec0 and dec1\n",
    "ORI_TOP = 50_000_000\n",
    "for i, (ra0, ra1) in enumerate(zip(ras[:-1], ras[1:])):\n",
    "    TOP = ORI_TOP # cap maximum rows for each response, so that the response is not exploding\n",
    "    df_com = [] #initial table\n",
    "    df_com_tmass = [] #initial tmass table\n",
    "    time0 = time()\n",
    "    progressbar(0, info=f\"{ra0}-{ra1}\")\n",
    "    j = 0\n",
    "    skip = False\n",
    "    trying = 0\n",
    "    while j < len(decs) -1:\n",
    "        if trying > 15:\n",
    "            print(\"too many tries, raise error\")\n",
    "            raise Exception(\"too many tries\")\n",
    "        if ~skip:\n",
    "            t0 = time()\n",
    "        dec0 = decs[j]\n",
    "        dec1 = decs[j+1]\n",
    "        # query gaia data\n",
    "        # taking wider ra and dec constrains than 2MASS, because of different epoch\n",
    "        query_gaia = f\"\"\"\n",
    "        SELECT TOP {TOP} {', '.join(columns)}\n",
    "        FROM gaiadr3.gaia_universe_model AS gdr3\n",
    "        WHERE gdr3.ra BETWEEN {ra0-dra*1} AND {ra1+dra*1}\n",
    "        AND gdr3.dec BETWEEN {dec0-ddec*1} AND {dec1+ddec*1} \n",
    "        AND barycentric_distance < 1000\n",
    "        \"\"\"\n",
    "        job_gaia = timeout(Gaia.launch_job, args=(query_gaia,), timeout_duration=600)\n",
    "        if job_gaia == None: #if failed, try again\n",
    "            print(\"fail to fetch gaia\")\n",
    "            print(\"length = \", len(df_com))\n",
    "            skip = True\n",
    "            trying += 1\n",
    "            continue\n",
    "        result_gaia = job_gaia.get_results()\n",
    "        if(len(result_gaia) == TOP):\n",
    "            print(f\"gaia data is capped, increase TOP | {TOP}\")\n",
    "            TOP *= 2\n",
    "            skip = True\n",
    "            continue\n",
    "        df_pandas = result_gaia.to_pandas()\n",
    "        df_gaia = vaex.from_pandas(df_pandas)\n",
    "        if(len(df_com) == 0):\n",
    "            df_com = df_gaia\n",
    "        else:\n",
    "            df_com = df_com.concat(df_gaia)\n",
    "        j += 1\n",
    "        t1 = time()\n",
    "        skip = False\n",
    "        trying = 0\n",
    "        TOP = np.max([ORI_TOP, int(len(df_gaia) * 2)])\n",
    "        progressbar((j)/(len(decs)-1)*100, info=f\"{ra0}-{ra1} | [{dec0}]-[{dec1}] | {round(t1-t0,2)} s | gaia = {len(df_gaia)}| TOP = {TOP}\")\n",
    "    time1 = time()  \n",
    "    df_com.export(join(gaia_data_dir, f\"gaia-{ra0:03d}-{ra1:03d}.hdf5\"), progress=True)\n",
    "    print(f\"{len(df_com)} || {round((time1-time0)/60, 2)}m\")\n",
    "    print(f\"{i} saved {ra0}-{ra1} || {datetime.now()}\")\n",
    "    break\n"
   ]
  },
  {
   "cell_type": "code",
   "execution_count": 15,
   "id": "1556d66c-f0cb-4715-85dd-1f0694264e3e",
   "metadata": {
    "execution": {
     "iopub.execute_input": "2023-01-15T12:38:08.550961Z",
     "iopub.status.busy": "2023-01-15T12:38:08.550394Z",
     "iopub.status.idle": "2023-01-15T12:38:08.634608Z",
     "shell.execute_reply": "2023-01-15T12:38:08.633535Z",
     "shell.execute_reply.started": "2023-01-15T12:38:08.550908Z"
    },
    "tags": []
   },
   "outputs": [
    {
     "data": {
      "text/html": [
       "<table>\n",
       "<thead>\n",
       "<tr><th>#                                    </th><th>ra                </th><th>dec                </th><th>barycentric_distance  </th><th>pmra      </th><th>pmdec     </th><th>radial_velocity  </th><th>mag_g    </th><th>mag_bp   </th><th>mag_rp   </th><th>feh        </th><th>alphafe     </th><th>mass  </th></tr>\n",
       "</thead>\n",
       "<tbody>\n",
       "<tr><td><i style='opacity: 0.6'>0</i>        </td><td>3.328152196787567 </td><td>-62.85988211490977 </td><td>745.2998              </td><td>2.881009  </td><td>-1.6458237</td><td>4.398307         </td><td>12.527637</td><td>12.809348</td><td>12.071688</td><td>0.024816787</td><td>-0.023430375</td><td>1.322 </td></tr>\n",
       "<tr><td><i style='opacity: 0.6'>1</i>        </td><td>3.344352452976034 </td><td>-62.86537108848968 </td><td>956.99426             </td><td>-6.421385 </td><td>-13.833936</td><td>40.408703        </td><td>15.015748</td><td>15.290438</td><td>14.563423</td><td>-0.526268  </td><td>0.20037375  </td><td>0.798 </td></tr>\n",
       "<tr><td><i style='opacity: 0.6'>2</i>        </td><td>3.3443526511756163</td><td>-62.86537123714647 </td><td>956.99426             </td><td>-6.421385 </td><td>-13.833936</td><td>72.01157         </td><td>17.676666</td><td>18.351528</td><td>16.852684</td><td>-0.526268  </td><td>0.20037375  </td><td>0.554 </td></tr>\n",
       "<tr><td><i style='opacity: 0.6'>3</i>        </td><td>3.3443525342160187</td><td>-62.86537114937915 </td><td>956.99426             </td><td>-6.421385 </td><td>-13.833936</td><td>53.3584          </td><td>14.925948</td><td>15.227538</td><td>14.439001</td><td>-0.526268  </td><td>0.20037375  </td><td>1.352 </td></tr>\n",
       "<tr><td><i style='opacity: 0.6'>4</i>        </td><td>3.377595130219574 </td><td>-62.947907937316316</td><td>859.5647              </td><td>6.3464227 </td><td>2.3787494 </td><td>105.689285       </td><td>15.545778</td><td>15.90097 </td><td>15.00282 </td><td>-0.7232686 </td><td>0.28104624  </td><td>0.725 </td></tr>\n",
       "<tr><td>...                                  </td><td>...               </td><td>...                </td><td>...                   </td><td>...       </td><td>...       </td><td>...              </td><td>...      </td><td>...      </td><td>...      </td><td>...        </td><td>...         </td><td>...   </td></tr>\n",
       "<tr><td><i style='opacity: 0.6'>2,539,789</i></td><td>14.40905085645599 </td><td>46.9281546194901   </td><td>524.09796             </td><td>2.9324734 </td><td>-3.1217618</td><td>-4.5120153       </td><td>11.500986</td><td>11.797072</td><td>11.02801 </td><td>0.083146974</td><td>0.025285967 </td><td>1.367 </td></tr>\n",
       "<tr><td><i style='opacity: 0.6'>2,539,790</i></td><td>14.40903840122083 </td><td>46.928144073782164 </td><td>524.09796             </td><td>2.9324734 </td><td>-3.1217616</td><td>-11.256626       </td><td>20.454464</td><td>21.84714 </td><td>19.234615</td><td>0.083146974</td><td>0.025285967 </td><td>0.189 </td></tr>\n",
       "<tr><td><i style='opacity: 0.6'>2,539,791</i></td><td>14.409049343582893</td><td>46.92815333854822  </td><td>524.09796             </td><td>2.9324734 </td><td>-3.1217618</td><td>-5.3312516       </td><td>11.500701</td><td>11.796968</td><td>11.027444</td><td>0.083146974</td><td>0.025285967 </td><td>1.556 </td></tr>\n",
       "<tr><td><i style='opacity: 0.6'>2,539,792</i></td><td>2.775249879171253 </td><td>62.999197376087    </td><td>611.92957             </td><td>-5.5473104</td><td>9.140197  </td><td>-5.052528        </td><td>19.225765</td><td>20.53301 </td><td>18.051123</td><td>0.019185044</td><td>0.021308241 </td><td>0.379 </td></tr>\n",
       "<tr><td><i style='opacity: 0.6'>2,539,793</i></td><td>2.819664852094189 </td><td>63.005625151539896 </td><td>500.3267              </td><td>10.238824 </td><td>-2.5037766</td><td>4.940012         </td><td>15.291935</td><td>15.896485</td><td>14.519629</td><td>-0.23881356</td><td>0.07158113  </td><td>0.798 </td></tr>\n",
       "</tbody>\n",
       "</table>"
      ],
      "text/plain": [
       "#          ra                  dec                  barycentric_distance    pmra        pmdec       radial_velocity    mag_g      mag_bp     mag_rp     feh          alphafe       mass\n",
       "0          3.328152196787567   -62.85988211490977   745.2998                2.881009    -1.6458237  4.398307           12.527637  12.809348  12.071688  0.024816787  -0.023430375  1.322\n",
       "1          3.344352452976034   -62.86537108848968   956.99426               -6.421385   -13.833936  40.408703          15.015748  15.290438  14.563423  -0.526268    0.20037375    0.798\n",
       "2          3.3443526511756163  -62.86537123714647   956.99426               -6.421385   -13.833936  72.01157           17.676666  18.351528  16.852684  -0.526268    0.20037375    0.554\n",
       "3          3.3443525342160187  -62.86537114937915   956.99426               -6.421385   -13.833936  53.3584            14.925948  15.227538  14.439001  -0.526268    0.20037375    1.352\n",
       "4          3.377595130219574   -62.947907937316316  859.5647                6.3464227   2.3787494   105.689285         15.545778  15.90097   15.00282   -0.7232686   0.28104624    0.725\n",
       "...        ...                 ...                  ...                     ...         ...         ...                ...        ...        ...        ...          ...           ...\n",
       "2,539,789  14.40905085645599   46.9281546194901     524.09796               2.9324734   -3.1217618  -4.5120153         11.500986  11.797072  11.02801   0.083146974  0.025285967   1.367\n",
       "2,539,790  14.40903840122083   46.928144073782164   524.09796               2.9324734   -3.1217616  -11.256626         20.454464  21.84714   19.234615  0.083146974  0.025285967   0.189\n",
       "2,539,791  14.409049343582893  46.92815333854822    524.09796               2.9324734   -3.1217618  -5.3312516         11.500701  11.796968  11.027444  0.083146974  0.025285967   1.556\n",
       "2,539,792  2.775249879171253   62.999197376087      611.92957               -5.5473104  9.140197    -5.052528          19.225765  20.53301   18.051123  0.019185044  0.021308241   0.379\n",
       "2,539,793  2.819664852094189   63.005625151539896   500.3267                10.238824   -2.5037766  4.940012           15.291935  15.896485  14.519629  -0.23881356  0.07158113    0.798"
      ]
     },
     "execution_count": 15,
     "metadata": {},
     "output_type": "execute_result"
    }
   ],
   "source": [
    "df_com"
   ]
  }
 ],
 "metadata": {
  "kernelspec": {
   "display_name": "Python 3",
   "language": "python",
   "name": "python3"
  },
  "language_info": {
   "codemirror_mode": {
    "name": "ipython",
    "version": 3
   },
   "file_extension": ".py",
   "mimetype": "text/x-python",
   "name": "python",
   "nbconvert_exporter": "python",
   "pygments_lexer": "ipython3",
   "version": "3.8.10"
  }
 },
 "nbformat": 4,
 "nbformat_minor": 5
}
