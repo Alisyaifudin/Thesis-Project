{
 "cells": [
  {
   "cell_type": "code",
   "execution_count": 1,
   "metadata": {},
   "outputs": [],
   "source": [
    "import sys\n",
    "from os.path import join, abspath, pardir\n",
    "from glob import glob\n",
    "import numpy as np\n",
    "import pandas as pd\n",
    "import vaex\n",
    "from tqdm import tqdm\n",
    "import matplotlib.pyplot as plt\n",
    "import os\n",
    "from time import time\n",
    "from multiprocessing import Pool\n",
    "import emcee\n",
    "import corner\n",
    "from scipy.stats import norm, uniform"
   ]
  },
  {
   "cell_type": "code",
   "execution_count": 2,
   "metadata": {},
   "outputs": [
    {
     "data": {
      "text/plain": [
       "'/home2/s20321005/Thesis-Project'"
      ]
     },
     "execution_count": 2,
     "metadata": {},
     "output_type": "execute_result"
    }
   ],
   "source": [
    "# import utils\n",
    "root_dir = abspath(pardir)\n",
    "root_dir"
   ]
  },
  {
   "cell_type": "code",
   "execution_count": 3,
   "metadata": {},
   "outputs": [
    {
     "data": {
      "text/plain": [
       "['/home2/s20321005/Thesis-Project/5_Anal',\n",
       " '/home2/s20321005/.conda/envs/vaex/lib/python38.zip',\n",
       " '/home2/s20321005/.conda/envs/vaex/lib/python3.8',\n",
       " '/home2/s20321005/.conda/envs/vaex/lib/python3.8/lib-dynload',\n",
       " '',\n",
       " '/home2/s20321005/.local/lib/python3.8/site-packages',\n",
       " '/home2/s20321005/.conda/envs/vaex/lib/python3.8/site-packages',\n",
       " '/home2/s20321005/Thesis-Project']"
      ]
     },
     "execution_count": 3,
     "metadata": {},
     "output_type": "execute_result"
    }
   ],
   "source": [
    "if root_dir not in sys.path:\n",
    "    sys.path.append(root_dir)\n",
    "sys.path"
   ]
  },
  {
   "cell_type": "code",
   "execution_count": 5,
   "metadata": {},
   "outputs": [],
   "source": [
    "from utils import safe_mkdir, style, hdi, load_spectral_types"
   ]
  },
  {
   "cell_type": "code",
   "execution_count": 8,
   "metadata": {},
   "outputs": [
    {
     "data": {
      "text/html": [
       "<div>\n",
       "<style scoped>\n",
       "    .dataframe tbody tr th:only-of-type {\n",
       "        vertical-align: middle;\n",
       "    }\n",
       "\n",
       "    .dataframe tbody tr th {\n",
       "        vertical-align: top;\n",
       "    }\n",
       "\n",
       "    .dataframe thead th {\n",
       "        text-align: right;\n",
       "    }\n",
       "</style>\n",
       "<table border=\"1\" class=\"dataframe\">\n",
       "  <thead>\n",
       "    <tr style=\"text-align: right;\">\n",
       "      <th></th>\n",
       "      <th>SpT</th>\n",
       "      <th>M_J</th>\n",
       "      <th>J-H</th>\n",
       "      <th>H-Ks</th>\n",
       "      <th>J-K</th>\n",
       "    </tr>\n",
       "  </thead>\n",
       "  <tbody>\n",
       "    <tr>\n",
       "      <th>0</th>\n",
       "      <td>O9V</td>\n",
       "      <td>-3.44</td>\n",
       "      <td>-0.164</td>\n",
       "      <td>-0.071</td>\n",
       "      <td>-0.235</td>\n",
       "    </tr>\n",
       "    <tr>\n",
       "      <th>1</th>\n",
       "      <td>O9.5V</td>\n",
       "      <td>-3.30</td>\n",
       "      <td>-0.161</td>\n",
       "      <td>-0.069</td>\n",
       "      <td>-0.230</td>\n",
       "    </tr>\n",
       "    <tr>\n",
       "      <th>2</th>\n",
       "      <td>B0V</td>\n",
       "      <td>-3.17</td>\n",
       "      <td>-0.159</td>\n",
       "      <td>-0.067</td>\n",
       "      <td>-0.226</td>\n",
       "    </tr>\n",
       "    <tr>\n",
       "      <th>3</th>\n",
       "      <td>B0.5V</td>\n",
       "      <td>-2.80</td>\n",
       "      <td>-0.153</td>\n",
       "      <td>-0.063</td>\n",
       "      <td>-0.216</td>\n",
       "    </tr>\n",
       "    <tr>\n",
       "      <th>4</th>\n",
       "      <td>B1V</td>\n",
       "      <td>-2.33</td>\n",
       "      <td>-0.148</td>\n",
       "      <td>-0.059</td>\n",
       "      <td>-0.207</td>\n",
       "    </tr>\n",
       "    <tr>\n",
       "      <th>...</th>\n",
       "      <td>...</td>\n",
       "      <td>...</td>\n",
       "      <td>...</td>\n",
       "      <td>...</td>\n",
       "      <td>...</td>\n",
       "    </tr>\n",
       "    <tr>\n",
       "      <th>95</th>\n",
       "      <td>T6V</td>\n",
       "      <td>15.34</td>\n",
       "      <td>0.100</td>\n",
       "      <td>-0.030</td>\n",
       "      <td>0.070</td>\n",
       "    </tr>\n",
       "    <tr>\n",
       "      <th>96</th>\n",
       "      <td>T7V</td>\n",
       "      <td>15.83</td>\n",
       "      <td>0.000</td>\n",
       "      <td>0.000</td>\n",
       "      <td>0.000</td>\n",
       "    </tr>\n",
       "    <tr>\n",
       "      <th>97</th>\n",
       "      <td>T7.5V</td>\n",
       "      <td>16.61</td>\n",
       "      <td>0.200</td>\n",
       "      <td>-0.050</td>\n",
       "      <td>0.150</td>\n",
       "    </tr>\n",
       "    <tr>\n",
       "      <th>98</th>\n",
       "      <td>T8V</td>\n",
       "      <td>17.30</td>\n",
       "      <td>0.200</td>\n",
       "      <td>-0.050</td>\n",
       "      <td>0.150</td>\n",
       "    </tr>\n",
       "    <tr>\n",
       "      <th>99</th>\n",
       "      <td>T9V</td>\n",
       "      <td>18.51</td>\n",
       "      <td>0.100</td>\n",
       "      <td>-0.200</td>\n",
       "      <td>-0.100</td>\n",
       "    </tr>\n",
       "  </tbody>\n",
       "</table>\n",
       "<p>100 rows × 5 columns</p>\n",
       "</div>"
      ],
      "text/plain": [
       "      SpT    M_J    J-H   H-Ks    J-K\n",
       "0     O9V  -3.44 -0.164 -0.071 -0.235\n",
       "1   O9.5V  -3.30 -0.161 -0.069 -0.230\n",
       "2     B0V  -3.17 -0.159 -0.067 -0.226\n",
       "3   B0.5V  -2.80 -0.153 -0.063 -0.216\n",
       "4     B1V  -2.33 -0.148 -0.059 -0.207\n",
       "..    ...    ...    ...    ...    ...\n",
       "95    T6V  15.34  0.100 -0.030  0.070\n",
       "96    T7V  15.83  0.000  0.000  0.000\n",
       "97  T7.5V  16.61  0.200 -0.050  0.150\n",
       "98    T8V  17.30  0.200 -0.050  0.150\n",
       "99    T9V  18.51  0.100 -0.200 -0.100\n",
       "\n",
       "[100 rows x 5 columns]"
      ]
     },
     "execution_count": 8,
     "metadata": {},
     "output_type": "execute_result"
    }
   ],
   "source": [
    "sp = load_spectral_types(join(root_dir, \"Data\"))\n",
    "sp"
   ]
  },
  {
   "cell_type": "code",
   "execution_count": 9,
   "metadata": {},
   "outputs": [
    {
     "data": {
      "text/plain": [
       "['Solarize_Light2',\n",
       " '_classic_test_patch',\n",
       " '_mpl-gallery',\n",
       " '_mpl-gallery-nogrid',\n",
       " 'bmh',\n",
       " 'classic',\n",
       " 'dark_background',\n",
       " 'fast',\n",
       " 'fivethirtyeight',\n",
       " 'ggplot',\n",
       " 'grayscale',\n",
       " 'seaborn',\n",
       " 'seaborn-bright',\n",
       " 'seaborn-colorblind',\n",
       " 'seaborn-dark',\n",
       " 'seaborn-dark-palette',\n",
       " 'seaborn-darkgrid',\n",
       " 'seaborn-deep',\n",
       " 'seaborn-muted',\n",
       " 'seaborn-notebook',\n",
       " 'seaborn-paper',\n",
       " 'seaborn-pastel',\n",
       " 'seaborn-poster',\n",
       " 'seaborn-talk',\n",
       " 'seaborn-ticks',\n",
       " 'seaborn-v0_8',\n",
       " 'seaborn-v0_8-bright',\n",
       " 'seaborn-v0_8-colorblind',\n",
       " 'seaborn-v0_8-dark',\n",
       " 'seaborn-v0_8-dark-palette',\n",
       " 'seaborn-v0_8-darkgrid',\n",
       " 'seaborn-v0_8-deep',\n",
       " 'seaborn-v0_8-muted',\n",
       " 'seaborn-v0_8-notebook',\n",
       " 'seaborn-v0_8-paper',\n",
       " 'seaborn-v0_8-pastel',\n",
       " 'seaborn-v0_8-poster',\n",
       " 'seaborn-v0_8-talk',\n",
       " 'seaborn-v0_8-ticks',\n",
       " 'seaborn-v0_8-white',\n",
       " 'seaborn-v0_8-whitegrid',\n",
       " 'seaborn-white',\n",
       " 'seaborn-whitegrid',\n",
       " 'tableau-colorblind10']"
      ]
     },
     "execution_count": 9,
     "metadata": {},
     "output_type": "execute_result"
    }
   ],
   "source": [
    "plt.style.available"
   ]
  },
  {
   "cell_type": "code",
   "execution_count": 10,
   "metadata": {},
   "outputs": [],
   "source": [
    "style(name=\"seaborn-notebook\")"
   ]
  },
  {
   "cell_type": "code",
   "execution_count": 11,
   "metadata": {},
   "outputs": [
    {
     "data": {
      "text/plain": [
       "'/home2/s20321005/Thesis-Project/Data'"
      ]
     },
     "execution_count": 11,
     "metadata": {},
     "output_type": "execute_result"
    }
   ],
   "source": [
    "root_data_dir = abspath(join(root_dir, \"Data\"))\n",
    "root_data_dir"
   ]
  },
  {
   "cell_type": "code",
   "execution_count": 12,
   "metadata": {},
   "outputs": [],
   "source": [
    "data_baryon_dir = join(root_data_dir, \"Baryon\")\n",
    "# load baryons components\n",
    "df_baryon = vaex.open(join(data_baryon_dir, \"baryon.hdf5\"))\n",
    "rhos = df_baryon[\"rho\"].to_numpy()  # Msun/pc^3\n",
    "sigmaz = df_baryon[\"sigma_z\"].to_numpy() # km/s\n",
    "\n",
    "e_rhos = df_baryon[\"e_rho\"].to_numpy()  # Msun/pc^3\n",
    "e_sigmaz = df_baryon[\"e_sigma_z\"].to_numpy() # km/s\n",
    "dpi=100"
   ]
  },
  {
   "cell_type": "code",
   "execution_count": 13,
   "metadata": {},
   "outputs": [
    {
     "data": {
      "text/plain": [
       "['/home2/s20321005/Thesis-Project/Data/Effective-Volume-v/gaia_(-0.10)_(0.04).hdf5',\n",
       " '/home2/s20321005/Thesis-Project/Data/Effective-Volume-v/gaia_(0.04)_(0.10).hdf5',\n",
       " '/home2/s20321005/Thesis-Project/Data/Effective-Volume-v/gaia_(0.10)_(0.14).hdf5',\n",
       " '/home2/s20321005/Thesis-Project/Data/Effective-Volume-v/gaia_(0.14)_(0.18).hdf5',\n",
       " '/home2/s20321005/Thesis-Project/Data/Effective-Volume-v/gaia_(0.18)_(0.21).hdf5',\n",
       " '/home2/s20321005/Thesis-Project/Data/Effective-Volume-v/gaia_(0.21)_(0.24).hdf5',\n",
       " '/home2/s20321005/Thesis-Project/Data/Effective-Volume-v/gaia_(0.24)_(0.27).hdf5',\n",
       " '/home2/s20321005/Thesis-Project/Data/Effective-Volume-v/gaia_(0.27)_(0.29).hdf5',\n",
       " '/home2/s20321005/Thesis-Project/Data/Effective-Volume-v/gaia_(0.29)_(0.32).hdf5',\n",
       " '/home2/s20321005/Thesis-Project/Data/Effective-Volume-v/gaia_(0.32)_(0.34).hdf5',\n",
       " '/home2/s20321005/Thesis-Project/Data/Effective-Volume-v/gaia_(0.34)_(0.36).hdf5',\n",
       " '/home2/s20321005/Thesis-Project/Data/Effective-Volume-v/gaia_(0.36)_(0.38).hdf5',\n",
       " '/home2/s20321005/Thesis-Project/Data/Effective-Volume-v/gaia_(0.38)_(0.40).hdf5']"
      ]
     },
     "execution_count": 13,
     "metadata": {},
     "output_type": "execute_result"
    }
   ],
   "source": [
    "eff_vol = glob(join(root_data_dir, 'Effective-Volume-v', \"*\"))\n",
    "eff_vol.sort()\n",
    "eff_vol"
   ]
  },
  {
   "cell_type": "code",
   "execution_count": 14,
   "metadata": {},
   "outputs": [
    {
     "data": {
      "text/plain": [
       "array([-0.03 ,  0.07 ,  0.12 ,  0.16 ,  0.195,  0.225,  0.255,  0.28 ,\n",
       "        0.305,  0.33 ,  0.35 ,  0.37 ,  0.39 ])"
      ]
     },
     "execution_count": 14,
     "metadata": {},
     "output_type": "execute_result"
    }
   ],
   "source": [
    "import re\n",
    "c1, c2 = [], []\n",
    "# get the value between () of the file name\n",
    "for f in eff_vol:\n",
    "    c1.append(float(re.findall(r'\\((.*?)\\)', f)[0]))\n",
    "    c2.append(float(re.findall(r'\\((.*?)\\)', f)[1]))\n",
    "c1 = np.array(c1)\n",
    "c2 = np.array(c2)\n",
    "c = 0.5*(c1+c2)\n",
    "c"
   ]
  },
  {
   "cell_type": "code",
   "execution_count": 15,
   "metadata": {},
   "outputs": [],
   "source": [
    "mcmc_dm_dir = join(root_data_dir, \"MCMC\", \"dm\", \"data\")"
   ]
  },
  {
   "cell_type": "code",
   "execution_count": 16,
   "metadata": {},
   "outputs": [
    {
     "data": {
      "text/plain": [
       "['/home2/s20321005/Thesis-Project/Data/MCMC/dm/data/chain-2-0.npy',\n",
       " '/home2/s20321005/Thesis-Project/Data/MCMC/dm/data/chain-2-1.npy',\n",
       " '/home2/s20321005/Thesis-Project/Data/MCMC/dm/data/chain-2-10.npy',\n",
       " '/home2/s20321005/Thesis-Project/Data/MCMC/dm/data/chain-2-11.npy',\n",
       " '/home2/s20321005/Thesis-Project/Data/MCMC/dm/data/chain-2-12.npy',\n",
       " '/home2/s20321005/Thesis-Project/Data/MCMC/dm/data/chain-2-2.npy',\n",
       " '/home2/s20321005/Thesis-Project/Data/MCMC/dm/data/chain-2-3.npy',\n",
       " '/home2/s20321005/Thesis-Project/Data/MCMC/dm/data/chain-2-4.npy',\n",
       " '/home2/s20321005/Thesis-Project/Data/MCMC/dm/data/chain-2-5.npy',\n",
       " '/home2/s20321005/Thesis-Project/Data/MCMC/dm/data/chain-2-6.npy',\n",
       " '/home2/s20321005/Thesis-Project/Data/MCMC/dm/data/chain-2-7.npy',\n",
       " '/home2/s20321005/Thesis-Project/Data/MCMC/dm/data/chain-2-8.npy',\n",
       " '/home2/s20321005/Thesis-Project/Data/MCMC/dm/data/chain-2-9.npy']"
      ]
     },
     "execution_count": 16,
     "metadata": {},
     "output_type": "execute_result"
    }
   ],
   "source": [
    "dm_2_files = glob(join(mcmc_dm_dir, \"chain-2-*\"))\n",
    "dm_2_files.sort()\n",
    "dm_2_files"
   ]
  },
  {
   "attachments": {},
   "cell_type": "markdown",
   "metadata": {},
   "source": [
    "tes"
   ]
  },
  {
   "cell_type": "code",
   "execution_count": 17,
   "metadata": {},
   "outputs": [
    {
     "data": {
      "text/plain": [
       "(10000, 68, 33)"
      ]
     },
     "execution_count": 17,
     "metadata": {},
     "output_type": "execute_result"
    }
   ],
   "source": [
    "index = 2\n",
    "df_dm = np.load(join(mcmc_dm_dir, f\"chain-2-{index}.npy\"))\n",
    "df_dm.shape"
   ]
  },
  {
   "cell_type": "code",
   "execution_count": 18,
   "metadata": {},
   "outputs": [],
   "source": [
    "from scipy.stats import norm\n",
    "\n",
    "rhob = df_dm[:, :, :12]\n",
    "rhob = rhob.reshape(-1, 12)\n",
    "rhob = rhob.sum(axis=1)/1E-2\n",
    "rhoDM = df_dm[:, :, 24].reshape(-1)/1E-2\n",
    "length = len(rhob)\n",
    "rhob0 = np.empty((length, 12))\n",
    "for i in range(12):\n",
    "    rhob0[:,i] = norm.rvs(loc=rhos[i], scale=e_rhos[i], size=length)\n",
    "rhob0 = rhob0.sum(axis=1)/1E-2"
   ]
  },
  {
   "cell_type": "code",
   "execution_count": 19,
   "metadata": {},
   "outputs": [
    {
     "data": {
      "image/png": "[encoded data removed]",
      "text/plain": [
       "<Figure size 576x432 with 1 Axes>"
      ]
     },
     "metadata": {
      "needs_background": "light"
     },
     "output_type": "display_data"
    }
   ],
   "source": [
    "rho = np.linspace(-5, 14, 200)\n",
    "rhoDM_num, _ = np.histogram(rhoDM, bins=rho)\n",
    "rhob_num, _ = np.histogram(rhob, bins=rho)\n",
    "rhob0_num, _ = np.histogram(rhob0, bins=rho)\n",
    "rhomid = 0.5*(rho[1:] + rho[:-1])\n",
    "# plot step\n",
    "fig, ax = plt.subplots(figsize=(8, 6))\n",
    "ax.step(rhomid, rhoDM_num, label='DM')\n",
    "ax.step(rhomid, rhob_num, label='Baryon')\n",
    "ax.step(rhomid, rhob0_num, label='Baryon0')\n",
    "ax.set_xlabel(r'$\\rho$')\n",
    "ax.set_ylabel('Number')\n",
    "ax.legend()\n",
    "plt.show()"
   ]
  },
  {
   "cell_type": "code",
   "execution_count": 20,
   "metadata": {},
   "outputs": [],
   "source": [
    "# fit with skew normal\n",
    "from scipy.stats import skewnorm\n",
    "rhoDM_fit = skewnorm.fit(rhoDM)\n",
    "rhob_fit = skewnorm.fit(rhob)\n",
    "rhob0_fit = skewnorm.fit(rhob0)"
   ]
  },
  {
   "cell_type": "code",
   "execution_count": 21,
   "metadata": {},
   "outputs": [
    {
     "data": {
      "text/plain": [
       "((1.3527218160867096, 0.9311969648376253, 1.8417199710612584),\n",
       " (-1.0277855839318701, 9.347444378219498, 0.8640572209452597),\n",
       " (0.00037855982349727785, 8.889270572900365, 0.7119721377746533))"
      ]
     },
     "execution_count": 21,
     "metadata": {},
     "output_type": "execute_result"
    },
    {
     "data": {
      "image/png": "[encoded data removed]",
      "text/plain": [
       "<Figure size 576x432 with 1 Axes>"
      ]
     },
     "metadata": {
      "needs_background": "light"
     },
     "output_type": "display_data"
    }
   ],
   "source": [
    "# plot\n",
    "rho = np.linspace(-5, 14, 50)\n",
    "fig, ax = plt.subplots(figsize=(8, 6))\n",
    "ax.hist(rhoDM, bins=rho, density=True, label='DM', ec='k', alpha=0.5, color='C0')\n",
    "ax.hist(rhob, bins=rho, density=True, label='Baryon', ec='k', alpha=0.5,color='C1')\n",
    "ax.hist(rhob0, bins=rho, density=True, label='Baryon0', ec='k', alpha=0.5, color='C2')\n",
    "ax.plot(rho, skewnorm.pdf(rho, *rhoDM_fit), label='DM fit', color='C0',  ls='--')\n",
    "ax.plot(rho, skewnorm.pdf(rho, *rhob_fit), label='Baryon fit', color='C1', ls='--')\n",
    "ax.plot(rho, skewnorm.pdf(rho, *rhob0_fit), label='Baryon0 fit', color='C2', ls='--')\n",
    "ax.set_xlabel(r'$\\rho$')\n",
    "ax.set_ylabel(r'$f$')\n",
    "ax.legend()\n",
    "rhoDM_fit, rhob_fit, rhob0_fit"
   ]
  },
  {
   "cell_type": "code",
   "execution_count": 22,
   "metadata": {},
   "outputs": [],
   "source": [
    "from scipy.optimize import fmin\n",
    "from scipy.integrate import quad\n",
    "\n",
    "def find_max(func, x0=None):\n",
    "  r\"\"\" Find maximum of a function\n",
    "  \"\"\"\n",
    "  x0 = np.random.rand() if x0 is None else x0\n",
    "  xMax = fmin(lambda x: -func(x), x0, disp=False)\n",
    "  return xMax\n",
    "\n",
    "def hdi(func, perc=0.68, res=1E3, min=0.0, max=1.0):\n",
    "  r\"\"\" Highest density interval of {perc}% of normalized distribution\n",
    "  perc: percentile\n",
    "  res: resolution, number of sampling from distributiion\n",
    "  min: min x-value\n",
    "  max: max x-value\n",
    "  \"\"\"\n",
    "  x = np.linspace(min, max, int(res))\n",
    "  y = func(x)\n",
    "  upper = np.max(y)*0.99\n",
    "  below = 0\n",
    "  for k in range(10):\n",
    "    ys = np.linspace(upper, below, 10)\n",
    "    for i in range(10):\n",
    "      mask = y > ys[i]\n",
    "      x_mask = x[mask]\n",
    "      integral, _ = quad(func, a=x_mask[0], b=x_mask[-1])\n",
    "      if(integral > perc): break\n",
    "    upper = ys[i-1]\n",
    "    below = ys[i]\n",
    "    xMin = x_mask[0]\n",
    "    xMax = x_mask[-1]\n",
    "  return (xMin, xMax)"
   ]
  },
  {
   "cell_type": "code",
   "execution_count": 23,
   "metadata": {},
   "outputs": [
    {
     "name": "stdout",
     "output_type": "stream",
     "text": [
      "rhoDM = 1.92 +1.46/-1.31\n",
      "rhob = 8.91 +0.68/-0.73\n",
      "rhob0 = 8.89 +0.72/-0.71\n"
     ]
    },
    {
     "data": {
      "image/png": "[encoded data removed]",
      "text/plain": [
       "<Figure size 576x432 with 1 Axes>"
      ]
     },
     "metadata": {
      "needs_background": "light"
     },
     "output_type": "display_data"
    }
   ],
   "source": [
    "rhoDM_low, rhoDM_high = hdi(lambda x: skewnorm.pdf(x, *rhoDM_fit), perc=0.68, res=1E3, min=-5, max=14)\n",
    "rhoDM_mode = find_max(lambda x: skewnorm.pdf(x, *rhoDM_fit), x0=0.0)[0]\n",
    "\n",
    "rhob_low, rhob_high = hdi(lambda x: skewnorm.pdf(x, *rhob_fit), perc=0.68, res=1E3, min=-5, max=14)\n",
    "rhob_mode = find_max(lambda x: skewnorm.pdf(x, *rhob_fit), x0=0.0)[0]\n",
    "\n",
    "rhob0_low, rhob0_high = hdi(lambda x: skewnorm.pdf(x, *rhob0_fit), perc=0.68, res=1E3, min=-5, max=14)\n",
    "rhob0_mode = find_max(lambda x: skewnorm.pdf(x, *rhob0_fit), x0=0.0)[0]\n",
    "\n",
    "# plot\n",
    "rho = np.linspace(-5, 14, 50)\n",
    "fig, ax = plt.subplots(figsize=(8, 6))\n",
    "ax.hist(rhoDM, bins=rho, density=True, label='DM', ec='k', alpha=0.5, color='C0')\n",
    "ax.hist(rhob, bins=rho, density=True, label='Baryon', ec='k', alpha=0.5,color='C1')\n",
    "ax.hist(rhob0, bins=rho, density=True, label='Baryon0', ec='k', alpha=0.5, color='C2')\n",
    "ax.plot(rho, skewnorm.pdf(rho, *rhoDM_fit), label='DM fit', color='C0',  ls='--')\n",
    "ax.plot(rho, skewnorm.pdf(rho, *rhob_fit), label='Baryon fit', color='C1', ls='--')\n",
    "ax.plot(rho, skewnorm.pdf(rho, *rhob0_fit), label='Baryon0 fit', color='C2', ls='--')\n",
    "ax.axvline(rhoDM_mode, color='C0', ls='-.')\n",
    "ax.axvline(rhob_mode, color='C1', ls='-.')\n",
    "ax.axvline(rhob0_mode, color='C2', ls='-.')\n",
    "ax.axvline(rhoDM_low, color='C0', ls='--')\n",
    "ax.axvline(rhoDM_high, color='C0', ls='--')\n",
    "ax.axvline(rhob_low, color='C1', ls='--')\n",
    "ax.axvline(rhob_high, color='C1', ls='--')\n",
    "ax.axvline(rhob0_low, color='C2', ls='--')\n",
    "ax.axvline(rhob0_high, color='C2', ls='--')\n",
    "ax.set_xlabel(r'$\\rho$')\n",
    "ax.set_ylabel(r'$f$')\n",
    "ax.legend()\n",
    "print(f'rhoDM = {rhoDM_mode:.02f} +{rhoDM_high-rhoDM_mode:.02f}/-{rhoDM_mode-rhoDM_low:.02f}')\n",
    "print(f'rhob = {rhob_mode:.02f} +{rhob_high-rhob_mode:.02f}/-{rhob_mode-rhob_low:.02f}')\n",
    "print(f'rhob0 = {rhob0_mode:.02f} +{rhob0_high-rhob0_mode:.02f}/-{rhob0_mode-rhob0_low:.02f}')"
   ]
  },
  {
   "cell_type": "code",
   "execution_count": 24,
   "metadata": {},
   "outputs": [],
   "source": [
    "length = len(rhob)\n",
    "rhob0 = np.empty((length, 12))\n",
    "for i in range(12):\n",
    "    rhob0[:,i] = norm.rvs(loc=rhos[i], scale=e_rhos[i], size=length)\n",
    "rhob0 = rhob0.sum(axis=1)/1E-2\n",
    "# fit with gaussian\n",
    "rhob0_fit = norm.fit(rhob0)\n",
    "# find 68, 90, 95% HDI\n",
    "rhob0_low68, rhob0_high68 = hdi(lambda x: norm.pdf(x, *rhob0_fit), perc=0.68, res=1E3, min=-5, max=14)\n",
    "rhob0_low90, rhob0_high90 = hdi(lambda x: norm.pdf(x, *rhob0_fit), perc=0.90, res=1E3, min=-5, max=14)\n",
    "rhob0_low95, rhob0_high95 = hdi(lambda x: norm.pdf(x, *rhob0_fit), perc=0.95, res=1E3, min=-5, max=14)\n",
    "rhob0_mode = find_max(lambda x: norm.pdf(x, *rhob0_fit), x0=0.0)[0]"
   ]
  },
  {
   "cell_type": "code",
   "execution_count": 25,
   "metadata": {},
   "outputs": [
    {
     "name": "stderr",
     "output_type": "stream",
     "text": [
      "  0%|          | 0/13 [00:00<?, ?it/s]"
     ]
    },
    {
     "name": "stdout",
     "output_type": "stream",
     "text": [
      "fitting...\n",
      "calculating HDI...\n"
     ]
    },
    {
     "name": "stderr",
     "output_type": "stream",
     "text": [
      "  8%|▊         | 1/13 [00:17<03:35, 17.93s/it]"
     ]
    },
    {
     "name": "stdout",
     "output_type": "stream",
     "text": [
      "fitting...\n",
      "calculating HDI...\n"
     ]
    },
    {
     "name": "stderr",
     "output_type": "stream",
     "text": [
      " 15%|█▌        | 2/13 [00:40<03:49, 20.84s/it]"
     ]
    },
    {
     "name": "stdout",
     "output_type": "stream",
     "text": [
      "fitting...\n",
      "calculating HDI...\n"
     ]
    },
    {
     "name": "stderr",
     "output_type": "stream",
     "text": [
      " 23%|██▎       | 3/13 [01:10<04:08, 24.83s/it]"
     ]
    },
    {
     "name": "stdout",
     "output_type": "stream",
     "text": [
      "fitting...\n",
      "calculating HDI...\n"
     ]
    },
    {
     "name": "stderr",
     "output_type": "stream",
     "text": [
      " 31%|███       | 4/13 [01:26<03:11, 21.25s/it]"
     ]
    },
    {
     "name": "stdout",
     "output_type": "stream",
     "text": [
      "fitting...\n",
      "calculating HDI...\n"
     ]
    },
    {
     "name": "stderr",
     "output_type": "stream",
     "text": [
      " 38%|███▊      | 5/13 [02:03<03:37, 27.17s/it]"
     ]
    },
    {
     "name": "stdout",
     "output_type": "stream",
     "text": [
      "fitting...\n",
      "calculating HDI...\n"
     ]
    },
    {
     "name": "stderr",
     "output_type": "stream",
     "text": [
      " 46%|████▌     | 6/13 [02:56<04:10, 35.84s/it]"
     ]
    },
    {
     "name": "stdout",
     "output_type": "stream",
     "text": [
      "fitting...\n",
      "calculating HDI...\n"
     ]
    },
    {
     "name": "stderr",
     "output_type": "stream",
     "text": [
      " 54%|█████▍    | 7/13 [03:36<03:43, 37.24s/it]"
     ]
    },
    {
     "name": "stdout",
     "output_type": "stream",
     "text": [
      "fitting...\n",
      "calculating HDI...\n"
     ]
    },
    {
     "name": "stderr",
     "output_type": "stream",
     "text": [
      " 62%|██████▏   | 8/13 [04:07<02:55, 35.09s/it]"
     ]
    },
    {
     "name": "stdout",
     "output_type": "stream",
     "text": [
      "fitting...\n",
      "calculating HDI...\n"
     ]
    },
    {
     "name": "stderr",
     "output_type": "stream",
     "text": [
      " 69%|██████▉   | 9/13 [04:52<02:32, 38.21s/it]"
     ]
    },
    {
     "name": "stdout",
     "output_type": "stream",
     "text": [
      "fitting...\n",
      "calculating HDI...\n"
     ]
    },
    {
     "name": "stderr",
     "output_type": "stream",
     "text": [
      " 77%|███████▋  | 10/13 [05:37<02:01, 40.41s/it]"
     ]
    },
    {
     "name": "stdout",
     "output_type": "stream",
     "text": [
      "fitting...\n",
      "calculating HDI...\n"
     ]
    },
    {
     "name": "stderr",
     "output_type": "stream",
     "text": [
      " 85%|████████▍ | 11/13 [05:53<01:05, 32.87s/it]"
     ]
    },
    {
     "name": "stdout",
     "output_type": "stream",
     "text": [
      "fitting...\n",
      "calculating HDI...\n"
     ]
    },
    {
     "name": "stderr",
     "output_type": "stream",
     "text": [
      " 92%|█████████▏| 12/13 [06:09<00:27, 27.77s/it]"
     ]
    },
    {
     "name": "stdout",
     "output_type": "stream",
     "text": [
      "fitting...\n",
      "calculating HDI...\n"
     ]
    },
    {
     "name": "stderr",
     "output_type": "stream",
     "text": [
      "100%|██████████| 13/13 [06:34<00:00, 30.38s/it]\n"
     ]
    }
   ],
   "source": [
    "from tqdm import tqdm\n",
    "\n",
    "rhoDM_v = []\n",
    "rhoDM_fit = []\n",
    "rhob_v = []\n",
    "rhob_fit = []\n",
    "\n",
    "for index in tqdm(range(13)):\n",
    "    df_dm = np.load(join(mcmc_dm_dir, f\"chain-2-{index}.npy\"))\n",
    "    rhob = df_dm[:, :, :12]\n",
    "    rhob = rhob.reshape(-1, 12)\n",
    "    rhob = rhob.sum(axis=1)/1E-2\n",
    "    rhoDM = df_dm[:, :, 24].reshape(-1)/1E-2\n",
    "    print(\"fitting...\")\n",
    "    rhoDM_f = skewnorm.fit(rhoDM)\n",
    "    rhob_f = skewnorm.fit(rhob)\n",
    "    rhoDM_fit.append(rhoDM_f)\n",
    "    rhob_fit.append(rhob_f)\n",
    "\n",
    "    print(\"calculating HDI...\")\n",
    "    rhoDM_low68, rhoDM_high68 = hdi(lambda x: skewnorm.pdf(x, *rhoDM_f), perc=0.68, res=1E3, min=-5, max=14)\n",
    "    rhoDM_low90, rhoDM_high90 = hdi(lambda x: skewnorm.pdf(x, *rhoDM_f), perc=0.90, res=1E3, min=-5, max=14)\n",
    "    rhoDM_low95, rhoDM_high95 = hdi(lambda x: skewnorm.pdf(x, *rhoDM_f), perc=0.95, res=1E3, min=-5, max=14)\n",
    "    rhoDM_mode = find_max(lambda x: skewnorm.pdf(x, *rhoDM_f), x0=0.0)[0]\n",
    "    rhoDM_v.append([rhoDM_mode, rhoDM_low68, rhoDM_high68, rhoDM_low90, rhoDM_high90, rhoDM_low95, rhoDM_high95])\n",
    "\n",
    "    rhob_low68, rhob_high68 = hdi(lambda x: skewnorm.pdf(x, *rhob_f), perc=0.68, res=1E3, min=-5, max=14)\n",
    "    rhob_low90, rhob_high90 = hdi(lambda x: skewnorm.pdf(x, *rhob_f), perc=0.90, res=1E3, min=-5, max=14)\n",
    "    rhob_low95, rhob_high95 = hdi(lambda x: skewnorm.pdf(x, *rhob_f), perc=0.95, res=1E3, min=-5, max=14)\n",
    "    rhob_mode = find_max(lambda x: skewnorm.pdf(x, *rhob_f), x0=0.0)[0]\n",
    "    rhob_v.append([rhob_mode, rhob_low68, rhob_high68, rhob_low90, rhob_high90, rhob_low95, rhob_high95])"
   ]
  },
  {
   "cell_type": "code",
   "execution_count": 26,
   "metadata": {},
   "outputs": [
    {
     "data": {
      "text/plain": [
       "(1.4783812487953338, -0.14889610499929407, 1.884128570976315)"
      ]
     },
     "execution_count": 26,
     "metadata": {},
     "output_type": "execute_result"
    }
   ],
   "source": [
    "rhoDM_fit[0]"
   ]
  },
  {
   "cell_type": "code",
   "execution_count": 27,
   "metadata": {},
   "outputs": [
    {
     "data": {
      "text/plain": [
       "[<matplotlib.lines.Line2D at 0x7fc4505d4ee0>]"
      ]
     },
     "execution_count": 27,
     "metadata": {},
     "output_type": "execute_result"
    },
    {
     "data": {
      "image/png": "[encoded data removed]",
      "text/plain": [
       "<Figure size 432x288 with 1 Axes>"
      ]
     },
     "metadata": {
      "needs_background": "light"
     },
     "output_type": "display_data"
    }
   ],
   "source": [
    "# multiplying the rhoDM, but it became addition in log\n",
    "rho = np.linspace(-5, 14, 10000)\n",
    "log_rhoDM = None\n",
    "for p in rhoDM_fit:\n",
    "    if log_rhoDM is None:\n",
    "        log_rhoDM = skewnorm.logpdf(rho, *p)\n",
    "    else:\n",
    "        log_rhoDM += skewnorm.logpdf(rho, *p)\n",
    "# turn into rhoDM\n",
    "rhoDM_val = np.exp(log_rhoDM)\n",
    "# find max value\n",
    "rho_max = np.max(rhoDM_val)\n",
    "# normalize\n",
    "rhoDM_val /= rho_max\n",
    "# plot\n",
    "fig, ax = plt.subplots()\n",
    "ax.plot(rho, rhoDM_val, label='rhoDM')"
   ]
  },
  {
   "cell_type": "code",
   "execution_count": 28,
   "metadata": {},
   "outputs": [],
   "source": [
    "from scipy.optimize import curve_fit\n",
    "\n",
    "rhoDM_com_fit, _ = curve_fit(skewnorm.pdf, rho, rhoDM_val, p0=[0.0, 1.0, 1.0])"
   ]
  },
  {
   "cell_type": "code",
   "execution_count": 71,
   "metadata": {},
   "outputs": [
    {
     "name": "stdout",
     "output_type": "stream",
     "text": [
      "rhoDM_com = 1.60 +0.42/-0.34\n",
      "rhoDM_com = 1.60 +0.72/-0.53\n",
      "rhoDM_com = 1.60 +0.87/-0.63\n",
      "1.60 & [1.26,2.02] & [1.07,2.32] & [0.97,2.47] \\\\\n"
     ]
    }
   ],
   "source": [
    "# find mode, 68, 90, 95% HDI for rhoDM_com\n",
    "rhoDM_com_mode = find_max(lambda x: skewnorm.pdf(x, *rhoDM_com_fit), x0=0.0)[0]\n",
    "rhoDM_com_low68, rhoDM_com_high68 = hdi(lambda x: skewnorm.pdf(x, *rhoDM_com_fit), perc=0.68, res=1E3, min=-5, max=14)\n",
    "rhoDM_com_low90, rhoDM_com_high90 = hdi(lambda x: skewnorm.pdf(x, *rhoDM_com_fit), perc=0.90, res=1E3, min=-5, max=14)\n",
    "rhoDM_com_low95, rhoDM_com_high95 = hdi(lambda x: skewnorm.pdf(x, *rhoDM_com_fit), perc=0.95, res=1E3, min=-5, max=14)\n",
    "print(f'rhoDM_com = {rhoDM_com_mode:.02f} +{rhoDM_com_high68-rhoDM_com_mode:.02f}/-{rhoDM_com_mode-rhoDM_com_low68:.02f}')\n",
    "print(f'rhoDM_com = {rhoDM_com_mode:.02f} +{rhoDM_com_high90-rhoDM_com_mode:.02f}/-{rhoDM_com_mode-rhoDM_com_low90:.02f}')\n",
    "print(f'rhoDM_com = {rhoDM_com_mode:.02f} +{rhoDM_com_high95-rhoDM_com_mode:.02f}/-{rhoDM_com_mode-rhoDM_com_low95:.02f}')\n",
    "print(f\"{rhoDM_com_mode:.02f} & [{rhoDM_com_low68:.02f},{rhoDM_com_high68:.02f}] & [{rhoDM_com_low90:.02f},{rhoDM_com_high90:.02f}] & [{rhoDM_com_low95:.02f},{rhoDM_com_high95:.02f}] \\\\\\\\\")"
   ]
  },
  {
   "attachments": {},
   "cell_type": "markdown",
   "metadata": {},
   "source": [
    "# \\\\/ Skip"
   ]
  },
  {
   "cell_type": "code",
   "execution_count": 72,
   "metadata": {},
   "outputs": [
    {
     "data": {
      "text/plain": [
       "[<matplotlib.lines.Line2D at 0x7fc44a6fd2e0>]"
      ]
     },
     "execution_count": 72,
     "metadata": {},
     "output_type": "execute_result"
    },
    {
     "data": {
      "image/png": "[encoded data removed]",
      "text/plain": [
       "<Figure size 432x288 with 1 Axes>"
      ]
     },
     "metadata": {
      "needs_background": "light"
     },
     "output_type": "display_data"
    }
   ],
   "source": [
    "# tanpa F\n",
    "# multiplying the rhoDM, but it became addition in log\n",
    "rho = np.linspace(-5, 14, 10000)\n",
    "log_rhoDM = None\n",
    "for i, p in enumerate(rhoDM_fit):\n",
    "    if i in [3, 4, 5, 6, 7, 8]:\n",
    "        continue\n",
    "    if log_rhoDM is None:\n",
    "        log_rhoDM = skewnorm.logpdf(rho, *p)\n",
    "    else:\n",
    "        log_rhoDM += skewnorm.logpdf(rho, *p)\n",
    "# turn into rhoDM\n",
    "rhoDM_val = np.exp(log_rhoDM)\n",
    "# find max value\n",
    "rho_max = np.max(rhoDM_val)\n",
    "# normalize\n",
    "rhoDM_val /= rho_max\n",
    "# plot\n",
    "fig, ax = plt.subplots()\n",
    "ax.plot(rho, rhoDM_val, label='rhoDM')"
   ]
  },
  {
   "cell_type": "code",
   "execution_count": 73,
   "metadata": {},
   "outputs": [],
   "source": [
    "from scipy.optimize import curve_fit\n",
    "\n",
    "rhoDM_com_fit, _ = curve_fit(skewnorm.pdf, rho, rhoDM_val, p0=[0.0, 1.0, 1.0])"
   ]
  },
  {
   "cell_type": "code",
   "execution_count": 74,
   "metadata": {},
   "outputs": [
    {
     "name": "stdout",
     "output_type": "stream",
     "text": [
      "rhoDM_com = 0.93 +0.38/-0.36\n",
      "rhoDM_com = 0.93 +0.67/-0.57\n",
      "rhoDM_com = 0.93 +0.80/-0.68\n",
      "0.93 & [0.57,1.31] & [0.36,1.60] & [0.25,1.73] \\\\\n"
     ]
    }
   ],
   "source": [
    "# find mode, 68, 90, 95% HDI for rhoDM_com\n",
    "rhoDM_com_mode = find_max(lambda x: skewnorm.pdf(x, *rhoDM_com_fit), x0=0.0)[0]\n",
    "rhoDM_com_low68, rhoDM_com_high68 = hdi(lambda x: skewnorm.pdf(x, *rhoDM_com_fit), perc=0.68, res=1E3, min=-5, max=14)\n",
    "rhoDM_com_low90, rhoDM_com_high90 = hdi(lambda x: skewnorm.pdf(x, *rhoDM_com_fit), perc=0.90, res=1E3, min=-5, max=14)\n",
    "rhoDM_com_low95, rhoDM_com_high95 = hdi(lambda x: skewnorm.pdf(x, *rhoDM_com_fit), perc=0.95, res=1E3, min=-5, max=14)\n",
    "print(f'rhoDM_com = {rhoDM_com_mode:.02f} +{rhoDM_com_high68-rhoDM_com_mode:.02f}/-{rhoDM_com_mode-rhoDM_com_low68:.02f}')\n",
    "print(f'rhoDM_com = {rhoDM_com_mode:.02f} +{rhoDM_com_high90-rhoDM_com_mode:.02f}/-{rhoDM_com_mode-rhoDM_com_low90:.02f}')\n",
    "print(f'rhoDM_com = {rhoDM_com_mode:.02f} +{rhoDM_com_high95-rhoDM_com_mode:.02f}/-{rhoDM_com_mode-rhoDM_com_low95:.02f}')\n",
    "print(f\"{rhoDM_com_mode:.02f} & [{rhoDM_com_low68:.02f},{rhoDM_com_high68:.02f}] & [{rhoDM_com_low90:.02f},{rhoDM_com_high90:.02f}] & [{rhoDM_com_low95:.02f},{rhoDM_com_high95:.02f}] \\\\\\\\\")"
   ]
  },
  {
   "attachments": {},
   "cell_type": "markdown",
   "metadata": {},
   "source": [
    "# ^skip"
   ]
  },
  {
   "cell_type": "code",
   "execution_count": 45,
   "metadata": {},
   "outputs": [],
   "source": [
    "A9 = sp[sp['SpT'] == 'A9V']['J-K'].values[0]\n",
    "F0 = sp[sp['SpT'] == 'F0V']['J-K'].values[0]\n",
    "b1 = (A9+F0)/2\n",
    "\n",
    "F9 = sp[sp['SpT'] == 'F9V']['J-K'].values[0]\n",
    "G0 = sp[sp['SpT'] == 'G0V']['J-K'].values[0]\n",
    "b2 = (F9+G0)/2"
   ]
  },
  {
   "cell_type": "code",
   "execution_count": 57,
   "metadata": {},
   "outputs": [
    {
     "data": {
      "image/png": "[encoded data removed]",
      "text/plain": [
       "<Figure size 576x432 with 1 Axes>"
      ]
     },
     "metadata": {
      "needs_background": "light"
     },
     "output_type": "display_data"
    }
   ],
   "source": [
    "rhoDM_v = np.array(rhoDM_v)\n",
    "rhoDM_mode = rhoDM_v[:,0]\n",
    "rhoDM_low68 = rhoDM_v[:,1]\n",
    "rhoDM_high68 = rhoDM_v[:,2]\n",
    "rhoDM_err_low68 = rhoDM_mode-rhoDM_low68\n",
    "rhoDM_err_high68 = rhoDM_high68-rhoDM_mode\n",
    "rhoDM_low90 = rhoDM_v[:,3]\n",
    "rhoDM_high90 = rhoDM_v[:,4]\n",
    "rhoDM_err_low90 = rhoDM_mode-rhoDM_low90\n",
    "rhoDM_err_high90 = rhoDM_high90-rhoDM_mode\n",
    "rhoDM_low95 = rhoDM_v[:,5]\n",
    "rhoDM_high95 = rhoDM_v[:,6]\n",
    "rhoDM_err_low95 = rhoDM_mode-rhoDM_low95\n",
    "rhoDM_err_high95 = rhoDM_high95-rhoDM_mode\n",
    "\n",
    "rhob_v = np.array(rhob_v)\n",
    "rhob_mode = rhob_v[:,0]\n",
    "rhob_low68 = rhob_v[:,1]\n",
    "rhob_high68 = rhob_v[:,2]\n",
    "rhob_err_low68 = rhob_mode-rhob_low68\n",
    "rhob_err_high68 = rhob_high68-rhob_mode\n",
    "rhob_low90 = rhob_v[:,3]\n",
    "rhob_high90 = rhob_v[:,4]\n",
    "rhob_err_low90 = rhob_mode-rhob_low90\n",
    "rhob_err_high90 = rhob_high90-rhob_mode\n",
    "rhob_low95 = rhob_v[:,5]\n",
    "rhob_high95 = rhob_v[:,6]\n",
    "rhob_err_low95 = rhob_mode-rhob_low95\n",
    "rhob_err_high95 = rhob_high95-rhob_mode\n",
    "cs = np.linspace(c1.min(), c2.max(), 100)\n",
    "# plot vertical line for each rho with respect to their c\n",
    "fig, ax = plt.subplots(figsize=(8, 6))\n",
    "ax.errorbar(c, rhoDM_mode, yerr=[rhoDM_err_low95, rhoDM_err_high95], fmt='o', color='blue', capsize=3, alpha=0.5, elinewidth=3, markeredgewidth=1)\n",
    "ax.errorbar(c, rhoDM_mode, yerr=[rhoDM_err_low90, rhoDM_err_high90], fmt='o', color='blue', capsize=3, alpha=0.5, elinewidth=3, markeredgewidth=1)\n",
    "ax.errorbar(c, rhoDM_mode, yerr=[rhoDM_err_low68, rhoDM_err_high68], fmt='o', color='blue', capsize=3, label=r'$\\rho_{DM}$', elinewidth=3, markeredgewidth=1)\n",
    "ax.errorbar(c, rhob_mode, yerr=[rhob_err_low95, rhob_err_high95], fmt='o', color='red', capsize=3, elinewidth=3, alpha=0.5, markeredgewidth=1)\n",
    "ax.errorbar(c, rhob_mode, yerr=[rhob_err_low90, rhob_err_high90], fmt='o', color='red', capsize=3, elinewidth=3, alpha=0.5, markeredgewidth=1)\n",
    "ax.errorbar(c, rhob_mode, yerr=[rhob_err_low68, rhob_err_high68], fmt='o', color='red', capsize=3, elinewidth=3, label=r'$\\rho_{b}$', markeredgewidth=1)\n",
    "ax.axhline(y=rhob0_mode, color='black', linestyle='--')\n",
    "ax.fill_between(cs, rhob0_low68, rhob0_high68, color='black', alpha=0.1)\n",
    "ax.fill_between(cs, rhob0_low90, rhob0_high90, color='black', alpha=0.1)\n",
    "ax.fill_between(cs, rhob0_low95, rhob0_high95, color='black', alpha=0.1, label=r'$\\rho_{b0}$')\n",
    "ax.axhline(y=rhoDM_com_mode, color='black', linestyle='--')\n",
    "ax.fill_between(cs, rhoDM_com_low68, rhoDM_com_high68, color='black', alpha=0.1)\n",
    "ax.fill_between(cs, rhoDM_com_low90, rhoDM_com_high90, color='black', alpha=0.1)\n",
    "ax.fill_between(cs, rhoDM_com_low95, rhoDM_com_high95, color='black', alpha=0.2, label=r'$\\rho_{\\textup{comb,DM}}$')\n",
    "ax.axvline(x=b1, color='black', linestyle='--')\n",
    "ax.axvline(x=b2, color='black', linestyle='--')\n",
    "ax.text(0.22, -1, r'$\\textup{F}$', fontsize=16)\n",
    "ax.text(0.02, -1, r'$\\textup{A}$', fontsize=16)\n",
    "ax.text(0.36, -1, r'$\\textup{G}$', fontsize=16)\n",
    "ax.set_xlabel(r'$J-K_s$', fontsize=16)\n",
    "ax.set_ylabel(r'$\\rho$ [$M_{\\odot}/$pc$^{3}$]', fontsize=16)\n",
    "ax.set_xlim(c1.min(), c2.max())\n",
    "# ax.set_ylim(-5.0, 14.0)\n",
    "ax.set_title(\"Dark Matter \\& Baryon Density\", fontsize=16)\n",
    "ax.grid()\n",
    "ax.legend(fontsize=10)\n",
    "fig.savefig('rhoDM-dm.pdf', dpi=200)\n",
    "plt.show()"
   ]
  },
  {
   "cell_type": "code",
   "execution_count": 76,
   "metadata": {},
   "outputs": [
    {
     "name": "stdout",
     "output_type": "stream",
     "text": [
      "$-0.1\\leq c < 0.04$ & 0.87 & [-0.44,2.34] & [-1.23,3.41] & [-1.60,3.94] \\\\\n",
      "$0.04\\leq c < 0.1$ & 1.54 & [0.34,2.87] & [-0.40,3.82] & [-0.74,4.30] \\\\\n",
      "$0.1\\leq c < 0.14$ & 1.92 & [0.61,3.39] & [-0.21,4.43] & [-0.59,4.95] \\\\\n",
      "$0.14\\leq c < 0.18$ & 0.75 & [-0.23,1.77] & [-0.82,2.49] & [-1.12,2.84] \\\\\n",
      "$0.18\\leq c < 0.21$ & 3.70 & [2.76,4.66] & [2.15,5.29] & [1.85,5.59] \\\\\n",
      "$0.21\\leq c < 0.24$ & 4.77 & [3.77,5.75] & [3.12,6.39] & [2.80,6.70] \\\\\n",
      "$0.24\\leq c < 0.27$ & 3.59 & [2.70,4.49] & [2.15,5.10] & [1.88,5.38] \\\\\n",
      "$0.27\\leq c < 0.29$ & 1.87 & [1.11,2.74] & [0.63,3.35] & [0.42,3.67] \\\\\n",
      "$0.29\\leq c < 0.32$ & 1.50 & [0.78,2.25] & [0.33,2.76] & [0.10,2.99] \\\\\n",
      "$0.32\\leq c < 0.34$ & 0.77 & [0.14,1.41] & [-0.28,1.81] & [-0.49,2.02] \\\\\n",
      "$0.34\\leq c < 0.36$ & 0.79 & [0.15,1.43] & [-0.25,1.85] & [-0.44,2.06] \\\\\n",
      "$0.36\\leq c < 0.38$ & 1.04 & [0.44,1.68] & [0.08,2.13] & [-0.09,2.36] \\\\\n",
      "$0.38\\leq c < 0.4$ & 0.77 & [0.12,1.47] & [-0.28,1.96] & [-0.47,2.21] \\\\\n"
     ]
    }
   ],
   "source": [
    "for i in range(len(c)):\n",
    "    print(r\"${}\\leq c < {}$ & {:.02f} & [{:.02f},{:.02f}] & [{:.02f},{:.02f}] & [{:.02f},{:.02f}] \\\\\".format(c1[i], c2[i], rhoDM_mode[i], rhoDM_low68[i], rhoDM_high68[i], rhoDM_low90[i], rhoDM_high90[i], rhoDM_low95[i], rhoDM_high95[i]))"
   ]
  }
 ],
 "metadata": {
  "kernelspec": {
   "display_name": "vaex",
   "language": "python",
   "name": "python3"
  },
  "language_info": {
   "codemirror_mode": {
    "name": "ipython",
    "version": 3
   },
   "file_extension": ".py",
   "mimetype": "text/x-python",
   "name": "python",
   "nbconvert_exporter": "python",
   "pygments_lexer": "ipython3",
   "version": "3.8.10"
  },
  "orig_nbformat": 4
 },
 "nbformat": 4,
 "nbformat_minor": 2
}
