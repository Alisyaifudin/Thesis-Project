{
 "cells": [
  {
   "cell_type": "code",
   "execution_count": 1,
   "metadata": {},
   "outputs": [],
   "source": [
    "import sys\n",
    "from os.path import join, abspath\n",
    "from glob import glob\n",
    "import numpy as np\n",
    "import vaex\n",
    "from tqdm import tqdm\n",
    "import matplotlib.pyplot as plt\n",
    "from time import time\n",
    "from scipy.stats import norm, uniform"
   ]
  },
  {
   "cell_type": "code",
   "execution_count": 2,
   "metadata": {},
   "outputs": [
    {
     "data": {
      "text/plain": [
       "'/home2/s20321005/Thesis-Project'"
      ]
     },
     "execution_count": 2,
     "metadata": {},
     "output_type": "execute_result"
    }
   ],
   "source": [
    "# import utils\n",
    "root_dir = abspath(join('..'))\n",
    "root_dir"
   ]
  },
  {
   "cell_type": "code",
   "execution_count": 3,
   "metadata": {},
   "outputs": [
    {
     "data": {
      "text/plain": [
       "['/home2/s20321005/Thesis-Project/5_Anal',\n",
       " '/home2/s20321005/.conda/envs/vaex/lib/python38.zip',\n",
       " '/home2/s20321005/.conda/envs/vaex/lib/python3.8',\n",
       " '/home2/s20321005/.conda/envs/vaex/lib/python3.8/lib-dynload',\n",
       " '',\n",
       " '/home2/s20321005/.local/lib/python3.8/site-packages',\n",
       " '/home2/s20321005/.conda/envs/vaex/lib/python3.8/site-packages',\n",
       " '/home2/s20321005/Thesis-Project']"
      ]
     },
     "execution_count": 3,
     "metadata": {},
     "output_type": "execute_result"
    }
   ],
   "source": [
    "if root_dir not in sys.path:\n",
    "    sys.path.append(root_dir)\n",
    "sys.path"
   ]
  },
  {
   "cell_type": "code",
   "execution_count": 4,
   "metadata": {},
   "outputs": [],
   "source": [
    "from utils import style, hdi"
   ]
  },
  {
   "cell_type": "code",
   "execution_count": 5,
   "metadata": {},
   "outputs": [],
   "source": [
    "style()"
   ]
  },
  {
   "cell_type": "code",
   "execution_count": 6,
   "metadata": {},
   "outputs": [
    {
     "data": {
      "text/plain": [
       "'/home2/s20321005/Thesis-Project/Data'"
      ]
     },
     "execution_count": 6,
     "metadata": {},
     "output_type": "execute_result"
    }
   ],
   "source": [
    "root_data_dir = abspath(join(root_dir, \"Data\"))\n",
    "root_data_dir"
   ]
  },
  {
   "cell_type": "code",
   "execution_count": 7,
   "metadata": {},
   "outputs": [],
   "source": [
    "data_baryon_dir = join(root_data_dir, \"Baryon\")\n",
    "# load baryons components\n",
    "df_baryon = vaex.open(join(data_baryon_dir, \"baryon.hdf5\"))\n",
    "rhos = df_baryon[\"rho\"].to_numpy()  # Msun/pc^3\n",
    "sigmaz = df_baryon[\"sigma_z\"].to_numpy() # km/s\n",
    "\n",
    "e_rhos = df_baryon[\"e_rho\"].to_numpy()  # Msun/pc^3\n",
    "e_sigmaz = df_baryon[\"e_sigma_z\"].to_numpy() # km/s\n",
    "dpi=100"
   ]
  },
  {
   "attachments": {},
   "cell_type": "markdown",
   "metadata": {},
   "source": [
    "# $z$"
   ]
  },
  {
   "cell_type": "code",
   "execution_count": 11,
   "metadata": {},
   "outputs": [],
   "source": [
    "tipe = \"z\"\n",
    "zfiles = glob(join(root_data_dir, 'MCMC', 'dm_mock', 'mock', tipe, 'z*.hdf5'))\n",
    "zfiles.sort()\n",
    "wfiles = glob(join(root_data_dir, 'MCMC', 'dm_mock', 'mock', tipe, 'w*.hdf5'))\n",
    "wfiles.sort()"
   ]
  },
  {
   "cell_type": "code",
   "execution_count": 12,
   "metadata": {},
   "outputs": [
    {
     "data": {
      "text/plain": [
       "['/home2/s20321005/Thesis-Project/Data/MCMC/dm_mock/data/z/chain-2-0.npy',\n",
       " '/home2/s20321005/Thesis-Project/Data/MCMC/dm_mock/data/z/chain-2-1.npy',\n",
       " '/home2/s20321005/Thesis-Project/Data/MCMC/dm_mock/data/z/chain-2-2.npy',\n",
       " '/home2/s20321005/Thesis-Project/Data/MCMC/dm_mock/data/z/chain-2-3.npy',\n",
       " '/home2/s20321005/Thesis-Project/Data/MCMC/dm_mock/data/z/chain-2-4.npy']"
      ]
     },
     "execution_count": 12,
     "metadata": {},
     "output_type": "execute_result"
    }
   ],
   "source": [
    "dm_2_files = glob(join(join(root_data_dir, 'MCMC', 'dm_mock', 'data', tipe, \"chain-2-*\")))\n",
    "dm_2_files.sort()\n",
    "dm_2_files"
   ]
  },
  {
   "cell_type": "code",
   "execution_count": 13,
   "metadata": {},
   "outputs": [
    {
     "data": {
      "text/plain": [
       "(10000, 68, 33)"
      ]
     },
     "execution_count": 13,
     "metadata": {},
     "output_type": "execute_result"
    }
   ],
   "source": [
    "index = 0\n",
    "df_dm = np.load(dm_2_files[index])\n",
    "df_dm.shape"
   ]
  },
  {
   "cell_type": "code",
   "execution_count": 14,
   "metadata": {},
   "outputs": [],
   "source": [
    "from scipy.stats import norm\n",
    "\n",
    "rhob = df_dm[:, :, :12]\n",
    "rhob = rhob.reshape(-1, 12)\n",
    "rhob = rhob.sum(axis=1)/1E-2\n",
    "rhoDM = df_dm[:, :, 24].reshape(-1)/1E-2\n",
    "length = len(rhob)\n",
    "rhob0 = np.empty((length, 12))\n",
    "for i in range(12):\n",
    "    rhob0[:,i] = norm.rvs(loc=rhos[i], scale=e_rhos[i], size=length)\n",
    "rhob0 = rhob0.sum(axis=1)/1E-2"
   ]
  },
  {
   "cell_type": "code",
   "execution_count": 15,
   "metadata": {},
   "outputs": [
    {
     "data": {
      "image/png": "[encoded data removed]",
      "text/plain": [
       "<Figure size 576x432 with 1 Axes>"
      ]
     },
     "metadata": {
      "needs_background": "light"
     },
     "output_type": "display_data"
    }
   ],
   "source": [
    "rho = np.linspace(-5, 14, 200)\n",
    "rhoDM_num, _ = np.histogram(rhoDM, bins=rho)\n",
    "rhob_num, _ = np.histogram(rhob, bins=rho)\n",
    "rhob0_num, _ = np.histogram(rhob0, bins=rho)\n",
    "rhomid = 0.5*(rho[1:] + rho[:-1])\n",
    "# plot step\n",
    "fig, ax = plt.subplots(figsize=(8, 6))\n",
    "ax.step(rhomid, rhoDM_num, label='DM')\n",
    "ax.step(rhomid, rhob_num, label='Baryon')\n",
    "ax.step(rhomid, rhob0_num, label='Baryon0')\n",
    "ax.set_xlabel(r'$\\rho$')\n",
    "ax.set_ylabel('Number')\n",
    "ax.legend()\n",
    "plt.show()"
   ]
  },
  {
   "cell_type": "code",
   "execution_count": 17,
   "metadata": {},
   "outputs": [],
   "source": [
    "# fit with skew normal\n",
    "from scipy.stats import skewnorm\n",
    "rhoDM_fit_n = skewnorm.fit(rhoDM)\n",
    "rhob_fit_n = skewnorm.fit(rhob)\n",
    "rhob0_fit = skewnorm.fit(rhob0)"
   ]
  },
  {
   "cell_type": "code",
   "execution_count": 18,
   "metadata": {},
   "outputs": [
    {
     "data": {
      "text/plain": [
       "((1.7741872098197446, -1.9404443353068472, 3.420410722739831),\n",
       " (0.2568848413887066, 8.727158435188631, 0.6861971004534828),\n",
       " (0.2435749189215094, 8.752385707360975, 0.7243069686039445))"
      ]
     },
     "execution_count": 18,
     "metadata": {},
     "output_type": "execute_result"
    },
    {
     "data": {
      "image/png": "[encoded data removed]",
      "text/plain": [
       "<Figure size 576x432 with 1 Axes>"
      ]
     },
     "metadata": {
      "needs_background": "light"
     },
     "output_type": "display_data"
    }
   ],
   "source": [
    "# plot\n",
    "rho = np.linspace(-5, 14, 50)\n",
    "fig, ax = plt.subplots(figsize=(8, 6))\n",
    "ax.hist(rhoDM, bins=rho, density=True, label='DM', ec='k', alpha=0.5, color='C0')\n",
    "ax.hist(rhob, bins=rho, density=True, label='Baryon', ec='k', alpha=0.5,color='C1')\n",
    "ax.hist(rhob0, bins=rho, density=True, label='Baryon0', ec='k', alpha=0.5, color='C2')\n",
    "ax.plot(rho, skewnorm.pdf(rho, *rhoDM_fit_n), label='DM fit', color='C0',  ls='--')\n",
    "ax.plot(rho, skewnorm.pdf(rho, *rhob_fit_n), label='Baryon fit', color='C1', ls='--')\n",
    "ax.plot(rho, skewnorm.pdf(rho, *rhob0_fit), label='Baryon0 fit', color='C2', ls='--')\n",
    "ax.set_xlabel(r'$\\rho$')\n",
    "ax.set_ylabel(r'$f$')\n",
    "ax.legend()\n",
    "rhoDM_fit_n, rhob_fit_n, rhob0_fit"
   ]
  },
  {
   "cell_type": "code",
   "execution_count": 12,
   "metadata": {},
   "outputs": [],
   "source": [
    "from scipy.optimize import fmin\n",
    "from scipy.integrate import quad\n",
    "\n",
    "def find_max(func, x0=None):\n",
    "  r\"\"\" Find maximum of a function\n",
    "  \"\"\"\n",
    "  x0 = np.random.rand() if x0 is None else x0\n",
    "  xMax = fmin(lambda x: -func(x), x0, disp=False)\n",
    "  return xMax\n",
    "\n",
    "def hdi(func, perc=0.68, res=1E3, min=0.0, max=1.0):\n",
    "  r\"\"\" Highest density interval of {perc}% of normalized distribution\n",
    "  perc: percentile\n",
    "  res: resolution, number of sampling from distributiion\n",
    "  min: min x-value\n",
    "  max: max x-value\n",
    "  \"\"\"\n",
    "  x = np.linspace(min, max, int(res))\n",
    "  y = func(x)\n",
    "  upper = np.max(y)*0.99\n",
    "  below = 0\n",
    "  for k in range(10):\n",
    "    ys = np.linspace(upper, below, 10)\n",
    "    for i in range(10):\n",
    "      mask = y > ys[i]\n",
    "      x_mask = x[mask]\n",
    "      integral, _ = quad(func, a=x_mask[0], b=x_mask[-1])\n",
    "      if(integral > perc): break\n",
    "    upper = ys[i-1]\n",
    "    below = ys[i]\n",
    "    xMin = x_mask[0]\n",
    "    xMax = x_mask[-1]\n",
    "  return (xMin, xMax)"
   ]
  },
  {
   "cell_type": "code",
   "execution_count": 20,
   "metadata": {},
   "outputs": [
    {
     "name": "stdout",
     "output_type": "stream",
     "text": [
      "rhoDM = -0.10 +2.61/-2.18\n",
      "rhob = 8.86 +0.67/-0.68\n",
      "rhob0 = 8.89 +0.72/-0.71\n"
     ]
    },
    {
     "data": {
      "image/png": "[encoded data removed]",
      "text/plain": [
       "<Figure size 576x432 with 1 Axes>"
      ]
     },
     "metadata": {
      "needs_background": "light"
     },
     "output_type": "display_data"
    }
   ],
   "source": [
    "rhoDM_low, rhoDM_high = hdi(lambda x: skewnorm.pdf(x, *rhoDM_fit_n), perc=0.68, res=1E3, min=-5, max=14)\n",
    "rhoDM_mode = find_max(lambda x: skewnorm.pdf(x, *rhoDM_fit_n), x0=0.0)[0]\n",
    "\n",
    "rhob_low, rhob_high = hdi(lambda x: skewnorm.pdf(x, *rhob_fit_n), perc=0.68, res=1E3, min=-5, max=14)\n",
    "rhob_mode = find_max(lambda x: skewnorm.pdf(x, *rhob_fit_n), x0=0.0)[0]\n",
    "\n",
    "rhob0_low, rhob0_high = hdi(lambda x: skewnorm.pdf(x, *rhob0_fit), perc=0.68, res=1E3, min=-5, max=14)\n",
    "rhob0_mode = find_max(lambda x: skewnorm.pdf(x, *rhob0_fit), x0=0.0)[0]\n",
    "\n",
    "# plot\n",
    "rho = np.linspace(-5, 14, 50)\n",
    "fig, ax = plt.subplots(figsize=(8, 6))\n",
    "ax.hist(rhoDM, bins=rho, density=True, label='DM', ec='k', alpha=0.5, color='C0')\n",
    "ax.hist(rhob, bins=rho, density=True, label='Baryon', ec='k', alpha=0.5,color='C1')\n",
    "ax.hist(rhob0, bins=rho, density=True, label='Baryon0', ec='k', alpha=0.5, color='C2')\n",
    "ax.plot(rho, skewnorm.pdf(rho, *rhoDM_fit_n), label='DM fit', color='C0',  ls='--')\n",
    "ax.plot(rho, skewnorm.pdf(rho, *rhob_fit_n), label='Baryon fit', color='C1', ls='--')\n",
    "ax.plot(rho, skewnorm.pdf(rho, *rhob0_fit), label='Baryon0 fit', color='C2', ls='--')\n",
    "ax.axvline(rhoDM_mode, color='C0', ls='-.')\n",
    "ax.axvline(rhob_mode, color='C1', ls='-.')\n",
    "ax.axvline(rhob0_mode, color='C2', ls='-.')\n",
    "ax.axvline(rhoDM_low, color='C0', ls='--')\n",
    "ax.axvline(rhoDM_high, color='C0', ls='--')\n",
    "ax.axvline(rhob_low, color='C1', ls='--')\n",
    "ax.axvline(rhob_high, color='C1', ls='--')\n",
    "ax.axvline(rhob0_low, color='C2', ls='--')\n",
    "ax.axvline(rhob0_high, color='C2', ls='--')\n",
    "ax.set_xlabel(r'$\\rho$')\n",
    "ax.set_ylabel(r'$f$')\n",
    "ax.legend()\n",
    "print(f'rhoDM = {rhoDM_mode:.02f} +{rhoDM_high-rhoDM_mode:.02f}/-{rhoDM_mode-rhoDM_low:.02f}')\n",
    "print(f'rhob = {rhob_mode:.02f} +{rhob_high-rhob_mode:.02f}/-{rhob_mode-rhob_low:.02f}')\n",
    "print(f'rhob0 = {rhob0_mode:.02f} +{rhob0_high-rhob0_mode:.02f}/-{rhob0_mode-rhob0_low:.02f}')"
   ]
  },
  {
   "cell_type": "code",
   "execution_count": 15,
   "metadata": {},
   "outputs": [],
   "source": [
    "length = len(rhob)\n",
    "rhob0 = np.empty((length, 12))\n",
    "for i in range(12):\n",
    "    rhob0[:,i] = norm.rvs(loc=rhos[i], scale=e_rhos[i], size=length)\n",
    "rhob0 = rhob0.sum(axis=1)/1E-2\n",
    "# fit with gaussian\n",
    "rhob0_fit = norm.fit(rhob0)\n",
    "# find 68, 90, 95% HDI\n",
    "rhob0_low68, rhob0_high68 = hdi(lambda x: norm.pdf(x, *rhob0_fit), perc=0.68, res=1E3, min=-5, max=14)\n",
    "rhob0_low90, rhob0_high90 = hdi(lambda x: norm.pdf(x, *rhob0_fit), perc=0.90, res=1E3, min=-5, max=14)\n",
    "rhob0_low95, rhob0_high95 = hdi(lambda x: norm.pdf(x, *rhob0_fit), perc=0.95, res=1E3, min=-5, max=14)\n",
    "rhob0_mode = find_max(lambda x: norm.pdf(x, *rhob0_fit), x0=0.0)[0]"
   ]
  },
  {
   "cell_type": "code",
   "execution_count": 22,
   "metadata": {},
   "outputs": [
    {
     "name": "stderr",
     "output_type": "stream",
     "text": [
      "  0%|          | 0/5 [00:00<?, ?it/s]"
     ]
    },
    {
     "name": "stdout",
     "output_type": "stream",
     "text": [
      "fitting...\n",
      "calculating HDI...\n"
     ]
    },
    {
     "name": "stderr",
     "output_type": "stream",
     "text": [
      " 20%|██        | 1/5 [00:22<01:28, 22.15s/it]"
     ]
    },
    {
     "name": "stdout",
     "output_type": "stream",
     "text": [
      "fitting...\n",
      "calculating HDI...\n"
     ]
    },
    {
     "name": "stderr",
     "output_type": "stream",
     "text": [
      " 40%|████      | 2/5 [01:00<01:35, 31.79s/it]"
     ]
    },
    {
     "name": "stdout",
     "output_type": "stream",
     "text": [
      "fitting...\n",
      "calculating HDI...\n"
     ]
    },
    {
     "name": "stderr",
     "output_type": "stream",
     "text": [
      " 60%|██████    | 3/5 [01:16<00:48, 24.46s/it]"
     ]
    },
    {
     "name": "stdout",
     "output_type": "stream",
     "text": [
      "fitting...\n",
      "calculating HDI...\n"
     ]
    },
    {
     "name": "stderr",
     "output_type": "stream",
     "text": [
      " 80%|████████  | 4/5 [01:56<00:30, 30.58s/it]"
     ]
    },
    {
     "name": "stdout",
     "output_type": "stream",
     "text": [
      "fitting...\n",
      "calculating HDI...\n"
     ]
    },
    {
     "name": "stderr",
     "output_type": "stream",
     "text": [
      "100%|██████████| 5/5 [02:30<00:00, 30.03s/it]\n"
     ]
    }
   ],
   "source": [
    "from tqdm import tqdm\n",
    "\n",
    "rhoDM_v_z = []\n",
    "rhoDM_fit_z = []\n",
    "rhob_v_z = []\n",
    "rhob_fit_z = []\n",
    "\n",
    "for index in tqdm(range(len(dm_2_files))):\n",
    "    df_dm = np.load(dm_2_files[index])\n",
    "    rhob = df_dm[:, :, :12]\n",
    "    rhob = rhob.reshape(-1, 12)\n",
    "    rhob = rhob.sum(axis=1)/1E-2\n",
    "    rhoDM = df_dm[:, :, 24].reshape(-1)/1E-2\n",
    "    print(\"fitting...\")\n",
    "    rhoDM_f = skewnorm.fit(rhoDM)\n",
    "    rhob_f = skewnorm.fit(rhob)\n",
    "    rhoDM_fit_z.append(rhoDM_f)\n",
    "    rhob_fit_z.append(rhob_f)\n",
    "\n",
    "    print(\"calculating HDI...\")\n",
    "    rhoDM_low68, rhoDM_high68 = hdi(lambda x: skewnorm.pdf(x, *rhoDM_f), perc=0.68, res=1E3, min=-5, max=14)\n",
    "    rhoDM_low90, rhoDM_high90 = hdi(lambda x: skewnorm.pdf(x, *rhoDM_f), perc=0.90, res=1E3, min=-5, max=14)\n",
    "    rhoDM_low95, rhoDM_high95 = hdi(lambda x: skewnorm.pdf(x, *rhoDM_f), perc=0.95, res=1E3, min=-5, max=14)\n",
    "    rhoDM_mode = find_max(lambda x: skewnorm.pdf(x, *rhoDM_f), x0=0.0)[0]\n",
    "    rhoDM_v_z.append([rhoDM_mode, rhoDM_low68, rhoDM_high68, rhoDM_low90, rhoDM_high90, rhoDM_low95, rhoDM_high95])\n",
    "\n",
    "    rhob_low68, rhob_high68 = hdi(lambda x: skewnorm.pdf(x, *rhob_f), perc=0.68, res=1E3, min=-5, max=14)\n",
    "    rhob_low90, rhob_high90 = hdi(lambda x: skewnorm.pdf(x, *rhob_f), perc=0.90, res=1E3, min=-5, max=14)\n",
    "    rhob_low95, rhob_high95 = hdi(lambda x: skewnorm.pdf(x, *rhob_f), perc=0.95, res=1E3, min=-5, max=14)\n",
    "    rhob_mode = find_max(lambda x: skewnorm.pdf(x, *rhob_f), x0=0.0)[0]\n",
    "    rhob_v_z.append([rhob_mode, rhob_low68, rhob_high68, rhob_low90, rhob_high90, rhob_low95, rhob_high95])"
   ]
  },
  {
   "cell_type": "code",
   "execution_count": 25,
   "metadata": {},
   "outputs": [
    {
     "data": {
      "image/png": "[encoded data removed]",
      "text/plain": [
       "<Figure size 576x432 with 1 Axes>"
      ]
     },
     "metadata": {
      "needs_background": "light"
     },
     "output_type": "display_data"
    }
   ],
   "source": [
    "c = np.arange(1, 3.1, 0.5)\n",
    "\n",
    "rhoDM_v_z = np.array(rhoDM_v_z)\n",
    "rhoDM_mode = rhoDM_v_z[:,0]\n",
    "rhoDM_low68 = rhoDM_v_z[:,1]\n",
    "rhoDM_high68 = rhoDM_v_z[:,2]\n",
    "rhoDM_err_low68 = rhoDM_mode-rhoDM_low68\n",
    "rhoDM_err_high68 = rhoDM_high68-rhoDM_mode\n",
    "rhoDM_low90 = rhoDM_v_z[:,3]\n",
    "rhoDM_high90 = rhoDM_v_z[:,4]\n",
    "rhoDM_err_low90 = rhoDM_mode-rhoDM_low90\n",
    "rhoDM_err_high90 = rhoDM_high90-rhoDM_mode\n",
    "rhoDM_low95 = rhoDM_v_z[:,5]\n",
    "rhoDM_high95 = rhoDM_v_z[:,6]\n",
    "rhoDM_err_low95 = rhoDM_mode-rhoDM_low95\n",
    "rhoDM_err_high95 = rhoDM_high95-rhoDM_mode\n",
    "\n",
    "rhob_v_n = np.array(rhob_v_z)\n",
    "rhob_mode = rhob_v_n[:,0]\n",
    "rhob_low68 = rhob_v_n[:,1]\n",
    "rhob_high68 = rhob_v_n[:,2]\n",
    "rhob_err_low68 = rhob_mode-rhob_low68\n",
    "rhob_err_high68 = rhob_high68-rhob_mode\n",
    "rhob_low90 = rhob_v_n[:,3]\n",
    "rhob_high90 = rhob_v_n[:,4]\n",
    "rhob_err_low90 = rhob_mode-rhob_low90\n",
    "rhob_err_high90 = rhob_high90-rhob_mode\n",
    "rhob_low95 = rhob_v_n[:,5]\n",
    "rhob_high95 = rhob_v_n[:,6]\n",
    "rhob_err_low95 = rhob_mode-rhob_low95\n",
    "rhob_err_high95 = rhob_high95-rhob_mode\n",
    "\n",
    "# plot vertical line for each rho with respect to their c\n",
    "fig, ax = plt.subplots(figsize=(8, 6))\n",
    "ax.errorbar(c, rhoDM_mode, yerr=[rhoDM_err_low95, rhoDM_err_high95], fmt='o', color='blue', capsize=3, alpha=0.5, elinewidth=3, markeredgewidth=1)\n",
    "ax.errorbar(c, rhoDM_mode, yerr=[rhoDM_err_low90, rhoDM_err_high90], fmt='o', color='blue', capsize=3, alpha=0.5, elinewidth=3, markeredgewidth=1)\n",
    "ax.errorbar(c, rhoDM_mode, yerr=[rhoDM_err_low68, rhoDM_err_high68], fmt='o', color='blue', capsize=3, label=r'$\\rho_{DM}$', elinewidth=3, markeredgewidth=1)\n",
    "ax.errorbar(c, rhob_mode, yerr=[rhob_err_low95, rhob_err_high95], fmt='o', color='red', capsize=3, elinewidth=3, alpha=0.5, markeredgewidth=1)\n",
    "ax.errorbar(c, rhob_mode, yerr=[rhob_err_low90, rhob_err_high90], fmt='o', color='red', capsize=3, elinewidth=3, alpha=0.5, markeredgewidth=1)\n",
    "ax.errorbar(c, rhob_mode, yerr=[rhob_err_low68, rhob_err_high68], fmt='o', color='red', capsize=3, elinewidth=3, label=r'$\\rho_{b}$', markeredgewidth=1)\n",
    "ax.axhline(y=rhob0_mode, color='black', linestyle='--')\n",
    "cs = np.linspace(0.5, 3.5, 100)\n",
    "ax.fill_between(cs, rhob0_low68, rhob0_high68, color='black', alpha=0.1)\n",
    "ax.fill_between(cs, rhob0_low90, rhob0_high90, color='black', alpha=0.1)\n",
    "ax.fill_between(cs, rhob0_low95, rhob0_high95, color='black', alpha=0.1, label=r'$\\rho_{b0}$')\n",
    "ax.axhline(y=1.6, color='black', linestyle='--')\n",
    "ax.set_xlabel(r'$z [\\sigma]$', fontsize=16)\n",
    "ax.set_ylabel(r'$\\rho\\times 10^{-2}$ [$M_{\\odot}\\ $pc$^{-3}$]', fontsize=16)\n",
    "ax.set_xlim(cs.min(), cs.max())\n",
    "ax.set_title(\"Kerapatan Materi Gelap \\& Baryon\", fontsize=16)\n",
    "ax.grid()\n",
    "ax.legend(fontsize=10)\n",
    "fig.savefig('rm_2_z.pdf', dpi=300)\n",
    "plt.show()"
   ]
  },
  {
   "cell_type": "code",
   "execution_count": 35,
   "metadata": {},
   "outputs": [
    {
     "name": "stdout",
     "output_type": "stream",
     "text": [
      "-0.10 & [-2.28, 2.51] & [-3.57, 4.43] & [-4.18, 5.40] \\\\\n",
      "2.66 & [1.24, 4.11] & [0.36, 5.10] & [-0.07, 5.57] \\\\\n",
      "1.85 & [0.61, 3.12] & [-0.21, 3.94] & [-0.59, 4.36] \\\\\n",
      "2.09 & [0.97, 3.29] & [0.27, 4.13] & [-0.06, 4.57] \\\\\n",
      "0.74 & [-0.32, 2.02] & [-0.95, 2.97] & [-1.23, 3.44] \\\\\n"
     ]
    }
   ],
   "source": [
    "for i in range(5):\n",
    "    print(f\"{rhoDM_mode[i]:.2f} & [{rhoDM_low68[i]:.2f}, {rhoDM_high68[i]:.2f}] & [{rhoDM_low90[i]:.2f}, {rhoDM_high90[i]:.2f}] & [{rhoDM_low95[i]:.2f}, {rhoDM_high95[i]:.2f}] \\\\\\\\\")"
   ]
  },
  {
   "attachments": {},
   "cell_type": "markdown",
   "metadata": {},
   "source": [
    "## single component"
   ]
  },
  {
   "cell_type": "code",
   "execution_count": 34,
   "metadata": {},
   "outputs": [
    {
     "data": {
      "text/plain": [
       "['/home2/s20321005/Thesis-Project/Data/MCMC/dm_mock/data/z/chain-1-0.npy',\n",
       " '/home2/s20321005/Thesis-Project/Data/MCMC/dm_mock/data/z/chain-1-1.npy',\n",
       " '/home2/s20321005/Thesis-Project/Data/MCMC/dm_mock/data/z/chain-1-2.npy',\n",
       " '/home2/s20321005/Thesis-Project/Data/MCMC/dm_mock/data/z/chain-1-3.npy',\n",
       " '/home2/s20321005/Thesis-Project/Data/MCMC/dm_mock/data/z/chain-1-4.npy']"
      ]
     },
     "execution_count": 34,
     "metadata": {},
     "output_type": "execute_result"
    }
   ],
   "source": [
    "tipe = 'z'\n",
    "dm_1_files = glob(join(join(root_data_dir, 'MCMC', 'dm_mock', 'data', tipe, \"chain-1-*\")))\n",
    "dm_1_files.sort()\n",
    "dm_1_files"
   ]
  },
  {
   "cell_type": "code",
   "execution_count": 35,
   "metadata": {},
   "outputs": [],
   "source": [
    "length = len(rhob)\n",
    "rhob0 = np.empty((length, 12))\n",
    "for i in range(12):\n",
    "    rhob0[:,i] = norm.rvs(loc=rhos[i], scale=e_rhos[i], size=length)\n",
    "rhob0 = rhob0.sum(axis=1)/1E-2\n",
    "# fit with gaussian\n",
    "rhob0_fit = norm.fit(rhob0)\n",
    "# find 68, 90, 95% HDI\n",
    "rhob0_low68, rhob0_high68 = hdi(lambda x: norm.pdf(x, *rhob0_fit), perc=0.68, res=1E3, min=-5, max=14)\n",
    "rhob0_low90, rhob0_high90 = hdi(lambda x: norm.pdf(x, *rhob0_fit), perc=0.90, res=1E3, min=-5, max=14)\n",
    "rhob0_low95, rhob0_high95 = hdi(lambda x: norm.pdf(x, *rhob0_fit), perc=0.95, res=1E3, min=-5, max=14)\n",
    "rhob0_mode = find_max(lambda x: norm.pdf(x, *rhob0_fit), x0=0.0)[0]"
   ]
  },
  {
   "cell_type": "code",
   "execution_count": 36,
   "metadata": {},
   "outputs": [
    {
     "name": "stderr",
     "output_type": "stream",
     "text": [
      "  0%|          | 0/5 [00:00<?, ?it/s]"
     ]
    },
    {
     "name": "stdout",
     "output_type": "stream",
     "text": [
      "fitting...\n",
      "calculating HDI...\n"
     ]
    },
    {
     "name": "stderr",
     "output_type": "stream",
     "text": [
      " 20%|██        | 1/5 [00:14<00:57, 14.35s/it]"
     ]
    },
    {
     "name": "stdout",
     "output_type": "stream",
     "text": [
      "fitting...\n",
      "calculating HDI...\n"
     ]
    },
    {
     "name": "stderr",
     "output_type": "stream",
     "text": [
      " 40%|████      | 2/5 [00:31<00:47, 15.92s/it]"
     ]
    },
    {
     "name": "stdout",
     "output_type": "stream",
     "text": [
      "fitting...\n",
      "calculating HDI...\n"
     ]
    },
    {
     "name": "stderr",
     "output_type": "stream",
     "text": [
      " 60%|██████    | 3/5 [00:45<00:29, 14.99s/it]"
     ]
    },
    {
     "name": "stdout",
     "output_type": "stream",
     "text": [
      "fitting...\n",
      "calculating HDI...\n"
     ]
    },
    {
     "name": "stderr",
     "output_type": "stream",
     "text": [
      " 80%|████████  | 4/5 [00:58<00:14, 14.29s/it]"
     ]
    },
    {
     "name": "stdout",
     "output_type": "stream",
     "text": [
      "fitting...\n",
      "calculating HDI...\n"
     ]
    },
    {
     "name": "stderr",
     "output_type": "stream",
     "text": [
      "100%|██████████| 5/5 [01:17<00:00, 15.42s/it]\n"
     ]
    }
   ],
   "source": [
    "from tqdm import tqdm\n",
    "\n",
    "rhoDM_v_z = []\n",
    "rhoDM_fit_z = []\n",
    "rhob_v_z = []\n",
    "rhob_fit_z = []\n",
    "\n",
    "for index in tqdm(range(len(dm_1_files))):\n",
    "    df_dm = np.load(dm_1_files[index])\n",
    "    rhob = df_dm[:, :, :12]\n",
    "    rhob = rhob.reshape(-1, 12)\n",
    "    rhob = rhob.sum(axis=1)/1E-2\n",
    "    rhoDM = df_dm[:, :, 24].reshape(-1)/1E-2\n",
    "    print(\"fitting...\")\n",
    "    rhoDM_f = skewnorm.fit(rhoDM)\n",
    "    rhob_f = skewnorm.fit(rhob)\n",
    "    rhoDM_fit_z.append(rhoDM_f)\n",
    "    rhob_fit_z.append(rhob_f)\n",
    "\n",
    "    print(\"calculating HDI...\")\n",
    "    rhoDM_low68, rhoDM_high68 = hdi(lambda x: skewnorm.pdf(x, *rhoDM_f), perc=0.68, res=1E3, min=-5, max=14)\n",
    "    rhoDM_low90, rhoDM_high90 = hdi(lambda x: skewnorm.pdf(x, *rhoDM_f), perc=0.90, res=1E3, min=-5, max=14)\n",
    "    rhoDM_low95, rhoDM_high95 = hdi(lambda x: skewnorm.pdf(x, *rhoDM_f), perc=0.95, res=1E3, min=-5, max=14)\n",
    "    rhoDM_mode = find_max(lambda x: skewnorm.pdf(x, *rhoDM_f), x0=0.0)[0]\n",
    "    rhoDM_v_z.append([rhoDM_mode, rhoDM_low68, rhoDM_high68, rhoDM_low90, rhoDM_high90, rhoDM_low95, rhoDM_high95])\n",
    "\n",
    "    rhob_low68, rhob_high68 = hdi(lambda x: skewnorm.pdf(x, *rhob_f), perc=0.68, res=1E3, min=-5, max=14)\n",
    "    rhob_low90, rhob_high90 = hdi(lambda x: skewnorm.pdf(x, *rhob_f), perc=0.90, res=1E3, min=-5, max=14)\n",
    "    rhob_low95, rhob_high95 = hdi(lambda x: skewnorm.pdf(x, *rhob_f), perc=0.95, res=1E3, min=-5, max=14)\n",
    "    rhob_mode = find_max(lambda x: skewnorm.pdf(x, *rhob_f), x0=0.0)[0]\n",
    "    rhob_v_z.append([rhob_mode, rhob_low68, rhob_high68, rhob_low90, rhob_high90, rhob_low95, rhob_high95])"
   ]
  },
  {
   "cell_type": "code",
   "execution_count": 38,
   "metadata": {},
   "outputs": [
    {
     "data": {
      "image/png": "[encoded data removed]",
      "text/plain": [
       "<Figure size 576x432 with 1 Axes>"
      ]
     },
     "metadata": {
      "needs_background": "light"
     },
     "output_type": "display_data"
    }
   ],
   "source": [
    "c = np.arange(1, 3.1, 0.5)\n",
    "\n",
    "rhoDM_v_z = np.array(rhoDM_v_z)\n",
    "rhoDM_mode = rhoDM_v_z[:,0]\n",
    "rhoDM_low68 = rhoDM_v_z[:,1]\n",
    "rhoDM_high68 = rhoDM_v_z[:,2]\n",
    "rhoDM_err_low68 = rhoDM_mode-rhoDM_low68\n",
    "rhoDM_err_high68 = rhoDM_high68-rhoDM_mode\n",
    "rhoDM_low90 = rhoDM_v_z[:,3]\n",
    "rhoDM_high90 = rhoDM_v_z[:,4]\n",
    "rhoDM_err_low90 = rhoDM_mode-rhoDM_low90\n",
    "rhoDM_err_high90 = rhoDM_high90-rhoDM_mode\n",
    "rhoDM_low95 = rhoDM_v_z[:,5]\n",
    "rhoDM_high95 = rhoDM_v_z[:,6]\n",
    "rhoDM_err_low95 = rhoDM_mode-rhoDM_low95\n",
    "rhoDM_err_high95 = rhoDM_high95-rhoDM_mode\n",
    "\n",
    "rhob_v_n = np.array(rhob_v_z)\n",
    "rhob_mode = rhob_v_n[:,0]\n",
    "rhob_low68 = rhob_v_n[:,1]\n",
    "rhob_high68 = rhob_v_n[:,2]\n",
    "rhob_err_low68 = rhob_mode-rhob_low68\n",
    "rhob_err_high68 = rhob_high68-rhob_mode\n",
    "rhob_low90 = rhob_v_n[:,3]\n",
    "rhob_high90 = rhob_v_n[:,4]\n",
    "rhob_err_low90 = rhob_mode-rhob_low90\n",
    "rhob_err_high90 = rhob_high90-rhob_mode\n",
    "rhob_low95 = rhob_v_n[:,5]\n",
    "rhob_high95 = rhob_v_n[:,6]\n",
    "rhob_err_low95 = rhob_mode-rhob_low95\n",
    "rhob_err_high95 = rhob_high95-rhob_mode\n",
    "\n",
    "cs = np.linspace(0.5, 3.5, 100)\n",
    "\n",
    "fig, ax = plt.subplots(figsize=(8, 6))\n",
    "ax.errorbar(c, rhoDM_mode, yerr=[rhoDM_err_low95, rhoDM_err_high95], fmt='o', color='blue', capsize=3, alpha=0.5, elinewidth=3, markeredgewidth=1)\n",
    "ax.errorbar(c, rhoDM_mode, yerr=[rhoDM_err_low90, rhoDM_err_high90], fmt='o', color='blue', capsize=3, alpha=0.5, elinewidth=3, markeredgewidth=1)\n",
    "ax.errorbar(c, rhoDM_mode, yerr=[rhoDM_err_low68, rhoDM_err_high68], fmt='o', color='blue', capsize=3, label=r'$\\rho_{DM}$', elinewidth=3, markeredgewidth=1)\n",
    "ax.errorbar(c, rhob_mode, yerr=[rhob_err_low95, rhob_err_high95], fmt='o', color='red', capsize=3, elinewidth=3, alpha=0.5, markeredgewidth=1)\n",
    "ax.errorbar(c, rhob_mode, yerr=[rhob_err_low90, rhob_err_high90], fmt='o', color='red', capsize=3, elinewidth=3, alpha=0.5, markeredgewidth=1)\n",
    "ax.errorbar(c, rhob_mode, yerr=[rhob_err_low68, rhob_err_high68], fmt='o', color='red', capsize=3, elinewidth=3, label=r'$\\rho_{b}$', markeredgewidth=1)\n",
    "ax.axhline(y=rhob0_mode, color='black', linestyle='--')\n",
    "ax.fill_between(cs, rhob0_low68, rhob0_high68, color='black', alpha=0.1)\n",
    "ax.fill_between(cs, rhob0_low90, rhob0_high90, color='black', alpha=0.1)\n",
    "ax.fill_between(cs, rhob0_low95, rhob0_high95, color='black', alpha=0.1, label=r'$\\rho_{b0}$')\n",
    "ax.axhline(y=1.6, color='black', linestyle='--')\n",
    "ax.set_xlabel(r'$z [\\sigma]$', fontsize=16)\n",
    "ax.set_ylabel(r'$\\rho$ [$M_{\\odot}/$pc$^{3}$]', fontsize=16)\n",
    "ax.set_xlim(cs.min(), cs.max())\n",
    "ax.set_title(\"Dark Matter \\& Baryon Density\", fontsize=16)\n",
    "ax.grid()\n",
    "ax.legend(fontsize=10)\n",
    "fig.savefig('rm_1_z.jpeg', dpi=300)\n",
    "fig.savefig('rm_1_z.pdf', dpi=300)\n",
    "plt.show()"
   ]
  },
  {
   "attachments": {},
   "cell_type": "markdown",
   "metadata": {},
   "source": [
    "# $N$"
   ]
  },
  {
   "cell_type": "code",
   "execution_count": 8,
   "metadata": {},
   "outputs": [],
   "source": [
    "tipe = \"n\"\n",
    "zfiles = glob(join(root_data_dir, 'MCMC', 'dm_mock', 'mock', tipe, 'z*.hdf5'))\n",
    "zfiles.sort()\n",
    "wfiles = glob(join(root_data_dir, 'MCMC', 'dm_mock', 'mock', tipe, 'w*.hdf5'))\n",
    "wfiles.sort()"
   ]
  },
  {
   "cell_type": "code",
   "execution_count": 9,
   "metadata": {},
   "outputs": [
    {
     "data": {
      "text/plain": [
       "['/home2/s20321005/Thesis-Project/Data/MCMC/dm_mock/data/n/chain-2-0.npy',\n",
       " '/home2/s20321005/Thesis-Project/Data/MCMC/dm_mock/data/n/chain-2-1.npy',\n",
       " '/home2/s20321005/Thesis-Project/Data/MCMC/dm_mock/data/n/chain-2-2.npy',\n",
       " '/home2/s20321005/Thesis-Project/Data/MCMC/dm_mock/data/n/chain-2-3.npy',\n",
       " '/home2/s20321005/Thesis-Project/Data/MCMC/dm_mock/data/n/chain-2-4.npy',\n",
       " '/home2/s20321005/Thesis-Project/Data/MCMC/dm_mock/data/n/chain-2-5.npy']"
      ]
     },
     "execution_count": 9,
     "metadata": {},
     "output_type": "execute_result"
    }
   ],
   "source": [
    "dm_1_files = glob(join(join(root_data_dir, 'MCMC', 'dm_mock', 'data', tipe, \"chain-2-*\")))\n",
    "dm_1_files.sort()\n",
    "dm_1_files"
   ]
  },
  {
   "cell_type": "code",
   "execution_count": 13,
   "metadata": {},
   "outputs": [
    {
     "name": "stderr",
     "output_type": "stream",
     "text": [
      "  0%|          | 0/6 [00:00<?, ?it/s]"
     ]
    },
    {
     "name": "stdout",
     "output_type": "stream",
     "text": [
      "fitting...\n",
      "calculating HDI...\n"
     ]
    },
    {
     "name": "stderr",
     "output_type": "stream",
     "text": [
      " 17%|█▋        | 1/6 [00:31<02:37, 31.55s/it]"
     ]
    },
    {
     "name": "stdout",
     "output_type": "stream",
     "text": [
      "fitting...\n",
      "calculating HDI...\n"
     ]
    },
    {
     "name": "stderr",
     "output_type": "stream",
     "text": [
      " 33%|███▎      | 2/6 [00:47<01:30, 22.60s/it]"
     ]
    },
    {
     "name": "stdout",
     "output_type": "stream",
     "text": [
      "fitting...\n",
      "calculating HDI...\n"
     ]
    },
    {
     "name": "stderr",
     "output_type": "stream",
     "text": [
      " 50%|█████     | 3/6 [01:10<01:08, 22.78s/it]"
     ]
    },
    {
     "name": "stdout",
     "output_type": "stream",
     "text": [
      "fitting...\n",
      "calculating HDI...\n"
     ]
    },
    {
     "name": "stderr",
     "output_type": "stream",
     "text": [
      " 67%|██████▋   | 4/6 [01:32<00:44, 22.34s/it]"
     ]
    },
    {
     "name": "stdout",
     "output_type": "stream",
     "text": [
      "fitting...\n",
      "calculating HDI...\n"
     ]
    },
    {
     "name": "stderr",
     "output_type": "stream",
     "text": [
      " 83%|████████▎ | 5/6 [02:07<00:27, 27.05s/it]"
     ]
    },
    {
     "name": "stdout",
     "output_type": "stream",
     "text": [
      "fitting...\n",
      "calculating HDI...\n"
     ]
    },
    {
     "name": "stderr",
     "output_type": "stream",
     "text": [
      "100%|██████████| 6/6 [02:23<00:00, 23.99s/it]\n"
     ]
    }
   ],
   "source": [
    "from tqdm import tqdm\n",
    "from scipy.stats import skewnorm\n",
    "\n",
    "rhoDM_v_n = []\n",
    "rhoDM_fit_n = []\n",
    "rhob_v_n = []\n",
    "rhob_fit_n = []\n",
    "\n",
    "for index in tqdm(range(len(dm_1_files))):\n",
    "    df_dm = np.load(dm_1_files[index])\n",
    "    rhob = df_dm[:, :, :12]\n",
    "    rhob = rhob.reshape(-1, 12)\n",
    "    rhob = rhob.sum(axis=1)/1E-2\n",
    "    rhoDM = df_dm[:, :, 24].reshape(-1)/1E-2\n",
    "    print(\"fitting...\")\n",
    "    rhoDM_f = skewnorm.fit(rhoDM)\n",
    "    rhob_f = skewnorm.fit(rhob)\n",
    "    rhoDM_fit_n.append(rhoDM_f)\n",
    "    rhob_fit_n.append(rhob_f)\n",
    "\n",
    "    print(\"calculating HDI...\")\n",
    "    rhoDM_low68, rhoDM_high68 = hdi(lambda x: skewnorm.pdf(x, *rhoDM_f), perc=0.68, res=1E3, min=-5, max=14)\n",
    "    rhoDM_low90, rhoDM_high90 = hdi(lambda x: skewnorm.pdf(x, *rhoDM_f), perc=0.90, res=1E3, min=-5, max=14)\n",
    "    rhoDM_low95, rhoDM_high95 = hdi(lambda x: skewnorm.pdf(x, *rhoDM_f), perc=0.95, res=1E3, min=-5, max=14)\n",
    "    rhoDM_mode = find_max(lambda x: skewnorm.pdf(x, *rhoDM_f), x0=0.0)[0]\n",
    "    rhoDM_v_n.append([rhoDM_mode, rhoDM_low68, rhoDM_high68, rhoDM_low90, rhoDM_high90, rhoDM_low95, rhoDM_high95])\n",
    "\n",
    "    rhob_low68, rhob_high68 = hdi(lambda x: skewnorm.pdf(x, *rhob_f), perc=0.68, res=1E3, min=-5, max=14)\n",
    "    rhob_low90, rhob_high90 = hdi(lambda x: skewnorm.pdf(x, *rhob_f), perc=0.90, res=1E3, min=-5, max=14)\n",
    "    rhob_low95, rhob_high95 = hdi(lambda x: skewnorm.pdf(x, *rhob_f), perc=0.95, res=1E3, min=-5, max=14)\n",
    "    rhob_mode = find_max(lambda x: skewnorm.pdf(x, *rhob_f), x0=0.0)[0]\n",
    "    rhob_v_n.append([rhob_mode, rhob_low68, rhob_high68, rhob_low90, rhob_high90, rhob_low95, rhob_high95])"
   ]
  },
  {
   "cell_type": "code",
   "execution_count": 18,
   "metadata": {},
   "outputs": [
    {
     "data": {
      "image/png": "[encoded data removed]",
      "text/plain": [
       "<Figure size 576x432 with 1 Axes>"
      ]
     },
     "metadata": {
      "needs_background": "light"
     },
     "output_type": "display_data"
    }
   ],
   "source": [
    "c = np.arange(500, 3001, 500)\n",
    "\n",
    "rhoDM_v_n = np.array(rhoDM_v_n)\n",
    "rhoDM_mode = rhoDM_v_n[:,0]\n",
    "rhoDM_low68 = rhoDM_v_n[:,1]\n",
    "rhoDM_high68 = rhoDM_v_n[:,2]\n",
    "rhoDM_err_low68 = rhoDM_mode-rhoDM_low68\n",
    "rhoDM_err_high68 = rhoDM_high68-rhoDM_mode\n",
    "rhoDM_low90 = rhoDM_v_n[:,3]\n",
    "rhoDM_high90 = rhoDM_v_n[:,4]\n",
    "rhoDM_err_low90 = rhoDM_mode-rhoDM_low90\n",
    "rhoDM_err_high90 = rhoDM_high90-rhoDM_mode\n",
    "rhoDM_low95 = rhoDM_v_n[:,5]\n",
    "rhoDM_high95 = rhoDM_v_n[:,6]\n",
    "rhoDM_err_low95 = rhoDM_mode-rhoDM_low95\n",
    "rhoDM_err_high95 = rhoDM_high95-rhoDM_mode\n",
    "\n",
    "rhob_v_n = np.array(rhob_v_n)\n",
    "rhob_mode = rhob_v_n[:,0]\n",
    "rhob_low68 = rhob_v_n[:,1]\n",
    "rhob_high68 = rhob_v_n[:,2]\n",
    "rhob_err_low68 = rhob_mode-rhob_low68\n",
    "rhob_err_high68 = rhob_high68-rhob_mode\n",
    "rhob_low90 = rhob_v_n[:,3]\n",
    "rhob_high90 = rhob_v_n[:,4]\n",
    "rhob_err_low90 = rhob_mode-rhob_low90\n",
    "rhob_err_high90 = rhob_high90-rhob_mode\n",
    "rhob_low95 = rhob_v_n[:,5]\n",
    "rhob_high95 = rhob_v_n[:,6]\n",
    "rhob_err_low95 = rhob_mode-rhob_low95\n",
    "rhob_err_high95 = rhob_high95-rhob_mode\n",
    "\n",
    "# plot vertical line for each rho with respect to their c\n",
    "fig, ax = plt.subplots(figsize=(8, 6))\n",
    "ax.errorbar(c, rhoDM_mode, yerr=[rhoDM_err_low95, rhoDM_err_high95], fmt='o', color='blue', capsize=3, alpha=0.5, elinewidth=3, markeredgewidth=1)\n",
    "ax.errorbar(c, rhoDM_mode, yerr=[rhoDM_err_low90, rhoDM_err_high90], fmt='o', color='blue', capsize=3, alpha=0.5, elinewidth=3, markeredgewidth=1)\n",
    "ax.errorbar(c, rhoDM_mode, yerr=[rhoDM_err_low68, rhoDM_err_high68], fmt='o', color='blue', capsize=3, label=r'$\\rho_{DM}$', elinewidth=3, markeredgewidth=1)\n",
    "ax.errorbar(c, rhob_mode, yerr=[rhob_err_low95, rhob_err_high95], fmt='o', color='red', capsize=3, elinewidth=3, alpha=0.5, markeredgewidth=1)\n",
    "ax.errorbar(c, rhob_mode, yerr=[rhob_err_low90, rhob_err_high90], fmt='o', color='red', capsize=3, elinewidth=3, alpha=0.5, markeredgewidth=1)\n",
    "ax.errorbar(c, rhob_mode, yerr=[rhob_err_low68, rhob_err_high68], fmt='o', color='red', capsize=3, elinewidth=3, label=r'$\\rho_{b}$', markeredgewidth=1)\n",
    "ax.axhline(y=rhob0_mode, color='black', linestyle='--')\n",
    "cs = np.linspace(200, 3300, 100)\n",
    "ax.fill_between(cs, rhob0_low68, rhob0_high68, color='black', alpha=0.1)\n",
    "ax.fill_between(cs, rhob0_low90, rhob0_high90, color='black', alpha=0.1)\n",
    "ax.fill_between(cs, rhob0_low95, rhob0_high95, color='black', alpha=0.1, label=r'$\\rho_{b0}$')\n",
    "# ax.axhline(y=rhoDM_com_mode, color='black', linestyle='--')\n",
    "# ax.fill_between(cs, rhoDM_com_low68, rhoDM_com_high68, color='black', alpha=0.1)\n",
    "# ax.fill_between(cs, rhoDM_com_low90, rhoDM_com_high90, color='black', alpha=0.1)\n",
    "# ax.fill_between(cs, rhoDM_com_low95, rhoDM_com_high95, color='black', alpha=0.2, label=r'$\\rho_{\\textup{comb,DM}}$')\n",
    "ax.axhline(y=1.6, color='black', linestyle='--')\n",
    "ax.set_xlabel(r'$N$', fontsize=16)\n",
    "ax.set_ylabel(r'$\\rho\\times 10^{-2}$ [$M_{\\odot}/$pc$^{3}$]', fontsize=16)\n",
    "ax.set_xlim(200, 3300)\n",
    "# ax.set_ylim(-5.0, 14.0)\n",
    "ax.set_title(\"Dark Matter \\& Baryon Density\", fontsize=16)\n",
    "ax.grid()\n",
    "ax.legend(fontsize=10)\n",
    "plt.tight_layout()\n",
    "plt.savefig('rhoDM_n.pdf', dpi=200)\n",
    "plt.show()"
   ]
  },
  {
   "cell_type": "code",
   "execution_count": 20,
   "metadata": {},
   "outputs": [
    {
     "name": "stdout",
     "output_type": "stream",
     "text": [
      "500 & 4.98 & [2.97, 7.06] & [1.68, 8.45] & [1.07, 9.13] \\\\\n",
      "1000 & 1.13 & [0.25, 2.04] & [-0.30, 2.65] & [-0.59, 2.93] \\\\\n",
      "1500 & 1.12 & [0.21, 2.04] & [-0.36, 2.65] & [-0.64, 2.93] \\\\\n",
      "2000 & 1.79 & [0.97, 2.63] & [0.44, 3.18] & [0.21, 3.46] \\\\\n",
      "2500 & 1.27 & [0.52, 2.08] & [0.02, 2.61] & [-0.23, 2.85] \\\\\n",
      "3000 & 2.36 & [1.60, 3.12] & [1.12, 3.63] & [0.90, 3.88] \\\\\n"
     ]
    }
   ],
   "source": [
    "for i, n in enumerate([500, 1000, 1500, 2000, 2500, 3000]):\n",
    "    print(f\"{n} & {rhoDM_mode[i]:.2f} & [{rhoDM_low68[i]:.2f}, {rhoDM_high68[i]:.2f}] & [{rhoDM_low90[i]:.2f}, {rhoDM_high90[i]:.2f}] & [{rhoDM_low95[i]:.2f}, {rhoDM_high95[i]:.2f}] \\\\\\\\\")"
   ]
  }
 ],
 "metadata": {
  "kernelspec": {
   "display_name": "vaex",
   "language": "python",
   "name": "python3"
  },
  "language_info": {
   "codemirror_mode": {
    "name": "ipython",
    "version": 3
   },
   "file_extension": ".py",
   "mimetype": "text/x-python",
   "name": "python",
   "nbconvert_exporter": "python",
   "pygments_lexer": "ipython3",
   "version": "3.8.10"
  },
  "orig_nbformat": 4
 },
 "nbformat": 4,
 "nbformat_minor": 2
}
