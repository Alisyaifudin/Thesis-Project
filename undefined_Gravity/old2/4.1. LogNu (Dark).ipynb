{
 "cells": [
  {
   "cell_type": "code",
   "execution_count": 1,
   "metadata": {},
   "outputs": [],
   "source": [
    "import vaex\n",
    "import numpy as np\n",
    "from matplotlib import pyplot as plt\n",
    "from os.path import join, abspath\n",
    "import sys\n",
    "from scipy.integrate import odeint\n",
    "from scipy.interpolate import interp1d\n",
    "from os import pardir"
   ]
  },
  {
   "cell_type": "code",
   "execution_count": 18,
   "metadata": {},
   "outputs": [
    {
     "data": {
      "text/plain": [
       "'/home2/s20321005/Thesis-Project'"
      ]
     },
     "execution_count": 18,
     "metadata": {},
     "output_type": "execute_result"
    }
   ],
   "source": [
    "curr_dir = abspath('')\n",
    "root_dir = abspath(join(curr_dir, pardir, pardir))\n",
    "root_dir"
   ]
  },
  {
   "cell_type": "code",
   "execution_count": 19,
   "metadata": {},
   "outputs": [
    {
     "data": {
      "text/plain": [
       "['/home2/s20321005/Thesis-Project/undefined_Gravity/old2',\n",
       " '/home2/s20321005/.conda/envs/vaex/lib/python38.zip',\n",
       " '/home2/s20321005/.conda/envs/vaex/lib/python3.8',\n",
       " '/home2/s20321005/.conda/envs/vaex/lib/python3.8/lib-dynload',\n",
       " '',\n",
       " '/home2/s20321005/.local/lib/python3.8/site-packages',\n",
       " '/home2/s20321005/.conda/envs/vaex/lib/python3.8/site-packages',\n",
       " '/home2/s20321005/Thesis-Project/undefined_Gravity',\n",
       " '/home2/s20321005/Thesis-Project',\n",
       " '/home2/s20321005/Thesis-Project']"
      ]
     },
     "execution_count": 19,
     "metadata": {},
     "output_type": "execute_result"
    }
   ],
   "source": [
    "if root_dir not in sys.path:\n",
    "    sys.path.append(root_dir)\n",
    "sys.path"
   ]
  },
  {
   "cell_type": "code",
   "execution_count": 20,
   "metadata": {},
   "outputs": [],
   "source": [
    "from utils import safe_mkdir"
   ]
  },
  {
   "cell_type": "code",
   "execution_count": 21,
   "metadata": {},
   "outputs": [
    {
     "data": {
      "text/plain": [
       "'/home2/s20321005/Thesis-Project/Data'"
      ]
     },
     "execution_count": 21,
     "metadata": {},
     "output_type": "execute_result"
    }
   ],
   "source": [
    "root_data_dir = abspath(join(root_dir, \"Data\"))\n",
    "root_data_dir "
   ]
  },
  {
   "cell_type": "markdown",
   "metadata": {},
   "source": [
    "## Math\n",
    "\n",
    "from Poisson eq.\n",
    "\\begin{aligned}\n",
    "  \\nabla^2\\Phi(z, r, \\phi) = \\frac{\\partial^2 \\Phi}{\\partial z^2}+\\frac{1}{r^2}\\frac{\\partial \\Phi}{\\partial \\phi^2} + \\frac{1}{r}\\frac{\\partial}{\\partial r}\\left(r\\frac{\\partial \\Phi}{\\partial r}\\right) = 4\\pi G\\rho\n",
    "\\end{aligned}"
   ]
  },
  {
   "cell_type": "markdown",
   "metadata": {},
   "source": [
    "Assume axisymmetric potential, and can be decoupled\n",
    "\\begin{aligned}\n",
    "  \\Phi(z, r, \\phi) =  \\Phi(z, r) =  \\Phi_z(z) + \\Phi_r(r)\n",
    "\\end{aligned}"
   ]
  },
  {
   "cell_type": "markdown",
   "metadata": {},
   "source": [
    "Therefore\n",
    "\\begin{aligned}\n",
    "  \\nabla^2\\Phi(z, r, \\phi)  = \\frac{\\partial^2 \\Phi_z}{\\partial z^2}+ \\frac{1}{r}\\frac{\\partial}{\\partial r}\\left(r\\frac{\\partial \\Phi}{\\partial r}\\right) = 4\\pi G\\rho\n",
    "\\end{aligned}"
   ]
  },
  {
   "cell_type": "markdown",
   "metadata": {},
   "source": [
    "where (Buch et. al. [2019](https://iopscience.iop.org/article/10.1088/1475-7516/2019/04/026))\n",
    "\\begin{aligned}\n",
    "  \\mathcal{R} &= \\frac{1}{(4\\pi G)} \\frac{1}{r}\\frac{\\partial}{\\partial r}\\left(r\\frac{\\partial \\Phi}{\\partial r}\\right) \\\\\n",
    "    &= (3.4\\pm 0.6)\\times10^{-3} M_\\odot /\\text{pc}^3\n",
    "\\end{aligned}"
   ]
  },
  {
   "cell_type": "markdown",
   "metadata": {},
   "source": [
    "and $\\rho$ is divided into three parts\n",
    "* Baryon, $\\rho_i$\n",
    "* Thin Dark Disk, $\\rho_\\text{DD}$\n",
    "* Constant Local Halo Dark Matter $\\rho_\\text{DM}$\n"
   ]
  },
  {
   "cell_type": "markdown",
   "metadata": {},
   "source": [
    "Using Bahcall Model for Baryon, for each components\n",
    "\\begin{aligned}\n",
    "  \\rho_i = \\rho_{i,0}\\exp{\\left(-\\frac{\\Phi(z)}{\\sigma_{z,i}}\\right)}\n",
    "\\end{aligned}\n",
    "And total baryons\n",
    "\\begin{aligned}\n",
    "  \\rho_b = \\sum_i^N\\rho_i\n",
    "\\end{aligned}"
   ]
  },
  {
   "cell_type": "markdown",
   "metadata": {},
   "source": [
    "For thin DD\n",
    "\\begin{aligned}\n",
    "  \\rho_\\text{DD}(z) = \\frac{\\Sigma_\\text{DD}}{4h_\\text{DD}}\\text{sech}^2\\left(\\frac{z}{2h_\\text{DD}}\\right)\n",
    "\\end{aligned}"
   ]
  },
  {
   "cell_type": "markdown",
   "metadata": {},
   "source": [
    "So,\n",
    "\\begin{aligned}\n",
    "  \\frac{\\partial^2 \\Phi_z}{\\partial z^2} &= 4\\pi G\\rho_\\text{eff} \\\\\n",
    "  \\frac{1}{4\\pi G}\\frac{\\partial^2 \\Phi_z}{\\partial z^2} &= \\sum_i^N\\left[\\rho_{i,0}\\exp{\\left(-\\frac{\\Phi(z)}{\\sigma_{z,i}}\\right)}\\right] + \\frac{\\Sigma_\\text{DD}}{4h_\\text{DD}}\\text{sech}^2\\left(\\frac{z}{2h_\\text{DD}}\\right) + \\rho_\\text{DM} - \\mathcal{R}\n",
    "\\end{aligned}"
   ]
  },
  {
   "cell_type": "markdown",
   "metadata": {},
   "source": [
    "# 1 Component"
   ]
  },
  {
   "cell_type": "code",
   "execution_count": 3,
   "metadata": {},
   "outputs": [],
   "source": [
    "def sech(x):\n",
    "    return 1/np.cosh(x)\n",
    "\n",
    "def rhoDD(z, sigmaDD, hDD):\n",
    "    return sigmaDD/(4*hDD)*sech(z/(2*hDD))**2\n",
    "\n",
    "def rho_tot1(z, phi, rho1, sigmaz1, rhoDM, sigmaDD, hDD, R=3.4E-3):\n",
    "    return rho1*np.exp(-phi/sigmaz1**2) + rhoDM + rhoDD(z, sigmaDD, hDD) - R\n",
    "\n",
    "def f1(u, z, rho1, sigmaz1, rhoDM, sigmaDD, hDD, R=3.4E-3):\n",
    "    G = 4.30091E-3 # pc/M_sun (km/s)^2\n",
    "    return (u[1], 4*np.pi*G*rho_tot1(z, u[0], rho1, sigmaz1, rhoDM, sigmaDD, hDD, R))"
   ]
  },
  {
   "cell_type": "code",
   "execution_count": 4,
   "metadata": {},
   "outputs": [],
   "source": [
    "# Test\n",
    "phi0 = 0 # (km/s)^2\n",
    "Kz0 = 0 # pc (km/s)^2\n",
    "\n",
    "y0 = [Kz0, phi0]\n",
    "zs = np.linspace(0, 1000, 1000)\n",
    "\n",
    "rho1 = 0.0104 # Msun/pc^3\n",
    "sigmaz1 = 3.7 # km/s\n",
    "rhoDM = 0.016 # Msun/pc^3\n",
    "sigmaDD = 7 # Msun/pc^2\n",
    "hDD = 67.435 # pc\n",
    "R = 3.4E-3 # Msun/pc^3\n",
    "us = odeint(f1, y0, zs, args=(rho1, sigmaz1, rhoDM, sigmaDD, hDD, R))"
   ]
  },
  {
   "cell_type": "code",
   "execution_count": 5,
   "metadata": {},
   "outputs": [
    {
     "data": {
      "image/png": "[encoded data removed]",
      "text/plain": [
       "<Figure size 432x288 with 1 Axes>"
      ]
     },
     "metadata": {
      "needs_background": "light"
     },
     "output_type": "display_data"
    }
   ],
   "source": [
    "phi = us[:, 0]\n",
    "plt.plot(zs, phi)\n",
    "plt.xlabel(\"z (pc)\")\n",
    "plt.ylabel(\"phi (km/s)^2\")\n",
    "plt.xlim(0, zs[-1])\n",
    "plt.ylim(0, phi[-1]*1.2)\n",
    "plt.grid()"
   ]
  },
  {
   "cell_type": "code",
   "execution_count": 6,
   "metadata": {},
   "outputs": [
    {
     "data": {
      "text/plain": [
       "(0.0, 1.1085274249713257)"
      ]
     },
     "execution_count": 6,
     "metadata": {},
     "output_type": "execute_result"
    },
    {
     "data": {
      "image/png": "[encoded data removed]",
      "text/plain": [
       "<Figure size 432x288 with 1 Axes>"
      ]
     },
     "metadata": {
      "needs_background": "light"
     },
     "output_type": "display_data"
    }
   ],
   "source": [
    "Kz = us[:, 1]\n",
    "plt.plot(zs, Kz)\n",
    "plt.xlabel(\"z (pc)\")\n",
    "plt.ylabel(\"Kz [pc (km/s)^2]\")\n",
    "plt.grid()\n",
    "plt.xlim(0, zs[-1])\n",
    "plt.ylim(0, Kz[-1]*1.2)"
   ]
  },
  {
   "cell_type": "markdown",
   "metadata": {},
   "source": [
    "# Multi-components"
   ]
  },
  {
   "cell_type": "code",
   "execution_count": 7,
   "metadata": {},
   "outputs": [],
   "source": [
    "def sech(x):\n",
    "    return 1/np.cosh(x)\n",
    "\n",
    "def rhoDD(z, sigmaDD, hDD):\n",
    "    return sigmaDD/(4*hDD)*sech(z/(2*hDD))**2\n",
    "\n",
    "def frho(rho0, phi, sigmaz ):\n",
    "    return rho0*np.exp(-phi/sigmaz**2)\n",
    "\n",
    "def rho_tot(z, phi, rhos, sigmaz, rhoDM, sigmaDD, hDD, R=3.4E-3):\n",
    "    rho = np.array(list(map(lambda par: frho(par[0], phi, par[1]), zip(rhos, sigmaz))))\n",
    "    return rho.sum() + rhoDM + rhoDD(z, sigmaDD, hDD) - R\n",
    "\n",
    "def f(u, z, rhos, sigmaz, rhoDM, sigmaDD, hDD, R=3.4E-3):\n",
    "    G = 4.30091E-3 # pc/M_sun (km/s)^2\n",
    "    return (u[1], 4*np.pi*G*rho_tot(z, u[0], rhos, sigmaz, rhoDM, sigmaDD, hDD, R))"
   ]
  },
  {
   "cell_type": "code",
   "execution_count": 8,
   "metadata": {},
   "outputs": [],
   "source": [
    "phi0 = 0 # (km/s)^2\n",
    "Kz0 = 0 # pc (km/s)^2\n",
    "\n",
    "y0 = [Kz0, phi0]\n",
    "zs = np.linspace(0, 200, 1000)\n",
    "\n",
    "rhos = np.array([0.0104, 0.0277, 0.0073]) # Msun/pc^3\n",
    "sigmaz = np.array([3.7, 7.1, 22.1]) # km/s\n",
    "rhoDM = 0 #0.016 # Msun/pc^3\n",
    "sigmaDD = 10 # Msun/pc^2\n",
    "hDD = 20 # pc\n",
    "R = 0 # 3.4E-3 # Msun/pc^3\n",
    "us = odeint(f, y0, zs, args=(rhos, sigmaz, rhoDM, sigmaDD, hDD, R))"
   ]
  },
  {
   "cell_type": "code",
   "execution_count": 9,
   "metadata": {},
   "outputs": [
    {
     "data": {
      "image/png": "[encoded data removed]",
      "text/plain": [
       "<Figure size 432x288 with 1 Axes>"
      ]
     },
     "metadata": {
      "needs_background": "light"
     },
     "output_type": "display_data"
    }
   ],
   "source": [
    "phi = us[:, 0]\n",
    "plt.plot(zs, phi)\n",
    "plt.xlabel(\"z (pc)\")\n",
    "plt.ylabel(\"phi (km/s)^2\")\n",
    "plt.xlim(0, zs[-1])\n",
    "plt.ylim(0, phi[-1]*1.2)\n",
    "plt.grid()"
   ]
  },
  {
   "cell_type": "code",
   "execution_count": 10,
   "metadata": {},
   "outputs": [
    {
     "data": {
      "text/plain": [
       "(0.0, 0.659031221794448)"
      ]
     },
     "execution_count": 10,
     "metadata": {},
     "output_type": "execute_result"
    },
    {
     "data": {
      "image/png": "[encoded data removed]",
      "text/plain": [
       "<Figure size 432x288 with 1 Axes>"
      ]
     },
     "metadata": {
      "needs_background": "light"
     },
     "output_type": "display_data"
    }
   ],
   "source": [
    "Kz = us[:, 1]\n",
    "plt.plot(zs, Kz)\n",
    "plt.xlabel(\"z (pc)\")\n",
    "plt.ylabel(\"Kz [pc (km/s)^2]\")\n",
    "plt.grid()\n",
    "plt.xlim(0, zs[-1])\n",
    "plt.ylim(0, Kz[-1]*1.2)"
   ]
  },
  {
   "attachments": {},
   "cell_type": "markdown",
   "metadata": {},
   "source": [
    "$\\Phi(z)$ for all $z$ and if the middle planet is at $z_{0}$"
   ]
  },
  {
   "cell_type": "code",
   "execution_count": 14,
   "metadata": {},
   "outputs": [
    {
     "data": {
      "image/png": "[encoded data removed]",
      "text/plain": [
       "<Figure size 432x288 with 1 Axes>"
      ]
     },
     "metadata": {
      "needs_background": "light"
     },
     "output_type": "display_data"
    }
   ],
   "source": [
    "phi0 = 0 # (km/s)^2\n",
    "Kz0 = 0 # pc (km/s)^2\n",
    "\n",
    "y0 = [Kz0, phi0]\n",
    "zmax = 200\n",
    "\n",
    "rhos = np.array([0.0104, 0.0277, 0.0073]) # Msun/pc^3\n",
    "sigmaz = np.array([3.7, 7.1, 22.1]) # km/s\n",
    "rhoDM = 0 #0.016 # Msun/pc^3\n",
    "sigmaDD = 10 # Msun/pc^2\n",
    "hDD = 20 # pc\n",
    "R = 0 # 3.4E-3 # Msun/pc^3\n",
    "z0 = 50\n",
    "\n",
    "zs = np.linspace(0, zmax+np.abs(z0), 1000)\n",
    "us = odeint(f, y0, zs, args=(rhos, sigmaz, rhoDM, sigmaDD, hDD, R))\n",
    "\n",
    "phi = us[:, 0]\n",
    "\n",
    "phi_interp = interp1d(zs, phi, kind='cubic')\n",
    "phi_z = lambda z, z0: phi_interp(np.abs(z-z0))\n",
    "\n",
    "zs = np.linspace(-200, 200, 1000)\n",
    "plt.plot(zs, phi_z(zs, z0))\n",
    "plt.xlabel(\"z (pc)\")\n",
    "plt.ylabel(\"phi (km/s)^2\")\n",
    "plt.grid()\n",
    "plt.show()"
   ]
  },
  {
   "cell_type": "markdown",
   "metadata": {},
   "source": [
    "# Number density"
   ]
  },
  {
   "cell_type": "markdown",
   "metadata": {},
   "source": [
    "Eq (3.4) from [Schutz et. al (2019)](https://journals.aps.org/prl/abstract/10.1103/PhysRevLett.121.081101)\n",
    "\n",
    "\\begin{aligned}\n",
    "  \\nu(z) &= \\nu_0 \\int_{\\sqrt{2\\Phi(z)}}^\\infty \\frac{2f_{0}(|w|)w \\text{ d}w}{\\sqrt{w^2-2\\Phi(z)}}\n",
    "\\end{aligned}\n",
    "and $f_{0}(|w|)$ is modelled as gaussian with zero mean and some std $\\sigma_w$\n",
    "\\begin{aligned}\n",
    "  f_{0}(|w|) \\approx \\mathcal{N}(|w|; 0, \\sigma_w)\n",
    "\\end{aligned}"
   ]
  },
  {
   "cell_type": "markdown",
   "metadata": {},
   "source": [
    "Integrated, becomes\n",
    "\\begin{aligned}\n",
    "  \\nu(z) &= \\nu_0\\exp{\\left(-\\frac{\\Phi(z)}{\\sigma^2_w}\\right)}\n",
    "\\end{aligned}"
   ]
  },
  {
   "cell_type": "code",
   "execution_count": 16,
   "metadata": {},
   "outputs": [
    {
     "data": {
      "image/png": "[encoded data removed]",
      "text/plain": [
       "<Figure size 432x288 with 1 Axes>"
      ]
     },
     "metadata": {
      "needs_background": "light"
     },
     "output_type": "display_data"
    }
   ],
   "source": [
    "nu0 = 1\n",
    "sigma_w = 5\n",
    "nu = nu0*np.exp(-phi_z(zs, z0)/sigma_w**2)\n",
    "\n",
    "plt.plot(zs, nu)\n",
    "plt.xlabel(\"z (pc)\")\n",
    "plt.ylabel(\"nu\")\n",
    "plt.yscale(\"log\")\n",
    "plt.grid()\n",
    "plt.show()"
   ]
  },
  {
   "attachments": {},
   "cell_type": "markdown",
   "metadata": {},
   "source": [
    "What if $f_0$ is a mixture of gaussians?\n",
    "\\begin{aligned}\n",
    "  f_{0}(|w|) \\approx \\sum_i^Na_i\\mathcal{N}(|w|; \\mu_i, \\sigma_i)\n",
    "\\end{aligned}"
   ]
  },
  {
   "attachments": {},
   "cell_type": "markdown",
   "metadata": {},
   "source": [
    "Where\n",
    "\\begin{align*}\n",
    " \\int_{-\\infty}^\\infty f_{0}(|w|) \\text{ d}w &= 1 \\\\\n",
    " \\int_{-\\infty}^\\infty \\sum_i^Na_i\\mathcal{N}(|w|; \\mu_i, \\sigma_i) &=  1\\\\\n",
    " \\sum_i^N a_i\\int_{-\\infty}^\\infty \\mathcal{N}(|w|; \\mu_i, \\sigma_i) &=  1\\\\\n",
    " \\sum_i^N a_i &=  1\\\\\n",
    "\\end{align*}"
   ]
  },
  {
   "attachments": {},
   "cell_type": "markdown",
   "metadata": {},
   "source": [
    "Then, $\\nu(z)$ becomes\n",
    "\\begin{aligned}\n",
    "  \\nu(z) &= \\nu_0\\sum_i^N\\left[a_i\\exp{\\left(-\\frac{\\Phi(z)}{\\sigma^2_{w,i}}\\right)}\\right]\n",
    "\\end{aligned}"
   ]
  },
  {
   "cell_type": "code",
   "execution_count": 52,
   "metadata": {},
   "outputs": [
    {
     "data": {
      "image/png": "[encoded data removed]",
      "text/plain": [
       "<Figure size 432x288 with 1 Axes>"
      ]
     },
     "metadata": {
      "needs_background": "light"
     },
     "output_type": "display_data"
    }
   ],
   "source": [
    "nu0 = 1\n",
    "sigma_w = np.vstack(np.array([10, 5, 2]))\n",
    "a_raw = np.vstack(np.array([-0.1, 2, 0.3]))\n",
    "a = a_raw/np.sum(a_raw)\n",
    "\n",
    "nu = nu0*np.sum(a*np.exp(-phi_z(zs, z0)/sigma_w**2), axis=0)\n",
    "\n",
    "\n",
    "for ai, sigma_wi in zip(a, sigma_w):\n",
    "    plt.plot(zs, nu0*ai*np.exp(-phi_z(zs, z0)/sigma_wi**2))\n",
    "plt.xlabel(\"z (pc)\")\n",
    "plt.ylabel(\"nu\")\n",
    "plt.plot(zs, nu, c=\"r\", lw=2)\n",
    "plt.ylim(1E-2, nu0*1.2)\n",
    "plt.yscale(\"log\")\n",
    "plt.grid()\n",
    "plt.show()"
   ]
  },
  {
   "cell_type": "markdown",
   "metadata": {},
   "source": [
    "# All Components"
   ]
  },
  {
   "cell_type": "markdown",
   "metadata": {},
   "source": [
    "Baryonic components (compiled by [Schutz, K., Lin, T., Safdi, B. R., & Wu, C. L. (2018). Constraining a Thin Dark Matter Disk with G a i a. Physical review letters, 121(8), 081101](https://journals.aps.org/prl/abstract/10.1103/PhysRevLett.121.081101))\n",
    "\n",
    "| Components               | density (Msun/pc^3) | sigma_z (km/s) |\n",
    "| ------------------------ | ------------------- | -------------- |\n",
    "| Molecular gas (H2)       | 0.0104 ± 0.00312    |  3.7 ± 0.2     |\n",
    "| Cold atomic gas (HI(1))  | 0.0277 ± 0.00554    |  7.1 ± 0.5     |\n",
    "| Warm atomic gas (HI(2))  | 0.0073 ± 0.00070    | 22.1 ± 2.4     |\n",
    "| Hot ionized gas (HII)    | 0.0005 ± 0.00003    | 39.0 ± 4.0     |\n",
    "| Giant stars              | 0.0006 ± 0.00006    | 15.5 ± 1.6     |\n",
    "| MV < 3                   | 0.0018 ± 0.00018    |  7.5 ± 2.0     |\n",
    "| 3 < MV < 4               | 0.0018 ± 0.00018    | 12.0 ± 2.4     |\n",
    "| 4 < MV < 5               | 0.0029 ± 0.00029    | 18.0 ± 1.8     |\n",
    "| 5 < MV < 8               | 0.0072 ± 0.00072    | 18.5 ± 1.9     |\n",
    "| MV > 8 (M dwarfs)        | 0.0216 ± 0.00280    | 18.5 ± 4.0     |\n",
    "| White dwarfs             | 0.0056 ± 0.00100    | 20.0 ± 5.0     |\n",
    "| Brown dwarfs             | 0.0015 ± 0.00050    | 20.0 ± 5.0     |\n",
    "\n",
    "let's create this table, and save it\n"
   ]
  },
  {
   "cell_type": "code",
   "execution_count": 14,
   "metadata": {},
   "outputs": [
    {
     "data": {
      "text/html": [
       "<table>\n",
       "<thead>\n",
       "<tr><th>#                             </th><th>components             </th><th>rho   </th><th>e_rho  </th><th>sigma_z  </th><th>e_sigma_z  </th></tr>\n",
       "</thead>\n",
       "<tbody>\n",
       "<tr><td><i style='opacity: 0.6'>0</i> </td><td>Molecular gas (H2)     </td><td>0.0104</td><td>0.00312</td><td>3.7      </td><td>0.2        </td></tr>\n",
       "<tr><td><i style='opacity: 0.6'>1</i> </td><td>Cold atomic gas (HI(1))</td><td>0.0277</td><td>0.00554</td><td>7.1      </td><td>0.5        </td></tr>\n",
       "<tr><td><i style='opacity: 0.6'>2</i> </td><td>Warm atomic gas (HI(2))</td><td>0.0073</td><td>0.0007 </td><td>22.1     </td><td>2.4        </td></tr>\n",
       "<tr><td><i style='opacity: 0.6'>3</i> </td><td>Hot ionized gas (HII)  </td><td>0.0005</td><td>3e-05  </td><td>39.0     </td><td>4.0        </td></tr>\n",
       "<tr><td><i style='opacity: 0.6'>4</i> </td><td>Giant stars            </td><td>0.0006</td><td>6e-05  </td><td>15.5     </td><td>1.6        </td></tr>\n",
       "<tr><td>...                           </td><td>...                    </td><td>...   </td><td>...    </td><td>...      </td><td>...        </td></tr>\n",
       "<tr><td><i style='opacity: 0.6'>7</i> </td><td>4 &lt; MV &lt; 5             </td><td>0.0029</td><td>0.00029</td><td>18.0     </td><td>1.8        </td></tr>\n",
       "<tr><td><i style='opacity: 0.6'>8</i> </td><td>5 &lt; MV &lt; 8             </td><td>0.0072</td><td>0.00072</td><td>18.5     </td><td>1.9        </td></tr>\n",
       "<tr><td><i style='opacity: 0.6'>9</i> </td><td>MV &gt; 8                 </td><td>0.0216</td><td>0.0028 </td><td>18.5     </td><td>4.0        </td></tr>\n",
       "<tr><td><i style='opacity: 0.6'>10</i></td><td>White dwarfs           </td><td>0.0056</td><td>0.001  </td><td>20.0     </td><td>5.0        </td></tr>\n",
       "<tr><td><i style='opacity: 0.6'>11</i></td><td>Brown dwarfs           </td><td>0.0015</td><td>0.0005 </td><td>20.0     </td><td>5.0        </td></tr>\n",
       "</tbody>\n",
       "</table>"
      ],
      "text/plain": [
       "#    components               rho     e_rho    sigma_z    e_sigma_z\n",
       "0    Molecular gas (H2)       0.0104  0.00312  3.7        0.2\n",
       "1    Cold atomic gas (HI(1))  0.0277  0.00554  7.1        0.5\n",
       "2    Warm atomic gas (HI(2))  0.0073  0.0007   22.1       2.4\n",
       "3    Hot ionized gas (HII)    0.0005  3e-05    39.0       4.0\n",
       "4    Giant stars              0.0006  6e-05    15.5       1.6\n",
       "...  ...                      ...     ...      ...        ...\n",
       "7    4 < MV < 5               0.0029  0.00029  18.0       1.8\n",
       "8    5 < MV < 8               0.0072  0.00072  18.5       1.9\n",
       "9    MV > 8                   0.0216  0.0028   18.5       4.0\n",
       "10   White dwarfs             0.0056  0.001    20.0       5.0\n",
       "11   Brown dwarfs             0.0015  0.0005   20.0       5.0"
      ]
     },
     "execution_count": 14,
     "metadata": {},
     "output_type": "execute_result"
    }
   ],
   "source": [
    "# if you already have it, just skip to test with all components\n",
    "\n",
    "table_dict = {\n",
    "  \"components\": [\n",
    "    \"Molecular gas (H2)\", \n",
    "    \"Cold atomic gas (HI(1))\",\n",
    "    \"Warm atomic gas (HI(2))\",\n",
    "    \"Hot ionized gas (HII)\",\n",
    "    \"Giant stars\",\n",
    "    \"MV < 3\",\n",
    "    \"3 < MV < 4\",\n",
    "    \"4 < MV < 5\",\n",
    "    \"5 < MV < 8\",\n",
    "    \"MV > 8\",\n",
    "    \"White dwarfs\",\n",
    "    \"Brown dwarfs\"\n",
    "    ],\n",
    "    \"rho\": [\n",
    "       0.0104,\n",
    "       0.0277,\n",
    "       0.0073,\n",
    "       0.0005,\n",
    "       0.0006,\n",
    "       0.0018,\n",
    "       0.0018,\n",
    "       0.0029,\n",
    "       0.0072,\n",
    "       0.0216,\n",
    "       0.0056,\n",
    "       0.0015\n",
    "    ],\n",
    "    \"e_rho\": [0.00312, 0.00554, 0.00070, 0.00003, 0.00006, 0.00018, 0.00018, 0.00029, 0.00072, 0.00280, 0.00100, 0.00050],\n",
    "    \"sigma_z\": [3.7, 7.1, 22.1, 39.0, 15.5, 7.5, 12.0, 18.0, 18.5, 18.5, 20.0, 20.0],\n",
    "    \"e_sigma_z\": [0.2, 0.5, 2.4, 4.0, 1.6, 2.0, 2.4, 1.8, 1.9, 4.0, 5.0, 5.0]\n",
    "  }\n",
    "\n",
    "df = vaex.from_dict(table_dict)\n",
    "df"
   ]
  },
  {
   "cell_type": "code",
   "execution_count": 58,
   "metadata": {},
   "outputs": [
    {
     "name": "stdout",
     "output_type": "stream",
     "text": [
      "Directory /home2/s20321005/Thesis-Project/Data/Baryon already exist. Good to go!\n"
     ]
    }
   ],
   "source": [
    "name = \"Baryon\"\n",
    "data_dir = join(root_data_dir, name)\n",
    "safe_mkdir(data_dir)"
   ]
  },
  {
   "cell_type": "code",
   "execution_count": 15,
   "metadata": {},
   "outputs": [
    {
     "name": "stdout",
     "output_type": "stream",
     "text": [
      "export(hdf5) [########################################] 100.00% elapsed time  :     0.10s =  0.0m =  0.0h\n",
      " "
     ]
    }
   ],
   "source": [
    "df.export(join(data_dir, \"baryon.hdf5\"), progress=True)"
   ]
  },
  {
   "cell_type": "markdown",
   "metadata": {},
   "source": [
    "# Test run with all components"
   ]
  },
  {
   "cell_type": "code",
   "execution_count": 22,
   "metadata": {},
   "outputs": [],
   "source": [
    "def sech(x):\n",
    "    return 1/np.cosh(x)\n",
    "\n",
    "def rhoDD(z, sigmaDD, hDD):\n",
    "    return sigmaDD/(4*hDD)*sech(z/(2*hDD))**2\n",
    "\n",
    "def frho(rho0, phi, sigmaz ):\n",
    "    return rho0*np.exp(-phi/sigmaz**2)\n",
    "\n",
    "def rho_tot(z, phi, rhos, sigmaz, rhoDM, sigmaDD, hDD, R=3.4E-3):\n",
    "    rho = np.array(list(map(lambda par: frho(par[0], phi, par[1]), zip(rhos, sigmaz))))\n",
    "    return rho.sum() + rhoDM + rhoDD(z, sigmaDD, hDD) - R\n",
    "\n",
    "def f(u, z, rhos, sigmaz, rhoDM, sigmaDD, hDD, R=3.4E-3):\n",
    "    G = 4.30091E-3 # pc/M_sun (km/s)^2\n",
    "    return (u[1], 4*np.pi*G*rho_tot(z, u[0], rhos, sigmaz, rhoDM, sigmaDD, hDD, R))\n",
    "\n",
    "def nu(phi, sigma_w):\n",
    "    return np.exp(-phi/sigma_w**2)"
   ]
  },
  {
   "cell_type": "code",
   "execution_count": 23,
   "metadata": {},
   "outputs": [
    {
     "data": {
      "text/plain": [
       "'/home2/s20321005/Thesis-Project/Data/Baryon'"
      ]
     },
     "execution_count": 23,
     "metadata": {},
     "output_type": "execute_result"
    }
   ],
   "source": [
    "name = \"Baryon\"\n",
    "data_dir = join(root_data_dir, name)\n",
    "data_dir"
   ]
  },
  {
   "cell_type": "code",
   "execution_count": 24,
   "metadata": {},
   "outputs": [
    {
     "data": {
      "text/html": [
       "<table>\n",
       "<thead>\n",
       "<tr><th>#                             </th><th>components             </th><th>rho   </th><th>e_rho  </th><th>sigma_z  </th><th>e_sigma_z  </th></tr>\n",
       "</thead>\n",
       "<tbody>\n",
       "<tr><td><i style='opacity: 0.6'>0</i> </td><td>Molecular gas (H2)     </td><td>0.0104</td><td>0.00312</td><td>3.7      </td><td>0.2        </td></tr>\n",
       "<tr><td><i style='opacity: 0.6'>1</i> </td><td>Cold atomic gas (HI(1))</td><td>0.0277</td><td>0.00554</td><td>7.1      </td><td>0.5        </td></tr>\n",
       "<tr><td><i style='opacity: 0.6'>2</i> </td><td>Warm atomic gas (HI(2))</td><td>0.0073</td><td>0.0007 </td><td>22.1     </td><td>2.4        </td></tr>\n",
       "<tr><td><i style='opacity: 0.6'>3</i> </td><td>Hot ionized gas (HII)  </td><td>0.0005</td><td>3e-05  </td><td>39.0     </td><td>4.0        </td></tr>\n",
       "<tr><td><i style='opacity: 0.6'>4</i> </td><td>Giant stars            </td><td>0.0006</td><td>6e-05  </td><td>15.5     </td><td>1.6        </td></tr>\n",
       "<tr><td>...                           </td><td>...                    </td><td>...   </td><td>...    </td><td>...      </td><td>...        </td></tr>\n",
       "<tr><td><i style='opacity: 0.6'>7</i> </td><td>4 &lt; MV &lt; 5             </td><td>0.0029</td><td>0.00029</td><td>18.0     </td><td>1.8        </td></tr>\n",
       "<tr><td><i style='opacity: 0.6'>8</i> </td><td>5 &lt; MV &lt; 8             </td><td>0.0072</td><td>0.00072</td><td>18.5     </td><td>1.9        </td></tr>\n",
       "<tr><td><i style='opacity: 0.6'>9</i> </td><td>MV &gt; 8                 </td><td>0.0216</td><td>0.0028 </td><td>18.5     </td><td>4.0        </td></tr>\n",
       "<tr><td><i style='opacity: 0.6'>10</i></td><td>White dwarfs           </td><td>0.0056</td><td>0.001  </td><td>20.0     </td><td>5.0        </td></tr>\n",
       "<tr><td><i style='opacity: 0.6'>11</i></td><td>Brown dwarfs           </td><td>0.0015</td><td>0.0005 </td><td>20.0     </td><td>5.0        </td></tr>\n",
       "</tbody>\n",
       "</table>"
      ],
      "text/plain": [
       "#    components               rho     e_rho    sigma_z    e_sigma_z\n",
       "0    Molecular gas (H2)       0.0104  0.00312  3.7        0.2\n",
       "1    Cold atomic gas (HI(1))  0.0277  0.00554  7.1        0.5\n",
       "2    Warm atomic gas (HI(2))  0.0073  0.0007   22.1       2.4\n",
       "3    Hot ionized gas (HII)    0.0005  3e-05    39.0       4.0\n",
       "4    Giant stars              0.0006  6e-05    15.5       1.6\n",
       "...  ...                      ...     ...      ...        ...\n",
       "7    4 < MV < 5               0.0029  0.00029  18.0       1.8\n",
       "8    5 < MV < 8               0.0072  0.00072  18.5       1.9\n",
       "9    MV > 8                   0.0216  0.0028   18.5       4.0\n",
       "10   White dwarfs             0.0056  0.001    20.0       5.0\n",
       "11   Brown dwarfs             0.0015  0.0005   20.0       5.0"
      ]
     },
     "execution_count": 24,
     "metadata": {},
     "output_type": "execute_result"
    }
   ],
   "source": [
    "# load baryons components\n",
    "df_baryon = vaex.open(join(data_dir, \"baryon.hdf5\"))\n",
    "df_baryon"
   ]
  },
  {
   "cell_type": "code",
   "execution_count": 38,
   "metadata": {},
   "outputs": [],
   "source": [
    "rhos = df_baryon[\"rho\"].to_numpy()  # Msun/pc^3\n",
    "sigmaz = df_baryon[\"sigma_z\"].to_numpy() # km/s\n",
    "\n",
    "# test the following dark values\n",
    "rhoDM = 0.016 # Msun/pc^3\n",
    "sigmaDD = 7 # Msun/pc^2\n",
    "hDD = 65 # pc\n",
    "nu0 = 1\n",
    "\n",
    "# initial values\n",
    "phi0 = 0 # (km/s)^2\n",
    "Kz0 = 0 # pc (km/s)^2\n",
    "R = 3.4E-3 \n",
    "z0 = -50 # pc\n",
    "zmax = 900 # pc\n",
    "y0 = [Kz0, phi0]\n",
    "zs = np.linspace(0, zmax+abs(z0), 3000)\n",
    "us = odeint(f, y0, zs, args=(rhos, sigmaz, rhoDM, sigmaDD, hDD, R))"
   ]
  },
  {
   "cell_type": "code",
   "execution_count": 39,
   "metadata": {},
   "outputs": [
    {
     "data": {
      "image/png": "[encoded data removed]",
      "text/plain": [
       "<Figure size 432x288 with 1 Axes>"
      ]
     },
     "metadata": {
      "needs_background": "light"
     },
     "output_type": "display_data"
    }
   ],
   "source": [
    "phi = us[:, 0]\n",
    "plt.plot(zs, phi)\n",
    "plt.xlabel(\"z (pc)\")\n",
    "plt.ylabel(\"phi (km/s)$^2$\")\n",
    "plt.xlim(0, zs[-1])\n",
    "plt.ylim(0, phi[-1]*1.2)\n",
    "plt.grid()"
   ]
  },
  {
   "cell_type": "code",
   "execution_count": 40,
   "metadata": {},
   "outputs": [
    {
     "data": {
      "text/plain": [
       "(0.0, 2.4208072939605514)"
      ]
     },
     "execution_count": 40,
     "metadata": {},
     "output_type": "execute_result"
    },
    {
     "data": {
      "image/png": "[encoded data removed]",
      "text/plain": [
       "<Figure size 432x288 with 1 Axes>"
      ]
     },
     "metadata": {
      "needs_background": "light"
     },
     "output_type": "display_data"
    }
   ],
   "source": [
    "Kz = us[:, 1]\n",
    "plt.plot(zs, Kz)\n",
    "plt.xlabel(\"z (pc)\")\n",
    "plt.ylabel(\"Kz [pc (km/s)$^2$]\")\n",
    "plt.grid()\n",
    "plt.xlim(0, zs[-1])\n",
    "plt.ylim(0, Kz[-1]*1.2)"
   ]
  },
  {
   "cell_type": "code",
   "execution_count": 41,
   "metadata": {},
   "outputs": [
    {
     "data": {
      "image/png": "[encoded data removed]",
      "text/plain": [
       "<Figure size 432x288 with 1 Axes>"
      ]
     },
     "metadata": {
      "needs_background": "light"
     },
     "output_type": "display_data"
    }
   ],
   "source": [
    "phi = us[:, 0]\n",
    "\n",
    "phi_interp = interp1d(zs, phi, kind='cubic')\n",
    "phi_z = lambda z, z0: phi_interp(np.abs(z-z0))\n",
    "\n",
    "zz = np.linspace(-200, 200, 1000)\n",
    "plt.plot(zz, phi_z(zz, z0))\n",
    "plt.xlabel(\"z (pc)\")\n",
    "plt.ylabel(\"$\\\\Phi$ (km/s)$^2$\")\n",
    "plt.grid()\n",
    "plt.show()"
   ]
  },
  {
   "cell_type": "code",
   "execution_count": 70,
   "metadata": {},
   "outputs": [
    {
     "data": {
      "image/png": "[encoded data removed]",
      "text/plain": [
       "<Figure size 432x288 with 1 Axes>"
      ]
     },
     "metadata": {
      "needs_background": "light"
     },
     "output_type": "display_data"
    }
   ],
   "source": [
    "nu0 = 1\n",
    "sigma_w = np.vstack(np.array([10, 5, 2]))\n",
    "a_raw = np.vstack(np.array([-0.1, 2, 0.3]))\n",
    "a = a_raw/np.sum(a_raw)\n",
    "\n",
    "nu = nu0*np.sum(a*np.exp(-phi_z(zs, z0)/sigma_w**2), axis=0)\n",
    "\n",
    "for ai, sigma_wi in zip(a, sigma_w):\n",
    "    plt.plot(zs, nu0*ai*np.exp(-phi_z(zs, z0)/sigma_wi**2))\n",
    "plt.xlabel(\"z (pc)\")\n",
    "plt.ylabel(\"nu\")\n",
    "plt.plot(zs, nu, c=\"r\", lw=2)\n",
    "plt.ylim(1E-2*nu0, nu0*1.2)\n",
    "plt.yscale(\"log\")\n",
    "plt.grid()\n",
    "plt.show()"
   ]
  },
  {
   "cell_type": "markdown",
   "metadata": {},
   "source": [
    "Compiling and creating $\\nu^{\\text{mod}}(\\theta)$ function\n",
    "\n",
    "all in one"
   ]
  },
  {
   "cell_type": "code",
   "execution_count": 12,
   "metadata": {},
   "outputs": [],
   "source": [
    "# from operator import itemgetter\n",
    "# from scipy.interpolate import interp1d\n",
    "# import numpy as np\n",
    "# from scipy.integrate import odeint\n",
    "\n",
    "# def sech(x):\n",
    "#     return 1/np.cosh(x)\n",
    "\n",
    "# def rhoDD(z, sigmaDD, hDD):\n",
    "#     return sigmaDD/(4*hDD)*sech(z/(2*hDD))**2\n",
    "\n",
    "# def frho(rho0, phi, sigmaz ):\n",
    "#     return rho0*np.exp(-phi/sigmaz**2)\n",
    "\n",
    "# def rho_tot(z, phi, rhos, sigmaz, rhoDM, sigmaDD, hDD, R=3.4E-3):\n",
    "#     rho = np.array(list(map(lambda par: frho(par[0], phi, par[1]), zip(rhos, sigmaz))))\n",
    "#     return rho.sum() + rhoDM + rhoDD(z, sigmaDD, hDD) - R\n",
    "\n",
    "# def f(u, z, rhos, sigmaz, rhoDM, sigmaDD, hDD, R=3.4E-3):\n",
    "#     G = 4.30091E-3 # pc/M_sun (km/s)^2\n",
    "#     return (u[1], 4*np.pi*G*rho_tot(z, u[0], rhos, sigmaz, rhoDM, sigmaDD, hDD, R))\n",
    "\n",
    "# def phi_mod(zz, **theta):\n",
    "#     args = ('rhos', 'sigmaz', 'rhoDM', 'sigmaDD', 'hDD', 'zsun', 'R')\n",
    "#     rhos, sigmaz, rhoDM, sigmaDD, hDD, zsun, R = itemgetter(*args)(theta)\n",
    "#     res = 1000\n",
    "#     if 'res' in theta:\n",
    "#         res = theta['res']\n",
    "#     phi0 = 0 # (km/s)^2\n",
    "#     Kz0 = 0 # pc (km/s)^2\n",
    "\n",
    "#     y0 = [Kz0, phi0]\n",
    "#     zmax = np.max(np.abs(zz+zsun))\n",
    "#     zs = np.linspace(0, zmax, res)\n",
    "#     us = odeint(f, y0, zs, args=(rhos, sigmaz, rhoDM, sigmaDD, hDD, R))\n",
    "#     phi = us[:, 0]\n",
    "#     phi_interp = interp1d(zs, phi, kind='cubic')\n",
    "#     phi_z = lambda z, zsun: phi_interp(np.abs(z+zsun))\n",
    "#     return phi_z(zz, zsun)\n",
    "\n",
    "# def nu_mod(zz, **theta):\n",
    "#     args = ('sigma_w', 'a', 'nu0')\n",
    "#     sigma_w, a, nu0 = itemgetter(*args)(theta)\n",
    "#     sigma_w = np.vstack(sigma_w)\n",
    "#     a_raw = np.vstack(a)\n",
    "#     a = a_raw/np.sum(a_raw)\n",
    "#     nu = nu0*np.sum(a*np.exp(-phi_mod(zz, **theta)/sigma_w**2), axis=0)\n",
    "#     nu = np.abs(nu)\n",
    "#     return nu"
   ]
  },
  {
   "cell_type": "code",
   "execution_count": 13,
   "metadata": {},
   "outputs": [
    {
     "data": {
      "text/plain": [
       "array([0.05351229, 0.05872495, 0.0644004 , 0.07058779, 0.07734642,\n",
       "       0.08474849, 0.09288238, 0.10185648, 0.11180343, 0.12288477,\n",
       "       0.13529555, 0.1492687 , 0.16507837, 0.18304169, 0.2035177 ,\n",
       "       0.2269024 , 0.25361821, 0.28409637, 0.31875048, 0.35794038,\n",
       "       0.40192706, 0.4508248 , 0.50456482, 0.56289552, 0.62543759,\n",
       "       0.69174842, 0.76118209, 0.83213646, 0.90046511, 0.95797078,\n",
       "       0.99342026, 0.99761574, 0.96934784, 0.91626842, 0.84970988,\n",
       "       0.77888168, 0.70885084, 0.64168087, 0.57815263, 0.5187304 ,\n",
       "       0.46381277, 0.41369047, 0.36848002, 0.32811047, 0.2923531 ,\n",
       "       0.26086833, 0.23325219, 0.20907503, 0.18791023, 0.16935397])"
      ]
     },
     "execution_count": 13,
     "metadata": {},
     "output_type": "execute_result"
    }
   ],
   "source": [
    "rhos = df_baryon[\"rho\"].to_numpy()  # Msun/pc^3\n",
    "sigmaz = df_baryon[\"sigma_z\"].to_numpy() # km/s\n",
    "\n",
    "# test the following dark values\n",
    "rhoDM = 0.016 # Msun/pc^3\n",
    "sigmaDD = 7 # Msun/pc^2\n",
    "hDD = 20 # pc\n",
    "R = 3.4E-3 # Msun/pc^3\n",
    "nu0 = 1\n",
    "zsun = -50\n",
    "sigma_w = np.array([10, 5, 2])\n",
    "a_raw = np.array([1, 2, 0.3])\n",
    "w0 = 0.5\n",
    "\n",
    "theta = dict(rhos=rhos, sigmaz=sigmaz, rhoDM=rhoDM, sigmaDD=sigmaDD, hDD=hDD, nu0=nu0, zsun=zsun, R=R, w0=w0, sigma_w=sigma_w, a=a_raw)\n",
    "\n",
    "zz = np.linspace(-200, 200, 50)\n",
    "sigma_v = 5\n",
    "nu = nu_mod(zz, **theta)\n",
    "nu"
   ]
  },
  {
   "cell_type": "code",
   "execution_count": 14,
   "metadata": {},
   "outputs": [
    {
     "data": {
      "image/png": "[encoded data removed]",
      "text/plain": [
       "<Figure size 432x288 with 1 Axes>"
      ]
     },
     "metadata": {
      "needs_background": "light"
     },
     "output_type": "display_data"
    }
   ],
   "source": [
    "plt.scatter(zz, nu)\n",
    "plt.yscale(\"log\")\n",
    "plt.grid()"
   ]
  },
  {
   "cell_type": "markdown",
   "metadata": {},
   "source": [
    "save the relevant functions to utils.py"
   ]
  },
  {
   "cell_type": "markdown",
   "metadata": {},
   "source": [
    "# Test function from utils.py"
   ]
  },
  {
   "cell_type": "code",
   "execution_count": 6,
   "metadata": {},
   "outputs": [],
   "source": [
    "from utils import nu_mod"
   ]
  },
  {
   "cell_type": "code",
   "execution_count": 7,
   "metadata": {},
   "outputs": [
    {
     "data": {
      "text/html": [
       "<table>\n",
       "<thead>\n",
       "<tr><th>#                             </th><th>components             </th><th>rho   </th><th>e_rho  </th><th>sigma_z  </th><th>e_sigma_z  </th></tr>\n",
       "</thead>\n",
       "<tbody>\n",
       "<tr><td><i style='opacity: 0.6'>0</i> </td><td>Molecular gas (H2)     </td><td>0.0104</td><td>0.00312</td><td>3.7      </td><td>0.2        </td></tr>\n",
       "<tr><td><i style='opacity: 0.6'>1</i> </td><td>Cold atomic gas (HI(1))</td><td>0.0277</td><td>0.00554</td><td>7.1      </td><td>0.5        </td></tr>\n",
       "<tr><td><i style='opacity: 0.6'>2</i> </td><td>Warm atomic gas (HI(2))</td><td>0.0073</td><td>0.0007 </td><td>22.1     </td><td>2.4        </td></tr>\n",
       "<tr><td><i style='opacity: 0.6'>3</i> </td><td>Hot ionized gas (HII)  </td><td>0.0005</td><td>3e-05  </td><td>39.0     </td><td>4.0        </td></tr>\n",
       "<tr><td><i style='opacity: 0.6'>4</i> </td><td>Giant stars            </td><td>0.0006</td><td>6e-05  </td><td>15.5     </td><td>1.6        </td></tr>\n",
       "<tr><td>...                           </td><td>...                    </td><td>...   </td><td>...    </td><td>...      </td><td>...        </td></tr>\n",
       "<tr><td><i style='opacity: 0.6'>7</i> </td><td>4 &lt; MV &lt; 5             </td><td>0.0029</td><td>0.00029</td><td>18.0     </td><td>1.8        </td></tr>\n",
       "<tr><td><i style='opacity: 0.6'>8</i> </td><td>5 &lt; MV &lt; 8             </td><td>0.0072</td><td>0.00072</td><td>18.5     </td><td>1.9        </td></tr>\n",
       "<tr><td><i style='opacity: 0.6'>9</i> </td><td>MV &gt; 8                 </td><td>0.0216</td><td>0.0028 </td><td>18.5     </td><td>4.0        </td></tr>\n",
       "<tr><td><i style='opacity: 0.6'>10</i></td><td>White dwarfs           </td><td>0.0056</td><td>0.001  </td><td>20.0     </td><td>5.0        </td></tr>\n",
       "<tr><td><i style='opacity: 0.6'>11</i></td><td>Brown dwarfs           </td><td>0.0015</td><td>0.0005 </td><td>20.0     </td><td>5.0        </td></tr>\n",
       "</tbody>\n",
       "</table>"
      ],
      "text/plain": [
       "#    components               rho     e_rho    sigma_z    e_sigma_z\n",
       "0    Molecular gas (H2)       0.0104  0.00312  3.7        0.2\n",
       "1    Cold atomic gas (HI(1))  0.0277  0.00554  7.1        0.5\n",
       "2    Warm atomic gas (HI(2))  0.0073  0.0007   22.1       2.4\n",
       "3    Hot ionized gas (HII)    0.0005  3e-05    39.0       4.0\n",
       "4    Giant stars              0.0006  6e-05    15.5       1.6\n",
       "...  ...                      ...     ...      ...        ...\n",
       "7    4 < MV < 5               0.0029  0.00029  18.0       1.8\n",
       "8    5 < MV < 8               0.0072  0.00072  18.5       1.9\n",
       "9    MV > 8                   0.0216  0.0028   18.5       4.0\n",
       "10   White dwarfs             0.0056  0.001    20.0       5.0\n",
       "11   Brown dwarfs             0.0015  0.0005   20.0       5.0"
      ]
     },
     "execution_count": 7,
     "metadata": {},
     "output_type": "execute_result"
    }
   ],
   "source": [
    "name = \"Baryon\"\n",
    "data_dir = join(root_data_dir, name)\n",
    "df_baryon = vaex.open(join(data_dir, \"baryon.hdf5\"))\n",
    "df_baryon"
   ]
  },
  {
   "cell_type": "code",
   "execution_count": 26,
   "metadata": {},
   "outputs": [],
   "source": [
    "rhos = df_baryon[\"rho\"].to_numpy()  # Msun/pc^3\n",
    "sigmaz = df_baryon[\"sigma_z\"].to_numpy() # km/s\n",
    "\n",
    "# test the following dark values\n",
    "rhoDM = 0.016 # Msun/pc^3\n",
    "sigmaDD = 7 # Msun/pc^2\n",
    "hDD = 20 # pc\n",
    "R = 3.4E-3 # Msun/pc^3\n",
    "nu0 = 1\n",
    "zsun = -0\n",
    "sigma_w = np.array([20])\n",
    "a_raw = np.array([1])\n",
    "w0 = 0.5\n",
    "\n",
    "theta = dict(rhos=rhos, sigmaz=sigmaz, rhoDM=rhoDM, sigmaDD=sigmaDD, hDD=hDD, nu0=nu0, zsun=zsun, R=R, w0=w0, sigma_w=sigma_w, a=a_raw)\n",
    "\n",
    "zz = np.linspace(-1000, 1000, 1000)\n",
    "sigma_v = 5\n",
    "nu = nu_mod(zz, **theta)\n",
    "# filter all z for which nu > 0.2\n",
    "zb = zz[nu < 0.2]\n",
    "nub = nu[nu < 0.2]"
   ]
  },
  {
   "cell_type": "code",
   "execution_count": 27,
   "metadata": {},
   "outputs": [
    {
     "data": {
      "image/png": "[encoded data removed]",
      "text/plain": [
       "<Figure size 432x288 with 1 Axes>"
      ]
     },
     "metadata": {
      "needs_background": "light"
     },
     "output_type": "display_data"
    }
   ],
   "source": [
    "plt.plot(zz, nu)\n",
    "plt.plot(zb, nub, c=\"r\")\n",
    "plt.grid()"
   ]
  }
 ],
 "metadata": {
  "kernelspec": {
   "display_name": "Python 3",
   "language": "python",
   "name": "python3"
  },
  "language_info": {
   "codemirror_mode": {
    "name": "ipython",
    "version": 3
   },
   "file_extension": ".py",
   "mimetype": "text/x-python",
   "name": "python",
   "nbconvert_exporter": "python",
   "pygments_lexer": "ipython3",
   "version": "3.8.10"
  },
  "vscode": {
   "interpreter": {
    "hash": "2e98b01e139963c1272b06356b7ab7b4729889064e74152a80e8f95bb2c4292e"
   }
  }
 },
 "nbformat": 4,
 "nbformat_minor": 4
}
