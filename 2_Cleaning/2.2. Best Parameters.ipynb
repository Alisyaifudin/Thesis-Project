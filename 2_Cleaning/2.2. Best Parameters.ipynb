{
 "cells": [
  {
   "cell_type": "code",
   "execution_count": 1,
   "metadata": {
    "execution": {
     "iopub.execute_input": "2023-01-19T08:28:23.768682Z",
     "iopub.status.busy": "2023-01-19T08:28:23.768089Z",
     "iopub.status.idle": "2023-01-19T08:28:27.852166Z",
     "shell.execute_reply": "2023-01-19T08:28:27.851468Z",
     "shell.execute_reply.started": "2023-01-19T08:28:23.768616Z"
    },
    "tags": []
   },
   "outputs": [],
   "source": [
    "import vaex\n",
    "import numpy as np\n",
    "from glob import glob\n",
    "from time import time\n",
    "from os.path import join, abspath\n",
    "from os import pardir, mkdir\n",
    "import sys\n",
    "from matplotlib import pyplot as plt"
   ]
  },
  {
   "cell_type": "code",
   "execution_count": 2,
   "metadata": {
    "execution": {
     "iopub.execute_input": "2023-01-19T08:28:27.853725Z",
     "iopub.status.busy": "2023-01-19T08:28:27.853367Z",
     "iopub.status.idle": "2023-01-19T08:28:28.313692Z",
     "shell.execute_reply": "2023-01-19T08:28:28.312994Z",
     "shell.execute_reply.started": "2023-01-19T08:28:27.853698Z"
    },
    "tags": []
   },
   "outputs": [
    {
     "data": {
      "text/plain": [
       "['/home2/s20321005/Thesis-Project',\n",
       " '/home2/s20321005/Thesis-Project/2_Cleaning',\n",
       " '/home2/s20321005/.conda/envs/vaex/lib/python38.zip',\n",
       " '/home2/s20321005/.conda/envs/vaex/lib/python3.8',\n",
       " '/home2/s20321005/.conda/envs/vaex/lib/python3.8/lib-dynload',\n",
       " '',\n",
       " '/home2/s20321005/.local/lib/python3.8/site-packages',\n",
       " '/home2/s20321005/.conda/envs/vaex/lib/python3.8/site-packages']"
      ]
     },
     "execution_count": 2,
     "metadata": {},
     "output_type": "execute_result"
    }
   ],
   "source": [
    "# import utils\n",
    "top_dir = join(abspath(pardir))\n",
    "if not top_dir in sys.path:\n",
    "    sys.path.insert(0, top_dir)\n",
    "sys.path"
   ]
  },
  {
   "cell_type": "code",
   "execution_count": 3,
   "metadata": {},
   "outputs": [],
   "source": [
    "from utils import progressbar, safe_mkdir"
   ]
  },
  {
   "cell_type": "code",
   "execution_count": 4,
   "metadata": {
    "execution": {
     "iopub.execute_input": "2023-01-19T08:28:28.870043Z",
     "iopub.status.busy": "2023-01-19T08:28:28.869506Z",
     "iopub.status.idle": "2023-01-19T08:28:28.884263Z",
     "shell.execute_reply": "2023-01-19T08:28:28.883279Z",
     "shell.execute_reply.started": "2023-01-19T08:28:28.869987Z"
    },
    "tags": []
   },
   "outputs": [
    {
     "data": {
      "text/plain": [
       "'/home2/s20321005/Thesis-Project/Data'"
      ]
     },
     "execution_count": 4,
     "metadata": {},
     "output_type": "execute_result"
    }
   ],
   "source": [
    "# root data dir\n",
    "root_data_dir = abspath(join(top_dir, \"Data\"))\n",
    "root_data_dir"
   ]
  },
  {
   "cell_type": "code",
   "execution_count": 5,
   "metadata": {
    "execution": {
     "iopub.execute_input": "2023-01-19T08:28:34.218872Z",
     "iopub.status.busy": "2023-01-19T08:28:34.218262Z",
     "iopub.status.idle": "2023-01-19T08:28:34.228976Z",
     "shell.execute_reply": "2023-01-19T08:28:34.227875Z",
     "shell.execute_reply.started": "2023-01-19T08:28:34.218813Z"
    },
    "tags": []
   },
   "outputs": [
    {
     "name": "stdout",
     "output_type": "stream",
     "text": [
      "Directory /home2/s20321005/Thesis-Project/Data/Best-Pars already exist. Good to go!\n"
     ]
    },
    {
     "data": {
      "text/plain": [
       "'/home2/s20321005/Thesis-Project/Data/Best-Pars'"
      ]
     },
     "execution_count": 5,
     "metadata": {},
     "output_type": "execute_result"
    }
   ],
   "source": [
    "# create directory for the best parameters\n",
    "name = \"Best-Pars\"\n",
    "data_dir = join(root_data_dir, name)\n",
    "safe_mkdir(data_dir)\n",
    "data_dir"
   ]
  },
  {
   "cell_type": "code",
   "execution_count": 6,
   "metadata": {
    "execution": {
     "iopub.execute_input": "2023-01-19T08:28:37.410671Z",
     "iopub.status.busy": "2023-01-19T08:28:37.410065Z",
     "iopub.status.idle": "2023-01-19T08:28:37.418349Z",
     "shell.execute_reply": "2023-01-19T08:28:37.417302Z",
     "shell.execute_reply.started": "2023-01-19T08:28:37.410612Z"
    },
    "tags": []
   },
   "outputs": [
    {
     "data": {
      "text/plain": [
       "'/home2/s20321005/Thesis-Project/Data/Combine/rave-galah-lamost-apogee'"
      ]
     },
     "execution_count": 6,
     "metadata": {},
     "output_type": "execute_result"
    }
   ],
   "source": [
    "# load combined data\n",
    "name = \"rave-galah-lamost-apogee\"\n",
    "combine_data_dir = join(root_data_dir, 'Combine', name)\n",
    "combine_data_dir"
   ]
  },
  {
   "cell_type": "code",
   "execution_count": 7,
   "metadata": {
    "execution": {
     "iopub.execute_input": "2023-01-18T17:10:03.945560Z",
     "iopub.status.busy": "2023-01-18T17:10:03.944951Z",
     "iopub.status.idle": "2023-01-18T17:10:22.763922Z",
     "shell.execute_reply": "2023-01-18T17:10:22.763115Z",
     "shell.execute_reply.started": "2023-01-18T17:10:03.945503Z"
    },
    "tags": []
   },
   "outputs": [
    {
     "data": {
      "text/html": [
       "<table>\n",
       "<thead>\n",
       "<tr><th>#                                     </th><th>ra        </th><th>dec       </th><th>Jmag  </th><th>Kmag  </th><th>ph_qual  </th><th>source_id          </th><th>pm       </th><th>pmra               </th><th>e_pmra     </th><th>pmdec              </th><th>e_pmdec     </th><th>parallax          </th><th>e_parallax  </th><th>gmag      </th><th>bpmag    </th><th>rpmag    </th><th>fb_over_err  </th><th>fr_over_err  </th><th>ruwe      </th><th>excess_factor  </th><th>rv_gaia    </th><th>e_rv_gaia  </th><th>GLON              </th><th>GLAT               </th><th>teff_gspphot  </th><th>teff_gspphot_lower  </th><th>teff_gspphot_upper  </th><th>logg_gspphot  </th><th>logg_gspphot_lower  </th><th>logg_gspphot_upper  </th><th>mh_gspphot  </th><th>mh_gspphot_lower  </th><th>mh_gspphot_upper  </th><th>distance_gspphot  </th><th>distance_gspphot_lower  </th><th>distance_gspphot_upper  </th><th>ag_gspphot  </th><th>ag_gspphot_lower  </th><th>ag_gspphot_upper  </th><th>mh_gspspec  </th><th>mh_gspspec_lower  </th><th>mh_gspspec_upper  </th><th>alphafe_gspspec  </th><th>alphafe_gspspec_lower  </th><th>alphafe_gspspec_upper  </th><th>fem_gspspec  </th><th>fem_gspspec_lower  </th><th>fem_gspspec_upper  </th><th>spectraltype_esphs  </th><th>rv_rave  </th><th>e_rv_rave  </th><th>teff_rave  </th><th>logg_rave  </th><th>mh_rave  </th><th>alphafe_rave  </th><th>rv_galah  </th><th>e_rv_galah  </th><th>feh_galah  </th><th>alphafe_galah  </th><th>teff_galah  </th><th>e_teff_galah  </th><th>logg_galah  </th><th>e_logg_galah  </th><th>subclass_lamost  </th><th>teff_lamost  </th><th>e_teff_lamost  </th><th>logg_lamost  </th><th>e_logg_lamost  </th><th>feh_lamost  </th><th>e_feh_lamost  </th><th>rv_lamost  </th><th>e_rv_lamost  </th><th>alpham_lamost  </th><th>e_alpham_lamost  </th><th>rv_apogee  </th><th>e_rv_apogee  </th><th>teff_apogee  </th><th>e_teff_apogee  </th><th>logg_apogee  </th><th>e_logg_apogee  </th><th>mh_apogee  </th><th>e_mh_apogee  </th><th>alpham_apogee  </th><th>e_alpham_apogee  </th><th>feh_apogee  </th><th>e_feh_apogee  </th></tr>\n",
       "</thead>\n",
       "<tbody>\n",
       "<tr><td><i style='opacity: 0.6'>0</i>         </td><td>0.180498  </td><td>-89.243835</td><td>13.123</td><td>12.679</td><td>AAA      </td><td>4611967772579686144</td><td>18.71723 </td><td>17.611683049974353 </td><td>0.017649759</td><td>-6.337454890038764 </td><td>0.018100612 </td><td>1.553482146463873 </td><td>0.016450698 </td><td>14.506683 </td><td>14.941158</td><td>13.901936</td><td>927.3828     </td><td>1271.3264    </td><td>0.9241908 </td><td>1.2207495      </td><td>152.84476  </td><td>4.919384   </td><td>303.11950730746855</td><td>-27.865822360149586</td><td>5675.6104     </td><td>5664.237            </td><td>5689.443            </td><td>4.4943        </td><td>4.4881              </td><td>4.4991              </td><td>-0.555      </td><td>-0.5718           </td><td>-0.5386           </td><td>586.5784          </td><td>580.6773                </td><td>592.7109                </td><td>0.4421      </td><td>0.4359            </td><td>0.4495            </td><td>nan         </td><td>nan               </td><td>nan               </td><td>nan              </td><td>nan                    </td><td>nan                    </td><td>nan          </td><td>nan                </td><td>nan                </td><td>G                   </td><td>nan      </td><td>nan        </td><td>nan        </td><td>nan        </td><td>nan      </td><td>nan           </td><td>nan       </td><td>nan         </td><td>nan        </td><td>nan            </td><td>nan         </td><td>nan           </td><td>nan         </td><td>nan           </td><td>--               </td><td>nan          </td><td>nan            </td><td>nan          </td><td>nan            </td><td>nan         </td><td>nan           </td><td>nan        </td><td>nan          </td><td>nan            </td><td>nan              </td><td>nan        </td><td>nan          </td><td>nan          </td><td>nan            </td><td>nan          </td><td>nan            </td><td>nan        </td><td>nan          </td><td>nan            </td><td>nan              </td><td>nan         </td><td>nan           </td></tr>\n",
       "<tr><td><i style='opacity: 0.6'>1</i>         </td><td>0.338177  </td><td>-89.481033</td><td>8.977 </td><td>8.038 </td><td>AAA      </td><td>4611761957746621312</td><td>9.622093 </td><td>7.609580877064016  </td><td>0.014360921</td><td>-5.888883602727228 </td><td>0.014550801 </td><td>0.8273958945757836</td><td>0.012673815 </td><td>11.280521 </td><td>12.197066</td><td>10.340994</td><td>1234.3052    </td><td>3648.0972    </td><td>1.0564011 </td><td>1.3118352      </td><td>30.259687  </td><td>0.167822   </td><td>303.05891462343493</td><td>-27.634759739425405</td><td>4251.7476     </td><td>4108.759            </td><td>4291.554            </td><td>2.0187        </td><td>1.7589              </td><td>2.0434              </td><td>0.1172      </td><td>0.1112            </td><td>0.12              </td><td>1171.7509         </td><td>1142.2043               </td><td>1543.0542               </td><td>0.8134      </td><td>0.6207            </td><td>0.8634            </td><td>0.17        </td><td>0.16              </td><td>0.19              </td><td>-0.05            </td><td>-0.05                  </td><td>-0.04                  </td><td>-0.13        </td><td>-0.22              </td><td>-0.03              </td><td>K                   </td><td>nan      </td><td>nan        </td><td>nan        </td><td>nan        </td><td>nan      </td><td>nan           </td><td>nan       </td><td>nan         </td><td>nan        </td><td>nan            </td><td>nan         </td><td>nan           </td><td>nan         </td><td>nan           </td><td>--               </td><td>nan          </td><td>nan            </td><td>nan          </td><td>nan            </td><td>nan         </td><td>nan           </td><td>nan        </td><td>nan          </td><td>nan            </td><td>nan              </td><td>nan        </td><td>nan          </td><td>nan          </td><td>nan            </td><td>nan          </td><td>nan            </td><td>nan        </td><td>nan          </td><td>nan            </td><td>nan              </td><td>nan         </td><td>nan           </td></tr>\n",
       "<tr><td><i style='opacity: 0.6'>2</i>         </td><td>0.392894  </td><td>-89.286575</td><td>12.769</td><td>12.33 </td><td>AAA      </td><td>4611779756091083008</td><td>6.9185767</td><td>4.89813965086399   </td><td>0.015574452</td><td>-4.88619823091078  </td><td>0.016693464 </td><td>1.4919122615226004</td><td>0.015075388 </td><td>14.183529 </td><td>14.626376</td><td>13.570565</td><td>865.9398     </td><td>1384.2283    </td><td>1.0637242 </td><td>1.222597       </td><td>8.2865095  </td><td>6.5148206  </td><td>303.10597686099044</td><td>-27.824720661451884</td><td>5750.4326     </td><td>5745.2676           </td><td>5755.3184           </td><td>4.3541        </td><td>4.3477              </td><td>4.3606              </td><td>-0.2969     </td><td>-0.3044           </td><td>-0.2905           </td><td>625.9152          </td><td>620.0596                </td><td>631.7136                </td><td>0.5141      </td><td>0.5109            </td><td>0.5172            </td><td>nan         </td><td>nan               </td><td>nan               </td><td>nan              </td><td>nan                    </td><td>nan                    </td><td>nan          </td><td>nan                </td><td>nan                </td><td>G                   </td><td>nan      </td><td>nan        </td><td>nan        </td><td>nan        </td><td>nan      </td><td>nan           </td><td>nan       </td><td>nan         </td><td>nan        </td><td>nan            </td><td>nan         </td><td>nan           </td><td>nan         </td><td>nan           </td><td>--               </td><td>nan          </td><td>nan            </td><td>nan          </td><td>nan            </td><td>nan         </td><td>nan           </td><td>nan        </td><td>nan          </td><td>nan            </td><td>nan              </td><td>nan        </td><td>nan          </td><td>nan          </td><td>nan            </td><td>nan          </td><td>nan            </td><td>nan        </td><td>nan          </td><td>nan            </td><td>nan              </td><td>nan         </td><td>nan           </td></tr>\n",
       "<tr><td><i style='opacity: 0.6'>3</i>         </td><td>0.491097  </td><td>-89.325348</td><td>13.285</td><td>12.922</td><td>AAA      </td><td>4611778656579457664</td><td>3.3354552</td><td>2.758184654146036  </td><td>0.01594744 </td><td>1.8755476312609647 </td><td>0.016303217 </td><td>0.9132976622425212</td><td>0.014618652 </td><td>14.359505 </td><td>14.703383</td><td>13.84331 </td><td>1021.3745    </td><td>1692.3877    </td><td>0.97578895</td><td>1.2055027      </td><td>-9.221251  </td><td>6.7962427  </td><td>303.09523730720935</td><td>-27.787137577515743</td><td>6268.863      </td><td>6260.8765           </td><td>6277.1826           </td><td>4.2543        </td><td>4.2417              </td><td>4.2669              </td><td>-0.3655     </td><td>-0.3711           </td><td>-0.3599           </td><td>1043.2319         </td><td>1028.8033               </td><td>1058.513                </td><td>0.3813      </td><td>0.3771            </td><td>0.3856            </td><td>nan         </td><td>nan               </td><td>nan               </td><td>nan              </td><td>nan                    </td><td>nan                    </td><td>nan          </td><td>nan                </td><td>nan                </td><td>F                   </td><td>nan      </td><td>nan        </td><td>nan        </td><td>nan        </td><td>nan      </td><td>nan           </td><td>nan       </td><td>nan         </td><td>nan        </td><td>nan            </td><td>nan         </td><td>nan           </td><td>nan         </td><td>nan           </td><td>--               </td><td>nan          </td><td>nan            </td><td>nan          </td><td>nan            </td><td>nan         </td><td>nan           </td><td>nan        </td><td>nan          </td><td>nan            </td><td>nan              </td><td>nan        </td><td>nan          </td><td>nan          </td><td>nan            </td><td>nan          </td><td>nan            </td><td>nan        </td><td>nan          </td><td>nan            </td><td>nan              </td><td>nan         </td><td>nan           </td></tr>\n",
       "<tr><td><i style='opacity: 0.6'>4</i>         </td><td>0.140988  </td><td>-88.624542</td><td>12.574</td><td>12.226</td><td>AAA      </td><td>4612059856678435456</td><td>7.222961 </td><td>6.909171651019708  </td><td>0.014309556</td><td>-2.105828540221265 </td><td>0.0136996545</td><td>1.142868834794636 </td><td>0.012145737 </td><td>13.668672 </td><td>14.00575 </td><td>13.163239</td><td>1205.9458    </td><td>2095.7776    </td><td>1.0062797 </td><td>1.2021444      </td><td>33.838387  </td><td>3.4127908  </td><td>303.27634091220216</td><td>-28.469529127008617</td><td>6146.648      </td><td>6133.3306           </td><td>6160.546            </td><td>4.2041        </td><td>4.197               </td><td>4.2109              </td><td>-0.5671     </td><td>-0.5814           </td><td>-0.5514           </td><td>858.9404          </td><td>850.0156                </td><td>867.84                  </td><td>0.2999      </td><td>0.2937            </td><td>0.3065            </td><td>nan         </td><td>nan               </td><td>nan               </td><td>nan              </td><td>nan                    </td><td>nan                    </td><td>nan          </td><td>nan                </td><td>nan                </td><td>F                   </td><td>nan      </td><td>nan        </td><td>nan        </td><td>nan        </td><td>nan      </td><td>nan           </td><td>nan       </td><td>nan         </td><td>nan        </td><td>nan            </td><td>nan         </td><td>nan           </td><td>nan         </td><td>nan           </td><td>--               </td><td>nan          </td><td>nan            </td><td>nan          </td><td>nan            </td><td>nan         </td><td>nan           </td><td>nan        </td><td>nan          </td><td>nan            </td><td>nan              </td><td>nan        </td><td>nan          </td><td>nan          </td><td>nan            </td><td>nan          </td><td>nan            </td><td>nan        </td><td>nan          </td><td>nan            </td><td>nan              </td><td>nan         </td><td>nan           </td></tr>\n",
       "<tr><td>...                                   </td><td>...       </td><td>...       </td><td>...   </td><td>...   </td><td>...      </td><td>...                </td><td>...      </td><td>...                </td><td>...        </td><td>...                </td><td>...         </td><td>...               </td><td>...         </td><td>...       </td><td>...      </td><td>...      </td><td>...          </td><td>...          </td><td>...       </td><td>...            </td><td>...        </td><td>...        </td><td>...               </td><td>...                </td><td>...           </td><td>...                 </td><td>...                 </td><td>...           </td><td>...                 </td><td>...                 </td><td>...         </td><td>...               </td><td>...               </td><td>...               </td><td>...                     </td><td>...                     </td><td>...         </td><td>...               </td><td>...               </td><td>...         </td><td>...               </td><td>...               </td><td>...              </td><td>...                    </td><td>...                    </td><td>...          </td><td>...                </td><td>...                </td><td>...                 </td><td>...      </td><td>...        </td><td>...        </td><td>...        </td><td>...      </td><td>...           </td><td>...       </td><td>...         </td><td>...        </td><td>...            </td><td>...         </td><td>...           </td><td>...         </td><td>...           </td><td>...              </td><td>...          </td><td>...            </td><td>...          </td><td>...            </td><td>...         </td><td>...           </td><td>...        </td><td>...          </td><td>...            </td><td>...              </td><td>...        </td><td>...          </td><td>...          </td><td>...            </td><td>...          </td><td>...            </td><td>...        </td><td>...          </td><td>...            </td><td>...              </td><td>...         </td><td>...           </td></tr>\n",
       "<tr><td><i style='opacity: 0.6'>29,127,326</i></td><td>359.121617</td><td>88.849464 </td><td>12.791</td><td>12.414</td><td>AAA      </td><td>2305490791832146432</td><td>4.029614 </td><td>-0.8951470378522143</td><td>0.01455365 </td><td>-3.9289311748326035</td><td>0.017279088 </td><td>0.5963603953551687</td><td>0.013008298 </td><td>14.046446 </td><td>14.441862</td><td>13.47968 </td><td>961.65857    </td><td>1206.7952    </td><td>0.97922367</td><td>1.2132953      </td><td>-4.4090395 </td><td>3.7515028  </td><td>122.62790640386665</td><td>26.010265744280915 </td><td>5864.338      </td><td>5839.309            </td><td>5880.9834           </td><td>3.774         </td><td>3.7556              </td><td>3.7845              </td><td>-0.5563     </td><td>-0.5779           </td><td>-0.5458           </td><td>1395.1606         </td><td>1381.1881               </td><td>1421.5767               </td><td>0.4194      </td><td>0.4067            </td><td>0.4284            </td><td>nan         </td><td>nan               </td><td>nan               </td><td>nan              </td><td>nan                    </td><td>nan                    </td><td>nan          </td><td>nan                </td><td>nan                </td><td>G                   </td><td>nan      </td><td>nan        </td><td>nan        </td><td>nan        </td><td>nan      </td><td>nan           </td><td>nan       </td><td>nan         </td><td>nan        </td><td>nan            </td><td>nan         </td><td>nan           </td><td>nan         </td><td>nan           </td><td>--               </td><td>nan          </td><td>nan            </td><td>nan          </td><td>nan            </td><td>nan         </td><td>nan           </td><td>nan        </td><td>nan          </td><td>nan            </td><td>nan              </td><td>nan        </td><td>nan          </td><td>nan          </td><td>nan            </td><td>nan          </td><td>nan            </td><td>nan        </td><td>nan          </td><td>nan            </td><td>nan              </td><td>nan         </td><td>nan           </td></tr>\n",
       "<tr><td><i style='opacity: 0.6'>29,127,327</i></td><td>359.476859</td><td>88.387932 </td><td>13.072</td><td>12.66 </td><td>AAA      </td><td>2304711581685346432</td><td>10.118564</td><td>9.746954357302645  </td><td>0.019540144</td><td>-2.71702261816708  </td><td>0.017309012 </td><td>1.192541824142351 </td><td>0.015409919 </td><td>14.306393 </td><td>14.693643</td><td>13.742041</td><td>970.5339     </td><td>1503.4253    </td><td>0.9179697 </td><td>1.2155246      </td><td>-78.52453  </td><td>4.5883493  </td><td>122.51842977553947</td><td>25.55932221031494  </td><td>5545.2944     </td><td>5528.437            </td><td>5556.9053           </td><td>4.2616        </td><td>4.254               </td><td>4.2698              </td><td>-1.2724     </td><td>-1.2979           </td><td>-1.2508           </td><td>821.5987          </td><td>810.9293                </td><td>831.7571                </td><td>0.2287      </td><td>0.2196            </td><td>0.2348            </td><td>nan         </td><td>nan               </td><td>nan               </td><td>nan              </td><td>nan                    </td><td>nan                    </td><td>nan          </td><td>nan                </td><td>nan                </td><td>G                   </td><td>nan      </td><td>nan        </td><td>nan        </td><td>nan        </td><td>nan      </td><td>nan           </td><td>nan       </td><td>nan         </td><td>nan        </td><td>nan            </td><td>nan         </td><td>nan           </td><td>nan         </td><td>nan           </td><td>--               </td><td>nan          </td><td>nan            </td><td>nan          </td><td>nan            </td><td>nan         </td><td>nan           </td><td>nan        </td><td>nan          </td><td>nan            </td><td>nan              </td><td>nan        </td><td>nan          </td><td>nan          </td><td>nan            </td><td>nan          </td><td>nan            </td><td>nan        </td><td>nan          </td><td>nan            </td><td>nan              </td><td>nan         </td><td>nan           </td></tr>\n",
       "<tr><td><i style='opacity: 0.6'>29,127,328</i></td><td>359.704935</td><td>88.155998 </td><td>12.469</td><td>11.92 </td><td>AAA      </td><td>2304646710499313408</td><td>24.277977</td><td>24.276081384949727 </td><td>0.017281681</td><td>-0.3033332281423549</td><td>0.016044414 </td><td>2.635903040983505 </td><td>0.014043435 </td><td>14.1010895</td><td>14.674556</td><td>13.384232</td><td>492.22974    </td><td>828.08514    </td><td>1.0255395 </td><td>1.242264       </td><td>-8.928036  </td><td>2.7536664  </td><td>122.46781764928367</td><td>25.33183850890207  </td><td>4983.408      </td><td>4969.7314           </td><td>5000.904            </td><td>4.5079        </td><td>4.5034              </td><td>4.5125              </td><td>-0.1674     </td><td>-0.1797           </td><td>-0.1534           </td><td>376.3951          </td><td>374.2648                </td><td>378.8235                </td><td>0.3689      </td><td>0.3606            </td><td>0.3786            </td><td>nan         </td><td>nan               </td><td>nan               </td><td>nan              </td><td>nan                    </td><td>nan                    </td><td>nan          </td><td>nan                </td><td>nan                </td><td>K                   </td><td>nan      </td><td>nan        </td><td>nan        </td><td>nan        </td><td>nan      </td><td>nan           </td><td>nan       </td><td>nan         </td><td>nan        </td><td>nan            </td><td>nan         </td><td>nan           </td><td>nan         </td><td>nan           </td><td>--               </td><td>nan          </td><td>nan            </td><td>nan          </td><td>nan            </td><td>nan         </td><td>nan           </td><td>nan        </td><td>nan          </td><td>nan            </td><td>nan              </td><td>nan        </td><td>nan          </td><td>nan          </td><td>nan            </td><td>nan          </td><td>nan            </td><td>nan        </td><td>nan          </td><td>nan            </td><td>nan              </td><td>nan         </td><td>nan           </td></tr>\n",
       "<tr><td><i style='opacity: 0.6'>29,127,329</i></td><td>359.799848</td><td>88.985268 </td><td>12.976</td><td>12.268</td><td>AAA      </td><td>2305539513941136000</td><td>10.311739</td><td>-1.1558347554809572</td><td>0.024979863</td><td>10.246756138155417 </td><td>0.023094444 </td><td>2.8844735007745492</td><td>0.021700282 </td><td>14.886021 </td><td>15.63941 </td><td>14.045272</td><td>331.04794    </td><td>406.31857    </td><td>0.95431924</td><td>1.275423       </td><td>-27.380125 </td><td>9.952364   </td><td>122.67651932514369</td><td>26.139580203151045 </td><td>4487.5913     </td><td>4481.038            </td><td>4494.3394           </td><td>4.6252        </td><td>4.6153              </td><td>4.6396              </td><td>0.4897      </td><td>0.4712            </td><td>0.4973            </td><td>349.319           </td><td>343.586                 </td><td>353.6755                </td><td>0.409       </td><td>0.4002            </td><td>0.4162            </td><td>nan         </td><td>nan               </td><td>nan               </td><td>nan              </td><td>nan                    </td><td>nan                    </td><td>nan          </td><td>nan                </td><td>nan                </td><td>K                   </td><td>nan      </td><td>nan        </td><td>nan        </td><td>nan        </td><td>nan      </td><td>nan           </td><td>nan       </td><td>nan         </td><td>nan        </td><td>nan            </td><td>nan         </td><td>nan           </td><td>nan         </td><td>nan           </td><td>--               </td><td>nan          </td><td>nan            </td><td>nan          </td><td>nan            </td><td>nan         </td><td>nan           </td><td>nan        </td><td>nan          </td><td>nan            </td><td>nan              </td><td>nan        </td><td>nan          </td><td>nan          </td><td>nan            </td><td>nan          </td><td>nan            </td><td>nan        </td><td>nan          </td><td>nan            </td><td>nan              </td><td>nan         </td><td>nan           </td></tr>\n",
       "<tr><td><i style='opacity: 0.6'>29,127,330</i></td><td>359.909394</td><td>88.295273 </td><td>13.087</td><td>12.508</td><td>AAA      </td><td>2304698318826339328</td><td>19.401451</td><td>18.986569146748128 </td><td>0.021996977</td><td>3.990799827264129  </td><td>0.020262878 </td><td>0.6766671974315497</td><td>0.017869946 </td><td>14.728175 </td><td>15.290057</td><td>14.016491</td><td>662.813      </td><td>1084.6163    </td><td>0.9303231 </td><td>1.2429787      </td><td>-0.36417353</td><td>8.358765   </td><td>122.50893317096917</td><td>25.46627153250137  </td><td>5366.3633     </td><td>5350.058            </td><td>5392.446            </td><td>4.0708        </td><td>4.0621              </td><td>4.0775              </td><td>-0.2335     </td><td>-0.2572           </td><td>-0.2078           </td><td>1211.0175         </td><td>1188.0756               </td><td>1242.256                </td><td>0.6851      </td><td>0.6751            </td><td>0.6994            </td><td>nan         </td><td>nan               </td><td>nan               </td><td>nan              </td><td>nan                    </td><td>nan                    </td><td>nan          </td><td>nan                </td><td>nan                </td><td>K                   </td><td>nan      </td><td>nan        </td><td>nan        </td><td>nan        </td><td>nan      </td><td>nan           </td><td>nan       </td><td>nan         </td><td>nan        </td><td>nan            </td><td>nan         </td><td>nan           </td><td>nan         </td><td>nan           </td><td>--               </td><td>nan          </td><td>nan            </td><td>nan          </td><td>nan            </td><td>nan         </td><td>nan           </td><td>nan        </td><td>nan          </td><td>nan            </td><td>nan              </td><td>nan        </td><td>nan          </td><td>nan          </td><td>nan            </td><td>nan          </td><td>nan            </td><td>nan        </td><td>nan          </td><td>nan            </td><td>nan              </td><td>nan         </td><td>nan           </td></tr>\n",
       "</tbody>\n",
       "</table>"
      ],
      "text/plain": [
       "#           ra          dec         Jmag    Kmag    ph_qual    source_id            pm         pmra                 e_pmra       pmdec                e_pmdec       parallax            e_parallax    gmag        bpmag      rpmag      fb_over_err    fr_over_err    ruwe        excess_factor    rv_gaia      e_rv_gaia    GLON                GLAT                 teff_gspphot    teff_gspphot_lower    teff_gspphot_upper    logg_gspphot    logg_gspphot_lower    logg_gspphot_upper    mh_gspphot    mh_gspphot_lower    mh_gspphot_upper    distance_gspphot    distance_gspphot_lower    distance_gspphot_upper    ag_gspphot    ag_gspphot_lower    ag_gspphot_upper    mh_gspspec    mh_gspspec_lower    mh_gspspec_upper    alphafe_gspspec    alphafe_gspspec_lower    alphafe_gspspec_upper    fem_gspspec    fem_gspspec_lower    fem_gspspec_upper    spectraltype_esphs    rv_rave    e_rv_rave    teff_rave    logg_rave    mh_rave    alphafe_rave    rv_galah    e_rv_galah    feh_galah    alphafe_galah    teff_galah    e_teff_galah    logg_galah    e_logg_galah    subclass_lamost    teff_lamost    e_teff_lamost    logg_lamost    e_logg_lamost    feh_lamost    e_feh_lamost    rv_lamost    e_rv_lamost    alpham_lamost    e_alpham_lamost    rv_apogee    e_rv_apogee    teff_apogee    e_teff_apogee    logg_apogee    e_logg_apogee    mh_apogee    e_mh_apogee    alpham_apogee    e_alpham_apogee    feh_apogee    e_feh_apogee\n",
       "0           0.180498    -89.243835  13.123  12.679  AAA        4611967772579686144  18.71723   17.611683049974353   0.017649759  -6.337454890038764   0.018100612   1.553482146463873   0.016450698   14.506683   14.941158  13.901936  927.3828       1271.3264      0.9241908   1.2207495        152.84476    4.919384     303.11950730746855  -27.865822360149586  5675.6104       5664.237              5689.443              4.4943          4.4881                4.4991                -0.555        -0.5718             -0.5386             586.5784            580.6773                  592.7109                  0.4421        0.4359              0.4495              nan           nan                 nan                 nan                nan                      nan                      nan            nan                  nan                  G                     nan        nan          nan          nan          nan        nan             nan         nan           nan          nan              nan           nan             nan           nan             --                 nan            nan              nan            nan              nan           nan             nan          nan            nan              nan                nan          nan            nan            nan              nan            nan              nan          nan            nan              nan                nan           nan\n",
       "1           0.338177    -89.481033  8.977   8.038   AAA        4611761957746621312  9.622093   7.609580877064016    0.014360921  -5.888883602727228   0.014550801   0.8273958945757836  0.012673815   11.280521   12.197066  10.340994  1234.3052      3648.0972      1.0564011   1.3118352        30.259687    0.167822     303.05891462343493  -27.634759739425405  4251.7476       4108.759              4291.554              2.0187          1.7589                2.0434                0.1172        0.1112              0.12                1171.7509           1142.2043                 1543.0542                 0.8134        0.6207              0.8634              0.17          0.16                0.19                -0.05              -0.05                    -0.04                    -0.13          -0.22                -0.03                K                     nan        nan          nan          nan          nan        nan             nan         nan           nan          nan              nan           nan             nan           nan             --                 nan            nan              nan            nan              nan           nan             nan          nan            nan              nan                nan          nan            nan            nan              nan            nan              nan          nan            nan              nan                nan           nan\n",
       "2           0.392894    -89.286575  12.769  12.33   AAA        4611779756091083008  6.9185767  4.89813965086399     0.015574452  -4.88619823091078    0.016693464   1.4919122615226004  0.015075388   14.183529   14.626376  13.570565  865.9398       1384.2283      1.0637242   1.222597         8.2865095    6.5148206    303.10597686099044  -27.824720661451884  5750.4326       5745.2676             5755.3184             4.3541          4.3477                4.3606                -0.2969       -0.3044             -0.2905             625.9152            620.0596                  631.7136                  0.5141        0.5109              0.5172              nan           nan                 nan                 nan                nan                      nan                      nan            nan                  nan                  G                     nan        nan          nan          nan          nan        nan             nan         nan           nan          nan              nan           nan             nan           nan             --                 nan            nan              nan            nan              nan           nan             nan          nan            nan              nan                nan          nan            nan            nan              nan            nan              nan          nan            nan              nan                nan           nan\n",
       "3           0.491097    -89.325348  13.285  12.922  AAA        4611778656579457664  3.3354552  2.758184654146036    0.01594744   1.8755476312609647   0.016303217   0.9132976622425212  0.014618652   14.359505   14.703383  13.84331   1021.3745      1692.3877      0.97578895  1.2055027        -9.221251    6.7962427    303.09523730720935  -27.787137577515743  6268.863        6260.8765             6277.1826             4.2543          4.2417                4.2669                -0.3655       -0.3711             -0.3599             1043.2319           1028.8033                 1058.513                  0.3813        0.3771              0.3856              nan           nan                 nan                 nan                nan                      nan                      nan            nan                  nan                  F                     nan        nan          nan          nan          nan        nan             nan         nan           nan          nan              nan           nan             nan           nan             --                 nan            nan              nan            nan              nan           nan             nan          nan            nan              nan                nan          nan            nan            nan              nan            nan              nan          nan            nan              nan                nan           nan\n",
       "4           0.140988    -88.624542  12.574  12.226  AAA        4612059856678435456  7.222961   6.909171651019708    0.014309556  -2.105828540221265   0.0136996545  1.142868834794636   0.012145737   13.668672   14.00575   13.163239  1205.9458      2095.7776      1.0062797   1.2021444        33.838387    3.4127908    303.27634091220216  -28.469529127008617  6146.648        6133.3306             6160.546              4.2041          4.197                 4.2109                -0.5671       -0.5814             -0.5514             858.9404            850.0156                  867.84                    0.2999        0.2937              0.3065              nan           nan                 nan                 nan                nan                      nan                      nan            nan                  nan                  F                     nan        nan          nan          nan          nan        nan             nan         nan           nan          nan              nan           nan             nan           nan             --                 nan            nan              nan            nan              nan           nan             nan          nan            nan              nan                nan          nan            nan            nan              nan            nan              nan          nan            nan              nan                nan           nan\n",
       "...         ...         ...         ...     ...     ...        ...                  ...        ...                  ...          ...                  ...           ...                 ...           ...         ...        ...        ...            ...            ...         ...              ...          ...          ...                 ...                  ...             ...                   ...                   ...             ...                   ...                   ...           ...                 ...                 ...                 ...                       ...                       ...           ...                 ...                 ...           ...                 ...                 ...                ...                      ...                      ...            ...                  ...                  ...                   ...        ...          ...          ...          ...        ...             ...         ...           ...          ...              ...           ...             ...           ...             ...                ...            ...              ...            ...              ...           ...             ...          ...            ...              ...                ...          ...            ...            ...              ...            ...              ...          ...            ...              ...                ...           ...\n",
       "29,127,326  359.121617  88.849464   12.791  12.414  AAA        2305490791832146432  4.029614   -0.8951470378522143  0.01455365   -3.9289311748326035  0.017279088   0.5963603953551687  0.013008298   14.046446   14.441862  13.47968   961.65857      1206.7952      0.97922367  1.2132953        -4.4090395   3.7515028    122.62790640386665  26.010265744280915   5864.338        5839.309              5880.9834             3.774           3.7556                3.7845                -0.5563       -0.5779             -0.5458             1395.1606           1381.1881                 1421.5767                 0.4194        0.4067              0.4284              nan           nan                 nan                 nan                nan                      nan                      nan            nan                  nan                  G                     nan        nan          nan          nan          nan        nan             nan         nan           nan          nan              nan           nan             nan           nan             --                 nan            nan              nan            nan              nan           nan             nan          nan            nan              nan                nan          nan            nan            nan              nan            nan              nan          nan            nan              nan                nan           nan\n",
       "29,127,327  359.476859  88.387932   13.072  12.66   AAA        2304711581685346432  10.118564  9.746954357302645    0.019540144  -2.71702261816708    0.017309012   1.192541824142351   0.015409919   14.306393   14.693643  13.742041  970.5339       1503.4253      0.9179697   1.2155246        -78.52453    4.5883493    122.51842977553947  25.55932221031494    5545.2944       5528.437              5556.9053             4.2616          4.254                 4.2698                -1.2724       -1.2979             -1.2508             821.5987            810.9293                  831.7571                  0.2287        0.2196              0.2348              nan           nan                 nan                 nan                nan                      nan                      nan            nan                  nan                  G                     nan        nan          nan          nan          nan        nan             nan         nan           nan          nan              nan           nan             nan           nan             --                 nan            nan              nan            nan              nan           nan             nan          nan            nan              nan                nan          nan            nan            nan              nan            nan              nan          nan            nan              nan                nan           nan\n",
       "29,127,328  359.704935  88.155998   12.469  11.92   AAA        2304646710499313408  24.277977  24.276081384949727   0.017281681  -0.3033332281423549  0.016044414   2.635903040983505   0.014043435   14.1010895  14.674556  13.384232  492.22974      828.08514      1.0255395   1.242264         -8.928036    2.7536664    122.46781764928367  25.33183850890207    4983.408        4969.7314             5000.904              4.5079          4.5034                4.5125                -0.1674       -0.1797             -0.1534             376.3951            374.2648                  378.8235                  0.3689        0.3606              0.3786              nan           nan                 nan                 nan                nan                      nan                      nan            nan                  nan                  K                     nan        nan          nan          nan          nan        nan             nan         nan           nan          nan              nan           nan             nan           nan             --                 nan            nan              nan            nan              nan           nan             nan          nan            nan              nan                nan          nan            nan            nan              nan            nan              nan          nan            nan              nan                nan           nan\n",
       "29,127,329  359.799848  88.985268   12.976  12.268  AAA        2305539513941136000  10.311739  -1.1558347554809572  0.024979863  10.246756138155417   0.023094444   2.8844735007745492  0.021700282   14.886021   15.63941   14.045272  331.04794      406.31857      0.95431924  1.275423         -27.380125   9.952364     122.67651932514369  26.139580203151045   4487.5913       4481.038              4494.3394             4.6252          4.6153                4.6396                0.4897        0.4712              0.4973              349.319             343.586                   353.6755                  0.409         0.4002              0.4162              nan           nan                 nan                 nan                nan                      nan                      nan            nan                  nan                  K                     nan        nan          nan          nan          nan        nan             nan         nan           nan          nan              nan           nan             nan           nan             --                 nan            nan              nan            nan              nan           nan             nan          nan            nan              nan                nan          nan            nan            nan              nan            nan              nan          nan            nan              nan                nan           nan\n",
       "29,127,330  359.909394  88.295273   13.087  12.508  AAA        2304698318826339328  19.401451  18.986569146748128   0.021996977  3.990799827264129    0.020262878   0.6766671974315497  0.017869946   14.728175   15.290057  14.016491  662.813        1084.6163      0.9303231   1.2429787        -0.36417353  8.358765     122.50893317096917  25.46627153250137    5366.3633       5350.058              5392.446              4.0708          4.0621                4.0775                -0.2335       -0.2572             -0.2078             1211.0175           1188.0756                 1242.256                  0.6851        0.6751              0.6994              nan           nan                 nan                 nan                nan                      nan                      nan            nan                  nan                  K                     nan        nan          nan          nan          nan        nan             nan         nan           nan          nan              nan           nan             nan           nan             --                 nan            nan              nan            nan              nan           nan             nan          nan            nan              nan                nan          nan            nan            nan              nan            nan              nan          nan            nan              nan                nan           nan"
      ]
     },
     "execution_count": 7,
     "metadata": {},
     "output_type": "execute_result"
    }
   ],
   "source": [
    "# see the data\n",
    "files = glob(join(combine_data_dir, \"*.hdf5\"))\n",
    "files.sort()\n",
    "data = vaex.open_many(files)\n",
    "data"
   ]
  },
  {
   "cell_type": "code",
   "execution_count": 8,
   "metadata": {
    "execution": {
     "iopub.execute_input": "2023-01-18T17:10:22.765406Z",
     "iopub.status.busy": "2023-01-18T17:10:22.765161Z",
     "iopub.status.idle": "2023-01-18T17:10:22.769204Z",
     "shell.execute_reply": "2023-01-18T17:10:22.768548Z",
     "shell.execute_reply.started": "2023-01-18T17:10:22.765380Z"
    }
   },
   "outputs": [
    {
     "data": {
      "text/plain": [
       "['ra',\n",
       " 'dec',\n",
       " 'Jmag',\n",
       " 'Kmag',\n",
       " 'ph_qual',\n",
       " 'source_id',\n",
       " 'pm',\n",
       " 'pmra',\n",
       " 'e_pmra',\n",
       " 'pmdec',\n",
       " 'e_pmdec',\n",
       " 'parallax',\n",
       " 'e_parallax',\n",
       " 'gmag',\n",
       " 'bpmag',\n",
       " 'rpmag',\n",
       " 'fb_over_err',\n",
       " 'fr_over_err',\n",
       " 'ruwe',\n",
       " 'excess_factor',\n",
       " 'rv_gaia',\n",
       " 'e_rv_gaia',\n",
       " 'GLON',\n",
       " 'GLAT',\n",
       " 'teff_gspphot',\n",
       " 'teff_gspphot_lower',\n",
       " 'teff_gspphot_upper',\n",
       " 'logg_gspphot',\n",
       " 'logg_gspphot_lower',\n",
       " 'logg_gspphot_upper',\n",
       " 'mh_gspphot',\n",
       " 'mh_gspphot_lower',\n",
       " 'mh_gspphot_upper',\n",
       " 'distance_gspphot',\n",
       " 'distance_gspphot_lower',\n",
       " 'distance_gspphot_upper',\n",
       " 'ag_gspphot',\n",
       " 'ag_gspphot_lower',\n",
       " 'ag_gspphot_upper',\n",
       " 'mh_gspspec',\n",
       " 'mh_gspspec_lower',\n",
       " 'mh_gspspec_upper',\n",
       " 'alphafe_gspspec',\n",
       " 'alphafe_gspspec_lower',\n",
       " 'alphafe_gspspec_upper',\n",
       " 'fem_gspspec',\n",
       " 'fem_gspspec_lower',\n",
       " 'fem_gspspec_upper',\n",
       " 'spectraltype_esphs',\n",
       " 'rv_rave',\n",
       " 'e_rv_rave',\n",
       " 'teff_rave',\n",
       " 'logg_rave',\n",
       " 'mh_rave',\n",
       " 'alphafe_rave',\n",
       " 'rv_galah',\n",
       " 'e_rv_galah',\n",
       " 'feh_galah',\n",
       " 'alphafe_galah',\n",
       " 'teff_galah',\n",
       " 'e_teff_galah',\n",
       " 'logg_galah',\n",
       " 'e_logg_galah',\n",
       " 'subclass_lamost',\n",
       " 'teff_lamost',\n",
       " 'e_teff_lamost',\n",
       " 'logg_lamost',\n",
       " 'e_logg_lamost',\n",
       " 'feh_lamost',\n",
       " 'e_feh_lamost',\n",
       " 'rv_lamost',\n",
       " 'e_rv_lamost',\n",
       " 'alpham_lamost',\n",
       " 'e_alpham_lamost',\n",
       " 'rv_apogee',\n",
       " 'e_rv_apogee',\n",
       " 'teff_apogee',\n",
       " 'e_teff_apogee',\n",
       " 'logg_apogee',\n",
       " 'e_logg_apogee',\n",
       " 'mh_apogee',\n",
       " 'e_mh_apogee',\n",
       " 'alpham_apogee',\n",
       " 'e_alpham_apogee',\n",
       " 'feh_apogee',\n",
       " 'e_feh_apogee']"
      ]
     },
     "execution_count": 8,
     "metadata": {},
     "output_type": "execute_result"
    }
   ],
   "source": [
    "data.column_names"
   ]
  },
  {
   "attachments": {},
   "cell_type": "markdown",
   "metadata": {},
   "source": [
    "# Reality Check\n",
    "\n",
    "Not all catalogs are created equal. Some catalogs are more complete than others. Some catalogs are more accurate than others.\n",
    "\n",
    "Let's examine the details of the catalogs we are using.\n",
    "\n",
    "| pars        | Gaia | gspphot | gspspec | rave | galah | lamost | apogee |\n",
    "| ----------- | ---- | ------- | ------- | ---- | ----- | ------ | ------ |\n",
    "| rv          |  x   |         |         |   x  |   x   |    x   |   x    |\n",
    "| `e_rv`      | `x`  |         |         |  `x` |  `x`  |   `x`  |  `x`   |\n",
    "| teff        |      |    x    |         |   x  |   x   |    x   |   x    |\n",
    "| `e_teff`    |      |  `xx`   |         |      |  `x`  |   `x`  |  `x`   |\n",
    "| logg        |      |    x    |         |   x  |   x   |    x   |   x    |\n",
    "| `e_logg`    |      |  `xx`   |         |      |  `x`  |   `x`  |  `x`   |\n",
    "| feh         |      |         |         |      |   x   |    x   |   x    |\n",
    "| `e_feh`     |      |         |         |      |       |   `x`  |  `x`   |\n",
    "| mh          |      |    x    |   x     |   x  |       |        |   x    |\n",
    "| `e_mh`      |      |  `xx`   |  `xx`   |      |       |        |  `x`   |\n",
    "| fem         |      |         |   x     |      |       |        |        |\n",
    "| `e_fem`     |      |         |  `xx`   |      |       |        |        |\n",
    "| alphafe     |      |         |   x     |   x  |   x   |        |        |\n",
    "| `e_alphafe` |      |         |  `xx`   |      |       |        |        |\n",
    "| alpham      |      |         |         |      |       |    x   |   x    |\n",
    "| `e_alpham`  |      |         |         |      |       |   `x`  |  `x`   |\n",
    "| dist        |      |    x    |         |      |       |        |        |\n",
    "| `e_dist`    |      |   `xx`  |         |      |       |        |        |\n",
    "| ag          |      |    x    |         |      |       |        |        |\n",
    "| `e_ag`      |      |   `xx`  |         |      |       |        |        |\n"
   ]
  },
  {
   "attachments": {},
   "cell_type": "markdown",
   "metadata": {},
   "source": [
    "`xx` means there are upper and lower limits."
   ]
  },
  {
   "attachments": {},
   "cell_type": "markdown",
   "metadata": {},
   "source": [
    "The most basic questions are\n",
    "1. How to select the best parameters for a given star?\n",
    "2. What's the difference between $\\text{M}$ and $\\text{Fe}$? Are they actually the same thing?"
   ]
  },
  {
   "attachments": {},
   "cell_type": "markdown",
   "metadata": {},
   "source": [
    "let's investigate the first question.\n",
    "\n",
    "**Naive Approach** \n",
    "\n",
    "Just calculate the weighted average. This method is simple but not robust."
   ]
  },
  {
   "attachments": {},
   "cell_type": "markdown",
   "metadata": {},
   "source": [
    "**Better Approach**\n",
    "\n",
    "let's say we have N catalogs for parameters a. Here's the procedure:\n",
    "\n",
    "1. If N=1, then select the only catalog.\n",
    "2. If N=2, check wether both catalogs have uncertainties. \n",
    "    * If yes, then select the catalog with the smaller uncertainty.\n",
    "    * If no, then select the catalog with uncertainties.\n",
    "3. If N>2, again, filter out the catalogs without uncertainties. Let there are M catalogs left.\n",
    "    * If M=1, then select the only catalog.\n",
    "    * If M=2, then select the catalog with the smaller uncertainty.\n",
    "    * If M>2, then calculate their weighted average. Assume the weighted average is $a_{\\text{avg}}$. Then filter again the catalogs that's contain $a_{\\text{avg}}$ inside their $[a_i-2\\sigma^{-}_{a,i},a_i+2\\sigma^{+}_{a,i}]$  range. Let there are K catalogs left.\n",
    "        * If K=0, then select the catalog with the smaller uncertainty from M.\n",
    "        * If K=1, then select the only catalog.\n",
    "        * If K>2, then select the catalog with the smaller uncertainty.\n",
    "\n",
    "The third criteria is used to filter out the catalogs that are not reliable. Other catalogs were used to corroborate the best estimate.\n",
    "\n",
    "The weight is calculated as $w_i = \\frac{1}{\\sigma_i^2}$.\n",
    "\n",
    "And if there are upper and lower $\\sigma$, calculate the effective $\\sigma$ as $\\sigma_i = \\sqrt{\\sigma_i^+ \\sigma_i^-}$."
   ]
  },
  {
   "attachments": {},
   "cell_type": "markdown",
   "metadata": {},
   "source": [
    "Experiment"
   ]
  },
  {
   "cell_type": "code",
   "execution_count": 180,
   "metadata": {},
   "outputs": [
    {
     "data": {
      "text/html": [
       "<div>\n",
       "<style scoped>\n",
       "    .dataframe tbody tr th:only-of-type {\n",
       "        vertical-align: middle;\n",
       "    }\n",
       "\n",
       "    .dataframe tbody tr th {\n",
       "        vertical-align: top;\n",
       "    }\n",
       "\n",
       "    .dataframe thead th {\n",
       "        text-align: right;\n",
       "    }\n",
       "</style>\n",
       "<table border=\"1\" class=\"dataframe\">\n",
       "  <thead>\n",
       "    <tr style=\"text-align: right;\">\n",
       "      <th></th>\n",
       "      <th>p_a</th>\n",
       "      <th>e_p_a</th>\n",
       "      <th>p_b</th>\n",
       "      <th>e_p_b</th>\n",
       "      <th>p_c</th>\n",
       "      <th>e_p_c</th>\n",
       "      <th>p_d</th>\n",
       "      <th>p_e</th>\n",
       "      <th>p_e_lower</th>\n",
       "      <th>p_e_upper</th>\n",
       "    </tr>\n",
       "  </thead>\n",
       "  <tbody>\n",
       "    <tr>\n",
       "      <th>0</th>\n",
       "      <td>6.047914</td>\n",
       "      <td>0.147754</td>\n",
       "      <td>6.560734</td>\n",
       "      <td>0.105575</td>\n",
       "      <td>3.967774</td>\n",
       "      <td>2.372239</td>\n",
       "      <td>4.013093</td>\n",
       "      <td>NaN</td>\n",
       "      <td>NaN</td>\n",
       "      <td>NaN</td>\n",
       "    </tr>\n",
       "    <tr>\n",
       "      <th>1</th>\n",
       "      <td>5.312857</td>\n",
       "      <td>0.832989</td>\n",
       "      <td>5.266696</td>\n",
       "      <td>0.016170</td>\n",
       "      <td>5.907332</td>\n",
       "      <td>0.198270</td>\n",
       "      <td>4.738887</td>\n",
       "      <td>4.557447</td>\n",
       "      <td>3.413707</td>\n",
       "      <td>5.068309</td>\n",
       "    </tr>\n",
       "    <tr>\n",
       "      <th>2</th>\n",
       "      <td>3.470026</td>\n",
       "      <td>0.800165</td>\n",
       "      <td>3.448840</td>\n",
       "      <td>0.426934</td>\n",
       "      <td>NaN</td>\n",
       "      <td>NaN</td>\n",
       "      <td>4.425902</td>\n",
       "      <td>4.612223</td>\n",
       "      <td>2.297146</td>\n",
       "      <td>5.487752</td>\n",
       "    </tr>\n",
       "    <tr>\n",
       "      <th>3</th>\n",
       "      <td>5.403401</td>\n",
       "      <td>0.297169</td>\n",
       "      <td>6.198020</td>\n",
       "      <td>1.932712</td>\n",
       "      <td>4.616781</td>\n",
       "      <td>0.052021</td>\n",
       "      <td>4.882027</td>\n",
       "      <td>5.589271</td>\n",
       "      <td>5.581508</td>\n",
       "      <td>5.905538</td>\n",
       "    </tr>\n",
       "    <tr>\n",
       "      <th>4</th>\n",
       "      <td>5.963685</td>\n",
       "      <td>2.444398</td>\n",
       "      <td>6.556958</td>\n",
       "      <td>3.385710</td>\n",
       "      <td>5.771103</td>\n",
       "      <td>1.075891</td>\n",
       "      <td>4.854049</td>\n",
       "      <td>5.482341</td>\n",
       "      <td>5.345124</td>\n",
       "      <td>5.520206</td>\n",
       "    </tr>\n",
       "    <tr>\n",
       "      <th>...</th>\n",
       "      <td>...</td>\n",
       "      <td>...</td>\n",
       "      <td>...</td>\n",
       "      <td>...</td>\n",
       "      <td>...</td>\n",
       "      <td>...</td>\n",
       "      <td>...</td>\n",
       "      <td>...</td>\n",
       "      <td>...</td>\n",
       "      <td>...</td>\n",
       "    </tr>\n",
       "    <tr>\n",
       "      <th>95</th>\n",
       "      <td>4.469280</td>\n",
       "      <td>0.755339</td>\n",
       "      <td>NaN</td>\n",
       "      <td>NaN</td>\n",
       "      <td>4.807740</td>\n",
       "      <td>0.053910</td>\n",
       "      <td>4.443859</td>\n",
       "      <td>NaN</td>\n",
       "      <td>NaN</td>\n",
       "      <td>NaN</td>\n",
       "    </tr>\n",
       "    <tr>\n",
       "      <th>96</th>\n",
       "      <td>6.857128</td>\n",
       "      <td>0.662980</td>\n",
       "      <td>5.971388</td>\n",
       "      <td>3.006054</td>\n",
       "      <td>NaN</td>\n",
       "      <td>NaN</td>\n",
       "      <td>5.377374</td>\n",
       "      <td>6.308244</td>\n",
       "      <td>4.881889</td>\n",
       "      <td>6.888316</td>\n",
       "    </tr>\n",
       "    <tr>\n",
       "      <th>97</th>\n",
       "      <td>6.147862</td>\n",
       "      <td>1.614381</td>\n",
       "      <td>NaN</td>\n",
       "      <td>NaN</td>\n",
       "      <td>4.059319</td>\n",
       "      <td>0.002791</td>\n",
       "      <td>3.535561</td>\n",
       "      <td>NaN</td>\n",
       "      <td>NaN</td>\n",
       "      <td>NaN</td>\n",
       "    </tr>\n",
       "    <tr>\n",
       "      <th>98</th>\n",
       "      <td>3.789465</td>\n",
       "      <td>0.774673</td>\n",
       "      <td>6.374432</td>\n",
       "      <td>0.471772</td>\n",
       "      <td>5.488887</td>\n",
       "      <td>1.863085</td>\n",
       "      <td>NaN</td>\n",
       "      <td>NaN</td>\n",
       "      <td>NaN</td>\n",
       "      <td>NaN</td>\n",
       "    </tr>\n",
       "    <tr>\n",
       "      <th>99</th>\n",
       "      <td>5.585148</td>\n",
       "      <td>1.291884</td>\n",
       "      <td>2.990554</td>\n",
       "      <td>0.587522</td>\n",
       "      <td>6.475853</td>\n",
       "      <td>0.159089</td>\n",
       "      <td>6.387236</td>\n",
       "      <td>NaN</td>\n",
       "      <td>NaN</td>\n",
       "      <td>NaN</td>\n",
       "    </tr>\n",
       "  </tbody>\n",
       "</table>\n",
       "<p>100 rows × 10 columns</p>\n",
       "</div>"
      ],
      "text/plain": [
       "         p_a     e_p_a       p_b     e_p_b       p_c     e_p_c       p_d  \\\n",
       "0   6.047914  0.147754  6.560734  0.105575  3.967774  2.372239  4.013093   \n",
       "1   5.312857  0.832989  5.266696  0.016170  5.907332  0.198270  4.738887   \n",
       "2   3.470026  0.800165  3.448840  0.426934       NaN       NaN  4.425902   \n",
       "3   5.403401  0.297169  6.198020  1.932712  4.616781  0.052021  4.882027   \n",
       "4   5.963685  2.444398  6.556958  3.385710  5.771103  1.075891  4.854049   \n",
       "..       ...       ...       ...       ...       ...       ...       ...   \n",
       "95  4.469280  0.755339       NaN       NaN  4.807740  0.053910  4.443859   \n",
       "96  6.857128  0.662980  5.971388  3.006054       NaN       NaN  5.377374   \n",
       "97  6.147862  1.614381       NaN       NaN  4.059319  0.002791  3.535561   \n",
       "98  3.789465  0.774673  6.374432  0.471772  5.488887  1.863085       NaN   \n",
       "99  5.585148  1.291884  2.990554  0.587522  6.475853  0.159089  6.387236   \n",
       "\n",
       "         p_e  p_e_lower  p_e_upper  \n",
       "0        NaN        NaN        NaN  \n",
       "1   4.557447   3.413707   5.068309  \n",
       "2   4.612223   2.297146   5.487752  \n",
       "3   5.589271   5.581508   5.905538  \n",
       "4   5.482341   5.345124   5.520206  \n",
       "..       ...        ...        ...  \n",
       "95       NaN        NaN        NaN  \n",
       "96  6.308244   4.881889   6.888316  \n",
       "97       NaN        NaN        NaN  \n",
       "98       NaN        NaN        NaN  \n",
       "99       NaN        NaN        NaN  \n",
       "\n",
       "[100 rows x 10 columns]"
      ]
     },
     "execution_count": 180,
     "metadata": {},
     "output_type": "execute_result"
    }
   ],
   "source": [
    "import pandas as pd\n",
    "\n",
    "# mock catalogs\n",
    "catalogs = [\"a\", \"b\", \"c\", \"d\", \"e\"]\n",
    "data = {}\n",
    "rows = 100\n",
    "for catalog in catalogs:\n",
    "    # randomly selected m rows as None, at most 50% of the rows\n",
    "    m = rows - np.random.randint(0, np.floor(rows*0.5).astype(int))\n",
    "\n",
    "    # Create an array with all True values\n",
    "    setNone = np.full(rows, True)\n",
    "\n",
    "    # Set m random values to False\n",
    "    setNone[np.random.choice(rows, m, replace=False)] = False\n",
    "\n",
    "    # Create an array of length N with random values\n",
    "    p = np.random.randn(rows)+5\n",
    "    ep = np.random.randn(rows)**2\n",
    "    ep_upper = np.random.randn(rows)**2\n",
    "\n",
    "    # Set values in my_array to None where arr is True\n",
    "    p[setNone] = None\n",
    "    ep[setNone] = None\n",
    "    if not catalog in [\"d\", \"e\"]:\n",
    "        d = {f\"p_{catalog}\": p, f\"e_p_{catalog}\": ep}\n",
    "    # catalogs d has no uncertainty\n",
    "    elif catalog == \"d\":\n",
    "        d = {f\"p_{catalog}\": p}\n",
    "    # catalogs e has upper and lower values\n",
    "    else:\n",
    "        d = {f\"p_{catalog}\": p, f\"p_{catalog}_lower\": p-ep, f\"p_{catalog}_upper\": p+ep_upper}\n",
    "    data.update(d)\n",
    "\n",
    "df = pd.DataFrame(data)\n",
    "df"
   ]
  },
  {
   "cell_type": "code",
   "execution_count": 149,
   "metadata": {},
   "outputs": [
    {
     "data": {
      "text/html": [
       "<div>\n",
       "<style scoped>\n",
       "    .dataframe tbody tr th:only-of-type {\n",
       "        vertical-align: middle;\n",
       "    }\n",
       "\n",
       "    .dataframe tbody tr th {\n",
       "        vertical-align: top;\n",
       "    }\n",
       "\n",
       "    .dataframe thead th {\n",
       "        text-align: right;\n",
       "    }\n",
       "</style>\n",
       "<table border=\"1\" class=\"dataframe\">\n",
       "  <thead>\n",
       "    <tr style=\"text-align: right;\">\n",
       "      <th></th>\n",
       "      <th>p_a</th>\n",
       "      <th>e_p_a</th>\n",
       "      <th>p_b</th>\n",
       "      <th>e_p_b</th>\n",
       "      <th>p_c</th>\n",
       "      <th>e_p_c</th>\n",
       "      <th>p_d</th>\n",
       "      <th>p_e</th>\n",
       "      <th>p_e_lower</th>\n",
       "      <th>p_e_upper</th>\n",
       "    </tr>\n",
       "  </thead>\n",
       "  <tbody>\n",
       "    <tr>\n",
       "      <th>0</th>\n",
       "      <td>NaN</td>\n",
       "      <td>NaN</td>\n",
       "      <td>5.631811</td>\n",
       "      <td>1.347625</td>\n",
       "      <td>NaN</td>\n",
       "      <td>NaN</td>\n",
       "      <td>NaN</td>\n",
       "      <td>NaN</td>\n",
       "      <td>NaN</td>\n",
       "      <td>NaN</td>\n",
       "    </tr>\n",
       "    <tr>\n",
       "      <th>1</th>\n",
       "      <td>5.323361</td>\n",
       "      <td>0.285841</td>\n",
       "      <td>3.404092</td>\n",
       "      <td>1.048328</td>\n",
       "      <td>5.720834</td>\n",
       "      <td>0.066097</td>\n",
       "      <td>4.813255</td>\n",
       "      <td>6.012579</td>\n",
       "      <td>5.042866</td>\n",
       "      <td>6.712576</td>\n",
       "    </tr>\n",
       "    <tr>\n",
       "      <th>2</th>\n",
       "      <td>5.898111</td>\n",
       "      <td>4.774583</td>\n",
       "      <td>6.014635</td>\n",
       "      <td>0.066699</td>\n",
       "      <td>NaN</td>\n",
       "      <td>NaN</td>\n",
       "      <td>2.934087</td>\n",
       "      <td>3.667190</td>\n",
       "      <td>3.227620</td>\n",
       "      <td>3.740417</td>\n",
       "    </tr>\n",
       "    <tr>\n",
       "      <th>3</th>\n",
       "      <td>5.156259</td>\n",
       "      <td>0.262507</td>\n",
       "      <td>NaN</td>\n",
       "      <td>NaN</td>\n",
       "      <td>NaN</td>\n",
       "      <td>NaN</td>\n",
       "      <td>5.389533</td>\n",
       "      <td>3.954414</td>\n",
       "      <td>3.272841</td>\n",
       "      <td>5.944132</td>\n",
       "    </tr>\n",
       "    <tr>\n",
       "      <th>4</th>\n",
       "      <td>4.036872</td>\n",
       "      <td>0.014642</td>\n",
       "      <td>NaN</td>\n",
       "      <td>NaN</td>\n",
       "      <td>NaN</td>\n",
       "      <td>NaN</td>\n",
       "      <td>3.694607</td>\n",
       "      <td>4.916049</td>\n",
       "      <td>4.914918</td>\n",
       "      <td>4.972522</td>\n",
       "    </tr>\n",
       "    <tr>\n",
       "      <th>5</th>\n",
       "      <td>NaN</td>\n",
       "      <td>NaN</td>\n",
       "      <td>6.910569</td>\n",
       "      <td>0.111996</td>\n",
       "      <td>NaN</td>\n",
       "      <td>NaN</td>\n",
       "      <td>NaN</td>\n",
       "      <td>NaN</td>\n",
       "      <td>NaN</td>\n",
       "      <td>NaN</td>\n",
       "    </tr>\n",
       "    <tr>\n",
       "      <th>6</th>\n",
       "      <td>7.297497</td>\n",
       "      <td>0.007371</td>\n",
       "      <td>NaN</td>\n",
       "      <td>NaN</td>\n",
       "      <td>4.872469</td>\n",
       "      <td>0.000044</td>\n",
       "      <td>5.202438</td>\n",
       "      <td>5.823727</td>\n",
       "      <td>5.515169</td>\n",
       "      <td>5.876306</td>\n",
       "    </tr>\n",
       "    <tr>\n",
       "      <th>7</th>\n",
       "      <td>4.375359</td>\n",
       "      <td>0.081423</td>\n",
       "      <td>NaN</td>\n",
       "      <td>NaN</td>\n",
       "      <td>NaN</td>\n",
       "      <td>NaN</td>\n",
       "      <td>4.172299</td>\n",
       "      <td>5.396396</td>\n",
       "      <td>5.315162</td>\n",
       "      <td>6.682889</td>\n",
       "    </tr>\n",
       "    <tr>\n",
       "      <th>8</th>\n",
       "      <td>NaN</td>\n",
       "      <td>NaN</td>\n",
       "      <td>NaN</td>\n",
       "      <td>NaN</td>\n",
       "      <td>5.687031</td>\n",
       "      <td>0.000286</td>\n",
       "      <td>4.415748</td>\n",
       "      <td>5.824775</td>\n",
       "      <td>5.757863</td>\n",
       "      <td>6.426581</td>\n",
       "    </tr>\n",
       "    <tr>\n",
       "      <th>9</th>\n",
       "      <td>4.939021</td>\n",
       "      <td>0.485777</td>\n",
       "      <td>4.116037</td>\n",
       "      <td>0.057304</td>\n",
       "      <td>NaN</td>\n",
       "      <td>NaN</td>\n",
       "      <td>4.988023</td>\n",
       "      <td>4.971456</td>\n",
       "      <td>4.958934</td>\n",
       "      <td>5.276347</td>\n",
       "    </tr>\n",
       "  </tbody>\n",
       "</table>\n",
       "</div>"
      ],
      "text/plain": [
       "        p_a     e_p_a       p_b     e_p_b       p_c     e_p_c       p_d  \\\n",
       "0       NaN       NaN  5.631811  1.347625       NaN       NaN       NaN   \n",
       "1  5.323361  0.285841  3.404092  1.048328  5.720834  0.066097  4.813255   \n",
       "2  5.898111  4.774583  6.014635  0.066699       NaN       NaN  2.934087   \n",
       "3  5.156259  0.262507       NaN       NaN       NaN       NaN  5.389533   \n",
       "4  4.036872  0.014642       NaN       NaN       NaN       NaN  3.694607   \n",
       "5       NaN       NaN  6.910569  0.111996       NaN       NaN       NaN   \n",
       "6  7.297497  0.007371       NaN       NaN  4.872469  0.000044  5.202438   \n",
       "7  4.375359  0.081423       NaN       NaN       NaN       NaN  4.172299   \n",
       "8       NaN       NaN       NaN       NaN  5.687031  0.000286  4.415748   \n",
       "9  4.939021  0.485777  4.116037  0.057304       NaN       NaN  4.988023   \n",
       "\n",
       "        p_e  p_e_lower  p_e_upper  \n",
       "0       NaN        NaN        NaN  \n",
       "1  6.012579   5.042866   6.712576  \n",
       "2  3.667190   3.227620   3.740417  \n",
       "3  3.954414   3.272841   5.944132  \n",
       "4  4.916049   4.914918   4.972522  \n",
       "5       NaN        NaN        NaN  \n",
       "6  5.823727   5.515169   5.876306  \n",
       "7  5.396396   5.315162   6.682889  \n",
       "8  5.824775   5.757863   6.426581  \n",
       "9  4.971456   4.958934   5.276347  "
      ]
     },
     "execution_count": 149,
     "metadata": {},
     "output_type": "execute_result"
    }
   ],
   "source": [
    "# change the first row to None except for p_b and e_p_b\n",
    "for col in df.columns:\n",
    "    if not col in [\"p_b\", \"e_p_b\"]:\n",
    "        df.loc[0, col] = None\n",
    "    if not col in [\"p_b\", \"e_p_b\", \"p_d\"]:\n",
    "        df.loc[5, col] = None\n",
    "df[:10]"
   ]
  },
  {
   "attachments": {},
   "cell_type": "markdown",
   "metadata": {},
   "source": [
    "How do we handle it?\n",
    "\n",
    "We are going to iterate over each rows. Here are the steps:\n",
    "\n",
    "1. Create a dict cats, where it contains this signature: \n",
    "```\n",
    "cats = {\n",
    "    name: str, \n",
    "    value: float, \n",
    "    e_value_upper: float, \n",
    "    e_value_lower: float, \n",
    "    e_effective: float,\n",
    "    sym: bool\n",
    "}[]\n",
    "```\n",
    "1. desc:\n",
    "    * name: the name of the catalog\n",
    "    * value: the (median/mean/mode/best) value of the parameter\n",
    "    * e_value_upper: the upper uncertainty of the parameter\n",
    "    * e_value_lower: the lower uncertainty of the parameter\n",
    "    * sym: whether the uncertainties are symmetric \n",
    "2. Check the length of non-null values of cats. If it's 1, then select the only catalog.\n",
    "3. If it's 2, check wether both catalogs have uncertainties. \n",
    "    * If yes, then select the catalog with the smaller uncertainty.\n",
    "    * If no, then select the catalog with uncertainties.\n",
    "4. If it's >2, again, filter out the catalogs without uncertainties. Let there are M catalogs left.\n",
    "    * If M=1, then select the only catalog.\n",
    "    * If M=2, then select the catalog with the smaller uncertainty.\n",
    "    * If M>2, then calculate their weighted average. Assume the weighted average is $a_{\\text{avg}}$. Then filter again the catalogs that's contain $a_{\\text{avg}}$ inside their $[a_i-2\\sigma^{-}_{a,i},a_i+2\\sigma^{+}_{a,i}]$  range. Let there are K catalogs left.\n",
    "        * If K=1, then select the only catalog.\n",
    "        * If K=2, then select the catalog with the smaller uncertainty.\n",
    "        * If K>2, calculate the weighted average again. Assume the weighted average is $a_{\\text{avg}}$. Then filter again the catalogs that's contain $a_{\\text{avg}}$ inside their $[a_i-2\\sigma^{-}_{a,i},a_i+2\\sigma^{+}_{a,i}]$  range. Let there are L catalogs left.\n",
    "            * If L=0, then select the catalog with the smaller uncertainty from M.\n",
    "            * If L=1, then select the only catalog.\n",
    "            * If L>1, then select the catalog with the smaller uncertainty.\n"
   ]
  },
  {
   "cell_type": "code",
   "execution_count": 181,
   "metadata": {},
   "outputs": [
    {
     "data": {
      "text/html": [
       "<div>\n",
       "<style scoped>\n",
       "    .dataframe tbody tr th:only-of-type {\n",
       "        vertical-align: middle;\n",
       "    }\n",
       "\n",
       "    .dataframe tbody tr th {\n",
       "        vertical-align: top;\n",
       "    }\n",
       "\n",
       "    .dataframe thead th {\n",
       "        text-align: right;\n",
       "    }\n",
       "</style>\n",
       "<table border=\"1\" class=\"dataframe\">\n",
       "  <thead>\n",
       "    <tr style=\"text-align: right;\">\n",
       "      <th></th>\n",
       "      <th>p_a</th>\n",
       "      <th>e_p_a</th>\n",
       "      <th>p_b</th>\n",
       "      <th>e_p_b</th>\n",
       "      <th>p_c</th>\n",
       "      <th>e_p_c</th>\n",
       "      <th>p_d</th>\n",
       "      <th>p_e</th>\n",
       "      <th>p_e_lower</th>\n",
       "      <th>p_e_upper</th>\n",
       "      <th>p</th>\n",
       "      <th>p_cat</th>\n",
       "      <th>p_el</th>\n",
       "      <th>p_eu</th>\n",
       "      <th>p_sym</th>\n",
       "    </tr>\n",
       "  </thead>\n",
       "  <tbody>\n",
       "    <tr>\n",
       "      <th>0</th>\n",
       "      <td>6.047914</td>\n",
       "      <td>0.147754</td>\n",
       "      <td>6.560734</td>\n",
       "      <td>0.105575</td>\n",
       "      <td>3.967774</td>\n",
       "      <td>2.372239</td>\n",
       "      <td>4.013093</td>\n",
       "      <td>NaN</td>\n",
       "      <td>NaN</td>\n",
       "      <td>NaN</td>\n",
       "      <td>6.560734</td>\n",
       "      <td>b</td>\n",
       "      <td>0.105575</td>\n",
       "      <td>0.105575</td>\n",
       "      <td>True</td>\n",
       "    </tr>\n",
       "    <tr>\n",
       "      <th>1</th>\n",
       "      <td>5.312857</td>\n",
       "      <td>0.832989</td>\n",
       "      <td>5.266696</td>\n",
       "      <td>0.016170</td>\n",
       "      <td>5.907332</td>\n",
       "      <td>0.198270</td>\n",
       "      <td>4.738887</td>\n",
       "      <td>4.557447</td>\n",
       "      <td>3.413707</td>\n",
       "      <td>5.068309</td>\n",
       "      <td>5.266696</td>\n",
       "      <td>b</td>\n",
       "      <td>0.016170</td>\n",
       "      <td>0.016170</td>\n",
       "      <td>True</td>\n",
       "    </tr>\n",
       "    <tr>\n",
       "      <th>2</th>\n",
       "      <td>3.470026</td>\n",
       "      <td>0.800165</td>\n",
       "      <td>3.448840</td>\n",
       "      <td>0.426934</td>\n",
       "      <td>NaN</td>\n",
       "      <td>NaN</td>\n",
       "      <td>4.425902</td>\n",
       "      <td>4.612223</td>\n",
       "      <td>2.297146</td>\n",
       "      <td>5.487752</td>\n",
       "      <td>3.448840</td>\n",
       "      <td>b</td>\n",
       "      <td>0.426934</td>\n",
       "      <td>0.426934</td>\n",
       "      <td>True</td>\n",
       "    </tr>\n",
       "    <tr>\n",
       "      <th>3</th>\n",
       "      <td>5.403401</td>\n",
       "      <td>0.297169</td>\n",
       "      <td>6.198020</td>\n",
       "      <td>1.932712</td>\n",
       "      <td>4.616781</td>\n",
       "      <td>0.052021</td>\n",
       "      <td>4.882027</td>\n",
       "      <td>5.589271</td>\n",
       "      <td>5.581508</td>\n",
       "      <td>5.905538</td>\n",
       "      <td>5.403401</td>\n",
       "      <td>a</td>\n",
       "      <td>0.297169</td>\n",
       "      <td>0.297169</td>\n",
       "      <td>True</td>\n",
       "    </tr>\n",
       "    <tr>\n",
       "      <th>4</th>\n",
       "      <td>5.963685</td>\n",
       "      <td>2.444398</td>\n",
       "      <td>6.556958</td>\n",
       "      <td>3.385710</td>\n",
       "      <td>5.771103</td>\n",
       "      <td>1.075891</td>\n",
       "      <td>4.854049</td>\n",
       "      <td>5.482341</td>\n",
       "      <td>5.345124</td>\n",
       "      <td>5.520206</td>\n",
       "      <td>5.482341</td>\n",
       "      <td>e</td>\n",
       "      <td>0.137217</td>\n",
       "      <td>0.037865</td>\n",
       "      <td>False</td>\n",
       "    </tr>\n",
       "    <tr>\n",
       "      <th>...</th>\n",
       "      <td>...</td>\n",
       "      <td>...</td>\n",
       "      <td>...</td>\n",
       "      <td>...</td>\n",
       "      <td>...</td>\n",
       "      <td>...</td>\n",
       "      <td>...</td>\n",
       "      <td>...</td>\n",
       "      <td>...</td>\n",
       "      <td>...</td>\n",
       "      <td>...</td>\n",
       "      <td>...</td>\n",
       "      <td>...</td>\n",
       "      <td>...</td>\n",
       "      <td>...</td>\n",
       "    </tr>\n",
       "    <tr>\n",
       "      <th>95</th>\n",
       "      <td>4.469280</td>\n",
       "      <td>0.755339</td>\n",
       "      <td>NaN</td>\n",
       "      <td>NaN</td>\n",
       "      <td>4.807740</td>\n",
       "      <td>0.053910</td>\n",
       "      <td>4.443859</td>\n",
       "      <td>NaN</td>\n",
       "      <td>NaN</td>\n",
       "      <td>NaN</td>\n",
       "      <td>4.807740</td>\n",
       "      <td>c</td>\n",
       "      <td>0.053910</td>\n",
       "      <td>0.053910</td>\n",
       "      <td>True</td>\n",
       "    </tr>\n",
       "    <tr>\n",
       "      <th>96</th>\n",
       "      <td>6.857128</td>\n",
       "      <td>0.662980</td>\n",
       "      <td>5.971388</td>\n",
       "      <td>3.006054</td>\n",
       "      <td>NaN</td>\n",
       "      <td>NaN</td>\n",
       "      <td>5.377374</td>\n",
       "      <td>6.308244</td>\n",
       "      <td>4.881889</td>\n",
       "      <td>6.888316</td>\n",
       "      <td>6.857128</td>\n",
       "      <td>a</td>\n",
       "      <td>0.662980</td>\n",
       "      <td>0.662980</td>\n",
       "      <td>True</td>\n",
       "    </tr>\n",
       "    <tr>\n",
       "      <th>97</th>\n",
       "      <td>6.147862</td>\n",
       "      <td>1.614381</td>\n",
       "      <td>NaN</td>\n",
       "      <td>NaN</td>\n",
       "      <td>4.059319</td>\n",
       "      <td>0.002791</td>\n",
       "      <td>3.535561</td>\n",
       "      <td>NaN</td>\n",
       "      <td>NaN</td>\n",
       "      <td>NaN</td>\n",
       "      <td>4.059319</td>\n",
       "      <td>c</td>\n",
       "      <td>0.002791</td>\n",
       "      <td>0.002791</td>\n",
       "      <td>True</td>\n",
       "    </tr>\n",
       "    <tr>\n",
       "      <th>98</th>\n",
       "      <td>3.789465</td>\n",
       "      <td>0.774673</td>\n",
       "      <td>6.374432</td>\n",
       "      <td>0.471772</td>\n",
       "      <td>5.488887</td>\n",
       "      <td>1.863085</td>\n",
       "      <td>NaN</td>\n",
       "      <td>NaN</td>\n",
       "      <td>NaN</td>\n",
       "      <td>NaN</td>\n",
       "      <td>6.374432</td>\n",
       "      <td>b</td>\n",
       "      <td>0.471772</td>\n",
       "      <td>0.471772</td>\n",
       "      <td>True</td>\n",
       "    </tr>\n",
       "    <tr>\n",
       "      <th>99</th>\n",
       "      <td>5.585148</td>\n",
       "      <td>1.291884</td>\n",
       "      <td>2.990554</td>\n",
       "      <td>0.587522</td>\n",
       "      <td>6.475853</td>\n",
       "      <td>0.159089</td>\n",
       "      <td>6.387236</td>\n",
       "      <td>NaN</td>\n",
       "      <td>NaN</td>\n",
       "      <td>NaN</td>\n",
       "      <td>6.475853</td>\n",
       "      <td>c</td>\n",
       "      <td>0.159089</td>\n",
       "      <td>0.159089</td>\n",
       "      <td>True</td>\n",
       "    </tr>\n",
       "  </tbody>\n",
       "</table>\n",
       "<p>100 rows × 15 columns</p>\n",
       "</div>"
      ],
      "text/plain": [
       "         p_a     e_p_a       p_b     e_p_b       p_c     e_p_c       p_d  \\\n",
       "0   6.047914  0.147754  6.560734  0.105575  3.967774  2.372239  4.013093   \n",
       "1   5.312857  0.832989  5.266696  0.016170  5.907332  0.198270  4.738887   \n",
       "2   3.470026  0.800165  3.448840  0.426934       NaN       NaN  4.425902   \n",
       "3   5.403401  0.297169  6.198020  1.932712  4.616781  0.052021  4.882027   \n",
       "4   5.963685  2.444398  6.556958  3.385710  5.771103  1.075891  4.854049   \n",
       "..       ...       ...       ...       ...       ...       ...       ...   \n",
       "95  4.469280  0.755339       NaN       NaN  4.807740  0.053910  4.443859   \n",
       "96  6.857128  0.662980  5.971388  3.006054       NaN       NaN  5.377374   \n",
       "97  6.147862  1.614381       NaN       NaN  4.059319  0.002791  3.535561   \n",
       "98  3.789465  0.774673  6.374432  0.471772  5.488887  1.863085       NaN   \n",
       "99  5.585148  1.291884  2.990554  0.587522  6.475853  0.159089  6.387236   \n",
       "\n",
       "         p_e  p_e_lower  p_e_upper         p p_cat      p_el      p_eu  p_sym  \n",
       "0        NaN        NaN        NaN  6.560734     b  0.105575  0.105575   True  \n",
       "1   4.557447   3.413707   5.068309  5.266696     b  0.016170  0.016170   True  \n",
       "2   4.612223   2.297146   5.487752  3.448840     b  0.426934  0.426934   True  \n",
       "3   5.589271   5.581508   5.905538  5.403401     a  0.297169  0.297169   True  \n",
       "4   5.482341   5.345124   5.520206  5.482341     e  0.137217  0.037865  False  \n",
       "..       ...        ...        ...       ...   ...       ...       ...    ...  \n",
       "95       NaN        NaN        NaN  4.807740     c  0.053910  0.053910   True  \n",
       "96  6.308244   4.881889   6.888316  6.857128     a  0.662980  0.662980   True  \n",
       "97       NaN        NaN        NaN  4.059319     c  0.002791  0.002791   True  \n",
       "98       NaN        NaN        NaN  6.374432     b  0.471772  0.471772   True  \n",
       "99       NaN        NaN        NaN  6.475853     c  0.159089  0.159089   True  \n",
       "\n",
       "[100 rows x 15 columns]"
      ]
     },
     "execution_count": 181,
     "metadata": {},
     "output_type": "execute_result"
    }
   ],
   "source": [
    "def assign(cat, keys):\n",
    "    return [cat[key] for key in keys]\n",
    "\n",
    "def best_pars(row, catalogs, par=\"p\"):\n",
    "    best_val = np.nan\n",
    "    best_cat = np.nan\n",
    "    best_el = np.nan\n",
    "    best_eu = np.nan\n",
    "    best_sym = np.nan\n",
    "    keys = [\"name\", \"value\", \"e_value_lower\", \"e_value_upper\", \"sym\"]\n",
    "    cats = []\n",
    "    for catalog in catalogs:\n",
    "        c = {\n",
    "            \"name\": catalog['name'], \n",
    "            \"value\": row[catalog['value']] if catalog['value'] != None else np.nan, \n",
    "            \"e_value_upper\": row[catalog['e_value_upper']] if catalog['e_value_upper'] != None else np.nan, \n",
    "            \"e_value_lower\": row[catalog['e_value_lower']] if catalog['e_value_lower'] != None else np.nan,\n",
    "            \"e_effective\": row[catalog['e_value_upper']] if catalog['e_value_upper'] != None else np.nan, \n",
    "            \"sym\": catalog['sym'] if catalog['sym'] != None else np.nan\n",
    "        }\n",
    "        if catalog['sym'] == False:\n",
    "            c['e_value_upper'] = c['e_value_upper'] - c['value']\n",
    "            c['e_value_lower'] = c['value'] - c['e_value_lower']\n",
    "            c['e_effective'] = np.sqrt([c['e_value_upper']*c['e_value_lower']][0])\n",
    "        cats.append(c)\n",
    "    cats_filtered = [c for c in cats if not np.isnan(c['value'])]\n",
    "    \n",
    "    if len(cats_filtered) == 1:\n",
    "        cat = cats_filtered[0]\n",
    "        best_cat, best_val, best_el, best_eu, best_sym= assign(cat, keys)\n",
    "    elif len(cats_filtered) > 1:\n",
    "        cats_filtered_2 = [c for c in cats_filtered if not np.isnan(c['e_value_upper'])]\n",
    "        if len(cats_filtered_2) == 1:\n",
    "            cat = cats_filtered_2[0]\n",
    "            best_cat, best_val, best_el, best_eu, best_sym = assign(cat, keys)\n",
    "        elif len(cats_filtered_2) == 2:\n",
    "            minarg = np.argmin([c['e_effective'] for c in cats_filtered_2])\n",
    "            cat = cats_filtered_2[minarg]\n",
    "            best_cat, best_val, best_el, best_eu, best_sym = assign(cat, keys) \n",
    "        elif len(cats_filtered_2) > 2:\n",
    "            weights = np.array([1/c['e_effective']**2 for c in cats_filtered_2])\n",
    "            avg = np.average([c['value'] for c in cats_filtered_2], weights=weights)\n",
    "            m = 2\n",
    "            mask = (avg > np.array([c['value']-m*c['e_value_lower'] for c in cats_filtered_2])) * (avg < np.array([c['value']+m*c['e_value_upper'] for c in cats_filtered_2]))\n",
    "            cats_filtered_3 = np.array(cats_filtered_2)[mask]\n",
    "            if len(cats_filtered_3) == 0:\n",
    "                minarg = np.argmin([c['e_effective'] for c in cats_filtered_2])\n",
    "                cat = cats_filtered_2[minarg]\n",
    "                best_cat, best_val, best_el, best_eu, best_sym = assign(cat, keys) \n",
    "            elif len(cats_filtered_3) == 1:\n",
    "                cat = cats_filtered_3[0]\n",
    "                best_cat, best_val, best_el, best_eu, best_sym = assign(cat, keys)\n",
    "            else:\n",
    "                minarg = np.argmin([c['e_effective'] for c in cats_filtered_3])\n",
    "                cat = cats_filtered_3[minarg]\n",
    "                best_cat, best_val, best_el, best_eu, best_sym = assign(cat, keys) \n",
    "    row[f'{par}'] = best_val\n",
    "    row[f'{par}_cat'] = best_cat\n",
    "    row[f'{par}_el'] = best_el\n",
    "    row[f'{par}_eu'] = best_eu\n",
    "    row[f'{par}_sym'] = best_sym\n",
    "    return row\n",
    "\n",
    "catalogs = [\n",
    "    {\"name\": \"a\", \"value\": \"p_a\", \"e_value_upper\": \"e_p_a\", \"e_value_lower\": \"e_p_a\", \"sym\": True},\n",
    "    {\"name\": \"b\", \"value\": \"p_b\", \"e_value_upper\": \"e_p_b\", \"e_value_lower\": \"e_p_b\", \"sym\": True},\n",
    "    {\"name\": \"c\", \"value\": \"p_c\", \"e_value_upper\": \"e_p_c\", \"e_value_lower\": \"e_p_c\", \"sym\": True},\n",
    "    {\"name\": \"d\", \"value\": \"p_d\", \"e_value_upper\": None, \"e_value_lower\": None, \"sym\": None},\n",
    "    {\"name\": \"e\", \"value\": \"p_e\", \"e_value_upper\": \"p_e_upper\", \"e_value_lower\": \"p_e_lower\", \"sym\": False},\n",
    "]\n",
    "\n",
    "df.apply(best_pars, axis=1, args=(catalogs, \"p\"))"
   ]
  },
  {
   "attachments": {},
   "cell_type": "markdown",
   "metadata": {},
   "source": [
    "## Second question"
   ]
  },
  {
   "attachments": {},
   "cell_type": "markdown",
   "metadata": {},
   "source": [
    "What's the difference between $\\text{M}$ and $\\text{Fe}$? Are they actually the same thing?\n",
    "\n",
    "Let's examine each catalogs.\n",
    "\n",
    "### Gaia\n",
    "\n",
    "There are two models for the metallicity for Gaia, GSP-PHOT and GSP-SPEC. Pretty much self explanatory. \n",
    "\n",
    "### RAVE\n",
    "\n",
    "rave has `mh` column. This is THE metallicity, means all metal elements.\n",
    "\n",
    "### GALAH\n",
    "\n",
    "galah has `feh` column. \n",
    "\n"
   ]
  },
  {
   "attachments": {},
   "cell_type": "markdown",
   "metadata": {},
   "source": [
    "look at each parameters first.\n",
    "\n",
    "\n",
    "## rv\n",
    "* Gaia, rave, galah, lamost, apogee\n",
    "only rave doesn't have uncertainties.\n"
   ]
  },
  {
   "cell_type": "code",
   "execution_count": 223,
   "metadata": {},
   "outputs": [
    {
     "name": "stdout",
     "output_type": "stream",
     "text": [
      "1\n",
      "2\n",
      "3\n",
      "4\n",
      "5\n"
     ]
    }
   ],
   "source": [
    "u = {\"a\": 1, \"b\": 2, \"c\": 3, \"d\": 4, \"e\": 5}\n",
    "for v in u.values():\n",
    "    print(v)"
   ]
  },
  {
   "cell_type": "code",
   "execution_count": 224,
   "metadata": {},
   "outputs": [
    {
     "name": "stdout",
     "output_type": "stream",
     "text": [
      "[                                                  ] 0% 2.09 s"
     ]
    },
    {
     "data": {
      "text/html": [
       "<div>\n",
       "<style scoped>\n",
       "    .dataframe tbody tr th:only-of-type {\n",
       "        vertical-align: middle;\n",
       "    }\n",
       "\n",
       "    .dataframe tbody tr th {\n",
       "        vertical-align: top;\n",
       "    }\n",
       "\n",
       "    .dataframe thead th {\n",
       "        text-align: right;\n",
       "    }\n",
       "</style>\n",
       "<table border=\"1\" class=\"dataframe\">\n",
       "  <thead>\n",
       "    <tr style=\"text-align: right;\">\n",
       "      <th></th>\n",
       "      <th>ra</th>\n",
       "      <th>dec</th>\n",
       "      <th>Jmag</th>\n",
       "      <th>Kmag</th>\n",
       "      <th>ph_qual</th>\n",
       "      <th>source_id</th>\n",
       "      <th>pm</th>\n",
       "      <th>pmra</th>\n",
       "      <th>e_pmra</th>\n",
       "      <th>pmdec</th>\n",
       "      <th>...</th>\n",
       "      <th>logg</th>\n",
       "      <th>logg_cat</th>\n",
       "      <th>logg_el</th>\n",
       "      <th>logg_eu</th>\n",
       "      <th>logg_sym</th>\n",
       "      <th>feh</th>\n",
       "      <th>feh_cat</th>\n",
       "      <th>feh_el</th>\n",
       "      <th>feh_eu</th>\n",
       "      <th>feh_sym</th>\n",
       "    </tr>\n",
       "  </thead>\n",
       "  <tbody>\n",
       "    <tr>\n",
       "      <th>0</th>\n",
       "      <td>0.180498</td>\n",
       "      <td>-89.243835</td>\n",
       "      <td>13.123</td>\n",
       "      <td>12.679</td>\n",
       "      <td>AAA</td>\n",
       "      <td>4611967772579686144</td>\n",
       "      <td>18.717230</td>\n",
       "      <td>17.611683</td>\n",
       "      <td>0.017650</td>\n",
       "      <td>-6.337455</td>\n",
       "      <td>...</td>\n",
       "      <td>4.4943</td>\n",
       "      <td>gspphot</td>\n",
       "      <td>0.0062</td>\n",
       "      <td>0.0048</td>\n",
       "      <td>False</td>\n",
       "      <td>NaN</td>\n",
       "      <td>NaN</td>\n",
       "      <td>NaN</td>\n",
       "      <td>NaN</td>\n",
       "      <td>NaN</td>\n",
       "    </tr>\n",
       "    <tr>\n",
       "      <th>1</th>\n",
       "      <td>0.338177</td>\n",
       "      <td>-89.481033</td>\n",
       "      <td>8.977</td>\n",
       "      <td>8.038</td>\n",
       "      <td>AAA</td>\n",
       "      <td>4611761957746621312</td>\n",
       "      <td>9.622093</td>\n",
       "      <td>7.609581</td>\n",
       "      <td>0.014361</td>\n",
       "      <td>-5.888884</td>\n",
       "      <td>...</td>\n",
       "      <td>2.0187</td>\n",
       "      <td>gspphot</td>\n",
       "      <td>0.2598</td>\n",
       "      <td>0.0247</td>\n",
       "      <td>False</td>\n",
       "      <td>NaN</td>\n",
       "      <td>NaN</td>\n",
       "      <td>NaN</td>\n",
       "      <td>NaN</td>\n",
       "      <td>NaN</td>\n",
       "    </tr>\n",
       "    <tr>\n",
       "      <th>2</th>\n",
       "      <td>0.392894</td>\n",
       "      <td>-89.286575</td>\n",
       "      <td>12.769</td>\n",
       "      <td>12.330</td>\n",
       "      <td>AAA</td>\n",
       "      <td>4611779756091083008</td>\n",
       "      <td>6.918577</td>\n",
       "      <td>4.898140</td>\n",
       "      <td>0.015574</td>\n",
       "      <td>-4.886198</td>\n",
       "      <td>...</td>\n",
       "      <td>4.3541</td>\n",
       "      <td>gspphot</td>\n",
       "      <td>0.0064</td>\n",
       "      <td>0.0065</td>\n",
       "      <td>False</td>\n",
       "      <td>NaN</td>\n",
       "      <td>NaN</td>\n",
       "      <td>NaN</td>\n",
       "      <td>NaN</td>\n",
       "      <td>NaN</td>\n",
       "    </tr>\n",
       "    <tr>\n",
       "      <th>3</th>\n",
       "      <td>0.491097</td>\n",
       "      <td>-89.325348</td>\n",
       "      <td>13.285</td>\n",
       "      <td>12.922</td>\n",
       "      <td>AAA</td>\n",
       "      <td>4611778656579457664</td>\n",
       "      <td>3.335455</td>\n",
       "      <td>2.758185</td>\n",
       "      <td>0.015947</td>\n",
       "      <td>1.875548</td>\n",
       "      <td>...</td>\n",
       "      <td>4.2543</td>\n",
       "      <td>gspphot</td>\n",
       "      <td>0.0126</td>\n",
       "      <td>0.0126</td>\n",
       "      <td>False</td>\n",
       "      <td>NaN</td>\n",
       "      <td>NaN</td>\n",
       "      <td>NaN</td>\n",
       "      <td>NaN</td>\n",
       "      <td>NaN</td>\n",
       "    </tr>\n",
       "    <tr>\n",
       "      <th>4</th>\n",
       "      <td>0.140988</td>\n",
       "      <td>-88.624542</td>\n",
       "      <td>12.574</td>\n",
       "      <td>12.226</td>\n",
       "      <td>AAA</td>\n",
       "      <td>4612059856678435456</td>\n",
       "      <td>7.222961</td>\n",
       "      <td>6.909172</td>\n",
       "      <td>0.014310</td>\n",
       "      <td>-2.105829</td>\n",
       "      <td>...</td>\n",
       "      <td>4.2041</td>\n",
       "      <td>gspphot</td>\n",
       "      <td>0.0071</td>\n",
       "      <td>0.0068</td>\n",
       "      <td>False</td>\n",
       "      <td>NaN</td>\n",
       "      <td>NaN</td>\n",
       "      <td>NaN</td>\n",
       "      <td>NaN</td>\n",
       "      <td>NaN</td>\n",
       "    </tr>\n",
       "    <tr>\n",
       "      <th>...</th>\n",
       "      <td>...</td>\n",
       "      <td>...</td>\n",
       "      <td>...</td>\n",
       "      <td>...</td>\n",
       "      <td>...</td>\n",
       "      <td>...</td>\n",
       "      <td>...</td>\n",
       "      <td>...</td>\n",
       "      <td>...</td>\n",
       "      <td>...</td>\n",
       "      <td>...</td>\n",
       "      <td>...</td>\n",
       "      <td>...</td>\n",
       "      <td>...</td>\n",
       "      <td>...</td>\n",
       "      <td>...</td>\n",
       "      <td>...</td>\n",
       "      <td>...</td>\n",
       "      <td>...</td>\n",
       "      <td>...</td>\n",
       "      <td>...</td>\n",
       "    </tr>\n",
       "    <tr>\n",
       "      <th>395</th>\n",
       "      <td>0.024475</td>\n",
       "      <td>-78.659286</td>\n",
       "      <td>13.155</td>\n",
       "      <td>12.596</td>\n",
       "      <td>AAA</td>\n",
       "      <td>4635634829086266112</td>\n",
       "      <td>17.914886</td>\n",
       "      <td>11.023372</td>\n",
       "      <td>0.025100</td>\n",
       "      <td>-14.121913</td>\n",
       "      <td>...</td>\n",
       "      <td>4.4972</td>\n",
       "      <td>gspphot</td>\n",
       "      <td>0.0350</td>\n",
       "      <td>0.0103</td>\n",
       "      <td>False</td>\n",
       "      <td>NaN</td>\n",
       "      <td>NaN</td>\n",
       "      <td>NaN</td>\n",
       "      <td>NaN</td>\n",
       "      <td>NaN</td>\n",
       "    </tr>\n",
       "    <tr>\n",
       "      <th>396</th>\n",
       "      <td>0.062653</td>\n",
       "      <td>-78.098969</td>\n",
       "      <td>12.772</td>\n",
       "      <td>12.126</td>\n",
       "      <td>AAA</td>\n",
       "      <td>4683749457917473920</td>\n",
       "      <td>10.411634</td>\n",
       "      <td>10.407092</td>\n",
       "      <td>0.019708</td>\n",
       "      <td>0.307534</td>\n",
       "      <td>...</td>\n",
       "      <td>NaN</td>\n",
       "      <td>NaN</td>\n",
       "      <td>NaN</td>\n",
       "      <td>NaN</td>\n",
       "      <td>NaN</td>\n",
       "      <td>NaN</td>\n",
       "      <td>NaN</td>\n",
       "      <td>NaN</td>\n",
       "      <td>NaN</td>\n",
       "      <td>NaN</td>\n",
       "    </tr>\n",
       "    <tr>\n",
       "      <th>397</th>\n",
       "      <td>0.094364</td>\n",
       "      <td>-78.986633</td>\n",
       "      <td>13.068</td>\n",
       "      <td>12.630</td>\n",
       "      <td>AAA</td>\n",
       "      <td>4635611498823926272</td>\n",
       "      <td>12.372120</td>\n",
       "      <td>8.547390</td>\n",
       "      <td>0.019644</td>\n",
       "      <td>-8.944913</td>\n",
       "      <td>...</td>\n",
       "      <td>NaN</td>\n",
       "      <td>NaN</td>\n",
       "      <td>NaN</td>\n",
       "      <td>NaN</td>\n",
       "      <td>NaN</td>\n",
       "      <td>NaN</td>\n",
       "      <td>NaN</td>\n",
       "      <td>NaN</td>\n",
       "      <td>NaN</td>\n",
       "      <td>NaN</td>\n",
       "    </tr>\n",
       "    <tr>\n",
       "      <th>398</th>\n",
       "      <td>0.107159</td>\n",
       "      <td>-78.017227</td>\n",
       "      <td>12.114</td>\n",
       "      <td>11.770</td>\n",
       "      <td>AAA</td>\n",
       "      <td>4683762411538833664</td>\n",
       "      <td>11.178308</td>\n",
       "      <td>-2.444910</td>\n",
       "      <td>0.013992</td>\n",
       "      <td>-10.907657</td>\n",
       "      <td>...</td>\n",
       "      <td>4.1103</td>\n",
       "      <td>gspphot</td>\n",
       "      <td>0.0096</td>\n",
       "      <td>0.0432</td>\n",
       "      <td>False</td>\n",
       "      <td>-0.407773</td>\n",
       "      <td>galah</td>\n",
       "      <td>NaN</td>\n",
       "      <td>NaN</td>\n",
       "      <td>NaN</td>\n",
       "    </tr>\n",
       "    <tr>\n",
       "      <th>399</th>\n",
       "      <td>0.111113</td>\n",
       "      <td>-78.571419</td>\n",
       "      <td>8.479</td>\n",
       "      <td>7.777</td>\n",
       "      <td>AAA</td>\n",
       "      <td>4635682967079713024</td>\n",
       "      <td>17.633327</td>\n",
       "      <td>17.598592</td>\n",
       "      <td>0.015187</td>\n",
       "      <td>-1.106247</td>\n",
       "      <td>...</td>\n",
       "      <td>2.3100</td>\n",
       "      <td>rave</td>\n",
       "      <td>NaN</td>\n",
       "      <td>NaN</td>\n",
       "      <td>NaN</td>\n",
       "      <td>NaN</td>\n",
       "      <td>NaN</td>\n",
       "      <td>NaN</td>\n",
       "      <td>NaN</td>\n",
       "      <td>NaN</td>\n",
       "    </tr>\n",
       "  </tbody>\n",
       "</table>\n",
       "<p>400 rows × 71 columns</p>\n",
       "</div>"
      ],
      "text/plain": [
       "           ra        dec    Jmag    Kmag ph_qual            source_id  \\\n",
       "0    0.180498 -89.243835  13.123  12.679     AAA  4611967772579686144   \n",
       "1    0.338177 -89.481033   8.977   8.038     AAA  4611761957746621312   \n",
       "2    0.392894 -89.286575  12.769  12.330     AAA  4611779756091083008   \n",
       "3    0.491097 -89.325348  13.285  12.922     AAA  4611778656579457664   \n",
       "4    0.140988 -88.624542  12.574  12.226     AAA  4612059856678435456   \n",
       "..        ...        ...     ...     ...     ...                  ...   \n",
       "395  0.024475 -78.659286  13.155  12.596     AAA  4635634829086266112   \n",
       "396  0.062653 -78.098969  12.772  12.126     AAA  4683749457917473920   \n",
       "397  0.094364 -78.986633  13.068  12.630     AAA  4635611498823926272   \n",
       "398  0.107159 -78.017227  12.114  11.770     AAA  4683762411538833664   \n",
       "399  0.111113 -78.571419   8.479   7.777     AAA  4635682967079713024   \n",
       "\n",
       "            pm       pmra    e_pmra      pmdec  ...    logg  logg_cat  \\\n",
       "0    18.717230  17.611683  0.017650  -6.337455  ...  4.4943   gspphot   \n",
       "1     9.622093   7.609581  0.014361  -5.888884  ...  2.0187   gspphot   \n",
       "2     6.918577   4.898140  0.015574  -4.886198  ...  4.3541   gspphot   \n",
       "3     3.335455   2.758185  0.015947   1.875548  ...  4.2543   gspphot   \n",
       "4     7.222961   6.909172  0.014310  -2.105829  ...  4.2041   gspphot   \n",
       "..         ...        ...       ...        ...  ...     ...       ...   \n",
       "395  17.914886  11.023372  0.025100 -14.121913  ...  4.4972   gspphot   \n",
       "396  10.411634  10.407092  0.019708   0.307534  ...     NaN       NaN   \n",
       "397  12.372120   8.547390  0.019644  -8.944913  ...     NaN       NaN   \n",
       "398  11.178308  -2.444910  0.013992 -10.907657  ...  4.1103   gspphot   \n",
       "399  17.633327  17.598592  0.015187  -1.106247  ...  2.3100      rave   \n",
       "\n",
       "     logg_el  logg_eu  logg_sym       feh  feh_cat  feh_el  feh_eu  feh_sym  \n",
       "0     0.0062   0.0048     False       NaN      NaN     NaN     NaN      NaN  \n",
       "1     0.2598   0.0247     False       NaN      NaN     NaN     NaN      NaN  \n",
       "2     0.0064   0.0065     False       NaN      NaN     NaN     NaN      NaN  \n",
       "3     0.0126   0.0126     False       NaN      NaN     NaN     NaN      NaN  \n",
       "4     0.0071   0.0068     False       NaN      NaN     NaN     NaN      NaN  \n",
       "..       ...      ...       ...       ...      ...     ...     ...      ...  \n",
       "395   0.0350   0.0103     False       NaN      NaN     NaN     NaN      NaN  \n",
       "396      NaN      NaN       NaN       NaN      NaN     NaN     NaN      NaN  \n",
       "397      NaN      NaN       NaN       NaN      NaN     NaN     NaN      NaN  \n",
       "398   0.0096   0.0432     False -0.407773    galah     NaN     NaN      NaN  \n",
       "399      NaN      NaN       NaN       NaN      NaN     NaN     NaN      NaN  \n",
       "\n",
       "[400 rows x 71 columns]"
      ]
     },
     "execution_count": 224,
     "metadata": {},
     "output_type": "execute_result"
    }
   ],
   "source": [
    "catalogs_rv = [\n",
    "    {\"name\": \"gaia\", \"value\": \"rv_gaia\", \"e_value_upper\": \"e_rv_gaia\", \"e_value_lower\": \"e_rv_gaia\", \"sym\": True},\n",
    "    {\"name\": \"rave\", \"value\": \"rv_rave\", \"e_value_upper\": \"e_rv_rave\", \"e_value_lower\": \"e_rv_rave\", \"sym\": True},\n",
    "    {\"name\": \"galah\", \"value\": \"rv_galah\", \"e_value_upper\": \"e_rv_galah\", \"e_value_lower\": \"e_rv_galah\", \"sym\": True},\n",
    "    {\"name\": \"lamost\", \"value\": \"rv_lamost\", \"e_value_upper\": \"e_rv_lamost\", \"e_value_lower\": \"e_rv_lamost\", \"sym\": True},\n",
    "    {\"name\": \"apogee\", \"value\": \"rv_apogee\", \"e_value_upper\": \"e_rv_apogee\", \"e_value_lower\": \"e_rv_apogee\", \"sym\": True},    \n",
    "]\n",
    "\n",
    "catalogs_teff = [\n",
    "    {\"name\": \"gspphot\", \"value\": \"teff_gspphot\", \"e_value_upper\": \"teff_gspphot_upper\", \"e_value_lower\": \"teff_gspphot_lower\", \"sym\": False},\n",
    "    {\"name\": \"rave\", \"value\": \"teff_rave\", \"e_value_upper\": None, \"e_value_lower\": None, \"sym\": None},\n",
    "    {\"name\": \"galah\", \"value\": \"teff_galah\", \"e_value_upper\": \"e_teff_galah\", \"e_value_lower\": \"e_teff_galah\", \"sym\": True},\n",
    "    {\"name\": \"lamost\", \"value\": \"teff_lamost\", \"e_value_upper\": \"e_teff_lamost\", \"e_value_lower\": \"e_teff_lamost\", \"sym\": True},\n",
    "    {\"name\": \"apogee\", \"value\": \"teff_apogee\", \"e_value_upper\": \"e_teff_apogee\", \"e_value_lower\": \"e_teff_apogee\", \"sym\": True},\n",
    "]\n",
    "catalogs_logg = [\n",
    "    {\"name\": \"gspphot\", \"value\": \"logg_gspphot\", \"e_value_upper\": \"logg_gspphot_upper\", \"e_value_lower\": \"logg_gspphot_lower\", \"sym\": False},\n",
    "    {\"name\": \"rave\", \"value\": \"logg_rave\", \"e_value_upper\": None, \"e_value_lower\": None, \"sym\": None},\n",
    "    {\"name\": \"galah\", \"value\": \"logg_galah\", \"e_value_upper\": \"e_logg_galah\", \"e_value_lower\": \"e_logg_galah\", \"sym\": True},\n",
    "    {\"name\": \"lamost\", \"value\": \"logg_lamost\", \"e_value_upper\": \"e_logg_lamost\", \"e_value_lower\": \"e_logg_lamost\", \"sym\": True},\n",
    "    {\"name\": \"apogee\", \"value\": \"logg_apogee\", \"e_value_upper\": \"e_logg_apogee\", \"e_value_lower\": \"e_logg_apogee\", \"sym\": True},\n",
    "]\n",
    "catalogs_feh = [\n",
    "    {\"name\": \"galah\", \"value\": \"feh_galah\", \"e_value_upper\": None, \"e_value_lower\": None, \"sym\": None},\n",
    "    {\"name\": \"lamost\", \"value\": \"feh_lamost\", \"e_value_upper\": \"e_feh_lamost\", \"e_value_lower\": \"e_feh_lamost\", \"sym\": True},\n",
    "    {\"name\": \"apogee\", \"value\": \"feh_apogee\", \"e_value_upper\": \"e_feh_apogee\", \"e_value_lower\": \"e_feh_apogee\", \"sym\": True},\n",
    "]\n",
    "\n",
    "catalogs_mh = [\n",
    "    {\"name\": \"gspphot\", \"value\": \"mh_gspphot\", \"e_value_upper\": \"mh_gspphot_upper\", \"e_value_lower\": \"mh_gspphot_lower\", \"sym\": False},\n",
    "    {\"name\": \"gspspec\", \"value\": \"mh_gspspec\", \"e_value_upper\": \"mh_gspspec_upper\", \"e_value_lower\": \"mh_gspspec_lower\", \"sym\": False},\n",
    "    {\"name\": \"rave\", \"value\": \"mh_rave\", \"e_value_upper\": None, \"e_value_lower\": None, \"sym\": None},\n",
    "    {\"name\": \"apogee\", \"value\": \"mh_apogee\", \"e_value_upper\": \"e_mh_apogee\", \"e_value_lower\": \"e_mh_apogee\", \"sym\": True},\n",
    "]\n",
    "\n",
    "catalogs = {\n",
    "    \"rv\": catalogs_rv,\n",
    "    \"teff\": catalogs_teff,\n",
    "    \"logg\": catalogs_logg,\n",
    "    \"feh\": catalogs_feh,\n",
    "}\n",
    "\n",
    "for file in files:\n",
    "    df_vaex = vaex.open(file)\n",
    "    df_vaex = df_vaex\n",
    "    t0 = time()\n",
    "    df = df_vaex.to_pandas_df()\n",
    "    # df = df[:4000]\n",
    "    # create empty dataframe\n",
    "    df_com = pd.DataFrame()\n",
    "    M = 100\n",
    "    # iterate dataframe into chunks\n",
    "    tot = len(df)//M\n",
    "    cols = np.array([])\n",
    "    for catalog in catalogs.values():\n",
    "        col = np.array([[c['value'], c[\"e_value_upper\"], c[\"e_value_lower\"]] for c in catalog]).flatten()\n",
    "        col = np.unique(col[col != None])\n",
    "        cols = np.append(cols, col)    \n",
    "\n",
    "    for i, df_chunk in df.groupby(df.index // M):\n",
    "        t1 = time()\n",
    "        # print(i, len(df_chunk))\n",
    "        # iterate chunks into catalogs\n",
    "        for par, catalog in catalogs.items():\n",
    "            df_chunk = df_chunk.apply(best_pars, axis=1, args=(catalog, par))\n",
    "        if len(df_com) == 0:\n",
    "            df_com = df_chunk\n",
    "        else:\n",
    "            df_com = pd.concat([df_com, df_chunk])            \n",
    "        if i == 3:\n",
    "            break  \n",
    "        progressbar(i/tot*100, info=f\"{np.round(t1-t0,2)} s\", flush=True)\n",
    "    df_com.drop(columns=cols, inplace=True) \n",
    "    # df = df.apply(best_pars, axis=1, args=(catalogs_rv, \"rv\"))\n",
    "    break\n",
    "df_com  "
   ]
  },
  {
   "cell_type": "code",
   "execution_count": 225,
   "metadata": {},
   "outputs": [
    {
     "data": {
      "text/html": [
       "<table>\n",
       "<thead>\n",
       "<tr><th>#                              </th><th>ra      </th><th>dec       </th><th>Jmag              </th><th>Kmag              </th><th>ph_qual  </th><th>source_id          </th><th>pm                </th><th>pmra               </th><th>e_pmra              </th><th>pmdec              </th><th>e_pmdec             </th><th>parallax          </th><th>e_parallax          </th><th>gmag              </th><th>bpmag             </th><th>rpmag             </th><th>fb_over_err       </th><th>fr_over_err       </th><th>ruwe              </th><th>excess_factor     </th><th>GLON              </th><th>GLAT               </th><th>mh_gspphot          </th><th>mh_gspphot_lower    </th><th>mh_gspphot_upper    </th><th>distance_gspphot  </th><th>distance_gspphot_lower  </th><th>distance_gspphot_upper  </th><th>ag_gspphot         </th><th>ag_gspphot_lower   </th><th>ag_gspphot_upper   </th><th>mh_gspspec         </th><th>mh_gspspec_lower   </th><th>mh_gspspec_upper   </th><th>alphafe_gspspec     </th><th>alphafe_gspspec_lower  </th><th>alphafe_gspspec_upper  </th><th>fem_gspspec         </th><th>fem_gspspec_lower   </th><th>fem_gspspec_upper    </th><th>spectraltype_esphs  </th><th>mh_rave             </th><th>alphafe_rave  </th><th>alphafe_galah      </th><th>subclass_lamost  </th><th>alpham_lamost  </th><th>e_alpham_lamost  </th><th>mh_apogee  </th><th>e_mh_apogee  </th><th>alpham_apogee  </th><th>e_alpham_apogee  </th><th>rv                </th><th>rv_cat  </th><th>rv_el              </th><th>rv_eu              </th><th>rv_sym  </th><th>teff            </th><th>teff_cat  </th><th>teff_el        </th><th>teff_eu       </th><th>teff_sym  </th><th>logg             </th><th>logg_cat  </th><th>logg_el             </th><th>logg_eu              </th><th>logg_sym  </th><th>feh        </th><th>feh_cat  </th><th>feh_el  </th><th>feh_eu  </th><th>feh_sym  </th></tr>\n",
       "</thead>\n",
       "<tbody>\n",
       "<tr><td><i style='opacity: 0.6'>0</i>  </td><td>0.180498</td><td>-89.243835</td><td>13.123000144958496</td><td>12.678999900817871</td><td>AAA      </td><td>4611967772579686144</td><td>18.71722984313965 </td><td>17.611683049974353 </td><td>0.017649758607149124</td><td>-6.337454890038764 </td><td>0.018100611865520477</td><td>1.553482146463873 </td><td>0.01645069755613804 </td><td>14.506683349609375</td><td>14.941158294677734</td><td>13.901935577392578</td><td>927.3828125       </td><td>1271.326416015625 </td><td>0.9241908192634583</td><td>1.2207494974136353</td><td>303.11950730746855</td><td>-27.865822360149586</td><td>-0.5550000071525574 </td><td>-0.5717999935150146 </td><td>-0.5386000275611877 </td><td>586.5784301757812 </td><td>580.6773071289062       </td><td>592.7108764648438       </td><td>0.44209998846054077</td><td>0.4359000027179718 </td><td>0.4494999945163727 </td><td>nan                </td><td>nan                </td><td>nan                </td><td>nan                 </td><td>nan                    </td><td>nan                    </td><td>nan                 </td><td>nan                 </td><td>nan                  </td><td>G                   </td><td>nan                 </td><td>nan           </td><td>nan                </td><td>nan              </td><td>nan            </td><td>nan              </td><td>nan        </td><td>nan          </td><td>nan            </td><td>nan              </td><td>152.84475708007812</td><td>gaia    </td><td>4.919384002685547  </td><td>4.919384002685547  </td><td>True    </td><td>5675.6103515625 </td><td>gspphot   </td><td>11.37353515625 </td><td>13.83251953125</td><td>False     </td><td>4.49429988861084 </td><td>gspphot   </td><td>0.006199836730957031</td><td>0.004800319671630859 </td><td>False     </td><td>nan        </td><td>--       </td><td>nan     </td><td>nan     </td><td>nan      </td></tr>\n",
       "<tr><td><i style='opacity: 0.6'>1</i>  </td><td>0.338177</td><td>-89.481033</td><td>8.97700023651123  </td><td>8.038000106811523 </td><td>AAA      </td><td>4611761957746621312</td><td>9.622093200683594 </td><td>7.609580877064016  </td><td>0.014360921457409859</td><td>-5.888883602727228 </td><td>0.014550801366567612</td><td>0.8273958945757836</td><td>0.012673814781010151</td><td>11.280521392822266</td><td>12.197066307067871</td><td>10.340993881225586</td><td>1234.30517578125  </td><td>3648.09716796875  </td><td>1.0564011335372925</td><td>1.3118351697921753</td><td>303.05891462343493</td><td>-27.634759739425405</td><td>0.11720000207424164 </td><td>0.1111999973654747  </td><td>0.11999999731779099 </td><td>1171.7508544921875</td><td>1142.204345703125       </td><td>1543.05419921875        </td><td>0.8133999705314636 </td><td>0.6207000017166138 </td><td>0.8633999824523926 </td><td>0.17000000178813934</td><td>0.1599999964237213 </td><td>0.1899999976158142 </td><td>-0.05000000074505806</td><td>-0.05000000074505806   </td><td>-0.03999999910593033   </td><td>-0.12999999523162842</td><td>-0.2199999988079071 </td><td>-0.029999999329447746</td><td>K                   </td><td>nan                 </td><td>nan           </td><td>nan                </td><td>nan              </td><td>nan            </td><td>nan              </td><td>nan        </td><td>nan          </td><td>nan            </td><td>nan              </td><td>30.259687423706055</td><td>gaia    </td><td>0.167822003364563  </td><td>0.167822003364563  </td><td>True    </td><td>4251.74755859375</td><td>gspphot   </td><td>142.98876953125</td><td>39.806640625  </td><td>False     </td><td>2.018699884414673</td><td>gspphot   </td><td>0.2597998380661011  </td><td>0.024700164794921875 </td><td>False     </td><td>nan        </td><td>--       </td><td>nan     </td><td>nan     </td><td>nan      </td></tr>\n",
       "<tr><td><i style='opacity: 0.6'>2</i>  </td><td>0.392894</td><td>-89.286575</td><td>12.769000053405762</td><td>12.329999923706055</td><td>AAA      </td><td>4611779756091083008</td><td>6.918576717376709 </td><td>4.89813965086399   </td><td>0.01557445153594017 </td><td>-4.88619823091078  </td><td>0.016693463549017906</td><td>1.4919122615226004</td><td>0.015075388364493847</td><td>14.183528900146484</td><td>14.626376152038574</td><td>13.570565223693848</td><td>865.9398193359375 </td><td>1384.228271484375 </td><td>1.063724160194397 </td><td>1.2225970029830933</td><td>303.10597686099044</td><td>-27.824720661451884</td><td>-0.2969000041484833 </td><td>-0.3043999969959259 </td><td>-0.2904999852180481 </td><td>625.9152221679688 </td><td>620.0595703125          </td><td>631.713623046875        </td><td>0.5141000151634216 </td><td>0.5109000205993652 </td><td>0.5171999931335449 </td><td>nan                </td><td>nan                </td><td>nan                </td><td>nan                 </td><td>nan                    </td><td>nan                    </td><td>nan                 </td><td>nan                 </td><td>nan                  </td><td>G                   </td><td>nan                 </td><td>nan           </td><td>nan                </td><td>nan              </td><td>nan            </td><td>nan              </td><td>nan        </td><td>nan          </td><td>nan            </td><td>nan              </td><td>8.28650951385498  </td><td>gaia    </td><td>6.514820575714111  </td><td>6.514820575714111  </td><td>True    </td><td>5750.4326171875 </td><td>gspphot   </td><td>5.1650390625   </td><td>4.8857421875  </td><td>False     </td><td>4.354100227355957</td><td>gspphot   </td><td>0.006400108337402344</td><td>0.006499767303466797 </td><td>False     </td><td>nan        </td><td>--       </td><td>nan     </td><td>nan     </td><td>nan      </td></tr>\n",
       "<tr><td><i style='opacity: 0.6'>3</i>  </td><td>0.491097</td><td>-89.325348</td><td>13.28499984741211 </td><td>12.92199993133545 </td><td>AAA      </td><td>4611778656579457664</td><td>3.3354551792144775</td><td>2.758184654146036  </td><td>0.015947440639138222</td><td>1.8755476312609647 </td><td>0.01630321703851223 </td><td>0.9132976622425212</td><td>0.014618651941418648</td><td>14.359504699707031</td><td>14.703383445739746</td><td>13.843310356140137</td><td>1021.37451171875  </td><td>1692.3876953125   </td><td>0.975788950920105 </td><td>1.2055027484893799</td><td>303.09523730720935</td><td>-27.787137577515743</td><td>-0.36550000309944153</td><td>-0.3711000084877014 </td><td>-0.35989999771118164</td><td>1043.23193359375  </td><td>1028.8033447265625      </td><td>1058.512939453125       </td><td>0.3813000023365021 </td><td>0.37709999084472656</td><td>0.3856000006198883 </td><td>nan                </td><td>nan                </td><td>nan                </td><td>nan                 </td><td>nan                    </td><td>nan                    </td><td>nan                 </td><td>nan                 </td><td>nan                  </td><td>F                   </td><td>nan                 </td><td>nan           </td><td>nan                </td><td>nan              </td><td>nan            </td><td>nan              </td><td>nan        </td><td>nan          </td><td>nan            </td><td>nan              </td><td>-9.221250534057617</td><td>gaia    </td><td>6.796242713928223  </td><td>6.796242713928223  </td><td>True    </td><td>6268.86279296875</td><td>gspphot   </td><td>7.986328125    </td><td>8.31982421875 </td><td>False     </td><td>4.254300117492676</td><td>gspphot   </td><td>0.012599945068359375</td><td>0.012599945068359375 </td><td>False     </td><td>nan        </td><td>--       </td><td>nan     </td><td>nan     </td><td>nan      </td></tr>\n",
       "<tr><td><i style='opacity: 0.6'>4</i>  </td><td>0.140988</td><td>-88.624542</td><td>12.574000358581543</td><td>12.22599983215332 </td><td>AAA      </td><td>4612059856678435456</td><td>7.222960948944092 </td><td>6.909171651019708  </td><td>0.014309556223452091</td><td>-2.105828540221265 </td><td>0.01369965448975563 </td><td>1.142868834794636 </td><td>0.012145737186074257</td><td>13.668671607971191</td><td>14.005749702453613</td><td>13.163238525390625</td><td>1205.94580078125  </td><td>2095.777587890625 </td><td>1.006279706954956 </td><td>1.2021443843841553</td><td>303.27634091220216</td><td>-28.469529127008617</td><td>-0.5670999884605408 </td><td>-0.5813999772071838 </td><td>-0.5514000058174133 </td><td>858.9404296875    </td><td>850.015625              </td><td>867.8400268554688       </td><td>0.29989999532699585</td><td>0.2937000095844269 </td><td>0.30649998784065247</td><td>nan                </td><td>nan                </td><td>nan                </td><td>nan                 </td><td>nan                    </td><td>nan                    </td><td>nan                 </td><td>nan                 </td><td>nan                  </td><td>F                   </td><td>nan                 </td><td>nan           </td><td>nan                </td><td>nan              </td><td>nan            </td><td>nan              </td><td>nan        </td><td>nan          </td><td>nan            </td><td>nan              </td><td>33.83838653564453 </td><td>gaia    </td><td>3.4127907752990723 </td><td>3.4127907752990723 </td><td>True    </td><td>6146.64794921875</td><td>gspphot   </td><td>13.3173828125  </td><td>13.89794921875</td><td>False     </td><td>4.204100131988525</td><td>gspphot   </td><td>0.007100105285644531</td><td>0.0067996978759765625</td><td>False     </td><td>nan        </td><td>--       </td><td>nan     </td><td>nan     </td><td>nan      </td></tr>\n",
       "<tr><td>...                            </td><td>...     </td><td>...       </td><td>...               </td><td>...               </td><td>...      </td><td>...                </td><td>...               </td><td>...                </td><td>...                 </td><td>...                </td><td>...                 </td><td>...               </td><td>...                 </td><td>...               </td><td>...               </td><td>...               </td><td>...               </td><td>...               </td><td>...               </td><td>...               </td><td>...               </td><td>...                </td><td>...                 </td><td>...                 </td><td>...                 </td><td>...               </td><td>...                     </td><td>...                     </td><td>...                </td><td>...                </td><td>...                </td><td>...                </td><td>...                </td><td>...                </td><td>...                 </td><td>...                    </td><td>...                    </td><td>...                 </td><td>...                 </td><td>...                  </td><td>...                 </td><td>...                 </td><td>...           </td><td>...                </td><td>...              </td><td>...            </td><td>...              </td><td>...        </td><td>...          </td><td>...            </td><td>...              </td><td>...               </td><td>...     </td><td>...                </td><td>...                </td><td>...     </td><td>...             </td><td>...       </td><td>...            </td><td>...           </td><td>...       </td><td>...              </td><td>...       </td><td>...                 </td><td>...                  </td><td>...       </td><td>...        </td><td>...      </td><td>...     </td><td>...     </td><td>...      </td></tr>\n",
       "<tr><td><i style='opacity: 0.6'>395</i></td><td>0.024475</td><td>-78.659286</td><td>13.154999732971191</td><td>12.595999717712402</td><td>AAA      </td><td>4635634829086266112</td><td>17.914886474609375</td><td>11.023372081719586 </td><td>0.025099609047174454</td><td>-14.121912599944446</td><td>0.023736698552966118</td><td>1.7029483553293556</td><td>0.01807037554681301 </td><td>14.474708557128906</td><td>14.930689811706543</td><td>13.859354972839355</td><td>687.417236328125  </td><td>1381.44580078125  </td><td>1.1897910833358765</td><td>1.218429446220398 </td><td>306.1161691050572 </td><td>-38.149590954042075</td><td>-0.10620000213384628</td><td>-0.13210000097751617</td><td>-0.08349999785423279</td><td>584.0579223632812 </td><td>575.4677124023438       </td><td>615.7932739257812       </td><td>0.22599999606609344</td><td>0.20919999480247498</td><td>0.2379000037908554 </td><td>nan                </td><td>nan                </td><td>nan                </td><td>nan                 </td><td>nan                    </td><td>nan                    </td><td>nan                 </td><td>nan                 </td><td>nan                  </td><td>G                   </td><td>nan                 </td><td>nan           </td><td>nan                </td><td>nan              </td><td>nan            </td><td>nan              </td><td>nan        </td><td>nan          </td><td>nan            </td><td>nan              </td><td>18.36029624938965 </td><td>gaia    </td><td>4.142888069152832  </td><td>4.142888069152832  </td><td>True    </td><td>5266.23681640625</td><td>gspphot   </td><td>27.7900390625  </td><td>21.18212890625</td><td>False     </td><td>4.497200012207031</td><td>gspphot   </td><td>0.034999847412109375</td><td>0.010300159454345703 </td><td>False     </td><td>nan        </td><td>--       </td><td>nan     </td><td>nan     </td><td>nan      </td></tr>\n",
       "<tr><td><i style='opacity: 0.6'>396</i></td><td>0.062653</td><td>-78.098969</td><td>12.772000312805176</td><td>12.12600040435791 </td><td>AAA      </td><td>4683749457917473920</td><td>10.41163444519043 </td><td>10.40709189199387  </td><td>0.01970791630446911 </td><td>0.3075336552845699 </td><td>0.02071055769920349 </td><td>0.4265164805471049</td><td>0.017468448728322983</td><td>14.367364883422852</td><td>14.807809829711914</td><td>13.631388664245605</td><td>90.61566925048828 </td><td>148.17510986328125</td><td>1.1345791816711426</td><td>1.3124747276306152</td><td>306.2869501532284 </td><td>-38.69383203377623 </td><td>nan                 </td><td>nan                 </td><td>nan                 </td><td>nan               </td><td>nan                     </td><td>nan                     </td><td>nan                </td><td>nan                </td><td>nan                </td><td>nan                </td><td>nan                </td><td>nan                </td><td>nan                 </td><td>nan                    </td><td>nan                    </td><td>nan                 </td><td>nan                 </td><td>nan                  </td><td>K                   </td><td>nan                 </td><td>nan           </td><td>nan                </td><td>nan              </td><td>nan            </td><td>nan              </td><td>nan        </td><td>nan          </td><td>nan            </td><td>nan              </td><td>-25.93528938293457</td><td>gaia    </td><td>5.006957530975342  </td><td>5.006957530975342  </td><td>True    </td><td>nan             </td><td>--        </td><td>nan            </td><td>nan           </td><td>nan       </td><td>nan              </td><td>--        </td><td>nan                 </td><td>nan                  </td><td>nan       </td><td>nan        </td><td>--       </td><td>nan     </td><td>nan     </td><td>nan      </td></tr>\n",
       "<tr><td><i style='opacity: 0.6'>397</i></td><td>0.094364</td><td>-78.986633</td><td>13.067999839782715</td><td>12.630000114440918</td><td>AAA      </td><td>4635611498823926272</td><td>12.372119903564453</td><td>8.547390176101725  </td><td>0.019644008949398994</td><td>-8.944913199736972 </td><td>0.017045559361577034</td><td>1.0426351472174775</td><td>0.013232337310910225</td><td>14.196813583374023</td><td>14.562460899353027</td><td>13.663129806518555</td><td>970.9361572265625 </td><td>1604.9520263671875</td><td>0.9357302784919739</td><td>1.2060118913650513</td><td>305.9956393660662 </td><td>-37.836122149961   </td><td>nan                 </td><td>nan                 </td><td>nan                 </td><td>nan               </td><td>nan                     </td><td>nan                     </td><td>nan                </td><td>nan                </td><td>nan                </td><td>nan                </td><td>nan                </td><td>nan                </td><td>nan                 </td><td>nan                    </td><td>nan                    </td><td>nan                 </td><td>nan                 </td><td>nan                  </td><td>G                   </td><td>nan                 </td><td>nan           </td><td>nan                </td><td>nan              </td><td>nan            </td><td>nan              </td><td>nan        </td><td>nan          </td><td>nan            </td><td>nan              </td><td>42.73957824707031 </td><td>gaia    </td><td>4.199415683746338  </td><td>4.199415683746338  </td><td>True    </td><td>nan             </td><td>--        </td><td>nan            </td><td>nan           </td><td>nan       </td><td>nan              </td><td>--        </td><td>nan                 </td><td>nan                  </td><td>nan       </td><td>nan        </td><td>--       </td><td>nan     </td><td>nan     </td><td>nan      </td></tr>\n",
       "<tr><td><i style='opacity: 0.6'>398</i></td><td>0.107159</td><td>-78.017227</td><td>12.11400032043457 </td><td>11.770000457763672</td><td>AAA      </td><td>4683762411538833664</td><td>11.17830753326416 </td><td>-2.4449104265650434</td><td>0.01399189792573452 </td><td>-10.907656953296089</td><td>0.012767395004630089</td><td>1.1924856432130746</td><td>0.010786962695419788</td><td>13.098251342773438</td><td>13.40241813659668 </td><td>12.628352165222168</td><td>1276.7789306640625</td><td>2053.012451171875 </td><td>1.02433180809021  </td><td>1.1969189643859863</td><td>306.3019744782621 </td><td>-38.7752244405794  </td><td>-0.6074000000953674 </td><td>-0.6323999762535095 </td><td>-0.5849000215530396 </td><td>811.943603515625  </td><td>754.853515625           </td><td>824.3876953125          </td><td>0.09520000219345093</td><td>0.08089999854564667</td><td>0.1062999963760376 </td><td>nan                </td><td>nan                </td><td>nan                </td><td>nan                 </td><td>nan                    </td><td>nan                    </td><td>nan                 </td><td>nan                 </td><td>nan                  </td><td>F                   </td><td>nan                 </td><td>nan           </td><td>0.05115338580101691</td><td>nan              </td><td>nan            </td><td>nan              </td><td>nan        </td><td>nan          </td><td>nan            </td><td>nan              </td><td>-12.51099967956543</td><td>galah   </td><td>0.164000004529953  </td><td>0.164000004529953  </td><td>True    </td><td>5981.2021484375 </td><td>gspphot   </td><td>28.642578125   </td><td>22.900390625  </td><td>False     </td><td>4.110300064086914</td><td>gspphot   </td><td>0.009600162506103516</td><td>0.043200016021728516 </td><td>False     </td><td>-0.40777254</td><td>galah    </td><td>nan     </td><td>nan     </td><td>nan      </td></tr>\n",
       "<tr><td><i style='opacity: 0.6'>399</i></td><td>0.111113</td><td>-78.571419</td><td>8.479000091552734 </td><td>7.7769999504089355</td><td>AAA      </td><td>4635682967079713024</td><td>17.63332748413086 </td><td>17.598592239474115 </td><td>0.015187195502221584</td><td>-1.1062468098101064</td><td>0.015774736180901527</td><td>1.2599642546138567</td><td>0.012392904609441757</td><td>10.213919639587402</td><td>10.832082748413086</td><td>9.468587875366211 </td><td>2238.446044921875 </td><td>4748.19482421875  </td><td>1.2690074443817139</td><td>1.246663212776184 </td><td>306.1230927166389 </td><td>-38.23900985111918 </td><td>nan                 </td><td>nan                 </td><td>nan                 </td><td>nan               </td><td>nan                     </td><td>nan                     </td><td>nan                </td><td>nan                </td><td>nan                </td><td>0.07999999821186066</td><td>0.07000000029802322</td><td>0.09000000357627869</td><td>-0.14000000059604645</td><td>-0.14000000059604645   </td><td>-0.12999999523162842   </td><td>-0.18000000715255737</td><td>-0.28999999165534973</td><td>-0.07999999821186066 </td><td>K                   </td><td>-0.10000000149011612</td><td>0.0           </td><td>nan                </td><td>nan              </td><td>nan            </td><td>nan              </td><td>nan        </td><td>nan          </td><td>nan            </td><td>nan              </td><td>26.965713500976562</td><td>gaia    </td><td>0.12951301038265228</td><td>0.12951301038265228</td><td>True    </td><td>4536.0          </td><td>rave      </td><td>nan            </td><td>nan           </td><td>nan       </td><td>2.309999942779541</td><td>rave      </td><td>nan                 </td><td>nan                  </td><td>nan       </td><td>nan        </td><td>--       </td><td>nan     </td><td>nan     </td><td>nan      </td></tr>\n",
       "</tbody>\n",
       "</table>"
      ],
      "text/plain": [
       "#    ra        dec         Jmag                Kmag                ph_qual    source_id            pm                  pmra                 e_pmra                pmdec                e_pmdec               parallax            e_parallax            gmag                bpmag               rpmag               fb_over_err         fr_over_err         ruwe                excess_factor       GLON                GLAT                 mh_gspphot            mh_gspphot_lower      mh_gspphot_upper      distance_gspphot    distance_gspphot_lower    distance_gspphot_upper    ag_gspphot           ag_gspphot_lower     ag_gspphot_upper     mh_gspspec           mh_gspspec_lower     mh_gspspec_upper     alphafe_gspspec       alphafe_gspspec_lower    alphafe_gspspec_upper    fem_gspspec           fem_gspspec_lower     fem_gspspec_upper      spectraltype_esphs    mh_rave               alphafe_rave    alphafe_galah        subclass_lamost    alpham_lamost    e_alpham_lamost    mh_apogee    e_mh_apogee    alpham_apogee    e_alpham_apogee    rv                  rv_cat    rv_el                rv_eu                rv_sym    teff              teff_cat    teff_el          teff_eu         teff_sym    logg               logg_cat    logg_el               logg_eu                logg_sym    feh          feh_cat    feh_el    feh_eu    feh_sym\n",
       "0    0.180498  -89.243835  13.123000144958496  12.678999900817871  AAA        4611967772579686144  18.71722984313965   17.611683049974353   0.017649758607149124  -6.337454890038764   0.018100611865520477  1.553482146463873   0.01645069755613804   14.506683349609375  14.941158294677734  13.901935577392578  927.3828125         1271.326416015625   0.9241908192634583  1.2207494974136353  303.11950730746855  -27.865822360149586  -0.5550000071525574   -0.5717999935150146   -0.5386000275611877   586.5784301757812   580.6773071289062         592.7108764648438         0.44209998846054077  0.4359000027179718   0.4494999945163727   nan                  nan                  nan                  nan                   nan                      nan                      nan                   nan                   nan                    G                     nan                   nan             nan                  nan                nan              nan                nan          nan            nan              nan                152.84475708007812  gaia      4.919384002685547    4.919384002685547    True      5675.6103515625   gspphot     11.37353515625   13.83251953125  False       4.49429988861084   gspphot     0.006199836730957031  0.004800319671630859   False       nan          --         nan       nan       nan\n",
       "1    0.338177  -89.481033  8.97700023651123    8.038000106811523   AAA        4611761957746621312  9.622093200683594   7.609580877064016    0.014360921457409859  -5.888883602727228   0.014550801366567612  0.8273958945757836  0.012673814781010151  11.280521392822266  12.197066307067871  10.340993881225586  1234.30517578125    3648.09716796875    1.0564011335372925  1.3118351697921753  303.05891462343493  -27.634759739425405  0.11720000207424164   0.1111999973654747    0.11999999731779099   1171.7508544921875  1142.204345703125         1543.05419921875          0.8133999705314636   0.6207000017166138   0.8633999824523926   0.17000000178813934  0.1599999964237213   0.1899999976158142   -0.05000000074505806  -0.05000000074505806     -0.03999999910593033     -0.12999999523162842  -0.2199999988079071   -0.029999999329447746  K                     nan                   nan             nan                  nan                nan              nan                nan          nan            nan              nan                30.259687423706055  gaia      0.167822003364563    0.167822003364563    True      4251.74755859375  gspphot     142.98876953125  39.806640625    False       2.018699884414673  gspphot     0.2597998380661011    0.024700164794921875   False       nan          --         nan       nan       nan\n",
       "2    0.392894  -89.286575  12.769000053405762  12.329999923706055  AAA        4611779756091083008  6.918576717376709   4.89813965086399     0.01557445153594017   -4.88619823091078    0.016693463549017906  1.4919122615226004  0.015075388364493847  14.183528900146484  14.626376152038574  13.570565223693848  865.9398193359375   1384.228271484375   1.063724160194397   1.2225970029830933  303.10597686099044  -27.824720661451884  -0.2969000041484833   -0.3043999969959259   -0.2904999852180481   625.9152221679688   620.0595703125            631.713623046875          0.5141000151634216   0.5109000205993652   0.5171999931335449   nan                  nan                  nan                  nan                   nan                      nan                      nan                   nan                   nan                    G                     nan                   nan             nan                  nan                nan              nan                nan          nan            nan              nan                8.28650951385498    gaia      6.514820575714111    6.514820575714111    True      5750.4326171875   gspphot     5.1650390625     4.8857421875    False       4.354100227355957  gspphot     0.006400108337402344  0.006499767303466797   False       nan          --         nan       nan       nan\n",
       "3    0.491097  -89.325348  13.28499984741211   12.92199993133545   AAA        4611778656579457664  3.3354551792144775  2.758184654146036    0.015947440639138222  1.8755476312609647   0.01630321703851223   0.9132976622425212  0.014618651941418648  14.359504699707031  14.703383445739746  13.843310356140137  1021.37451171875    1692.3876953125     0.975788950920105   1.2055027484893799  303.09523730720935  -27.787137577515743  -0.36550000309944153  -0.3711000084877014   -0.35989999771118164  1043.23193359375    1028.8033447265625        1058.512939453125         0.3813000023365021   0.37709999084472656  0.3856000006198883   nan                  nan                  nan                  nan                   nan                      nan                      nan                   nan                   nan                    F                     nan                   nan             nan                  nan                nan              nan                nan          nan            nan              nan                -9.221250534057617  gaia      6.796242713928223    6.796242713928223    True      6268.86279296875  gspphot     7.986328125      8.31982421875   False       4.254300117492676  gspphot     0.012599945068359375  0.012599945068359375   False       nan          --         nan       nan       nan\n",
       "4    0.140988  -88.624542  12.574000358581543  12.22599983215332   AAA        4612059856678435456  7.222960948944092   6.909171651019708    0.014309556223452091  -2.105828540221265   0.01369965448975563   1.142868834794636   0.012145737186074257  13.668671607971191  14.005749702453613  13.163238525390625  1205.94580078125    2095.777587890625   1.006279706954956   1.2021443843841553  303.27634091220216  -28.469529127008617  -0.5670999884605408   -0.5813999772071838   -0.5514000058174133   858.9404296875      850.015625                867.8400268554688         0.29989999532699585  0.2937000095844269   0.30649998784065247  nan                  nan                  nan                  nan                   nan                      nan                      nan                   nan                   nan                    F                     nan                   nan             nan                  nan                nan              nan                nan          nan            nan              nan                33.83838653564453   gaia      3.4127907752990723   3.4127907752990723   True      6146.64794921875  gspphot     13.3173828125    13.89794921875  False       4.204100131988525  gspphot     0.007100105285644531  0.0067996978759765625  False       nan          --         nan       nan       nan\n",
       "...  ...       ...         ...                 ...                 ...        ...                  ...                 ...                  ...                   ...                  ...                   ...                 ...                   ...                 ...                 ...                 ...                 ...                 ...                 ...                 ...                 ...                  ...                   ...                   ...                   ...                 ...                       ...                       ...                  ...                  ...                  ...                  ...                  ...                  ...                   ...                      ...                      ...                   ...                   ...                    ...                   ...                   ...             ...                  ...                ...              ...                ...          ...            ...              ...                ...                 ...       ...                  ...                  ...       ...               ...         ...              ...             ...         ...                ...         ...                   ...                    ...         ...          ...        ...       ...       ...\n",
       "395  0.024475  -78.659286  13.154999732971191  12.595999717712402  AAA        4635634829086266112  17.914886474609375  11.023372081719586   0.025099609047174454  -14.121912599944446  0.023736698552966118  1.7029483553293556  0.01807037554681301   14.474708557128906  14.930689811706543  13.859354972839355  687.417236328125    1381.44580078125    1.1897910833358765  1.218429446220398   306.1161691050572   -38.149590954042075  -0.10620000213384628  -0.13210000097751617  -0.08349999785423279  584.0579223632812   575.4677124023438         615.7932739257812         0.22599999606609344  0.20919999480247498  0.2379000037908554   nan                  nan                  nan                  nan                   nan                      nan                      nan                   nan                   nan                    G                     nan                   nan             nan                  nan                nan              nan                nan          nan            nan              nan                18.36029624938965   gaia      4.142888069152832    4.142888069152832    True      5266.23681640625  gspphot     27.7900390625    21.18212890625  False       4.497200012207031  gspphot     0.034999847412109375  0.010300159454345703   False       nan          --         nan       nan       nan\n",
       "396  0.062653  -78.098969  12.772000312805176  12.12600040435791   AAA        4683749457917473920  10.41163444519043   10.40709189199387    0.01970791630446911   0.3075336552845699   0.02071055769920349   0.4265164805471049  0.017468448728322983  14.367364883422852  14.807809829711914  13.631388664245605  90.61566925048828   148.17510986328125  1.1345791816711426  1.3124747276306152  306.2869501532284   -38.69383203377623   nan                   nan                   nan                   nan                 nan                       nan                       nan                  nan                  nan                  nan                  nan                  nan                  nan                   nan                      nan                      nan                   nan                   nan                    K                     nan                   nan             nan                  nan                nan              nan                nan          nan            nan              nan                -25.93528938293457  gaia      5.006957530975342    5.006957530975342    True      nan               --          nan              nan             nan         nan                --          nan                   nan                    nan         nan          --         nan       nan       nan\n",
       "397  0.094364  -78.986633  13.067999839782715  12.630000114440918  AAA        4635611498823926272  12.372119903564453  8.547390176101725    0.019644008949398994  -8.944913199736972   0.017045559361577034  1.0426351472174775  0.013232337310910225  14.196813583374023  14.562460899353027  13.663129806518555  970.9361572265625   1604.9520263671875  0.9357302784919739  1.2060118913650513  305.9956393660662   -37.836122149961     nan                   nan                   nan                   nan                 nan                       nan                       nan                  nan                  nan                  nan                  nan                  nan                  nan                   nan                      nan                      nan                   nan                   nan                    G                     nan                   nan             nan                  nan                nan              nan                nan          nan            nan              nan                42.73957824707031   gaia      4.199415683746338    4.199415683746338    True      nan               --          nan              nan             nan         nan                --          nan                   nan                    nan         nan          --         nan       nan       nan\n",
       "398  0.107159  -78.017227  12.11400032043457   11.770000457763672  AAA        4683762411538833664  11.17830753326416   -2.4449104265650434  0.01399189792573452   -10.907656953296089  0.012767395004630089  1.1924856432130746  0.010786962695419788  13.098251342773438  13.40241813659668   12.628352165222168  1276.7789306640625  2053.012451171875   1.02433180809021    1.1969189643859863  306.3019744782621   -38.7752244405794    -0.6074000000953674   -0.6323999762535095   -0.5849000215530396   811.943603515625    754.853515625             824.3876953125            0.09520000219345093  0.08089999854564667  0.1062999963760376   nan                  nan                  nan                  nan                   nan                      nan                      nan                   nan                   nan                    F                     nan                   nan             0.05115338580101691  nan                nan              nan                nan          nan            nan              nan                -12.51099967956543  galah     0.164000004529953    0.164000004529953    True      5981.2021484375   gspphot     28.642578125     22.900390625    False       4.110300064086914  gspphot     0.009600162506103516  0.043200016021728516   False       -0.40777254  galah      nan       nan       nan\n",
       "399  0.111113  -78.571419  8.479000091552734   7.7769999504089355  AAA        4635682967079713024  17.63332748413086   17.598592239474115   0.015187195502221584  -1.1062468098101064  0.015774736180901527  1.2599642546138567  0.012392904609441757  10.213919639587402  10.832082748413086  9.468587875366211   2238.446044921875   4748.19482421875    1.2690074443817139  1.246663212776184   306.1230927166389   -38.23900985111918   nan                   nan                   nan                   nan                 nan                       nan                       nan                  nan                  nan                  0.07999999821186066  0.07000000029802322  0.09000000357627869  -0.14000000059604645  -0.14000000059604645     -0.12999999523162842     -0.18000000715255737  -0.28999999165534973  -0.07999999821186066   K                     -0.10000000149011612  0.0             nan                  nan                nan              nan                nan          nan            nan              nan                26.965713500976562  gaia      0.12951301038265228  0.12951301038265228  True      4536.0            rave        nan              nan             nan         2.309999942779541  rave        nan                   nan                    nan         nan          --         nan       nan       nan"
      ]
     },
     "execution_count": 225,
     "metadata": {},
     "output_type": "execute_result"
    }
   ],
   "source": [
    "vaex.from_pandas(df_com)"
   ]
  },
  {
   "cell_type": "code",
   "execution_count": 229,
   "metadata": {},
   "outputs": [
    {
     "data": {
      "image/png": "[encoded data removed]",
      "text/plain": [
       "<Figure size 720x360 with 1 Axes>"
      ]
     },
     "metadata": {
      "needs_background": "light"
     },
     "output_type": "display_data"
    },
    {
     "name": "stdout",
     "output_type": "stream",
     "text": [
      "          rv                                             \n",
      "       count       mean        std        min         max\n",
      "rv_cat                                                   \n",
      "gaia     329  17.600533  46.762837 -87.458641  283.845062\n",
      "galah     42  12.609470  32.072070 -68.207001  111.444000\n"
     ]
    },
    {
     "data": {
      "image/png": "[encoded data removed]",
      "text/plain": [
       "<Figure size 720x360 with 1 Axes>"
      ]
     },
     "metadata": {
      "needs_background": "light"
     },
     "output_type": "display_data"
    },
    {
     "name": "stdout",
     "output_type": "stream",
     "text": [
      "          teff                                                    \n",
      "         count         mean          std          min          max\n",
      "teff_cat                                                          \n",
      "galah       10  4661.251940   268.065421  4208.318000  5036.053000\n",
      "gspphot    321  5342.117171   664.599972  3156.387695  8170.015137\n",
      "rave         6  5334.166667  1541.511390  4177.000000  8326.000000\n"
     ]
    },
    {
     "data": {
      "image/png": "[encoded data removed]",
      "text/plain": [
       "<Figure size 720x360 with 1 Axes>"
      ]
     },
     "metadata": {
      "needs_background": "light"
     },
     "output_type": "display_data"
    },
    {
     "name": "stdout",
     "output_type": "stream",
     "text": [
      "          logg                                        \n",
      "         count      mean       std       min       max\n",
      "logg_cat                                              \n",
      "galah       10  2.563488  0.656030  1.410275  3.447012\n",
      "gspphot    321  4.064438  0.613954  1.185300  4.996300\n",
      "rave         6  2.263333  0.891508  1.200000  3.560000\n"
     ]
    },
    {
     "data": {
      "image/png": "[encoded data removed]",
      "text/plain": [
       "<Figure size 720x360 with 1 Axes>"
      ]
     },
     "metadata": {
      "needs_background": "light"
     },
     "output_type": "display_data"
    },
    {
     "name": "stdout",
     "output_type": "stream",
     "text": [
      "          feh                                        \n",
      "        count      mean       std       min       max\n",
      "feh_cat                                              \n",
      "galah      42 -0.218517  0.291289 -0.892424  0.277632\n"
     ]
    }
   ],
   "source": [
    "# group by catalog\n",
    "for par, catalog in catalogs.items():\n",
    "    df_group = df_com.groupby(f'{par}_cat').agg({par: ['count', 'mean', 'std', 'min', 'max']})\n",
    "    plt.figure(figsize=(10,5))\n",
    "    plt.bar(df_group[par]['count'].index, df_group[par]['count'].values)\n",
    "    plt.xticks(rotation=90)\n",
    "    plt.title(par)\n",
    "    plt.show()\n",
    "    print(df_group)\n"
   ]
  },
  {
   "cell_type": "code",
   "execution_count": 227,
   "metadata": {},
   "outputs": [
    {
     "data": {
      "image/png": "[encoded data removed]",
      "text/plain": [
       "<Figure size 720x360 with 1 Axes>"
      ]
     },
     "metadata": {
      "needs_background": "light"
     },
     "output_type": "display_data"
    },
    {
     "data": {
      "text/html": [
       "<div>\n",
       "<style scoped>\n",
       "    .dataframe tbody tr th:only-of-type {\n",
       "        vertical-align: middle;\n",
       "    }\n",
       "\n",
       "    .dataframe tbody tr th {\n",
       "        vertical-align: top;\n",
       "    }\n",
       "\n",
       "    .dataframe thead tr th {\n",
       "        text-align: left;\n",
       "    }\n",
       "\n",
       "    .dataframe thead tr:last-of-type th {\n",
       "        text-align: right;\n",
       "    }\n",
       "</style>\n",
       "<table border=\"1\" class=\"dataframe\">\n",
       "  <thead>\n",
       "    <tr>\n",
       "      <th></th>\n",
       "      <th colspan=\"5\" halign=\"left\">teff</th>\n",
       "    </tr>\n",
       "    <tr>\n",
       "      <th></th>\n",
       "      <th>count</th>\n",
       "      <th>mean</th>\n",
       "      <th>std</th>\n",
       "      <th>min</th>\n",
       "      <th>max</th>\n",
       "    </tr>\n",
       "    <tr>\n",
       "      <th>teff_cat</th>\n",
       "      <th></th>\n",
       "      <th></th>\n",
       "      <th></th>\n",
       "      <th></th>\n",
       "      <th></th>\n",
       "    </tr>\n",
       "  </thead>\n",
       "  <tbody>\n",
       "    <tr>\n",
       "      <th>galah</th>\n",
       "      <td>10</td>\n",
       "      <td>4661.251940</td>\n",
       "      <td>268.065421</td>\n",
       "      <td>4208.318000</td>\n",
       "      <td>5036.053000</td>\n",
       "    </tr>\n",
       "    <tr>\n",
       "      <th>gspphot</th>\n",
       "      <td>321</td>\n",
       "      <td>5342.117171</td>\n",
       "      <td>664.599972</td>\n",
       "      <td>3156.387695</td>\n",
       "      <td>8170.015137</td>\n",
       "    </tr>\n",
       "    <tr>\n",
       "      <th>rave</th>\n",
       "      <td>6</td>\n",
       "      <td>5334.166667</td>\n",
       "      <td>1541.511390</td>\n",
       "      <td>4177.000000</td>\n",
       "      <td>8326.000000</td>\n",
       "    </tr>\n",
       "  </tbody>\n",
       "</table>\n",
       "</div>"
      ],
      "text/plain": [
       "          teff                                                    \n",
       "         count         mean          std          min          max\n",
       "teff_cat                                                          \n",
       "galah       10  4661.251940   268.065421  4208.318000  5036.053000\n",
       "gspphot    321  5342.117171   664.599972  3156.387695  8170.015137\n",
       "rave         6  5334.166667  1541.511390  4177.000000  8326.000000"
      ]
     },
     "execution_count": 227,
     "metadata": {},
     "output_type": "execute_result"
    }
   ],
   "source": [
    "# group by teff_cat\n",
    "df_group = df_com.groupby('teff_cat').agg({'teff': ['count', 'mean', 'std', 'min', 'max']})\n",
    "# plot counts of each catalog\n",
    "\n",
    "plt.figure(figsize=(10,5))\n",
    "plt.bar(df_group['teff']['count'].index, df_group['teff']['count'].values)\n",
    "plt.xticks(rotation=90)\n",
    "plt.show()\n",
    "df_group\n"
   ]
  },
  {
   "cell_type": "code",
   "execution_count": null,
   "metadata": {},
   "outputs": [],
   "source": []
  },
  {
   "attachments": {},
   "cell_type": "markdown",
   "metadata": {},
   "source": [
    "* 2.51 s ± 46.4 ms per loop (mean ± std. dev. of 7 runs, 1 loop each) = 1000\n",
    "* 4.99 s ± 80.1 ms per loop (mean ± std. dev. of 7 runs, 1 loop each) = 2000\n",
    "* 10 s ± 113 ms per loop (mean ± std. dev. of 7 runs, 1 loop each)"
   ]
  },
  {
   "cell_type": "code",
   "execution_count": 177,
   "metadata": {},
   "outputs": [
    {
     "name": "stdout",
     "output_type": "stream",
     "text": [
      "Processing chunk 0\n",
      "   col1\n",
      "0     1\n",
      "1     2\n",
      "2     3\n",
      "Processing chunk 1\n",
      "   col1\n",
      "3     4\n",
      "4     5\n",
      "5     6\n",
      "Processing chunk 2\n",
      "   col1\n",
      "6     7\n",
      "7     8\n",
      "8     9\n",
      "Processing chunk 3\n",
      "   col1\n",
      "9    10\n"
     ]
    }
   ],
   "source": [
    "import pandas as pd\n",
    "\n",
    "# create a sample DataFrame\n",
    "df = pd.DataFrame({'col1': [1, 2, 3, 4, 5, 6, 7, 8, 9, 10]})\n",
    "\n",
    "# set the chunk size\n",
    "M = 3\n",
    "\n",
    "# group the DataFrame into chunks of size M\n",
    "for i, group in df.groupby(df.index // M):\n",
    "    print(f\"Processing chunk {i}\")\n",
    "    print(group)"
   ]
  },
  {
   "cell_type": "code",
   "execution_count": 161,
   "metadata": {},
   "outputs": [
    {
     "data": {
      "text/html": [
       "<div>\n",
       "<style scoped>\n",
       "    .dataframe tbody tr th:only-of-type {\n",
       "        vertical-align: middle;\n",
       "    }\n",
       "\n",
       "    .dataframe tbody tr th {\n",
       "        vertical-align: top;\n",
       "    }\n",
       "\n",
       "    .dataframe thead th {\n",
       "        text-align: right;\n",
       "    }\n",
       "</style>\n",
       "<table border=\"1\" class=\"dataframe\">\n",
       "  <thead>\n",
       "    <tr style=\"text-align: right;\">\n",
       "      <th></th>\n",
       "      <th>ra</th>\n",
       "      <th>dec</th>\n",
       "      <th>Jmag</th>\n",
       "      <th>Kmag</th>\n",
       "      <th>ph_qual</th>\n",
       "      <th>source_id</th>\n",
       "      <th>pm</th>\n",
       "      <th>pmra</th>\n",
       "      <th>e_pmra</th>\n",
       "      <th>pmdec</th>\n",
       "      <th>...</th>\n",
       "      <th>e_mh_apogee</th>\n",
       "      <th>alpham_apogee</th>\n",
       "      <th>e_alpham_apogee</th>\n",
       "      <th>feh_apogee</th>\n",
       "      <th>e_feh_apogee</th>\n",
       "      <th>rv</th>\n",
       "      <th>rv_cat</th>\n",
       "      <th>rv_el</th>\n",
       "      <th>rv_eu</th>\n",
       "      <th>rv_sym</th>\n",
       "    </tr>\n",
       "  </thead>\n",
       "  <tbody>\n",
       "    <tr>\n",
       "      <th>0</th>\n",
       "      <td>0.180498</td>\n",
       "      <td>-89.243835</td>\n",
       "      <td>13.123</td>\n",
       "      <td>12.679</td>\n",
       "      <td>AAA</td>\n",
       "      <td>4611967772579686144</td>\n",
       "      <td>18.717230</td>\n",
       "      <td>17.611683</td>\n",
       "      <td>0.017650</td>\n",
       "      <td>-6.337455</td>\n",
       "      <td>...</td>\n",
       "      <td>NaN</td>\n",
       "      <td>NaN</td>\n",
       "      <td>NaN</td>\n",
       "      <td>NaN</td>\n",
       "      <td>NaN</td>\n",
       "      <td>152.844757</td>\n",
       "      <td>gaia</td>\n",
       "      <td>4.919384</td>\n",
       "      <td>4.919384</td>\n",
       "      <td>True</td>\n",
       "    </tr>\n",
       "    <tr>\n",
       "      <th>1</th>\n",
       "      <td>0.338177</td>\n",
       "      <td>-89.481033</td>\n",
       "      <td>8.977</td>\n",
       "      <td>8.038</td>\n",
       "      <td>AAA</td>\n",
       "      <td>4611761957746621312</td>\n",
       "      <td>9.622093</td>\n",
       "      <td>7.609581</td>\n",
       "      <td>0.014361</td>\n",
       "      <td>-5.888884</td>\n",
       "      <td>...</td>\n",
       "      <td>NaN</td>\n",
       "      <td>NaN</td>\n",
       "      <td>NaN</td>\n",
       "      <td>NaN</td>\n",
       "      <td>NaN</td>\n",
       "      <td>30.259687</td>\n",
       "      <td>gaia</td>\n",
       "      <td>0.167822</td>\n",
       "      <td>0.167822</td>\n",
       "      <td>True</td>\n",
       "    </tr>\n",
       "    <tr>\n",
       "      <th>2</th>\n",
       "      <td>0.392894</td>\n",
       "      <td>-89.286575</td>\n",
       "      <td>12.769</td>\n",
       "      <td>12.330</td>\n",
       "      <td>AAA</td>\n",
       "      <td>4611779756091083008</td>\n",
       "      <td>6.918577</td>\n",
       "      <td>4.898140</td>\n",
       "      <td>0.015574</td>\n",
       "      <td>-4.886198</td>\n",
       "      <td>...</td>\n",
       "      <td>NaN</td>\n",
       "      <td>NaN</td>\n",
       "      <td>NaN</td>\n",
       "      <td>NaN</td>\n",
       "      <td>NaN</td>\n",
       "      <td>8.286510</td>\n",
       "      <td>gaia</td>\n",
       "      <td>6.514821</td>\n",
       "      <td>6.514821</td>\n",
       "      <td>True</td>\n",
       "    </tr>\n",
       "    <tr>\n",
       "      <th>3</th>\n",
       "      <td>0.491097</td>\n",
       "      <td>-89.325348</td>\n",
       "      <td>13.285</td>\n",
       "      <td>12.922</td>\n",
       "      <td>AAA</td>\n",
       "      <td>4611778656579457664</td>\n",
       "      <td>3.335455</td>\n",
       "      <td>2.758185</td>\n",
       "      <td>0.015947</td>\n",
       "      <td>1.875548</td>\n",
       "      <td>...</td>\n",
       "      <td>NaN</td>\n",
       "      <td>NaN</td>\n",
       "      <td>NaN</td>\n",
       "      <td>NaN</td>\n",
       "      <td>NaN</td>\n",
       "      <td>-9.221251</td>\n",
       "      <td>gaia</td>\n",
       "      <td>6.796243</td>\n",
       "      <td>6.796243</td>\n",
       "      <td>True</td>\n",
       "    </tr>\n",
       "    <tr>\n",
       "      <th>4</th>\n",
       "      <td>0.140988</td>\n",
       "      <td>-88.624542</td>\n",
       "      <td>12.574</td>\n",
       "      <td>12.226</td>\n",
       "      <td>AAA</td>\n",
       "      <td>4612059856678435456</td>\n",
       "      <td>7.222961</td>\n",
       "      <td>6.909172</td>\n",
       "      <td>0.014310</td>\n",
       "      <td>-2.105829</td>\n",
       "      <td>...</td>\n",
       "      <td>NaN</td>\n",
       "      <td>NaN</td>\n",
       "      <td>NaN</td>\n",
       "      <td>NaN</td>\n",
       "      <td>NaN</td>\n",
       "      <td>33.838387</td>\n",
       "      <td>gaia</td>\n",
       "      <td>3.412791</td>\n",
       "      <td>3.412791</td>\n",
       "      <td>True</td>\n",
       "    </tr>\n",
       "    <tr>\n",
       "      <th>...</th>\n",
       "      <td>...</td>\n",
       "      <td>...</td>\n",
       "      <td>...</td>\n",
       "      <td>...</td>\n",
       "      <td>...</td>\n",
       "      <td>...</td>\n",
       "      <td>...</td>\n",
       "      <td>...</td>\n",
       "      <td>...</td>\n",
       "      <td>...</td>\n",
       "      <td>...</td>\n",
       "      <td>...</td>\n",
       "      <td>...</td>\n",
       "      <td>...</td>\n",
       "      <td>...</td>\n",
       "      <td>...</td>\n",
       "      <td>...</td>\n",
       "      <td>...</td>\n",
       "      <td>...</td>\n",
       "      <td>...</td>\n",
       "      <td>...</td>\n",
       "    </tr>\n",
       "    <tr>\n",
       "      <th>95</th>\n",
       "      <td>0.001998</td>\n",
       "      <td>-84.804314</td>\n",
       "      <td>12.523</td>\n",
       "      <td>11.930</td>\n",
       "      <td>AAA</td>\n",
       "      <td>4617598371624860928</td>\n",
       "      <td>17.004169</td>\n",
       "      <td>16.266358</td>\n",
       "      <td>0.015284</td>\n",
       "      <td>4.954529</td>\n",
       "      <td>...</td>\n",
       "      <td>NaN</td>\n",
       "      <td>NaN</td>\n",
       "      <td>NaN</td>\n",
       "      <td>NaN</td>\n",
       "      <td>NaN</td>\n",
       "      <td>-23.821648</td>\n",
       "      <td>gaia</td>\n",
       "      <td>3.244792</td>\n",
       "      <td>3.244792</td>\n",
       "      <td>True</td>\n",
       "    </tr>\n",
       "    <tr>\n",
       "      <th>96</th>\n",
       "      <td>0.002857</td>\n",
       "      <td>-84.718956</td>\n",
       "      <td>11.746</td>\n",
       "      <td>10.877</td>\n",
       "      <td>AAA</td>\n",
       "      <td>4617602769671367936</td>\n",
       "      <td>5.980711</td>\n",
       "      <td>5.927854</td>\n",
       "      <td>0.014620</td>\n",
       "      <td>-0.793377</td>\n",
       "      <td>...</td>\n",
       "      <td>NaN</td>\n",
       "      <td>NaN</td>\n",
       "      <td>NaN</td>\n",
       "      <td>NaN</td>\n",
       "      <td>NaN</td>\n",
       "      <td>131.922379</td>\n",
       "      <td>gaia</td>\n",
       "      <td>1.274144</td>\n",
       "      <td>1.274144</td>\n",
       "      <td>True</td>\n",
       "    </tr>\n",
       "    <tr>\n",
       "      <th>97</th>\n",
       "      <td>0.056133</td>\n",
       "      <td>-84.163345</td>\n",
       "      <td>12.856</td>\n",
       "      <td>12.021</td>\n",
       "      <td>AAA</td>\n",
       "      <td>4617690730601525760</td>\n",
       "      <td>5.056492</td>\n",
       "      <td>5.012071</td>\n",
       "      <td>0.017981</td>\n",
       "      <td>-0.668774</td>\n",
       "      <td>...</td>\n",
       "      <td>NaN</td>\n",
       "      <td>NaN</td>\n",
       "      <td>NaN</td>\n",
       "      <td>NaN</td>\n",
       "      <td>NaN</td>\n",
       "      <td>137.282578</td>\n",
       "      <td>gaia</td>\n",
       "      <td>5.754258</td>\n",
       "      <td>5.754258</td>\n",
       "      <td>True</td>\n",
       "    </tr>\n",
       "    <tr>\n",
       "      <th>98</th>\n",
       "      <td>0.072114</td>\n",
       "      <td>-84.240234</td>\n",
       "      <td>12.335</td>\n",
       "      <td>11.922</td>\n",
       "      <td>AAA</td>\n",
       "      <td>4617686401274503040</td>\n",
       "      <td>2.498640</td>\n",
       "      <td>0.273037</td>\n",
       "      <td>0.014437</td>\n",
       "      <td>2.483677</td>\n",
       "      <td>...</td>\n",
       "      <td>NaN</td>\n",
       "      <td>NaN</td>\n",
       "      <td>NaN</td>\n",
       "      <td>NaN</td>\n",
       "      <td>NaN</td>\n",
       "      <td>59.004929</td>\n",
       "      <td>gaia</td>\n",
       "      <td>3.285146</td>\n",
       "      <td>3.285146</td>\n",
       "      <td>True</td>\n",
       "    </tr>\n",
       "    <tr>\n",
       "      <th>99</th>\n",
       "      <td>0.107528</td>\n",
       "      <td>-84.300728</td>\n",
       "      <td>12.966</td>\n",
       "      <td>12.543</td>\n",
       "      <td>AAA</td>\n",
       "      <td>4617685233043408896</td>\n",
       "      <td>19.462042</td>\n",
       "      <td>19.180341</td>\n",
       "      <td>0.018363</td>\n",
       "      <td>3.299334</td>\n",
       "      <td>...</td>\n",
       "      <td>NaN</td>\n",
       "      <td>NaN</td>\n",
       "      <td>NaN</td>\n",
       "      <td>NaN</td>\n",
       "      <td>NaN</td>\n",
       "      <td>-36.847588</td>\n",
       "      <td>gaia</td>\n",
       "      <td>4.066217</td>\n",
       "      <td>4.066217</td>\n",
       "      <td>True</td>\n",
       "    </tr>\n",
       "  </tbody>\n",
       "</table>\n",
       "<p>100 rows × 91 columns</p>\n",
       "</div>"
      ],
      "text/plain": [
       "          ra        dec    Jmag    Kmag ph_qual            source_id  \\\n",
       "0   0.180498 -89.243835  13.123  12.679     AAA  4611967772579686144   \n",
       "1   0.338177 -89.481033   8.977   8.038     AAA  4611761957746621312   \n",
       "2   0.392894 -89.286575  12.769  12.330     AAA  4611779756091083008   \n",
       "3   0.491097 -89.325348  13.285  12.922     AAA  4611778656579457664   \n",
       "4   0.140988 -88.624542  12.574  12.226     AAA  4612059856678435456   \n",
       "..       ...        ...     ...     ...     ...                  ...   \n",
       "95  0.001998 -84.804314  12.523  11.930     AAA  4617598371624860928   \n",
       "96  0.002857 -84.718956  11.746  10.877     AAA  4617602769671367936   \n",
       "97  0.056133 -84.163345  12.856  12.021     AAA  4617690730601525760   \n",
       "98  0.072114 -84.240234  12.335  11.922     AAA  4617686401274503040   \n",
       "99  0.107528 -84.300728  12.966  12.543     AAA  4617685233043408896   \n",
       "\n",
       "           pm       pmra    e_pmra     pmdec  ...  e_mh_apogee  alpham_apogee  \\\n",
       "0   18.717230  17.611683  0.017650 -6.337455  ...          NaN            NaN   \n",
       "1    9.622093   7.609581  0.014361 -5.888884  ...          NaN            NaN   \n",
       "2    6.918577   4.898140  0.015574 -4.886198  ...          NaN            NaN   \n",
       "3    3.335455   2.758185  0.015947  1.875548  ...          NaN            NaN   \n",
       "4    7.222961   6.909172  0.014310 -2.105829  ...          NaN            NaN   \n",
       "..        ...        ...       ...       ...  ...          ...            ...   \n",
       "95  17.004169  16.266358  0.015284  4.954529  ...          NaN            NaN   \n",
       "96   5.980711   5.927854  0.014620 -0.793377  ...          NaN            NaN   \n",
       "97   5.056492   5.012071  0.017981 -0.668774  ...          NaN            NaN   \n",
       "98   2.498640   0.273037  0.014437  2.483677  ...          NaN            NaN   \n",
       "99  19.462042  19.180341  0.018363  3.299334  ...          NaN            NaN   \n",
       "\n",
       "    e_alpham_apogee  feh_apogee  e_feh_apogee          rv  rv_cat     rv_el  \\\n",
       "0               NaN         NaN           NaN  152.844757    gaia  4.919384   \n",
       "1               NaN         NaN           NaN   30.259687    gaia  0.167822   \n",
       "2               NaN         NaN           NaN    8.286510    gaia  6.514821   \n",
       "3               NaN         NaN           NaN   -9.221251    gaia  6.796243   \n",
       "4               NaN         NaN           NaN   33.838387    gaia  3.412791   \n",
       "..              ...         ...           ...         ...     ...       ...   \n",
       "95              NaN         NaN           NaN  -23.821648    gaia  3.244792   \n",
       "96              NaN         NaN           NaN  131.922379    gaia  1.274144   \n",
       "97              NaN         NaN           NaN  137.282578    gaia  5.754258   \n",
       "98              NaN         NaN           NaN   59.004929    gaia  3.285146   \n",
       "99              NaN         NaN           NaN  -36.847588    gaia  4.066217   \n",
       "\n",
       "       rv_eu  rv_sym  \n",
       "0   4.919384    True  \n",
       "1   0.167822    True  \n",
       "2   6.514821    True  \n",
       "3   6.796243    True  \n",
       "4   3.412791    True  \n",
       "..       ...     ...  \n",
       "95  3.244792    True  \n",
       "96  1.274144    True  \n",
       "97  5.754258    True  \n",
       "98  3.285146    True  \n",
       "99  4.066217    True  \n",
       "\n",
       "[100 rows x 91 columns]"
      ]
     },
     "execution_count": 161,
     "metadata": {},
     "output_type": "execute_result"
    }
   ],
   "source": [
    "df.apply(best_pars, axis=1, args=(catalogs_rv, \"rv\"))"
   ]
  },
  {
   "cell_type": "code",
   "execution_count": 154,
   "metadata": {},
   "outputs": [
    {
     "ename": "KeyError",
     "evalue": "'rv'",
     "output_type": "error",
     "traceback": [
      "\u001b[0;31m---------------------------------------------------------------------------\u001b[0m",
      "\u001b[0;31mKeyError\u001b[0m                                  Traceback (most recent call last)",
      "File \u001b[0;32m~/.conda/envs/vaex/lib/python3.8/site-packages/pandas/core/indexes/base.py:3621\u001b[0m, in \u001b[0;36mIndex.get_loc\u001b[0;34m(self, key, method, tolerance)\u001b[0m\n\u001b[1;32m   3620\u001b[0m \u001b[39mtry\u001b[39;00m:\n\u001b[0;32m-> 3621\u001b[0m     \u001b[39mreturn\u001b[39;00m \u001b[39mself\u001b[39;49m\u001b[39m.\u001b[39;49m_engine\u001b[39m.\u001b[39;49mget_loc(casted_key)\n\u001b[1;32m   3622\u001b[0m \u001b[39mexcept\u001b[39;00m \u001b[39mKeyError\u001b[39;00m \u001b[39mas\u001b[39;00m err:\n",
      "File \u001b[0;32m~/.conda/envs/vaex/lib/python3.8/site-packages/pandas/_libs/index.pyx:136\u001b[0m, in \u001b[0;36mpandas._libs.index.IndexEngine.get_loc\u001b[0;34m()\u001b[0m\n",
      "File \u001b[0;32m~/.conda/envs/vaex/lib/python3.8/site-packages/pandas/_libs/index.pyx:163\u001b[0m, in \u001b[0;36mpandas._libs.index.IndexEngine.get_loc\u001b[0;34m()\u001b[0m\n",
      "File \u001b[0;32mpandas/_libs/hashtable_class_helper.pxi:5198\u001b[0m, in \u001b[0;36mpandas._libs.hashtable.PyObjectHashTable.get_item\u001b[0;34m()\u001b[0m\n",
      "File \u001b[0;32mpandas/_libs/hashtable_class_helper.pxi:5206\u001b[0m, in \u001b[0;36mpandas._libs.hashtable.PyObjectHashTable.get_item\u001b[0;34m()\u001b[0m\n",
      "\u001b[0;31mKeyError\u001b[0m: 'rv'",
      "\nThe above exception was the direct cause of the following exception:\n",
      "\u001b[0;31mKeyError\u001b[0m                                  Traceback (most recent call last)",
      "\u001b[1;32m/home2/s20321005/Thesis-Project/2_Cleaning/2.2. Best Parameters.ipynb Cell 21\u001b[0m in \u001b[0;36m<cell line: 1>\u001b[0;34m()\u001b[0m\n\u001b[0;32m----> <a href='vscode-notebook-cell://ssh-remote%2Bmilkyway.as.itb.ac.id/home2/s20321005/Thesis-Project/2_Cleaning/2.2.%20Best%20Parameters.ipynb#Y120sdnNjb2RlLXJlbW90ZQ%3D%3D?line=0'>1</a>\u001b[0m df[:\u001b[39m100\u001b[39;49m][\u001b[39m\"\u001b[39;49m\u001b[39mrv\u001b[39;49m\u001b[39m\"\u001b[39;49m]\n",
      "File \u001b[0;32m~/.conda/envs/vaex/lib/python3.8/site-packages/pandas/core/frame.py:3505\u001b[0m, in \u001b[0;36mDataFrame.__getitem__\u001b[0;34m(self, key)\u001b[0m\n\u001b[1;32m   3503\u001b[0m \u001b[39mif\u001b[39;00m \u001b[39mself\u001b[39m\u001b[39m.\u001b[39mcolumns\u001b[39m.\u001b[39mnlevels \u001b[39m>\u001b[39m \u001b[39m1\u001b[39m:\n\u001b[1;32m   3504\u001b[0m     \u001b[39mreturn\u001b[39;00m \u001b[39mself\u001b[39m\u001b[39m.\u001b[39m_getitem_multilevel(key)\n\u001b[0;32m-> 3505\u001b[0m indexer \u001b[39m=\u001b[39m \u001b[39mself\u001b[39;49m\u001b[39m.\u001b[39;49mcolumns\u001b[39m.\u001b[39;49mget_loc(key)\n\u001b[1;32m   3506\u001b[0m \u001b[39mif\u001b[39;00m is_integer(indexer):\n\u001b[1;32m   3507\u001b[0m     indexer \u001b[39m=\u001b[39m [indexer]\n",
      "File \u001b[0;32m~/.conda/envs/vaex/lib/python3.8/site-packages/pandas/core/indexes/base.py:3623\u001b[0m, in \u001b[0;36mIndex.get_loc\u001b[0;34m(self, key, method, tolerance)\u001b[0m\n\u001b[1;32m   3621\u001b[0m     \u001b[39mreturn\u001b[39;00m \u001b[39mself\u001b[39m\u001b[39m.\u001b[39m_engine\u001b[39m.\u001b[39mget_loc(casted_key)\n\u001b[1;32m   3622\u001b[0m \u001b[39mexcept\u001b[39;00m \u001b[39mKeyError\u001b[39;00m \u001b[39mas\u001b[39;00m err:\n\u001b[0;32m-> 3623\u001b[0m     \u001b[39mraise\u001b[39;00m \u001b[39mKeyError\u001b[39;00m(key) \u001b[39mfrom\u001b[39;00m \u001b[39merr\u001b[39;00m\n\u001b[1;32m   3624\u001b[0m \u001b[39mexcept\u001b[39;00m \u001b[39mTypeError\u001b[39;00m:\n\u001b[1;32m   3625\u001b[0m     \u001b[39m# If we have a listlike key, _check_indexing_error will raise\u001b[39;00m\n\u001b[1;32m   3626\u001b[0m     \u001b[39m#  InvalidIndexError. Otherwise we fall through and re-raise\u001b[39;00m\n\u001b[1;32m   3627\u001b[0m     \u001b[39m#  the TypeError.\u001b[39;00m\n\u001b[1;32m   3628\u001b[0m     \u001b[39mself\u001b[39m\u001b[39m.\u001b[39m_check_indexing_error(key)\n",
      "\u001b[0;31mKeyError\u001b[0m: 'rv'"
     ]
    }
   ],
   "source": [
    "df[:100][\"rv\"]"
   ]
  },
  {
   "attachments": {},
   "cell_type": "markdown",
   "metadata": {},
   "source": []
  },
  {
   "cell_type": "markdown",
   "metadata": {},
   "source": []
  },
  {
   "cell_type": "markdown",
   "metadata": {},
   "source": []
  },
  {
   "cell_type": "markdown",
   "metadata": {},
   "source": []
  },
  {
   "attachments": {},
   "cell_type": "markdown",
   "metadata": {},
   "source": [
    "# LEGACY CODE"
   ]
  },
  {
   "cell_type": "code",
   "execution_count": 12,
   "metadata": {
    "execution": {
     "iopub.execute_input": "2023-01-18T17:12:18.838965Z",
     "iopub.status.busy": "2023-01-18T17:12:18.838373Z",
     "iopub.status.idle": "2023-01-18T17:12:18.856962Z",
     "shell.execute_reply": "2023-01-18T17:12:18.855998Z",
     "shell.execute_reply.started": "2023-01-18T17:12:18.838909Z"
    },
    "tags": []
   },
   "outputs": [],
   "source": [
    "# cols initiation\n",
    "rv_cols = [\n",
    "    {\n",
    "        'value': 'rv_gaia', \n",
    "        'error': 'e_rv_gaia', \n",
    "        'cat': 'gaia'\n",
    "    }, \n",
    "    {\n",
    "        'value': 'rv_rave', \n",
    "        'error': 'e_rv_rave', \n",
    "        'cat': 'rave'\n",
    "    },\n",
    "    {\n",
    "        'value': 'rv_apogee', \n",
    "        'error': 'e_rv_apogee', \n",
    "        'cat': 'apogee'\n",
    "    },\n",
    "    {\n",
    "        'value': 'rv_lamost', \n",
    "        'error': 'e_rv_lamost', \n",
    "        'cat': 'lamost'\n",
    "    },\n",
    "    {\n",
    "        'value': 'rv_galah', \n",
    "        'error': 'e_rv_galah', \n",
    "        'cat': 'galah'\n",
    "    }\n",
    "]\n",
    "\n",
    "teff_cols = [\n",
    "    {\n",
    "        'value': 'teff_gspphot', \n",
    "        'error': {\n",
    "            'upper': 'teff_gspphot_upper',\n",
    "            'lower': 'teff_gspphot_lower'\n",
    "        }, \n",
    "        'cat': 'gspphot'\n",
    "    }, \n",
    "    {\n",
    "        'value': 'teff_rave', \n",
    "        'error': np.nan, \n",
    "        'cat': 'rave'\n",
    "    },\n",
    "    {\n",
    "        'value': 'teff_apogee', \n",
    "        'error': 'e_teff_apogee', \n",
    "        'cat': 'apogee'\n",
    "    },\n",
    "    {\n",
    "        'value': 'teff_lamost', \n",
    "        'error': 'e_teff_lamost', \n",
    "        'cat': 'lamost'\n",
    "    },\n",
    "    {\n",
    "        'value': 'teff_galah', \n",
    "        'error': 'e_teff_galah', \n",
    "        'cat': 'galah'\n",
    "    }\n",
    "]\n",
    "\n",
    "logg_cols = [\n",
    "    {\n",
    "        'value': 'logg_gspphot', \n",
    "        'error': {\n",
    "            'upper': 'logg_gspphot_upper',\n",
    "            'lower': 'logg_gspphot_lower'\n",
    "        }, \n",
    "        'cat': 'gspphot'\n",
    "    }, \n",
    "    {\n",
    "        'value': 'logg_rave', \n",
    "        'error': np.nan, \n",
    "        'cat': 'rave'\n",
    "    },\n",
    "    {\n",
    "        'value': 'logg_apogee', \n",
    "        'error': 'e_logg_apogee', \n",
    "        'cat': 'apogee'\n",
    "    },\n",
    "    {\n",
    "        'value': 'logg_lamost', \n",
    "        'error': 'e_logg_lamost', \n",
    "        'cat': 'lamost'\n",
    "    },\n",
    "    {\n",
    "        'value': 'logg_galah', \n",
    "        'error': 'e_logg_galah', \n",
    "        'cat': 'galah'\n",
    "    }\n",
    "]\n",
    "\n",
    "mh_cols = [\n",
    "    {\n",
    "        'value': 'mh_gspphot', \n",
    "        'error': {\n",
    "            'upper': 'mh_gspphot_upper',\n",
    "            'lower': 'mh_gspphot_lower'\n",
    "        }, \n",
    "        'cat': 'gspphot'\n",
    "    },\n",
    "    {\n",
    "        'value': 'mh_gspspec', \n",
    "        'error': {\n",
    "            'upper': 'mh_gspspec_upper',\n",
    "            'lower': 'mh_gspspec_lower'\n",
    "        }, \n",
    "        'cat': 'gspspec'\n",
    "    },\n",
    "    {\n",
    "        'value': 'mh_rave', \n",
    "        'error': np.nan, \n",
    "        'cat': 'rave'\n",
    "    },\n",
    "    {\n",
    "        'value': 'mh_apogee', \n",
    "        'error': 'e_mh_apogee', \n",
    "        'cat': 'apogee'\n",
    "    }\n",
    "]\n",
    "\n",
    "alphafe_cols = [\n",
    "    {\n",
    "        'value': 'alphafe_gspspec', \n",
    "        'error': {\n",
    "            'upper': 'alphafe_gspspec_upper',\n",
    "            'lower': 'alphafe_gspspec_lower'\n",
    "        }, \n",
    "        'cat': 'gspspec'\n",
    "    },\n",
    "    {\n",
    "        'value': 'alphafe_rave', \n",
    "        'error': np.nan, \n",
    "        'cat': 'rave'\n",
    "    },\n",
    "    {\n",
    "        'value': 'alphafe_galah', \n",
    "        'error': np.nan, \n",
    "        'cat': 'galah'\n",
    "    }\n",
    "]\n",
    "\n",
    "fem_cols = [\n",
    "    {\n",
    "        'value': 'fem_gspspec', \n",
    "        'error': {\n",
    "            'upper': 'fem_gspspec_upper',\n",
    "            'lower': 'fem_gspspec_lower'\n",
    "        }, \n",
    "        'cat': 'gspspec'\n",
    "    }\n",
    "]\n",
    "\n",
    "feh_cols = [\n",
    "    {\n",
    "        'value': 'feh_galah', \n",
    "        'error': np.nan, \n",
    "        'cat': 'galah'\n",
    "    },\n",
    "    {\n",
    "        'value': 'feh_lamost', \n",
    "        'error': 'e_feh_lamost', \n",
    "        'cat': 'lamost'\n",
    "    },\n",
    "    {\n",
    "        'value': 'feh_apogee', \n",
    "        'error': 'e_feh_apogee', \n",
    "        'cat': 'apogee'\n",
    "    }\n",
    "]"
   ]
  },
  {
   "cell_type": "code",
   "execution_count": 13,
   "metadata": {
    "execution": {
     "iopub.execute_input": "2023-01-18T17:12:24.962857Z",
     "iopub.status.busy": "2023-01-18T17:12:24.962256Z",
     "iopub.status.idle": "2023-01-18T17:12:24.975565Z",
     "shell.execute_reply": "2023-01-18T17:12:24.974264Z",
     "shell.execute_reply.started": "2023-01-18T17:12:24.962801Z"
    },
    "tags": []
   },
   "outputs": [],
   "source": [
    "# Extract which columns should be used\n",
    "\n",
    "# par_cols: {\n",
    "#   value: string\n",
    "#   error?: {\n",
    "#     upper: string\n",
    "#     lower: string\n",
    "#   } | string\n",
    "#   cat: string\n",
    "# }[]\n",
    "# row: pandas.core.series.Series\n",
    "def extract_pars(par_cols, row):\n",
    "    pars = []\n",
    "    for col in par_cols:\n",
    "        par = {}\n",
    "        if np.isnan(row[col['value']]):\n",
    "            continue\n",
    "        par['value'] = row[col['value']]\n",
    "        if type(col['error']) == dict:\n",
    "            if ('lower' not in col['error']) or ('upper' not in col['error']):\n",
    "                raise TypeError('lower and/or upper does not exist in error dict')\n",
    "            par['error'] = {'lower': par['value'] - row[col['error']['lower']] , 'upper': row[col['error']['upper']] - par['value']}\n",
    "        elif (type(col['error']) == str):\n",
    "            par['error'] = {'lower': row[col['error']], 'upper': row[col['error']]}\n",
    "        else:\n",
    "            par['error'] = {'lower': np.nan, 'upper': np.nan}\n",
    "        par['cat'] = col['cat']\n",
    "        pars.append(par)\n",
    "    return np.array(pars)"
   ]
  },
  {
   "cell_type": "code",
   "execution_count": 14,
   "metadata": {
    "execution": {
     "iopub.execute_input": "2023-01-18T17:12:32.868345Z",
     "iopub.status.busy": "2023-01-18T17:12:32.867750Z",
     "iopub.status.idle": "2023-01-18T17:12:32.890154Z",
     "shell.execute_reply": "2023-01-18T17:12:32.889195Z",
     "shell.execute_reply.started": "2023-01-18T17:12:32.868289Z"
    },
    "tags": []
   },
   "outputs": [],
   "source": [
    "# function to select the BEST parameter, not optimized tho, but works\n",
    "\n",
    "# TypeScript-like style type definitions\n",
    "# Input\n",
    "## pars: {\n",
    "##   value: number\n",
    "##   error: {\n",
    "##     lower: number\n",
    "##     upper: number\n",
    "##   } | number // upper and lower error OR just singgle number\n",
    "##   cat: string // catalog name\n",
    "## }[] // parameter values\n",
    "## index: number // row index\n",
    "\n",
    "# Output: Array\n",
    "## par: {\n",
    "##   value: number\n",
    "##   error: {\n",
    "##     lower: number\n",
    "##     upper: number\n",
    "##   } // best upper and lower error\n",
    "##   symmetric: boolean // if lower == upper\n",
    "##   cat: string // best catalog name\n",
    "## }\n",
    "\n",
    "NaN = {'value': np.nan, 'error': {'lower': np.nan, 'upper': np.nan}, 'symmetric': np.nan , 'cat': np.nan}\n",
    "\n",
    "def select_best(pars):\n",
    "    if len(pars) == 0: return NaN\n",
    "    elif len(pars) == 1:\n",
    "        if (type(pars[0]['error']) == dict) and ('lower' in pars[0]['error']) and ('upper' in pars[0]['error']):\n",
    "            if np.isnan(pars[0]['error']['lower']):\n",
    "                pars[0]['symmetric'] = np.nan\n",
    "            else:\n",
    "                pars[0]['symmetric'] = pars[0]['error']['lower'] == pars[0]['error']['upper']\n",
    "        else:\n",
    "            raise TypeError('error is not a dict')\n",
    "        # elif np.isnan(pars[0]['error']):\n",
    "        #     pars[0]['symmetric'] = np.nan\n",
    "        # elif (type(pars[0]['error']) == float) or (type(pars[0]['error']) == int):\n",
    "        #     pars[0]['symmetric'] = True\n",
    "        # if np.isnan(pars[0]['value']):\n",
    "        #     pars[0] = NaN\n",
    "        return pars[0]\n",
    "    else:\n",
    "        mask = []\n",
    "        for i, par in enumerate(pars):\n",
    "            if (type(par['error']) == dict) and ('lower' in par['error']) or ('upper' in par['error']): \n",
    "                mask.append(par['error']['lower'] > 0 and par['error']['upper'] > 0)\n",
    "            else:\n",
    "                raise TypeError('error is not a dict')\n",
    "        pars = pars[mask]\n",
    "        errors = np.array(list(map(lambda x: (x['error']['lower'] + x['error']['upper'])/2, pars)))\n",
    "        values = np.array(list(map(lambda x: x['value'], pars)))\n",
    "        if len(pars) == 0: return NaN\n",
    "        elif len(pars) == 1:\n",
    "            pars[0]['symmetric'] = pars[0]['error']['lower'] == pars[0]['error']['upper']\n",
    "            return pars[0]\n",
    "        elif len(pars) == 2:\n",
    "            i = np.argmin(errors)\n",
    "            pars[i]['symmetric'] = pars[i]['error']['lower'] == pars[i]['error']['upper']\n",
    "            return pars[i]\n",
    "        else:\n",
    "            avg = np.average(values, weights=1/errors)\n",
    "            selected_pars = []\n",
    "            for par in pars:\n",
    "                if (par['value'] + par['error']['upper'] > avg) and (par['value'] - par['error']['lower'] < avg):\n",
    "                    selected_pars.append(par)\n",
    "            if (len(selected_pars) == 0):\n",
    "                i = np.argmin(errors)\n",
    "                pars[i]['symmetric'] = pars[i]['error']['lower'] == pars[i]['error']['upper']\n",
    "                return pars[i]\n",
    "            else:\n",
    "                errors = np.array(list(map(lambda x: (x['error']['lower'] + x['error']['upper'])/2, selected_pars)))\n",
    "                i = np.argmin(errors)\n",
    "                selected_pars[i]['symmetric'] = selected_pars[i]['error']['lower'] == selected_pars[i]['error']['upper']\n",
    "                return selected_pars[i]"
   ]
  },
  {
   "cell_type": "code",
   "execution_count": 15,
   "metadata": {
    "execution": {
     "iopub.execute_input": "2023-01-18T17:12:40.441493Z",
     "iopub.status.busy": "2023-01-18T17:12:40.440899Z",
     "iopub.status.idle": "2023-01-18T17:12:40.449426Z",
     "shell.execute_reply": "2023-01-18T17:12:40.448190Z",
     "shell.execute_reply.started": "2023-01-18T17:12:40.441436Z"
    },
    "tags": []
   },
   "outputs": [],
   "source": [
    "remove_cols = ['rv_gaia', 'e_rv_gaia', 'teff_gspphot', 'teff_gspphot_lower', 'teff_gspphot_upper', \n",
    "               'logg_gspphot', 'logg_gspphot_lower', 'logg_gspphot_upper', 'mh_gspphot', \n",
    "               'mh_gspphot_lower', 'mh_gspphot_upper',  \n",
    "               'mh_gspspec', 'mh_gspspec_lower', 'mh_gspspec_upper', 'alphafe_gspspec', 'alphafe_gspspec_lower', \n",
    "               'alphafe_gspspec_upper', 'fem_gspspec', 'fem_gspspec_lower', 'fem_gspspec_upper',  'rv_rave', \n",
    "               'e_rv_rave', 'teff_rave', 'logg_rave', 'mh_rave', 'alphafe_rave', 'rv_galah', 'e_rv_galah', \n",
    "               'feh_galah', 'alphafe_galah', 'teff_galah', 'e_teff_galah', 'logg_galah', 'e_logg_galah', \n",
    "               'teff_lamost', 'e_teff_lamost', 'logg_lamost', 'e_logg_lamost', 'feh_lamost', 'e_feh_lamost', \n",
    "               'rv_lamost', 'e_rv_lamost', 'alpham_lamost', 'e_alpham_lamost', 'rv_apogee', 'e_rv_apogee', \n",
    "               'teff_apogee', 'e_teff_apogee', 'logg_apogee', 'e_logg_apogee', 'mh_apogee', 'e_mh_apogee', \n",
    "               'alpham_apogee', 'e_alpham_apogee', 'feh_apogee', 'e_feh_apogee']"
   ]
  },
  {
   "cell_type": "code",
   "execution_count": 16,
   "metadata": {
    "execution": {
     "iopub.execute_input": "2023-01-18T17:12:43.393014Z",
     "iopub.status.busy": "2023-01-18T17:12:43.392419Z",
     "iopub.status.idle": "2023-01-18T17:12:43.402276Z",
     "shell.execute_reply": "2023-01-18T17:12:43.401168Z",
     "shell.execute_reply.started": "2023-01-18T17:12:43.392957Z"
    },
    "tags": []
   },
   "outputs": [],
   "source": [
    "from time import time\n",
    "def progressbar(percent=0, width=50, info=\"\", path=\"\", flush=False) -> None:\n",
    "    left = int((width * percent) // 100)\n",
    "    right = width - left\n",
    "    \n",
    "    tags = \"#\" * left\n",
    "    spaces = \" \" * right\n",
    "    percents = f\"{percent:.0f}%\"\n",
    "    text = f\"\\r[{tags}{spaces}] {percents} {info}\"\n",
    "    if(flush):\n",
    "        print(text, end=\"\", flush=True)\n",
    "    else:\n",
    "        print(text)\n",
    "    if(path != \"\"):\n",
    "        with open(path, 'a') as f:\n",
    "            f.write(f\"{text}\")"
   ]
  },
  {
   "cell_type": "code",
   "execution_count": null,
   "metadata": {
    "collapsed": true,
    "execution": {
     "iopub.execute_input": "2023-01-18T17:13:31.098623Z",
     "iopub.status.busy": "2023-01-18T17:13:31.097733Z"
    },
    "jupyter": {
     "outputs_hidden": true
    },
    "tags": []
   },
   "outputs": [
    {
     "name": "stdout",
     "output_type": "stream",
     "text": [
      "[############################                      ] 56% 23779/42213 - 24.609s - gaia-000-001.hdf5"
     ]
    },
    {
     "name": "stderr",
     "output_type": "stream",
     "text": [
      "IOPub message rate exceeded.\n",
      "The Jupyter server will temporarily stop sending output\n",
      "to the client in order to avoid crashing it.\n",
      "To change this limit, set the config variable\n",
      "`--ServerApp.iopub_msg_rate_limit`.\n",
      "\n",
      "Current values:\n",
      "ServerApp.iopub_msg_rate_limit=1000.0 (msgs/sec)\n",
      "ServerApp.rate_limit_window=3.0 (secs)\n",
      "\n"
     ]
    },
    {
     "name": "stdout",
     "output_type": "stream",
     "text": [
      "[################################################# ] 99% 41856/42213 - 42.366s - gaia-000-001.hdf5"
     ]
    },
    {
     "name": "stderr",
     "output_type": "stream",
     "text": [
      "IOPub message rate exceeded.\n",
      "The Jupyter server will temporarily stop sending output\n",
      "to the client in order to avoid crashing it.\n",
      "To change this limit, set the config variable\n",
      "`--ServerApp.iopub_msg_rate_limit`.\n",
      "\n",
      "Current values:\n",
      "ServerApp.iopub_msg_rate_limit=1000.0 (msgs/sec)\n",
      "ServerApp.rate_limit_window=3.0 (secs)\n",
      "\n"
     ]
    },
    {
     "name": "stdout",
     "output_type": "stream",
     "text": [
      "export(hdf5) [########################################] 100.00% elapsed time  :     0.99s =  0.0m =  0.0h \n",
      " Saving /home2/s20321005/Thesis-Project/Data/Best-Pars/gaia-000-001.hdf5\n",
      "[####                                              ] 8% 3398/41824 - 3.805s - gaia-001-002.hdf5"
     ]
    },
    {
     "name": "stderr",
     "output_type": "stream",
     "text": [
      "IOPub message rate exceeded.\n",
      "The Jupyter server will temporarily stop sending output\n",
      "to the client in order to avoid crashing it.\n",
      "To change this limit, set the config variable\n",
      "`--ServerApp.iopub_msg_rate_limit`.\n",
      "\n",
      "Current values:\n",
      "ServerApp.iopub_msg_rate_limit=1000.0 (msgs/sec)\n",
      "ServerApp.rate_limit_window=3.0 (secs)\n",
      "\n"
     ]
    },
    {
     "name": "stdout",
     "output_type": "stream",
     "text": [
      "[#################################                 ] 67% 27977/41824 - 29.923s - gaia-001-002.hdf5"
     ]
    },
    {
     "name": "stderr",
     "output_type": "stream",
     "text": [
      "IOPub message rate exceeded.\n",
      "The Jupyter server will temporarily stop sending output\n",
      "to the client in order to avoid crashing it.\n",
      "To change this limit, set the config variable\n",
      "`--ServerApp.iopub_msg_rate_limit`.\n",
      "\n",
      "Current values:\n",
      "ServerApp.iopub_msg_rate_limit=1000.0 (msgs/sec)\n",
      "ServerApp.rate_limit_window=3.0 (secs)\n",
      "\n"
     ]
    },
    {
     "name": "stdout",
     "output_type": "stream",
     "text": [
      "[######################################            ] 78% 32616/41824 - 34.596s - gaia-001-002.hdf5"
     ]
    },
    {
     "name": "stderr",
     "output_type": "stream",
     "text": [
      "IOPub message rate exceeded.\n",
      "The Jupyter server will temporarily stop sending output\n",
      "to the client in order to avoid crashing it.\n",
      "To change this limit, set the config variable\n",
      "`--ServerApp.iopub_msg_rate_limit`.\n",
      "\n",
      "Current values:\n",
      "ServerApp.iopub_msg_rate_limit=1000.0 (msgs/sec)\n",
      "ServerApp.rate_limit_window=3.0 (secs)\n",
      "\n"
     ]
    },
    {
     "name": "stdout",
     "output_type": "stream",
     "text": [
      "export(hdf5) [########################################] 100.00% elapsed time  :     0.95s =  0.0m =  0.0h\n",
      " Saving /home2/s20321005/Thesis-Project/Data/Best-Pars/gaia-001-002.hdf5\n",
      "[########                                          ] 17% 7007/40518 - 7.61s - gaia-002-003.hdf55"
     ]
    },
    {
     "name": "stderr",
     "output_type": "stream",
     "text": [
      "IOPub message rate exceeded.\n",
      "The Jupyter server will temporarily stop sending output\n",
      "to the client in order to avoid crashing it.\n",
      "To change this limit, set the config variable\n",
      "`--ServerApp.iopub_msg_rate_limit`.\n",
      "\n",
      "Current values:\n",
      "ServerApp.iopub_msg_rate_limit=1000.0 (msgs/sec)\n",
      "ServerApp.rate_limit_window=3.0 (secs)\n",
      "\n"
     ]
    },
    {
     "name": "stdout",
     "output_type": "stream",
     "text": [
      "[################################################  ] 97% 38684/39915 - 39.69s - gaia-004-005.hdf55"
     ]
    },
    {
     "name": "stderr",
     "output_type": "stream",
     "text": [
      "IOPub message rate exceeded.\n",
      "The Jupyter server will temporarily stop sending output\n",
      "to the client in order to avoid crashing it.\n",
      "To change this limit, set the config variable\n",
      "`--ServerApp.iopub_msg_rate_limit`.\n",
      "\n",
      "Current values:\n",
      "ServerApp.iopub_msg_rate_limit=1000.0 (msgs/sec)\n",
      "ServerApp.rate_limit_window=3.0 (secs)\n",
      "\n"
     ]
    },
    {
     "name": "stdout",
     "output_type": "stream",
     "text": [
      "[#########                                         ] 18% 7330/40492 - 8.396s - gaia-005-006.hdf5"
     ]
    },
    {
     "name": "stderr",
     "output_type": "stream",
     "text": [
      "IOPub message rate exceeded.\n",
      "The Jupyter server will temporarily stop sending output\n",
      "to the client in order to avoid crashing it.\n",
      "To change this limit, set the config variable\n",
      "`--ServerApp.iopub_msg_rate_limit`.\n",
      "\n",
      "Current values:\n",
      "ServerApp.iopub_msg_rate_limit=1000.0 (msgs/sec)\n",
      "ServerApp.rate_limit_window=3.0 (secs)\n",
      "\n"
     ]
    },
    {
     "name": "stdout",
     "output_type": "stream",
     "text": [
      "[##############                                    ] 30% 11614/39176 - 12.115s - gaia-008-009.hdf5"
     ]
    },
    {
     "name": "stderr",
     "output_type": "stream",
     "text": [
      "IOPub message rate exceeded.\n",
      "The Jupyter server will temporarily stop sending output\n",
      "to the client in order to avoid crashing it.\n",
      "To change this limit, set the config variable\n",
      "`--ServerApp.iopub_msg_rate_limit`.\n",
      "\n",
      "Current values:\n",
      "ServerApp.iopub_msg_rate_limit=1000.0 (msgs/sec)\n",
      "ServerApp.rate_limit_window=3.0 (secs)\n",
      "\n"
     ]
    },
    {
     "name": "stdout",
     "output_type": "stream",
     "text": [
      "[#######################                           ] 47% 18495/39176 - 19.621s - gaia-008-009.hdf5"
     ]
    },
    {
     "name": "stderr",
     "output_type": "stream",
     "text": [
      "IOPub message rate exceeded.\n",
      "The Jupyter server will temporarily stop sending output\n",
      "to the client in order to avoid crashing it.\n",
      "To change this limit, set the config variable\n",
      "`--ServerApp.iopub_msg_rate_limit`.\n",
      "\n",
      "Current values:\n",
      "ServerApp.iopub_msg_rate_limit=1000.0 (msgs/sec)\n",
      "ServerApp.rate_limit_window=3.0 (secs)\n",
      "\n"
     ]
    },
    {
     "name": "stdout",
     "output_type": "stream",
     "text": [
      "[#########################                         ] 52% 20326/39176 - 21.727s - gaia-008-009.hdf5"
     ]
    },
    {
     "name": "stderr",
     "output_type": "stream",
     "text": [
      "IOPub message rate exceeded.\n",
      "The Jupyter server will temporarily stop sending output\n",
      "to the client in order to avoid crashing it.\n",
      "To change this limit, set the config variable\n",
      "`--ServerApp.iopub_msg_rate_limit`.\n",
      "\n",
      "Current values:\n",
      "ServerApp.iopub_msg_rate_limit=1000.0 (msgs/sec)\n",
      "ServerApp.rate_limit_window=3.0 (secs)\n",
      "\n"
     ]
    },
    {
     "name": "stdout",
     "output_type": "stream",
     "text": [
      "[##################################                ] 70% 27344/39176 - 29.655s - gaia-008-009.hdf5"
     ]
    },
    {
     "name": "stderr",
     "output_type": "stream",
     "text": [
      "IOPub message rate exceeded.\n",
      "The Jupyter server will temporarily stop sending output\n",
      "to the client in order to avoid crashing it.\n",
      "To change this limit, set the config variable\n",
      "`--ServerApp.iopub_msg_rate_limit`.\n",
      "\n",
      "Current values:\n",
      "ServerApp.iopub_msg_rate_limit=1000.0 (msgs/sec)\n",
      "ServerApp.rate_limit_window=3.0 (secs)\n",
      "\n"
     ]
    },
    {
     "name": "stdout",
     "output_type": "stream",
     "text": [
      "[#####################################             ] 74% 29149/39176 - 31.556s - gaia-008-009.hdf5"
     ]
    },
    {
     "name": "stderr",
     "output_type": "stream",
     "text": [
      "IOPub message rate exceeded.\n",
      "The Jupyter server will temporarily stop sending output\n",
      "to the client in order to avoid crashing it.\n",
      "To change this limit, set the config variable\n",
      "`--ServerApp.iopub_msg_rate_limit`.\n",
      "\n",
      "Current values:\n",
      "ServerApp.iopub_msg_rate_limit=1000.0 (msgs/sec)\n",
      "ServerApp.rate_limit_window=3.0 (secs)\n",
      "\n"
     ]
    },
    {
     "name": "stdout",
     "output_type": "stream",
     "text": [
      "[###############################################   ] 94% 36901/39176 - 39.722s - gaia-008-009.hdf5"
     ]
    },
    {
     "name": "stderr",
     "output_type": "stream",
     "text": [
      "IOPub message rate exceeded.\n",
      "The Jupyter server will temporarily stop sending output\n",
      "to the client in order to avoid crashing it.\n",
      "To change this limit, set the config variable\n",
      "`--ServerApp.iopub_msg_rate_limit`.\n",
      "\n",
      "Current values:\n",
      "ServerApp.iopub_msg_rate_limit=1000.0 (msgs/sec)\n",
      "ServerApp.rate_limit_window=3.0 (secs)\n",
      "\n"
     ]
    },
    {
     "name": "stdout",
     "output_type": "stream",
     "text": [
      "[#####                                             ] 10% 4087/39188 - 4.411s - gaia-009-010.hdf5"
     ]
    },
    {
     "name": "stderr",
     "output_type": "stream",
     "text": [
      "IOPub message rate exceeded.\n",
      "The Jupyter server will temporarily stop sending output\n",
      "to the client in order to avoid crashing it.\n",
      "To change this limit, set the config variable\n",
      "`--ServerApp.iopub_msg_rate_limit`.\n",
      "\n",
      "Current values:\n",
      "ServerApp.iopub_msg_rate_limit=1000.0 (msgs/sec)\n",
      "ServerApp.rate_limit_window=3.0 (secs)\n",
      "\n"
     ]
    },
    {
     "name": "stdout",
     "output_type": "stream",
     "text": [
      "[###########                                       ] 23% 8995/39188 - 9.517s - gaia-009-010.hdf5"
     ]
    },
    {
     "name": "stderr",
     "output_type": "stream",
     "text": [
      "IOPub message rate exceeded.\n",
      "The Jupyter server will temporarily stop sending output\n",
      "to the client in order to avoid crashing it.\n",
      "To change this limit, set the config variable\n",
      "`--ServerApp.iopub_msg_rate_limit`.\n",
      "\n",
      "Current values:\n",
      "ServerApp.iopub_msg_rate_limit=1000.0 (msgs/sec)\n",
      "ServerApp.rate_limit_window=3.0 (secs)\n",
      "\n"
     ]
    },
    {
     "name": "stdout",
     "output_type": "stream",
     "text": [
      "[#####################                             ] 43% 16729/39188 - 17.403s - gaia-009-010.hdf5"
     ]
    },
    {
     "name": "stderr",
     "output_type": "stream",
     "text": [
      "IOPub message rate exceeded.\n",
      "The Jupyter server will temporarily stop sending output\n",
      "to the client in order to avoid crashing it.\n",
      "To change this limit, set the config variable\n",
      "`--ServerApp.iopub_msg_rate_limit`.\n",
      "\n",
      "Current values:\n",
      "ServerApp.iopub_msg_rate_limit=1000.0 (msgs/sec)\n",
      "ServerApp.rate_limit_window=3.0 (secs)\n",
      "\n"
     ]
    },
    {
     "name": "stdout",
     "output_type": "stream",
     "text": [
      "[###########################                       ] 55% 21614/39188 - 22.558s - gaia-009-010.hdf5"
     ]
    },
    {
     "name": "stderr",
     "output_type": "stream",
     "text": [
      "IOPub message rate exceeded.\n",
      "The Jupyter server will temporarily stop sending output\n",
      "to the client in order to avoid crashing it.\n",
      "To change this limit, set the config variable\n",
      "`--ServerApp.iopub_msg_rate_limit`.\n",
      "\n",
      "Current values:\n",
      "ServerApp.iopub_msg_rate_limit=1000.0 (msgs/sec)\n",
      "ServerApp.rate_limit_window=3.0 (secs)\n",
      "\n"
     ]
    },
    {
     "name": "stdout",
     "output_type": "stream",
     "text": [
      "[#################################                 ] 68% 26470/39188 - 27.626s - gaia-009-010.hdf5"
     ]
    },
    {
     "name": "stderr",
     "output_type": "stream",
     "text": [
      "IOPub message rate exceeded.\n",
      "The Jupyter server will temporarily stop sending output\n",
      "to the client in order to avoid crashing it.\n",
      "To change this limit, set the config variable\n",
      "`--ServerApp.iopub_msg_rate_limit`.\n",
      "\n",
      "Current values:\n",
      "ServerApp.iopub_msg_rate_limit=1000.0 (msgs/sec)\n",
      "ServerApp.rate_limit_window=3.0 (secs)\n",
      "\n"
     ]
    },
    {
     "name": "stdout",
     "output_type": "stream",
     "text": [
      "[#######################################           ] 80% 31279/39188 - 32.413s - gaia-009-010.hdf5"
     ]
    },
    {
     "name": "stderr",
     "output_type": "stream",
     "text": [
      "IOPub message rate exceeded.\n",
      "The Jupyter server will temporarily stop sending output\n",
      "to the client in order to avoid crashing it.\n",
      "To change this limit, set the config variable\n",
      "`--ServerApp.iopub_msg_rate_limit`.\n",
      "\n",
      "Current values:\n",
      "ServerApp.iopub_msg_rate_limit=1000.0 (msgs/sec)\n",
      "ServerApp.rate_limit_window=3.0 (secs)\n",
      "\n"
     ]
    },
    {
     "name": "stdout",
     "output_type": "stream",
     "text": [
      "[##############################################    ] 92% 36121/39188 - 37.1s - gaia-009-010.hdf5f5"
     ]
    },
    {
     "name": "stderr",
     "output_type": "stream",
     "text": [
      "IOPub message rate exceeded.\n",
      "The Jupyter server will temporarily stop sending output\n",
      "to the client in order to avoid crashing it.\n",
      "To change this limit, set the config variable\n",
      "`--ServerApp.iopub_msg_rate_limit`.\n",
      "\n",
      "Current values:\n",
      "ServerApp.iopub_msg_rate_limit=1000.0 (msgs/sec)\n",
      "ServerApp.rate_limit_window=3.0 (secs)\n",
      "\n"
     ]
    },
    {
     "name": "stdout",
     "output_type": "stream",
     "text": [
      "export(hdf5) [########################################] 100.00% elapsed time  :     0.98s =  0.0m =  0.0h \n",
      " Saving /home2/s20321005/Thesis-Project/Data/Best-Pars/gaia-009-010.hdf5\n",
      "[##                                                ] 4% 1573/38517 - 1.785s - gaia-010-011.hdf5"
     ]
    },
    {
     "name": "stderr",
     "output_type": "stream",
     "text": [
      "IOPub message rate exceeded.\n",
      "The Jupyter server will temporarily stop sending output\n",
      "to the client in order to avoid crashing it.\n",
      "To change this limit, set the config variable\n",
      "`--ServerApp.iopub_msg_rate_limit`.\n",
      "\n",
      "Current values:\n",
      "ServerApp.iopub_msg_rate_limit=1000.0 (msgs/sec)\n",
      "ServerApp.rate_limit_window=3.0 (secs)\n",
      "\n"
     ]
    },
    {
     "name": "stdout",
     "output_type": "stream",
     "text": [
      "[##############                                    ] 28% 10872/38757 - 11.671s - gaia-011-012.hdf5"
     ]
    },
    {
     "name": "stderr",
     "output_type": "stream",
     "text": [
      "IOPub message rate exceeded.\n",
      "The Jupyter server will temporarily stop sending output\n",
      "to the client in order to avoid crashing it.\n",
      "To change this limit, set the config variable\n",
      "`--ServerApp.iopub_msg_rate_limit`.\n",
      "\n",
      "Current values:\n",
      "ServerApp.iopub_msg_rate_limit=1000.0 (msgs/sec)\n",
      "ServerApp.rate_limit_window=3.0 (secs)\n",
      "\n"
     ]
    },
    {
     "name": "stdout",
     "output_type": "stream",
     "text": [
      "[#########################                         ] 50% 19564/38757 - 19.779s - gaia-011-012.hdf5"
     ]
    },
    {
     "name": "stderr",
     "output_type": "stream",
     "text": [
      "IOPub message rate exceeded.\n",
      "The Jupyter server will temporarily stop sending output\n",
      "to the client in order to avoid crashing it.\n",
      "To change this limit, set the config variable\n",
      "`--ServerApp.iopub_msg_rate_limit`.\n",
      "\n",
      "Current values:\n",
      "ServerApp.iopub_msg_rate_limit=1000.0 (msgs/sec)\n",
      "ServerApp.rate_limit_window=3.0 (secs)\n",
      "\n"
     ]
    },
    {
     "name": "stdout",
     "output_type": "stream",
     "text": [
      "[########                                          ] 16% 6311/39038 - 6.325s - gaia-013-014.hdf5"
     ]
    },
    {
     "name": "stderr",
     "output_type": "stream",
     "text": [
      "IOPub message rate exceeded.\n",
      "The Jupyter server will temporarily stop sending output\n",
      "to the client in order to avoid crashing it.\n",
      "To change this limit, set the config variable\n",
      "`--ServerApp.iopub_msg_rate_limit`.\n",
      "\n",
      "Current values:\n",
      "ServerApp.iopub_msg_rate_limit=1000.0 (msgs/sec)\n",
      "ServerApp.rate_limit_window=3.0 (secs)\n",
      "\n"
     ]
    },
    {
     "name": "stdout",
     "output_type": "stream",
     "text": [
      "[###################                               ] 38% 14906/39038 - 15.599s - gaia-013-014.hdf5"
     ]
    },
    {
     "name": "stderr",
     "output_type": "stream",
     "text": [
      "IOPub message rate exceeded.\n",
      "The Jupyter server will temporarily stop sending output\n",
      "to the client in order to avoid crashing it.\n",
      "To change this limit, set the config variable\n",
      "`--ServerApp.iopub_msg_rate_limit`.\n",
      "\n",
      "Current values:\n",
      "ServerApp.iopub_msg_rate_limit=1000.0 (msgs/sec)\n",
      "ServerApp.rate_limit_window=3.0 (secs)\n",
      "\n"
     ]
    },
    {
     "name": "stdout",
     "output_type": "stream",
     "text": [
      "[#############################                     ] 59% 23127/39038 - 24.103s - gaia-013-014.hdf5"
     ]
    },
    {
     "name": "stderr",
     "output_type": "stream",
     "text": [
      "IOPub message rate exceeded.\n",
      "The Jupyter server will temporarily stop sending output\n",
      "to the client in order to avoid crashing it.\n",
      "To change this limit, set the config variable\n",
      "`--ServerApp.iopub_msg_rate_limit`.\n",
      "\n",
      "Current values:\n",
      "ServerApp.iopub_msg_rate_limit=1000.0 (msgs/sec)\n",
      "ServerApp.rate_limit_window=3.0 (secs)\n",
      "\n"
     ]
    },
    {
     "name": "stdout",
     "output_type": "stream",
     "text": [
      "[########################################          ] 82% 31904/39038 - 32.333s - gaia-013-014.hdf5"
     ]
    },
    {
     "name": "stderr",
     "output_type": "stream",
     "text": [
      "IOPub message rate exceeded.\n",
      "The Jupyter server will temporarily stop sending output\n",
      "to the client in order to avoid crashing it.\n",
      "To change this limit, set the config variable\n",
      "`--ServerApp.iopub_msg_rate_limit`.\n",
      "\n",
      "Current values:\n",
      "ServerApp.iopub_msg_rate_limit=1000.0 (msgs/sec)\n",
      "ServerApp.rate_limit_window=3.0 (secs)\n",
      "\n"
     ]
    },
    {
     "name": "stdout",
     "output_type": "stream",
     "text": [
      "export(hdf5) [########################################] 100.00% elapsed time  :     1.06s =  0.0m =  0.0h  \n",
      " Saving /home2/s20321005/Thesis-Project/Data/Best-Pars/gaia-013-014.hdf5\n",
      "[#                                                 ] 4% 1528/38309 - 1.767s - gaia-014-015.hdf5"
     ]
    },
    {
     "name": "stderr",
     "output_type": "stream",
     "text": [
      "IOPub message rate exceeded.\n",
      "The Jupyter server will temporarily stop sending output\n",
      "to the client in order to avoid crashing it.\n",
      "To change this limit, set the config variable\n",
      "`--ServerApp.iopub_msg_rate_limit`.\n",
      "\n",
      "Current values:\n",
      "ServerApp.iopub_msg_rate_limit=1000.0 (msgs/sec)\n",
      "ServerApp.rate_limit_window=3.0 (secs)\n",
      "\n"
     ]
    },
    {
     "name": "stdout",
     "output_type": "stream",
     "text": [
      "[#############                                     ] 27% 10439/38309 - 11.61s - gaia-014-015.hdf55"
     ]
    },
    {
     "name": "stderr",
     "output_type": "stream",
     "text": [
      "IOPub message rate exceeded.\n",
      "The Jupyter server will temporarily stop sending output\n",
      "to the client in order to avoid crashing it.\n",
      "To change this limit, set the config variable\n",
      "`--ServerApp.iopub_msg_rate_limit`.\n",
      "\n",
      "Current values:\n",
      "ServerApp.iopub_msg_rate_limit=1000.0 (msgs/sec)\n",
      "ServerApp.rate_limit_window=3.0 (secs)\n",
      "\n"
     ]
    },
    {
     "name": "stdout",
     "output_type": "stream",
     "text": [
      "[########################                          ] 48% 18553/38309 - 20.958s - gaia-014-015.hdf5"
     ]
    },
    {
     "name": "stderr",
     "output_type": "stream",
     "text": [
      "IOPub message rate exceeded.\n",
      "The Jupyter server will temporarily stop sending output\n",
      "to the client in order to avoid crashing it.\n",
      "To change this limit, set the config variable\n",
      "`--ServerApp.iopub_msg_rate_limit`.\n",
      "\n",
      "Current values:\n",
      "ServerApp.iopub_msg_rate_limit=1000.0 (msgs/sec)\n",
      "ServerApp.rate_limit_window=3.0 (secs)\n",
      "\n"
     ]
    },
    {
     "name": "stdout",
     "output_type": "stream",
     "text": [
      "[###################################               ] 71% 27298/38309 - 30.182s - gaia-014-015.hdf5"
     ]
    },
    {
     "name": "stderr",
     "output_type": "stream",
     "text": [
      "IOPub message rate exceeded.\n",
      "The Jupyter server will temporarily stop sending output\n",
      "to the client in order to avoid crashing it.\n",
      "To change this limit, set the config variable\n",
      "`--ServerApp.iopub_msg_rate_limit`.\n",
      "\n",
      "Current values:\n",
      "ServerApp.iopub_msg_rate_limit=1000.0 (msgs/sec)\n",
      "ServerApp.rate_limit_window=3.0 (secs)\n",
      "\n"
     ]
    },
    {
     "name": "stdout",
     "output_type": "stream",
     "text": [
      "[##############################################    ] 93% 35749/38309 - 38.538s - gaia-014-015.hdf5"
     ]
    },
    {
     "name": "stderr",
     "output_type": "stream",
     "text": [
      "IOPub message rate exceeded.\n",
      "The Jupyter server will temporarily stop sending output\n",
      "to the client in order to avoid crashing it.\n",
      "To change this limit, set the config variable\n",
      "`--ServerApp.iopub_msg_rate_limit`.\n",
      "\n",
      "Current values:\n",
      "ServerApp.iopub_msg_rate_limit=1000.0 (msgs/sec)\n",
      "ServerApp.rate_limit_window=3.0 (secs)\n",
      "\n"
     ]
    },
    {
     "name": "stdout",
     "output_type": "stream",
     "text": [
      "[#######                                           ] 15% 5919/38404 - 5.912s - gaia-015-016.hdf5"
     ]
    },
    {
     "name": "stderr",
     "output_type": "stream",
     "text": [
      "IOPub message rate exceeded.\n",
      "The Jupyter server will temporarily stop sending output\n",
      "to the client in order to avoid crashing it.\n",
      "To change this limit, set the config variable\n",
      "`--ServerApp.iopub_msg_rate_limit`.\n",
      "\n",
      "Current values:\n",
      "ServerApp.iopub_msg_rate_limit=1000.0 (msgs/sec)\n",
      "ServerApp.rate_limit_window=3.0 (secs)\n",
      "\n"
     ]
    },
    {
     "name": "stdout",
     "output_type": "stream",
     "text": [
      "[###################                               ] 38% 14722/38404 - 15.32s - gaia-015-016.hdf55"
     ]
    },
    {
     "name": "stderr",
     "output_type": "stream",
     "text": [
      "IOPub message rate exceeded.\n",
      "The Jupyter server will temporarily stop sending output\n",
      "to the client in order to avoid crashing it.\n",
      "To change this limit, set the config variable\n",
      "`--ServerApp.iopub_msg_rate_limit`.\n",
      "\n",
      "Current values:\n",
      "ServerApp.iopub_msg_rate_limit=1000.0 (msgs/sec)\n",
      "ServerApp.rate_limit_window=3.0 (secs)\n",
      "\n"
     ]
    },
    {
     "name": "stdout",
     "output_type": "stream",
     "text": [
      "[#############################                     ] 59% 22769/38404 - 24.233s - gaia-015-016.hdf5"
     ]
    },
    {
     "name": "stderr",
     "output_type": "stream",
     "text": [
      "IOPub message rate exceeded.\n",
      "The Jupyter server will temporarily stop sending output\n",
      "to the client in order to avoid crashing it.\n",
      "To change this limit, set the config variable\n",
      "`--ServerApp.iopub_msg_rate_limit`.\n",
      "\n",
      "Current values:\n",
      "ServerApp.iopub_msg_rate_limit=1000.0 (msgs/sec)\n",
      "ServerApp.rate_limit_window=3.0 (secs)\n",
      "\n"
     ]
    },
    {
     "name": "stdout",
     "output_type": "stream",
     "text": [
      "[#########################################         ] 82% 31538/38404 - 33.258s - gaia-015-016.hdf5"
     ]
    },
    {
     "name": "stderr",
     "output_type": "stream",
     "text": [
      "IOPub message rate exceeded.\n",
      "The Jupyter server will temporarily stop sending output\n",
      "to the client in order to avoid crashing it.\n",
      "To change this limit, set the config variable\n",
      "`--ServerApp.iopub_msg_rate_limit`.\n",
      "\n",
      "Current values:\n",
      "ServerApp.iopub_msg_rate_limit=1000.0 (msgs/sec)\n",
      "ServerApp.rate_limit_window=3.0 (secs)\n",
      "\n"
     ]
    },
    {
     "name": "stdout",
     "output_type": "stream",
     "text": [
      "export(hdf5) [########################################] 100.00% elapsed time  :     0.90s =  0.0m =  0.0h \n",
      " Saving /home2/s20321005/Thesis-Project/Data/Best-Pars/gaia-015-016.hdf5\n",
      "[###############################################   ] 96% 36668/38226 - 36.966s - gaia-019-020.hdf5"
     ]
    },
    {
     "name": "stderr",
     "output_type": "stream",
     "text": [
      "IOPub message rate exceeded.\n",
      "The Jupyter server will temporarily stop sending output\n",
      "to the client in order to avoid crashing it.\n",
      "To change this limit, set the config variable\n",
      "`--ServerApp.iopub_msg_rate_limit`.\n",
      "\n",
      "Current values:\n",
      "ServerApp.iopub_msg_rate_limit=1000.0 (msgs/sec)\n",
      "ServerApp.rate_limit_window=3.0 (secs)\n",
      "\n"
     ]
    },
    {
     "name": "stdout",
     "output_type": "stream",
     "text": [
      "[########                                          ] 18% 6780/37837 - 6.983s - gaia-020-021.hdf5"
     ]
    },
    {
     "name": "stderr",
     "output_type": "stream",
     "text": [
      "IOPub message rate exceeded.\n",
      "The Jupyter server will temporarily stop sending output\n",
      "to the client in order to avoid crashing it.\n",
      "To change this limit, set the config variable\n",
      "`--ServerApp.iopub_msg_rate_limit`.\n",
      "\n",
      "Current values:\n",
      "ServerApp.iopub_msg_rate_limit=1000.0 (msgs/sec)\n",
      "ServerApp.rate_limit_window=3.0 (secs)\n",
      "\n"
     ]
    },
    {
     "name": "stdout",
     "output_type": "stream",
     "text": [
      "[##############################                    ] 62% 23265/37758 - 24.157s - gaia-021-022.hdf5"
     ]
    },
    {
     "name": "stderr",
     "output_type": "stream",
     "text": [
      "IOPub message rate exceeded.\n",
      "The Jupyter server will temporarily stop sending output\n",
      "to the client in order to avoid crashing it.\n",
      "To change this limit, set the config variable\n",
      "`--ServerApp.iopub_msg_rate_limit`.\n",
      "\n",
      "Current values:\n",
      "ServerApp.iopub_msg_rate_limit=1000.0 (msgs/sec)\n",
      "ServerApp.rate_limit_window=3.0 (secs)\n",
      "\n"
     ]
    },
    {
     "name": "stdout",
     "output_type": "stream",
     "text": [
      "[##########################################        ] 84% 31852/37758 - 32.68s - gaia-021-022.hdf55"
     ]
    },
    {
     "name": "stderr",
     "output_type": "stream",
     "text": [
      "IOPub message rate exceeded.\n",
      "The Jupyter server will temporarily stop sending output\n",
      "to the client in order to avoid crashing it.\n",
      "To change this limit, set the config variable\n",
      "`--ServerApp.iopub_msg_rate_limit`.\n",
      "\n",
      "Current values:\n",
      "ServerApp.iopub_msg_rate_limit=1000.0 (msgs/sec)\n",
      "ServerApp.rate_limit_window=3.0 (secs)\n",
      "\n"
     ]
    },
    {
     "name": "stdout",
     "output_type": "stream",
     "text": [
      "export(hdf5) [########################################] 100.00% elapsed time  :     0.89s =  0.0m =  0.0h\n",
      " Saving /home2/s20321005/Thesis-Project/Data/Best-Pars/gaia-021-022.hdf5\n",
      "[###                                               ] 7% 2713/38352 - 3.011s - gaia-022-023.hdf5"
     ]
    },
    {
     "name": "stderr",
     "output_type": "stream",
     "text": [
      "IOPub message rate exceeded.\n",
      "The Jupyter server will temporarily stop sending output\n",
      "to the client in order to avoid crashing it.\n",
      "To change this limit, set the config variable\n",
      "`--ServerApp.iopub_msg_rate_limit`.\n",
      "\n",
      "Current values:\n",
      "ServerApp.iopub_msg_rate_limit=1000.0 (msgs/sec)\n",
      "ServerApp.rate_limit_window=3.0 (secs)\n",
      "\n"
     ]
    },
    {
     "name": "stdout",
     "output_type": "stream",
     "text": [
      "[###############                                   ] 30% 11512/38352 - 12.884s - gaia-022-023.hdf5"
     ]
    },
    {
     "name": "stderr",
     "output_type": "stream",
     "text": [
      "IOPub message rate exceeded.\n",
      "The Jupyter server will temporarily stop sending output\n",
      "to the client in order to avoid crashing it.\n",
      "To change this limit, set the config variable\n",
      "`--ServerApp.iopub_msg_rate_limit`.\n",
      "\n",
      "Current values:\n",
      "ServerApp.iopub_msg_rate_limit=1000.0 (msgs/sec)\n",
      "ServerApp.rate_limit_window=3.0 (secs)\n",
      "\n"
     ]
    },
    {
     "name": "stdout",
     "output_type": "stream",
     "text": [
      "[##########################                        ] 53% 20183/38352 - 22.895s - gaia-022-023.hdf5"
     ]
    },
    {
     "name": "stderr",
     "output_type": "stream",
     "text": [
      "IOPub message rate exceeded.\n",
      "The Jupyter server will temporarily stop sending output\n",
      "to the client in order to avoid crashing it.\n",
      "To change this limit, set the config variable\n",
      "`--ServerApp.iopub_msg_rate_limit`.\n",
      "\n",
      "Current values:\n",
      "ServerApp.iopub_msg_rate_limit=1000.0 (msgs/sec)\n",
      "ServerApp.rate_limit_window=3.0 (secs)\n",
      "\n"
     ]
    },
    {
     "name": "stdout",
     "output_type": "stream",
     "text": [
      "[#####################################             ] 75% 28572/38352 - 31.595s - gaia-022-023.hdf5"
     ]
    },
    {
     "name": "stderr",
     "output_type": "stream",
     "text": [
      "IOPub message rate exceeded.\n",
      "The Jupyter server will temporarily stop sending output\n",
      "to the client in order to avoid crashing it.\n",
      "To change this limit, set the config variable\n",
      "`--ServerApp.iopub_msg_rate_limit`.\n",
      "\n",
      "Current values:\n",
      "ServerApp.iopub_msg_rate_limit=1000.0 (msgs/sec)\n",
      "ServerApp.rate_limit_window=3.0 (secs)\n",
      "\n"
     ]
    },
    {
     "name": "stdout",
     "output_type": "stream",
     "text": [
      "[################################################  ] 98% 37404/38352 - 40.409s - gaia-022-023.hdf5"
     ]
    },
    {
     "name": "stderr",
     "output_type": "stream",
     "text": [
      "IOPub message rate exceeded.\n",
      "The Jupyter server will temporarily stop sending output\n",
      "to the client in order to avoid crashing it.\n",
      "To change this limit, set the config variable\n",
      "`--ServerApp.iopub_msg_rate_limit`.\n",
      "\n",
      "Current values:\n",
      "ServerApp.iopub_msg_rate_limit=1000.0 (msgs/sec)\n",
      "ServerApp.rate_limit_window=3.0 (secs)\n",
      "\n"
     ]
    },
    {
     "name": "stdout",
     "output_type": "stream",
     "text": [
      "[#########                                         ] 20% 7588/38362 - 7.963s - gaia-023-024.hdf5"
     ]
    },
    {
     "name": "stderr",
     "output_type": "stream",
     "text": [
      "IOPub message rate exceeded.\n",
      "The Jupyter server will temporarily stop sending output\n",
      "to the client in order to avoid crashing it.\n",
      "To change this limit, set the config variable\n",
      "`--ServerApp.iopub_msg_rate_limit`.\n",
      "\n",
      "Current values:\n",
      "ServerApp.iopub_msg_rate_limit=1000.0 (msgs/sec)\n",
      "ServerApp.rate_limit_window=3.0 (secs)\n",
      "\n"
     ]
    },
    {
     "name": "stdout",
     "output_type": "stream",
     "text": [
      "[#####################                             ] 42% 16141/38362 - 17.673s - gaia-023-024.hdf5"
     ]
    },
    {
     "name": "stderr",
     "output_type": "stream",
     "text": [
      "IOPub message rate exceeded.\n",
      "The Jupyter server will temporarily stop sending output\n",
      "to the client in order to avoid crashing it.\n",
      "To change this limit, set the config variable\n",
      "`--ServerApp.iopub_msg_rate_limit`.\n",
      "\n",
      "Current values:\n",
      "ServerApp.iopub_msg_rate_limit=1000.0 (msgs/sec)\n",
      "ServerApp.rate_limit_window=3.0 (secs)\n",
      "\n"
     ]
    },
    {
     "name": "stdout",
     "output_type": "stream",
     "text": [
      "[################################                  ] 64% 24632/38362 - 27.054s - gaia-023-024.hdf5"
     ]
    },
    {
     "name": "stderr",
     "output_type": "stream",
     "text": [
      "IOPub message rate exceeded.\n",
      "The Jupyter server will temporarily stop sending output\n",
      "to the client in order to avoid crashing it.\n",
      "To change this limit, set the config variable\n",
      "`--ServerApp.iopub_msg_rate_limit`.\n",
      "\n",
      "Current values:\n",
      "ServerApp.iopub_msg_rate_limit=1000.0 (msgs/sec)\n",
      "ServerApp.rate_limit_window=3.0 (secs)\n",
      "\n"
     ]
    },
    {
     "name": "stdout",
     "output_type": "stream",
     "text": [
      "[###########################################       ] 87% 33407/38362 - 36.165s - gaia-023-024.hdf5"
     ]
    },
    {
     "name": "stderr",
     "output_type": "stream",
     "text": [
      "IOPub message rate exceeded.\n",
      "The Jupyter server will temporarily stop sending output\n",
      "to the client in order to avoid crashing it.\n",
      "To change this limit, set the config variable\n",
      "`--ServerApp.iopub_msg_rate_limit`.\n",
      "\n",
      "Current values:\n",
      "ServerApp.iopub_msg_rate_limit=1000.0 (msgs/sec)\n",
      "ServerApp.rate_limit_window=3.0 (secs)\n",
      "\n"
     ]
    },
    {
     "name": "stdout",
     "output_type": "stream",
     "text": [
      "export(hdf5) [########################################] 100.00% elapsed time  :     1.02s =  0.0m =  0.0h\n",
      " Saving /home2/s20321005/Thesis-Project/Data/Best-Pars/gaia-023-024.hdf5\n",
      "[#############                                     ] 28% 10851/39291 - 10.977s - gaia-031-032.hdf5"
     ]
    },
    {
     "name": "stderr",
     "output_type": "stream",
     "text": [
      "IOPub message rate exceeded.\n",
      "The Jupyter server will temporarily stop sending output\n",
      "to the client in order to avoid crashing it.\n",
      "To change this limit, set the config variable\n",
      "`--ServerApp.iopub_msg_rate_limit`.\n",
      "\n",
      "Current values:\n",
      "ServerApp.iopub_msg_rate_limit=1000.0 (msgs/sec)\n",
      "ServerApp.rate_limit_window=3.0 (secs)\n",
      "\n"
     ]
    },
    {
     "name": "stdout",
     "output_type": "stream",
     "text": [
      "[########################                          ] 49% 19155/39291 - 20.353s - gaia-031-032.hdf5"
     ]
    },
    {
     "name": "stderr",
     "output_type": "stream",
     "text": [
      "IOPub message rate exceeded.\n",
      "The Jupyter server will temporarily stop sending output\n",
      "to the client in order to avoid crashing it.\n",
      "To change this limit, set the config variable\n",
      "`--ServerApp.iopub_msg_rate_limit`.\n",
      "\n",
      "Current values:\n",
      "ServerApp.iopub_msg_rate_limit=1000.0 (msgs/sec)\n",
      "ServerApp.rate_limit_window=3.0 (secs)\n",
      "\n"
     ]
    },
    {
     "name": "stdout",
     "output_type": "stream",
     "text": [
      "[####################                              ] 42% 16751/39921 - 17.987s - gaia-035-036.hdf5"
     ]
    },
    {
     "name": "stderr",
     "output_type": "stream",
     "text": [
      "IOPub message rate exceeded.\n",
      "The Jupyter server will temporarily stop sending output\n",
      "to the client in order to avoid crashing it.\n",
      "To change this limit, set the config variable\n",
      "`--ServerApp.iopub_msg_rate_limit`.\n",
      "\n",
      "Current values:\n",
      "ServerApp.iopub_msg_rate_limit=1000.0 (msgs/sec)\n",
      "ServerApp.rate_limit_window=3.0 (secs)\n",
      "\n"
     ]
    },
    {
     "name": "stdout",
     "output_type": "stream",
     "text": [
      "[###############################                   ] 63% 25256/39921 - 27.036s - gaia-035-036.hdf5"
     ]
    },
    {
     "name": "stderr",
     "output_type": "stream",
     "text": [
      "IOPub message rate exceeded.\n",
      "The Jupyter server will temporarily stop sending output\n",
      "to the client in order to avoid crashing it.\n",
      "To change this limit, set the config variable\n",
      "`--ServerApp.iopub_msg_rate_limit`.\n",
      "\n",
      "Current values:\n",
      "ServerApp.iopub_msg_rate_limit=1000.0 (msgs/sec)\n",
      "ServerApp.rate_limit_window=3.0 (secs)\n",
      "\n"
     ]
    },
    {
     "name": "stdout",
     "output_type": "stream",
     "text": [
      "[#########################################         ] 83% 33264/39921 - 34.831s - gaia-035-036.hdf5"
     ]
    },
    {
     "name": "stderr",
     "output_type": "stream",
     "text": [
      "IOPub message rate exceeded.\n",
      "The Jupyter server will temporarily stop sending output\n",
      "to the client in order to avoid crashing it.\n",
      "To change this limit, set the config variable\n",
      "`--ServerApp.iopub_msg_rate_limit`.\n",
      "\n",
      "Current values:\n",
      "ServerApp.iopub_msg_rate_limit=1000.0 (msgs/sec)\n",
      "ServerApp.rate_limit_window=3.0 (secs)\n",
      "\n"
     ]
    },
    {
     "name": "stdout",
     "output_type": "stream",
     "text": [
      "export(hdf5) [########################################] 100.00% elapsed time  :     0.94s =  0.0m =  0.0h \n",
      " Saving /home2/s20321005/Thesis-Project/Data/Best-Pars/gaia-035-036.hdf5\n",
      "[##                                                ] 5% 2006/39207 - 2.271s - gaia-036-037.hdf5"
     ]
    },
    {
     "name": "stderr",
     "output_type": "stream",
     "text": [
      "IOPub message rate exceeded.\n",
      "The Jupyter server will temporarily stop sending output\n",
      "to the client in order to avoid crashing it.\n",
      "To change this limit, set the config variable\n",
      "`--ServerApp.iopub_msg_rate_limit`.\n",
      "\n",
      "Current values:\n",
      "ServerApp.iopub_msg_rate_limit=1000.0 (msgs/sec)\n",
      "ServerApp.rate_limit_window=3.0 (secs)\n",
      "\n"
     ]
    },
    {
     "name": "stdout",
     "output_type": "stream",
     "text": [
      "[##############                                    ] 28% 10988/39207 - 11.647s - gaia-036-037.hdf5"
     ]
    },
    {
     "name": "stderr",
     "output_type": "stream",
     "text": [
      "IOPub message rate exceeded.\n",
      "The Jupyter server will temporarily stop sending output\n",
      "to the client in order to avoid crashing it.\n",
      "To change this limit, set the config variable\n",
      "`--ServerApp.iopub_msg_rate_limit`.\n",
      "\n",
      "Current values:\n",
      "ServerApp.iopub_msg_rate_limit=1000.0 (msgs/sec)\n",
      "ServerApp.rate_limit_window=3.0 (secs)\n",
      "\n"
     ]
    },
    {
     "name": "stdout",
     "output_type": "stream",
     "text": [
      "[#########################                         ] 51% 19859/39207 - 20.48s - gaia-036-037.hdf55"
     ]
    },
    {
     "name": "stderr",
     "output_type": "stream",
     "text": [
      "IOPub message rate exceeded.\n",
      "The Jupyter server will temporarily stop sending output\n",
      "to the client in order to avoid crashing it.\n",
      "To change this limit, set the config variable\n",
      "`--ServerApp.iopub_msg_rate_limit`.\n",
      "\n",
      "Current values:\n",
      "ServerApp.iopub_msg_rate_limit=1000.0 (msgs/sec)\n",
      "ServerApp.rate_limit_window=3.0 (secs)\n",
      "\n"
     ]
    },
    {
     "name": "stdout",
     "output_type": "stream",
     "text": [
      "[####################################              ] 73% 28546/39207 - 29.216s - gaia-036-037.hdf5"
     ]
    },
    {
     "name": "stderr",
     "output_type": "stream",
     "text": [
      "IOPub message rate exceeded.\n",
      "The Jupyter server will temporarily stop sending output\n",
      "to the client in order to avoid crashing it.\n",
      "To change this limit, set the config variable\n",
      "`--ServerApp.iopub_msg_rate_limit`.\n",
      "\n",
      "Current values:\n",
      "ServerApp.iopub_msg_rate_limit=1000.0 (msgs/sec)\n",
      "ServerApp.rate_limit_window=3.0 (secs)\n",
      "\n"
     ]
    },
    {
     "name": "stdout",
     "output_type": "stream",
     "text": [
      "[##############################################    ] 94% 36738/39207 - 37.434s - gaia-036-037.hdf5"
     ]
    },
    {
     "name": "stderr",
     "output_type": "stream",
     "text": [
      "IOPub message rate exceeded.\n",
      "The Jupyter server will temporarily stop sending output\n",
      "to the client in order to avoid crashing it.\n",
      "To change this limit, set the config variable\n",
      "`--ServerApp.iopub_msg_rate_limit`.\n",
      "\n",
      "Current values:\n",
      "ServerApp.iopub_msg_rate_limit=1000.0 (msgs/sec)\n",
      "ServerApp.rate_limit_window=3.0 (secs)\n",
      "\n"
     ]
    },
    {
     "name": "stdout",
     "output_type": "stream",
     "text": [
      "[#######                                           ] 16% 6130/39479 - 6.553s - gaia-037-038.hdf5"
     ]
    },
    {
     "name": "stderr",
     "output_type": "stream",
     "text": [
      "IOPub message rate exceeded.\n",
      "The Jupyter server will temporarily stop sending output\n",
      "to the client in order to avoid crashing it.\n",
      "To change this limit, set the config variable\n",
      "`--ServerApp.iopub_msg_rate_limit`.\n",
      "\n",
      "Current values:\n",
      "ServerApp.iopub_msg_rate_limit=1000.0 (msgs/sec)\n",
      "ServerApp.rate_limit_window=3.0 (secs)\n",
      "\n"
     ]
    },
    {
     "name": "stdout",
     "output_type": "stream",
     "text": [
      "[##################                                ] 37% 14801/39479 - 15.676s - gaia-037-038.hdf5"
     ]
    },
    {
     "name": "stderr",
     "output_type": "stream",
     "text": [
      "IOPub message rate exceeded.\n",
      "The Jupyter server will temporarily stop sending output\n",
      "to the client in order to avoid crashing it.\n",
      "To change this limit, set the config variable\n",
      "`--ServerApp.iopub_msg_rate_limit`.\n",
      "\n",
      "Current values:\n",
      "ServerApp.iopub_msg_rate_limit=1000.0 (msgs/sec)\n",
      "ServerApp.rate_limit_window=3.0 (secs)\n",
      "\n"
     ]
    },
    {
     "name": "stdout",
     "output_type": "stream",
     "text": [
      "[#############################                     ] 60% 23582/39479 - 25.633s - gaia-037-038.hdf5"
     ]
    },
    {
     "name": "stderr",
     "output_type": "stream",
     "text": [
      "IOPub message rate exceeded.\n",
      "The Jupyter server will temporarily stop sending output\n",
      "to the client in order to avoid crashing it.\n",
      "To change this limit, set the config variable\n",
      "`--ServerApp.iopub_msg_rate_limit`.\n",
      "\n",
      "Current values:\n",
      "ServerApp.iopub_msg_rate_limit=1000.0 (msgs/sec)\n",
      "ServerApp.rate_limit_window=3.0 (secs)\n",
      "\n"
     ]
    },
    {
     "name": "stdout",
     "output_type": "stream",
     "text": [
      "[################################################# ] 99% 39625/40065 - 41.259s - gaia-043-044.hdf5"
     ]
    },
    {
     "name": "stderr",
     "output_type": "stream",
     "text": [
      "IOPub message rate exceeded.\n",
      "The Jupyter server will temporarily stop sending output\n",
      "to the client in order to avoid crashing it.\n",
      "To change this limit, set the config variable\n",
      "`--ServerApp.iopub_msg_rate_limit`.\n",
      "\n",
      "Current values:\n",
      "ServerApp.iopub_msg_rate_limit=1000.0 (msgs/sec)\n",
      "ServerApp.rate_limit_window=3.0 (secs)\n",
      "\n"
     ]
    },
    {
     "name": "stdout",
     "output_type": "stream",
     "text": [
      "[##########                                        ] 20% 8169/40039 - 8.703s - gaia-044-045.hdf5"
     ]
    },
    {
     "name": "stderr",
     "output_type": "stream",
     "text": [
      "IOPub message rate exceeded.\n",
      "The Jupyter server will temporarily stop sending output\n",
      "to the client in order to avoid crashing it.\n",
      "To change this limit, set the config variable\n",
      "`--ServerApp.iopub_msg_rate_limit`.\n",
      "\n",
      "Current values:\n",
      "ServerApp.iopub_msg_rate_limit=1000.0 (msgs/sec)\n",
      "ServerApp.rate_limit_window=3.0 (secs)\n",
      "\n"
     ]
    },
    {
     "name": "stdout",
     "output_type": "stream",
     "text": [
      "[################                                  ] 34% 13425/40014 - 14.342s - gaia-047-048.hdf5"
     ]
    },
    {
     "name": "stderr",
     "output_type": "stream",
     "text": [
      "IOPub message rate exceeded.\n",
      "The Jupyter server will temporarily stop sending output\n",
      "to the client in order to avoid crashing it.\n",
      "To change this limit, set the config variable\n",
      "`--ServerApp.iopub_msg_rate_limit`.\n",
      "\n",
      "Current values:\n",
      "ServerApp.iopub_msg_rate_limit=1000.0 (msgs/sec)\n",
      "ServerApp.rate_limit_window=3.0 (secs)\n",
      "\n"
     ]
    },
    {
     "name": "stdout",
     "output_type": "stream",
     "text": [
      "[##########################                        ] 54% 21496/40014 - 23.147s - gaia-047-048.hdf5"
     ]
    },
    {
     "name": "stderr",
     "output_type": "stream",
     "text": [
      "IOPub message rate exceeded.\n",
      "The Jupyter server will temporarily stop sending output\n",
      "to the client in order to avoid crashing it.\n",
      "To change this limit, set the config variable\n",
      "`--ServerApp.iopub_msg_rate_limit`.\n",
      "\n",
      "Current values:\n",
      "ServerApp.iopub_msg_rate_limit=1000.0 (msgs/sec)\n",
      "ServerApp.rate_limit_window=3.0 (secs)\n",
      "\n"
     ]
    },
    {
     "name": "stdout",
     "output_type": "stream",
     "text": [
      "[#####################################             ] 75% 30162/40014 - 32.61s - gaia-047-048.hdf55"
     ]
    },
    {
     "name": "stderr",
     "output_type": "stream",
     "text": [
      "IOPub message rate exceeded.\n",
      "The Jupyter server will temporarily stop sending output\n",
      "to the client in order to avoid crashing it.\n",
      "To change this limit, set the config variable\n",
      "`--ServerApp.iopub_msg_rate_limit`.\n",
      "\n",
      "Current values:\n",
      "ServerApp.iopub_msg_rate_limit=1000.0 (msgs/sec)\n",
      "ServerApp.rate_limit_window=3.0 (secs)\n",
      "\n"
     ]
    },
    {
     "name": "stdout",
     "output_type": "stream",
     "text": [
      "[################################################  ] 98% 39121/40014 - 41.8s - gaia-047-048.hdf5f5"
     ]
    },
    {
     "name": "stderr",
     "output_type": "stream",
     "text": [
      "IOPub message rate exceeded.\n",
      "The Jupyter server will temporarily stop sending output\n",
      "to the client in order to avoid crashing it.\n",
      "To change this limit, set the config variable\n",
      "`--ServerApp.iopub_msg_rate_limit`.\n",
      "\n",
      "Current values:\n",
      "ServerApp.iopub_msg_rate_limit=1000.0 (msgs/sec)\n",
      "ServerApp.rate_limit_window=3.0 (secs)\n",
      "\n"
     ]
    },
    {
     "name": "stdout",
     "output_type": "stream",
     "text": [
      "[#########                                         ] 20% 8022/40746 - 8.907s - gaia-048-049.hdf5"
     ]
    },
    {
     "name": "stderr",
     "output_type": "stream",
     "text": [
      "IOPub message rate exceeded.\n",
      "The Jupyter server will temporarily stop sending output\n",
      "to the client in order to avoid crashing it.\n",
      "To change this limit, set the config variable\n",
      "`--ServerApp.iopub_msg_rate_limit`.\n",
      "\n",
      "Current values:\n",
      "ServerApp.iopub_msg_rate_limit=1000.0 (msgs/sec)\n",
      "ServerApp.rate_limit_window=3.0 (secs)\n",
      "\n"
     ]
    },
    {
     "name": "stdout",
     "output_type": "stream",
     "text": [
      "[####################                              ] 41% 16843/40746 - 18.812s - gaia-048-049.hdf5"
     ]
    },
    {
     "name": "stderr",
     "output_type": "stream",
     "text": [
      "IOPub message rate exceeded.\n",
      "The Jupyter server will temporarily stop sending output\n",
      "to the client in order to avoid crashing it.\n",
      "To change this limit, set the config variable\n",
      "`--ServerApp.iopub_msg_rate_limit`.\n",
      "\n",
      "Current values:\n",
      "ServerApp.iopub_msg_rate_limit=1000.0 (msgs/sec)\n",
      "ServerApp.rate_limit_window=3.0 (secs)\n",
      "\n"
     ]
    },
    {
     "name": "stdout",
     "output_type": "stream",
     "text": [
      "[##############################                    ] 62% 25066/40746 - 28.017s - gaia-048-049.hdf5"
     ]
    },
    {
     "name": "stderr",
     "output_type": "stream",
     "text": [
      "IOPub message rate exceeded.\n",
      "The Jupyter server will temporarily stop sending output\n",
      "to the client in order to avoid crashing it.\n",
      "To change this limit, set the config variable\n",
      "`--ServerApp.iopub_msg_rate_limit`.\n",
      "\n",
      "Current values:\n",
      "ServerApp.iopub_msg_rate_limit=1000.0 (msgs/sec)\n",
      "ServerApp.rate_limit_window=3.0 (secs)\n",
      "\n"
     ]
    },
    {
     "name": "stdout",
     "output_type": "stream",
     "text": [
      "[#########################################         ] 83% 33799/40746 - 37.317s - gaia-048-049.hdf5"
     ]
    },
    {
     "name": "stderr",
     "output_type": "stream",
     "text": [
      "IOPub message rate exceeded.\n",
      "The Jupyter server will temporarily stop sending output\n",
      "to the client in order to avoid crashing it.\n",
      "To change this limit, set the config variable\n",
      "`--ServerApp.iopub_msg_rate_limit`.\n",
      "\n",
      "Current values:\n",
      "ServerApp.iopub_msg_rate_limit=1000.0 (msgs/sec)\n",
      "ServerApp.rate_limit_window=3.0 (secs)\n",
      "\n"
     ]
    },
    {
     "name": "stdout",
     "output_type": "stream",
     "text": [
      "export(hdf5) [########################################] 100.00% elapsed time  :     0.89s =  0.0m =  0.0h \n",
      " Saving /home2/s20321005/Thesis-Project/Data/Best-Pars/gaia-048-049.hdf5\n",
      "[##                                                ] 4% 1664/40325 - 2.093s - gaia-049-050.hdf5"
     ]
    },
    {
     "name": "stderr",
     "output_type": "stream",
     "text": [
      "IOPub message rate exceeded.\n",
      "The Jupyter server will temporarily stop sending output\n",
      "to the client in order to avoid crashing it.\n",
      "To change this limit, set the config variable\n",
      "`--ServerApp.iopub_msg_rate_limit`.\n",
      "\n",
      "Current values:\n",
      "ServerApp.iopub_msg_rate_limit=1000.0 (msgs/sec)\n",
      "ServerApp.rate_limit_window=3.0 (secs)\n",
      "\n"
     ]
    },
    {
     "name": "stdout",
     "output_type": "stream",
     "text": [
      "[############                                      ] 26% 10390/40325 - 11.698s - gaia-049-050.hdf5"
     ]
    },
    {
     "name": "stderr",
     "output_type": "stream",
     "text": [
      "IOPub message rate exceeded.\n",
      "The Jupyter server will temporarily stop sending output\n",
      "to the client in order to avoid crashing it.\n",
      "To change this limit, set the config variable\n",
      "`--ServerApp.iopub_msg_rate_limit`.\n",
      "\n",
      "Current values:\n",
      "ServerApp.iopub_msg_rate_limit=1000.0 (msgs/sec)\n",
      "ServerApp.rate_limit_window=3.0 (secs)\n",
      "\n"
     ]
    },
    {
     "name": "stdout",
     "output_type": "stream",
     "text": [
      "[#######################                           ] 47% 19124/40325 - 21.322s - gaia-049-050.hdf5"
     ]
    },
    {
     "name": "stderr",
     "output_type": "stream",
     "text": [
      "IOPub message rate exceeded.\n",
      "The Jupyter server will temporarily stop sending output\n",
      "to the client in order to avoid crashing it.\n",
      "To change this limit, set the config variable\n",
      "`--ServerApp.iopub_msg_rate_limit`.\n",
      "\n",
      "Current values:\n",
      "ServerApp.iopub_msg_rate_limit=1000.0 (msgs/sec)\n",
      "ServerApp.rate_limit_window=3.0 (secs)\n",
      "\n"
     ]
    },
    {
     "name": "stdout",
     "output_type": "stream",
     "text": [
      "[##################################                ] 69% 27871/40325 - 31.166s - gaia-049-050.hdf5"
     ]
    },
    {
     "name": "stderr",
     "output_type": "stream",
     "text": [
      "IOPub message rate exceeded.\n",
      "The Jupyter server will temporarily stop sending output\n",
      "to the client in order to avoid crashing it.\n",
      "To change this limit, set the config variable\n",
      "`--ServerApp.iopub_msg_rate_limit`.\n",
      "\n",
      "Current values:\n",
      "ServerApp.iopub_msg_rate_limit=1000.0 (msgs/sec)\n",
      "ServerApp.rate_limit_window=3.0 (secs)\n",
      "\n"
     ]
    },
    {
     "name": "stdout",
     "output_type": "stream",
     "text": [
      "[#########################                         ] 52% 22361/43037 - 24.121s - gaia-054-055.hdf5"
     ]
    },
    {
     "name": "stderr",
     "output_type": "stream",
     "text": [
      "IOPub message rate exceeded.\n",
      "The Jupyter server will temporarily stop sending output\n",
      "to the client in order to avoid crashing it.\n",
      "To change this limit, set the config variable\n",
      "`--ServerApp.iopub_msg_rate_limit`.\n",
      "\n",
      "Current values:\n",
      "ServerApp.iopub_msg_rate_limit=1000.0 (msgs/sec)\n",
      "ServerApp.rate_limit_window=3.0 (secs)\n",
      "\n"
     ]
    },
    {
     "name": "stdout",
     "output_type": "stream",
     "text": [
      "[#############################################     ] 90% 40149/44524 - 41.63s - gaia-056-057.hdf55"
     ]
    },
    {
     "name": "stderr",
     "output_type": "stream",
     "text": [
      "IOPub message rate exceeded.\n",
      "The Jupyter server will temporarily stop sending output\n",
      "to the client in order to avoid crashing it.\n",
      "To change this limit, set the config variable\n",
      "`--ServerApp.iopub_msg_rate_limit`.\n",
      "\n",
      "Current values:\n",
      "ServerApp.iopub_msg_rate_limit=1000.0 (msgs/sec)\n",
      "ServerApp.rate_limit_window=3.0 (secs)\n",
      "\n"
     ]
    },
    {
     "name": "stdout",
     "output_type": "stream",
     "text": [
      "[#########################                         ] 51% 23815/46768 - 27.146s - gaia-059-060.hdf5"
     ]
    },
    {
     "name": "stderr",
     "output_type": "stream",
     "text": [
      "IOPub message rate exceeded.\n",
      "The Jupyter server will temporarily stop sending output\n",
      "to the client in order to avoid crashing it.\n",
      "To change this limit, set the config variable\n",
      "`--ServerApp.iopub_msg_rate_limit`.\n",
      "\n",
      "Current values:\n",
      "ServerApp.iopub_msg_rate_limit=1000.0 (msgs/sec)\n",
      "ServerApp.rate_limit_window=3.0 (secs)\n",
      "\n"
     ]
    },
    {
     "name": "stdout",
     "output_type": "stream",
     "text": [
      "[##################################                ] 69% 32440/46768 - 35.981s - gaia-059-060.hdf5"
     ]
    },
    {
     "name": "stderr",
     "output_type": "stream",
     "text": [
      "IOPub message rate exceeded.\n",
      "The Jupyter server will temporarily stop sending output\n",
      "to the client in order to avoid crashing it.\n",
      "To change this limit, set the config variable\n",
      "`--ServerApp.iopub_msg_rate_limit`.\n",
      "\n",
      "Current values:\n",
      "ServerApp.iopub_msg_rate_limit=1000.0 (msgs/sec)\n",
      "ServerApp.rate_limit_window=3.0 (secs)\n",
      "\n"
     ]
    },
    {
     "name": "stdout",
     "output_type": "stream",
     "text": [
      "[###########################################       ] 88% 41086/46768 - 44.645s - gaia-059-060.hdf5"
     ]
    },
    {
     "name": "stderr",
     "output_type": "stream",
     "text": [
      "IOPub message rate exceeded.\n",
      "The Jupyter server will temporarily stop sending output\n",
      "to the client in order to avoid crashing it.\n",
      "To change this limit, set the config variable\n",
      "`--ServerApp.iopub_msg_rate_limit`.\n",
      "\n",
      "Current values:\n",
      "ServerApp.iopub_msg_rate_limit=1000.0 (msgs/sec)\n",
      "ServerApp.rate_limit_window=3.0 (secs)\n",
      "\n"
     ]
    },
    {
     "name": "stdout",
     "output_type": "stream",
     "text": [
      "export(hdf5) [########################################] 100.00% elapsed time  :     0.99s =  0.0m =  0.0h\n",
      " Saving /home2/s20321005/Thesis-Project/Data/Best-Pars/gaia-059-060.hdf5\n",
      "[###                                               ] 6% 2950/47249 - 3.756s - gaia-060-061.hdf5"
     ]
    },
    {
     "name": "stderr",
     "output_type": "stream",
     "text": [
      "IOPub message rate exceeded.\n",
      "The Jupyter server will temporarily stop sending output\n",
      "to the client in order to avoid crashing it.\n",
      "To change this limit, set the config variable\n",
      "`--ServerApp.iopub_msg_rate_limit`.\n",
      "\n",
      "Current values:\n",
      "ServerApp.iopub_msg_rate_limit=1000.0 (msgs/sec)\n",
      "ServerApp.rate_limit_window=3.0 (secs)\n",
      "\n"
     ]
    },
    {
     "name": "stdout",
     "output_type": "stream",
     "text": [
      "[############                                      ] 25% 11790/47249 - 12.911s - gaia-060-061.hdf5"
     ]
    },
    {
     "name": "stderr",
     "output_type": "stream",
     "text": [
      "IOPub message rate exceeded.\n",
      "The Jupyter server will temporarily stop sending output\n",
      "to the client in order to avoid crashing it.\n",
      "To change this limit, set the config variable\n",
      "`--ServerApp.iopub_msg_rate_limit`.\n",
      "\n",
      "Current values:\n",
      "ServerApp.iopub_msg_rate_limit=1000.0 (msgs/sec)\n",
      "ServerApp.rate_limit_window=3.0 (secs)\n",
      "\n"
     ]
    },
    {
     "name": "stdout",
     "output_type": "stream",
     "text": [
      "[#####################                             ] 44% 20675/47249 - 23.434s - gaia-060-061.hdf5"
     ]
    },
    {
     "name": "stderr",
     "output_type": "stream",
     "text": [
      "IOPub message rate exceeded.\n",
      "The Jupyter server will temporarily stop sending output\n",
      "to the client in order to avoid crashing it.\n",
      "To change this limit, set the config variable\n",
      "`--ServerApp.iopub_msg_rate_limit`.\n",
      "\n",
      "Current values:\n",
      "ServerApp.iopub_msg_rate_limit=1000.0 (msgs/sec)\n",
      "ServerApp.rate_limit_window=3.0 (secs)\n",
      "\n"
     ]
    },
    {
     "name": "stdout",
     "output_type": "stream",
     "text": [
      "[###############################                   ] 62% 29388/47249 - 33.175s - gaia-060-061.hdf5"
     ]
    },
    {
     "name": "stderr",
     "output_type": "stream",
     "text": [
      "IOPub message rate exceeded.\n",
      "The Jupyter server will temporarily stop sending output\n",
      "to the client in order to avoid crashing it.\n",
      "To change this limit, set the config variable\n",
      "`--ServerApp.iopub_msg_rate_limit`.\n",
      "\n",
      "Current values:\n",
      "ServerApp.iopub_msg_rate_limit=1000.0 (msgs/sec)\n",
      "ServerApp.rate_limit_window=3.0 (secs)\n",
      "\n"
     ]
    },
    {
     "name": "stdout",
     "output_type": "stream",
     "text": [
      "[#######################################           ] 79% 37247/47249 - 41.549s - gaia-060-061.hdf5"
     ]
    },
    {
     "name": "stderr",
     "output_type": "stream",
     "text": [
      "IOPub message rate exceeded.\n",
      "The Jupyter server will temporarily stop sending output\n",
      "to the client in order to avoid crashing it.\n",
      "To change this limit, set the config variable\n",
      "`--ServerApp.iopub_msg_rate_limit`.\n",
      "\n",
      "Current values:\n",
      "ServerApp.iopub_msg_rate_limit=1000.0 (msgs/sec)\n",
      "ServerApp.rate_limit_window=3.0 (secs)\n",
      "\n"
     ]
    },
    {
     "name": "stdout",
     "output_type": "stream",
     "text": [
      "[################################################  ] 97% 45793/47249 - 50.73s - gaia-060-061.hdf55"
     ]
    },
    {
     "name": "stderr",
     "output_type": "stream",
     "text": [
      "IOPub message rate exceeded.\n",
      "The Jupyter server will temporarily stop sending output\n",
      "to the client in order to avoid crashing it.\n",
      "To change this limit, set the config variable\n",
      "`--ServerApp.iopub_msg_rate_limit`.\n",
      "\n",
      "Current values:\n",
      "ServerApp.iopub_msg_rate_limit=1000.0 (msgs/sec)\n",
      "ServerApp.rate_limit_window=3.0 (secs)\n",
      "\n"
     ]
    },
    {
     "name": "stdout",
     "output_type": "stream",
     "text": [
      "[#######                                           ] 15% 7015/47284 - 8.053s - gaia-061-062.hdf5"
     ]
    },
    {
     "name": "stderr",
     "output_type": "stream",
     "text": [
      "IOPub message rate exceeded.\n",
      "The Jupyter server will temporarily stop sending output\n",
      "to the client in order to avoid crashing it.\n",
      "To change this limit, set the config variable\n",
      "`--ServerApp.iopub_msg_rate_limit`.\n",
      "\n",
      "Current values:\n",
      "ServerApp.iopub_msg_rate_limit=1000.0 (msgs/sec)\n",
      "ServerApp.rate_limit_window=3.0 (secs)\n",
      "\n"
     ]
    },
    {
     "name": "stdout",
     "output_type": "stream",
     "text": [
      "[################                                  ] 33% 15578/47284 - 16.911s - gaia-061-062.hdf5"
     ]
    },
    {
     "name": "stderr",
     "output_type": "stream",
     "text": [
      "IOPub message rate exceeded.\n",
      "The Jupyter server will temporarily stop sending output\n",
      "to the client in order to avoid crashing it.\n",
      "To change this limit, set the config variable\n",
      "`--ServerApp.iopub_msg_rate_limit`.\n",
      "\n",
      "Current values:\n",
      "ServerApp.iopub_msg_rate_limit=1000.0 (msgs/sec)\n",
      "ServerApp.rate_limit_window=3.0 (secs)\n",
      "\n"
     ]
    },
    {
     "name": "stdout",
     "output_type": "stream",
     "text": [
      "[#########################                         ] 51% 24049/47284 - 26.64s - gaia-061-062.hdf55"
     ]
    },
    {
     "name": "stderr",
     "output_type": "stream",
     "text": [
      "IOPub message rate exceeded.\n",
      "The Jupyter server will temporarily stop sending output\n",
      "to the client in order to avoid crashing it.\n",
      "To change this limit, set the config variable\n",
      "`--ServerApp.iopub_msg_rate_limit`.\n",
      "\n",
      "Current values:\n",
      "ServerApp.iopub_msg_rate_limit=1000.0 (msgs/sec)\n",
      "ServerApp.rate_limit_window=3.0 (secs)\n",
      "\n"
     ]
    },
    {
     "name": "stdout",
     "output_type": "stream",
     "text": [
      "[##                                                ] 5% 3048/55785 - 3.316s - gaia-071-072.hdf5df5"
     ]
    },
    {
     "name": "stderr",
     "output_type": "stream",
     "text": [
      "IOPub message rate exceeded.\n",
      "The Jupyter server will temporarily stop sending output\n",
      "to the client in order to avoid crashing it.\n",
      "To change this limit, set the config variable\n",
      "`--ServerApp.iopub_msg_rate_limit`.\n",
      "\n",
      "Current values:\n",
      "ServerApp.iopub_msg_rate_limit=1000.0 (msgs/sec)\n",
      "ServerApp.rate_limit_window=3.0 (secs)\n",
      "\n"
     ]
    },
    {
     "name": "stdout",
     "output_type": "stream",
     "text": [
      "[##########                                        ] 21% 11476/55785 - 12.547s - gaia-071-072.hdf5"
     ]
    },
    {
     "name": "stderr",
     "output_type": "stream",
     "text": [
      "IOPub message rate exceeded.\n",
      "The Jupyter server will temporarily stop sending output\n",
      "to the client in order to avoid crashing it.\n",
      "To change this limit, set the config variable\n",
      "`--ServerApp.iopub_msg_rate_limit`.\n",
      "\n",
      "Current values:\n",
      "ServerApp.iopub_msg_rate_limit=1000.0 (msgs/sec)\n",
      "ServerApp.rate_limit_window=3.0 (secs)\n",
      "\n"
     ]
    },
    {
     "name": "stdout",
     "output_type": "stream",
     "text": [
      "[######################################            ] 78% 51269/66058 - 55.057s - gaia-077-078.hdf5"
     ]
    },
    {
     "name": "stderr",
     "output_type": "stream",
     "text": [
      "IOPub message rate exceeded.\n",
      "The Jupyter server will temporarily stop sending output\n",
      "to the client in order to avoid crashing it.\n",
      "To change this limit, set the config variable\n",
      "`--ServerApp.iopub_msg_rate_limit`.\n",
      "\n",
      "Current values:\n",
      "ServerApp.iopub_msg_rate_limit=1000.0 (msgs/sec)\n",
      "ServerApp.rate_limit_window=3.0 (secs)\n",
      "\n"
     ]
    },
    {
     "name": "stdout",
     "output_type": "stream",
     "text": [
      "[#############################################     ] 91% 59794/66058 - 63.824s - gaia-077-078.hdf5"
     ]
    },
    {
     "name": "stderr",
     "output_type": "stream",
     "text": [
      "IOPub message rate exceeded.\n",
      "The Jupyter server will temporarily stop sending output\n",
      "to the client in order to avoid crashing it.\n",
      "To change this limit, set the config variable\n",
      "`--ServerApp.iopub_msg_rate_limit`.\n",
      "\n",
      "Current values:\n",
      "ServerApp.iopub_msg_rate_limit=1000.0 (msgs/sec)\n",
      "ServerApp.rate_limit_window=3.0 (secs)\n",
      "\n"
     ]
    },
    {
     "name": "stdout",
     "output_type": "stream",
     "text": [
      "export(hdf5) [########################################] 100.00% elapsed time  :     0.91s =  0.0m =  0.0h \n",
      " Saving /home2/s20321005/Thesis-Project/Data/Best-Pars/gaia-077-078.hdf5\n",
      "[#                                                 ] 3% 2123/66977 - 2.592s - gaia-078-079.hdf5"
     ]
    },
    {
     "name": "stderr",
     "output_type": "stream",
     "text": [
      "IOPub message rate exceeded.\n",
      "The Jupyter server will temporarily stop sending output\n",
      "to the client in order to avoid crashing it.\n",
      "To change this limit, set the config variable\n",
      "`--ServerApp.iopub_msg_rate_limit`.\n",
      "\n",
      "Current values:\n",
      "ServerApp.iopub_msg_rate_limit=1000.0 (msgs/sec)\n",
      "ServerApp.rate_limit_window=3.0 (secs)\n",
      "\n"
     ]
    },
    {
     "name": "stdout",
     "output_type": "stream",
     "text": [
      "[########                                          ] 17% 11160/66977 - 12.07s - gaia-078-079.hdf55"
     ]
    },
    {
     "name": "stderr",
     "output_type": "stream",
     "text": [
      "IOPub message rate exceeded.\n",
      "The Jupyter server will temporarily stop sending output\n",
      "to the client in order to avoid crashing it.\n",
      "To change this limit, set the config variable\n",
      "`--ServerApp.iopub_msg_rate_limit`.\n",
      "\n",
      "Current values:\n",
      "ServerApp.iopub_msg_rate_limit=1000.0 (msgs/sec)\n",
      "ServerApp.rate_limit_window=3.0 (secs)\n",
      "\n"
     ]
    },
    {
     "name": "stdout",
     "output_type": "stream",
     "text": [
      "[##############                                    ] 30% 20025/66977 - 21.275s - gaia-078-079.hdf5"
     ]
    },
    {
     "name": "stderr",
     "output_type": "stream",
     "text": [
      "IOPub message rate exceeded.\n",
      "The Jupyter server will temporarily stop sending output\n",
      "to the client in order to avoid crashing it.\n",
      "To change this limit, set the config variable\n",
      "`--ServerApp.iopub_msg_rate_limit`.\n",
      "\n",
      "Current values:\n",
      "ServerApp.iopub_msg_rate_limit=1000.0 (msgs/sec)\n",
      "ServerApp.rate_limit_window=3.0 (secs)\n",
      "\n"
     ]
    },
    {
     "name": "stdout",
     "output_type": "stream",
     "text": [
      "[#####################                             ] 43% 28667/66977 - 30.801s - gaia-078-079.hdf5"
     ]
    },
    {
     "name": "stderr",
     "output_type": "stream",
     "text": [
      "IOPub message rate exceeded.\n",
      "The Jupyter server will temporarily stop sending output\n",
      "to the client in order to avoid crashing it.\n",
      "To change this limit, set the config variable\n",
      "`--ServerApp.iopub_msg_rate_limit`.\n",
      "\n",
      "Current values:\n",
      "ServerApp.iopub_msg_rate_limit=1000.0 (msgs/sec)\n",
      "ServerApp.rate_limit_window=3.0 (secs)\n",
      "\n"
     ]
    },
    {
     "name": "stdout",
     "output_type": "stream",
     "text": [
      "[###########################                       ] 55% 36722/66977 - 39.539s - gaia-078-079.hdf5"
     ]
    },
    {
     "name": "stderr",
     "output_type": "stream",
     "text": [
      "IOPub message rate exceeded.\n",
      "The Jupyter server will temporarily stop sending output\n",
      "to the client in order to avoid crashing it.\n",
      "To change this limit, set the config variable\n",
      "`--ServerApp.iopub_msg_rate_limit`.\n",
      "\n",
      "Current values:\n",
      "ServerApp.iopub_msg_rate_limit=1000.0 (msgs/sec)\n",
      "ServerApp.rate_limit_window=3.0 (secs)\n",
      "\n"
     ]
    },
    {
     "name": "stdout",
     "output_type": "stream",
     "text": [
      "[#################################                 ] 68% 45361/66977 - 49.199s - gaia-078-079.hdf5"
     ]
    },
    {
     "name": "stderr",
     "output_type": "stream",
     "text": [
      "IOPub message rate exceeded.\n",
      "The Jupyter server will temporarily stop sending output\n",
      "to the client in order to avoid crashing it.\n",
      "To change this limit, set the config variable\n",
      "`--ServerApp.iopub_msg_rate_limit`.\n",
      "\n",
      "Current values:\n",
      "ServerApp.iopub_msg_rate_limit=1000.0 (msgs/sec)\n",
      "ServerApp.rate_limit_window=3.0 (secs)\n",
      "\n"
     ]
    },
    {
     "name": "stdout",
     "output_type": "stream",
     "text": [
      "[########################################          ] 80% 53871/66977 - 58.26s - gaia-078-079.hdf55"
     ]
    },
    {
     "name": "stderr",
     "output_type": "stream",
     "text": [
      "IOPub message rate exceeded.\n",
      "The Jupyter server will temporarily stop sending output\n",
      "to the client in order to avoid crashing it.\n",
      "To change this limit, set the config variable\n",
      "`--ServerApp.iopub_msg_rate_limit`.\n",
      "\n",
      "Current values:\n",
      "ServerApp.iopub_msg_rate_limit=1000.0 (msgs/sec)\n",
      "ServerApp.rate_limit_window=3.0 (secs)\n",
      "\n"
     ]
    },
    {
     "name": "stdout",
     "output_type": "stream",
     "text": [
      "[##############################################    ] 93% 62189/66977 - 67.386s - gaia-078-079.hdf5"
     ]
    },
    {
     "name": "stderr",
     "output_type": "stream",
     "text": [
      "IOPub message rate exceeded.\n",
      "The Jupyter server will temporarily stop sending output\n",
      "to the client in order to avoid crashing it.\n",
      "To change this limit, set the config variable\n",
      "`--ServerApp.iopub_msg_rate_limit`.\n",
      "\n",
      "Current values:\n",
      "ServerApp.iopub_msg_rate_limit=1000.0 (msgs/sec)\n",
      "ServerApp.rate_limit_window=3.0 (secs)\n",
      "\n"
     ]
    },
    {
     "name": "stdout",
     "output_type": "stream",
     "text": [
      "[#######################################           ] 80% 56312/70794 - 55.869s - gaia-081-082.hdf5"
     ]
    },
    {
     "name": "stderr",
     "output_type": "stream",
     "text": [
      "IOPub message rate exceeded.\n",
      "The Jupyter server will temporarily stop sending output\n",
      "to the client in order to avoid crashing it.\n",
      "To change this limit, set the config variable\n",
      "`--ServerApp.iopub_msg_rate_limit`.\n",
      "\n",
      "Current values:\n",
      "ServerApp.iopub_msg_rate_limit=1000.0 (msgs/sec)\n",
      "ServerApp.rate_limit_window=3.0 (secs)\n",
      "\n"
     ]
    },
    {
     "name": "stdout",
     "output_type": "stream",
     "text": [
      "[#############################################     ] 91% 64597/70794 - 63.81s - gaia-081-082.hdf55"
     ]
    },
    {
     "name": "stderr",
     "output_type": "stream",
     "text": [
      "IOPub message rate exceeded.\n",
      "The Jupyter server will temporarily stop sending output\n",
      "to the client in order to avoid crashing it.\n",
      "To change this limit, set the config variable\n",
      "`--ServerApp.iopub_msg_rate_limit`.\n",
      "\n",
      "Current values:\n",
      "ServerApp.iopub_msg_rate_limit=1000.0 (msgs/sec)\n",
      "ServerApp.rate_limit_window=3.0 (secs)\n",
      "\n"
     ]
    },
    {
     "name": "stdout",
     "output_type": "stream",
     "text": [
      "[##                                                ] 5% 3894/73526 - 4.431s - gaia-083-084.hdf5"
     ]
    },
    {
     "name": "stderr",
     "output_type": "stream",
     "text": [
      "IOPub message rate exceeded.\n",
      "The Jupyter server will temporarily stop sending output\n",
      "to the client in order to avoid crashing it.\n",
      "To change this limit, set the config variable\n",
      "`--ServerApp.iopub_msg_rate_limit`.\n",
      "\n",
      "Current values:\n",
      "ServerApp.iopub_msg_rate_limit=1000.0 (msgs/sec)\n",
      "ServerApp.rate_limit_window=3.0 (secs)\n",
      "\n"
     ]
    },
    {
     "name": "stdout",
     "output_type": "stream",
     "text": [
      "[########                                          ] 17% 12551/73526 - 12.966s - gaia-083-084.hdf5"
     ]
    },
    {
     "name": "stderr",
     "output_type": "stream",
     "text": [
      "IOPub message rate exceeded.\n",
      "The Jupyter server will temporarily stop sending output\n",
      "to the client in order to avoid crashing it.\n",
      "To change this limit, set the config variable\n",
      "`--ServerApp.iopub_msg_rate_limit`.\n",
      "\n",
      "Current values:\n",
      "ServerApp.iopub_msg_rate_limit=1000.0 (msgs/sec)\n",
      "ServerApp.rate_limit_window=3.0 (secs)\n",
      "\n"
     ]
    },
    {
     "name": "stdout",
     "output_type": "stream",
     "text": [
      "[##############                                    ] 29% 21252/73526 - 22.244s - gaia-083-084.hdf5"
     ]
    },
    {
     "name": "stderr",
     "output_type": "stream",
     "text": [
      "IOPub message rate exceeded.\n",
      "The Jupyter server will temporarily stop sending output\n",
      "to the client in order to avoid crashing it.\n",
      "To change this limit, set the config variable\n",
      "`--ServerApp.iopub_msg_rate_limit`.\n",
      "\n",
      "Current values:\n",
      "ServerApp.iopub_msg_rate_limit=1000.0 (msgs/sec)\n",
      "ServerApp.rate_limit_window=3.0 (secs)\n",
      "\n"
     ]
    },
    {
     "name": "stdout",
     "output_type": "stream",
     "text": [
      "[####################                              ] 41% 29923/73526 - 31.917s - gaia-083-084.hdf5"
     ]
    },
    {
     "name": "stderr",
     "output_type": "stream",
     "text": [
      "IOPub message rate exceeded.\n",
      "The Jupyter server will temporarily stop sending output\n",
      "to the client in order to avoid crashing it.\n",
      "To change this limit, set the config variable\n",
      "`--ServerApp.iopub_msg_rate_limit`.\n",
      "\n",
      "Current values:\n",
      "ServerApp.iopub_msg_rate_limit=1000.0 (msgs/sec)\n",
      "ServerApp.rate_limit_window=3.0 (secs)\n",
      "\n"
     ]
    },
    {
     "name": "stdout",
     "output_type": "stream",
     "text": [
      "[##########################                        ] 52% 38480/73526 - 41.039s - gaia-083-084.hdf5"
     ]
    },
    {
     "name": "stderr",
     "output_type": "stream",
     "text": [
      "IOPub message rate exceeded.\n",
      "The Jupyter server will temporarily stop sending output\n",
      "to the client in order to avoid crashing it.\n",
      "To change this limit, set the config variable\n",
      "`--ServerApp.iopub_msg_rate_limit`.\n",
      "\n",
      "Current values:\n",
      "ServerApp.iopub_msg_rate_limit=1000.0 (msgs/sec)\n",
      "ServerApp.rate_limit_window=3.0 (secs)\n",
      "\n"
     ]
    },
    {
     "name": "stdout",
     "output_type": "stream",
     "text": [
      "[################################                  ] 64% 47371/73526 - 50.648s - gaia-083-084.hdf5"
     ]
    },
    {
     "name": "stderr",
     "output_type": "stream",
     "text": [
      "IOPub message rate exceeded.\n",
      "The Jupyter server will temporarily stop sending output\n",
      "to the client in order to avoid crashing it.\n",
      "To change this limit, set the config variable\n",
      "`--ServerApp.iopub_msg_rate_limit`.\n",
      "\n",
      "Current values:\n",
      "ServerApp.iopub_msg_rate_limit=1000.0 (msgs/sec)\n",
      "ServerApp.rate_limit_window=3.0 (secs)\n",
      "\n"
     ]
    },
    {
     "name": "stdout",
     "output_type": "stream",
     "text": [
      "[######################################            ] 76% 56215/73526 - 59.806s - gaia-083-084.hdf5"
     ]
    },
    {
     "name": "stderr",
     "output_type": "stream",
     "text": [
      "IOPub message rate exceeded.\n",
      "The Jupyter server will temporarily stop sending output\n",
      "to the client in order to avoid crashing it.\n",
      "To change this limit, set the config variable\n",
      "`--ServerApp.iopub_msg_rate_limit`.\n",
      "\n",
      "Current values:\n",
      "ServerApp.iopub_msg_rate_limit=1000.0 (msgs/sec)\n",
      "ServerApp.rate_limit_window=3.0 (secs)\n",
      "\n"
     ]
    },
    {
     "name": "stdout",
     "output_type": "stream",
     "text": [
      "[###########################################       ] 87% 64333/73526 - 68.695s - gaia-083-084.hdf5"
     ]
    },
    {
     "name": "stderr",
     "output_type": "stream",
     "text": [
      "IOPub message rate exceeded.\n",
      "The Jupyter server will temporarily stop sending output\n",
      "to the client in order to avoid crashing it.\n",
      "To change this limit, set the config variable\n",
      "`--ServerApp.iopub_msg_rate_limit`.\n",
      "\n",
      "Current values:\n",
      "ServerApp.iopub_msg_rate_limit=1000.0 (msgs/sec)\n",
      "ServerApp.rate_limit_window=3.0 (secs)\n",
      "\n"
     ]
    },
    {
     "name": "stdout",
     "output_type": "stream",
     "text": [
      "[################################################# ] 99% 73041/73526 - 78.222s - gaia-083-084.hdf5"
     ]
    },
    {
     "name": "stderr",
     "output_type": "stream",
     "text": [
      "IOPub message rate exceeded.\n",
      "The Jupyter server will temporarily stop sending output\n",
      "to the client in order to avoid crashing it.\n",
      "To change this limit, set the config variable\n",
      "`--ServerApp.iopub_msg_rate_limit`.\n",
      "\n",
      "Current values:\n",
      "ServerApp.iopub_msg_rate_limit=1000.0 (msgs/sec)\n",
      "ServerApp.rate_limit_window=3.0 (secs)\n",
      "\n"
     ]
    },
    {
     "name": "stdout",
     "output_type": "stream",
     "text": [
      "[#####                                             ] 11% 8179/73274 - 8.58s - gaia-084-085.hdf55"
     ]
    },
    {
     "name": "stderr",
     "output_type": "stream",
     "text": [
      "IOPub message rate exceeded.\n",
      "The Jupyter server will temporarily stop sending output\n",
      "to the client in order to avoid crashing it.\n",
      "To change this limit, set the config variable\n",
      "`--ServerApp.iopub_msg_rate_limit`.\n",
      "\n",
      "Current values:\n",
      "ServerApp.iopub_msg_rate_limit=1000.0 (msgs/sec)\n",
      "ServerApp.rate_limit_window=3.0 (secs)\n",
      "\n"
     ]
    },
    {
     "name": "stdout",
     "output_type": "stream",
     "text": [
      "[###########                                       ] 23% 16985/73274 - 17.802s - gaia-084-085.hdf5"
     ]
    },
    {
     "name": "stderr",
     "output_type": "stream",
     "text": [
      "IOPub message rate exceeded.\n",
      "The Jupyter server will temporarily stop sending output\n",
      "to the client in order to avoid crashing it.\n",
      "To change this limit, set the config variable\n",
      "`--ServerApp.iopub_msg_rate_limit`.\n",
      "\n",
      "Current values:\n",
      "ServerApp.iopub_msg_rate_limit=1000.0 (msgs/sec)\n",
      "ServerApp.rate_limit_window=3.0 (secs)\n",
      "\n"
     ]
    },
    {
     "name": "stdout",
     "output_type": "stream",
     "text": [
      "[#################                                 ] 35% 25811/73274 - 26.967s - gaia-084-085.hdf5"
     ]
    },
    {
     "name": "stderr",
     "output_type": "stream",
     "text": [
      "IOPub message rate exceeded.\n",
      "The Jupyter server will temporarily stop sending output\n",
      "to the client in order to avoid crashing it.\n",
      "To change this limit, set the config variable\n",
      "`--ServerApp.iopub_msg_rate_limit`.\n",
      "\n",
      "Current values:\n",
      "ServerApp.iopub_msg_rate_limit=1000.0 (msgs/sec)\n",
      "ServerApp.rate_limit_window=3.0 (secs)\n",
      "\n"
     ]
    },
    {
     "name": "stdout",
     "output_type": "stream",
     "text": [
      "[#######################                           ] 48% 34805/73274 - 36.182s - gaia-084-085.hdf5"
     ]
    },
    {
     "name": "stderr",
     "output_type": "stream",
     "text": [
      "IOPub message rate exceeded.\n",
      "The Jupyter server will temporarily stop sending output\n",
      "to the client in order to avoid crashing it.\n",
      "To change this limit, set the config variable\n",
      "`--ServerApp.iopub_msg_rate_limit`.\n",
      "\n",
      "Current values:\n",
      "ServerApp.iopub_msg_rate_limit=1000.0 (msgs/sec)\n",
      "ServerApp.rate_limit_window=3.0 (secs)\n",
      "\n"
     ]
    },
    {
     "name": "stdout",
     "output_type": "stream",
     "text": [
      "export(hdf5) [########################################] 100.00% elapsed time  :     0.98s =  0.0m =  0.0h\n",
      " Saving /home2/s20321005/Thesis-Project/Data/Best-Pars/gaia-089-090.hdf5\n",
      "[##########                                        ] 20% 17350/85225 - 18.643s - gaia-092-093.hdf5"
     ]
    },
    {
     "name": "stderr",
     "output_type": "stream",
     "text": [
      "IOPub message rate exceeded.\n",
      "The Jupyter server will temporarily stop sending output\n",
      "to the client in order to avoid crashing it.\n",
      "To change this limit, set the config variable\n",
      "`--ServerApp.iopub_msg_rate_limit`.\n",
      "\n",
      "Current values:\n",
      "ServerApp.iopub_msg_rate_limit=1000.0 (msgs/sec)\n",
      "ServerApp.rate_limit_window=3.0 (secs)\n",
      "\n"
     ]
    },
    {
     "name": "stdout",
     "output_type": "stream",
     "text": [
      "[###############                                   ] 30% 25875/85225 - 27.306s - gaia-092-093.hdf5"
     ]
    },
    {
     "name": "stderr",
     "output_type": "stream",
     "text": [
      "IOPub message rate exceeded.\n",
      "The Jupyter server will temporarily stop sending output\n",
      "to the client in order to avoid crashing it.\n",
      "To change this limit, set the config variable\n",
      "`--ServerApp.iopub_msg_rate_limit`.\n",
      "\n",
      "Current values:\n",
      "ServerApp.iopub_msg_rate_limit=1000.0 (msgs/sec)\n",
      "ServerApp.rate_limit_window=3.0 (secs)\n",
      "\n"
     ]
    },
    {
     "name": "stdout",
     "output_type": "stream",
     "text": [
      "[##################                                ] 37% 34432/93340 - 36.607s - gaia-095-096.hdf5"
     ]
    },
    {
     "name": "stderr",
     "output_type": "stream",
     "text": [
      "IOPub message rate exceeded.\n",
      "The Jupyter server will temporarily stop sending output\n",
      "to the client in order to avoid crashing it.\n",
      "To change this limit, set the config variable\n",
      "`--ServerApp.iopub_msg_rate_limit`.\n",
      "\n",
      "Current values:\n",
      "ServerApp.iopub_msg_rate_limit=1000.0 (msgs/sec)\n",
      "ServerApp.rate_limit_window=3.0 (secs)\n",
      "\n"
     ]
    },
    {
     "name": "stdout",
     "output_type": "stream",
     "text": [
      "[#######################                           ] 46% 43157/93340 - 45.545s - gaia-095-096.hdf5"
     ]
    },
    {
     "name": "stderr",
     "output_type": "stream",
     "text": [
      "IOPub message rate exceeded.\n",
      "The Jupyter server will temporarily stop sending output\n",
      "to the client in order to avoid crashing it.\n",
      "To change this limit, set the config variable\n",
      "`--ServerApp.iopub_msg_rate_limit`.\n",
      "\n",
      "Current values:\n",
      "ServerApp.iopub_msg_rate_limit=1000.0 (msgs/sec)\n",
      "ServerApp.rate_limit_window=3.0 (secs)\n",
      "\n"
     ]
    },
    {
     "name": "stdout",
     "output_type": "stream",
     "text": [
      "[###########################                       ] 55% 51447/93340 - 53.817s - gaia-095-096.hdf5"
     ]
    },
    {
     "name": "stderr",
     "output_type": "stream",
     "text": [
      "IOPub message rate exceeded.\n",
      "The Jupyter server will temporarily stop sending output\n",
      "to the client in order to avoid crashing it.\n",
      "To change this limit, set the config variable\n",
      "`--ServerApp.iopub_msg_rate_limit`.\n",
      "\n",
      "Current values:\n",
      "ServerApp.iopub_msg_rate_limit=1000.0 (msgs/sec)\n",
      "ServerApp.rate_limit_window=3.0 (secs)\n",
      "\n"
     ]
    },
    {
     "name": "stdout",
     "output_type": "stream",
     "text": [
      "[################################                  ] 65% 60464/93340 - 63.058s - gaia-095-096.hdf5"
     ]
    },
    {
     "name": "stderr",
     "output_type": "stream",
     "text": [
      "IOPub message rate exceeded.\n",
      "The Jupyter server will temporarily stop sending output\n",
      "to the client in order to avoid crashing it.\n",
      "To change this limit, set the config variable\n",
      "`--ServerApp.iopub_msg_rate_limit`.\n",
      "\n",
      "Current values:\n",
      "ServerApp.iopub_msg_rate_limit=1000.0 (msgs/sec)\n",
      "ServerApp.rate_limit_window=3.0 (secs)\n",
      "\n"
     ]
    },
    {
     "name": "stdout",
     "output_type": "stream",
     "text": [
      "[#####################################             ] 74% 69390/93340 - 72.694s - gaia-095-096.hdf5"
     ]
    },
    {
     "name": "stderr",
     "output_type": "stream",
     "text": [
      "IOPub message rate exceeded.\n",
      "The Jupyter server will temporarily stop sending output\n",
      "to the client in order to avoid crashing it.\n",
      "To change this limit, set the config variable\n",
      "`--ServerApp.iopub_msg_rate_limit`.\n",
      "\n",
      "Current values:\n",
      "ServerApp.iopub_msg_rate_limit=1000.0 (msgs/sec)\n",
      "ServerApp.rate_limit_window=3.0 (secs)\n",
      "\n"
     ]
    },
    {
     "name": "stdout",
     "output_type": "stream",
     "text": [
      "[#########################################         ] 84% 78262/93340 - 82.252s - gaia-095-096.hdf5"
     ]
    },
    {
     "name": "stderr",
     "output_type": "stream",
     "text": [
      "IOPub message rate exceeded.\n",
      "The Jupyter server will temporarily stop sending output\n",
      "to the client in order to avoid crashing it.\n",
      "To change this limit, set the config variable\n",
      "`--ServerApp.iopub_msg_rate_limit`.\n",
      "\n",
      "Current values:\n",
      "ServerApp.iopub_msg_rate_limit=1000.0 (msgs/sec)\n",
      "ServerApp.rate_limit_window=3.0 (secs)\n",
      "\n"
     ]
    },
    {
     "name": "stdout",
     "output_type": "stream",
     "text": [
      "[##############################################    ] 93% 86823/93340 - 91.953s - gaia-095-096.hdf5"
     ]
    },
    {
     "name": "stderr",
     "output_type": "stream",
     "text": [
      "IOPub message rate exceeded.\n",
      "The Jupyter server will temporarily stop sending output\n",
      "to the client in order to avoid crashing it.\n",
      "To change this limit, set the config variable\n",
      "`--ServerApp.iopub_msg_rate_limit`.\n",
      "\n",
      "Current values:\n",
      "ServerApp.iopub_msg_rate_limit=1000.0 (msgs/sec)\n",
      "ServerApp.rate_limit_window=3.0 (secs)\n",
      "\n"
     ]
    },
    {
     "name": "stdout",
     "output_type": "stream",
     "text": [
      "export(hdf5) [########################################] 100.00% elapsed time  :     1.03s =  0.0m =  0.0h \n",
      " Saving /home2/s20321005/Thesis-Project/Data/Best-Pars/gaia-095-096.hdf5\n",
      "[#                                                 ] 2% 2099/93470 - 2.662s - gaia-096-097.hdf5"
     ]
    },
    {
     "name": "stderr",
     "output_type": "stream",
     "text": [
      "IOPub message rate exceeded.\n",
      "The Jupyter server will temporarily stop sending output\n",
      "to the client in order to avoid crashing it.\n",
      "To change this limit, set the config variable\n",
      "`--ServerApp.iopub_msg_rate_limit`.\n",
      "\n",
      "Current values:\n",
      "ServerApp.iopub_msg_rate_limit=1000.0 (msgs/sec)\n",
      "ServerApp.rate_limit_window=3.0 (secs)\n",
      "\n"
     ]
    },
    {
     "name": "stdout",
     "output_type": "stream",
     "text": [
      "[#####                                             ] 12% 10934/93470 - 11.413s - gaia-096-097.hdf5"
     ]
    },
    {
     "name": "stderr",
     "output_type": "stream",
     "text": [
      "IOPub message rate exceeded.\n",
      "The Jupyter server will temporarily stop sending output\n",
      "to the client in order to avoid crashing it.\n",
      "To change this limit, set the config variable\n",
      "`--ServerApp.iopub_msg_rate_limit`.\n",
      "\n",
      "Current values:\n",
      "ServerApp.iopub_msg_rate_limit=1000.0 (msgs/sec)\n",
      "ServerApp.rate_limit_window=3.0 (secs)\n",
      "\n"
     ]
    },
    {
     "name": "stdout",
     "output_type": "stream",
     "text": [
      "[##########                                        ] 21% 19709/93470 - 20.138s - gaia-096-097.hdf5"
     ]
    },
    {
     "name": "stderr",
     "output_type": "stream",
     "text": [
      "IOPub message rate exceeded.\n",
      "The Jupyter server will temporarily stop sending output\n",
      "to the client in order to avoid crashing it.\n",
      "To change this limit, set the config variable\n",
      "`--ServerApp.iopub_msg_rate_limit`.\n",
      "\n",
      "Current values:\n",
      "ServerApp.iopub_msg_rate_limit=1000.0 (msgs/sec)\n",
      "ServerApp.rate_limit_window=3.0 (secs)\n",
      "\n"
     ]
    },
    {
     "name": "stdout",
     "output_type": "stream",
     "text": [
      "[###############                                   ] 30% 28465/93470 - 28.182s - gaia-096-097.hdf5"
     ]
    },
    {
     "name": "stderr",
     "output_type": "stream",
     "text": [
      "IOPub message rate exceeded.\n",
      "The Jupyter server will temporarily stop sending output\n",
      "to the client in order to avoid crashing it.\n",
      "To change this limit, set the config variable\n",
      "`--ServerApp.iopub_msg_rate_limit`.\n",
      "\n",
      "Current values:\n",
      "ServerApp.iopub_msg_rate_limit=1000.0 (msgs/sec)\n",
      "ServerApp.rate_limit_window=3.0 (secs)\n",
      "\n"
     ]
    },
    {
     "name": "stdout",
     "output_type": "stream",
     "text": [
      "[###################                               ] 40% 37263/93470 - 36.662s - gaia-096-097.hdf5"
     ]
    },
    {
     "name": "stderr",
     "output_type": "stream",
     "text": [
      "IOPub message rate exceeded.\n",
      "The Jupyter server will temporarily stop sending output\n",
      "to the client in order to avoid crashing it.\n",
      "To change this limit, set the config variable\n",
      "`--ServerApp.iopub_msg_rate_limit`.\n",
      "\n",
      "Current values:\n",
      "ServerApp.iopub_msg_rate_limit=1000.0 (msgs/sec)\n",
      "ServerApp.rate_limit_window=3.0 (secs)\n",
      "\n"
     ]
    },
    {
     "name": "stdout",
     "output_type": "stream",
     "text": [
      "[#############################                     ] 58% 58569/100537 - 59.982s - gaia-102-103.hdf5"
     ]
    },
    {
     "name": "stderr",
     "output_type": "stream",
     "text": [
      "IOPub message rate exceeded.\n",
      "The Jupyter server will temporarily stop sending output\n",
      "to the client in order to avoid crashing it.\n",
      "To change this limit, set the config variable\n",
      "`--ServerApp.iopub_msg_rate_limit`.\n",
      "\n",
      "Current values:\n",
      "ServerApp.iopub_msg_rate_limit=1000.0 (msgs/sec)\n",
      "ServerApp.rate_limit_window=3.0 (secs)\n",
      "\n"
     ]
    },
    {
     "name": "stdout",
     "output_type": "stream",
     "text": [
      "[#################################                 ] 67% 67315/100537 - 69.29s - gaia-102-103.hdf55"
     ]
    },
    {
     "name": "stderr",
     "output_type": "stream",
     "text": [
      "IOPub message rate exceeded.\n",
      "The Jupyter server will temporarily stop sending output\n",
      "to the client in order to avoid crashing it.\n",
      "To change this limit, set the config variable\n",
      "`--ServerApp.iopub_msg_rate_limit`.\n",
      "\n",
      "Current values:\n",
      "ServerApp.iopub_msg_rate_limit=1000.0 (msgs/sec)\n",
      "ServerApp.rate_limit_window=3.0 (secs)\n",
      "\n"
     ]
    },
    {
     "name": "stdout",
     "output_type": "stream",
     "text": [
      "[##                                                ] 4% 4634/103557 - 5.092s - gaia-105-106.hdf5"
     ]
    },
    {
     "name": "stderr",
     "output_type": "stream",
     "text": [
      "IOPub message rate exceeded.\n",
      "The Jupyter server will temporarily stop sending output\n",
      "to the client in order to avoid crashing it.\n",
      "To change this limit, set the config variable\n",
      "`--ServerApp.iopub_msg_rate_limit`.\n",
      "\n",
      "Current values:\n",
      "ServerApp.iopub_msg_rate_limit=1000.0 (msgs/sec)\n",
      "ServerApp.rate_limit_window=3.0 (secs)\n",
      "\n"
     ]
    },
    {
     "name": "stdout",
     "output_type": "stream",
     "text": [
      "[######                                            ] 13% 13234/103557 - 13.774s - gaia-105-106.hdf5"
     ]
    },
    {
     "name": "stderr",
     "output_type": "stream",
     "text": [
      "IOPub message rate exceeded.\n",
      "The Jupyter server will temporarily stop sending output\n",
      "to the client in order to avoid crashing it.\n",
      "To change this limit, set the config variable\n",
      "`--ServerApp.iopub_msg_rate_limit`.\n",
      "\n",
      "Current values:\n",
      "ServerApp.iopub_msg_rate_limit=1000.0 (msgs/sec)\n",
      "ServerApp.rate_limit_window=3.0 (secs)\n",
      "\n"
     ]
    },
    {
     "name": "stdout",
     "output_type": "stream",
     "text": [
      "[##########                                        ] 21% 21934/103557 - 22.633s - gaia-105-106.hdf5"
     ]
    },
    {
     "name": "stderr",
     "output_type": "stream",
     "text": [
      "IOPub message rate exceeded.\n",
      "The Jupyter server will temporarily stop sending output\n",
      "to the client in order to avoid crashing it.\n",
      "To change this limit, set the config variable\n",
      "`--ServerApp.iopub_msg_rate_limit`.\n",
      "\n",
      "Current values:\n",
      "ServerApp.iopub_msg_rate_limit=1000.0 (msgs/sec)\n",
      "ServerApp.rate_limit_window=3.0 (secs)\n",
      "\n"
     ]
    },
    {
     "name": "stdout",
     "output_type": "stream",
     "text": [
      "[##############                                    ] 30% 30857/103557 - 30.931s - gaia-105-106.hdf5"
     ]
    },
    {
     "name": "stderr",
     "output_type": "stream",
     "text": [
      "IOPub message rate exceeded.\n",
      "The Jupyter server will temporarily stop sending output\n",
      "to the client in order to avoid crashing it.\n",
      "To change this limit, set the config variable\n",
      "`--ServerApp.iopub_msg_rate_limit`.\n",
      "\n",
      "Current values:\n",
      "ServerApp.iopub_msg_rate_limit=1000.0 (msgs/sec)\n",
      "ServerApp.rate_limit_window=3.0 (secs)\n",
      "\n"
     ]
    },
    {
     "name": "stdout",
     "output_type": "stream",
     "text": [
      "[##################                                ] 36% 37303/103557 - 36.889s - gaia-105-106.hdf5"
     ]
    },
    {
     "name": "stderr",
     "output_type": "stream",
     "text": [
      "IOPub message rate exceeded.\n",
      "The Jupyter server will temporarily stop sending output\n",
      "to the client in order to avoid crashing it.\n",
      "To change this limit, set the config variable\n",
      "`--ServerApp.iopub_msg_rate_limit`.\n",
      "\n",
      "Current values:\n",
      "ServerApp.iopub_msg_rate_limit=1000.0 (msgs/sec)\n",
      "ServerApp.rate_limit_window=3.0 (secs)\n",
      "\n"
     ]
    },
    {
     "name": "stdout",
     "output_type": "stream",
     "text": [
      "[###################                               ] 38% 39797/103557 - 39.128s - gaia-105-106.hdf5"
     ]
    },
    {
     "name": "stderr",
     "output_type": "stream",
     "text": [
      "IOPub message rate exceeded.\n",
      "The Jupyter server will temporarily stop sending output\n",
      "to the client in order to avoid crashing it.\n",
      "To change this limit, set the config variable\n",
      "`--ServerApp.iopub_msg_rate_limit`.\n",
      "\n",
      "Current values:\n",
      "ServerApp.iopub_msg_rate_limit=1000.0 (msgs/sec)\n",
      "ServerApp.rate_limit_window=3.0 (secs)\n",
      "\n"
     ]
    },
    {
     "name": "stdout",
     "output_type": "stream",
     "text": [
      "[######################                            ] 45% 46210/103557 - 44.836s - gaia-105-106.hdf5"
     ]
    },
    {
     "name": "stderr",
     "output_type": "stream",
     "text": [
      "IOPub message rate exceeded.\n",
      "The Jupyter server will temporarily stop sending output\n",
      "to the client in order to avoid crashing it.\n",
      "To change this limit, set the config variable\n",
      "`--ServerApp.iopub_msg_rate_limit`.\n",
      "\n",
      "Current values:\n",
      "ServerApp.iopub_msg_rate_limit=1000.0 (msgs/sec)\n",
      "ServerApp.rate_limit_window=3.0 (secs)\n",
      "\n"
     ]
    },
    {
     "name": "stdout",
     "output_type": "stream",
     "text": [
      "[#######################                           ] 47% 48789/103557 - 47.06s - gaia-105-106.hdf55"
     ]
    },
    {
     "name": "stderr",
     "output_type": "stream",
     "text": [
      "IOPub message rate exceeded.\n",
      "The Jupyter server will temporarily stop sending output\n",
      "to the client in order to avoid crashing it.\n",
      "To change this limit, set the config variable\n",
      "`--ServerApp.iopub_msg_rate_limit`.\n",
      "\n",
      "Current values:\n",
      "ServerApp.iopub_msg_rate_limit=1000.0 (msgs/sec)\n",
      "ServerApp.rate_limit_window=3.0 (secs)\n",
      "\n"
     ]
    },
    {
     "name": "stdout",
     "output_type": "stream",
     "text": [
      "[##########################                        ] 53% 55163/103557 - 52.816s - gaia-105-106.hdf5"
     ]
    },
    {
     "name": "stderr",
     "output_type": "stream",
     "text": [
      "IOPub message rate exceeded.\n",
      "The Jupyter server will temporarily stop sending output\n",
      "to the client in order to avoid crashing it.\n",
      "To change this limit, set the config variable\n",
      "`--ServerApp.iopub_msg_rate_limit`.\n",
      "\n",
      "Current values:\n",
      "ServerApp.iopub_msg_rate_limit=1000.0 (msgs/sec)\n",
      "ServerApp.rate_limit_window=3.0 (secs)\n",
      "\n"
     ]
    },
    {
     "name": "stdout",
     "output_type": "stream",
     "text": [
      "[###########################                       ] 56% 57609/103557 - 55.231s - gaia-105-106.hdf5"
     ]
    },
    {
     "name": "stderr",
     "output_type": "stream",
     "text": [
      "IOPub message rate exceeded.\n",
      "The Jupyter server will temporarily stop sending output\n",
      "to the client in order to avoid crashing it.\n",
      "To change this limit, set the config variable\n",
      "`--ServerApp.iopub_msg_rate_limit`.\n",
      "\n",
      "Current values:\n",
      "ServerApp.iopub_msg_rate_limit=1000.0 (msgs/sec)\n",
      "ServerApp.rate_limit_window=3.0 (secs)\n",
      "\n"
     ]
    },
    {
     "name": "stdout",
     "output_type": "stream",
     "text": [
      "[##############################                    ] 62% 64121/103557 - 61.963s - gaia-105-106.hdf5"
     ]
    },
    {
     "name": "stderr",
     "output_type": "stream",
     "text": [
      "IOPub message rate exceeded.\n",
      "The Jupyter server will temporarily stop sending output\n",
      "to the client in order to avoid crashing it.\n",
      "To change this limit, set the config variable\n",
      "`--ServerApp.iopub_msg_rate_limit`.\n",
      "\n",
      "Current values:\n",
      "ServerApp.iopub_msg_rate_limit=1000.0 (msgs/sec)\n",
      "ServerApp.rate_limit_window=3.0 (secs)\n",
      "\n"
     ]
    },
    {
     "name": "stdout",
     "output_type": "stream",
     "text": [
      "[################################                  ] 64% 66369/103557 - 64.23s - gaia-105-106.hdf55"
     ]
    },
    {
     "name": "stderr",
     "output_type": "stream",
     "text": [
      "IOPub message rate exceeded.\n",
      "The Jupyter server will temporarily stop sending output\n",
      "to the client in order to avoid crashing it.\n",
      "To change this limit, set the config variable\n",
      "`--ServerApp.iopub_msg_rate_limit`.\n",
      "\n",
      "Current values:\n",
      "ServerApp.iopub_msg_rate_limit=1000.0 (msgs/sec)\n",
      "ServerApp.rate_limit_window=3.0 (secs)\n",
      "\n"
     ]
    },
    {
     "name": "stdout",
     "output_type": "stream",
     "text": [
      "[###################################               ] 70% 72893/103557 - 71.285s - gaia-105-106.hdf5"
     ]
    },
    {
     "name": "stderr",
     "output_type": "stream",
     "text": [
      "IOPub message rate exceeded.\n",
      "The Jupyter server will temporarily stop sending output\n",
      "to the client in order to avoid crashing it.\n",
      "To change this limit, set the config variable\n",
      "`--ServerApp.iopub_msg_rate_limit`.\n",
      "\n",
      "Current values:\n",
      "ServerApp.iopub_msg_rate_limit=1000.0 (msgs/sec)\n",
      "ServerApp.rate_limit_window=3.0 (secs)\n",
      "\n"
     ]
    },
    {
     "name": "stdout",
     "output_type": "stream",
     "text": [
      "[####################################              ] 73% 75167/103557 - 73.766s - gaia-105-106.hdf5"
     ]
    },
    {
     "name": "stderr",
     "output_type": "stream",
     "text": [
      "IOPub message rate exceeded.\n",
      "The Jupyter server will temporarily stop sending output\n",
      "to the client in order to avoid crashing it.\n",
      "To change this limit, set the config variable\n",
      "`--ServerApp.iopub_msg_rate_limit`.\n",
      "\n",
      "Current values:\n",
      "ServerApp.iopub_msg_rate_limit=1000.0 (msgs/sec)\n",
      "ServerApp.rate_limit_window=3.0 (secs)\n",
      "\n"
     ]
    },
    {
     "name": "stdout",
     "output_type": "stream",
     "text": [
      "[########################################          ] 80% 82918/103557 - 82.522s - gaia-105-106.hdf5"
     ]
    },
    {
     "name": "stderr",
     "output_type": "stream",
     "text": [
      "IOPub message rate exceeded.\n",
      "The Jupyter server will temporarily stop sending output\n",
      "to the client in order to avoid crashing it.\n",
      "To change this limit, set the config variable\n",
      "`--ServerApp.iopub_msg_rate_limit`.\n",
      "\n",
      "Current values:\n",
      "ServerApp.iopub_msg_rate_limit=1000.0 (msgs/sec)\n",
      "ServerApp.rate_limit_window=3.0 (secs)\n",
      "\n"
     ]
    },
    {
     "name": "stdout",
     "output_type": "stream",
     "text": [
      "[###########################################       ] 87% 90161/103557 - 90.783s - gaia-105-106.hdf5"
     ]
    }
   ],
   "source": [
    "for file in files:\n",
    "    df_vaex = vaex.open(file)\n",
    "    rvs = []\n",
    "    teffs = []\n",
    "    loggs = []\n",
    "    mhs = []\n",
    "    alphafes = []\n",
    "    fems = []\n",
    "    fehs = []\n",
    "    t0 = time()\n",
    "    df = df_vaex.to_pandas_df()\n",
    "    for index, row in df.iterrows():\n",
    "        # rv\n",
    "        rv = extract_pars(rv_cols, row)\n",
    "        rv_best = select_best(rv)\n",
    "        rvs.append(rv_best)\n",
    "        # teff\n",
    "        teff = extract_pars(teff_cols, row)\n",
    "        teff_best = select_best(teff)\n",
    "        teffs.append(teff_best)\n",
    "        # logg\n",
    "        logg = extract_pars(logg_cols, row)\n",
    "        logg_best = select_best(logg)\n",
    "        loggs.append(logg_best)\n",
    "        # mh\n",
    "        mh = extract_pars(mh_cols, row)\n",
    "        mh_best = select_best(mh)\n",
    "        mhs.append(mh_best)\n",
    "        # alphafe\n",
    "        alphafe = extract_pars(alphafe_cols, row)\n",
    "        alphafe_best = select_best(alphafe)\n",
    "        alphafes.append(alphafe_best)\n",
    "        # fem\n",
    "        fem = extract_pars(fem_cols, row)\n",
    "        fem_best = select_best(fem)\n",
    "        fems.append(fem_best)\n",
    "        # feh\n",
    "        feh = extract_pars(feh_cols, row)\n",
    "        feh_best = select_best(feh)\n",
    "        fehs.append(feh_best)\n",
    "        t1 = time()\n",
    "        progressbar((index+1)/(len(df))*100, flush=True, info=f\"{index}/{len(df)} - {np.round(t1-t0, 3)}s - {file.split('/')[-1]}\")\n",
    "    df['rv'] = list(map(lambda x: x['value'], rvs))\n",
    "    df['e_rv'] = list(map(lambda x: x['error']['lower'], rvs))\n",
    "    df['rv_cat'] = list(map(lambda x: x['cat'], rvs))\n",
    "    # teff   \n",
    "    df['teff'] = list(map(lambda x: x['value'], teffs))\n",
    "    df['e_teff_lower'] = list(map(lambda x: x['error']['lower'], teffs))\n",
    "    df['e_teff_upper'] = list(map(lambda x: x['error']['upper'], teffs))\n",
    "    df['teff_symmetric'] = np.array(list(map(lambda x: x['symmetric'], teffs)))\n",
    "    df['teff_cat'] = list(map(lambda x: x['cat'], teffs))\n",
    "    # logg\n",
    "    df['logg'] = list(map(lambda x: x['value'], loggs))\n",
    "    df['e_logg_lower'] = list(map(lambda x: x['error']['lower'], loggs))\n",
    "    df['e_logg_upper'] = list(map(lambda x: x['error']['upper'], loggs))\n",
    "    df['logg_symmetric'] = np.array(list(map(lambda x: x['symmetric'], loggs)))\n",
    "    df['logg_cat'] = list(map(lambda x: x['cat'], loggs))\n",
    "    # mh\n",
    "    df['mh'] = list(map(lambda x: x['value'], mhs))\n",
    "    df['e_mh_lower'] = list(map(lambda x: x['error']['lower'], mhs))\n",
    "    df['e_mh_upper'] = list(map(lambda x: x['error']['upper'], mhs))\n",
    "    df['mh_symmetric'] = np.array(list(map(lambda x: x['symmetric'], mhs)))\n",
    "    df['mh_cat'] = list(map(lambda x: x['cat'], mhs))\n",
    "    # alphafe\n",
    "    df['alphafe'] = list(map(lambda x: x['value'], alphafes))\n",
    "    df['e_alphafe_lower'] = list(map(lambda x: x['error']['lower'], alphafes))\n",
    "    df['e_alphafe_upper'] = list(map(lambda x: x['error']['upper'], alphafes))\n",
    "    df['alphafe_symmetric'] = np.array(list(map(lambda x: x['symmetric'], alphafes)))\n",
    "    df['alphafe_cat'] = list(map(lambda x: x['cat'], alphafes))\n",
    "    # fem\n",
    "    df['fem'] = list(map(lambda x: x['value'], fems))\n",
    "    df['e_fem_lower'] = list(map(lambda x: x['error']['lower'], fems))\n",
    "    df['e_fem_upper'] = list(map(lambda x: x['error']['upper'], fems))\n",
    "    df['fem_symmetric'] = np.array(list(map(lambda x: x['symmetric'], fems)))\n",
    "    df['fem_cat'] = list(map(lambda x: x['cat'], fems))\n",
    "    # feh\n",
    "    df['feh'] = list(map(lambda x: x['value'], fems))\n",
    "    df['e_feh_lower'] = list(map(lambda x: x['error']['lower'], fehs))\n",
    "    df['e_feh_upper'] = list(map(lambda x: x['error']['upper'], fehs))\n",
    "    df['feh_symmetric'] = np.array(list(map(lambda x: x['symmetric'], fehs)))\n",
    "    df['feh_cat'] = list(map(lambda x: x['cat'], fehs))\n",
    "    df_vaex = vaex.from_pandas(df)\n",
    "    df_vaex = df_vaex.drop(remove_cols)\n",
    "    path = join(data_dir, file.split('/')[-1])\n",
    "    df_vaex.export_hdf5(path, progress=True)\n",
    "    print(f\"Saving {path}\")"
   ]
  },
  {
   "cell_type": "markdown",
   "metadata": {},
   "source": [
    "### Preview"
   ]
  },
  {
   "cell_type": "code",
   "execution_count": 7,
   "metadata": {
    "execution": {
     "iopub.execute_input": "2023-01-19T08:29:02.791222Z",
     "iopub.status.busy": "2023-01-19T08:29:02.790732Z",
     "iopub.status.idle": "2023-01-19T08:29:02.801071Z",
     "shell.execute_reply": "2023-01-19T08:29:02.800001Z",
     "shell.execute_reply.started": "2023-01-19T08:29:02.791176Z"
    },
    "tags": []
   },
   "outputs": [
    {
     "data": {
      "text/plain": [
       "(['/home2/s20321005/Thesis-Project/Data/Best-Pars/gaia-000-001.hdf5',\n",
       "  '/home2/s20321005/Thesis-Project/Data/Best-Pars/gaia-001-002.hdf5',\n",
       "  '/home2/s20321005/Thesis-Project/Data/Best-Pars/gaia-002-003.hdf5',\n",
       "  '/home2/s20321005/Thesis-Project/Data/Best-Pars/gaia-003-004.hdf5',\n",
       "  '/home2/s20321005/Thesis-Project/Data/Best-Pars/gaia-004-005.hdf5'],\n",
       " 360)"
      ]
     },
     "execution_count": 7,
     "metadata": {},
     "output_type": "execute_result"
    }
   ],
   "source": [
    "files = glob(join(data_dir, \"gaia-*.hdf5\"))\n",
    "files.sort()\n",
    "files[:5], len(files)"
   ]
  },
  {
   "cell_type": "code",
   "execution_count": 8,
   "metadata": {
    "execution": {
     "iopub.execute_input": "2023-01-19T08:29:06.784547Z",
     "iopub.status.busy": "2023-01-19T08:29:06.783941Z",
     "iopub.status.idle": "2023-01-19T08:29:22.859908Z",
     "shell.execute_reply": "2023-01-19T08:29:22.859203Z",
     "shell.execute_reply.started": "2023-01-19T08:29:06.784489Z"
    },
    "tags": []
   },
   "outputs": [
    {
     "data": {
      "text/html": [
       "<table>\n",
       "<thead>\n",
       "<tr><th>#                                     </th><th>ra        </th><th>dec       </th><th>Jmag  </th><th>Kmag  </th><th>ph_qual  </th><th>source_id          </th><th>pm       </th><th>pmra               </th><th>e_pmra     </th><th>pmdec              </th><th>e_pmdec     </th><th>parallax          </th><th>e_parallax  </th><th>gmag      </th><th>bpmag    </th><th>rpmag    </th><th>fb_over_err  </th><th>fr_over_err  </th><th>ruwe      </th><th>excess_factor  </th><th>GLON              </th><th>GLAT               </th><th>distance_gspphot  </th><th>distance_gspphot_lower  </th><th>distance_gspphot_upper  </th><th>ag_gspphot  </th><th>ag_gspphot_lower  </th><th>ag_gspphot_upper  </th><th>spectraltype_esphs  </th><th>subclass_lamost  </th><th>rv                 </th><th>e_rv              </th><th>rv_cat  </th><th>teff            </th><th>e_teff_lower   </th><th>e_teff_upper  </th><th>teff_symmetric  </th><th>teff_cat  </th><th>logg              </th><th>e_logg_lower        </th><th>e_logg_upper         </th><th>logg_symmetric  </th><th>logg_cat  </th><th>mh                  </th><th>e_mh_lower          </th><th>e_mh_upper          </th><th>mh_symmetric  </th><th>mh_cat  </th><th>alphafe             </th><th>e_alphafe_lower  </th><th>e_alphafe_upper     </th><th>alphafe_symmetric  </th><th>alphafe_cat  </th><th>fem                 </th><th>e_fem_lower        </th><th>e_fem_upper        </th><th>fem_symmetric  </th><th>fem_cat  </th><th>feh                 </th><th>e_feh_lower  </th><th>e_feh_upper  </th><th>feh_symmetric  </th><th>feh_cat  </th></tr>\n",
       "</thead>\n",
       "<tbody>\n",
       "<tr><td><i style='opacity: 0.6'>0</i>         </td><td>0.180498  </td><td>-89.243835</td><td>13.123</td><td>12.679</td><td>AAA      </td><td>4611967772579686144</td><td>18.71723 </td><td>17.611683049974353 </td><td>0.017649759</td><td>-6.337454890038764 </td><td>0.018100612 </td><td>1.553482146463873 </td><td>0.016450698 </td><td>14.506683 </td><td>14.941158</td><td>13.901936</td><td>927.3828     </td><td>1271.3264    </td><td>0.9241908 </td><td>1.2207495      </td><td>303.11950730746855</td><td>-27.865822360149586</td><td>586.5784          </td><td>580.6773                </td><td>592.7109                </td><td>0.4421      </td><td>0.4359            </td><td>0.4495            </td><td>G                   </td><td>--               </td><td>152.84475708007812 </td><td>4.919384002685547 </td><td>gaia    </td><td>5675.6103515625 </td><td>11.37353515625 </td><td>13.83251953125</td><td>0.0             </td><td>gspphot   </td><td>4.49429988861084  </td><td>0.006199836730957031</td><td>0.004800319671630859 </td><td>0.0             </td><td>gspphot   </td><td>-0.5550000071525574 </td><td>0.016799986362457275</td><td>0.01639997959136963 </td><td>0.0           </td><td>gspphot </td><td>nan                 </td><td>nan              </td><td>nan                 </td><td>nan                </td><td>--           </td><td>nan                 </td><td>nan                </td><td>nan                </td><td>nan            </td><td>--       </td><td>nan                 </td><td>nan          </td><td>nan          </td><td>nan            </td><td>--       </td></tr>\n",
       "<tr><td><i style='opacity: 0.6'>1</i>         </td><td>0.338177  </td><td>-89.481033</td><td>8.977 </td><td>8.038 </td><td>AAA      </td><td>4611761957746621312</td><td>9.622093 </td><td>7.609580877064016  </td><td>0.014360921</td><td>-5.888883602727228 </td><td>0.014550801 </td><td>0.8273958945757836</td><td>0.012673815 </td><td>11.280521 </td><td>12.197066</td><td>10.340994</td><td>1234.3052    </td><td>3648.0972    </td><td>1.0564011 </td><td>1.3118352      </td><td>303.05891462343493</td><td>-27.634759739425405</td><td>1171.7509         </td><td>1142.2043               </td><td>1543.0542               </td><td>0.8134      </td><td>0.6207            </td><td>0.8634            </td><td>K                   </td><td>--               </td><td>30.259687423706055 </td><td>0.167822003364563 </td><td>gaia    </td><td>4251.74755859375</td><td>142.98876953125</td><td>39.806640625  </td><td>0.0             </td><td>gspphot   </td><td>2.018699884414673 </td><td>0.2597998380661011  </td><td>0.024700164794921875 </td><td>0.0             </td><td>gspphot   </td><td>0.11720000207424164 </td><td>0.006000004708766937</td><td>0.002799995243549347</td><td>0.0           </td><td>gspphot </td><td>-0.05000000074505806</td><td>0.0              </td><td>0.010000001639127731</td><td>0.0                </td><td>gspspec      </td><td>-0.12999999523162842</td><td>0.09000000357627869</td><td>0.09999999590218067</td><td>0.0            </td><td>gspspec  </td><td>-0.12999999523162842</td><td>nan          </td><td>nan          </td><td>nan            </td><td>--       </td></tr>\n",
       "<tr><td><i style='opacity: 0.6'>2</i>         </td><td>0.392894  </td><td>-89.286575</td><td>12.769</td><td>12.33 </td><td>AAA      </td><td>4611779756091083008</td><td>6.9185767</td><td>4.89813965086399   </td><td>0.015574452</td><td>-4.88619823091078  </td><td>0.016693464 </td><td>1.4919122615226004</td><td>0.015075388 </td><td>14.183529 </td><td>14.626376</td><td>13.570565</td><td>865.9398     </td><td>1384.2283    </td><td>1.0637242 </td><td>1.222597       </td><td>303.10597686099044</td><td>-27.824720661451884</td><td>625.9152          </td><td>620.0596                </td><td>631.7136                </td><td>0.5141      </td><td>0.5109            </td><td>0.5172            </td><td>G                   </td><td>--               </td><td>8.28650951385498   </td><td>6.514820575714111 </td><td>gaia    </td><td>5750.4326171875 </td><td>5.1650390625   </td><td>4.8857421875  </td><td>0.0             </td><td>gspphot   </td><td>4.354100227355957 </td><td>0.006400108337402344</td><td>0.006499767303466797 </td><td>0.0             </td><td>gspphot   </td><td>-0.2969000041484833 </td><td>0.007499992847442627</td><td>0.006400018930435181</td><td>0.0           </td><td>gspphot </td><td>nan                 </td><td>nan              </td><td>nan                 </td><td>nan                </td><td>--           </td><td>nan                 </td><td>nan                </td><td>nan                </td><td>nan            </td><td>--       </td><td>nan                 </td><td>nan          </td><td>nan          </td><td>nan            </td><td>--       </td></tr>\n",
       "<tr><td><i style='opacity: 0.6'>3</i>         </td><td>0.491097  </td><td>-89.325348</td><td>13.285</td><td>12.922</td><td>AAA      </td><td>4611778656579457664</td><td>3.3354552</td><td>2.758184654146036  </td><td>0.01594744 </td><td>1.8755476312609647 </td><td>0.016303217 </td><td>0.9132976622425212</td><td>0.014618652 </td><td>14.359505 </td><td>14.703383</td><td>13.84331 </td><td>1021.3745    </td><td>1692.3877    </td><td>0.97578895</td><td>1.2055027      </td><td>303.09523730720935</td><td>-27.787137577515743</td><td>1043.2319         </td><td>1028.8033               </td><td>1058.513                </td><td>0.3813      </td><td>0.3771            </td><td>0.3856            </td><td>F                   </td><td>--               </td><td>-9.221250534057617 </td><td>6.796242713928223 </td><td>gaia    </td><td>6268.86279296875</td><td>7.986328125    </td><td>8.31982421875 </td><td>0.0             </td><td>gspphot   </td><td>4.254300117492676 </td><td>0.012599945068359375</td><td>0.012599945068359375 </td><td>1.0             </td><td>gspphot   </td><td>-0.36550000309944153</td><td>0.005600005388259888</td><td>0.005600005388259888</td><td>1.0           </td><td>gspphot </td><td>nan                 </td><td>nan              </td><td>nan                 </td><td>nan                </td><td>--           </td><td>nan                 </td><td>nan                </td><td>nan                </td><td>nan            </td><td>--       </td><td>nan                 </td><td>nan          </td><td>nan          </td><td>nan            </td><td>--       </td></tr>\n",
       "<tr><td><i style='opacity: 0.6'>4</i>         </td><td>0.140988  </td><td>-88.624542</td><td>12.574</td><td>12.226</td><td>AAA      </td><td>4612059856678435456</td><td>7.222961 </td><td>6.909171651019708  </td><td>0.014309556</td><td>-2.105828540221265 </td><td>0.0136996545</td><td>1.142868834794636 </td><td>0.012145737 </td><td>13.668672 </td><td>14.00575 </td><td>13.163239</td><td>1205.9458    </td><td>2095.7776    </td><td>1.0062797 </td><td>1.2021444      </td><td>303.27634091220216</td><td>-28.469529127008617</td><td>858.9404          </td><td>850.0156                </td><td>867.84                  </td><td>0.2999      </td><td>0.2937            </td><td>0.3065            </td><td>F                   </td><td>--               </td><td>33.83838653564453  </td><td>3.4127907752990723</td><td>gaia    </td><td>6146.64794921875</td><td>13.3173828125  </td><td>13.89794921875</td><td>0.0             </td><td>gspphot   </td><td>4.204100131988525 </td><td>0.007100105285644531</td><td>0.0067996978759765625</td><td>0.0             </td><td>gspphot   </td><td>-0.5670999884605408 </td><td>0.014299988746643066</td><td>0.01569998264312744 </td><td>0.0           </td><td>gspphot </td><td>nan                 </td><td>nan              </td><td>nan                 </td><td>nan                </td><td>--           </td><td>nan                 </td><td>nan                </td><td>nan                </td><td>nan            </td><td>--       </td><td>nan                 </td><td>nan          </td><td>nan          </td><td>nan            </td><td>--       </td></tr>\n",
       "<tr><td>...                                   </td><td>...       </td><td>...       </td><td>...   </td><td>...   </td><td>...      </td><td>...                </td><td>...      </td><td>...                </td><td>...        </td><td>...                </td><td>...         </td><td>...               </td><td>...         </td><td>...       </td><td>...      </td><td>...      </td><td>...          </td><td>...          </td><td>...       </td><td>...            </td><td>...               </td><td>...                </td><td>...               </td><td>...                     </td><td>...                     </td><td>...         </td><td>...               </td><td>...               </td><td>...                 </td><td>...              </td><td>...                </td><td>...               </td><td>...     </td><td>...             </td><td>...            </td><td>...           </td><td>...             </td><td>...       </td><td>...               </td><td>...                 </td><td>...                  </td><td>...             </td><td>...       </td><td>...                 </td><td>...                 </td><td>...                 </td><td>...           </td><td>...     </td><td>...                 </td><td>...              </td><td>...                 </td><td>...                </td><td>...          </td><td>...                 </td><td>...                </td><td>...                </td><td>...            </td><td>...      </td><td>...                 </td><td>...          </td><td>...          </td><td>...            </td><td>...      </td></tr>\n",
       "<tr><td><i style='opacity: 0.6'>29,127,326</i></td><td>359.121617</td><td>88.849464 </td><td>12.791</td><td>12.414</td><td>AAA      </td><td>2305490791832146432</td><td>4.029614 </td><td>-0.8951470378522143</td><td>0.01455365 </td><td>-3.9289311748326035</td><td>0.017279088 </td><td>0.5963603953551687</td><td>0.013008298 </td><td>14.046446 </td><td>14.441862</td><td>13.47968 </td><td>961.65857    </td><td>1206.7952    </td><td>0.97922367</td><td>1.2132953      </td><td>122.62790640386665</td><td>26.010265744280915 </td><td>1395.1606         </td><td>1381.1881               </td><td>1421.5767               </td><td>0.4194      </td><td>0.4067            </td><td>0.4284            </td><td>G                   </td><td>--               </td><td>-4.409039497375488 </td><td>3.751502752304077 </td><td>gaia    </td><td>5864.337890625  </td><td>25.02880859375 </td><td>16.6455078125 </td><td>0.0             </td><td>gspphot   </td><td>3.7739999294281006</td><td>0.018399953842163086</td><td>0.010499954223632812 </td><td>0.0             </td><td>gspphot   </td><td>-0.5562999844551086 </td><td>0.021600008010864258</td><td>0.010500013828277588</td><td>0.0           </td><td>gspphot </td><td>nan                 </td><td>nan              </td><td>nan                 </td><td>nan                </td><td>--           </td><td>nan                 </td><td>nan                </td><td>nan                </td><td>nan            </td><td>--       </td><td>nan                 </td><td>nan          </td><td>nan          </td><td>nan            </td><td>--       </td></tr>\n",
       "<tr><td><i style='opacity: 0.6'>29,127,327</i></td><td>359.476859</td><td>88.387932 </td><td>13.072</td><td>12.66 </td><td>AAA      </td><td>2304711581685346432</td><td>10.118564</td><td>9.746954357302645  </td><td>0.019540144</td><td>-2.71702261816708  </td><td>0.017309012 </td><td>1.192541824142351 </td><td>0.015409919 </td><td>14.306393 </td><td>14.693643</td><td>13.742041</td><td>970.5339     </td><td>1503.4253    </td><td>0.9179697 </td><td>1.2155246      </td><td>122.51842977553947</td><td>25.55932221031494  </td><td>821.5987          </td><td>810.9293                </td><td>831.7571                </td><td>0.2287      </td><td>0.2196            </td><td>0.2348            </td><td>G                   </td><td>--               </td><td>-78.52452850341797 </td><td>4.588349342346191 </td><td>gaia    </td><td>5545.29443359375</td><td>16.857421875   </td><td>11.61083984375</td><td>0.0             </td><td>gspphot   </td><td>4.261600017547607 </td><td>0.007599830627441406</td><td>0.00820016860961914  </td><td>0.0             </td><td>gspphot   </td><td>-1.2724000215530396 </td><td>0.025499939918518066</td><td>0.021600008010864258</td><td>0.0           </td><td>gspphot </td><td>nan                 </td><td>nan              </td><td>nan                 </td><td>nan                </td><td>--           </td><td>nan                 </td><td>nan                </td><td>nan                </td><td>nan            </td><td>--       </td><td>nan                 </td><td>nan          </td><td>nan          </td><td>nan            </td><td>--       </td></tr>\n",
       "<tr><td><i style='opacity: 0.6'>29,127,328</i></td><td>359.704935</td><td>88.155998 </td><td>12.469</td><td>11.92 </td><td>AAA      </td><td>2304646710499313408</td><td>24.277977</td><td>24.276081384949727 </td><td>0.017281681</td><td>-0.3033332281423549</td><td>0.016044414 </td><td>2.635903040983505 </td><td>0.014043435 </td><td>14.1010895</td><td>14.674556</td><td>13.384232</td><td>492.22974    </td><td>828.08514    </td><td>1.0255395 </td><td>1.242264       </td><td>122.46781764928367</td><td>25.33183850890207  </td><td>376.3951          </td><td>374.2648                </td><td>378.8235                </td><td>0.3689      </td><td>0.3606            </td><td>0.3786            </td><td>K                   </td><td>--               </td><td>-8.928035736083984 </td><td>2.753666400909424 </td><td>gaia    </td><td>4983.408203125  </td><td>13.6767578125  </td><td>17.49560546875</td><td>0.0             </td><td>gspphot   </td><td>4.507900238037109 </td><td>0.004500389099121094</td><td>0.004599571228027344 </td><td>0.0             </td><td>gspphot   </td><td>-0.16740000247955322</td><td>0.012299999594688416</td><td>0.013999998569488525</td><td>0.0           </td><td>gspphot </td><td>nan                 </td><td>nan              </td><td>nan                 </td><td>nan                </td><td>--           </td><td>nan                 </td><td>nan                </td><td>nan                </td><td>nan            </td><td>--       </td><td>nan                 </td><td>nan          </td><td>nan          </td><td>nan            </td><td>--       </td></tr>\n",
       "<tr><td><i style='opacity: 0.6'>29,127,329</i></td><td>359.799848</td><td>88.985268 </td><td>12.976</td><td>12.268</td><td>AAA      </td><td>2305539513941136000</td><td>10.311739</td><td>-1.1558347554809572</td><td>0.024979863</td><td>10.246756138155417 </td><td>0.023094444 </td><td>2.8844735007745492</td><td>0.021700282 </td><td>14.886021 </td><td>15.63941 </td><td>14.045272</td><td>331.04794    </td><td>406.31857    </td><td>0.95431924</td><td>1.275423       </td><td>122.67651932514369</td><td>26.139580203151045 </td><td>349.319           </td><td>343.586                 </td><td>353.6755                </td><td>0.409       </td><td>0.4002            </td><td>0.4162            </td><td>K                   </td><td>--               </td><td>-27.380125045776367</td><td>9.952363967895508 </td><td>gaia    </td><td>4487.59130859375</td><td>6.55322265625  </td><td>6.748046875   </td><td>0.0             </td><td>gspphot   </td><td>4.625199794769287 </td><td>0.009899616241455078</td><td>0.014400005340576172 </td><td>0.0             </td><td>gspphot   </td><td>0.48969998955726624 </td><td>0.01850000023841858 </td><td>0.007600009441375732</td><td>0.0           </td><td>gspphot </td><td>nan                 </td><td>nan              </td><td>nan                 </td><td>nan                </td><td>--           </td><td>nan                 </td><td>nan                </td><td>nan                </td><td>nan            </td><td>--       </td><td>nan                 </td><td>nan          </td><td>nan          </td><td>nan            </td><td>--       </td></tr>\n",
       "<tr><td><i style='opacity: 0.6'>29,127,330</i></td><td>359.909394</td><td>88.295273 </td><td>13.087</td><td>12.508</td><td>AAA      </td><td>2304698318826339328</td><td>19.401451</td><td>18.986569146748128 </td><td>0.021996977</td><td>3.990799827264129  </td><td>0.020262878 </td><td>0.6766671974315497</td><td>0.017869946 </td><td>14.728175 </td><td>15.290057</td><td>14.016491</td><td>662.813      </td><td>1084.6163    </td><td>0.9303231 </td><td>1.2429787      </td><td>122.50893317096917</td><td>25.46627153250137  </td><td>1211.0175         </td><td>1188.0756               </td><td>1242.256                </td><td>0.6851      </td><td>0.6751            </td><td>0.6994            </td><td>K                   </td><td>--               </td><td>-0.3641735315322876</td><td>8.3587646484375   </td><td>gaia    </td><td>5366.36328125   </td><td>16.30517578125 </td><td>26.08251953125</td><td>0.0             </td><td>gspphot   </td><td>4.070799827575684 </td><td>0.008699893951416016</td><td>0.006700038909912109 </td><td>0.0             </td><td>gspphot   </td><td>-0.23350000381469727</td><td>0.02369999885559082 </td><td>0.025700002908706665</td><td>0.0           </td><td>gspphot </td><td>nan                 </td><td>nan              </td><td>nan                 </td><td>nan                </td><td>--           </td><td>nan                 </td><td>nan                </td><td>nan                </td><td>nan            </td><td>--       </td><td>nan                 </td><td>nan          </td><td>nan          </td><td>nan            </td><td>--       </td></tr>\n",
       "</tbody>\n",
       "</table>"
      ],
      "text/plain": [
       "#           ra          dec         Jmag    Kmag    ph_qual    source_id            pm         pmra                 e_pmra       pmdec                e_pmdec       parallax            e_parallax    gmag        bpmag      rpmag      fb_over_err    fr_over_err    ruwe        excess_factor    GLON                GLAT                 distance_gspphot    distance_gspphot_lower    distance_gspphot_upper    ag_gspphot    ag_gspphot_lower    ag_gspphot_upper    spectraltype_esphs    subclass_lamost    rv                   e_rv                rv_cat    teff              e_teff_lower     e_teff_upper    teff_symmetric    teff_cat    logg                e_logg_lower          e_logg_upper           logg_symmetric    logg_cat    mh                    e_mh_lower            e_mh_upper            mh_symmetric    mh_cat    alphafe               e_alphafe_lower    e_alphafe_upper       alphafe_symmetric    alphafe_cat    fem                   e_fem_lower          e_fem_upper          fem_symmetric    fem_cat    feh                   e_feh_lower    e_feh_upper    feh_symmetric    feh_cat\n",
       "0           0.180498    -89.243835  13.123  12.679  AAA        4611967772579686144  18.71723   17.611683049974353   0.017649759  -6.337454890038764   0.018100612   1.553482146463873   0.016450698   14.506683   14.941158  13.901936  927.3828       1271.3264      0.9241908   1.2207495        303.11950730746855  -27.865822360149586  586.5784            580.6773                  592.7109                  0.4421        0.4359              0.4495              G                     --                 152.84475708007812   4.919384002685547   gaia      5675.6103515625   11.37353515625   13.83251953125  0.0               gspphot     4.49429988861084    0.006199836730957031  0.004800319671630859   0.0               gspphot     -0.5550000071525574   0.016799986362457275  0.01639997959136963   0.0             gspphot   nan                   nan                nan                   nan                  --             nan                   nan                  nan                  nan              --         nan                   nan            nan            nan              --\n",
       "1           0.338177    -89.481033  8.977   8.038   AAA        4611761957746621312  9.622093   7.609580877064016    0.014360921  -5.888883602727228   0.014550801   0.8273958945757836  0.012673815   11.280521   12.197066  10.340994  1234.3052      3648.0972      1.0564011   1.3118352        303.05891462343493  -27.634759739425405  1171.7509           1142.2043                 1543.0542                 0.8134        0.6207              0.8634              K                     --                 30.259687423706055   0.167822003364563   gaia      4251.74755859375  142.98876953125  39.806640625    0.0               gspphot     2.018699884414673   0.2597998380661011    0.024700164794921875   0.0               gspphot     0.11720000207424164   0.006000004708766937  0.002799995243549347  0.0             gspphot   -0.05000000074505806  0.0                0.010000001639127731  0.0                  gspspec        -0.12999999523162842  0.09000000357627869  0.09999999590218067  0.0              gspspec    -0.12999999523162842  nan            nan            nan              --\n",
       "2           0.392894    -89.286575  12.769  12.33   AAA        4611779756091083008  6.9185767  4.89813965086399     0.015574452  -4.88619823091078    0.016693464   1.4919122615226004  0.015075388   14.183529   14.626376  13.570565  865.9398       1384.2283      1.0637242   1.222597         303.10597686099044  -27.824720661451884  625.9152            620.0596                  631.7136                  0.5141        0.5109              0.5172              G                     --                 8.28650951385498     6.514820575714111   gaia      5750.4326171875   5.1650390625     4.8857421875    0.0               gspphot     4.354100227355957   0.006400108337402344  0.006499767303466797   0.0               gspphot     -0.2969000041484833   0.007499992847442627  0.006400018930435181  0.0             gspphot   nan                   nan                nan                   nan                  --             nan                   nan                  nan                  nan              --         nan                   nan            nan            nan              --\n",
       "3           0.491097    -89.325348  13.285  12.922  AAA        4611778656579457664  3.3354552  2.758184654146036    0.01594744   1.8755476312609647   0.016303217   0.9132976622425212  0.014618652   14.359505   14.703383  13.84331   1021.3745      1692.3877      0.97578895  1.2055027        303.09523730720935  -27.787137577515743  1043.2319           1028.8033                 1058.513                  0.3813        0.3771              0.3856              F                     --                 -9.221250534057617   6.796242713928223   gaia      6268.86279296875  7.986328125      8.31982421875   0.0               gspphot     4.254300117492676   0.012599945068359375  0.012599945068359375   1.0               gspphot     -0.36550000309944153  0.005600005388259888  0.005600005388259888  1.0             gspphot   nan                   nan                nan                   nan                  --             nan                   nan                  nan                  nan              --         nan                   nan            nan            nan              --\n",
       "4           0.140988    -88.624542  12.574  12.226  AAA        4612059856678435456  7.222961   6.909171651019708    0.014309556  -2.105828540221265   0.0136996545  1.142868834794636   0.012145737   13.668672   14.00575   13.163239  1205.9458      2095.7776      1.0062797   1.2021444        303.27634091220216  -28.469529127008617  858.9404            850.0156                  867.84                    0.2999        0.2937              0.3065              F                     --                 33.83838653564453    3.4127907752990723  gaia      6146.64794921875  13.3173828125    13.89794921875  0.0               gspphot     4.204100131988525   0.007100105285644531  0.0067996978759765625  0.0               gspphot     -0.5670999884605408   0.014299988746643066  0.01569998264312744   0.0             gspphot   nan                   nan                nan                   nan                  --             nan                   nan                  nan                  nan              --         nan                   nan            nan            nan              --\n",
       "...         ...         ...         ...     ...     ...        ...                  ...        ...                  ...          ...                  ...           ...                 ...           ...         ...        ...        ...            ...            ...         ...              ...                 ...                  ...                 ...                       ...                       ...           ...                 ...                 ...                   ...                ...                  ...                 ...       ...               ...              ...             ...               ...         ...                 ...                   ...                    ...               ...         ...                   ...                   ...                   ...             ...       ...                   ...                ...                   ...                  ...            ...                   ...                  ...                  ...              ...        ...                   ...            ...            ...              ...\n",
       "29,127,326  359.121617  88.849464   12.791  12.414  AAA        2305490791832146432  4.029614   -0.8951470378522143  0.01455365   -3.9289311748326035  0.017279088   0.5963603953551687  0.013008298   14.046446   14.441862  13.47968   961.65857      1206.7952      0.97922367  1.2132953        122.62790640386665  26.010265744280915   1395.1606           1381.1881                 1421.5767                 0.4194        0.4067              0.4284              G                     --                 -4.409039497375488   3.751502752304077   gaia      5864.337890625    25.02880859375   16.6455078125   0.0               gspphot     3.7739999294281006  0.018399953842163086  0.010499954223632812   0.0               gspphot     -0.5562999844551086   0.021600008010864258  0.010500013828277588  0.0             gspphot   nan                   nan                nan                   nan                  --             nan                   nan                  nan                  nan              --         nan                   nan            nan            nan              --\n",
       "29,127,327  359.476859  88.387932   13.072  12.66   AAA        2304711581685346432  10.118564  9.746954357302645    0.019540144  -2.71702261816708    0.017309012   1.192541824142351   0.015409919   14.306393   14.693643  13.742041  970.5339       1503.4253      0.9179697   1.2155246        122.51842977553947  25.55932221031494    821.5987            810.9293                  831.7571                  0.2287        0.2196              0.2348              G                     --                 -78.52452850341797   4.588349342346191   gaia      5545.29443359375  16.857421875     11.61083984375  0.0               gspphot     4.261600017547607   0.007599830627441406  0.00820016860961914    0.0               gspphot     -1.2724000215530396   0.025499939918518066  0.021600008010864258  0.0             gspphot   nan                   nan                nan                   nan                  --             nan                   nan                  nan                  nan              --         nan                   nan            nan            nan              --\n",
       "29,127,328  359.704935  88.155998   12.469  11.92   AAA        2304646710499313408  24.277977  24.276081384949727   0.017281681  -0.3033332281423549  0.016044414   2.635903040983505   0.014043435   14.1010895  14.674556  13.384232  492.22974      828.08514      1.0255395   1.242264         122.46781764928367  25.33183850890207    376.3951            374.2648                  378.8235                  0.3689        0.3606              0.3786              K                     --                 -8.928035736083984   2.753666400909424   gaia      4983.408203125    13.6767578125    17.49560546875  0.0               gspphot     4.507900238037109   0.004500389099121094  0.004599571228027344   0.0               gspphot     -0.16740000247955322  0.012299999594688416  0.013999998569488525  0.0             gspphot   nan                   nan                nan                   nan                  --             nan                   nan                  nan                  nan              --         nan                   nan            nan            nan              --\n",
       "29,127,329  359.799848  88.985268   12.976  12.268  AAA        2305539513941136000  10.311739  -1.1558347554809572  0.024979863  10.246756138155417   0.023094444   2.8844735007745492  0.021700282   14.886021   15.63941   14.045272  331.04794      406.31857      0.95431924  1.275423         122.67651932514369  26.139580203151045   349.319             343.586                   353.6755                  0.409         0.4002              0.4162              K                     --                 -27.380125045776367  9.952363967895508   gaia      4487.59130859375  6.55322265625    6.748046875     0.0               gspphot     4.625199794769287   0.009899616241455078  0.014400005340576172   0.0               gspphot     0.48969998955726624   0.01850000023841858   0.007600009441375732  0.0             gspphot   nan                   nan                nan                   nan                  --             nan                   nan                  nan                  nan              --         nan                   nan            nan            nan              --\n",
       "29,127,330  359.909394  88.295273   13.087  12.508  AAA        2304698318826339328  19.401451  18.986569146748128   0.021996977  3.990799827264129    0.020262878   0.6766671974315497  0.017869946   14.728175   15.290057  14.016491  662.813        1084.6163      0.9303231   1.2429787        122.50893317096917  25.46627153250137    1211.0175           1188.0756                 1242.256                  0.6851        0.6751              0.6994              K                     --                 -0.3641735315322876  8.3587646484375     gaia      5366.36328125     16.30517578125   26.08251953125  0.0               gspphot     4.070799827575684   0.008699893951416016  0.006700038909912109   0.0               gspphot     -0.23350000381469727  0.02369999885559082   0.025700002908706665  0.0             gspphot   nan                   nan                nan                   nan                  --             nan                   nan                  nan                  nan              --         nan                   nan            nan            nan              --"
      ]
     },
     "execution_count": 8,
     "metadata": {},
     "output_type": "execute_result"
    }
   ],
   "source": [
    "gaia = vaex.open_many(files)\n",
    "gaia"
   ]
  },
  {
   "cell_type": "markdown",
   "metadata": {},
   "source": [
    "#### rv"
   ]
  },
  {
   "cell_type": "code",
   "execution_count": 9,
   "metadata": {
    "execution": {
     "iopub.execute_input": "2023-01-19T08:31:58.480789Z",
     "iopub.status.busy": "2023-01-19T08:31:58.480182Z",
     "iopub.status.idle": "2023-01-19T08:32:00.776417Z",
     "shell.execute_reply": "2023-01-19T08:32:00.775736Z",
     "shell.execute_reply.started": "2023-01-19T08:31:58.480730Z"
    },
    "tags": []
   },
   "outputs": [
    {
     "data": {
      "text/html": [
       "<div>\n",
       "<style scoped>\n",
       "    .dataframe tbody tr th:only-of-type {\n",
       "        vertical-align: middle;\n",
       "    }\n",
       "\n",
       "    .dataframe tbody tr th {\n",
       "        vertical-align: top;\n",
       "    }\n",
       "\n",
       "    .dataframe thead th {\n",
       "        text-align: right;\n",
       "    }\n",
       "</style>\n",
       "<table border=\"1\" class=\"dataframe\">\n",
       "  <thead>\n",
       "    <tr style=\"text-align: right;\">\n",
       "      <th></th>\n",
       "      <th>rv_cat</th>\n",
       "      <th>count</th>\n",
       "    </tr>\n",
       "  </thead>\n",
       "  <tbody>\n",
       "    <tr>\n",
       "      <th>2</th>\n",
       "      <td>apogee</td>\n",
       "      <td>318920</td>\n",
       "    </tr>\n",
       "    <tr>\n",
       "      <th>5</th>\n",
       "      <td>gaia</td>\n",
       "      <td>22948443</td>\n",
       "    </tr>\n",
       "    <tr>\n",
       "      <th>1</th>\n",
       "      <td>galah</td>\n",
       "      <td>345960</td>\n",
       "    </tr>\n",
       "    <tr>\n",
       "      <th>4</th>\n",
       "      <td>lamost</td>\n",
       "      <td>448389</td>\n",
       "    </tr>\n",
       "    <tr>\n",
       "      <th>3</th>\n",
       "      <td>rave</td>\n",
       "      <td>32772</td>\n",
       "    </tr>\n",
       "    <tr>\n",
       "      <th>0</th>\n",
       "      <td>None</td>\n",
       "      <td>5032847</td>\n",
       "    </tr>\n",
       "  </tbody>\n",
       "</table>\n",
       "</div>"
      ],
      "text/plain": [
       "   rv_cat     count\n",
       "2  apogee    318920\n",
       "5    gaia  22948443\n",
       "1   galah    345960\n",
       "4  lamost    448389\n",
       "3    rave     32772\n",
       "0    None   5032847"
      ]
     },
     "execution_count": 9,
     "metadata": {},
     "output_type": "execute_result"
    }
   ],
   "source": [
    "df_rv_nan = gaia[gaia.rv.isnan()]\n",
    "none = len(df_rv_nan)\n",
    "\n",
    "df_rv = gaia.groupby('rv_cat', agg={'count': vaex.agg.count('rv_cat')})\n",
    "df_rv = df_rv.to_pandas_df()\n",
    "df_rv.at[0, 'count'] = none\n",
    "df_rv.sort_values(by='rv_cat', ascending=True, inplace=True)\n",
    "df_rv"
   ]
  },
  {
   "cell_type": "code",
   "execution_count": 10,
   "metadata": {
    "execution": {
     "iopub.execute_input": "2023-01-19T08:32:45.938182Z",
     "iopub.status.busy": "2023-01-19T08:32:45.937574Z",
     "iopub.status.idle": "2023-01-19T08:32:46.631689Z",
     "shell.execute_reply": "2023-01-19T08:32:46.630981Z",
     "shell.execute_reply.started": "2023-01-19T08:32:45.938124Z"
    },
    "tags": []
   },
   "outputs": [
    {
     "data": {
      "image/png": "[encoded data removed]",
      "text/plain": [
       "<Figure size 720x432 with 1 Axes>"
      ]
     },
     "metadata": {
      "needs_background": "light"
     },
     "output_type": "display_data"
    }
   ],
   "source": [
    "x = df_rv['rv_cat'].values.astype(str)\n",
    "y = df_rv['count'].values\n",
    "\n",
    "fig, ax = plt.subplots(figsize=(10, 6))\n",
    "ax.bar(x, y)\n",
    "ax.set_ylabel('count')\n",
    "ax.set_yscale('log')\n",
    "ax.set_title('RV categories')\n",
    "ax.yaxis.grid(True)\n",
    "plt.show()"
   ]
  },
  {
   "cell_type": "markdown",
   "metadata": {},
   "source": [
    "#### teff"
   ]
  },
  {
   "cell_type": "code",
   "execution_count": 11,
   "metadata": {
    "execution": {
     "iopub.execute_input": "2023-01-19T08:33:16.798319Z",
     "iopub.status.busy": "2023-01-19T08:33:16.797714Z",
     "iopub.status.idle": "2023-01-19T08:33:19.039786Z",
     "shell.execute_reply": "2023-01-19T08:33:19.039199Z",
     "shell.execute_reply.started": "2023-01-19T08:33:16.798260Z"
    },
    "tags": []
   },
   "outputs": [
    {
     "data": {
      "text/html": [
       "<div>\n",
       "<style scoped>\n",
       "    .dataframe tbody tr th:only-of-type {\n",
       "        vertical-align: middle;\n",
       "    }\n",
       "\n",
       "    .dataframe tbody tr th {\n",
       "        vertical-align: top;\n",
       "    }\n",
       "\n",
       "    .dataframe thead th {\n",
       "        text-align: right;\n",
       "    }\n",
       "</style>\n",
       "<table border=\"1\" class=\"dataframe\">\n",
       "  <thead>\n",
       "    <tr style=\"text-align: right;\">\n",
       "      <th></th>\n",
       "      <th>teff_cat</th>\n",
       "      <th>count</th>\n",
       "    </tr>\n",
       "  </thead>\n",
       "  <tbody>\n",
       "    <tr>\n",
       "      <th>2</th>\n",
       "      <td>apogee</td>\n",
       "      <td>200347</td>\n",
       "    </tr>\n",
       "    <tr>\n",
       "      <th>1</th>\n",
       "      <td>galah</td>\n",
       "      <td>101845</td>\n",
       "    </tr>\n",
       "    <tr>\n",
       "      <th>3</th>\n",
       "      <td>gspphot</td>\n",
       "      <td>22476372</td>\n",
       "    </tr>\n",
       "    <tr>\n",
       "      <th>5</th>\n",
       "      <td>lamost</td>\n",
       "      <td>473520</td>\n",
       "    </tr>\n",
       "    <tr>\n",
       "      <th>4</th>\n",
       "      <td>rave</td>\n",
       "      <td>129947</td>\n",
       "    </tr>\n",
       "    <tr>\n",
       "      <th>0</th>\n",
       "      <td>None</td>\n",
       "      <td>5745300</td>\n",
       "    </tr>\n",
       "  </tbody>\n",
       "</table>\n",
       "</div>"
      ],
      "text/plain": [
       "  teff_cat     count\n",
       "2   apogee    200347\n",
       "1    galah    101845\n",
       "3  gspphot  22476372\n",
       "5   lamost    473520\n",
       "4     rave    129947\n",
       "0     None   5745300"
      ]
     },
     "execution_count": 11,
     "metadata": {},
     "output_type": "execute_result"
    }
   ],
   "source": [
    "df_teff_nan = gaia[gaia.teff.isnan()]\n",
    "none = len(df_teff_nan)\n",
    "\n",
    "df_teff = gaia.groupby('teff_cat', agg={'count': vaex.agg.count('teff_cat')})\n",
    "df_teff = df_teff.to_pandas_df()\n",
    "df_teff.at[0, 'count'] = none\n",
    "df_teff.sort_values(by='teff_cat', ascending=True, inplace=True)\n",
    "df_teff"
   ]
  },
  {
   "cell_type": "code",
   "execution_count": 12,
   "metadata": {
    "execution": {
     "iopub.execute_input": "2023-01-19T08:33:20.425502Z",
     "iopub.status.busy": "2023-01-19T08:33:20.424898Z",
     "iopub.status.idle": "2023-01-19T08:33:20.702664Z",
     "shell.execute_reply": "2023-01-19T08:33:20.702076Z",
     "shell.execute_reply.started": "2023-01-19T08:33:20.425444Z"
    },
    "tags": []
   },
   "outputs": [
    {
     "data": {
      "image/png": "[encoded data removed]",
      "text/plain": [
       "<Figure size 720x432 with 1 Axes>"
      ]
     },
     "metadata": {
      "needs_background": "light"
     },
     "output_type": "display_data"
    }
   ],
   "source": [
    "x = df_teff['teff_cat'].values.astype(str)\n",
    "y = df_teff['count'].values\n",
    "\n",
    "fig, ax = plt.subplots(figsize=(10, 6))\n",
    "ax.bar(x, y)\n",
    "ax.set_ylabel('count')\n",
    "ax.set_yscale('log')\n",
    "ax.set_title('Teff categories')\n",
    "ax.yaxis.grid(True)\n",
    "plt.show()"
   ]
  },
  {
   "cell_type": "markdown",
   "metadata": {},
   "source": [
    "#### logg"
   ]
  },
  {
   "cell_type": "code",
   "execution_count": 13,
   "metadata": {
    "execution": {
     "iopub.execute_input": "2023-01-19T08:33:24.749529Z",
     "iopub.status.busy": "2023-01-19T08:33:24.748913Z",
     "iopub.status.idle": "2023-01-19T08:33:26.914544Z",
     "shell.execute_reply": "2023-01-19T08:33:26.913978Z",
     "shell.execute_reply.started": "2023-01-19T08:33:24.749471Z"
    },
    "tags": []
   },
   "outputs": [
    {
     "data": {
      "text/html": [
       "<div>\n",
       "<style scoped>\n",
       "    .dataframe tbody tr th:only-of-type {\n",
       "        vertical-align: middle;\n",
       "    }\n",
       "\n",
       "    .dataframe tbody tr th {\n",
       "        vertical-align: top;\n",
       "    }\n",
       "\n",
       "    .dataframe thead th {\n",
       "        text-align: right;\n",
       "    }\n",
       "</style>\n",
       "<table border=\"1\" class=\"dataframe\">\n",
       "  <thead>\n",
       "    <tr style=\"text-align: right;\">\n",
       "      <th></th>\n",
       "      <th>logg_cat</th>\n",
       "      <th>count</th>\n",
       "    </tr>\n",
       "  </thead>\n",
       "  <tbody>\n",
       "    <tr>\n",
       "      <th>2</th>\n",
       "      <td>apogee</td>\n",
       "      <td>180381</td>\n",
       "    </tr>\n",
       "    <tr>\n",
       "      <th>1</th>\n",
       "      <td>galah</td>\n",
       "      <td>103126</td>\n",
       "    </tr>\n",
       "    <tr>\n",
       "      <th>3</th>\n",
       "      <td>gspphot</td>\n",
       "      <td>22611281</td>\n",
       "    </tr>\n",
       "    <tr>\n",
       "      <th>5</th>\n",
       "      <td>lamost</td>\n",
       "      <td>357287</td>\n",
       "    </tr>\n",
       "    <tr>\n",
       "      <th>4</th>\n",
       "      <td>rave</td>\n",
       "      <td>129947</td>\n",
       "    </tr>\n",
       "    <tr>\n",
       "      <th>0</th>\n",
       "      <td>None</td>\n",
       "      <td>5745309</td>\n",
       "    </tr>\n",
       "  </tbody>\n",
       "</table>\n",
       "</div>"
      ],
      "text/plain": [
       "  logg_cat     count\n",
       "2   apogee    180381\n",
       "1    galah    103126\n",
       "3  gspphot  22611281\n",
       "5   lamost    357287\n",
       "4     rave    129947\n",
       "0     None   5745309"
      ]
     },
     "execution_count": 13,
     "metadata": {},
     "output_type": "execute_result"
    }
   ],
   "source": [
    "df_logg_nan = gaia[gaia.logg.isnan()]\n",
    "none = len(df_logg_nan)\n",
    "\n",
    "df_logg = gaia.groupby('logg_cat', agg={'count': vaex.agg.count('logg_cat')})\n",
    "df_logg = df_logg.to_pandas_df()\n",
    "df_logg.at[0, 'count'] = none\n",
    "df_logg.sort_values(by='logg_cat', ascending=True, inplace=True)\n",
    "df_logg"
   ]
  },
  {
   "cell_type": "code",
   "execution_count": 14,
   "metadata": {
    "execution": {
     "iopub.execute_input": "2023-01-19T08:33:27.799875Z",
     "iopub.status.busy": "2023-01-19T08:33:27.799425Z",
     "iopub.status.idle": "2023-01-19T08:33:28.071306Z",
     "shell.execute_reply": "2023-01-19T08:33:28.070623Z",
     "shell.execute_reply.started": "2023-01-19T08:33:27.799832Z"
    },
    "tags": []
   },
   "outputs": [
    {
     "data": {
      "image/png": "[encoded data removed]",
      "text/plain": [
       "<Figure size 720x432 with 1 Axes>"
      ]
     },
     "metadata": {
      "needs_background": "light"
     },
     "output_type": "display_data"
    }
   ],
   "source": [
    "x = df_logg['logg_cat'].values.astype(str)\n",
    "y = df_logg['count'].values\n",
    "\n",
    "fig, ax = plt.subplots(figsize=(10, 6))\n",
    "ax.bar(x, y)\n",
    "ax.set_ylabel('count')\n",
    "ax.set_yscale('log')\n",
    "ax.set_title('logg categories')\n",
    "ax.yaxis.grid(True)\n",
    "plt.show()"
   ]
  },
  {
   "cell_type": "markdown",
   "metadata": {},
   "source": [
    "#### feh"
   ]
  },
  {
   "cell_type": "code",
   "execution_count": 15,
   "metadata": {
    "execution": {
     "iopub.execute_input": "2023-01-19T08:33:33.637059Z",
     "iopub.status.busy": "2023-01-19T08:33:33.636534Z",
     "iopub.status.idle": "2023-01-19T08:33:34.168025Z",
     "shell.execute_reply": "2023-01-19T08:33:34.167360Z",
     "shell.execute_reply.started": "2023-01-19T08:33:33.637008Z"
    },
    "tags": []
   },
   "outputs": [
    {
     "data": {
      "text/html": [
       "<div>\n",
       "<style scoped>\n",
       "    .dataframe tbody tr th:only-of-type {\n",
       "        vertical-align: middle;\n",
       "    }\n",
       "\n",
       "    .dataframe tbody tr th {\n",
       "        vertical-align: top;\n",
       "    }\n",
       "\n",
       "    .dataframe thead th {\n",
       "        text-align: right;\n",
       "    }\n",
       "</style>\n",
       "<table border=\"1\" class=\"dataframe\">\n",
       "  <thead>\n",
       "    <tr style=\"text-align: right;\">\n",
       "      <th></th>\n",
       "      <th>feh_cat</th>\n",
       "      <th>count</th>\n",
       "    </tr>\n",
       "  </thead>\n",
       "  <tbody>\n",
       "    <tr>\n",
       "      <th>2</th>\n",
       "      <td>apogee</td>\n",
       "      <td>370879</td>\n",
       "    </tr>\n",
       "    <tr>\n",
       "      <th>1</th>\n",
       "      <td>galah</td>\n",
       "      <td>342151</td>\n",
       "    </tr>\n",
       "    <tr>\n",
       "      <th>3</th>\n",
       "      <td>lamost</td>\n",
       "      <td>1493043</td>\n",
       "    </tr>\n",
       "    <tr>\n",
       "      <th>0</th>\n",
       "      <td>None</td>\n",
       "      <td>27664452</td>\n",
       "    </tr>\n",
       "  </tbody>\n",
       "</table>\n",
       "</div>"
      ],
      "text/plain": [
       "  feh_cat     count\n",
       "2  apogee    370879\n",
       "1   galah    342151\n",
       "3  lamost   1493043\n",
       "0    None  27664452"
      ]
     },
     "execution_count": 15,
     "metadata": {},
     "output_type": "execute_result"
    }
   ],
   "source": [
    "df_feh_nan = gaia[gaia.feh.isnan()]\n",
    "none = len(df_feh_nan)\n",
    "\n",
    "df_feh = gaia.groupby('feh_cat', agg={'count': vaex.agg.count('feh_cat')})\n",
    "df_feh = df_feh.to_pandas_df()\n",
    "df_feh.at[0, 'count'] = none\n",
    "df_feh.sort_values(by='feh_cat', ascending=True, inplace=True)\n",
    "df_feh"
   ]
  },
  {
   "cell_type": "code",
   "execution_count": 16,
   "metadata": {
    "execution": {
     "iopub.execute_input": "2023-01-19T08:33:40.247806Z",
     "iopub.status.busy": "2023-01-19T08:33:40.247167Z",
     "iopub.status.idle": "2023-01-19T08:33:40.500667Z",
     "shell.execute_reply": "2023-01-19T08:33:40.500138Z",
     "shell.execute_reply.started": "2023-01-19T08:33:40.247747Z"
    },
    "tags": []
   },
   "outputs": [
    {
     "data": {
      "image/png": "[encoded data removed]",
      "text/plain": [
       "<Figure size 720x432 with 1 Axes>"
      ]
     },
     "metadata": {
      "needs_background": "light"
     },
     "output_type": "display_data"
    }
   ],
   "source": [
    "x = df_feh['feh_cat'].values.astype(str)\n",
    "y = df_feh['count'].values\n",
    "\n",
    "fig, ax = plt.subplots(figsize=(10, 6))\n",
    "ax.bar(x, y)\n",
    "ax.set_ylabel('count')\n",
    "ax.set_yscale('log')\n",
    "ax.set_title('feh categories')\n",
    "ax.yaxis.grid(True)\n",
    "plt.show()"
   ]
  },
  {
   "cell_type": "markdown",
   "metadata": {},
   "source": [
    "#### mh"
   ]
  },
  {
   "cell_type": "code",
   "execution_count": 17,
   "metadata": {
    "execution": {
     "iopub.execute_input": "2023-01-19T08:33:43.433521Z",
     "iopub.status.busy": "2023-01-19T08:33:43.433242Z",
     "iopub.status.idle": "2023-01-19T08:33:45.614799Z",
     "shell.execute_reply": "2023-01-19T08:33:45.614153Z",
     "shell.execute_reply.started": "2023-01-19T08:33:43.433495Z"
    },
    "tags": []
   },
   "outputs": [
    {
     "data": {
      "text/html": [
       "<div>\n",
       "<style scoped>\n",
       "    .dataframe tbody tr th:only-of-type {\n",
       "        vertical-align: middle;\n",
       "    }\n",
       "\n",
       "    .dataframe tbody tr th {\n",
       "        vertical-align: top;\n",
       "    }\n",
       "\n",
       "    .dataframe thead th {\n",
       "        text-align: right;\n",
       "    }\n",
       "</style>\n",
       "<table border=\"1\" class=\"dataframe\">\n",
       "  <thead>\n",
       "    <tr style=\"text-align: right;\">\n",
       "      <th></th>\n",
       "      <th>mh_cat</th>\n",
       "      <th>count</th>\n",
       "    </tr>\n",
       "  </thead>\n",
       "  <tbody>\n",
       "    <tr>\n",
       "      <th>2</th>\n",
       "      <td>apogee</td>\n",
       "      <td>223885</td>\n",
       "    </tr>\n",
       "    <tr>\n",
       "      <th>3</th>\n",
       "      <td>gspphot</td>\n",
       "      <td>22602183</td>\n",
       "    </tr>\n",
       "    <tr>\n",
       "      <th>1</th>\n",
       "      <td>gspspec</td>\n",
       "      <td>1875643</td>\n",
       "    </tr>\n",
       "    <tr>\n",
       "      <th>4</th>\n",
       "      <td>rave</td>\n",
       "      <td>9494</td>\n",
       "    </tr>\n",
       "    <tr>\n",
       "      <th>0</th>\n",
       "      <td>None</td>\n",
       "      <td>4416126</td>\n",
       "    </tr>\n",
       "  </tbody>\n",
       "</table>\n",
       "</div>"
      ],
      "text/plain": [
       "    mh_cat     count\n",
       "2   apogee    223885\n",
       "3  gspphot  22602183\n",
       "1  gspspec   1875643\n",
       "4     rave      9494\n",
       "0     None   4416126"
      ]
     },
     "execution_count": 17,
     "metadata": {},
     "output_type": "execute_result"
    }
   ],
   "source": [
    "df_mh_nan = gaia[gaia.mh.isnan()]\n",
    "none = len(df_mh_nan)\n",
    "\n",
    "df_mh = gaia.groupby('mh_cat', agg={'count': vaex.agg.count('mh_cat')})\n",
    "df_mh = df_mh.to_pandas_df()\n",
    "df_mh.at[0, 'count'] = none\n",
    "df_mh.sort_values(by='mh_cat', ascending=True, inplace=True)\n",
    "df_mh"
   ]
  },
  {
   "cell_type": "code",
   "execution_count": 18,
   "metadata": {
    "execution": {
     "iopub.execute_input": "2023-01-19T08:33:48.406943Z",
     "iopub.status.busy": "2023-01-19T08:33:48.406368Z",
     "iopub.status.idle": "2023-01-19T08:33:48.723156Z",
     "shell.execute_reply": "2023-01-19T08:33:48.722534Z",
     "shell.execute_reply.started": "2023-01-19T08:33:48.406889Z"
    },
    "tags": []
   },
   "outputs": [
    {
     "data": {
      "image/png": "[encoded data removed]",
      "text/plain": [
       "<Figure size 720x432 with 1 Axes>"
      ]
     },
     "metadata": {
      "needs_background": "light"
     },
     "output_type": "display_data"
    }
   ],
   "source": [
    "x = df_mh['mh_cat'].values.astype(str)\n",
    "y = df_mh['count'].values\n",
    "\n",
    "fig, ax = plt.subplots(figsize=(10, 6))\n",
    "ax.bar(x, y)\n",
    "ax.set_ylabel('count')\n",
    "ax.set_yscale('log')\n",
    "ax.set_title('mh categories')\n",
    "ax.yaxis.grid(True)\n",
    "plt.show()\n"
   ]
  },
  {
   "cell_type": "markdown",
   "metadata": {},
   "source": [
    "#### alpha"
   ]
  },
  {
   "cell_type": "code",
   "execution_count": 19,
   "metadata": {
    "execution": {
     "iopub.execute_input": "2023-01-19T08:33:54.978671Z",
     "iopub.status.busy": "2023-01-19T08:33:54.978059Z",
     "iopub.status.idle": "2023-01-19T08:33:55.794999Z",
     "shell.execute_reply": "2023-01-19T08:33:55.794222Z",
     "shell.execute_reply.started": "2023-01-19T08:33:54.978612Z"
    },
    "tags": []
   },
   "outputs": [
    {
     "data": {
      "text/html": [
       "<div>\n",
       "<style scoped>\n",
       "    .dataframe tbody tr th:only-of-type {\n",
       "        vertical-align: middle;\n",
       "    }\n",
       "\n",
       "    .dataframe tbody tr th {\n",
       "        vertical-align: top;\n",
       "    }\n",
       "\n",
       "    .dataframe thead th {\n",
       "        text-align: right;\n",
       "    }\n",
       "</style>\n",
       "<table border=\"1\" class=\"dataframe\">\n",
       "  <thead>\n",
       "    <tr style=\"text-align: right;\">\n",
       "      <th></th>\n",
       "      <th>alphafe_cat</th>\n",
       "      <th>count</th>\n",
       "    </tr>\n",
       "  </thead>\n",
       "  <tbody>\n",
       "    <tr>\n",
       "      <th>1</th>\n",
       "      <td>galah</td>\n",
       "      <td>240865</td>\n",
       "    </tr>\n",
       "    <tr>\n",
       "      <th>2</th>\n",
       "      <td>gspspec</td>\n",
       "      <td>4054899</td>\n",
       "    </tr>\n",
       "    <tr>\n",
       "      <th>3</th>\n",
       "      <td>rave</td>\n",
       "      <td>50620</td>\n",
       "    </tr>\n",
       "    <tr>\n",
       "      <th>0</th>\n",
       "      <td>None</td>\n",
       "      <td>24780947</td>\n",
       "    </tr>\n",
       "  </tbody>\n",
       "</table>\n",
       "</div>"
      ],
      "text/plain": [
       "  alphafe_cat     count\n",
       "1       galah    240865\n",
       "2     gspspec   4054899\n",
       "3        rave     50620\n",
       "0        None  24780947"
      ]
     },
     "execution_count": 19,
     "metadata": {},
     "output_type": "execute_result"
    }
   ],
   "source": [
    "df_alpha_nan = gaia[gaia.alphafe.isnan()]\n",
    "none = len(df_alpha_nan)\n",
    "\n",
    "df_alpha = gaia.groupby('alphafe_cat', agg={'count': vaex.agg.count('alphafe_cat')})\n",
    "df_alpha = df_alpha.to_pandas_df()\n",
    "df_alpha.at[0, 'count'] = none\n",
    "df_alpha.sort_values(by='alphafe_cat', ascending=True, inplace=True)\n",
    "df_alpha"
   ]
  },
  {
   "cell_type": "code",
   "execution_count": 20,
   "metadata": {
    "execution": {
     "iopub.execute_input": "2023-01-19T08:33:57.775290Z",
     "iopub.status.busy": "2023-01-19T08:33:57.774679Z",
     "iopub.status.idle": "2023-01-19T08:33:58.067950Z",
     "shell.execute_reply": "2023-01-19T08:33:58.067251Z",
     "shell.execute_reply.started": "2023-01-19T08:33:57.775230Z"
    },
    "tags": []
   },
   "outputs": [
    {
     "data": {
      "image/png": "[encoded data removed]",
      "text/plain": [
       "<Figure size 720x432 with 1 Axes>"
      ]
     },
     "metadata": {
      "needs_background": "light"
     },
     "output_type": "display_data"
    }
   ],
   "source": [
    "x = df_alpha['alphafe_cat'].values.astype(str)\n",
    "y = df_alpha['count'].values\n",
    "\n",
    "fig, ax = plt.subplots(figsize=(10, 6))\n",
    "ax.bar(x, y)\n",
    "ax.set_ylabel('count')\n",
    "ax.set_yscale('log')\n",
    "ax.set_title('alphafe categories')\n",
    "ax.yaxis.grid(True)\n",
    "plt.show()"
   ]
  }
 ],
 "metadata": {
  "kernelspec": {
   "display_name": "vaex",
   "language": "python",
   "name": "python3"
  },
  "language_info": {
   "codemirror_mode": {
    "name": "ipython",
    "version": 3
   },
   "file_extension": ".py",
   "mimetype": "text/x-python",
   "name": "python",
   "nbconvert_exporter": "python",
   "pygments_lexer": "ipython3",
   "version": "3.8.10"
  },
  "vscode": {
   "interpreter": {
    "hash": "2e98b01e139963c1272b06356b7ab7b4729889064e74152a80e8f95bb2c4292e"
   }
  }
 },
 "nbformat": 4,
 "nbformat_minor": 4
}
