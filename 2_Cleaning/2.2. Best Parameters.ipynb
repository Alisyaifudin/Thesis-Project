{
 "cells": [
  {
   "cell_type": "code",
   "execution_count": 10,
   "metadata": {},
   "outputs": [],
   "source": [
    "import vaex\n",
    "import numpy as np\n",
    "from glob import glob\n",
    "from time import time\n",
    "from os.path import join, abspath\n",
    "from os import pardir, mkdir\n",
    "import sys\n",
    "from matplotlib import pyplot as plt"
   ]
  },
  {
   "cell_type": "code",
   "execution_count": 41,
   "metadata": {},
   "outputs": [],
   "source": [
    "# import utils\n",
    "util_dir = abspath(pardir)\n",
    "sys.path.insert(0, util_dir)\n",
    "\n",
    "from utils import progressbar"
   ]
  },
  {
   "cell_type": "code",
   "execution_count": 3,
   "metadata": {},
   "outputs": [
    {
     "data": {
      "text/plain": [
       "'/home2/s20321005/Thesis-Project/Data'"
      ]
     },
     "execution_count": 3,
     "metadata": {},
     "output_type": "execute_result"
    }
   ],
   "source": [
    "root_data_dir = abspath(join(pardir, \"Data\"))\n",
    "root_data_dir"
   ]
  },
  {
   "cell_type": "code",
   "execution_count": 4,
   "metadata": {},
   "outputs": [
    {
     "name": "stdout",
     "output_type": "stream",
     "text": [
      "Directory already exist. Good to go!\n"
     ]
    },
    {
     "data": {
      "text/plain": [
       "'/home2/s20321005/Thesis-Project/Data/Best-Pars'"
      ]
     },
     "execution_count": 4,
     "metadata": {},
     "output_type": "execute_result"
    }
   ],
   "source": [
    "name = \"Best-Pars\"\n",
    "data_dir = join(root_data_dir, name)\n",
    "try:\n",
    "  mkdir(data_dir)\n",
    "  print(f\"Creating {name} dir in Data dir\")\n",
    "except FileExistsError:\n",
    "  print(\"Directory already exist. Good to go!\")\n",
    "data_dir"
   ]
  },
  {
   "cell_type": "code",
   "execution_count": 6,
   "metadata": {},
   "outputs": [
    {
     "data": {
      "text/plain": [
       "'/home2/s20321005/Thesis-Project/Data/Combine/rave-galah-lamost-apogee'"
      ]
     },
     "execution_count": 6,
     "metadata": {},
     "output_type": "execute_result"
    }
   ],
   "source": [
    "name = \"rave-galah-lamost-apogee\"\n",
    "combine_data_dir = join(root_data_dir, 'Combine', name)\n",
    "combine_data_dir"
   ]
  },
  {
   "cell_type": "code",
   "execution_count": 12,
   "metadata": {},
   "outputs": [
    {
     "data": {
      "text/html": [
       "<table>\n",
       "<thead>\n",
       "<tr><th>#                                     </th><th>ra        </th><th>dec       </th><th>Jmag  </th><th>Kmag  </th><th>source_id          </th><th>pm       </th><th>pmra              </th><th>e_pmra     </th><th>pmdec                </th><th>e_pmdec    </th><th>parallax           </th><th>e_parallax  </th><th>gmag      </th><th>bpmag     </th><th>rpmag     </th><th>rv_gaia   </th><th>e_rv_gaia  </th><th>GLON              </th><th>GLAT              </th><th>teff_gspphot  </th><th>teff_gspphot_lower  </th><th>teff_gspphot_upper  </th><th>logg_gspphot  </th><th>logg_gspphot_lower  </th><th>logg_gspphot_upper  </th><th>mh_gspphot  </th><th>mh_gspphot_lower  </th><th>mh_gspphot_upper  </th><th>distance_gspphot  </th><th>distance_gspphot_lower  </th><th>distance_gspphot_upper  </th><th>ag_gspphot  </th><th>ag_gspphot_lower  </th><th>ag_gspphot_upper  </th><th>mh_gspspec  </th><th>mh_gspspec_lower  </th><th>mh_gspspec_upper  </th><th>alphafe_gspspec  </th><th>alphafe_gspspec_lower  </th><th>alphafe_gspspec_upper  </th><th>fem_gspspec  </th><th>fem_gspspec_lower  </th><th>fem_gspspec_upper  </th><th>spectraltype_esphs  </th><th>rv_rave  </th><th>e_rv_rave  </th><th>teff_rave  </th><th>logg_rave  </th><th>mh_rave  </th><th>alphafe_rave  </th><th>rv_galah  </th><th>e_rv_galah  </th><th>feh_galah  </th><th>alphafe_galah  </th><th>teff_galah  </th><th>e_teff_galah  </th><th>logg_galah  </th><th>e_logg_galah  </th><th>subclass_lamost  </th><th>teff_lamost  </th><th>e_teff_lamost  </th><th>logg_lamost  </th><th>e_logg_lamost  </th><th>feh_lamost  </th><th>e_feh_lamost  </th><th>rv_lamost  </th><th>e_rv_lamost  </th><th>alpham_lamost  </th><th>e_alpham_lamost  </th><th>rv_apogee  </th><th>e_rv_apogee  </th><th>teff_apogee  </th><th>e_teff_apogee  </th><th>logg_apogee  </th><th>e_logg_apogee  </th><th>mh_apogee  </th><th>e_mh_apogee  </th><th>alpham_apogee  </th><th>e_alpham_apogee  </th><th>feh_apogee  </th><th>e_feh_apogee  </th></tr>\n",
       "</thead>\n",
       "<tbody>\n",
       "<tr><td><i style='opacity: 0.6'>0</i>         </td><td>0.000464  </td><td>-84.272873</td><td>12.869</td><td>12.374</td><td>4617686126396602368</td><td>3.6212091</td><td>-2.123925825256161</td><td>0.018093891</td><td>2.9329329266790864   </td><td>0.015576468</td><td>1.2414398898080128 </td><td>0.014017576 </td><td>14.117249 </td><td>14.546528 </td><td>13.5242605</td><td>20.115417 </td><td>3.325204   </td><td>304.44429715164756</td><td>-32.70355447144384</td><td>5658.605      </td><td>5653.9224           </td><td>5668.203            </td><td>4.2226        </td><td>4.2043              </td><td>4.2496              </td><td>-0.0402     </td><td>-0.0457           </td><td>-0.0316           </td><td>770.2898          </td><td>746.2748                </td><td>786.9589                </td><td>0.2956      </td><td>0.2926            </td><td>0.2995            </td><td>nan         </td><td>nan               </td><td>nan               </td><td>nan              </td><td>nan                    </td><td>nan                    </td><td>nan          </td><td>nan                </td><td>nan                </td><td>G                   </td><td>nan      </td><td>nan        </td><td>nan        </td><td>nan        </td><td>nan      </td><td>nan           </td><td>nan       </td><td>nan         </td><td>nan        </td><td>nan            </td><td>nan         </td><td>nan           </td><td>nan         </td><td>nan           </td><td>--               </td><td>nan          </td><td>nan            </td><td>nan          </td><td>nan            </td><td>nan         </td><td>nan           </td><td>nan        </td><td>nan          </td><td>nan            </td><td>nan              </td><td>nan        </td><td>nan          </td><td>nan          </td><td>nan            </td><td>nan          </td><td>nan            </td><td>nan        </td><td>nan          </td><td>nan            </td><td>nan              </td><td>nan         </td><td>nan           </td></tr>\n",
       "<tr><td><i style='opacity: 0.6'>1</i>         </td><td>0.001998  </td><td>-84.804314</td><td>12.523</td><td>11.93 </td><td>4617598371624860928</td><td>17.00417 </td><td>16.266358206309686</td><td>0.015283653</td><td>4.954528511167747    </td><td>0.016042866</td><td>0.686194890423576  </td><td>0.013194535 </td><td>14.117252 </td><td>14.645076 </td><td>13.433549 </td><td>-23.821648</td><td>3.2447915  </td><td>304.29624940743884</td><td>-32.18708166475209</td><td>nan           </td><td>nan                 </td><td>nan                 </td><td>nan           </td><td>nan                 </td><td>nan                 </td><td>nan         </td><td>nan               </td><td>nan               </td><td>nan               </td><td>nan                     </td><td>nan                     </td><td>nan         </td><td>nan               </td><td>nan               </td><td>nan         </td><td>nan               </td><td>nan               </td><td>nan              </td><td>nan                    </td><td>nan                    </td><td>nan          </td><td>nan                </td><td>nan                </td><td>K                   </td><td>nan      </td><td>nan        </td><td>nan        </td><td>nan        </td><td>nan      </td><td>nan           </td><td>nan       </td><td>nan         </td><td>nan        </td><td>nan            </td><td>nan         </td><td>nan           </td><td>nan         </td><td>nan           </td><td>--               </td><td>nan          </td><td>nan            </td><td>nan          </td><td>nan            </td><td>nan         </td><td>nan           </td><td>nan        </td><td>nan          </td><td>nan            </td><td>nan              </td><td>nan        </td><td>nan          </td><td>nan          </td><td>nan            </td><td>nan          </td><td>nan            </td><td>nan        </td><td>nan          </td><td>nan            </td><td>nan              </td><td>nan         </td><td>nan           </td></tr>\n",
       "<tr><td><i style='opacity: 0.6'>2</i>         </td><td>0.002857  </td><td>-84.718956</td><td>11.746</td><td>10.877</td><td>4617602769671367936</td><td>5.9807105</td><td>5.927853781783437 </td><td>0.014620288</td><td>-0.7933771944304462  </td><td>0.01440706 </td><td>0.17823265910718195</td><td>0.011743693 </td><td>13.724135 </td><td>14.456079 </td><td>12.896074 </td><td>131.92238 </td><td>1.2741442  </td><td>304.31980747322217</td><td>-32.26998931504778</td><td>nan           </td><td>nan                 </td><td>nan                 </td><td>nan           </td><td>nan                 </td><td>nan                 </td><td>nan         </td><td>nan               </td><td>nan               </td><td>nan               </td><td>nan                     </td><td>nan                     </td><td>nan         </td><td>nan               </td><td>nan               </td><td>nan         </td><td>nan               </td><td>nan               </td><td>nan              </td><td>nan                    </td><td>nan                    </td><td>nan          </td><td>nan                </td><td>nan                </td><td>K                   </td><td>nan      </td><td>nan        </td><td>nan        </td><td>nan        </td><td>nan      </td><td>nan           </td><td>nan       </td><td>nan         </td><td>nan        </td><td>nan            </td><td>nan         </td><td>nan           </td><td>nan         </td><td>nan           </td><td>--               </td><td>nan          </td><td>nan            </td><td>nan          </td><td>nan            </td><td>nan         </td><td>nan           </td><td>nan        </td><td>nan          </td><td>nan            </td><td>nan              </td><td>nan        </td><td>nan          </td><td>nan          </td><td>nan            </td><td>nan          </td><td>nan            </td><td>nan        </td><td>nan          </td><td>nan            </td><td>nan              </td><td>nan         </td><td>nan           </td></tr>\n",
       "<tr><td><i style='opacity: 0.6'>3</i>         </td><td>0.004052  </td><td>-82.750267</td><td>13.333</td><td>12.872</td><td>4630074530064792448</td><td>11.209091</td><td>10.524865569146224</td><td>0.019602386</td><td>3.856285092898922    </td><td>0.02012978 </td><td>1.027615140072866  </td><td>0.01769279  </td><td>14.624002 </td><td>15.035072 </td><td>14.034426 </td><td>-43.84897 </td><td>5.5962825  </td><td>304.8768564308389 </td><td>-34.1827911363649 </td><td>6107.482      </td><td>6101.212            </td><td>6117.21             </td><td>4.2386        </td><td>4.2239              </td><td>4.2526              </td><td>-0.8342     </td><td>-0.8443           </td><td>-0.8225           </td><td>911.0151          </td><td>895.5346                </td><td>927.2803                </td><td>0.619       </td><td>0.6154            </td><td>0.624             </td><td>nan         </td><td>nan               </td><td>nan               </td><td>nan              </td><td>nan                    </td><td>nan                    </td><td>nan          </td><td>nan                </td><td>nan                </td><td>G                   </td><td>nan      </td><td>nan        </td><td>nan        </td><td>nan        </td><td>nan      </td><td>nan           </td><td>nan       </td><td>nan         </td><td>nan        </td><td>nan            </td><td>nan         </td><td>nan           </td><td>nan         </td><td>nan           </td><td>--               </td><td>nan          </td><td>nan            </td><td>nan          </td><td>nan            </td><td>nan         </td><td>nan           </td><td>nan        </td><td>nan          </td><td>nan            </td><td>nan              </td><td>nan        </td><td>nan          </td><td>nan          </td><td>nan            </td><td>nan          </td><td>nan            </td><td>nan        </td><td>nan          </td><td>nan            </td><td>nan              </td><td>nan         </td><td>nan           </td></tr>\n",
       "<tr><td><i style='opacity: 0.6'>4</i>         </td><td>0.007844  </td><td>-82.031616</td><td>12.605</td><td>12.209</td><td>4630918748836674432</td><td>18.801056</td><td>18.300275763425613</td><td>0.016882967</td><td>-4.310403819421376   </td><td>0.018285993</td><td>1.1269417803187838 </td><td>0.013919161 </td><td>13.798758 </td><td>14.187072 </td><td>13.238532 </td><td>-27.08683 </td><td>4.7260613  </td><td>305.0858976745071 </td><td>-34.88045519689782</td><td>5503.932      </td><td>5470.177            </td><td>5528.491            </td><td>4.1392        </td><td>4.1308              </td><td>4.148               </td><td>-0.7153     </td><td>-0.7508           </td><td>-0.6893           </td><td>856.8555          </td><td>845.9437                </td><td>867.5156                </td><td>0.1912      </td><td>0.1723            </td><td>0.2052            </td><td>nan         </td><td>nan               </td><td>nan               </td><td>nan              </td><td>nan                    </td><td>nan                    </td><td>nan          </td><td>nan                </td><td>nan                </td><td>F                   </td><td>nan      </td><td>nan        </td><td>nan        </td><td>nan        </td><td>nan      </td><td>nan           </td><td>nan       </td><td>nan         </td><td>nan        </td><td>nan            </td><td>nan         </td><td>nan           </td><td>nan         </td><td>nan           </td><td>--               </td><td>nan          </td><td>nan            </td><td>nan          </td><td>nan            </td><td>nan         </td><td>nan           </td><td>nan        </td><td>nan          </td><td>nan            </td><td>nan              </td><td>nan        </td><td>nan          </td><td>nan          </td><td>nan            </td><td>nan          </td><td>nan            </td><td>nan        </td><td>nan          </td><td>nan            </td><td>nan              </td><td>nan         </td><td>nan           </td></tr>\n",
       "<tr><td>...                                   </td><td>...       </td><td>...       </td><td>...   </td><td>...   </td><td>...                </td><td>...      </td><td>...               </td><td>...        </td><td>...                  </td><td>...        </td><td>...                </td><td>...         </td><td>...       </td><td>...       </td><td>...       </td><td>...       </td><td>...        </td><td>...               </td><td>...               </td><td>...           </td><td>...                 </td><td>...                 </td><td>...           </td><td>...                 </td><td>...                 </td><td>...         </td><td>...               </td><td>...               </td><td>...               </td><td>...                     </td><td>...                     </td><td>...         </td><td>...               </td><td>...               </td><td>...         </td><td>...               </td><td>...               </td><td>...              </td><td>...                    </td><td>...                    </td><td>...          </td><td>...                </td><td>...                </td><td>...                 </td><td>...      </td><td>...        </td><td>...        </td><td>...        </td><td>...      </td><td>...           </td><td>...       </td><td>...         </td><td>...        </td><td>...            </td><td>...         </td><td>...           </td><td>...         </td><td>...           </td><td>...              </td><td>...          </td><td>...            </td><td>...          </td><td>...            </td><td>...         </td><td>...           </td><td>...        </td><td>...          </td><td>...            </td><td>...              </td><td>...        </td><td>...          </td><td>...          </td><td>...            </td><td>...          </td><td>...            </td><td>...        </td><td>...          </td><td>...            </td><td>...              </td><td>...         </td><td>...           </td></tr>\n",
       "<tr><td><i style='opacity: 0.6'>27,001,405</i></td><td>359.991162</td><td>81.723877 </td><td>11.903</td><td>11.228</td><td>2286403269975358080</td><td>5.2602525</td><td>5.127952329131903 </td><td>0.016783616</td><td>-1.172331463561274   </td><td>0.016823703</td><td>0.45434838996692956</td><td>0.014370571 </td><td>13.8628235</td><td>14.56874  </td><td>13.046526 </td><td>-14.39366 </td><td>2.213932   </td><td>120.98842984113523</td><td>19.046996592015013</td><td>nan           </td><td>nan                 </td><td>nan                 </td><td>nan           </td><td>nan                 </td><td>nan                 </td><td>nan         </td><td>nan               </td><td>nan               </td><td>nan               </td><td>nan                     </td><td>nan                     </td><td>nan         </td><td>nan               </td><td>nan               </td><td>nan         </td><td>nan               </td><td>nan               </td><td>nan              </td><td>nan                    </td><td>nan                    </td><td>nan          </td><td>nan                </td><td>nan                </td><td>K                   </td><td>nan      </td><td>nan        </td><td>nan        </td><td>nan        </td><td>nan      </td><td>nan           </td><td>nan       </td><td>nan         </td><td>nan        </td><td>nan            </td><td>nan         </td><td>nan           </td><td>nan         </td><td>nan           </td><td>--               </td><td>nan          </td><td>nan            </td><td>nan          </td><td>nan            </td><td>nan         </td><td>nan           </td><td>nan        </td><td>nan          </td><td>nan            </td><td>nan              </td><td>nan        </td><td>nan          </td><td>nan          </td><td>nan            </td><td>nan          </td><td>nan            </td><td>nan        </td><td>nan          </td><td>nan            </td><td>nan              </td><td>nan         </td><td>nan           </td></tr>\n",
       "<tr><td><i style='opacity: 0.6'>27,001,406</i></td><td>359.992311</td><td>86.652588 </td><td>13.491</td><td>13.03 </td><td>2301267842548323584</td><td>9.127414 </td><td>8.573259109347845 </td><td>0.023041524</td><td>3.1319166932358895   </td><td>0.024572177</td><td>1.3792355955819116 </td><td>0.021768766 </td><td>14.949071 </td><td>15.4501915</td><td>14.290141 </td><td>nan       </td><td>nan        </td><td>122.11727494824203</td><td>23.862584460651433</td><td>5192.0254     </td><td>5167.729            </td><td>5216.4297           </td><td>4.4538        </td><td>4.4444              </td><td>4.4631              </td><td>-0.2157     </td><td>-0.2348           </td><td>-0.1937           </td><td>711.6166          </td><td>700.939                 </td><td>723.2191                </td><td>0.2872      </td><td>0.2746            </td><td>0.2996            </td><td>nan         </td><td>nan               </td><td>nan               </td><td>nan              </td><td>nan                    </td><td>nan                    </td><td>nan          </td><td>nan                </td><td>nan                </td><td>K                   </td><td>nan      </td><td>nan        </td><td>nan        </td><td>nan        </td><td>nan      </td><td>nan           </td><td>nan       </td><td>nan         </td><td>nan        </td><td>nan            </td><td>nan         </td><td>nan           </td><td>nan         </td><td>nan           </td><td>--               </td><td>nan          </td><td>nan            </td><td>nan          </td><td>nan            </td><td>nan         </td><td>nan           </td><td>nan        </td><td>nan          </td><td>nan            </td><td>nan              </td><td>nan        </td><td>nan          </td><td>nan          </td><td>nan            </td><td>nan          </td><td>nan            </td><td>nan        </td><td>nan          </td><td>nan            </td><td>nan              </td><td>nan         </td><td>nan           </td></tr>\n",
       "<tr><td><i style='opacity: 0.6'>27,001,407</i></td><td>359.992988</td><td>81.013268 </td><td>9.471 </td><td>8.67  </td><td>2283307320109693312</td><td>4.6164536</td><td>-4.616426557011018</td><td>0.019822646</td><td>-0.015870456188812835</td><td>0.020180052</td><td>1.0655880137082043 </td><td>0.016312053 </td><td>11.427629 </td><td>12.153831 </td><td>10.600687 </td><td>-54.240005</td><td>0.26263505 </td><td>120.83167313285159</td><td>18.352152471500148</td><td>nan           </td><td>nan                 </td><td>nan                 </td><td>nan           </td><td>nan                 </td><td>nan                 </td><td>nan         </td><td>nan               </td><td>nan               </td><td>nan               </td><td>nan                     </td><td>nan                     </td><td>nan         </td><td>nan               </td><td>nan               </td><td>-0.05       </td><td>-0.07             </td><td>-0.01             </td><td>-0.07            </td><td>-0.08                  </td><td>-0.06                  </td><td>-0.09        </td><td>-0.19              </td><td>-0.02              </td><td>K                   </td><td>nan      </td><td>nan        </td><td>nan        </td><td>nan        </td><td>nan      </td><td>nan           </td><td>nan       </td><td>nan         </td><td>nan        </td><td>nan            </td><td>nan         </td><td>nan           </td><td>nan         </td><td>nan           </td><td>--               </td><td>nan          </td><td>nan            </td><td>nan          </td><td>nan            </td><td>nan         </td><td>nan           </td><td>nan        </td><td>nan          </td><td>nan            </td><td>nan              </td><td>nan        </td><td>nan          </td><td>nan          </td><td>nan            </td><td>nan          </td><td>nan            </td><td>nan        </td><td>nan          </td><td>nan            </td><td>nan              </td><td>nan         </td><td>nan           </td></tr>\n",
       "<tr><td><i style='opacity: 0.6'>27,001,408</i></td><td>359.99454 </td><td>86.22448  </td><td>13.406</td><td>13.128</td><td>2301053231623032064</td><td>5.500912 </td><td>-5.448609975674909</td><td>0.018498827</td><td>-0.7567577462820062  </td><td>0.016916338</td><td>0.7946582215573009 </td><td>0.014681197 </td><td>14.476669 </td><td>14.788514 </td><td>13.9952135</td><td>-44.64216 </td><td>8.348065   </td><td>122.01626514394927</td><td>23.444591962057483</td><td>6267.614      </td><td>6218.716            </td><td>6299.795            </td><td>4.3056        </td><td>4.2676              </td><td>4.351               </td><td>-0.5391     </td><td>-0.5769           </td><td>-0.5064           </td><td>1108.1714         </td><td>1040.2518               </td><td>1159.0392               </td><td>0.2963      </td><td>0.2748            </td><td>0.3101            </td><td>nan         </td><td>nan               </td><td>nan               </td><td>nan              </td><td>nan                    </td><td>nan                    </td><td>nan          </td><td>nan                </td><td>nan                </td><td>F                   </td><td>nan      </td><td>nan        </td><td>nan        </td><td>nan        </td><td>nan      </td><td>nan           </td><td>nan       </td><td>nan         </td><td>nan        </td><td>nan            </td><td>nan         </td><td>nan           </td><td>nan         </td><td>nan           </td><td>--               </td><td>nan          </td><td>nan            </td><td>nan          </td><td>nan            </td><td>nan         </td><td>nan           </td><td>nan        </td><td>nan          </td><td>nan            </td><td>nan              </td><td>nan        </td><td>nan          </td><td>nan          </td><td>nan            </td><td>nan          </td><td>nan            </td><td>nan        </td><td>nan          </td><td>nan            </td><td>nan              </td><td>nan         </td><td>nan           </td></tr>\n",
       "<tr><td><i style='opacity: 0.6'>27,001,409</i></td><td>359.995476</td><td>84.92868  </td><td>13.169</td><td>12.425</td><td>2300120777043140480</td><td>6.2730036</td><td>1.3006799473864055</td><td>0.026830232</td><td>6.136676962362693    </td><td>0.023876317</td><td>2.421384351130322  </td><td>0.022533393 </td><td>15.102308 </td><td>15.881429 </td><td>14.245196 </td><td>-18.739408</td><td>5.07918    </td><td>121.71415818417871</td><td>22.17907898056377 </td><td>nan           </td><td>nan                 </td><td>nan                 </td><td>nan           </td><td>nan                 </td><td>nan                 </td><td>nan         </td><td>nan               </td><td>nan               </td><td>nan               </td><td>nan                     </td><td>nan                     </td><td>nan         </td><td>nan               </td><td>nan               </td><td>nan         </td><td>nan               </td><td>nan               </td><td>nan              </td><td>nan                    </td><td>nan                    </td><td>nan          </td><td>nan                </td><td>nan                </td><td>K                   </td><td>nan      </td><td>nan        </td><td>nan        </td><td>nan        </td><td>nan      </td><td>nan           </td><td>nan       </td><td>nan         </td><td>nan        </td><td>nan            </td><td>nan         </td><td>nan           </td><td>nan         </td><td>nan           </td><td>--               </td><td>nan          </td><td>nan            </td><td>nan          </td><td>nan            </td><td>nan         </td><td>nan           </td><td>nan        </td><td>nan          </td><td>nan            </td><td>nan              </td><td>nan        </td><td>nan          </td><td>nan          </td><td>nan            </td><td>nan          </td><td>nan            </td><td>nan        </td><td>nan          </td><td>nan            </td><td>nan              </td><td>nan         </td><td>nan           </td></tr>\n",
       "</tbody>\n",
       "</table>"
      ],
      "text/plain": [
       "#           ra          dec         Jmag    Kmag    source_id            pm         pmra                e_pmra       pmdec                  e_pmdec      parallax             e_parallax    gmag        bpmag       rpmag       rv_gaia     e_rv_gaia    GLON                GLAT                teff_gspphot    teff_gspphot_lower    teff_gspphot_upper    logg_gspphot    logg_gspphot_lower    logg_gspphot_upper    mh_gspphot    mh_gspphot_lower    mh_gspphot_upper    distance_gspphot    distance_gspphot_lower    distance_gspphot_upper    ag_gspphot    ag_gspphot_lower    ag_gspphot_upper    mh_gspspec    mh_gspspec_lower    mh_gspspec_upper    alphafe_gspspec    alphafe_gspspec_lower    alphafe_gspspec_upper    fem_gspspec    fem_gspspec_lower    fem_gspspec_upper    spectraltype_esphs    rv_rave    e_rv_rave    teff_rave    logg_rave    mh_rave    alphafe_rave    rv_galah    e_rv_galah    feh_galah    alphafe_galah    teff_galah    e_teff_galah    logg_galah    e_logg_galah    subclass_lamost    teff_lamost    e_teff_lamost    logg_lamost    e_logg_lamost    feh_lamost    e_feh_lamost    rv_lamost    e_rv_lamost    alpham_lamost    e_alpham_lamost    rv_apogee    e_rv_apogee    teff_apogee    e_teff_apogee    logg_apogee    e_logg_apogee    mh_apogee    e_mh_apogee    alpham_apogee    e_alpham_apogee    feh_apogee    e_feh_apogee\n",
       "0           0.000464    -84.272873  12.869  12.374  4617686126396602368  3.6212091  -2.123925825256161  0.018093891  2.9329329266790864     0.015576468  1.2414398898080128   0.014017576   14.117249   14.546528   13.5242605  20.115417   3.325204     304.44429715164756  -32.70355447144384  5658.605        5653.9224             5668.203              4.2226          4.2043                4.2496                -0.0402       -0.0457             -0.0316             770.2898            746.2748                  786.9589                  0.2956        0.2926              0.2995              nan           nan                 nan                 nan                nan                      nan                      nan            nan                  nan                  G                     nan        nan          nan          nan          nan        nan             nan         nan           nan          nan              nan           nan             nan           nan             --                 nan            nan              nan            nan              nan           nan             nan          nan            nan              nan                nan          nan            nan            nan              nan            nan              nan          nan            nan              nan                nan           nan\n",
       "1           0.001998    -84.804314  12.523  11.93   4617598371624860928  17.00417   16.266358206309686  0.015283653  4.954528511167747      0.016042866  0.686194890423576    0.013194535   14.117252   14.645076   13.433549   -23.821648  3.2447915    304.29624940743884  -32.18708166475209  nan             nan                   nan                   nan             nan                   nan                   nan           nan                 nan                 nan                 nan                       nan                       nan           nan                 nan                 nan           nan                 nan                 nan                nan                      nan                      nan            nan                  nan                  K                     nan        nan          nan          nan          nan        nan             nan         nan           nan          nan              nan           nan             nan           nan             --                 nan            nan              nan            nan              nan           nan             nan          nan            nan              nan                nan          nan            nan            nan              nan            nan              nan          nan            nan              nan                nan           nan\n",
       "2           0.002857    -84.718956  11.746  10.877  4617602769671367936  5.9807105  5.927853781783437   0.014620288  -0.7933771944304462    0.01440706   0.17823265910718195  0.011743693   13.724135   14.456079   12.896074   131.92238   1.2741442    304.31980747322217  -32.26998931504778  nan             nan                   nan                   nan             nan                   nan                   nan           nan                 nan                 nan                 nan                       nan                       nan           nan                 nan                 nan           nan                 nan                 nan                nan                      nan                      nan            nan                  nan                  K                     nan        nan          nan          nan          nan        nan             nan         nan           nan          nan              nan           nan             nan           nan             --                 nan            nan              nan            nan              nan           nan             nan          nan            nan              nan                nan          nan            nan            nan              nan            nan              nan          nan            nan              nan                nan           nan\n",
       "3           0.004052    -82.750267  13.333  12.872  4630074530064792448  11.209091  10.524865569146224  0.019602386  3.856285092898922      0.02012978   1.027615140072866    0.01769279    14.624002   15.035072   14.034426   -43.84897   5.5962825    304.8768564308389   -34.1827911363649   6107.482        6101.212              6117.21               4.2386          4.2239                4.2526                -0.8342       -0.8443             -0.8225             911.0151            895.5346                  927.2803                  0.619         0.6154              0.624               nan           nan                 nan                 nan                nan                      nan                      nan            nan                  nan                  G                     nan        nan          nan          nan          nan        nan             nan         nan           nan          nan              nan           nan             nan           nan             --                 nan            nan              nan            nan              nan           nan             nan          nan            nan              nan                nan          nan            nan            nan              nan            nan              nan          nan            nan              nan                nan           nan\n",
       "4           0.007844    -82.031616  12.605  12.209  4630918748836674432  18.801056  18.300275763425613  0.016882967  -4.310403819421376     0.018285993  1.1269417803187838   0.013919161   13.798758   14.187072   13.238532   -27.08683   4.7260613    305.0858976745071   -34.88045519689782  5503.932        5470.177              5528.491              4.1392          4.1308                4.148                 -0.7153       -0.7508             -0.6893             856.8555            845.9437                  867.5156                  0.1912        0.1723              0.2052              nan           nan                 nan                 nan                nan                      nan                      nan            nan                  nan                  F                     nan        nan          nan          nan          nan        nan             nan         nan           nan          nan              nan           nan             nan           nan             --                 nan            nan              nan            nan              nan           nan             nan          nan            nan              nan                nan          nan            nan            nan              nan            nan              nan          nan            nan              nan                nan           nan\n",
       "...         ...         ...         ...     ...     ...                  ...        ...                 ...          ...                    ...          ...                  ...           ...         ...         ...         ...         ...          ...                 ...                 ...             ...                   ...                   ...             ...                   ...                   ...           ...                 ...                 ...                 ...                       ...                       ...           ...                 ...                 ...           ...                 ...                 ...                ...                      ...                      ...            ...                  ...                  ...                   ...        ...          ...          ...          ...        ...             ...         ...           ...          ...              ...           ...             ...           ...             ...                ...            ...              ...            ...              ...           ...             ...          ...            ...              ...                ...          ...            ...            ...              ...            ...              ...          ...            ...              ...                ...           ...\n",
       "27,001,405  359.991162  81.723877   11.903  11.228  2286403269975358080  5.2602525  5.127952329131903   0.016783616  -1.172331463561274     0.016823703  0.45434838996692956  0.014370571   13.8628235  14.56874    13.046526   -14.39366   2.213932     120.98842984113523  19.046996592015013  nan             nan                   nan                   nan             nan                   nan                   nan           nan                 nan                 nan                 nan                       nan                       nan           nan                 nan                 nan           nan                 nan                 nan                nan                      nan                      nan            nan                  nan                  K                     nan        nan          nan          nan          nan        nan             nan         nan           nan          nan              nan           nan             nan           nan             --                 nan            nan              nan            nan              nan           nan             nan          nan            nan              nan                nan          nan            nan            nan              nan            nan              nan          nan            nan              nan                nan           nan\n",
       "27,001,406  359.992311  86.652588   13.491  13.03   2301267842548323584  9.127414   8.573259109347845   0.023041524  3.1319166932358895     0.024572177  1.3792355955819116   0.021768766   14.949071   15.4501915  14.290141   nan         nan          122.11727494824203  23.862584460651433  5192.0254       5167.729              5216.4297             4.4538          4.4444                4.4631                -0.2157       -0.2348             -0.1937             711.6166            700.939                   723.2191                  0.2872        0.2746              0.2996              nan           nan                 nan                 nan                nan                      nan                      nan            nan                  nan                  K                     nan        nan          nan          nan          nan        nan             nan         nan           nan          nan              nan           nan             nan           nan             --                 nan            nan              nan            nan              nan           nan             nan          nan            nan              nan                nan          nan            nan            nan              nan            nan              nan          nan            nan              nan                nan           nan\n",
       "27,001,407  359.992988  81.013268   9.471   8.67    2283307320109693312  4.6164536  -4.616426557011018  0.019822646  -0.015870456188812835  0.020180052  1.0655880137082043   0.016312053   11.427629   12.153831   10.600687   -54.240005  0.26263505   120.83167313285159  18.352152471500148  nan             nan                   nan                   nan             nan                   nan                   nan           nan                 nan                 nan                 nan                       nan                       nan           nan                 nan                 -0.05         -0.07               -0.01               -0.07              -0.08                    -0.06                    -0.09          -0.19                -0.02                K                     nan        nan          nan          nan          nan        nan             nan         nan           nan          nan              nan           nan             nan           nan             --                 nan            nan              nan            nan              nan           nan             nan          nan            nan              nan                nan          nan            nan            nan              nan            nan              nan          nan            nan              nan                nan           nan\n",
       "27,001,408  359.99454   86.22448    13.406  13.128  2301053231623032064  5.500912   -5.448609975674909  0.018498827  -0.7567577462820062    0.016916338  0.7946582215573009   0.014681197   14.476669   14.788514   13.9952135  -44.64216   8.348065     122.01626514394927  23.444591962057483  6267.614        6218.716              6299.795              4.3056          4.2676                4.351                 -0.5391       -0.5769             -0.5064             1108.1714           1040.2518                 1159.0392                 0.2963        0.2748              0.3101              nan           nan                 nan                 nan                nan                      nan                      nan            nan                  nan                  F                     nan        nan          nan          nan          nan        nan             nan         nan           nan          nan              nan           nan             nan           nan             --                 nan            nan              nan            nan              nan           nan             nan          nan            nan              nan                nan          nan            nan            nan              nan            nan              nan          nan            nan              nan                nan           nan\n",
       "27,001,409  359.995476  84.92868    13.169  12.425  2300120777043140480  6.2730036  1.3006799473864055  0.026830232  6.136676962362693      0.023876317  2.421384351130322    0.022533393   15.102308   15.881429   14.245196   -18.739408  5.07918      121.71415818417871  22.17907898056377   nan             nan                   nan                   nan             nan                   nan                   nan           nan                 nan                 nan                 nan                       nan                       nan           nan                 nan                 nan           nan                 nan                 nan                nan                      nan                      nan            nan                  nan                  K                     nan        nan          nan          nan          nan        nan             nan         nan           nan          nan              nan           nan             nan           nan             --                 nan            nan              nan            nan              nan           nan             nan          nan            nan              nan                nan          nan            nan            nan              nan            nan              nan          nan            nan              nan                nan           nan"
      ]
     },
     "execution_count": 12,
     "metadata": {},
     "output_type": "execute_result"
    }
   ],
   "source": [
    "files = glob(join(combine_data_dir, \"*.hdf5\"))\n",
    "files.sort()\n",
    "data = vaex.open_many(files)\n",
    "data"
   ]
  },
  {
   "cell_type": "code",
   "execution_count": 9,
   "metadata": {},
   "outputs": [
    {
     "name": "stdout",
     "output_type": "stream",
     "text": [
      "['ra', 'dec', 'Jmag', 'Kmag', 'source_id', 'pm', 'pmra', 'e_pmra', 'pmdec', 'e_pmdec', 'parallax', 'e_parallax', 'gmag', 'bpmag', 'rpmag', 'rv_gaia', 'e_rv_gaia', 'GLON', 'GLAT', 'teff_gspphot', 'teff_gspphot_lower', 'teff_gspphot_upper', 'logg_gspphot', 'logg_gspphot_lower', 'logg_gspphot_upper', 'mh_gspphot', 'mh_gspphot_lower', 'mh_gspphot_upper', 'distance_gspphot', 'distance_gspphot_lower', 'distance_gspphot_upper', 'ag_gspphot', 'ag_gspphot_lower', 'ag_gspphot_upper', 'mh_gspspec', 'mh_gspspec_lower', 'mh_gspspec_upper', 'alphafe_gspspec', 'alphafe_gspspec_lower', 'alphafe_gspspec_upper', 'fem_gspspec', 'fem_gspspec_lower', 'fem_gspspec_upper', 'spectraltype_esphs', 'rv_rave', 'e_rv_rave', 'teff_rave', 'logg_rave', 'mh_rave', 'alphafe_rave', 'rv_galah', 'e_rv_galah', 'feh_galah', 'alphafe_galah', 'teff_galah', 'e_teff_galah', 'logg_galah', 'e_logg_galah', 'subclass_lamost', 'teff_lamost', 'e_teff_lamost', 'logg_lamost', 'e_logg_lamost', 'feh_lamost', 'e_feh_lamost', 'rv_lamost', 'e_rv_lamost', 'alpham_lamost', 'e_alpham_lamost', 'rv_apogee', 'e_rv_apogee', 'teff_apogee', 'e_teff_apogee', 'logg_apogee', 'e_logg_apogee', 'mh_apogee', 'e_mh_apogee', 'alpham_apogee', 'e_alpham_apogee', 'feh_apogee', 'e_feh_apogee']\n"
     ]
    }
   ],
   "source": [
    "print(data.column_names)"
   ]
  },
  {
   "cell_type": "code",
   "execution_count": 13,
   "metadata": {},
   "outputs": [],
   "source": [
    "# cols initiation\n",
    "rv_cols = [\n",
    "    {\n",
    "        'value': 'rv_gaia', \n",
    "        'error': 'e_rv_gaia', \n",
    "        'cat': 'gaia'\n",
    "    }, \n",
    "    {\n",
    "        'value': 'rv_rave', \n",
    "        'error': 'e_rv_rave', \n",
    "        'cat': 'rave'\n",
    "    },\n",
    "    {\n",
    "        'value': 'rv_apogee', \n",
    "        'error': 'e_rv_apogee', \n",
    "        'cat': 'apogee'\n",
    "    },\n",
    "    {\n",
    "        'value': 'rv_lamost', \n",
    "        'error': 'e_rv_lamost', \n",
    "        'cat': 'lamost'\n",
    "    },\n",
    "    {\n",
    "        'value': 'rv_galah', \n",
    "        'error': 'e_rv_galah', \n",
    "        'cat': 'galah'\n",
    "    }\n",
    "]\n",
    "\n",
    "teff_cols = [\n",
    "    {\n",
    "        'value': 'teff_gspphot', \n",
    "        'error': {\n",
    "            'upper': 'teff_gspphot_upper',\n",
    "            'lower': 'teff_gspphot_lower'\n",
    "        }, \n",
    "        'cat': 'gspphot'\n",
    "    }, \n",
    "    {\n",
    "        'value': 'teff_rave', \n",
    "        'error': np.nan, \n",
    "        'cat': 'rave'\n",
    "    },\n",
    "    {\n",
    "        'value': 'teff_apogee', \n",
    "        'error': 'e_teff_apogee', \n",
    "        'cat': 'apogee'\n",
    "    },\n",
    "    {\n",
    "        'value': 'teff_lamost', \n",
    "        'error': 'e_teff_lamost', \n",
    "        'cat': 'lamost'\n",
    "    },\n",
    "    {\n",
    "        'value': 'teff_galah', \n",
    "        'error': 'e_teff_galah', \n",
    "        'cat': 'galah'\n",
    "    }\n",
    "]\n",
    "\n",
    "logg_cols = [\n",
    "    {\n",
    "        'value': 'logg_gspphot', \n",
    "        'error': {\n",
    "            'upper': 'logg_gspphot_upper',\n",
    "            'lower': 'logg_gspphot_lower'\n",
    "        }, \n",
    "        'cat': 'gspphot'\n",
    "    }, \n",
    "    {\n",
    "        'value': 'logg_rave', \n",
    "        'error': np.nan, \n",
    "        'cat': 'rave'\n",
    "    },\n",
    "    {\n",
    "        'value': 'logg_apogee', \n",
    "        'error': 'e_logg_apogee', \n",
    "        'cat': 'apogee'\n",
    "    },\n",
    "    {\n",
    "        'value': 'logg_lamost', \n",
    "        'error': 'e_logg_lamost', \n",
    "        'cat': 'lamost'\n",
    "    },\n",
    "    {\n",
    "        'value': 'logg_galah', \n",
    "        'error': 'e_logg_galah', \n",
    "        'cat': 'galah'\n",
    "    }\n",
    "]\n",
    "\n",
    "mh_cols = [\n",
    "    {\n",
    "        'value': 'mh_gspphot', \n",
    "        'error': {\n",
    "            'upper': 'mh_gspphot_upper',\n",
    "            'lower': 'mh_gspphot_lower'\n",
    "        }, \n",
    "        'cat': 'gspphot'\n",
    "    },\n",
    "    {\n",
    "        'value': 'mh_gspspec', \n",
    "        'error': {\n",
    "            'upper': 'mh_gspspec_upper',\n",
    "            'lower': 'mh_gspspec_lower'\n",
    "        }, \n",
    "        'cat': 'gspspec'\n",
    "    },\n",
    "    {\n",
    "        'value': 'mh_rave', \n",
    "        'error': np.nan, \n",
    "        'cat': 'rave'\n",
    "    },\n",
    "    {\n",
    "        'value': 'mh_apogee', \n",
    "        'error': 'e_mh_apogee', \n",
    "        'cat': 'apogee'\n",
    "    }\n",
    "]\n",
    "\n",
    "alphafe_cols = [\n",
    "    {\n",
    "        'value': 'alphafe_gspspec', \n",
    "        'error': {\n",
    "            'upper': 'alphafe_gspspec_upper',\n",
    "            'lower': 'alphafe_gspspec_lower'\n",
    "        }, \n",
    "        'cat': 'gspspec'\n",
    "    },\n",
    "    {\n",
    "        'value': 'alphafe_rave', \n",
    "        'error': np.nan, \n",
    "        'cat': 'rave'\n",
    "    },\n",
    "    {\n",
    "        'value': 'alphafe_galah', \n",
    "        'error': np.nan, \n",
    "        'cat': 'galah'\n",
    "    }\n",
    "]\n",
    "\n",
    "fem_cols = [\n",
    "    {\n",
    "        'value': 'fem_gspspec', \n",
    "        'error': {\n",
    "            'upper': 'fem_gspspec_upper',\n",
    "            'lower': 'fem_gspspec_lower'\n",
    "        }, \n",
    "        'cat': 'gspspec'\n",
    "    }\n",
    "]\n",
    "\n",
    "feh_cols = [\n",
    "    {\n",
    "        'value': 'feh_galah', \n",
    "        'error': np.nan, \n",
    "        'cat': 'galah'\n",
    "    },\n",
    "    {\n",
    "        'value': 'feh_lamost', \n",
    "        'error': 'e_feh_lamost', \n",
    "        'cat': 'lamost'\n",
    "    },\n",
    "    {\n",
    "        'value': 'feh_apogee', \n",
    "        'error': 'e_feh_apogee', \n",
    "        'cat': 'apogee'\n",
    "    }\n",
    "]"
   ]
  },
  {
   "cell_type": "code",
   "execution_count": 27,
   "metadata": {},
   "outputs": [],
   "source": [
    "# Extract which columns should be used\n",
    "\n",
    "# par_cols: {\n",
    "#   value: string\n",
    "#   error?: {\n",
    "#     upper: string\n",
    "#     lower: string\n",
    "#   } | string\n",
    "#   cat: string\n",
    "# }[]\n",
    "# row: pandas.core.series.Series\n",
    "def extract_pars(par_cols, row):\n",
    "    pars = []\n",
    "    for col in par_cols:\n",
    "        par = {}\n",
    "        if np.isnan(row[col['value']]):\n",
    "            continue\n",
    "        par['value'] = row[col['value']]\n",
    "        if type(col['error']) == dict:\n",
    "            if ('lower' not in col['error']) or ('upper' not in col['error']):\n",
    "                raise TypeError('lower and/or upper does not exist in error dict')\n",
    "            par['error'] = {'lower': par['value'] - row[col['error']['lower']] , 'upper': row[col['error']['upper']] - par['value']}\n",
    "        elif (type(col['error']) == str):\n",
    "            par['error'] = {'lower': row[col['error']], 'upper': row[col['error']]}\n",
    "        else:\n",
    "            par['error'] = {'lower': np.nan, 'upper': np.nan}\n",
    "        par['cat'] = col['cat']\n",
    "        pars.append(par)\n",
    "    return np.array(pars)"
   ]
  },
  {
   "cell_type": "code",
   "execution_count": 34,
   "metadata": {},
   "outputs": [],
   "source": [
    "# function to select the BEST parameter, not optimized tho, but works\n",
    "\n",
    "# TypeScript-like style type definitions\n",
    "# Input\n",
    "## pars: {\n",
    "##   value: number\n",
    "##   error: {\n",
    "##     lower: number\n",
    "##     upper: number\n",
    "##   } | number // upper and lower error OR just singgle number\n",
    "##   cat: string // catalog name\n",
    "## }[] // parameter values\n",
    "## index: number // row index\n",
    "\n",
    "# Output: Array\n",
    "## par: {\n",
    "##   value: number\n",
    "##   error: {\n",
    "##     lower: number\n",
    "##     upper: number\n",
    "##   } // best upper and lower error\n",
    "##   symmetric: boolean // if lower == upper\n",
    "##   cat: string // best catalog name\n",
    "## }\n",
    "\n",
    "NaN = {'value': np.nan, 'error': {'lower': np.nan, 'upper': np.nan}, 'symmetric': np.nan , 'cat': np.nan}\n",
    "\n",
    "def select_best(pars):\n",
    "    if len(pars) == 0: return NaN\n",
    "    elif len(pars) == 1:\n",
    "        if (type(pars[0]['error']) == dict) and ('lower' in pars[0]['error']) and ('upper' in pars[0]['error']):\n",
    "            if np.isnan(pars[0]['error']['lower']):\n",
    "                pars[0]['symmetric'] = np.nan\n",
    "            else:\n",
    "                pars[0]['symmetric'] = pars[0]['error']['lower'] == pars[0]['error']['upper']\n",
    "        else:\n",
    "            raise TypeError('error is not a dict')\n",
    "        # elif np.isnan(pars[0]['error']):\n",
    "        #     pars[0]['symmetric'] = np.nan\n",
    "        # elif (type(pars[0]['error']) == float) or (type(pars[0]['error']) == int):\n",
    "        #     pars[0]['symmetric'] = True\n",
    "        # if np.isnan(pars[0]['value']):\n",
    "        #     pars[0] = NaN\n",
    "        return pars[0]\n",
    "    else:\n",
    "        mask = []\n",
    "        for i, par in enumerate(pars):\n",
    "            if (type(par['error']) == dict) and ('lower' in par['error']) or ('upper' in par['error']): \n",
    "                mask.append(par['error']['lower'] > 0 and par['error']['upper'] > 0)\n",
    "            else:\n",
    "                raise TypeError('error is not a dict')\n",
    "        pars = pars[mask]\n",
    "        errors = np.array(list(map(lambda x: (x['error']['lower'] + x['error']['upper'])/2, pars)))\n",
    "        values = np.array(list(map(lambda x: x['value'], pars)))\n",
    "        if len(pars) == 0: return NaN\n",
    "        elif len(pars) == 1:\n",
    "            pars[0]['symmetric'] = pars[0]['error']['lower'] == pars[0]['error']['upper']\n",
    "            return pars[0]\n",
    "        elif len(pars) == 2:\n",
    "            i = np.argmin(errors)\n",
    "            pars[i]['symmetric'] = pars[i]['error']['lower'] == pars[i]['error']['upper']\n",
    "            return pars[i]\n",
    "        else:\n",
    "            avg = np.average(values, weights=1/errors)\n",
    "            selected_pars = []\n",
    "            for par in pars:\n",
    "                if (par['value'] + par['error']['upper'] > avg) and (par['value'] - par['error']['lower'] < avg):\n",
    "                    selected_pars.append(par)\n",
    "            if (len(selected_pars) == 0):\n",
    "                i = np.argmin(errors)\n",
    "                pars[i]['symmetric'] = pars[i]['error']['lower'] == pars[i]['error']['upper']\n",
    "                return pars[i]\n",
    "            else:\n",
    "                errors = np.array(list(map(lambda x: (x['error']['lower'] + x['error']['upper'])/2, selected_pars)))\n",
    "                i = np.argmin(errors)\n",
    "                selected_pars[i]['symmetric'] = selected_pars[i]['error']['lower'] == selected_pars[i]['error']['upper']\n",
    "                return selected_pars[i]"
   ]
  },
  {
   "cell_type": "code",
   "execution_count": 37,
   "metadata": {},
   "outputs": [],
   "source": [
    "remove_cols = ['rv_gaia', 'e_rv_gaia', 'teff_gspphot', 'teff_gspphot_lower', 'teff_gspphot_upper', \n",
    "               'logg_gspphot', 'logg_gspphot_lower', 'logg_gspphot_upper', 'mh_gspphot', \n",
    "               'mh_gspphot_lower', 'mh_gspphot_upper',  \n",
    "               'mh_gspspec', 'mh_gspspec_lower', 'mh_gspspec_upper', 'alphafe_gspspec', 'alphafe_gspspec_lower', \n",
    "               'alphafe_gspspec_upper', 'fem_gspspec', 'fem_gspspec_lower', 'fem_gspspec_upper',  'rv_rave', \n",
    "               'e_rv_rave', 'teff_rave', 'logg_rave', 'mh_rave', 'alphafe_rave', 'rv_galah', 'e_rv_galah', \n",
    "               'feh_galah', 'alphafe_galah', 'teff_galah', 'e_teff_galah', 'logg_galah', 'e_logg_galah', \n",
    "               'teff_lamost', 'e_teff_lamost', 'logg_lamost', 'e_logg_lamost', 'feh_lamost', 'e_feh_lamost', \n",
    "               'rv_lamost', 'e_rv_lamost', 'alpham_lamost', 'e_alpham_lamost', 'rv_apogee', 'e_rv_apogee', \n",
    "               'teff_apogee', 'e_teff_apogee', 'logg_apogee', 'e_logg_apogee', 'mh_apogee', 'e_mh_apogee', \n",
    "               'alpham_apogee', 'e_alpham_apogee', 'feh_apogee', 'e_feh_apogee']"
   ]
  },
  {
   "cell_type": "code",
   "execution_count": 47,
   "metadata": {},
   "outputs": [],
   "source": [
    "from time import time\n",
    "def progressbar(percent=0, width=50, info=\"\", path=\"\", flush=False) -> None:\n",
    "    left = int((width * percent) // 100)\n",
    "    right = width - left\n",
    "    \n",
    "    tags = \"#\" * left\n",
    "    spaces = \" \" * right\n",
    "    percents = f\"{percent:.0f}%\"\n",
    "    text = f\"\\r[{tags}{spaces}] {percents} {info}\"\n",
    "    if(flush):\n",
    "        print(text, end=\"\", flush=True)\n",
    "    else:\n",
    "        print(text)\n",
    "    if(path != \"\"):\n",
    "        with open(path, 'a') as f:\n",
    "            f.write(f\"{text}\")"
   ]
  },
  {
   "cell_type": "code",
   "execution_count": 1,
   "metadata": {},
   "outputs": [],
   "source": [
    "for file in files:\n",
    "    df_vaex = vaex.open(file)\n",
    "    rvs = []\n",
    "    teffs = []\n",
    "    loggs = []\n",
    "    mhs = []\n",
    "    alphafes = []\n",
    "    fems = []\n",
    "    fehs = []\n",
    "    t0 = time()\n",
    "    df = df_vaex.to_pandas_df()\n",
    "    for index, row in df.iterrows():\n",
    "        # rv\n",
    "        rv = extract_pars(rv_cols, row)\n",
    "        rv_best = select_best(rv)\n",
    "        rvs.append(rv_best)\n",
    "        # teff\n",
    "        teff = extract_pars(teff_cols, row)\n",
    "        teff_best = select_best(teff)\n",
    "        teffs.append(teff_best)\n",
    "        # logg\n",
    "        logg = extract_pars(logg_cols, row)\n",
    "        logg_best = select_best(logg)\n",
    "        loggs.append(logg_best)\n",
    "        # mh\n",
    "        mh = extract_pars(mh_cols, row)\n",
    "        mh_best = select_best(mh)\n",
    "        mhs.append(mh_best)\n",
    "        # alphafe\n",
    "        alphafe = extract_pars(alphafe_cols, row)\n",
    "        alphafe_best = select_best(alphafe)\n",
    "        alphafes.append(alphafe_best)\n",
    "        # fem\n",
    "        fem = extract_pars(fem_cols, row)\n",
    "        fem_best = select_best(fem)\n",
    "        fems.append(fem_best)\n",
    "        # feh\n",
    "        feh = extract_pars(feh_cols, row)\n",
    "        feh_best = select_best(feh)\n",
    "        fehs.append(feh_best)\n",
    "        t1 = time()\n",
    "        progressbar((index+1)/(len(df))*100, flush=True, info=f\"{index}/{len(df)} - {np.round(t1-t0, 3)}s - {file.split('/')[-1]}\")\n",
    "    df['rv'] = list(map(lambda x: x['value'], rvs))\n",
    "    df['e_rv'] = list(map(lambda x: x['error']['lower'], rvs))\n",
    "    df['rv_cat'] = list(map(lambda x: x['cat'], rvs))\n",
    "    # teff   \n",
    "    df['teff'] = list(map(lambda x: x['value'], teffs))\n",
    "    df['e_teff_lower'] = list(map(lambda x: x['error']['lower'], teffs))\n",
    "    df['e_teff_upper'] = list(map(lambda x: x['error']['upper'], teffs))\n",
    "    df['teff_symmetric'] = np.array(list(map(lambda x: x['symmetric'], teffs)))\n",
    "    df['teff_cat'] = list(map(lambda x: x['cat'], teffs))\n",
    "    # logg\n",
    "    df['logg'] = list(map(lambda x: x['value'], loggs))\n",
    "    df['e_logg_lower'] = list(map(lambda x: x['error']['lower'], loggs))\n",
    "    df['e_logg_upper'] = list(map(lambda x: x['error']['upper'], loggs))\n",
    "    df['logg_symmetric'] = np.array(list(map(lambda x: x['symmetric'], loggs)))\n",
    "    df['logg_cat'] = list(map(lambda x: x['cat'], loggs))\n",
    "    # mh\n",
    "    df['mh'] = list(map(lambda x: x['value'], mhs))\n",
    "    df['e_mh_lower'] = list(map(lambda x: x['error']['lower'], mhs))\n",
    "    df['e_mh_upper'] = list(map(lambda x: x['error']['upper'], mhs))\n",
    "    df['mh_symmetric'] = np.array(list(map(lambda x: x['symmetric'], mhs)))\n",
    "    df['mh_cat'] = list(map(lambda x: x['cat'], mhs))\n",
    "    # alphafe\n",
    "    df['alphafe'] = list(map(lambda x: x['value'], alphafes))\n",
    "    df['e_alphafe_lower'] = list(map(lambda x: x['error']['lower'], alphafes))\n",
    "    df['e_alphafe_upper'] = list(map(lambda x: x['error']['upper'], alphafes))\n",
    "    df['alphafe_symmetric'] = np.array(list(map(lambda x: x['symmetric'], alphafes)))\n",
    "    df['alphafe_cat'] = list(map(lambda x: x['cat'], alphafes))\n",
    "    # fem\n",
    "    df['fem'] = list(map(lambda x: x['value'], fems))\n",
    "    df['e_fem_lower'] = list(map(lambda x: x['error']['lower'], fems))\n",
    "    df['e_fem_upper'] = list(map(lambda x: x['error']['upper'], fems))\n",
    "    df['fem_symmetric'] = np.array(list(map(lambda x: x['symmetric'], fems)))\n",
    "    df['fem_cat'] = list(map(lambda x: x['cat'], fems))\n",
    "    # feh\n",
    "    df['feh'] = list(map(lambda x: x['value'], fems))\n",
    "    df['e_feh_lower'] = list(map(lambda x: x['error']['lower'], fehs))\n",
    "    df['e_feh_upper'] = list(map(lambda x: x['error']['upper'], fehs))\n",
    "    df['feh_symmetric'] = np.array(list(map(lambda x: x['symmetric'], fehs)))\n",
    "    df['feh_cat'] = list(map(lambda x: x['cat'], fehs))\n",
    "    df_vaex = vaex.from_pandas(df)\n",
    "    df_vaex = df_vaex.drop(remove_cols)\n",
    "    path = join(data_dir, file.split('/')[-1])\n",
    "    df_vaex.export_hdf5(path, progress=True)\n",
    "    print(f\"Saving {path}\")"
   ]
  },
  {
   "cell_type": "markdown",
   "metadata": {},
   "source": [
    "### Preview"
   ]
  },
  {
   "cell_type": "code",
   "execution_count": 7,
   "metadata": {},
   "outputs": [
    {
     "data": {
      "text/plain": [
       "['/home2/s20321005/Thesis-Project/Data/Best-Pars/gaia-000-001.hdf5',\n",
       " '/home2/s20321005/Thesis-Project/Data/Best-Pars/gaia-001-002.hdf5',\n",
       " '/home2/s20321005/Thesis-Project/Data/Best-Pars/gaia-002-003.hdf5',\n",
       " '/home2/s20321005/Thesis-Project/Data/Best-Pars/gaia-003-004.hdf5',\n",
       " '/home2/s20321005/Thesis-Project/Data/Best-Pars/gaia-004-005.hdf5']"
      ]
     },
     "execution_count": 7,
     "metadata": {},
     "output_type": "execute_result"
    }
   ],
   "source": [
    "files = glob(join(data_dir, \"gaia-*.hdf5\"))\n",
    "files.sort()\n",
    "files[:5]"
   ]
  },
  {
   "cell_type": "code",
   "execution_count": 27,
   "metadata": {},
   "outputs": [
    {
     "data": {
      "text/html": [
       "<table>\n",
       "<thead>\n",
       "<tr><th>#                                     </th><th>ra        </th><th>dec       </th><th>Jmag  </th><th>Kmag  </th><th>source_id          </th><th>pm       </th><th>pmra              </th><th>e_pmra     </th><th>pmdec                </th><th>e_pmdec    </th><th>parallax           </th><th>e_parallax  </th><th>gmag      </th><th>bpmag     </th><th>rpmag     </th><th>GLON              </th><th>GLAT              </th><th>distance_gspphot  </th><th>distance_gspphot_lower  </th><th>distance_gspphot_upper  </th><th>ag_gspphot  </th><th>ag_gspphot_lower  </th><th>ag_gspphot_upper  </th><th>spectraltype_esphs  </th><th>subclass_lamost  </th><th>rv                 </th><th>e_rv              </th><th>rv_cat  </th><th>teff            </th><th>e_teff_lower  </th><th>e_teff_upper  </th><th>teff_symmetric  </th><th>teff_cat  </th><th>logg             </th><th>e_logg_lower        </th><th>e_logg_upper        </th><th>logg_symmetric  </th><th>logg_cat  </th><th>mh                  </th><th>e_mh_lower          </th><th>e_mh_upper          </th><th>mh_symmetric  </th><th>mh_cat  </th><th>alphafe             </th><th>e_alphafe_lower     </th><th>e_alphafe_upper     </th><th>alphafe_symmetric  </th><th>alphafe_cat  </th><th>fem                 </th><th>e_fem_lower        </th><th>e_fem_upper        </th><th>fem_symmetric  </th><th>fem_cat  </th><th>feh                 </th><th>e_feh_lower  </th><th>e_feh_upper  </th><th>feh_symmetric  </th><th>feh_cat  </th></tr>\n",
       "</thead>\n",
       "<tbody>\n",
       "<tr><td><i style='opacity: 0.6'>0</i>         </td><td>0.000464  </td><td>-84.272873</td><td>12.869</td><td>12.374</td><td>4617686126396602368</td><td>3.6212091</td><td>-2.123925825256161</td><td>0.018093891</td><td>2.9329329266790864   </td><td>0.015576468</td><td>1.2414398898080128 </td><td>0.014017576 </td><td>14.117249 </td><td>14.546528 </td><td>13.5242605</td><td>304.44429715164756</td><td>-32.70355447144384</td><td>770.2898          </td><td>746.2748                </td><td>786.9589                </td><td>0.2956      </td><td>0.2926            </td><td>0.2995            </td><td>G                   </td><td>--               </td><td>20.11541748046875  </td><td>3.3252038955688477</td><td>gaia    </td><td>5658.60498046875</td><td>4.6826171875  </td><td>9.59814453125 </td><td>0.0             </td><td>gspphot   </td><td>4.222599983215332</td><td>0.01830005645751953 </td><td>0.026999950408935547</td><td>0.0             </td><td>gspphot   </td><td>-0.04019999876618385</td><td>0.005499999970197678</td><td>0.00860000029206276 </td><td>0.0           </td><td>gspphot </td><td>nan                 </td><td>nan                 </td><td>nan                 </td><td>nan                </td><td>--           </td><td>nan                 </td><td>nan                </td><td>nan                </td><td>nan            </td><td>--       </td><td>nan                 </td><td>nan          </td><td>nan          </td><td>nan            </td><td>--       </td></tr>\n",
       "<tr><td><i style='opacity: 0.6'>1</i>         </td><td>0.001998  </td><td>-84.804314</td><td>12.523</td><td>11.93 </td><td>4617598371624860928</td><td>17.00417 </td><td>16.266358206309686</td><td>0.015283653</td><td>4.954528511167747    </td><td>0.016042866</td><td>0.686194890423576  </td><td>0.013194535 </td><td>14.117252 </td><td>14.645076 </td><td>13.433549 </td><td>304.29624940743884</td><td>-32.18708166475209</td><td>nan               </td><td>nan                     </td><td>nan                     </td><td>nan         </td><td>nan               </td><td>nan               </td><td>K                   </td><td>--               </td><td>-23.82164764404297 </td><td>3.2447915077209473</td><td>gaia    </td><td>nan             </td><td>nan           </td><td>nan           </td><td>nan             </td><td>--        </td><td>nan              </td><td>nan                 </td><td>nan                 </td><td>nan             </td><td>--        </td><td>nan                 </td><td>nan                 </td><td>nan                 </td><td>nan           </td><td>--      </td><td>nan                 </td><td>nan                 </td><td>nan                 </td><td>nan                </td><td>--           </td><td>nan                 </td><td>nan                </td><td>nan                </td><td>nan            </td><td>--       </td><td>nan                 </td><td>nan          </td><td>nan          </td><td>nan            </td><td>--       </td></tr>\n",
       "<tr><td><i style='opacity: 0.6'>2</i>         </td><td>0.002857  </td><td>-84.718956</td><td>11.746</td><td>10.877</td><td>4617602769671367936</td><td>5.9807105</td><td>5.927853781783437 </td><td>0.014620288</td><td>-0.7933771944304462  </td><td>0.01440706 </td><td>0.17823265910718195</td><td>0.011743693 </td><td>13.724135 </td><td>14.456079 </td><td>12.896074 </td><td>304.31980747322217</td><td>-32.26998931504778</td><td>nan               </td><td>nan                     </td><td>nan                     </td><td>nan         </td><td>nan               </td><td>nan               </td><td>K                   </td><td>--               </td><td>131.92237854003906 </td><td>1.274144172668457 </td><td>gaia    </td><td>nan             </td><td>nan           </td><td>nan           </td><td>nan             </td><td>--        </td><td>nan              </td><td>nan                 </td><td>nan                 </td><td>nan             </td><td>--        </td><td>nan                 </td><td>nan                 </td><td>nan                 </td><td>nan           </td><td>--      </td><td>nan                 </td><td>nan                 </td><td>nan                 </td><td>nan                </td><td>--           </td><td>nan                 </td><td>nan                </td><td>nan                </td><td>nan            </td><td>--       </td><td>nan                 </td><td>nan          </td><td>nan          </td><td>nan            </td><td>--       </td></tr>\n",
       "<tr><td><i style='opacity: 0.6'>3</i>         </td><td>0.004052  </td><td>-82.750267</td><td>13.333</td><td>12.872</td><td>4630074530064792448</td><td>11.209091</td><td>10.524865569146224</td><td>0.019602386</td><td>3.856285092898922    </td><td>0.02012978 </td><td>1.027615140072866  </td><td>0.01769279  </td><td>14.624002 </td><td>15.035072 </td><td>14.034426 </td><td>304.8768564308389 </td><td>-34.1827911363649 </td><td>911.0151          </td><td>895.5346                </td><td>927.2803                </td><td>0.619       </td><td>0.6154            </td><td>0.624             </td><td>G                   </td><td>--               </td><td>-43.848968505859375</td><td>5.596282482147217 </td><td>gaia    </td><td>6107.48193359375</td><td>6.27001953125 </td><td>9.72802734375 </td><td>0.0             </td><td>gspphot   </td><td>4.23859977722168 </td><td>0.014699935913085938</td><td>0.014000415802001953</td><td>0.0             </td><td>gspphot   </td><td>-0.8342000246047974 </td><td>0.010099947452545166</td><td>0.011700034141540527</td><td>0.0           </td><td>gspphot </td><td>nan                 </td><td>nan                 </td><td>nan                 </td><td>nan                </td><td>--           </td><td>nan                 </td><td>nan                </td><td>nan                </td><td>nan            </td><td>--       </td><td>nan                 </td><td>nan          </td><td>nan          </td><td>nan            </td><td>--       </td></tr>\n",
       "<tr><td><i style='opacity: 0.6'>4</i>         </td><td>0.007844  </td><td>-82.031616</td><td>12.605</td><td>12.209</td><td>4630918748836674432</td><td>18.801056</td><td>18.300275763425613</td><td>0.016882967</td><td>-4.310403819421376   </td><td>0.018285993</td><td>1.1269417803187838 </td><td>0.013919161 </td><td>13.798758 </td><td>14.187072 </td><td>13.238532 </td><td>305.0858976745071 </td><td>-34.88045519689782</td><td>856.8555          </td><td>845.9437                </td><td>867.5156                </td><td>0.1912      </td><td>0.1723            </td><td>0.2052            </td><td>F                   </td><td>--               </td><td>-27.086830139160156</td><td>4.7260613441467285</td><td>gaia    </td><td>5503.93212890625</td><td>33.75537109375</td><td>24.55908203125</td><td>0.0             </td><td>gspphot   </td><td>4.139200210571289</td><td>0.008400440216064453</td><td>0.008799552917480469</td><td>0.0             </td><td>gspphot   </td><td>-0.7153000235557556 </td><td>0.03549998998641968 </td><td>0.026000022888183594</td><td>0.0           </td><td>gspphot </td><td>nan                 </td><td>nan                 </td><td>nan                 </td><td>nan                </td><td>--           </td><td>nan                 </td><td>nan                </td><td>nan                </td><td>nan            </td><td>--       </td><td>nan                 </td><td>nan          </td><td>nan          </td><td>nan            </td><td>--       </td></tr>\n",
       "<tr><td>...                                   </td><td>...       </td><td>...       </td><td>...   </td><td>...   </td><td>...                </td><td>...      </td><td>...               </td><td>...        </td><td>...                  </td><td>...        </td><td>...                </td><td>...         </td><td>...       </td><td>...       </td><td>...       </td><td>...               </td><td>...               </td><td>...               </td><td>...                     </td><td>...                     </td><td>...         </td><td>...               </td><td>...               </td><td>...                 </td><td>...              </td><td>...                </td><td>...               </td><td>...     </td><td>...             </td><td>...           </td><td>...           </td><td>...             </td><td>...       </td><td>...              </td><td>...                 </td><td>...                 </td><td>...             </td><td>...       </td><td>...                 </td><td>...                 </td><td>...                 </td><td>...           </td><td>...     </td><td>...                 </td><td>...                 </td><td>...                 </td><td>...                </td><td>...          </td><td>...                 </td><td>...                </td><td>...                </td><td>...            </td><td>...      </td><td>...                 </td><td>...          </td><td>...          </td><td>...            </td><td>...      </td></tr>\n",
       "<tr><td><i style='opacity: 0.6'>27,001,405</i></td><td>359.991162</td><td>81.723877 </td><td>11.903</td><td>11.228</td><td>2286403269975358080</td><td>5.2602525</td><td>5.127952329131903 </td><td>0.016783616</td><td>-1.172331463561274   </td><td>0.016823703</td><td>0.45434838996692956</td><td>0.014370571 </td><td>13.8628235</td><td>14.56874  </td><td>13.046526 </td><td>120.98842984113523</td><td>19.046996592015013</td><td>nan               </td><td>nan                     </td><td>nan                     </td><td>nan         </td><td>nan               </td><td>nan               </td><td>K                   </td><td>--               </td><td>-14.393659591674805</td><td>2.2139320373535156</td><td>gaia    </td><td>nan             </td><td>nan           </td><td>nan           </td><td>nan             </td><td>--        </td><td>nan              </td><td>nan                 </td><td>nan                 </td><td>nan             </td><td>--        </td><td>nan                 </td><td>nan                 </td><td>nan                 </td><td>nan           </td><td>--      </td><td>nan                 </td><td>nan                 </td><td>nan                 </td><td>nan                </td><td>--           </td><td>nan                 </td><td>nan                </td><td>nan                </td><td>nan            </td><td>--       </td><td>nan                 </td><td>nan          </td><td>nan          </td><td>nan            </td><td>--       </td></tr>\n",
       "<tr><td><i style='opacity: 0.6'>27,001,406</i></td><td>359.992311</td><td>86.652588 </td><td>13.491</td><td>13.03 </td><td>2301267842548323584</td><td>9.127414 </td><td>8.573259109347845 </td><td>0.023041524</td><td>3.1319166932358895   </td><td>0.024572177</td><td>1.3792355955819116 </td><td>0.021768766 </td><td>14.949071 </td><td>15.4501915</td><td>14.290141 </td><td>122.11727494824203</td><td>23.862584460651433</td><td>711.6166          </td><td>700.939                 </td><td>723.2191                </td><td>0.2872      </td><td>0.2746            </td><td>0.2996            </td><td>K                   </td><td>--               </td><td>nan                </td><td>nan               </td><td>--      </td><td>5192.025390625  </td><td>24.29638671875</td><td>24.404296875  </td><td>0.0             </td><td>gspphot   </td><td>4.453800201416016</td><td>0.009400367736816406</td><td>0.009299755096435547</td><td>0.0             </td><td>gspphot   </td><td>-0.21570000052452087</td><td>0.019099995493888855</td><td>0.02199999988079071 </td><td>0.0           </td><td>gspphot </td><td>nan                 </td><td>nan                 </td><td>nan                 </td><td>nan                </td><td>--           </td><td>nan                 </td><td>nan                </td><td>nan                </td><td>nan            </td><td>--       </td><td>nan                 </td><td>nan          </td><td>nan          </td><td>nan            </td><td>--       </td></tr>\n",
       "<tr><td><i style='opacity: 0.6'>27,001,407</i></td><td>359.992988</td><td>81.013268 </td><td>9.471 </td><td>8.67  </td><td>2283307320109693312</td><td>4.6164536</td><td>-4.616426557011018</td><td>0.019822646</td><td>-0.015870456188812835</td><td>0.020180052</td><td>1.0655880137082043 </td><td>0.016312053 </td><td>11.427629 </td><td>12.153831 </td><td>10.600687 </td><td>120.83167313285159</td><td>18.352152471500148</td><td>nan               </td><td>nan                     </td><td>nan                     </td><td>nan         </td><td>nan               </td><td>nan               </td><td>K                   </td><td>--               </td><td>-54.24000549316406 </td><td>0.2626350522041321</td><td>gaia    </td><td>nan             </td><td>nan           </td><td>nan           </td><td>nan             </td><td>--        </td><td>nan              </td><td>nan                 </td><td>nan                 </td><td>nan             </td><td>--        </td><td>-0.05000000074505806</td><td>0.019999999552965164</td><td>0.04000000096857548 </td><td>0.0           </td><td>gspspec </td><td>-0.07000000029802322</td><td>0.009999997913837433</td><td>0.010000001639127731</td><td>0.0                </td><td>gspspec      </td><td>-0.09000000357627869</td><td>0.09999999403953552</td><td>0.07000000402331352</td><td>0.0            </td><td>gspspec  </td><td>-0.09000000357627869</td><td>nan          </td><td>nan          </td><td>nan            </td><td>--       </td></tr>\n",
       "<tr><td><i style='opacity: 0.6'>27,001,408</i></td><td>359.99454 </td><td>86.22448  </td><td>13.406</td><td>13.128</td><td>2301053231623032064</td><td>5.500912 </td><td>-5.448609975674909</td><td>0.018498827</td><td>-0.7567577462820062  </td><td>0.016916338</td><td>0.7946582215573009 </td><td>0.014681197 </td><td>14.476669 </td><td>14.788514 </td><td>13.9952135</td><td>122.01626514394927</td><td>23.444591962057483</td><td>1108.1714         </td><td>1040.2518               </td><td>1159.0392               </td><td>0.2963      </td><td>0.2748            </td><td>0.3101            </td><td>F                   </td><td>--               </td><td>-44.64215850830078 </td><td>8.348065376281738 </td><td>gaia    </td><td>6267.61376953125</td><td>48.89794921875</td><td>32.18115234375</td><td>0.0             </td><td>gspphot   </td><td>4.305600166320801</td><td>0.03800010681152344 </td><td>0.04539966583251953 </td><td>0.0             </td><td>gspphot   </td><td>-0.5390999913215637 </td><td>0.03780001401901245 </td><td>0.03270000219345093 </td><td>0.0           </td><td>gspphot </td><td>nan                 </td><td>nan                 </td><td>nan                 </td><td>nan                </td><td>--           </td><td>nan                 </td><td>nan                </td><td>nan                </td><td>nan            </td><td>--       </td><td>nan                 </td><td>nan          </td><td>nan          </td><td>nan            </td><td>--       </td></tr>\n",
       "<tr><td><i style='opacity: 0.6'>27,001,409</i></td><td>359.995476</td><td>84.92868  </td><td>13.169</td><td>12.425</td><td>2300120777043140480</td><td>6.2730036</td><td>1.3006799473864055</td><td>0.026830232</td><td>6.136676962362693    </td><td>0.023876317</td><td>2.421384351130322  </td><td>0.022533393 </td><td>15.102308 </td><td>15.881429 </td><td>14.245196 </td><td>121.71415818417871</td><td>22.17907898056377 </td><td>nan               </td><td>nan                     </td><td>nan                     </td><td>nan         </td><td>nan               </td><td>nan               </td><td>K                   </td><td>--               </td><td>-18.739408493041992</td><td>5.079179763793945 </td><td>gaia    </td><td>nan             </td><td>nan           </td><td>nan           </td><td>nan             </td><td>--        </td><td>nan              </td><td>nan                 </td><td>nan                 </td><td>nan             </td><td>--        </td><td>nan                 </td><td>nan                 </td><td>nan                 </td><td>nan           </td><td>--      </td><td>nan                 </td><td>nan                 </td><td>nan                 </td><td>nan                </td><td>--           </td><td>nan                 </td><td>nan                </td><td>nan                </td><td>nan            </td><td>--       </td><td>nan                 </td><td>nan          </td><td>nan          </td><td>nan            </td><td>--       </td></tr>\n",
       "</tbody>\n",
       "</table>"
      ],
      "text/plain": [
       "#           ra          dec         Jmag    Kmag    source_id            pm         pmra                e_pmra       pmdec                  e_pmdec      parallax             e_parallax    gmag        bpmag       rpmag       GLON                GLAT                distance_gspphot    distance_gspphot_lower    distance_gspphot_upper    ag_gspphot    ag_gspphot_lower    ag_gspphot_upper    spectraltype_esphs    subclass_lamost    rv                   e_rv                rv_cat    teff              e_teff_lower    e_teff_upper    teff_symmetric    teff_cat    logg               e_logg_lower          e_logg_upper          logg_symmetric    logg_cat    mh                    e_mh_lower            e_mh_upper            mh_symmetric    mh_cat    alphafe               e_alphafe_lower       e_alphafe_upper       alphafe_symmetric    alphafe_cat    fem                   e_fem_lower          e_fem_upper          fem_symmetric    fem_cat    feh                   e_feh_lower    e_feh_upper    feh_symmetric    feh_cat\n",
       "0           0.000464    -84.272873  12.869  12.374  4617686126396602368  3.6212091  -2.123925825256161  0.018093891  2.9329329266790864     0.015576468  1.2414398898080128   0.014017576   14.117249   14.546528   13.5242605  304.44429715164756  -32.70355447144384  770.2898            746.2748                  786.9589                  0.2956        0.2926              0.2995              G                     --                 20.11541748046875    3.3252038955688477  gaia      5658.60498046875  4.6826171875    9.59814453125   0.0               gspphot     4.222599983215332  0.01830005645751953   0.026999950408935547  0.0               gspphot     -0.04019999876618385  0.005499999970197678  0.00860000029206276   0.0             gspphot   nan                   nan                   nan                   nan                  --             nan                   nan                  nan                  nan              --         nan                   nan            nan            nan              --\n",
       "1           0.001998    -84.804314  12.523  11.93   4617598371624860928  17.00417   16.266358206309686  0.015283653  4.954528511167747      0.016042866  0.686194890423576    0.013194535   14.117252   14.645076   13.433549   304.29624940743884  -32.18708166475209  nan                 nan                       nan                       nan           nan                 nan                 K                     --                 -23.82164764404297   3.2447915077209473  gaia      nan               nan             nan             nan               --          nan                nan                   nan                   nan               --          nan                   nan                   nan                   nan             --        nan                   nan                   nan                   nan                  --             nan                   nan                  nan                  nan              --         nan                   nan            nan            nan              --\n",
       "2           0.002857    -84.718956  11.746  10.877  4617602769671367936  5.9807105  5.927853781783437   0.014620288  -0.7933771944304462    0.01440706   0.17823265910718195  0.011743693   13.724135   14.456079   12.896074   304.31980747322217  -32.26998931504778  nan                 nan                       nan                       nan           nan                 nan                 K                     --                 131.92237854003906   1.274144172668457   gaia      nan               nan             nan             nan               --          nan                nan                   nan                   nan               --          nan                   nan                   nan                   nan             --        nan                   nan                   nan                   nan                  --             nan                   nan                  nan                  nan              --         nan                   nan            nan            nan              --\n",
       "3           0.004052    -82.750267  13.333  12.872  4630074530064792448  11.209091  10.524865569146224  0.019602386  3.856285092898922      0.02012978   1.027615140072866    0.01769279    14.624002   15.035072   14.034426   304.8768564308389   -34.1827911363649   911.0151            895.5346                  927.2803                  0.619         0.6154              0.624               G                     --                 -43.848968505859375  5.596282482147217   gaia      6107.48193359375  6.27001953125   9.72802734375   0.0               gspphot     4.23859977722168   0.014699935913085938  0.014000415802001953  0.0               gspphot     -0.8342000246047974   0.010099947452545166  0.011700034141540527  0.0             gspphot   nan                   nan                   nan                   nan                  --             nan                   nan                  nan                  nan              --         nan                   nan            nan            nan              --\n",
       "4           0.007844    -82.031616  12.605  12.209  4630918748836674432  18.801056  18.300275763425613  0.016882967  -4.310403819421376     0.018285993  1.1269417803187838   0.013919161   13.798758   14.187072   13.238532   305.0858976745071   -34.88045519689782  856.8555            845.9437                  867.5156                  0.1912        0.1723              0.2052              F                     --                 -27.086830139160156  4.7260613441467285  gaia      5503.93212890625  33.75537109375  24.55908203125  0.0               gspphot     4.139200210571289  0.008400440216064453  0.008799552917480469  0.0               gspphot     -0.7153000235557556   0.03549998998641968   0.026000022888183594  0.0             gspphot   nan                   nan                   nan                   nan                  --             nan                   nan                  nan                  nan              --         nan                   nan            nan            nan              --\n",
       "...         ...         ...         ...     ...     ...                  ...        ...                 ...          ...                    ...          ...                  ...           ...         ...         ...         ...                 ...                 ...                 ...                       ...                       ...           ...                 ...                 ...                   ...                ...                  ...                 ...       ...               ...             ...             ...               ...         ...                ...                   ...                   ...               ...         ...                   ...                   ...                   ...             ...       ...                   ...                   ...                   ...                  ...            ...                   ...                  ...                  ...              ...        ...                   ...            ...            ...              ...\n",
       "27,001,405  359.991162  81.723877   11.903  11.228  2286403269975358080  5.2602525  5.127952329131903   0.016783616  -1.172331463561274     0.016823703  0.45434838996692956  0.014370571   13.8628235  14.56874    13.046526   120.98842984113523  19.046996592015013  nan                 nan                       nan                       nan           nan                 nan                 K                     --                 -14.393659591674805  2.2139320373535156  gaia      nan               nan             nan             nan               --          nan                nan                   nan                   nan               --          nan                   nan                   nan                   nan             --        nan                   nan                   nan                   nan                  --             nan                   nan                  nan                  nan              --         nan                   nan            nan            nan              --\n",
       "27,001,406  359.992311  86.652588   13.491  13.03   2301267842548323584  9.127414   8.573259109347845   0.023041524  3.1319166932358895     0.024572177  1.3792355955819116   0.021768766   14.949071   15.4501915  14.290141   122.11727494824203  23.862584460651433  711.6166            700.939                   723.2191                  0.2872        0.2746              0.2996              K                     --                 nan                  nan                 --        5192.025390625    24.29638671875  24.404296875    0.0               gspphot     4.453800201416016  0.009400367736816406  0.009299755096435547  0.0               gspphot     -0.21570000052452087  0.019099995493888855  0.02199999988079071   0.0             gspphot   nan                   nan                   nan                   nan                  --             nan                   nan                  nan                  nan              --         nan                   nan            nan            nan              --\n",
       "27,001,407  359.992988  81.013268   9.471   8.67    2283307320109693312  4.6164536  -4.616426557011018  0.019822646  -0.015870456188812835  0.020180052  1.0655880137082043   0.016312053   11.427629   12.153831   10.600687   120.83167313285159  18.352152471500148  nan                 nan                       nan                       nan           nan                 nan                 K                     --                 -54.24000549316406   0.2626350522041321  gaia      nan               nan             nan             nan               --          nan                nan                   nan                   nan               --          -0.05000000074505806  0.019999999552965164  0.04000000096857548   0.0             gspspec   -0.07000000029802322  0.009999997913837433  0.010000001639127731  0.0                  gspspec        -0.09000000357627869  0.09999999403953552  0.07000000402331352  0.0              gspspec    -0.09000000357627869  nan            nan            nan              --\n",
       "27,001,408  359.99454   86.22448    13.406  13.128  2301053231623032064  5.500912   -5.448609975674909  0.018498827  -0.7567577462820062    0.016916338  0.7946582215573009   0.014681197   14.476669   14.788514   13.9952135  122.01626514394927  23.444591962057483  1108.1714           1040.2518                 1159.0392                 0.2963        0.2748              0.3101              F                     --                 -44.64215850830078   8.348065376281738   gaia      6267.61376953125  48.89794921875  32.18115234375  0.0               gspphot     4.305600166320801  0.03800010681152344   0.04539966583251953   0.0               gspphot     -0.5390999913215637   0.03780001401901245   0.03270000219345093   0.0             gspphot   nan                   nan                   nan                   nan                  --             nan                   nan                  nan                  nan              --         nan                   nan            nan            nan              --\n",
       "27,001,409  359.995476  84.92868    13.169  12.425  2300120777043140480  6.2730036  1.3006799473864055  0.026830232  6.136676962362693      0.023876317  2.421384351130322    0.022533393   15.102308   15.881429   14.245196   121.71415818417871  22.17907898056377   nan                 nan                       nan                       nan           nan                 nan                 K                     --                 -18.739408493041992  5.079179763793945   gaia      nan               nan             nan             nan               --          nan                nan                   nan                   nan               --          nan                   nan                   nan                   nan             --        nan                   nan                   nan                   nan                  --             nan                   nan                  nan                  nan              --         nan                   nan            nan            nan              --"
      ]
     },
     "execution_count": 27,
     "metadata": {},
     "output_type": "execute_result"
    }
   ],
   "source": [
    "gaia = vaex.open_many(files)\n",
    "gaia"
   ]
  },
  {
   "cell_type": "markdown",
   "metadata": {},
   "source": [
    "#### rv"
   ]
  },
  {
   "cell_type": "code",
   "execution_count": 53,
   "metadata": {},
   "outputs": [
    {
     "name": "stdout",
     "output_type": "stream",
     "text": [
      "None: 4535451\n"
     ]
    },
    {
     "data": {
      "text/html": [
       "<div>\n",
       "<style scoped>\n",
       "    .dataframe tbody tr th:only-of-type {\n",
       "        vertical-align: middle;\n",
       "    }\n",
       "\n",
       "    .dataframe tbody tr th {\n",
       "        vertical-align: top;\n",
       "    }\n",
       "\n",
       "    .dataframe thead th {\n",
       "        text-align: right;\n",
       "    }\n",
       "</style>\n",
       "<table border=\"1\" class=\"dataframe\">\n",
       "  <thead>\n",
       "    <tr style=\"text-align: right;\">\n",
       "      <th></th>\n",
       "      <th>rv_cat</th>\n",
       "      <th>count</th>\n",
       "    </tr>\n",
       "  </thead>\n",
       "  <tbody>\n",
       "    <tr>\n",
       "      <th>2</th>\n",
       "      <td>apogee</td>\n",
       "      <td>309517</td>\n",
       "    </tr>\n",
       "    <tr>\n",
       "      <th>5</th>\n",
       "      <td>gaia</td>\n",
       "      <td>21336408</td>\n",
       "    </tr>\n",
       "    <tr>\n",
       "      <th>1</th>\n",
       "      <td>galah</td>\n",
       "      <td>341435</td>\n",
       "    </tr>\n",
       "    <tr>\n",
       "      <th>4</th>\n",
       "      <td>lamost</td>\n",
       "      <td>446035</td>\n",
       "    </tr>\n",
       "    <tr>\n",
       "      <th>3</th>\n",
       "      <td>rave</td>\n",
       "      <td>32564</td>\n",
       "    </tr>\n",
       "    <tr>\n",
       "      <th>0</th>\n",
       "      <td>None</td>\n",
       "      <td>4535451</td>\n",
       "    </tr>\n",
       "  </tbody>\n",
       "</table>\n",
       "</div>"
      ],
      "text/plain": [
       "   rv_cat     count\n",
       "2  apogee    309517\n",
       "5    gaia  21336408\n",
       "1   galah    341435\n",
       "4  lamost    446035\n",
       "3    rave     32564\n",
       "0    None   4535451"
      ]
     },
     "execution_count": 53,
     "metadata": {},
     "output_type": "execute_result"
    }
   ],
   "source": [
    "df_rv_nan = gaia[gaia.rv.isnan()]\n",
    "none = len(df_rv_nan)\n",
    "\n",
    "df_rv = gaia.groupby('rv_cat', agg={'count': vaex.agg.count('rv_cat')})\n",
    "df_rv = df_rv.to_pandas_df()\n",
    "df_rv.at[0, 'count'] = none\n",
    "df_rv.sort_values(by='rv_cat', ascending=True, inplace=True)\n",
    "df_rv"
   ]
  },
  {
   "cell_type": "code",
   "execution_count": 54,
   "metadata": {},
   "outputs": [
    {
     "data": {
      "image/png": "[encoded data removed]",
      "text/plain": [
       "<Figure size 720x432 with 1 Axes>"
      ]
     },
     "metadata": {
      "needs_background": "light"
     },
     "output_type": "display_data"
    }
   ],
   "source": [
    "x = df_rv['rv_cat'].values.astype(str)\n",
    "y = df_rv['count'].values\n",
    "\n",
    "fig, ax = plt.subplots(figsize=(10, 6))\n",
    "ax.bar(x, y)\n",
    "ax.set_ylabel('count')\n",
    "ax.set_yscale('log')\n",
    "ax.set_title('RV categories')\n",
    "ax.yaxis.grid(True)\n",
    "plt.show()"
   ]
  },
  {
   "cell_type": "markdown",
   "metadata": {},
   "source": [
    "#### teff"
   ]
  },
  {
   "cell_type": "code",
   "execution_count": 55,
   "metadata": {},
   "outputs": [
    {
     "name": "stdout",
     "output_type": "stream",
     "text": [
      "None: 5285335\n"
     ]
    },
    {
     "data": {
      "text/html": [
       "<div>\n",
       "<style scoped>\n",
       "    .dataframe tbody tr th:only-of-type {\n",
       "        vertical-align: middle;\n",
       "    }\n",
       "\n",
       "    .dataframe tbody tr th {\n",
       "        vertical-align: top;\n",
       "    }\n",
       "\n",
       "    .dataframe thead th {\n",
       "        text-align: right;\n",
       "    }\n",
       "</style>\n",
       "<table border=\"1\" class=\"dataframe\">\n",
       "  <thead>\n",
       "    <tr style=\"text-align: right;\">\n",
       "      <th></th>\n",
       "      <th>teff_cat</th>\n",
       "      <th>count</th>\n",
       "    </tr>\n",
       "  </thead>\n",
       "  <tbody>\n",
       "    <tr>\n",
       "      <th>2</th>\n",
       "      <td>apogee</td>\n",
       "      <td>193399</td>\n",
       "    </tr>\n",
       "    <tr>\n",
       "      <th>1</th>\n",
       "      <td>galah</td>\n",
       "      <td>100084</td>\n",
       "    </tr>\n",
       "    <tr>\n",
       "      <th>3</th>\n",
       "      <td>gspphot</td>\n",
       "      <td>20823162</td>\n",
       "    </tr>\n",
       "    <tr>\n",
       "      <th>5</th>\n",
       "      <td>lamost</td>\n",
       "      <td>470314</td>\n",
       "    </tr>\n",
       "    <tr>\n",
       "      <th>4</th>\n",
       "      <td>rave</td>\n",
       "      <td>129116</td>\n",
       "    </tr>\n",
       "    <tr>\n",
       "      <th>0</th>\n",
       "      <td>None</td>\n",
       "      <td>5285335</td>\n",
       "    </tr>\n",
       "  </tbody>\n",
       "</table>\n",
       "</div>"
      ],
      "text/plain": [
       "  teff_cat     count\n",
       "2   apogee    193399\n",
       "1    galah    100084\n",
       "3  gspphot  20823162\n",
       "5   lamost    470314\n",
       "4     rave    129116\n",
       "0     None   5285335"
      ]
     },
     "execution_count": 55,
     "metadata": {},
     "output_type": "execute_result"
    }
   ],
   "source": [
    "df_teff_nan = gaia[gaia.teff.isnan()]\n",
    "none = len(df_teff_nan)\n",
    "\n",
    "df_teff = gaia.groupby('teff_cat', agg={'count': vaex.agg.count('teff_cat')})\n",
    "df_teff = df_teff.to_pandas_df()\n",
    "df_teff.at[0, 'count'] = none\n",
    "df_teff.sort_values(by='teff_cat', ascending=True, inplace=True)\n",
    "df_teff"
   ]
  },
  {
   "cell_type": "code",
   "execution_count": 56,
   "metadata": {},
   "outputs": [
    {
     "data": {
      "image/png": "[encoded data removed]",
      "text/plain": [
       "<Figure size 720x432 with 1 Axes>"
      ]
     },
     "metadata": {
      "needs_background": "light"
     },
     "output_type": "display_data"
    }
   ],
   "source": [
    "x = df_teff['teff_cat'].values.astype(str)\n",
    "y = df_teff['count'].values\n",
    "\n",
    "fig, ax = plt.subplots(figsize=(10, 6))\n",
    "ax.bar(x, y)\n",
    "ax.set_ylabel('count')\n",
    "ax.set_yscale('log')\n",
    "ax.set_title('Teff categories')\n",
    "ax.yaxis.grid(True)\n",
    "plt.show()"
   ]
  },
  {
   "cell_type": "markdown",
   "metadata": {},
   "source": [
    "#### logg"
   ]
  },
  {
   "cell_type": "code",
   "execution_count": 58,
   "metadata": {},
   "outputs": [
    {
     "data": {
      "text/html": [
       "<div>\n",
       "<style scoped>\n",
       "    .dataframe tbody tr th:only-of-type {\n",
       "        vertical-align: middle;\n",
       "    }\n",
       "\n",
       "    .dataframe tbody tr th {\n",
       "        vertical-align: top;\n",
       "    }\n",
       "\n",
       "    .dataframe thead th {\n",
       "        text-align: right;\n",
       "    }\n",
       "</style>\n",
       "<table border=\"1\" class=\"dataframe\">\n",
       "  <thead>\n",
       "    <tr style=\"text-align: right;\">\n",
       "      <th></th>\n",
       "      <th>logg_cat</th>\n",
       "      <th>count</th>\n",
       "    </tr>\n",
       "  </thead>\n",
       "  <tbody>\n",
       "    <tr>\n",
       "      <th>2</th>\n",
       "      <td>apogee</td>\n",
       "      <td>173968</td>\n",
       "    </tr>\n",
       "    <tr>\n",
       "      <th>1</th>\n",
       "      <td>galah</td>\n",
       "      <td>101335</td>\n",
       "    </tr>\n",
       "    <tr>\n",
       "      <th>3</th>\n",
       "      <td>gspphot</td>\n",
       "      <td>20957054</td>\n",
       "    </tr>\n",
       "    <tr>\n",
       "      <th>5</th>\n",
       "      <td>lamost</td>\n",
       "      <td>354593</td>\n",
       "    </tr>\n",
       "    <tr>\n",
       "      <th>4</th>\n",
       "      <td>rave</td>\n",
       "      <td>129116</td>\n",
       "    </tr>\n",
       "    <tr>\n",
       "      <th>0</th>\n",
       "      <td>None</td>\n",
       "      <td>5285344</td>\n",
       "    </tr>\n",
       "  </tbody>\n",
       "</table>\n",
       "</div>"
      ],
      "text/plain": [
       "  logg_cat     count\n",
       "2   apogee    173968\n",
       "1    galah    101335\n",
       "3  gspphot  20957054\n",
       "5   lamost    354593\n",
       "4     rave    129116\n",
       "0     None   5285344"
      ]
     },
     "execution_count": 58,
     "metadata": {},
     "output_type": "execute_result"
    }
   ],
   "source": [
    "df_logg_nan = gaia[gaia.logg.isnan()]\n",
    "none = len(df_logg_nan)\n",
    "\n",
    "df_logg = gaia.groupby('logg_cat', agg={'count': vaex.agg.count('logg_cat')})\n",
    "df_logg = df_logg.to_pandas_df()\n",
    "df_logg.at[0, 'count'] = none\n",
    "df_logg.sort_values(by='logg_cat', ascending=True, inplace=True)\n",
    "df_logg"
   ]
  },
  {
   "cell_type": "code",
   "execution_count": 59,
   "metadata": {},
   "outputs": [
    {
     "data": {
      "image/png": "[encoded data removed]",
      "text/plain": [
       "<Figure size 720x432 with 1 Axes>"
      ]
     },
     "metadata": {
      "needs_background": "light"
     },
     "output_type": "display_data"
    }
   ],
   "source": [
    "x = df_logg['logg_cat'].values.astype(str)\n",
    "y = df_logg['count'].values\n",
    "\n",
    "fig, ax = plt.subplots(figsize=(10, 6))\n",
    "ax.bar(x, y)\n",
    "ax.set_ylabel('count')\n",
    "ax.set_yscale('log')\n",
    "ax.set_title('logg categories')\n",
    "ax.yaxis.grid(True)\n",
    "plt.show()"
   ]
  },
  {
   "cell_type": "markdown",
   "metadata": {},
   "source": [
    "#### feh"
   ]
  },
  {
   "cell_type": "code",
   "execution_count": 60,
   "metadata": {},
   "outputs": [
    {
     "data": {
      "text/html": [
       "<div>\n",
       "<style scoped>\n",
       "    .dataframe tbody tr th:only-of-type {\n",
       "        vertical-align: middle;\n",
       "    }\n",
       "\n",
       "    .dataframe tbody tr th {\n",
       "        vertical-align: top;\n",
       "    }\n",
       "\n",
       "    .dataframe thead th {\n",
       "        text-align: right;\n",
       "    }\n",
       "</style>\n",
       "<table border=\"1\" class=\"dataframe\">\n",
       "  <thead>\n",
       "    <tr style=\"text-align: right;\">\n",
       "      <th></th>\n",
       "      <th>feh_cat</th>\n",
       "      <th>count</th>\n",
       "    </tr>\n",
       "  </thead>\n",
       "  <tbody>\n",
       "    <tr>\n",
       "      <th>2</th>\n",
       "      <td>apogee</td>\n",
       "      <td>360809</td>\n",
       "    </tr>\n",
       "    <tr>\n",
       "      <th>1</th>\n",
       "      <td>galah</td>\n",
       "      <td>337593</td>\n",
       "    </tr>\n",
       "    <tr>\n",
       "      <th>3</th>\n",
       "      <td>lamost</td>\n",
       "      <td>1483578</td>\n",
       "    </tr>\n",
       "    <tr>\n",
       "      <th>0</th>\n",
       "      <td>None</td>\n",
       "      <td>25600841</td>\n",
       "    </tr>\n",
       "  </tbody>\n",
       "</table>\n",
       "</div>"
      ],
      "text/plain": [
       "  feh_cat     count\n",
       "2  apogee    360809\n",
       "1   galah    337593\n",
       "3  lamost   1483578\n",
       "0    None  25600841"
      ]
     },
     "execution_count": 60,
     "metadata": {},
     "output_type": "execute_result"
    }
   ],
   "source": [
    "df_feh_nan = gaia[gaia.feh.isnan()]\n",
    "none = len(df_feh_nan)\n",
    "\n",
    "df_feh = gaia.groupby('feh_cat', agg={'count': vaex.agg.count('feh_cat')})\n",
    "df_feh = df_feh.to_pandas_df()\n",
    "df_feh.at[0, 'count'] = none\n",
    "df_feh.sort_values(by='feh_cat', ascending=True, inplace=True)\n",
    "df_feh"
   ]
  },
  {
   "cell_type": "code",
   "execution_count": 61,
   "metadata": {},
   "outputs": [
    {
     "data": {
      "image/png": "[encoded data removed]",
      "text/plain": [
       "<Figure size 720x432 with 1 Axes>"
      ]
     },
     "metadata": {
      "needs_background": "light"
     },
     "output_type": "display_data"
    }
   ],
   "source": [
    "x = df_feh['feh_cat'].values.astype(str)\n",
    "y = df_feh['count'].values\n",
    "\n",
    "fig, ax = plt.subplots(figsize=(10, 6))\n",
    "ax.bar(x, y)\n",
    "ax.set_ylabel('count')\n",
    "ax.set_yscale('log')\n",
    "ax.set_title('feh categories')\n",
    "ax.yaxis.grid(True)\n",
    "plt.show()"
   ]
  },
  {
   "cell_type": "markdown",
   "metadata": {},
   "source": [
    "#### mh"
   ]
  },
  {
   "cell_type": "code",
   "execution_count": 62,
   "metadata": {},
   "outputs": [
    {
     "data": {
      "text/html": [
       "<div>\n",
       "<style scoped>\n",
       "    .dataframe tbody tr th:only-of-type {\n",
       "        vertical-align: middle;\n",
       "    }\n",
       "\n",
       "    .dataframe tbody tr th {\n",
       "        vertical-align: top;\n",
       "    }\n",
       "\n",
       "    .dataframe thead th {\n",
       "        text-align: right;\n",
       "    }\n",
       "</style>\n",
       "<table border=\"1\" class=\"dataframe\">\n",
       "  <thead>\n",
       "    <tr style=\"text-align: right;\">\n",
       "      <th></th>\n",
       "      <th>mh_cat</th>\n",
       "      <th>count</th>\n",
       "    </tr>\n",
       "  </thead>\n",
       "  <tbody>\n",
       "    <tr>\n",
       "      <th>2</th>\n",
       "      <td>apogee</td>\n",
       "      <td>217944</td>\n",
       "    </tr>\n",
       "    <tr>\n",
       "      <th>3</th>\n",
       "      <td>gspphot</td>\n",
       "      <td>20952974</td>\n",
       "    </tr>\n",
       "    <tr>\n",
       "      <th>1</th>\n",
       "      <td>gspspec</td>\n",
       "      <td>1752177</td>\n",
       "    </tr>\n",
       "    <tr>\n",
       "      <th>4</th>\n",
       "      <td>rave</td>\n",
       "      <td>9370</td>\n",
       "    </tr>\n",
       "    <tr>\n",
       "      <th>0</th>\n",
       "      <td>None</td>\n",
       "      <td>4068945</td>\n",
       "    </tr>\n",
       "  </tbody>\n",
       "</table>\n",
       "</div>"
      ],
      "text/plain": [
       "    mh_cat     count\n",
       "2   apogee    217944\n",
       "3  gspphot  20952974\n",
       "1  gspspec   1752177\n",
       "4     rave      9370\n",
       "0     None   4068945"
      ]
     },
     "execution_count": 62,
     "metadata": {},
     "output_type": "execute_result"
    }
   ],
   "source": [
    "df_mh_nan = gaia[gaia.mh.isnan()]\n",
    "none = len(df_mh_nan)\n",
    "\n",
    "df_mh = gaia.groupby('mh_cat', agg={'count': vaex.agg.count('mh_cat')})\n",
    "df_mh = df_mh.to_pandas_df()\n",
    "df_mh.at[0, 'count'] = none\n",
    "df_mh.sort_values(by='mh_cat', ascending=True, inplace=True)\n",
    "df_mh"
   ]
  },
  {
   "cell_type": "code",
   "execution_count": 63,
   "metadata": {},
   "outputs": [
    {
     "data": {
      "image/png": "[encoded data removed]",
      "text/plain": [
       "<Figure size 720x432 with 1 Axes>"
      ]
     },
     "metadata": {
      "needs_background": "light"
     },
     "output_type": "display_data"
    }
   ],
   "source": [
    "x = df_mh['mh_cat'].values.astype(str)\n",
    "y = df_mh['count'].values\n",
    "\n",
    "fig, ax = plt.subplots(figsize=(10, 6))\n",
    "ax.bar(x, y)\n",
    "ax.set_ylabel('count')\n",
    "ax.set_yscale('log')\n",
    "ax.set_title('mh categories')\n",
    "ax.yaxis.grid(True)\n",
    "plt.show()\n"
   ]
  },
  {
   "cell_type": "markdown",
   "metadata": {},
   "source": [
    "#### alpha"
   ]
  },
  {
   "cell_type": "code",
   "execution_count": 64,
   "metadata": {},
   "outputs": [
    {
     "data": {
      "text/html": [
       "<div>\n",
       "<style scoped>\n",
       "    .dataframe tbody tr th:only-of-type {\n",
       "        vertical-align: middle;\n",
       "    }\n",
       "\n",
       "    .dataframe tbody tr th {\n",
       "        vertical-align: top;\n",
       "    }\n",
       "\n",
       "    .dataframe thead th {\n",
       "        text-align: right;\n",
       "    }\n",
       "</style>\n",
       "<table border=\"1\" class=\"dataframe\">\n",
       "  <thead>\n",
       "    <tr style=\"text-align: right;\">\n",
       "      <th></th>\n",
       "      <th>alphafe_cat</th>\n",
       "      <th>count</th>\n",
       "    </tr>\n",
       "  </thead>\n",
       "  <tbody>\n",
       "    <tr>\n",
       "      <th>1</th>\n",
       "      <td>galah</td>\n",
       "      <td>238282</td>\n",
       "    </tr>\n",
       "    <tr>\n",
       "      <th>2</th>\n",
       "      <td>gspspec</td>\n",
       "      <td>3859117</td>\n",
       "    </tr>\n",
       "    <tr>\n",
       "      <th>3</th>\n",
       "      <td>rave</td>\n",
       "      <td>50194</td>\n",
       "    </tr>\n",
       "    <tr>\n",
       "      <th>0</th>\n",
       "      <td>None</td>\n",
       "      <td>22853817</td>\n",
       "    </tr>\n",
       "  </tbody>\n",
       "</table>\n",
       "</div>"
      ],
      "text/plain": [
       "  alphafe_cat     count\n",
       "1       galah    238282\n",
       "2     gspspec   3859117\n",
       "3        rave     50194\n",
       "0        None  22853817"
      ]
     },
     "execution_count": 64,
     "metadata": {},
     "output_type": "execute_result"
    }
   ],
   "source": [
    "df_alpha_nan = gaia[gaia.alphafe.isnan()]\n",
    "none = len(df_alpha_nan)\n",
    "\n",
    "df_alpha = gaia.groupby('alphafe_cat', agg={'count': vaex.agg.count('alphafe_cat')})\n",
    "df_alpha = df_alpha.to_pandas_df()\n",
    "df_alpha.at[0, 'count'] = none\n",
    "df_alpha.sort_values(by='alphafe_cat', ascending=True, inplace=True)\n",
    "df_alpha"
   ]
  },
  {
   "cell_type": "code",
   "execution_count": 65,
   "metadata": {},
   "outputs": [
    {
     "data": {
      "image/png": "[encoded data removed]",
      "text/plain": [
       "<Figure size 720x432 with 1 Axes>"
      ]
     },
     "metadata": {
      "needs_background": "light"
     },
     "output_type": "display_data"
    }
   ],
   "source": [
    "x = df_alpha['alphafe_cat'].values.astype(str)\n",
    "y = df_alpha['count'].values\n",
    "\n",
    "fig, ax = plt.subplots(figsize=(10, 6))\n",
    "ax.bar(x, y)\n",
    "ax.set_ylabel('count')\n",
    "ax.set_yscale('log')\n",
    "ax.set_title('alphafe categories')\n",
    "ax.yaxis.grid(True)\n",
    "plt.show()"
   ]
  }
 ],
 "metadata": {
  "kernelspec": {
   "display_name": "Python 3.9.7 ('vaex2')",
   "language": "python",
   "name": "python3"
  },
  "language_info": {
   "codemirror_mode": {
    "name": "ipython",
    "version": 3
   },
   "file_extension": ".py",
   "mimetype": "text/x-python",
   "name": "python",
   "nbconvert_exporter": "python",
   "pygments_lexer": "ipython3",
   "version": "3.9.15"
  },
  "orig_nbformat": 4,
  "vscode": {
   "interpreter": {
    "hash": "ce24ca8aae0c18c4327bef86187bd310e85b0b68e0fbab549c3fc8d824c6eee6"
   }
  }
 },
 "nbformat": 4,
 "nbformat_minor": 2
}
