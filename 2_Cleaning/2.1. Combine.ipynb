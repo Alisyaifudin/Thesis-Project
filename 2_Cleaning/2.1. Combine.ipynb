{
 "cells": [
  {
   "cell_type": "code",
   "execution_count": 1,
   "metadata": {
    "execution": {
     "iopub.execute_input": "2023-01-18T16:26:30.255049Z",
     "iopub.status.busy": "2023-01-18T16:26:30.254612Z",
     "iopub.status.idle": "2023-01-18T16:26:31.805657Z",
     "shell.execute_reply": "2023-01-18T16:26:31.804956Z",
     "shell.execute_reply.started": "2023-01-18T16:26:30.254971Z"
    },
    "tags": []
   },
   "outputs": [],
   "source": [
    "import vaex\n",
    "from glob import glob\n",
    "from os.path import join, abspath\n",
    "from os import pardir, mkdir\n",
    "import numpy as np\n",
    "from matplotlib import pyplot as plt"
   ]
  },
  {
   "cell_type": "code",
   "execution_count": 2,
   "metadata": {
    "execution": {
     "iopub.execute_input": "2023-01-18T16:26:33.787576Z",
     "iopub.status.busy": "2023-01-18T16:26:33.786878Z",
     "iopub.status.idle": "2023-01-18T16:26:33.792622Z",
     "shell.execute_reply": "2023-01-18T16:26:33.791438Z",
     "shell.execute_reply.started": "2023-01-18T16:26:33.787530Z"
    },
    "tags": []
   },
   "outputs": [],
   "source": [
    "root_data_dir = abspath(join(pardir, \"Data\"))"
   ]
  },
  {
   "cell_type": "code",
   "execution_count": 3,
   "metadata": {
    "execution": {
     "iopub.execute_input": "2023-01-18T16:26:35.503156Z",
     "iopub.status.busy": "2023-01-18T16:26:35.502576Z",
     "iopub.status.idle": "2023-01-18T16:26:35.518748Z",
     "shell.execute_reply": "2023-01-18T16:26:35.517897Z",
     "shell.execute_reply.started": "2023-01-18T16:26:35.503102Z"
    },
    "tags": []
   },
   "outputs": [
    {
     "name": "stdout",
     "output_type": "stream",
     "text": [
      "Directory already exist. Good to go!\n"
     ]
    },
    {
     "data": {
      "text/plain": [
       "'/home2/s20321005/Thesis-Project/Data/Combine'"
      ]
     },
     "execution_count": 3,
     "metadata": {},
     "output_type": "execute_result"
    }
   ],
   "source": [
    "name = \"Combine\"\n",
    "data_dir = join(root_data_dir, name)\n",
    "try:\n",
    "  mkdir(data_dir)\n",
    "  print(f\"Creating {name} dir in Data dir\")\n",
    "except FileExistsError:\n",
    "  print(\"Directory already exist. Good to go!\")\n",
    "data_dir"
   ]
  },
  {
   "cell_type": "code",
   "execution_count": 4,
   "metadata": {
    "execution": {
     "iopub.execute_input": "2023-01-18T16:26:37.910680Z",
     "iopub.status.busy": "2023-01-18T16:26:37.910149Z",
     "iopub.status.idle": "2023-01-18T16:26:37.921842Z",
     "shell.execute_reply": "2023-01-18T16:26:37.920668Z",
     "shell.execute_reply.started": "2023-01-18T16:26:37.910632Z"
    },
    "tags": []
   },
   "outputs": [
    {
     "data": {
      "text/plain": [
       "['/home2/s20321005/Thesis-Project/Data/Gaia-2MASS/gaia-000-001.hdf5',\n",
       " '/home2/s20321005/Thesis-Project/Data/Gaia-2MASS/gaia-001-002.hdf5',\n",
       " '/home2/s20321005/Thesis-Project/Data/Gaia-2MASS/gaia-002-003.hdf5',\n",
       " '/home2/s20321005/Thesis-Project/Data/Gaia-2MASS/gaia-003-004.hdf5',\n",
       " '/home2/s20321005/Thesis-Project/Data/Gaia-2MASS/gaia-004-005.hdf5']"
      ]
     },
     "execution_count": 4,
     "metadata": {},
     "output_type": "execute_result"
    }
   ],
   "source": [
    "# load Gaia-2MASS\n",
    "name = \"Gaia-2MASS\"\n",
    "gaia_dir = join(root_data_dir, name)\n",
    "gaia_files = glob(join(gaia_dir, \"*.hdf5\"))\n",
    "gaia_files.sort()\n",
    "gaia_files[:5]"
   ]
  },
  {
   "cell_type": "code",
   "execution_count": 5,
   "metadata": {
    "execution": {
     "iopub.execute_input": "2023-01-18T16:26:42.657708Z",
     "iopub.status.busy": "2023-01-18T16:26:42.657108Z",
     "iopub.status.idle": "2023-01-18T16:26:42.662512Z",
     "shell.execute_reply": "2023-01-18T16:26:42.661094Z",
     "shell.execute_reply.started": "2023-01-18T16:26:42.657654Z"
    },
    "tags": []
   },
   "outputs": [],
   "source": [
    "gaia_ = vaex.open_many(gaia_files)\n",
    "gaia_"
   ]
  },
  {
   "cell_type": "code",
   "execution_count": null,
   "metadata": {
    "execution": {
     "iopub.status.busy": "2023-01-18T16:26:14.471080Z",
     "iopub.status.idle": "2023-01-18T16:26:14.471406Z",
     "shell.execute_reply": "2023-01-18T16:26:14.471280Z"
    },
    "tags": []
   },
   "outputs": [],
   "source": [
    "gaia = (gaia_.filter(\"parallax > 0\")\n",
    "                    .filter(\"e_parallax/parallax < 0.15\")\n",
    "                    .filter(\"bpmag - rpmag > -3\")\n",
    "                    .filter(\"bpmag - rpmag < 6\")\n",
    "                    .filter(\"gmag > 3\")\n",
    "                    .filter(\"gmag < 21\")\n",
    "                    .filter(\"fb_over_err > 10\")\n",
    "                    .filter(\"fr_over_err > 10\")\n",
    "                    .filter(\"ruwe < 1.4\")\n",
    "                    .filter(\"1.0+0.015*(bpmag - rpmag)**2 < excess_factor\")\n",
    "                    .filter(\"1.3+0.06*(bpmag - rpmag)**2 > excess_factor\")\n",
    "                    .filter(\"Jmag < 13.5\")\n",
    "                    .filter(\"Jmag > 0\")\n",
    "               )\n",
    "gaia"
   ]
  },
  {
   "cell_type": "markdown",
   "metadata": {},
   "source": [
    "# RAVE6"
   ]
  },
  {
   "cell_type": "code",
   "execution_count": null,
   "metadata": {
    "execution": {
     "iopub.status.busy": "2023-01-18T16:26:14.473952Z",
     "iopub.status.idle": "2023-01-18T16:26:14.474239Z",
     "shell.execute_reply": "2023-01-18T16:26:14.474119Z"
    },
    "tags": []
   },
   "outputs": [],
   "source": [
    "name = \"rave\"\n",
    "data_dir_rave = join(data_dir, name)\n",
    "try:\n",
    "  mkdir(data_dir_rave)\n",
    "  print(f\"Creating {name} dir in Data/Combine dir\")\n",
    "except FileExistsError:\n",
    "  print(\"Directory already exist. Good to go!\")\n",
    "data_dir_rave"
   ]
  },
  {
   "cell_type": "code",
   "execution_count": null,
   "metadata": {
    "execution": {
     "iopub.status.busy": "2023-01-18T16:26:14.475087Z",
     "iopub.status.idle": "2023-01-18T16:26:14.475373Z",
     "shell.execute_reply": "2023-01-18T16:26:14.475251Z"
    },
    "tags": []
   },
   "outputs": [],
   "source": [
    "name = \"RAVE6\"\n",
    "rave_dir = join(root_data_dir, name)\n",
    "rave = vaex.open(join(rave_dir, \"rave6.hdf5\"))\n",
    "rave"
   ]
  },
  {
   "cell_type": "code",
   "execution_count": null,
   "metadata": {
    "execution": {
     "iopub.status.busy": "2023-01-18T16:26:14.476166Z",
     "iopub.status.idle": "2023-01-18T16:26:14.476453Z",
     "shell.execute_reply": "2023-01-18T16:26:14.476327Z"
    },
    "tags": []
   },
   "outputs": [],
   "source": [
    "# Join\n",
    "cols = rave.column_names\n",
    "for file in gaia_files:\n",
    "    gaia = vaex.open(file)\n",
    "    gaia_clean = (gaia.filter(\"parallax > 0\")\n",
    "                      .filter(\"e_parallax/parallax < 0.15\")\n",
    "                      .filter(\"bpmag - rpmag > -3\")\n",
    "                      .filter(\"bpmag - rpmag < 6\")\n",
    "                      .filter(\"gmag > 3\")\n",
    "                      .filter(\"gmag < 21\")\n",
    "                      .filter(\"fb_over_err > 10\")\n",
    "                      .filter(\"fr_over_err > 10\")\n",
    "                      .filter(\"ruwe < 1.4\")\n",
    "                      .filter(\"1.0+0.015*(bpmag - rpmag)**2 < excess_factor\")\n",
    "                      .filter(\"1.3+0.06*(bpmag - rpmag)**2 > excess_factor\")\n",
    "                      .filter(\"Jmag < 13.5\")\n",
    "                      .filter(\"Jmag > 0\")\n",
    "                 )\n",
    "    ph_qual_filter = gaia_clean['ph_qual'].str.contains('^A.+A$')\n",
    "    gaia_clean = gaia_clean[ph_qual_filter]\n",
    "    gaia_clean = gaia_clean.extract()\n",
    "    name = file.split(\"/\")[-1]\n",
    "    print(f\"{name}, clean: {len(gaia_clean)}, raw: {len(gaia)}, {np.round(len(gaia_clean)/len(gaia)*100,2)}%\")\n",
    "    join_rave = gaia_clean.join(rave, on=\"source_id\", how=\"left\")\n",
    "    for col in cols:\n",
    "        if col == \"source_id\": continue\n",
    "        join_rave[col] = join_rave[col].to_pandas_series().to_numpy() # Do this to make np.nan value to no value\n",
    "    join_rave.export(join(data_dir_rave, name), progress=True) # save the result if necessary\n",
    "join_rave"
   ]
  },
  {
   "cell_type": "code",
   "execution_count": null,
   "metadata": {
    "execution": {
     "iopub.status.busy": "2023-01-18T16:26:14.478179Z",
     "iopub.status.idle": "2023-01-18T16:26:14.478485Z",
     "shell.execute_reply": "2023-01-18T16:26:14.478347Z"
    },
    "tags": []
   },
   "outputs": [],
   "source": [
    "#quick look\n",
    "quick = vaex.open_many(glob(join(data_dir_rave, \"*.hdf5\")))\n",
    "quick"
   ]
  },
  {
   "cell_type": "code",
   "execution_count": null,
   "metadata": {
    "execution": {
     "iopub.status.busy": "2023-01-18T16:26:14.479277Z",
     "iopub.status.idle": "2023-01-18T16:26:14.479562Z",
     "shell.execute_reply": "2023-01-18T16:26:14.479441Z"
    },
    "jupyter": {
     "source_hidden": true
    },
    "tags": []
   },
   "outputs": [],
   "source": [
    "gaia_filt = quick.filter(\"1000/parallax < 200\")\n",
    "gaia_filt = gaia_filt.extract()\n",
    "gaia_filt"
   ]
  },
  {
   "cell_type": "code",
   "execution_count": null,
   "metadata": {
    "execution": {
     "iopub.status.busy": "2023-01-18T16:26:14.480199Z",
     "iopub.status.idle": "2023-01-18T16:26:14.480497Z",
     "shell.execute_reply": "2023-01-18T16:26:14.480376Z"
    },
    "jupyter": {
     "source_hidden": true
    },
    "tags": []
   },
   "outputs": [],
   "source": [
    "gaia_filt[\"GLON\"] = gaia_filt[\"GLON\"]*np.pi/180 - np.pi\n",
    "gaia_filt[\"GLAT\"] = gaia_filt[\"GLAT\"]*np.pi/180\n",
    "gaia_filt"
   ]
  },
  {
   "cell_type": "code",
   "execution_count": null,
   "metadata": {
    "execution": {
     "iopub.status.busy": "2023-01-18T16:26:14.481283Z",
     "iopub.status.idle": "2023-01-18T16:26:14.481584Z",
     "shell.execute_reply": "2023-01-18T16:26:14.481463Z"
    },
    "jupyter": {
     "source_hidden": true
    },
    "tags": []
   },
   "outputs": [],
   "source": [
    "plt.figure(figsize=(14,7))\n",
    "plt.subplot(111, projection='aitoff')\n",
    "gaia_filt.viz.scatter(\"GLON\", \"GLAT\", length_check=False, s=0.1, alpha=1)\n",
    "plt.grid(True)\n",
    "plt.show()"
   ]
  },
  {
   "cell_type": "markdown",
   "metadata": {},
   "source": [
    "# GALAH\n",
    "\n",
    "prereq: After joining with rave"
   ]
  },
  {
   "cell_type": "code",
   "execution_count": null,
   "metadata": {
    "execution": {
     "iopub.status.busy": "2023-01-18T16:26:14.482291Z",
     "iopub.status.idle": "2023-01-18T16:26:14.482594Z",
     "shell.execute_reply": "2023-01-18T16:26:14.482457Z"
    },
    "tags": []
   },
   "outputs": [],
   "source": [
    "name = \"rave-galah\"\n",
    "data_dir_galah = join(data_dir, name)\n",
    "try:\n",
    "  mkdir(data_dir_galah)\n",
    "  print(f\"Creating {name} dir in Data/Combine dir\")\n",
    "except FileExistsError:\n",
    "  print(\"Directory already exist. Good to go!\")\n",
    "data_dir_galah"
   ]
  },
  {
   "cell_type": "code",
   "execution_count": null,
   "metadata": {
    "execution": {
     "iopub.status.busy": "2023-01-18T16:26:14.483437Z",
     "iopub.status.idle": "2023-01-18T16:26:14.483773Z",
     "shell.execute_reply": "2023-01-18T16:26:14.483606Z"
    },
    "tags": []
   },
   "outputs": [],
   "source": [
    "name = \"GALAH\"\n",
    "galah_dir = join(root_data_dir, name)\n",
    "galah_files = glob(join(galah_dir, \"*.hdf5\"))\n",
    "galah_files.sort()\n",
    "galah = vaex.open_many(galah_files)\n",
    "galah"
   ]
  },
  {
   "cell_type": "code",
   "execution_count": null,
   "metadata": {
    "execution": {
     "iopub.status.busy": "2023-01-18T16:26:14.484402Z",
     "iopub.status.idle": "2023-01-18T16:26:14.484684Z",
     "shell.execute_reply": "2023-01-18T16:26:14.484563Z"
    },
    "tags": []
   },
   "outputs": [],
   "source": [
    "# let's say gaia + rave is in the following path\n",
    "files_join_rave = glob(join(data_dir_rave, \"*.hdf5\"))\n",
    "files_join_rave.sort()\n",
    "files_join_rave[:5]"
   ]
  },
  {
   "cell_type": "code",
   "execution_count": null,
   "metadata": {
    "execution": {
     "iopub.status.busy": "2023-01-18T16:26:14.485402Z",
     "iopub.status.idle": "2023-01-18T16:26:14.485696Z",
     "shell.execute_reply": "2023-01-18T16:26:14.485571Z"
    },
    "tags": []
   },
   "outputs": [],
   "source": [
    "# Join with galah\n",
    "cols = galah.column_names\n",
    "for file in files_join_rave:\n",
    "    gaia = vaex.open(file)\n",
    "    join_galah = gaia.join(galah, on=\"source_id\", how=\"left\")\n",
    "    for col in cols:\n",
    "        if col == \"source_id\": continue\n",
    "        join_galah[col] = join_galah[col].to_pandas_series().to_numpy() # Do this to make np.nan value to no value\n",
    "    name = file.split('/')[-1]\n",
    "    join_galah.export(join(data_dir_galah, name), progress=True) # save if necessary\n",
    "    print(f\"saved {name}\")\n",
    "    \n",
    "# sneak peek\n",
    "join_galah"
   ]
  },
  {
   "cell_type": "code",
   "execution_count": null,
   "metadata": {
    "execution": {
     "iopub.status.busy": "2023-01-18T16:26:14.486553Z",
     "iopub.status.idle": "2023-01-18T16:26:14.486853Z",
     "shell.execute_reply": "2023-01-18T16:26:14.486729Z"
    },
    "tags": []
   },
   "outputs": [],
   "source": [
    "#quick look\n",
    "quick = vaex.open_many(glob(join(data_dir_galah, \"*.hdf5\")))\n",
    "quick"
   ]
  },
  {
   "cell_type": "markdown",
   "metadata": {},
   "source": [
    "# Lamost\n",
    "\n",
    "prereq: galah and rave"
   ]
  },
  {
   "cell_type": "code",
   "execution_count": 6,
   "metadata": {
    "execution": {
     "iopub.execute_input": "2023-01-18T16:26:55.136395Z",
     "iopub.status.busy": "2023-01-18T16:26:55.135813Z",
     "iopub.status.idle": "2023-01-18T16:26:55.146178Z",
     "shell.execute_reply": "2023-01-18T16:26:55.144982Z",
     "shell.execute_reply.started": "2023-01-18T16:26:55.136341Z"
    },
    "tags": []
   },
   "outputs": [
    {
     "name": "stdout",
     "output_type": "stream",
     "text": [
      "Directory already exist. Good to go!\n"
     ]
    },
    {
     "data": {
      "text/plain": [
       "'/home2/s20321005/Thesis-Project/Data/Combine/rave-galah-lamost'"
      ]
     },
     "execution_count": 6,
     "metadata": {},
     "output_type": "execute_result"
    }
   ],
   "source": [
    "name = \"rave-galah-lamost\"\n",
    "data_dir_lamost = join(data_dir, name)\n",
    "try:\n",
    "  mkdir(data_dir_lamost)\n",
    "  print(f\"Creating {name} dir in Data/Combine dir\")\n",
    "except FileExistsError:\n",
    "  print(\"Directory already exist. Good to go!\")\n",
    "data_dir_lamost"
   ]
  },
  {
   "cell_type": "code",
   "execution_count": null,
   "metadata": {
    "execution": {
     "iopub.status.busy": "2023-01-18T16:26:14.488659Z",
     "iopub.status.idle": "2023-01-18T16:26:14.488961Z",
     "shell.execute_reply": "2023-01-18T16:26:14.488825Z"
    },
    "tags": []
   },
   "outputs": [],
   "source": [
    "name = \"LAMOST\"\n",
    "lamost_dir = join(root_data_dir, name)\n",
    "lamost_files = glob(join(lamost_dir, \"*.hdf5\"))\n",
    "lamost_files.sort()\n",
    "lamost = vaex.open_many(lamost_files)\n",
    "lamost"
   ]
  },
  {
   "cell_type": "code",
   "execution_count": null,
   "metadata": {
    "execution": {
     "iopub.status.busy": "2023-01-18T16:26:14.489715Z",
     "iopub.status.idle": "2023-01-18T16:26:14.490018Z",
     "shell.execute_reply": "2023-01-18T16:26:14.489891Z"
    },
    "tags": []
   },
   "outputs": [],
   "source": [
    "# let's say gaia + rave + galah is in the following path\n",
    "files_join_galah = glob(join(data_dir_galah, \"*.hdf5\"))\n",
    "files_join_galah.sort()\n",
    "files_join_galah[:5]"
   ]
  },
  {
   "cell_type": "code",
   "execution_count": null,
   "metadata": {
    "execution": {
     "iopub.status.busy": "2023-01-18T16:26:14.490724Z",
     "iopub.status.idle": "2023-01-18T16:26:14.491022Z",
     "shell.execute_reply": "2023-01-18T16:26:14.490901Z"
    },
    "tags": []
   },
   "outputs": [],
   "source": [
    "# Join with lamost\n",
    "cols = lamost.column_names\n",
    "for file in files_join_galah:\n",
    "    gaia = vaex.open(file)\n",
    "    join_lamost = gaia.join(lamost, on=\"source_id\", how=\"left\")\n",
    "    for col in cols:\n",
    "        if col == \"source_id\": continue\n",
    "        join_lamost[col] = join_lamost[col].to_pandas_series().to_numpy() # Do this to make np.nan value to no value\n",
    "    name = file.split('/')[-1]\n",
    "    join_lamost.export(join(data_dir_lamost, name), progress=True) # save if necessary\n",
    "    print(f\"saved {name}\")\n",
    "# sneak peek\n",
    "join_lamost"
   ]
  },
  {
   "cell_type": "code",
   "execution_count": null,
   "metadata": {
    "execution": {
     "iopub.status.busy": "2023-01-18T16:26:14.491717Z",
     "iopub.status.idle": "2023-01-18T16:26:14.492039Z",
     "shell.execute_reply": "2023-01-18T16:26:14.491903Z"
    },
    "tags": []
   },
   "outputs": [],
   "source": [
    "#quick look\n",
    "quick = vaex.open_many(glob(join(data_dir_lamost, \"*.hdf5\")))\n",
    "quick"
   ]
  },
  {
   "cell_type": "markdown",
   "metadata": {},
   "source": [
    "# Apogee\n",
    "prereq: rave + galah + lamost"
   ]
  },
  {
   "cell_type": "code",
   "execution_count": 7,
   "metadata": {
    "execution": {
     "iopub.execute_input": "2023-01-18T16:27:05.124233Z",
     "iopub.status.busy": "2023-01-18T16:27:05.123647Z",
     "iopub.status.idle": "2023-01-18T16:27:05.133855Z",
     "shell.execute_reply": "2023-01-18T16:27:05.132785Z",
     "shell.execute_reply.started": "2023-01-18T16:27:05.124178Z"
    },
    "tags": []
   },
   "outputs": [
    {
     "name": "stdout",
     "output_type": "stream",
     "text": [
      "Directory already exist. Good to go!\n"
     ]
    },
    {
     "data": {
      "text/plain": [
       "'/home2/s20321005/Thesis-Project/Data/Combine/rave-galah-lamost-apogee'"
      ]
     },
     "execution_count": 7,
     "metadata": {},
     "output_type": "execute_result"
    }
   ],
   "source": [
    "name = \"rave-galah-lamost-apogee\"\n",
    "data_dir_apogee = join(data_dir, name)\n",
    "try:\n",
    "  mkdir(data_dir_apogee)\n",
    "  print(f\"Creating {name} dir in Data/Combine dir\")\n",
    "except FileExistsError:\n",
    "  print(\"Directory already exist. Good to go!\")\n",
    "data_dir_apogee"
   ]
  },
  {
   "cell_type": "code",
   "execution_count": null,
   "metadata": {
    "execution": {
     "iopub.status.busy": "2023-01-18T16:26:14.493889Z",
     "iopub.status.idle": "2023-01-18T16:26:14.494169Z",
     "shell.execute_reply": "2023-01-18T16:26:14.494048Z"
    },
    "tags": []
   },
   "outputs": [],
   "source": [
    "name = \"APOGEE-2\"\n",
    "apogee_dir = join(root_data_dir, name)\n",
    "apogee_files = glob(join(apogee_dir, \"*.hdf5\"))\n",
    "apogee_files.sort()\n",
    "apogee = vaex.open_many(apogee_files)\n",
    "apogee"
   ]
  },
  {
   "cell_type": "code",
   "execution_count": null,
   "metadata": {
    "execution": {
     "iopub.status.busy": "2023-01-18T16:26:14.494856Z",
     "iopub.status.idle": "2023-01-18T16:26:14.495157Z",
     "shell.execute_reply": "2023-01-18T16:26:14.495036Z"
    },
    "tags": []
   },
   "outputs": [],
   "source": [
    "# let's say gaia + rave + galah + lamost is in the following path\n",
    "files_join_lamost = glob(join(data_dir_lamost, \"*.hdf5\"))\n",
    "files_join_lamost.sort()\n",
    "files_join_lamost[:5]"
   ]
  },
  {
   "cell_type": "code",
   "execution_count": null,
   "metadata": {
    "execution": {
     "iopub.status.busy": "2023-01-18T16:26:14.495867Z",
     "iopub.status.idle": "2023-01-18T16:26:14.496186Z",
     "shell.execute_reply": "2023-01-18T16:26:14.496062Z"
    },
    "tags": []
   },
   "outputs": [],
   "source": [
    "# Join with apogee\n",
    "cols = apogee.column_names\n",
    "for file in files_join_lamost:\n",
    "    gaia = vaex.open(file)\n",
    "    join_apogee = gaia.join(apogee, on=\"source_id\", how=\"left\")\n",
    "    for col in cols:\n",
    "        if col == \"source_id\": continue\n",
    "        join_apogee[col] = join_apogee[col].to_pandas_series().to_numpy() # Do this to make np.nan value to no value\n",
    "    name = file.split('/')[-1]\n",
    "    join_apogee.export(join(data_dir_apogee, name), progress=True) # save if necessary\n",
    "    print(f\"saved {name}\")"
   ]
  },
  {
   "cell_type": "code",
   "execution_count": 8,
   "metadata": {
    "execution": {
     "iopub.execute_input": "2023-01-18T16:27:08.623396Z",
     "iopub.status.busy": "2023-01-18T16:27:08.622850Z",
     "iopub.status.idle": "2023-01-18T16:27:52.575866Z",
     "shell.execute_reply": "2023-01-18T16:27:52.575289Z",
     "shell.execute_reply.started": "2023-01-18T16:27:08.623344Z"
    },
    "tags": []
   },
   "outputs": [
    {
     "data": {
      "text/html": [
       "<table>\n",
       "<thead>\n",
       "<tr><th>#                                     </th><th>ra        </th><th>dec       </th><th>Jmag  </th><th>Kmag  </th><th>ph_qual  </th><th>source_id          </th><th>pm       </th><th>pmra               </th><th>e_pmra     </th><th>pmdec              </th><th>e_pmdec    </th><th>parallax           </th><th>e_parallax  </th><th>gmag     </th><th>bpmag    </th><th>rpmag    </th><th>fb_over_err  </th><th>fr_over_err  </th><th>ruwe      </th><th>excess_factor  </th><th>rv_gaia   </th><th>e_rv_gaia  </th><th>GLON              </th><th>GLAT               </th><th>teff_gspphot  </th><th>teff_gspphot_lower  </th><th>teff_gspphot_upper  </th><th>logg_gspphot  </th><th>logg_gspphot_lower  </th><th>logg_gspphot_upper  </th><th>mh_gspphot  </th><th>mh_gspphot_lower  </th><th>mh_gspphot_upper  </th><th>distance_gspphot  </th><th>distance_gspphot_lower  </th><th>distance_gspphot_upper  </th><th>ag_gspphot  </th><th>ag_gspphot_lower  </th><th>ag_gspphot_upper  </th><th>mh_gspspec  </th><th>mh_gspspec_lower  </th><th>mh_gspspec_upper  </th><th>alphafe_gspspec  </th><th>alphafe_gspspec_lower  </th><th>alphafe_gspspec_upper  </th><th>fem_gspspec  </th><th>fem_gspspec_lower  </th><th>fem_gspspec_upper  </th><th>spectraltype_esphs  </th><th>rv_rave  </th><th>e_rv_rave  </th><th>teff_rave  </th><th>logg_rave  </th><th>mh_rave  </th><th>alphafe_rave  </th><th>rv_galah  </th><th>e_rv_galah  </th><th>feh_galah  </th><th>alphafe_galah  </th><th>teff_galah  </th><th>e_teff_galah  </th><th>logg_galah  </th><th>e_logg_galah  </th><th>subclass_lamost  </th><th>teff_lamost  </th><th>e_teff_lamost  </th><th>logg_lamost  </th><th>e_logg_lamost  </th><th>feh_lamost  </th><th>e_feh_lamost  </th><th>rv_lamost  </th><th>e_rv_lamost  </th><th>alpham_lamost  </th><th>e_alpham_lamost  </th><th>rv_apogee  </th><th>e_rv_apogee  </th><th>teff_apogee  </th><th>e_teff_apogee  </th><th>logg_apogee  </th><th>e_logg_apogee  </th><th>mh_apogee  </th><th>e_mh_apogee  </th><th>alpham_apogee  </th><th>e_alpham_apogee  </th><th>feh_apogee  </th><th>e_feh_apogee  </th></tr>\n",
       "</thead>\n",
       "<tbody>\n",
       "<tr><td><i style='opacity: 0.6'>0</i>         </td><td>219.15519 </td><td>-89.531815</td><td>11.418</td><td>10.704</td><td>AAA      </td><td>5764635393079767296</td><td>11.202992</td><td>-8.352078761712255 </td><td>0.012033119</td><td>-7.466580849038771 </td><td>0.012214055</td><td>0.43047135125671315</td><td>0.011004682 </td><td>13.174702</td><td>13.789571</td><td>12.425439</td><td>1228.2557    </td><td>2930.1003    </td><td>0.99114627</td><td>1.250944       </td><td>67.09427  </td><td>0.9067575  </td><td>303.1640199013711 </td><td>-26.708320393143175</td><td>4718.7        </td><td>4713.292            </td><td>4724.818            </td><td>2.5833        </td><td>2.5655              </td><td>2.6014              </td><td>-0.1946     </td><td>-0.1952           </td><td>-0.1941           </td><td>2070.6995         </td><td>2031.6134               </td><td>2112.0928               </td><td>0.3619      </td><td>0.3574            </td><td>0.3668            </td><td>nan         </td><td>nan               </td><td>nan               </td><td>nan              </td><td>nan                    </td><td>nan                    </td><td>nan          </td><td>nan                </td><td>nan                </td><td>K                   </td><td>nan      </td><td>nan        </td><td>nan        </td><td>nan        </td><td>nan      </td><td>nan           </td><td>nan       </td><td>nan         </td><td>nan        </td><td>nan            </td><td>nan         </td><td>nan           </td><td>nan         </td><td>nan           </td><td>--               </td><td>nan          </td><td>nan            </td><td>nan          </td><td>nan            </td><td>nan         </td><td>nan           </td><td>nan        </td><td>nan          </td><td>nan            </td><td>nan              </td><td>nan        </td><td>nan          </td><td>nan          </td><td>nan            </td><td>nan          </td><td>nan            </td><td>nan        </td><td>nan          </td><td>nan            </td><td>nan              </td><td>nan         </td><td>nan           </td></tr>\n",
       "<tr><td><i style='opacity: 0.6'>1</i>         </td><td>219.158806</td><td>-89.413895</td><td>11.663</td><td>11.294</td><td>AAA      </td><td>5764640100363957504</td><td>17.092428</td><td>-15.001155516411039</td><td>0.012871818</td><td>-8.19246106070145  </td><td>0.015000838</td><td>1.1756548246142724 </td><td>0.013411725 </td><td>12.782229</td><td>13.126454</td><td>12.259919</td><td>2108.8503    </td><td>2770.0098    </td><td>1.1272085 </td><td>1.2091599      </td><td>-44.15717 </td><td>4.249649   </td><td>303.2222502636439 </td><td>-26.60253359940945 </td><td>5956.387      </td><td>5928.9277           </td><td>5977.1416           </td><td>3.7695        </td><td>3.7597              </td><td>3.7775              </td><td>-0.5645     </td><td>-0.585            </td><td>-0.5521           </td><td>867.1803          </td><td>861.9395                </td><td>874.5553                </td><td>0.2911      </td><td>0.2763            </td><td>0.3022            </td><td>nan         </td><td>nan               </td><td>nan               </td><td>nan              </td><td>nan                    </td><td>nan                    </td><td>nan          </td><td>nan                </td><td>nan                </td><td>F                   </td><td>nan      </td><td>nan        </td><td>nan        </td><td>nan        </td><td>nan      </td><td>nan           </td><td>nan       </td><td>nan         </td><td>nan        </td><td>nan            </td><td>nan         </td><td>nan           </td><td>nan         </td><td>nan           </td><td>--               </td><td>nan          </td><td>nan            </td><td>nan          </td><td>nan            </td><td>nan         </td><td>nan           </td><td>nan        </td><td>nan          </td><td>nan            </td><td>nan              </td><td>nan        </td><td>nan          </td><td>nan          </td><td>nan            </td><td>nan          </td><td>nan            </td><td>nan        </td><td>nan          </td><td>nan            </td><td>nan              </td><td>nan         </td><td>nan           </td></tr>\n",
       "<tr><td><i style='opacity: 0.6'>2</i>         </td><td>219.247148</td><td>-89.488724</td><td>13.026</td><td>12.512</td><td>AAA      </td><td>5764638554175708672</td><td>11.671728</td><td>-10.811040433849826</td><td>0.017244274</td><td>-4.3989353543881675</td><td>0.01951931 </td><td>1.9674662903618854 </td><td>0.01660323  </td><td>14.446186</td><td>14.915824</td><td>13.815229</td><td>914.79407    </td><td>1357.1978    </td><td>0.9770324 </td><td>1.2232119      </td><td>13.169717 </td><td>3.8980281  </td><td>303.1861500960215 </td><td>-26.669990195169934</td><td>5226.577      </td><td>5217.9365           </td><td>5235.52             </td><td>4.5456        </td><td>4.5418              </td><td>4.5518              </td><td>-0.1967     </td><td>-0.2063           </td><td>-0.1864           </td><td>490.8246          </td><td>487.5747                </td><td>493.967                 </td><td>0.2623      </td><td>0.2565            </td><td>0.2679            </td><td>nan         </td><td>nan               </td><td>nan               </td><td>nan              </td><td>nan                    </td><td>nan                    </td><td>nan          </td><td>nan                </td><td>nan                </td><td>K                   </td><td>nan      </td><td>nan        </td><td>nan        </td><td>nan        </td><td>nan      </td><td>nan           </td><td>nan       </td><td>nan         </td><td>nan        </td><td>nan            </td><td>nan         </td><td>nan           </td><td>nan         </td><td>nan           </td><td>--               </td><td>nan          </td><td>nan            </td><td>nan          </td><td>nan            </td><td>nan         </td><td>nan           </td><td>nan        </td><td>nan          </td><td>nan            </td><td>nan              </td><td>nan        </td><td>nan          </td><td>nan          </td><td>nan            </td><td>nan          </td><td>nan            </td><td>nan        </td><td>nan          </td><td>nan            </td><td>nan              </td><td>nan         </td><td>nan           </td></tr>\n",
       "<tr><td><i style='opacity: 0.6'>3</i>         </td><td>219.781174</td><td>-89.569244</td><td>9.953 </td><td>9.683 </td><td>AAA      </td><td>5764635079544432128</td><td>7.510926 </td><td>1.5220681400491376 </td><td>0.021005264</td><td>-7.355087608746858 </td><td>0.020949371</td><td>2.877481398679552  </td><td>0.018422326 </td><td>10.847249</td><td>11.118501</td><td>10.412085</td><td>2177.0447    </td><td>4133.433     </td><td>1.3881594 </td><td>1.1933558      </td><td>-5.286206 </td><td>0.73470575 </td><td>303.150290423574  </td><td>-26.744015581943707</td><td>6141.639      </td><td>6130.1123           </td><td>6152.07             </td><td>4.043         </td><td>4.0398              </td><td>4.0469              </td><td>-0.4365     </td><td>-0.4457           </td><td>-0.4269           </td><td>344.0585          </td><td>341.9788                </td><td>346.0511                </td><td>0.0799      </td><td>0.0745            </td><td>0.0847            </td><td>-0.26       </td><td>-0.32             </td><td>-0.22             </td><td>0.33             </td><td>0.26                   </td><td>0.4                    </td><td>nan          </td><td>nan                </td><td>nan                </td><td>F                   </td><td>nan      </td><td>nan        </td><td>nan        </td><td>nan        </td><td>nan      </td><td>nan           </td><td>nan       </td><td>nan         </td><td>nan        </td><td>nan            </td><td>nan         </td><td>nan           </td><td>nan         </td><td>nan           </td><td>--               </td><td>nan          </td><td>nan            </td><td>nan          </td><td>nan            </td><td>nan         </td><td>nan           </td><td>nan        </td><td>nan          </td><td>nan            </td><td>nan              </td><td>nan        </td><td>nan          </td><td>nan          </td><td>nan            </td><td>nan          </td><td>nan            </td><td>nan        </td><td>nan          </td><td>nan            </td><td>nan              </td><td>nan         </td><td>nan           </td></tr>\n",
       "<tr><td><i style='opacity: 0.6'>4</i>         </td><td>219.801943</td><td>-89.006889</td><td>12.509</td><td>11.912</td><td>AAA      </td><td>5764731359829174400</td><td>11.346082</td><td>-10.54234747031648 </td><td>0.016789988</td><td>-4.1943390093826975</td><td>0.015902767</td><td>0.2086716186891874 </td><td>0.014617706 </td><td>14.17896 </td><td>14.733065</td><td>13.476229</td><td>735.02185    </td><td>2048.8267    </td><td>1.051371  </td><td>1.2394285      </td><td>42.34929  </td><td>3.1309774  </td><td>303.43352796578637</td><td>-26.242058683093564</td><td>5244.1147     </td><td>5202.4478           </td><td>5301.4165           </td><td>3.1862        </td><td>3.0736              </td><td>3.2597              </td><td>-0.1073     </td><td>-0.1138           </td><td>-0.1047           </td><td>2680.891          </td><td>2446.6587               </td><td>3078.62                 </td><td>0.5634      </td><td>0.538             </td><td>0.5992            </td><td>nan         </td><td>nan               </td><td>nan               </td><td>nan              </td><td>nan                    </td><td>nan                    </td><td>nan          </td><td>nan                </td><td>nan                </td><td>K                   </td><td>nan      </td><td>nan        </td><td>nan        </td><td>nan        </td><td>nan      </td><td>nan           </td><td>nan       </td><td>nan         </td><td>nan        </td><td>nan            </td><td>nan         </td><td>nan           </td><td>nan         </td><td>nan           </td><td>--               </td><td>nan          </td><td>nan            </td><td>nan          </td><td>nan            </td><td>nan         </td><td>nan           </td><td>nan        </td><td>nan          </td><td>nan            </td><td>nan              </td><td>nan        </td><td>nan          </td><td>nan          </td><td>nan            </td><td>nan          </td><td>nan            </td><td>nan        </td><td>nan          </td><td>nan            </td><td>nan              </td><td>nan         </td><td>nan           </td></tr>\n",
       "<tr><td>...                                   </td><td>...       </td><td>...       </td><td>...   </td><td>...   </td><td>...      </td><td>...                </td><td>...      </td><td>...                </td><td>...        </td><td>...                </td><td>...        </td><td>...                </td><td>...         </td><td>...      </td><td>...      </td><td>...      </td><td>...          </td><td>...          </td><td>...       </td><td>...            </td><td>...       </td><td>...        </td><td>...               </td><td>...                </td><td>...           </td><td>...                 </td><td>...                 </td><td>...           </td><td>...                 </td><td>...                 </td><td>...         </td><td>...               </td><td>...               </td><td>...               </td><td>...                     </td><td>...                     </td><td>...         </td><td>...               </td><td>...               </td><td>...         </td><td>...               </td><td>...               </td><td>...              </td><td>...                    </td><td>...                    </td><td>...          </td><td>...                </td><td>...                </td><td>...                 </td><td>...      </td><td>...        </td><td>...        </td><td>...        </td><td>...      </td><td>...           </td><td>...       </td><td>...         </td><td>...        </td><td>...            </td><td>...         </td><td>...           </td><td>...         </td><td>...           </td><td>...              </td><td>...          </td><td>...            </td><td>...          </td><td>...            </td><td>...         </td><td>...           </td><td>...        </td><td>...          </td><td>...            </td><td>...              </td><td>...        </td><td>...          </td><td>...          </td><td>...            </td><td>...          </td><td>...            </td><td>...        </td><td>...          </td><td>...            </td><td>...              </td><td>...         </td><td>...           </td></tr>\n",
       "<tr><td><i style='opacity: 0.6'>29,127,326</i></td><td>33.273628 </td><td>89.207031 </td><td>11.324</td><td>10.496</td><td>AAA      </td><td>576401108095248256 </td><td>1.9213098</td><td>0.526383419144043  </td><td>0.013179262</td><td>-1.8477965023751626</td><td>0.012728541</td><td>0.4409312794625807 </td><td>0.011253249 </td><td>13.301876</td><td>14.039884</td><td>12.468293</td><td>817.5752     </td><td>1747.642     </td><td>1.0414628 </td><td>1.2745866      </td><td>-15.732807</td><td>0.7937079  </td><td>123.2407090213187 </td><td>26.38475107004395  </td><td>nan           </td><td>nan                 </td><td>nan                 </td><td>nan           </td><td>nan                 </td><td>nan                 </td><td>nan         </td><td>nan               </td><td>nan               </td><td>nan               </td><td>nan                     </td><td>nan                     </td><td>nan         </td><td>nan               </td><td>nan               </td><td>nan         </td><td>nan               </td><td>nan               </td><td>nan              </td><td>nan                    </td><td>nan                    </td><td>nan          </td><td>nan                </td><td>nan                </td><td>K                   </td><td>nan      </td><td>nan        </td><td>nan        </td><td>nan        </td><td>nan      </td><td>nan           </td><td>nan       </td><td>nan         </td><td>nan        </td><td>nan            </td><td>nan         </td><td>nan           </td><td>nan         </td><td>nan           </td><td>--               </td><td>nan          </td><td>nan            </td><td>nan          </td><td>nan            </td><td>nan         </td><td>nan           </td><td>nan        </td><td>nan          </td><td>nan            </td><td>nan              </td><td>nan        </td><td>nan          </td><td>nan          </td><td>nan            </td><td>nan          </td><td>nan            </td><td>nan        </td><td>nan          </td><td>nan            </td><td>nan              </td><td>nan         </td><td>nan           </td></tr>\n",
       "<tr><td><i style='opacity: 0.6'>29,127,327</i></td><td>33.576328 </td><td>89.702515 </td><td>13.478</td><td>12.953</td><td>AAA      </td><td>576447459382243200 </td><td>17.162077</td><td>10.764419310289625 </td><td>0.021213133</td><td>13.366531632012926 </td><td>0.021056626</td><td>0.9941574578584899 </td><td>0.019672494 </td><td>14.856944</td><td>15.333351</td><td>14.206361</td><td>540.5943     </td><td>905.125      </td><td>1.115906  </td><td>1.2340161      </td><td>-6.8745933</td><td>13.125175  </td><td>123.04990412535467</td><td>26.85002805556056  </td><td>5420.282      </td><td>5395.14             </td><td>5501.2827           </td><td>4.2236        </td><td>4.2103              </td><td>4.2407              </td><td>-1.28       </td><td>-1.323            </td><td>-1.1485           </td><td>946.7403          </td><td>929.4686                </td><td>962.1341                </td><td>0.4847      </td><td>0.4702            </td><td>0.5309            </td><td>nan         </td><td>nan               </td><td>nan               </td><td>nan              </td><td>nan                    </td><td>nan                    </td><td>nan          </td><td>nan                </td><td>nan                </td><td>G                   </td><td>nan      </td><td>nan        </td><td>nan        </td><td>nan        </td><td>nan      </td><td>nan           </td><td>nan       </td><td>nan         </td><td>nan        </td><td>nan            </td><td>nan         </td><td>nan           </td><td>nan         </td><td>nan           </td><td>--               </td><td>nan          </td><td>nan            </td><td>nan          </td><td>nan            </td><td>nan         </td><td>nan           </td><td>nan        </td><td>nan          </td><td>nan            </td><td>nan              </td><td>nan        </td><td>nan          </td><td>nan          </td><td>nan            </td><td>nan          </td><td>nan            </td><td>nan        </td><td>nan          </td><td>nan            </td><td>nan              </td><td>nan         </td><td>nan           </td></tr>\n",
       "<tr><td><i style='opacity: 0.6'>29,127,328</i></td><td>33.610021 </td><td>89.572998 </td><td>12.857</td><td>12.404</td><td>AAA      </td><td>576445638316125184 </td><td>4.728188 </td><td>-2.6913600182617476</td><td>0.017589992</td><td>3.887459494000998  </td><td>0.015934618</td><td>0.7781937360453499 </td><td>0.014969293 </td><td>14.292352</td><td>14.78063 </td><td>13.633098</td><td>1025.585     </td><td>1091.8604    </td><td>1.0927142 </td><td>1.235076       </td><td>-36.36254 </td><td>7.384203   </td><td>123.1012765083853 </td><td>26.728870058838822 </td><td>5855.668      </td><td>5835.1274           </td><td>5878.3657           </td><td>4.0048        </td><td>3.9971              </td><td>4.0145              </td><td>-0.583      </td><td>-0.6066           </td><td>-0.555            </td><td>1217.041          </td><td>1196.2493               </td><td>1234.8632               </td><td>0.7542      </td><td>0.7434            </td><td>0.7665            </td><td>nan         </td><td>nan               </td><td>nan               </td><td>nan              </td><td>nan                    </td><td>nan                    </td><td>nan          </td><td>nan                </td><td>nan                </td><td>G                   </td><td>nan      </td><td>nan        </td><td>nan        </td><td>nan        </td><td>nan      </td><td>nan           </td><td>nan       </td><td>nan         </td><td>nan        </td><td>nan            </td><td>nan         </td><td>nan           </td><td>nan         </td><td>nan           </td><td>--               </td><td>nan          </td><td>nan            </td><td>nan          </td><td>nan            </td><td>nan         </td><td>nan           </td><td>nan        </td><td>nan          </td><td>nan            </td><td>nan              </td><td>nan        </td><td>nan          </td><td>nan          </td><td>nan            </td><td>nan          </td><td>nan            </td><td>nan        </td><td>nan          </td><td>nan            </td><td>nan              </td><td>nan         </td><td>nan           </td></tr>\n",
       "<tr><td><i style='opacity: 0.6'>29,127,329</i></td><td>33.612083 </td><td>89.48204  </td><td>12.616</td><td>11.924</td><td>AAA      </td><td>576431585183142528 </td><td>1.8941993</td><td>-1.7630446880574788</td><td>0.020475639</td><td>0.6925779534480914 </td><td>0.017867079</td><td>0.6988763424739932 </td><td>0.015851708 </td><td>14.399571</td><td>15.067607</td><td>13.604876</td><td>722.4221     </td><td>1057.6432    </td><td>0.99978435</td><td>1.267137       </td><td>-14.877426</td><td>3.5944436  </td><td>123.13723815775352</td><td>26.643773310583594 </td><td>5178.78       </td><td>5133.0166           </td><td>5367.6597           </td><td>3.5746        </td><td>3.4492              </td><td>3.8413              </td><td>-0.4349     </td><td>-0.4827           </td><td>-0.291            </td><td>1165.2085         </td><td>893.3535                </td><td>1341.377                </td><td>0.9013      </td><td>0.8756            </td><td>0.9909            </td><td>nan         </td><td>nan               </td><td>nan               </td><td>nan              </td><td>nan                    </td><td>nan                    </td><td>nan          </td><td>nan                </td><td>nan                </td><td>K                   </td><td>nan      </td><td>nan        </td><td>nan        </td><td>nan        </td><td>nan      </td><td>nan           </td><td>nan       </td><td>nan         </td><td>nan        </td><td>nan            </td><td>nan         </td><td>nan           </td><td>nan         </td><td>nan           </td><td>--               </td><td>nan          </td><td>nan            </td><td>nan          </td><td>nan            </td><td>nan         </td><td>nan           </td><td>nan        </td><td>nan          </td><td>nan            </td><td>nan              </td><td>nan        </td><td>nan          </td><td>nan          </td><td>nan            </td><td>nan          </td><td>nan            </td><td>nan        </td><td>nan          </td><td>nan            </td><td>nan              </td><td>nan         </td><td>nan           </td></tr>\n",
       "<tr><td><i style='opacity: 0.6'>29,127,330</i></td><td>33.731409 </td><td>89.147743 </td><td>10.773</td><td>10.285</td><td>AAA      </td><td>576400317821273088 </td><td>38.722492</td><td>32.87559984948842  </td><td>0.017679142</td><td>-20.460360806451792</td><td>0.016419705</td><td>4.865243044792375  </td><td>0.013857101 </td><td>12.069962</td><td>12.506207</td><td>11.468749</td><td>963.4484     </td><td>1802.9221    </td><td>1.2883258 </td><td>1.2175695      </td><td>-9.509941 </td><td>0.69187236 </td><td>123.27091719233303</td><td>26.331478626774203 </td><td>5125.1553     </td><td>5116.3843           </td><td>5133.9326           </td><td>4.4845        </td><td>4.4822              </td><td>4.4868              </td><td>0.0902      </td><td>0.0801            </td><td>0.0993            </td><td>204.4361          </td><td>203.8596                </td><td>205.0227                </td><td>0.041       </td><td>0.0354            </td><td>0.0467            </td><td>0.47        </td><td>0.42              </td><td>0.49              </td><td>0.07             </td><td>0.02                   </td><td>0.13                   </td><td>nan          </td><td>nan                </td><td>nan                </td><td>K                   </td><td>nan      </td><td>nan        </td><td>nan        </td><td>nan        </td><td>nan      </td><td>nan           </td><td>nan       </td><td>nan         </td><td>nan        </td><td>nan            </td><td>nan         </td><td>nan           </td><td>nan         </td><td>nan           </td><td>--               </td><td>nan          </td><td>nan            </td><td>nan          </td><td>nan            </td><td>nan         </td><td>nan           </td><td>nan        </td><td>nan          </td><td>nan            </td><td>nan              </td><td>nan        </td><td>nan          </td><td>nan          </td><td>nan            </td><td>nan          </td><td>nan            </td><td>nan        </td><td>nan          </td><td>nan            </td><td>nan              </td><td>nan         </td><td>nan           </td></tr>\n",
       "</tbody>\n",
       "</table>"
      ],
      "text/plain": [
       "#           ra          dec         Jmag    Kmag    ph_qual    source_id            pm         pmra                 e_pmra       pmdec                e_pmdec      parallax             e_parallax    gmag       bpmag      rpmag      fb_over_err    fr_over_err    ruwe        excess_factor    rv_gaia     e_rv_gaia    GLON                GLAT                 teff_gspphot    teff_gspphot_lower    teff_gspphot_upper    logg_gspphot    logg_gspphot_lower    logg_gspphot_upper    mh_gspphot    mh_gspphot_lower    mh_gspphot_upper    distance_gspphot    distance_gspphot_lower    distance_gspphot_upper    ag_gspphot    ag_gspphot_lower    ag_gspphot_upper    mh_gspspec    mh_gspspec_lower    mh_gspspec_upper    alphafe_gspspec    alphafe_gspspec_lower    alphafe_gspspec_upper    fem_gspspec    fem_gspspec_lower    fem_gspspec_upper    spectraltype_esphs    rv_rave    e_rv_rave    teff_rave    logg_rave    mh_rave    alphafe_rave    rv_galah    e_rv_galah    feh_galah    alphafe_galah    teff_galah    e_teff_galah    logg_galah    e_logg_galah    subclass_lamost    teff_lamost    e_teff_lamost    logg_lamost    e_logg_lamost    feh_lamost    e_feh_lamost    rv_lamost    e_rv_lamost    alpham_lamost    e_alpham_lamost    rv_apogee    e_rv_apogee    teff_apogee    e_teff_apogee    logg_apogee    e_logg_apogee    mh_apogee    e_mh_apogee    alpham_apogee    e_alpham_apogee    feh_apogee    e_feh_apogee\n",
       "0           219.15519   -89.531815  11.418  10.704  AAA        5764635393079767296  11.202992  -8.352078761712255   0.012033119  -7.466580849038771   0.012214055  0.43047135125671315  0.011004682   13.174702  13.789571  12.425439  1228.2557      2930.1003      0.99114627  1.250944         67.09427    0.9067575    303.1640199013711   -26.708320393143175  4718.7          4713.292              4724.818              2.5833          2.5655                2.6014                -0.1946       -0.1952             -0.1941             2070.6995           2031.6134                 2112.0928                 0.3619        0.3574              0.3668              nan           nan                 nan                 nan                nan                      nan                      nan            nan                  nan                  K                     nan        nan          nan          nan          nan        nan             nan         nan           nan          nan              nan           nan             nan           nan             --                 nan            nan              nan            nan              nan           nan             nan          nan            nan              nan                nan          nan            nan            nan              nan            nan              nan          nan            nan              nan                nan           nan\n",
       "1           219.158806  -89.413895  11.663  11.294  AAA        5764640100363957504  17.092428  -15.001155516411039  0.012871818  -8.19246106070145    0.015000838  1.1756548246142724   0.013411725   12.782229  13.126454  12.259919  2108.8503      2770.0098      1.1272085   1.2091599        -44.15717   4.249649     303.2222502636439   -26.60253359940945   5956.387        5928.9277             5977.1416             3.7695          3.7597                3.7775                -0.5645       -0.585              -0.5521             867.1803            861.9395                  874.5553                  0.2911        0.2763              0.3022              nan           nan                 nan                 nan                nan                      nan                      nan            nan                  nan                  F                     nan        nan          nan          nan          nan        nan             nan         nan           nan          nan              nan           nan             nan           nan             --                 nan            nan              nan            nan              nan           nan             nan          nan            nan              nan                nan          nan            nan            nan              nan            nan              nan          nan            nan              nan                nan           nan\n",
       "2           219.247148  -89.488724  13.026  12.512  AAA        5764638554175708672  11.671728  -10.811040433849826  0.017244274  -4.3989353543881675  0.01951931   1.9674662903618854   0.01660323    14.446186  14.915824  13.815229  914.79407      1357.1978      0.9770324   1.2232119        13.169717   3.8980281    303.1861500960215   -26.669990195169934  5226.577        5217.9365             5235.52               4.5456          4.5418                4.5518                -0.1967       -0.2063             -0.1864             490.8246            487.5747                  493.967                   0.2623        0.2565              0.2679              nan           nan                 nan                 nan                nan                      nan                      nan            nan                  nan                  K                     nan        nan          nan          nan          nan        nan             nan         nan           nan          nan              nan           nan             nan           nan             --                 nan            nan              nan            nan              nan           nan             nan          nan            nan              nan                nan          nan            nan            nan              nan            nan              nan          nan            nan              nan                nan           nan\n",
       "3           219.781174  -89.569244  9.953   9.683   AAA        5764635079544432128  7.510926   1.5220681400491376   0.021005264  -7.355087608746858   0.020949371  2.877481398679552    0.018422326   10.847249  11.118501  10.412085  2177.0447      4133.433       1.3881594   1.1933558        -5.286206   0.73470575   303.150290423574    -26.744015581943707  6141.639        6130.1123             6152.07               4.043           4.0398                4.0469                -0.4365       -0.4457             -0.4269             344.0585            341.9788                  346.0511                  0.0799        0.0745              0.0847              -0.26         -0.32               -0.22               0.33               0.26                     0.4                      nan            nan                  nan                  F                     nan        nan          nan          nan          nan        nan             nan         nan           nan          nan              nan           nan             nan           nan             --                 nan            nan              nan            nan              nan           nan             nan          nan            nan              nan                nan          nan            nan            nan              nan            nan              nan          nan            nan              nan                nan           nan\n",
       "4           219.801943  -89.006889  12.509  11.912  AAA        5764731359829174400  11.346082  -10.54234747031648   0.016789988  -4.1943390093826975  0.015902767  0.2086716186891874   0.014617706   14.17896   14.733065  13.476229  735.02185      2048.8267      1.051371    1.2394285        42.34929    3.1309774    303.43352796578637  -26.242058683093564  5244.1147       5202.4478             5301.4165             3.1862          3.0736                3.2597                -0.1073       -0.1138             -0.1047             2680.891            2446.6587                 3078.62                   0.5634        0.538               0.5992              nan           nan                 nan                 nan                nan                      nan                      nan            nan                  nan                  K                     nan        nan          nan          nan          nan        nan             nan         nan           nan          nan              nan           nan             nan           nan             --                 nan            nan              nan            nan              nan           nan             nan          nan            nan              nan                nan          nan            nan            nan              nan            nan              nan          nan            nan              nan                nan           nan\n",
       "...         ...         ...         ...     ...     ...        ...                  ...        ...                  ...          ...                  ...          ...                  ...           ...        ...        ...        ...            ...            ...         ...              ...         ...          ...                 ...                  ...             ...                   ...                   ...             ...                   ...                   ...           ...                 ...                 ...                 ...                       ...                       ...           ...                 ...                 ...           ...                 ...                 ...                ...                      ...                      ...            ...                  ...                  ...                   ...        ...          ...          ...          ...        ...             ...         ...           ...          ...              ...           ...             ...           ...             ...                ...            ...              ...            ...              ...           ...             ...          ...            ...              ...                ...          ...            ...            ...              ...            ...              ...          ...            ...              ...                ...           ...\n",
       "29,127,326  33.273628   89.207031   11.324  10.496  AAA        576401108095248256   1.9213098  0.526383419144043    0.013179262  -1.8477965023751626  0.012728541  0.4409312794625807   0.011253249   13.301876  14.039884  12.468293  817.5752       1747.642       1.0414628   1.2745866        -15.732807  0.7937079    123.2407090213187   26.38475107004395    nan             nan                   nan                   nan             nan                   nan                   nan           nan                 nan                 nan                 nan                       nan                       nan           nan                 nan                 nan           nan                 nan                 nan                nan                      nan                      nan            nan                  nan                  K                     nan        nan          nan          nan          nan        nan             nan         nan           nan          nan              nan           nan             nan           nan             --                 nan            nan              nan            nan              nan           nan             nan          nan            nan              nan                nan          nan            nan            nan              nan            nan              nan          nan            nan              nan                nan           nan\n",
       "29,127,327  33.576328   89.702515   13.478  12.953  AAA        576447459382243200   17.162077  10.764419310289625   0.021213133  13.366531632012926   0.021056626  0.9941574578584899   0.019672494   14.856944  15.333351  14.206361  540.5943       905.125        1.115906    1.2340161        -6.8745933  13.125175    123.04990412535467  26.85002805556056    5420.282        5395.14               5501.2827             4.2236          4.2103                4.2407                -1.28         -1.323              -1.1485             946.7403            929.4686                  962.1341                  0.4847        0.4702              0.5309              nan           nan                 nan                 nan                nan                      nan                      nan            nan                  nan                  G                     nan        nan          nan          nan          nan        nan             nan         nan           nan          nan              nan           nan             nan           nan             --                 nan            nan              nan            nan              nan           nan             nan          nan            nan              nan                nan          nan            nan            nan              nan            nan              nan          nan            nan              nan                nan           nan\n",
       "29,127,328  33.610021   89.572998   12.857  12.404  AAA        576445638316125184   4.728188   -2.6913600182617476  0.017589992  3.887459494000998    0.015934618  0.7781937360453499   0.014969293   14.292352  14.78063   13.633098  1025.585       1091.8604      1.0927142   1.235076         -36.36254   7.384203     123.1012765083853   26.728870058838822   5855.668        5835.1274             5878.3657             4.0048          3.9971                4.0145                -0.583        -0.6066             -0.555              1217.041            1196.2493                 1234.8632                 0.7542        0.7434              0.7665              nan           nan                 nan                 nan                nan                      nan                      nan            nan                  nan                  G                     nan        nan          nan          nan          nan        nan             nan         nan           nan          nan              nan           nan             nan           nan             --                 nan            nan              nan            nan              nan           nan             nan          nan            nan              nan                nan          nan            nan            nan              nan            nan              nan          nan            nan              nan                nan           nan\n",
       "29,127,329  33.612083   89.48204    12.616  11.924  AAA        576431585183142528   1.8941993  -1.7630446880574788  0.020475639  0.6925779534480914   0.017867079  0.6988763424739932   0.015851708   14.399571  15.067607  13.604876  722.4221       1057.6432      0.99978435  1.267137         -14.877426  3.5944436    123.13723815775352  26.643773310583594   5178.78         5133.0166             5367.6597             3.5746          3.4492                3.8413                -0.4349       -0.4827             -0.291              1165.2085           893.3535                  1341.377                  0.9013        0.8756              0.9909              nan           nan                 nan                 nan                nan                      nan                      nan            nan                  nan                  K                     nan        nan          nan          nan          nan        nan             nan         nan           nan          nan              nan           nan             nan           nan             --                 nan            nan              nan            nan              nan           nan             nan          nan            nan              nan                nan          nan            nan            nan              nan            nan              nan          nan            nan              nan                nan           nan\n",
       "29,127,330  33.731409   89.147743   10.773  10.285  AAA        576400317821273088   38.722492  32.87559984948842    0.017679142  -20.460360806451792  0.016419705  4.865243044792375    0.013857101   12.069962  12.506207  11.468749  963.4484       1802.9221      1.2883258   1.2175695        -9.509941   0.69187236   123.27091719233303  26.331478626774203   5125.1553       5116.3843             5133.9326             4.4845          4.4822                4.4868                0.0902        0.0801              0.0993              204.4361            203.8596                  205.0227                  0.041         0.0354              0.0467              0.47          0.42                0.49                0.07               0.02                     0.13                     nan            nan                  nan                  K                     nan        nan          nan          nan          nan        nan             nan         nan           nan          nan              nan           nan             nan           nan             --                 nan            nan              nan            nan              nan           nan             nan          nan            nan              nan                nan          nan            nan            nan              nan            nan              nan          nan            nan              nan                nan           nan"
      ]
     },
     "execution_count": 8,
     "metadata": {},
     "output_type": "execute_result"
    }
   ],
   "source": [
    "# sneak peek\n",
    "df_all = vaex.open_many(glob(join(data_dir_apogee, \"*.hdf5\")))\n",
    "df_all"
   ]
  },
  {
   "cell_type": "code",
   "execution_count": null,
   "metadata": {
    "execution": {
     "iopub.status.busy": "2023-01-18T16:26:14.497860Z",
     "iopub.status.idle": "2023-01-18T16:26:14.498164Z",
     "shell.execute_reply": "2023-01-18T16:26:14.498025Z"
    }
   },
   "outputs": [],
   "source": [
    "df_rave = df_all[df_all.rv_rave.notnan()]\n",
    "df_rave"
   ]
  },
  {
   "cell_type": "code",
   "execution_count": null,
   "metadata": {
    "execution": {
     "iopub.status.busy": "2023-01-18T16:26:14.498965Z",
     "iopub.status.idle": "2023-01-18T16:26:14.499270Z",
     "shell.execute_reply": "2023-01-18T16:26:14.499145Z"
    }
   },
   "outputs": [],
   "source": [
    "df_lamost = df_all[df_all.rv_lamost.notnan()]\n",
    "df_lamost"
   ]
  },
  {
   "cell_type": "code",
   "execution_count": null,
   "metadata": {
    "execution": {
     "iopub.status.busy": "2023-01-18T16:26:14.499990Z",
     "iopub.status.idle": "2023-01-18T16:26:14.500287Z",
     "shell.execute_reply": "2023-01-18T16:26:14.500165Z"
    }
   },
   "outputs": [],
   "source": [
    "df_apogee = df_all[df_all.rv_apogee.notnan()]\n",
    "df_apogee"
   ]
  },
  {
   "cell_type": "code",
   "execution_count": null,
   "metadata": {
    "execution": {
     "iopub.status.busy": "2023-01-18T16:26:14.500939Z",
     "iopub.status.idle": "2023-01-18T16:26:14.501245Z",
     "shell.execute_reply": "2023-01-18T16:26:14.501106Z"
    }
   },
   "outputs": [],
   "source": [
    "df_galah = df_all[df_all.rv_galah.notnan()]\n",
    "df_galah"
   ]
  },
  {
   "cell_type": "code",
   "execution_count": null,
   "metadata": {
    "execution": {
     "iopub.status.busy": "2023-01-18T16:26:14.505176Z",
     "iopub.status.idle": "2023-01-18T16:26:14.505476Z",
     "shell.execute_reply": "2023-01-18T16:26:14.505337Z"
    }
   },
   "outputs": [],
   "source": [
    "df_gaia = df_all[df_all.rv_gaia.notnan()]\n",
    "df_gaia"
   ]
  }
 ],
 "metadata": {
  "kernelspec": {
   "display_name": "Python 3",
   "language": "python",
   "name": "python3"
  },
  "language_info": {
   "codemirror_mode": {
    "name": "ipython",
    "version": 3
   },
   "file_extension": ".py",
   "mimetype": "text/x-python",
   "name": "python",
   "nbconvert_exporter": "python",
   "pygments_lexer": "ipython3",
   "version": "3.9.15 (main, Nov 24 2022, 14:31:59) \n[GCC 11.2.0]"
  },
  "vscode": {
   "interpreter": {
    "hash": "ce24ca8aae0c18c4327bef86187bd310e85b0b68e0fbab549c3fc8d824c6eee6"
   }
  }
 },
 "nbformat": 4,
 "nbformat_minor": 4
}
