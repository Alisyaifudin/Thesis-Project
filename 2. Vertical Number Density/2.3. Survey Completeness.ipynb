{
 "cells": [
  {
   "cell_type": "code",
   "execution_count": null,
   "metadata": {},
   "outputs": [],
   "source": [
    "import vaex\n",
    "import numpy as np\n",
    "from matplotlib import pyplot as plt\n",
    "import pandas as pd\n",
    "from glob import glob"
   ]
  },
  {
   "cell_type": "code",
   "execution_count": null,
   "metadata": {},
   "outputs": [],
   "source": [
    "files = glob(<data files path>)"
   ]
  },
  {
   "cell_type": "code",
   "execution_count": null,
   "metadata": {},
   "outputs": [],
   "source": [
    "tmass_files = glob(<2MASS files path>)"
   ]
  },
  {
   "cell_type": "code",
   "execution_count": null,
   "metadata": {},
   "outputs": [],
   "source": [
    "data = vaex.open_many(files)\n",
    "data = data.filter(data['Jmag'] < 11)\n",
    "data"
   ]
  },
  {
   "cell_type": "code",
   "execution_count": null,
   "metadata": {},
   "outputs": [],
   "source": [
    "tmass = vaex.open_many(tmass_files)\n",
    "tmass"
   ]
  },
  {
   "cell_type": "code",
   "execution_count": null,
   "metadata": {},
   "outputs": [],
   "source": [
    "# check the plot, optional\n",
    "data.viz.scatter(\"Jmag - Kmag\", \"Jmag\", s=1,length_check=False)\n",
    "plt.gca().invert_yaxis()"
   ]
  },
  {
   "cell_type": "code",
   "execution_count": null,
   "metadata": {},
   "outputs": [],
   "source": [
    "tmass.viz.scatter(\"Jmag - Kmag\", \"Jmag\", s=1,length_check=False)\n",
    "plt.gca().invert_yaxis()"
   ]
  },
  {
   "cell_type": "code",
   "execution_count": null,
   "metadata": {},
   "outputs": [],
   "source": [
    "# partition in J and J-K\n",
    "dJ = np.linspace(5, 11, 51)\n",
    "dJK = np.linspace(0, 1, 31)"
   ]
  },
  {
   "cell_type": "code",
   "execution_count": null,
   "metadata": {},
   "outputs": [],
   "source": [
    "# display histogram\n",
    "dataH, _, _ = np.histogram2d((data[\"Jmag\"]-data[\"Kmag\"]).to_numpy(), data[\"Jmag\"].to_numpy(), bins=(dJK, dJ))\n",
    "dataH = dataH.T\n",
    "\n",
    "fig = plt.figure(figsize=(15, 5))\n",
    "ax = fig.add_subplot(131, title='Data')\n",
    "plt.imshow(dataH, interpolation='nearest', origin='lower',\n",
    "        extent=[dJK[0], dJK[-1], dJ[0], dJ[-1]], aspect='auto')\n",
    "plt.show()"
   ]
  },
  {
   "cell_type": "code",
   "execution_count": null,
   "metadata": {},
   "outputs": [],
   "source": [
    "tmassH, _, _ = np.histogram2d((tmass[\"Jmag\"]-tmass[\"Kmag\"]).to_numpy(), tmass[\"Jmag\"].to_numpy(), bins=(dJK, dJ))\n",
    "tmassH = tmassH.T\n",
    "\n",
    "fig = plt.figure(figsize=(15, 5))\n",
    "ax = fig.add_subplot(131, title='Data')\n",
    "plt.imshow(tmassH, interpolation='nearest', origin='lower',\n",
    "        extent=[dJK[0], dJK[-1], dJ[0], dJ[-1]], aspect='auto')\n",
    "plt.show()"
   ]
  },
  {
   "cell_type": "code",
   "execution_count": null,
   "metadata": {},
   "outputs": [],
   "source": [
    "# calculate completeness\n",
    "comp = dataH/tmassH\n",
    "comp = np.nan_to_num(comp)"
   ]
  },
  {
   "cell_type": "code",
   "execution_count": null,
   "metadata": {},
   "outputs": [],
   "source": [
    "# display it\n",
    "fig = plt.figure(figsize=(25, 5))\n",
    "ax = fig.add_subplot(131, title='Completeness')\n",
    "plt.imshow(comp, interpolation='nearest', origin='lower',\n",
    "        extent=[dJK[0], dJK[-1], dJ[0], dJ[-1]], aspect='auto')\n",
    "plt.colorbar()\n",
    "# ax.invert_yaxis()\n",
    "plt.show()"
   ]
  },
  {
   "cell_type": "code",
   "execution_count": null,
   "metadata": {},
   "outputs": [],
   "source": [
    "# convert into dataframe\n",
    "\n",
    "df = pd.DataFrame(comp, columns=(dJK[:-1]+dJK[1:])/2)\n",
    "df.insert(0, \"J\", (dJ[:-1]+dJ[1:])/2)\n",
    "df"
   ]
  },
  {
   "cell_type": "code",
   "execution_count": null,
   "metadata": {},
   "outputs": [],
   "source": [
    "# save as hdf5\n",
    "vaex.from_pandas(df).export(\"comp.hdf5\", progress=True)"
   ]
  }
 ],
 "metadata": {
  "kernelspec": {
   "display_name": "Python 3.8.10 64-bit",
   "language": "python",
   "name": "python3"
  },
  "language_info": {
   "name": "python",
   "version": "3.8.10"
  },
  "orig_nbformat": 4,
  "vscode": {
   "interpreter": {
    "hash": "31f2aee4e71d21fbe5cf8b01ff0e069b9275f58929596ceb00d14d90e3e16cd6"
   }
  }
 },
 "nbformat": 4,
 "nbformat_minor": 2
}
