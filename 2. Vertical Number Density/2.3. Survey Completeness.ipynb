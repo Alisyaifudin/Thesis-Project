{
 "cells": [
  {
   "cell_type": "code",
   "execution_count": 1,
   "metadata": {},
   "outputs": [],
   "source": [
    "import vaex\n",
    "import numpy as np\n",
    "from matplotlib import pyplot as plt\n",
    "import pandas as pd\n",
    "from glob import glob\n",
    "from os.path import join, abspath\n",
    "from os import pardir, curdir, mkdir\n",
    "import healpy as hp"
   ]
  },
  {
   "cell_type": "code",
   "execution_count": 2,
   "metadata": {},
   "outputs": [
    {
     "data": {
      "text/plain": [
       "48"
      ]
     },
     "execution_count": 2,
     "metadata": {},
     "output_type": "execute_result"
    }
   ],
   "source": [
    "# healpix config\n",
    "LEVEL = 1\n",
    "NSIDE = 2**LEVEL\n",
    "NPIX = hp.nside2npix(NSIDE)\n",
    "NPIX"
   ]
  },
  {
   "cell_type": "code",
   "execution_count": 3,
   "metadata": {},
   "outputs": [],
   "source": [
    "root_data_dir = abspath(join(pardir, \"Data\"))\n",
    "twomass_dir = join(root_data_dir, \"TWOMASS-15.8\")\n",
    "gaia_dir = join(root_data_dir, \"Gaia-2MASS\")"
   ]
  },
  {
   "cell_type": "code",
   "execution_count": 4,
   "metadata": {},
   "outputs": [
    {
     "name": "stdout",
     "output_type": "stream",
     "text": [
      "Directory already exist. Good to go!\n"
     ]
    }
   ],
   "source": [
    "name = \"Completeness\"\n",
    "data_dir = join(root_data_dir, name)\n",
    "try:\n",
    "  mkdir(data_dir)\n",
    "  print(f\"Creating {name} dir in Data dir\")\n",
    "except FileExistsError:\n",
    "  print(\"Directory already exist. Good to go!\")"
   ]
  },
  {
   "cell_type": "code",
   "execution_count": 5,
   "metadata": {},
   "outputs": [
    {
     "data": {
      "text/plain": [
       "['/home2/s20321005/Thesis-Project/Data/TWOMASS/tmass-070-080.hdf5',\n",
       " '/home2/s20321005/Thesis-Project/Data/TWOMASS/tmass-060-070.hdf5',\n",
       " '/home2/s20321005/Thesis-Project/Data/TWOMASS/tmass-010-020.hdf5',\n",
       " '/home2/s20321005/Thesis-Project/Data/TWOMASS/tmass-320-330.hdf5',\n",
       " '/home2/s20321005/Thesis-Project/Data/TWOMASS/tmass-200-210.hdf5']"
      ]
     },
     "execution_count": 5,
     "metadata": {},
     "output_type": "execute_result"
    }
   ],
   "source": [
    "twomass_files = glob(join(twomass_dir, \"*.hdf5\"))\n",
    "twomass_files[:5]"
   ]
  },
  {
   "cell_type": "code",
   "execution_count": 6,
   "metadata": {},
   "outputs": [
    {
     "data": {
      "text/plain": [
       "['/home2/s20321005/Thesis-Project/Data/Gaia-2MASS/gaia-219-220.hdf5',\n",
       " '/home2/s20321005/Thesis-Project/Data/Gaia-2MASS/gaia-079-080.hdf5',\n",
       " '/home2/s20321005/Thesis-Project/Data/Gaia-2MASS/gaia-218-219.hdf5',\n",
       " '/home2/s20321005/Thesis-Project/Data/Gaia-2MASS/gaia-182-183.hdf5',\n",
       " '/home2/s20321005/Thesis-Project/Data/Gaia-2MASS/gaia-045-046.hdf5']"
      ]
     },
     "execution_count": 6,
     "metadata": {},
     "output_type": "execute_result"
    }
   ],
   "source": [
    "gaia_files = glob(join(gaia_dir, \"*.hdf5\"))\n",
    "gaia_files[:5]"
   ]
  },
  {
   "cell_type": "code",
   "execution_count": 7,
   "metadata": {},
   "outputs": [
    {
     "data": {
      "text/html": [
       "<table>\n",
       "<thead>\n",
       "<tr><th>#                                     </th><th>ra        </th><th>dec       </th><th>Jmag  </th><th>Hmag  </th><th>Kmag  </th><th>J-K       </th></tr>\n",
       "</thead>\n",
       "<tbody>\n",
       "<tr><td><i style='opacity: 0.6'>0</i>         </td><td>70.000147 </td><td>-73.327232</td><td>10.583</td><td>9.985 </td><td>9.717 </td><td>0.8660002 </td></tr>\n",
       "<tr><td><i style='opacity: 0.6'>1</i>         </td><td>70.000158 </td><td>-73.298195</td><td>12.086</td><td>11.151</td><td>10.797</td><td>1.2890005 </td></tr>\n",
       "<tr><td><i style='opacity: 0.6'>2</i>         </td><td>70.000188 </td><td>-79.923325</td><td>13.487</td><td>13.145</td><td>13.07 </td><td>0.41700077</td></tr>\n",
       "<tr><td><i style='opacity: 0.6'>3</i>         </td><td>70.000465 </td><td>-89.049103</td><td>12.022</td><td>11.554</td><td>11.451</td><td>0.5710001 </td></tr>\n",
       "<tr><td><i style='opacity: 0.6'>4</i>         </td><td>70.000511 </td><td>-76.362122</td><td>11.954</td><td>11.548</td><td>11.413</td><td>0.54100037</td></tr>\n",
       "<tr><td>...                                   </td><td>...       </td><td>...       </td><td>...   </td><td>...   </td><td>...   </td><td>...       </td></tr>\n",
       "<tr><td><i style='opacity: 0.6'>37,995,329</i></td><td>109.959101</td><td>71.371353 </td><td>12.514</td><td>12.192</td><td>12.19 </td><td>0.32400036</td></tr>\n",
       "<tr><td><i style='opacity: 0.6'>37,995,330</i></td><td>109.96032 </td><td>71.409782 </td><td>11.604</td><td>11.099</td><td>11.043</td><td>0.5609999 </td></tr>\n",
       "<tr><td><i style='opacity: 0.6'>37,995,331</i></td><td>109.967031</td><td>70.026169 </td><td>12.273</td><td>11.984</td><td>11.952</td><td>0.3210001 </td></tr>\n",
       "<tr><td><i style='opacity: 0.6'>37,995,332</i></td><td>109.973617</td><td>77.130386 </td><td>13.272</td><td>12.965</td><td>12.945</td><td>0.32700062</td></tr>\n",
       "<tr><td><i style='opacity: 0.6'>37,995,333</i></td><td>109.991703</td><td>71.01152  </td><td>12.825</td><td>12.448</td><td>12.369</td><td>0.45599937</td></tr>\n",
       "</tbody>\n",
       "</table>"
      ],
      "text/plain": [
       "#           ra          dec         Jmag    Hmag    Kmag    J-K\n",
       "0           70.000147   -73.327232  10.583  9.985   9.717   0.8660002\n",
       "1           70.000158   -73.298195  12.086  11.151  10.797  1.2890005\n",
       "2           70.000188   -79.923325  13.487  13.145  13.07   0.41700077\n",
       "3           70.000465   -89.049103  12.022  11.554  11.451  0.5710001\n",
       "4           70.000511   -76.362122  11.954  11.548  11.413  0.54100037\n",
       "...         ...         ...         ...     ...     ...     ...\n",
       "37,995,329  109.959101  71.371353   12.514  12.192  12.19   0.32400036\n",
       "37,995,330  109.96032   71.409782   11.604  11.099  11.043  0.5609999\n",
       "37,995,331  109.967031  70.026169   12.273  11.984  11.952  0.3210001\n",
       "37,995,332  109.973617  77.130386   13.272  12.965  12.945  0.32700062\n",
       "37,995,333  109.991703  71.01152    12.825  12.448  12.369  0.45599937"
      ]
     },
     "execution_count": 7,
     "metadata": {},
     "output_type": "execute_result"
    }
   ],
   "source": [
    "tmass = vaex.open_many(twomass_files)\n",
    "tmass[\"J-K\"] = tmass[\"Jmag\"] - tmass[\"Kmag\"]\n",
    "tmass"
   ]
  },
  {
   "cell_type": "code",
   "execution_count": 8,
   "metadata": {},
   "outputs": [
    {
     "data": {
      "text/plain": [
       "array([44, 44, 44, ...,  1,  1,  1])"
      ]
     },
     "execution_count": 8,
     "metadata": {},
     "output_type": "execute_result"
    }
   ],
   "source": [
    "# add healpix index\n",
    "phi = tmass[\"ra\"].to_numpy()*np.pi/180\n",
    "theta = (90-tmass[\"dec\"].to_numpy())*np.pi/180\n",
    "index = hp.ang2pix(NSIDE, theta, phi)\n",
    "index"
   ]
  },
  {
   "cell_type": "code",
   "execution_count": 9,
   "metadata": {},
   "outputs": [
    {
     "data": {
      "text/html": [
       "<table>\n",
       "<thead>\n",
       "<tr><th>#                                     </th><th>ra        </th><th>dec       </th><th>Jmag  </th><th>Hmag  </th><th>Kmag  </th><th>J-K       </th><th>index  </th></tr>\n",
       "</thead>\n",
       "<tbody>\n",
       "<tr><td><i style='opacity: 0.6'>0</i>         </td><td>70.000147 </td><td>-73.327232</td><td>10.583</td><td>9.985 </td><td>9.717 </td><td>0.8660002 </td><td>44     </td></tr>\n",
       "<tr><td><i style='opacity: 0.6'>1</i>         </td><td>70.000158 </td><td>-73.298195</td><td>12.086</td><td>11.151</td><td>10.797</td><td>1.2890005 </td><td>44     </td></tr>\n",
       "<tr><td><i style='opacity: 0.6'>2</i>         </td><td>70.000188 </td><td>-79.923325</td><td>13.487</td><td>13.145</td><td>13.07 </td><td>0.41700077</td><td>44     </td></tr>\n",
       "<tr><td><i style='opacity: 0.6'>3</i>         </td><td>70.000465 </td><td>-89.049103</td><td>12.022</td><td>11.554</td><td>11.451</td><td>0.5710001 </td><td>44     </td></tr>\n",
       "<tr><td><i style='opacity: 0.6'>4</i>         </td><td>70.000511 </td><td>-76.362122</td><td>11.954</td><td>11.548</td><td>11.413</td><td>0.54100037</td><td>44     </td></tr>\n",
       "<tr><td>...                                   </td><td>...       </td><td>...       </td><td>...   </td><td>...   </td><td>...   </td><td>...       </td><td>...    </td></tr>\n",
       "<tr><td><i style='opacity: 0.6'>37,995,329</i></td><td>109.959101</td><td>71.371353 </td><td>12.514</td><td>12.192</td><td>12.19 </td><td>0.32400036</td><td>1      </td></tr>\n",
       "<tr><td><i style='opacity: 0.6'>37,995,330</i></td><td>109.96032 </td><td>71.409782 </td><td>11.604</td><td>11.099</td><td>11.043</td><td>0.5609999 </td><td>1      </td></tr>\n",
       "<tr><td><i style='opacity: 0.6'>37,995,331</i></td><td>109.967031</td><td>70.026169 </td><td>12.273</td><td>11.984</td><td>11.952</td><td>0.3210001 </td><td>1      </td></tr>\n",
       "<tr><td><i style='opacity: 0.6'>37,995,332</i></td><td>109.973617</td><td>77.130386 </td><td>13.272</td><td>12.965</td><td>12.945</td><td>0.32700062</td><td>1      </td></tr>\n",
       "<tr><td><i style='opacity: 0.6'>37,995,333</i></td><td>109.991703</td><td>71.01152  </td><td>12.825</td><td>12.448</td><td>12.369</td><td>0.45599937</td><td>1      </td></tr>\n",
       "</tbody>\n",
       "</table>"
      ],
      "text/plain": [
       "#           ra          dec         Jmag    Hmag    Kmag    J-K         index\n",
       "0           70.000147   -73.327232  10.583  9.985   9.717   0.8660002   44\n",
       "1           70.000158   -73.298195  12.086  11.151  10.797  1.2890005   44\n",
       "2           70.000188   -79.923325  13.487  13.145  13.07   0.41700077  44\n",
       "3           70.000465   -89.049103  12.022  11.554  11.451  0.5710001   44\n",
       "4           70.000511   -76.362122  11.954  11.548  11.413  0.54100037  44\n",
       "...         ...         ...         ...     ...     ...     ...         ...\n",
       "37,995,329  109.959101  71.371353   12.514  12.192  12.19   0.32400036  1\n",
       "37,995,330  109.96032   71.409782   11.604  11.099  11.043  0.5609999   1\n",
       "37,995,331  109.967031  70.026169   12.273  11.984  11.952  0.3210001   1\n",
       "37,995,332  109.973617  77.130386   13.272  12.965  12.945  0.32700062  1\n",
       "37,995,333  109.991703  71.01152    12.825  12.448  12.369  0.45599937  1"
      ]
     },
     "execution_count": 9,
     "metadata": {},
     "output_type": "execute_result"
    }
   ],
   "source": [
    "tmass[\"index\"] = index\n",
    "tmass"
   ]
  },
  {
   "cell_type": "code",
   "execution_count": 11,
   "metadata": {},
   "outputs": [
    {
     "data": {
      "text/html": [
       "<table>\n",
       "<thead>\n",
       "<tr><th>#                                     </th><th>source_id          </th><th>ra             </th><th>dec            </th><th>pm    </th><th>pmra   </th><th>e_pmra  </th><th>pmdec  </th><th>e_pmdec    </th><th>parallax  </th><th>e_parallax  </th><th>Gmag     </th><th>BPmag    </th><th>RPmag    </th><th>rv_gaia  </th><th>e_rv_gaia  </th><th>bp_rp   </th><th>GLON           </th><th>GLAT           </th><th>teff_gspphot  </th><th>teff_gspphot_lower  </th><th>teff_gspphot_upper  </th><th>logg_gspphot  </th><th>logg_gspphot_lower  </th><th>logg_gspphot_upper  </th><th>mh_gspphot  </th><th>mh_gspphot_lower  </th><th>mh_gspphot_upper  </th><th>distance_gspphot  </th><th>distance_gspphot_lower  </th><th>distance_gspphot_upper  </th><th>ag_gspphot  </th><th>ag_gspphot_lower  </th><th>ag_gspphot_upper  </th><th>RAVE6  </th><th>SDSS13  </th><th>Jmag  </th><th>Hmag  </th><th>Kmag  </th><th>mh_gspspec  </th><th>mh_gspspec_lower  </th><th>mh_gspspec_upper  </th><th>alphafe_gspspec  </th><th>alphafe_gspspec_lower  </th><th>alphafe_gspspec_upper  </th><th>fem_gspspec  </th><th>fem_gspspec_lower  </th><th>fem_gspspec_upper  </th><th>spectraltype_esphs  </th></tr>\n",
       "</thead>\n",
       "<tbody>\n",
       "<tr><td><i style='opacity: 0.6'>0</i>         </td><td>5764635079544432128</td><td>219.77805455719</td><td>-89.56922832436</td><td>7.511 </td><td>1.522  </td><td>0.021   </td><td>-7.355 </td><td>0.020949371</td><td>2.8775    </td><td>0.0184      </td><td>10.847249</td><td>11.118501</td><td>10.412085</td><td>-5.29    </td><td>0.73       </td><td>0.706416</td><td>303.15029042357</td><td>-26.74401558194</td><td>6141.6        </td><td>6130.1              </td><td>6152.1              </td><td>4.043         </td><td>4.0398              </td><td>4.0469              </td><td>-0.4365     </td><td>-0.4457           </td><td>-0.4269           </td><td>344.0585          </td><td>341.9788                </td><td>346.0511                </td><td>0.0799      </td><td>0.0745            </td><td>0.0847            </td><td>       </td><td>--      </td><td>9.953 </td><td>9.698 </td><td>9.683 </td><td>-0.26       </td><td>-0.32             </td><td>-0.22             </td><td>0.33             </td><td>0.26                   </td><td>0.4                    </td><td>nan          </td><td>nan                </td><td>nan                </td><td>F                   </td></tr>\n",
       "<tr><td><i style='opacity: 0.6'>1</i>         </td><td>5764635393079767296</td><td>219.15195997564</td><td>-89.5318109641 </td><td>11.203</td><td>-8.352 </td><td>0.012   </td><td>-7.467 </td><td>0.012214055</td><td>0.4305    </td><td>0.011       </td><td>13.174702</td><td>13.789571</td><td>12.425439</td><td>67.09    </td><td>0.91       </td><td>1.364132</td><td>303.16401990137</td><td>-26.70832039314</td><td>4718.7        </td><td>4713.3              </td><td>4724.8              </td><td>2.5833        </td><td>2.5655              </td><td>2.6014              </td><td>-0.1946     </td><td>-0.1952           </td><td>-0.1941           </td><td>2070.6995         </td><td>2031.6134               </td><td>2112.0928               </td><td>0.3619      </td><td>0.3574            </td><td>0.3668            </td><td>       </td><td>--      </td><td>11.418</td><td>10.819</td><td>10.704</td><td>nan         </td><td>nan               </td><td>nan               </td><td>nan              </td><td>nan                    </td><td>nan                    </td><td>nan          </td><td>nan                </td><td>nan                </td><td>K                   </td></tr>\n",
       "<tr><td><i style='opacity: 0.6'>2</i>         </td><td>5764635496158988544</td><td>219.83101507284</td><td>-89.50979783241</td><td>2.65  </td><td>-2.095 </td><td>0.022   </td><td>1.623  </td><td>0.024982337</td><td>0.2155    </td><td>0.0218      </td><td>14.993793</td><td>15.584641</td><td>14.263248</td><td>nan      </td><td>nan        </td><td>1.321393</td><td>303.18075914642</td><td>-26.69113646047</td><td>4881.6        </td><td>4875.7              </td><td>4888.8              </td><td>3.0708        </td><td>3.0509              </td><td>3.0862              </td><td>-0.1415     </td><td>-0.15             </td><td>-0.1356           </td><td>3446.1995         </td><td>3376.546                </td><td>3517.8865               </td><td>0.4145      </td><td>0.4093            </td><td>0.4207            </td><td>       </td><td>--      </td><td>13.306</td><td>12.725</td><td>12.634</td><td>nan         </td><td>nan               </td><td>nan               </td><td>nan              </td><td>nan                    </td><td>nan                    </td><td>nan          </td><td>nan                </td><td>nan                </td><td>K                   </td></tr>\n",
       "<tr><td><i style='opacity: 0.6'>3</i>         </td><td>5764638554175708672</td><td>219.24632619569</td><td>-89.48870252979</td><td>11.672</td><td>-10.811</td><td>0.017   </td><td>-4.399 </td><td>0.01951931 </td><td>1.9675    </td><td>0.0166      </td><td>14.446186</td><td>14.915824</td><td>13.815229</td><td>13.17    </td><td>3.9        </td><td>1.100595</td><td>303.18615009602</td><td>-26.66999019517</td><td>5226.6        </td><td>5217.9              </td><td>5235.5              </td><td>4.5456        </td><td>4.5418              </td><td>4.5518              </td><td>-0.1967     </td><td>-0.2063           </td><td>-0.1864           </td><td>490.8246          </td><td>487.5747                </td><td>493.967                 </td><td>0.2623      </td><td>0.2565            </td><td>0.2679            </td><td>       </td><td>--      </td><td>13.026</td><td>12.587</td><td>12.512</td><td>nan         </td><td>nan               </td><td>nan               </td><td>nan              </td><td>nan                    </td><td>nan                    </td><td>nan          </td><td>nan                </td><td>nan                </td><td>K                   </td></tr>\n",
       "<tr><td><i style='opacity: 0.6'>4</i>         </td><td>5764639241370488064</td><td>219.24010479539</td><td>-89.44765029195</td><td>14.783</td><td>-10.759</td><td>0.113   </td><td>-10.139</td><td>0.12553297 </td><td>1.2643    </td><td>0.1066      </td><td>17.817894</td><td>18.871086</td><td>16.80843 </td><td>nan      </td><td>nan        </td><td>2.062656</td><td>303.2064053892 </td><td>-26.63317348591</td><td>4119.2        </td><td>4089.7              </td><td>4135.9              </td><td>4.6477        </td><td>4.6411              </td><td>4.6547              </td><td>0.3467      </td><td>0.2681            </td><td>0.3855            </td><td>822.1085          </td><td>799.1945                </td><td>831.1044                </td><td>0.7264      </td><td>0.6964            </td><td>0.7513            </td><td>       </td><td>--      </td><td>15.434</td><td>14.768</td><td>14.468</td><td>nan         </td><td>nan               </td><td>nan               </td><td>nan              </td><td>nan                    </td><td>nan                    </td><td>nan          </td><td>nan                </td><td>nan                </td><td>                    </td></tr>\n",
       "<tr><td>...                                   </td><td>...                </td><td>...            </td><td>...            </td><td>...   </td><td>...    </td><td>...     </td><td>...    </td><td>...        </td><td>...       </td><td>...         </td><td>...      </td><td>...      </td><td>...      </td><td>...      </td><td>...        </td><td>...     </td><td>...            </td><td>...            </td><td>...           </td><td>...                 </td><td>...                 </td><td>...           </td><td>...                 </td><td>...                 </td><td>...         </td><td>...               </td><td>...               </td><td>...               </td><td>...                     </td><td>...                     </td><td>...         </td><td>...               </td><td>...               </td><td>...    </td><td>...     </td><td>...   </td><td>...   </td><td>...   </td><td>...         </td><td>...               </td><td>...               </td><td>...              </td><td>...                    </td><td>...                    </td><td>...          </td><td>...                </td><td>...                </td><td>...                 </td></tr>\n",
       "<tr><td><i style='opacity: 0.6'>94,994,937</i></td><td>576406227696244864 </td><td>33.65804765403 </td><td>89.33197663578 </td><td>4.686 </td><td>-4.139 </td><td>0.072   </td><td>-2.197 </td><td>0.064973824</td><td>0.6416    </td><td>0.0561      </td><td>16.92992 </td><td>17.625141</td><td>16.097548</td><td>nan      </td><td>nan        </td><td>1.527594</td><td>123.19695964994</td><td>26.50349463792 </td><td>4337.4        </td><td>4217.8              </td><td>4422.2              </td><td>4.3911        </td><td>4.2846              </td><td>4.4237              </td><td>-0.3812     </td><td>-0.4888           </td><td>-0.3243           </td><td>1117.2708         </td><td>1065.5874               </td><td>1205.549                </td><td>0.305       </td><td>0.1938            </td><td>0.3925            </td><td>       </td><td>--      </td><td>14.993</td><td>14.263</td><td>14.201</td><td>nan         </td><td>nan               </td><td>nan               </td><td>nan              </td><td>nan                    </td><td>nan                    </td><td>nan          </td><td>nan                </td><td>nan                </td><td>K                   </td></tr>\n",
       "<tr><td><i style='opacity: 0.6'>94,994,938</i></td><td>576431585183142528 </td><td>33.61268607589 </td><td>89.48206639541 </td><td>1.894 </td><td>-1.763 </td><td>0.02    </td><td>0.693  </td><td>0.017867079</td><td>0.6989    </td><td>0.0159      </td><td>14.399571</td><td>15.067607</td><td>13.604876</td><td>-14.88   </td><td>3.59       </td><td>1.462731</td><td>123.13723815775</td><td>26.64377331058 </td><td>5178.8        </td><td>5133.0              </td><td>5367.7              </td><td>3.5746        </td><td>3.4492              </td><td>3.8413              </td><td>-0.4349     </td><td>-0.4827           </td><td>-0.291            </td><td>1165.2085         </td><td>893.3535                </td><td>1341.377                </td><td>0.9013      </td><td>0.8756            </td><td>0.9909            </td><td>       </td><td>--      </td><td>12.616</td><td>12.051</td><td>11.924</td><td>nan         </td><td>nan               </td><td>nan               </td><td>nan              </td><td>nan                    </td><td>nan                    </td><td>nan          </td><td>nan                </td><td>nan                </td><td>K                   </td></tr>\n",
       "<tr><td><i style='opacity: 0.6'>94,994,939</i></td><td>576445638316125184 </td><td>33.60957894134 </td><td>89.57301292445 </td><td>4.728 </td><td>-2.691 </td><td>0.018   </td><td>3.887  </td><td>0.015934618</td><td>0.7782    </td><td>0.015       </td><td>14.292352</td><td>14.78063 </td><td>13.633098</td><td>-36.36   </td><td>7.38       </td><td>1.147533</td><td>123.10127650839</td><td>26.72887005884 </td><td>5855.7        </td><td>5835.1              </td><td>5878.4              </td><td>4.0048        </td><td>3.9971              </td><td>4.0145              </td><td>-0.583      </td><td>-0.6066           </td><td>-0.555            </td><td>1217.041          </td><td>1196.2493               </td><td>1234.8632               </td><td>0.7542      </td><td>0.7434            </td><td>0.7665            </td><td>       </td><td>--      </td><td>12.857</td><td>12.457</td><td>12.404</td><td>nan         </td><td>nan               </td><td>nan               </td><td>nan              </td><td>nan                    </td><td>nan                    </td><td>nan          </td><td>nan                </td><td>nan                </td><td>G                   </td></tr>\n",
       "<tr><td><i style='opacity: 0.6'>94,994,940</i></td><td>576447459382243200 </td><td>33.57768719537 </td><td>89.70251709954 </td><td>17.162</td><td>10.764 </td><td>0.021   </td><td>13.367 </td><td>0.021056626</td><td>0.9942    </td><td>0.0197      </td><td>14.856944</td><td>15.333351</td><td>14.206361</td><td>-6.87    </td><td>13.13      </td><td>1.12699 </td><td>123.04990412536</td><td>26.85002805556 </td><td>5420.3        </td><td>5395.1              </td><td>5501.3              </td><td>4.2236        </td><td>4.2103              </td><td>4.2407              </td><td>-1.28       </td><td>-1.323            </td><td>-1.1485           </td><td>946.7403          </td><td>929.4686                </td><td>962.1341                </td><td>0.4847      </td><td>0.4702            </td><td>0.5309            </td><td>       </td><td>--      </td><td>13.478</td><td>13.002</td><td>12.953</td><td>nan         </td><td>nan               </td><td>nan               </td><td>nan              </td><td>nan                    </td><td>nan                    </td><td>nan          </td><td>nan                </td><td>nan                </td><td>G                   </td></tr>\n",
       "<tr><td><i style='opacity: 0.6'>94,994,941</i></td><td>576453437976715520 </td><td>33.20610602573 </td><td>89.73429020887 </td><td>67.239</td><td>-60.351</td><td>0.065   </td><td>29.646 </td><td>0.060682155</td><td>2.999     </td><td>0.0569      </td><td>17.162838</td><td>18.440525</td><td>16.054945</td><td>nan      </td><td>nan        </td><td>2.38558 </td><td>123.03516360374</td><td>26.87911167663 </td><td>3580.4        </td><td>3564.6              </td><td>3610.1              </td><td>4.6601        </td><td>4.406               </td><td>4.7487              </td><td>-0.2742     </td><td>-0.3302           </td><td>-0.2065           </td><td>372.0011          </td><td>325.6846                </td><td>559.3815                </td><td>0.4324      </td><td>0.4105            </td><td>0.4687            </td><td>       </td><td>--      </td><td>14.654</td><td>14.07 </td><td>13.732</td><td>nan         </td><td>nan               </td><td>nan               </td><td>nan              </td><td>nan                    </td><td>nan                    </td><td>nan          </td><td>nan                </td><td>nan                </td><td>M                   </td></tr>\n",
       "</tbody>\n",
       "</table>"
      ],
      "text/plain": [
       "#           source_id            ra               dec              pm      pmra     e_pmra    pmdec    e_pmdec      parallax    e_parallax    Gmag       BPmag      RPmag      rv_gaia    e_rv_gaia    bp_rp     GLON             GLAT             teff_gspphot    teff_gspphot_lower    teff_gspphot_upper    logg_gspphot    logg_gspphot_lower    logg_gspphot_upper    mh_gspphot    mh_gspphot_lower    mh_gspphot_upper    distance_gspphot    distance_gspphot_lower    distance_gspphot_upper    ag_gspphot    ag_gspphot_lower    ag_gspphot_upper    RAVE6    SDSS13    Jmag    Hmag    Kmag    mh_gspspec    mh_gspspec_lower    mh_gspspec_upper    alphafe_gspspec    alphafe_gspspec_lower    alphafe_gspspec_upper    fem_gspspec    fem_gspspec_lower    fem_gspspec_upper    spectraltype_esphs\n",
       "0           5764635079544432128  219.77805455719  -89.56922832436  7.511   1.522    0.021     -7.355   0.020949371  2.8775      0.0184        10.847249  11.118501  10.412085  -5.29      0.73         0.706416  303.15029042357  -26.74401558194  6141.6          6130.1                6152.1                4.043           4.0398                4.0469                -0.4365       -0.4457             -0.4269             344.0585            341.9788                  346.0511                  0.0799        0.0745              0.0847                       --        9.953   9.698   9.683   -0.26         -0.32               -0.22               0.33               0.26                     0.4                      nan            nan                  nan                  F\n",
       "1           5764635393079767296  219.15195997564  -89.5318109641   11.203  -8.352   0.012     -7.467   0.012214055  0.4305      0.011         13.174702  13.789571  12.425439  67.09      0.91         1.364132  303.16401990137  -26.70832039314  4718.7          4713.3                4724.8                2.5833          2.5655                2.6014                -0.1946       -0.1952             -0.1941             2070.6995           2031.6134                 2112.0928                 0.3619        0.3574              0.3668                       --        11.418  10.819  10.704  nan           nan                 nan                 nan                nan                      nan                      nan            nan                  nan                  K\n",
       "2           5764635496158988544  219.83101507284  -89.50979783241  2.65    -2.095   0.022     1.623    0.024982337  0.2155      0.0218        14.993793  15.584641  14.263248  nan        nan          1.321393  303.18075914642  -26.69113646047  4881.6          4875.7                4888.8                3.0708          3.0509                3.0862                -0.1415       -0.15               -0.1356             3446.1995           3376.546                  3517.8865                 0.4145        0.4093              0.4207                       --        13.306  12.725  12.634  nan           nan                 nan                 nan                nan                      nan                      nan            nan                  nan                  K\n",
       "3           5764638554175708672  219.24632619569  -89.48870252979  11.672  -10.811  0.017     -4.399   0.01951931   1.9675      0.0166        14.446186  14.915824  13.815229  13.17      3.9          1.100595  303.18615009602  -26.66999019517  5226.6          5217.9                5235.5                4.5456          4.5418                4.5518                -0.1967       -0.2063             -0.1864             490.8246            487.5747                  493.967                   0.2623        0.2565              0.2679                       --        13.026  12.587  12.512  nan           nan                 nan                 nan                nan                      nan                      nan            nan                  nan                  K\n",
       "4           5764639241370488064  219.24010479539  -89.44765029195  14.783  -10.759  0.113     -10.139  0.12553297   1.2643      0.1066        17.817894  18.871086  16.80843   nan        nan          2.062656  303.2064053892   -26.63317348591  4119.2          4089.7                4135.9                4.6477          4.6411                4.6547                0.3467        0.2681              0.3855              822.1085            799.1945                  831.1044                  0.7264        0.6964              0.7513                       --        15.434  14.768  14.468  nan           nan                 nan                 nan                nan                      nan                      nan            nan                  nan\n",
       "...         ...                  ...              ...              ...     ...      ...       ...      ...          ...         ...           ...        ...        ...        ...        ...          ...       ...              ...              ...             ...                   ...                   ...             ...                   ...                   ...           ...                 ...                 ...                 ...                       ...                       ...           ...                 ...                 ...      ...       ...     ...     ...     ...           ...                 ...                 ...                ...                      ...                      ...            ...                  ...                  ...\n",
       "94,994,937  576406227696244864   33.65804765403   89.33197663578   4.686   -4.139   0.072     -2.197   0.064973824  0.6416      0.0561        16.92992   17.625141  16.097548  nan        nan          1.527594  123.19695964994  26.50349463792   4337.4          4217.8                4422.2                4.3911          4.2846                4.4237                -0.3812       -0.4888             -0.3243             1117.2708           1065.5874                 1205.549                  0.305         0.1938              0.3925                       --        14.993  14.263  14.201  nan           nan                 nan                 nan                nan                      nan                      nan            nan                  nan                  K\n",
       "94,994,938  576431585183142528   33.61268607589   89.48206639541   1.894   -1.763   0.02      0.693    0.017867079  0.6989      0.0159        14.399571  15.067607  13.604876  -14.88     3.59         1.462731  123.13723815775  26.64377331058   5178.8          5133.0                5367.7                3.5746          3.4492                3.8413                -0.4349       -0.4827             -0.291              1165.2085           893.3535                  1341.377                  0.9013        0.8756              0.9909                       --        12.616  12.051  11.924  nan           nan                 nan                 nan                nan                      nan                      nan            nan                  nan                  K\n",
       "94,994,939  576445638316125184   33.60957894134   89.57301292445   4.728   -2.691   0.018     3.887    0.015934618  0.7782      0.015         14.292352  14.78063   13.633098  -36.36     7.38         1.147533  123.10127650839  26.72887005884   5855.7          5835.1                5878.4                4.0048          3.9971                4.0145                -0.583        -0.6066             -0.555              1217.041            1196.2493                 1234.8632                 0.7542        0.7434              0.7665                       --        12.857  12.457  12.404  nan           nan                 nan                 nan                nan                      nan                      nan            nan                  nan                  G\n",
       "94,994,940  576447459382243200   33.57768719537   89.70251709954   17.162  10.764   0.021     13.367   0.021056626  0.9942      0.0197        14.856944  15.333351  14.206361  -6.87      13.13        1.12699   123.04990412536  26.85002805556   5420.3          5395.1                5501.3                4.2236          4.2103                4.2407                -1.28         -1.323              -1.1485             946.7403            929.4686                  962.1341                  0.4847        0.4702              0.5309                       --        13.478  13.002  12.953  nan           nan                 nan                 nan                nan                      nan                      nan            nan                  nan                  G\n",
       "94,994,941  576453437976715520   33.20610602573   89.73429020887   67.239  -60.351  0.065     29.646   0.060682155  2.999       0.0569        17.162838  18.440525  16.054945  nan        nan          2.38558   123.03516360374  26.87911167663   3580.4          3564.6                3610.1                4.6601          4.406                 4.7487                -0.2742       -0.3302             -0.2065             372.0011            325.6846                  559.3815                  0.4324        0.4105              0.4687                       --        14.654  14.07   13.732  nan           nan                 nan                 nan                nan                      nan                      nan            nan                  nan                  M"
      ]
     },
     "execution_count": 11,
     "metadata": {},
     "output_type": "execute_result"
    }
   ],
   "source": [
    "gaia_raw = vaex.open_many(gaia_files)\n",
    "# gaia_raw = gaia_raw.filter(gaia_raw['Jmag'] < 13.5)\n",
    "gaia_raw"
   ]
  },
  {
   "cell_type": "code",
   "execution_count": 12,
   "metadata": {},
   "outputs": [
    {
     "data": {
      "text/html": [
       "<table>\n",
       "<thead>\n",
       "<tr><th>#                                     </th><th>Jmag  </th><th>Kmag  </th><th>ra             </th><th>dec            </th><th>J-K       </th></tr>\n",
       "</thead>\n",
       "<tbody>\n",
       "<tr><td><i style='opacity: 0.6'>0</i>         </td><td>9.953 </td><td>9.683 </td><td>219.77805455719</td><td>-89.56922832436</td><td>0.27000046</td></tr>\n",
       "<tr><td><i style='opacity: 0.6'>1</i>         </td><td>11.418</td><td>10.704</td><td>219.15195997564</td><td>-89.5318109641 </td><td>0.71399975</td></tr>\n",
       "<tr><td><i style='opacity: 0.6'>2</i>         </td><td>13.306</td><td>12.634</td><td>219.83101507284</td><td>-89.50979783241</td><td>0.67199993</td></tr>\n",
       "<tr><td><i style='opacity: 0.6'>3</i>         </td><td>13.026</td><td>12.512</td><td>219.24632619569</td><td>-89.48870252979</td><td>0.51399994</td></tr>\n",
       "<tr><td><i style='opacity: 0.6'>4</i>         </td><td>15.434</td><td>14.468</td><td>219.24010479539</td><td>-89.44765029195</td><td>0.9659996 </td></tr>\n",
       "<tr><td>...                                   </td><td>...   </td><td>...   </td><td>...            </td><td>...            </td><td>...       </td></tr>\n",
       "<tr><td><i style='opacity: 0.6'>94,994,937</i></td><td>14.993</td><td>14.201</td><td>33.65804765403 </td><td>89.33197663578 </td><td>0.7919998 </td></tr>\n",
       "<tr><td><i style='opacity: 0.6'>94,994,938</i></td><td>12.616</td><td>11.924</td><td>33.61268607589 </td><td>89.48206639541 </td><td>0.6920004 </td></tr>\n",
       "<tr><td><i style='opacity: 0.6'>94,994,939</i></td><td>12.857</td><td>12.404</td><td>33.60957894134 </td><td>89.57301292445 </td><td>0.45300007</td></tr>\n",
       "<tr><td><i style='opacity: 0.6'>94,994,940</i></td><td>13.478</td><td>12.953</td><td>33.57768719537 </td><td>89.70251709954 </td><td>0.5249996 </td></tr>\n",
       "<tr><td><i style='opacity: 0.6'>94,994,941</i></td><td>14.654</td><td>13.732</td><td>33.20610602573 </td><td>89.73429020887 </td><td>0.92199993</td></tr>\n",
       "</tbody>\n",
       "</table>"
      ],
      "text/plain": [
       "#           Jmag    Kmag    ra               dec              J-K\n",
       "0           9.953   9.683   219.77805455719  -89.56922832436  0.27000046\n",
       "1           11.418  10.704  219.15195997564  -89.5318109641   0.71399975\n",
       "2           13.306  12.634  219.83101507284  -89.50979783241  0.67199993\n",
       "3           13.026  12.512  219.24632619569  -89.48870252979  0.51399994\n",
       "4           15.434  14.468  219.24010479539  -89.44765029195  0.9659996\n",
       "...         ...     ...     ...              ...              ...\n",
       "94,994,937  14.993  14.201  33.65804765403   89.33197663578   0.7919998\n",
       "94,994,938  12.616  11.924  33.61268607589   89.48206639541   0.6920004\n",
       "94,994,939  12.857  12.404  33.60957894134   89.57301292445   0.45300007\n",
       "94,994,940  13.478  12.953  33.57768719537   89.70251709954   0.5249996\n",
       "94,994,941  14.654  13.732  33.20610602573   89.73429020887   0.92199993"
      ]
     },
     "execution_count": 12,
     "metadata": {},
     "output_type": "execute_result"
    }
   ],
   "source": [
    "gaia = gaia_raw[[\"Jmag\", \"Kmag\", \"ra\", \"dec\"]]\n",
    "gaia[\"J-K\"] = gaia[\"Jmag\"]-gaia[\"Kmag\"]\n",
    "gaia = gaia.extract() \n",
    "gaia"
   ]
  },
  {
   "cell_type": "code",
   "execution_count": null,
   "metadata": {},
   "outputs": [
    {
     "data": {
      "text/plain": [
       "array([46, 46, 46, ...,  0,  0,  0])"
      ]
     },
     "execution_count": 11,
     "metadata": {},
     "output_type": "execute_result"
    }
   ],
   "source": [
    "# add healpix index\n",
    "phi = gaia[\"ra\"].to_numpy()*np.pi/180\n",
    "theta = (90-gaia[\"dec\"].to_numpy())*np.pi/180\n",
    "index = hp.ang2pix(NSIDE, theta, phi)\n",
    "index"
   ]
  },
  {
   "cell_type": "code",
   "execution_count": null,
   "metadata": {},
   "outputs": [
    {
     "data": {
      "text/html": [
       "<table>\n",
       "<thead>\n",
       "<tr><th>#                                     </th><th>Jmag  </th><th>Kmag  </th><th>ra             </th><th>dec            </th><th>J-K       </th><th>index  </th></tr>\n",
       "</thead>\n",
       "<tbody>\n",
       "<tr><td><i style='opacity: 0.6'>0</i>         </td><td>9.953 </td><td>9.683 </td><td>219.77805455719</td><td>-89.56922832436</td><td>0.27000046</td><td>46     </td></tr>\n",
       "<tr><td><i style='opacity: 0.6'>1</i>         </td><td>11.418</td><td>10.704</td><td>219.15195997564</td><td>-89.5318109641 </td><td>0.71399975</td><td>46     </td></tr>\n",
       "<tr><td><i style='opacity: 0.6'>2</i>         </td><td>13.306</td><td>12.634</td><td>219.83101507284</td><td>-89.50979783241</td><td>0.67199993</td><td>46     </td></tr>\n",
       "<tr><td><i style='opacity: 0.6'>3</i>         </td><td>13.026</td><td>12.512</td><td>219.24632619569</td><td>-89.48870252979</td><td>0.51399994</td><td>46     </td></tr>\n",
       "<tr><td><i style='opacity: 0.6'>4</i>         </td><td>11.663</td><td>11.294</td><td>219.15896993321</td><td>-89.41391295861</td><td>0.36900043</td><td>46     </td></tr>\n",
       "<tr><td>...                                   </td><td>...   </td><td>...   </td><td>...            </td><td>...            </td><td>...       </td><td>...    </td></tr>\n",
       "<tr><td><i style='opacity: 0.6'>27,575,371</i></td><td>10.773</td><td>10.285</td><td>33.73276052092 </td><td>89.14773406101 </td><td>0.48799992</td><td>0      </td></tr>\n",
       "<tr><td><i style='opacity: 0.6'>27,575,372</i></td><td>11.324</td><td>10.496</td><td>33.27627882199 </td><td>89.20703044058 </td><td>0.82800007</td><td>0      </td></tr>\n",
       "<tr><td><i style='opacity: 0.6'>27,575,373</i></td><td>12.616</td><td>11.924</td><td>33.61268607589 </td><td>89.48206639541 </td><td>0.6920004 </td><td>0      </td></tr>\n",
       "<tr><td><i style='opacity: 0.6'>27,575,374</i></td><td>12.857</td><td>12.404</td><td>33.60957894134 </td><td>89.57301292445 </td><td>0.45300007</td><td>0      </td></tr>\n",
       "<tr><td><i style='opacity: 0.6'>27,575,375</i></td><td>13.478</td><td>12.953</td><td>33.57768719537 </td><td>89.70251709954 </td><td>0.5249996 </td><td>0      </td></tr>\n",
       "</tbody>\n",
       "</table>"
      ],
      "text/plain": [
       "#           Jmag    Kmag    ra               dec              J-K         index\n",
       "0           9.953   9.683   219.77805455719  -89.56922832436  0.27000046  46\n",
       "1           11.418  10.704  219.15195997564  -89.5318109641   0.71399975  46\n",
       "2           13.306  12.634  219.83101507284  -89.50979783241  0.67199993  46\n",
       "3           13.026  12.512  219.24632619569  -89.48870252979  0.51399994  46\n",
       "4           11.663  11.294  219.15896993321  -89.41391295861  0.36900043  46\n",
       "...         ...     ...     ...              ...              ...         ...\n",
       "27,575,371  10.773  10.285  33.73276052092   89.14773406101   0.48799992  0\n",
       "27,575,372  11.324  10.496  33.27627882199   89.20703044058   0.82800007  0\n",
       "27,575,373  12.616  11.924  33.61268607589   89.48206639541   0.6920004   0\n",
       "27,575,374  12.857  12.404  33.60957894134   89.57301292445   0.45300007  0\n",
       "27,575,375  13.478  12.953  33.57768719537   89.70251709954   0.5249996   0"
      ]
     },
     "execution_count": 12,
     "metadata": {},
     "output_type": "execute_result"
    }
   ],
   "source": [
    "gaia[\"index\"] = index\n",
    "gaia"
   ]
  },
  {
   "cell_type": "code",
   "execution_count": 1,
   "metadata": {},
   "outputs": [
    {
     "ename": "NameError",
     "evalue": "name 'tmass' is not defined",
     "output_type": "error",
     "traceback": [
      "\u001b[0;31m---------------------------------------------------------------------------\u001b[0m",
      "\u001b[0;31mNameError\u001b[0m                                 Traceback (most recent call last)",
      "\u001b[1;32m/home2/s20321005/Thesis-Project/2. Vertical Number Density/2.3. Survey Completeness.ipynb Cell 14\u001b[0m in \u001b[0;36m<cell line: 2>\u001b[0;34m()\u001b[0m\n\u001b[1;32m      <a href='vscode-notebook-cell://ssh-remote%2Bmilkyway.as.itb.ac.id/home2/s20321005/Thesis-Project/2.%20Vertical%20Number%20Density/2.3.%20Survey%20Completeness.ipynb#ch0000013vscode-remote?line=0'>1</a>\u001b[0m \u001b[39m# compare\u001b[39;00m\n\u001b[0;32m----> <a href='vscode-notebook-cell://ssh-remote%2Bmilkyway.as.itb.ac.id/home2/s20321005/Thesis-Project/2.%20Vertical%20Number%20Density/2.3.%20Survey%20Completeness.ipynb#ch0000013vscode-remote?line=1'>2</a>\u001b[0m tmass\u001b[39m.\u001b[39mviz\u001b[39m.\u001b[39mhistogram(\u001b[39m\"\u001b[39m\u001b[39mJmag\u001b[39m\u001b[39m\"\u001b[39m, c\u001b[39m=\u001b[39m\u001b[39m'\u001b[39m\u001b[39mk\u001b[39m\u001b[39m'\u001b[39m)\n\u001b[1;32m      <a href='vscode-notebook-cell://ssh-remote%2Bmilkyway.as.itb.ac.id/home2/s20321005/Thesis-Project/2.%20Vertical%20Number%20Density/2.3.%20Survey%20Completeness.ipynb#ch0000013vscode-remote?line=2'>3</a>\u001b[0m gaia\u001b[39m.\u001b[39mviz\u001b[39m.\u001b[39mhistogram(\u001b[39m\"\u001b[39m\u001b[39mJmag\u001b[39m\u001b[39m\"\u001b[39m, c\u001b[39m=\u001b[39m\u001b[39m'\u001b[39m\u001b[39mr\u001b[39m\u001b[39m'\u001b[39m)\n\u001b[1;32m      <a href='vscode-notebook-cell://ssh-remote%2Bmilkyway.as.itb.ac.id/home2/s20321005/Thesis-Project/2.%20Vertical%20Number%20Density/2.3.%20Survey%20Completeness.ipynb#ch0000013vscode-remote?line=3'>4</a>\u001b[0m plt\u001b[39m.\u001b[39maxvline(\u001b[39m15.8\u001b[39m)\n",
      "\u001b[0;31mNameError\u001b[0m: name 'tmass' is not defined"
     ]
    }
   ],
   "source": [
    "# compare\n",
    "tmass.viz.histogram(\"Jmag\", c='k')\n",
    "gaia.viz.histogram(\"Jmag\", c='r')\n",
    "plt.axvline(15.8)"
   ]
  },
  {
   "cell_type": "code",
   "execution_count": 14,
   "metadata": {},
   "outputs": [
    {
     "data": {
      "text/plain": [
       "[<matplotlib.lines.Line2D at 0x7fd3dc2a8700>]"
      ]
     },
     "execution_count": 14,
     "metadata": {},
     "output_type": "execute_result"
    },
    {
     "data": {
      "image/png": "[encoded data removed]",
      "text/plain": [
       "<Figure size 432x288 with 1 Axes>"
      ]
     },
     "metadata": {
      "needs_background": "light"
     },
     "output_type": "display_data"
    }
   ],
   "source": [
    "tmass.viz.histogram(\"index\", c='k')\n",
    "gaia.viz.histogram(\"index\", c='r')"
   ]
  },
  {
   "cell_type": "code",
   "execution_count": 15,
   "metadata": {},
   "outputs": [],
   "source": [
    "number_gaia, edge_gaia = np.histogram(gaia.index.to_numpy(), range=[-0.5, NPIX-0.5], bins=NPIX)\n",
    "number_twomass, edge_twomass = np.histogram(tmass.index.to_numpy(), range=[-0.5, NPIX-0.5], bins=NPIX)\n",
    "xcenter= (edge_gaia[:-1]+edge_gaia[1:])/2"
   ]
  },
  {
   "cell_type": "code",
   "execution_count": 16,
   "metadata": {},
   "outputs": [],
   "source": [
    "overall_completeness = number_gaia/number_twomass\n",
    "overall_completeness = np.nan_to_num(overall_completeness)\n",
    "more_than_one = overall_completeness > 1\n",
    "overall_completeness[more_than_one] = 1"
   ]
  },
  {
   "cell_type": "code",
   "execution_count": 17,
   "metadata": {},
   "outputs": [
    {
     "data": {
      "text/plain": [
       "(0.0, 1.0)"
      ]
     },
     "execution_count": 17,
     "metadata": {},
     "output_type": "execute_result"
    },
    {
     "data": {
      "image/png": "[encoded data removed]",
      "text/plain": [
       "<Figure size 432x288 with 1 Axes>"
      ]
     },
     "metadata": {
      "needs_background": "light"
     },
     "output_type": "display_data"
    }
   ],
   "source": [
    "plt.bar(xcenter, overall_completeness, width=1)\n",
    "plt.ylim(0,1)"
   ]
  },
  {
   "cell_type": "code",
   "execution_count": 18,
   "metadata": {},
   "outputs": [
    {
     "data": {
      "image/png": "[encoded data removed]",
      "text/plain": [
       "<Figure size 612x388.8 with 2 Axes>"
      ]
     },
     "metadata": {
      "needs_background": "light"
     },
     "output_type": "display_data"
    }
   ],
   "source": [
    "hp.mollview(overall_completeness,nest=True, title=\"Overall Completeness\")"
   ]
  },
  {
   "cell_type": "code",
   "execution_count": 19,
   "metadata": {},
   "outputs": [],
   "source": [
    "# partition in J and J-K\n",
    "eJ = np.linspace(4, 13.5, 51)\n",
    "eJK = np.linspace(-0.5, 1.5, 31)\n",
    "J = (eJ[:-1]+eJ[1:])/2\n",
    "JK = (eJK[:-1]+eJK[1:])/2"
   ]
  },
  {
   "cell_type": "code",
   "execution_count": 24,
   "metadata": {},
   "outputs": [
    {
     "name": "stderr",
     "output_type": "stream",
     "text": [
      "<ipython-input-24-bd453d56f4b7>:9: RuntimeWarning: invalid value encountered in true_divide\n",
      "  comp = np.nan_to_num(gaiaH/tmassH)\n"
     ]
    },
    {
     "name": "stdout",
     "output_type": "stream",
     "text": [
      "0 1500\n",
      "1 3000\n",
      "2 4500\n",
      "3 6000\n",
      "4 7500\n",
      "5 9000\n"
     ]
    },
    {
     "name": "stderr",
     "output_type": "stream",
     "text": [
      "<ipython-input-24-bd453d56f4b7>:9: RuntimeWarning: divide by zero encountered in true_divide\n",
      "  comp = np.nan_to_num(gaiaH/tmassH)\n"
     ]
    },
    {
     "name": "stdout",
     "output_type": "stream",
     "text": [
      "6 10500\n",
      "7 12000\n",
      "8 13500\n",
      "9 15000\n",
      "10 16500\n",
      "11 18000\n",
      "12 19500\n",
      "13 21000\n",
      "14 22500\n",
      "15 24000\n",
      "16 25500\n",
      "17 27000\n",
      "18 28500\n",
      "19 30000\n",
      "20 31500\n",
      "21 33000\n",
      "22 34500\n",
      "23 36000\n",
      "24 37500\n",
      "25 39000\n",
      "26 40500\n",
      "27 42000\n",
      "28 43500\n",
      "29 45000\n",
      "30 46500\n",
      "31 48000\n",
      "32 49500\n",
      "33 51000\n",
      "34 52500\n",
      "35 54000\n",
      "36 55500\n",
      "37 57000\n",
      "38 58500\n",
      "39 60000\n",
      "40 61500\n",
      "41 63000\n",
      "42 64500\n",
      "43 66000\n",
      "44 67500\n",
      "45 69000\n",
      "46 70500\n",
      "47 72000\n"
     ]
    }
   ],
   "source": [
    "comp_tot = []\n",
    "for i in range(NPIX):\n",
    "  gaia_filtered = gaia[gaia[\"index\"] == i]\n",
    "  tmass_filtered = tmass[tmass[\"index\"] == i]\n",
    "  gaiaH, _, _ = np.histogram2d(gaia_filtered[\"J-K\"].to_numpy(), gaia_filtered[\"Jmag\"].to_numpy(), bins=(eJK, eJ))\n",
    "  gaiaH = gaiaH.T\n",
    "  tmassH, _, _ = np.histogram2d(tmass_filtered[\"J-K\"].to_numpy(), tmass_filtered[\"Jmag\"].to_numpy(), bins=(eJK, eJ))\n",
    "  tmassH = tmassH.T\n",
    "  comp = np.nan_to_num(gaiaH/tmassH)\n",
    "  more_than_one = comp > 1\n",
    "  comp[more_than_one] = 1\n",
    "  for j, (jk, jk_low, jk_high) in enumerate(zip(JK, eJK[:-1], eJK[1:])):\n",
    "    comp_df = vaex.from_arrays(comp=comp[:, j], index=(np.ones_like(J)*i).astype(int), \n",
    "                               jk=np.ones_like(J)*jk, j=J, jk_low=np.ones_like(J)*jk_low, \n",
    "                               jk_high=np.ones_like(J)*jk_high, j_low=eJ[:-1], j_high=eJ[1:])\n",
    "    if len(comp_tot) == 0:\n",
    "      comp_tot = comp_df\n",
    "    else:\n",
    "      comp_tot = comp_tot.concat(comp_df)\n",
    "  print(i, len(comp_tot))"
   ]
  },
  {
   "cell_type": "code",
   "execution_count": 25,
   "metadata": {},
   "outputs": [
    {
     "data": {
      "text/html": [
       "<table>\n",
       "<thead>\n",
       "<tr><th>#                                 </th><th>comp  </th><th>index  </th><th>jk                 </th><th>j                 </th><th>jk_low            </th><th>jk_high             </th><th>j_low             </th><th>j_high            </th></tr>\n",
       "</thead>\n",
       "<tbody>\n",
       "<tr><td><i style='opacity: 0.6'>0</i>     </td><td>0.0   </td><td>0      </td><td>-0.4666666666666667</td><td>4.095000000000001 </td><td>-0.5              </td><td>-0.43333333333333335</td><td>4.0               </td><td>4.19              </td></tr>\n",
       "<tr><td><i style='opacity: 0.6'>1</i>     </td><td>0.0   </td><td>0      </td><td>-0.4666666666666667</td><td>4.285             </td><td>-0.5              </td><td>-0.43333333333333335</td><td>4.19              </td><td>4.38              </td></tr>\n",
       "<tr><td><i style='opacity: 0.6'>2</i>     </td><td>0.0   </td><td>0      </td><td>-0.4666666666666667</td><td>4.475             </td><td>-0.5              </td><td>-0.43333333333333335</td><td>4.38              </td><td>4.57              </td></tr>\n",
       "<tr><td><i style='opacity: 0.6'>3</i>     </td><td>0.0   </td><td>0      </td><td>-0.4666666666666667</td><td>4.665             </td><td>-0.5              </td><td>-0.43333333333333335</td><td>4.57              </td><td>4.76              </td></tr>\n",
       "<tr><td><i style='opacity: 0.6'>4</i>     </td><td>0.0   </td><td>0      </td><td>-0.4666666666666667</td><td>4.855             </td><td>-0.5              </td><td>-0.43333333333333335</td><td>4.76              </td><td>4.95              </td></tr>\n",
       "<tr><td>...                               </td><td>...   </td><td>...    </td><td>...                </td><td>...               </td><td>...               </td><td>...                 </td><td>...               </td><td>...               </td></tr>\n",
       "<tr><td><i style='opacity: 0.6'>71,995</i></td><td>0.0   </td><td>47     </td><td>1.4666666666666668 </td><td>12.645            </td><td>1.4333333333333333</td><td>1.5                 </td><td>12.55             </td><td>12.74             </td></tr>\n",
       "<tr><td><i style='opacity: 0.6'>71,996</i></td><td>0.0   </td><td>47     </td><td>1.4666666666666668 </td><td>12.835            </td><td>1.4333333333333333</td><td>1.5                 </td><td>12.74             </td><td>12.93             </td></tr>\n",
       "<tr><td><i style='opacity: 0.6'>71,997</i></td><td>0.0   </td><td>47     </td><td>1.4666666666666668 </td><td>13.025            </td><td>1.4333333333333333</td><td>1.5                 </td><td>12.93             </td><td>13.120000000000001</td></tr>\n",
       "<tr><td><i style='opacity: 0.6'>71,998</i></td><td>0.0   </td><td>47     </td><td>1.4666666666666668 </td><td>13.215            </td><td>1.4333333333333333</td><td>1.5                 </td><td>13.120000000000001</td><td>13.31             </td></tr>\n",
       "<tr><td><i style='opacity: 0.6'>71,999</i></td><td>0.0   </td><td>47     </td><td>1.4666666666666668 </td><td>13.405000000000001</td><td>1.4333333333333333</td><td>1.5                 </td><td>13.31             </td><td>13.5              </td></tr>\n",
       "</tbody>\n",
       "</table>"
      ],
      "text/plain": [
       "#       comp    index    jk                   j                   jk_low              jk_high               j_low               j_high\n",
       "0       0.0     0        -0.4666666666666667  4.095000000000001   -0.5                -0.43333333333333335  4.0                 4.19\n",
       "1       0.0     0        -0.4666666666666667  4.285               -0.5                -0.43333333333333335  4.19                4.38\n",
       "2       0.0     0        -0.4666666666666667  4.475               -0.5                -0.43333333333333335  4.38                4.57\n",
       "3       0.0     0        -0.4666666666666667  4.665               -0.5                -0.43333333333333335  4.57                4.76\n",
       "4       0.0     0        -0.4666666666666667  4.855               -0.5                -0.43333333333333335  4.76                4.95\n",
       "...     ...     ...      ...                  ...                 ...                 ...                   ...                 ...\n",
       "71,995  0.0     47       1.4666666666666668   12.645              1.4333333333333333  1.5                   12.55               12.74\n",
       "71,996  0.0     47       1.4666666666666668   12.835              1.4333333333333333  1.5                   12.74               12.93\n",
       "71,997  0.0     47       1.4666666666666668   13.025              1.4333333333333333  1.5                   12.93               13.120000000000001\n",
       "71,998  0.0     47       1.4666666666666668   13.215              1.4333333333333333  1.5                   13.120000000000001  13.31\n",
       "71,999  0.0     47       1.4666666666666668   13.405000000000001  1.4333333333333333  1.5                   13.31               13.5"
      ]
     },
     "execution_count": 25,
     "metadata": {},
     "output_type": "execute_result"
    }
   ],
   "source": [
    "comp_tot"
   ]
  },
  {
   "cell_type": "code",
   "execution_count": 26,
   "metadata": {},
   "outputs": [
    {
     "name": "stdout",
     "output_type": "stream",
     "text": [
      "export(hdf5) [########################################] 100.00% elapsed time  :     3.11s =  0.1m =  0.0h\n",
      " "
     ]
    }
   ],
   "source": [
    "comp_tot.export(join(data_dir, \"comp.hdf5\"), progress=True)"
   ]
  }
 ],
 "metadata": {
  "kernelspec": {
   "display_name": "Python 3.9.7 ('vaex2')",
   "language": "python",
   "name": "python3"
  },
  "language_info": {
   "codemirror_mode": {
    "name": "ipython",
    "version": 3
   },
   "file_extension": ".py",
   "mimetype": "text/x-python",
   "name": "python",
   "nbconvert_exporter": "python",
   "pygments_lexer": "ipython3",
   "version": "3.9.7"
  },
  "orig_nbformat": 4,
  "vscode": {
   "interpreter": {
    "hash": "ce24ca8aae0c18c4327bef86187bd310e85b0b68e0fbab549c3fc8d824c6eee6"
   }
  }
 },
 "nbformat": 4,
 "nbformat_minor": 2
}
