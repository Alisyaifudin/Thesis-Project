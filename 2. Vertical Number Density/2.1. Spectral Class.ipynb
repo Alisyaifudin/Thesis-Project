{
 "cells": [
  {
   "cell_type": "code",
   "execution_count": null,
   "metadata": {},
   "outputs": [],
   "source": [
    "import vaex\n",
    "import numpy as np"
   ]
  },
  {
   "cell_type": "code",
   "execution_count": null,
   "metadata": {},
   "outputs": [],
   "source": [
    "# use https://www.pas.rochester.edu/~emamajek/EEM_dwarf_UBVIJHK_colors_Teff.txt for spectral type classification\n",
    "# you can download it with wget\n",
    "!wget https://www.pas.rochester.edu/~emamajek/EEM_dwarf_UBVIJHK_colors_Teff.txt"
   ]
  },
  {
   "cell_type": "code",
   "execution_count": null,
   "metadata": {},
   "outputs": [],
   "source": [
    "# convert it into dataframe\n",
    "cols = ['SpT', 'Teff', 'logT', 'BCv', 'logL', 'Mbol', 'R_Rsun', 'Mv', 'B-V', 'Bt-Vt', 'G-V', \n",
    "        'Bp-Rp', 'G-Rp', 'M_G', 'b-y', 'U-B', 'V-Rc', 'V-Ic', 'V-Ks', 'J-H', 'H-Ks', 'M_J', \n",
    "        'M_Ks', 'Ks-W1', 'W1-W2', 'W1-W3', 'W1-W4', 'g-r', 'i-z', 'z-Y', 'Msun']\n",
    "col_dict = {}\n",
    "for col in cols:\n",
    "    col_dict[col]= []\n",
    "df_SpT = vaex.from_arrays(**col_dict)\n",
    "df_SpT\n",
    "with open(\"EEM_dwarf_UBVIJHK_colors_Teff.txt\") as fp:\n",
    "    for count, line in enumerate(fp):\n",
    "        if count <= 22: continue\n",
    "        elif count >= 141: break\n",
    "        row = line.split()\n",
    "        row = row[:-1]\n",
    "        col_dict = {}\n",
    "        for i, (cell, col) in enumerate(zip(row, cols)):\n",
    "            if i >0: \n",
    "                try:\n",
    "                    row[i] = float(cell)\n",
    "                except ValueError:\n",
    "                    row[i] = np.nan\n",
    "            col_dict[col] = [row[i]]\n",
    "        df = vaex.from_arrays(**col_dict)\n",
    "        df_SpT = df_SpT.concat(df)"
   ]
  },
  {
   "cell_type": "code",
   "execution_count": null,
   "metadata": {},
   "outputs": [],
   "source": [
    "# Export to hdf5\n",
    "df_SpT.export(\"mamajek-spectral-class.hdf5\", progress=True)"
   ]
  }
 ],
 "metadata": {
  "kernelspec": {
   "display_name": "Python 3.8.10 64-bit",
   "language": "python",
   "name": "python3"
  },
  "language_info": {
   "name": "python",
   "version": "3.8.10"
  },
  "orig_nbformat": 4,
  "vscode": {
   "interpreter": {
    "hash": "31f2aee4e71d21fbe5cf8b01ff0e069b9275f58929596ceb00d14d90e3e16cd6"
   }
  }
 },
 "nbformat": 4,
 "nbformat_minor": 2
}
