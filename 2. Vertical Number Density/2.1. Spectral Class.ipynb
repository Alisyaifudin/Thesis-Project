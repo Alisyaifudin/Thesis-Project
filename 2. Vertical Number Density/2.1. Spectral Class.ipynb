{
 "cells": [
  {
   "cell_type": "code",
   "execution_count": 1,
   "metadata": {},
   "outputs": [],
   "source": [
    "from os.path import join, abspath\n",
    "from os import pardir, mkdir\n",
    "from glob import glob\n",
    "import sys\n",
    "import numpy as np\n",
    "import pandas as pd\n",
    "import vaex"
   ]
  },
  {
   "cell_type": "code",
   "execution_count": 2,
   "metadata": {},
   "outputs": [],
   "source": [
    "# import utils\n",
    "util_dir = abspath(pardir)\n",
    "sys.path.insert(0, util_dir)\n",
    "\n",
    "from utils import runcmd"
   ]
  },
  {
   "cell_type": "code",
   "execution_count": 3,
   "metadata": {},
   "outputs": [
    {
     "data": {
      "text/plain": [
       "'/home2/s20321005/Thesis-Project/Data'"
      ]
     },
     "execution_count": 3,
     "metadata": {},
     "output_type": "execute_result"
    }
   ],
   "source": [
    "root_data_dir = abspath(join(pardir, \"Data\"))\n",
    "root_data_dir"
   ]
  },
  {
   "cell_type": "code",
   "execution_count": 4,
   "metadata": {},
   "outputs": [
    {
     "name": "stdout",
     "output_type": "stream",
     "text": [
      " --2022-07-17 13:23:53--  https://www.pas.rochester.edu/~emamajek/EEM_dwarf_UBVIJHK_colors_Teff.txt\n",
      "Resolving www.pas.rochester.edu (www.pas.rochester.edu)... 128.151.167.201\n",
      "Connecting to www.pas.rochester.edu (www.pas.rochester.edu)|128.151.167.201|:443... connected.\n",
      "HTTP request sent, awaiting response... 200 OK\n",
      "Length: 55680 (54K) [text/plain]\n",
      "Saving to: ‘/home2/s20321005/Thesis-Project/Data/EEM_dwarf_UBVIJHK_colors_Teff.txt’\n",
      "\n",
      "     0K .......... .......... .......... .......... .......... 91% 93.9K 0s\n",
      "    50K ....                                                  100% 8345G=0.5s\n",
      "\n",
      "2022-07-17 13:23:55 (102 KB/s) - ‘/home2/s20321005/Thesis-Project/Data/EEM_dwarf_UBVIJHK_colors_Teff.txt’ saved [55680/55680]\n",
      "\n",
      "\n"
     ]
    }
   ],
   "source": [
    "# use https://www.pas.rochester.edu/~emamajek/EEM_dwarf_UBVIJHK_colors_Teff.txt for spectral type classification\n",
    "# you can download it with wget\n",
    "download_link = \"https://www.pas.rochester.edu/~emamajek/EEM_dwarf_UBVIJHK_colors_Teff.txt\"\n",
    "\n",
    "runcmd(f\"wget --directory-prefix={root_data_dir} {download_link}\", verbose = True)"
   ]
  },
  {
   "cell_type": "code",
   "execution_count": 5,
   "metadata": {},
   "outputs": [
    {
     "data": {
      "text/plain": [
       "'/home2/s20321005/Thesis-Project/Data/EEM_dwarf_UBVIJHK_colors_Teff.txt'"
      ]
     },
     "execution_count": 5,
     "metadata": {},
     "output_type": "execute_result"
    }
   ],
   "source": [
    "file_path = join(root_data_dir, \"EEM_dwarf_UBVIJHK_colors_Teff.txt\")\n",
    "file_path"
   ]
  },
  {
   "cell_type": "code",
   "execution_count": 6,
   "metadata": {},
   "outputs": [
    {
     "data": {
      "text/html": [
       "<table>\n",
       "<thead>\n",
       "<tr><th>#                              </th><th>SpT  </th><th>Teff   </th><th>logT  </th><th>BCv  </th><th>logL  </th><th>Mbol  </th><th>R_Rsun  </th><th>Mv   </th><th>B-V   </th><th>Bt-Vt  </th><th>G-V  </th><th>Bp-Rp  </th><th>G-Rp  </th><th>M_G  </th><th>b-y   </th><th>U-B   </th><th>V-Rc  </th><th>V-Ic  </th><th>V-Ks  </th><th>J-H  </th><th>H-Ks  </th><th>M_J  </th><th>M_Ks  </th><th>Ks-W1  </th><th>W1-W2  </th><th>W1-W3  </th><th>W1-W4  </th><th>g-r  </th><th>i-z  </th><th>z-Y  </th><th>Msun  </th></tr>\n",
       "</thead>\n",
       "<tbody>\n",
       "<tr><td><i style='opacity: 0.6'>0</i>  </td><td>O3V  </td><td>44900.0</td><td>4.652 </td><td>-4.01</td><td>5.82  </td><td>-9.81 </td><td>13.43   </td><td>-5.8 </td><td>-0.33 </td><td>nan    </td><td>nan  </td><td>nan    </td><td>nan   </td><td>nan  </td><td>nan   </td><td>-1.175</td><td>nan   </td><td>nan   </td><td>nan   </td><td>nan  </td><td>nan   </td><td>nan  </td><td>nan   </td><td>nan    </td><td>nan    </td><td>nan    </td><td>nan    </td><td>nan  </td><td>nan  </td><td>nan  </td><td>59.0  </td></tr>\n",
       "<tr><td><i style='opacity: 0.6'>1</i>  </td><td>O4V  </td><td>42900.0</td><td>4.632 </td><td>-3.89</td><td>5.65  </td><td>-9.39 </td><td>12.13   </td><td>-5.5 </td><td>-0.326</td><td>nan    </td><td>nan  </td><td>nan    </td><td>nan   </td><td>nan  </td><td>nan   </td><td>-1.16 </td><td>nan   </td><td>nan   </td><td>nan   </td><td>nan  </td><td>nan   </td><td>nan  </td><td>nan   </td><td>nan    </td><td>nan    </td><td>nan    </td><td>nan    </td><td>nan  </td><td>nan  </td><td>nan  </td><td>48.0  </td></tr>\n",
       "<tr><td><i style='opacity: 0.6'>2</i>  </td><td>O5V  </td><td>41400.0</td><td>4.617 </td><td>-3.76</td><td>5.54  </td><td>-9.11 </td><td>11.45   </td><td>-5.35</td><td>-0.323</td><td>nan    </td><td>nan  </td><td>nan    </td><td>nan   </td><td>nan  </td><td>-0.133</td><td>-1.15 </td><td>nan   </td><td>nan   </td><td>nan   </td><td>nan  </td><td>nan   </td><td>nan  </td><td>nan   </td><td>nan    </td><td>nan    </td><td>nan    </td><td>nan    </td><td>-0.62</td><td>nan  </td><td>nan  </td><td>43.0  </td></tr>\n",
       "<tr><td><i style='opacity: 0.6'>3</i>  </td><td>O5.5V</td><td>40500.0</td><td>4.607 </td><td>-3.67</td><td>5.44  </td><td>-8.87 </td><td>10.71   </td><td>-5.2 </td><td>-0.322</td><td>nan    </td><td>nan  </td><td>nan    </td><td>nan   </td><td>nan  </td><td>-0.133</td><td>-1.145</td><td>nan   </td><td>nan   </td><td>nan   </td><td>nan  </td><td>nan   </td><td>nan  </td><td>nan   </td><td>nan    </td><td>nan    </td><td>nan    </td><td>nan    </td><td>-0.62</td><td>nan  </td><td>nan  </td><td>38.0  </td></tr>\n",
       "<tr><td><i style='opacity: 0.6'>4</i>  </td><td>O6V  </td><td>39500.0</td><td>4.597 </td><td>-3.57</td><td>5.36  </td><td>-8.67 </td><td>10.27   </td><td>-5.1 </td><td>-0.321</td><td>nan    </td><td>nan  </td><td>nan    </td><td>nan   </td><td>nan  </td><td>-0.132</td><td>-1.14 </td><td>nan   </td><td>nan   </td><td>nan   </td><td>nan  </td><td>nan   </td><td>nan  </td><td>nan   </td><td>nan    </td><td>nan    </td><td>nan    </td><td>nan    </td><td>-0.62</td><td>nan  </td><td>nan  </td><td>35.0  </td></tr>\n",
       "<tr><td>...                            </td><td>...  </td><td>...    </td><td>...   </td><td>...  </td><td>...   </td><td>...   </td><td>...     </td><td>...  </td><td>...   </td><td>...    </td><td>...  </td><td>...    </td><td>...   </td><td>...  </td><td>...   </td><td>...   </td><td>...   </td><td>...   </td><td>...   </td><td>...  </td><td>...   </td><td>...  </td><td>...   </td><td>...    </td><td>...    </td><td>...    </td><td>...    </td><td>...  </td><td>...  </td><td>...  </td><td>...   </td></tr>\n",
       "<tr><td><i style='opacity: 0.6'>113</i></td><td>Y0.5V</td><td>400.0  </td><td>2.602 </td><td>nan  </td><td>nan   </td><td>nan   </td><td>nan     </td><td>nan  </td><td>nan   </td><td>nan    </td><td>nan  </td><td>nan    </td><td>nan   </td><td>nan  </td><td>nan   </td><td>nan   </td><td>nan   </td><td>nan   </td><td>nan   </td><td>nan  </td><td>-0.6  </td><td>22.0 </td><td>21.6  </td><td>nan    </td><td>3.9    </td><td>nan    </td><td>nan    </td><td>nan  </td><td>nan  </td><td>nan  </td><td>nan   </td></tr>\n",
       "<tr><td><i style='opacity: 0.6'>114</i></td><td>Y1V  </td><td>360.0  </td><td>2.556 </td><td>nan  </td><td>nan   </td><td>nan   </td><td>nan     </td><td>nan  </td><td>nan   </td><td>nan    </td><td>nan  </td><td>nan    </td><td>nan   </td><td>nan  </td><td>nan   </td><td>nan   </td><td>nan   </td><td>nan   </td><td>nan   </td><td>nan  </td><td>nan   </td><td>22.7 </td><td>22.2  </td><td>nan    </td><td>4.1    </td><td>nan    </td><td>nan    </td><td>nan  </td><td>nan  </td><td>nan  </td><td>nan   </td></tr>\n",
       "<tr><td><i style='opacity: 0.6'>115</i></td><td>Y1.5V</td><td>325.0  </td><td>2.512 </td><td>nan  </td><td>nan   </td><td>nan   </td><td>nan     </td><td>nan  </td><td>nan   </td><td>nan    </td><td>nan  </td><td>nan    </td><td>nan   </td><td>nan  </td><td>nan   </td><td>nan   </td><td>nan   </td><td>nan   </td><td>nan   </td><td>nan  </td><td>-0.8  </td><td>23.2 </td><td>22.9  </td><td>nan    </td><td>4.4    </td><td>nan    </td><td>nan    </td><td>nan  </td><td>nan  </td><td>nan  </td><td>nan   </td></tr>\n",
       "<tr><td><i style='opacity: 0.6'>116</i></td><td>Y2V  </td><td>320.0  </td><td>2.505 </td><td>nan  </td><td>nan   </td><td>nan   </td><td>nan     </td><td>nan  </td><td>nan   </td><td>nan    </td><td>nan  </td><td>nan    </td><td>nan   </td><td>nan  </td><td>nan   </td><td>nan   </td><td>nan   </td><td>nan   </td><td>nan   </td><td>nan  </td><td>nan   </td><td>23.6 </td><td>23.5  </td><td>nan    </td><td>4.7    </td><td>nan    </td><td>nan    </td><td>nan  </td><td>nan  </td><td>nan  </td><td>nan   </td></tr>\n",
       "<tr><td><i style='opacity: 0.6'>117</i></td><td>Y4V  </td><td>250.0  </td><td>2.398 </td><td>nan  </td><td>nan   </td><td>nan   </td><td>nan     </td><td>nan  </td><td>nan   </td><td>nan    </td><td>nan  </td><td>nan    </td><td>nan   </td><td>nan  </td><td>nan   </td><td>nan   </td><td>nan   </td><td>nan   </td><td>nan   </td><td>nan  </td><td>nan   </td><td>28.2 </td><td>nan   </td><td>nan    </td><td>6.1    </td><td>nan    </td><td>nan    </td><td>nan  </td><td>nan  </td><td>nan  </td><td>nan   </td></tr>\n",
       "</tbody>\n",
       "</table>"
      ],
      "text/plain": [
       "#    SpT    Teff     logT    BCv    logL    Mbol    R_Rsun    Mv     B-V     Bt-Vt    G-V    Bp-Rp    G-Rp    M_G    b-y     U-B     V-Rc    V-Ic    V-Ks    J-H    H-Ks    M_J    M_Ks    Ks-W1    W1-W2    W1-W3    W1-W4    g-r    i-z    z-Y    Msun\n",
       "0    O3V    44900.0  4.652   -4.01  5.82    -9.81   13.43     -5.8   -0.33   nan      nan    nan      nan     nan    nan     -1.175  nan     nan     nan     nan    nan     nan    nan     nan      nan      nan      nan      nan    nan    nan    59.0\n",
       "1    O4V    42900.0  4.632   -3.89  5.65    -9.39   12.13     -5.5   -0.326  nan      nan    nan      nan     nan    nan     -1.16   nan     nan     nan     nan    nan     nan    nan     nan      nan      nan      nan      nan    nan    nan    48.0\n",
       "2    O5V    41400.0  4.617   -3.76  5.54    -9.11   11.45     -5.35  -0.323  nan      nan    nan      nan     nan    -0.133  -1.15   nan     nan     nan     nan    nan     nan    nan     nan      nan      nan      nan      -0.62  nan    nan    43.0\n",
       "3    O5.5V  40500.0  4.607   -3.67  5.44    -8.87   10.71     -5.2   -0.322  nan      nan    nan      nan     nan    -0.133  -1.145  nan     nan     nan     nan    nan     nan    nan     nan      nan      nan      nan      -0.62  nan    nan    38.0\n",
       "4    O6V    39500.0  4.597   -3.57  5.36    -8.67   10.27     -5.1   -0.321  nan      nan    nan      nan     nan    -0.132  -1.14   nan     nan     nan     nan    nan     nan    nan     nan      nan      nan      nan      -0.62  nan    nan    35.0\n",
       "...  ...    ...      ...     ...    ...     ...     ...       ...    ...     ...      ...    ...      ...     ...    ...     ...     ...     ...     ...     ...    ...     ...    ...     ...      ...      ...      ...      ...    ...    ...    ...\n",
       "113  Y0.5V  400.0    2.602   nan    nan     nan     nan       nan    nan     nan      nan    nan      nan     nan    nan     nan     nan     nan     nan     nan    -0.6    22.0   21.6    nan      3.9      nan      nan      nan    nan    nan    nan\n",
       "114  Y1V    360.0    2.556   nan    nan     nan     nan       nan    nan     nan      nan    nan      nan     nan    nan     nan     nan     nan     nan     nan    nan     22.7   22.2    nan      4.1      nan      nan      nan    nan    nan    nan\n",
       "115  Y1.5V  325.0    2.512   nan    nan     nan     nan       nan    nan     nan      nan    nan      nan     nan    nan     nan     nan     nan     nan     nan    -0.8    23.2   22.9    nan      4.4      nan      nan      nan    nan    nan    nan\n",
       "116  Y2V    320.0    2.505   nan    nan     nan     nan       nan    nan     nan      nan    nan      nan     nan    nan     nan     nan     nan     nan     nan    nan     23.6   23.5    nan      4.7      nan      nan      nan    nan    nan    nan\n",
       "117  Y4V    250.0    2.398   nan    nan     nan     nan       nan    nan     nan      nan    nan      nan     nan    nan     nan     nan     nan     nan     nan    nan     28.2   nan     nan      6.1      nan      nan      nan    nan    nan    nan"
      ]
     },
     "execution_count": 6,
     "metadata": {},
     "output_type": "execute_result"
    }
   ],
   "source": [
    "# convert it into dataframe\n",
    "cols = ['SpT', 'Teff', 'logT', 'BCv', 'logL', 'Mbol', 'R_Rsun', 'Mv', 'B-V', 'Bt-Vt', 'G-V', \n",
    "        'Bp-Rp', 'G-Rp', 'M_G', 'b-y', 'U-B', 'V-Rc', 'V-Ic', 'V-Ks', 'J-H', 'H-Ks', 'M_J', \n",
    "        'M_Ks', 'Ks-W1', 'W1-W2', 'W1-W3', 'W1-W4', 'g-r', 'i-z', 'z-Y', 'Msun']\n",
    "col_dict = {}\n",
    "for col in cols:\n",
    "    col_dict[col]= []\n",
    "df_SpT = vaex.from_arrays(**col_dict)\n",
    "df_SpT\n",
    "with open(file_path) as fp:\n",
    "    for count, line in enumerate(fp):\n",
    "        if count <= 22: continue\n",
    "        elif count >= 141: break\n",
    "        row = line.split()\n",
    "        row = row[:-1]\n",
    "        col_dict = {}\n",
    "        for i, (cell, col) in enumerate(zip(row, cols)):\n",
    "            if i >0: \n",
    "                try:\n",
    "                    row[i] = float(cell)\n",
    "                except ValueError:\n",
    "                    row[i] = np.nan\n",
    "            col_dict[col] = [row[i]]\n",
    "        df = vaex.from_arrays(**col_dict)\n",
    "        df_SpT = df_SpT.concat(df)\n",
    "df_SpT"
   ]
  },
  {
   "cell_type": "code",
   "execution_count": 7,
   "metadata": {},
   "outputs": [
    {
     "name": "stdout",
     "output_type": "stream",
     "text": [
      "export(hdf5) [########################################] 100.00% elapsed time  :     0.75s =  0.0m =  0.0h\n",
      " "
     ]
    }
   ],
   "source": [
    "# Export to hdf5\n",
    "df_SpT.export(join(root_data_dir, \"mamajek-spectral-class.hdf5\"), progress=True)"
   ]
  }
 ],
 "metadata": {
  "kernelspec": {
   "display_name": "Python 3.9.7 ('vaex2')",
   "language": "python",
   "name": "python3"
  },
  "language_info": {
   "codemirror_mode": {
    "name": "ipython",
    "version": 3
   },
   "file_extension": ".py",
   "mimetype": "text/x-python",
   "name": "python",
   "nbconvert_exporter": "python",
   "pygments_lexer": "ipython3",
   "version": "3.9.7"
  },
  "orig_nbformat": 4,
  "vscode": {
   "interpreter": {
    "hash": "ce24ca8aae0c18c4327bef86187bd310e85b0b68e0fbab549c3fc8d824c6eee6"
   }
  }
 },
 "nbformat": 4,
 "nbformat_minor": 2
}
