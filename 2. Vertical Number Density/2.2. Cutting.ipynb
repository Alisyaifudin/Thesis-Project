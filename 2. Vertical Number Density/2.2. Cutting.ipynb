{
 "cells": [
  {
   "cell_type": "code",
   "execution_count": null,
   "metadata": {},
   "outputs": [],
   "source": [
    "import vaex\n",
    "import numpy as np\n",
    "import pandas as pd\n",
    "from glob import glob\n",
    "from matplotlib import pyplot as plt\n",
    "from mpl_toolkits.mplot3d import Axes3D"
   ]
  },
  {
   "cell_type": "code",
   "execution_count": null,
   "metadata": {},
   "outputs": [],
   "source": [
    "# path to file produced by 1.8. Best RV.ipynb\n",
    "file = <combined path>"
   ]
  },
  {
   "cell_type": "code",
   "execution_count": null,
   "metadata": {},
   "outputs": [],
   "source": [
    "df = vaex.open(file)\n",
    "df"
   ]
  },
  {
   "cell_type": "code",
   "execution_count": null,
   "metadata": {},
   "outputs": [],
   "source": [
    "np.pi"
   ]
  },
  {
   "cell_type": "code",
   "execution_count": null,
   "metadata": {},
   "outputs": [],
   "source": [
    "# filter |z| < 200 pc and R < 150 pc\n",
    "df_mask = df.filter(\"1/parallax * abs(sin(GLAT*3.141592653589793/180)) < 0.2\").filter(\"1/parallax*cos(GLAT*3.141592653589793/180) < 0.15\")\n",
    "df_mask"
   ]
  },
  {
   "cell_type": "code",
   "execution_count": null,
   "metadata": {},
   "outputs": [],
   "source": [
    "# Optional! to check 3D distribution\n",
    "xs = df_mask.evaluate(\"1/parallax*cos(GLAT*3.141592653589793/180)*cos(GLON*3.141592653589793/180)\")\n",
    "\n",
    "ys = df_mask.evaluate(\"1/parallax*cos(GLAT*3.141592653589793/180)*sin(GLON*3.141592653589793/180)\")\n",
    "\n",
    "zs = df_mask.evaluate(\"1/parallax*sin(GLAT*3.141592653589793/180)\")\n",
    "len(xs)"
   ]
  },
  {
   "cell_type": "code",
   "execution_count": null,
   "metadata": {},
   "outputs": [],
   "source": [
    "# diplay 3D\n",
    "fig = plt.figure(figsize=(10,10))\n",
    "ax = Axes3D(fig)\n",
    "     \n",
    "plot_geeks = ax.scatter(xs, ys, zs, color='green', s=0.1)\n",
    "  \n",
    "# setting title and labels\n",
    "ax.set_title(\"3D plot\")\n",
    "ax.set_xlabel('x-axis')\n",
    "ax.set_ylabel('y-axis')\n",
    "ax.set_zlabel('z-axis')\n",
    "  \n",
    "# displaying the plot\n",
    "plt.show()"
   ]
  },
  {
   "cell_type": "code",
   "execution_count": null,
   "metadata": {},
   "outputs": [],
   "source": [
    "# HR diagram\n",
    "plt.figure(figsize=(8,10))\n",
    "# df_mask.plot(\"bp_rp\", \"Gmag -10 - 5*log10(1/parallax)\", what=vaex.stat.count(), limits='95%')\n",
    "df_mask.viz.scatter(\"bp_rp\", \"Gmag -10 - 5*log10(1/parallax)\", s=0.01, length_limit=500_000)\n",
    "plt.xlabel(\"BP-RP\")\n",
    "plt.ylabel(\"M_G\")\n",
    "plt.gca().invert_yaxis()\n",
    "plt.show()"
   ]
  },
  {
   "cell_type": "code",
   "execution_count": null,
   "metadata": {},
   "outputs": [],
   "source": [
    "# HR diagram\n",
    "plt.figure(figsize=(8,10))\n",
    "# df_mask.plot(\"bp_rp\", \"Gmag -10 - 5*log10(1/parallax)\", what=vaex.stat.count(), limits='95%')\n",
    "df_mask.viz.scatter(\"Jmag - Kmag\", \"Jmag -10 - 5*log10(1/parallax)\", s=0.01, length_limit=500_000)\n",
    "plt.xlabel(\"J-Ks\")\n",
    "plt.ylabel(\"M_J\")\n",
    "plt.xlim(-1, 2)\n",
    "plt.gca().invert_yaxis()\n",
    "plt.show()"
   ]
  },
  {
   "cell_type": "code",
   "execution_count": null,
   "metadata": {},
   "outputs": [],
   "source": []
  }
 ],
 "metadata": {
  "kernelspec": {
   "display_name": "Python 3.8.10 64-bit",
   "language": "python",
   "name": "python3"
  },
  "language_info": {
   "name": "python",
   "version": "3.8.10"
  },
  "orig_nbformat": 4,
  "vscode": {
   "interpreter": {
    "hash": "31f2aee4e71d21fbe5cf8b01ff0e069b9275f58929596ceb00d14d90e3e16cd6"
   }
  }
 },
 "nbformat": 4,
 "nbformat_minor": 2
}
