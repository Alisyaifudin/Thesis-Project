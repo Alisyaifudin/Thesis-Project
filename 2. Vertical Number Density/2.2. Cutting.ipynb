{
 "cells": [
  {
   "cell_type": "code",
   "execution_count": null,
   "metadata": {},
   "outputs": [],
   "source": [
    "import vaex\n",
    "import numpy as np\n",
    "import pandas as pd\n",
    "from glob import glob\n",
    "from matplotlib import pyplot as plt\n",
    "from mpl_toolkits.mplot3d import Axes3D\n",
    "from scipy import interpolate"
   ]
  },
  {
   "cell_type": "code",
   "execution_count": null,
   "metadata": {},
   "outputs": [],
   "source": [
    "# path to file produced by 1.8. Best RV.ipynb\n",
    "file = <combined path>"
   ]
  },
  {
   "cell_type": "code",
   "execution_count": null,
   "metadata": {},
   "outputs": [],
   "source": [
    "df = vaex.open(file)\n",
    "df"
   ]
  },
  {
   "cell_type": "code",
   "execution_count": null,
   "metadata": {},
   "outputs": [],
   "source": [
    "drop_cols = ['logg',\n",
    " 'e_logg_lower',\n",
    " 'e_logg_upper',\n",
    " 'logg_symmetric',\n",
    " 'logg_cat',\n",
    " 'mh',\n",
    " 'e_mh_lower',\n",
    " 'e_mh_upper',\n",
    " 'mh_symmetric',\n",
    " 'mh_cat',\n",
    " 'alphafe',\n",
    " 'e_alphafe_lower',\n",
    " 'e_alphafe_upper',\n",
    " 'alphafe_symmetric',\n",
    " 'alphafe_cat',\n",
    " 'fem',\n",
    " 'e_fem_lower',\n",
    " 'e_fem_upper',\n",
    " 'fem_symmetric',\n",
    " 'fem_cat',\n",
    " 'feh',\n",
    " 'e_feh_lower',\n",
    " 'e_feh_upper',\n",
    " 'feh_symmetric',\n",
    " 'feh_cat']\n",
    "df.drop(drop_cols, inplace=True)\n",
    "df"
   ]
  },
  {
   "cell_type": "code",
   "execution_count": null,
   "metadata": {},
   "outputs": [],
   "source": [
    "np.pi"
   ]
  },
  {
   "cell_type": "code",
   "execution_count": null,
   "metadata": {},
   "outputs": [],
   "source": [
    "# filter |z| < 200 pc and R < 150 pc\n",
    "df_mask = df.filter(\"1/parallax * abs(sin(GLAT*3.141592653589793/180)) < 0.2\").filter(\"1/parallax*cos(GLAT*3.141592653589793/180) < 0.15\")\n",
    "df_mask = df_mask.extract()\n",
    "df_mask['M_J'] = df_mask.evaluate('Jmag -10 - 5*log10(1/parallax)')\n",
    "df_mask['J-K'] = df_mask.evaluate('Jmag -Kmag')\n",
    "df_mask"
   ]
  },
  {
   "cell_type": "code",
   "execution_count": null,
   "metadata": {},
   "outputs": [],
   "source": [
    "# Optional! to check 3D distribution\n",
    "xs = df_mask.evaluate(\"1/parallax*cos(GLAT*3.141592653589793/180)*cos(GLON*3.141592653589793/180)\")\n",
    "\n",
    "ys = df_mask.evaluate(\"1/parallax*cos(GLAT*3.141592653589793/180)*sin(GLON*3.141592653589793/180)\")\n",
    "\n",
    "zs = df_mask.evaluate(\"1/parallax*sin(GLAT*3.141592653589793/180)\")\n",
    "len(xs)"
   ]
  },
  {
   "cell_type": "code",
   "execution_count": null,
   "metadata": {},
   "outputs": [],
   "source": [
    "%%time\n",
    "# creating figure\n",
    "fig = plt.figure(figsize=(10,10))\n",
    "# fig = plt.figure()\n",
    "ax = Axes3D(fig)\n",
    "# creating the plot\n",
    "# plot_geeks = ax.scatter(xs[:lim], ys[:lim], zs[:lim], color='green', s=0.1)\n",
    "plot_geeks = ax.scatter(xs, ys, zs, color='green', s=0.01)\n",
    "  \n",
    "# setting title and labels\n",
    "ax.set_title(\"3D plot\")\n",
    "ax.set_xlabel('x-axis')\n",
    "ax.set_ylabel('y-axis')\n",
    "ax.set_zlabel('z-axis')\n",
    "  \n",
    "# displaying the plot\n",
    "plt.show()"
   ]
  },
  {
   "cell_type": "markdown",
   "metadata": {},
   "source": [
    "## Jobovy convenience function, with modification"
   ]
  },
  {
   "cell_type": "code",
   "execution_count": null,
   "metadata": {},
   "outputs": [],
   "source": [
    "def load_spectral_types():\n",
    "    spt_path = \"mamajek-spectral-class.hdf5\"\n",
    "    df_spt = vaex.open(spt_path)\n",
    "    df_filtered = df_spt[[\"SpT\", \"M_J\", \"J-H\", \"H-Ks\"]]\n",
    "    mask = (df_filtered[\"M_J\"] == df_filtered[\"M_J\"])*(df_filtered[\"H-Ks\"] == df_filtered[\"H-Ks\"])*(df_filtered[\"J-H\"] == df_filtered[\"J-H\"])\n",
    "    df_filtered_good = df_filtered[mask].to_pandas_df()\n",
    "    df_filtered_good['J-K'] = df_filtered_good['J-H']+df_filtered_good['H-Ks']\n",
    "    return df_filtered_good\n",
    "\n",
    "sp= load_spectral_types()\n",
    "sp_indx= np.array([(not 'O' in s)*(not 'L' in s)\\\n",
    "                          *(not 'T' in s)*(not 'Y' in s)\\\n",
    "                          *(not '.5V' in s) for s in sp['SpT']],\n",
    "                     dtype='bool')\n",
    "# Cut out the small part where the color decreases\n",
    "sp_indx*= (np.roll((sp['J-K']),1)-(sp['J-K'])) <= 0.\n",
    "ip_eems= interpolate.UnivariateSpline((sp['J-K'])[sp_indx],\n",
    "                                      sp['M_J'][sp_indx],k=3,s=1.)\n",
    "def main_sequence_cut_r(jk,low=False,tight=False):\n",
    "    \"\"\"Main-sequence cut, based on MJ, high as in low\"\"\"\n",
    "    j_locus= ip_eems(jk)\n",
    "    if low and tight:\n",
    "        dj= 0.2-0.1*(j_locus-5.)\n",
    "        dj[dj < 0.2]= 0.2\n",
    "    elif low:\n",
    "        dj= 0.2-0.25*(j_locus-5.)\n",
    "        dj[dj < 0.2]= 0.2\n",
    "    elif tight:\n",
    "        djk= -(jk-0.6)/20.\n",
    "        djk[djk>0.]= 0.\n",
    "        j_locus= ip_eems(jk+djk)\n",
    "        dj= 0.2-0.5*(j_locus-5.)\n",
    "        dj[dj < 0.2]= 0.2\n",
    "        dj[dj > 1.5]= 1.5\n",
    "        dj*= -1.\n",
    "    else:\n",
    "        djk= -(jk-0.6)/5.\n",
    "        djk[djk>0.]= 0.\n",
    "        j_locus= ip_eems(jk+djk)\n",
    "        dj= 1.-.8*(j_locus-5.)\n",
    "        dj[dj < 0.2]= 0.2\n",
    "        dj[dj > 2.5]= 2.5\n",
    "        dj*= -1.\n",
    "    return j_locus+dj"
   ]
  },
  {
   "cell_type": "code",
   "execution_count": null,
   "metadata": {},
   "outputs": [],
   "source": [
    "# HR diagram\n",
    "JK = np.linspace(0, 0.86, 100)\n",
    "MJ = ip_eems(JK)\n",
    "MJ_high = main_sequence_cut_r(JK, tight=True)\n",
    "MJ_low = main_sequence_cut_r(JK, low=True)\n",
    "plt.figure(figsize=(8,10))\n",
    "# df_mask.plot(\"bp_rp\", \"Gmag -10 - 5*log10(1/parallax)\", what=vaex.stat.count(), limits='95%')\n",
    "df_mask.viz.scatter(\"J-K\", \"M_J\", s=0.01, length_limit=500_000)\n",
    "plt.plot(JK, MJ, c=\"red\")\n",
    "plt.plot(JK, MJ_low, c=\"green\")\n",
    "plt.plot(JK, MJ_high, c=\"green\")\n",
    "plt.xlabel(\"J-Ks\")\n",
    "plt.ylabel(\"M_J\")\n",
    "plt.xlim(-0, 1)\n",
    "plt.ylim(0, 8)\n",
    "plt.gca().invert_yaxis()\n",
    "plt.show()"
   ]
  },
  {
   "cell_type": "code",
   "execution_count": null,
   "metadata": {},
   "outputs": [],
   "source": [
    "# HR diagram\n",
    "plt.figure(figsize=(8,10))\n",
    "# df_mask.plot(\"bp_rp\", \"Gmag -10 - 5*log10(1/parallax)\", what=vaex.stat.count(), limits='95%')\n",
    "df_mask.viz.scatter(\"Jmag - Kmag\", \"Jmag -10 - 5*log10(1/parallax)\", s=0.01, length_limit=500_000)\n",
    "plt.xlabel(\"J-Ks\")\n",
    "plt.ylabel(\"M_J\")\n",
    "plt.xlim(-1, 2)\n",
    "plt.gca().invert_yaxis()\n",
    "plt.show()"
   ]
  },
  {
   "cell_type": "code",
   "execution_count": null,
   "metadata": {},
   "outputs": [],
   "source": [
    "# for gaia filter\n",
    "def load_spectral_types_gaia():\n",
    "    spt_path = \"mamajek-spectral-class.hdf5\"\n",
    "    df_spt = vaex.open(spt_path)\n",
    "    df_filtered = df_spt[[\"SpT\", \"M_G\", \"Bp-Rp\"]]\n",
    "    mask = (df_filtered[\"M_G\"] == df_filtered[\"M_G\"])*(df_filtered[\"Bp-Rp\"] == df_filtered[\"Bp-Rp\"])\n",
    "    df_filtered_good = df_filtered[mask].to_pandas_df()\n",
    "    return df_filtered_good\n",
    "\n",
    "sp = load_spectral_types_gaia()\n",
    "sp_indx= np.array([(not 'O' in s)*(not 'L' in s)\\\n",
    "                          *(not 'T' in s)*(not 'Y' in s)\\\n",
    "                          *(not '.5V' in s) for s in sp['SpT']],\n",
    "                     dtype='bool')\n",
    "# Cut out the small part where the color decreases\n",
    "sp_indx*= (np.roll((sp['Bp-Rp']),1)-(sp['Bp-Rp'])) <= 0.\n",
    "ip_eems_gaia= interpolate.UnivariateSpline((sp['Bp-Rp'])[sp_indx],\n",
    "                                      sp['M_G'][sp_indx],k=3,s=0.2)\n",
    "def main_sequence_cut_r_gaia(br,low=False,tight=False):\n",
    "    \"\"\"Main-sequence cut, based on MJ, high as in low\"\"\"\n",
    "    g_locus= ip_eems_gaia(br)\n",
    "    if low and tight:\n",
    "        dg= 0.2-0.1*(g_locus-5.)\n",
    "        dg[dg < 0.2]= 0.2\n",
    "    elif low:\n",
    "        dg= 0.2-0.25*(g_locus-5.)\n",
    "        dg[dg < 0.5]= 0.5\n",
    "    elif tight:\n",
    "        dbr= -(br-0.6)/20.\n",
    "        dbr[dbr>0.]= 0.\n",
    "        g_locus= ip_eems_gaia(br+dbr)\n",
    "        dg= 0.2-0.5*(g_locus-5.)\n",
    "        dg[dg < 0.2]= 0.2\n",
    "        dg[dg > 1.5]= 1.5\n",
    "        dg*= -1.\n",
    "    else:\n",
    "        dbr= -(br-0.6)/5.\n",
    "        dbr[dbr>0.]= 0.\n",
    "        g_locus= ip_eems_gaia(br+dbr)\n",
    "        dg= 1.-.8*(g_locus-5.)\n",
    "        dg[dg < 0.2]= 0.2\n",
    "        dg[dg > 2.5]= 2.5\n",
    "        dg*= -1.\n",
    "    return g_locus+dg"
   ]
  },
  {
   "cell_type": "code",
   "execution_count": null,
   "metadata": {},
   "outputs": [],
   "source": [
    "# HR diagram for gaia filter\n",
    "BR = np.linspace(0, 3, 100)\n",
    "MG = ip_eems_gaia(BR)\n",
    "MG_high = main_sequence_cut_r_gaia(BR, tight=True)\n",
    "MG_low = main_sequence_cut_r_gaia(BR, low=True)\n",
    "plt.figure(figsize=(8,10))\n",
    "# df_mask.plot(\"bp_rp\", \"Gmag -10 - 5*log10(1/parallax)\", what=vaex.stat.count(), limits='95%')\n",
    "df_mask.viz.scatter(\"bp_rp\", \"Gmag -10 - 5*log10(1/parallax)\", s=0.01, length_limit=500_000)\n",
    "plt.plot(BR, MG, c=\"red\")\n",
    "plt.plot(BR, MG_low, c=\"green\")\n",
    "plt.plot(BR, MG_high, c=\"green\")\n",
    "plt.xlabel(\"Bp-Rp\")\n",
    "plt.ylabel(\"M_G\")\n",
    "plt.xlim(-0, 3)\n",
    "plt.ylim(0, 12)\n",
    "plt.gca().invert_yaxis()\n",
    "plt.show()"
   ]
  },
  {
   "cell_type": "code",
   "execution_count": null,
   "metadata": {},
   "outputs": [],
   "source": [
    "df_s = load_spectral_types()\n",
    "df_s"
   ]
  },
  {
   "cell_type": "code",
   "execution_count": null,
   "metadata": {},
   "outputs": [],
   "source": [
    "df_mask['M_J_upper'] = main_sequence_cut_r(df_mask['J-K'].to_numpy(), tight=True)\n",
    "df_mask['M_J_lower'] = main_sequence_cut_r(df_mask['J-K'].to_numpy(), low=True)\n",
    "df_mask"
   ]
  },
  {
   "cell_type": "code",
   "execution_count": null,
   "metadata": {},
   "outputs": [],
   "source": [
    "# Filter A star\n",
    "JK_lower = (df_s[df_s['SpT'] == 'B9V']['J-K'].to_numpy()[0]+df_s[df_s['SpT'] == 'A0V']['J-K'].to_numpy()[0])/2\n",
    "JK_upper = (df_s[df_s['SpT'] == 'A9V']['J-K'].to_numpy()[0]+df_s[df_s['SpT'] == 'F0V']['J-K'].to_numpy()[0])/2\n",
    "\n",
    "mask_A = ((df_mask['J-K'] > JK_lower)\n",
    "          *(df_mask['J-K'] < JK_upper)\n",
    "          *(df_mask['M_J_lower'] > df_mask['M_J'])\n",
    "          *(df_mask['M_J_upper'] < df_mask['M_J']))\n",
    "df_A = df_mask[mask_A]\n",
    "df_A"
   ]
  },
  {
   "cell_type": "code",
   "execution_count": null,
   "metadata": {},
   "outputs": [],
   "source": [
    "df_A.export(\"A-type.hdf5\", progress=True)"
   ]
  },
  {
   "cell_type": "code",
   "execution_count": null,
   "metadata": {},
   "outputs": [],
   "source": [
    "mask_A2 = df_mask['spectraltype_esphs'] == 'A'\n",
    "df_A2 = df_mask[mask_A2]\n",
    "df_A2\n",
    "df_A2.export(\"A-type-2.hdf5\", progress=True)"
   ]
  },
  {
   "cell_type": "code",
   "execution_count": null,
   "metadata": {},
   "outputs": [],
   "source": [
    "df_A2.export(\"A-type-2.hdf5\", progress=True)"
   ]
  },
  {
   "cell_type": "code",
   "execution_count": null,
   "metadata": {},
   "outputs": [],
   "source": [
    "# HR diagram for gaia filter\n",
    "plt.figure(figsize=(8,7))\n",
    "# df_mask.plot(\"bp_rp\", \"Gmag -10 - 5*log10(1/parallax)\", what=vaex.stat.count(), limits='95%')\n",
    "df_A.viz.scatter(\"J-K\", \"M_J\", s=2, length_limit=500_000)\n",
    "df_A2.viz.scatter(\"J-K\", \"M_J\", s=2, length_limit=500_000)\n",
    "plt.xlabel(\"J-K\")\n",
    "plt.ylabel(\"M_J\")\n",
    "plt.xlim(-0.02, 0.14)\n",
    "plt.ylim(-0.5, 2.5)\n",
    "plt.gca().invert_yaxis()\n",
    "plt.show()"
   ]
  },
  {
   "cell_type": "code",
   "execution_count": null,
   "metadata": {},
   "outputs": [],
   "source": [
    "# HR diagram for gaia filter\n",
    "plt.figure(figsize=(8,7))\n",
    "# df_mask.plot(\"bp_rp\", \"Gmag -10 - 5*log10(1/parallax)\", what=vaex.stat.count(), limits='95%')\n",
    "df_A.viz.scatter(\"J-K\", \"Jmag\", s=1, length_limit=500_000)\n",
    "# df_A2.viz.scatter(\"J-K\", \"M_J\", s=0.5, length_limit=500_000)\n",
    "plt.xlabel(\"J-K\")\n",
    "plt.ylabel(\"Jmag\")\n",
    "# plt.xlim(-0.02, 0.14)\n",
    "# plt.ylim(-0.5, 2.5)\n",
    "plt.gca().invert_yaxis()\n",
    "plt.show()"
   ]
  },
  {
   "cell_type": "code",
   "execution_count": null,
   "metadata": {},
   "outputs": [],
   "source": [
    "df_A['Jmag'].max()"
   ]
  },
  {
   "cell_type": "code",
   "execution_count": null,
   "metadata": {},
   "outputs": [],
   "source": [
    "# Filter F star\n",
    "JK_lower = (df_s[df_s['SpT'] == 'A9V']['J-K'].to_numpy()[0]+df_s[df_s['SpT'] == 'F0V']['J-K'].to_numpy()[0])/2\n",
    "JK_upper = (df_s[df_s['SpT'] == 'F9V']['J-K'].to_numpy()[0]+df_s[df_s['SpT'] == 'G0V']['J-K'].to_numpy()[0])/2\n",
    "\n",
    "mask_F = ((df_mask['J-K'] > JK_lower)\n",
    "          *(df_mask['J-K'] < JK_upper)\n",
    "          *(df_mask['M_J_lower'] > df_mask['M_J'])\n",
    "          *(df_mask['M_J_upper'] < df_mask['M_J']))\n",
    "df_F = df_mask[mask_F]\n",
    "df_F"
   ]
  },
  {
   "cell_type": "code",
   "execution_count": null,
   "metadata": {},
   "outputs": [],
   "source": [
    "df_F.export(\"F-type.hdf5\", progress=True)"
   ]
  },
  {
   "cell_type": "code",
   "execution_count": null,
   "metadata": {},
   "outputs": [],
   "source": [
    "mask_F2 = df_mask['spectraltype_esphs'] == 'F'\n",
    "df_F2 = df_mask[mask_F2]\n",
    "df_F2"
   ]
  },
  {
   "cell_type": "code",
   "execution_count": null,
   "metadata": {},
   "outputs": [],
   "source": [
    "df_F2.export(\"F-type-2.hdf5\", progress=True)"
   ]
  },
  {
   "cell_type": "code",
   "execution_count": null,
   "metadata": {},
   "outputs": [],
   "source": [
    "# HR diagram\n",
    "plt.figure(figsize=(8,10))\n",
    "# df_mask.plot(\"bp_rp\", \"Gmag -10 - 5*log10(1/parallax)\", what=vaex.stat.count(), limits='95%')\n",
    "df_F.viz.scatter(\"J-K\", \"M_J\", s=1, length_limit=500_000)\n",
    "plt.xlabel(\"J-K\")\n",
    "plt.ylabel(\"M_J\")\n",
    "# plt.xlim(-0, 3)\n",
    "# plt.ylim(0, 12)\n",
    "plt.gca().invert_yaxis()\n",
    "plt.show()"
   ]
  },
  {
   "cell_type": "code",
   "execution_count": null,
   "metadata": {},
   "outputs": [],
   "source": [
    "# HR diagram for gaia filter\n",
    "plt.figure(figsize=(8,10))\n",
    "# df_mask.plot(\"bp_rp\", \"Gmag -10 - 5*log10(1/parallax)\", what=vaex.stat.count(), limits='95%')\n",
    "df_F.viz.scatter(\"J-K\", \"Jmag\", s=1, length_limit=500_000)\n",
    "plt.xlabel(\"J-K\")\n",
    "plt.ylabel(\"J\")\n",
    "# plt.xlim(-0, 3)\n",
    "# plt.ylim(0, 12)\n",
    "plt.gca().invert_yaxis()\n",
    "plt.show()"
   ]
  },
  {
   "cell_type": "code",
   "execution_count": null,
   "metadata": {},
   "outputs": [],
   "source": [
    "df_F['Jmag'].max()"
   ]
  },
  {
   "cell_type": "code",
   "execution_count": null,
   "metadata": {},
   "outputs": [],
   "source": [
    "# Filter G star\n",
    "JK_lower = (df_s[df_s['SpT'] == 'F9V']['J-K'].to_numpy()[0]+df_s[df_s['SpT'] == 'G0V']['J-K'].to_numpy()[0])/2\n",
    "JK_upper = (df_s[df_s['SpT'] == 'G3V']['J-K'].to_numpy()[0]+df_s[df_s['SpT'] == 'G4V']['J-K'].to_numpy()[0])/2\n",
    "\n",
    "mask_G = ((df_mask['J-K'] > JK_lower)\n",
    "          *(df_mask['J-K'] < JK_upper)\n",
    "          *(df_mask['M_J_lower'] > df_mask['M_J'])\n",
    "          *(df_mask['M_J_upper'] < df_mask['M_J']))\n",
    "df_G = df_mask[mask_G]\n",
    "df_G"
   ]
  },
  {
   "cell_type": "code",
   "execution_count": null,
   "metadata": {},
   "outputs": [],
   "source": [
    "# HR diagram for gaia filter\n",
    "plt.figure(figsize=(8,10))\n",
    "# df_mask.plot(\"bp_rp\", \"Gmag -10 - 5*log10(1/parallax)\", what=vaex.stat.count(), limits='95%')\n",
    "df_G.viz.scatter(\"J-K\", \"M_J\", s=1, length_limit=500_000)\n",
    "plt.xlabel(\"J-K\")\n",
    "plt.ylabel(\"M_J\")\n",
    "# plt.xlim(-0, 3)\n",
    "# plt.ylim(0, 12)\n",
    "plt.gca().invert_yaxis()\n",
    "plt.show()"
   ]
  },
  {
   "cell_type": "code",
   "execution_count": null,
   "metadata": {},
   "outputs": [],
   "source": [
    "# HR diagram for gaia filter\n",
    "plt.figure(figsize=(8,10))\n",
    "# df_mask.plot(\"bp_rp\", \"Gmag -10 - 5*log10(1/parallax)\", what=vaex.stat.count(), limits='95%')\n",
    "df_G.viz.scatter(\"J-K\", \"Jmag\", s=1, length_limit=500_000)\n",
    "plt.xlabel(\"J-K\")\n",
    "plt.ylabel(\"Jmag\")\n",
    "# plt.xlim(-0, 3)\n",
    "# plt.ylim(0, 12)\n",
    "plt.gca().invert_yaxis()\n",
    "plt.show()"
   ]
  },
  {
   "cell_type": "code",
   "execution_count": null,
   "metadata": {},
   "outputs": [],
   "source": [
    "df_G.export(\"G-type.hdf5\", progress=True)"
   ]
  }
 ],
 "metadata": {
  "kernelspec": {
   "display_name": "Python 3.8.10 64-bit",
   "language": "python",
   "name": "python3"
  },
  "language_info": {
   "name": "python",
   "version": "3.8.10"
  },
  "orig_nbformat": 4,
  "vscode": {
   "interpreter": {
    "hash": "31f2aee4e71d21fbe5cf8b01ff0e069b9275f58929596ceb00d14d90e3e16cd6"
   }
  }
 },
 "nbformat": 4,
 "nbformat_minor": 2
}
