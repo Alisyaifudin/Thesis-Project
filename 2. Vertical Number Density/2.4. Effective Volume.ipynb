{
 "cells": [
  {
   "cell_type": "code",
   "execution_count": 1,
   "metadata": {},
   "outputs": [],
   "source": [
    "import vaex\n",
    "import numpy as np\n",
    "from matplotlib import pyplot as plt\n",
    "import pandas as pd\n",
    "from glob import glob\n",
    "from os.path import join, abspath\n",
    "from os import pardir, curdir, mkdir\n",
    "import sys\n",
    "import healpy as hp\n",
    "from scipy import interpolate"
   ]
  },
  {
   "cell_type": "code",
   "execution_count": 3,
   "metadata": {},
   "outputs": [
    {
     "data": {
      "text/plain": [
       "48"
      ]
     },
     "execution_count": 3,
     "metadata": {},
     "output_type": "execute_result"
    }
   ],
   "source": [
    "# healpix config\n",
    "LEVEL = 1\n",
    "NSIDE = 2**LEVEL\n",
    "NPIX = hp.nside2npix(NSIDE)\n",
    "NPIX"
   ]
  },
  {
   "cell_type": "code",
   "execution_count": 2,
   "metadata": {},
   "outputs": [],
   "source": [
    "Z = 0.2\n",
    "R = 0.15"
   ]
  },
  {
   "cell_type": "code",
   "execution_count": null,
   "metadata": {},
   "outputs": [],
   "source": []
  }
 ],
 "metadata": {
  "kernelspec": {
   "display_name": "Python 3.9.7 ('vaex2')",
   "language": "python",
   "name": "python3"
  },
  "language_info": {
   "codemirror_mode": {
    "name": "ipython",
    "version": 3
   },
   "file_extension": ".py",
   "mimetype": "text/x-python",
   "name": "python",
   "nbconvert_exporter": "python",
   "pygments_lexer": "ipython3",
   "version": "3.9.7"
  },
  "orig_nbformat": 4,
  "vscode": {
   "interpreter": {
    "hash": "ce24ca8aae0c18c4327bef86187bd310e85b0b68e0fbab549c3fc8d824c6eee6"
   }
  }
 },
 "nbformat": 4,
 "nbformat_minor": 2
}
