{
 "cells": [
  {
   "cell_type": "code",
   "execution_count": 1,
   "metadata": {},
   "outputs": [],
   "source": [
    "import vaex\n",
    "import numpy as np\n",
    "from matplotlib import pyplot as plt\n",
    "from os.path import join, abspath\n",
    "from os import pardir\n",
    "import sys\n",
    "import healpy as hp\n",
    "from scipy import interpolate"
   ]
  },
  {
   "cell_type": "code",
   "execution_count": 2,
   "metadata": {},
   "outputs": [],
   "source": [
    "# import utils\n",
    "util_dir = abspath(pardir)\n",
    "sys.path.insert(0, util_dir)\n",
    "\n",
    "from utils import load_spectral_types, main_sequence_cut_r, main_locus"
   ]
  },
  {
   "cell_type": "code",
   "execution_count": 3,
   "metadata": {},
   "outputs": [],
   "source": [
    "root_data_dir = abspath(join(pardir, \"Data\"))\n",
    "data_dir = join(root_data_dir, \"Completeness\")\n",
    "comp_path = join(data_dir, \"completeness-single.hdf5\")"
   ]
  },
  {
   "cell_type": "code",
   "execution_count": 4,
   "metadata": {},
   "outputs": [
    {
     "data": {
      "text/html": [
       "<div>\n",
       "<style scoped>\n",
       "    .dataframe tbody tr th:only-of-type {\n",
       "        vertical-align: middle;\n",
       "    }\n",
       "\n",
       "    .dataframe tbody tr th {\n",
       "        vertical-align: top;\n",
       "    }\n",
       "\n",
       "    .dataframe thead th {\n",
       "        text-align: right;\n",
       "    }\n",
       "</style>\n",
       "<table border=\"1\" class=\"dataframe\">\n",
       "  <thead>\n",
       "    <tr style=\"text-align: right;\">\n",
       "      <th></th>\n",
       "      <th>SpT</th>\n",
       "      <th>M_J</th>\n",
       "      <th>J-H</th>\n",
       "      <th>H-Ks</th>\n",
       "      <th>J-K</th>\n",
       "    </tr>\n",
       "  </thead>\n",
       "  <tbody>\n",
       "    <tr>\n",
       "      <th>0</th>\n",
       "      <td>O9V</td>\n",
       "      <td>-3.44</td>\n",
       "      <td>-0.164</td>\n",
       "      <td>-0.071</td>\n",
       "      <td>-0.235</td>\n",
       "    </tr>\n",
       "    <tr>\n",
       "      <th>1</th>\n",
       "      <td>O9.5V</td>\n",
       "      <td>-3.30</td>\n",
       "      <td>-0.161</td>\n",
       "      <td>-0.069</td>\n",
       "      <td>-0.230</td>\n",
       "    </tr>\n",
       "    <tr>\n",
       "      <th>2</th>\n",
       "      <td>B0V</td>\n",
       "      <td>-3.17</td>\n",
       "      <td>-0.159</td>\n",
       "      <td>-0.067</td>\n",
       "      <td>-0.226</td>\n",
       "    </tr>\n",
       "    <tr>\n",
       "      <th>3</th>\n",
       "      <td>B0.5V</td>\n",
       "      <td>-2.80</td>\n",
       "      <td>-0.153</td>\n",
       "      <td>-0.063</td>\n",
       "      <td>-0.216</td>\n",
       "    </tr>\n",
       "    <tr>\n",
       "      <th>4</th>\n",
       "      <td>B1V</td>\n",
       "      <td>-2.33</td>\n",
       "      <td>-0.148</td>\n",
       "      <td>-0.059</td>\n",
       "      <td>-0.207</td>\n",
       "    </tr>\n",
       "    <tr>\n",
       "      <th>...</th>\n",
       "      <td>...</td>\n",
       "      <td>...</td>\n",
       "      <td>...</td>\n",
       "      <td>...</td>\n",
       "      <td>...</td>\n",
       "    </tr>\n",
       "    <tr>\n",
       "      <th>95</th>\n",
       "      <td>T6V</td>\n",
       "      <td>15.34</td>\n",
       "      <td>0.100</td>\n",
       "      <td>-0.030</td>\n",
       "      <td>0.070</td>\n",
       "    </tr>\n",
       "    <tr>\n",
       "      <th>96</th>\n",
       "      <td>T7V</td>\n",
       "      <td>15.83</td>\n",
       "      <td>0.000</td>\n",
       "      <td>0.000</td>\n",
       "      <td>0.000</td>\n",
       "    </tr>\n",
       "    <tr>\n",
       "      <th>97</th>\n",
       "      <td>T7.5V</td>\n",
       "      <td>16.61</td>\n",
       "      <td>0.200</td>\n",
       "      <td>-0.050</td>\n",
       "      <td>0.150</td>\n",
       "    </tr>\n",
       "    <tr>\n",
       "      <th>98</th>\n",
       "      <td>T8V</td>\n",
       "      <td>17.30</td>\n",
       "      <td>0.200</td>\n",
       "      <td>-0.050</td>\n",
       "      <td>0.150</td>\n",
       "    </tr>\n",
       "    <tr>\n",
       "      <th>99</th>\n",
       "      <td>T9V</td>\n",
       "      <td>18.51</td>\n",
       "      <td>0.100</td>\n",
       "      <td>-0.200</td>\n",
       "      <td>-0.100</td>\n",
       "    </tr>\n",
       "  </tbody>\n",
       "</table>\n",
       "<p>100 rows × 5 columns</p>\n",
       "</div>"
      ],
      "text/plain": [
       "      SpT    M_J    J-H   H-Ks    J-K\n",
       "0     O9V  -3.44 -0.164 -0.071 -0.235\n",
       "1   O9.5V  -3.30 -0.161 -0.069 -0.230\n",
       "2     B0V  -3.17 -0.159 -0.067 -0.226\n",
       "3   B0.5V  -2.80 -0.153 -0.063 -0.216\n",
       "4     B1V  -2.33 -0.148 -0.059 -0.207\n",
       "..    ...    ...    ...    ...    ...\n",
       "95    T6V  15.34  0.100 -0.030  0.070\n",
       "96    T7V  15.83  0.000  0.000  0.000\n",
       "97  T7.5V  16.61  0.200 -0.050  0.150\n",
       "98    T8V  17.30  0.200 -0.050  0.150\n",
       "99    T9V  18.51  0.100 -0.200 -0.100\n",
       "\n",
       "[100 rows x 5 columns]"
      ]
     },
     "execution_count": 4,
     "metadata": {},
     "output_type": "execute_result"
    }
   ],
   "source": [
    "# import mamajek spectral boundaries\n",
    "df_s = load_spectral_types()\n",
    "df_s"
   ]
  },
  {
   "cell_type": "code",
   "execution_count": 5,
   "metadata": {},
   "outputs": [
    {
     "data": {
      "text/html": [
       "<table>\n",
       "<thead>\n",
       "<tr><th>#                                </th><th>comp               </th><th>JK                </th><th>JK_low            </th><th>JK_high  </th><th>J                </th><th>J_low  </th><th>J_high  </th></tr>\n",
       "</thead>\n",
       "<tbody>\n",
       "<tr><td><i style='opacity: 0.6'>0</i>    </td><td>0.0                </td><td>-0.95             </td><td>-1.0              </td><td>-0.9     </td><td>4.109999999999999</td><td>4.0    </td><td>4.22    </td></tr>\n",
       "<tr><td><i style='opacity: 0.6'>1</i>    </td><td>0.0                </td><td>-0.95             </td><td>-1.0              </td><td>-0.9     </td><td>4.33             </td><td>4.22   </td><td>4.44    </td></tr>\n",
       "<tr><td><i style='opacity: 0.6'>2</i>    </td><td>0.0                </td><td>-0.95             </td><td>-1.0              </td><td>-0.9     </td><td>4.550000000000001</td><td>4.44   </td><td>4.66    </td></tr>\n",
       "<tr><td><i style='opacity: 0.6'>3</i>    </td><td>0.0                </td><td>-0.95             </td><td>-1.0              </td><td>-0.9     </td><td>4.77             </td><td>4.66   </td><td>4.88    </td></tr>\n",
       "<tr><td><i style='opacity: 0.6'>4</i>    </td><td>0.0                </td><td>-0.95             </td><td>-1.0              </td><td>-0.9     </td><td>4.99             </td><td>4.88   </td><td>5.1     </td></tr>\n",
       "<tr><td>...                              </td><td>...                </td><td>...               </td><td>...               </td><td>...      </td><td>...              </td><td>...    </td><td>...     </td></tr>\n",
       "<tr><td><i style='opacity: 0.6'>1,495</i></td><td>0.05531087616556061</td><td>1.9500000000000002</td><td>1.9000000000000004</td><td>2.0      </td><td>14.01            </td><td>13.9   </td><td>14.12   </td></tr>\n",
       "<tr><td><i style='opacity: 0.6'>1,496</i></td><td>0.05500841005665722</td><td>1.9500000000000002</td><td>1.9000000000000004</td><td>2.0      </td><td>14.23            </td><td>14.12  </td><td>14.34   </td></tr>\n",
       "<tr><td><i style='opacity: 0.6'>1,497</i></td><td>0.05556735329510866</td><td>1.9500000000000002</td><td>1.9000000000000004</td><td>2.0      </td><td>14.45            </td><td>14.34  </td><td>14.56   </td></tr>\n",
       "<tr><td><i style='opacity: 0.6'>1,498</i></td><td>0.053377039326001  </td><td>1.9500000000000002</td><td>1.9000000000000004</td><td>2.0      </td><td>14.67            </td><td>14.56  </td><td>14.78   </td></tr>\n",
       "<tr><td><i style='opacity: 0.6'>1,499</i></td><td>0.05115378861545366</td><td>1.9500000000000002</td><td>1.9000000000000004</td><td>2.0      </td><td>14.89            </td><td>14.78  </td><td>15.0    </td></tr>\n",
       "</tbody>\n",
       "</table>"
      ],
      "text/plain": [
       "#      comp                 JK                  JK_low              JK_high    J                  J_low    J_high\n",
       "0      0.0                  -0.95               -1.0                -0.9       4.109999999999999  4.0      4.22\n",
       "1      0.0                  -0.95               -1.0                -0.9       4.33               4.22     4.44\n",
       "2      0.0                  -0.95               -1.0                -0.9       4.550000000000001  4.44     4.66\n",
       "3      0.0                  -0.95               -1.0                -0.9       4.77               4.66     4.88\n",
       "4      0.0                  -0.95               -1.0                -0.9       4.99               4.88     5.1\n",
       "...    ...                  ...                 ...                 ...        ...                ...      ...\n",
       "1,495  0.05531087616556061  1.9500000000000002  1.9000000000000004  2.0        14.01              13.9     14.12\n",
       "1,496  0.05500841005665722  1.9500000000000002  1.9000000000000004  2.0        14.23              14.12    14.34\n",
       "1,497  0.05556735329510866  1.9500000000000002  1.9000000000000004  2.0        14.45              14.34    14.56\n",
       "1,498  0.053377039326001    1.9500000000000002  1.9000000000000004  2.0        14.67              14.56    14.78\n",
       "1,499  0.05115378861545366  1.9500000000000002  1.9000000000000004  2.0        14.89              14.78    15.0"
      ]
     },
     "execution_count": 5,
     "metadata": {},
     "output_type": "execute_result"
    }
   ],
   "source": [
    "comp_raw = vaex.open(comp_path)\n",
    "comp_raw"
   ]
  },
  {
   "cell_type": "code",
   "execution_count": 34,
   "metadata": {},
   "outputs": [
    {
     "data": {
      "text/plain": [
       "array([[0.        , 0.        , 0.        , ..., 0.        , 0.        ,\n",
       "        0.        ],\n",
       "       [0.        , 0.        , 0.        , ..., 0.        , 0.        ,\n",
       "        0.        ],\n",
       "       [0.        , 0.        , 0.        , ..., 0.        , 0.        ,\n",
       "        0.        ],\n",
       "       ...,\n",
       "       [0.        , 0.        , 0.        , ..., 0.05434282, 0.05517144,\n",
       "        0.05556735],\n",
       "       [0.        , 0.        , 0.        , ..., 0.05334468, 0.05303835,\n",
       "        0.05337704],\n",
       "       [0.        , 0.        , 0.        , ..., 0.05109583, 0.05054284,\n",
       "        0.05115379]])"
      ]
     },
     "execution_count": 34,
     "metadata": {},
     "output_type": "execute_result"
    }
   ],
   "source": [
    "J = comp_raw.J.to_numpy()\n",
    "J = np.unique(J)\n",
    "\n",
    "eJ = comp_raw.J_low.to_numpy()\n",
    "eJ = np.unique(eJ)\n",
    "eJ = np.append(eJ, comp_raw.J_high.to_numpy()[-1])\n",
    "\n",
    "JK = comp_raw.JK.to_numpy()\n",
    "JK = np.unique(JK)\n",
    "\n",
    "eJK = comp_raw.JK_low.to_numpy()\n",
    "eJK = np.unique(eJK)\n",
    "eJK = np.append(eJK, comp_raw.JK_high.to_numpy()[-1])\n",
    "\n",
    "comp = np.zeros((len(J), len(JK)))\n",
    "for i in range(len(J)):\n",
    "    comp[i] = comp_raw[comp_raw.J == J[i]].comp.to_numpy()\n",
    "comp"
   ]
  },
  {
   "cell_type": "code",
   "execution_count": 7,
   "metadata": {},
   "outputs": [
    {
     "data": {
      "text/plain": [
       "Text(0, 0.5, 'J')"
      ]
     },
     "execution_count": 7,
     "metadata": {},
     "output_type": "execute_result"
    },
    {
     "data": {
      "image/png": "[encoded data removed]",
      "text/plain": [
       "<Figure size 432x288 with 2 Axes>"
      ]
     },
     "metadata": {
      "needs_background": "light"
     },
     "output_type": "display_data"
    }
   ],
   "source": [
    "plt.imshow(comp, origin=\"lower\", extent=[eJK[0], eJK[-1], eJ[0], eJ[-1]], aspect=\"auto\")\n",
    "plt.colorbar()\n",
    "plt.xlabel(\"J-K\")\n",
    "plt.ylabel(\"J\")\n"
   ]
  },
  {
   "cell_type": "code",
   "execution_count": 50,
   "metadata": {},
   "outputs": [],
   "source": [
    "jk, j = np.meshgrid(JK, J)\n",
    "comp_interp_ = interpolate.interp2d(jk, j, comp, kind='linear', fill_value=0)\n",
    "# return 0 if the result is negative\n",
    "comp_interp = lambda jk, j: np.maximum(comp_interp_(jk, j), 0)"
   ]
  },
  {
   "cell_type": "code",
   "execution_count": 53,
   "metadata": {},
   "outputs": [
    {
     "data": {
      "image/png": "[encoded data removed]",
      "text/plain": [
       "<Figure size 432x288 with 1 Axes>"
      ]
     },
     "metadata": {
      "needs_background": "light"
     },
     "output_type": "display_data"
    }
   ],
   "source": [
    "# A star boundaries\n",
    "JK_lower = (df_s[df_s['SpT'] == 'B9V']['J-K'].to_numpy()[0]+df_s[df_s['SpT'] == 'A0V']['J-K'].to_numpy()[0])/2\n",
    "JK_upper = (df_s[df_s['SpT'] == 'A9V']['J-K'].to_numpy()[0]+df_s[df_s['SpT'] == 'F0V']['J-K'].to_numpy()[0])/2\n",
    "\n",
    "JK_unique = np.linspace(JK_lower, JK_upper, 150)\n",
    "MJ = np.array([])\n",
    "JK = np.array([])\n",
    "for jk in JK_unique:\n",
    "  MJ_lower = main_sequence_cut_r(jk, low=True)\n",
    "  MJ_upper = main_sequence_cut_r(jk)\n",
    "  MJ_dummy = np.linspace(MJ_lower, MJ_upper, 50)\n",
    "  JK_dummy = np.ones_like(MJ_dummy)*jk\n",
    "  MJ = np.concatenate((MJ, MJ_dummy), axis=0)\n",
    "  JK = np.concatenate((JK, JK_dummy), axis=0)\n",
    "plt.scatter(JK, MJ, s=1)\n",
    "plt.gca().invert_yaxis()"
   ]
  },
  {
   "cell_type": "code",
   "execution_count": 60,
   "metadata": {},
   "outputs": [],
   "source": [
    "# distance modulus\n",
    "DMs = np.linspace(0, 17, 200)"
   ]
  },
  {
   "cell_type": "code",
   "execution_count": 61,
   "metadata": {},
   "outputs": [
    {
     "name": "stdout",
     "output_type": "stream",
     "text": [
      "0 1 2 3 4 5 6 7 8 9 10 11 12 13 14 15 16 17 18 19 20 21 22 23 24 25 26 27 28 29 30 31 32 33 34 35 36 37 38 39 40 41 42 43 44 45 46 47 48 49 50 51 52 53 54 55 56 57 58 59 60 61 62 63 64 65 66 67 68 69 70 71 72 73 74 75 76 77 78 79 80 81 82 83 84 85 86 87 88 89 90 91 92 93 94 95 96 97 98 99 100 101 102 103 104 105 106 107 108 109 110 111 112 113 114 115 116 117 118 119 120 121 122 123 124 125 126 127 128 129 130 131 132 133 134 135 136 137 138 139 140 141 142 143 144 145 146 147 148 149 150 151 152 153 154 155 156 157 158 159 160 161 162 163 164 165 166 167 168 169 170 171 172 173 174 175 176 177 178 179 180 181 182 183 184 185 186 187 188 189 190 191 192 193 194 195 196 197 198 199 "
     ]
    }
   ],
   "source": [
    "comDM = np.zeros_like(DMs)\n",
    "for j, DM in enumerate(DMs):\n",
    "  comp_val = np.empty_like(MJ)\n",
    "  for i, (jk, mj) in enumerate(zip(JK, MJ)):\n",
    "    comp_val[i] = comp_interp(jk, mj+DM)\n",
    "  comp_avg = np.mean(comp_val)\n",
    "  comDM[j] = comp_avg\n",
    "  print(j, end=\" \")"
   ]
  },
  {
   "cell_type": "code",
   "execution_count": 62,
   "metadata": {},
   "outputs": [
    {
     "data": {
      "image/png": "[encoded data removed]",
      "text/plain": [
       "<Figure size 432x288 with 1 Axes>"
      ]
     },
     "metadata": {
      "needs_background": "light"
     },
     "output_type": "display_data"
    }
   ],
   "source": [
    "plt.plot(DMs, comDM)\n",
    "plt.xlabel(\"Distance Modulus\")\n",
    "plt.ylabel(\"Effective Completeness\")\n",
    "plt.grid()\n",
    "plt.show()"
   ]
  },
  {
   "cell_type": "code",
   "execution_count": 63,
   "metadata": {},
   "outputs": [
    {
     "data": {
      "text/html": [
       "<table>\n",
       "<thead>\n",
       "<tr><th>#                              </th><th>DM                 </th><th>comp  </th></tr>\n",
       "</thead>\n",
       "<tbody>\n",
       "<tr><td><i style='opacity: 0.6'>0</i>  </td><td>0.0                </td><td>0.0   </td></tr>\n",
       "<tr><td><i style='opacity: 0.6'>1</i>  </td><td>0.08542713567839195</td><td>0.0   </td></tr>\n",
       "<tr><td><i style='opacity: 0.6'>2</i>  </td><td>0.1708542713567839 </td><td>0.0   </td></tr>\n",
       "<tr><td><i style='opacity: 0.6'>3</i>  </td><td>0.2562814070351759 </td><td>0.0   </td></tr>\n",
       "<tr><td><i style='opacity: 0.6'>4</i>  </td><td>0.3417085427135678 </td><td>0.0   </td></tr>\n",
       "<tr><td>...                            </td><td>...                </td><td>...   </td></tr>\n",
       "<tr><td><i style='opacity: 0.6'>195</i></td><td>16.65829145728643  </td><td>0.0   </td></tr>\n",
       "<tr><td><i style='opacity: 0.6'>196</i></td><td>16.74371859296482  </td><td>0.0   </td></tr>\n",
       "<tr><td><i style='opacity: 0.6'>197</i></td><td>16.829145728643216 </td><td>0.0   </td></tr>\n",
       "<tr><td><i style='opacity: 0.6'>198</i></td><td>16.914572864321606 </td><td>0.0   </td></tr>\n",
       "<tr><td><i style='opacity: 0.6'>199</i></td><td>17.0               </td><td>0.0   </td></tr>\n",
       "</tbody>\n",
       "</table>"
      ],
      "text/plain": [
       "#    DM                   comp\n",
       "0    0.0                  0.0\n",
       "1    0.08542713567839195  0.0\n",
       "2    0.1708542713567839   0.0\n",
       "3    0.2562814070351759   0.0\n",
       "4    0.3417085427135678   0.0\n",
       "...  ...                  ...\n",
       "195  16.65829145728643    0.0\n",
       "196  16.74371859296482    0.0\n",
       "197  16.829145728643216   0.0\n",
       "198  16.914572864321606   0.0\n",
       "199  17.0                 0.0"
      ]
     },
     "execution_count": 63,
     "metadata": {},
     "output_type": "execute_result"
    }
   ],
   "source": [
    "df_A_comp = vaex.from_arrays(DM=DMs, comp=comDM)\n",
    "df_A_comp"
   ]
  },
  {
   "cell_type": "code",
   "execution_count": 79,
   "metadata": {},
   "outputs": [
    {
     "name": "stdout",
     "output_type": "stream",
     "text": [
      "export(hdf5) [########################################] 100.00% elapsed time  :     0.04s =  0.0m =  0.0h\n",
      " "
     ]
    }
   ],
   "source": [
    "df_A_comp.export(join(data_dir, \"comp-A-2.hdf5\"), progress=True)"
   ]
  },
  {
   "cell_type": "code",
   "execution_count": 64,
   "metadata": {},
   "outputs": [
    {
     "data": {
      "image/png": "[encoded data removed]",
      "text/plain": [
       "<Figure size 432x288 with 1 Axes>"
      ]
     },
     "metadata": {
      "needs_background": "light"
     },
     "output_type": "display_data"
    }
   ],
   "source": [
    "# F star boundaries\n",
    "JK_lower = (df_s[df_s['SpT'] == 'A9V']['J-K'].to_numpy()[0]+df_s[df_s['SpT'] == 'F0V']['J-K'].to_numpy()[0])/2\n",
    "JK_upper = (df_s[df_s['SpT'] == 'F9V']['J-K'].to_numpy()[0]+df_s[df_s['SpT'] == 'G0V']['J-K'].to_numpy()[0])/2\n",
    "\n",
    "JK_unique = np.linspace(JK_lower, JK_upper, 150)\n",
    "MJ = np.array([])\n",
    "JK = np.array([])\n",
    "for jk in JK_unique:\n",
    "  MJ_lower = main_sequence_cut_r(jk, low=True)\n",
    "  MJ_upper = main_sequence_cut_r(jk)\n",
    "  MJ_dummy = np.linspace(MJ_lower, MJ_upper, 50)\n",
    "  JK_dummy = np.ones_like(MJ_dummy)*jk\n",
    "  MJ = np.concatenate((MJ, MJ_dummy), axis=0)\n",
    "  JK = np.concatenate((JK, JK_dummy), axis=0)\n",
    "plt.scatter(JK, MJ, s=1)\n",
    "plt.gca().invert_yaxis()"
   ]
  },
  {
   "cell_type": "code",
   "execution_count": 71,
   "metadata": {},
   "outputs": [],
   "source": [
    "# distance modulus\n",
    "DMs = np.linspace(-1, 17, 200)"
   ]
  },
  {
   "cell_type": "code",
   "execution_count": 72,
   "metadata": {},
   "outputs": [
    {
     "name": "stdout",
     "output_type": "stream",
     "text": [
      "0 1 2 3 4 5 6 7 8 9 10 11 12 13 14 15 16 17 18 19 20 21 22 23 24 25 26 27 28 29 30 31 32 33 34 35 36 37 38 39 40 41 42 43 44 45 46 47 48 49 50 51 52 53 54 55 56 57 58 59 60 61 62 63 64 65 66 67 68 69 70 71 72 73 74 75 76 77 78 79 80 81 82 83 84 85 86 87 88 89 90 91 92 93 94 95 96 97 98 99 100 101 102 103 104 105 106 107 108 109 110 111 112 113 114 115 116 117 118 119 120 121 122 123 124 125 126 127 128 129 130 131 132 133 134 135 136 137 138 139 140 141 142 143 144 145 146 147 148 149 150 151 152 153 154 155 156 157 158 159 160 161 162 163 164 165 166 167 168 169 170 171 172 173 174 175 176 177 178 179 180 181 182 183 184 185 186 187 188 189 190 191 192 193 194 195 196 197 198 199 "
     ]
    }
   ],
   "source": [
    "comDM = np.zeros_like(DMs)\n",
    "for j, DM in enumerate(DMs):\n",
    "  comp_val = np.empty_like(MJ)\n",
    "  for i, (jk, mj) in enumerate(zip(JK, MJ)):\n",
    "    comp_val[i] = comp_interp(jk, mj+DM)\n",
    "  comp_avg = np.mean(comp_val)\n",
    "  comDM[j] = comp_avg\n",
    "  print(j, end=\" \")"
   ]
  },
  {
   "cell_type": "code",
   "execution_count": 73,
   "metadata": {},
   "outputs": [
    {
     "data": {
      "image/png": "[encoded data removed]",
      "text/plain": [
       "<Figure size 432x288 with 1 Axes>"
      ]
     },
     "metadata": {
      "needs_background": "light"
     },
     "output_type": "display_data"
    }
   ],
   "source": [
    "plt.plot(DMs, comDM)\n",
    "plt.xlabel(\"Distance Modulus\")\n",
    "plt.ylabel(\"Effective Completeness\")\n",
    "plt.grid()\n",
    "plt.show()"
   ]
  },
  {
   "cell_type": "code",
   "execution_count": 74,
   "metadata": {},
   "outputs": [
    {
     "data": {
      "text/html": [
       "<table>\n",
       "<thead>\n",
       "<tr><th>#                              </th><th>DM                 </th><th>comp  </th></tr>\n",
       "</thead>\n",
       "<tbody>\n",
       "<tr><td><i style='opacity: 0.6'>0</i>  </td><td>-1.0               </td><td>0.0   </td></tr>\n",
       "<tr><td><i style='opacity: 0.6'>1</i>  </td><td>-0.9095477386934674</td><td>0.0   </td></tr>\n",
       "<tr><td><i style='opacity: 0.6'>2</i>  </td><td>-0.8190954773869347</td><td>0.0   </td></tr>\n",
       "<tr><td><i style='opacity: 0.6'>3</i>  </td><td>-0.728643216080402 </td><td>0.0   </td></tr>\n",
       "<tr><td><i style='opacity: 0.6'>4</i>  </td><td>-0.6381909547738693</td><td>0.0   </td></tr>\n",
       "<tr><td>...                            </td><td>...                </td><td>...   </td></tr>\n",
       "<tr><td><i style='opacity: 0.6'>195</i></td><td>16.63819095477387  </td><td>0.0   </td></tr>\n",
       "<tr><td><i style='opacity: 0.6'>196</i></td><td>16.728643216080403 </td><td>0.0   </td></tr>\n",
       "<tr><td><i style='opacity: 0.6'>197</i></td><td>16.819095477386934 </td><td>0.0   </td></tr>\n",
       "<tr><td><i style='opacity: 0.6'>198</i></td><td>16.90954773869347  </td><td>0.0   </td></tr>\n",
       "<tr><td><i style='opacity: 0.6'>199</i></td><td>17.0               </td><td>0.0   </td></tr>\n",
       "</tbody>\n",
       "</table>"
      ],
      "text/plain": [
       "#    DM                   comp\n",
       "0    -1.0                 0.0\n",
       "1    -0.9095477386934674  0.0\n",
       "2    -0.8190954773869347  0.0\n",
       "3    -0.728643216080402   0.0\n",
       "4    -0.6381909547738693  0.0\n",
       "...  ...                  ...\n",
       "195  16.63819095477387    0.0\n",
       "196  16.728643216080403   0.0\n",
       "197  16.819095477386934   0.0\n",
       "198  16.90954773869347    0.0\n",
       "199  17.0                 0.0"
      ]
     },
     "execution_count": 74,
     "metadata": {},
     "output_type": "execute_result"
    }
   ],
   "source": [
    "df_F_comp = vaex.from_arrays(DM=DMs, comp=comDM)\n",
    "df_F_comp"
   ]
  },
  {
   "cell_type": "code",
   "execution_count": 80,
   "metadata": {},
   "outputs": [
    {
     "name": "stdout",
     "output_type": "stream",
     "text": [
      "export(hdf5) [########################################] 100.00% elapsed time  :     0.01s =  0.0m =  0.0h\n",
      " "
     ]
    }
   ],
   "source": [
    "df_F_comp.export(join(data_dir, \"comp-F-2.hdf5\"), progress=True)"
   ]
  },
  {
   "cell_type": "code",
   "execution_count": 75,
   "metadata": {},
   "outputs": [
    {
     "data": {
      "image/png": "[encoded data removed]",
      "text/plain": [
       "<Figure size 432x288 with 1 Axes>"
      ]
     },
     "metadata": {
      "needs_background": "light"
     },
     "output_type": "display_data"
    }
   ],
   "source": [
    "# G star boundaries\n",
    "JK_lower = (df_s[df_s['SpT'] == 'F9V']['J-K'].to_numpy()[0]+df_s[df_s['SpT'] == 'G0V']['J-K'].to_numpy()[0])/2\n",
    "JK_upper = (df_s[df_s['SpT'] == 'G3V']['J-K'].to_numpy()[0]+df_s[df_s['SpT'] == 'G4V']['J-K'].to_numpy()[0])/2\n",
    "\n",
    "JK_unique = np.linspace(JK_lower, JK_upper, 150)\n",
    "MJ = np.array([])\n",
    "JK = np.array([])\n",
    "for jk in JK_unique:\n",
    "  MJ_lower = main_sequence_cut_r(jk, low=True)\n",
    "  MJ_upper = main_sequence_cut_r(jk)\n",
    "  MJ_dummy = np.linspace(MJ_lower, MJ_upper, 50)\n",
    "  JK_dummy = np.ones_like(MJ_dummy)*jk\n",
    "  MJ = np.concatenate((MJ, MJ_dummy), axis=0)\n",
    "  JK = np.concatenate((JK, JK_dummy), axis=0)\n",
    "plt.scatter(JK, MJ, s=1)\n",
    "plt.gca().invert_yaxis()"
   ]
  },
  {
   "cell_type": "code",
   "execution_count": 82,
   "metadata": {},
   "outputs": [],
   "source": [
    "# distance modulus\n",
    "DMs = np.linspace(-2, 15, 200)"
   ]
  },
  {
   "cell_type": "code",
   "execution_count": 83,
   "metadata": {},
   "outputs": [
    {
     "name": "stdout",
     "output_type": "stream",
     "text": [
      "0 1 2 3 4 5 6 7 8 9 10 11 12 13 14 15 16 17 18 19 20 21 22 23 24 25 26 27 28 29 30 31 32 33 34 35 36 37 38 39 40 41 42 43 44 45 46 47 48 49 50 51 52 53 54 55 56 57 58 59 60 61 62 63 64 65 66 67 68 69 70 71 72 73 74 75 76 77 78 79 80 81 82 83 84 85 86 87 88 89 90 91 92 93 94 95 96 97 98 99 100 101 102 103 104 105 106 107 108 109 110 111 112 113 114 115 116 117 118 119 120 121 122 123 124 125 126 127 128 129 130 131 132 133 134 135 136 137 138 139 140 141 142 143 144 145 146 147 148 149 150 151 152 153 154 155 156 157 158 159 160 161 162 163 164 165 166 167 168 169 170 171 172 173 174 175 176 177 178 179 180 181 182 183 184 185 186 187 188 189 190 191 192 193 194 195 196 197 198 199 "
     ]
    }
   ],
   "source": [
    "comDM = np.zeros_like(DMs)\n",
    "for j, DM in enumerate(DMs):\n",
    "  comp_val = np.empty_like(MJ)\n",
    "  for i, (jk, mj) in enumerate(zip(JK, MJ)):\n",
    "    comp_val[i] = comp_interp(jk, mj+DM)\n",
    "  comp_avg = np.mean(comp_val)\n",
    "  comDM[j] = comp_avg\n",
    "  print(j, end=\" \")"
   ]
  },
  {
   "cell_type": "code",
   "execution_count": 84,
   "metadata": {},
   "outputs": [
    {
     "data": {
      "image/png": "[encoded data removed]",
      "text/plain": [
       "<Figure size 432x288 with 1 Axes>"
      ]
     },
     "metadata": {
      "needs_background": "light"
     },
     "output_type": "display_data"
    }
   ],
   "source": [
    "plt.plot(DMs, comDM)\n",
    "plt.xlabel(\"Distance Modulus\")\n",
    "plt.ylabel(\"Effective Completeness\")\n",
    "plt.grid()\n",
    "plt.show()"
   ]
  },
  {
   "cell_type": "code",
   "execution_count": 85,
   "metadata": {},
   "outputs": [
    {
     "data": {
      "text/html": [
       "<table>\n",
       "<thead>\n",
       "<tr><th>#                              </th><th>DM                 </th><th>comp  </th></tr>\n",
       "</thead>\n",
       "<tbody>\n",
       "<tr><td><i style='opacity: 0.6'>0</i>  </td><td>-2.0               </td><td>0.0   </td></tr>\n",
       "<tr><td><i style='opacity: 0.6'>1</i>  </td><td>-1.914572864321608 </td><td>0.0   </td></tr>\n",
       "<tr><td><i style='opacity: 0.6'>2</i>  </td><td>-1.829145728643216 </td><td>0.0   </td></tr>\n",
       "<tr><td><i style='opacity: 0.6'>3</i>  </td><td>-1.7437185929648242</td><td>0.0   </td></tr>\n",
       "<tr><td><i style='opacity: 0.6'>4</i>  </td><td>-1.6582914572864322</td><td>0.0   </td></tr>\n",
       "<tr><td>...                            </td><td>...                </td><td>...   </td></tr>\n",
       "<tr><td><i style='opacity: 0.6'>195</i></td><td>14.658291457286431 </td><td>0.0   </td></tr>\n",
       "<tr><td><i style='opacity: 0.6'>196</i></td><td>14.743718592964822 </td><td>0.0   </td></tr>\n",
       "<tr><td><i style='opacity: 0.6'>197</i></td><td>14.829145728643216 </td><td>0.0   </td></tr>\n",
       "<tr><td><i style='opacity: 0.6'>198</i></td><td>14.914572864321606 </td><td>0.0   </td></tr>\n",
       "<tr><td><i style='opacity: 0.6'>199</i></td><td>15.0               </td><td>0.0   </td></tr>\n",
       "</tbody>\n",
       "</table>"
      ],
      "text/plain": [
       "#    DM                   comp\n",
       "0    -2.0                 0.0\n",
       "1    -1.914572864321608   0.0\n",
       "2    -1.829145728643216   0.0\n",
       "3    -1.7437185929648242  0.0\n",
       "4    -1.6582914572864322  0.0\n",
       "...  ...                  ...\n",
       "195  14.658291457286431   0.0\n",
       "196  14.743718592964822   0.0\n",
       "197  14.829145728643216   0.0\n",
       "198  14.914572864321606   0.0\n",
       "199  15.0                 0.0"
      ]
     },
     "execution_count": 85,
     "metadata": {},
     "output_type": "execute_result"
    }
   ],
   "source": [
    "df_G_comp = vaex.from_arrays(DM=DMs, comp=comDM)\n",
    "df_G_comp"
   ]
  },
  {
   "cell_type": "code",
   "execution_count": 86,
   "metadata": {},
   "outputs": [
    {
     "name": "stdout",
     "output_type": "stream",
     "text": [
      "export(hdf5) [########################################] 100.00% elapsed time  :     0.06s =  0.0m =  0.0h\n",
      " "
     ]
    }
   ],
   "source": [
    "df_G_comp.export(join(data_dir, \"comp-G-2.hdf5\"), progress=True)"
   ]
  }
 ],
 "metadata": {
  "kernelspec": {
   "display_name": "Python 3.9.7 ('vaex2')",
   "language": "python",
   "name": "python3"
  },
  "language_info": {
   "codemirror_mode": {
    "name": "ipython",
    "version": 3
   },
   "file_extension": ".py",
   "mimetype": "text/x-python",
   "name": "python",
   "nbconvert_exporter": "python",
   "pygments_lexer": "ipython3",
   "version": "3.9.7"
  },
  "orig_nbformat": 4,
  "vscode": {
   "interpreter": {
    "hash": "ce24ca8aae0c18c4327bef86187bd310e85b0b68e0fbab549c3fc8d824c6eee6"
   }
  }
 },
 "nbformat": 4,
 "nbformat_minor": 2
}
