{
 "cells": [
  {
   "cell_type": "code",
   "execution_count": 11,
   "metadata": {},
   "outputs": [],
   "source": [
    "import vaex\n",
    "import numpy as np\n",
    "from matplotlib import pyplot as plt\n",
    "import pandas as pd\n",
    "from glob import glob\n",
    "from os.path import join, abspath\n",
    "from os import pardir, curdir, mkdir\n",
    "import sys\n",
    "import healpy as hp\n",
    "from scipy import interpolate"
   ]
  },
  {
   "cell_type": "code",
   "execution_count": 2,
   "metadata": {},
   "outputs": [],
   "source": [
    "root_data_dir = abspath(join(pardir, \"Data\"))\n",
    "comp_dir = join(root_data_dir, \"Completeness\")"
   ]
  },
  {
   "cell_type": "code",
   "execution_count": 3,
   "metadata": {},
   "outputs": [
    {
     "name": "stdout",
     "output_type": "stream",
     "text": [
      "Directory already exist. Good to go!\n"
     ]
    }
   ],
   "source": [
    "name = \"Effective-Volume\"\n",
    "data_dir = join(root_data_dir, name)\n",
    "try:\n",
    "  mkdir(data_dir)\n",
    "  print(f\"Creating {name} dir in Data dir\")\n",
    "except FileExistsError:\n",
    "  print(\"Directory already exist. Good to go!\")"
   ]
  },
  {
   "cell_type": "code",
   "execution_count": 39,
   "metadata": {},
   "outputs": [
    {
     "data": {
      "text/html": [
       "<table>\n",
       "<thead>\n",
       "<tr><th>#                              </th><th>DM                 </th><th>comp  </th></tr>\n",
       "</thead>\n",
       "<tbody>\n",
       "<tr><td><i style='opacity: 0.6'>0</i>  </td><td>-2.0               </td><td>0.0   </td></tr>\n",
       "<tr><td><i style='opacity: 0.6'>1</i>  </td><td>-1.914572864321608 </td><td>0.0   </td></tr>\n",
       "<tr><td><i style='opacity: 0.6'>2</i>  </td><td>-1.829145728643216 </td><td>0.0   </td></tr>\n",
       "<tr><td><i style='opacity: 0.6'>3</i>  </td><td>-1.7437185929648242</td><td>0.0   </td></tr>\n",
       "<tr><td><i style='opacity: 0.6'>4</i>  </td><td>-1.6582914572864322</td><td>0.0   </td></tr>\n",
       "<tr><td>...                            </td><td>...                </td><td>...   </td></tr>\n",
       "<tr><td><i style='opacity: 0.6'>195</i></td><td>14.658291457286431 </td><td>0.0   </td></tr>\n",
       "<tr><td><i style='opacity: 0.6'>196</i></td><td>14.743718592964822 </td><td>0.0   </td></tr>\n",
       "<tr><td><i style='opacity: 0.6'>197</i></td><td>14.829145728643216 </td><td>0.0   </td></tr>\n",
       "<tr><td><i style='opacity: 0.6'>198</i></td><td>14.914572864321606 </td><td>0.0   </td></tr>\n",
       "<tr><td><i style='opacity: 0.6'>199</i></td><td>15.0               </td><td>0.0   </td></tr>\n",
       "</tbody>\n",
       "</table>"
      ],
      "text/plain": [
       "#    DM                   comp\n",
       "0    -2.0                 0.0\n",
       "1    -1.914572864321608   0.0\n",
       "2    -1.829145728643216   0.0\n",
       "3    -1.7437185929648242  0.0\n",
       "4    -1.6582914572864322  0.0\n",
       "...  ...                  ...\n",
       "195  14.658291457286431   0.0\n",
       "196  14.743718592964822   0.0\n",
       "197  14.829145728643216   0.0\n",
       "198  14.914572864321606   0.0\n",
       "199  15.0                 0.0"
      ]
     },
     "execution_count": 39,
     "metadata": {},
     "output_type": "execute_result"
    }
   ],
   "source": [
    "comp_A = vaex.open(join(comp_dir, \"comp-A-2.hdf5\"))\n",
    "comp_F = vaex.open(join(comp_dir, \"comp-F-2.hdf5\"))\n",
    "comp_G = vaex.open(join(comp_dir, \"comp-G-2.hdf5\"))\n",
    "comp_G"
   ]
  },
  {
   "cell_type": "code",
   "execution_count": 40,
   "metadata": {},
   "outputs": [
    {
     "data": {
      "text/html": [
       "<table>\n",
       "<thead>\n",
       "<tr><th>#                              </th><th>DM                 </th><th>comp  </th><th>distance          </th></tr>\n",
       "</thead>\n",
       "<tbody>\n",
       "<tr><td><i style='opacity: 0.6'>0</i>  </td><td>-2.0               </td><td>0.0   </td><td>3.9810717055349722</td></tr>\n",
       "<tr><td><i style='opacity: 0.6'>1</i>  </td><td>-1.914572864321608 </td><td>0.0   </td><td>4.140811179107124 </td></tr>\n",
       "<tr><td><i style='opacity: 0.6'>2</i>  </td><td>-1.829145728643216 </td><td>0.0   </td><td>4.306960157783548 </td></tr>\n",
       "<tr><td><i style='opacity: 0.6'>3</i>  </td><td>-1.7437185929648242</td><td>0.0   </td><td>4.479775821300495 </td></tr>\n",
       "<tr><td><i style='opacity: 0.6'>4</i>  </td><td>-1.6582914572864322</td><td>0.0   </td><td>4.659525668664681 </td></tr>\n",
       "<tr><td>...                            </td><td>...                </td><td>...   </td><td>...               </td></tr>\n",
       "<tr><td><i style='opacity: 0.6'>195</i></td><td>14.658291457286431 </td><td>0.0   </td><td>8543.941998877026 </td></tr>\n",
       "<tr><td><i style='opacity: 0.6'>196</i></td><td>14.743718592964822 </td><td>0.0   </td><td>8886.765464034419 </td></tr>\n",
       "<tr><td><i style='opacity: 0.6'>197</i></td><td>14.829145728643216 </td><td>0.0   </td><td>9243.344632154005 </td></tr>\n",
       "<tr><td><i style='opacity: 0.6'>198</i></td><td>14.914572864321606 </td><td>0.0   </td><td>9614.231447262957 </td></tr>\n",
       "<tr><td><i style='opacity: 0.6'>199</i></td><td>15.0               </td><td>0.0   </td><td>10000.0           </td></tr>\n",
       "</tbody>\n",
       "</table>"
      ],
      "text/plain": [
       "#    DM                   comp    distance\n",
       "0    -2.0                 0.0     3.9810717055349722\n",
       "1    -1.914572864321608   0.0     4.140811179107124\n",
       "2    -1.829145728643216   0.0     4.306960157783548\n",
       "3    -1.7437185929648242  0.0     4.479775821300495\n",
       "4    -1.6582914572864322  0.0     4.659525668664681\n",
       "...  ...                  ...     ...\n",
       "195  14.658291457286431   0.0     8543.941998877026\n",
       "196  14.743718592964822   0.0     8886.765464034419\n",
       "197  14.829145728643216   0.0     9243.344632154005\n",
       "198  14.914572864321606   0.0     9614.231447262957\n",
       "199  15.0                 0.0     10000.0"
      ]
     },
     "execution_count": 40,
     "metadata": {},
     "output_type": "execute_result"
    }
   ],
   "source": [
    "# add distance column in kpc\n",
    "distance = np.power(10, (comp_A.DM.to_numpy()+5)/5)\n",
    "comp_A[\"distance\"] = distance\n",
    "distance = np.power(10, (comp_F.DM.to_numpy()+5)/5)\n",
    "comp_F[\"distance\"] = distance\n",
    "distance = np.power(10, (comp_G.DM.to_numpy()+5)/5)\n",
    "comp_G[\"distance\"] = distance\n",
    "comp_G"
   ]
  },
  {
   "cell_type": "code",
   "execution_count": 41,
   "metadata": {},
   "outputs": [
    {
     "data": {
      "text/plain": [
       "[#    DM                   comp    distance\n",
       " 0    0.0                  0.0     10.0\n",
       " 1    0.08542713567839195  0.0     10.401247416242368\n",
       " 2    0.1708542713567839   0.0     10.818594781388855\n",
       " 3    0.2562814070351759   0.0     11.2526881017294\n",
       " 4    0.3417085427135678   0.0     11.704199304389416\n",
       " ...  ...                  ...     ...\n",
       " 195  16.65829145728643    0.0     21461.411978584016\n",
       " 196  16.74371859296482    0.0     22322.545589116013\n",
       " 197  16.829145728643216   0.0     23218.23196327455\n",
       " 198  16.914572864321606   0.0     24149.8575217725\n",
       " 199  17.0                 0.0     25118.864315095823,\n",
       " #    DM                   comp    distance\n",
       " 0    -1.0                 0.0     6.309573444801933\n",
       " 1    -0.9095477386934674  0.0     6.577948246675436\n",
       " 2    -0.8190954773869347  0.0     6.857738247200756\n",
       " 3    -0.728643216080402   0.0     7.149428986597581\n",
       " 4    -0.6381909547738693  0.0     7.453526657315321\n",
       " ...  ...                  ...     ...\n",
       " 195  16.63819095477387    0.0     21263.668399248407\n",
       " 196  16.728643216080403   0.0     22168.10874591772\n",
       " 197  16.819095477386934   0.0     23111.019046375077\n",
       " 198  16.90954773869347    0.0     24094.03560239527\n",
       " 199  17.0                 0.0     25118.864315095823,\n",
       " #    DM                   comp    distance\n",
       " 0    -2.0                 0.0     3.9810717055349722\n",
       " 1    -1.914572864321608   0.0     4.140811179107124\n",
       " 2    -1.829145728643216   0.0     4.306960157783548\n",
       " 3    -1.7437185929648242  0.0     4.479775821300495\n",
       " 4    -1.6582914572864322  0.0     4.659525668664681\n",
       " ...  ...                  ...     ...\n",
       " 195  14.658291457286431   0.0     8543.941998877026\n",
       " 196  14.743718592964822   0.0     8886.765464034419\n",
       " 197  14.829145728643216   0.0     9243.344632154005\n",
       " 198  14.914572864321606   0.0     9614.231447262957\n",
       " 199  15.0                 0.0     10000.0]"
      ]
     },
     "execution_count": 41,
     "metadata": {},
     "output_type": "execute_result"
    }
   ],
   "source": [
    "comp = [comp_A, comp_F, comp_G]\n",
    "comp"
   ]
  },
  {
   "cell_type": "code",
   "execution_count": 42,
   "metadata": {},
   "outputs": [
    {
     "data": {
      "text/plain": [
       "[<scipy.interpolate._interpolate.interp1d at 0x7fcb055b8180>,\n",
       " <scipy.interpolate._interpolate.interp1d at 0x7fcb055b8b30>,\n",
       " <scipy.interpolate._interpolate.interp1d at 0x7fcb055b8db0>]"
      ]
     },
     "execution_count": 42,
     "metadata": {},
     "output_type": "execute_result"
    }
   ],
   "source": [
    "# create function that gives completeness given distance\n",
    "# 0 = A, 1 = F, 2 = G\n",
    "comp_interp = []\n",
    "for j in range(3):\n",
    "  comp_i = comp[j]\n",
    "  f = interpolate.interp1d(comp_i[\"distance\"].to_numpy(), comp_i[\"comp\"].to_numpy(), kind=\"cubic\", fill_value=0, bounds_error=False)\n",
    "  comp_interp.append(f)\n",
    "comp_interp"
   ]
  },
  {
   "cell_type": "code",
   "execution_count": 43,
   "metadata": {},
   "outputs": [],
   "source": [
    "# GLAT, GLON in rad, spec=0 for A, 1 for F, and 2 for G, distance in kpc\n",
    "def completeness(distance, spec):\n",
    "  return comp_interp[spec](distance)"
   ]
  },
  {
   "cell_type": "code",
   "execution_count": 77,
   "metadata": {},
   "outputs": [
    {
     "data": {
      "text/plain": [
       "[<matplotlib.lines.Line2D at 0x7fcb0500b7f0>]"
      ]
     },
     "execution_count": 77,
     "metadata": {},
     "output_type": "execute_result"
    },
    {
     "data": {
      "image/png": "[encoded data removed]",
      "text/plain": [
       "<Figure size 432x288 with 1 Axes>"
      ]
     },
     "metadata": {
      "needs_background": "light"
     },
     "output_type": "display_data"
    }
   ],
   "source": [
    "d = np.linspace(0, 500, 1000)\n",
    "plt.plot(d, completeness(d, 0), label=\"A\")"
   ]
  },
  {
   "cell_type": "code",
   "execution_count": 68,
   "metadata": {},
   "outputs": [],
   "source": [
    "Z = 200\n",
    "R = 150"
   ]
  },
  {
   "cell_type": "code",
   "execution_count": 78,
   "metadata": {},
   "outputs": [],
   "source": [
    "# divide space into small tube with rings\n",
    "ez = np.linspace(-Z, Z, 102) #edges\n",
    "er = np.linspace(0, R, 102)\n",
    "z = (ez[:-1]+ez[1:])/2\n",
    "r = (er[:-1]+er[1:])/2"
   ]
  },
  {
   "cell_type": "code",
   "execution_count": 91,
   "metadata": {},
   "outputs": [],
   "source": [
    "# volume of rings\n",
    "# Vol = base*heigh = pi*(r1^2-r0^2)*dz\n",
    "# for A for 1st index, F 2nd, G 3rd\n",
    "vol = np.empty((3, len(z), len(r)))\n",
    "real_vol = np.empty((len(z), len(r)))\n",
    "dz = ez[1]-ez[0]\n",
    "\n",
    "for i, zz in enumerate(z):\n",
    "  # print(i, zz, end=\" | \")\n",
    "  for j, (rr, r_in, r_out) in enumerate(zip(r, er[:-1], er[1:])):\n",
    "    v = np.pi*(r_out**2-r_in**2)*dz\n",
    "    distance =np.sqrt(rr**2+zz**2)\n",
    "    c = np.empty(3)\n",
    "    for k in range(3):\n",
    "      c[k] = completeness(distance, k)\n",
    "      vol[k, i, j] = v*c[k]\n",
    "    real_vol[i, j] = v"
   ]
  },
  {
   "cell_type": "code",
   "execution_count": 92,
   "metadata": {},
   "outputs": [],
   "source": [
    "vz = [np.sum(vol[k], axis=1) for k in range(3)]\n",
    "real_vz = np.sum(real_vol, axis=1)"
   ]
  },
  {
   "cell_type": "code",
   "execution_count": 93,
   "metadata": {},
   "outputs": [],
   "source": [
    "compz = [vz[i]/real_vz for i in range(3)]"
   ]
  },
  {
   "cell_type": "code",
   "execution_count": 94,
   "metadata": {},
   "outputs": [
    {
     "data": {
      "text/plain": [
       "<matplotlib.legend.Legend at 0x7fcb04ebdd00>"
      ]
     },
     "execution_count": 94,
     "metadata": {},
     "output_type": "execute_result"
    },
    {
     "data": {
      "image/png": "[encoded data removed]",
      "text/plain": [
       "<Figure size 720x576 with 1 Axes>"
      ]
     },
     "metadata": {
      "needs_background": "light"
     },
     "output_type": "display_data"
    }
   ],
   "source": [
    "plt.figure(figsize=(10,8))\n",
    "for i in range(3):\n",
    "  plt.plot(z, compz[i], label=i)\n",
    "plt.ylim(0,1)\n",
    "plt.xlim(-200, 200)\n",
    "plt.grid(alpha=0.5)\n",
    "plt.legend()"
   ]
  },
  {
   "cell_type": "code",
   "execution_count": 95,
   "metadata": {},
   "outputs": [
    {
     "data": {
      "text/html": [
       "<table>\n",
       "<thead>\n",
       "<tr><th>#                              </th><th>z                  </th><th>A                 </th><th>F                 </th><th>G                 </th></tr>\n",
       "</thead>\n",
       "<tbody>\n",
       "<tr><td><i style='opacity: 0.6'>0</i>  </td><td>-198.01980198019803</td><td>0.7077069188540818</td><td>0.7226139139976796</td><td>0.7133188364188764</td></tr>\n",
       "<tr><td><i style='opacity: 0.6'>1</i>  </td><td>-194.05940594059405</td><td>0.7071727396188972</td><td>0.7220997362669332</td><td>0.713952250123703 </td></tr>\n",
       "<tr><td><i style='opacity: 0.6'>2</i>  </td><td>-190.0990099009901 </td><td>0.7066207567176711</td><td>0.7215500645948397</td><td>0.7145994661562005</td></tr>\n",
       "<tr><td><i style='opacity: 0.6'>3</i>  </td><td>-186.13861386138615</td><td>0.706056327503454 </td><td>0.7209633904436771</td><td>0.71524911760719  </td></tr>\n",
       "<tr><td><i style='opacity: 0.6'>4</i>  </td><td>-182.17821782178217</td><td>0.7054861011548819</td><td>0.7203392493978681</td><td>0.715889595155641 </td></tr>\n",
       "<tr><td>...                            </td><td>...                </td><td>...               </td><td>...               </td><td>...               </td></tr>\n",
       "<tr><td><i style='opacity: 0.6'>96</i> </td><td>182.17821782178217 </td><td>0.7054861011548819</td><td>0.7203392493978681</td><td>0.715889595155641 </td></tr>\n",
       "<tr><td><i style='opacity: 0.6'>97</i> </td><td>186.13861386138612 </td><td>0.706056327503454 </td><td>0.7209633904436771</td><td>0.71524911760719  </td></tr>\n",
       "<tr><td><i style='opacity: 0.6'>98</i> </td><td>190.0990099009901  </td><td>0.7066207567176711</td><td>0.7215500645948397</td><td>0.7145994661562005</td></tr>\n",
       "<tr><td><i style='opacity: 0.6'>99</i> </td><td>194.05940594059408 </td><td>0.7071727396188972</td><td>0.7220997362669332</td><td>0.7139522501237029</td></tr>\n",
       "<tr><td><i style='opacity: 0.6'>100</i></td><td>198.01980198019803 </td><td>0.7077069188540818</td><td>0.7226139139976796</td><td>0.7133188364188764</td></tr>\n",
       "</tbody>\n",
       "</table>"
      ],
      "text/plain": [
       "#    z                    A                   F                   G\n",
       "0    -198.01980198019803  0.7077069188540818  0.7226139139976796  0.7133188364188764\n",
       "1    -194.05940594059405  0.7071727396188972  0.7220997362669332  0.713952250123703\n",
       "2    -190.0990099009901   0.7066207567176711  0.7215500645948397  0.7145994661562005\n",
       "3    -186.13861386138615  0.706056327503454   0.7209633904436771  0.71524911760719\n",
       "4    -182.17821782178217  0.7054861011548819  0.7203392493978681  0.715889595155641\n",
       "...  ...                  ...                 ...                 ...\n",
       "96   182.17821782178217   0.7054861011548819  0.7203392493978681  0.715889595155641\n",
       "97   186.13861386138612   0.706056327503454   0.7209633904436771  0.71524911760719\n",
       "98   190.0990099009901    0.7066207567176711  0.7215500645948397  0.7145994661562005\n",
       "99   194.05940594059408   0.7071727396188972  0.7220997362669332  0.7139522501237029\n",
       "100  198.01980198019803   0.7077069188540818  0.7226139139976796  0.7133188364188764"
      ]
     },
     "execution_count": 95,
     "metadata": {},
     "output_type": "execute_result"
    }
   ],
   "source": [
    "df = vaex.from_arrays(z=z, A=compz[0], F=compz[1], G=compz[2])\n",
    "df"
   ]
  },
  {
   "cell_type": "code",
   "execution_count": 96,
   "metadata": {},
   "outputs": [
    {
     "name": "stdout",
     "output_type": "stream",
     "text": [
      "export(hdf5) [########################################] 100.00% elapsed time  :     0.06s =  0.0m =  0.0h\n",
      " "
     ]
    }
   ],
   "source": [
    "df.export(join(data_dir, \"comp-new.hdf5\"), progress=True)"
   ]
  }
 ],
 "metadata": {
  "kernelspec": {
   "display_name": "Python 3.9.7 ('vaex2')",
   "language": "python",
   "name": "python3"
  },
  "language_info": {
   "codemirror_mode": {
    "name": "ipython",
    "version": 3
   },
   "file_extension": ".py",
   "mimetype": "text/x-python",
   "name": "python",
   "nbconvert_exporter": "python",
   "pygments_lexer": "ipython3",
   "version": "3.9.7"
  },
  "orig_nbformat": 4,
  "vscode": {
   "interpreter": {
    "hash": "ce24ca8aae0c18c4327bef86187bd310e85b0b68e0fbab549c3fc8d824c6eee6"
   }
  }
 },
 "nbformat": 4,
 "nbformat_minor": 2
}
