{
 "cells": [
  {
   "cell_type": "code",
   "execution_count": 1,
   "metadata": {},
   "outputs": [],
   "source": [
    "import vaex\n",
    "import numpy as np\n",
    "from matplotlib import pyplot as plt\n",
    "import pandas as pd\n",
    "from glob import glob\n",
    "from os.path import join, abspath\n",
    "from os import pardir, curdir, mkdir\n",
    "import sys\n",
    "import healpy as hp\n",
    "from scipy import interpolate"
   ]
  },
  {
   "cell_type": "code",
   "execution_count": 2,
   "metadata": {},
   "outputs": [],
   "source": [
    "root_data_dir = abspath(join(pardir, \"Data\"))\n",
    "comp_dir = join(root_data_dir, \"Completeness\")"
   ]
  },
  {
   "cell_type": "code",
   "execution_count": 3,
   "metadata": {},
   "outputs": [
    {
     "name": "stdout",
     "output_type": "stream",
     "text": [
      "Directory already exist. Good to go!\n"
     ]
    }
   ],
   "source": [
    "name = \"Effective-Volume\"\n",
    "data_dir = join(root_data_dir, name)\n",
    "try:\n",
    "  mkdir(data_dir)\n",
    "  print(f\"Creating {name} dir in Data dir\")\n",
    "except FileExistsError:\n",
    "  print(\"Directory already exist. Good to go!\")"
   ]
  },
  {
   "cell_type": "code",
   "execution_count": 4,
   "metadata": {},
   "outputs": [
    {
     "data": {
      "text/html": [
       "<table>\n",
       "<thead>\n",
       "<tr><th>#                                </th><th>index  </th><th>comp                  </th><th>dm                 </th></tr>\n",
       "</thead>\n",
       "<tbody>\n",
       "<tr><td><i style='opacity: 0.6'>0</i>    </td><td>0      </td><td>-5.353125429564271e-22</td><td>-2.0               </td></tr>\n",
       "<tr><td><i style='opacity: 0.6'>1</i>    </td><td>0      </td><td>-5.353125429564271e-22</td><td>-1.8585858585858586</td></tr>\n",
       "<tr><td><i style='opacity: 0.6'>2</i>    </td><td>0      </td><td>-5.353125429564271e-22</td><td>-1.7171717171717171</td></tr>\n",
       "<tr><td><i style='opacity: 0.6'>3</i>    </td><td>0      </td><td>-5.353125429564271e-22</td><td>-1.5757575757575757</td></tr>\n",
       "<tr><td><i style='opacity: 0.6'>4</i>    </td><td>0      </td><td>-5.353125429564271e-22</td><td>-1.4343434343434343</td></tr>\n",
       "<tr><td>...                              </td><td>...    </td><td>...                   </td><td>...                </td></tr>\n",
       "<tr><td><i style='opacity: 0.6'>4,795</i></td><td>47     </td><td>0.9166514371672921    </td><td>11.434343434343434 </td></tr>\n",
       "<tr><td><i style='opacity: 0.6'>4,796</i></td><td>47     </td><td>0.9166514371672921    </td><td>11.575757575757574 </td></tr>\n",
       "<tr><td><i style='opacity: 0.6'>4,797</i></td><td>47     </td><td>0.9166514371672921    </td><td>11.717171717171716 </td></tr>\n",
       "<tr><td><i style='opacity: 0.6'>4,798</i></td><td>47     </td><td>0.9166514371672921    </td><td>11.858585858585858 </td></tr>\n",
       "<tr><td><i style='opacity: 0.6'>4,799</i></td><td>47     </td><td>0.9166514371672921    </td><td>12.0               </td></tr>\n",
       "</tbody>\n",
       "</table>"
      ],
      "text/plain": [
       "#      index    comp                    dm\n",
       "0      0        -5.353125429564271e-22  -2.0\n",
       "1      0        -5.353125429564271e-22  -1.8585858585858586\n",
       "2      0        -5.353125429564271e-22  -1.7171717171717171\n",
       "3      0        -5.353125429564271e-22  -1.5757575757575757\n",
       "4      0        -5.353125429564271e-22  -1.4343434343434343\n",
       "...    ...      ...                     ...\n",
       "4,795  47       0.9166514371672921      11.434343434343434\n",
       "4,796  47       0.9166514371672921      11.575757575757574\n",
       "4,797  47       0.9166514371672921      11.717171717171716\n",
       "4,798  47       0.9166514371672921      11.858585858585858\n",
       "4,799  47       0.9166514371672921      12.0"
      ]
     },
     "execution_count": 4,
     "metadata": {},
     "output_type": "execute_result"
    }
   ],
   "source": [
    "comp_A = vaex.open(join(comp_dir, \"comp-A.hdf5\"))\n",
    "comp_F = vaex.open(join(comp_dir, \"comp-F.hdf5\"))\n",
    "comp_G = vaex.open(join(comp_dir, \"comp-G.hdf5\"))\n",
    "comp_G"
   ]
  },
  {
   "cell_type": "code",
   "execution_count": 5,
   "metadata": {},
   "outputs": [
    {
     "data": {
      "text/html": [
       "<table>\n",
       "<thead>\n",
       "<tr><th>#                                </th><th>index  </th><th>comp                  </th><th>dm                 </th><th>distance            </th></tr>\n",
       "</thead>\n",
       "<tbody>\n",
       "<tr><td><i style='opacity: 0.6'>0</i>    </td><td>0      </td><td>-5.353125429564271e-22</td><td>-2.0               </td><td>0.003981071705534973</td></tr>\n",
       "<tr><td><i style='opacity: 0.6'>1</i>    </td><td>0      </td><td>-5.353125429564271e-22</td><td>-1.8585858585858586</td><td>0.004248961816344008</td></tr>\n",
       "<tr><td><i style='opacity: 0.6'>2</i>    </td><td>0      </td><td>-5.353125429564271e-22</td><td>-1.7171717171717171</td><td>0.004534878508128582</td></tr>\n",
       "<tr><td><i style='opacity: 0.6'>3</i>    </td><td>0      </td><td>-5.353125429564271e-22</td><td>-1.5757575757575757</td><td>0.004840034806709947</td></tr>\n",
       "<tr><td><i style='opacity: 0.6'>4</i>    </td><td>0      </td><td>-5.353125429564271e-22</td><td>-1.4343434343434343</td><td>0.005165725363573423</td></tr>\n",
       "<tr><td>...                              </td><td>...    </td><td>...                   </td><td>...                </td><td>...                 </td></tr>\n",
       "<tr><td><i style='opacity: 0.6'>4,795</i></td><td>47     </td><td>0.9166514371672921    </td><td>11.434343434343434 </td><td>1.9358365565687827  </td></tr>\n",
       "<tr><td><i style='opacity: 0.6'>4,796</i></td><td>47     </td><td>0.9166514371672921    </td><td>11.575757575757574 </td><td>2.0661008441791697  </td></tr>\n",
       "<tr><td><i style='opacity: 0.6'>4,797</i></td><td>47     </td><td>0.9166514371672921    </td><td>11.717171717171716 </td><td>2.2051307399030446  </td></tr>\n",
       "<tr><td><i style='opacity: 0.6'>4,798</i></td><td>47     </td><td>0.9166514371672921    </td><td>11.858585858585858 </td><td>2.3535160898679104  </td></tr>\n",
       "<tr><td><i style='opacity: 0.6'>4,799</i></td><td>47     </td><td>0.9166514371672921    </td><td>12.0               </td><td>2.51188643150958    </td></tr>\n",
       "</tbody>\n",
       "</table>"
      ],
      "text/plain": [
       "#      index    comp                    dm                   distance\n",
       "0      0        -5.353125429564271e-22  -2.0                 0.003981071705534973\n",
       "1      0        -5.353125429564271e-22  -1.8585858585858586  0.004248961816344008\n",
       "2      0        -5.353125429564271e-22  -1.7171717171717171  0.004534878508128582\n",
       "3      0        -5.353125429564271e-22  -1.5757575757575757  0.004840034806709947\n",
       "4      0        -5.353125429564271e-22  -1.4343434343434343  0.005165725363573423\n",
       "...    ...      ...                     ...                  ...\n",
       "4,795  47       0.9166514371672921      11.434343434343434   1.9358365565687827\n",
       "4,796  47       0.9166514371672921      11.575757575757574   2.0661008441791697\n",
       "4,797  47       0.9166514371672921      11.717171717171716   2.2051307399030446\n",
       "4,798  47       0.9166514371672921      11.858585858585858   2.3535160898679104\n",
       "4,799  47       0.9166514371672921      12.0                 2.51188643150958"
      ]
     },
     "execution_count": 5,
     "metadata": {},
     "output_type": "execute_result"
    }
   ],
   "source": [
    "# add distance column in kpc\n",
    "distance = np.power(10, (comp_A.dm.to_numpy()-10)/5)\n",
    "comp_A[\"distance\"] = distance\n",
    "distance = np.power(10, (comp_F.dm.to_numpy()-10)/5)\n",
    "comp_F[\"distance\"] = distance\n",
    "distance = np.power(10, (comp_G.dm.to_numpy()-10)/5)\n",
    "comp_G[\"distance\"] = distance\n",
    "comp_G"
   ]
  },
  {
   "cell_type": "code",
   "execution_count": 6,
   "metadata": {},
   "outputs": [
    {
     "data": {
      "text/plain": [
       "[#      index    comp                    dm                   distance\n",
       " 0      0        2.2809704437388014e-20  -2.0                 0.003981071705534973\n",
       " 1      0        2.2809704437388014e-20  -1.8585858585858586  0.004248961816344008\n",
       " 2      0        2.2809704437388014e-20  -1.7171717171717171  0.004534878508128582\n",
       " 3      0        2.2809704437388014e-20  -1.5757575757575757  0.004840034806709947\n",
       " 4      0        2.2809704437388014e-20  -1.4343434343434343  0.005165725363573423\n",
       " ...    ...      ...                     ...                  ...\n",
       " 4,795  47       0.7951043773921733      11.434343434343434   1.9358365565687827\n",
       " 4,796  47       0.800424204618738       11.575757575757574   2.0661008441791697\n",
       " 4,797  47       0.8006826537812374      11.717171717171716   2.2051307399030446\n",
       " 4,798  47       0.7982761329001654      11.858585858585858   2.3535160898679104\n",
       " 4,799  47       0.794752348382697       12.0                 2.51188643150958,\n",
       " #      index    comp                   dm                   distance\n",
       " 0      0        3.587993323032883e-20  -2.0                 0.003981071705534973\n",
       " 1      0        3.587993323032883e-20  -1.8585858585858586  0.004248961816344008\n",
       " 2      0        3.587993323032883e-20  -1.7171717171717171  0.004534878508128582\n",
       " 3      0        3.587993323032883e-20  -1.5757575757575757  0.004840034806709947\n",
       " 4      0        3.587993323032883e-20  -1.4343434343434343  0.005165725363573423\n",
       " ...    ...      ...                    ...                  ...\n",
       " 4,795  47       0.848622933714598      11.434343434343434   1.9358365565687827\n",
       " 4,796  47       0.8474402182393225     11.575757575757574   2.0661008441791697\n",
       " 4,797  47       0.845184389938608      11.717171717171716   2.2051307399030446\n",
       " 4,798  47       0.8430945042786727     11.858585858585858   2.3535160898679104\n",
       " 4,799  47       0.8425713490179649     12.0                 2.51188643150958,\n",
       " #      index    comp                    dm                   distance\n",
       " 0      0        -5.353125429564271e-22  -2.0                 0.003981071705534973\n",
       " 1      0        -5.353125429564271e-22  -1.8585858585858586  0.004248961816344008\n",
       " 2      0        -5.353125429564271e-22  -1.7171717171717171  0.004534878508128582\n",
       " 3      0        -5.353125429564271e-22  -1.5757575757575757  0.004840034806709947\n",
       " 4      0        -5.353125429564271e-22  -1.4343434343434343  0.005165725363573423\n",
       " ...    ...      ...                     ...                  ...\n",
       " 4,795  47       0.9166514371672921      11.434343434343434   1.9358365565687827\n",
       " 4,796  47       0.9166514371672921      11.575757575757574   2.0661008441791697\n",
       " 4,797  47       0.9166514371672921      11.717171717171716   2.2051307399030446\n",
       " 4,798  47       0.9166514371672921      11.858585858585858   2.3535160898679104\n",
       " 4,799  47       0.9166514371672921      12.0                 2.51188643150958]"
      ]
     },
     "execution_count": 6,
     "metadata": {},
     "output_type": "execute_result"
    }
   ],
   "source": [
    "comp = [comp_A, comp_F, comp_G]\n",
    "comp"
   ]
  },
  {
   "cell_type": "code",
   "execution_count": 7,
   "metadata": {},
   "outputs": [],
   "source": [
    "# create function that gives completeness given GLAN, GLON, and distance\n",
    "import healpy as hp\n",
    "from scipy import interpolate\n",
    "# healpix config\n",
    "LEVEL = 1\n",
    "NSIDE = 2**LEVEL\n",
    "NPIX = hp.nside2npix(NSIDE)\n",
    "# GLAN, GLON in rad\n",
    "# 0 = A, 1 = F, 2 = G\n",
    "comp_index = []\n",
    "for j in range(3):\n",
    "  func = []\n",
    "  for i in range(NPIX):\n",
    "    comp_i = comp[j][comp[j][\"index\"] == i]\n",
    "    comp_i\n",
    "    f = interpolate.interp1d(comp_i[\"distance\"].to_numpy(), comp_i[\"comp\"].to_numpy(), kind=\"cubic\")\n",
    "    func.append(f)\n",
    "  comp_index.append(func)\n"
   ]
  },
  {
   "cell_type": "code",
   "execution_count": 8,
   "metadata": {},
   "outputs": [],
   "source": [
    "# GLAT, GLON in rad, spec=0 for A, 1 for F, and 2 for G, distance in kpc\n",
    "def completeness(GLAT, GLON, distance, spec):\n",
    "  if isinstance(GLAT, (np.ndarray, list)) and isinstance(GLON, (np.ndarray,list)) and isinstance(distance, (np.ndarray, list)):\n",
    "    if len(GLAT) != len(GLON) != len(distance):\n",
    "      raise TypeError(\"GLAN, GLON, and/or distance dimension don't match\")\n",
    "    result = np.array(list(map(lambda x: completeness(x[0], x[1], x[2], spec), zip(GLAT, GLON, distance))))\n",
    "    return result\n",
    "  elif isinstance(GLAT, (int, float)) and isinstance(GLON, (int, float)) and isinstance(distance, (int, float)):\n",
    "    phi = GLON\n",
    "    theta = np.pi/2 - GLAT\n",
    "    index = hp.ang2pix(NSIDE, theta=theta, phi=phi).astype(int)\n",
    "    f = comp_index[spec][index]\n",
    "    try:\n",
    "      result = f(distance)\n",
    "    except ValueError:\n",
    "      result = 0\n",
    "    if result > 1:\n",
    "      return 1\n",
    "    elif result <0:\n",
    "      return 0\n",
    "    return result\n",
    "  else:\n",
    "    raise TypeError(\"input error\")"
   ]
  },
  {
   "cell_type": "code",
   "execution_count": 9,
   "metadata": {},
   "outputs": [],
   "source": [
    "Z = 0.2\n",
    "R = 0.15"
   ]
  },
  {
   "cell_type": "code",
   "execution_count": 10,
   "metadata": {},
   "outputs": [],
   "source": [
    "# divide space into small tube with rings\n",
    "ez = np.linspace(-Z, Z, 102) #edges\n",
    "er = np.linspace(0.05, R, 102)\n",
    "ephi = np.linspace(0, np.pi*2, 102)\n",
    "z = (ez[:-1]+ez[1:])/2\n",
    "r = (er[:-1]+er[1:])/2\n",
    "phi = (ephi[:-1]+ephi[1:])/2"
   ]
  },
  {
   "cell_type": "code",
   "execution_count": 11,
   "metadata": {},
   "outputs": [
    {
     "name": "stdout",
     "output_type": "stream",
     "text": [
      "0 -0.19801980198019803 | 1 -0.19405940594059407 | 2 -0.1900990099009901 | 3 -0.18613861386138614 | 4 -0.18217821782178217 | 5 -0.17821782178217824 | 6 -0.17425742574257427 | 7 -0.1702970297029703 | 8 -0.16633663366336635 | 9 -0.16237623762376238 | 10 -0.15841584158415845 | 11 -0.15445544554455448 | 12 -0.15049504950495052 | 13 -0.14653465346534655 | 14 -0.1425742574257426 | 15 -0.13861386138613863 | 16 -0.13465346534653466 | 17 -0.1306930693069307 | 18 -0.12673267326732673 | 19 -0.12277227722772278 | 20 -0.11881188118811882 | 21 -0.11485148514851487 | 22 -0.1108910891089109 | 23 -0.10693069306930694 | 24 -0.10297029702970298 | 25 -0.09900990099009901 | 26 -0.09504950495049505 | 27 -0.0910891089108911 | 28 -0.08712871287128714 | 29 -0.08316831683168319 | 30 -0.07920792079207922 | 31 -0.07524752475247526 | 32 -0.0712871287128713 | 33 -0.06732673267326733 | 34 -0.06336633663366337 | 35 -0.0594059405940594 | 36 -0.05544554455445545 | 37 -0.0514851485148515 | 38 -0.04752475247524754 | 39 -0.043564356435643575 | 40 -0.03960396039603961 | 41 -0.03564356435643565 | 42 -0.031683168316831684 | 43 -0.027722772277227734 | 44 -0.023762376237623783 | 45 -0.01980198019801982 | 46 -0.015841584158415856 | 47 -0.011881188118811892 | 48 -0.007920792079207928 | 49 -0.003960396039603964 | 50 0.0 | 51 0.003960396039603964 | 52 0.007920792079207914 | 53 0.011881188118811864 | 54 0.015841584158415828 | 55 0.019801980198019792 | 56 0.023762376237623756 | 57 0.02772277227722772 | 58 0.031683168316831684 | 59 0.035643564356435634 | 60 0.039603960396039584 | 61 0.04356435643564355 | 62 0.04752475247524751 | 63 0.051485148514851475 | 64 0.05544554455445544 | 65 0.0594059405940594 | 66 0.06336633663366337 | 67 0.06732673267326733 | 68 0.0712871287128713 | 69 0.07524752475247526 | 70 0.07920792079207922 | 71 0.08316831683168319 | 72 0.08712871287128712 | 73 0.09108910891089106 | 74 0.09504950495049502 | 75 0.09900990099009899 | 76 0.10297029702970295 | 77 0.10693069306930691 | 78 0.11089108910891088 | 79 0.11485148514851484 | 80 0.1188118811881188 | 81 0.12277227722772277 | 82 0.12673267326732673 | 83 0.1306930693069307 | 84 0.13465346534653466 | 85 0.13861386138613863 | 86 0.1425742574257426 | 87 0.14653465346534653 | 88 0.15049504950495046 | 89 0.15445544554455443 | 90 0.1584158415841584 | 91 0.16237623762376235 | 92 0.16633663366336632 | 93 0.17029702970297028 | 94 0.17425742574257425 | 95 0.1782178217821782 | 96 0.18217821782178217 | 97 0.18613861386138614 | 98 0.1900990099009901 | 99 0.19405940594059407 | 100 0.19801980198019803 | "
     ]
    }
   ],
   "source": [
    "# volume like a slice of pie\n",
    "# Vol = base*heigh = dphi/2*(r1^2-r0^2)*dz\n",
    "# for A for 1st index, F 2nd, G 3rd\n",
    "vol = np.empty((3, len(z), len(r), len(phi)))\n",
    "real_vol = np.empty((len(z), len(r), len(phi)))\n",
    "dphi = ephi[1]-ephi[0]\n",
    "dz = ez[1]-ez[0]\n",
    "\n",
    "for i, zz in enumerate(z):\n",
    "  print(i, zz, end=\" | \")\n",
    "  for j, (rr, r_in, r_out) in enumerate(zip(r, er[:-1], er[1:])):\n",
    "    v = dphi/2*(r_out**2-r_in**2)*dz*np.ones_like(phi)\n",
    "    glat = np.arctan(zz/rr)*np.ones_like(phi)\n",
    "    glon = phi\n",
    "    distance =np.sqrt(rr**2+zz**2)*np.ones_like(phi)\n",
    "    c = np.empty((3, len(phi)))\n",
    "    for k in range(3):\n",
    "      c[k] = completeness(glat, glon, distance, k)\n",
    "      vol[k, i, j] = v*c[k]\n",
    "    real_vol[i, j] = v\n"
   ]
  },
  {
   "cell_type": "code",
   "execution_count": 12,
   "metadata": {},
   "outputs": [],
   "source": [
    "vz = [np.sum(vol[k], axis=(1, 2)) for k in range(3)]\n",
    "real_vz = np.sum(real_vol, axis=(1, 2))"
   ]
  },
  {
   "cell_type": "code",
   "execution_count": 13,
   "metadata": {},
   "outputs": [],
   "source": [
    "compz = [vz[i]/real_vz for i in range(3)]"
   ]
  },
  {
   "cell_type": "code",
   "execution_count": 14,
   "metadata": {},
   "outputs": [
    {
     "data": {
      "text/plain": [
       "<matplotlib.legend.Legend at 0x7f61fc3bff70>"
      ]
     },
     "execution_count": 14,
     "metadata": {},
     "output_type": "execute_result"
    },
    {
     "data": {
      "image/png": "[encoded data removed]",
      "text/plain": [
       "<Figure size 720x576 with 1 Axes>"
      ]
     },
     "metadata": {
      "needs_background": "light"
     },
     "output_type": "display_data"
    }
   ],
   "source": [
    "plt.figure(figsize=(10,8))\n",
    "for i in range(3):\n",
    "  plt.plot(z, compz[i], label=i)\n",
    "plt.ylim(0,1)\n",
    "plt.xlim(-0.2, 0.2)\n",
    "plt.grid(alpha=0.5)\n",
    "plt.legend()"
   ]
  },
  {
   "cell_type": "code",
   "execution_count": 15,
   "metadata": {},
   "outputs": [
    {
     "data": {
      "text/html": [
       "<table>\n",
       "<thead>\n",
       "<tr><th>#                              </th><th>z                   </th><th>A                 </th><th>F                 </th><th>G                 </th></tr>\n",
       "</thead>\n",
       "<tbody>\n",
       "<tr><td><i style='opacity: 0.6'>0</i>  </td><td>-0.19801980198019803</td><td>0.7677893426912735</td><td>0.7735827856725662</td><td>0.7823463453140498</td></tr>\n",
       "<tr><td><i style='opacity: 0.6'>1</i>  </td><td>-0.19405940594059407</td><td>0.7670581562585297</td><td>0.7725295020546555</td><td>0.7818008946639574</td></tr>\n",
       "<tr><td><i style='opacity: 0.6'>2</i>  </td><td>-0.1900990099009901 </td><td>0.766298364035768 </td><td>0.7714972728354723</td><td>0.7812180887730895</td></tr>\n",
       "<tr><td><i style='opacity: 0.6'>3</i>  </td><td>-0.18613861386138614</td><td>0.7654170978519989</td><td>0.7703909400133339</td><td>0.7805657785047222</td></tr>\n",
       "<tr><td><i style='opacity: 0.6'>4</i>  </td><td>-0.18217821782178217</td><td>0.7647064139189642</td><td>0.7693256269248172</td><td>0.7799250574554965</td></tr>\n",
       "<tr><td>...                            </td><td>...                 </td><td>...               </td><td>...               </td><td>...               </td></tr>\n",
       "<tr><td><i style='opacity: 0.6'>96</i> </td><td>0.18217821782178217 </td><td>0.7220503801884789</td><td>0.7334852946037176</td><td>0.7283756864435706</td></tr>\n",
       "<tr><td><i style='opacity: 0.6'>97</i> </td><td>0.18613861386138614 </td><td>0.7232744640742799</td><td>0.7341471908953653</td><td>0.7290475308372034</td></tr>\n",
       "<tr><td><i style='opacity: 0.6'>98</i> </td><td>0.1900990099009901  </td><td>0.724664499123737 </td><td>0.7348779243448321</td><td>0.7297971558416689</td></tr>\n",
       "<tr><td><i style='opacity: 0.6'>99</i> </td><td>0.19405940594059407 </td><td>0.7261678511289362</td><td>0.7355984692291332</td><td>0.7306101954525964</td></tr>\n",
       "<tr><td><i style='opacity: 0.6'>100</i></td><td>0.19801980198019803 </td><td>0.7276986904657148</td><td>0.7363733548649232</td><td>0.7314544033101249</td></tr>\n",
       "</tbody>\n",
       "</table>"
      ],
      "text/plain": [
       "#    z                     A                   F                   G\n",
       "0    -0.19801980198019803  0.7677893426912735  0.7735827856725662  0.7823463453140498\n",
       "1    -0.19405940594059407  0.7670581562585297  0.7725295020546555  0.7818008946639574\n",
       "2    -0.1900990099009901   0.766298364035768   0.7714972728354723  0.7812180887730895\n",
       "3    -0.18613861386138614  0.7654170978519989  0.7703909400133339  0.7805657785047222\n",
       "4    -0.18217821782178217  0.7647064139189642  0.7693256269248172  0.7799250574554965\n",
       "...  ...                   ...                 ...                 ...\n",
       "96   0.18217821782178217   0.7220503801884789  0.7334852946037176  0.7283756864435706\n",
       "97   0.18613861386138614   0.7232744640742799  0.7341471908953653  0.7290475308372034\n",
       "98   0.1900990099009901    0.724664499123737   0.7348779243448321  0.7297971558416689\n",
       "99   0.19405940594059407   0.7261678511289362  0.7355984692291332  0.7306101954525964\n",
       "100  0.19801980198019803   0.7276986904657148  0.7363733548649232  0.7314544033101249"
      ]
     },
     "execution_count": 15,
     "metadata": {},
     "output_type": "execute_result"
    }
   ],
   "source": [
    "df = vaex.from_arrays(z=z, A=compz[0], F=compz[1], G=compz[2])\n",
    "df"
   ]
  },
  {
   "cell_type": "code",
   "execution_count": 16,
   "metadata": {},
   "outputs": [
    {
     "name": "stdout",
     "output_type": "stream",
     "text": [
      "export(hdf5) [########################################] 100.00% elapsed time  :     0.13s =  0.0m =  0.0h\n",
      " "
     ]
    }
   ],
   "source": [
    "df.export(join(data_dir, \"comp-2.hdf5\"), progress=True)"
   ]
  }
 ],
 "metadata": {
  "kernelspec": {
   "display_name": "Python 3.9.7 ('vaex2')",
   "language": "python",
   "name": "python3"
  },
  "language_info": {
   "codemirror_mode": {
    "name": "ipython",
    "version": 3
   },
   "file_extension": ".py",
   "mimetype": "text/x-python",
   "name": "python",
   "nbconvert_exporter": "python",
   "pygments_lexer": "ipython3",
   "version": "3.9.7"
  },
  "orig_nbformat": 4,
  "vscode": {
   "interpreter": {
    "hash": "ce24ca8aae0c18c4327bef86187bd310e85b0b68e0fbab549c3fc8d824c6eee6"
   }
  }
 },
 "nbformat": 4,
 "nbformat_minor": 2
}
