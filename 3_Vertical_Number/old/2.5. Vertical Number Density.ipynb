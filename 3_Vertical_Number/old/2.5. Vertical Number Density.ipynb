{
 "cells": [
  {
   "cell_type": "code",
   "execution_count": 1,
   "metadata": {},
   "outputs": [],
   "source": [
    "import vaex\n",
    "import numpy as np\n",
    "from matplotlib import pyplot as plt\n",
    "import pandas as pd\n",
    "from scipy.interpolate import interp1d\n",
    "from glob import glob\n",
    "from os.path import join, abspath\n",
    "from os import pardir, curdir, mkdir\n",
    "import sys"
   ]
  },
  {
   "cell_type": "code",
   "execution_count": 2,
   "metadata": {},
   "outputs": [],
   "source": [
    "root_data_dir = abspath(join(pardir, \"Data\"))\n",
    "comp_dir = join(root_data_dir, \"Effective-Volume\")\n",
    "spec_dir = join(root_data_dir, \"Spectral-Class\")"
   ]
  },
  {
   "cell_type": "code",
   "execution_count": 3,
   "metadata": {},
   "outputs": [],
   "source": [
    "a_type = vaex.open(join(spec_dir, \"A-type.hdf5\"))\n",
    "f_type = vaex.open(join(spec_dir, \"F-type.hdf5\"))\n",
    "g_type = vaex.open(join(spec_dir, \"G-type.hdf5\"))"
   ]
  },
  {
   "cell_type": "code",
   "execution_count": 4,
   "metadata": {},
   "outputs": [
    {
     "data": {
      "text/html": [
       "<table>\n",
       "<thead>\n",
       "<tr><th>#                                </th><th>parallax  </th><th>e_parallax  </th><th>Jmag  </th><th>Kmag  </th><th>spectraltype_esphs  </th><th>GLON              </th><th>GLAT                </th><th>J-K         </th><th>M_J               </th><th>Dist              </th><th>z                  </th><th>r                 </th><th>M_J_upper          </th><th>M_J_lower         </th></tr>\n",
       "</thead>\n",
       "<tbody>\n",
       "<tr><td><i style='opacity: 0.6'>0</i>    </td><td>5.9392    </td><td>0.0439      </td><td>6.778 </td><td>6.789 </td><td>A                   </td><td>0.1412982093861118</td><td>1.074330975824934   </td><td>-0.011000156</td><td>0.6466396289434337</td><td>168.37284482758622</td><td>148.04547367264996 </td><td>80.19945511270718 </td><td>0.06500256027271278</td><td>1.2772750547933753</td></tr>\n",
       "<tr><td><i style='opacity: 0.6'>1</i>    </td><td>8.8279    </td><td>0.0362      </td><td>5.756 </td><td>5.756 </td><td>A                   </td><td>1.6435504519431232</td><td>0.9900832726717229  </td><td>0.0         </td><td>0.4852870667125613</td><td>113.27722334870128</td><td>94.70787690984973  </td><td>62.146177523805186</td><td>0.18703286814037368</td><td>1.3882116983094308</td></tr>\n",
       "<tr><td><i style='opacity: 0.6'>2</i>    </td><td>7.3541    </td><td>0.0217      </td><td>7.674 </td><td>7.547 </td><td>A                   </td><td>4.124381132424658 </td><td>-0.5817652501900104 </td><td>0.12699986  </td><td>2.0066474416131834</td><td>135.9785697774031 </td><td>-74.72017623176018 </td><td>113.60927208024346</td><td>1.1846460905725174 </td><td>2.2951328096113794</td></tr>\n",
       "<tr><td><i style='opacity: 0.6'>3</i>    </td><td>6.6259    </td><td>0.0287      </td><td>7.164 </td><td>7.034 </td><td>A                   </td><td>3.51312435979722  </td><td>-0.3541599117890833 </td><td>0.13000011  </td><td>1.2702244198193657</td><td>150.92289349371407</td><td>-52.34044234165063 </td><td>141.55634170179485</td><td>1.1999704839358463 </td><td>2.3090640763053147</td></tr>\n",
       "<tr><td><i style='opacity: 0.6'>4</i>    </td><td>9.6497    </td><td>0.0383      </td><td>6.991 </td><td>6.88  </td><td>A                   </td><td>3.3763567905059992</td><td>-0.278211536298417  </td><td>0.11100006  </td><td>1.9135692342313995</td><td>103.63016466833166</td><td>-28.460614810613947</td><td>99.64539343987457 </td><td>1.1107089604377152 </td><td>2.2279172367615594</td></tr>\n",
       "<tr><td>...                              </td><td>...       </td><td>...         </td><td>...   </td><td>...   </td><td>...                 </td><td>...               </td><td>...                 </td><td>...         </td><td>...               </td><td>...               </td><td>...                </td><td>...               </td><td>...                </td><td>...               </td></tr>\n",
       "<tr><td><i style='opacity: 0.6'>2,455</i></td><td>5.1248    </td><td>0.0464      </td><td>7.763 </td><td>7.752 </td><td>A                   </td><td>3.271555097327552 </td><td>-1.1790599624229767 </td><td>0.011000156 </td><td>1.3113846180428244</td><td>195.12956603184517</td><td>-180.3480175398584 </td><td>74.4992624743302  </td><td>0.315939221709695  </td><td>1.505399292463359 </td></tr>\n",
       "<tr><td><i style='opacity: 0.6'>2,456</i></td><td>6.3831    </td><td>0.025       </td><td>7.575 </td><td>7.514 </td><td>A                   </td><td>3.1330449980711492</td><td>-1.1387173122532164 </td><td>0.06099987  </td><td>1.6001580507686972</td><td>156.6636900565556 </td><td>-142.26584346597846</td><td>65.60443251069418 </td><td>0.9404121409348115 </td><td>2.0731019463043743</td></tr>\n",
       "<tr><td><i style='opacity: 0.6'>2,457</i></td><td>4.6508    </td><td>0.0307      </td><td>7.699 </td><td>7.621 </td><td>A                   </td><td>2.663338560115363 </td><td>-0.798770749250566  </td><td>0.07800007  </td><td>1.0366382007124533</td><td>215.01677130816202</td><td>-154.05932783339614</td><td>149.99311801315625</td><td>0.9929802690668323 </td><td>2.1208911536971202</td></tr>\n",
       "<tr><td><i style='opacity: 0.6'>2,458</i></td><td>6.9438    </td><td>0.0279      </td><td>7.567 </td><td>7.467 </td><td>A                   </td><td>2.474581541477357 </td><td>-0.4425509786959161 </td><td>0.099999905 </td><td>1.7749859297953465</td><td>144.01336444022004</td><td>-61.673158628216086</td><td>130.13942770048794</td><td>1.0667779549534984 </td><td>2.187979959048635 </td></tr>\n",
       "<tr><td><i style='opacity: 0.6'>2,459</i></td><td>8.0034    </td><td>0.0408      </td><td>7.472 </td><td>7.342 </td><td>A                   </td><td>2.327457297577415 </td><td>-0.04206059081890578</td><td>0.13000011  </td><td>1.98837273674852  </td><td>124.94689756853339</td><td>-5.253790938550638 </td><td>124.83639250144797</td><td>1.1999704839358463 </td><td>2.3090640763053147</td></tr>\n",
       "</tbody>\n",
       "</table>"
      ],
      "text/plain": [
       "#      parallax    e_parallax    Jmag    Kmag    spectraltype_esphs    GLON                GLAT                  J-K           M_J                 Dist                z                    r                   M_J_upper            M_J_lower\n",
       "0      5.9392      0.0439        6.778   6.789   A                     0.1412982093861118  1.074330975824934     -0.011000156  0.6466396289434337  168.37284482758622  148.04547367264996   80.19945511270718   0.06500256027271278  1.2772750547933753\n",
       "1      8.8279      0.0362        5.756   5.756   A                     1.6435504519431232  0.9900832726717229    0.0           0.4852870667125613  113.27722334870128  94.70787690984973    62.146177523805186  0.18703286814037368  1.3882116983094308\n",
       "2      7.3541      0.0217        7.674   7.547   A                     4.124381132424658   -0.5817652501900104   0.12699986    2.0066474416131834  135.9785697774031   -74.72017623176018   113.60927208024346  1.1846460905725174   2.2951328096113794\n",
       "3      6.6259      0.0287        7.164   7.034   A                     3.51312435979722    -0.3541599117890833   0.13000011    1.2702244198193657  150.92289349371407  -52.34044234165063   141.55634170179485  1.1999704839358463   2.3090640763053147\n",
       "4      9.6497      0.0383        6.991   6.88    A                     3.3763567905059992  -0.278211536298417    0.11100006    1.9135692342313995  103.63016466833166  -28.460614810613947  99.64539343987457   1.1107089604377152   2.2279172367615594\n",
       "...    ...         ...           ...     ...     ...                   ...                 ...                   ...           ...                 ...                 ...                  ...                 ...                  ...\n",
       "2,455  5.1248      0.0464        7.763   7.752   A                     3.271555097327552   -1.1790599624229767   0.011000156   1.3113846180428244  195.12956603184517  -180.3480175398584   74.4992624743302    0.315939221709695    1.505399292463359\n",
       "2,456  6.3831      0.025         7.575   7.514   A                     3.1330449980711492  -1.1387173122532164   0.06099987    1.6001580507686972  156.6636900565556   -142.26584346597846  65.60443251069418   0.9404121409348115   2.0731019463043743\n",
       "2,457  4.6508      0.0307        7.699   7.621   A                     2.663338560115363   -0.798770749250566    0.07800007    1.0366382007124533  215.01677130816202  -154.05932783339614  149.99311801315625  0.9929802690668323   2.1208911536971202\n",
       "2,458  6.9438      0.0279        7.567   7.467   A                     2.474581541477357   -0.4425509786959161   0.099999905   1.7749859297953465  144.01336444022004  -61.673158628216086  130.13942770048794  1.0667779549534984   2.187979959048635\n",
       "2,459  8.0034      0.0408        7.472   7.342   A                     2.327457297577415   -0.04206059081890578  0.13000011    1.98837273674852    124.94689756853339  -5.253790938550638   124.83639250144797  1.1999704839358463   2.3090640763053147"
      ]
     },
     "execution_count": 4,
     "metadata": {},
     "output_type": "execute_result"
    }
   ],
   "source": [
    "a_type"
   ]
  },
  {
   "cell_type": "code",
   "execution_count": 5,
   "metadata": {},
   "outputs": [],
   "source": [
    "a_type[\"z\"] = a_type.evaluate(\"1000/parallax*sin(GLAT)\")\n",
    "f_type[\"z\"] = f_type.evaluate(\"1000/parallax*sin(GLAT)\")\n",
    "g_type[\"z\"] = g_type.evaluate(\"1000/parallax*sin(GLAT)\")\n",
    "\n",
    "a_type[\"r\"] = a_type.evaluate(\"1000/parallax*cos(GLAT)\")\n",
    "f_type[\"r\"] = f_type.evaluate(\"1000/parallax*cos(GLAT)\")\n",
    "g_type[\"r\"] = g_type.evaluate(\"1000/parallax*cos(GLAT)\")"
   ]
  },
  {
   "cell_type": "code",
   "execution_count": 21,
   "metadata": {},
   "outputs": [],
   "source": [
    "# a_type_filtered = a_type.filter(\"r > 0.05\")\n",
    "# a_type_filtered = a_type_filtered.extract()\n",
    "# f_type_filtered = f_type.filter(\"r > 0.05\")\n",
    "# f_type_filtered = f_type_filtered.extract()\n",
    "# g_type_filtered = g_type.filter(\"r > 0.05\")\n",
    "# g_type_filtered = g_type_filtered.extract()"
   ]
  },
  {
   "cell_type": "code",
   "execution_count": 6,
   "metadata": {},
   "outputs": [
    {
     "data": {
      "text/html": [
       "<table>\n",
       "<thead>\n",
       "<tr><th>#                              </th><th>z                  </th><th>A                 </th><th>F                 </th><th>G                 </th></tr>\n",
       "</thead>\n",
       "<tbody>\n",
       "<tr><td><i style='opacity: 0.6'>0</i>  </td><td>-198.01980198019803</td><td>0.7077069188540818</td><td>0.7226139139976796</td><td>0.7133188364188764</td></tr>\n",
       "<tr><td><i style='opacity: 0.6'>1</i>  </td><td>-194.05940594059405</td><td>0.7071727396188972</td><td>0.7220997362669332</td><td>0.713952250123703 </td></tr>\n",
       "<tr><td><i style='opacity: 0.6'>2</i>  </td><td>-190.0990099009901 </td><td>0.7066207567176711</td><td>0.7215500645948397</td><td>0.7145994661562005</td></tr>\n",
       "<tr><td><i style='opacity: 0.6'>3</i>  </td><td>-186.13861386138615</td><td>0.706056327503454 </td><td>0.7209633904436771</td><td>0.71524911760719  </td></tr>\n",
       "<tr><td><i style='opacity: 0.6'>4</i>  </td><td>-182.17821782178217</td><td>0.7054861011548819</td><td>0.7203392493978681</td><td>0.715889595155641 </td></tr>\n",
       "<tr><td>...                            </td><td>...                </td><td>...               </td><td>...               </td><td>...               </td></tr>\n",
       "<tr><td><i style='opacity: 0.6'>96</i> </td><td>182.17821782178217 </td><td>0.7054861011548819</td><td>0.7203392493978681</td><td>0.715889595155641 </td></tr>\n",
       "<tr><td><i style='opacity: 0.6'>97</i> </td><td>186.13861386138612 </td><td>0.706056327503454 </td><td>0.7209633904436771</td><td>0.71524911760719  </td></tr>\n",
       "<tr><td><i style='opacity: 0.6'>98</i> </td><td>190.0990099009901  </td><td>0.7066207567176711</td><td>0.7215500645948397</td><td>0.7145994661562005</td></tr>\n",
       "<tr><td><i style='opacity: 0.6'>99</i> </td><td>194.05940594059408 </td><td>0.7071727396188972</td><td>0.7220997362669332</td><td>0.7139522501237029</td></tr>\n",
       "<tr><td><i style='opacity: 0.6'>100</i></td><td>198.01980198019803 </td><td>0.7077069188540818</td><td>0.7226139139976796</td><td>0.7133188364188764</td></tr>\n",
       "</tbody>\n",
       "</table>"
      ],
      "text/plain": [
       "#    z                    A                   F                   G\n",
       "0    -198.01980198019803  0.7077069188540818  0.7226139139976796  0.7133188364188764\n",
       "1    -194.05940594059405  0.7071727396188972  0.7220997362669332  0.713952250123703\n",
       "2    -190.0990099009901   0.7066207567176711  0.7215500645948397  0.7145994661562005\n",
       "3    -186.13861386138615  0.706056327503454   0.7209633904436771  0.71524911760719\n",
       "4    -182.17821782178217  0.7054861011548819  0.7203392493978681  0.715889595155641\n",
       "...  ...                  ...                 ...                 ...\n",
       "96   182.17821782178217   0.7054861011548819  0.7203392493978681  0.715889595155641\n",
       "97   186.13861386138612   0.706056327503454   0.7209633904436771  0.71524911760719\n",
       "98   190.0990099009901    0.7066207567176711  0.7215500645948397  0.7145994661562005\n",
       "99   194.05940594059408   0.7071727396188972  0.7220997362669332  0.7139522501237029\n",
       "100  198.01980198019803   0.7077069188540818  0.7226139139976796  0.7133188364188764"
      ]
     },
     "execution_count": 6,
     "metadata": {},
     "output_type": "execute_result"
    }
   ],
   "source": [
    "eff = vaex.open(join(comp_dir, \"comp-new.hdf5\"))\n",
    "eff"
   ]
  },
  {
   "cell_type": "code",
   "execution_count": 7,
   "metadata": {},
   "outputs": [],
   "source": [
    "a_eff = interp1d(eff[\"z\"].to_numpy(), eff[\"A\"].to_numpy(), kind=\"cubic\")\n",
    "f_eff = interp1d(eff[\"z\"].to_numpy(), eff[\"F\"].to_numpy(), kind=\"cubic\")\n",
    "g_eff = interp1d(eff[\"z\"].to_numpy(), eff[\"G\"].to_numpy(), kind=\"cubic\")"
   ]
  },
  {
   "cell_type": "code",
   "execution_count": 8,
   "metadata": {},
   "outputs": [],
   "source": [
    "a_z = a_type[\"z\"].to_numpy()\n",
    "f_z = f_type[\"z\"].to_numpy()\n",
    "g_z = g_type[\"z\"].to_numpy()\n",
    "\n",
    "a_z = np.sort(a_z)\n",
    "f_z = np.sort(f_z)\n",
    "g_z = np.sort(g_z)"
   ]
  },
  {
   "cell_type": "code",
   "execution_count": 10,
   "metadata": {},
   "outputs": [
    {
     "data": {
      "text/html": [
       "<table>\n",
       "<thead>\n",
       "<tr><th>#                                </th><th>z                  </th><th>cdf                  </th></tr>\n",
       "</thead>\n",
       "<tbody>\n",
       "<tr><td><i style='opacity: 0.6'>0</i>    </td><td>-198.7936483598715 </td><td>0.0                  </td></tr>\n",
       "<tr><td><i style='opacity: 0.6'>1</i>    </td><td>-197.08594768445155</td><td>0.0004065040650406504</td></tr>\n",
       "<tr><td><i style='opacity: 0.6'>2</i>    </td><td>-195.25656666234275</td><td>0.0008130081300813008</td></tr>\n",
       "<tr><td><i style='opacity: 0.6'>3</i>    </td><td>-194.24220889141583</td><td>0.0012195121951219512</td></tr>\n",
       "<tr><td><i style='opacity: 0.6'>4</i>    </td><td>-193.05737623020158</td><td>0.0016260162601626016</td></tr>\n",
       "<tr><td>...                              </td><td>...                </td><td>...                  </td></tr>\n",
       "<tr><td><i style='opacity: 0.6'>2,455</i></td><td>196.74364551227794 </td><td>0.9979674796747967   </td></tr>\n",
       "<tr><td><i style='opacity: 0.6'>2,456</i></td><td>197.64752592878648 </td><td>0.9983739837398374   </td></tr>\n",
       "<tr><td><i style='opacity: 0.6'>2,457</i></td><td>198.12660359510932 </td><td>0.998780487804878    </td></tr>\n",
       "<tr><td><i style='opacity: 0.6'>2,458</i></td><td>198.4093245532986  </td><td>0.9991869918699187   </td></tr>\n",
       "<tr><td><i style='opacity: 0.6'>2,459</i></td><td>198.69353862423355 </td><td>0.9995934959349594   </td></tr>\n",
       "</tbody>\n",
       "</table>"
      ],
      "text/plain": [
       "#      z                    cdf\n",
       "0      -198.7936483598715   0.0\n",
       "1      -197.08594768445155  0.0004065040650406504\n",
       "2      -195.25656666234275  0.0008130081300813008\n",
       "3      -194.24220889141583  0.0012195121951219512\n",
       "4      -193.05737623020158  0.0016260162601626016\n",
       "...    ...                  ...\n",
       "2,455  196.74364551227794   0.9979674796747967\n",
       "2,456  197.64752592878648   0.9983739837398374\n",
       "2,457  198.12660359510932   0.998780487804878\n",
       "2,458  198.4093245532986    0.9991869918699187\n",
       "2,459  198.69353862423355   0.9995934959349594"
      ]
     },
     "execution_count": 10,
     "metadata": {},
     "output_type": "execute_result"
    }
   ],
   "source": [
    "df_cum_A = vaex.from_dict(dict(z=a_z, cdf=np.arange(len(a_z))/len(a_z)))\n",
    "df_cum_F = vaex.from_dict(dict(z=f_z, cdf=np.arange(len(f_z))/len(f_z)))\n",
    "df_cum_G = vaex.from_dict(dict(z=g_z, cdf=np.arange(len(g_z))/len(g_z)))\n",
    "\n",
    "df_cum_A"
   ]
  },
  {
   "cell_type": "code",
   "execution_count": 9,
   "metadata": {},
   "outputs": [
    {
     "name": "stdout",
     "output_type": "stream",
     "text": [
      "Directory already exist. Good to go!\n"
     ]
    }
   ],
   "source": [
    "name = \"Number-Density\"\n",
    "data_dir = join(root_data_dir, name)\n",
    "try:\n",
    "  mkdir(data_dir)\n",
    "  print(f\"Creating {name} dir in Data dir\")\n",
    "except FileExistsError:\n",
    "  print(\"Directory already exist. Good to go!\")"
   ]
  },
  {
   "cell_type": "code",
   "execution_count": null,
   "metadata": {},
   "outputs": [],
   "source": [
    "df_cum_A.export(join(data_dir, \"cum-A.hdf5\"))\n",
    "df_cum_F.export(join(data_dir, \"cum-F.hdf5\"))\n",
    "df_cum_G.export(join(data_dir, \"cum-G.hdf5\"))"
   ]
  },
  {
   "cell_type": "code",
   "execution_count": 15,
   "metadata": {},
   "outputs": [],
   "source": [
    "z_edges = np.linspace(-200, 200, 22)\n",
    "z_number_a, _  = np.histogram(a_z, bins=z_edges)\n",
    "z_number_f, _  = np.histogram(f_z, bins=z_edges)\n",
    "z_number_g, _  = np.histogram(g_z, bins=z_edges)\n",
    "z = (z_edges[:-1] + z_edges[1:])/2\n",
    "z_eff_a = a_eff(z)\n",
    "z_eff_f = f_eff(z)\n",
    "z_eff_g = g_eff(z)\n",
    "vol = np.pi*(150**2-0.00**2)*(z_edges[1] - z_edges[0])"
   ]
  },
  {
   "cell_type": "code",
   "execution_count": 20,
   "metadata": {},
   "outputs": [
    {
     "data": {
      "text/plain": [
       "Text(0, 0.5, 'Number Density (/kpc^3)')"
      ]
     },
     "execution_count": 20,
     "metadata": {},
     "output_type": "execute_result"
    },
    {
     "data": {
      "image/png": "[encoded data removed]",
      "text/plain": [
       "<Figure size 432x288 with 1 Axes>"
      ]
     },
     "metadata": {
      "needs_background": "light"
     },
     "output_type": "display_data"
    }
   ],
   "source": [
    "desnity_a = z_number_a/z_eff_a/vol\n",
    "err_a = desnity_a/np.sqrt(z_number_a)\n",
    "plt.errorbar(x=z, y=desnity_a, yerr=err_a, fmt=\".\", markersize=5, capsize=2)\n",
    "plt.errorbar(x=z, y=z_number_a/vol, yerr=np.sqrt(z_number_a)/vol, fmt=\".\", markersize=5, capsize=2, color=\"red\")\n",
    "plt.grid()\n",
    "plt.yscale(\"log\")\n",
    "plt.title(\"A-type\")\n",
    "plt.xlabel(\"z (kpc)\")\n",
    "plt.ylabel(\"Number Density (/kpc^3)\")"
   ]
  },
  {
   "cell_type": "code",
   "execution_count": 21,
   "metadata": {},
   "outputs": [
    {
     "data": {
      "text/plain": [
       "Text(0, 0.5, 'Number Density (/kpc^3)')"
      ]
     },
     "execution_count": 21,
     "metadata": {},
     "output_type": "execute_result"
    },
    {
     "data": {
      "image/png": "[encoded data removed]",
      "text/plain": [
       "<Figure size 432x288 with 1 Axes>"
      ]
     },
     "metadata": {
      "needs_background": "light"
     },
     "output_type": "display_data"
    }
   ],
   "source": [
    "desnity_f = z_number_f/z_eff_f/vol\n",
    "err_f = desnity_f/np.sqrt(z_number_f)\n",
    "plt.errorbar(x=z, y=desnity_f, yerr=err_f, fmt=\".\", markersize=5, capsize=2)\n",
    "plt.errorbar(x=z, y=z_number_f/vol, yerr=np.sqrt(z_number_f)/vol, fmt=\".\", markersize=5, capsize=2, color=\"red\")\n",
    "plt.grid()\n",
    "plt.yscale(\"log\")\n",
    "plt.title(\"F-type\")\n",
    "plt.xlabel(\"z (kpc)\")\n",
    "plt.ylabel(\"Number Density (/kpc^3)\")"
   ]
  },
  {
   "cell_type": "code",
   "execution_count": 22,
   "metadata": {},
   "outputs": [
    {
     "data": {
      "text/plain": [
       "Text(0, 0.5, 'Number Density (/kpc^3)')"
      ]
     },
     "execution_count": 22,
     "metadata": {},
     "output_type": "execute_result"
    },
    {
     "data": {
      "image/png": "[encoded data removed]",
      "text/plain": [
       "<Figure size 432x288 with 1 Axes>"
      ]
     },
     "metadata": {
      "needs_background": "light"
     },
     "output_type": "display_data"
    }
   ],
   "source": [
    "desnity_g = z_number_g/z_eff_g/vol\n",
    "err_g = desnity_g/np.sqrt(z_number_g)\n",
    "plt.errorbar(x=z, y=desnity_g, yerr=err_g, fmt=\".\", markersize=5, capsize=2)\n",
    "plt.errorbar(x=z, y=z_number_g/vol, yerr=np.sqrt(z_number_g)/vol, fmt=\".\", markersize=5, capsize=2, color=\"red\")\n",
    "plt.grid()\n",
    "plt.yscale(\"log\")\n",
    "plt.title(\"G-type\")\n",
    "plt.xlabel(\"z (kpc)\")\n",
    "plt.ylabel(\"Number Density (/kpc^3)\")"
   ]
  },
  {
   "cell_type": "code",
   "execution_count": 46,
   "metadata": {},
   "outputs": [
    {
     "data": {
      "text/html": [
       "<table>\n",
       "<thead>\n",
       "<tr><th>#                             </th><th>z                   </th><th>z_lower             </th><th>z_upper             </th><th>A                 </th><th>e_A               </th><th>F                 </th><th>e_F               </th><th>G                 </th><th>e_G               </th></tr>\n",
       "</thead>\n",
       "<tbody>\n",
       "<tr><td><i style='opacity: 0.6'>0</i> </td><td>-0.1904761904761905 </td><td>-0.2                </td><td>-0.18095238095238098</td><td>26156.689302838415</td><td>5033.857203367721 </td><td>581325.731109716  </td><td>23673.4138532323  </td><td>758139.0064176286 </td><td>26837.829906684645</td></tr>\n",
       "<tr><td><i style='opacity: 0.6'>1</i> </td><td>-0.17142857142857143</td><td>-0.18095238095238098</td><td>-0.1619047619047619 </td><td>36001.93304937468 </td><td>5918.681334352472 </td><td>623270.9772575898 </td><td>24598.543351867265</td><td>796105.2990230077 </td><td>27566.87197733039 </td></tr>\n",
       "<tr><td><i style='opacity: 0.6'>2</i> </td><td>-0.1523809523809524 </td><td>-0.1619047619047619 </td><td>-0.14285714285714285</td><td>41102.47613849389 </td><td>6342.249759906555 </td><td>775003.9163147459 </td><td>27521.196011266195</td><td>867296.9678728126 </td><td>28845.868066584422</td></tr>\n",
       "<tr><td><i style='opacity: 0.6'>3</i> </td><td>-0.13333333333333333</td><td>-0.14285714285714285</td><td>-0.12380952380952381</td><td>59355.62897282102 </td><td>7662.778750513408 </td><td>833868.8029450909 </td><td>28635.172257938983</td><td>903057.0580259662 </td><td>29501.588149832558</td></tr>\n",
       "<tr><td><i style='opacity: 0.6'>4</i> </td><td>-0.1142857142857143 </td><td>-0.12380952380952381</td><td>-0.10476190476190476</td><td>95211.53110580808 </td><td>9768.496978344137 </td><td>1030291.3867801373</td><td>31902.000311075786</td><td>1007300.7792433458</td><td>31235.071201237817</td></tr>\n",
       "<tr><td>...                           </td><td>...                 </td><td>...                 </td><td>...                 </td><td>...               </td><td>...               </td><td>...               </td><td>...               </td><td>...               </td><td>...               </td></tr>\n",
       "<tr><td><i style='opacity: 0.6'>16</i></td><td>0.1142857142857143  </td><td>0.10476190476190478 </td><td>0.12380952380952381 </td><td>120660.59745015114</td><td>11300.900358878187</td><td>938406.4080751899 </td><td>31159.27335666387 </td><td>1008826.6502250796</td><td>32192.95204084632 </td></tr>\n",
       "<tr><td><i style='opacity: 0.6'>17</i></td><td>0.13333333333333333 </td><td>0.12380952380952381 </td><td>0.14285714285714285 </td><td>85885.84443067272 </td><td>9484.504868706048 </td><td>863149.0082777579 </td><td>29781.470159649467</td><td>919588.7694917227 </td><td>30687.074696435484</td></tr>\n",
       "<tr><td><i style='opacity: 0.6'>18</i></td><td>0.1523809523809524  </td><td>0.14285714285714285 </td><td>0.16190476190476194 </td><td>74715.83773812081 </td><td>8805.34592110983  </td><td>846354.0114990416 </td><td>29395.089830250425</td><td>838241.1869962689 </td><td>29272.652008002322</td></tr>\n",
       "<tr><td><i style='opacity: 0.6'>19</i></td><td>0.17142857142857146 </td><td>0.16190476190476194 </td><td>0.18095238095238098 </td><td>42251.719640679745</td><td>6598.610002547659 </td><td>746992.1756824645 </td><td>27553.22148728981 </td><td>859926.2531721198 </td><td>29635.015738685124</td></tr>\n",
       "<tr><td><i style='opacity: 0.6'>20</i></td><td>0.1904761904761905  </td><td>0.18095238095238098 </td><td>0.2                 </td><td>36829.50725474885 </td><td>6138.251209124809 </td><td>697124.1179225029 </td><td>26558.313740176836</td><td>801495.7131019249 </td><td>28552.102568234066</td></tr>\n",
       "</tbody>\n",
       "</table>"
      ],
      "text/plain": [
       "#    z                     z_lower               z_upper               A                   e_A                 F                   e_F                 G                   e_G\n",
       "0    -0.1904761904761905   -0.2                  -0.18095238095238098  26156.689302838415  5033.857203367721   581325.731109716    23673.4138532323    758139.0064176286   26837.829906684645\n",
       "1    -0.17142857142857143  -0.18095238095238098  -0.1619047619047619   36001.93304937468   5918.681334352472   623270.9772575898   24598.543351867265  796105.2990230077   27566.87197733039\n",
       "2    -0.1523809523809524   -0.1619047619047619   -0.14285714285714285  41102.47613849389   6342.249759906555   775003.9163147459   27521.196011266195  867296.9678728126   28845.868066584422\n",
       "3    -0.13333333333333333  -0.14285714285714285  -0.12380952380952381  59355.62897282102   7662.778750513408   833868.8029450909   28635.172257938983  903057.0580259662   29501.588149832558\n",
       "4    -0.1142857142857143   -0.12380952380952381  -0.10476190476190476  95211.53110580808   9768.496978344137   1030291.3867801373  31902.000311075786  1007300.7792433458  31235.071201237817\n",
       "...  ...                   ...                   ...                   ...                 ...                 ...                 ...                 ...                 ...\n",
       "16   0.1142857142857143    0.10476190476190478   0.12380952380952381   120660.59745015114  11300.900358878187  938406.4080751899   31159.27335666387   1008826.6502250796  32192.95204084632\n",
       "17   0.13333333333333333   0.12380952380952381   0.14285714285714285   85885.84443067272   9484.504868706048   863149.0082777579   29781.470159649467  919588.7694917227   30687.074696435484\n",
       "18   0.1523809523809524    0.14285714285714285   0.16190476190476194   74715.83773812081   8805.34592110983    846354.0114990416   29395.089830250425  838241.1869962689   29272.652008002322\n",
       "19   0.17142857142857146   0.16190476190476194   0.18095238095238098   42251.719640679745  6598.610002547659   746992.1756824645   27553.22148728981   859926.2531721198   29635.015738685124\n",
       "20   0.1904761904761905    0.18095238095238098   0.2                   36829.50725474885   6138.251209124809   697124.1179225029   26558.313740176836  801495.7131019249   28552.102568234066"
      ]
     },
     "execution_count": 46,
     "metadata": {},
     "output_type": "execute_result"
    }
   ],
   "source": [
    "density = vaex.from_dict(dict(z=z, z_lower=z_edges[:-1], z_upper=z_edges[1:],  A=desnity_a, e_A=err_a, F=desnity_f, e_F=err_f, G=desnity_g, e_G=err_g))\n",
    "density"
   ]
  },
  {
   "cell_type": "code",
   "execution_count": 47,
   "metadata": {},
   "outputs": [
    {
     "name": "stdout",
     "output_type": "stream",
     "text": [
      "Directory already exist. Good to go!\n"
     ]
    }
   ],
   "source": []
  },
  {
   "cell_type": "code",
   "execution_count": 48,
   "metadata": {},
   "outputs": [
    {
     "name": "stdout",
     "output_type": "stream",
     "text": [
      "export(hdf5) [########################################] 100.00% elapsed time  :     0.21s =  0.0m =  0.0h\n",
      " "
     ]
    }
   ],
   "source": [
    "density.export(join(data_dir, \"density.hdf5\"), progress=True)"
   ]
  }
 ],
 "metadata": {
  "kernelspec": {
   "display_name": "Python 3.9.7 ('vaex2')",
   "language": "python",
   "name": "python3"
  },
  "language_info": {
   "codemirror_mode": {
    "name": "ipython",
    "version": 3
   },
   "file_extension": ".py",
   "mimetype": "text/x-python",
   "name": "python",
   "nbconvert_exporter": "python",
   "pygments_lexer": "ipython3",
   "version": "3.9.7"
  },
  "orig_nbformat": 4,
  "vscode": {
   "interpreter": {
    "hash": "ce24ca8aae0c18c4327bef86187bd310e85b0b68e0fbab549c3fc8d824c6eee6"
   }
  }
 },
 "nbformat": 4,
 "nbformat_minor": 2
}
