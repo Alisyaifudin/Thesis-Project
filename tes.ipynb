{
 "cells": [
  {
   "cell_type": "code",
   "execution_count": 1,
   "metadata": {},
   "outputs": [],
   "source": [
    "import torch\n",
    "import numpy as np\n",
    "import matplotlib.pyplot as plt"
   ]
  },
  {
   "cell_type": "code",
   "execution_count": 15,
   "metadata": {},
   "outputs": [
    {
     "data": {
      "text/plain": [
       "<matplotlib.collections.PathCollection at 0x7f763580db80>"
      ]
     },
     "execution_count": 15,
     "metadata": {},
     "output_type": "execute_result"
    },
    {
     "data": {
      "image/png": "[encoded data removed]",
      "text/plain": [
       "<Figure size 432x288 with 1 Axes>"
      ]
     },
     "metadata": {
      "needs_background": "light"
     },
     "output_type": "display_data"
    }
   ],
   "source": [
    "x = torch.rand(300, requires_grad=True)\n",
    "y = 3*x + 5\n",
    "y = y + torch.randn(300)\n",
    "\n",
    "plt.scatter(x.detach().numpy(), y.detach().numpy())"
   ]
  },
  {
   "cell_type": "code",
   "execution_count": 16,
   "metadata": {},
   "outputs": [
    {
     "name": "stdout",
     "output_type": "stream",
     "text": [
      "40.251190185546875\n",
      "1.115606427192688\n",
      "0.9768139719963074\n",
      "0.9612734913825989\n",
      "0.9496483206748962\n",
      "0.9407466650009155\n",
      "0.9339295625686646\n",
      "0.9287090301513672\n",
      "0.9247111082077026\n",
      "0.9216493964195251\n",
      "2.797346591949463 5.1052727699279785\n"
     ]
    }
   ],
   "source": [
    "import torch.nn as nn\n",
    "\n",
    "w = nn.Parameter(torch.randn(1))\n",
    "b = nn.Parameter(torch.randn(1))\n",
    "\n",
    "def forward(x):\n",
    "    y_pred = w * x + b\n",
    "    return y_pred\n",
    "\n",
    "def mse(y, y_pred):\n",
    "    return ((y - y_pred)**2).mean()\n",
    "\n",
    "optimizer = torch.optim.SGD([w, b], lr=0.1)\n",
    "\n",
    "for i in range(100):\n",
    "    y_pred = forward(x)\n",
    "    loss = mse(y, y_pred)\n",
    "    loss.backward(retain_graph=True) # compute gradient\n",
    "    optimizer.step()\n",
    "    optimizer.zero_grad()\n",
    "    if i % 10 == 0:\n",
    "        print(loss.item())\n",
    "\n",
    "print(w.item(), b.item())"
   ]
  },
  {
   "cell_type": "code",
   "execution_count": 27,
   "metadata": {},
   "outputs": [],
   "source": [
    "x = torch.rand((300,100), requires_grad=True)\n",
    "w_true = torch.randn((100,1))\n",
    "b_true = 5\n",
    "y = x@w_true + b_true\n",
    "y = y + torch.randn(300)\n",
    "# y = y + torch.randn(300)\n",
    "\n",
    "# plt.scatter(x.detach().numpy(), y.detach().numpy())"
   ]
  },
  {
   "cell_type": "code",
   "execution_count": 28,
   "metadata": {},
   "outputs": [
    {
     "name": "stdout",
     "output_type": "stream",
     "text": [
      "182.5567169189453\n",
      "571100526280704.0\n",
      "1.9840004517503946e+27\n",
      "inf\n",
      "inf\n",
      "inf\n",
      "inf\n",
      "nan\n",
      "nan\n",
      "nan\n"
     ]
    },
    {
     "ename": "ValueError",
     "evalue": "only one element tensors can be converted to Python scalars",
     "output_type": "error",
     "traceback": [
      "\u001b[0;31m---------------------------------------------------------------------------\u001b[0m",
      "\u001b[0;31mValueError\u001b[0m                                Traceback (most recent call last)",
      "Cell \u001b[0;32mIn[28], line 24\u001b[0m\n\u001b[1;32m     21\u001b[0m     \u001b[39mif\u001b[39;00m i \u001b[39m%\u001b[39m \u001b[39m10\u001b[39m \u001b[39m==\u001b[39m \u001b[39m0\u001b[39m:\n\u001b[1;32m     22\u001b[0m         \u001b[39mprint\u001b[39m(loss\u001b[39m.\u001b[39mitem())\n\u001b[0;32m---> 24\u001b[0m \u001b[39mprint\u001b[39m(w\u001b[39m.\u001b[39;49mitem(), b\u001b[39m.\u001b[39mitem())\n",
      "\u001b[0;31mValueError\u001b[0m: only one element tensors can be converted to Python scalars"
     ]
    }
   ],
   "source": [
    "import torch.nn as nn\n",
    "\n",
    "w = nn.Parameter(torch.randn(100))\n",
    "b = nn.Parameter(torch.randn(1))\n",
    "\n",
    "def forward(x):\n",
    "    y_pred = x@w + b\n",
    "    return y_pred\n",
    "\n",
    "def mse(y, y_pred):\n",
    "    return ((y - y_pred)**2).mean()\n",
    "\n",
    "optimizer = torch.optim.SGD([w, b], lr=0.1)\n",
    "\n",
    "for i in range(100):\n",
    "    y_pred = forward(x)\n",
    "    loss = mse(y, y_pred)\n",
    "    loss.backward(retain_graph=True) # compute gradient\n",
    "    optimizer.step()\n",
    "    optimizer.zero_grad()\n",
    "    if i % 10 == 0:\n",
    "        print(loss.item())\n",
    "\n",
    "print(w.item(), b.item())"
   ]
  }
 ],
 "metadata": {
  "kernelspec": {
   "display_name": "vaex",
   "language": "python",
   "name": "python3"
  },
  "language_info": {
   "codemirror_mode": {
    "name": "ipython",
    "version": 3
   },
   "file_extension": ".py",
   "mimetype": "text/x-python",
   "name": "python",
   "nbconvert_exporter": "python",
   "pygments_lexer": "ipython3",
   "version": "3.8.16"
  },
  "orig_nbformat": 4,
  "vscode": {
   "interpreter": {
    "hash": "b7087d44895922b8969a614047f756228544d6a3ee874609eca1e3d9289a76a5"
   }
  }
 },
 "nbformat": 4,
 "nbformat_minor": 2
}
