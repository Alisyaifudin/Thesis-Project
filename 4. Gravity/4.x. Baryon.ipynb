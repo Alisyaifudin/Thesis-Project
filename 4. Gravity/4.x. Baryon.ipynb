{
 "cells": [
  {
   "cell_type": "code",
   "execution_count": 4,
   "metadata": {},
   "outputs": [],
   "source": [
    "import vaex\n",
    "import numpy as np\n",
    "import pandas as pd\n",
    "from glob import glob\n",
    "from matplotlib import pyplot as plt\n",
    "from os.path import join, abspath\n",
    "import sys\n",
    "from os import pardir, mkdir"
   ]
  },
  {
   "cell_type": "code",
   "execution_count": 5,
   "metadata": {},
   "outputs": [
    {
     "data": {
      "text/plain": [
       "'/home2/s20321005/Thesis-Project/Data'"
      ]
     },
     "execution_count": 5,
     "metadata": {},
     "output_type": "execute_result"
    }
   ],
   "source": [
    "root_data_dir = abspath(join(pardir, \"Data\"))\n",
    "root_data_dir"
   ]
  },
  {
   "cell_type": "markdown",
   "metadata": {},
   "source": [
    "The possion equation for MOND\n",
    "\\begin{aligned}\n",
    "  \\nabla \\cdot [ \\mu \\left( \\frac{|\\nabla \\Phi|}{a_0} \\right) \\nabla \\Phi ] = 4\\pi G\\rho (x,y,z)\n",
    "\\end{aligned}\n",
    "\n",
    "where for $x \\gg 1 \\Rightarrow \\mu (x) \\approx 1$ and for $x \\ll 1 \\Rightarrow \\mu (x) \\approx x$"
   ]
  },
  {
   "cell_type": "markdown",
   "metadata": {},
   "source": [
    "Let's try the following interpolation function\n",
    "\\begin{aligned}\n",
    "  \\mu (x) = \\frac{1}{1+1/x}\n",
    "\\end{aligned}"
   ]
  },
  {
   "cell_type": "code",
   "execution_count": 6,
   "metadata": {},
   "outputs": [],
   "source": [
    "def mu(x):\n",
    "  return 1/(1+1/x)"
   ]
  },
  {
   "cell_type": "code",
   "execution_count": 7,
   "metadata": {},
   "outputs": [
    {
     "data": {
      "text/plain": [
       "0.09090909090909091"
      ]
     },
     "execution_count": 7,
     "metadata": {},
     "output_type": "execute_result"
    }
   ],
   "source": [
    "xx = 1/10\n",
    "mu(xx)"
   ]
  },
  {
   "cell_type": "markdown",
   "metadata": {},
   "source": [
    "let $\\nabla \\Phi = g_z \\hat{z} +g_r \\hat{r}$ (no azimuthal)\n",
    "and assume $g_z\\ll g_r$, then\n",
    "\\begin{aligned}\n",
    "  |\\nabla \\Phi | &= \\sqrt{g_z^2+ g_r^2} \\\\\n",
    "  &\\approx g_r\n",
    "\\end{aligned}"
   ]
  },
  {
   "cell_type": "markdown",
   "metadata": {},
   "source": [
    "and, for the first approximation, assume $g_r= \\text{constant}$ near the solar system\n",
    "Therefore\n",
    "\\begin{aligned}\n",
    "  \\nabla \\cdot \\left[ \\mu \\left( \\frac{g_r}{a_0} \\right) (g_z \\hat{z} +g_r \\hat{r}) \\right] &= 4\\pi G\\rho (r,z) \\\\\n",
    "  \\mu \\left( \\frac{g_r}{a_0} \\right)\\nabla \\cdot \\left(  g_z \\hat{z} +g_r \\hat{r} \\right) &= 4\\pi G\\rho (r,z) \\\\\n",
    "  \\mu \\left( \\frac{g_r}{a_0} \\right)\\left(  \\frac{\\partial g_z}{\\partial z} +\\frac{1}{r} \\frac{\\partial (rg_r)}{\\partial r}\\right) &= 4\\pi G\\rho (r,z) \\\\\n",
    "\\end{aligned}"
   ]
  },
  {
   "cell_type": "markdown",
   "metadata": {},
   "source": [
    "Let $r=R=8.5 \\text{ kpc}$, and $\\rho(r,z)=\\rho(z)$\n",
    "\\begin{aligned}\n",
    "  \\mu \\left( \\frac{g_r}{a_0} \\right)\\left(  \\frac{\\partial g_z}{\\partial z} +\\frac{g_r}{R} \\right) &= 4\\pi G\\rho (z) \\\\\n",
    "  \\frac{\\text{d} g_z}{\\text{d} z}  &= 4\\pi G\\rho (z)\\mu \\left( \\frac{g_r}{a_0} \\right) ^{-1} - \\frac{g_r}{R} \\\\\n",
    "\\end{aligned}"
   ]
  },
  {
   "cell_type": "markdown",
   "metadata": {},
   "source": [
    "Assume $\\rho$ is\n",
    "\\begin{aligned}\n",
    "  \\rho(z) = \\rho_0 \\exp{\\left(-\\frac{z}{h_z}\\right)}\n",
    "\\end{aligned}"
   ]
  },
  {
   "cell_type": "markdown",
   "metadata": {},
   "source": [
    "Then\n",
    "\\begin{aligned}\n",
    "  \\int_{0}^{g_z}\\text{d} g_z'  &= \\int_{0}^{z}4\\pi G\\rho_0 \\exp{\\left(-\\frac{z'}{h_z}\\right)}\\mu \\left( \\frac{g_r}{a_0} \\right) ^{-1} \\text{d}z' - \\int_{0}^{z} \\frac{g_r}{R}\\text{d}z \\\\\n",
    "  g_z  &= h_z4\\pi G \\rho_0\\mu \\left( \\frac{g_r}{a_0} \\right) ^{-1} \\left[1- \\exp{\\left(-\\frac{z}{h_z}\\right)} \\right] -  \\frac{g_r}{R}z\\\\\n",
    "\\end{aligned}"
   ]
  },
  {
   "cell_type": "code",
   "execution_count": null,
   "metadata": {},
   "outputs": [],
   "source": []
  },
  {
   "cell_type": "markdown",
   "metadata": {},
   "source": [
    "\\begin{aligned}\n",
    "    \\frac{\\partial g_z}{\\partial z}  &= 4\\pi G\\rho (z)\\mu \\left( \\frac{g_r}{a_0} \\right) ^{-1} - \\frac{g_r}{R} \\\\\n",
    "\\end{aligned}"
   ]
  },
  {
   "cell_type": "markdown",
   "metadata": {},
   "source": [
    "\\begin{aligned}\n",
    "  \\nabla \\cdot g(r) &= - 4\\pi G\\rho(r) \\\\\n",
    "  \\frac{1}{r^2}\\frac{\\text{d} (r^2 g_r)}{\\text{d} r} &= - 4\\pi G\\rho(r) \\\\\n",
    "  2rg_r+r^2\\frac{\\text{d} g_r}{\\text{d} r} &= - 4\\pi G\\rho(r)r^2 \\\\\n",
    "\\end{aligned}"
   ]
  },
  {
   "cell_type": "markdown",
   "metadata": {},
   "source": [
    "\\begin{aligned}\n",
    "  -\\mu \\left( \\frac{g_r}{a_0} \\right)\\left(  \\frac{\\partial g_z}{\\partial z} +\\frac{1}{r} \\frac{\\partial (rg_r)}{\\partial r}\\right) &= 4\\pi G\\rho (r,z) \\\\\n",
    "\\end{aligned}"
   ]
  },
  {
   "cell_type": "markdown",
   "metadata": {},
   "source": [
    "\\begin{aligned}\n",
    "  \\nabla \\cdot \\left[\\frac{1}{1+ \\frac{a_0}{|\\nabla\\Phi|} }\\nabla \\Phi \\right] &= 4\\pi G\\rho (z) \\\\\n",
    "  \\nabla \\cdot \\left[\\frac{1}{1+ \\frac{1}{x} }\\phi(z)\\hat{z} \\right] &= 4\\pi G\\rho (z) \\\\\n",
    "  \\nabla \\cdot \\left[\\frac{x}{1+ \\frac{1}{x} }\\hat{z} \\right] &= \\frac{4\\pi G}{a_0}\\rho (z) \\\\\n",
    "  \\nabla \\cdot \\left[\\frac{x^2}{x+ 1 }\\hat{z} \\right] &= \\frac{4\\pi G}{a_0}\\rho (z) \\\\\n",
    "  \\frac{\\text{d} }{\\text{d}z} \\left[\\frac{x^2}{x+ 1 } \\right] &= \\frac{4\\pi G}{a_0}\\rho (z) \\\\\n",
    "  \\frac{\\text{d} }{\\text{d}z} \\left[\\frac{x^2}{x+ 1 } \\right] &= \\frac{4\\pi G}{a_0}\\frac{t_c^2}{t_c^2}\\rho (z) \\\\\n",
    "\\end{aligned}"
   ]
  },
  {
   "cell_type": "markdown",
   "metadata": {},
   "source": [
    "Let $4\\pi G t_c^2=1/\\rho_0$ and $a_0t_c^2=L$\n",
    "\n",
    "Therefore $\\rho(z)/\\rho_0 = \\zeta(z)$"
   ]
  },
  {
   "cell_type": "markdown",
   "metadata": {},
   "source": [
    "\\begin{aligned}\n",
    "  \\frac{\\text{d} }{\\text{d}z} \\left[\\frac{x^2}{x+ 1 } \\right] &= \\frac{1}{L}\\zeta (z) \\\\\n",
    "\\end{aligned}"
   ]
  },
  {
   "cell_type": "markdown",
   "metadata": {},
   "source": [
    "Assume simple vertical density distribution\n",
    "\\begin{aligned}\n",
    "  \\rho(z)=\\rho_0 \\exp{\\left(-\\frac{z}{h_z}\\right)}\n",
    "\\end{aligned}"
   ]
  },
  {
   "cell_type": "markdown",
   "metadata": {},
   "source": [
    "Let $z/h_z = \\mathfrak{z}$"
   ]
  },
  {
   "cell_type": "markdown",
   "metadata": {},
   "source": [
    "\\begin{aligned}\n",
    "  \\rho(z) &= \\rho_0 \\exp{\\left(-\\mathfrak{z}\\right)} \\\\\n",
    "  \\zeta(\\mathfrak{z}) &= \\exp{\\left(-\\mathfrak{z}\\right)} \\\\\n",
    "\\end{aligned}"
   ]
  },
  {
   "cell_type": "markdown",
   "metadata": {},
   "source": [
    "So,\n",
    "\\begin{aligned}\n",
    "  \\frac{\\text{d}\\mathfrak{z}}{\\text{d}z}\\frac{\\text{d} }{\\text{d}\\mathfrak{z}} \\left[\\frac{x^2}{x+ 1 } \\right] &= \\frac{1}{L}\\exp{\\left(-\\mathfrak{z}\\right)} \\\\\n",
    "  \\frac{\\text{d} }{\\text{d}\\mathfrak{z}} \\left[\\frac{x^2}{x+ 1 } \\right] &= \\frac{h_z}{L}\\exp{\\left(-\\mathfrak{z}\\right)} \\\\\n",
    "\\end{aligned}"
   ]
  },
  {
   "cell_type": "markdown",
   "metadata": {},
   "source": [
    "Let $h_z=kL$\n",
    "\\begin{aligned}\n",
    "  \\frac{\\text{d} }{\\text{d}\\mathfrak{z}} \\left[\\frac{x^2}{x+ 1 } \\right] &= k\\exp{\\left(-\\mathfrak{z}\\right)} \\\\\n",
    "\\end{aligned}\n",
    "integrate, with the following boundary condition\n",
    "\\begin{aligned}\n",
    "  \\mathfrak{z} \\rightarrow \\infty \\Rightarrow x = 0\n",
    "\\end{aligned}"
   ]
  },
  {
   "cell_type": "markdown",
   "metadata": {},
   "source": [
    "\\begin{aligned}\n",
    "  \\int_{x'=x}^{x'=x_\\infty} \\text{d}\\left[\\frac{x'^2}{x'+ 1 } \\right] &= k \\int_{\\mathfrak{z}}^{\\infty}\\exp{\\left(-\\mathfrak{z'}\\right)}\\text{d}\\mathfrak{z'} \\\\\n",
    "\\end{aligned}"
   ]
  },
  {
   "cell_type": "markdown",
   "metadata": {},
   "source": [
    "\\begin{aligned}\n",
    "  \\left[\\frac{x_\\infty^2}{x_\\infty+ 1 } \\right] - \\left[\\frac{x^2}{x+ 1 } \\right] &= -k \\left[ 0 - \\exp{\\left(-\\mathfrak{z}\\right)} \\right] \\\\\n",
    "  \\left[\\frac{x^2}{x+ 1 } \\right] &= C-k \\exp{\\left(-\\mathfrak{z}\\right)}\\\\\n",
    "\\end{aligned}"
   ]
  },
  {
   "cell_type": "markdown",
   "metadata": {},
   "source": [
    "\\begin{aligned}\n",
    "  \\frac{x^2}{x+ 1 }  &= F(\\mathfrak{z})\\\\\n",
    "  x^2 &= Fx+ F\\\\\n",
    "  x^2 -Fx -F=0\n",
    "\\end{aligned}"
   ]
  },
  {
   "cell_type": "markdown",
   "metadata": {},
   "source": [
    "Solved the quadratic equation\n",
    "\\begin{aligned}\n",
    "  x = \\frac{1}{2}\\left[ F\\pm\\sqrt{F^2+4F}\\right]\n",
    "\\end{aligned}"
   ]
  },
  {
   "cell_type": "markdown",
   "metadata": {},
   "source": [
    "Because $x>0$\n",
    "\\begin{aligned}\n",
    "  x &= \\frac{F}{2}\\left[ 1+\\sqrt{1+\\frac{4}{F}}\\right] \\\\\n",
    "  x &= \\frac{F}{2}\\left[ 1+\\sqrt{\\frac{4+F}{F}}\\right] \\\\\n",
    "  x &= \\frac{C-k\\exp{(-\\mathfrak{z})}}{2}\\left[ 1+\\sqrt{\\frac{4+C-k\\exp{(-\\mathfrak{z})}}{C-k\\exp{(-\\mathfrak{z})}}}\\right]\n",
    "\\end{aligned}"
   ]
  },
  {
   "cell_type": "markdown",
   "metadata": {},
   "source": [
    "let $\\nabla\\Phi = \\phi(z)\\hat{z}$, and $x=\\phi(z)/a_0$\n",
    "\\begin{aligned}\n",
    "   \\frac{\\text{d} }{\\text{d}z} \\left[\\frac{x^2}{x+ 1 } \\right] &= \\frac{4\\pi G}{a_0}\\frac{t_c^2}{t_c^2}\\rho (z) \\\\\n",
    "\\end{aligned}"
   ]
  },
  {
   "cell_type": "markdown",
   "metadata": {},
   "source": [
    "\\begin{aligned}\n",
    "  \\nabla \\cdot \\left[\\frac{1}{1+\\left| \\frac{a_0}{\\nabla\\Phi} \\right|}\\nabla \\Phi \\right] &= 4\\pi G\\rho (z) \\\\\n",
    "  \\nabla \\cdot \\left[\\frac{1}{1+ \\frac{a_0}{\\Phi'} }\\frac{\\partial \\Phi}{\\partial z}\\hat{z} \\right] &= 4\\pi G\\rho (z) \\\\\n",
    "  \\frac{\\partial }{\\partial z} \\left[\\frac{1}{1+ \\frac{a_0}{\\Phi'} }\\frac{\\partial \\Phi}{\\partial z} \\right] &= 4\\pi G\\rho (z) \\\\\n",
    "  \\frac{\\partial }{\\partial z} \\left[\\frac{1}{1+ \\frac{a_0}{\\Phi'} } \\right]\\frac{\\partial \\Phi}{\\partial z} + \\left[\\frac{1}{1+ \\frac{a_0}{\\Phi'} } \\right] \\frac{\\partial^2 \\Phi}{\\partial z^2} &= 4\\pi G\\rho (z) \\\\\n",
    "  \\left[\\frac{1}{1+ \\frac{a_0}{\\Phi'} } \\right]^2 \\frac{\\partial^2 \\Phi}{\\partial z^2} \\left(\\frac{a_0}{\\Phi'}\\right) + \\left[\\frac{1}{1+ \\frac{a_0}{\\Phi'} } \\right] \\frac{\\partial^2 \\Phi}{\\partial z^2} &= 4\\pi G\\rho (z) \\\\\n",
    "  \\left[\\frac{1}{1+ \\frac{a_0}{\\Phi'} } \\right]  \\left[ \\left(\\frac{1}{1+ \\frac{a_0}{\\Phi'} } \\right)\\frac{a_0}{\\Phi'}+1 \\right] \\frac{\\partial^2 \\Phi}{\\partial z^2}&= 4\\pi G\\rho (z) \\\\\n",
    "  \\left[\\frac{1}{1+ \\frac{a_0}{\\Phi'} } \\right]  \\left[ \\left(\\frac{1}{ \\frac{\\Phi'}{a_0} +1 } \\right)+1 \\right] \\frac{\\partial^2 \\Phi}{\\partial z^2}&= 4\\pi G\\rho (z) \\\\\n",
    "  \\left[\\frac{1}{1+ \\frac{a_0}{\\Phi'} } \\right]  \\left[ \\left(\\frac{\\frac{\\Phi'}{a_0} +2}{ \\frac{\\Phi'}{a_0} +1 } \\right) \\right] \\frac{\\partial^2 \\Phi}{\\partial z^2}&= 4\\pi G\\rho (z) \\\\\n",
    "  \\left[\\frac{\\Phi'}{ \\Phi'+a_0 } \\right]  \\left[ \\frac{\\Phi' +2a_0}{ \\Phi' +a_0 } \\right] \\frac{\\partial^2 \\Phi}{\\partial z^2}&= 4\\pi G\\rho (z) \\\\\n",
    "  \\left[ \\frac{\\Phi'^2 +2a_0\\Phi'+a_0^2 - a_0^2}{ \\left(\\Phi' +a_0\\right)^2 } \\right] \\frac{\\partial^2 \\Phi}{\\partial z^2}&= 4\\pi G\\rho (z) \\\\\n",
    "  \\left[ \\frac{\\left(\\Phi' +a_0\\right)^2 - a_0^2}{ \\left(\\Phi' +a_0\\right)^2 } \\right] \\frac{\\partial^2 \\Phi}{\\partial z^2}&= 4\\pi G\\rho (z) \\\\\n",
    "  \\left[1 - \\left(\\frac{a_0}{ \\Phi' +a_0 }\\right)^2 \\right] \\frac{\\partial^2 \\Phi}{\\partial z^2}&= 4\\pi G\\rho (z) \\\\\n",
    "  \\left[1 - \\left(\\frac{1}{ x +1 }\\right)^2 \\right] \\frac{\\partial x}{\\partial z}&= \\frac{4\\pi G}{a_0}\\rho (z) \\\\\n",
    "  \\left[1 - \\left(\\frac{1}{ x +1 }\\right)^2 \\right] \\frac{\\partial x}{\\partial z}&= \\frac{4\\pi G}{a_0} \\frac{t_c^2}{t_c^2}\\rho (z) \\\\\n",
    "  \\left[1 - \\left(\\frac{1}{ x +1 }\\right)^2 \\right] \\frac{\\partial x}{\\partial z}&= \\frac{1}{a_0t_c^2} \\zeta (z) \\\\\n",
    "  \\left[1 - \\left(\\frac{1}{ x +1 }\\right)^2 \\right] \\frac{\\partial x}{\\partial z}&= \\frac{1}{L} \\zeta (z)\n",
    "\\end{aligned}"
   ]
  },
  {
   "cell_type": "markdown",
   "metadata": {},
   "source": [
    "boundary conditions:\n",
    "\\begin{aligned}\n",
    "  z &\\rightarrow \\infty \\\\\n",
    "  &\\Rightarrow x = 0 \\\\\n",
    "  &\\Rightarrow \\frac{\\partial x}{\\partial z} = 0 \\\\\n",
    "  &\\Rightarrow \\zeta = 0 \\\\\n",
    "\\end{aligned}"
   ]
  },
  {
   "cell_type": "markdown",
   "metadata": {},
   "source": [
    "where\n",
    "\\begin{aligned}\n",
    "  \\zeta (z) &= \\frac{\\rho(z)}{4\\pi Gt_c^2}\n",
    "  &=\\frac{\\rho_0}{4\\pi Gt_c^2}\\exp{\\left(-\\frac{z}{h_z}\\right)}\n",
    "\\end{aligned}\n",
    "\n",
    "let $\\rho_0 = 4\\pi Gt_c^2$\n",
    "\n",
    "\\begin{aligned}\n",
    "  \\zeta (z) &= \\exp{\\left(-\\frac{z}{h_z}\\right)}\n",
    "\\end{aligned}"
   ]
  },
  {
   "cell_type": "markdown",
   "metadata": {},
   "source": [
    "Therefore\n",
    "\\begin{aligned}\n",
    "  \\left[1 - \\left(\\frac{1}{ x +1 }\\right)^2 \\right] \\frac{\\partial x}{\\partial z} &= \\frac{1}{L} \\exp{\\left(-\\frac{z}{h_z}\\right)} \\\\\n",
    "  \\left[1 - \\left(\\frac{1}{ x +1 }\\right)^2 \\right] \\frac{\\partial x}{\\partial z} &= \\frac{1}{L} \\exp{\\left(-\\mathfrak{z}\\right)}\n",
    "\\end{aligned}\n",
    "and\n",
    "\\begin{aligned}\n",
    "  \\rho_0 &= 4\\pi G t_c^2 \\\\\n",
    "  \\rho_0 &= \\frac{4\\pi G L}{a_0} \\\\\n",
    "\\end{aligned}"
   ]
  },
  {
   "cell_type": "code",
   "execution_count": 2,
   "metadata": {},
   "outputs": [],
   "source": [
    "def zeta(z, hz = 0.3):\n",
    "  return np.exp(-z/hz)"
   ]
  },
  {
   "cell_type": "markdown",
   "metadata": {},
   "source": [
    "for $z \\rightarrow \\infty$, $x \\rightarrow 0$\n",
    "\\begin{aligned}\n",
    "  \\left[1 - \\left(1+x\\right)^{-2} \\right] \\frac{\\partial x}{\\partial z} &= -\\frac{1}{L} \\exp{\\left(-\\frac{z}{h_z}\\right)} \\\\\n",
    "  \\left[1 - (1-2x) \\right] \\frac{\\partial x}{\\partial z} &= -\\frac{1}{L} \\exp{\\left(-\\frac{z}{h_z}\\right)} \\\\\n",
    "  2x\\frac{\\text{d} x}{\\text{d} z} &= -\\frac{1}{L} \\exp{\\left(-\\frac{z}{h_z}\\right)} \\\\\n",
    "  2x\\text{d} x &= -\\frac{1}{L} \\exp{\\left(-\\frac{z}{h_z}\\right)} \\text{d} z \\\\\n",
    "\\end{aligned}"
   ]
  },
  {
   "cell_type": "markdown",
   "metadata": {},
   "source": [
    "Assume when $z\\ge10$, $x\\ll1$\n",
    "\n",
    "integrate  from $z=10$ to $z=\\infty$\n",
    "\\begin{aligned}\n",
    "0^2-x^2(10) &= \\frac{h_z}{L} \\left[0-\\exp{\\left(-10\\right)} \\right] \\\\\n",
    "  x^2(10) &=\\frac{h_z}{L} \\exp{\\left(-10\\right)} \\\\\n",
    "\\end{aligned}"
   ]
  },
  {
   "cell_type": "markdown",
   "metadata": {},
   "source": [
    "Let assume $\\mathfrak{z}=10= \\infty$"
   ]
  },
  {
   "cell_type": "markdown",
   "metadata": {},
   "source": [
    "We can solve the following differential eq. with ODEint\n",
    "\\begin{aligned}\n",
    "  \\left[1 - \\left(\\frac{1}{ x +1 }\\right)^2 \\right]\\frac{\\text{d} x}{\\text{d} z} &= -\\frac{1}{L} \\exp{\\left(-\\mathfrak{z}\\right)} \\\\\n",
    "  \\left[1 - \\left(\\frac{1}{ x +1 }\\right)^2 \\right] \\frac{\\text{d} x}{\\text{d} \\mathfrak{z}} &= -\\frac{h_z}{L}  \\exp\n",
    "  {\\left(-\\mathfrak{z}\\right)} \\\\\n",
    "  \\int_{x}^{0} \\left[1 - \\left(\\frac{1}{ x' +1 }\\right)^2 \\right] \\text{d} x' &= -\\frac{h_z}{L} \\int_{\\mathfrak{z}}^{\\infty} \\exp{\\left(-\\mathfrak{z'}\\right)} \\text{d} \\mathfrak{z'} \\\\\n",
    "  0 + \\frac{1}{1+0} - \\left[x +\\frac{1}{1+x} \\right] &= -\\frac{h_z}{L}  \\exp{\\left(-\\mathfrak{z}\\right)} \\\\\n",
    "  x +\\frac{1}{1+x} &= 1+\\frac{h_z}{L}  \\exp{\\left(-\\mathfrak{z}\\right)}  \\\\\n",
    "  \\frac{1+x+x^2}{1+x} &=1+\\frac{h_z}{L}  \\exp{\\left(-\\mathfrak{z}\\right)} \\\\\n",
    "  x^2+x+1 &= f(\\mathfrak{z})+f(\\mathfrak{z})x \\\\\n",
    "  x^2+(1-f)x+(1-f) &= 0 \\\\\n",
    "  x^2+(1-1-\\frac{h_z}{L}\\exp{\\left(-\\mathfrak{z}\\right)})x+(1-1-\\frac{h_z}{L}\\exp{\\left(-\\mathfrak{z}\\right)}) &= 0 \\\\\n",
    "  x^2-\\frac{h_z}{L}x\\exp{\\left(-\\mathfrak{z}\\right)}-\\frac{h_z}{L}\\exp{\\left(-\\mathfrak{z}\\right)} &= 0 \\\\\n",
    "\\end{aligned}"
   ]
  },
  {
   "cell_type": "markdown",
   "metadata": {},
   "source": [
    "quadratic eq. solution\n",
    "\\begin{aligned}\n",
    "  x &= \\frac{1}{2}\\left[ \\frac{h_z}{L}\\exp(-\\mathfrak{z}) \\pm \\sqrt{\\left(\\frac{h_z}{L}\\exp(-\\mathfrak{z})\\right)^2+4\\frac{h_z}{L}\\exp(-\\mathfrak{z})}\\right] \\\\\n",
    "  x &= \\frac{1}{2}\\sqrt{\\frac{h_z}{L}\\exp(\\mathfrak{-z})}\\left[ \\sqrt{\\frac{h_z}{L}\\exp(\\mathfrak{-z})} \\pm \\sqrt{\\frac{h_z}{L}\\exp(\\mathfrak{-z})+4}\\right] \\\\\n",
    "\\end{aligned}"
   ]
  },
  {
   "cell_type": "markdown",
   "metadata": {},
   "source": [
    "x must be positive\n",
    "\\begin{aligned}\n",
    "  x &= \\frac{1}{2}\\sqrt{\\frac{h_z}{L}\\exp(\\mathfrak{-z})}\\left[ \\sqrt{\\frac{h_z}{L}\\exp(\\mathfrak{-z})} + \\sqrt{\\frac{h_z}{L}\\exp(\\mathfrak{-z})+4}\\right]\n",
    "\\end{aligned}"
   ]
  },
  {
   "cell_type": "markdown",
   "metadata": {},
   "source": [
    "when $\\mathfrak{z} =0, f(\\mathfrak{z}) = 1-\\frac{h_z}{L}$"
   ]
  },
  {
   "cell_type": "markdown",
   "metadata": {},
   "source": [
    "\\begin{aligned}\n",
    "  x &= \\frac{-(1-1+\\frac{h_z}{L})\\pm\\sqrt{(1-1+\\frac{h_z}{L})^2-4(1-1+\\frac{h_z}{L})}}{2} \\\\\n",
    "  x &= \\frac{-\\frac{h_z}{L}\\pm\\sqrt{(\\frac{h_z}{L})^2-\\frac{4h_z}{L}}}{2} \\\\\n",
    "  x &= -\\frac{1}{2}\\left[\\frac{h_z}{L}\\mp\\frac{h_z}{L}\\sqrt{1-\\frac{4L}{h_z}}\\right] \\\\\n",
    "  x &= -\\frac{h_z}{2L}\\left[1\\mp\\sqrt{1-\\frac{4L}{h_z}}\\right] \\\\\n",
    "\\end{aligned}"
   ]
  },
  {
   "cell_type": "markdown",
   "metadata": {},
   "source": [
    "if $x>0$ then\n",
    "\\begin{aligned}\n",
    "  x &= -\\frac{h_z}{2L}\\left[1 - \\sqrt{1-\\frac{4L}{h_z}}\\right] \\\\\n",
    "  x &= \\frac{h_z}{2L}\\left[\\sqrt{1-\\frac{4L}{h_z}}-1\\right] \\\\\n",
    "\\end{aligned}"
   ]
  },
  {
   "cell_type": "markdown",
   "metadata": {},
   "source": [
    "Let $L = (1/4)kh_z$, where $k\\le1$"
   ]
  },
  {
   "cell_type": "markdown",
   "metadata": {},
   "source": [
    "\\begin{aligned}\n",
    "  x &= \\frac{2}{k}\\left[\\sqrt{1-k}-1\\right] \\\\\n",
    "\\end{aligned}"
   ]
  },
  {
   "cell_type": "code",
   "execution_count": 9,
   "metadata": {},
   "outputs": [],
   "source": [
    "# Test, L = 0.3, hz=0.3\n",
    "L = 0.3\n",
    "hz = 0.3\n",
    "z = np.linspace(10, 0,100)\n",
    "x = np.zeros_like(z)\n",
    "x[0] = np.sqrt(np.exp(-z[0]))"
   ]
  }
 ],
 "metadata": {
  "kernelspec": {
   "display_name": "Python 3.9.10 64-bit",
   "language": "python",
   "name": "python3"
  },
  "language_info": {
   "codemirror_mode": {
    "name": "ipython",
    "version": 3
   },
   "file_extension": ".py",
   "mimetype": "text/x-python",
   "name": "python",
   "nbconvert_exporter": "python",
   "pygments_lexer": "ipython3",
   "version": "3.9.10"
  },
  "orig_nbformat": 4,
  "vscode": {
   "interpreter": {
    "hash": "36cf16204b8548560b1c020c4e8fb5b57f0e4c58016f52f2d4be01e192833930"
   }
  }
 },
 "nbformat": 4,
 "nbformat_minor": 2
}
