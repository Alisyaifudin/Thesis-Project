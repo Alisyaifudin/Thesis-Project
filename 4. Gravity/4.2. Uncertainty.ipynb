{
 "cells": [
  {
   "cell_type": "code",
   "execution_count": 1,
   "metadata": {},
   "outputs": [],
   "source": [
    "import vaex\n",
    "import numpy as np\n",
    "from matplotlib import pyplot as plt\n",
    "from os.path import join, abspath\n",
    "import sys\n",
    "from os import pardir, mkdir\n",
    "from scipy.stats import norm\n",
    "from scipy.optimize import curve_fit"
   ]
  },
  {
   "cell_type": "code",
   "execution_count": 2,
   "metadata": {},
   "outputs": [],
   "source": [
    "# import utils\n",
    "util_dir = abspath(pardir)\n",
    "sys.path.insert(0, util_dir)"
   ]
  },
  {
   "cell_type": "code",
   "execution_count": 3,
   "metadata": {},
   "outputs": [],
   "source": [
    "# from utils import rhoDD, frho, rho_tot, f, fdist, nu, nu_mod\n",
    "from utils import nu_mod, fdist_cum, fdist_pdf"
   ]
  },
  {
   "cell_type": "code",
   "execution_count": 28,
   "metadata": {},
   "outputs": [
    {
     "data": {
      "text/html": [
       "<table>\n",
       "<thead>\n",
       "<tr><th>#                             </th><th>components             </th><th>rho   </th><th>e_rho  </th><th>sigma_z  </th><th>e_sigma_z  </th></tr>\n",
       "</thead>\n",
       "<tbody>\n",
       "<tr><td><i style='opacity: 0.6'>0</i> </td><td>Molecular gas (H2)     </td><td>0.0104</td><td>0.00312</td><td>3.7      </td><td>0.2        </td></tr>\n",
       "<tr><td><i style='opacity: 0.6'>1</i> </td><td>Cold atomic gas (HI(1))</td><td>0.0277</td><td>0.00554</td><td>7.1      </td><td>0.5        </td></tr>\n",
       "<tr><td><i style='opacity: 0.6'>2</i> </td><td>Warm atomic gas (HI(2))</td><td>0.0073</td><td>0.0007 </td><td>22.1     </td><td>2.4        </td></tr>\n",
       "<tr><td><i style='opacity: 0.6'>3</i> </td><td>Hot ionized gas (HII)  </td><td>0.0005</td><td>3e-05  </td><td>39.0     </td><td>4.0        </td></tr>\n",
       "<tr><td><i style='opacity: 0.6'>4</i> </td><td>Giant stars            </td><td>0.0006</td><td>6e-05  </td><td>15.5     </td><td>1.6        </td></tr>\n",
       "<tr><td>...                           </td><td>...                    </td><td>...   </td><td>...    </td><td>...      </td><td>...        </td></tr>\n",
       "<tr><td><i style='opacity: 0.6'>7</i> </td><td>4 &lt; MV &lt; 5             </td><td>0.0029</td><td>0.00029</td><td>18.0     </td><td>1.8        </td></tr>\n",
       "<tr><td><i style='opacity: 0.6'>8</i> </td><td>5 &lt; MV &lt; 8             </td><td>0.0072</td><td>0.00072</td><td>18.5     </td><td>1.9        </td></tr>\n",
       "<tr><td><i style='opacity: 0.6'>9</i> </td><td>MV &gt; 8                 </td><td>0.0216</td><td>0.0028 </td><td>18.5     </td><td>4.0        </td></tr>\n",
       "<tr><td><i style='opacity: 0.6'>10</i></td><td>White dwarfs           </td><td>0.0056</td><td>0.001  </td><td>20.0     </td><td>5.0        </td></tr>\n",
       "<tr><td><i style='opacity: 0.6'>11</i></td><td>Brown dwarfs           </td><td>0.0015</td><td>0.0005 </td><td>20.0     </td><td>5.0        </td></tr>\n",
       "</tbody>\n",
       "</table>"
      ],
      "text/plain": [
       "#    components               rho     e_rho    sigma_z    e_sigma_z\n",
       "0    Molecular gas (H2)       0.0104  0.00312  3.7        0.2\n",
       "1    Cold atomic gas (HI(1))  0.0277  0.00554  7.1        0.5\n",
       "2    Warm atomic gas (HI(2))  0.0073  0.0007   22.1       2.4\n",
       "3    Hot ionized gas (HII)    0.0005  3e-05    39.0       4.0\n",
       "4    Giant stars              0.0006  6e-05    15.5       1.6\n",
       "...  ...                      ...     ...      ...        ...\n",
       "7    4 < MV < 5               0.0029  0.00029  18.0       1.8\n",
       "8    5 < MV < 8               0.0072  0.00072  18.5       1.9\n",
       "9    MV > 8                   0.0216  0.0028   18.5       4.0\n",
       "10   White dwarfs             0.0056  0.001    20.0       5.0\n",
       "11   Brown dwarfs             0.0015  0.0005   20.0       5.0"
      ]
     },
     "execution_count": 28,
     "metadata": {},
     "output_type": "execute_result"
    }
   ],
   "source": [
    "root_data_dir = abspath(join(pardir, \"Data\"))\n",
    "name = \"Baryon\"\n",
    "data_dir_baryon = join(root_data_dir, name)\n",
    "# load baryons components\n",
    "df_baryon = vaex.open(join(data_dir_baryon, \"baryon.hdf5\"))\n",
    "df_baryon"
   ]
  },
  {
   "cell_type": "markdown",
   "metadata": {},
   "source": [
    "# Framework"
   ]
  },
  {
   "cell_type": "markdown",
   "metadata": {},
   "source": [
    "Following Buch et. al. ([2019](https://iopscience.iop.org/article/10.1088/1475-7516/2019/04/026))\n",
    "\n",
    "let $\\mathcal{M}$ be a model characterized by parameters $\\theta=\\{\\psi, \\xi\\}$, such that $\\psi=\\{\\rho_\\text{DM}, \\Sigma_\\text{DM}, h_\\text{DM}\\}$ are the parameters of interest, and $\\xi=\\{\\rho_i, \\sigma_{z;i}, N_\\nu, z_\\odot\\}$"
   ]
  },
  {
   "cell_type": "markdown",
   "metadata": {},
   "source": [
    "The likelihood is\n",
    "\\begin{aligned}\n",
    "  p_\\nu(d|\\mathcal{M}, \\theta) = \\prod_{i=1}^{N_z} \\frac{1}{\\sqrt{2\\pi \\sigma^2_{\\text{ln }\\nu_i}}}\\exp{\\left(-\\frac{\\left[\\text{ln}(N_\\nu \\nu_i^{\\text{mod}})-\\text{ln } \\nu_i^\\text{data}\\right]^2}{2\\sigma^2_{\\text{ln }\\nu_i}}\\right)}\n",
    "\\end{aligned}"
   ]
  },
  {
   "cell_type": "markdown",
   "metadata": {},
   "source": [
    "Where\n",
    "* $\\nu_i^{\\text{mod}}$ is given by `nu_mod` in utils.py\n",
    "* $\\nu_i^{\\text{data}}$ is given by `Data/Number-Density/density.hdf5`\n",
    "* $\\sigma^2_{\\text{ln }\\nu_i}$ is total uncertainty"
   ]
  },
  {
   "cell_type": "markdown",
   "metadata": {},
   "source": [
    "Total uncertainty is\n",
    "\\begin{aligned}\n",
    "  \\sigma^2_{\\text{ln }\\nu_i} = \\left(\\sigma^2_{\\text{ln }\\nu_i}\\right)^\\text{mod}+\\left(\\sigma^2_{\\text{ln }\\nu_i}\\right)^\\text{data}\n",
    "\\end{aligned} "
   ]
  },
  {
   "cell_type": "markdown",
   "metadata": {},
   "source": [
    "With the following source of uncertainties\n",
    "| Type | Source | Treatment |\n",
    "| ---- | ------ | --------- |\n",
    "| data | Poisson| sqrt(N)   |\n",
    "|      | 3% dust| 3% * data |\n",
    "| mod  | stats  | bootstrap res. |\n",
    "|      | sys    | asym |"
   ]
  },
  {
   "cell_type": "markdown",
   "metadata": {},
   "source": [
    "Where the mod uncertainty is\n",
    "\\begin{aligned}\n",
    "  \\left(\\sigma^2_{\\text{ln }\\nu_i}\\right)^\\text{mod} = \\left(\\sigma^2_{\\text{ln }\\nu_i}\\right)^\\text{mod, stat}+\\left(\\sigma^2_{\\text{ln }\\nu_i}\\right)^\\text{mod, sys}\n",
    "\\end{aligned} \n",
    "\n",
    "$\\left(\\sigma^2_{\\text{ln }\\nu_i}\\right)^\\text{mod, stat}$ is estimated using bootstrap resampling, and\n",
    "\n",
    "$\\left(\\sigma^2_{\\text{ln }\\nu_i}\\right)^\\text{mod, sys}$ is estimated from the asymmetry of vertical vel. dist.,\n",
    "\\begin{aligned}\n",
    "  \\left(\\sigma^2_{\\text{ln }\\nu_i}\\right)^\\text{mod, sys} \\approx |\\text{ln }\\nu^{(w>0)}-\\text{ln }\\nu^{(w<0)}|\n",
    "\\end{aligned}"
   ]
  },
  {
   "cell_type": "markdown",
   "metadata": {},
   "source": [
    "## Bootstrap resampling\n",
    "Check the detail in [Schutz, K., Lin, T., Safdi, B. R., & Wu, C. L. (2018). Constraining a Thin Dark Matter Disk with G a i a. Physical review letters, 121(8), 081101](https://journals.aps.org/prl/abstract/10.1103/PhysRevLett.121.081101) Appendix D"
   ]
  },
  {
   "cell_type": "code",
   "execution_count": 5,
   "metadata": {},
   "outputs": [
    {
     "data": {
      "text/plain": [
       "'/home2/s20321005/Thesis-Project/Data/Spectral-Class-Velocity'"
      ]
     },
     "execution_count": 5,
     "metadata": {},
     "output_type": "execute_result"
    }
   ],
   "source": [
    "root_data_dir = abspath(join(pardir, \"Data\"))\n",
    "data_dir = join(root_data_dir, \"Spectral-Class-Velocity\")\n",
    "data_dir"
   ]
  },
  {
   "cell_type": "code",
   "execution_count": 27,
   "metadata": {},
   "outputs": [
    {
     "data": {
      "text/html": [
       "<table>\n",
       "<thead>\n",
       "<tr><th>#                                </th><th>w                  </th><th>e_w                 </th><th>spectraltype_esphs  </th></tr>\n",
       "</thead>\n",
       "<tbody>\n",
       "<tr><td><i style='opacity: 0.6'>0</i>    </td><td>-9.590023669072771 </td><td>0.023956980727508907</td><td>F                   </td></tr>\n",
       "<tr><td><i style='opacity: 0.6'>1</i>    </td><td>16.547108022089976 </td><td>0.010300926715071157</td><td>G                   </td></tr>\n",
       "<tr><td><i style='opacity: 0.6'>2</i>    </td><td>33.16147423530458  </td><td>0.03313949612412754 </td><td>G                   </td></tr>\n",
       "<tr><td><i style='opacity: 0.6'>3</i>    </td><td>23.232425874782766 </td><td>0.03457258873567302 </td><td>G                   </td></tr>\n",
       "<tr><td><i style='opacity: 0.6'>4</i>    </td><td>6.200975829380684  </td><td>0.01760915737454791 </td><td>G                   </td></tr>\n",
       "<tr><td>...                              </td><td>...                </td><td>...                 </td><td>...                 </td></tr>\n",
       "<tr><td><i style='opacity: 0.6'>1,325</i></td><td>16.01534653457238  </td><td>0.027898021529253764</td><td>G                   </td></tr>\n",
       "<tr><td><i style='opacity: 0.6'>1,326</i></td><td>-7.1882994564791955</td><td>0.012496910009595399</td><td>G                   </td></tr>\n",
       "<tr><td><i style='opacity: 0.6'>1,327</i></td><td>14.107354617379562 </td><td>0.018691735437401776</td><td>G                   </td></tr>\n",
       "<tr><td><i style='opacity: 0.6'>1,328</i></td><td>9.275137350974589  </td><td>0.013502434199310931</td><td>G                   </td></tr>\n",
       "<tr><td><i style='opacity: 0.6'>1,329</i></td><td>-34.06259900886221 </td><td>0.016266060436371507</td><td>G                   </td></tr>\n",
       "</tbody>\n",
       "</table>"
      ],
      "text/plain": [
       "#      w                    e_w                   spectraltype_esphs\n",
       "0      -9.590023669072771   0.023956980727508907  F\n",
       "1      16.547108022089976   0.010300926715071157  G\n",
       "2      33.16147423530458    0.03313949612412754   G\n",
       "3      23.232425874782766   0.03457258873567302   G\n",
       "4      6.200975829380684    0.01760915737454791   G\n",
       "...    ...                  ...                   ...\n",
       "1,325  16.01534653457238    0.027898021529253764  G\n",
       "1,326  -7.1882994564791955  0.012496910009595399  G\n",
       "1,327  14.107354617379562   0.018691735437401776  G\n",
       "1,328  9.275137350974589    0.013502434199310931  G\n",
       "1,329  -34.06259900886221   0.016266060436371507  G"
      ]
     },
     "execution_count": 27,
     "metadata": {},
     "output_type": "execute_result"
    }
   ],
   "source": [
    "a_type = vaex.open(join(data_dir, \"A-type.hdf5\"))\n",
    "f_type = vaex.open(join(data_dir, \"F-type.hdf5\"))\n",
    "g_type = vaex.open(join(data_dir, \"G-type.hdf5\"))\n",
    "g_type"
   ]
  },
  {
   "cell_type": "code",
   "execution_count": 63,
   "metadata": {},
   "outputs": [
    {
     "data": {
      "text/plain": [
       "[<matplotlib.lines.Line2D at 0x7f1fdd54d9a0>]"
      ]
     },
     "execution_count": 63,
     "metadata": {},
     "output_type": "execute_result"
    },
    {
     "data": {
      "image/png": "[encoded data removed]",
      "text/plain": [
       "<Figure size 432x288 with 1 Axes>"
      ]
     },
     "metadata": {
      "needs_background": "light"
     },
     "output_type": "display_data"
    }
   ],
   "source": [
    "# Resample with replacement\n",
    "a_type_resampled = a_type.sample(frac=1, replace=True)\n",
    "# compare\n",
    "a_num_resampled = a_type_resampled.w.to_numpy()\n",
    "a_num_resampled = np.sort(a_num_resampled)\n",
    "a_num = a_type.w.to_numpy()\n",
    "a_num = np.sort(a_num)\n",
    "# # plot cumulative\n",
    "plt.plot(a_num_resampled, np.linspace(0, 1, len(a_num_resampled)))\n",
    "plt.plot(a_num, np.linspace(0, 1, len(a_num)))"
   ]
  },
  {
   "cell_type": "code",
   "execution_count": 8,
   "metadata": {},
   "outputs": [],
   "source": [
    "def fdist_cum(w, sigma, w0):\n",
    "  return norm.cdf(w, loc=w0, scale=sigma)\n",
    "def fdist_pdf(w, sigma, w0):\n",
    "  return norm.pdf(w, loc=w0, scale=sigma)"
   ]
  },
  {
   "cell_type": "code",
   "execution_count": null,
   "metadata": {},
   "outputs": [],
   "source": [
    "popt, pcov = curve_fit(fdist_cum, a_num, np.linspace(0, 1, len(a_num)), p0=(1,0))\n",
    "popt"
   ]
  },
  {
   "cell_type": "code",
   "execution_count": null,
   "metadata": {},
   "outputs": [],
   "source": [
    "ws = np.linspace(-30,30, 100)\n",
    "plt.figure()\n",
    "plt.plot(a_num, np.linspace(0, 1, len(a_num)))\n",
    "plt.plot(ws, fdist_cum(ws, *popt))\n",
    "plt.show()\n",
    "plt.figure()\n",
    "plt.hist(a_num, bins=np.linspace(-30,30, 30), density=True)\n",
    "plt.plot(ws, fdist_pdf(ws, *popt))\n",
    "plt.show()"
   ]
  },
  {
   "cell_type": "code",
   "execution_count": null,
   "metadata": {},
   "outputs": [],
   "source": [
    "popt_r, pcov = curve_fit(fdist_cum, a_num_resampled, np.linspace(0, 1, len(a_num)), p0=(1,0))\n",
    "popt_r"
   ]
  },
  {
   "cell_type": "code",
   "execution_count": null,
   "metadata": {},
   "outputs": [],
   "source": [
    "ws = np.linspace(-30,30, 100)\n",
    "plt.figure()\n",
    "plt.plot(a_num_resampled, np.linspace(0, 1, len(a_num_resampled)))\n",
    "plt.plot(ws, fdist_cum(ws, *popt_r))\n",
    "plt.show()\n",
    "plt.figure()\n",
    "plt.hist(a_num_resampled, bins=np.linspace(-30,30, 30), density=True)\n",
    "plt.plot(ws, fdist_pdf(ws, *popt_r))\n",
    "plt.show()"
   ]
  },
  {
   "cell_type": "code",
   "execution_count": null,
   "metadata": {},
   "outputs": [],
   "source": [
    "plt.figure()\n",
    "plt.hist(a_num_resampled, bins=np.linspace(-30,30, 30), density=True)\n",
    "plt.plot(ws, fdist_pdf(ws, *popt_r))\n",
    "plt.hist(a_num, bins=np.linspace(-30,30, 30), density=True)\n",
    "plt.plot(ws, fdist_pdf(ws, *popt))\n",
    "plt.show()"
   ]
  },
  {
   "cell_type": "code",
   "execution_count": 66,
   "metadata": {},
   "outputs": [
    {
     "name": "stdout",
     "output_type": "stream",
     "text": [
      "export(hdf5) [########################################] 100.00% elapsed time  :     1.64s =  0.0m =  0.0h\n",
      "export(hdf5) [########################################] 100.00% elapsed time  :     1.73s =  0.0m =  0.0h\n",
      "export(hdf5) [########################################] 100.00% elapsed time  :     0.72s =  0.0m =  0.0h\n",
      " "
     ]
    }
   ],
   "source": [
    "# create 1000 bootstrap samples\n",
    "for t, c in [(a_type, \"A\"), (f_type, \"F\"), (g_type, \"G\")]:\n",
    "  df = []\n",
    "  for i in range(1000):\n",
    "    resampled = t.sample(frac=1, replace=True)\n",
    "    num_resampled = resampled.w.to_numpy()\n",
    "    num_resampled = np.sort(num_resampled)\n",
    "    popt_r, _ = curve_fit(fdist_cum, num_resampled, np.linspace(0, 1, len(num_resampled)), p0=(1,0))\n",
    "    sigma_v, w0 = popt_r\n",
    "    cols = dict(sigma_v=[sigma_v], w0=[w0], sample=[i])\n",
    "    df_new = vaex.from_dict(cols)\n",
    "    if len(df) == 0:\n",
    "      df = df_new\n",
    "    else:\n",
    "      df = df.concat(df_new)\n",
    "  df.export(join(data_dir, f\"{c}-type-bootstrap.hdf5\"), progress=True)"
   ]
  },
  {
   "cell_type": "code",
   "execution_count": 6,
   "metadata": {},
   "outputs": [
    {
     "data": {
      "text/html": [
       "<table>\n",
       "<thead>\n",
       "<tr><th>#                              </th><th>sigma_v           </th><th>w0                </th><th>sample  </th></tr>\n",
       "</thead>\n",
       "<tbody>\n",
       "<tr><td><i style='opacity: 0.6'>0</i>  </td><td>5.788585360683395 </td><td>-7.236451773135977</td><td>0       </td></tr>\n",
       "<tr><td><i style='opacity: 0.6'>1</i>  </td><td>4.6788341506745565</td><td>-6.195221483859772</td><td>1       </td></tr>\n",
       "<tr><td><i style='opacity: 0.6'>2</i>  </td><td>6.109099400027174 </td><td>-6.797145826910388</td><td>2       </td></tr>\n",
       "<tr><td><i style='opacity: 0.6'>3</i>  </td><td>5.9757782234666905</td><td>-6.862668013704516</td><td>3       </td></tr>\n",
       "<tr><td><i style='opacity: 0.6'>4</i>  </td><td>5.603674560082213 </td><td>-7.209796290451144</td><td>4       </td></tr>\n",
       "<tr><td>...                            </td><td>...               </td><td>...               </td><td>...     </td></tr>\n",
       "<tr><td><i style='opacity: 0.6'>995</i></td><td>7.003022582941199 </td><td>-6.529369648608863</td><td>995     </td></tr>\n",
       "<tr><td><i style='opacity: 0.6'>996</i></td><td>5.410044015088829 </td><td>-6.958005597138357</td><td>996     </td></tr>\n",
       "<tr><td><i style='opacity: 0.6'>997</i></td><td>7.10915076532003  </td><td>-6.377562354029689</td><td>997     </td></tr>\n",
       "<tr><td><i style='opacity: 0.6'>998</i></td><td>5.050851152086821 </td><td>-6.10379377607252 </td><td>998     </td></tr>\n",
       "<tr><td><i style='opacity: 0.6'>999</i></td><td>4.887387747767048 </td><td>-5.838748842622266</td><td>999     </td></tr>\n",
       "</tbody>\n",
       "</table>"
      ],
      "text/plain": [
       "#    sigma_v             w0                  sample\n",
       "0    5.788585360683395   -7.236451773135977  0\n",
       "1    4.6788341506745565  -6.195221483859772  1\n",
       "2    6.109099400027174   -6.797145826910388  2\n",
       "3    5.9757782234666905  -6.862668013704516  3\n",
       "4    5.603674560082213   -7.209796290451144  4\n",
       "...  ...                 ...                 ...\n",
       "995  7.003022582941199   -6.529369648608863  995\n",
       "996  5.410044015088829   -6.958005597138357  996\n",
       "997  7.10915076532003    -6.377562354029689  997\n",
       "998  5.050851152086821   -6.10379377607252   998\n",
       "999  4.887387747767048   -5.838748842622266  999"
      ]
     },
     "execution_count": 6,
     "metadata": {},
     "output_type": "execute_result"
    }
   ],
   "source": [
    "a_bootstrap_type = vaex.open(join(data_dir, \"A-type-bootstrap.hdf5\"))\n",
    "f_bootstrap_type = vaex.open(join(data_dir, \"F-type-bootstrap.hdf5\"))\n",
    "g_bootstrap_type = vaex.open(join(data_dir, \"G-type-bootstrap.hdf5\"))\n",
    "a_bootstrap_type"
   ]
  },
  {
   "cell_type": "markdown",
   "metadata": {},
   "source": [
    "The first sample"
   ]
  },
  {
   "cell_type": "code",
   "execution_count": 7,
   "metadata": {},
   "outputs": [
    {
     "data": {
      "text/plain": [
       "[<matplotlib.lines.Line2D at 0x7fb31f87ffd0>]"
      ]
     },
     "execution_count": 7,
     "metadata": {},
     "output_type": "execute_result"
    },
    {
     "data": {
      "image/png": "[encoded data removed]",
      "text/plain": [
       "<Figure size 432x288 with 1 Axes>"
      ]
     },
     "metadata": {
      "needs_background": "light"
     },
     "output_type": "display_data"
    }
   ],
   "source": [
    "w0 = a_bootstrap_type.w0.to_numpy()[0]\n",
    "sigma_v = a_bootstrap_type.sigma_v.to_numpy()[0]\n",
    "ws = np.linspace(-30,30, 100)\n",
    "plt.figure()\n",
    "plt.plot(ws, fdist_pdf(ws, sigma_v, w0))"
   ]
  },
  {
   "cell_type": "code",
   "execution_count": 15,
   "metadata": {},
   "outputs": [
    {
     "data": {
      "image/png": "[encoded data removed]",
      "text/plain": [
       "<Figure size 432x288 with 1 Axes>"
      ]
     },
     "metadata": {
      "needs_background": "light"
     },
     "output_type": "display_data"
    }
   ],
   "source": [
    "rhos = df_baryon[\"rho\"].to_numpy()  # Msun/pc^3\n",
    "sigmaz = df_baryon[\"sigma_z\"].to_numpy() # km/s\n",
    "\n",
    "# test the following dark values\n",
    "rhoDM = 0.016 # Msun/pc^3\n",
    "sigmaDD = 7 # Msun/pc^2\n",
    "hDD = 20 # pc\n",
    "\n",
    "theta = dict(rhos=rhos, sigmaz=sigmaz, rhoDM=rhoDM, sigmaDD=sigmaDD, hDD=hDD, Nv=1, zsun=0)\n",
    "\n",
    "zz = np.linspace(1, 200, 22)\n",
    "Z, Nu = nu_mod(zz, theta, sigma_v)\n",
    "plt.plot(Z, Nu)\n",
    "plt.grid()"
   ]
  },
  {
   "cell_type": "code",
   "execution_count": 20,
   "metadata": {},
   "outputs": [
    {
     "name": "stdout",
     "output_type": "stream",
     "text": [
      "0 100 200 300 400 500 600 700 800 900 "
     ]
    }
   ],
   "source": [
    "# run 100 bootstrap resampling\n",
    "sigmas = a_bootstrap_type.sigma_v.to_numpy()\n",
    "N = len(sigmas)\n",
    "zz = np.linspace(1, 200, 22)\n",
    "Zs = np.zeros((N, len(zz)*2))\n",
    "Nus = np.zeros((N, len(zz)*2))\n",
    "\n",
    "# initial values\n",
    "rhos = df_baryon[\"rho\"].to_numpy()  # Msun/pc^3\n",
    "sigmaz = df_baryon[\"sigma_z\"].to_numpy() # km/s\n",
    "\n",
    "# test the following dark values\n",
    "rhoDM = 0.016 # Msun/pc^3\n",
    "sigmaDD = 7 # Msun/pc^2\n",
    "hDD = 20 # pc\n",
    "\n",
    "theta = dict(rhos=rhos, sigmaz=sigmaz, rhoDM=rhoDM, sigmaDD=sigmaDD, hDD=hDD, Nv=1, zsun=0)\n",
    "\n",
    "for i, sigma_v in enumerate(sigmas):\n",
    "  # w0 = a_bootstrap_type.w0.to_numpy()[0]\n",
    "  Zs[i], Nus[i] = nu_mod(zz, theta, sigma_v)\n",
    "  if (i % 100 == 0): print(i, end=\" \")"
   ]
  },
  {
   "cell_type": "code",
   "execution_count": 21,
   "metadata": {},
   "outputs": [
    {
     "data": {
      "text/plain": [
       "<ErrorbarContainer object of 3 artists>"
      ]
     },
     "execution_count": 21,
     "metadata": {},
     "output_type": "execute_result"
    },
    {
     "data": {
      "image/png": "[encoded data removed]",
      "text/plain": [
       "<Figure size 432x288 with 1 Axes>"
      ]
     },
     "metadata": {
      "needs_background": "light"
     },
     "output_type": "display_data"
    }
   ],
   "source": [
    "Nu_mean = np.mean(Nus, axis=0)\n",
    "Nu_std = np.std(Nus, axis=0)\n",
    "plt.errorbar(Zs[0], Nu_mean, yerr=Nu_std, fmt=\".\")"
   ]
  },
  {
   "cell_type": "markdown",
   "metadata": {},
   "source": [
    "In function form"
   ]
  },
  {
   "cell_type": "code",
   "execution_count": 31,
   "metadata": {},
   "outputs": [],
   "source": [
    "def bootstrap_resampling(func, theta, sigmas, zz):\n",
    "  \"\"\"Bootstrap resampling of a function with a distribution\"\"\"\n",
    "  # run N bootstrap resampling\n",
    "  Zs = np.zeros((len(sigmas), len(zz)*2))\n",
    "  Nus = np.zeros((len(sigmas), len(zz)*2))\n",
    "\n",
    "  for i, sigma in enumerate(sigmas):\n",
    "    Zs[i], Nus[i] = func(zz, theta, sigma)\n",
    "    if (i % 100 == 0): print(i, end=\" \")\n",
    "  print(f\"{i} end\")\n",
    "  Nu_mean = np.mean(Nus, axis=0)\n",
    "  Nu_std = np.std(Nus, axis=0)\n",
    "  return Zs[0], Nu_mean, Nu_std"
   ]
  },
  {
   "cell_type": "code",
   "execution_count": 29,
   "metadata": {},
   "outputs": [
    {
     "name": "stdout",
     "output_type": "stream",
     "text": [
      "0 100 200 300 400 500 600 700 800 900 "
     ]
    }
   ],
   "source": [
    "sigmas = a_bootstrap_type.sigma_v.to_numpy()\n",
    "\n",
    "zz = np.linspace(1, 200, 22)\n",
    "\n",
    "# initial values\n",
    "rhos = df_baryon[\"rho\"].to_numpy()  # Msun/pc^3\n",
    "sigmaz = df_baryon[\"sigma_z\"].to_numpy() # km/s\n",
    "\n",
    "# test the following dark values\n",
    "rhoDM = 0.016 # Msun/pc^3\n",
    "sigmaDD = 7 # Msun/pc^2\n",
    "hDD = 20 # pc\n",
    "\n",
    "theta = dict(rhos=rhos, sigmaz=sigmaz, rhoDM=rhoDM, sigmaDD=sigmaDD, hDD=hDD, Nv=1, zsun=0)\n",
    "\n",
    "Zs, Nu_mean, Nu_std = bootstrap_resampling(nu_mod, theta, sigmas, zz)"
   ]
  },
  {
   "cell_type": "code",
   "execution_count": 32,
   "metadata": {},
   "outputs": [
    {
     "data": {
      "text/plain": [
       "<ErrorbarContainer object of 3 artists>"
      ]
     },
     "execution_count": 32,
     "metadata": {},
     "output_type": "execute_result"
    },
    {
     "data": {
      "image/png": "[encoded data removed]",
      "text/plain": [
       "<Figure size 432x288 with 1 Axes>"
      ]
     },
     "metadata": {
      "needs_background": "light"
     },
     "output_type": "display_data"
    }
   ],
   "source": [
    "plt.errorbar(Zs, Nu_mean, yerr=Nu_std, fmt=\".\")"
   ]
  },
  {
   "cell_type": "markdown",
   "metadata": {},
   "source": [
    "## Asymmetry uncertainties"
   ]
  },
  {
   "cell_type": "markdown",
   "metadata": {},
   "source": [
    "fit the vertical velocity distribution with 2 gaussian dist"
   ]
  },
  {
   "cell_type": "code",
   "execution_count": 135,
   "metadata": {},
   "outputs": [],
   "source": [
    "def double_gaussian_cum(x, sigma1, sigma2, w0):\n",
    "  \"\"\"Cumulative distribution of a double Gaussian\"\"\"\n",
    "  a = 2*sigma1/(sigma1+sigma2)\n",
    "  b = 2*sigma2/(sigma1+sigma2)\n",
    "  return np.heaviside(w0-x, 0.5)*norm.cdf(x, loc=w0, scale=sigma1)*a + np.heaviside(x-w0, 0.5)*((norm.cdf(x, loc=w0, scale=sigma2)-0.5)*b+a/2)\n",
    "def double_gaussian_pdf(x, sigma1, sigma2, w0):\n",
    "  a = 2*sigma1/(sigma1+sigma2)\n",
    "  b = 2*sigma2/(sigma1+sigma2)\n",
    "  return np.heaviside(w0-x, 0)*norm.pdf(x, loc=w0, scale=sigma1)*a + np.heaviside(x-w0, 1)*norm.pdf(x, loc=w0, scale=sigma2)*b"
   ]
  },
  {
   "cell_type": "code",
   "execution_count": 154,
   "metadata": {},
   "outputs": [
    {
     "data": {
      "image/png": "[encoded data removed]",
      "text/plain": [
       "<Figure size 432x288 with 1 Axes>"
      ]
     },
     "metadata": {
      "needs_background": "light"
     },
     "output_type": "display_data"
    },
    {
     "data": {
      "text/plain": [
       "(6.817370096588773, 4.5184907770985125, -4.958645270809794)"
      ]
     },
     "execution_count": 154,
     "metadata": {},
     "output_type": "execute_result"
    }
   ],
   "source": [
    "a_num = a_type.w.to_numpy()\n",
    "a_num = np.sort(a_num)\n",
    "popt, _ = curve_fit(double_gaussian_cum, a_num, np.linspace(0, 1, len(a_num)), p0=(1,1, 0))\n",
    "sigma_v1, sigma_v2, w0 = popt\n",
    "ws = np.linspace(-50, 50, 1000)\n",
    "plt.figure()\n",
    "plt.plot(a_num, np.linspace(0, 1, len(a_num)))\n",
    "plt.plot(ws, double_gaussian_cum(ws, *popt))\n",
    "plt.axvline(w0, color=\"k\", ls=\"--\")\n",
    "plt.grid()\n",
    "plt.show()\n",
    "\n",
    "sigma_v1, sigma_v2, w0"
   ]
  },
  {
   "cell_type": "code",
   "execution_count": 155,
   "metadata": {},
   "outputs": [],
   "source": [
    "# run 100 bootstrap resampling\n",
    "zz = np.linspace(1, 200, 22)\n",
    "\n",
    "# initial values\n",
    "rhos = df_baryon[\"rho\"].to_numpy()  # Msun/pc^3\n",
    "sigmaz = df_baryon[\"sigma_z\"].to_numpy() # km/s\n",
    "\n",
    "# test the following dark values\n",
    "rhoDM = 0.016 # Msun/pc^3\n",
    "sigmaDD = 7 # Msun/pc^2\n",
    "hDD = 20 # pc\n",
    "\n",
    "theta = dict(rhos=rhos, sigmaz=sigmaz, rhoDM=rhoDM, sigmaDD=sigmaDD, hDD=hDD, Nv=1, zsun=0)\n",
    "\n",
    "Zs1, Nus1 = nu_mod(zz, theta, sigma_v1)\n",
    "Zs2, Nus2 = nu_mod(zz, theta, sigma_v2)"
   ]
  },
  {
   "cell_type": "code",
   "execution_count": 156,
   "metadata": {},
   "outputs": [
    {
     "data": {
      "image/png": "[encoded data removed]",
      "text/plain": [
       "<Figure size 432x288 with 1 Axes>"
      ]
     },
     "metadata": {
      "needs_background": "light"
     },
     "output_type": "display_data"
    }
   ],
   "source": [
    "sigma_sys = np.abs(Nus1-Nus2)/2\n",
    "middle = (Nus1+Nus2)/2\n",
    "plt.errorbar(Zs1, middle, yerr=sigma_sys, fmt=\".\")\n",
    "plt.grid()"
   ]
  },
  {
   "cell_type": "markdown",
   "metadata": {},
   "source": [
    "In function form"
   ]
  },
  {
   "cell_type": "code",
   "execution_count": 157,
   "metadata": {},
   "outputs": [],
   "source": [
    "def asymmerty_uncertainties(func, theta, dist, zz):\n",
    "  popt, _ = curve_fit(double_gaussian_cum, dist, np.linspace(0, 1, len(dist)), p0=(1,1,0))\n",
    "  sigma_v1, sigma_v2, w0 = popt\n",
    "  Zs1, Nus1 = func(zz, theta, sigma_v1)\n",
    "  Zs2, Nus2 = func(zz, theta, sigma_v2)\n",
    "  sigma_sys = np.abs(Nus1-Nus2)/2\n",
    "  middle = (Nus1+Nus2)/2\n",
    "  return Zs1, middle, sigma_sys"
   ]
  },
  {
   "cell_type": "code",
   "execution_count": 159,
   "metadata": {},
   "outputs": [],
   "source": [
    "# run 100 bootstrap resampling\n",
    "zz = np.linspace(1, 200, 22)\n",
    "\n",
    "# initial values\n",
    "rhos = df_baryon[\"rho\"].to_numpy()  # Msun/pc^3\n",
    "sigmaz = df_baryon[\"sigma_z\"].to_numpy() # km/s\n",
    "\n",
    "# test the following dark values\n",
    "rhoDM = 0.016 # Msun/pc^3\n",
    "sigmaDD = 7 # Msun/pc^2\n",
    "hDD = 20 # pc\n",
    "\n",
    "theta = dict(rhos=rhos, sigmaz=sigmaz, rhoDM=rhoDM, sigmaDD=sigmaDD, hDD=hDD, Nv=1, zsun=0)\n",
    "\n",
    "Zs, middle, sigma_sys = asymmerty_uncertainties(nu_mod, theta, a_num, zz)"
   ]
  },
  {
   "cell_type": "code",
   "execution_count": 160,
   "metadata": {},
   "outputs": [
    {
     "data": {
      "image/png": "[encoded data removed]",
      "text/plain": [
       "<Figure size 432x288 with 1 Axes>"
      ]
     },
     "metadata": {
      "needs_background": "light"
     },
     "output_type": "display_data"
    }
   ],
   "source": [
    "plt.errorbar(Zs, middle, yerr=sigma_sys, fmt=\".\")\n",
    "plt.grid()"
   ]
  },
  {
   "cell_type": "markdown",
   "metadata": {},
   "source": [
    "## Compare"
   ]
  },
  {
   "cell_type": "code",
   "execution_count": 162,
   "metadata": {},
   "outputs": [
    {
     "data": {
      "image/png": "[encoded data removed]",
      "text/plain": [
       "<Figure size 432x288 with 1 Axes>"
      ]
     },
     "metadata": {
      "needs_background": "light"
     },
     "output_type": "display_data"
    }
   ],
   "source": [
    "# compare systematic error and statistical error\n",
    "plt.errorbar(Zs1, middle, yerr=sigma_sys, fmt=\".\", c=\"k\")\n",
    "plt.errorbar(Zs, Nu_mean, yerr=Nu_std, fmt=\".\")\n",
    "plt.grid()"
   ]
  },
  {
   "cell_type": "code",
   "execution_count": 163,
   "metadata": {},
   "outputs": [
    {
     "data": {
      "image/png": "[encoded data removed]",
      "text/plain": [
       "<Figure size 432x288 with 1 Axes>"
      ]
     },
     "metadata": {
      "needs_background": "light"
     },
     "output_type": "display_data"
    }
   ],
   "source": [
    "# total mod error\n",
    "unc_tot = np.sqrt(Nu_std**2+sigma_sys**2)\n",
    "plt.errorbar(Zs, Nu_mean, yerr=unc_tot, fmt=\".\")\n",
    "plt.grid()"
   ]
  },
  {
   "cell_type": "markdown",
   "metadata": {},
   "source": [
    "Save all relevant functions in utils.py"
   ]
  }
 ],
 "metadata": {
  "kernelspec": {
   "display_name": "Python 3.9.7 ('vaex2')",
   "language": "python",
   "name": "python3"
  },
  "language_info": {
   "codemirror_mode": {
    "name": "ipython",
    "version": 3
   },
   "file_extension": ".py",
   "mimetype": "text/x-python",
   "name": "python",
   "nbconvert_exporter": "python",
   "pygments_lexer": "ipython3",
   "version": "3.9.7"
  },
  "orig_nbformat": 4,
  "vscode": {
   "interpreter": {
    "hash": "ce24ca8aae0c18c4327bef86187bd310e85b0b68e0fbab549c3fc8d824c6eee6"
   }
  }
 },
 "nbformat": 4,
 "nbformat_minor": 2
}
