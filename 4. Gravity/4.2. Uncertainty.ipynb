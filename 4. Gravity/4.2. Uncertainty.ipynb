{
 "cells": [
  {
   "cell_type": "code",
   "execution_count": 1,
   "metadata": {},
   "outputs": [],
   "source": [
    "import vaex\n",
    "import numpy as np\n",
    "from matplotlib import pyplot as plt\n",
    "from os.path import join, abspath\n",
    "import sys \n",
    "from os import pardir, mkdir \n",
    "from scipy.stats import norm\n",
    "from scipy.optimize import curve_fit"
   ]
  },
  {
   "cell_type": "code",
   "execution_count": 2,
   "metadata": {},
   "outputs": [],
   "source": [
    "# import utils\n",
    "util_dir = abspath(pardir)\n",
    "sys.path.insert(0, util_dir)"
   ]
  },
  {
   "cell_type": "code",
   "execution_count": 3,
   "metadata": {},
   "outputs": [],
   "source": [
    "# from utils import rhoDD, frho, rho_tot, f, fdist, nu, nu_mod\n",
    "from utils import nu_mod, nu, nu_bootstrap, f"
   ]
  },
  {
   "cell_type": "code",
   "execution_count": 4,
   "metadata": {},
   "outputs": [
    {
     "data": {
      "text/html": [
       "<table>\n",
       "<thead>\n",
       "<tr><th>#                             </th><th>components             </th><th>rho   </th><th>e_rho  </th><th>sigma_z  </th><th>e_sigma_z  </th></tr>\n",
       "</thead>\n",
       "<tbody>\n",
       "<tr><td><i style='opacity: 0.6'>0</i> </td><td>Molecular gas (H2)     </td><td>0.0104</td><td>0.00312</td><td>3.7      </td><td>0.2        </td></tr>\n",
       "<tr><td><i style='opacity: 0.6'>1</i> </td><td>Cold atomic gas (HI(1))</td><td>0.0277</td><td>0.00554</td><td>7.1      </td><td>0.5        </td></tr>\n",
       "<tr><td><i style='opacity: 0.6'>2</i> </td><td>Warm atomic gas (HI(2))</td><td>0.0073</td><td>0.0007 </td><td>22.1     </td><td>2.4        </td></tr>\n",
       "<tr><td><i style='opacity: 0.6'>3</i> </td><td>Hot ionized gas (HII)  </td><td>0.0005</td><td>3e-05  </td><td>39.0     </td><td>4.0        </td></tr>\n",
       "<tr><td><i style='opacity: 0.6'>4</i> </td><td>Giant stars            </td><td>0.0006</td><td>6e-05  </td><td>15.5     </td><td>1.6        </td></tr>\n",
       "<tr><td>...                           </td><td>...                    </td><td>...   </td><td>...    </td><td>...      </td><td>...        </td></tr>\n",
       "<tr><td><i style='opacity: 0.6'>7</i> </td><td>4 &lt; MV &lt; 5             </td><td>0.0029</td><td>0.00029</td><td>18.0     </td><td>1.8        </td></tr>\n",
       "<tr><td><i style='opacity: 0.6'>8</i> </td><td>5 &lt; MV &lt; 8             </td><td>0.0072</td><td>0.00072</td><td>18.5     </td><td>1.9        </td></tr>\n",
       "<tr><td><i style='opacity: 0.6'>9</i> </td><td>MV &gt; 8                 </td><td>0.0216</td><td>0.0028 </td><td>18.5     </td><td>4.0        </td></tr>\n",
       "<tr><td><i style='opacity: 0.6'>10</i></td><td>White dwarfs           </td><td>0.0056</td><td>0.001  </td><td>20.0     </td><td>5.0        </td></tr>\n",
       "<tr><td><i style='opacity: 0.6'>11</i></td><td>Brown dwarfs           </td><td>0.0015</td><td>0.0005 </td><td>20.0     </td><td>5.0        </td></tr>\n",
       "</tbody>\n",
       "</table>"
      ],
      "text/plain": [
       "#    components               rho     e_rho    sigma_z    e_sigma_z\n",
       "0    Molecular gas (H2)       0.0104  0.00312  3.7        0.2\n",
       "1    Cold atomic gas (HI(1))  0.0277  0.00554  7.1        0.5\n",
       "2    Warm atomic gas (HI(2))  0.0073  0.0007   22.1       2.4\n",
       "3    Hot ionized gas (HII)    0.0005  3e-05    39.0       4.0\n",
       "4    Giant stars              0.0006  6e-05    15.5       1.6\n",
       "...  ...                      ...     ...      ...        ...\n",
       "7    4 < MV < 5               0.0029  0.00029  18.0       1.8\n",
       "8    5 < MV < 8               0.0072  0.00072  18.5       1.9\n",
       "9    MV > 8                   0.0216  0.0028   18.5       4.0\n",
       "10   White dwarfs             0.0056  0.001    20.0       5.0\n",
       "11   Brown dwarfs             0.0015  0.0005   20.0       5.0"
      ]
     },
     "execution_count": 4,
     "metadata": {},
     "output_type": "execute_result"
    }
   ],
   "source": [
    "root_data_dir = abspath(join(pardir, \"Data\"))\n",
    "name = \"Baryon\"\n",
    "data_dir_baryon = join(root_data_dir, name)\n",
    "# load baryons components\n",
    "df_baryon = vaex.open(join(data_dir_baryon, \"baryon.hdf5\"))\n",
    "df_baryon"
   ]
  },
  {
   "cell_type": "markdown",
   "metadata": {},
   "source": [
    "# Framework"
   ]
  },
  {
   "cell_type": "markdown",
   "metadata": {},
   "source": [
    "Following Buch et. al. ([2019](https://iopscience.iop.org/article/10.1088/1475-7516/2019/04/026))\n",
    "\n",
    "let $\\mathcal{M}$ be a model characterized by parameters $\\theta=\\{\\psi, \\xi\\}$, such that $\\psi=\\{\\rho_\\text{DM}, \\Sigma_\\text{DM}, h_\\text{DM}\\}$ are the parameters of interest, and $\\xi=\\{\\rho_i, \\sigma_{z;i}, N_\\nu, z_\\odot\\}$"
   ]
  },
  {
   "cell_type": "markdown",
   "metadata": {},
   "source": [
    "The likelihood is\n",
    "\\begin{aligned}\n",
    "  p_\\nu(d|\\mathcal{M}, \\theta) = \\prod_{i=1}^{N_z} \\frac{1}{\\sqrt{2\\pi \\sigma^2_{\\text{ln }\\nu_i}}}\\exp{\\left(-\\frac{\\left[\\text{ln}(N_\\nu \\nu_i^{\\text{mod}})-\\text{ln } \\nu_i^\\text{data}\\right]^2}{2\\sigma^2_{\\text{ln }\\nu_i}}\\right)}\n",
    "\\end{aligned}"
   ]
  },
  {
   "cell_type": "markdown",
   "metadata": {},
   "source": [
    "Where\n",
    "* $\\nu_i^{\\text{mod}}$ is given by `nu_mod` in utils.py\n",
    "* $\\nu_i^{\\text{data}}$ is given by `Data/Number-Density/density.hdf5`\n",
    "* $\\sigma^2_{\\text{ln }\\nu_i}$ is total uncertainty"
   ]
  },
  {
   "cell_type": "markdown",
   "metadata": {},
   "source": [
    "Total uncertainty is\n",
    "\\begin{aligned}\n",
    "  \\sigma^2_{\\text{ln }\\nu_i} = \\left(\\sigma^2_{\\text{ln }\\nu_i}\\right)^\\text{mod}+\\left(\\sigma^2_{\\text{ln }\\nu_i}\\right)^\\text{data}\n",
    "\\end{aligned} "
   ]
  },
  {
   "cell_type": "markdown",
   "metadata": {},
   "source": [
    "With the following source of uncertainties\n",
    "| Type | Source | Treatment |\n",
    "| ---- | ------ | --------- |\n",
    "| data | Poisson| sqrt(N)   |\n",
    "|      | 3% dust| 3% * data |\n",
    "| mod  | stats  | bootstrap res. |\n",
    "|      | sys    | asym |"
   ]
  },
  {
   "cell_type": "markdown",
   "metadata": {},
   "source": [
    "Where the mod uncertainty is\n",
    "\\begin{aligned}\n",
    "  \\left(\\sigma^2_{\\text{ln }\\nu_i}\\right)^\\text{mod} = \\left(\\sigma^2_{\\text{ln }\\nu_i}\\right)^\\text{mod, stat}+\\left(\\sigma^2_{\\text{ln }\\nu_i}\\right)^\\text{mod, sys}\n",
    "\\end{aligned} \n",
    "\n",
    "$\\left(\\sigma^2_{\\text{ln }\\nu_i}\\right)^\\text{mod, stat}$ is estimated using bootstrap resampling, and\n",
    "\n",
    "$\\left(\\sigma^2_{\\text{ln }\\nu_i}\\right)^\\text{mod, sys}$ is estimated from the asymmetry of vertical vel. dist.,\n",
    "\\begin{aligned}\n",
    "  \\left(\\sigma^2_{\\text{ln }\\nu_i}\\right)^\\text{mod, sys} \\approx |\\text{ln }\\nu^{(w>0)}-\\text{ln }\\nu^{(w<0)}|\n",
    "\\end{aligned}"
   ]
  },
  {
   "cell_type": "markdown",
   "metadata": {},
   "source": [
    "## Bootstrap resampling\n",
    "Check the detail in [Schutz, K., Lin, T., Safdi, B. R., & Wu, C. L. (2018). Constraining a Thin Dark Matter Disk with G a i a. Physical review letters, 121(8), 081101](https://journals.aps.org/prl/abstract/10.1103/PhysRevLett.121.081101) Appendix D"
   ]
  },
  {
   "cell_type": "code",
   "execution_count": 22,
   "metadata": {},
   "outputs": [
    {
     "data": {
      "text/plain": [
       "'/home2/s20321005/Thesis-Project/Data/Spectral-Class-Velocity'"
      ]
     },
     "execution_count": 22,
     "metadata": {},
     "output_type": "execute_result"
    }
   ],
   "source": [
    "root_data_dir = abspath(join(pardir, \"Data\"))\n",
    "data_velocity_dist_dir = join(root_data_dir, \"Spectral-Class-Velocity\")\n",
    "data_velocity_dist_dir"
   ]
  },
  {
   "cell_type": "code",
   "execution_count": 6,
   "metadata": {},
   "outputs": [
    {
     "data": {
      "text/html": [
       "<table>\n",
       "<thead>\n",
       "<tr><th>#                                </th><th>w                  </th><th>e_w                 </th><th>spectraltype_esphs  </th></tr>\n",
       "</thead>\n",
       "<tbody>\n",
       "<tr><td><i style='opacity: 0.6'>0</i>    </td><td>-9.590023669072771 </td><td>0.023956980727508907</td><td>F                   </td></tr>\n",
       "<tr><td><i style='opacity: 0.6'>1</i>    </td><td>16.547108022089976 </td><td>0.010300926715071157</td><td>G                   </td></tr>\n",
       "<tr><td><i style='opacity: 0.6'>2</i>    </td><td>33.16147423530458  </td><td>0.03313949612412754 </td><td>G                   </td></tr>\n",
       "<tr><td><i style='opacity: 0.6'>3</i>    </td><td>23.232425874782766 </td><td>0.03457258873567302 </td><td>G                   </td></tr>\n",
       "<tr><td><i style='opacity: 0.6'>4</i>    </td><td>6.200975829380684  </td><td>0.01760915737454791 </td><td>G                   </td></tr>\n",
       "<tr><td>...                              </td><td>...                </td><td>...                 </td><td>...                 </td></tr>\n",
       "<tr><td><i style='opacity: 0.6'>1,325</i></td><td>16.01534653457238  </td><td>0.027898021529253764</td><td>G                   </td></tr>\n",
       "<tr><td><i style='opacity: 0.6'>1,326</i></td><td>-7.1882994564791955</td><td>0.012496910009595399</td><td>G                   </td></tr>\n",
       "<tr><td><i style='opacity: 0.6'>1,327</i></td><td>14.107354617379562 </td><td>0.018691735437401776</td><td>G                   </td></tr>\n",
       "<tr><td><i style='opacity: 0.6'>1,328</i></td><td>9.275137350974589  </td><td>0.013502434199310931</td><td>G                   </td></tr>\n",
       "<tr><td><i style='opacity: 0.6'>1,329</i></td><td>-34.06259900886221 </td><td>0.016266060436371507</td><td>G                   </td></tr>\n",
       "</tbody>\n",
       "</table>"
      ],
      "text/plain": [
       "#      w                    e_w                   spectraltype_esphs\n",
       "0      -9.590023669072771   0.023956980727508907  F\n",
       "1      16.547108022089976   0.010300926715071157  G\n",
       "2      33.16147423530458    0.03313949612412754   G\n",
       "3      23.232425874782766   0.03457258873567302   G\n",
       "4      6.200975829380684    0.01760915737454791   G\n",
       "...    ...                  ...                   ...\n",
       "1,325  16.01534653457238    0.027898021529253764  G\n",
       "1,326  -7.1882994564791955  0.012496910009595399  G\n",
       "1,327  14.107354617379562   0.018691735437401776  G\n",
       "1,328  9.275137350974589    0.013502434199310931  G\n",
       "1,329  -34.06259900886221   0.016266060436371507  G"
      ]
     },
     "execution_count": 6,
     "metadata": {},
     "output_type": "execute_result"
    }
   ],
   "source": [
    "a_type = vaex.open(join(data_velocity_dist_dir, \"A-type.hdf5\"))\n",
    "f_type = vaex.open(join(data_velocity_dist_dir, \"F-type.hdf5\"))\n",
    "g_type = vaex.open(join(data_velocity_dist_dir, \"G-type.hdf5\"))\n",
    "g_type"
   ]
  },
  {
   "cell_type": "markdown",
   "metadata": {},
   "source": [
    "example for resampling"
   ]
  },
  {
   "cell_type": "code",
   "execution_count": 7,
   "metadata": {},
   "outputs": [
    {
     "data": {
      "text/plain": [
       "[<matplotlib.lines.Line2D at 0x7f8849f899d0>]"
      ]
     },
     "execution_count": 7,
     "metadata": {},
     "output_type": "execute_result"
    },
    {
     "data": {
      "image/png": "[encoded data removed]",
      "text/plain": [
       "<Figure size 432x288 with 1 Axes>"
      ]
     },
     "metadata": {
      "needs_background": "light"
     },
     "output_type": "display_data"
    }
   ],
   "source": [
    "# Resample with replacement\n",
    "a_type_resampled = a_type.sample(frac=1, replace=True)\n",
    "# compare\n",
    "a_num_resampled = a_type_resampled.w.to_numpy()\n",
    "a_num_resampled = np.sort(a_num_resampled)\n",
    "a_num = a_type.w.to_numpy()\n",
    "a_num = np.sort(a_num)\n",
    "# # plot cumulative\n",
    "plt.plot(a_num_resampled, np.linspace(0, 1, len(a_num_resampled)))\n",
    "plt.plot(a_num, np.linspace(0, 1, len(a_num)))"
   ]
  },
  {
   "cell_type": "code",
   "execution_count": 8,
   "metadata": {},
   "outputs": [],
   "source": [
    "def fdist_cum(w, sigma, w0):\n",
    "  return norm.cdf(w, loc=w0, scale=sigma)\n",
    "def fdist_pdf(w, sigma, w0):\n",
    "  return norm.pdf(w, loc=w0, scale=sigma)"
   ]
  },
  {
   "cell_type": "code",
   "execution_count": 9,
   "metadata": {},
   "outputs": [
    {
     "data": {
      "text/plain": [
       "array([ 5.69572671, -6.52279594])"
      ]
     },
     "execution_count": 9,
     "metadata": {},
     "output_type": "execute_result"
    }
   ],
   "source": [
    "popt, pcov = curve_fit(fdist_cum, a_num, np.linspace(0, 1, len(a_num)), p0=(1,0))\n",
    "popt"
   ]
  },
  {
   "cell_type": "code",
   "execution_count": 10,
   "metadata": {},
   "outputs": [
    {
     "data": {
      "image/png": "[encoded data removed]",
      "text/plain": [
       "<Figure size 432x288 with 1 Axes>"
      ]
     },
     "metadata": {
      "needs_background": "light"
     },
     "output_type": "display_data"
    },
    {
     "data": {
      "image/png": "[encoded data removed]",
      "text/plain": [
       "<Figure size 432x288 with 1 Axes>"
      ]
     },
     "metadata": {
      "needs_background": "light"
     },
     "output_type": "display_data"
    }
   ],
   "source": [
    "ws = np.linspace(-30,30, 100)\n",
    "plt.figure()\n",
    "plt.plot(a_num, np.linspace(0, 1, len(a_num)))\n",
    "plt.plot(ws, fdist_cum(ws, *popt))\n",
    "plt.show()\n",
    "plt.figure()\n",
    "plt.hist(a_num, bins=np.linspace(-30,30, 30), density=True)\n",
    "plt.plot(ws, fdist_pdf(ws, *popt))\n",
    "plt.show()"
   ]
  },
  {
   "cell_type": "code",
   "execution_count": 11,
   "metadata": {},
   "outputs": [
    {
     "data": {
      "text/plain": [
       "array([ 6.1453081 , -5.77032904])"
      ]
     },
     "execution_count": 11,
     "metadata": {},
     "output_type": "execute_result"
    }
   ],
   "source": [
    "popt_r, pcov = curve_fit(fdist_cum, a_num_resampled, np.linspace(0, 1, len(a_num)), p0=(1,0))\n",
    "popt_r"
   ]
  },
  {
   "cell_type": "code",
   "execution_count": 12,
   "metadata": {},
   "outputs": [
    {
     "data": {
      "image/png": "[encoded data removed]",
      "text/plain": [
       "<Figure size 432x288 with 1 Axes>"
      ]
     },
     "metadata": {
      "needs_background": "light"
     },
     "output_type": "display_data"
    },
    {
     "data": {
      "image/png": "[encoded data removed]",
      "text/plain": [
       "<Figure size 432x288 with 1 Axes>"
      ]
     },
     "metadata": {
      "needs_background": "light"
     },
     "output_type": "display_data"
    }
   ],
   "source": [
    "ws = np.linspace(-30,30, 100)\n",
    "plt.figure()\n",
    "plt.plot(a_num_resampled, np.linspace(0, 1, len(a_num_resampled)))\n",
    "plt.plot(ws, fdist_cum(ws, *popt_r))\n",
    "plt.show()\n",
    "plt.figure()\n",
    "plt.hist(a_num_resampled, bins=np.linspace(-30,30, 30), density=True)\n",
    "plt.plot(ws, fdist_pdf(ws, *popt_r))\n",
    "plt.show()"
   ]
  },
  {
   "cell_type": "code",
   "execution_count": 13,
   "metadata": {},
   "outputs": [
    {
     "data": {
      "image/png": "[encoded data removed]",
      "text/plain": [
       "<Figure size 432x288 with 1 Axes>"
      ]
     },
     "metadata": {
      "needs_background": "light"
     },
     "output_type": "display_data"
    }
   ],
   "source": [
    "plt.figure()\n",
    "plt.hist(a_num_resampled, bins=np.linspace(-30,30, 30), density=True)\n",
    "plt.plot(ws, fdist_pdf(ws, *popt_r))\n",
    "plt.hist(a_num, bins=np.linspace(-30,30, 30), density=True)\n",
    "plt.plot(ws, fdist_pdf(ws, *popt))\n",
    "plt.show()"
   ]
  },
  {
   "cell_type": "markdown",
   "metadata": {},
   "source": [
    "# Bootstrap resampling"
   ]
  },
  {
   "cell_type": "code",
   "execution_count": 66,
   "metadata": {},
   "outputs": [
    {
     "name": "stdout",
     "output_type": "stream",
     "text": [
      "export(hdf5) [########################################] 100.00% elapsed time  :     1.64s =  0.0m =  0.0h\n",
      "export(hdf5) [########################################] 100.00% elapsed time  :     1.73s =  0.0m =  0.0h\n",
      "export(hdf5) [########################################] 100.00% elapsed time  :     0.72s =  0.0m =  0.0h\n",
      " "
     ]
    }
   ],
   "source": [
    "# create 1000 bootstrap samples\n",
    "for t, c in [(a_type, \"A\"), (f_type, \"F\"), (g_type, \"G\")]:\n",
    "  df = []\n",
    "  for i in range(1000):\n",
    "    resampled = t.sample(frac=1, replace=True)\n",
    "    num_resampled = resampled.w.to_numpy()\n",
    "    num_resampled = np.sort(num_resampled)\n",
    "    popt_r, _ = curve_fit(fdist_cum, num_resampled, np.linspace(0, 1, len(num_resampled)), p0=(1,0))\n",
    "    sigma_v, w0 = popt_r\n",
    "    cols = dict(sigma_v=[sigma_v], w0=[w0], sample=[i])\n",
    "    df_new = vaex.from_dict(cols)\n",
    "    if len(df) == 0:\n",
    "      df = df_new\n",
    "    else:\n",
    "      df = df.concat(df_new)\n",
    "  df.export(join(data_dir, f\"{c}-type-bootstrap.hdf5\"), progress=True)"
   ]
  },
  {
   "cell_type": "code",
   "execution_count": 18,
   "metadata": {},
   "outputs": [
    {
     "data": {
      "text/html": [
       "<table>\n",
       "<thead>\n",
       "<tr><th>#                              </th><th>sigma_v           </th><th>w0                </th><th>sample  </th></tr>\n",
       "</thead>\n",
       "<tbody>\n",
       "<tr><td><i style='opacity: 0.6'>0</i>  </td><td>5.788585360683395 </td><td>-7.236451773135977</td><td>0       </td></tr>\n",
       "<tr><td><i style='opacity: 0.6'>1</i>  </td><td>4.6788341506745565</td><td>-6.195221483859772</td><td>1       </td></tr>\n",
       "<tr><td><i style='opacity: 0.6'>2</i>  </td><td>6.109099400027174 </td><td>-6.797145826910388</td><td>2       </td></tr>\n",
       "<tr><td><i style='opacity: 0.6'>3</i>  </td><td>5.9757782234666905</td><td>-6.862668013704516</td><td>3       </td></tr>\n",
       "<tr><td><i style='opacity: 0.6'>4</i>  </td><td>5.603674560082213 </td><td>-7.209796290451144</td><td>4       </td></tr>\n",
       "<tr><td>...                            </td><td>...               </td><td>...               </td><td>...     </td></tr>\n",
       "<tr><td><i style='opacity: 0.6'>995</i></td><td>7.003022582941199 </td><td>-6.529369648608863</td><td>995     </td></tr>\n",
       "<tr><td><i style='opacity: 0.6'>996</i></td><td>5.410044015088829 </td><td>-6.958005597138357</td><td>996     </td></tr>\n",
       "<tr><td><i style='opacity: 0.6'>997</i></td><td>7.10915076532003  </td><td>-6.377562354029689</td><td>997     </td></tr>\n",
       "<tr><td><i style='opacity: 0.6'>998</i></td><td>5.050851152086821 </td><td>-6.10379377607252 </td><td>998     </td></tr>\n",
       "<tr><td><i style='opacity: 0.6'>999</i></td><td>4.887387747767048 </td><td>-5.838748842622266</td><td>999     </td></tr>\n",
       "</tbody>\n",
       "</table>"
      ],
      "text/plain": [
       "#    sigma_v             w0                  sample\n",
       "0    5.788585360683395   -7.236451773135977  0\n",
       "1    4.6788341506745565  -6.195221483859772  1\n",
       "2    6.109099400027174   -6.797145826910388  2\n",
       "3    5.9757782234666905  -6.862668013704516  3\n",
       "4    5.603674560082213   -7.209796290451144  4\n",
       "...  ...                 ...                 ...\n",
       "995  7.003022582941199   -6.529369648608863  995\n",
       "996  5.410044015088829   -6.958005597138357  996\n",
       "997  7.10915076532003    -6.377562354029689  997\n",
       "998  5.050851152086821   -6.10379377607252   998\n",
       "999  4.887387747767048   -5.838748842622266  999"
      ]
     },
     "execution_count": 18,
     "metadata": {},
     "output_type": "execute_result"
    }
   ],
   "source": [
    "a_bootstrap_type = vaex.open(join(data_dir, \"A-type-bootstrap.hdf5\"))\n",
    "f_bootstrap_type = vaex.open(join(data_dir, \"F-type-bootstrap.hdf5\"))\n",
    "g_bootstrap_type = vaex.open(join(data_dir, \"G-type-bootstrap.hdf5\"))\n",
    "a_bootstrap_type"
   ]
  },
  {
   "cell_type": "markdown",
   "metadata": {},
   "source": [
    "The first sample"
   ]
  },
  {
   "cell_type": "code",
   "execution_count": 19,
   "metadata": {},
   "outputs": [
    {
     "data": {
      "text/plain": [
       "[<matplotlib.lines.Line2D at 0x7f8849a5d1f0>]"
      ]
     },
     "execution_count": 19,
     "metadata": {},
     "output_type": "execute_result"
    },
    {
     "data": {
      "image/png": "[encoded data removed]",
      "text/plain": [
       "<Figure size 432x288 with 1 Axes>"
      ]
     },
     "metadata": {
      "needs_background": "light"
     },
     "output_type": "display_data"
    }
   ],
   "source": [
    "w0 = a_bootstrap_type.w0.to_numpy()[0]\n",
    "sigma_v = a_bootstrap_type.sigma_v.to_numpy()[0]\n",
    "ws = np.linspace(-30,30, 100)\n",
    "plt.figure()\n",
    "plt.plot(ws, fdist_pdf(ws, sigma_v, w0))"
   ]
  },
  {
   "cell_type": "code",
   "execution_count": 45,
   "metadata": {},
   "outputs": [],
   "source": [
    "# for a given set of sigma_v and w0, compute the nu for each sample\n",
    "phis = np.linspace(0, 1000, 1001)\n",
    "logNus = dict(A=[], F=[], G=[])\n",
    "for t, c in [(a_bootstrap_type, \"A\"), (f_bootstrap_type, \"F\"), (g_bootstrap_type, \"G\")]:\n",
    "  for i, sigma in enumerate(t.sigma_v.to_numpy()):  \n",
    "    nus = nu(phis, sigma)\n",
    "    logNu = np.log(nus)\n",
    "    logNus[c].append(logNu)\n",
    "  logNus[c] = np.array(logNus[c])"
   ]
  },
  {
   "cell_type": "code",
   "execution_count": 65,
   "metadata": {},
   "outputs": [],
   "source": [
    "logNus_mean = {c: logNus[c].mean(axis=0) for c in [\"A\", \"F\", \"G\"]}\n",
    "logNus_std = {c: logNus[c].std(axis=0) for c in [\"A\", \"F\", \"G\"]}"
   ]
  },
  {
   "cell_type": "code",
   "execution_count": 81,
   "metadata": {},
   "outputs": [
    {
     "data": {
      "text/plain": [
       "<matplotlib.legend.Legend at 0x7f8831977490>"
      ]
     },
     "execution_count": 81,
     "metadata": {},
     "output_type": "execute_result"
    },
    {
     "data": {
      "image/png": "[encoded data removed]",
      "text/plain": [
       "<Figure size 432x288 with 1 Axes>"
      ]
     },
     "metadata": {
      "needs_background": "light"
     },
     "output_type": "display_data"
    }
   ],
   "source": [
    "for c in [\"A\", \"F\", \"G\"]:\n",
    "  plt.errorbar(phis[::10], logNus_mean[c][::10], yerr=logNus_std[c][::10], fmt='.' ,label=c)\n",
    "plt.legend()"
   ]
  },
  {
   "cell_type": "markdown",
   "metadata": {},
   "source": [
    "## doing some \"research\""
   ]
  },
  {
   "cell_type": "code",
   "execution_count": 86,
   "metadata": {},
   "outputs": [
    {
     "data": {
      "text/plain": [
       "<matplotlib.legend.Legend at 0x7f8831b4b760>"
      ]
     },
     "execution_count": 86,
     "metadata": {},
     "output_type": "execute_result"
    },
    {
     "data": {
      "image/png": "[encoded data removed]",
      "text/plain": [
       "<Figure size 432x288 with 1 Axes>"
      ]
     },
     "metadata": {
      "needs_background": "light"
     },
     "output_type": "display_data"
    }
   ],
   "source": [
    "for c in [\"A\", \"F\", \"G\"]:\n",
    "  plt.plot(phis[1::10], logNus_std[c][1::10],label=c)\n",
    "plt.legend()"
   ]
  },
  {
   "cell_type": "markdown",
   "metadata": {},
   "source": [
    "it looks like, the error is proportional to the mean\n",
    "\\begin{aligned}\n",
    "  \\sigma_{\\text{ln }\\nu}(\\Phi) = a \\Phi\n",
    "\\end{aligned}\n",
    "\n",
    "or, even"
   ]
  },
  {
   "cell_type": "code",
   "execution_count": 96,
   "metadata": {},
   "outputs": [
    {
     "data": {
      "text/plain": [
       "<matplotlib.legend.Legend at 0x7f8849af1d90>"
      ]
     },
     "execution_count": 96,
     "metadata": {},
     "output_type": "execute_result"
    },
    {
     "data": {
      "image/png": "[encoded data removed]",
      "text/plain": [
       "<Figure size 432x288 with 1 Axes>"
      ]
     },
     "metadata": {
      "needs_background": "light"
     },
     "output_type": "display_data"
    }
   ],
   "source": [
    "for c in [\"A\", \"F\", \"G\"]:\n",
    "  plt.plot(phis[1::10], logNus_std[c][1::10]/logNus_mean[c][1::10],label=c)\n",
    "plt.legend()"
   ]
  },
  {
   "cell_type": "markdown",
   "metadata": {},
   "source": [
    "\\begin{aligned}\n",
    "  \\sigma_{\\text{ln }\\nu}(\\Phi) = b {\\text{ ln }\\nu}(\\Phi)\n",
    "\\end{aligned}"
   ]
  },
  {
   "cell_type": "code",
   "execution_count": 98,
   "metadata": {},
   "outputs": [
    {
     "data": {
      "text/plain": [
       "{'A': [-0.1906456477812084],\n",
       " 'F': [-0.049303821247208515],\n",
       " 'G': [-0.0603049887590651]}"
      ]
     },
     "execution_count": 98,
     "metadata": {},
     "output_type": "execute_result"
    }
   ],
   "source": [
    "b = {c: [np.mean(logNus_std[c][1::]/logNus_mean[c][1::])] for c in [\"A\", \"F\", \"G\"]}\n",
    "b"
   ]
  },
  {
   "cell_type": "code",
   "execution_count": 99,
   "metadata": {},
   "outputs": [
    {
     "data": {
      "text/html": [
       "<table>\n",
       "<thead>\n",
       "<tr><th>#                            </th><th style=\"text-align: right;\">        A</th><th style=\"text-align: right;\">         F</th><th style=\"text-align: right;\">        G</th></tr>\n",
       "</thead>\n",
       "<tbody>\n",
       "<tr><td><i style='opacity: 0.6'>0</i></td><td style=\"text-align: right;\">-0.190646</td><td style=\"text-align: right;\">-0.0493038</td><td style=\"text-align: right;\">-0.060305</td></tr>\n",
       "</tbody>\n",
       "</table>"
      ],
      "text/plain": [
       "  #          A           F          G\n",
       "  0  -0.190646  -0.0493038  -0.060305"
      ]
     },
     "execution_count": 99,
     "metadata": {},
     "output_type": "execute_result"
    }
   ],
   "source": [
    "# df_stats = vaex.from_dict(dict(phis=phis, logNuA=logNus_mean[\"A\"], logNuF=logNus_mean[\"F\"], logNuG=logNus_mean[\"G\"], logNuA_std=logNus_std[\"A\"], logNuF_std=logNus_std[\"F\"], logNuG_std=logNus_std[\"G\"]))\n",
    "df_stats = vaex.from_dict(b)\n",
    "df_stats"
   ]
  },
  {
   "cell_type": "code",
   "execution_count": 76,
   "metadata": {},
   "outputs": [
    {
     "name": "stdout",
     "output_type": "stream",
     "text": [
      "Creating Uncertainty dir in Data dir\n"
     ]
    }
   ],
   "source": [
    "name = \"Uncertainty\"\n",
    "data_dir = join(root_data_dir, name)\n",
    "try:\n",
    "  mkdir(data_dir)\n",
    "  print(f\"Creating {name} dir in Data dir\")\n",
    "except FileExistsError:\n",
    "  print(\"Directory already exist. Good to go!\")"
   ]
  },
  {
   "cell_type": "code",
   "execution_count": 100,
   "metadata": {},
   "outputs": [
    {
     "name": "stdout",
     "output_type": "stream",
     "text": [
      "export(hdf5) [########################################] 100.00% elapsed time  :     0.09s =  0.0m =  0.0h\n",
      " "
     ]
    }
   ],
   "source": [
    "df_stats.export(join(data_dir, \"stats.hdf5\"), progress=True)"
   ]
  },
  {
   "cell_type": "markdown",
   "metadata": {},
   "source": [
    "## Test Bootstrap resampling"
   ]
  },
  {
   "cell_type": "code",
   "execution_count": 11,
   "metadata": {},
   "outputs": [
    {
     "data": {
      "text/plain": [
       "'/home2/s20321005/Thesis-Project/Data/Uncertainty'"
      ]
     },
     "execution_count": 11,
     "metadata": {},
     "output_type": "execute_result"
    }
   ],
   "source": [
    "name = \"Uncertainty\"\n",
    "data_unc_dir = join(root_data_dir, name)\n",
    "data_unc_dir"
   ]
  },
  {
   "cell_type": "code",
   "execution_count": 13,
   "metadata": {},
   "outputs": [
    {
     "data": {
      "text/html": [
       "<table>\n",
       "<thead>\n",
       "<tr><th>#                            </th><th style=\"text-align: right;\">        A</th><th style=\"text-align: right;\">         F</th><th style=\"text-align: right;\">        G</th></tr>\n",
       "</thead>\n",
       "<tbody>\n",
       "<tr><td><i style='opacity: 0.6'>0</i></td><td style=\"text-align: right;\">-0.190646</td><td style=\"text-align: right;\">-0.0493038</td><td style=\"text-align: right;\">-0.060305</td></tr>\n",
       "</tbody>\n",
       "</table>"
      ],
      "text/plain": [
       "  #          A           F          G\n",
       "  0  -0.190646  -0.0493038  -0.060305"
      ]
     },
     "execution_count": 13,
     "metadata": {},
     "output_type": "execute_result"
    }
   ],
   "source": [
    "df_stats = vaex.open(join(data_unc_dir, \"stats.hdf5\"))\n",
    "df_stats"
   ]
  },
  {
   "cell_type": "code",
   "execution_count": 12,
   "metadata": {},
   "outputs": [
    {
     "data": {
      "text/plain": [
       "'/home2/s20321005/Thesis-Project/Data/Velocity-Distribution'"
      ]
     },
     "execution_count": 12,
     "metadata": {},
     "output_type": "execute_result"
    }
   ],
   "source": [
    "name = \"Velocity-Distribution\"\n",
    "data_velocity_dir = join(root_data_dir, name)\n",
    "data_velocity_dir"
   ]
  },
  {
   "cell_type": "code",
   "execution_count": 14,
   "metadata": {},
   "outputs": [
    {
     "data": {
      "text/html": [
       "<table>\n",
       "<thead>\n",
       "<tr><th>#                            </th><th>type  </th><th style=\"text-align: right;\">      wo</th><th style=\"text-align: right;\">   sigma</th><th style=\"text-align: right;\">       A</th></tr>\n",
       "</thead>\n",
       "<tbody>\n",
       "<tr><td><i style='opacity: 0.6'>0</i></td><td>A     </td><td style=\"text-align: right;\">-5.98941</td><td style=\"text-align: right;\"> 4.91812</td><td style=\"text-align: right;\"> 321.274</td></tr>\n",
       "<tr><td><i style='opacity: 0.6'>1</i></td><td>F     </td><td style=\"text-align: right;\">-6.73832</td><td style=\"text-align: right;\"> 9.91148</td><td style=\"text-align: right;\">3054.33 </td></tr>\n",
       "<tr><td><i style='opacity: 0.6'>2</i></td><td>G     </td><td style=\"text-align: right;\">-7.04128</td><td style=\"text-align: right;\">13.7909 </td><td style=\"text-align: right;\">2437.44 </td></tr>\n",
       "</tbody>\n",
       "</table>"
      ],
      "text/plain": [
       "  #  type          wo     sigma         A\n",
       "  0  A       -5.98941   4.91812   321.274\n",
       "  1  F       -6.73832   9.91148  3054.33\n",
       "  2  G       -7.04128  13.7909   2437.44"
      ]
     },
     "execution_count": 14,
     "metadata": {},
     "output_type": "execute_result"
    }
   ],
   "source": [
    "df_velocity = vaex.open(join(data_velocity_dir, \"Velocity-Distribution.hdf5\"))\n",
    "df_velocity"
   ]
  },
  {
   "cell_type": "code",
   "execution_count": 79,
   "metadata": {},
   "outputs": [],
   "source": [
    "from operator import itemgetter\n",
    "from scipy.integrate import odeint\n",
    "from scipy import interpolate\n",
    "# this function should be in utils.py\n",
    "# def nu_bootstrap(zz, theta, tipe=\"A\",  res=1000):\n",
    "#   data_dir = join(root_data_dir, name)\n",
    "#   df_stats = vaex.open(join(data_dir, \"stats.hdf5\"))\n",
    "#   args = ('rhos', 'sigmaz', 'rhoDM', 'sigmaDD', 'hDD', 'Nv', 'zsun')\n",
    "#   rhos, sigmaz, rhoDM, sigmaDD, hDD, Nv, zsun = itemgetter(*args)(theta)\n",
    "\n",
    "#   phi0 = 0 # (km/s)^2\n",
    "#   Kz0 = 0 # pc (km/s)^2\n",
    "\n",
    "#   y0 = [Kz0, phi0]\n",
    "#   zmax = np.max(np.abs(zz+zsun))\n",
    "#   zs = np.linspace(0, zmax*1000, res)\n",
    "#   us = odeint(f, y0, zs, args=(rhos, sigmaz, rhoDM, sigmaDD, hDD))\n",
    "#   phi = us[:, 0]\n",
    "#   phi_interp_pos = interpolate.interp1d(zs, phi, kind='cubic')\n",
    "#   phi_interp = lambda z: phi_interp_pos(np.abs(z)*1000)\n",
    "#   phii = phi_interp(zz+zsun)\n",
    "#   data_dir = join(root_data_dir,\"Velocity-Distribution\")\n",
    "#   df_velocity = vaex.open(join(data_dir, \"Velocity-Distribution.hdf5\"))\n",
    "#   index = 0 if tipe == \"A\" else 1 if tipe == \"F\" else 2\n",
    "#   sigma_v = df_velocity[\"sigma\"].to_numpy()[index]\n",
    "#   nus = nu(phii, sigma_v)\n",
    "#   logNu = np.log(nus)\n",
    "#   b = df_stats[tipe].to_numpy()[0]\n",
    "#   logNu_std = b*logNu\n",
    "#   return logNu, logNu_std"
   ]
  },
  {
   "cell_type": "code",
   "execution_count": 82,
   "metadata": {},
   "outputs": [
    {
     "data": {
      "image/png": "[encoded data removed]",
      "text/plain": [
       "<Figure size 432x288 with 1 Axes>"
      ]
     },
     "metadata": {
      "needs_background": "light"
     },
     "output_type": "display_data"
    }
   ],
   "source": [
    "rhos = df_baryon[\"rho\"].to_numpy()  # Msun/pc^3\n",
    "sigmaz = df_baryon[\"sigma_z\"].to_numpy() # km/s\n",
    "\n",
    "# test the following dark values\n",
    "rhoDM = 0.016 # Msun/pc^3\n",
    "sigmaDD = 7 # Msun/pc^2\n",
    "hDD = 20 # pc\n",
    "\n",
    "theta = dict(rhos=rhos, sigmaz=sigmaz, rhoDM=rhoDM, sigmaDD=sigmaDD, hDD=hDD, Nv=1, zsun=0.0)\n",
    "\n",
    "zz = np.linspace(-0.2, 0.2, 50)\n",
    "logNu, logNu_std = nu_bootstrap(zz, theta, tipe=\"G\")\n",
    "plt.errorbar(zz, logNu, yerr=logNu_std, fmt='.')\n",
    "plt.grid()"
   ]
  },
  {
   "cell_type": "code",
   "execution_count": 129,
   "metadata": {},
   "outputs": [],
   "source": [
    "# run 100 bootstrap resampling\n",
    "# sigmas = a_bootstrap_type.sigma_v.to_numpy()\n",
    "# N = len(sigmas)\n",
    "# zz = np.linspace(1, 200, 22)\n",
    "# Zs = np.zeros((N, len(zz)*2))\n",
    "# Nus = np.zeros((N, len(zz)*2))\n",
    "\n",
    "# # initial values\n",
    "# rhos = df_baryon[\"rho\"].to_numpy()  # Msun/pc^3\n",
    "# sigmaz = df_baryon[\"sigma_z\"].to_numpy() # km/s\n",
    "\n",
    "# # test the following dark values\n",
    "# rhoDM = 0.016 # Msun/pc^3\n",
    "# sigmaDD = 7 # Msun/pc^2\n",
    "# hDD = 20 # pc\n",
    "\n",
    "# theta = dict(rhos=rhos, sigmaz=sigmaz, rhoDM=rhoDM, sigmaDD=sigmaDD, hDD=hDD, Nv=1, zsun=0)\n",
    "\n",
    "# for i, sigma_v in enumerate(sigmas):\n",
    "#   # w0 = a_bootstrap_type.w0.to_numpy()[0]\n",
    "#   Zs[i], Nus[i] = nu_mod(zz, theta, sigma_v)\n",
    "#   if (i % 100 == 0): print(i, end=\" \")"
   ]
  },
  {
   "cell_type": "code",
   "execution_count": 128,
   "metadata": {},
   "outputs": [],
   "source": [
    "# Nu_mean = np.mean(Nus, axis=0)\n",
    "# Nu_std = np.std(Nus, axis=0)\n",
    "# plt.errorbar(Zs[0], Nu_mean, yerr=Nu_std, fmt=\".\")"
   ]
  },
  {
   "cell_type": "markdown",
   "metadata": {},
   "source": [
    "In function form"
   ]
  },
  {
   "cell_type": "code",
   "execution_count": 11,
   "metadata": {},
   "outputs": [],
   "source": [
    "# this function is in utils.py\n",
    "# def bootstrap_resampling(func, theta, sigmas, zz):\n",
    "#   \"\"\"Bootstrap resampling of a function with a distribution\"\"\"\n",
    "#   # run N bootstrap resampling\n",
    "#   Zs = np.zeros((len(sigmas), len(zz)*2))\n",
    "#   Nus = np.zeros((len(sigmas), len(zz)*2))\n",
    "\n",
    "#   for i, sigma in enumerate(sigmas):\n",
    "#     Zs[i], Nus[i] = func(zz, theta, sigma)\n",
    "#     if (i % 100 == 0): print(i, end=\" \")\n",
    "#   print(f\"{i} end\")\n",
    "#   Nu_mean = np.mean(Nus, axis=0)\n",
    "#   Nu_std = np.std(Nus, axis=0)\n",
    "#   return Zs[0], Nu_mean, Nu_std"
   ]
  },
  {
   "cell_type": "markdown",
   "metadata": {},
   "source": [
    "## Asymmetry uncertainties"
   ]
  },
  {
   "cell_type": "markdown",
   "metadata": {},
   "source": [
    "fit the vertical velocity distribution with 2 gaussian dist"
   ]
  },
  {
   "cell_type": "markdown",
   "metadata": {},
   "source": [
    "The double gaussian distribution is in the following form\n",
    "\\begin{aligned}\n",
    "  \\mathcal{N}(x;\\sigma_1, \\sigma_2, \\bar{x}) = a\\mathcal{N}(x;\\sigma_1, \\bar{x})\\mathcal{H}(\\bar{x}-x) + b\\mathcal{N}(x; \\sigma_2, \\bar{x})\\mathcal{H}(x-\\bar{x})\n",
    "\\end{aligned}\n",
    "Where $\\mathcal{H}(x)$ is heaviside step function and $\\mathcal{N}(x;\\sigma, \\bar{x})$ is gaussian dist\n",
    "\\begin{aligned}\n",
    "  \\mathcal{H}(x) = \n",
    "    \\begin{cases}\n",
    "        1 & \\text{if } x > 0\\\\\n",
    "        0.5 & \\text{if } x = 0 \\\\\n",
    "        0 & \\text{if } x < 0\n",
    "    \\end{cases}\n",
    "\\end{aligned}\n",
    "and  in such a way that \n",
    "\\begin{aligned}\n",
    "  a\\mathcal{N}(x;\\sigma_1, \\bar{x}) - b\\mathcal{N}(x; \\sigma_2, \\bar{x}) &= 0 \\\\\n",
    "  a/\\sigma_1 - b/\\sigma_2 &= 0 \\\\\n",
    "  a\\sigma_2 - b\\sigma_1 &= 0\n",
    "\\end{aligned}\n",
    "which mean the function is continous at the boundary $x=\\bar{x}$\n",
    "\n",
    "The distribution is also has area under the curve of 1, so\n",
    "\\begin{aligned}\n",
    "  a/2+ b/2 &= 1\n",
    "  a + b &= 2\n",
    "\\end{aligned}\n",
    "Therefore\n",
    "\\begin{aligned}\n",
    "  a &= \\frac{2\\sigma_1}{\\sigma_1+\\sigma_2} \\\\\n",
    "  b &= \\frac{2\\sigma_2}{\\sigma_1+\\sigma_2}\n",
    "\\end{aligned}\n",
    "\n",
    "And the cumulative dist becomes\n",
    "\\begin{aligned}\n",
    "  \\Phi_{\\mathcal{N}}(x;\\sigma_1, \\sigma_2, \\bar{x}) = a\\Phi_{\\mathcal{N}}(x;\\sigma_1, \\bar{x})\\mathcal{H}(\\bar{x}-x) +  [(\\Phi_{\\mathcal{N}}(x;\\sigma_1, \\bar{x})-0.5)b-0.5a]\\mathcal{H}(x-\\bar{x})\n",
    "\\end{aligned}\n",
    "\n",
    "Where $\\Phi_{\\mathcal{N}}(x;\\sigma, \\bar{x})$ is gaussian cumulative dist"
   ]
  },
  {
   "cell_type": "code",
   "execution_count": 135,
   "metadata": {},
   "outputs": [],
   "source": [
    "# this function is in utils.py\n",
    "# def double_gaussian_cum(x, sigma1, sigma2, w0):\n",
    "#   \"\"\"Cumulative distribution of a double Gaussian\"\"\"\n",
    "#   a = 2*sigma1/(sigma1+sigma2)\n",
    "#   b = 2*sigma2/(sigma1+sigma2)\n",
    "#   return np.heaviside(w0-x, 0.5)*norm.cdf(x, loc=w0, scale=sigma1)*a + np.heaviside(x-w0, 0.5)*((norm.cdf(x, loc=w0, scale=sigma2)-0.5)*b+a/2)\n",
    "# def double_gaussian_pdf(x, sigma1, sigma2, w0):\n",
    "#   a = 2*sigma1/(sigma1+sigma2)\n",
    "#   b = 2*sigma2/(sigma1+sigma2)\n",
    "#   return np.heaviside(w0-x, 0)*norm.pdf(x, loc=w0, scale=sigma1)*a + np.heaviside(x-w0, 1)*norm.pdf(x, loc=w0, scale=sigma2)*b"
   ]
  },
  {
   "cell_type": "code",
   "execution_count": 20,
   "metadata": {},
   "outputs": [],
   "source": [
    "from utils import double_gaussian_pdf, double_gaussian_cum"
   ]
  },
  {
   "cell_type": "code",
   "execution_count": 23,
   "metadata": {},
   "outputs": [
    {
     "data": {
      "text/plain": [
       "'/home2/s20321005/Thesis-Project/Data/Spectral-Class-Velocity'"
      ]
     },
     "execution_count": 23,
     "metadata": {},
     "output_type": "execute_result"
    }
   ],
   "source": [
    "root_data_dir = abspath(join(pardir, \"Data\"))\n",
    "data_velocity_dist_dir = join(root_data_dir, \"Spectral-Class-Velocity\")\n",
    "data_velocity_dist_dir"
   ]
  },
  {
   "cell_type": "code",
   "execution_count": 24,
   "metadata": {},
   "outputs": [
    {
     "data": {
      "text/html": [
       "<table>\n",
       "<thead>\n",
       "<tr><th>#                                </th><th>w                  </th><th>e_w                 </th><th>spectraltype_esphs  </th></tr>\n",
       "</thead>\n",
       "<tbody>\n",
       "<tr><td><i style='opacity: 0.6'>0</i>    </td><td>-9.590023669072771 </td><td>0.023956980727508907</td><td>F                   </td></tr>\n",
       "<tr><td><i style='opacity: 0.6'>1</i>    </td><td>16.547108022089976 </td><td>0.010300926715071157</td><td>G                   </td></tr>\n",
       "<tr><td><i style='opacity: 0.6'>2</i>    </td><td>33.16147423530458  </td><td>0.03313949612412754 </td><td>G                   </td></tr>\n",
       "<tr><td><i style='opacity: 0.6'>3</i>    </td><td>23.232425874782766 </td><td>0.03457258873567302 </td><td>G                   </td></tr>\n",
       "<tr><td><i style='opacity: 0.6'>4</i>    </td><td>6.200975829380684  </td><td>0.01760915737454791 </td><td>G                   </td></tr>\n",
       "<tr><td>...                              </td><td>...                </td><td>...                 </td><td>...                 </td></tr>\n",
       "<tr><td><i style='opacity: 0.6'>1,325</i></td><td>16.01534653457238  </td><td>0.027898021529253764</td><td>G                   </td></tr>\n",
       "<tr><td><i style='opacity: 0.6'>1,326</i></td><td>-7.1882994564791955</td><td>0.012496910009595399</td><td>G                   </td></tr>\n",
       "<tr><td><i style='opacity: 0.6'>1,327</i></td><td>14.107354617379562 </td><td>0.018691735437401776</td><td>G                   </td></tr>\n",
       "<tr><td><i style='opacity: 0.6'>1,328</i></td><td>9.275137350974589  </td><td>0.013502434199310931</td><td>G                   </td></tr>\n",
       "<tr><td><i style='opacity: 0.6'>1,329</i></td><td>-34.06259900886221 </td><td>0.016266060436371507</td><td>G                   </td></tr>\n",
       "</tbody>\n",
       "</table>"
      ],
      "text/plain": [
       "#      w                    e_w                   spectraltype_esphs\n",
       "0      -9.590023669072771   0.023956980727508907  F\n",
       "1      16.547108022089976   0.010300926715071157  G\n",
       "2      33.16147423530458    0.03313949612412754   G\n",
       "3      23.232425874782766   0.03457258873567302   G\n",
       "4      6.200975829380684    0.01760915737454791   G\n",
       "...    ...                  ...                   ...\n",
       "1,325  16.01534653457238    0.027898021529253764  G\n",
       "1,326  -7.1882994564791955  0.012496910009595399  G\n",
       "1,327  14.107354617379562   0.018691735437401776  G\n",
       "1,328  9.275137350974589    0.013502434199310931  G\n",
       "1,329  -34.06259900886221   0.016266060436371507  G"
      ]
     },
     "execution_count": 24,
     "metadata": {},
     "output_type": "execute_result"
    }
   ],
   "source": [
    "a_type = vaex.open(join(data_velocity_dist_dir, \"A-type.hdf5\"))\n",
    "f_type = vaex.open(join(data_velocity_dist_dir, \"F-type.hdf5\"))\n",
    "g_type = vaex.open(join(data_velocity_dist_dir, \"G-type.hdf5\"))\n",
    "g_type"
   ]
  },
  {
   "cell_type": "code",
   "execution_count": 26,
   "metadata": {},
   "outputs": [
    {
     "data": {
      "image/png": "[encoded data removed]",
      "text/plain": [
       "<Figure size 432x288 with 1 Axes>"
      ]
     },
     "metadata": {
      "needs_background": "light"
     },
     "output_type": "display_data"
    },
    {
     "data": {
      "image/png": "[encoded data removed]",
      "text/plain": [
       "<Figure size 432x288 with 1 Axes>"
      ]
     },
     "metadata": {
      "needs_background": "light"
     },
     "output_type": "display_data"
    },
    {
     "data": {
      "image/png": "[encoded data removed]",
      "text/plain": [
       "<Figure size 432x288 with 1 Axes>"
      ]
     },
     "metadata": {
      "needs_background": "light"
     },
     "output_type": "display_data"
    },
    {
     "data": {
      "text/plain": [
       "([6.817370096588773, 11.269927714919058, 15.209208336878147],\n",
       " [4.5184907770985125, 10.292540674301714, 16.169073080805145],\n",
       " [-4.958645270809794, -6.313624515335165, -7.569383592527349])"
      ]
     },
     "execution_count": 26,
     "metadata": {},
     "output_type": "execute_result"
    }
   ],
   "source": [
    "# store the values for A, F, and G\n",
    "sigma_v1  = []\n",
    "sigma_v2 = []\n",
    "w0 = []\n",
    "for num in [a_type.w.to_numpy(), f_type.w.to_numpy(), g_type.w.to_numpy()]:\n",
    "  num = np.sort(num)\n",
    "  popt, _ = curve_fit(double_gaussian_cum, num, np.linspace(0, 1, len(num)), p0=(1,1, 0))\n",
    "  sigma_v1_, sigma_v2_, w0_ = popt\n",
    "  ws = np.linspace(-70, 70, 1000)\n",
    "  plt.figure()\n",
    "  plt.plot(num, np.linspace(0, 1, len(num)))\n",
    "  plt.plot(ws, double_gaussian_cum(ws, *popt))\n",
    "  plt.axvline(w0_, color=\"k\", ls=\"--\")\n",
    "  plt.grid()\n",
    "  plt.show()\n",
    "  sigma_v1.append(sigma_v1_)\n",
    "  sigma_v2.append(sigma_v2_)\n",
    "  w0.append(w0_)\n",
    "sigma_v1, sigma_v2, w0"
   ]
  },
  {
   "cell_type": "code",
   "execution_count": 27,
   "metadata": {},
   "outputs": [
    {
     "data": {
      "text/html": [
       "<table>\n",
       "<thead>\n",
       "<tr><th>#                            </th><th style=\"text-align: right;\">  sigma_v1</th><th style=\"text-align: right;\">  sigma_v2</th><th style=\"text-align: right;\">      w0</th></tr>\n",
       "</thead>\n",
       "<tbody>\n",
       "<tr><td><i style='opacity: 0.6'>0</i></td><td style=\"text-align: right;\">   6.81737</td><td style=\"text-align: right;\">   4.51849</td><td style=\"text-align: right;\">-4.95865</td></tr>\n",
       "<tr><td><i style='opacity: 0.6'>1</i></td><td style=\"text-align: right;\">  11.2699 </td><td style=\"text-align: right;\">  10.2925 </td><td style=\"text-align: right;\">-6.31362</td></tr>\n",
       "<tr><td><i style='opacity: 0.6'>2</i></td><td style=\"text-align: right;\">  15.2092 </td><td style=\"text-align: right;\">  16.1691 </td><td style=\"text-align: right;\">-7.56938</td></tr>\n",
       "</tbody>\n",
       "</table>"
      ],
      "text/plain": [
       "  #    sigma_v1    sigma_v2        w0\n",
       "  0     6.81737     4.51849  -4.95865\n",
       "  1    11.2699     10.2925   -6.31362\n",
       "  2    15.2092     16.1691   -7.56938"
      ]
     },
     "execution_count": 27,
     "metadata": {},
     "output_type": "execute_result"
    }
   ],
   "source": [
    "df_assy = vaex.from_dict(dict(sigma_v1=sigma_v1, sigma_v2=sigma_v2, w0=w0))\n",
    "df_assy"
   ]
  },
  {
   "cell_type": "code",
   "execution_count": 28,
   "metadata": {},
   "outputs": [
    {
     "data": {
      "text/plain": [
       "'/home2/s20321005/Thesis-Project/Data/Uncertainty'"
      ]
     },
     "execution_count": 28,
     "metadata": {},
     "output_type": "execute_result"
    }
   ],
   "source": [
    "name = \"Uncertainty\"\n",
    "data_unc_dir = join(root_data_dir, name)\n",
    "data_unc_dir"
   ]
  },
  {
   "cell_type": "code",
   "execution_count": 29,
   "metadata": {},
   "outputs": [],
   "source": [
    "df_assy.export_hdf5(join(data_unc_dir, \"sys.hdf5\"))"
   ]
  },
  {
   "cell_type": "code",
   "execution_count": 30,
   "metadata": {},
   "outputs": [
    {
     "data": {
      "text/html": [
       "<table>\n",
       "<thead>\n",
       "<tr><th>#                            </th><th style=\"text-align: right;\">  sigma_v1</th><th style=\"text-align: right;\">  sigma_v2</th><th style=\"text-align: right;\">      w0</th></tr>\n",
       "</thead>\n",
       "<tbody>\n",
       "<tr><td><i style='opacity: 0.6'>0</i></td><td style=\"text-align: right;\">   6.81737</td><td style=\"text-align: right;\">   4.51849</td><td style=\"text-align: right;\">-4.95865</td></tr>\n",
       "<tr><td><i style='opacity: 0.6'>1</i></td><td style=\"text-align: right;\">  11.2699 </td><td style=\"text-align: right;\">  10.2925 </td><td style=\"text-align: right;\">-6.31362</td></tr>\n",
       "<tr><td><i style='opacity: 0.6'>2</i></td><td style=\"text-align: right;\">  15.2092 </td><td style=\"text-align: right;\">  16.1691 </td><td style=\"text-align: right;\">-7.56938</td></tr>\n",
       "</tbody>\n",
       "</table>"
      ],
      "text/plain": [
       "  #    sigma_v1    sigma_v2        w0\n",
       "  0     6.81737     4.51849  -4.95865\n",
       "  1    11.2699     10.2925   -6.31362\n",
       "  2    15.2092     16.1691   -7.56938"
      ]
     },
     "execution_count": 30,
     "metadata": {},
     "output_type": "execute_result"
    }
   ],
   "source": [
    "df_sys = vaex.open(join(data_unc_dir, \"sys.hdf5\"))\n",
    "df_sys"
   ]
  },
  {
   "cell_type": "code",
   "execution_count": 204,
   "metadata": {},
   "outputs": [],
   "source": [
    "# run 100 bootstrap resampling\n",
    "# zz = np.linspace(1, 200, 22)\n",
    "\n",
    "# # initial values\n",
    "# rhos = df_baryon[\"rho\"].to_numpy()  # Msun/pc^3\n",
    "# sigmaz = df_baryon[\"sigma_z\"].to_numpy() # km/s\n",
    "\n",
    "# # test the following dark values\n",
    "# rhoDM = 0.016 # Msun/pc^3\n",
    "# sigmaDD = 7 # Msun/pc^2\n",
    "# hDD = 20 # pc\n",
    "\n",
    "# theta = dict(rhos=rhos, sigmaz=sigmaz, rhoDM=rhoDM, sigmaDD=sigmaDD, hDD=hDD, Nv=1, zsun=0)\n",
    "# # index 0: A, 1: F, 2: G\n",
    "# index = 0\n",
    "# sigma_v1 = df_assy[\"sigma_v1\"].to_numpy()[index]\n",
    "# sigma_v2 = df_assy[\"sigma_v2\"].to_numpy()[index]\n",
    "# Zs1, Nus1 = nu_mod(zz, theta, sigma_v1)\n",
    "# Zs2, Nus2 = nu_mod(zz, theta, sigma_v2)"
   ]
  },
  {
   "cell_type": "code",
   "execution_count": 31,
   "metadata": {},
   "outputs": [],
   "source": [
    "# sigma_sys = np.abs(Nus1-Nus2)/2\n",
    "# middle = (Nus1+Nus2)/2\n",
    "# plt.errorbar(Zs1, middle, yerr=sigma_sys, fmt=\".\")\n",
    "# plt.grid()"
   ]
  },
  {
   "cell_type": "markdown",
   "metadata": {},
   "source": [
    "In function form"
   ]
  },
  {
   "cell_type": "code",
   "execution_count": 181,
   "metadata": {},
   "outputs": [
    {
     "data": {
      "text/plain": [
       "array([ 6.8173701 ,  4.51849078, -4.95864527])"
      ]
     },
     "execution_count": 181,
     "metadata": {},
     "output_type": "execute_result"
    }
   ],
   "source": [
    "# root_data_dir = abspath(join(pardir, \"Data\"))\n",
    "# data_dir = join(root_data_dir, \"Spectral-Class-Velocity\")\n",
    "# dist = vaex.open(join(data_dir, f\"A-type.hdf5\"))\n",
    "# dist = dist.w.to_numpy()\n",
    "# dist = np.sort(dist)\n",
    "# popt, _ = curve_fit(double_gaussian_cum, dist, np.linspace(0, 1, len(dist)), p0=(1,1,0))\n",
    "# popt"
   ]
  },
  {
   "cell_type": "code",
   "execution_count": 34,
   "metadata": {},
   "outputs": [],
   "source": [
    "# this function is in utils.py\n",
    "# def asymmerty_uncertainties(zz, theta, tipe=\"A\"):\n",
    "#   # root_data_dir = abspath(join(pardir, \"Data\"))\n",
    "#   data_unc_dir = join(root_data_dir, \"Uncertainty\")\n",
    "#   df_popt = vaex.open(join(data_dir, \"sys.hdf5\"))\n",
    "#   index = 0 if tipe==\"A\" else 1 if tipe==\"F\" else 2\n",
    "#   sigma_v1 = df_popt[\"sigma_v1\"].to_numpy()[index]\n",
    "#   sigma_v2 = df_popt[\"sigma_v2\"].to_numpy()[index]\n",
    "#   logNu1 = nu_mod(zz, theta, sigma_v1)\n",
    "#   logNu2 = nu_mod(zz, theta, sigma_v2)\n",
    "#   sigma_sys = np.abs(logNu1-logNu2)/2\n",
    "#   middle = (logNu1+logNu2)/2\n",
    "#   return middle, sigma_sys"
   ]
  },
  {
   "cell_type": "code",
   "execution_count": 15,
   "metadata": {},
   "outputs": [],
   "source": [
    "from utils import asymmerty_uncertainties"
   ]
  },
  {
   "cell_type": "code",
   "execution_count": 41,
   "metadata": {},
   "outputs": [
    {
     "data": {
      "image/png": "[encoded data removed]",
      "text/plain": [
       "<Figure size 432x288 with 1 Axes>"
      ]
     },
     "metadata": {
      "needs_background": "light"
     },
     "output_type": "display_data"
    }
   ],
   "source": [
    "# run 100 bootstrap resampling\n",
    "zz = np.linspace(-0.2, 0.2, 50)\n",
    "\n",
    "# initial values\n",
    "rhos = df_baryon[\"rho\"].to_numpy()  # Msun/pc^3\n",
    "sigmaz = df_baryon[\"sigma_z\"].to_numpy() # km/s\n",
    "\n",
    "# test the following dark values\n",
    "rhoDM = 0.016 # Msun/pc^3\n",
    "sigmaDD = 7 # Msun/pc^2\n",
    "hDD = 20 # pc\n",
    "\n",
    "theta = dict(rhos=rhos, sigmaz=sigmaz, rhoDM=rhoDM, sigmaDD=sigmaDD, hDD=hDD, Nv=1, zsun=0)\n",
    "\n",
    "middle, sigma_sys = asymmerty_uncertainties(zz, theta, tipe=\"A\")\n",
    "plt.errorbar(zz, middle, yerr=sigma_sys, fmt=\".\")\n",
    "plt.grid()"
   ]
  },
  {
   "cell_type": "markdown",
   "metadata": {},
   "source": [
    "## Compare"
   ]
  },
  {
   "cell_type": "code",
   "execution_count": 42,
   "metadata": {},
   "outputs": [
    {
     "data": {
      "image/png": "[encoded data removed]",
      "text/plain": [
       "<Figure size 432x288 with 1 Axes>"
      ]
     },
     "metadata": {
      "needs_background": "light"
     },
     "output_type": "display_data"
    }
   ],
   "source": [
    "# compare systematic error and statistical error\n",
    "plt.errorbar(zz, middle, yerr=sigma_sys, fmt=\".\", c=\"k\")\n",
    "plt.errorbar(zz, logNu, yerr=logNu_std, fmt=\".\")\n",
    "plt.grid()"
   ]
  },
  {
   "cell_type": "code",
   "execution_count": 47,
   "metadata": {},
   "outputs": [
    {
     "data": {
      "image/png": "[encoded data removed]",
      "text/plain": [
       "<Figure size 432x288 with 1 Axes>"
      ]
     },
     "metadata": {
      "needs_background": "light"
     },
     "output_type": "display_data"
    }
   ],
   "source": [
    "# total mod error\n",
    "unc_tot = np.sqrt(logNu_std**2+sigma_sys**2)\n",
    "Nu_mean = (logNu*logNu_std**2+middle*sigma_sys**2)/(logNu_std**2+sigma_sys**2)\n",
    "plt.errorbar(zz, Nu_mean, yerr=unc_tot, fmt=\".\")\n",
    "plt.grid()"
   ]
  },
  {
   "cell_type": "markdown",
   "metadata": {},
   "source": [
    "all errors in one function"
   ]
  },
  {
   "cell_type": "code",
   "execution_count": 13,
   "metadata": {},
   "outputs": [],
   "source": [
    "# this function is in utils.py\n",
    "# def nu_mod_total(zz, theta, tipe=\"A\", res=1000):\n",
    "#   data_dir = join(root_data_dir, \"Velocity-Distribution\")\n",
    "#   df_velocity = vaex.open(join(data_dir, \"Velocity-Distribution.hdf5\"))\n",
    "#   index = 0 if tipe==\"A\" else 1 if tipe==\"F\" else 2\n",
    "#   sigma_v = df_velocity[\"sigma\"].to_numpy()[index]\n",
    "#   logNu_sys, logNu_sys_std = asymmerty_uncertainties(zz, theta, tipe=tipe)\n",
    "#   logNu_stat, logNu_stat_std = nu_bootstrap(zz, theta, tipe=tipe, res=res)\n",
    "#   logNu_mean = (logNu_stat*logNu_stat_std**2+logNu_sys*logNu_sys_std**2)/(logNu_stat_std**2+logNu_sys_std**2)\n",
    "#   logNu_std = np.sqrt(logNu_stat_std**2+logNu_sys_std**2)\n",
    "#   return logNu_mean, logNu_std"
   ]
  },
  {
   "cell_type": "code",
   "execution_count": 5,
   "metadata": {},
   "outputs": [],
   "source": [
    "from utils import nu_mod_total"
   ]
  },
  {
   "cell_type": "code",
   "execution_count": 6,
   "metadata": {},
   "outputs": [
    {
     "data": {
      "image/png": "[encoded data removed]",
      "text/plain": [
       "<Figure size 432x288 with 1 Axes>"
      ]
     },
     "metadata": {
      "needs_background": "light"
     },
     "output_type": "display_data"
    }
   ],
   "source": [
    "# run 100 bootstrap resampling\n",
    "zz = np.linspace(-0.2, 0.2, 50)\n",
    "\n",
    "# initial values\n",
    "rhos = df_baryon[\"rho\"].to_numpy()  # Msun/pc^3\n",
    "sigmaz = df_baryon[\"sigma_z\"].to_numpy() # km/s\n",
    "\n",
    "# test the following dark values\n",
    "rhoDM = 0.016 # Msun/pc^3\n",
    "sigmaDD = 7 # Msun/pc^2\n",
    "hDD = 20 # pc\n",
    "\n",
    "theta = dict(rhos=rhos, sigmaz=sigmaz, rhoDM=rhoDM, sigmaDD=sigmaDD, hDD=hDD, Nv=1, zsun=0.05)\n",
    "\n",
    "logNu_mean, logNu_std = nu_mod_total(zz, theta, tipe=\"A\")\n",
    "plt.errorbar(zz, logNu_mean, yerr=logNu_std, fmt=\".\")\n",
    "plt.grid()"
   ]
  },
  {
   "cell_type": "markdown",
   "metadata": {},
   "source": [
    "Save all relevant functions in utils.py"
   ]
  }
 ],
 "metadata": {
  "kernelspec": {
   "display_name": "Python 3.9.7 ('vaex2')",
   "language": "python",
   "name": "python3"
  },
  "language_info": {
   "codemirror_mode": {
    "name": "ipython",
    "version": 3
   },
   "file_extension": ".py",
   "mimetype": "text/x-python",
   "name": "python",
   "nbconvert_exporter": "python",
   "pygments_lexer": "ipython3",
   "version": "3.9.7"
  },
  "orig_nbformat": 4,
  "vscode": {
   "interpreter": {
    "hash": "ce24ca8aae0c18c4327bef86187bd310e85b0b68e0fbab549c3fc8d824c6eee6"
   }
  }
 },
 "nbformat": 4,
 "nbformat_minor": 2
}
