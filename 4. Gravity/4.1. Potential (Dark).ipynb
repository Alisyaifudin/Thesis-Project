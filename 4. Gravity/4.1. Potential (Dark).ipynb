{
 "cells": [
  {
   "cell_type": "code",
   "execution_count": 1,
   "metadata": {},
   "outputs": [],
   "source": [
    "import vaex\n",
    "import numpy as np\n",
    "import pandas as pd\n",
    "from glob import glob\n",
    "from matplotlib import pyplot as plt\n",
    "from os.path import join, abspath\n",
    "import sys\n",
    "from scipy.integrate import odeint, quad\n",
    "from scipy.optimize import curve_fit\n",
    "from scipy.interpolate import interp1d\n",
    "from scipy.stats import norm, skewnorm\n",
    "from os import pardir, mkdir"
   ]
  },
  {
   "cell_type": "markdown",
   "metadata": {},
   "source": [
    "The following codes are used to test the algorithm \n",
    "\n",
    "You can skip it"
   ]
  },
  {
   "cell_type": "markdown",
   "metadata": {},
   "source": [
    "## Math\n",
    "\n",
    "from Poisson eq.\n",
    "\\begin{aligned}\n",
    "  \\nabla^2\\Phi(z, r, \\phi) = \\frac{\\partial^2 \\Phi}{\\partial z^2}+\\frac{1}{r^2}\\frac{\\partial \\Phi}{\\partial \\phi^2} + \\frac{1}{r}\\frac{\\partial}{\\partial r}\\left(r\\frac{\\partial \\Phi}{\\partial r}\\right) = 4\\pi G\\rho\n",
    "\\end{aligned}"
   ]
  },
  {
   "cell_type": "markdown",
   "metadata": {},
   "source": [
    "Assume axisymmetric potential, and can be decoupled\n",
    "\\begin{aligned}\n",
    "  \\Phi(z, r, \\phi) =  \\Phi(z, r) =  \\Phi_z(z) + \\Phi_r(r)\n",
    "\\end{aligned}"
   ]
  },
  {
   "cell_type": "markdown",
   "metadata": {},
   "source": [
    "Therefore\n",
    "\\begin{aligned}\n",
    "  \\nabla^2\\Phi(z, r, \\phi)  = \\frac{\\partial^2 \\Phi_z}{\\partial z^2}+ \\frac{1}{r}\\frac{\\partial}{\\partial r}\\left(r\\frac{\\partial \\Phi}{\\partial r}\\right) = 4\\pi G\\rho\n",
    "\\end{aligned}"
   ]
  },
  {
   "cell_type": "markdown",
   "metadata": {},
   "source": [
    "where (Buch et. al. [2019](https://iopscience.iop.org/article/10.1088/1475-7516/2019/04/026))\n",
    "\\begin{aligned}\n",
    "  \\mathcal{R} &= \\frac{1}{(4\\pi G)} \\frac{1}{r}\\frac{\\partial}{\\partial r}\\left(r\\frac{\\partial \\Phi}{\\partial r}\\right) \\\\\n",
    "    &= (3.4\\pm 0.6)\\times10^{-3} M_\\odot /\\text{pc}^3\n",
    "\\end{aligned}"
   ]
  },
  {
   "cell_type": "markdown",
   "metadata": {},
   "source": [
    "and $\\rho$ is divided into three parts\n",
    "* Baryon, $\\rho_i$\n",
    "* Thin Dark Disk, $\\rho_\\text{DD}$\n",
    "* Constant Local Halo Dark Matter $\\rho_\\text{DM}$\n"
   ]
  },
  {
   "cell_type": "markdown",
   "metadata": {},
   "source": [
    "Using Bahcall Model for Baryon, for each components\n",
    "\\begin{aligned}\n",
    "  \\rho_i = \\rho_{i,0}\\exp{\\left(-\\frac{\\Phi(z)}{\\sigma_{z,i}}\\right)}\n",
    "\\end{aligned}\n",
    "And total baryons\n",
    "\\begin{aligned}\n",
    "  \\rho_b = \\sum_i^N\\rho_i\n",
    "\\end{aligned}"
   ]
  },
  {
   "cell_type": "markdown",
   "metadata": {},
   "source": [
    "For thin DD\n",
    "\\begin{aligned}\n",
    "  \\rho_\\text{DD}(z) = \\frac{\\Sigma_\\text{DD}}{4h_\\text{DD}}\\text{sech}^2\\left(\\frac{z}{2h_\\text{DD}}\\right)\n",
    "\\end{aligned}"
   ]
  },
  {
   "cell_type": "markdown",
   "metadata": {},
   "source": [
    "So,\n",
    "\\begin{aligned}\n",
    "  \\frac{\\partial^2 \\Phi_z}{\\partial z^2} &= 4\\pi G\\rho_\\text{eff} \\\\\n",
    "  \\frac{1}{4\\pi G}\\frac{\\partial^2 \\Phi_z}{\\partial z^2} &= \\sum_i^N\\left[\\rho_{i,0}\\exp{\\left(-\\frac{\\Phi(z)}{\\sigma_{z,i}}\\right)}\\right] + \\frac{\\Sigma_\\text{DD}}{4h_\\text{DD}}\\text{sech}^2\\left(\\frac{z}{2h_\\text{DD}}\\right) + \\rho_\\text{DM} - \\mathcal{R}\n",
    "\\end{aligned}"
   ]
  },
  {
   "cell_type": "markdown",
   "metadata": {},
   "source": [
    "# 1 Component"
   ]
  },
  {
   "cell_type": "code",
   "execution_count": null,
   "metadata": {},
   "outputs": [],
   "source": [
    "def sech(x):\n",
    "    return 1/np.cosh(x)\n",
    "\n",
    "def rhoDD(z, sigmaDD, hDD):\n",
    "    return sigmaDD/(4*hDD)*sech(z/(2*hDD))**2\n",
    "\n",
    "def rho_tot1(z, phi, rho1, sigmaz1, rhoDM, sigmaDD, hDD, R=3.4E-3):\n",
    "    return rho1*np.exp(-phi/sigmaz1**2) + rhoDM + rhoDD(z, sigmaDD, hDD) - R\n",
    "\n",
    "def f1(u, z, rho1, sigmaz1, rhoDM, sigmaDD, hDD, R=3.4E-3):\n",
    "    G = 4.30091E-3 # pc/M_sun (km/s)^2\n",
    "    return (u[1], 4*np.pi*G*rho_tot1(z, u[0], rho1, sigmaz1, rhoDM, sigmaDD, hDD, R))"
   ]
  },
  {
   "cell_type": "code",
   "execution_count": null,
   "metadata": {},
   "outputs": [],
   "source": [
    "rho0 = 1 # Msun/pc^3\n",
    "phi0 = 0 # (km/s)^2\n",
    "Kz0 = 0 # pc (km/s)^2\n",
    "\n",
    "y0 = [Kz0, phi0]\n",
    "zs = np.linspace(0, 1000, 1000)\n",
    "\n",
    "rho1 = 0.0104 # Msun/pc^3\n",
    "sigmaz1 = 3.7 # km/s\n",
    "rhoDM = 0.016 # Msun/pc^3\n",
    "sigmaDD = 7 # Msun/pc^2\n",
    "hDD = 67.435 # pc\n",
    "R = 3.4E-3 # Msun/pc^3\n",
    "us = odeint(f1, y0, zs, args=(rho1, sigmaz1, rhoDM, sigmaDD, hDD, R))"
   ]
  },
  {
   "cell_type": "code",
   "execution_count": null,
   "metadata": {},
   "outputs": [],
   "source": [
    "phi = us[:, 0]\n",
    "plt.plot(zs, phi)\n",
    "plt.xlabel(\"z (pc)\")\n",
    "plt.ylabel(\"phi (km/s)^2\")\n",
    "plt.xlim(0, zs[-1])\n",
    "plt.ylim(0, phi[-1]*1.2)\n",
    "plt.grid()"
   ]
  },
  {
   "cell_type": "code",
   "execution_count": null,
   "metadata": {},
   "outputs": [],
   "source": [
    "Kz = us[:, 1]\n",
    "plt.plot(zs, Kz)\n",
    "plt.xlabel(\"z (pc)\")\n",
    "plt.ylabel(\"Kz [pc (km/s)^2]\")\n",
    "plt.grid()\n",
    "plt.xlim(0, zs[-1])\n",
    "plt.ylim(0, Kz[-1]*1.2)"
   ]
  },
  {
   "cell_type": "markdown",
   "metadata": {},
   "source": [
    "# Multi-components"
   ]
  },
  {
   "cell_type": "code",
   "execution_count": null,
   "metadata": {},
   "outputs": [],
   "source": [
    "def frho(rho0, phi, sigmaz ):\n",
    "    return rho0*np.exp(-phi/sigmaz**2)\n",
    "\n",
    "def rho_tot(z, phi, rhos, sigmaz, rhoDM, sigmaDD, hDD, R=3.4E-3):\n",
    "    rho = np.array(list(map(lambda par: frho(par[0], phi, par[1]), zip(rhos, sigmaz))))\n",
    "    return rho.sum() + rhoDM + rhoDD(z, sigmaDD, hDD) - R\n",
    "\n",
    "def f(u, z, rhos, sigmaz, rhoDM, sigmaDD, hDD, R=3.4E-3):\n",
    "    G = 4.30091E-3 # pc/M_sun (km/s)^2\n",
    "    return (u[1], 4*np.pi*G*rho_tot(z, u[0], rhos, sigmaz, rhoDM, sigmaDD, hDD, R))"
   ]
  },
  {
   "cell_type": "code",
   "execution_count": null,
   "metadata": {},
   "outputs": [],
   "source": [
    "rho0 = 1 # Msun/pc^3\n",
    "phi0 = 0 # (km/s)^2\n",
    "Kz0 = 0 # pc (km/s)^2\n",
    "\n",
    "y0 = [Kz0, phi0]\n",
    "zs = np.linspace(0, 200, 1000)\n",
    "\n",
    "rhos = np.array([0.0104, 0.0277, 0.0073]) # Msun/pc^3\n",
    "sigmaz = np.array([3.7, 7.1, 22.1]) # km/s\n",
    "rhoDM = 0 #0.016 # Msun/pc^3\n",
    "sigmaDD = 10 # Msun/pc^2\n",
    "hDD = 20 # pc\n",
    "R = 0 # 3.4E-3 # Msun/pc^3\n",
    "us = odeint(f, y0, zs, args=(rhos, sigmaz, rhoDM, sigmaDD, hDD, R))"
   ]
  },
  {
   "cell_type": "code",
   "execution_count": null,
   "metadata": {},
   "outputs": [],
   "source": [
    "phi = us[:, 0]\n",
    "plt.plot(zs, phi)\n",
    "plt.xlabel(\"z (pc)\")\n",
    "plt.ylabel(\"phi (km/s)^2\")\n",
    "plt.xlim(0, zs[-1])\n",
    "plt.ylim(0, phi[-1]*1.2)\n",
    "plt.grid()"
   ]
  },
  {
   "cell_type": "code",
   "execution_count": null,
   "metadata": {},
   "outputs": [],
   "source": [
    "Kz = us[:, 1]\n",
    "plt.plot(zs, Kz)\n",
    "plt.xlabel(\"z (pc)\")\n",
    "plt.ylabel(\"Kz [pc (km/s)^2]\")\n",
    "plt.grid()\n",
    "plt.xlim(0, zs[-1])\n",
    "plt.ylim(0, Kz[-1]*1.2)"
   ]
  },
  {
   "cell_type": "markdown",
   "metadata": {},
   "source": [
    "========================================\n",
    "\n",
    "end of skip"
   ]
  },
  {
   "cell_type": "markdown",
   "metadata": {},
   "source": [
    "# Number density"
   ]
  },
  {
   "cell_type": "markdown",
   "metadata": {},
   "source": [
    "Eq (3.4) from [Schutz et. al (2019)](https://journals.aps.org/prl/abstract/10.1103/PhysRevLett.121.081101)\n",
    "\n",
    "\\begin{aligned}\n",
    "  \\nu(z) &= 2 \\int_{\\sqrt{2\\Phi(z)}}^\\infty \\frac{f_{0}(|w|)w \\text{ d}w}{\\sqrt{w^2-2\\Phi(z)}}\n",
    "\\end{aligned}\n",
    "and $f_{0}(|w|)$ is approximately gaussian with zero mean and some std $\\sigma_w$\n",
    "\\begin{aligned}\n",
    "  f_{0}(|w|) \\approx \\mathcal{N}(|w|; 0, \\sigma_w)\n",
    "\\end{aligned}"
   ]
  },
  {
   "cell_type": "code",
   "execution_count": null,
   "metadata": {},
   "outputs": [],
   "source": [
    "def fdist(w, sigma):\n",
    "  return norm.pdf(w, loc=0, scale=sigma)\n",
    "\n",
    "def nu(phi, fdist):\n",
    "  if isinstance(phi, np.ndarray):\n",
    "    return np.array(list(map(lambda phi: nu(phi, fdist), phi)))\n",
    "  const = lambda w: 1.0/np.sqrt(w**2-2*phi)\n",
    "  a = np.sqrt(2*phi)\n",
    "  b = 1000\n",
    "  return 2*quad(lambda w: const(w)*fdist(w)*w, a, b)[0]"
   ]
  },
  {
   "cell_type": "markdown",
   "metadata": {},
   "source": [
    "Integrate with respect to given $\\Phi$"
   ]
  },
  {
   "cell_type": "code",
   "execution_count": null,
   "metadata": {},
   "outputs": [],
   "source": [
    "phis = np.linspace(0, 200, 10)\n",
    "plt.figure(figsize=(10, 6))\n",
    "for scale in [5, 6, 7]:\n",
    "  nus = nu(phis, lambda w: fdist(w, scale))\n",
    "  plt.scatter(phis, np.log(nus), label=\"scale = {}\".format(scale))\n",
    "plt.legend()\n",
    "plt.grid()\n",
    "plt.show()"
   ]
  },
  {
   "cell_type": "markdown",
   "metadata": {},
   "source": [
    "It looks like the integral can be approximately straight line (in log), or\n",
    "\\begin{aligned}\n",
    "  \\text{log }\\nu \\approx b(\\sigma_w)\\Phi\n",
    "\\end{aligned}\n",
    "where $b$ is the slope for given $\\sigma_w$.\n",
    "\n",
    "this approximation will speed-up the integration proccess. Find $b$ for given $\\sigma_w$ relation"
   ]
  },
  {
   "cell_type": "code",
   "execution_count": null,
   "metadata": {},
   "outputs": [],
   "source": [
    "def line(x, b):\n",
    "  return b*x\n",
    "b = []\n",
    "eb = []\n",
    "phis = np.linspace(0, 200, 10)\n",
    "for scale in [5, 6, 7]:\n",
    "  nus = nu(phis, lambda w: fdist(w, scale))\n",
    "  # slope, intercept, r, p, se, ise\n",
    "  popt, pcov = curve_fit(line, phis, np.log(nus))\n",
    "  b.append(popt[0])\n",
    "  eb.append(np.sqrt(np.diag(pcov))[0])\n",
    "b, eb"
   ]
  },
  {
   "cell_type": "code",
   "execution_count": null,
   "metadata": {},
   "outputs": [],
   "source": [
    "phis = np.linspace(0, 200, 10)\n",
    "phii = np.linspace(0, 200, 100)\n",
    "plt.figure(figsize=(10, 6))\n",
    "for scale, bb in zip([5, 6, 7], b):\n",
    "  nus = nu(phis, lambda w: fdist(w, scale))\n",
    "  nuss = line(phii, bb)\n",
    "  plt.scatter(phis, np.log(nus), label=\"scale = {}\".format(scale))\n",
    "  plt.plot(phii, nuss)\n",
    "plt.legend()\n",
    "plt.grid()\n",
    "plt.show()"
   ]
  },
  {
   "cell_type": "markdown",
   "metadata": {},
   "source": [
    "calculate $b$ for a bunch of $\\sigma_w$"
   ]
  },
  {
   "cell_type": "code",
   "execution_count": null,
   "metadata": {},
   "outputs": [],
   "source": [
    "def line(x, b):\n",
    "  return b*x\n",
    "b = []\n",
    "eb = []\n",
    "phis = np.linspace(0, 200, 10)\n",
    "scales = np.linspace(1, 3.5, 100) # need more points around here\n",
    "scales = np.append(scales, np.linspace(3.5, 20, 20)).flatten()\n",
    "scales = np.unique(scales)\n",
    "\n",
    "for i, scale in enumerate(scales):\n",
    "  nus = nu(phis, lambda w: fdist(w, scale))\n",
    "  # slope, intercept, r, p, se, ise\n",
    "  popt, pcov = curve_fit(line, phis, np.log(nus))\n",
    "  b.append(popt[0])\n",
    "  eb.append(np.sqrt(np.diag(pcov))[0])\n",
    "  print(i, end=\" \")\n",
    "b, eb"
   ]
  },
  {
   "cell_type": "markdown",
   "metadata": {},
   "source": [
    "experiment to find the analitic relation between $\\sigma_w$ and $b$"
   ]
  },
  {
   "cell_type": "code",
   "execution_count": null,
   "metadata": {},
   "outputs": [],
   "source": [
    "# curve fit errors\n",
    "plt.hist(eb, bins=20)\n",
    "plt.show()"
   ]
  },
  {
   "cell_type": "code",
   "execution_count": null,
   "metadata": {},
   "outputs": [],
   "source": [
    "plt.scatter(scales, 1/np.sqrt(-1*np.array(b)), s=1)\n",
    "# straight line\n",
    "plt.plot(scales, scales, c=\"red\")"
   ]
  },
  {
   "cell_type": "markdown",
   "metadata": {},
   "source": [
    "It looks like, this relation is good enough\n",
    "\\begin{aligned}\n",
    "  \\sigma_w &\\approx \\frac{1}{\\sqrt{-b}} \\\\\n",
    "  b &\\approx -\\frac{1}{\\sigma_w^2}\n",
    "\\end{aligned}\n",
    "\n",
    "check the relative error"
   ]
  },
  {
   "cell_type": "code",
   "execution_count": null,
   "metadata": {},
   "outputs": [],
   "source": [
    "plt.scatter(scales, np.abs((1/np.sqrt(-1*np.array(b)) - scales)/(1/np.sqrt(-1*np.array(b)))))\n",
    "plt.plot(scales, np.abs((1/np.sqrt(-1*np.array(b)) - scales)/(1/np.sqrt(-1*np.array(b)))), c=\"red\")"
   ]
  },
  {
   "cell_type": "markdown",
   "metadata": {},
   "source": [
    "and difference"
   ]
  },
  {
   "cell_type": "code",
   "execution_count": null,
   "metadata": {},
   "outputs": [],
   "source": [
    "diff = (1/np.sqrt(-1*np.array(b)) - scales)\n",
    "plt.plot(scales, diff)"
   ]
  },
  {
   "cell_type": "markdown",
   "metadata": {},
   "source": [
    "# Store the b diff"
   ]
  },
  {
   "cell_type": "code",
   "execution_count": null,
   "metadata": {},
   "outputs": [],
   "source": [
    "# store the difference\n",
    "root_data_dir = abspath(join(pardir, \"Data\"))\n",
    "name=\"b\"\n",
    "data_b_dir = join(root_data_dir, name)\n",
    "try:\n",
    "  mkdir(data_b_dir)\n",
    "  print(f\"Creating {name} dir in Data dir\")\n",
    "except FileExistsError:\n",
    "  print(\"Directory already exist. Good to go!\")"
   ]
  },
  {
   "cell_type": "code",
   "execution_count": null,
   "metadata": {},
   "outputs": [],
   "source": [
    "df_b = vaex.from_dict(dict(scale=scales, diff=diff))\n",
    "df_b"
   ]
  },
  {
   "cell_type": "code",
   "execution_count": null,
   "metadata": {},
   "outputs": [],
   "source": [
    "df_b.export_hdf5(join(data_b_dir, \"b.hdf5\"), progress=True)"
   ]
  },
  {
   "cell_type": "markdown",
   "metadata": {},
   "source": [
    "then, to approximate $b$ given $\\sigma_w$\n",
    "\\begin{aligned}\n",
    "  -\\frac{1}{\\sqrt{b}} - \\sigma_w &= \\text{diff}(\\sigma_w) \\\\\n",
    "  b &= -\\frac{1}{\\left(\\text{diff}(\\sigma_w) + \\sigma_w\\right)^2}\n",
    "\\end{aligned}"
   ]
  },
  {
   "cell_type": "markdown",
   "metadata": {},
   "source": [
    "And, the $\\nu$ becomes\n",
    "\\begin{aligned}\n",
    "  \\nu &= \\exp{\\left(b(\\sigma_w)\\Phi\\right)} \\\\\n",
    "  &= \\exp{\\left[-\\frac{\\Phi}{\\left(\\text{diff}(\\sigma_w) + \\sigma_w\\right)^2}\\right]}\n",
    "\\end{aligned}"
   ]
  },
  {
   "cell_type": "code",
   "execution_count": null,
   "metadata": {},
   "outputs": [],
   "source": [
    "df_b = vaex.open(join(data_b_dir, \"b.hdf5\"))\n",
    "df_b"
   ]
  },
  {
   "cell_type": "code",
   "execution_count": null,
   "metadata": {},
   "outputs": [],
   "source": [
    "# phi from multi-component\n",
    "phi, zs"
   ]
  },
  {
   "cell_type": "code",
   "execution_count": null,
   "metadata": {},
   "outputs": [],
   "source": [
    "diff_interp = interp1d(df_b.scale.to_numpy(), df_b['diff'].to_numpy(), kind=\"cubic\")\n",
    "\n",
    "def log_nu(phi, sigma_w):\n",
    "  return -phi/(diff_interp(sigma_w)+sigma_w)**2\n"
   ]
  },
  {
   "cell_type": "code",
   "execution_count": null,
   "metadata": {},
   "outputs": [],
   "source": [
    "lognu = log_nu(phi, 5)\n",
    "Z = np.array([-1*zs[::-1],zs]).flatten()/1000\n",
    "logNu = np.array([lognu[::-1],lognu]).flatten()\n",
    "plt.plot(Z, logNu)\n",
    "plt.grid()"
   ]
  },
  {
   "cell_type": "markdown",
   "metadata": {},
   "source": [
    "# Algorithm\n",
    "\n",
    "you can start from here"
   ]
  },
  {
   "cell_type": "markdown",
   "metadata": {},
   "source": [
    "Baryonic components (compiled by [Schutz, K., Lin, T., Safdi, B. R., & Wu, C. L. (2018). Constraining a Thin Dark Matter Disk with G a i a. Physical review letters, 121(8), 081101](https://journals.aps.org/prl/abstract/10.1103/PhysRevLett.121.081101))\n",
    "\n",
    "| Components               | density (Msun/pc^3) | sigma_z (km/s) |\n",
    "| ------------------------ | ------------------- | -------------- |\n",
    "| Molecular gas (H2)       | 0.0104 ± 0.00312    |  3.7 ± 0.2     |\n",
    "| Cold atomic gas (HI(1))  | 0.0277 ± 0.00554    |  7.1 ± 0.5     |\n",
    "| Warm atomic gas (HI(2))  | 0.0073 ± 0.00070    | 22.1 ± 2.4     |\n",
    "| Hot ionized gas (HII)    | 0.0005 ± 0.00003    | 39.0 ± 4.0     |\n",
    "| Giant stars              | 0.0006 ± 0.00006    | 15.5 ± 1.6     |\n",
    "| MV < 3                   | 0.0018 ± 0.00018    |  7.5 ± 2.0     |\n",
    "| 3 < MV < 4               | 0.0018 ± 0.00018    | 12.0 ± 2.4     |\n",
    "| 4 < MV < 5               | 0.0029 ± 0.00029    | 18.0 ± 1.8     |\n",
    "| 5 < MV < 8               | 0.0072 ± 0.00072    | 18.5 ± 1.9     |\n",
    "| MV > 8 (M dwarfs)        | 0.0216 ± 0.00280    | 18.5 ± 4.0     |\n",
    "| White dwarfs             | 0.0056 ± 0.00100    | 20.0 ± 5.0     |\n",
    "| Brown dwarfs             | 0.0015 ± 0.00050    | 20.0 ± 5.0     |\n",
    "\n",
    "let's create this table, and save it\n"
   ]
  },
  {
   "cell_type": "code",
   "execution_count": null,
   "metadata": {},
   "outputs": [],
   "source": [
    "# if you already have it, just skip to test with all components\n",
    "\n",
    "table_dict = {\n",
    "  \"components\": [\n",
    "    \"Molecular gas (H2)\", \n",
    "    \"Cold atomic gas (HI(1))\",\n",
    "    \"Warm atomic gas (HI(2))\",\n",
    "    \"Hot ionized gas (HII)\",\n",
    "    \"Giant stars\",\n",
    "    \"MV < 3\",\n",
    "    \"3 < MV < 4\",\n",
    "    \"4 < MV < 5\",\n",
    "    \"5 < MV < 8\",\n",
    "    \"MV > 8\",\n",
    "    \"White dwarfs\",\n",
    "    \"Brown dwarfs\"\n",
    "    ],\n",
    "    \"rho\": [\n",
    "       0.0104,\n",
    "       0.0277,\n",
    "       0.0073,\n",
    "       0.0005,\n",
    "       0.0006,\n",
    "       0.0018,\n",
    "       0.0018,\n",
    "       0.0029,\n",
    "       0.0072,\n",
    "       0.0216,\n",
    "       0.0056,\n",
    "       0.0015\n",
    "    ],\n",
    "    \"e_rho\": [0.00312, 0.00554, 0.00070, 0.00003, 0.00006, 0.00018, 0.00018, 0.00029, 0.00072, 0.00280, 0.00100, 0.00050],\n",
    "    \"sigma_z\": [3.7, 7.1, 22.1, 39.0, 15.5, 7.5, 12.0, 18.0, 18.5, 18.5, 20.0, 20.0],\n",
    "    \"e_sigma_z\": [0.2, 0.5, 2.4, 4.0, 1.6, 2.0, 2.4, 1.8, 1.9, 4.0, 5.0, 5.0]\n",
    "  }\n",
    "\n",
    "df = vaex.from_dict(table_dict)\n",
    "df"
   ]
  },
  {
   "cell_type": "code",
   "execution_count": 2,
   "metadata": {},
   "outputs": [
    {
     "data": {
      "text/plain": [
       "'/home2/s20321005/Thesis-Project/Data'"
      ]
     },
     "execution_count": 2,
     "metadata": {},
     "output_type": "execute_result"
    }
   ],
   "source": [
    "root_data_dir = abspath(join(pardir, \"Data\"))\n",
    "root_data_dir"
   ]
  },
  {
   "cell_type": "code",
   "execution_count": 3,
   "metadata": {},
   "outputs": [
    {
     "name": "stdout",
     "output_type": "stream",
     "text": [
      "Directory already exist. Good to go!\n"
     ]
    }
   ],
   "source": [
    "name = \"Baryon\"\n",
    "data_dir = join(root_data_dir, name)\n",
    "try:\n",
    "  mkdir(data_dir)\n",
    "  print(f\"Creating {name} dir in Data dir\")\n",
    "except FileExistsError:\n",
    "  print(\"Directory already exist. Good to go!\")"
   ]
  },
  {
   "cell_type": "code",
   "execution_count": null,
   "metadata": {},
   "outputs": [],
   "source": [
    "df.export(join(data_dir, \"baryon.hdf5\"), progress=True)"
   ]
  },
  {
   "cell_type": "markdown",
   "metadata": {},
   "source": [
    "# Test run with all components"
   ]
  },
  {
   "cell_type": "markdown",
   "metadata": {},
   "source": [
    "with this table, we can run the full function in utils.py"
   ]
  },
  {
   "cell_type": "code",
   "execution_count": null,
   "metadata": {},
   "outputs": [],
   "source": [
    "# These functions are in utils.py\n",
    "#\n",
    "# def sech(x):\n",
    "#     return 1/np.cosh(x)\n",
    "\n",
    "# def rhoDD(z, sigmaDD, hDD):\n",
    "#     return sigmaDD/(4*hDD)*sech(z/(2*hDD))**2\n",
    "\n",
    "# def frho(rho0, phi, sigmaz ):\n",
    "#     return rho0*np.exp(-phi/sigmaz**2)\n",
    "# \n",
    "# def rho_tot(z: np.ndarray, phi: float, rhos: np.ndarray, sigmaz: np.ndarray, rhoDM: float, sigmaDD: float, hDD: float) -> float:\n",
    "#     rho = np.array(list(map(lambda par: frho(par[0], phi, par[1]), zip(rhos, sigmaz))))\n",
    "#     return rho.sum() + rhoDM + rhoDD(z, sigmaDD, hDD)\n",
    "# \n",
    "# def f(u, z, rhos, sigmaz, rhoDM, sigmaDD, hDD):\n",
    "#   return (u[1], rho_tot1(z, u[0], rhos, sigmaz, rhoDM, sigmaDD, hDD))"
   ]
  },
  {
   "cell_type": "code",
   "execution_count": 7,
   "metadata": {},
   "outputs": [],
   "source": [
    "# import utils\n",
    "util_dir = abspath(pardir)\n",
    "sys.path.insert(0, util_dir)"
   ]
  },
  {
   "cell_type": "code",
   "execution_count": null,
   "metadata": {},
   "outputs": [],
   "source": [
    "from utils import rhoDD, frho, rho_tot, f, fdist"
   ]
  },
  {
   "cell_type": "code",
   "execution_count": 4,
   "metadata": {},
   "outputs": [
    {
     "data": {
      "text/plain": [
       "'/home2/s20321005/Thesis-Project/Data/Baryon'"
      ]
     },
     "execution_count": 4,
     "metadata": {},
     "output_type": "execute_result"
    }
   ],
   "source": [
    "name = \"Baryon\"\n",
    "data_dir = join(root_data_dir, name)\n",
    "data_dir"
   ]
  },
  {
   "cell_type": "code",
   "execution_count": 5,
   "metadata": {},
   "outputs": [
    {
     "data": {
      "text/html": [
       "<table>\n",
       "<thead>\n",
       "<tr><th>#                             </th><th>components             </th><th>rho   </th><th>e_rho  </th><th>sigma_z  </th><th>e_sigma_z  </th></tr>\n",
       "</thead>\n",
       "<tbody>\n",
       "<tr><td><i style='opacity: 0.6'>0</i> </td><td>Molecular gas (H2)     </td><td>0.0104</td><td>0.00312</td><td>3.7      </td><td>0.2        </td></tr>\n",
       "<tr><td><i style='opacity: 0.6'>1</i> </td><td>Cold atomic gas (HI(1))</td><td>0.0277</td><td>0.00554</td><td>7.1      </td><td>0.5        </td></tr>\n",
       "<tr><td><i style='opacity: 0.6'>2</i> </td><td>Warm atomic gas (HI(2))</td><td>0.0073</td><td>0.0007 </td><td>22.1     </td><td>2.4        </td></tr>\n",
       "<tr><td><i style='opacity: 0.6'>3</i> </td><td>Hot ionized gas (HII)  </td><td>0.0005</td><td>3e-05  </td><td>39.0     </td><td>4.0        </td></tr>\n",
       "<tr><td><i style='opacity: 0.6'>4</i> </td><td>Giant stars            </td><td>0.0006</td><td>6e-05  </td><td>15.5     </td><td>1.6        </td></tr>\n",
       "<tr><td>...                           </td><td>...                    </td><td>...   </td><td>...    </td><td>...      </td><td>...        </td></tr>\n",
       "<tr><td><i style='opacity: 0.6'>7</i> </td><td>4 &lt; MV &lt; 5             </td><td>0.0029</td><td>0.00029</td><td>18.0     </td><td>1.8        </td></tr>\n",
       "<tr><td><i style='opacity: 0.6'>8</i> </td><td>5 &lt; MV &lt; 8             </td><td>0.0072</td><td>0.00072</td><td>18.5     </td><td>1.9        </td></tr>\n",
       "<tr><td><i style='opacity: 0.6'>9</i> </td><td>MV &gt; 8                 </td><td>0.0216</td><td>0.0028 </td><td>18.5     </td><td>4.0        </td></tr>\n",
       "<tr><td><i style='opacity: 0.6'>10</i></td><td>White dwarfs           </td><td>0.0056</td><td>0.001  </td><td>20.0     </td><td>5.0        </td></tr>\n",
       "<tr><td><i style='opacity: 0.6'>11</i></td><td>Brown dwarfs           </td><td>0.0015</td><td>0.0005 </td><td>20.0     </td><td>5.0        </td></tr>\n",
       "</tbody>\n",
       "</table>"
      ],
      "text/plain": [
       "#    components               rho     e_rho    sigma_z    e_sigma_z\n",
       "0    Molecular gas (H2)       0.0104  0.00312  3.7        0.2\n",
       "1    Cold atomic gas (HI(1))  0.0277  0.00554  7.1        0.5\n",
       "2    Warm atomic gas (HI(2))  0.0073  0.0007   22.1       2.4\n",
       "3    Hot ionized gas (HII)    0.0005  3e-05    39.0       4.0\n",
       "4    Giant stars              0.0006  6e-05    15.5       1.6\n",
       "...  ...                      ...     ...      ...        ...\n",
       "7    4 < MV < 5               0.0029  0.00029  18.0       1.8\n",
       "8    5 < MV < 8               0.0072  0.00072  18.5       1.9\n",
       "9    MV > 8                   0.0216  0.0028   18.5       4.0\n",
       "10   White dwarfs             0.0056  0.001    20.0       5.0\n",
       "11   Brown dwarfs             0.0015  0.0005   20.0       5.0"
      ]
     },
     "execution_count": 5,
     "metadata": {},
     "output_type": "execute_result"
    }
   ],
   "source": [
    "# load baryons components\n",
    "df = vaex.open(join(data_dir, \"baryon.hdf5\"))\n",
    "df"
   ]
  },
  {
   "cell_type": "code",
   "execution_count": null,
   "metadata": {},
   "outputs": [],
   "source": [
    "rhos = df[\"rho\"].to_numpy()  # Msun/pc^3\n",
    "sigmaz = df[\"sigma_z\"].to_numpy() # km/s\n",
    "\n",
    "# test the following dark values\n",
    "rhoDM = 0.016 # Msun/pc^3\n",
    "sigmaDD = 7 # Msun/pc^2\n",
    "hDD = 65 # pc\n",
    "\n",
    "# initial values\n",
    "rho0 = 1 # Msun/pc^3\n",
    "phi0 = 0 # (km/s)^2\n",
    "Kz0 = 0 # pc (km/s)^2\n",
    "R = 3.4E-3 \n",
    "y0 = [Kz0, phi0]\n",
    "zs = np.linspace(0, 200, 1000)\n",
    "us = odeint(f, y0, zs, args=(rhos, sigmaz, rhoDM, sigmaDD, hDD, R))"
   ]
  },
  {
   "cell_type": "code",
   "execution_count": null,
   "metadata": {},
   "outputs": [],
   "source": [
    "phi = us[:, 0]\n",
    "plt.plot(zs, phi)\n",
    "plt.xlabel(\"z (pc)\")\n",
    "plt.ylabel(\"phi (km/s)^2\")\n",
    "plt.xlim(0, zs[-1])\n",
    "plt.ylim(0, phi[-1]*1.2)\n",
    "plt.grid()"
   ]
  },
  {
   "cell_type": "code",
   "execution_count": null,
   "metadata": {},
   "outputs": [],
   "source": [
    "Kz = us[:, 1]\n",
    "plt.plot(zs, Kz)\n",
    "plt.xlabel(\"z (pc)\")\n",
    "plt.ylabel(\"Kz [pc (km/s)^2]\")\n",
    "plt.grid()\n",
    "plt.xlim(0, zs[-1])\n",
    "plt.ylim(0, Kz[-1]*1.2)"
   ]
  },
  {
   "cell_type": "code",
   "execution_count": null,
   "metadata": {},
   "outputs": [],
   "source": [
    "# These functions are in utils.py\n",
    "# \n",
    "# def fdist(w, sigma):\n",
    "#   return norm.pdf(w, 0, sigma)\n",
    "\n",
    "# def nu(phi, fdist):\n",
    "#   const = lambda w: 1.0/np.sqrt(w**2-2*phi)\n",
    "#   a = np.sqrt(2*phi)\n",
    "#   b = 1000\n",
    "#   amin = np.min(a)\n",
    "#   return 2*quad(lambda w: const(w)*fdist(w)*w, a, b)[0]"
   ]
  },
  {
   "cell_type": "code",
   "execution_count": null,
   "metadata": {},
   "outputs": [],
   "source": [
    "phi_interp = interp1d(zs, phi, kind='cubic')\n",
    "\n",
    "zz = np.linspace(1, 200, 100)\n",
    "phii = phi_interp(zz)\n",
    "# # dz = 15\n",
    "# sigma_v = 10\n",
    "# nus = list(map(lambda z: nu(z, phi_interp(z), lambda w: fdist(w, sigma_v)), zz))\n"
   ]
  },
  {
   "cell_type": "code",
   "execution_count": null,
   "metadata": {},
   "outputs": [],
   "source": [
    "sigma_v = 10\n",
    "lognu = log_nu(phii, sigma_v)\n",
    "Z = np.array([-1*zz[::-1],zz]).flatten()/1000\n",
    "logNu = np.array([lognu[::-1],lognu]).flatten()\n",
    "plt.plot(Z, logNu)\n",
    "plt.grid()"
   ]
  },
  {
   "cell_type": "markdown",
   "metadata": {},
   "source": [
    "Compiling and creating $\\nu^{\\text{mod}}(\\theta)$ function\n",
    "\n",
    "all in one"
   ]
  },
  {
   "cell_type": "code",
   "execution_count": null,
   "metadata": {},
   "outputs": [],
   "source": [
    "# theta:\n",
    "# rho, sigmaz, rhoDM, sigmaDD, hDD, Nv, zsun\n",
    "from operator import itemgetter\n",
    "from scipy.interpolate import interp1d\n",
    "# zmax in pc\n",
    "# this function is in utils.py\n",
    "# def nu_mod(zz, theta, sigma_v, zmax=200, res=1000):\n",
    "#   args = ('rhos', 'sigmaz', 'rhoDM', 'sigmaDD', 'hDD', 'Nv', 'zsun')\n",
    "#   rhos, sigmaz, rhoDM, sigmaDD, hDD, Nv, zsun = itemgetter(*args)(theta)\n",
    "\n",
    "#   phi0 = 0 # (km/s)^2\n",
    "#   Kz0 = 0 # pc (km/s)^2\n",
    "\n",
    "#   y0 = [Kz0, phi0]\n",
    "#   zs = np.linspace(0, zmax, res)\n",
    "#   us = odeint(f, y0, zs, args=(rhos, sigmaz, rhoDM, sigmaDD, hDD))\n",
    "#   phi = us[:, 0]\n",
    "#   phi_interp = interp1d(zs, phi, kind='cubic')\n",
    "#   phii = phi_interp(zz)\n",
    "#   # nus = np.array(list(map(lambda z: Nv*nu(z, phi_interp(z), lambda w: fdist(w, sigma_v)), zz)))\n",
    "#   lognu = log_nu(phii, sigma_v)\n",
    "#   Z = np.array([-1*zz[::-1],zz]).flatten()/1000\n",
    "#   logNu = np.array([lognu[::-1],lognu]).flatten()\n",
    "#   return (Z, logNu)"
   ]
  },
  {
   "cell_type": "code",
   "execution_count": 8,
   "metadata": {},
   "outputs": [],
   "source": [
    "from utils import nu_mod"
   ]
  },
  {
   "cell_type": "code",
   "execution_count": 9,
   "metadata": {},
   "outputs": [],
   "source": [
    "rhos = df[\"rho\"].to_numpy()  # Msun/pc^3\n",
    "sigmaz = df[\"sigma_z\"].to_numpy() # km/s\n",
    "\n",
    "# test the following dark values\n",
    "rhoDM = 0.016 # Msun/pc^3\n",
    "sigmaDD = 7 # Msun/pc^2\n",
    "hDD = 20 # pc\n",
    "\n",
    "theta = dict(rhos=rhos, sigmaz=sigmaz, rhoDM=rhoDM, sigmaDD=sigmaDD, hDD=hDD, Nv=1, zsun=0)\n",
    "\n",
    "zz = np.linspace(1, 200, 22)\n",
    "sigma_v = 5\n",
    "Z, logNu = nu_mod(zz, theta, sigma_v)"
   ]
  },
  {
   "cell_type": "code",
   "execution_count": 10,
   "metadata": {},
   "outputs": [
    {
     "data": {
      "image/png": "[encoded data removed]",
      "text/plain": [
       "<Figure size 432x288 with 1 Axes>"
      ]
     },
     "metadata": {
      "needs_background": "light"
     },
     "output_type": "display_data"
    }
   ],
   "source": [
    "plt.plot(Z, logNu)\n",
    "plt.grid()"
   ]
  }
 ],
 "metadata": {
  "kernelspec": {
   "display_name": "Python 3.9.7 ('vaex2')",
   "language": "python",
   "name": "python3"
  },
  "language_info": {
   "codemirror_mode": {
    "name": "ipython",
    "version": 3
   },
   "file_extension": ".py",
   "mimetype": "text/x-python",
   "name": "python",
   "nbconvert_exporter": "python",
   "pygments_lexer": "ipython3",
   "version": "3.9.7"
  },
  "orig_nbformat": 4,
  "vscode": {
   "interpreter": {
    "hash": "ce24ca8aae0c18c4327bef86187bd310e85b0b68e0fbab549c3fc8d824c6eee6"
   }
  }
 },
 "nbformat": 4,
 "nbformat_minor": 2
}
