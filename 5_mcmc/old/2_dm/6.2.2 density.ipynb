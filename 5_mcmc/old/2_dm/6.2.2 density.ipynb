{
 "cells": [
  {
   "cell_type": "code",
   "execution_count": 7,
   "metadata": {
    "execution": {
     "iopub.execute_input": "2023-06-12T01:55:44.373810Z",
     "iopub.status.busy": "2023-06-12T01:55:44.373374Z",
     "iopub.status.idle": "2023-06-12T01:55:44.380152Z",
     "shell.execute_reply": "2023-06-12T01:55:44.379334Z",
     "shell.execute_reply.started": "2023-06-12T01:55:44.373770Z"
    },
    "tags": []
   },
   "outputs": [],
   "source": [
    "from matplotlib import pyplot as plt\n",
    "import numpy as np \n",
    "from os.path import join, abspath\n",
    "from hammer import Model\n",
    "from time import time\n",
    "import vaex\n",
    "current = abspath(\"\")\n",
    "root_dir = abspath(join(current, '..', '..'))\n",
    "root_data_dir = join(root_dir, \"Data\")\n",
    "import sys\n",
    "if not root_dir in sys.path: \n",
    "    sys.path.append(root_dir)"
   ]
  },
  {
   "cell_type": "code",
   "execution_count": 3,
   "metadata": {
    "execution": {
     "iopub.execute_input": "2023-06-12T01:54:25.875566Z",
     "iopub.status.busy": "2023-06-12T01:54:25.875185Z",
     "iopub.status.idle": "2023-06-12T01:54:25.886418Z",
     "shell.execute_reply": "2023-06-12T01:54:25.885662Z",
     "shell.execute_reply.started": "2023-06-12T01:54:25.875527Z"
    }
   },
   "outputs": [
    {
     "data": {
      "text/plain": [
       "['Solarize_Light2',\n",
       " '_classic_test_patch',\n",
       " '_mpl-gallery',\n",
       " '_mpl-gallery-nogrid',\n",
       " 'bmh',\n",
       " 'classic',\n",
       " 'dark_background',\n",
       " 'fast',\n",
       " 'fivethirtyeight',\n",
       " 'ggplot',\n",
       " 'grayscale',\n",
       " 'seaborn',\n",
       " 'seaborn-bright',\n",
       " 'seaborn-colorblind',\n",
       " 'seaborn-dark',\n",
       " 'seaborn-dark-palette',\n",
       " 'seaborn-darkgrid',\n",
       " 'seaborn-deep',\n",
       " 'seaborn-muted',\n",
       " 'seaborn-notebook',\n",
       " 'seaborn-paper',\n",
       " 'seaborn-pastel',\n",
       " 'seaborn-poster',\n",
       " 'seaborn-talk',\n",
       " 'seaborn-ticks',\n",
       " 'seaborn-v0_8',\n",
       " 'seaborn-v0_8-bright',\n",
       " 'seaborn-v0_8-colorblind',\n",
       " 'seaborn-v0_8-dark',\n",
       " 'seaborn-v0_8-dark-palette',\n",
       " 'seaborn-v0_8-darkgrid',\n",
       " 'seaborn-v0_8-deep',\n",
       " 'seaborn-v0_8-muted',\n",
       " 'seaborn-v0_8-notebook',\n",
       " 'seaborn-v0_8-paper',\n",
       " 'seaborn-v0_8-pastel',\n",
       " 'seaborn-v0_8-poster',\n",
       " 'seaborn-v0_8-talk',\n",
       " 'seaborn-v0_8-ticks',\n",
       " 'seaborn-v0_8-white',\n",
       " 'seaborn-v0_8-whitegrid',\n",
       " 'seaborn-white',\n",
       " 'seaborn-whitegrid',\n",
       " 'tableau-colorblind10']"
      ]
     },
     "execution_count": 3,
     "metadata": {},
     "output_type": "execute_result"
    }
   ],
   "source": [
    "plt.style.available"
   ]
  },
  {
   "cell_type": "code",
   "execution_count": 8,
   "metadata": {},
   "outputs": [],
   "source": [
    "from utils import style, concat\n",
    "\n",
    "style('seaborn-bright')"
   ]
  },
  {
   "cell_type": "code",
   "execution_count": 9,
   "metadata": {},
   "outputs": [
    {
     "data": {
      "text/html": [
       "<table>\n",
       "<thead>\n",
       "<tr><th>#                             </th><th>components             </th><th>rho   </th><th>e_rho  </th><th>sigma_z  </th><th>e_sigma_z  </th></tr>\n",
       "</thead>\n",
       "<tbody>\n",
       "<tr><td><i style='opacity: 0.6'>0</i> </td><td>Molecular gas (H2)     </td><td>0.0104</td><td>0.00312</td><td>3.7      </td><td>0.2        </td></tr>\n",
       "<tr><td><i style='opacity: 0.6'>1</i> </td><td>Cold atomic gas (HI(1))</td><td>0.0277</td><td>0.00554</td><td>7.1      </td><td>0.5        </td></tr>\n",
       "<tr><td><i style='opacity: 0.6'>2</i> </td><td>Warm atomic gas (HI(2))</td><td>0.0073</td><td>0.0007 </td><td>22.1     </td><td>2.4        </td></tr>\n",
       "<tr><td><i style='opacity: 0.6'>3</i> </td><td>Hot ionized gas (HII)  </td><td>0.0005</td><td>3e-05  </td><td>39.0     </td><td>4.0        </td></tr>\n",
       "<tr><td><i style='opacity: 0.6'>4</i> </td><td>Giant stars            </td><td>0.0006</td><td>6e-05  </td><td>15.5     </td><td>1.6        </td></tr>\n",
       "<tr><td>...                           </td><td>...                    </td><td>...   </td><td>...    </td><td>...      </td><td>...        </td></tr>\n",
       "<tr><td><i style='opacity: 0.6'>7</i> </td><td>4 &lt; MV &lt; 5             </td><td>0.0029</td><td>0.00029</td><td>18.0     </td><td>1.8        </td></tr>\n",
       "<tr><td><i style='opacity: 0.6'>8</i> </td><td>5 &lt; MV &lt; 8             </td><td>0.0072</td><td>0.00072</td><td>18.5     </td><td>1.9        </td></tr>\n",
       "<tr><td><i style='opacity: 0.6'>9</i> </td><td>MV &gt; 8                 </td><td>0.0216</td><td>0.0028 </td><td>18.5     </td><td>4.0        </td></tr>\n",
       "<tr><td><i style='opacity: 0.6'>10</i></td><td>White dwarfs           </td><td>0.0056</td><td>0.001  </td><td>20.0     </td><td>5.0        </td></tr>\n",
       "<tr><td><i style='opacity: 0.6'>11</i></td><td>Brown dwarfs           </td><td>0.0015</td><td>0.0005 </td><td>20.0     </td><td>5.0        </td></tr>\n",
       "</tbody>\n",
       "</table>"
      ],
      "text/plain": [
       "#    components               rho     e_rho    sigma_z    e_sigma_z\n",
       "0    Molecular gas (H2)       0.0104  0.00312  3.7        0.2\n",
       "1    Cold atomic gas (HI(1))  0.0277  0.00554  7.1        0.5\n",
       "2    Warm atomic gas (HI(2))  0.0073  0.0007   22.1       2.4\n",
       "3    Hot ionized gas (HII)    0.0005  3e-05    39.0       4.0\n",
       "4    Giant stars              0.0006  6e-05    15.5       1.6\n",
       "...  ...                      ...     ...      ...        ...\n",
       "7    4 < MV < 5               0.0029  0.00029  18.0       1.8\n",
       "8    5 < MV < 8               0.0072  0.00072  18.5       1.9\n",
       "9    MV > 8                   0.0216  0.0028   18.5       4.0\n",
       "10   White dwarfs             0.0056  0.001    20.0       5.0\n",
       "11   Brown dwarfs             0.0015  0.0005   20.0       5.0"
      ]
     },
     "execution_count": 9,
     "metadata": {},
     "output_type": "execute_result"
    }
   ],
   "source": [
    "baryon_dir = join(root_data_dir, \"Baryon\")\n",
    "baryon_dir\n",
    "# load baryons components\n",
    "df_baryon = vaex.open(join(baryon_dir, \"baryon.hdf5\"))\n",
    "df_baryon"
   ]
  },
  {
   "cell_type": "code",
   "execution_count": 10,
   "metadata": {},
   "outputs": [
    {
     "data": {
      "text/plain": [
       "(34,)"
      ]
     },
     "execution_count": 10,
     "metadata": {},
     "output_type": "execute_result"
    }
   ],
   "source": [
    "# Baryonic density, check table 1 from this https://journals.aps.org/prl/pdf/10.1103/PhysRevLett.121.081101\n",
    "rhob = df_baryon[\"rho\"].to_numpy()  # Msun/pc^3\n",
    "sigmaz = df_baryon[\"sigma_z\"].to_numpy() # km/s\n",
    "rhoDM = 0.016\n",
    "log_nu0 = 0\n",
    "R = 3.4E-3\n",
    "zsun = 30\n",
    "w0 = -7\n",
    "sigmaw1 = 5\n",
    "sigmaw2 = 10\n",
    "log_sigmaw = np.log(sigmaw1)\n",
    "q_sigmaw = sigmaw1/sigmaw2\n",
    "a1 = 1\n",
    "a2 = 0.1\n",
    "log_a = np.log(a1)\n",
    "q_a = a2/a1\n",
    "log_phi_b = 5\n",
    "\n",
    "theta = concat(rhob, sigmaz, rhoDM, log_nu0, R, zsun, w0, log_sigmaw, q_sigmaw, log_a, q_a, log_phi_b)\n",
    "theta.shape"
   ]
  },
  {
   "cell_type": "code",
   "execution_count": 11,
   "metadata": {
    "execution": {
     "iopub.execute_input": "2023-06-12T01:55:03.916695Z",
     "iopub.status.busy": "2023-06-12T01:55:03.916234Z",
     "iopub.status.idle": "2023-06-12T01:55:03.920700Z",
     "shell.execute_reply": "2023-06-12T01:55:03.919854Z",
     "shell.execute_reply.started": "2023-06-12T01:55:03.916655Z"
    },
    "tags": []
   },
   "outputs": [
    {
     "data": {
      "image/png": "[encoded data removed]",
      "text/plain": [
       "<Figure size 432x288 with 1 Axes>"
      ]
     },
     "metadata": {
      "needs_background": "light"
     },
     "output_type": "display_data"
    }
   ],
   "source": [
    "z_start = -500\n",
    "z_end = 500\n",
    "dz = 1.\n",
    "\n",
    "z = np.arange(z_start, z_end, dz)\n",
    "\n",
    "phi = Model.DM.potential(z, theta, dz)\n",
    "\n",
    "plt.figure(figsize=(6, 4))\n",
    "plt.plot(z, phi)\n",
    "plt.xlabel(r'$z$')\n",
    "plt.ylabel(r'$\\Phi(z)$')\n",
    "plt.show()\n"
   ]
  },
  {
   "cell_type": "code",
   "execution_count": 12,
   "metadata": {
    "execution": {
     "iopub.execute_input": "2023-06-12T01:55:06.231234Z",
     "iopub.status.busy": "2023-06-12T01:55:06.230798Z",
     "iopub.status.idle": "2023-06-12T01:55:06.236614Z",
     "shell.execute_reply": "2023-06-12T01:55:06.235829Z",
     "shell.execute_reply.started": "2023-06-12T01:55:06.231194Z"
    },
    "tags": []
   },
   "outputs": [
    {
     "data": {
      "image/png": "[encoded data removed]",
      "text/plain": [
       "<Figure size 432x288 with 1 Axes>"
      ]
     },
     "metadata": {
      "needs_background": "light"
     },
     "output_type": "display_data"
    }
   ],
   "source": [
    "z = np.linspace(-500, 500, 305)\n",
    "dz = z[10] - z[0]\n",
    "fz = Model.DM.fz(z[::10], theta, dz)\n",
    "fz_smooth = Model.DM.fz(z, theta, dz/10)\n",
    "plt.figure(figsize=(6, 4))\n",
    "plt.bar(z[::10], fz, width=dz, color='b', alpha=0.5, ec=\"k\")\n",
    "plt.plot(z, fz_smooth, color='r', lw=2)\n",
    "plt.xlabel(r'$z$')\n",
    "plt.ylabel(r'$\\nu$')\n",
    "plt.ylim(0, 1.1)\n",
    "plt.show()"
   ]
  },
  {
   "cell_type": "code",
   "execution_count": 13,
   "metadata": {
    "execution": {
     "iopub.execute_input": "2023-06-12T01:55:13.630801Z",
     "iopub.status.busy": "2023-06-12T01:55:13.630371Z",
     "iopub.status.idle": "2023-06-12T01:55:13.636414Z",
     "shell.execute_reply": "2023-06-12T01:55:13.635611Z",
     "shell.execute_reply.started": "2023-06-12T01:55:13.630761Z"
    },
    "tags": []
   },
   "outputs": [
    {
     "data": {
      "image/png": "[encoded data removed]",
      "text/plain": [
       "<Figure size 432x288 with 1 Axes>"
      ]
     },
     "metadata": {
      "needs_background": "light"
     },
     "output_type": "display_data"
    }
   ],
   "source": [
    "w = np.linspace(-50, 30, 300)\n",
    "dw = w[10] - w[0]\n",
    "fw = Model.DM.fw(w[::10], theta)\n",
    "fw_smooth = Model.DM.fw(w, theta)\n",
    "plt.figure(figsize=(6, 4))\n",
    "plt.bar(w[::10], fw, width=dw, color='b', alpha=0.5, ec=\"k\")\n",
    "plt.plot(w, fw_smooth, color='r', lw=2)\n",
    "plt.xlabel(r'$z$')\n",
    "plt.ylabel(r'$\\nu$')\n",
    "plt.ylim(0, 1.4)\n",
    "plt.show() "
   ]
  }
 ],
 "metadata": {
  "kernelspec": {
   "display_name": "Python 3",
   "language": "python",
   "name": "python3"
  },
  "language_info": {
   "codemirror_mode": {
    "name": "ipython",
    "version": 3
   },
   "file_extension": ".py",
   "mimetype": "text/x-python",
   "name": "python",
   "nbconvert_exporter": "python",
   "pygments_lexer": "ipython3",
   "version": "3.8.10"
  }
 },
 "nbformat": 4,
 "nbformat_minor": 4
}
