{
 "cells": [
  {
   "cell_type": "code",
   "execution_count": 1,
   "metadata": {},
   "outputs": [],
   "source": [
    "from matplotlib import pyplot as plt\n",
    "import numpy as np\n",
    "from os.path import join, abspath\n",
    "from hammer import dddm\n",
    "root_dir = abspath(join('..', '..'))\n",
    "import sys\n",
    "sys.path.append(root_dir)\n",
    "from utils import style"
   ]
  },
  {
   "cell_type": "code",
   "execution_count": 2,
   "metadata": {},
   "outputs": [
    {
     "data": {
      "text/plain": [
       "['Solarize_Light2',\n",
       " '_classic_test_patch',\n",
       " '_mpl-gallery',\n",
       " '_mpl-gallery-nogrid',\n",
       " 'bmh',\n",
       " 'classic',\n",
       " 'dark_background',\n",
       " 'fast',\n",
       " 'fivethirtyeight',\n",
       " 'ggplot',\n",
       " 'grayscale',\n",
       " 'seaborn',\n",
       " 'seaborn-bright',\n",
       " 'seaborn-colorblind',\n",
       " 'seaborn-dark',\n",
       " 'seaborn-dark-palette',\n",
       " 'seaborn-darkgrid',\n",
       " 'seaborn-deep',\n",
       " 'seaborn-muted',\n",
       " 'seaborn-notebook',\n",
       " 'seaborn-paper',\n",
       " 'seaborn-pastel',\n",
       " 'seaborn-poster',\n",
       " 'seaborn-talk',\n",
       " 'seaborn-ticks',\n",
       " 'seaborn-v0_8',\n",
       " 'seaborn-v0_8-bright',\n",
       " 'seaborn-v0_8-colorblind',\n",
       " 'seaborn-v0_8-dark',\n",
       " 'seaborn-v0_8-dark-palette',\n",
       " 'seaborn-v0_8-darkgrid',\n",
       " 'seaborn-v0_8-deep',\n",
       " 'seaborn-v0_8-muted',\n",
       " 'seaborn-v0_8-notebook',\n",
       " 'seaborn-v0_8-paper',\n",
       " 'seaborn-v0_8-pastel',\n",
       " 'seaborn-v0_8-poster',\n",
       " 'seaborn-v0_8-talk',\n",
       " 'seaborn-v0_8-ticks',\n",
       " 'seaborn-v0_8-white',\n",
       " 'seaborn-v0_8-whitegrid',\n",
       " 'seaborn-white',\n",
       " 'seaborn-whitegrid',\n",
       " 'tableau-colorblind10']"
      ]
     },
     "execution_count": 2,
     "metadata": {},
     "output_type": "execute_result"
    }
   ],
   "source": [
    "plt.style.available"
   ]
  },
  {
   "cell_type": "code",
   "execution_count": 2,
   "metadata": {},
   "outputs": [],
   "source": [
    "style('seaborn-white')"
   ]
  },
  {
   "attachments": {},
   "cell_type": "markdown",
   "metadata": {},
   "source": [
    "# Potential"
   ]
  },
  {
   "cell_type": "code",
   "execution_count": 3,
   "metadata": {},
   "outputs": [
    {
     "data": {
      "text/plain": [
       "(33,)"
      ]
     },
     "execution_count": 3,
     "metadata": {},
     "output_type": "execute_result"
    }
   ],
   "source": [
    "rhob = [\n",
    "    0.0104, 0.0277, 0.0073, 0.0005, 0.0006, 0.0018,\n",
    "    0.0018, 0.0029, 0.0072, 0.0216, 0.0056, 0.0015\n",
    "]\n",
    "sigmaz = [\n",
    "    3.7, 7.1, 22.1, 39.0, 15.5, 7.5, 12.0, \n",
    "    18.0, 18.5, 18.5, 20.0, 20.0]\n",
    "rhoDM = [0.016]\n",
    "sigmaDD = [7]\n",
    "log_hDD = [np.log(30)]\n",
    "log_nu0 = [1]\n",
    "R = [3.4E-3]\n",
    "zsun = [20]\n",
    "w0 = [-7.]\n",
    "log_sigmaw = [np.log(5.)]\n",
    "log_a = [np.log(1.)]\n",
    "\n",
    "theta = np.array([rhob + sigmaz + rhoDM + sigmaDD + log_hDD + log_nu0 + R + zsun+w0 + log_sigmaw + log_a]).flatten()\n",
    "theta.shape"
   ]
  },
  {
   "cell_type": "code",
   "execution_count": 4,
   "metadata": {},
   "outputs": [
    {
     "data": {
      "image/png": "[encoded data removed]",
      "text/plain": [
       "<Figure size 432x288 with 1 Axes>"
      ]
     },
     "metadata": {
      "needs_background": "light"
     },
     "output_type": "display_data"
    }
   ],
   "source": [
    "z_start = -300\n",
    "z_end = 300\n",
    "dz = 1.\n",
    "\n",
    "z = np.arange(z_start, z_end, dz)\n",
    "\n",
    "phi = dddm.potential(z, theta, dz)\n",
    "\n",
    "plt.figure(figsize=(6, 4))\n",
    "plt.plot(z, phi)\n",
    "plt.xlabel(r'$z$')\n",
    "plt.ylabel(r'$\\Phi(z)$')\n",
    "plt.show()\n"
   ]
  },
  {
   "attachments": {},
   "cell_type": "markdown",
   "metadata": {},
   "source": [
    "# Vertical density profile"
   ]
  },
  {
   "cell_type": "code",
   "execution_count": 5,
   "metadata": {},
   "outputs": [
    {
     "data": {
      "image/png": "[encoded data removed]",
      "text/plain": [
       "<Figure size 432x288 with 1 Axes>"
      ]
     },
     "metadata": {
      "needs_background": "light"
     },
     "output_type": "display_data"
    }
   ],
   "source": [
    "z = np.linspace(-300, 300, 205)\n",
    "dz = z[10] - z[0]\n",
    "fz = dddm.fz(z[::10], theta, dz)\n",
    "fz_smooth = dddm.fz(z, theta, dz/10)\n",
    "plt.figure(figsize=(6, 4))\n",
    "plt.bar(z[::10], fz, width=dz, color='b', alpha=0.5, ec=\"k\")\n",
    "plt.plot(z, fz_smooth, color='r', lw=2)\n",
    "plt.xlabel(r'$z$')\n",
    "plt.ylabel(r'$\\nu$')\n",
    "plt.show()"
   ]
  },
  {
   "attachments": {},
   "cell_type": "markdown",
   "metadata": {},
   "source": [
    "# Vertical velocity dispersion profile"
   ]
  },
  {
   "cell_type": "code",
   "execution_count": 6,
   "metadata": {},
   "outputs": [
    {
     "data": {
      "image/png": "[encoded data removed]",
      "text/plain": [
       "<Figure size 432x288 with 1 Axes>"
      ]
     },
     "metadata": {
      "needs_background": "light"
     },
     "output_type": "display_data"
    }
   ],
   "source": [
    "w = np.linspace(-30, 30, 300)\n",
    "dw = w[10] - w[0]\n",
    "fw = dddm.fw(w[::10], theta, dz)\n",
    "fw_smooth = dddm.fw(w, theta, dz)\n",
    "plt.figure(figsize=(6, 4))\n",
    "plt.bar(w[::10], fw, width=dw, color='b', alpha=0.5, ec=\"k\")\n",
    "plt.plot(w, fw_smooth, color='r', lw=2)\n",
    "plt.xlabel(r'$z$')\n",
    "plt.ylabel(r'$\\nu$')\n",
    "plt.show()"
   ]
  },
  {
   "attachments": {},
   "cell_type": "markdown",
   "metadata": {},
   "source": [
    "# 2 components\n",
    "\n",
    "now assume double gaussian vertical velocity dispersion"
   ]
  },
  {
   "cell_type": "code",
   "execution_count": 7,
   "metadata": {},
   "outputs": [],
   "source": [
    "from matplotlib import pyplot as plt\n",
    "import numpy as np\n",
    "from os.path import join, abspath\n",
    "from hammer import dddm\n",
    "root_dir = abspath(join('..', '..'))\n",
    "import sys\n",
    "sys.path.append(root_dir)\n",
    "from utils import style"
   ]
  },
  {
   "cell_type": "code",
   "execution_count": 8,
   "metadata": {},
   "outputs": [],
   "source": [
    "style()"
   ]
  },
  {
   "cell_type": "code",
   "execution_count": 9,
   "metadata": {},
   "outputs": [
    {
     "data": {
      "text/plain": [
       "(35,)"
      ]
     },
     "execution_count": 9,
     "metadata": {},
     "output_type": "execute_result"
    }
   ],
   "source": [
    "rhob = [\n",
    "    0.0104, 0.0277, 0.0073, 0.0005, 0.0006, 0.0018,\n",
    "    0.0018, 0.0029, 0.0072, 0.0216, 0.0056, 0.0015\n",
    "]\n",
    "sigmaz = [\n",
    "    3.7, 7.1, 22.1, 39.0, 15.5, 7.5, 12.0, \n",
    "    18.0, 18.5, 18.5, 20.0, 20.0]\n",
    "rhoDM = [0.016]\n",
    "sigmaDD = [7]\n",
    "log_hDD = [np.log(30)]\n",
    "log_nu0 = [1]\n",
    "R = [3.4E-3]\n",
    "zsun = [30]\n",
    "w0 = [-7.]\n",
    "log_sigmaw1 = [np.log(5.)]\n",
    "log_a1 = [np.log(.8)]\n",
    "log_sigmaw2 = [np.log(10.)]\n",
    "log_a2 = [np.log(0.2)]\n",
    "\n",
    "theta = np.array([rhob + sigmaz + rhoDM + sigmaDD + log_hDD + log_nu0 + R + zsun+w0 + log_sigmaw1 + log_a1 + log_sigmaw2 + log_a2]).flatten()\n",
    "theta.shape"
   ]
  },
  {
   "cell_type": "code",
   "execution_count": 10,
   "metadata": {},
   "outputs": [
    {
     "data": {
      "image/png": "[encoded data removed]",
      "text/plain": [
       "<Figure size 432x288 with 1 Axes>"
      ]
     },
     "metadata": {
      "needs_background": "light"
     },
     "output_type": "display_data"
    }
   ],
   "source": [
    "z_start = -300\n",
    "z_end = 300\n",
    "dz = 1.\n",
    "\n",
    "z = np.arange(z_start, z_end, dz)\n",
    "\n",
    "phi = dddm.potential(z, theta, dz)\n",
    "\n",
    "plt.figure(figsize=(6, 4))\n",
    "plt.plot(z, phi)\n",
    "plt.xlabel(r'$z$')\n",
    "plt.ylabel(r'$\\Phi(z)$')\n",
    "plt.show()\n"
   ]
  },
  {
   "cell_type": "code",
   "execution_count": 11,
   "metadata": {},
   "outputs": [
    {
     "data": {
      "image/png": "[encoded data removed]",
      "text/plain": [
       "<Figure size 432x288 with 1 Axes>"
      ]
     },
     "metadata": {
      "needs_background": "light"
     },
     "output_type": "display_data"
    }
   ],
   "source": [
    "z = np.linspace(-500, 500, 305)\n",
    "dz = z[10] - z[0]\n",
    "fz = dddm.fz(z[::10], theta, dz)\n",
    "fz_smooth = dddm.fz(z, theta, dz/10)\n",
    "plt.figure(figsize=(6, 4))\n",
    "plt.bar(z[::10], fz, width=dz, color='b', alpha=0.5, ec=\"k\")\n",
    "plt.plot(z, fz_smooth, color='r', lw=2)\n",
    "plt.xlabel(r'$z$')\n",
    "plt.ylabel(r'$\\nu$')\n",
    "plt.show()"
   ]
  },
  {
   "cell_type": "code",
   "execution_count": 12,
   "metadata": {},
   "outputs": [
    {
     "data": {
      "image/png": "[encoded data removed]",
      "text/plain": [
       "<Figure size 432x288 with 1 Axes>"
      ]
     },
     "metadata": {
      "needs_background": "light"
     },
     "output_type": "display_data"
    }
   ],
   "source": [
    "w = np.linspace(-50, 30, 300)\n",
    "dw = w[10] - w[0]\n",
    "fw = dddm.fw(w[::10], theta, dz)\n",
    "fw_smooth = dddm.fw(w, theta, dz)\n",
    "plt.figure(figsize=(6, 4))\n",
    "plt.bar(w[::10], fw, width=dw, color='b', alpha=0.5, ec=\"k\")\n",
    "plt.plot(w, fw_smooth, color='r', lw=2)\n",
    "plt.xlabel(r'$z$')\n",
    "plt.ylabel(r'$\\nu$')\n",
    "plt.show()"
   ]
  }
 ],
 "metadata": {
  "kernelspec": {
   "display_name": "maturin",
   "language": "python",
   "name": "python3"
  },
  "language_info": {
   "codemirror_mode": {
    "name": "ipython",
    "version": 3
   },
   "file_extension": ".py",
   "mimetype": "text/x-python",
   "name": "python",
   "nbconvert_exporter": "python",
   "pygments_lexer": "ipython3",
   "version": "3.8.10"
  },
  "orig_nbformat": 4
 },
 "nbformat": 4,
 "nbformat_minor": 2
}
