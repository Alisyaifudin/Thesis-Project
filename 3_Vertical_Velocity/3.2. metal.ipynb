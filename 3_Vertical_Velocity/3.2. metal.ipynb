{
 "cells": [
  {
   "cell_type": "code",
   "execution_count": 1,
   "metadata": {
    "execution": {
     "iopub.execute_input": "2023-06-11T23:24:59.014520Z",
     "iopub.status.busy": "2023-06-11T23:24:59.013905Z",
     "iopub.status.idle": "2023-06-11T23:24:59.021982Z",
     "shell.execute_reply": "2023-06-11T23:24:59.020720Z",
     "shell.execute_reply.started": "2023-06-11T23:24:59.014464Z"
    },
    "tags": []
   },
   "outputs": [],
   "source": [
    "import vaex\n",
    "import numpy as np\n",
    "from glob import glob\n",
    "from matplotlib import pyplot as plt\n",
    "from scipy.stats import poisson\n",
    "from os.path import join, abspath\n",
    "import sys\n",
    "from os import pardir\n",
    "from tqdm import tqdm"
   ]
  },
  {
   "cell_type": "code",
   "execution_count": 2,
   "metadata": {
    "execution": {
     "iopub.execute_input": "2023-06-11T23:24:59.372022Z",
     "iopub.status.busy": "2023-06-11T23:24:59.371492Z",
     "iopub.status.idle": "2023-06-11T23:24:59.379278Z",
     "shell.execute_reply": "2023-06-11T23:24:59.378039Z",
     "shell.execute_reply.started": "2023-06-11T23:24:59.371968Z"
    },
    "tags": []
   },
   "outputs": [
    {
     "data": {
      "text/plain": [
       "'/home2/s20321005/Thesis-Project'"
      ]
     },
     "execution_count": 2,
     "metadata": {},
     "output_type": "execute_result"
    }
   ],
   "source": [
    "root_dir = abspath(pardir)\n",
    "root_dir"
   ]
  },
  {
   "cell_type": "code",
   "execution_count": 3,
   "metadata": {
    "execution": {
     "iopub.execute_input": "2023-06-11T23:25:00.442070Z",
     "iopub.status.busy": "2023-06-11T23:25:00.441463Z",
     "iopub.status.idle": "2023-06-11T23:25:00.450508Z",
     "shell.execute_reply": "2023-06-11T23:25:00.449248Z",
     "shell.execute_reply.started": "2023-06-11T23:25:00.442015Z"
    },
    "tags": []
   },
   "outputs": [
    {
     "data": {
      "text/plain": [
       "['/home2/s20321005/Thesis-Project/3_Vertical_Velocity',\n",
       " '/home2/s20321005/.conda/envs/vaex/lib/python38.zip',\n",
       " '/home2/s20321005/.conda/envs/vaex/lib/python3.8',\n",
       " '/home2/s20321005/.conda/envs/vaex/lib/python3.8/lib-dynload',\n",
       " '',\n",
       " '/home2/s20321005/.local/lib/python3.8/site-packages',\n",
       " '/home2/s20321005/.conda/envs/vaex/lib/python3.8/site-packages',\n",
       " '/home2/s20321005/Thesis-Project']"
      ]
     },
     "execution_count": 3,
     "metadata": {},
     "output_type": "execute_result"
    }
   ],
   "source": [
    "if root_dir not in sys.path:\n",
    "    sys.path.append(root_dir)\n",
    "sys.path"
   ]
  },
  {
   "cell_type": "code",
   "execution_count": 4,
   "metadata": {
    "execution": {
     "iopub.execute_input": "2023-06-11T23:25:04.972568Z",
     "iopub.status.busy": "2023-06-11T23:25:04.971966Z",
     "iopub.status.idle": "2023-06-11T23:25:04.977373Z",
     "shell.execute_reply": "2023-06-11T23:25:04.976175Z",
     "shell.execute_reply.started": "2023-06-11T23:25:04.972517Z"
    },
    "tags": []
   },
   "outputs": [],
   "source": [
    "from utils import safe_mkdir, style\n",
    "\n",
    "style()"
   ]
  },
  {
   "cell_type": "code",
   "execution_count": 5,
   "metadata": {
    "execution": {
     "iopub.execute_input": "2023-06-11T23:25:06.530952Z",
     "iopub.status.busy": "2023-06-11T23:25:06.530394Z",
     "iopub.status.idle": "2023-06-11T23:25:06.538236Z",
     "shell.execute_reply": "2023-06-11T23:25:06.537085Z",
     "shell.execute_reply.started": "2023-06-11T23:25:06.530900Z"
    },
    "tags": []
   },
   "outputs": [
    {
     "data": {
      "text/plain": [
       "'/home2/s20321005/Thesis-Project/Data'"
      ]
     },
     "execution_count": 5,
     "metadata": {},
     "output_type": "execute_result"
    }
   ],
   "source": [
    "root_data_dir = abspath(join(root_dir, \"Data\"))\n",
    "root_data_dir"
   ]
  },
  {
   "cell_type": "code",
   "execution_count": 6,
   "metadata": {
    "execution": {
     "iopub.execute_input": "2023-06-11T23:25:08.185391Z",
     "iopub.status.busy": "2023-06-11T23:25:08.184803Z",
     "iopub.status.idle": "2023-06-11T23:25:08.192439Z",
     "shell.execute_reply": "2023-06-11T23:25:08.191458Z",
     "shell.execute_reply.started": "2023-06-11T23:25:08.185336Z"
    },
    "tags": []
   },
   "outputs": [
    {
     "data": {
      "text/plain": [
       "'/home2/s20321005/Thesis-Project/Data/Cluster/metal'"
      ]
     },
     "execution_count": 6,
     "metadata": {},
     "output_type": "execute_result"
    }
   ],
   "source": [
    "name = \"metal\"\n",
    "spectral_dir = join(root_data_dir, \"Cluster\", name)\n",
    "spectral_dir"
   ]
  },
  {
   "cell_type": "code",
   "execution_count": 7,
   "metadata": {
    "execution": {
     "iopub.execute_input": "2023-06-11T23:25:12.029991Z",
     "iopub.status.busy": "2023-06-11T23:25:12.029418Z",
     "iopub.status.idle": "2023-06-11T23:25:12.036254Z",
     "shell.execute_reply": "2023-06-11T23:25:12.035038Z",
     "shell.execute_reply.started": "2023-06-11T23:25:12.029937Z"
    },
    "tags": []
   },
   "outputs": [
    {
     "name": "stdout",
     "output_type": "stream",
     "text": [
      "Directory /home2/s20321005/Thesis-Project/Data/Velocity-Distribution already exist. Good to go!\n",
      "Directory /home2/s20321005/Thesis-Project/Data/Velocity-Distribution/metal already exist. Good to go!\n"
     ]
    }
   ],
   "source": [
    "vel_dir = join(root_data_dir, \"Velocity-Distribution\")\n",
    "safe_mkdir(vel_dir)\n",
    "vel_dir = join(root_data_dir, \"Velocity-Distribution\", name)\n",
    "safe_mkdir(vel_dir)"
   ]
  },
  {
   "cell_type": "code",
   "execution_count": 8,
   "metadata": {
    "execution": {
     "iopub.execute_input": "2023-06-11T23:47:17.368050Z",
     "iopub.status.busy": "2023-06-11T23:47:17.367453Z",
     "iopub.status.idle": "2023-06-11T23:47:17.385169Z",
     "shell.execute_reply": "2023-06-11T23:47:17.384305Z",
     "shell.execute_reply.started": "2023-06-11T23:47:17.367995Z"
    },
    "tags": []
   },
   "outputs": [
    {
     "data": {
      "text/plain": [
       "['/home2/s20321005/Thesis-Project/Data/Cluster/metal/gaia_(-0.00)_(0.14).hdf5',\n",
       " '/home2/s20321005/Thesis-Project/Data/Cluster/metal/gaia_(0.14)_(0.33).hdf5',\n",
       " '/home2/s20321005/Thesis-Project/Data/Cluster/metal/gaia_(0.33)_(0.37).hdf5']"
      ]
     },
     "execution_count": 8,
     "metadata": {},
     "output_type": "execute_result"
    }
   ],
   "source": [
    "files = glob(join(spectral_dir, \"gaia*.hdf5\"))\n",
    "files.sort()\n",
    "files"
   ]
  },
  {
   "cell_type": "code",
   "execution_count": 9,
   "metadata": {},
   "outputs": [
    {
     "data": {
      "image/png": "[encoded data removed]",
      "text/plain": [
       "<Figure size 432x288 with 1 Axes>"
      ]
     },
     "metadata": {
      "needs_background": "light"
     },
     "output_type": "display_data"
    },
    {
     "name": "stderr",
     "output_type": "stream",
     "text": [
      "100%|██████████| 50000/50000 [00:02<00:00, 17742.74it/s]\n"
     ]
    },
    {
     "data": {
      "image/png": "[encoded data removed]",
      "text/plain": [
       "<Figure size 432x288 with 1 Axes>"
      ]
     },
     "metadata": {
      "needs_background": "light"
     },
     "output_type": "display_data"
    },
    {
     "name": "stdout",
     "output_type": "stream",
     "text": [
      "export(hdf5) [########################################] 100.00% elapsed time  :     0.02s =  0.0m =  0.0h\n",
      " saved w_(-0.00)_(0.14).hdf5\n"
     ]
    },
    {
     "data": {
      "image/png": "[encoded data removed]",
      "text/plain": [
       "<Figure size 432x288 with 1 Axes>"
      ]
     },
     "metadata": {
      "needs_background": "light"
     },
     "output_type": "display_data"
    },
    {
     "name": "stderr",
     "output_type": "stream",
     "text": [
      "100%|██████████| 50000/50000 [00:15<00:00, 3304.20it/s]\n"
     ]
    },
    {
     "data": {
      "image/png": "[encoded data removed]",
      "text/plain": [
       "<Figure size 432x288 with 1 Axes>"
      ]
     },
     "metadata": {
      "needs_background": "light"
     },
     "output_type": "display_data"
    },
    {
     "name": "stdout",
     "output_type": "stream",
     "text": [
      "export(hdf5) [########################################] 100.00% elapsed time  :     0.01s =  0.0m =  0.0h\n",
      " saved w_(0.14)_(0.33).hdf5\n"
     ]
    },
    {
     "data": {
      "image/png": "[encoded data removed]",
      "text/plain": [
       "<Figure size 432x288 with 1 Axes>"
      ]
     },
     "metadata": {
      "needs_background": "light"
     },
     "output_type": "display_data"
    },
    {
     "name": "stderr",
     "output_type": "stream",
     "text": [
      "100%|██████████| 50000/50000 [00:14<00:00, 3333.89it/s]\n"
     ]
    },
    {
     "data": {
      "image/png": "[encoded data removed]",
      "text/plain": [
       "<Figure size 432x288 with 1 Axes>"
      ]
     },
     "metadata": {
      "needs_background": "light"
     },
     "output_type": "display_data"
    },
    {
     "name": "stdout",
     "output_type": "stream",
     "text": [
      "export(hdf5) [########################################] 100.00% elapsed time  :     0.04s =  0.0m =  0.0h\n",
      " saved w_(0.33)_(0.37).hdf5\n"
     ]
    }
   ],
   "source": [
    "from scipy.special import gamma\n",
    "from scipy.stats import norm\n",
    "from scipy.optimize import curve_fit\n",
    "from hammer import vertical\n",
    "\n",
    "def p_approx(x, n):\n",
    "    if n > 100:\n",
    "        return norm.pdf(x, n, np.sqrt(n))\n",
    "    return np.power(x, n)*np.exp(-x)/gamma(n+1)\n",
    "\n",
    "for file in files:\n",
    "    gaia = vaex.open(file)\n",
    "    gaia = gaia.filter(\"abs(z)<50\").filter(\"rv>-999\")\n",
    "    gaia = gaia.extract()\n",
    "    ws = gaia['w'].to_numpy()\n",
    "    ews = gaia['e_w'].to_numpy()\n",
    "    p = gaia['parallax'].to_numpy()/1000\n",
    "    e_p = gaia['e_parallax'].to_numpy()/1000\n",
    "    vr = gaia['rv'].to_numpy()\n",
    "    e_vr = gaia['rv_el'].to_numpy()\n",
    "    mub = gaia['pmlat'].to_numpy()/1000\n",
    "    e_mub = gaia['e_pmlat'].to_numpy()/1000\n",
    "    b = gaia['GLAT'].to_numpy()\n",
    "    mask = ~np.isnan(ws) & ~np.isnan(ews)\n",
    "    ws = ws[mask]\n",
    "    ews = ews[mask]\n",
    "\n",
    "    med = np.median(ws)\n",
    "    mad = np.median(np.abs(ws-med))\n",
    "    BIN = 20\n",
    "    wedge = np.linspace(med-mad*7, med+mad*7, BIN+1)\n",
    "\n",
    "    wmid = (wedge[1:] + wedge[:-1]) / 2\n",
    "    wnum, _ = np.histogram(ws, wedge)\n",
    "    # mask = (wnum == 0) | ((wmid < -30) & (wmid > -45)) | (wmid < -70)\n",
    "    mask = (wnum == 0)\n",
    "    wnum = wnum[~mask]\n",
    "    wmid = wmid[~mask]\n",
    "    werr = np.sqrt(wnum)\n",
    "    max = np.max(wnum)\n",
    "    \n",
    "    plt.errorbar(wmid, wnum, yerr=werr, fmt='.')\n",
    "    plt.xlabel(\"Vertical Velocity [km/s]\")\n",
    "    plt.ylabel(\"Number of Stars\")\n",
    "    plt.yscale('log')\n",
    "    plt.show()\n",
    "    # continue\n",
    "    # break\n",
    "    M = 50_000\n",
    "    # log_w = np.empty(M, dtype=float)\n",
    "    wnum_est = np.empty((M, len(wmid)), dtype=int)\n",
    "    n = len(ws)\n",
    "    mub_realizations = np.random.normal(loc=np.repeat(mub, M), scale=np.repeat(e_mub, M), size=n*M)\n",
    "    mub_realizations = mub_realizations.reshape((n, M)).transpose()\n",
    "    vr_realizations = np.random.normal(loc=np.repeat(vr, M), scale=np.repeat(e_vr, M), size=n*M)\n",
    "    vr_realizations = vr_realizations.reshape((n, M)).transpose()\n",
    "    r_realizations = vertical.generate_z(p, e_p, np.repeat(np.pi/2, n), n=M)\n",
    "    # for i, (mub_realization, vr_realization, r_realization) in enumerate(zip(mub_realizations.transpose(), vr_realizations.transpose(), r_realizations)):\n",
    "    for i, (mub_realization, vr_realization, r_realization) in enumerate(zip(tqdm(mub_realizations), vr_realizations, r_realizations)):\n",
    "        # print(r_realization.shape)\n",
    "        w_realization = 4.74 * r_realization * mub_realization*np.cos(b) + vr_realization*np.sin(b)\n",
    "        wnum_est_i = np.histogram(w_realization, bins=wedge)[0]\n",
    "        wnum_est[i] = wnum_est_i[~mask]\n",
    "    west = np.empty_like(wnum, dtype=float)\n",
    "    for i in range(len(wmid)):\n",
    "        wnum_est_min = np.floor(wnum_est[:, i].min())\n",
    "        wnum_est_max = np.ceil(wnum_est[:, i].max())\n",
    "        bins = np.arange(wnum_est_min-1/2, wnum_est_max+1)\n",
    "        weight, wn_edge = np.histogram(wnum_est[:, i], bins=bins, density=True)\n",
    "\n",
    "        wn_mid = (wn_edge[1:] + wn_edge[:-1]) / 2\n",
    "        mask = weight > 0\n",
    "        weight = weight[mask]\n",
    "        wn_mid = wn_mid[mask]\n",
    "        m = 6\n",
    "        # plt.bar(wn_mid, weight, width=1, alpha=0.5)\n",
    "        west_x = np.linspace(np.maximum(0, np.floor(wnum[i]-m*werr[i])), np.floor(wnum[i]+m*werr[i]), 1_000)\n",
    "        dw = west_x[1] - west_x[0]\n",
    "        pn = np.sum(weight[:, None]*poisson.pmf(wn_mid[:,None], west_x[None, :]), axis=0)\n",
    "        area = np.trapz(pn, west_x)\n",
    "        pn = pn / area\n",
    "        popt_g, _ = curve_fit(p_approx, west_x, pn, p0=[wnum[i]])\n",
    "        popt_n, _ = curve_fit(norm.pdf, west_x, pn, p0=[wnum[i], np.sqrt(wnum[i])])\n",
    "        west[i] = popt_g[0]\n",
    "        # fig, ax = plt.subplots(1, 2, figsize=(12, 4))\n",
    "        # ax[0].bar(wn_mid, weight, width=1, alpha=0.5, edgecolor='k')\n",
    "        # ax[0].set_xlabel(r\"$N_i$\")\n",
    "        # ax[0].set_ylabel(r\"$W(N_i)$\")\n",
    "        # ax[1].plot(west_x, pn, c='C0', lw=2)\n",
    "        # ax[1].plot(west_x, p_approx(west_x, *popt_g), label='gamma', ls=\"--\", c='r')\n",
    "        # ax[1].plot(west_x, norm.pdf(west_x, *popt_n), label='normal', ls=\"--\", c='g')\n",
    "        # # ax[1].axvline(wnum[i], c='C3', ls='--', label='asli')\n",
    "        # ax[1].set_xlabel(r\"$\\Lambda$\")\n",
    "        # ax[1].set_ylabel(r\"$p(\\Lambda)$\")\n",
    "        # ax[1].set_ylim(0)\n",
    "        # ax[1].set_xlim(west_x.min(), west_x.max())\n",
    "        # ax[1].legend()\n",
    "        # # fig.savefig(join(\"img\", f\"histogram-approx-1.pdf\"), dpi=70)\n",
    "        # plt.show()\n",
    "    #     break\n",
    "    # break\n",
    "    dw = np.min(np.diff(wedge))\n",
    "    plt.bar(wmid-0.5, wnum/wnum.max(), yerr=werr/wnum.max(), width=dw, alpha=0.5)\n",
    "    plt.errorbar(wmid, west/west.max(), yerr=np.sqrt(west)/west.max(), fmt='.', label=\"est\")\n",
    "    plt.xlabel(\"Vertical Velocity [km/s]\")\n",
    "    plt.ylabel(\"Number of Stars\")\n",
    "    plt.legend()\n",
    "    plt.yscale('log')\n",
    "    plt.show()\n",
    "    \n",
    "    name = file.split(\"/\")[-1].replace(\"gaia\", \"w\")\n",
    "    df = vaex.from_arrays(mid=wmid, num=west)\n",
    "\n",
    "    df.export(join(vel_dir, name), progress=True)\n",
    "    print(\"saved\", name) \n",
    "    # break"
   ]
  }
 ],
 "metadata": {
  "kernelspec": {
   "display_name": "Python 3",
   "language": "python",
   "name": "python3"
  },
  "language_info": {
   "codemirror_mode": {
    "name": "ipython",
    "version": 3
   },
   "file_extension": ".py",
   "mimetype": "text/x-python",
   "name": "python",
   "nbconvert_exporter": "python",
   "pygments_lexer": "ipython3",
   "version": "3.8.10"
  },
  "vscode": {
   "interpreter": {
    "hash": "2e98b01e139963c1272b06356b7ab7b4729889064e74152a80e8f95bb2c4292e"
   }
  }
 },
 "nbformat": 4,
 "nbformat_minor": 4
}
