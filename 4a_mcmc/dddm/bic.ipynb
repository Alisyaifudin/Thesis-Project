{
 "cells": [
  {
   "cell_type": "code",
   "execution_count": 2,
   "metadata": {},
   "outputs": [],
   "source": [
    "import warnings\n",
    "warnings.filterwarnings('ignore')\n",
    "import numpy as np\n",
    "from os.path import abspath, join, curdir\n",
    "import sys\n",
    "from hammer import dddm\n",
    "root_dir = abspath(join('..', '..'))\n",
    "sys.path.append(root_dir)\n",
    "from glob import glob\n",
    "import vaex\n",
    "from utils import calculate_probs\n",
    "from init import init\n",
    "from datetime import datetime"
   ]
  },
  {
   "attachments": {},
   "cell_type": "markdown",
   "metadata": {},
   "source": [
    "# DDDM"
   ]
  },
  {
   "cell_type": "code",
   "execution_count": null,
   "metadata": {},
   "outputs": [],
   "source": [
    "def init(model):\n",
    "    ndim = 31\n",
    "    if model == 1:\n",
    "        ndim = 33\n",
    "    elif model == 2:\n",
    "        ndim = 35\n",
    "    else:\n",
    "        raise ValueError(\"model must be 1 or 2\")\n",
    "    nwalkers = 2*ndim+2\n",
    "    return (ndim, nwalkers)"
   ]
  },
  {
   "cell_type": "code",
   "execution_count": null,
   "metadata": {},
   "outputs": [],
   "source": [
    "model = 2\n",
    "data = 4\n",
    "ndim, nwalkers = init(model)"
   ]
  },
  {
   "cell_type": "code",
   "execution_count": 3,
   "metadata": {},
   "outputs": [],
   "source": [
    "data_dir = join(root_dir, 'Data', 'MCMC', 'dddm')\n",
    "chain = np.load(join(data_dir, 'data', f'chain-{model}-{data}.npy'))\n",
    "\n",
    "locs = np.load(join(data_dir, 'data', f'locs-{model}.npy'))\n",
    "scales = np.load(join(data_dir, 'data', f'scales-{model}.npy'))\n",
    "\n",
    "zfiles = glob(join(root_dir, 'Data', 'Effective-Volume-v', '*.hdf5'))\n",
    "zfiles.sort()\n",
    "wfiles = glob(join(root_dir, 'Data', 'Velocity-Distribution-v', 'gaia*.hdf5'))\n",
    "wfiles.sort()\n",
    "zfiles, wfiles\n",
    "\n",
    "zfile = zfiles[data]\n",
    "wfile = wfiles[data]\n",
    "zdata = vaex.open(zfile)\n",
    "\n",
    "zmid = zdata['z'].to_numpy()\n",
    "znum = zdata['znum'].to_numpy()\n",
    "zerr = zdata['err'].to_numpy()\n",
    "\n",
    "wdata = vaex.open(wfile)\n",
    "\n",
    "wmid = wdata['w'].to_numpy()\n",
    "wnum = wdata['num'].to_numpy()\n",
    "werr = wdata['err'].to_numpy()\n",
    "\n",
    "zdata = (zmid, znum, zerr)\n",
    "wdata = (wmid, wnum, werr)"
   ]
  },
  {
   "cell_type": "code",
   "execution_count": 4,
   "metadata": {},
   "outputs": [],
   "source": [
    "probs = calculate_probs(dddm, chain, ndim, zdata, wdata, locs, scales, batch=1000)\n",
    "prior_dddm = probs[:, 0]\n",
    "likelihood_dddm = probs[:, 1]\n",
    "posterior_dddm = probs[:, 2]\n",
    "max_likelihood_dddm = np.max(likelihood_dddm)"
   ]
  },
  {
   "cell_type": "code",
   "execution_count": 8,
   "metadata": {},
   "outputs": [
    {
     "data": {
      "image/png": "[encoded data removed]",
      "text/plain": [
       "<Figure size 720x360 with 3 Axes>"
      ]
     },
     "metadata": {
      "needs_background": "light"
     },
     "output_type": "display_data"
    }
   ],
   "source": [
    "# plot histogram of the probs\n",
    "import matplotlib.pyplot as plt\n",
    "\n",
    "fig, ax = plt.subplots(1, 3, figsize=(10, 5))\n",
    "ax[0].hist(prior_dddm, bins=100)\n",
    "ax[0].set_title('Prior')\n",
    "ax[1].hist(likelihood_dddm, bins=100)\n",
    "ax[1].set_title('Likelihood')\n",
    "ax[2].hist(posterior_dddm, bins=100)\n",
    "ax[2].set_title('Posterior')\n",
    "plt.show()"
   ]
  },
  {
   "cell_type": "code",
   "execution_count": 6,
   "metadata": {},
   "outputs": [
    {
     "name": "stdout",
     "output_type": "stream",
     "text": [
      "BIC: 144.87824955836112\n"
     ]
    }
   ],
   "source": [
    "# calculate BIC\n",
    "bic = -2 * max_likelihood_dddm + ndim * np.log(3*len(zmid)+3*len(wmid))\n",
    "print(f\"BIC: {bic}\")"
   ]
  },
  {
   "cell_type": "code",
   "execution_count": null,
   "metadata": {},
   "outputs": [],
   "source": []
  }
 ],
 "metadata": {
  "kernelspec": {
   "display_name": "vaex",
   "language": "python",
   "name": "python3"
  },
  "language_info": {
   "codemirror_mode": {
    "name": "ipython",
    "version": 3
   },
   "file_extension": ".py",
   "mimetype": "text/x-python",
   "name": "python",
   "nbconvert_exporter": "python",
   "pygments_lexer": "ipython3",
   "version": "3.8.10"
  },
  "orig_nbformat": 4
 },
 "nbformat": 4,
 "nbformat_minor": 2
}
