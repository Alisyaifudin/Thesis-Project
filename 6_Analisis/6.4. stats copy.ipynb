{
 "cells": [
  {
   "cell_type": "code",
   "execution_count": 1,
   "metadata": {},
   "outputs": [
    {
     "ename": "ImportError",
     "evalue": "cannot import name 'calculate_probs' from 'utils' (/home2/s20321005/Thesis-Project/utils/__init__.py)",
     "output_type": "error",
     "traceback": [
      "\u001b[0;31m---------------------------------------------------------------------------\u001b[0m",
      "\u001b[0;31mImportError\u001b[0m                               Traceback (most recent call last)",
      "\u001b[1;32m/home2/s20321005/Thesis-Project/6_Analisis/6.4. stats.ipynb Cell 1\u001b[0m in \u001b[0;36m<cell line: 10>\u001b[0;34m()\u001b[0m\n\u001b[1;32m      <a href='vscode-notebook-cell://ssh-remote%2Bmilkyway.as.itb.ac.id/home2/s20321005/Thesis-Project/6_Analisis/6.4.%20stats.ipynb#W0sdnNjb2RlLXJlbW90ZQ%3D%3D?line=7'>8</a>\u001b[0m \u001b[39mfrom\u001b[39;00m \u001b[39mglob\u001b[39;00m \u001b[39mimport\u001b[39;00m glob\n\u001b[1;32m      <a href='vscode-notebook-cell://ssh-remote%2Bmilkyway.as.itb.ac.id/home2/s20321005/Thesis-Project/6_Analisis/6.4.%20stats.ipynb#W0sdnNjb2RlLXJlbW90ZQ%3D%3D?line=8'>9</a>\u001b[0m \u001b[39mimport\u001b[39;00m \u001b[39mvaex\u001b[39;00m\n\u001b[0;32m---> <a href='vscode-notebook-cell://ssh-remote%2Bmilkyway.as.itb.ac.id/home2/s20321005/Thesis-Project/6_Analisis/6.4.%20stats.ipynb#W0sdnNjb2RlLXJlbW90ZQ%3D%3D?line=9'>10</a>\u001b[0m \u001b[39mfrom\u001b[39;00m \u001b[39mutils\u001b[39;00m \u001b[39mimport\u001b[39;00m calculate_probs\n\u001b[1;32m     <a href='vscode-notebook-cell://ssh-remote%2Bmilkyway.as.itb.ac.id/home2/s20321005/Thesis-Project/6_Analisis/6.4.%20stats.ipynb#W0sdnNjb2RlLXJlbW90ZQ%3D%3D?line=10'>11</a>\u001b[0m \u001b[39mfrom\u001b[39;00m \u001b[39mdatetime\u001b[39;00m \u001b[39mimport\u001b[39;00m datetime\n\u001b[1;32m     <a href='vscode-notebook-cell://ssh-remote%2Bmilkyway.as.itb.ac.id/home2/s20321005/Thesis-Project/6_Analisis/6.4.%20stats.ipynb#W0sdnNjb2RlLXJlbW90ZQ%3D%3D?line=11'>12</a>\u001b[0m \u001b[39mimport\u001b[39;00m \u001b[39mmatplotlib\u001b[39;00m\u001b[39m.\u001b[39;00m\u001b[39mpyplot\u001b[39;00m \u001b[39mas\u001b[39;00m \u001b[39mplt\u001b[39;00m\n",
      "\u001b[0;31mImportError\u001b[0m: cannot import name 'calculate_probs' from 'utils' (/home2/s20321005/Thesis-Project/utils/__init__.py)"
     ]
    }
   ],
   "source": [
    "import warnings\n",
    "warnings.filterwarnings('ignore')\n",
    "import numpy as np\n",
    "from os.path import abspath, join\n",
    "import sys\n",
    "root_dir = abspath(join('..'))\n",
    "sys.path.append(root_dir)\n",
    "from glob import glob\n",
    "import vaex\n",
    "from utils import calculate_probs\n",
    "from datetime import datetime\n",
    "import matplotlib.pyplot as plt\n",
    "sys.path"
   ]
  },
  {
   "cell_type": "code",
   "execution_count": 2,
   "metadata": {},
   "outputs": [],
   "source": [
    "model = 2\n",
    "data = 4"
   ]
  },
  {
   "attachments": {},
   "cell_type": "markdown",
   "metadata": {},
   "source": [
    "# DDDM"
   ]
  },
  {
   "cell_type": "code",
   "execution_count": 3,
   "metadata": {},
   "outputs": [],
   "source": [
    "def init(model):\n",
    "    ndim = 33\n",
    "    if model == 1:\n",
    "        ndim = 33\n",
    "    elif model == 2:\n",
    "        ndim = 35\n",
    "    else:\n",
    "        raise ValueError(\"model must be 1 or 2\")\n",
    "    nwalkers = 2*ndim+2\n",
    "    return (ndim, nwalkers)\n",
    "\n",
    "ndim, nwalkers = init(model)"
   ]
  },
  {
   "cell_type": "code",
   "execution_count": 4,
   "metadata": {},
   "outputs": [],
   "source": [
    "data_dir = join(root_dir, 'Data', 'MCMC', 'dddm')\n",
    "chain = np.load(join(data_dir, 'data', f'chain-{model}-{data}.npy'))\n",
    "\n",
    "locs = np.load(join(data_dir, 'data', f'locs-{model}.npy'))\n",
    "scales = np.load(join(data_dir, 'data', f'scales-{model}.npy'))\n",
    "\n",
    "zfiles = glob(join(root_dir, 'Data', 'Effective-Volume-v', '*.hdf5'))\n",
    "zfiles.sort()\n",
    "wfiles = glob(join(root_dir, 'Data', 'Velocity-Distribution-v', 'gaia*.hdf5'))\n",
    "wfiles.sort()\n",
    "zfiles, wfiles\n",
    "\n",
    "zfile = zfiles[data]\n",
    "wfile = wfiles[data]\n",
    "zdata = vaex.open(zfile)\n",
    "\n",
    "zmid = zdata['z'].to_numpy()\n",
    "znum = zdata['znum'].to_numpy()\n",
    "zerr = zdata['err'].to_numpy()\n",
    "\n",
    "wdata = vaex.open(wfile)\n",
    "\n",
    "wmid = wdata['w'].to_numpy()\n",
    "wnum = wdata['num'].to_numpy()\n",
    "werr = wdata['err'].to_numpy()\n",
    "\n",
    "zdata = (zmid, znum, zerr)\n",
    "wdata = (wmid, wnum, werr)"
   ]
  },
  {
   "cell_type": "code",
   "execution_count": 5,
   "metadata": {},
   "outputs": [],
   "source": [
    "probs = calculate_probs(dddm, chain, ndim, zdata, wdata, locs, scales, batch=1000)\n",
    "prior_dddm = probs[:, 0]\n",
    "likelihood_dddm = probs[:, 1]\n",
    "posterior_dddm = probs[:, 2]\n",
    "max_likelihood_dddm = np.max(likelihood_dddm)"
   ]
  },
  {
   "cell_type": "code",
   "execution_count": 6,
   "metadata": {},
   "outputs": [
    {
     "data": {
      "image/png": "[encoded data removed]",
      "text/plain": [
       "<Figure size 720x360 with 3 Axes>"
      ]
     },
     "metadata": {
      "needs_background": "light"
     },
     "output_type": "display_data"
    }
   ],
   "source": [
    "fig, ax = plt.subplots(1, 3, figsize=(10, 5))\n",
    "ax[0].hist(prior_dddm, bins=100)\n",
    "ax[0].set_title('Prior')\n",
    "ax[1].hist(likelihood_dddm, bins=100)\n",
    "ax[1].set_title('Likelihood')\n",
    "ax[2].hist(posterior_dddm, bins=100)\n",
    "ax[2].set_title('Posterior')\n",
    "plt.show()"
   ]
  },
  {
   "cell_type": "code",
   "execution_count": 6,
   "metadata": {},
   "outputs": [
    {
     "name": "stdout",
     "output_type": "stream",
     "text": [
      "BIC: 144.87824955836112\n"
     ]
    }
   ],
   "source": [
    "# calculate BIC\n",
    "bic = -2 * max_likelihood_dddm + ndim * np.log(3*len(zmid)+3*len(wmid))\n",
    "print(f\"BIC: {bic}\")"
   ]
  },
  {
   "attachments": {},
   "cell_type": "markdown",
   "metadata": {},
   "source": [
    "# DM"
   ]
  },
  {
   "cell_type": "code",
   "execution_count": 11,
   "metadata": {},
   "outputs": [],
   "source": [
    "from hammer import dm"
   ]
  },
  {
   "cell_type": "code",
   "execution_count": 7,
   "metadata": {},
   "outputs": [],
   "source": [
    "def init(model):\n",
    "    ndim = 31\n",
    "    if model == 1:\n",
    "        ndim = 31\n",
    "    elif model == 2:\n",
    "        ndim = 33\n",
    "    else:\n",
    "        raise ValueError(\"model must be 1 or 2\")\n",
    "    nwalkers = 2*ndim+2\n",
    "    return (ndim, nwalkers)\n",
    "\n",
    "ndim, nwalkers = init(model)"
   ]
  },
  {
   "cell_type": "code",
   "execution_count": 8,
   "metadata": {},
   "outputs": [],
   "source": [
    "data_dir = join(root_dir, 'Data', 'MCMC', 'dm')\n",
    "chain = np.load(join(data_dir, 'data', f'chain-{model}-{data}.npy'))\n",
    "\n",
    "locs = np.load(join(data_dir, 'data', f'locs-{model}.npy'))\n",
    "scales = np.load(join(data_dir, 'data', f'scales-{model}.npy'))\n",
    "\n",
    "zfiles = glob(join(root_dir, 'Data', 'Effective-Volume-v', '*.hdf5'))\n",
    "zfiles.sort()\n",
    "wfiles = glob(join(root_dir, 'Data', 'Velocity-Distribution-v', 'gaia*.hdf5'))\n",
    "wfiles.sort()\n",
    "zfiles, wfiles\n",
    "\n",
    "zfile = zfiles[data]\n",
    "wfile = wfiles[data]\n",
    "zdata = vaex.open(zfile)\n",
    "\n",
    "zmid = zdata['z'].to_numpy()\n",
    "znum = zdata['znum'].to_numpy()\n",
    "zerr = zdata['err'].to_numpy()\n",
    "\n",
    "wdata = vaex.open(wfile)\n",
    "\n",
    "wmid = wdata['w'].to_numpy()\n",
    "wnum = wdata['num'].to_numpy()\n",
    "werr = wdata['err'].to_numpy()\n",
    "\n",
    "zdata = (zmid, znum, zerr)\n",
    "wdata = (wmid, wnum, werr)"
   ]
  },
  {
   "cell_type": "code",
   "execution_count": 12,
   "metadata": {},
   "outputs": [],
   "source": [
    "probs = calculate_probs(dm, chain, ndim, zdata, wdata, locs, scales, batch=1000)\n",
    "prior_dm = probs[:, 0]\n",
    "likelihood_dm = probs[:, 1]\n",
    "posterior_dm = probs[:, 2]\n",
    "max_likelihood_dm = np.max(likelihood_dm[np.isfinite(likelihood_dm)])"
   ]
  },
  {
   "cell_type": "code",
   "execution_count": 17,
   "metadata": {},
   "outputs": [],
   "source": [
    "max_likelihood_dm = np.max(likelihood_dm[np.isfinite(likelihood_dm)])"
   ]
  },
  {
   "cell_type": "code",
   "execution_count": 15,
   "metadata": {},
   "outputs": [
    {
     "data": {
      "image/png": "[encoded data removed]",
      "text/plain": [
       "<Figure size 720x360 with 3 Axes>"
      ]
     },
     "metadata": {
      "needs_background": "light"
     },
     "output_type": "display_data"
    }
   ],
   "source": [
    "fig, ax = plt.subplots(1, 3, figsize=(10, 5))\n",
    "ax[0].hist(prior_dm[np.isfinite(prior_dm)], bins=100)\n",
    "ax[0].set_title('Prior')\n",
    "ax[1].hist(likelihood_dm[np.isfinite(likelihood_dm)], bins=100)\n",
    "ax[1].set_title('Likelihood')\n",
    "ax[2].hist(posterior_dm[np.isfinite(posterior_dm)], bins=100)\n",
    "ax[2].set_title('Posterior')\n",
    "plt.show()"
   ]
  },
  {
   "cell_type": "code",
   "execution_count": 18,
   "metadata": {},
   "outputs": [
    {
     "name": "stdout",
     "output_type": "stream",
     "text": [
      "BIC: 136.18897582051775\n"
     ]
    }
   ],
   "source": [
    "# calculate BIC\n",
    "bic = -2 * max_likelihood_dm + ndim * np.log(3*len(zmid)+3*len(wmid))\n",
    "print(f\"BIC: {bic}\")"
   ]
  },
  {
   "attachments": {},
   "cell_type": "markdown",
   "metadata": {},
   "source": [
    "# no"
   ]
  },
  {
   "cell_type": "code",
   "execution_count": 19,
   "metadata": {},
   "outputs": [],
   "source": [
    "from hammer import no"
   ]
  },
  {
   "cell_type": "code",
   "execution_count": 20,
   "metadata": {},
   "outputs": [],
   "source": [
    "def init(model):\n",
    "    ndim = 30\n",
    "    if model == 1:\n",
    "        ndim = 30\n",
    "    elif model == 2:\n",
    "        ndim = 32\n",
    "    else:\n",
    "        raise ValueError(\"model must be 1 or 2\")\n",
    "    nwalkers = 2*ndim+2\n",
    "    return (ndim, nwalkers)\n",
    "\n",
    "ndim, nwalkers = init(model)"
   ]
  },
  {
   "cell_type": "code",
   "execution_count": 21,
   "metadata": {},
   "outputs": [],
   "source": [
    "data_dir = join(root_dir, 'Data', 'MCMC', 'no')\n",
    "chain = np.load(join(data_dir, 'data', f'chain-{model}-{data}.npy'))\n",
    "\n",
    "locs = np.load(join(data_dir, 'data', f'locs-{model}.npy'))\n",
    "scales = np.load(join(data_dir, 'data', f'scales-{model}.npy'))\n",
    "\n",
    "zfiles = glob(join(root_dir, 'Data', 'Effective-Volume-v', '*.hdf5'))\n",
    "zfiles.sort()\n",
    "wfiles = glob(join(root_dir, 'Data', 'Velocity-Distribution-v', 'gaia*.hdf5'))\n",
    "wfiles.sort()\n",
    "zfiles, wfiles\n",
    "\n",
    "zfile = zfiles[data]\n",
    "wfile = wfiles[data]\n",
    "zdata = vaex.open(zfile)\n",
    "\n",
    "zmid = zdata['z'].to_numpy()\n",
    "znum = zdata['znum'].to_numpy()\n",
    "zerr = zdata['err'].to_numpy()\n",
    "\n",
    "wdata = vaex.open(wfile)\n",
    "\n",
    "wmid = wdata['w'].to_numpy()\n",
    "wnum = wdata['num'].to_numpy()\n",
    "werr = wdata['err'].to_numpy()\n",
    "\n",
    "zdata = (zmid, znum, zerr)\n",
    "wdata = (wmid, wnum, werr)"
   ]
  },
  {
   "cell_type": "code",
   "execution_count": 22,
   "metadata": {},
   "outputs": [],
   "source": [
    "probs = calculate_probs(no, chain, ndim, zdata, wdata, locs, scales, batch=1000)\n",
    "prior_no = probs[:, 0]\n",
    "prior_no = prior_no[np.isfinite(prior_no)]\n",
    "likelihood_no = probs[:, 1]\n",
    "likelihood_no = likelihood_no[np.isfinite(likelihood_no)]\n",
    "posterior_no = probs[:, 2]\n",
    "posterior_no = posterior_no[np.isfinite(posterior_no)]\n",
    "max_likelihood_no = np.max(likelihood_no)"
   ]
  },
  {
   "cell_type": "code",
   "execution_count": 23,
   "metadata": {},
   "outputs": [
    {
     "data": {
      "image/png": "[encoded data removed]",
      "text/plain": [
       "<Figure size 720x360 with 3 Axes>"
      ]
     },
     "metadata": {
      "needs_background": "light"
     },
     "output_type": "display_data"
    }
   ],
   "source": [
    "fig, ax = plt.subplots(1, 3, figsize=(10, 5))\n",
    "ax[0].hist(prior_no, bins=100)\n",
    "ax[0].set_title('Prior')\n",
    "ax[1].hist(likelihood_no, bins=100)\n",
    "ax[1].set_title('Likelihood')\n",
    "ax[2].hist(posterior_no, bins=100)\n",
    "ax[2].set_title('Posterior')\n",
    "plt.show()"
   ]
  },
  {
   "cell_type": "code",
   "execution_count": 24,
   "metadata": {},
   "outputs": [
    {
     "name": "stdout",
     "output_type": "stream",
     "text": [
      "BIC: 133.763236446943\n"
     ]
    }
   ],
   "source": [
    "# calculate BIC\n",
    "bic = -2 * max_likelihood_no + ndim * np.log(3*len(zmid)+3*len(wmid))\n",
    "print(f\"BIC: {bic}\")"
   ]
  },
  {
   "attachments": {},
   "cell_type": "markdown",
   "metadata": {},
   "source": [
    "# mond"
   ]
  },
  {
   "cell_type": "code",
   "execution_count": 25,
   "metadata": {},
   "outputs": [],
   "source": [
    "from hammer import mond"
   ]
  },
  {
   "cell_type": "code",
   "execution_count": 26,
   "metadata": {},
   "outputs": [],
   "source": [
    "def init(model):\n",
    "    ndim = 31\n",
    "    if model == 1:\n",
    "        ndim = 31\n",
    "    elif model == 2:\n",
    "        ndim = 33\n",
    "    else:\n",
    "        raise ValueError(\"model must be 1 or 2\")\n",
    "    nwalkers = 2*ndim+2\n",
    "    return (ndim, nwalkers)\n",
    "\n",
    "ndim, nwalkers = init(model)"
   ]
  },
  {
   "cell_type": "code",
   "execution_count": 27,
   "metadata": {},
   "outputs": [],
   "source": [
    "data_dir = join(root_dir, 'Data', 'MCMC', 'mond')\n",
    "chain = np.load(join(data_dir, 'data', f'chain-{model}-{data}.npy'))\n",
    "\n",
    "locs = np.load(join(data_dir, 'data', f'locs-{model}.npy'))\n",
    "scales = np.load(join(data_dir, 'data', f'scales-{model}.npy'))\n",
    "\n",
    "zfiles = glob(join(root_dir, 'Data', 'Effective-Volume-v', '*.hdf5'))\n",
    "zfiles.sort()\n",
    "wfiles = glob(join(root_dir, 'Data', 'Velocity-Distribution-v', 'gaia*.hdf5'))\n",
    "wfiles.sort()\n",
    "zfiles, wfiles\n",
    "\n",
    "zfile = zfiles[data]\n",
    "wfile = wfiles[data]\n",
    "zdata = vaex.open(zfile)\n",
    "\n",
    "zmid = zdata['z'].to_numpy()\n",
    "znum = zdata['znum'].to_numpy()\n",
    "zerr = zdata['err'].to_numpy()\n",
    "\n",
    "wdata = vaex.open(wfile)\n",
    "\n",
    "wmid = wdata['w'].to_numpy()\n",
    "wnum = wdata['num'].to_numpy()\n",
    "werr = wdata['err'].to_numpy()\n",
    "\n",
    "zdata = (zmid, znum, zerr)\n",
    "wdata = (wmid, wnum, werr)"
   ]
  },
  {
   "cell_type": "code",
   "execution_count": 30,
   "metadata": {},
   "outputs": [
    {
     "data": {
      "text/plain": [
       "9.982794091676737"
      ]
     },
     "execution_count": 30,
     "metadata": {},
     "output_type": "execute_result"
    }
   ],
   "source": [
    "probs = calculate_probs(mond, chain, ndim, zdata, wdata, locs, scales, batch=1000)\n",
    "prior_mond = probs[:, 0]\n",
    "prior_mond = prior_mond[np.isfinite(prior_mond)]\n",
    "likelihood_mond = probs[:, 1]\n",
    "likelihood_mond = likelihood_mond[np.isfinite(likelihood_mond)]\n",
    "posterior_mond = probs[:, 2]\n",
    "posterior_mond = posterior_mond[np.isfinite(posterior_mond)]\n",
    "max_likelihood_mond = np.max(likelihood_mond)\n",
    "max_likelihood_mond"
   ]
  },
  {
   "cell_type": "code",
   "execution_count": 31,
   "metadata": {},
   "outputs": [
    {
     "data": {
      "image/png": "[encoded data removed]",
      "text/plain": [
       "<Figure size 720x360 with 3 Axes>"
      ]
     },
     "metadata": {
      "needs_background": "light"
     },
     "output_type": "display_data"
    }
   ],
   "source": [
    "fig, ax = plt.subplots(1, 3, figsize=(10, 5))\n",
    "ax[0].hist(prior_mond, bins=100)\n",
    "ax[0].set_title('Prior')\n",
    "ax[1].hist(likelihood_mond, bins=100)\n",
    "ax[1].set_title('Likelihood')\n",
    "ax[2].hist(posterior_mond, bins=100)\n",
    "ax[2].set_title('Posterior')\n",
    "plt.show()"
   ]
  },
  {
   "cell_type": "code",
   "execution_count": 32,
   "metadata": {},
   "outputs": [
    {
     "name": "stdout",
     "output_type": "stream",
     "text": [
      "BIC: 135.44890845995354\n"
     ]
    }
   ],
   "source": [
    "# calculate BIC\n",
    "bic = -2 * max_likelihood_mond + ndim * np.log(3*len(zmid)+3*len(wmid))\n",
    "print(f\"BIC: {bic}\")"
   ]
  }
 ],
 "metadata": {
  "kernelspec": {
   "display_name": "vaex",
   "language": "python",
   "name": "python3"
  },
  "language_info": {
   "codemirror_mode": {
    "name": "ipython",
    "version": 3
   },
   "file_extension": ".py",
   "mimetype": "text/x-python",
   "name": "python",
   "nbconvert_exporter": "python",
   "pygments_lexer": "ipython3",
   "version": "3.8.10"
  },
  "orig_nbformat": 4
 },
 "nbformat": 4,
 "nbformat_minor": 2
}
