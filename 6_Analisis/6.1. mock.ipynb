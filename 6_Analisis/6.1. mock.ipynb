{
 "cells": [
  {
   "cell_type": "code",
   "execution_count": 1,
   "metadata": {},
   "outputs": [],
   "source": [
    "import sys\n",
    "from os.path import join, abspath\n",
    "from glob import glob\n",
    "import numpy as np\n",
    "import vaex\n",
    "from tqdm import tqdm\n",
    "import matplotlib.pyplot as plt\n",
    "from time import time\n",
    "from scipy.stats import norm, uniform"
   ]
  },
  {
   "cell_type": "code",
   "execution_count": 2,
   "metadata": {},
   "outputs": [
    {
     "data": {
      "text/plain": [
       "'/home2/s20321005/Thesis-Project'"
      ]
     },
     "execution_count": 2,
     "metadata": {},
     "output_type": "execute_result"
    }
   ],
   "source": [
    "# import utils\n",
    "root_dir = abspath(join('..'))\n",
    "root_dir"
   ]
  },
  {
   "cell_type": "code",
   "execution_count": 3,
   "metadata": {},
   "outputs": [
    {
     "data": {
      "text/plain": [
       "['/home2/s20321005/Thesis-Project/6_Analisis',\n",
       " '/home2/s20321005/.conda/envs/vaex/lib/python38.zip',\n",
       " '/home2/s20321005/.conda/envs/vaex/lib/python3.8',\n",
       " '/home2/s20321005/.conda/envs/vaex/lib/python3.8/lib-dynload',\n",
       " '',\n",
       " '/home2/s20321005/.local/lib/python3.8/site-packages',\n",
       " '/home2/s20321005/.conda/envs/vaex/lib/python3.8/site-packages',\n",
       " '/home2/s20321005/Thesis-Project']"
      ]
     },
     "execution_count": 3,
     "metadata": {},
     "output_type": "execute_result"
    }
   ],
   "source": [
    "if root_dir not in sys.path:\n",
    "    sys.path.append(root_dir)\n",
    "sys.path"
   ]
  },
  {
   "cell_type": "code",
   "execution_count": 42,
   "metadata": {},
   "outputs": [],
   "source": [
    "from utils import style, hdi, find_max"
   ]
  },
  {
   "cell_type": "code",
   "execution_count": 5,
   "metadata": {},
   "outputs": [],
   "source": [
    "style()"
   ]
  },
  {
   "cell_type": "code",
   "execution_count": 6,
   "metadata": {},
   "outputs": [
    {
     "data": {
      "text/plain": [
       "'/home2/s20321005/Thesis-Project/Data'"
      ]
     },
     "execution_count": 6,
     "metadata": {},
     "output_type": "execute_result"
    }
   ],
   "source": [
    "root_data_dir = abspath(join(root_dir, \"Data\"))\n",
    "root_data_dir"
   ]
  },
  {
   "cell_type": "code",
   "execution_count": 7,
   "metadata": {},
   "outputs": [],
   "source": [
    "data_baryon_dir = join(root_data_dir, \"Baryon\")\n",
    "# load baryons components\n",
    "df_baryon = vaex.open(join(data_baryon_dir, \"baryon.hdf5\"))\n",
    "rhos = df_baryon[\"rho\"].to_numpy()  # Msun/pc^3\n",
    "sigmaz = df_baryon[\"sigma_z\"].to_numpy() # km/s\n",
    "\n",
    "e_rhos = df_baryon[\"e_rho\"].to_numpy()  # Msun/pc^3\n",
    "e_sigmaz = df_baryon[\"e_sigma_z\"].to_numpy() # km/s\n",
    "dpi=100"
   ]
  },
  {
   "attachments": {},
   "cell_type": "markdown",
   "metadata": {},
   "source": [
    "# $z$ variations"
   ]
  },
  {
   "cell_type": "code",
   "execution_count": 8,
   "metadata": {},
   "outputs": [],
   "source": [
    "tipe = \"z\"\n",
    "zfiles = glob(join(root_data_dir, 'MCMC', 'dm_mock', 'mock', tipe, 'z*.hdf5'))\n",
    "zfiles.sort()\n",
    "wfiles = glob(join(root_data_dir, 'MCMC', 'dm_mock', 'mock', tipe, 'w*.hdf5'))\n",
    "wfiles.sort()"
   ]
  },
  {
   "cell_type": "code",
   "execution_count": 9,
   "metadata": {},
   "outputs": [
    {
     "data": {
      "text/plain": [
       "['/home2/s20321005/Thesis-Project/Data/MCMC/dm_mock/z/data/chain-2-0.npy',\n",
       " '/home2/s20321005/Thesis-Project/Data/MCMC/dm_mock/z/data/chain-2-1.npy',\n",
       " '/home2/s20321005/Thesis-Project/Data/MCMC/dm_mock/z/data/chain-2-2.npy',\n",
       " '/home2/s20321005/Thesis-Project/Data/MCMC/dm_mock/z/data/chain-2-3.npy',\n",
       " '/home2/s20321005/Thesis-Project/Data/MCMC/dm_mock/z/data/chain-2-4.npy']"
      ]
     },
     "execution_count": 9,
     "metadata": {},
     "output_type": "execute_result"
    }
   ],
   "source": [
    "# for model 2 (double gaussia)\n",
    "dm_2_files = glob(join(join(root_data_dir, 'MCMC', 'dm_mock', tipe, 'data', \"chain-2-*\")))\n",
    "dm_2_files.sort()\n",
    "dm_2_files"
   ]
  },
  {
   "cell_type": "code",
   "execution_count": 10,
   "metadata": {},
   "outputs": [
    {
     "data": {
      "text/plain": [
       "(20000, 68, 33)"
      ]
     },
     "execution_count": 10,
     "metadata": {},
     "output_type": "execute_result"
    }
   ],
   "source": [
    "index = 0\n",
    "df = np.load(dm_2_files[index])\n",
    "df.shape"
   ]
  },
  {
   "cell_type": "code",
   "execution_count": 11,
   "metadata": {},
   "outputs": [],
   "source": [
    "from scipy.stats import norm\n",
    "\n",
    "rhob = df[:, :, :12]\n",
    "rhob = rhob.reshape(-1, 12)\n",
    "rhob = rhob.sum(axis=1)/1E-2\n",
    "rhoDM = df[:, :, 24].reshape(-1)/1E-2\n",
    "length = len(rhob)\n",
    "rhob0 = np.empty((length, 12))\n",
    "for i in range(12):\n",
    "    rhob0[:,i] = norm.rvs(loc=rhos[i], scale=e_rhos[i], size=length)\n",
    "rhob0 = rhob0.sum(axis=1)/1E-2"
   ]
  },
  {
   "cell_type": "code",
   "execution_count": 12,
   "metadata": {},
   "outputs": [
    {
     "data": {
      "image/png": "[encoded data removed]",
      "text/plain": [
       "<Figure size 576x432 with 1 Axes>"
      ]
     },
     "metadata": {
      "needs_background": "light"
     },
     "output_type": "display_data"
    }
   ],
   "source": [
    "rho = np.linspace(-5, 14, 200)\n",
    "rhoDM_num, _ = np.histogram(rhoDM, bins=rho)\n",
    "rhob_num, _ = np.histogram(rhob, bins=rho)\n",
    "rhob0_num, _ = np.histogram(rhob0, bins=rho)\n",
    "rhomid = 0.5*(rho[1:] + rho[:-1])\n",
    "# plot step\n",
    "fig, ax = plt.subplots(figsize=(8, 6))\n",
    "ax.step(rhomid, rhoDM_num, label='DM')\n",
    "ax.step(rhomid, rhob_num, label='Baryon')\n",
    "ax.step(rhomid, rhob0_num, label='Baryon0')\n",
    "ax.set_xlabel(r'$\\rho$')\n",
    "ax.set_ylabel('Number')\n",
    "ax.legend()\n",
    "plt.show()"
   ]
  },
  {
   "cell_type": "code",
   "execution_count": 39,
   "metadata": {},
   "outputs": [],
   "source": [
    "from scipy.stats import skewnorm\n",
    "rhoDM_sample = np.random.choice(rhoDM, size=2000, replace=False)\n",
    "rhoDM_fit = skewnorm.fit(rhoDM_sample)\n",
    "rhob_sample = np.random.choice(rhob, size=2000, replace=False)\n",
    "rhob_fit = skewnorm.fit(rhob_sample)\n",
    "rhob0_sample = np.random.choice(rhob0, size=2000, replace=False)\n",
    "rhob0_fit = norm.fit(rhob0_sample)"
   ]
  },
  {
   "cell_type": "code",
   "execution_count": 41,
   "metadata": {},
   "outputs": [
    {
     "data": {
      "text/plain": [
       "((1.1750501702340639, 1.9935818741555713, 2.2831084489648132),\n",
       " (-0.4331766998921168, 9.195401001428213, 0.769177637152901),\n",
       " (8.882412563009808, 0.7169443592723607))"
      ]
     },
     "execution_count": 41,
     "metadata": {},
     "output_type": "execute_result"
    },
    {
     "data": {
      "image/png": "[encoded data removed]",
      "text/plain": [
       "<Figure size 576x432 with 1 Axes>"
      ]
     },
     "metadata": {
      "needs_background": "light"
     },
     "output_type": "display_data"
    }
   ],
   "source": [
    "# plot\n",
    "rho = np.linspace(-5, 14, 100)\n",
    "fig, ax = plt.subplots(figsize=(8, 6))\n",
    "ax.hist(rhoDM, bins=rho, density=True, label='DM', ec='k', alpha=0.5, color='C0')\n",
    "ax.hist(rhob, bins=rho, density=True, label='Baryon', ec='k', alpha=0.5,color='C1')\n",
    "ax.hist(rhob0, bins=rho, density=True, label='Baryon0', ec='k', alpha=0.5, color='C2')\n",
    "ax.plot(rho, skewnorm.pdf(rho, *rhoDM_fit), label='DM fit', color='C0',  ls='--')\n",
    "ax.plot(rho, skewnorm.pdf(rho, *rhob_fit), label='Baryon fit', color='C1', ls='--')\n",
    "ax.plot(rho, norm.pdf(rho, *rhob0_fit), label='Baryon0 fit', color='C2', ls='--')\n",
    "ax.set_xlabel(r'$\\rho$')\n",
    "ax.set_ylabel(r'$f$')\n",
    "ax.legend()\n",
    "rhoDM_fit, rhob_fit, rhob0_fit"
   ]
  },
  {
   "cell_type": "code",
   "execution_count": 43,
   "metadata": {},
   "outputs": [
    {
     "name": "stdout",
     "output_type": "stream",
     "text": [
      "rhoDM = 3.20 +1.86/-1.73\n",
      "rhob = 8.96 +0.73/-0.74\n",
      "rhob0 = 8.88 +0.71/-0.72\n"
     ]
    },
    {
     "data": {
      "image/png": "[encoded data removed]",
      "text/plain": [
       "<Figure size 576x432 with 1 Axes>"
      ]
     },
     "metadata": {
      "needs_background": "light"
     },
     "output_type": "display_data"
    }
   ],
   "source": [
    "rhoDM_low, rhoDM_high = hdi(lambda x: skewnorm.pdf(x, *rhoDM_fit), perc=0.68, res=1E3, min=-5, max=14)\n",
    "rhoDM_mode = find_max(lambda x: skewnorm.pdf(x, *rhoDM_fit), x0=0.0)[0]\n",
    "\n",
    "rhob_low, rhob_high = hdi(lambda x: skewnorm.pdf(x, *rhob_fit), perc=0.68, res=1E3, min=-5, max=14)\n",
    "rhob_mode = find_max(lambda x: skewnorm.pdf(x, *rhob_fit), x0=0.0)[0]\n",
    "\n",
    "rhob0_low, rhob0_high = hdi(lambda x: norm.pdf(x, *rhob0_fit), perc=0.68, res=1E3, min=-5, max=14)\n",
    "rhob0_mode = find_max(lambda x: norm.pdf(x, *rhob0_fit), x0=0.0)[0]\n",
    "\n",
    "# plot\n",
    "rho = np.linspace(-5, 14, 50)\n",
    "fig, ax = plt.subplots(figsize=(8, 6))\n",
    "ax.hist(rhoDM, bins=rho, density=True, label='DM', ec='k', alpha=0.5, color='C0')\n",
    "ax.hist(rhob, bins=rho, density=True, label='Baryon', ec='k', alpha=0.5,color='C1')\n",
    "ax.hist(rhob0, bins=rho, density=True, label='Baryon0', ec='k', alpha=0.5, color='C2')\n",
    "ax.plot(rho, skewnorm.pdf(rho, *rhoDM_fit), label='DM fit', color='C0',  ls='--')\n",
    "ax.plot(rho, skewnorm.pdf(rho, *rhob_fit), label='Baryon fit', color='C1', ls='--')\n",
    "ax.plot(rho, norm.pdf(rho, *rhob0_fit), label='Baryon0 fit', color='C2', ls='--')\n",
    "ax.axvline(rhoDM_mode, color='C0', ls='-.')\n",
    "ax.axvline(rhob_mode, color='C1', ls='-.')\n",
    "ax.axvline(rhob0_mode, color='C2', ls='-.')\n",
    "ax.axvline(rhoDM_low, color='C0', ls='--')\n",
    "ax.axvline(rhoDM_high, color='C0', ls='--')\n",
    "ax.axvline(rhob_low, color='C1', ls='--')\n",
    "ax.axvline(rhob_high, color='C1', ls='--')\n",
    "ax.axvline(rhob0_low, color='C2', ls='--')\n",
    "ax.axvline(rhob0_high, color='C2', ls='--')\n",
    "ax.set_xlabel(r'$\\rho$')\n",
    "ax.set_ylabel(r'$f$')\n",
    "ax.legend()\n",
    "print(f'rhoDM = {rhoDM_mode:.02f} +{rhoDM_high-rhoDM_mode:.02f}/-{rhoDM_mode-rhoDM_low:.02f}')\n",
    "print(f'rhob = {rhob_mode:.02f} +{rhob_high-rhob_mode:.02f}/-{rhob_mode-rhob_low:.02f}')\n",
    "print(f'rhob0 = {rhob0_mode:.02f} +{rhob0_high-rhob0_mode:.02f}/-{rhob0_mode-rhob0_low:.02f}')"
   ]
  },
  {
   "cell_type": "code",
   "execution_count": 46,
   "metadata": {},
   "outputs": [
    {
     "name": "stdout",
     "output_type": "stream",
     "text": [
      "rhob0 = 8.89 +0.71/-0.71\n"
     ]
    },
    {
     "data": {
      "image/png": "[encoded data removed]",
      "text/plain": [
       "<Figure size 576x432 with 1 Axes>"
      ]
     },
     "metadata": {
      "needs_background": "light"
     },
     "output_type": "display_data"
    }
   ],
   "source": [
    "length = len(rhob)\n",
    "rhob0 = np.empty((length, 12))\n",
    "for i in range(12):\n",
    "    rhob0[:,i] = norm.rvs(loc=rhos[i], scale=e_rhos[i], size=length)\n",
    "rhob0 = rhob0.sum(axis=1)/1E-2\n",
    "# fit with gaussian\n",
    "rhob0_fit = norm.fit(rhob0)\n",
    "# mode\n",
    "rhob0_mode = find_max(lambda x: norm.pdf(x, *rhob0_fit), x0=0.0)[0]\n",
    "# find \n",
    "sigma_1 = 68.268949/100\n",
    "sigma_2 = 95.449973/100\n",
    "sigma_3 = 99.730021/100\n",
    "rhob0_low = {}\n",
    "rhob0_high = {}\n",
    "for i, sigma in enumerate([sigma_1, sigma_2, sigma_3]):\n",
    "    low, high = hdi(lambda x: norm.pdf(x, *rhob0_fit), perc=sigma, res=1E3, min=5, max=13)\n",
    "    rhob0_low[i] = low\n",
    "    rhob0_high[i] = high\n",
    "# plot\n",
    "rho = np.linspace(5, 12.5, 50)\n",
    "fig, ax = plt.subplots(figsize=(8, 6))\n",
    "ax.hist(rhob0, bins=rho, density=True, label='Baryon0', ec='k', alpha=0.5, color='C2')\n",
    "ax.plot(rho, norm.pdf(rho, *rhob0_fit), label='Baryon0 fit', color='C2', ls='--')\n",
    "ax.axvline(rhob0_mode, color='C2', ls='-.')\n",
    "for i in range(3):\n",
    "    ax.axvline(rhob0_low[i], color='C2', ls='--')\n",
    "    ax.axvline(rhob0_high[i], color='C2', ls='--')\n",
    "ax.set_xlabel(r'$\\rho$')\n",
    "ax.set_ylabel(r'$f$')\n",
    "ax.legend()\n",
    "print(f'rhob0 = {rhob0_mode:.02f} +{rhob0_high[0]-rhob0_mode:.02f}/-{rhob0_mode-rhob0_low[0]:.02f}')"
   ]
  },
  {
   "cell_type": "code",
   "execution_count": 75,
   "metadata": {},
   "outputs": [
    {
     "name": "stderr",
     "output_type": "stream",
     "text": [
      "  0%|          | 0/5 [00:00<?, ?it/s]"
     ]
    },
    {
     "name": "stdout",
     "output_type": "stream",
     "text": [
      "fitting...\n",
      "calculating HDI...\n"
     ]
    },
    {
     "name": "stderr",
     "output_type": "stream",
     "text": [
      " 20%|██        | 1/5 [00:05<00:20,  5.11s/it]"
     ]
    },
    {
     "name": "stdout",
     "output_type": "stream",
     "text": [
      "calculating mode\n",
      "fitting...\n",
      "calculating HDI...\n"
     ]
    },
    {
     "name": "stderr",
     "output_type": "stream",
     "text": [
      " 40%|████      | 2/5 [00:10<00:15,  5.26s/it]"
     ]
    },
    {
     "name": "stdout",
     "output_type": "stream",
     "text": [
      "calculating mode\n",
      "fitting...\n",
      "calculating HDI...\n"
     ]
    },
    {
     "name": "stderr",
     "output_type": "stream",
     "text": [
      " 60%|██████    | 3/5 [00:16<00:11,  5.51s/it]"
     ]
    },
    {
     "name": "stdout",
     "output_type": "stream",
     "text": [
      "calculating mode\n",
      "fitting...\n",
      "calculating HDI...\n"
     ]
    },
    {
     "name": "stderr",
     "output_type": "stream",
     "text": [
      " 80%|████████  | 4/5 [00:21<00:05,  5.38s/it]"
     ]
    },
    {
     "name": "stdout",
     "output_type": "stream",
     "text": [
      "calculating mode\n",
      "fitting...\n",
      "calculating HDI...\n"
     ]
    },
    {
     "name": "stderr",
     "output_type": "stream",
     "text": [
      "100%|██████████| 5/5 [00:27<00:00,  5.41s/it]"
     ]
    },
    {
     "name": "stdout",
     "output_type": "stream",
     "text": [
      "calculating mode\n"
     ]
    },
    {
     "name": "stderr",
     "output_type": "stream",
     "text": [
      "\n"
     ]
    }
   ],
   "source": [
    "from tqdm import tqdm\n",
    "\n",
    "rhoDM_modes = []\n",
    "rhoDM_errs = []\n",
    "rhob_modes = []\n",
    "rhob_errs = []\n",
    "\n",
    "for index in tqdm(range(len(dm_2_files))):\n",
    "    df = np.load(dm_2_files[index])\n",
    "    rhob = df[:, :, :12]\n",
    "    rhob = rhob.reshape(-1, 12)\n",
    "    rhob = rhob.sum(axis=1)/1E-2\n",
    "    rhoDM = df[:, :, 24].reshape(-1)/1E-2\n",
    "    print(\"fitting...\")\n",
    "    rhoDM_sample = np.random.choice(rhoDM, size=2000, replace=False)\n",
    "    rhoDM_fit = skewnorm.fit(rhoDM_sample)\n",
    "    rhob_sample = np.random.choice(rhob, size=2000, replace=False)\n",
    "    rhob_fit = skewnorm.fit(rhob_sample)\n",
    "\n",
    "    print(\"calculating HDI...\")\n",
    "    rhoDM_low = {}\n",
    "    rhoDM_high = {}\n",
    "    rhob_low = {}\n",
    "    rhob_high = {}\n",
    "    for i, sigma in enumerate([sigma_1, sigma_2, sigma_3]):\n",
    "        low, high = hdi(lambda x: skewnorm.pdf(x, *rhoDM_fit), perc=sigma, res=1E3, min=-5, max=15)\n",
    "        rhoDM_low[i] = low\n",
    "        rhoDM_high[i] = high\n",
    "        low, high = hdi(lambda x: skewnorm.pdf(x, *rhob_fit), perc=sigma, res=1E3, min=5, max=13)\n",
    "        rhob_low[i] = low\n",
    "        rhob_high[i] = high\n",
    "    print(\"calculating mode\")\n",
    "    rhoDM_mode = find_max(lambda x: skewnorm.pdf(x, *rhoDM_fit), x0=0.0)[0]\n",
    "    rhob_mode = find_max(lambda x: skewnorm.pdf(x, *rhob_fit), x0=0.0)[0]\n",
    "    rhoDM_modes.append(rhoDM_mode)\n",
    "    rhoDM_errs.append({'low': rhoDM_low, 'high': rhoDM_high})\n",
    "    rhob_modes.append(rhob_mode)\n",
    "    rhob_errs.append({'low': rhob_low, 'high': rhob_high})"
   ]
  },
  {
   "cell_type": "code",
   "execution_count": 102,
   "metadata": {},
   "outputs": [
    {
     "data": {
      "image/png": "[encoded data removed]",
      "text/plain": [
       "<Figure size 576x432 with 1 Axes>"
      ]
     },
     "metadata": {
      "needs_background": "light"
     },
     "output_type": "display_data"
    }
   ],
   "source": [
    "zlevel = np.arange(1, 3.1, 0.5)\n",
    "zs = np.linspace(0.5, 3.5, 100)\n",
    "\n",
    "fig, ax = plt.subplots(figsize=(8, 6))\n",
    "ax.axhline(y=rhob0_mode, color='black', linestyle='--')\n",
    "for i in range(3):\n",
    "    low = np.array([err['low'][i] for err in rhoDM_errs])\n",
    "    high = np.array([err['high'][i] for err in rhoDM_errs])\n",
    "    dm_ax = ax.errorbar(zlevel, rhoDM_modes, yerr=[rhoDM_modes-low, high-rhoDM_modes], fmt='o', color='blue', capsize=3, alpha=0.5, elinewidth=3, markeredgewidth=1)\n",
    "    low = np.array([err['low'][i] for err in rhob_errs])\n",
    "    high = np.array([err['high'][i] for err in rhob_errs])\n",
    "    rhob_ax = ax.errorbar(zlevel, rhob_modes, yerr=[rhob_modes-low, high-rhob_modes], fmt='o', color='red', capsize=3, alpha=0.5, elinewidth=3, markeredgewidth=1)\n",
    "    rhob0_ax = ax.fill_between(zs, rhob0_low[i], rhob0_high[i], color='black', alpha=0.1)\n",
    "    if i == 2:\n",
    "        ax.legend([dm_ax, rhob_ax, rhob0_ax], \n",
    "                  [r'$\\rho_{\\textup{DM}}$', r'$\\rho_{b}$', r'$\\rho_{b0}$'],\n",
    "                  loc='lower left', fontsize=12)\n",
    "# real value\n",
    "ax.axhline(y=1.6, color='black', linestyle='--')\n",
    "ax.set_xlabel(r'$z [\\sigma]$', fontsize=16)\n",
    "ax.set_ylabel(r'$\\rho$ [$\\times 10^{-2}M_{\\odot}\\ $pc$^{-3}$]', fontsize=16)\n",
    "ax.set_xlim(zs.min(), zs.max())\n",
    "ax.set_title(\"Kerapatan Materi Gelap \\& Baryon\", fontsize=16)\n",
    "ax.grid()\n",
    "# fig.savefig('rm_2_z.pdf', dpi=300)\n",
    "plt.show()"
   ]
  },
  {
   "cell_type": "code",
   "execution_count": 94,
   "metadata": {},
   "outputs": [],
   "source": [
    "# for i in range(5):\n",
    "#     print(f\"{rhoDM_mode[i]:.2f} & [{rhoDM_low68[i]:.2f}, {rhoDM_high68[i]:.2f}] & [{rhoDM_low90[i]:.2f}, {rhoDM_high90[i]:.2f}] & [{rhoDM_low95[i]:.2f}, {rhoDM_high95[i]:.2f}] \\\\\\\\\")"
   ]
  },
  {
   "attachments": {},
   "cell_type": "markdown",
   "metadata": {},
   "source": [
    "# $N$"
   ]
  },
  {
   "cell_type": "code",
   "execution_count": 103,
   "metadata": {},
   "outputs": [],
   "source": [
    "tipe = \"n\"\n",
    "zfiles = glob(join(root_data_dir, 'MCMC', 'dm_mock', 'mock', tipe, 'z*.hdf5'))\n",
    "zfiles.sort()\n",
    "wfiles = glob(join(root_data_dir, 'MCMC', 'dm_mock', 'mock', tipe, 'w*.hdf5'))\n",
    "wfiles.sort()"
   ]
  },
  {
   "cell_type": "code",
   "execution_count": 105,
   "metadata": {},
   "outputs": [
    {
     "data": {
      "text/plain": [
       "['/home2/s20321005/Thesis-Project/Data/MCMC/dm_mock/n/data/chain-2-0.npy',\n",
       " '/home2/s20321005/Thesis-Project/Data/MCMC/dm_mock/n/data/chain-2-1.npy',\n",
       " '/home2/s20321005/Thesis-Project/Data/MCMC/dm_mock/n/data/chain-2-2.npy',\n",
       " '/home2/s20321005/Thesis-Project/Data/MCMC/dm_mock/n/data/chain-2-3.npy',\n",
       " '/home2/s20321005/Thesis-Project/Data/MCMC/dm_mock/n/data/chain-2-4.npy',\n",
       " '/home2/s20321005/Thesis-Project/Data/MCMC/dm_mock/n/data/chain-2-5.npy']"
      ]
     },
     "execution_count": 105,
     "metadata": {},
     "output_type": "execute_result"
    }
   ],
   "source": [
    "dm_2_files = glob(join(join(root_data_dir, 'MCMC', 'dm_mock',tipe, 'data', \"chain-2-*\")))\n",
    "dm_2_files.sort()\n",
    "dm_2_files"
   ]
  },
  {
   "cell_type": "code",
   "execution_count": 110,
   "metadata": {},
   "outputs": [
    {
     "name": "stdout",
     "output_type": "stream",
     "text": [
      "rhob0 = 8.89 +0.71/-0.71\n"
     ]
    }
   ],
   "source": [
    "length = len(rhob)\n",
    "rhob0 = np.empty((length, 12))\n",
    "for i in range(12):\n",
    "    rhob0[:,i] = norm.rvs(loc=rhos[i], scale=e_rhos[i], size=length)\n",
    "rhob0 = rhob0.sum(axis=1)/1E-2\n",
    "# fit with gaussian\n",
    "rhob0_fit = norm.fit(rhob0)\n",
    "# mode\n",
    "rhob0_mode = find_max(lambda x: norm.pdf(x, *rhob0_fit), x0=0.0)[0]\n",
    "# find \n",
    "sigma_1 = 68/100\n",
    "sigma_2 = 90/100\n",
    "sigma_3 = 95/100\n",
    "rhob0_low = {}\n",
    "rhob0_high = {}\n",
    "for i, sigma in enumerate([sigma_1, sigma_2, sigma_3]):\n",
    "    low, high = hdi(lambda x: norm.pdf(x, *rhob0_fit), perc=sigma, res=1E3, min=5, max=13)\n",
    "    rhob0_low[i] = low\n",
    "    rhob0_high[i] = high\n",
    "# plot\n",
    "rho = np.linspace(5, 12.5, 50)\n",
    "print(f'rhob0 = {rhob0_mode:.02f} +{rhob0_high[0]-rhob0_mode:.02f}/-{rhob0_mode-rhob0_low[0]:.02f}')"
   ]
  },
  {
   "cell_type": "code",
   "execution_count": 111,
   "metadata": {},
   "outputs": [
    {
     "name": "stderr",
     "output_type": "stream",
     "text": [
      "  0%|          | 0/6 [00:00<?, ?it/s]"
     ]
    },
    {
     "name": "stdout",
     "output_type": "stream",
     "text": [
      "fitting...\n",
      "calculating HDI...\n"
     ]
    },
    {
     "name": "stderr",
     "output_type": "stream",
     "text": [
      " 17%|█▋        | 1/6 [00:03<00:19,  3.82s/it]"
     ]
    },
    {
     "name": "stdout",
     "output_type": "stream",
     "text": [
      "calculating mode\n",
      "fitting...\n",
      "calculating HDI...\n"
     ]
    },
    {
     "name": "stderr",
     "output_type": "stream",
     "text": [
      " 33%|███▎      | 2/6 [00:07<00:14,  3.57s/it]"
     ]
    },
    {
     "name": "stdout",
     "output_type": "stream",
     "text": [
      "calculating mode\n",
      "fitting...\n",
      "calculating HDI...\n"
     ]
    },
    {
     "name": "stderr",
     "output_type": "stream",
     "text": [
      " 50%|█████     | 3/6 [00:10<00:10,  3.63s/it]"
     ]
    },
    {
     "name": "stdout",
     "output_type": "stream",
     "text": [
      "calculating mode\n",
      "fitting...\n",
      "calculating HDI...\n"
     ]
    },
    {
     "name": "stderr",
     "output_type": "stream",
     "text": [
      " 67%|██████▋   | 4/6 [00:14<00:07,  3.71s/it]"
     ]
    },
    {
     "name": "stdout",
     "output_type": "stream",
     "text": [
      "calculating mode\n",
      "fitting...\n",
      "calculating HDI...\n"
     ]
    },
    {
     "name": "stderr",
     "output_type": "stream",
     "text": [
      " 83%|████████▎ | 5/6 [00:17<00:03,  3.54s/it]"
     ]
    },
    {
     "name": "stdout",
     "output_type": "stream",
     "text": [
      "calculating mode\n",
      "fitting...\n",
      "calculating HDI...\n"
     ]
    },
    {
     "name": "stderr",
     "output_type": "stream",
     "text": [
      "100%|██████████| 6/6 [00:22<00:00,  3.75s/it]"
     ]
    },
    {
     "name": "stdout",
     "output_type": "stream",
     "text": [
      "calculating mode\n"
     ]
    },
    {
     "name": "stderr",
     "output_type": "stream",
     "text": [
      "\n"
     ]
    }
   ],
   "source": [
    "from tqdm import tqdm\n",
    "\n",
    "rhoDM_modes = []\n",
    "rhoDM_errs = []\n",
    "rhob_modes = []\n",
    "rhob_errs = []\n",
    "\n",
    "for index in tqdm(range(len(dm_2_files))):\n",
    "    df = np.load(dm_2_files[index])\n",
    "    rhob = df[:, :, :12]\n",
    "    rhob = rhob.reshape(-1, 12)\n",
    "    rhob = rhob.sum(axis=1)/1E-2\n",
    "    rhoDM = df[:, :, 24].reshape(-1)/1E-2\n",
    "    print(\"fitting...\")\n",
    "    rhoDM_sample = np.random.choice(rhoDM, size=2000, replace=False)\n",
    "    rhoDM_fit = skewnorm.fit(rhoDM_sample)\n",
    "    rhob_sample = np.random.choice(rhob, size=2000, replace=False)\n",
    "    rhob_fit = skewnorm.fit(rhob_sample)\n",
    "\n",
    "    print(\"calculating HDI...\")\n",
    "    rhoDM_low = {}\n",
    "    rhoDM_high = {}\n",
    "    rhob_low = {}\n",
    "    rhob_high = {}\n",
    "    for i, sigma in enumerate([sigma_1, sigma_2, sigma_3]):\n",
    "        low, high = hdi(lambda x: skewnorm.pdf(x, *rhoDM_fit), perc=sigma, res=1E3, min=-5, max=15)\n",
    "        rhoDM_low[i] = low\n",
    "        rhoDM_high[i] = high\n",
    "        low, high = hdi(lambda x: skewnorm.pdf(x, *rhob_fit), perc=sigma, res=1E3, min=5, max=13)\n",
    "        rhob_low[i] = low\n",
    "        rhob_high[i] = high\n",
    "    print(\"calculating mode\")\n",
    "    rhoDM_mode = find_max(lambda x: skewnorm.pdf(x, *rhoDM_fit), x0=0.0)[0]\n",
    "    rhob_mode = find_max(lambda x: skewnorm.pdf(x, *rhob_fit), x0=0.0)[0]\n",
    "    rhoDM_modes.append(rhoDM_mode)\n",
    "    rhoDM_errs.append({'low': rhoDM_low, 'high': rhoDM_high})\n",
    "    rhob_modes.append(rhob_mode)\n",
    "    rhob_errs.append({'low': rhob_low, 'high': rhob_high})"
   ]
  },
  {
   "cell_type": "code",
   "execution_count": 112,
   "metadata": {},
   "outputs": [
    {
     "data": {
      "image/png": "[encoded data removed]",
      "text/plain": [
       "<Figure size 576x432 with 1 Axes>"
      ]
     },
     "metadata": {
      "needs_background": "light"
     },
     "output_type": "display_data"
    }
   ],
   "source": [
    "nlevel = np.arange(500, 3001, 500)\n",
    "ns = np.linspace(300, 3300, 100)\n",
    "\n",
    "fig, ax = plt.subplots(figsize=(8, 6))\n",
    "ax.axhline(y=rhob0_mode, color='black', linestyle='--')\n",
    "for i in range(3):\n",
    "    low = np.array([err['low'][i] for err in rhoDM_errs])\n",
    "    high = np.array([err['high'][i] for err in rhoDM_errs])\n",
    "    dm_ax = ax.errorbar(nlevel, rhoDM_modes, yerr=[rhoDM_modes-low, high-rhoDM_modes], fmt='o', color='blue', capsize=3, alpha=0.5, elinewidth=3, markeredgewidth=1)\n",
    "    low = np.array([err['low'][i] for err in rhob_errs])\n",
    "    high = np.array([err['high'][i] for err in rhob_errs])\n",
    "    rhob_ax = ax.errorbar(nlevel, rhob_modes, yerr=[rhob_modes-low, high-rhob_modes], fmt='o', color='red', capsize=3, alpha=0.5, elinewidth=3, markeredgewidth=1)\n",
    "    rhob0_ax = ax.fill_between(ns, rhob0_low[i], rhob0_high[i], color='black', alpha=0.1)\n",
    "    if i == 2:\n",
    "        ax.legend([dm_ax, rhob_ax, rhob0_ax], \n",
    "                  [r'$\\rho_{\\textup{DM}}$', r'$\\rho_{b}$', r'$\\rho_{b0}$'],\n",
    "                  loc='lower left', fontsize=12)\n",
    "# real value\n",
    "ax.axhline(y=1.6, color='black', linestyle='--')\n",
    "ax.set_xlabel(r'$N$', fontsize=16)\n",
    "ax.set_ylabel(r'$\\rho$ [$\\times 10^{-2}M_{\\odot}\\ $pc$^{-3}$]', fontsize=16)\n",
    "ax.set_xlim(ns.min(), ns.max())\n",
    "ax.set_title(\"Kerapatan Materi Gelap \\& Baryon\", fontsize=16)\n",
    "ax.grid()\n",
    "# fig.savefig('rm_2_z.pdf', dpi=300)\n",
    "plt.show()"
   ]
  },
  {
   "cell_type": "code",
   "execution_count": null,
   "metadata": {},
   "outputs": [],
   "source": []
  },
  {
   "cell_type": "code",
   "execution_count": 13,
   "metadata": {},
   "outputs": [
    {
     "name": "stderr",
     "output_type": "stream",
     "text": [
      "  0%|          | 0/6 [00:00<?, ?it/s]"
     ]
    },
    {
     "name": "stdout",
     "output_type": "stream",
     "text": [
      "fitting...\n",
      "calculating HDI...\n"
     ]
    },
    {
     "name": "stderr",
     "output_type": "stream",
     "text": [
      " 17%|█▋        | 1/6 [00:31<02:37, 31.55s/it]"
     ]
    },
    {
     "name": "stdout",
     "output_type": "stream",
     "text": [
      "fitting...\n",
      "calculating HDI...\n"
     ]
    },
    {
     "name": "stderr",
     "output_type": "stream",
     "text": [
      " 33%|███▎      | 2/6 [00:47<01:30, 22.60s/it]"
     ]
    },
    {
     "name": "stdout",
     "output_type": "stream",
     "text": [
      "fitting...\n",
      "calculating HDI...\n"
     ]
    },
    {
     "name": "stderr",
     "output_type": "stream",
     "text": [
      " 50%|█████     | 3/6 [01:10<01:08, 22.78s/it]"
     ]
    },
    {
     "name": "stdout",
     "output_type": "stream",
     "text": [
      "fitting...\n",
      "calculating HDI...\n"
     ]
    },
    {
     "name": "stderr",
     "output_type": "stream",
     "text": [
      " 67%|██████▋   | 4/6 [01:32<00:44, 22.34s/it]"
     ]
    },
    {
     "name": "stdout",
     "output_type": "stream",
     "text": [
      "fitting...\n",
      "calculating HDI...\n"
     ]
    },
    {
     "name": "stderr",
     "output_type": "stream",
     "text": [
      " 83%|████████▎ | 5/6 [02:07<00:27, 27.05s/it]"
     ]
    },
    {
     "name": "stdout",
     "output_type": "stream",
     "text": [
      "fitting...\n",
      "calculating HDI...\n"
     ]
    },
    {
     "name": "stderr",
     "output_type": "stream",
     "text": [
      "100%|██████████| 6/6 [02:23<00:00, 23.99s/it]\n"
     ]
    }
   ],
   "source": [
    "from tqdm import tqdm\n",
    "from scipy.stats import skewnorm\n",
    "\n",
    "rhoDM_v_n = []\n",
    "rhoDM_fit_n = []\n",
    "rhob_v_n = []\n",
    "rhob_fit_n = []\n",
    "\n",
    "for index in tqdm(range(len(dm_1_files))):\n",
    "    df_dm = np.load(dm_1_files[index])\n",
    "    rhob = df_dm[:, :, :12]\n",
    "    rhob = rhob.reshape(-1, 12)\n",
    "    rhob = rhob.sum(axis=1)/1E-2\n",
    "    rhoDM = df_dm[:, :, 24].reshape(-1)/1E-2\n",
    "    print(\"fitting...\")\n",
    "    rhoDM_f = skewnorm.fit(rhoDM)\n",
    "    rhob_f = skewnorm.fit(rhob)\n",
    "    rhoDM_fit_n.append(rhoDM_f)\n",
    "    rhob_fit_n.append(rhob_f)\n",
    "\n",
    "    print(\"calculating HDI...\")\n",
    "    rhoDM_low68, rhoDM_high68 = hdi(lambda x: skewnorm.pdf(x, *rhoDM_f), perc=0.68, res=1E3, min=-5, max=14)\n",
    "    rhoDM_low90, rhoDM_high90 = hdi(lambda x: skewnorm.pdf(x, *rhoDM_f), perc=0.90, res=1E3, min=-5, max=14)\n",
    "    rhoDM_low95, rhoDM_high95 = hdi(lambda x: skewnorm.pdf(x, *rhoDM_f), perc=0.95, res=1E3, min=-5, max=14)\n",
    "    rhoDM_mode = find_max(lambda x: skewnorm.pdf(x, *rhoDM_f), x0=0.0)[0]\n",
    "    rhoDM_v_n.append([rhoDM_mode, rhoDM_low68, rhoDM_high68, rhoDM_low90, rhoDM_high90, rhoDM_low95, rhoDM_high95])\n",
    "\n",
    "    rhob_low68, rhob_high68 = hdi(lambda x: skewnorm.pdf(x, *rhob_f), perc=0.68, res=1E3, min=-5, max=14)\n",
    "    rhob_low90, rhob_high90 = hdi(lambda x: skewnorm.pdf(x, *rhob_f), perc=0.90, res=1E3, min=-5, max=14)\n",
    "    rhob_low95, rhob_high95 = hdi(lambda x: skewnorm.pdf(x, *rhob_f), perc=0.95, res=1E3, min=-5, max=14)\n",
    "    rhob_mode = find_max(lambda x: skewnorm.pdf(x, *rhob_f), x0=0.0)[0]\n",
    "    rhob_v_n.append([rhob_mode, rhob_low68, rhob_high68, rhob_low90, rhob_high90, rhob_low95, rhob_high95])"
   ]
  },
  {
   "cell_type": "code",
   "execution_count": 18,
   "metadata": {},
   "outputs": [
    {
     "data": {
      "image/png": "[encoded data removed]",
      "text/plain": [
       "<Figure size 576x432 with 1 Axes>"
      ]
     },
     "metadata": {
      "needs_background": "light"
     },
     "output_type": "display_data"
    }
   ],
   "source": [
    "c = np.arange(500, 3001, 500)\n",
    "\n",
    "rhoDM_v_n = np.array(rhoDM_v_n)\n",
    "rhoDM_mode = rhoDM_v_n[:,0]\n",
    "rhoDM_low68 = rhoDM_v_n[:,1]\n",
    "rhoDM_high68 = rhoDM_v_n[:,2]\n",
    "rhoDM_err_low68 = rhoDM_mode-rhoDM_low68\n",
    "rhoDM_err_high68 = rhoDM_high68-rhoDM_mode\n",
    "rhoDM_low90 = rhoDM_v_n[:,3]\n",
    "rhoDM_high90 = rhoDM_v_n[:,4]\n",
    "rhoDM_err_low90 = rhoDM_mode-rhoDM_low90\n",
    "rhoDM_err_high90 = rhoDM_high90-rhoDM_mode\n",
    "rhoDM_low95 = rhoDM_v_n[:,5]\n",
    "rhoDM_high95 = rhoDM_v_n[:,6]\n",
    "rhoDM_err_low95 = rhoDM_mode-rhoDM_low95\n",
    "rhoDM_err_high95 = rhoDM_high95-rhoDM_mode\n",
    "\n",
    "rhob_v_n = np.array(rhob_v_n)\n",
    "rhob_mode = rhob_v_n[:,0]\n",
    "rhob_low68 = rhob_v_n[:,1]\n",
    "rhob_high68 = rhob_v_n[:,2]\n",
    "rhob_err_low68 = rhob_mode-rhob_low68\n",
    "rhob_err_high68 = rhob_high68-rhob_mode\n",
    "rhob_low90 = rhob_v_n[:,3]\n",
    "rhob_high90 = rhob_v_n[:,4]\n",
    "rhob_err_low90 = rhob_mode-rhob_low90\n",
    "rhob_err_high90 = rhob_high90-rhob_mode\n",
    "rhob_low95 = rhob_v_n[:,5]\n",
    "rhob_high95 = rhob_v_n[:,6]\n",
    "rhob_err_low95 = rhob_mode-rhob_low95\n",
    "rhob_err_high95 = rhob_high95-rhob_mode\n",
    "\n",
    "# plot vertical line for each rho with respect to their c\n",
    "fig, ax = plt.subplots(figsize=(8, 6))\n",
    "ax.errorbar(c, rhoDM_mode, yerr=[rhoDM_err_low95, rhoDM_err_high95], fmt='o', color='blue', capsize=3, alpha=0.5, elinewidth=3, markeredgewidth=1)\n",
    "ax.errorbar(c, rhoDM_mode, yerr=[rhoDM_err_low90, rhoDM_err_high90], fmt='o', color='blue', capsize=3, alpha=0.5, elinewidth=3, markeredgewidth=1)\n",
    "ax.errorbar(c, rhoDM_mode, yerr=[rhoDM_err_low68, rhoDM_err_high68], fmt='o', color='blue', capsize=3, label=r'$\\rho_{DM}$', elinewidth=3, markeredgewidth=1)\n",
    "ax.errorbar(c, rhob_mode, yerr=[rhob_err_low95, rhob_err_high95], fmt='o', color='red', capsize=3, elinewidth=3, alpha=0.5, markeredgewidth=1)\n",
    "ax.errorbar(c, rhob_mode, yerr=[rhob_err_low90, rhob_err_high90], fmt='o', color='red', capsize=3, elinewidth=3, alpha=0.5, markeredgewidth=1)\n",
    "ax.errorbar(c, rhob_mode, yerr=[rhob_err_low68, rhob_err_high68], fmt='o', color='red', capsize=3, elinewidth=3, label=r'$\\rho_{b}$', markeredgewidth=1)\n",
    "ax.axhline(y=rhob0_mode, color='black', linestyle='--')\n",
    "cs = np.linspace(200, 3300, 100)\n",
    "ax.fill_between(cs, rhob0_low68, rhob0_high68, color='black', alpha=0.1)\n",
    "ax.fill_between(cs, rhob0_low90, rhob0_high90, color='black', alpha=0.1)\n",
    "ax.fill_between(cs, rhob0_low95, rhob0_high95, color='black', alpha=0.1, label=r'$\\rho_{b0}$')\n",
    "# ax.axhline(y=rhoDM_com_mode, color='black', linestyle='--')\n",
    "# ax.fill_between(cs, rhoDM_com_low68, rhoDM_com_high68, color='black', alpha=0.1)\n",
    "# ax.fill_between(cs, rhoDM_com_low90, rhoDM_com_high90, color='black', alpha=0.1)\n",
    "# ax.fill_between(cs, rhoDM_com_low95, rhoDM_com_high95, color='black', alpha=0.2, label=r'$\\rho_{\\textup{comb,DM}}$')\n",
    "ax.axhline(y=1.6, color='black', linestyle='--')\n",
    "ax.set_xlabel(r'$N$', fontsize=16)\n",
    "ax.set_ylabel(r'$\\rho\\times 10^{-2}$ [$M_{\\odot}/$pc$^{3}$]', fontsize=16)\n",
    "ax.set_xlim(200, 3300)\n",
    "# ax.set_ylim(-5.0, 14.0)\n",
    "ax.set_title(\"Dark Matter \\& Baryon Density\", fontsize=16)\n",
    "ax.grid()\n",
    "ax.legend(fontsize=10)\n",
    "plt.tight_layout()\n",
    "plt.savefig('rhoDM_n.pdf', dpi=200)\n",
    "plt.show()"
   ]
  },
  {
   "cell_type": "code",
   "execution_count": 20,
   "metadata": {},
   "outputs": [
    {
     "name": "stdout",
     "output_type": "stream",
     "text": [
      "500 & 4.98 & [2.97, 7.06] & [1.68, 8.45] & [1.07, 9.13] \\\\\n",
      "1000 & 1.13 & [0.25, 2.04] & [-0.30, 2.65] & [-0.59, 2.93] \\\\\n",
      "1500 & 1.12 & [0.21, 2.04] & [-0.36, 2.65] & [-0.64, 2.93] \\\\\n",
      "2000 & 1.79 & [0.97, 2.63] & [0.44, 3.18] & [0.21, 3.46] \\\\\n",
      "2500 & 1.27 & [0.52, 2.08] & [0.02, 2.61] & [-0.23, 2.85] \\\\\n",
      "3000 & 2.36 & [1.60, 3.12] & [1.12, 3.63] & [0.90, 3.88] \\\\\n"
     ]
    }
   ],
   "source": [
    "for i, n in enumerate([500, 1000, 1500, 2000, 2500, 3000]):\n",
    "    print(f\"{n} & {rhoDM_mode[i]:.2f} & [{rhoDM_low68[i]:.2f}, {rhoDM_high68[i]:.2f}] & [{rhoDM_low90[i]:.2f}, {rhoDM_high90[i]:.2f}] & [{rhoDM_low95[i]:.2f}, {rhoDM_high95[i]:.2f}] \\\\\\\\\")"
   ]
  }
 ],
 "metadata": {
  "kernelspec": {
   "display_name": "vaex",
   "language": "python",
   "name": "python3"
  },
  "language_info": {
   "codemirror_mode": {
    "name": "ipython",
    "version": 3
   },
   "file_extension": ".py",
   "mimetype": "text/x-python",
   "name": "python",
   "nbconvert_exporter": "python",
   "pygments_lexer": "ipython3",
   "version": "3.8.10"
  },
  "orig_nbformat": 4
 },
 "nbformat": 4,
 "nbformat_minor": 2
}
