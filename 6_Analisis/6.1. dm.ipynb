{
 "cells": [
  {
   "cell_type": "code",
   "execution_count": 1,
   "metadata": {},
   "outputs": [],
   "source": [
    "import sys\n",
    "from os.path import join, abspath\n",
    "from glob import glob\n",
    "import numpy as np\n",
    "import vaex\n",
    "from tqdm import tqdm\n",
    "import matplotlib.pyplot as plt\n",
    "from time import time\n",
    "from scipy.optimize import curve_fit\n",
    "from scipy.stats import norm, skewnorm"
   ]
  },
  {
   "cell_type": "code",
   "execution_count": 2,
   "metadata": {},
   "outputs": [
    {
     "data": {
      "text/plain": [
       "'/home2/s20321005/Thesis-Project'"
      ]
     },
     "execution_count": 2,
     "metadata": {},
     "output_type": "execute_result"
    }
   ],
   "source": [
    "# import utils\n",
    "root_dir = abspath(join('..'))\n",
    "root_dir"
   ]
  },
  {
   "cell_type": "code",
   "execution_count": 3,
   "metadata": {},
   "outputs": [
    {
     "data": {
      "text/plain": [
       "['/home2/s20321005/Thesis-Project/6_Analisis',\n",
       " '/home2/s20321005/.conda/envs/vaex/lib/python38.zip',\n",
       " '/home2/s20321005/.conda/envs/vaex/lib/python3.8',\n",
       " '/home2/s20321005/.conda/envs/vaex/lib/python3.8/lib-dynload',\n",
       " '',\n",
       " '/home2/s20321005/.local/lib/python3.8/site-packages',\n",
       " '/home2/s20321005/.conda/envs/vaex/lib/python3.8/site-packages',\n",
       " '/home2/s20321005/Thesis-Project']"
      ]
     },
     "execution_count": 3,
     "metadata": {},
     "output_type": "execute_result"
    }
   ],
   "source": [
    "if root_dir not in sys.path:\n",
    "    sys.path.append(root_dir)\n",
    "sys.path"
   ]
  },
  {
   "cell_type": "code",
   "execution_count": 4,
   "metadata": {},
   "outputs": [],
   "source": [
    "from utils import style, hdi, load_spectral_types"
   ]
  },
  {
   "cell_type": "code",
   "execution_count": 5,
   "metadata": {},
   "outputs": [
    {
     "data": {
      "text/html": [
       "<div>\n",
       "<style scoped>\n",
       "    .dataframe tbody tr th:only-of-type {\n",
       "        vertical-align: middle;\n",
       "    }\n",
       "\n",
       "    .dataframe tbody tr th {\n",
       "        vertical-align: top;\n",
       "    }\n",
       "\n",
       "    .dataframe thead th {\n",
       "        text-align: right;\n",
       "    }\n",
       "</style>\n",
       "<table border=\"1\" class=\"dataframe\">\n",
       "  <thead>\n",
       "    <tr style=\"text-align: right;\">\n",
       "      <th></th>\n",
       "      <th>SpT</th>\n",
       "      <th>M_J</th>\n",
       "      <th>J-H</th>\n",
       "      <th>H-Ks</th>\n",
       "      <th>J-K</th>\n",
       "    </tr>\n",
       "  </thead>\n",
       "  <tbody>\n",
       "    <tr>\n",
       "      <th>0</th>\n",
       "      <td>O9V</td>\n",
       "      <td>-3.44</td>\n",
       "      <td>-0.164</td>\n",
       "      <td>-0.071</td>\n",
       "      <td>-0.235</td>\n",
       "    </tr>\n",
       "    <tr>\n",
       "      <th>1</th>\n",
       "      <td>O9.5V</td>\n",
       "      <td>-3.30</td>\n",
       "      <td>-0.161</td>\n",
       "      <td>-0.069</td>\n",
       "      <td>-0.230</td>\n",
       "    </tr>\n",
       "    <tr>\n",
       "      <th>2</th>\n",
       "      <td>B0V</td>\n",
       "      <td>-3.17</td>\n",
       "      <td>-0.159</td>\n",
       "      <td>-0.067</td>\n",
       "      <td>-0.226</td>\n",
       "    </tr>\n",
       "    <tr>\n",
       "      <th>3</th>\n",
       "      <td>B0.5V</td>\n",
       "      <td>-2.80</td>\n",
       "      <td>-0.153</td>\n",
       "      <td>-0.063</td>\n",
       "      <td>-0.216</td>\n",
       "    </tr>\n",
       "    <tr>\n",
       "      <th>4</th>\n",
       "      <td>B1V</td>\n",
       "      <td>-2.33</td>\n",
       "      <td>-0.148</td>\n",
       "      <td>-0.059</td>\n",
       "      <td>-0.207</td>\n",
       "    </tr>\n",
       "    <tr>\n",
       "      <th>...</th>\n",
       "      <td>...</td>\n",
       "      <td>...</td>\n",
       "      <td>...</td>\n",
       "      <td>...</td>\n",
       "      <td>...</td>\n",
       "    </tr>\n",
       "    <tr>\n",
       "      <th>95</th>\n",
       "      <td>T6V</td>\n",
       "      <td>15.34</td>\n",
       "      <td>0.100</td>\n",
       "      <td>-0.030</td>\n",
       "      <td>0.070</td>\n",
       "    </tr>\n",
       "    <tr>\n",
       "      <th>96</th>\n",
       "      <td>T7V</td>\n",
       "      <td>15.83</td>\n",
       "      <td>0.000</td>\n",
       "      <td>0.000</td>\n",
       "      <td>0.000</td>\n",
       "    </tr>\n",
       "    <tr>\n",
       "      <th>97</th>\n",
       "      <td>T7.5V</td>\n",
       "      <td>16.61</td>\n",
       "      <td>0.200</td>\n",
       "      <td>-0.050</td>\n",
       "      <td>0.150</td>\n",
       "    </tr>\n",
       "    <tr>\n",
       "      <th>98</th>\n",
       "      <td>T8V</td>\n",
       "      <td>17.30</td>\n",
       "      <td>0.200</td>\n",
       "      <td>-0.050</td>\n",
       "      <td>0.150</td>\n",
       "    </tr>\n",
       "    <tr>\n",
       "      <th>99</th>\n",
       "      <td>T9V</td>\n",
       "      <td>18.51</td>\n",
       "      <td>0.100</td>\n",
       "      <td>-0.200</td>\n",
       "      <td>-0.100</td>\n",
       "    </tr>\n",
       "  </tbody>\n",
       "</table>\n",
       "<p>100 rows × 5 columns</p>\n",
       "</div>"
      ],
      "text/plain": [
       "      SpT    M_J    J-H   H-Ks    J-K\n",
       "0     O9V  -3.44 -0.164 -0.071 -0.235\n",
       "1   O9.5V  -3.30 -0.161 -0.069 -0.230\n",
       "2     B0V  -3.17 -0.159 -0.067 -0.226\n",
       "3   B0.5V  -2.80 -0.153 -0.063 -0.216\n",
       "4     B1V  -2.33 -0.148 -0.059 -0.207\n",
       "..    ...    ...    ...    ...    ...\n",
       "95    T6V  15.34  0.100 -0.030  0.070\n",
       "96    T7V  15.83  0.000  0.000  0.000\n",
       "97  T7.5V  16.61  0.200 -0.050  0.150\n",
       "98    T8V  17.30  0.200 -0.050  0.150\n",
       "99    T9V  18.51  0.100 -0.200 -0.100\n",
       "\n",
       "[100 rows x 5 columns]"
      ]
     },
     "execution_count": 5,
     "metadata": {},
     "output_type": "execute_result"
    }
   ],
   "source": [
    "sp = load_spectral_types()\n",
    "sp"
   ]
  },
  {
   "cell_type": "code",
   "execution_count": 6,
   "metadata": {},
   "outputs": [],
   "source": [
    "style(name=\"seaborn-notebook\")"
   ]
  },
  {
   "cell_type": "code",
   "execution_count": 7,
   "metadata": {},
   "outputs": [
    {
     "data": {
      "text/plain": [
       "'/home2/s20321005/Thesis-Project/Data'"
      ]
     },
     "execution_count": 7,
     "metadata": {},
     "output_type": "execute_result"
    }
   ],
   "source": [
    "root_data_dir = abspath(join(root_dir, \"Data\"))\n",
    "root_data_dir"
   ]
  },
  {
   "cell_type": "code",
   "execution_count": 8,
   "metadata": {},
   "outputs": [],
   "source": [
    "data_baryon_dir = join(root_data_dir, \"Baryon\")\n",
    "# load baryons components\n",
    "df_baryon = vaex.open(join(data_baryon_dir, \"baryon.hdf5\"))\n",
    "rhos = df_baryon[\"rho\"].to_numpy()  # Msun/pc^3\n",
    "sigmaz = df_baryon[\"sigma_z\"].to_numpy() # km/s\n",
    "\n",
    "e_rhos = df_baryon[\"e_rho\"].to_numpy()  # Msun/pc^3\n",
    "e_sigmaz = df_baryon[\"e_sigma_z\"].to_numpy() # km/s\n",
    "dpi=100"
   ]
  },
  {
   "cell_type": "code",
   "execution_count": 9,
   "metadata": {},
   "outputs": [
    {
     "data": {
      "text/plain": [
       "array([[-0.019     ,  0.12713703],\n",
       "       [ 0.12713703,  0.19024014],\n",
       "       [ 0.19024014,  0.22021412],\n",
       "       [ 0.22021412,  0.24230021],\n",
       "       [ 0.24230021,  0.26004796],\n",
       "       [ 0.26004796,  0.27621813],\n",
       "       [ 0.27621813,  0.28923315],\n",
       "       [ 0.28923315,  0.30106498],\n",
       "       [ 0.30106498,  0.31329121],\n",
       "       [ 0.31329121,  0.32512304],\n",
       "       [ 0.32512304,  0.3353773 ],\n",
       "       [ 0.3353773 ,  0.34523716],\n",
       "       [ 0.34523716,  0.35509702],\n",
       "       [ 0.35509702,  0.36535128],\n",
       "       [ 0.36535128,  0.37402796]])"
      ]
     },
     "execution_count": 9,
     "metadata": {},
     "output_type": "execute_result"
    }
   ],
   "source": [
    "boundaries = np.load(join(root_data_dir, \"boundaries.npy\"))\n",
    "boundaries"
   ]
  },
  {
   "cell_type": "code",
   "execution_count": 10,
   "metadata": {},
   "outputs": [
    {
     "data": {
      "text/plain": [
       "array([0.05406852, 0.15868859, 0.20522713, 0.23125717, 0.25117408,\n",
       "       0.26813305, 0.28272564, 0.29514907, 0.3071781 , 0.31920713,\n",
       "       0.33025017, 0.34030723, 0.35016709, 0.36022415, 0.36968962])"
      ]
     },
     "execution_count": 10,
     "metadata": {},
     "output_type": "execute_result"
    }
   ],
   "source": [
    "c1 = boundaries[:, 0]\n",
    "c2 = boundaries[:, 1]\n",
    "c = (c1 + c2) / 2\n",
    "c"
   ]
  },
  {
   "cell_type": "code",
   "execution_count": 11,
   "metadata": {},
   "outputs": [
    {
     "data": {
      "text/plain": [
       "'/home2/s20321005/Thesis-Project/Data/MCMC-no/dm/data'"
      ]
     },
     "execution_count": 11,
     "metadata": {},
     "output_type": "execute_result"
    }
   ],
   "source": [
    "mcmc_dir = join(root_data_dir, \"MCMC-no\", \"dm\", \"data\")\n",
    "mcmc_dir"
   ]
  },
  {
   "cell_type": "code",
   "execution_count": 12,
   "metadata": {},
   "outputs": [
    {
     "data": {
      "text/plain": [
       "['/home2/s20321005/Thesis-Project/Data/MCMC-no/dm/data/chain-(-0.019)_(0.127).npy',\n",
       " '/home2/s20321005/Thesis-Project/Data/MCMC-no/dm/data/chain-(0.127)_(0.190).npy',\n",
       " '/home2/s20321005/Thesis-Project/Data/MCMC-no/dm/data/chain-(0.190)_(0.220).npy',\n",
       " '/home2/s20321005/Thesis-Project/Data/MCMC-no/dm/data/chain-(0.220)_(0.242).npy',\n",
       " '/home2/s20321005/Thesis-Project/Data/MCMC-no/dm/data/chain-(0.242)_(0.260).npy',\n",
       " '/home2/s20321005/Thesis-Project/Data/MCMC-no/dm/data/chain-(0.260)_(0.276).npy',\n",
       " '/home2/s20321005/Thesis-Project/Data/MCMC-no/dm/data/chain-(0.276)_(0.289).npy',\n",
       " '/home2/s20321005/Thesis-Project/Data/MCMC-no/dm/data/chain-(0.289)_(0.301).npy',\n",
       " '/home2/s20321005/Thesis-Project/Data/MCMC-no/dm/data/chain-(0.301)_(0.313).npy',\n",
       " '/home2/s20321005/Thesis-Project/Data/MCMC-no/dm/data/chain-(0.313)_(0.325).npy',\n",
       " '/home2/s20321005/Thesis-Project/Data/MCMC-no/dm/data/chain-(0.325)_(0.335).npy',\n",
       " '/home2/s20321005/Thesis-Project/Data/MCMC-no/dm/data/chain-(0.335)_(0.345).npy',\n",
       " '/home2/s20321005/Thesis-Project/Data/MCMC-no/dm/data/chain-(0.345)_(0.355).npy',\n",
       " '/home2/s20321005/Thesis-Project/Data/MCMC-no/dm/data/chain-(0.355)_(0.365).npy',\n",
       " '/home2/s20321005/Thesis-Project/Data/MCMC-no/dm/data/chain-(0.365)_(0.374).npy']"
      ]
     },
     "execution_count": 12,
     "metadata": {},
     "output_type": "execute_result"
    }
   ],
   "source": [
    "files = glob(join(mcmc_dir, \"chain-*\"))\n",
    "files.sort()\n",
    "files"
   ]
  },
  {
   "attachments": {},
   "cell_type": "markdown",
   "metadata": {},
   "source": [
    "## tes"
   ]
  },
  {
   "cell_type": "code",
   "execution_count": 13,
   "metadata": {},
   "outputs": [
    {
     "data": {
      "text/plain": [
       "(2500, 330, 33)"
      ]
     },
     "execution_count": 13,
     "metadata": {},
     "output_type": "execute_result"
    }
   ],
   "source": [
    "index = 0\n",
    "df = np.load(files[index])\n",
    "df.shape"
   ]
  },
  {
   "cell_type": "code",
   "execution_count": 14,
   "metadata": {},
   "outputs": [],
   "source": [
    "rhob = df[:, :, 12:24]\n",
    "rhob = rhob.reshape(-1, 12)\n",
    "rhob = rhob.sum(axis=1)/1E-2\n",
    "rhoDM = df[:, :, 24].reshape(-1)/1E-2\n",
    "length = len(rhob)\n",
    "rhob0 = np.empty((length, 12))\n",
    "for i in range(12):\n",
    "    rhob0[:,i] = norm.rvs(loc=rhos[i], scale=e_rhos[i], size=length)\n",
    "rhob0 = rhob0.sum(axis=1)/1E-2"
   ]
  },
  {
   "cell_type": "code",
   "execution_count": 15,
   "metadata": {},
   "outputs": [
    {
     "data": {
      "image/png": "[encoded data removed]",
      "text/plain": [
       "<Figure size 576x432 with 1 Axes>"
      ]
     },
     "metadata": {
      "needs_background": "light"
     },
     "output_type": "display_data"
    }
   ],
   "source": [
    "rho = np.linspace(-5, 14, 200)\n",
    "rhoDM_num, _ = np.histogram(rhoDM, bins=rho)\n",
    "rhob_num, _ = np.histogram(rhob, bins=rho)\n",
    "rhob0_num, _ = np.histogram(rhob0, bins=rho)\n",
    "rhomid = 0.5*(rho[1:] + rho[:-1])\n",
    "# plot step\n",
    "fig, ax = plt.subplots(figsize=(8, 6))\n",
    "ax.step(rhomid, rhoDM_num, label='DM')\n",
    "ax.step(rhomid, rhob_num, label='Baryon')\n",
    "ax.step(rhomid, rhob0_num, label='Baryon0')\n",
    "ax.set_xlabel(r'$\\rho$')\n",
    "ax.set_ylabel('Number')\n",
    "ax.legend()\n",
    "plt.show()"
   ]
  },
  {
   "cell_type": "code",
   "execution_count": 16,
   "metadata": {},
   "outputs": [],
   "source": [
    "rhoDM_sample = np.random.choice(rhoDM, size=50_000, replace=False)\n",
    "rhoDM_fit = skewnorm.fit(rhoDM_sample)\n",
    "rhob_sample = np.random.choice(rhob, size=50_000, replace=False)\n",
    "rhob_fit = skewnorm.fit(rhob_sample)\n",
    "rhob0_sample = np.random.choice(rhob0, size=50_000, replace=False)\n",
    "rhob0_fit = norm.fit(rhob0_sample)"
   ]
  },
  {
   "cell_type": "code",
   "execution_count": 17,
   "metadata": {},
   "outputs": [
    {
     "data": {
      "text/plain": [
       "((0.8030213131509178, 1.538774788344778, 1.0219778478570198),\n",
       " (0.00018209300547549097, 8.77732233104922, 0.7126603052810967),\n",
       " (8.887744695781969, 0.7108491033018739))"
      ]
     },
     "execution_count": 17,
     "metadata": {},
     "output_type": "execute_result"
    },
    {
     "data": {
      "image/png": "[encoded data removed]",
      "text/plain": [
       "<Figure size 576x432 with 1 Axes>"
      ]
     },
     "metadata": {
      "needs_background": "light"
     },
     "output_type": "display_data"
    }
   ],
   "source": [
    "# plot\n",
    "rho = np.linspace(-5, 14, 100)\n",
    "fig, ax = plt.subplots(figsize=(8, 6))\n",
    "ax.hist(rhoDM, bins=rho, density=True, label='DM', ec='k', alpha=0.5, color='C0')\n",
    "ax.hist(rhob, bins=rho, density=True, label='Baryon', ec='k', alpha=0.5,color='C1')\n",
    "ax.hist(rhob0, bins=rho, density=True, label='Baryon0', ec='k', alpha=0.5, color='C2')\n",
    "ax.plot(rho, skewnorm.pdf(rho, *rhoDM_fit), label='DM fit', color='C0',  ls='--')\n",
    "ax.plot(rho, skewnorm.pdf(rho, *rhob_fit), label='Baryon fit', color='C1', ls='--')\n",
    "ax.plot(rho, norm.pdf(rho, *rhob0_fit), label='Baryon0 fit', color='C2', ls='--')\n",
    "ax.set_xlabel(r'$\\rho$')\n",
    "ax.set_ylabel(r'$f$')\n",
    "ax.legend()\n",
    "rhoDM_fit, rhob_fit, rhob0_fit"
   ]
  },
  {
   "cell_type": "code",
   "execution_count": 18,
   "metadata": {},
   "outputs": [
    {
     "name": "stdout",
     "output_type": "stream",
     "text": [
      "rhoDM = 2.01 +0.89/-0.86\n",
      "rhob = 8.78 +0.70/-0.71\n",
      "rhob0 = 8.89 +0.70/-0.71\n"
     ]
    },
    {
     "data": {
      "image/png": "[encoded data removed]",
      "text/plain": [
       "<Figure size 576x432 with 1 Axes>"
      ]
     },
     "metadata": {
      "needs_background": "light"
     },
     "output_type": "display_data"
    }
   ],
   "source": [
    "sigma = np.array([68, 90, 95])\n",
    "alpha = 1 - sigma/100\n",
    "\n",
    "hpd, modes = hdi(lambda x: skewnorm.pdf(x, *rhoDM_fit), -3, 7, alpha=alpha[0])\n",
    "rhoDM_mode = modes[0]\n",
    "rhoDM_low, rhoDM_high = hpd[0]\n",
    "\n",
    "hpd, modes = hdi(lambda x: skewnorm.pdf(x, *rhob_fit), 5, 12.5, alpha=alpha[0])\n",
    "rhob_mode = modes[0]\n",
    "rhob_low, rhob_high = hpd[0]\n",
    "\n",
    "hpd, modes = hdi(lambda x: norm.pdf(x, *rhob0_fit), 5, 12.5, alpha=alpha[0])\n",
    "rhob0_mode = modes[0]\n",
    "rhob0_low, rhob0_high = hpd[0]\n",
    "\n",
    "# plot\n",
    "rho = np.linspace(-5, 14, 50)\n",
    "fig, ax = plt.subplots(figsize=(8, 6))\n",
    "ax.hist(rhoDM, bins=rho, density=True, label='DM', ec='k', alpha=0.5, color='C0')\n",
    "ax.hist(rhob, bins=rho, density=True, label='Baryon', ec='k', alpha=0.5,color='C1')\n",
    "ax.hist(rhob0, bins=rho, density=True, label='Baryon0', ec='k', alpha=0.5, color='C2')\n",
    "ax.plot(rho, skewnorm.pdf(rho, *rhoDM_fit), label='DM fit', color='C0',  ls='--')\n",
    "ax.plot(rho, skewnorm.pdf(rho, *rhob_fit), label='Baryon fit', color='C1', ls='--')\n",
    "ax.plot(rho, norm.pdf(rho, *rhob0_fit), label='Baryon0 fit', color='C2', ls='--')\n",
    "ax.axvline(rhoDM_mode, color='C0', ls='-.')\n",
    "ax.axvline(rhob_mode, color='C1', ls='-.')\n",
    "ax.axvline(rhob0_mode, color='C2', ls='-.')\n",
    "ax.axvline(rhoDM_low, color='C0', ls='--')\n",
    "ax.axvline(rhoDM_high, color='C0', ls='--')\n",
    "ax.axvline(rhob_low, color='C1', ls='--')\n",
    "ax.axvline(rhob_high, color='C1', ls='--')\n",
    "ax.axvline(rhob0_low, color='C2', ls='--')\n",
    "ax.axvline(rhob0_high, color='C2', ls='--')\n",
    "ax.set_xlabel(r'$\\rho$')\n",
    "ax.set_ylabel(r'$f$')\n",
    "ax.legend()\n",
    "print(f'rhoDM = {rhoDM_mode:.02f} +{rhoDM_high-rhoDM_mode:.02f}/-{rhoDM_mode-rhoDM_low:.02f}')\n",
    "print(f'rhob = {rhob_mode:.02f} +{rhob_high-rhob_mode:.02f}/-{rhob_mode-rhob_low:.02f}')\n",
    "print(f'rhob0 = {rhob0_mode:.02f} +{rhob0_high-rhob0_mode:.02f}/-{rhob0_mode-rhob0_low:.02f}')"
   ]
  },
  {
   "cell_type": "code",
   "execution_count": 19,
   "metadata": {},
   "outputs": [
    {
     "name": "stdout",
     "output_type": "stream",
     "text": [
      "rhob0 = 8.89 +0.70/-0.71\n"
     ]
    },
    {
     "data": {
      "image/png": "[encoded data removed]",
      "text/plain": [
       "<Figure size 576x432 with 1 Axes>"
      ]
     },
     "metadata": {
      "needs_background": "light"
     },
     "output_type": "display_data"
    }
   ],
   "source": [
    "rhob0_low = []\n",
    "rhob0_high = []\n",
    "for i, alp in enumerate(alpha):\n",
    "    hpd, modes = hdi(lambda x: norm.pdf(x, *rhob0_fit), low=5, high=12.5, alpha=alp)\n",
    "    low, high = hpd[0]\n",
    "    rhob0_low.append(low)\n",
    "    rhob0_high.append(high)\n",
    "# plot\n",
    "rho = np.linspace(5, 12.5, 50)\n",
    "fig, ax = plt.subplots(figsize=(8, 6))\n",
    "ax.hist(rhob0, bins=rho, density=True, label='Baryon0', ec='k', alpha=0.5, color='C2')\n",
    "ax.plot(rho, norm.pdf(rho, *rhob0_fit), label='Baryon0 fit', color='C2', ls='--')\n",
    "ax.axvline(rhob0_mode, color='C2', ls='-.')\n",
    "for low, high in zip(rhob0_low, rhob0_high):\n",
    "    ax.axvline(low, color='C2', ls='--')\n",
    "    ax.axvline(high, color='C2', ls='--')\n",
    "ax.set_xlabel(r'$\\rho$')\n",
    "ax.set_ylabel(r'$f$')\n",
    "ax.legend()\n",
    "print(f'rhob0 = {rhob0_mode:.02f} +{rhob0_high[0]-rhob0_mode:.02f}/-{rhob0_mode-rhob0_low[0]:.02f}')"
   ]
  },
  {
   "cell_type": "code",
   "execution_count": 20,
   "metadata": {},
   "outputs": [
    {
     "name": "stderr",
     "output_type": "stream",
     "text": [
      "100%|██████████| 15/15 [00:08<00:00,  1.84it/s]\n"
     ]
    }
   ],
   "source": [
    "from tqdm import tqdm\n",
    "\n",
    "rhoDM_modes = []\n",
    "rhoDM_errs = []\n",
    "rhob_modes = []\n",
    "rhob_errs = []\n",
    "rhoDM_fits = []\n",
    "\n",
    "for file in tqdm(files):\n",
    "    df = np.load(file)\n",
    "    rhob = df[:, :, 12:24]\n",
    "    rhob = rhob.reshape(-1, 12)\n",
    "    rhob = rhob.sum(axis=1)/1E-2\n",
    "    rhoDM = df[:, :, 24].reshape(-1)/1E-2\n",
    "    # print(\"fitting...\")\n",
    "    rhoDM_sample = np.random.choice(rhoDM, size=10_000, replace=False)\n",
    "    rhoDM_fit = skewnorm.fit(rhoDM_sample)\n",
    "    rhoDM_fits.append(rhoDM_fit)\n",
    "    rhob_sample = np.random.choice(rhob, size=10_000, replace=False)\n",
    "    rhob_fit = skewnorm.fit(rhob_sample)\n",
    "    # print(\"calculating HDI...\")\n",
    "    rhoDM_err = []\n",
    "    rhob_err = []\n",
    "    rhoDM_mode = None\n",
    "    rhob_mode = None\n",
    "    for i, alp in enumerate(alpha):\n",
    "        hpd, modes = hdi(lambda x: skewnorm.pdf(x, *rhoDM_fit), -5, 10, alpha=alp)\n",
    "        rhoDM_mode = modes[0]\n",
    "        low, high = hpd[0]\n",
    "        rhoDM_err.append({'alpha': alp, 'low': low, 'high': high})\n",
    "\n",
    "        hpd, modes = hdi(lambda x: skewnorm.pdf(x, *rhob_fit), 5, 15, alpha=alp)\n",
    "        rhob_mode = modes[0]\n",
    "        low, high = hpd[0]\n",
    "        rhob_err.append({'alpha': alp, 'low': low, 'high': high})\n",
    "    rhoDM_errs.append(rhoDM_err)\n",
    "    rhob_errs.append(rhob_err)\n",
    "    rhoDM_modes.append(rhoDM_mode)\n",
    "    rhob_modes.append(rhob_mode)"
   ]
  },
  {
   "cell_type": "code",
   "execution_count": 21,
   "metadata": {},
   "outputs": [
    {
     "data": {
      "text/plain": [
       "[(0.936804437914333, 1.4674218290298904, 1.063185764171319),\n",
       " (1.0615236604909424, 0.9803495248681422, 1.2009417617185667),\n",
       " (1.081427290716261, 3.0632820944577146, 1.4011956891835524),\n",
       " (1.0019705869697537, 5.427413529247667, 1.5513487347237302),\n",
       " (1.4569863012280482, 5.702385989567046, 2.025241046333104),\n",
       " (1.0811191094988821, 5.093922640589524, 1.8563966410401753),\n",
       " (1.0988952387730835, 3.694656607781223, 1.7586950946481292),\n",
       " (1.1052843060146351, 3.174010433682957, 1.8350864383007446),\n",
       " (1.0691408587139417, 1.457416435952104, 1.7604265348497234),\n",
       " (1.0709953186371415, 1.4072166001182087, 1.860810912024744),\n",
       " (0.9958123464979202, 1.598730929084347, 2.0239371611511228),\n",
       " (1.0142700513630085, 0.2858562098132337, 1.8237668212243032),\n",
       " (1.0289277520901368, -0.011435325003124226, 1.9288606995503894),\n",
       " (1.141811056375622, 1.5104773663763622, 2.129194360567994),\n",
       " (0.9838245435101729, -0.12180900499362238, 1.9426858788614636)]"
      ]
     },
     "execution_count": 21,
     "metadata": {},
     "output_type": "execute_result"
    }
   ],
   "source": [
    "rhoDM_fits"
   ]
  },
  {
   "cell_type": "code",
   "execution_count": 22,
   "metadata": {},
   "outputs": [
    {
     "data": {
      "text/plain": [
       "array([0.14613703, 0.06310311, 0.02997398, 0.02208609, 0.01774775,\n",
       "       0.01617017, 0.01301502, 0.01183183, 0.01222623, 0.01183183,\n",
       "       0.01025426, 0.00985986, 0.00985986, 0.01025426, 0.00867668])"
      ]
     },
     "execution_count": 22,
     "metadata": {},
     "output_type": "execute_result"
    }
   ],
   "source": [
    "dc = c2-c1\n",
    "dc"
   ]
  },
  {
   "cell_type": "code",
   "execution_count": 23,
   "metadata": {},
   "outputs": [
    {
     "data": {
      "text/plain": [
       "(-2.0, 5.0)"
      ]
     },
     "execution_count": 23,
     "metadata": {},
     "output_type": "execute_result"
    },
    {
     "data": {
      "image/png": "[encoded data removed]",
      "text/plain": [
       "<Figure size 432x288 with 1 Axes>"
      ]
     },
     "metadata": {
      "needs_background": "light"
     },
     "output_type": "display_data"
    }
   ],
   "source": [
    "# multiplying the rhoDM, but it became addition in log\n",
    "rho = np.linspace(-5, 14, 10000)\n",
    "log_rhoDM = None\n",
    "for p, dc_i in zip(rhoDM_fits, dc):\n",
    "    if log_rhoDM is None:\n",
    "        log_rhoDM = skewnorm.logpdf(rho, *p)\n",
    "    else:\n",
    "        log_rhoDM += skewnorm.logpdf(rho, *p)\n",
    "# turn into rhoDM\n",
    "rhoDM_com = np.exp(log_rhoDM)\n",
    "# normalize with max value\n",
    "rhoDM_com /= rhoDM_com.max()\n",
    "# plot\n",
    "fig, ax = plt.subplots()\n",
    "ax.plot(rho, rhoDM_com, label='rhoDM')\n",
    "ax.set_xlim(-2,5)"
   ]
  },
  {
   "cell_type": "code",
   "execution_count": 24,
   "metadata": {},
   "outputs": [
    {
     "data": {
      "text/plain": [
       "array([0.87058206, 0.58020283, 3.18002994, 0.37938919])"
      ]
     },
     "execution_count": 24,
     "metadata": {},
     "output_type": "execute_result"
    }
   ],
   "source": [
    "def skewpdf(x, *args):\n",
    "    A, other = args[0], args[1:]\n",
    "    return A*skewnorm.pdf(x, *other)\n",
    "\n",
    "rhoDM_com_fit, _ = curve_fit(skewpdf, rho, rhoDM_com, p0=[1, 1.0, 2.0, 1])\n",
    "rhoDM_com_fit"
   ]
  },
  {
   "cell_type": "code",
   "execution_count": 25,
   "metadata": {},
   "outputs": [
    {
     "data": {
      "text/plain": [
       "(0.0, 5.0)"
      ]
     },
     "execution_count": 25,
     "metadata": {},
     "output_type": "execute_result"
    },
    {
     "data": {
      "image/png": "[encoded data removed]",
      "text/plain": [
       "<Figure size 432x288 with 1 Axes>"
      ]
     },
     "metadata": {
      "needs_background": "light"
     },
     "output_type": "display_data"
    }
   ],
   "source": [
    "plt.plot(rho, rhoDM_com, label='rhoDM')\n",
    "plt.plot(rho, skewpdf(rho, *rhoDM_com_fit), label='rhoDM fit')\n",
    "plt.legend()\n",
    "plt.xlim(0,5)"
   ]
  },
  {
   "cell_type": "code",
   "execution_count": 26,
   "metadata": {},
   "outputs": [
    {
     "data": {
      "text/plain": [
       "(3.0,\n",
       " [{'sigma': array([68, 90, 95]), 'low': 2.78, 'high': 3.0},\n",
       "  {'sigma': array([68, 90, 95]), 'low': 2.6, 'high': 3.0},\n",
       "  {'sigma': array([68, 90, 95]), 'low': 2.51, 'high': 3.0}])"
      ]
     },
     "execution_count": 26,
     "metadata": {},
     "output_type": "execute_result"
    }
   ],
   "source": [
    "rhoDM_com_err = []\n",
    "rhoDM_com_mode = None\n",
    "for i, alp in enumerate(alpha):\n",
    "    hpd, modes = hdi(lambda x: skewpdf(x, *rhoDM_com_fit), low=0.5, high=3, alpha=alp)\n",
    "    low, high = hpd[0]\n",
    "    rhoDM_com_err.append({'sigma':sigma, 'low': low, 'high': high})\n",
    "    rhoDM_com_mode = modes[0]\n",
    "rhoDM_com_mode, rhoDM_com_err"
   ]
  },
  {
   "cell_type": "code",
   "execution_count": 27,
   "metadata": {},
   "outputs": [
    {
     "data": {
      "text/plain": [
       "(0.1355, 0.314)"
      ]
     },
     "execution_count": 27,
     "metadata": {},
     "output_type": "execute_result"
    }
   ],
   "source": [
    "A9 = sp[sp['SpT'] == 'A9V']['J-K'].values[0]\n",
    "F0 = sp[sp['SpT'] == 'F0V']['J-K'].values[0]\n",
    "b1 = (A9+F0)/2\n",
    "\n",
    "F9 = sp[sp['SpT'] == 'F9V']['J-K'].values[0]\n",
    "G0 = sp[sp['SpT'] == 'G0V']['J-K'].values[0]\n",
    "b2 = (F9+G0)/2\n",
    "b1, b2"
   ]
  },
  {
   "cell_type": "code",
   "execution_count": 31,
   "metadata": {},
   "outputs": [
    {
     "data": {
      "image/png": "[encoded data removed]",
      "text/plain": [
       "<Figure size 576x432 with 1 Axes>"
      ]
     },
     "metadata": {
      "needs_background": "light"
     },
     "output_type": "display_data"
    },
    {
     "data": {
      "text/plain": [
       "3.0"
      ]
     },
     "execution_count": 31,
     "metadata": {},
     "output_type": "execute_result"
    }
   ],
   "source": [
    "cs = np.linspace(c.min()-0.05, c.max()+0.01, 100)\n",
    "\n",
    "fig, ax = plt.subplots(figsize=(8, 6))\n",
    "ax.axhline(y=rhob0_mode, color='black', linestyle='--')\n",
    "for i in range(3):\n",
    "    low = np.array([err[i]['low'] for err in rhoDM_errs])\n",
    "    high = np.array([err[i]['high'] for err in rhoDM_errs])\n",
    "    dm_ax = ax.errorbar(c, rhoDM_modes, yerr=[rhoDM_modes-low, high-rhoDM_modes], fmt='o', color='blue', capsize=3, alpha=0.5, elinewidth=3, markeredgewidth=1)\n",
    "    low = np.array([err[i]['low'] for err in rhob_errs])\n",
    "    high = np.array([err[i]['high'] for err in rhob_errs])\n",
    "    rhob_ax = ax.errorbar(c-0.005, rhob_modes, yerr=[rhob_modes-low, high-rhob_modes], fmt='o', color='red', capsize=3, alpha=0.5, elinewidth=3, markeredgewidth=1)\n",
    "    rhob0_ax = ax.fill_between(cs, rhob0_low[i], rhob0_high[i], color='black', alpha=0.1)\n",
    "    # rhoDM_com_ax = ax.fill_between(cs, rhoDM_com_err[i]['low'], rhoDM_com_err[i]['high'], color='C0', alpha=0.1)\n",
    "    if i == 2:\n",
    "        # ax.legend([dm_ax, rhob_ax, rhob0_ax, rhoDM_com_ax], \n",
    "        #           [r'$\\rho_{\\textup{DM}}$', r'$\\rho_{b}$', r'$\\rho_{b0}$', r'$\\rho_{\\textup{DM,com}}$'],\n",
    "        #           loc='best', fontsize=12)\n",
    "        ax.legend([dm_ax, rhob_ax, rhob0_ax], \n",
    "                  [r'$\\rho_{\\textup{DM}}$', r'$\\rho_{b}$', r'$\\rho_{b0}$'],\n",
    "                  loc='best', fontsize=12)\n",
    "# real value\n",
    "# ax.axhline(y=rhoDM_com_mode, color='black', linestyle='--')\n",
    "ax.axvline(x=b1, color='black', linestyle='--')\n",
    "ax.axvline(x=b2, color='black', linestyle='--')\n",
    "ax.text(0.11, -2.5, r'$\\textup{A}$', fontsize=16)\n",
    "ax.text(0.23, -2.5, r'$\\textup{F}$', fontsize=16)\n",
    "ax.text(0.355, -2.5, r'$\\textup{G}$', fontsize=16)\n",
    "ax.set_xlabel(r'$J-K_s$', fontsize=16)\n",
    "ax.set_ylabel(r'$\\rho$ [$\\times 10^{-2}M_{\\odot}\\ $pc$^{-3}$]', fontsize=16)\n",
    "ax.set_xlim(cs.min(), cs.max())\n",
    "ax.set_title(\"Kerapatan Materi Gelap \\& Baryon\", fontsize=16)\n",
    "ax.grid()\n",
    "fig.savefig(join('img', 'rhoDM-dm.pdf'), dpi=70)\n",
    "plt.show()\n",
    "rhoDM_com_mode"
   ]
  },
  {
   "cell_type": "code",
   "execution_count": 58,
   "metadata": {},
   "outputs": [
    {
     "data": {
      "text/plain": [
       "[<matplotlib.lines.Line2D at 0x7fbfc7029be0>]"
      ]
     },
     "execution_count": 58,
     "metadata": {},
     "output_type": "execute_result"
    },
    {
     "data": {
      "image/png": "[encoded data removed]",
      "text/plain": [
       "<Figure size 432x288 with 1 Axes>"
      ]
     },
     "metadata": {
      "needs_background": "light"
     },
     "output_type": "display_data"
    }
   ],
   "source": [
    "def sine(x, amp, freq, phase, off):\n",
    "    return amp * np.sin(freq * x + phase) + off\n",
    "\n",
    "from scipy.optimize import curve_fit\n",
    "\n",
    "popt, _ = curve_fit(sine, c, np.log(rhoDM_modes), p0=[1, 1, 1,1])\n",
    "# popt = [1,1,0, 1]\n",
    "plt.scatter(c, rhoDM_modes)\n",
    "plt.plot(cs, np.exp(sine(cs, *popt)))"
   ]
  },
  {
   "cell_type": "code",
   "execution_count": 57,
   "metadata": {},
   "outputs": [
    {
     "data": {
      "text/plain": [
       "array([-0.90257774, 22.99886637, -1.00119079,  0.92970054])"
      ]
     },
     "execution_count": 57,
     "metadata": {},
     "output_type": "execute_result"
    }
   ],
   "source": [
    "popt"
   ]
  },
  {
   "cell_type": "code",
   "execution_count": 72,
   "metadata": {},
   "outputs": [
    {
     "data": {
      "text/plain": [
       "3.034765397695228"
      ]
     },
     "execution_count": 72,
     "metadata": {},
     "output_type": "execute_result"
    }
   ],
   "source": [
    "cc = np.linspace(0, 3.5, 10000)\n",
    "dc = cc[1] - cc[0]\n",
    "np.mean(np.exp(sine(cc, *popt)))"
   ]
  }
 ],
 "metadata": {
  "kernelspec": {
   "display_name": "vaex",
   "language": "python",
   "name": "python3"
  },
  "language_info": {
   "codemirror_mode": {
    "name": "ipython",
    "version": 3
   },
   "file_extension": ".py",
   "mimetype": "text/x-python",
   "name": "python",
   "nbconvert_exporter": "python",
   "pygments_lexer": "ipython3",
   "version": "3.8.10"
  },
  "orig_nbformat": 4
 },
 "nbformat": 4,
 "nbformat_minor": 2
}
