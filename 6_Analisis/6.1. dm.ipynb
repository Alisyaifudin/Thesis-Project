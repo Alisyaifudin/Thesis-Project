{
 "cells": [
  {
   "cell_type": "code",
   "execution_count": 1,
   "metadata": {
    "execution": {
     "iopub.execute_input": "2023-11-30T05:13:18.269873Z",
     "iopub.status.busy": "2023-11-30T05:13:18.269228Z",
     "iopub.status.idle": "2023-11-30T05:13:20.947805Z",
     "shell.execute_reply": "2023-11-30T05:13:20.947013Z",
     "shell.execute_reply.started": "2023-11-30T05:13:18.269803Z"
    }
   },
   "outputs": [],
   "source": [
    "import sys\n",
    "from os.path import join, abspath\n",
    "from glob import glob\n",
    "import numpy as np\n",
    "import vaex\n",
    "from tqdm import tqdm\n",
    "import matplotlib.pyplot as plt\n",
    "from time import time\n",
    "from scipy.optimize import curve_fit\n",
    "from scipy.stats import norm, skewnorm"
   ]
  },
  {
   "cell_type": "code",
   "execution_count": 2,
   "metadata": {
    "execution": {
     "iopub.execute_input": "2023-11-30T05:13:20.949405Z",
     "iopub.status.busy": "2023-11-30T05:13:20.948853Z",
     "iopub.status.idle": "2023-11-30T05:13:20.956934Z",
     "shell.execute_reply": "2023-11-30T05:13:20.955869Z",
     "shell.execute_reply.started": "2023-11-30T05:13:20.949377Z"
    }
   },
   "outputs": [
    {
     "data": {
      "text/plain": [
       "'/home2/s20321005/Thesis-Project'"
      ]
     },
     "execution_count": 2,
     "metadata": {},
     "output_type": "execute_result"
    }
   ],
   "source": [
    "root_dir = abspath(join('..'))\n",
    "if root_dir not in sys.path:\n",
    "    sys.path.append(root_dir)\n",
    "root_dir"
   ]
  },
  {
   "cell_type": "code",
   "execution_count": 3,
   "metadata": {
    "execution": {
     "iopub.execute_input": "2023-11-30T05:13:21.011266Z",
     "iopub.status.busy": "2023-11-30T05:13:21.010769Z",
     "iopub.status.idle": "2023-11-30T05:13:21.661613Z",
     "shell.execute_reply": "2023-11-30T05:13:21.660838Z",
     "shell.execute_reply.started": "2023-11-30T05:13:21.011216Z"
    }
   },
   "outputs": [],
   "source": [
    "# import utils\n",
    "from utils import style, hdi, load_spectral_types\n",
    "style(name=\"seaborn-notebook\")"
   ]
  },
  {
   "cell_type": "code",
   "execution_count": 4,
   "metadata": {},
   "outputs": [
    {
     "data": {
      "text/plain": [
       "'/home2/s20321005/Thesis-Project/Data'"
      ]
     },
     "execution_count": 4,
     "metadata": {},
     "output_type": "execute_result"
    }
   ],
   "source": [
    "root_data_dir = abspath(join(root_dir, \"Data\"))\n",
    "root_data_dir"
   ]
  },
  {
   "cell_type": "code",
   "execution_count": 5,
   "metadata": {
    "execution": {
     "iopub.execute_input": "2023-11-30T05:13:21.662700Z",
     "iopub.status.busy": "2023-11-30T05:13:21.662474Z",
     "iopub.status.idle": "2023-11-30T05:13:21.744814Z",
     "shell.execute_reply": "2023-11-30T05:13:21.744268Z",
     "shell.execute_reply.started": "2023-11-30T05:13:21.662676Z"
    }
   },
   "outputs": [
    {
     "data": {
      "text/html": [
       "<div>\n",
       "<style scoped>\n",
       "    .dataframe tbody tr th:only-of-type {\n",
       "        vertical-align: middle;\n",
       "    }\n",
       "\n",
       "    .dataframe tbody tr th {\n",
       "        vertical-align: top;\n",
       "    }\n",
       "\n",
       "    .dataframe thead th {\n",
       "        text-align: right;\n",
       "    }\n",
       "</style>\n",
       "<table border=\"1\" class=\"dataframe\">\n",
       "  <thead>\n",
       "    <tr style=\"text-align: right;\">\n",
       "      <th></th>\n",
       "      <th>SpT</th>\n",
       "      <th>M_J</th>\n",
       "      <th>J-H</th>\n",
       "      <th>H-Ks</th>\n",
       "      <th>J-K</th>\n",
       "    </tr>\n",
       "  </thead>\n",
       "  <tbody>\n",
       "    <tr>\n",
       "      <th>0</th>\n",
       "      <td>O9V</td>\n",
       "      <td>-3.44</td>\n",
       "      <td>-0.164</td>\n",
       "      <td>-0.071</td>\n",
       "      <td>-0.235</td>\n",
       "    </tr>\n",
       "    <tr>\n",
       "      <th>1</th>\n",
       "      <td>O9.5V</td>\n",
       "      <td>-3.30</td>\n",
       "      <td>-0.161</td>\n",
       "      <td>-0.069</td>\n",
       "      <td>-0.230</td>\n",
       "    </tr>\n",
       "    <tr>\n",
       "      <th>2</th>\n",
       "      <td>B0V</td>\n",
       "      <td>-3.17</td>\n",
       "      <td>-0.159</td>\n",
       "      <td>-0.067</td>\n",
       "      <td>-0.226</td>\n",
       "    </tr>\n",
       "    <tr>\n",
       "      <th>3</th>\n",
       "      <td>B0.5V</td>\n",
       "      <td>-2.80</td>\n",
       "      <td>-0.153</td>\n",
       "      <td>-0.063</td>\n",
       "      <td>-0.216</td>\n",
       "    </tr>\n",
       "    <tr>\n",
       "      <th>4</th>\n",
       "      <td>B1V</td>\n",
       "      <td>-2.33</td>\n",
       "      <td>-0.148</td>\n",
       "      <td>-0.059</td>\n",
       "      <td>-0.207</td>\n",
       "    </tr>\n",
       "    <tr>\n",
       "      <th>...</th>\n",
       "      <td>...</td>\n",
       "      <td>...</td>\n",
       "      <td>...</td>\n",
       "      <td>...</td>\n",
       "      <td>...</td>\n",
       "    </tr>\n",
       "    <tr>\n",
       "      <th>95</th>\n",
       "      <td>T6V</td>\n",
       "      <td>15.34</td>\n",
       "      <td>0.100</td>\n",
       "      <td>-0.030</td>\n",
       "      <td>0.070</td>\n",
       "    </tr>\n",
       "    <tr>\n",
       "      <th>96</th>\n",
       "      <td>T7V</td>\n",
       "      <td>15.83</td>\n",
       "      <td>0.000</td>\n",
       "      <td>0.000</td>\n",
       "      <td>0.000</td>\n",
       "    </tr>\n",
       "    <tr>\n",
       "      <th>97</th>\n",
       "      <td>T7.5V</td>\n",
       "      <td>16.61</td>\n",
       "      <td>0.200</td>\n",
       "      <td>-0.050</td>\n",
       "      <td>0.150</td>\n",
       "    </tr>\n",
       "    <tr>\n",
       "      <th>98</th>\n",
       "      <td>T8V</td>\n",
       "      <td>17.30</td>\n",
       "      <td>0.200</td>\n",
       "      <td>-0.050</td>\n",
       "      <td>0.150</td>\n",
       "    </tr>\n",
       "    <tr>\n",
       "      <th>99</th>\n",
       "      <td>T9V</td>\n",
       "      <td>18.51</td>\n",
       "      <td>0.100</td>\n",
       "      <td>-0.200</td>\n",
       "      <td>-0.100</td>\n",
       "    </tr>\n",
       "  </tbody>\n",
       "</table>\n",
       "<p>100 rows × 5 columns</p>\n",
       "</div>"
      ],
      "text/plain": [
       "      SpT    M_J    J-H   H-Ks    J-K\n",
       "0     O9V  -3.44 -0.164 -0.071 -0.235\n",
       "1   O9.5V  -3.30 -0.161 -0.069 -0.230\n",
       "2     B0V  -3.17 -0.159 -0.067 -0.226\n",
       "3   B0.5V  -2.80 -0.153 -0.063 -0.216\n",
       "4     B1V  -2.33 -0.148 -0.059 -0.207\n",
       "..    ...    ...    ...    ...    ...\n",
       "95    T6V  15.34  0.100 -0.030  0.070\n",
       "96    T7V  15.83  0.000  0.000  0.000\n",
       "97  T7.5V  16.61  0.200 -0.050  0.150\n",
       "98    T8V  17.30  0.200 -0.050  0.150\n",
       "99    T9V  18.51  0.100 -0.200 -0.100\n",
       "\n",
       "[100 rows x 5 columns]"
      ]
     },
     "execution_count": 5,
     "metadata": {},
     "output_type": "execute_result"
    }
   ],
   "source": [
    "df_spec = load_spectral_types()\n",
    "df_spec"
   ]
  },
  {
   "cell_type": "code",
   "execution_count": 6,
   "metadata": {
    "execution": {
     "iopub.execute_input": "2023-11-30T05:13:21.814298Z",
     "iopub.status.busy": "2023-11-30T05:13:21.813814Z",
     "iopub.status.idle": "2023-11-30T05:13:21.859621Z",
     "shell.execute_reply": "2023-11-30T05:13:21.858747Z",
     "shell.execute_reply.started": "2023-11-30T05:13:21.814249Z"
    }
   },
   "outputs": [],
   "source": [
    "data_baryon_dir = join(root_data_dir, \"Baryon\")\n",
    "# load baryons components\n",
    "df_baryon = vaex.open(join(data_baryon_dir, \"baryon.hdf5\"))\n",
    "rhos = df_baryon[\"rho\"].to_numpy()  # Msun/pc^3\n",
    "sigmaz = df_baryon[\"sigma_z\"].to_numpy() # km/s\n",
    "\n",
    "e_rhos = df_baryon[\"e_rho\"].to_numpy()  # Msun/pc^3\n",
    "e_sigmaz = df_baryon[\"e_sigma_z\"].to_numpy() # km/s\n",
    "dpi=100"
   ]
  },
  {
   "cell_type": "code",
   "execution_count": 7,
   "metadata": {
    "execution": {
     "iopub.execute_input": "2023-11-30T05:13:21.861151Z",
     "iopub.status.busy": "2023-11-30T05:13:21.860742Z",
     "iopub.status.idle": "2023-11-30T05:13:21.894607Z",
     "shell.execute_reply": "2023-11-30T05:13:21.893467Z",
     "shell.execute_reply.started": "2023-11-30T05:13:21.861120Z"
    }
   },
   "outputs": [],
   "source": [
    "boundaries = np.load(join(root_data_dir, \"boundaries.npy\"))\n",
    "boundaries = boundaries[:15]"
   ]
  },
  {
   "cell_type": "code",
   "execution_count": 8,
   "metadata": {
    "execution": {
     "iopub.execute_input": "2023-11-30T05:13:22.105014Z",
     "iopub.status.busy": "2023-11-30T05:13:22.104501Z",
     "iopub.status.idle": "2023-11-30T05:13:22.113547Z",
     "shell.execute_reply": "2023-11-30T05:13:22.112490Z",
     "shell.execute_reply.started": "2023-11-30T05:13:22.104963Z"
    }
   },
   "outputs": [
    {
     "data": {
      "text/plain": [
       "(array([0.05250143, 0.15600191, 0.20350107, 0.23000178, 0.25000142,\n",
       "        0.26700073, 0.28150205, 0.29400182, 0.30600122, 0.3175022 ,\n",
       "        0.3280024 , 0.33800223, 0.34800205, 0.35750149, 0.36900051]),\n",
       " array([0.14300287, 0.06399808, 0.03100024, 0.02200119, 0.0179981 ,\n",
       "        0.0160005 , 0.01300213, 0.01199742, 0.01200136, 0.01100059,\n",
       "        0.00999982, 0.00999982, 0.00999982, 0.00899905, 0.01399899]))"
      ]
     },
     "execution_count": 8,
     "metadata": {},
     "output_type": "execute_result"
    }
   ],
   "source": [
    "c_low = boundaries[:, 0]\n",
    "c_high = boundaries[:, 1]\n",
    "c = (c_low + c_high) / 2\n",
    "dc = c_high-c_low\n",
    "c, dc"
   ]
  },
  {
   "cell_type": "code",
   "execution_count": 9,
   "metadata": {
    "execution": {
     "iopub.execute_input": "2023-11-30T05:13:22.546446Z",
     "iopub.status.busy": "2023-11-30T05:13:22.545871Z",
     "iopub.status.idle": "2023-11-30T05:13:22.553428Z",
     "shell.execute_reply": "2023-11-30T05:13:22.552416Z",
     "shell.execute_reply.started": "2023-11-30T05:13:22.546394Z"
    }
   },
   "outputs": [
    {
     "data": {
      "text/plain": [
       "'/home2/s20321005/Thesis-Project/Data/MCMC_2/dm/data'"
      ]
     },
     "execution_count": 9,
     "metadata": {},
     "output_type": "execute_result"
    }
   ],
   "source": [
    "mcmc_dir = join(root_data_dir, \"MCMC_2\", \"dm\", \"data\")\n",
    "mcmc_dir"
   ]
  },
  {
   "cell_type": "code",
   "execution_count": 10,
   "metadata": {
    "execution": {
     "iopub.execute_input": "2023-11-30T05:13:22.956851Z",
     "iopub.status.busy": "2023-11-30T05:13:22.956327Z",
     "iopub.status.idle": "2023-11-30T05:13:22.981994Z",
     "shell.execute_reply": "2023-11-30T05:13:22.981154Z",
     "shell.execute_reply.started": "2023-11-30T05:13:22.956799Z"
    }
   },
   "outputs": [
    {
     "data": {
      "text/plain": [
       "['/home2/s20321005/Thesis-Project/Data/MCMC_2/dm/data/chain-(-0.019)_(0.124).npy',\n",
       " '/home2/s20321005/Thesis-Project/Data/MCMC_2/dm/data/chain-(0.124)_(0.188).npy',\n",
       " '/home2/s20321005/Thesis-Project/Data/MCMC_2/dm/data/chain-(0.188)_(0.219).npy',\n",
       " '/home2/s20321005/Thesis-Project/Data/MCMC_2/dm/data/chain-(0.219)_(0.241).npy',\n",
       " '/home2/s20321005/Thesis-Project/Data/MCMC_2/dm/data/chain-(0.241)_(0.259).npy',\n",
       " '/home2/s20321005/Thesis-Project/Data/MCMC_2/dm/data/chain-(0.259)_(0.275).npy',\n",
       " '/home2/s20321005/Thesis-Project/Data/MCMC_2/dm/data/chain-(0.275)_(0.288).npy',\n",
       " '/home2/s20321005/Thesis-Project/Data/MCMC_2/dm/data/chain-(0.288)_(0.300).npy',\n",
       " '/home2/s20321005/Thesis-Project/Data/MCMC_2/dm/data/chain-(0.300)_(0.312).npy',\n",
       " '/home2/s20321005/Thesis-Project/Data/MCMC_2/dm/data/chain-(0.312)_(0.323).npy',\n",
       " '/home2/s20321005/Thesis-Project/Data/MCMC_2/dm/data/chain-(0.323)_(0.333).npy',\n",
       " '/home2/s20321005/Thesis-Project/Data/MCMC_2/dm/data/chain-(0.333)_(0.343).npy',\n",
       " '/home2/s20321005/Thesis-Project/Data/MCMC_2/dm/data/chain-(0.343)_(0.353).npy',\n",
       " '/home2/s20321005/Thesis-Project/Data/MCMC_2/dm/data/chain-(0.353)_(0.362).npy',\n",
       " '/home2/s20321005/Thesis-Project/Data/MCMC_2/dm/data/chain-(0.362)_(0.376).npy']"
      ]
     },
     "execution_count": 10,
     "metadata": {},
     "output_type": "execute_result"
    }
   ],
   "source": [
    "files = glob(join(mcmc_dir, \"chain-*\"))\n",
    "files.sort()\n",
    "files"
   ]
  },
  {
   "cell_type": "code",
   "execution_count": 11,
   "metadata": {},
   "outputs": [
    {
     "data": {
      "text/plain": [
       "(2500, 330, 33)"
      ]
     },
     "execution_count": 11,
     "metadata": {},
     "output_type": "execute_result"
    }
   ],
   "source": [
    "index = 0\n",
    "df = np.load(files[index])\n",
    "rhob = df[:, :, 12:24]\n",
    "length = len(rhob)\n",
    "rhob_0 = np.empty((length, 12))\n",
    "for i in range(12):\n",
    "    rhob_0[:,i] = norm.rvs(loc=rhos[i], scale=e_rhos[i], size=length)\n",
    "rhob_0 = rhob_0.sum(axis=1)/1E-2\n",
    "df.shape"
   ]
  },
  {
   "cell_type": "code",
   "execution_count": 12,
   "metadata": {},
   "outputs": [
    {
     "name": "stdout",
     "output_type": "stream",
     "text": [
      "rhob0 = 8.90 +0.700/-0.700\n"
     ]
    },
    {
     "data": {
      "image/png": "[encoded data removed]",
      "text/plain": [
       "<Figure size 576x432 with 1 Axes>"
      ]
     },
     "metadata": {
      "needs_background": "light"
     },
     "output_type": "display_data"
    }
   ],
   "source": [
    "sigma = np.array([68, 90, 95]) # credible levels\n",
    "alpha = np.round(1 - sigma/100, 2)\n",
    "\n",
    "baryon_0 = {\n",
    "    \"fit\": None,\n",
    "    \"errors\": None,\n",
    "    \"mode\": None,\n",
    "}\n",
    "\n",
    "# rhob_0_sample = np.random.choice(rhob_0, size=, replace=False)\n",
    "rhob_0_fit = norm.fit(rhob_0)\n",
    "baryon_0[\"fit\"] = rhob_0_fit\n",
    "\n",
    "rhob_0_errs = []\n",
    "for i, alp in enumerate(alpha):\n",
    "    hpd, modes = hdi(lambda x: norm.pdf(x, *rhob_0_fit), low=5, high=12.5, alpha=alp)\n",
    "    low, high = hpd[0]\n",
    "    baryon_0[\"mode\"] = modes[0]\n",
    "    err = {\n",
    "        'alp': alp,\n",
    "        'low': low,\n",
    "        'high': high\n",
    "    }\n",
    "    rhob_0_errs.append(err)\n",
    "# plot\n",
    "rho = np.linspace(5, 12.5, 50)\n",
    "fig, ax = plt.subplots(figsize=(8, 6))\n",
    "ax.hist(rhob_0, bins=rho, density=True, label='Baryon0', ec='k', alpha=0.5, color='C2')\n",
    "ax.plot(rho, norm.pdf(rho, *rhob_0_fit), label='Baryon0 fit', color='C2', ls='--')\n",
    "ax.axvline(baryon_0['mode'], color='C2', ls='-.')\n",
    "\n",
    "rhob_0_lows = list(map(lambda x: x['low'], rhob_0_errs))\n",
    "rhob_0_highs = list(map(lambda x: x['high'], rhob_0_errs))\n",
    "for low, high in zip(rhob_0_lows, rhob_0_highs):\n",
    "    ax.axvline(low, color='C2', ls='--')\n",
    "    ax.axvline(high, color='C2', ls='--')\n",
    "ax.set_xlabel(r'$\\rho$')\n",
    "ax.set_ylabel(r'$f$')\n",
    "ax.legend()\n",
    "print(f\"rhob0 = {baryon_0['mode']:.02f} +{rhob_0_highs[0]-baryon_0['mode']:.3f}/-{baryon_0['mode'] - rhob_0_lows[0]:.3f}\")"
   ]
  },
  {
   "cell_type": "code",
   "execution_count": 13,
   "metadata": {
    "execution": {
     "iopub.execute_input": "2023-11-30T05:13:30.240766Z",
     "iopub.status.busy": "2023-11-30T05:13:30.240542Z",
     "iopub.status.idle": "2023-11-30T05:13:39.607852Z",
     "shell.execute_reply": "2023-11-30T05:13:39.607255Z",
     "shell.execute_reply.started": "2023-11-30T05:13:30.240742Z"
    }
   },
   "outputs": [
    {
     "name": "stderr",
     "output_type": "stream",
     "text": [
      "100%|██████████| 15/15 [00:32<00:00,  2.15s/it]\n"
     ]
    }
   ],
   "source": [
    "dms = []\n",
    "baryons = []\n",
    "\n",
    "for file in tqdm(files):\n",
    "    dm = {\n",
    "        \"fit\": None,\n",
    "        \"mode\": None,\n",
    "        \"errors\": None\n",
    "    }\n",
    "    baryon = {\n",
    "        \"fit\": None,\n",
    "        \"mode\": None,\n",
    "        \"errors\": None\n",
    "    }\n",
    "    # load\n",
    "    df = np.load(file)\n",
    "    rhob = df[:, :, 12:24]\n",
    "    rhob = rhob.reshape(-1, 12)\n",
    "    rhob = rhob.sum(axis=1)/1E-2\n",
    "    rho_dm = df[:, :, 24].reshape(-1)/1E-2\n",
    "    # fit dm\n",
    "    rho_dm_sample = np.random.choice(rho_dm, size=10_000, replace=False)\n",
    "    rho_dm_fit = skewnorm.fit(rho_dm_sample)\n",
    "    dm[\"fit\"] = rho_dm_fit    \n",
    "    # fit baryon\n",
    "    rhob_sample = np.random.choice(rhob, size=10_000, replace=False)\n",
    "    rhob_fit = skewnorm.fit(rhob_sample)\n",
    "    baryon[\"fit\"] = rhob_fit\n",
    "    # err\n",
    "    dm_errs = []\n",
    "    baryon_errs = []\n",
    "    dm_mode = None\n",
    "    baryon_mode = None\n",
    "    for i, alp in enumerate(alpha):\n",
    "        hpd, modes = hdi(lambda x: skewnorm.pdf(x, *rho_dm_fit), -5, 10, alpha=alp)\n",
    "        dm_mode = modes[0]\n",
    "        low, high = hpd[0]\n",
    "        dm_errs.append({'alpha': alp, 'low': low, 'high': high})\n",
    "\n",
    "        hpd, modes = hdi(lambda x: skewnorm.pdf(x, *rhob_fit), 5, 15, alpha=alp)\n",
    "        baryon_mode = modes[0]\n",
    "        low, high = hpd[0]\n",
    "        baryon_errs.append({'alpha': alp, 'low': low, 'high': high})\n",
    "    dm[\"errors\"] = dm_errs\n",
    "    dm[\"mode\"] = dm_mode\n",
    "    baryon[\"errors\"] = baryon_errs\n",
    "    baryon[\"mode\"] = baryon_mode\n",
    "    # append\n",
    "    dms.append(dm)\n",
    "    baryons.append(baryon)\n"
   ]
  },
  {
   "cell_type": "code",
   "execution_count": 14,
   "metadata": {
    "execution": {
     "iopub.execute_input": "2023-11-30T05:13:39.609755Z",
     "iopub.status.busy": "2023-11-30T05:13:39.609520Z",
     "iopub.status.idle": "2023-11-30T05:13:39.615359Z",
     "shell.execute_reply": "2023-11-30T05:13:39.614261Z",
     "shell.execute_reply.started": "2023-11-30T05:13:39.609731Z"
    }
   },
   "outputs": [
    {
     "data": {
      "text/plain": [
       "[{'fit': (0.9545318832252682, 1.252835762188691, 1.0599916001089036),\n",
       "  'mode': 1.78,\n",
       "  'errors': [{'alpha': 0.32, 'low': 0.93, 'high': 2.68},\n",
       "   {'alpha': 0.1, 'low': 0.38, 'high': 3.28},\n",
       "   {'alpha': 0.05, 'low': 0.12, 'high': 3.58}]},\n",
       " {'fit': (4.77617379774227, 1.2241655606953827, 3.108185600991227),\n",
       "  'mode': 2.41,\n",
       "  'errors': [{'alpha': 0.32, 'low': 1.26, 'high': 4.77},\n",
       "   {'alpha': 0.1, 'low': 0.74, 'high': 6.61},\n",
       "   {'alpha': 0.05, 'low': 0.51, 'high': 7.49}]},\n",
       " {'fit': (6.736571804057165, 2.5235062723764368, 4.439924907992008),\n",
       "  'mode': 3.9,\n",
       "  'errors': [{'alpha': 0.32, 'low': 2.71, 'high': 6.96},\n",
       "   {'alpha': 0.1, 'low': 2.29, 'high': 8.85},\n",
       "   {'alpha': 0.05, 'low': 2.17, 'high': 9.5}]},\n",
       " {'fit': (1.9142122081000452, 5.169930212754787, 2.1167975110072392),\n",
       "  'mode': 6.3,\n",
       "  'errors': [{'alpha': 0.32, 'low': 5.03, 'high': 7.84},\n",
       "   {'alpha': 0.1, 'low': 4.34, 'high': 8.92},\n",
       "   {'alpha': 0.05, 'low': 4.06, 'high': 9.39}]},\n",
       " {'fit': (2.484738579762834, 5.800480624635638, 2.8580161469158005),\n",
       "  'mode': 7.25,\n",
       "  'errors': [{'alpha': 0.32, 'low': 5.95, 'high': 8.93},\n",
       "   {'alpha': 0.1, 'low': 5.41, 'high': 9.88},\n",
       "   {'alpha': 0.05, 'low': 5.03, 'high': 10.0}]},\n",
       " {'fit': (2.960851909848441, 4.370393084780618, 3.2327642757392443),\n",
       "  'mode': 5.91,\n",
       "  'errors': [{'alpha': 0.32, 'low': 4.45, 'high': 8.0},\n",
       "   {'alpha': 0.1, 'low': 3.83, 'high': 9.35},\n",
       "   {'alpha': 0.05, 'low': 3.62, 'high': 9.83}]},\n",
       " {'fit': (1.762440239521366, 4.551963517539317, 2.285069628687392),\n",
       "  'mode': 5.78,\n",
       "  'errors': [{'alpha': 0.32, 'low': 4.35, 'high': 7.47},\n",
       "   {'alpha': 0.1, 'low': 3.55, 'high': 8.66},\n",
       "   {'alpha': 0.05, 'low': 3.21, 'high': 9.2}]},\n",
       " {'fit': (4.93227129510929, 2.7699773118331024, 4.425522347601575),\n",
       "  'mode': 4.42,\n",
       "  'errors': [{'alpha': 0.32, 'low': 2.98, 'high': 7.31},\n",
       "   {'alpha': 0.1, 'low': 2.45, 'high': 9.09},\n",
       "   {'alpha': 0.05, 'low': 2.29, 'high': 9.7}]},\n",
       " {'fit': (1.1985799988810069, 0.9651831082728963, 1.8660864723462645),\n",
       "  'mode': 1.96,\n",
       "  'errors': [{'alpha': 0.32, 'low': 0.55, 'high': 3.46},\n",
       "   {'alpha': 0.1, 'low': -0.32, 'high': 4.51},\n",
       "   {'alpha': 0.05, 'low': -0.73, 'high': 5.05}]},\n",
       " {'fit': (1.0235129814514212, 1.7373129185218295, 2.0292444425723577),\n",
       "  'mode': 2.77,\n",
       "  'errors': [{'alpha': 0.32, 'low': 1.17, 'high': 4.46},\n",
       "   {'alpha': 0.1, 'low': 0.16, 'high': 5.63},\n",
       "   {'alpha': 0.05, 'low': -0.33, 'high': 6.2}]},\n",
       " {'fit': (2.9686287407847716, 1.2230393093823035, 3.6061564985634513),\n",
       "  'mode': 2.94,\n",
       "  'errors': [{'alpha': 0.32, 'low': 1.19, 'high': 5.54},\n",
       "   {'alpha': 0.1, 'low': 0.31, 'high': 7.51},\n",
       "   {'alpha': 0.05, 'low': -0.06, 'high': 8.4}]},\n",
       " {'fit': (1.1690104040412255, 0.6812038233774355, 2.0367537996493406),\n",
       "  'mode': 1.75,\n",
       "  'errors': [{'alpha': 0.32, 'low': 0.22, 'high': 3.4},\n",
       "   {'alpha': 0.1, 'low': -0.75, 'high': 4.56},\n",
       "   {'alpha': 0.05, 'low': -1.21, 'high': 5.14}]},\n",
       " {'fit': (1.4081113962367873, -0.16995366372918602, 2.3386069275210017),\n",
       "  'mode': 1.09,\n",
       "  'errors': [{'alpha': 0.32, 'low': -0.55, 'high': 2.93},\n",
       "   {'alpha': 0.1, 'low': -1.56, 'high': 4.24},\n",
       "   {'alpha': 0.05, 'low': -2.04, 'high': 4.91}]},\n",
       " {'fit': (1.3291912456590222, 1.671324564450372, 2.388350710358515),\n",
       "  'mode': 2.95,\n",
       "  'errors': [{'alpha': 0.32, 'low': 1.24, 'high': 4.84},\n",
       "   {'alpha': 0.1, 'low': 0.17, 'high': 6.19},\n",
       "   {'alpha': 0.05, 'low': -0.33, 'high': 6.86}]},\n",
       " {'fit': (1.0773789357175794, -0.8370862419887022, 1.756934685509373),\n",
       "  'mode': 0.07,\n",
       "  'errors': [{'alpha': 0.32, 'low': -1.29, 'high': 1.52},\n",
       "   {'alpha': 0.1, 'low': -2.16, 'high': 2.52},\n",
       "   {'alpha': 0.05, 'low': -2.56, 'high': 3.02}]}]"
      ]
     },
     "execution_count": 14,
     "metadata": {},
     "output_type": "execute_result"
    }
   ],
   "source": [
    "dms"
   ]
  },
  {
   "cell_type": "code",
   "execution_count": 27,
   "metadata": {
    "execution": {
     "iopub.execute_input": "2023-11-30T05:13:39.646940Z",
     "iopub.status.busy": "2023-11-30T05:13:39.646498Z",
     "iopub.status.idle": "2023-11-30T05:13:40.006133Z",
     "shell.execute_reply": "2023-11-30T05:13:40.005459Z",
     "shell.execute_reply.started": "2023-11-30T05:13:39.646895Z"
    }
   },
   "outputs": [
    {
     "data": {
      "text/plain": [
       "(-5.0, 14.0)"
      ]
     },
     "execution_count": 27,
     "metadata": {},
     "output_type": "execute_result"
    },
    {
     "data": {
      "image/png": "[encoded data removed]",
      "text/plain": [
       "<Figure size 432x288 with 1 Axes>"
      ]
     },
     "metadata": {
      "needs_background": "light"
     },
     "output_type": "display_data"
    }
   ],
   "source": [
    "# calculate the combined values\n",
    "# multiplying the rho_dm, but it became addition in log\n",
    "rho = np.linspace(-5, 14, 10000)\n",
    "log_rho_dm = None\n",
    "rho_dm_fits = list(map(lambda x: x['fit'], dms))\n",
    "for i, rho_dm_fit in enumerate(rho_dm_fits):\n",
    "    # ignore F\n",
    "    if (i > 0) and (i < 9):\n",
    "        continue\n",
    "    if log_rho_dm is None:\n",
    "        log_rho_dm = skewnorm.logpdf(rho, *rho_dm_fit)\n",
    "    else:\n",
    "        log_rho_dm += skewnorm.logpdf(rho, *rho_dm_fit)\n",
    "# normalize with max value\n",
    "log_rho_dm -= log_rho_dm.max()\n",
    "# turn into rho_dm\n",
    "rho_dm_com = np.exp(log_rho_dm)\n",
    "# plot\n",
    "fig, ax = plt.subplots()\n",
    "ax.plot(rho, rho_dm_com, label='rhoDM')\n",
    "ax.set_xlim(-5,14)"
   ]
  },
  {
   "cell_type": "code",
   "execution_count": 18,
   "metadata": {},
   "outputs": [
    {
     "data": {
      "text/plain": [
       "(-5.0, 14.0)"
      ]
     },
     "execution_count": 18,
     "metadata": {},
     "output_type": "execute_result"
    },
    {
     "data": {
      "image/png": "[encoded data removed]",
      "text/plain": [
       "<Figure size 432x288 with 1 Axes>"
      ]
     },
     "metadata": {
      "needs_background": "light"
     },
     "output_type": "display_data"
    }
   ],
   "source": [
    "# calculate the combined values\n",
    "# multiplying the rho_dm, but it became addition in log\n",
    "rho = np.linspace(-5, 14, 10000)\n",
    "log_rho_dm = None\n",
    "weight = dc/dc.sum()\n",
    "rho_dm_fits = list(map(lambda x: x['fit'], dms))\n",
    "for i, (rho_dm_fit, w_i) in enumerate(zip(rho_dm_fits, weight)):\n",
    "    # ignore F\n",
    "    # if (i > 0) and (i < 9):\n",
    "    #     continue\n",
    "    if log_rho_dm is None:\n",
    "        log_rho_dm = skewnorm.logpdf(rho, *rho_dm_fit)\n",
    "    else:\n",
    "        log_rho_dm += skewnorm.logpdf(rho, *rho_dm_fit)\n",
    "# normalize with max value\n",
    "log_rho_dm -= log_rho_dm.max()\n",
    "# turn into rho_dm\n",
    "rho_dm_com = np.exp(log_rho_dm)\n",
    "# plot\n",
    "fig, ax = plt.subplots()\n",
    "ax.plot(rho, rho_dm_com, label='rho_dm')\n",
    "ax.set_xlim(-5,14)"
   ]
  },
  {
   "cell_type": "code",
   "execution_count": 28,
   "metadata": {
    "execution": {
     "iopub.execute_input": "2023-11-30T05:13:40.007368Z",
     "iopub.status.busy": "2023-11-30T05:13:40.007092Z",
     "iopub.status.idle": "2023-11-30T05:13:40.068853Z",
     "shell.execute_reply": "2023-11-30T05:13:40.068183Z",
     "shell.execute_reply.started": "2023-11-30T05:13:40.007341Z"
    }
   },
   "outputs": [
    {
     "data": {
      "text/plain": [
       "array([1.32763184, 0.81270872, 1.54287885, 0.61513178])"
      ]
     },
     "execution_count": 28,
     "metadata": {},
     "output_type": "execute_result"
    }
   ],
   "source": [
    "# fit with skewnorm\n",
    "def skewpdf(x, *args):\n",
    "    A, other = args[0], args[1:]\n",
    "    return A*skewnorm.pdf(x, *other)\n",
    "\n",
    "rho_dm_com_fit, _ = curve_fit(skewpdf, rho, rho_dm_com, p0=[1, 1.0, 2.0, 1])\n",
    "rho_dm_com_fit"
   ]
  },
  {
   "cell_type": "code",
   "execution_count": 29,
   "metadata": {
    "execution": {
     "iopub.execute_input": "2023-11-30T05:13:40.070134Z",
     "iopub.status.busy": "2023-11-30T05:13:40.069907Z",
     "iopub.status.idle": "2023-11-30T05:13:40.316692Z",
     "shell.execute_reply": "2023-11-30T05:13:40.316157Z",
     "shell.execute_reply.started": "2023-11-30T05:13:40.070111Z"
    },
    "tags": []
   },
   "outputs": [
    {
     "data": {
      "text/plain": [
       "(-5.0, 14.0)"
      ]
     },
     "execution_count": 29,
     "metadata": {},
     "output_type": "execute_result"
    },
    {
     "data": {
      "image/png": "[encoded data removed]",
      "text/plain": [
       "<Figure size 432x288 with 1 Axes>"
      ]
     },
     "metadata": {
      "needs_background": "light"
     },
     "output_type": "display_data"
    }
   ],
   "source": [
    "plt.plot(rho, rho_dm_com, label='raw')\n",
    "plt.plot(rho, skewpdf(rho, *rho_dm_com_fit), label='fit', ls=\"-\")\n",
    "plt.legend()\n",
    "plt.xlim(-5,14)"
   ]
  },
  {
   "cell_type": "code",
   "execution_count": 30,
   "metadata": {
    "execution": {
     "iopub.execute_input": "2023-11-30T05:13:43.083296Z",
     "iopub.status.busy": "2023-11-30T05:13:43.082634Z",
     "iopub.status.idle": "2023-11-30T05:13:43.102744Z",
     "shell.execute_reply": "2023-11-30T05:13:43.101801Z",
     "shell.execute_reply.started": "2023-11-30T05:13:43.083182Z"
    }
   },
   "outputs": [
    {
     "data": {
      "text/plain": [
       "(1.833,\n",
       " [{'sigma': array([68, 90, 95]), 'low': 1.313, 'high': 2.364},\n",
       "  {'sigma': array([68, 90, 95]), 'low': 0.983, 'high': 2.724},\n",
       "  {'sigma': array([68, 90, 95]), 'low': 0.823, 'high': 2.904}])"
      ]
     },
     "execution_count": 30,
     "metadata": {},
     "output_type": "execute_result"
    }
   ],
   "source": [
    "rho_dm_com_err = []\n",
    "rho_dm_com_mode = None\n",
    "for i, alp in enumerate(alpha):\n",
    "    hpd, modes = hdi(lambda x: skewpdf(x, *rho_dm_com_fit), low=-5, high=15, alpha=alp, roundto=3)\n",
    "    low, high = hpd[0]\n",
    "    rho_dm_com_err.append({'sigma':sigma, 'low': low, 'high': high})\n",
    "    rho_dm_com_mode = modes[0]\n",
    "rho_dm_com_mode, rho_dm_com_err"
   ]
  },
  {
   "cell_type": "code",
   "execution_count": 31,
   "metadata": {
    "execution": {
     "iopub.execute_input": "2023-11-30T05:13:45.364287Z",
     "iopub.status.busy": "2023-11-30T05:13:45.363684Z",
     "iopub.status.idle": "2023-11-30T05:13:45.370594Z",
     "shell.execute_reply": "2023-11-30T05:13:45.369454Z",
     "shell.execute_reply.started": "2023-11-30T05:13:45.364232Z"
    }
   },
   "outputs": [
    {
     "name": "stdout",
     "output_type": "stream",
     "text": [
      "1.833 + 0.531 - 0.520\n"
     ]
    }
   ],
   "source": [
    "print(f\"{rho_dm_com_mode:.3f} + {rho_dm_com_err[0]['high']-rho_dm_com_mode:.3f} - {rho_dm_com_mode-rho_dm_com_err[0]['low']:.3f}\")"
   ]
  },
  {
   "cell_type": "code",
   "execution_count": 25,
   "metadata": {
    "execution": {
     "iopub.execute_input": "2023-11-30T05:13:47.391315Z",
     "iopub.status.busy": "2023-11-30T05:13:47.390688Z",
     "iopub.status.idle": "2023-11-30T05:13:47.407099Z",
     "shell.execute_reply": "2023-11-30T05:13:47.406137Z",
     "shell.execute_reply.started": "2023-11-30T05:13:47.391258Z"
    }
   },
   "outputs": [
    {
     "data": {
      "text/plain": [
       "(0.1355, 0.314)"
      ]
     },
     "execution_count": 25,
     "metadata": {},
     "output_type": "execute_result"
    }
   ],
   "source": [
    "# spectral type boundaries\n",
    "A9 = df_spec[df_spec['SpT'] == 'A9V']['J-K'].values[0]\n",
    "F0 = df_spec[df_spec['SpT'] == 'F0V']['J-K'].values[0]\n",
    "AF = (A9+F0)/2\n",
    "\n",
    "F9 = df_spec[df_spec['SpT'] == 'F9V']['J-K'].values[0]\n",
    "G0 = df_spec[df_spec['SpT'] == 'G0V']['J-K'].values[0]\n",
    "FG = (F9+G0)/2\n",
    "AF, FG"
   ]
  },
  {
   "cell_type": "code",
   "execution_count": 32,
   "metadata": {
    "execution": {
     "iopub.execute_input": "2023-11-30T05:13:51.633882Z",
     "iopub.status.busy": "2023-11-30T05:13:51.633288Z",
     "iopub.status.idle": "2023-11-30T05:13:52.109366Z",
     "shell.execute_reply": "2023-11-30T05:13:52.108626Z",
     "shell.execute_reply.started": "2023-11-30T05:13:51.633826Z"
    },
    "tags": []
   },
   "outputs": [
    {
     "data": {
      "image/png": "[encoded data removed]",
      "text/plain": [
       "<Figure size 576x432 with 1 Axes>"
      ]
     },
     "metadata": {
      "needs_background": "light"
     },
     "output_type": "display_data"
    },
    {
     "data": {
      "text/plain": [
       "1.833"
      ]
     },
     "execution_count": 32,
     "metadata": {},
     "output_type": "execute_result"
    }
   ],
   "source": [
    "cs = np.linspace(c.min()-0.05, c.max()+0.005, 100)\n",
    "\n",
    "def band(ax, c1, c2, low, high, color='blue', alpha=0.1):\n",
    "    ax.fill_between([c1, c2], [low, low], [high, high], color=color, alpha=alpha)\n",
    "    return \n",
    "\n",
    "fig, ax = plt.subplots(figsize=(8, 6))\n",
    "ax.axhline(y=baryon_0['mode'], color='black', linestyle='--')\n",
    "dm_errs = np.array(list(map(lambda x: x['errors'], dms)))\n",
    "dm_modes = np.array(list(map(lambda x: x['mode'], dms)))\n",
    "baryon_errs = np.array(list(map(lambda x: x['errors'], baryons)))\n",
    "baryon_modes = np.array(list(map(lambda x: x['mode'], baryons)))\n",
    "\n",
    "dm_errs[:, 0]\n",
    "for i in range(3):\n",
    "    lows = np.array(list(map(lambda x: x['low'], dm_errs[:, i])))\n",
    "    highs = np.array(list(map(lambda x: x['high'], dm_errs[:, i])))\n",
    "\n",
    "    dm_ax = ax.errorbar(c, dm_modes, yerr=[dm_modes-lows, highs-dm_modes], fmt='s', mfc='white', color='blue', capsize=1, alpha=0.5, elinewidth=1, markeredgewidth=1)\n",
    "    for j in range(len(c)):\n",
    "        band(ax, c_low[j], c_high[j], lows[j], highs[j], color='blue', alpha=0.05)\n",
    "\n",
    "    lows = np.array(list(map(lambda x: x['low'], baryon_errs[:, i])))\n",
    "    highs = np.array(list(map(lambda x: x['high'], baryon_errs[:, i])))\n",
    "    rhob_ax = ax.errorbar(c-0.005, baryon_modes, yerr=[baryon_modes-lows, highs-baryon_modes], fmt='.', color='red', capsize=1, alpha=0.5, elinewidth=1, markeredgewidth=1)\n",
    "    rhob_0_ax = ax.fill_between(cs, rhob_0_lows[i], rhob_0_highs[i], color='black', alpha=0.1, hatch=\"/\", facecolor='gray')\n",
    "    if i == 2:\n",
    "        ax.legend([dm_ax, rhob_ax, rhob_0_ax], \n",
    "                  [r'$\\rho_{\\textup{\\scriptsize DM}}$', r'$\\rho_{b}$', r'$\\rho_{b,0}$'],\n",
    "                  loc='best', fontsize=12)\n",
    "# real value\n",
    "# ax.axhline(y=rhoDM_com_mode, color='black', linestyle='--')\n",
    "ax.axvline(x=AF, color='black', linestyle='--', alpha=0.5)\n",
    "ax.axvline(x=FG, color='black', linestyle='--', alpha=0.5)\n",
    "ax.text(0.09, -2.7, r'$\\textup{A}$', fontsize=16)\n",
    "ax.text(0.23, -2.7, r'$\\textup{F}$', fontsize=16)\n",
    "ax.text(0.34, -2.7, r'$\\textup{G}$', fontsize=16)\n",
    "ax.set_xlabel(r'$J-K_s$', fontsize=16)\n",
    "ax.set_ylabel(r'$\\rho$ [$\\times 10^{-2}M_{\\odot}\\ $pc$^{-3}$]', fontsize=16)\n",
    "ax.set_xlim(cs.min(), cs.max())\n",
    "# ax.set_title(\"Dark matter \\& baryonic density\", fontsize=16)\n",
    "fig.savefig(join('img', 'infered-density.pdf'), dpi=70)\n",
    "plt.show()\n",
    "rho_dm_com_mode"
   ]
  },
  {
   "cell_type": "code",
   "execution_count": null,
   "metadata": {
    "execution": {
     "iopub.execute_input": "2023-11-30T05:14:11.746698Z",
     "iopub.status.busy": "2023-11-30T05:14:11.746097Z",
     "iopub.status.idle": "2023-11-30T05:14:11.760686Z",
     "shell.execute_reply": "2023-11-30T05:14:11.759690Z",
     "shell.execute_reply.started": "2023-11-30T05:14:11.746642Z"
    }
   },
   "outputs": [],
   "source": [
    "# for i in range(len(c)):\n",
    "#     low1 = np.array([err[0]['low'] for err in rhoDM_errs])\n",
    "#     high1 = np.array([err[0]['high'] for err in rhoDM_errs])\n",
    "#     low2 = np.array([err[1]['low'] for err in rhoDM_errs])\n",
    "#     high2 = np.array([err[1]['high'] for err in rhoDM_errs])\n",
    "#     low3 = np.array([err[2]['low'] for err in rhoDM_errs])\n",
    "#     high3 = np.array([err[2]['high'] for err in rhoDM_errs])\n",
    "#     print(f\"$[{c1[i]:.03f}, {c2[i]:.03f}]$ & {rhoDM_modes[i]:.02f} & $[{low1[i]:.02f}, {high1[i]:.02f}]$ & $[{low2[i]:.02f}, {high2[i]:.02f}]$ & $[{low3[i]:.02f}, {high3[i]:.02f}]$ \\\\\\\\\")"
   ]
  }
 ],
 "metadata": {
  "kernelspec": {
   "display_name": "Python 3",
   "language": "python",
   "name": "python3"
  },
  "language_info": {
   "codemirror_mode": {
    "name": "ipython",
    "version": 3
   },
   "file_extension": ".py",
   "mimetype": "text/x-python",
   "name": "python",
   "nbconvert_exporter": "python",
   "pygments_lexer": "ipython3",
   "version": "3.8.10"
  }
 },
 "nbformat": 4,
 "nbformat_minor": 4
}
