{
 "cells": [
  {
   "cell_type": "code",
   "execution_count": 1,
   "metadata": {
    "execution": {
     "iopub.execute_input": "2023-11-30T05:27:17.427785Z",
     "iopub.status.busy": "2023-11-30T05:27:17.427264Z",
     "iopub.status.idle": "2023-11-30T05:27:20.058513Z",
     "shell.execute_reply": "2023-11-30T05:27:20.057822Z",
     "shell.execute_reply.started": "2023-11-30T05:27:17.427721Z"
    }
   },
   "outputs": [
    {
     "data": {
      "text/plain": [
       "['/home2/s20321005/Thesis-Project/6_Analisis',\n",
       " '/home2/s20321005/.conda/envs/vaex/lib/python38.zip',\n",
       " '/home2/s20321005/.conda/envs/vaex/lib/python3.8',\n",
       " '/home2/s20321005/.conda/envs/vaex/lib/python3.8/lib-dynload',\n",
       " '',\n",
       " '/home2/s20321005/.local/lib/python3.8/site-packages',\n",
       " '/home2/s20321005/.conda/envs/vaex/lib/python3.8/site-packages',\n",
       " '/home2/s20321005/Thesis-Project']"
      ]
     },
     "execution_count": 1,
     "metadata": {},
     "output_type": "execute_result"
    }
   ],
   "source": [
    "import warnings\n",
    "warnings.filterwarnings('ignore')\n",
    "import numpy as np\n",
    "from os.path import abspath, join\n",
    "import sys\n",
    "root_dir = abspath(join('..'))\n",
    "sys.path.append(root_dir)\n",
    "from glob import glob\n",
    "import vaex\n",
    "from datetime import datetime\n",
    "import json\n",
    "import matplotlib.pyplot as plt\n",
    "sys.path"
   ]
  },
  {
   "cell_type": "code",
   "execution_count": 2,
   "metadata": {
    "execution": {
     "iopub.execute_input": "2023-11-30T05:27:20.060133Z",
     "iopub.status.busy": "2023-11-30T05:27:20.059763Z",
     "iopub.status.idle": "2023-11-30T05:27:21.175716Z",
     "shell.execute_reply": "2023-11-30T05:27:21.174866Z",
     "shell.execute_reply.started": "2023-11-30T05:27:20.060107Z"
    }
   },
   "outputs": [],
   "source": [
    "from utils import style\n",
    "\n",
    "style()"
   ]
  },
  {
   "cell_type": "code",
   "execution_count": 3,
   "metadata": {
    "execution": {
     "iopub.execute_input": "2023-11-30T05:27:21.177195Z",
     "iopub.status.busy": "2023-11-30T05:27:21.176964Z",
     "iopub.status.idle": "2023-11-30T05:27:21.181418Z",
     "shell.execute_reply": "2023-11-30T05:27:21.180908Z",
     "shell.execute_reply.started": "2023-11-30T05:27:21.177171Z"
    }
   },
   "outputs": [
    {
     "data": {
      "text/plain": [
       "'/home2/s20321005/Thesis-Project/Data'"
      ]
     },
     "execution_count": 3,
     "metadata": {},
     "output_type": "execute_result"
    }
   ],
   "source": [
    "root_data_dir = abspath(join(root_dir, \"Data\"))\n",
    "root_data_dir"
   ]
  },
  {
   "cell_type": "code",
   "execution_count": 4,
   "metadata": {
    "execution": {
     "iopub.execute_input": "2023-11-30T05:27:32.378007Z",
     "iopub.status.busy": "2023-11-30T05:27:32.377444Z",
     "iopub.status.idle": "2023-11-30T05:27:32.395774Z",
     "shell.execute_reply": "2023-11-30T05:27:32.394650Z",
     "shell.execute_reply.started": "2023-11-30T05:27:32.377954Z"
    },
    "tags": []
   },
   "outputs": [],
   "source": [
    "data_baryon_dir = join(root_data_dir, \"Baryon\")\n",
    "# load baryons components\n",
    "df_baryon = vaex.open(join(data_baryon_dir, \"baryon.hdf5\"))\n",
    "rhos = df_baryon[\"rho\"].to_numpy()  # Msun/pc^3\n",
    "sigmaz = df_baryon[\"sigma_z\"].to_numpy() # km/s\n",
    "\n",
    "e_rhos = df_baryon[\"e_rho\"].to_numpy()  # Msun/pc^3\n",
    "e_sigmaz = df_baryon[\"e_sigma_z\"].to_numpy() # km/s\n",
    "dpi=100"
   ]
  },
  {
   "cell_type": "markdown",
   "metadata": {},
   "source": [
    "# asli"
   ]
  },
  {
   "cell_type": "code",
   "execution_count": 5,
   "metadata": {
    "execution": {
     "iopub.execute_input": "2023-11-30T05:27:46.411454Z",
     "iopub.status.busy": "2023-11-30T05:27:46.410987Z",
     "iopub.status.idle": "2023-11-30T05:27:46.416613Z",
     "shell.execute_reply": "2023-11-30T05:27:46.415608Z",
     "shell.execute_reply.started": "2023-11-30T05:27:46.411412Z"
    },
    "tags": []
   },
   "outputs": [],
   "source": [
    "boundaries = np.load(join(root_data_dir, \"boundaries.npy\"))\n"
   ]
  },
  {
   "cell_type": "code",
   "execution_count": 6,
   "metadata": {
    "execution": {
     "iopub.execute_input": "2023-11-30T05:27:48.699159Z",
     "iopub.status.busy": "2023-11-30T05:27:48.698562Z",
     "iopub.status.idle": "2023-11-30T05:27:48.704921Z",
     "shell.execute_reply": "2023-11-30T05:27:48.703702Z",
     "shell.execute_reply.started": "2023-11-30T05:27:48.699103Z"
    },
    "tags": []
   },
   "outputs": [],
   "source": [
    "c_low = boundaries[:, 0]\n",
    "c_high = boundaries[:, 1]\n",
    "\n",
    "c = (c_low + c_high) / 2"
   ]
  },
  {
   "cell_type": "code",
   "execution_count": 9,
   "metadata": {
    "execution": {
     "iopub.execute_input": "2023-11-30T05:27:51.383917Z",
     "iopub.status.busy": "2023-11-30T05:27:51.383318Z",
     "iopub.status.idle": "2023-11-30T05:27:51.588899Z",
     "shell.execute_reply": "2023-11-30T05:27:51.587961Z",
     "shell.execute_reply.started": "2023-11-30T05:27:51.383859Z"
    }
   },
   "outputs": [],
   "source": [
    "def get_bf(path):\n",
    "    files = glob(join(path, \"*.json\")) \n",
    "    files.sort()\n",
    "    files = files[:15]\n",
    "    dm = []\n",
    "    e_dm = []\n",
    "    bic = []\n",
    "    aic = []\n",
    "    for file in files:\n",
    "        stats = json.load(open(file))\n",
    "        log_bf = stats['log_bf']\n",
    "        e_log_bf = stats['e_log_bf']\n",
    "        bic.append(stats['bic'])\n",
    "        aic.append(stats['aic'])\n",
    "        dm.append(log_bf)\n",
    "        e_dm.append(e_log_bf)\n",
    "    dm = np.array(dm)\n",
    "    e_dm = np.array(e_dm)\n",
    "    bic = np.array(bic)\n",
    "    aic = np.array(aic)\n",
    "    return dm, e_dm, bic, aic\n",
    "\n",
    "stats_dir = join(root_data_dir, \"MCMC\", \"dm\", \"stats\")\n",
    "bf_dm, e_bf_dm, bic_dm, aic_dm = get_bf(stats_dir)\n",
    "\n",
    "stats_dir = join(root_data_dir, \"MCMC\", \"no\", \"stats\")\n",
    "bf_no, e_bf_no, bic_no, aic_no = get_bf(stats_dir)\n",
    "\n",
    "stats_dir = join(root_data_dir, \"MCMC\", \"mond\", \"stats\")\n",
    "bf_mond, e_bf_mond, bic_mond, aic_mond = get_bf(stats_dir)"
   ]
  },
  {
   "cell_type": "code",
   "execution_count": 10,
   "metadata": {
    "execution": {
     "iopub.execute_input": "2023-11-30T05:27:53.819153Z",
     "iopub.status.busy": "2023-11-30T05:27:53.818556Z",
     "iopub.status.idle": "2023-11-30T05:27:53.826139Z",
     "shell.execute_reply": "2023-11-30T05:27:53.825341Z",
     "shell.execute_reply.started": "2023-11-30T05:27:53.819096Z"
    }
   },
   "outputs": [
    {
     "data": {
      "text/plain": [
       "(15,)"
      ]
     },
     "execution_count": 10,
     "metadata": {},
     "output_type": "execute_result"
    }
   ],
   "source": [
    "np.array(bf_no).shape"
   ]
  },
  {
   "cell_type": "code",
   "execution_count": 56,
   "metadata": {
    "execution": {
     "iopub.execute_input": "2023-11-30T05:27:55.664559Z",
     "iopub.status.busy": "2023-11-30T05:27:55.664137Z",
     "iopub.status.idle": "2023-11-30T05:27:56.570400Z",
     "shell.execute_reply": "2023-11-30T05:27:56.569709Z",
     "shell.execute_reply.started": "2023-11-30T05:27:55.664520Z"
    }
   },
   "outputs": [
    {
     "data": {
      "image/png": "[encoded data removed]",
      "text/plain": [
       "<Figure size 432x360 with 2 Axes>"
      ]
     },
     "metadata": {
      "needs_background": "light"
     },
     "output_type": "display_data"
    }
   ],
   "source": [
    "bf_dm_no = bf_dm - bf_no\n",
    "e_bf_dm_no = np.sqrt(e_bf_dm**2 + e_bf_no**2)\n",
    "\n",
    "bf_mond_no = bf_mond - bf_no\n",
    "e_bf_mond_no = np.sqrt(e_bf_mond**2 + e_bf_no**2)\n",
    "bf_dm_mond = np.array(bf_dm) - np.array(bf_mond)\n",
    "e_bf_dm_mond = np.sqrt(np.array(e_bf_dm)**2 + np.array(e_bf_no)**2)\n",
    "\n",
    "fig, ax = plt.subplots(2, 1, figsize=(6, 5), gridspec_kw={'height_ratios': [5, 2]}, sharex=True)\n",
    "ax[0].errorbar(c, bf_dm_no, yerr=e_bf_dm_no, fmt='.', label='dm-no', color='red')\n",
    "ax[0].errorbar(c-0.003, bf_mond_no, yerr=e_bf_dm_no, fmt='s', mfc='white', markersize=3,  label='mond-no')\n",
    "ax[0].axhline(0, color='k', linestyle='--')\n",
    "ax[0].set_ylabel(r'$\\log$(BF)')\n",
    "ax[0].legend()\n",
    "plt.errorbar(c, bf_dm_mond, yerr=e_bf_dm_mond, fmt='.', c='k')\n",
    "# plt.axhline(0, color='k', linestyle='--')\n",
    "ax[1].set_xlabel(r'$J-K_s$')\n",
    "ax[1].set_ylabel(r'$\\Delta\\log$(BF)')\n",
    "ax[1].set_xlabel(r'$J-K_s$')\n",
    "# plt.xscale('log')\n",
    "plt.savefig(join(\"img\", f\"bf.pdf\"), dpi=70)\n",
    "plt.show()"
   ]
  },
  {
   "cell_type": "code",
   "execution_count": 79,
   "metadata": {},
   "outputs": [
    {
     "data": {
      "text/plain": [
       "array([ 0.00942892,  0.37914429, -0.16532779, ..., -0.91662894,\n",
       "       -1.00513641, -0.75786271])"
      ]
     },
     "execution_count": 79,
     "metadata": {},
     "output_type": "execute_result"
    }
   ],
   "source": [
    "from scipy.stats import norm\n",
    "\n",
    "n_samples = 1_000_000\n",
    "bf_dm_no_samples = np.empty((len(bf_dm_no), n_samples))\n",
    "for i, (loc, scale) in enumerate(zip(bf_dm_no, e_bf_dm_no)):\n",
    "    bf_dm_no_samples[i] = norm.rvs(size=n_samples, loc=loc, scale=scale)\n",
    "bf_dm_no_samples = bf_dm_no_samples.reshape(-1)\n",
    "bf_dm_no_samples"
   ]
  },
  {
   "cell_type": "code",
   "execution_count": 81,
   "metadata": {},
   "outputs": [
    {
     "data": {
      "image/png": "[encoded data removed]",
      "text/plain": [
       "<Figure size 432x288 with 1 Axes>"
      ]
     },
     "metadata": {
      "needs_background": "light"
     },
     "output_type": "display_data"
    }
   ],
   "source": [
    "plt.hist(bf_dm_no_samples, bins=200, density=True);"
   ]
  },
  {
   "cell_type": "code",
   "execution_count": 85,
   "metadata": {},
   "outputs": [
    {
     "name": "stdout",
     "output_type": "stream",
     "text": [
      "Rata-rata & 1.80 \\\\\n",
      "Median & 0.62 \\\\\n",
      "Std & 2.41 \\\\\n"
     ]
    }
   ],
   "source": [
    "print(f\"Rata-rata & {bf_dm_no_samples.mean():.02f} \\\\\\\\\")\n",
    "print(f\"Median & {np.median(bf_dm_no_samples):.02f} \\\\\\\\\")\n",
    "print(f\"Std & {bf_dm_no_samples.std():.02f} \\\\\\\\\")"
   ]
  },
  {
   "cell_type": "code",
   "execution_count": 82,
   "metadata": {},
   "outputs": [
    {
     "data": {
      "text/plain": [
       "array([-0.07818802,  0.25662298, -0.40812616, ..., -0.60352042,\n",
       "       -0.5963524 , -0.58446561])"
      ]
     },
     "execution_count": 82,
     "metadata": {},
     "output_type": "execute_result"
    }
   ],
   "source": [
    "n_samples = 1_000_000\n",
    "bf_mond_no_samples = np.empty((len(bf_mond_no), n_samples))\n",
    "for i, (loc, scale) in enumerate(zip(bf_mond_no, e_bf_mond_no)):\n",
    "    bf_mond_no_samples[i] = norm.rvs(size=n_samples, loc=loc, scale=scale)\n",
    "bf_mond_no_samples = bf_mond_no_samples.reshape(-1)\n",
    "bf_mond_no_samples"
   ]
  },
  {
   "cell_type": "code",
   "execution_count": 83,
   "metadata": {},
   "outputs": [
    {
     "data": {
      "image/png": "[encoded data removed]",
      "text/plain": [
       "<Figure size 432x288 with 1 Axes>"
      ]
     },
     "metadata": {
      "needs_background": "light"
     },
     "output_type": "display_data"
    }
   ],
   "source": [
    "plt.hist(bf_mond_no_samples, bins=200, density=True);"
   ]
  },
  {
   "cell_type": "code",
   "execution_count": 86,
   "metadata": {},
   "outputs": [
    {
     "name": "stdout",
     "output_type": "stream",
     "text": [
      "Rata-rata & 1.70 \\\\\n",
      "Median & 0.49 \\\\\n",
      "Std & 2.21 \\\\\n"
     ]
    }
   ],
   "source": [
    "print(f\"Rata-rata & {bf_mond_no_samples.mean():.02f} \\\\\\\\\")\n",
    "print(f\"Median & {np.median(bf_mond_no_samples):.02f} \\\\\\\\\")\n",
    "print(f\"Std & {bf_mond_no_samples.std():.02f} \\\\\\\\\")"
   ]
  },
  {
   "cell_type": "code",
   "execution_count": 12,
   "metadata": {},
   "outputs": [
    {
     "data": {
      "image/png": "[encoded data removed]",
      "text/plain": [
       "<Figure size 432x288 with 1 Axes>"
      ]
     },
     "metadata": {
      "needs_background": "light"
     },
     "output_type": "display_data"
    }
   ],
   "source": [
    "bf_dm_mond = np.array(bf_dm) - np.array(bf_mond)\n",
    "e_bf_dm_mond = np.sqrt(np.array(e_bf_dm)**2 + np.array(e_bf_no)**2)\n",
    "\n",
    "plt.errorbar(c, bf_dm_mond, yerr=e_bf_dm_mond, fmt='.')\n",
    "plt.axhline(0, color='k', linestyle='--')\n",
    "plt.xlabel(r'$J-K_s$')\n",
    "plt.ylabel(r'$\\log$(BF)')\n",
    "# plt.xscale('log')\n",
    "plt.show()"
   ]
  },
  {
   "cell_type": "code",
   "execution_count": 74,
   "metadata": {},
   "outputs": [
    {
     "data": {
      "text/plain": [
       "array([ 0.16053236,  0.1652538 , -0.05738293, ..., -0.20600693,\n",
       "       -0.18433772, -0.14239635])"
      ]
     },
     "execution_count": 74,
     "metadata": {},
     "output_type": "execute_result"
    }
   ],
   "source": [
    "from scipy.stats import norm\n",
    "\n",
    "n_samples = 1_000_000\n",
    "bf_samples = np.empty((len(bf_dm_mond), n_samples))\n",
    "for i, (loc, scale) in enumerate(zip(bf_dm_mond, e_bf_dm_mond)):\n",
    "    bf_samples[i] = norm.rvs(size=n_samples, loc=loc, scale=scale)\n",
    "bf_samples = bf_samples.reshape(-1)\n",
    "bf_samples"
   ]
  },
  {
   "cell_type": "code",
   "execution_count": 75,
   "metadata": {},
   "outputs": [
    {
     "data": {
      "image/png": "[encoded data removed]",
      "text/plain": [
       "<Figure size 432x288 with 1 Axes>"
      ]
     },
     "metadata": {
      "needs_background": "light"
     },
     "output_type": "display_data"
    }
   ],
   "source": [
    "plt.hist(bf_samples, bins=200, density=True);"
   ]
  },
  {
   "cell_type": "code",
   "execution_count": 87,
   "metadata": {
    "execution": {
     "iopub.execute_input": "2023-11-30T05:28:07.115926Z",
     "iopub.status.busy": "2023-11-30T05:28:07.115316Z",
     "iopub.status.idle": "2023-11-30T05:28:07.123199Z",
     "shell.execute_reply": "2023-11-30T05:28:07.122353Z",
     "shell.execute_reply.started": "2023-11-30T05:28:07.115862Z"
    }
   },
   "outputs": [
    {
     "name": "stdout",
     "output_type": "stream",
     "text": [
      "Rata-rata & 0.10 \\\\\n",
      "Median & 0.11 \\\\\n",
      "Std & 0.37 \\\\\n"
     ]
    }
   ],
   "source": [
    "print(f\"Rata-rata & {bf_samples.mean():.02f} \\\\\\\\\")\n",
    "print(f\"Median & {np.median(bf_samples):.02f} \\\\\\\\\")\n",
    "print(f\"Std & {bf_samples.std():.02f} \\\\\\\\\")"
   ]
  },
  {
   "cell_type": "code",
   "execution_count": 18,
   "metadata": {},
   "outputs": [
    {
     "data": {
      "text/plain": [
       "array([-13.10008682, -25.37680407, -20.27973582, -19.6242022 ,\n",
       "       -20.20488146, -33.88088934, -22.72740942, -21.58698332,\n",
       "       -36.00773413, -37.27165216, -29.43132435, -44.8896082 ,\n",
       "       -31.56651125, -29.72203898, -31.83286626])"
      ]
     },
     "execution_count": 18,
     "metadata": {},
     "output_type": "execute_result"
    }
   ],
   "source": [
    "def get_pred(path):\n",
    "    files = glob(join(path, \"*.json\")) \n",
    "    files.sort()\n",
    "    dm = []\n",
    "    for file in files:\n",
    "        stats = json.load(open(file))\n",
    "        pred = stats['predictive_posterior']\n",
    "        dm.append(pred)\n",
    "    return np.array(dm) \n",
    "\n",
    "stats_dir = join(root_data_dir, \"MCMC\", \"dm\", \"stats\")\n",
    "pred_dm = get_pred(stats_dir)\n",
    "\n",
    "stats_dir = join(root_data_dir, \"MCMC\", \"dddm\", \"stats\")\n",
    "pred_dddm = get_pred(stats_dir)\n",
    "\n",
    "stats_dir = join(root_data_dir, \"MCMC-no\", \"no\", \"stats\")\n",
    "pred_no = get_pred(stats_dir)\n",
    "pred_no"
   ]
  },
  {
   "cell_type": "code",
   "execution_count": 19,
   "metadata": {},
   "outputs": [
    {
     "data": {
      "image/png": "[encoded data removed]",
      "text/plain": [
       "<Figure size 432x288 with 1 Axes>"
      ]
     },
     "metadata": {
      "needs_background": "light"
     },
     "output_type": "display_data"
    }
   ],
   "source": [
    "pred_no_dm = pred_no - pred_dm\n",
    "pred_dddm_dm = pred_dddm - pred_dm\n",
    "plt.scatter(c, pred_dddm_dm, label='DDDM-DM')\n",
    "plt.scatter(c, pred_no_dm, label='NO-DM')\n",
    "plt.axhline(0, color='k', linestyle='--')\n",
    "# plt.plot(zs, pred_dm, label='DM')\n",
    "# plt.plot(zs, pred_dddm, label='DDDM')\n",
    "# plt.plot(zs, pred_no, label='NO')\n",
    "plt.xlabel('$J-K_s$')\n",
    "plt.ylabel(r'$\\Delta \\log$(Pred)')\n",
    "plt.legend(loc='lower left')\n",
    "plt.savefig(join(\"img\", f\"pred.pdf\"), dpi=70)\n",
    "plt.show()"
   ]
  },
  {
   "cell_type": "code",
   "execution_count": 20,
   "metadata": {},
   "outputs": [
    {
     "name": "stdout",
     "output_type": "stream",
     "text": [
      "$[-0.019,0.127]$ & -0.07 & -0.44 & 0.47 & 1.23 \\\\\n",
      "$[0.127,0.190]$ & 0.01 & 0.02 & -2.87 & -4.33 \\\\\n",
      "$[0.190,0.220]$ & 0.07 & -2.37 & -0.78 & -3.76 \\\\\n",
      "$[0.220,0.242]$ & -0.32 & -5.72 & 0.54 & -3.24 \\\\\n",
      "$[0.242,0.260]$ & 0.23 & -5.79 & 1.75 & 8.16 \\\\\n",
      "$[0.260,0.276]$ & 0.45 & -4.47 & -2.37 & -10.50 \\\\\n",
      "$[0.276,0.289]$ & 0.20 & -2.27 & 0.57 & 0.82 \\\\\n",
      "$[0.289,0.301]$ & 0.76 & -1.51 & 2.04 & 3.74 \\\\\n",
      "$[0.301,0.313]$ & 0.62 & 0.06 & -3.98 & -1.92 \\\\\n",
      "$[0.313,0.325]$ & 0.22 & 0.12 & -1.59 & -3.43 \\\\\n",
      "$[0.325,0.335]$ & -0.15 & -0.22 & -2.55 & -5.05 \\\\\n",
      "$[0.335,0.345]$ & 0.30 & 0.30 & -3.83 & -3.79 \\\\\n",
      "$[0.345,0.355]$ & -0.20 & 0.48 & -1.99 & -2.90 \\\\\n",
      "$[0.355,0.365]$ & 0.81 & 0.33 & -3.48 & -2.80 \\\\\n",
      "$[0.365,0.374]$ & 0.28 & 0.83 & -2.23 & -1.64 \\\\\n"
     ]
    }
   ],
   "source": [
    "for i in range(len(c)):\n",
    "    print(f\"$[{c_low[i]:.03f},{c_high[i]:.03f}]$ & {bf_dm_dddm[i]:.02f} & {bf_dm_no[i]:.02f} & {pred_dddm_dm[i]:.02f} & {pred_no_dm[i]:.02f} \\\\\\\\\")"
   ]
  },
  {
   "cell_type": "code",
   "execution_count": 21,
   "metadata": {},
   "outputs": [
    {
     "name": "stdout",
     "output_type": "stream",
     "text": [
      "Rata-rata & 0.21 & -1.38 & -1.35 & -1.96 \\\\\n"
     ]
    }
   ],
   "source": [
    "print(f\"Rata-rata & {bf_dm_dddm.mean():.02f} & {bf_dm_no.mean():.02f} & {pred_dddm_dm.mean():.02f} & {pred_no_dm.mean():.02f} \\\\\\\\\")"
   ]
  }
 ],
 "metadata": {
  "kernelspec": {
   "display_name": "Python 3",
   "language": "python",
   "name": "python3"
  },
  "language_info": {
   "codemirror_mode": {
    "name": "ipython",
    "version": 3
   },
   "file_extension": ".py",
   "mimetype": "text/x-python",
   "name": "python",
   "nbconvert_exporter": "python",
   "pygments_lexer": "ipython3",
   "version": "3.8.10"
  }
 },
 "nbformat": 4,
 "nbformat_minor": 4
}
