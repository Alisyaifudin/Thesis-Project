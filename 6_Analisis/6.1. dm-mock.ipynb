{
 "cells": [
  {
   "cell_type": "code",
   "execution_count": 1,
   "metadata": {},
   "outputs": [],
   "source": [
    "import sys\n",
    "from os.path import join, abspath\n",
    "from glob import glob\n",
    "import numpy as np\n",
    "import vaex\n",
    "from tqdm import tqdm\n",
    "import matplotlib.pyplot as plt\n",
    "from time import time\n",
    "from scipy.optimize import curve_fit\n",
    "from scipy.stats import norm, skewnorm"
   ]
  },
  {
   "cell_type": "code",
   "execution_count": 2,
   "metadata": {},
   "outputs": [
    {
     "data": {
      "text/plain": [
       "'/home2/s20321005/Thesis-Project'"
      ]
     },
     "execution_count": 2,
     "metadata": {},
     "output_type": "execute_result"
    }
   ],
   "source": [
    "# import utils\n",
    "root_dir = abspath(join('..'))\n",
    "root_dir"
   ]
  },
  {
   "cell_type": "code",
   "execution_count": 3,
   "metadata": {},
   "outputs": [
    {
     "data": {
      "text/plain": [
       "['/home2/s20321005/Thesis-Project/6_Analisis',\n",
       " '/home2/s20321005/.conda/envs/vaex/lib/python38.zip',\n",
       " '/home2/s20321005/.conda/envs/vaex/lib/python3.8',\n",
       " '/home2/s20321005/.conda/envs/vaex/lib/python3.8/lib-dynload',\n",
       " '',\n",
       " '/home2/s20321005/.local/lib/python3.8/site-packages',\n",
       " '/home2/s20321005/.conda/envs/vaex/lib/python3.8/site-packages',\n",
       " '/home2/s20321005/Thesis-Project']"
      ]
     },
     "execution_count": 3,
     "metadata": {},
     "output_type": "execute_result"
    }
   ],
   "source": [
    "if root_dir not in sys.path:\n",
    "    sys.path.append(root_dir)\n",
    "sys.path"
   ]
  },
  {
   "cell_type": "code",
   "execution_count": 4,
   "metadata": {},
   "outputs": [],
   "source": [
    "from utils import style, hdi, load_spectral_types"
   ]
  },
  {
   "cell_type": "code",
   "execution_count": 5,
   "metadata": {},
   "outputs": [
    {
     "data": {
      "text/html": [
       "<div>\n",
       "<style scoped>\n",
       "    .dataframe tbody tr th:only-of-type {\n",
       "        vertical-align: middle;\n",
       "    }\n",
       "\n",
       "    .dataframe tbody tr th {\n",
       "        vertical-align: top;\n",
       "    }\n",
       "\n",
       "    .dataframe thead th {\n",
       "        text-align: right;\n",
       "    }\n",
       "</style>\n",
       "<table border=\"1\" class=\"dataframe\">\n",
       "  <thead>\n",
       "    <tr style=\"text-align: right;\">\n",
       "      <th></th>\n",
       "      <th>SpT</th>\n",
       "      <th>M_J</th>\n",
       "      <th>J-H</th>\n",
       "      <th>H-Ks</th>\n",
       "      <th>J-K</th>\n",
       "    </tr>\n",
       "  </thead>\n",
       "  <tbody>\n",
       "    <tr>\n",
       "      <th>0</th>\n",
       "      <td>O9V</td>\n",
       "      <td>-3.44</td>\n",
       "      <td>-0.164</td>\n",
       "      <td>-0.071</td>\n",
       "      <td>-0.235</td>\n",
       "    </tr>\n",
       "    <tr>\n",
       "      <th>1</th>\n",
       "      <td>O9.5V</td>\n",
       "      <td>-3.30</td>\n",
       "      <td>-0.161</td>\n",
       "      <td>-0.069</td>\n",
       "      <td>-0.230</td>\n",
       "    </tr>\n",
       "    <tr>\n",
       "      <th>2</th>\n",
       "      <td>B0V</td>\n",
       "      <td>-3.17</td>\n",
       "      <td>-0.159</td>\n",
       "      <td>-0.067</td>\n",
       "      <td>-0.226</td>\n",
       "    </tr>\n",
       "    <tr>\n",
       "      <th>3</th>\n",
       "      <td>B0.5V</td>\n",
       "      <td>-2.80</td>\n",
       "      <td>-0.153</td>\n",
       "      <td>-0.063</td>\n",
       "      <td>-0.216</td>\n",
       "    </tr>\n",
       "    <tr>\n",
       "      <th>4</th>\n",
       "      <td>B1V</td>\n",
       "      <td>-2.33</td>\n",
       "      <td>-0.148</td>\n",
       "      <td>-0.059</td>\n",
       "      <td>-0.207</td>\n",
       "    </tr>\n",
       "    <tr>\n",
       "      <th>...</th>\n",
       "      <td>...</td>\n",
       "      <td>...</td>\n",
       "      <td>...</td>\n",
       "      <td>...</td>\n",
       "      <td>...</td>\n",
       "    </tr>\n",
       "    <tr>\n",
       "      <th>95</th>\n",
       "      <td>T6V</td>\n",
       "      <td>15.34</td>\n",
       "      <td>0.100</td>\n",
       "      <td>-0.030</td>\n",
       "      <td>0.070</td>\n",
       "    </tr>\n",
       "    <tr>\n",
       "      <th>96</th>\n",
       "      <td>T7V</td>\n",
       "      <td>15.83</td>\n",
       "      <td>0.000</td>\n",
       "      <td>0.000</td>\n",
       "      <td>0.000</td>\n",
       "    </tr>\n",
       "    <tr>\n",
       "      <th>97</th>\n",
       "      <td>T7.5V</td>\n",
       "      <td>16.61</td>\n",
       "      <td>0.200</td>\n",
       "      <td>-0.050</td>\n",
       "      <td>0.150</td>\n",
       "    </tr>\n",
       "    <tr>\n",
       "      <th>98</th>\n",
       "      <td>T8V</td>\n",
       "      <td>17.30</td>\n",
       "      <td>0.200</td>\n",
       "      <td>-0.050</td>\n",
       "      <td>0.150</td>\n",
       "    </tr>\n",
       "    <tr>\n",
       "      <th>99</th>\n",
       "      <td>T9V</td>\n",
       "      <td>18.51</td>\n",
       "      <td>0.100</td>\n",
       "      <td>-0.200</td>\n",
       "      <td>-0.100</td>\n",
       "    </tr>\n",
       "  </tbody>\n",
       "</table>\n",
       "<p>100 rows × 5 columns</p>\n",
       "</div>"
      ],
      "text/plain": [
       "      SpT    M_J    J-H   H-Ks    J-K\n",
       "0     O9V  -3.44 -0.164 -0.071 -0.235\n",
       "1   O9.5V  -3.30 -0.161 -0.069 -0.230\n",
       "2     B0V  -3.17 -0.159 -0.067 -0.226\n",
       "3   B0.5V  -2.80 -0.153 -0.063 -0.216\n",
       "4     B1V  -2.33 -0.148 -0.059 -0.207\n",
       "..    ...    ...    ...    ...    ...\n",
       "95    T6V  15.34  0.100 -0.030  0.070\n",
       "96    T7V  15.83  0.000  0.000  0.000\n",
       "97  T7.5V  16.61  0.200 -0.050  0.150\n",
       "98    T8V  17.30  0.200 -0.050  0.150\n",
       "99    T9V  18.51  0.100 -0.200 -0.100\n",
       "\n",
       "[100 rows x 5 columns]"
      ]
     },
     "execution_count": 5,
     "metadata": {},
     "output_type": "execute_result"
    }
   ],
   "source": [
    "sp = load_spectral_types()\n",
    "sp"
   ]
  },
  {
   "cell_type": "code",
   "execution_count": 6,
   "metadata": {},
   "outputs": [],
   "source": [
    "style(name=\"seaborn-notebook\")"
   ]
  },
  {
   "cell_type": "code",
   "execution_count": 7,
   "metadata": {},
   "outputs": [
    {
     "data": {
      "text/plain": [
       "'/home2/s20321005/Thesis-Project/Data'"
      ]
     },
     "execution_count": 7,
     "metadata": {},
     "output_type": "execute_result"
    }
   ],
   "source": [
    "root_data_dir = abspath(join(root_dir, \"Data\"))\n",
    "root_data_dir"
   ]
  },
  {
   "cell_type": "code",
   "execution_count": 8,
   "metadata": {},
   "outputs": [],
   "source": [
    "data_baryon_dir = join(root_data_dir, \"Baryon\")\n",
    "# load baryons components\n",
    "df_baryon = vaex.open(join(data_baryon_dir, \"baryon.hdf5\"))\n",
    "rhos = df_baryon[\"rho\"].to_numpy()  # Msun/pc^3\n",
    "sigmaz = df_baryon[\"sigma_z\"].to_numpy() # km/s\n",
    "\n",
    "e_rhos = df_baryon[\"e_rho\"].to_numpy()  # Msun/pc^3\n",
    "e_sigmaz = df_baryon[\"e_sigma_z\"].to_numpy() # km/s\n",
    "dpi=100"
   ]
  },
  {
   "cell_type": "code",
   "execution_count": 9,
   "metadata": {},
   "outputs": [
    {
     "data": {
      "text/plain": [
       "(0.0, 1.0)"
      ]
     },
     "execution_count": 9,
     "metadata": {},
     "output_type": "execute_result"
    },
    {
     "data": {
      "image/png": "[encoded data removed]",
      "text/plain": [
       "<Figure size 432x288 with 1 Axes>"
      ]
     },
     "metadata": {
      "needs_background": "light"
     },
     "output_type": "display_data"
    }
   ],
   "source": [
    "from scipy.stats import norm\n",
    "def compz(z):\n",
    "    a = -2*norm.pdf(z, loc=0, scale=10) -200*norm.pdf(z, loc=0, scale=300)\n",
    "    return a+0.7\n",
    "\n",
    "zz = np.linspace(-200, 200, 1000)\n",
    "\n",
    "plt.plot(zz, compz(zz))\n",
    "plt.ylim(0,1)\n"
   ]
  },
  {
   "cell_type": "markdown",
   "metadata": {},
   "source": [
    "## thin"
   ]
  },
  {
   "cell_type": "code",
   "execution_count": 10,
   "metadata": {},
   "outputs": [
    {
     "data": {
      "text/plain": [
       "'/home2/s20321005/Thesis-Project/Data/MCMC-mock/thin/dm/data'"
      ]
     },
     "execution_count": 10,
     "metadata": {},
     "output_type": "execute_result"
    }
   ],
   "source": [
    "mcmc_dir = join(root_data_dir, \"MCMC-mock\", \"thin\", \"dm\", \"data\")\n",
    "mcmc_dir"
   ]
  },
  {
   "cell_type": "code",
   "execution_count": 11,
   "metadata": {},
   "outputs": [
    {
     "data": {
      "text/plain": [
       "['/home2/s20321005/Thesis-Project/Data/MCMC-mock/thin/dm/data/chain-0001000.npy',\n",
       " '/home2/s20321005/Thesis-Project/Data/MCMC-mock/thin/dm/data/chain-0010000.npy',\n",
       " '/home2/s20321005/Thesis-Project/Data/MCMC-mock/thin/dm/data/chain-0100000.npy']"
      ]
     },
     "execution_count": 11,
     "metadata": {},
     "output_type": "execute_result"
    }
   ],
   "source": [
    "files = glob(join(mcmc_dir, \"chain-*\"))\n",
    "files.sort()\n",
    "files"
   ]
  },
  {
   "attachments": {},
   "cell_type": "markdown",
   "metadata": {},
   "source": [
    "## tes"
   ]
  },
  {
   "cell_type": "code",
   "execution_count": 12,
   "metadata": {},
   "outputs": [
    {
     "data": {
      "text/plain": [
       "(2500, 330, 33)"
      ]
     },
     "execution_count": 12,
     "metadata": {},
     "output_type": "execute_result"
    }
   ],
   "source": [
    "index = 0\n",
    "df = np.load(files[index])\n",
    "df.shape"
   ]
  },
  {
   "cell_type": "code",
   "execution_count": 13,
   "metadata": {},
   "outputs": [],
   "source": [
    "rhob = df[:, :, 12:24]\n",
    "rhob = rhob.reshape(-1, 12)\n",
    "rhob = rhob.sum(axis=1)/1E-2\n",
    "rhoDM = df[:, :, 24].reshape(-1)/1E-2\n",
    "length = len(rhob)\n",
    "rhob0 = np.empty((length, 12))\n",
    "for i in range(12):\n",
    "    rhob0[:,i] = norm.rvs(loc=rhos[i], scale=e_rhos[i], size=length)\n",
    "rhob0 = rhob0.sum(axis=1)/1E-2"
   ]
  },
  {
   "cell_type": "code",
   "execution_count": 14,
   "metadata": {},
   "outputs": [],
   "source": [
    "rhob0_sample = np.random.choice(rhob0, size=50_000, replace=False)\n",
    "rhob0_fit = norm.fit(rhob0_sample)"
   ]
  },
  {
   "cell_type": "code",
   "execution_count": 15,
   "metadata": {},
   "outputs": [
    {
     "name": "stdout",
     "output_type": "stream",
     "text": [
      "rhob0 = 8.90 +0.70/-0.71\n"
     ]
    },
    {
     "data": {
      "image/png": "[encoded data removed]",
      "text/plain": [
       "<Figure size 576x432 with 1 Axes>"
      ]
     },
     "metadata": {
      "needs_background": "light"
     },
     "output_type": "display_data"
    }
   ],
   "source": [
    "sigmas = np.array([68, 90, 95])\n",
    "alpha = 1 - sigmas/100\n",
    "\n",
    "rhob0_low = []\n",
    "rhob0_high = []\n",
    "rhob0_mode = rhob0_fit[0]\n",
    "for i, alp in enumerate(alpha):\n",
    "    hpd, modes = hdi(lambda x: norm.pdf(x, *rhob0_fit), low=5, high=12.5, alpha=alp)\n",
    "    low, high = hpd[0]\n",
    "    rhob0_low.append(low)\n",
    "    rhob0_high.append(high)\n",
    "# plot\n",
    "rho = np.linspace(5, 12.5, 50)\n",
    "fig, ax = plt.subplots(figsize=(8, 6))\n",
    "ax.hist(rhob0, bins=rho, density=True, label='Baryon0', ec='k', alpha=0.5, color='C2')\n",
    "ax.plot(rho, norm.pdf(rho, *rhob0_fit), label='Baryon0 fit', color='C2', ls='--')\n",
    "ax.axvline(rhob0_mode, color='C2', ls='-.')\n",
    "for low, high in zip(rhob0_low, rhob0_high):\n",
    "    ax.axvline(low, color='C2', ls='--')\n",
    "    ax.axvline(high, color='C2', ls='--')\n",
    "ax.set_xlabel(r'$\\rho$')\n",
    "ax.set_ylabel(r'$f$')\n",
    "ax.legend()\n",
    "print(f'rhob0 = {rhob0_mode:.02f} +{rhob0_high[0]-rhob0_mode:.02f}/-{rhob0_mode-rhob0_low[0]:.02f}')"
   ]
  },
  {
   "cell_type": "code",
   "execution_count": 16,
   "metadata": {},
   "outputs": [
    {
     "name": "stderr",
     "output_type": "stream",
     "text": [
      "100%|██████████| 3/3 [00:02<00:00,  1.35it/s]\n"
     ]
    }
   ],
   "source": [
    "from tqdm import tqdm\n",
    "\n",
    "rhoDM_modes_thin = []\n",
    "rhoDM_errs_thin = []\n",
    "rhob_modes_thin = []\n",
    "rhob_errs_thin = []\n",
    "rhoDM_fits_thin = []\n",
    "\n",
    "for file in tqdm(files):\n",
    "    df = np.load(file)\n",
    "    rhob = df[:, :, 12:24]\n",
    "    rhob = rhob.reshape(-1, 12)\n",
    "    rhob = rhob.sum(axis=1)/1E-2\n",
    "    rhoDM = df[:, :, 24].reshape(-1)/1E-2\n",
    "    # print(\"fitting...\")\n",
    "    rhoDM_sample = np.random.choice(rhoDM, size=10_000, replace=False)\n",
    "    rhoDM_fit = skewnorm.fit(rhoDM_sample)\n",
    "    rhoDM_fits_thin.append(rhoDM_fit)\n",
    "    rhob_sample = np.random.choice(rhob, size=10_000, replace=False)\n",
    "    rhob_fit = skewnorm.fit(rhob_sample)\n",
    "    # print(\"calculating HDI...\")\n",
    "    rhoDM_err = []\n",
    "    rhob_err = []\n",
    "    rhoDM_mode = None\n",
    "    rhob_mode = None\n",
    "    for i, alp in enumerate(alpha):\n",
    "        hpd, modes = hdi(lambda x: skewnorm.pdf(x, *rhoDM_fit), -5, 10, alpha=alp)\n",
    "        rhoDM_mode = modes[0]\n",
    "        low, high = hpd[0]\n",
    "        rhoDM_err.append({'alpha': alp, 'low': low, 'high': high})\n",
    "\n",
    "        hpd, modes = hdi(lambda x: skewnorm.pdf(x, *rhob_fit), 5, 15, alpha=alp)\n",
    "        rhob_mode = modes[0]\n",
    "        low, high = hpd[0]\n",
    "        rhob_err.append({'alpha': alp, 'low': low, 'high': high})\n",
    "    rhoDM_errs_thin.append(rhoDM_err)\n",
    "    rhob_errs_thin.append(rhob_err)\n",
    "    rhoDM_modes_thin.append(rhoDM_mode)\n",
    "    rhob_modes_thin.append(rhob_mode)"
   ]
  },
  {
   "cell_type": "code",
   "execution_count": 19,
   "metadata": {},
   "outputs": [
    {
     "data": {
      "image/png": "[encoded data removed]",
      "text/plain": [
       "<Figure size 576x432 with 1 Axes>"
      ]
     },
     "metadata": {
      "needs_background": "light"
     },
     "output_type": "display_data"
    }
   ],
   "source": [
    "ns = [1000, 10000, 100000]\n",
    "fig, ax = plt.subplots(figsize=(8, 6))\n",
    "ax.axhline(y=rhob0_mode, color='black', linestyle='--')\n",
    "for i in range(3):\n",
    "    low = np.array([err[i]['low'] for err in rhoDM_errs_thin])\n",
    "    high = np.array([err[i]['high'] for err in rhoDM_errs_thin])\n",
    "    dm_ax = ax.errorbar(ns, rhoDM_modes_thin, yerr=[rhoDM_modes_thin-low, high-rhoDM_modes_thin], fmt='o', color='blue', capsize=3, alpha=0.5, elinewidth=3, markeredgewidth=1)\n",
    "    low = np.array([err[i]['low'] for err in rhob_errs_thin])\n",
    "    high = np.array([err[i]['high'] for err in rhob_errs_thin])\n",
    "    rhob_ax = ax.errorbar(ns, rhob_modes_thin, yerr=[rhob_modes_thin-low, high-rhob_modes_thin], fmt='o', color='red', capsize=3, alpha=0.5, elinewidth=3, markeredgewidth=1)\n",
    "    rhob0 = ax.fill_between([0, 200000], [rhob0_low[i], rhob0_low[i]], [rhob0_high[i], rhob0_high[i]], color='black', alpha=0.1)\n",
    "    if i == 2:\n",
    "        ax.legend([dm_ax, rhob_ax, rhob0], \n",
    "                  [r'$\\rho_{\\textup{DM}}$', r'$\\rho_{b}$', r'$\\rho_{b0}$'],\n",
    "                  loc='best', fontsize=12)\n",
    "# real value\n",
    "ax.set_xlabel(r'$N$', fontsize=16)\n",
    "ax.set_ylabel(r'$\\rho$ [$\\times 10^{-2}M_{\\odot}\\ $pc$^{-3}$]', fontsize=16)\n",
    "ax.set_title(\"Kerapatan Materi Gelap \\& Baryon\", fontsize=16)\n",
    "ax.grid()\n",
    "ax.set_xscale('log')\n",
    "ax.set_xlim(0, 200_000)\n",
    "fig.savefig(join('img', 'rhoDM-mock-thin.pdf'), dpi=70)\n",
    "plt.show()\n"
   ]
  },
  {
   "cell_type": "code",
   "execution_count": 18,
   "metadata": {},
   "outputs": [
    {
     "data": {
      "text/plain": [
       "([[{'alpha': 0.31999999999999995, 'low': 1.74, 'high': 4.37},\n",
       "   {'alpha': 0.09999999999999998, 'low': 1.0, 'high': 5.4},\n",
       "   {'alpha': 0.050000000000000044, 'low': 0.65, 'high': 5.93}],\n",
       "  [{'alpha': 0.31999999999999995, 'low': 1.63, 'high': 2.93},\n",
       "   {'alpha': 0.09999999999999998, 'low': 1.21, 'high': 3.36},\n",
       "   {'alpha': 0.050000000000000044, 'low': 1.0, 'high': 3.57}],\n",
       "  [{'alpha': 0.31999999999999995, 'low': 1.78, 'high': 2.84},\n",
       "   {'alpha': 0.09999999999999998, 'low': 1.42, 'high': 3.19},\n",
       "   {'alpha': 0.050000000000000044, 'low': 1.25, 'high': 3.35}]],\n",
       " [2.97, 2.29, 2.31])"
      ]
     },
     "execution_count": 18,
     "metadata": {},
     "output_type": "execute_result"
    }
   ],
   "source": [
    "rhoDM_errs_thin, rhoDM_modes_thin"
   ]
  },
  {
   "cell_type": "markdown",
   "metadata": {},
   "source": [
    "## thick"
   ]
  },
  {
   "cell_type": "code",
   "execution_count": 20,
   "metadata": {},
   "outputs": [
    {
     "data": {
      "text/plain": [
       "'/home2/s20321005/Thesis-Project/Data/MCMC-mock/thic/dm/data'"
      ]
     },
     "execution_count": 20,
     "metadata": {},
     "output_type": "execute_result"
    }
   ],
   "source": [
    "mcmc_dir = join(root_data_dir, \"MCMC-mock\", \"thic\", \"dm\", \"data\")\n",
    "mcmc_dir"
   ]
  },
  {
   "cell_type": "code",
   "execution_count": 21,
   "metadata": {},
   "outputs": [
    {
     "data": {
      "text/plain": [
       "['/home2/s20321005/Thesis-Project/Data/MCMC-mock/thic/dm/data/chain-0001000.npy',\n",
       " '/home2/s20321005/Thesis-Project/Data/MCMC-mock/thic/dm/data/chain-0010000.npy',\n",
       " '/home2/s20321005/Thesis-Project/Data/MCMC-mock/thic/dm/data/chain-0100000.npy']"
      ]
     },
     "execution_count": 21,
     "metadata": {},
     "output_type": "execute_result"
    }
   ],
   "source": [
    "files = glob(join(mcmc_dir, \"chain-*\"))\n",
    "files.sort()\n",
    "files"
   ]
  },
  {
   "cell_type": "code",
   "execution_count": 22,
   "metadata": {},
   "outputs": [
    {
     "data": {
      "text/plain": [
       "(2500, 330, 33)"
      ]
     },
     "execution_count": 22,
     "metadata": {},
     "output_type": "execute_result"
    }
   ],
   "source": [
    "index = 0\n",
    "df = np.load(files[index])\n",
    "df.shape"
   ]
  },
  {
   "cell_type": "code",
   "execution_count": 23,
   "metadata": {},
   "outputs": [],
   "source": [
    "rhob = df[:, :, 12:24]\n",
    "rhob = rhob.reshape(-1, 12)\n",
    "rhob = rhob.sum(axis=1)/1E-2\n",
    "rhoDM = df[:, :, 24].reshape(-1)/1E-2\n",
    "length = len(rhob)\n",
    "rhob0 = np.empty((length, 12))\n",
    "for i in range(12):\n",
    "    rhob0[:,i] = norm.rvs(loc=rhos[i], scale=e_rhos[i], size=length)\n",
    "rhob0 = rhob0.sum(axis=1)/1E-2"
   ]
  },
  {
   "cell_type": "code",
   "execution_count": 24,
   "metadata": {},
   "outputs": [],
   "source": [
    "rhob0_sample = np.random.choice(rhob0, size=50_000, replace=False)\n",
    "rhob0_fit = norm.fit(rhob0_sample)"
   ]
  },
  {
   "cell_type": "code",
   "execution_count": 25,
   "metadata": {},
   "outputs": [
    {
     "name": "stdout",
     "output_type": "stream",
     "text": [
      "rhob0 = 8.90 +0.70/-0.71\n"
     ]
    },
    {
     "data": {
      "image/png": "[encoded data removed]",
      "text/plain": [
       "<Figure size 576x432 with 1 Axes>"
      ]
     },
     "metadata": {
      "needs_background": "light"
     },
     "output_type": "display_data"
    }
   ],
   "source": [
    "rhob0_low = []\n",
    "rhob0_high = []\n",
    "for i, alp in enumerate(alpha):\n",
    "    hpd, modes = hdi(lambda x: norm.pdf(x, *rhob0_fit), low=5, high=12.5, alpha=alp)\n",
    "    low, high = hpd[0]\n",
    "    rhob0_low.append(low)\n",
    "    rhob0_high.append(high)\n",
    "# plot\n",
    "rho = np.linspace(5, 12.5, 50)\n",
    "fig, ax = plt.subplots(figsize=(8, 6))\n",
    "ax.hist(rhob0, bins=rho, density=True, label='Baryon0', ec='k', alpha=0.5, color='C2')\n",
    "ax.plot(rho, norm.pdf(rho, *rhob0_fit), label='Baryon0 fit', color='C2', ls='--')\n",
    "ax.axvline(rhob0_mode, color='C2', ls='-.')\n",
    "for low, high in zip(rhob0_low, rhob0_high):\n",
    "    ax.axvline(low, color='C2', ls='--')\n",
    "    ax.axvline(high, color='C2', ls='--')\n",
    "ax.set_xlabel(r'$\\rho$')\n",
    "ax.set_ylabel(r'$f$')\n",
    "ax.legend()\n",
    "print(f'rhob0 = {rhob0_mode:.02f} +{rhob0_high[0]-rhob0_mode:.02f}/-{rhob0_mode-rhob0_low[0]:.02f}')"
   ]
  },
  {
   "cell_type": "code",
   "execution_count": 26,
   "metadata": {},
   "outputs": [
    {
     "name": "stderr",
     "output_type": "stream",
     "text": [
      "100%|██████████| 3/3 [00:01<00:00,  1.90it/s]\n"
     ]
    }
   ],
   "source": [
    "from tqdm import tqdm\n",
    "\n",
    "rhoDM_modes_thic = []\n",
    "rhoDM_errs_thic = []\n",
    "rhob_modes_thic = []\n",
    "rhob_errs_thic = []\n",
    "rhoDM_fits_thic = []\n",
    "\n",
    "for file in tqdm(files):\n",
    "    df = np.load(file)\n",
    "    rhob = df[:, :, 12:24]\n",
    "    rhob = rhob.reshape(-1, 12)\n",
    "    rhob = rhob.sum(axis=1)/1E-2\n",
    "    rhoDM = df[:, :, 24].reshape(-1)/1E-2\n",
    "    # print(\"fitting...\")\n",
    "    rhoDM_sample = np.random.choice(rhoDM, size=10_000, replace=False)\n",
    "    rhoDM_fit = skewnorm.fit(rhoDM_sample)\n",
    "    rhoDM_fits_thic.append(rhoDM_fit)\n",
    "    rhob_sample = np.random.choice(rhob, size=10_000, replace=False)\n",
    "    rhob_fit = skewnorm.fit(rhob_sample)\n",
    "    # print(\"calculating HDI...\")\n",
    "    rhoDM_err = []\n",
    "    rhob_err = []\n",
    "    rhoDM_mode = None\n",
    "    rhob_mode = None\n",
    "    for i, alp in enumerate(alpha):\n",
    "        hpd, modes = hdi(lambda x: skewnorm.pdf(x, *rhoDM_fit), -5, 10, alpha=alp)\n",
    "        rhoDM_mode = modes[0]\n",
    "        low, high = hpd[0]\n",
    "        rhoDM_err.append({'alpha': alp, 'low': low, 'high': high})\n",
    "\n",
    "        hpd, modes = hdi(lambda x: skewnorm.pdf(x, *rhob_fit), 5, 15, alpha=alp)\n",
    "        rhob_mode = modes[0]\n",
    "        low, high = hpd[0]\n",
    "        rhob_err.append({'alpha': alp, 'low': low, 'high': high})\n",
    "    rhoDM_errs_thic.append(rhoDM_err)\n",
    "    rhob_errs_thic.append(rhob_err)\n",
    "    rhoDM_modes_thic.append(rhoDM_mode)\n",
    "    rhob_modes_thic.append(rhob_mode)"
   ]
  },
  {
   "cell_type": "code",
   "execution_count": 27,
   "metadata": {},
   "outputs": [
    {
     "data": {
      "image/png": "[encoded data removed]",
      "text/plain": [
       "<Figure size 576x432 with 1 Axes>"
      ]
     },
     "metadata": {
      "needs_background": "light"
     },
     "output_type": "display_data"
    }
   ],
   "source": [
    "ns = [1000, 10000, 100000]\n",
    "fig, ax = plt.subplots(figsize=(8, 6))\n",
    "ax.axhline(y=rhob0_mode, color='black', linestyle='--')\n",
    "for i in range(3):\n",
    "    low = np.array([err[i]['low'] for err in rhoDM_errs_thic])\n",
    "    high = np.array([err[i]['high'] for err in rhoDM_errs_thic])\n",
    "    dm_ax = ax.errorbar(ns, rhoDM_modes_thic, yerr=[rhoDM_modes_thic-low, high-rhoDM_modes_thic], fmt='o', color='blue', capsize=3, alpha=0.5, elinewidth=3, markeredgewidth=1)\n",
    "    low = np.array([err[i]['low'] for err in rhob_errs_thic])\n",
    "    high = np.array([err[i]['high'] for err in rhob_errs_thic])\n",
    "    rhob_ax = ax.errorbar(ns, rhob_modes_thic, yerr=[rhob_modes_thic-low, high-rhob_modes_thic], fmt='o', color='red', capsize=3, alpha=0.5, elinewidth=3, markeredgewidth=1)\n",
    "    rhob0 = ax.fill_between([0, 200000], [rhob0_low[i], rhob0_low[i]], [rhob0_high[i], rhob0_high[i]], color='black', alpha=0.1)\n",
    "    if i == 2:\n",
    "        ax.legend([dm_ax, rhob_ax, rhob0], \n",
    "                  [r'$\\rho_{\\textup{DM}}$', r'$\\rho_{b}$', r'$\\rho_{b0}$'],\n",
    "                  loc='best', fontsize=12)\n",
    "# real value\n",
    "ax.set_xlabel(r'$N$', fontsize=16)\n",
    "ax.set_ylabel(r'$\\rho$ [$\\times 10^{-2}M_{\\odot}\\ $pc$^{-3}$]', fontsize=16)\n",
    "ax.set_title(\"Kerapatan Materi Gelap \\& Baryon\", fontsize=16)\n",
    "ax.grid()\n",
    "ax.set_xscale('log')\n",
    "ax.set_xlim(0, 200_000)\n",
    "fig.savefig(join('img', 'rhoDM-mock-thic.pdf'), dpi=70)\n",
    "plt.show()\n"
   ]
  },
  {
   "cell_type": "code",
   "execution_count": 28,
   "metadata": {},
   "outputs": [
    {
     "data": {
      "text/plain": [
       "([[{'alpha': 0.31999999999999995, 'low': -0.31, 'high': 2.95},\n",
       "   {'alpha': 0.09999999999999998, 'low': -1.34, 'high': 4.06},\n",
       "   {'alpha': 0.050000000000000044, 'low': -1.83, 'high': 4.6}],\n",
       "  [{'alpha': 0.31999999999999995, 'low': 1.42, 'high': 2.89},\n",
       "   {'alpha': 0.09999999999999998, 'low': 0.94, 'high': 3.37},\n",
       "   {'alpha': 0.050000000000000044, 'low': 0.7, 'high': 3.61}],\n",
       "  [{'alpha': 0.31999999999999995, 'low': 1.72, 'high': 2.83},\n",
       "   {'alpha': 0.09999999999999998, 'low': 1.35, 'high': 3.2},\n",
       "   {'alpha': 0.050000000000000044, 'low': 1.17, 'high': 3.37}]],\n",
       " [1.29, 2.16, 2.27])"
      ]
     },
     "execution_count": 28,
     "metadata": {},
     "output_type": "execute_result"
    }
   ],
   "source": [
    "rhoDM_errs_thic, rhoDM_modes_thic"
   ]
  }
 ],
 "metadata": {
  "kernelspec": {
   "display_name": "vaex",
   "language": "python",
   "name": "python3"
  },
  "language_info": {
   "codemirror_mode": {
    "name": "ipython",
    "version": 3
   },
   "file_extension": ".py",
   "mimetype": "text/x-python",
   "name": "python",
   "nbconvert_exporter": "python",
   "pygments_lexer": "ipython3",
   "version": "3.8.10"
  },
  "orig_nbformat": 4
 },
 "nbformat": 4,
 "nbformat_minor": 2
}
