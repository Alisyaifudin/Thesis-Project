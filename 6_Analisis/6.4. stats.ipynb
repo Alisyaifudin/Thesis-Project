{
 "cells": [
  {
   "cell_type": "code",
   "execution_count": 1,
   "metadata": {},
   "outputs": [
    {
     "data": {
      "text/plain": [
       "['/home2/s20321005/Thesis-Project/6_Analisis',\n",
       " '/home2/s20321005/.conda/envs/vaex/lib/python38.zip',\n",
       " '/home2/s20321005/.conda/envs/vaex/lib/python3.8',\n",
       " '/home2/s20321005/.conda/envs/vaex/lib/python3.8/lib-dynload',\n",
       " '',\n",
       " '/home2/s20321005/.local/lib/python3.8/site-packages',\n",
       " '/home2/s20321005/.conda/envs/vaex/lib/python3.8/site-packages',\n",
       " '/home2/s20321005/Thesis-Project']"
      ]
     },
     "execution_count": 1,
     "metadata": {},
     "output_type": "execute_result"
    }
   ],
   "source": [
    "import warnings\n",
    "warnings.filterwarnings('ignore')\n",
    "import numpy as np\n",
    "from os.path import abspath, join\n",
    "import sys\n",
    "root_dir = abspath(join('..'))\n",
    "sys.path.append(root_dir)\n",
    "from glob import glob\n",
    "import vaex\n",
    "from datetime import datetime\n",
    "import json\n",
    "import matplotlib.pyplot as plt\n",
    "sys.path"
   ]
  },
  {
   "cell_type": "code",
   "execution_count": 2,
   "metadata": {},
   "outputs": [],
   "source": [
    "from utils import style\n",
    "\n",
    "style()"
   ]
  },
  {
   "cell_type": "code",
   "execution_count": 3,
   "metadata": {},
   "outputs": [
    {
     "data": {
      "text/plain": [
       "'/home2/s20321005/Thesis-Project/Data'"
      ]
     },
     "execution_count": 3,
     "metadata": {},
     "output_type": "execute_result"
    }
   ],
   "source": [
    "root_data_dir = abspath(join(root_dir, \"Data\"))\n",
    "root_data_dir"
   ]
  },
  {
   "cell_type": "code",
   "execution_count": 4,
   "metadata": {},
   "outputs": [],
   "source": [
    "data_baryon_dir = join(root_data_dir, \"Baryon\")\n",
    "# load baryons components\n",
    "df_baryon = vaex.open(join(data_baryon_dir, \"baryon.hdf5\"))\n",
    "rhos = df_baryon[\"rho\"].to_numpy()  # Msun/pc^3\n",
    "sigmaz = df_baryon[\"sigma_z\"].to_numpy() # km/s\n",
    "\n",
    "e_rhos = df_baryon[\"e_rho\"].to_numpy()  # Msun/pc^3\n",
    "e_sigmaz = df_baryon[\"e_sigma_z\"].to_numpy() # km/s\n",
    "dpi=100"
   ]
  },
  {
   "cell_type": "markdown",
   "metadata": {},
   "source": [
    "## thin"
   ]
  },
  {
   "cell_type": "code",
   "execution_count": 5,
   "metadata": {},
   "outputs": [],
   "source": [
    "def get_bf(path):\n",
    "    files = glob(join(path, \"*.json\")) \n",
    "    files.sort()\n",
    "    ns  = []\n",
    "    dm = []\n",
    "    e_dm = []\n",
    "    bic = []\n",
    "    aic = []\n",
    "    for file in files:\n",
    "        stats = json.load(open(file))\n",
    "        n = int(stats[\"name\"])\n",
    "        log_bf = stats['log_bf']\n",
    "        e_log_bf = stats['e_log_bf']\n",
    "        ns.append(n)\n",
    "        dm.append(log_bf)\n",
    "        e_dm.append(e_log_bf)\n",
    "        bic.append(stats['bic'])\n",
    "        aic.append(stats['aic'])\n",
    "    return ns, dm, e_dm, bic, aic\n",
    "\n",
    "t = 'thin'\n",
    "stats_dir = join(root_data_dir, \"MCMC-mock\", t, \"dm\", \"stats\")\n",
    "ns, dm, e_dm, bic_dm, aic_dm = get_bf(stats_dir)\n",
    "\n",
    "stats_dir = join(root_data_dir, \"MCMC-mock\", t, \"dddm\", \"stats\")\n",
    "ns, dddm, e_dddm, bic_dddm, aic_dddm = get_bf(stats_dir)\n",
    "\n",
    "stats_dir = join(root_data_dir, \"MCMC-mock\", t, \"no\", \"stats\")\n",
    "ns, no, e_no, bic_no, aic_no = get_bf(stats_dir)"
   ]
  },
  {
   "cell_type": "code",
   "execution_count": 6,
   "metadata": {},
   "outputs": [
    {
     "data": {
      "image/png": "[encoded data removed]",
      "text/plain": [
       "<Figure size 432x288 with 1 Axes>"
      ]
     },
     "metadata": {
      "needs_background": "light"
     },
     "output_type": "display_data"
    }
   ],
   "source": [
    "dm_dddm = np.array(dddm) - np.array(dm) \n",
    "e_dm_dddm = np.sqrt(np.array(e_dm)**2 + np.array(e_dddm)**2)\n",
    "dm_no = np.array(no) - np.array(dm)\n",
    "e_dm_no = np.sqrt(np.array(e_dm)**2 + np.array(e_no)**2)\n",
    "\n",
    "plt.errorbar(ns, dm_dddm, yerr=e_dm_dddm, fmt='.', label='DDDM-DM')\n",
    "plt.errorbar(ns, dm_no, yerr=e_dm_no, fmt='.', label='NO-DM')\n",
    "plt.axhline(0, color='k', linestyle='--')\n",
    "plt.xlabel('N')\n",
    "plt.ylabel(r'$\\log$(BF)')\n",
    "plt.legend()\n",
    "plt.xscale('log')\n",
    "# plt.savefig(join(\"img\", f\"bf_{t}.pdf\"), dpi=dpi)\n",
    "plt.show()"
   ]
  },
  {
   "cell_type": "code",
   "execution_count": 7,
   "metadata": {},
   "outputs": [
    {
     "data": {
      "text/plain": [
       "(array([-0.13303523,  0.47441321, -0.31475163]),\n",
       " array([-1.6251896, -1.5463256, -3.4737783]))"
      ]
     },
     "execution_count": 7,
     "metadata": {},
     "output_type": "execute_result"
    }
   ],
   "source": [
    "dm_dddm, dm_no"
   ]
  },
  {
   "cell_type": "code",
   "execution_count": 8,
   "metadata": {},
   "outputs": [
    {
     "data": {
      "image/png": "[encoded data removed]",
      "text/plain": [
       "<Figure size 432x288 with 1 Axes>"
      ]
     },
     "metadata": {
      "needs_background": "light"
     },
     "output_type": "display_data"
    }
   ],
   "source": [
    "bic_dddm_dm = np.array(bic_dddm) - np.array(bic_dm)\n",
    "bic_no_dm = np.array(bic_no) - np.array(bic_dm)\n",
    "\n",
    "plt.plot(ns, bic_dddm_dm, '.', label='DDDM-DM')\n",
    "plt.plot(ns, bic_no_dm, '.', label='NO-DM')\n",
    "plt.axhline(0, color='k', linestyle='--')\n",
    "plt.xlabel('n')\n",
    "plt.ylabel(r'$\\Delta$(BIC)')\n",
    "plt.legend()\n",
    "plt.xscale('log')\n",
    "plt.show()"
   ]
  },
  {
   "cell_type": "code",
   "execution_count": 9,
   "metadata": {},
   "outputs": [
    {
     "data": {
      "image/png": "[encoded data removed]",
      "text/plain": [
       "<Figure size 432x288 with 1 Axes>"
      ]
     },
     "metadata": {
      "needs_background": "light"
     },
     "output_type": "display_data"
    }
   ],
   "source": [
    "aic_dddm_dm = np.array(aic_dddm) - np.array(aic_dm)\n",
    "aic_no_dm = np.array(aic_no) - np.array(aic_dm)\n",
    "\n",
    "plt.plot(ns, aic_dddm_dm, '.', label='DDDM-DM')\n",
    "plt.plot(ns, aic_no_dm, '.', label='NO-DM')\n",
    "plt.axhline(0, color='k', linestyle='--')\n",
    "plt.xlabel('n')\n",
    "plt.ylabel(r'$\\Delta$(AIC)')\n",
    "plt.legend()\n",
    "plt.xscale('log')\n",
    "plt.show()"
   ]
  },
  {
   "cell_type": "code",
   "execution_count": 10,
   "metadata": {},
   "outputs": [
    {
     "data": {
      "text/plain": [
       "(array([-0.13303523,  0.47441321, -0.31475163]),\n",
       " array([-1.6251896, -1.5463256, -3.4737783]))"
      ]
     },
     "execution_count": 10,
     "metadata": {},
     "output_type": "execute_result"
    }
   ],
   "source": [
    "dm_dddm, dm_no"
   ]
  },
  {
   "cell_type": "code",
   "execution_count": 11,
   "metadata": {},
   "outputs": [],
   "source": [
    "def get_pred(path):\n",
    "    files = glob(join(path, \"*.json\")) \n",
    "    files.sort()\n",
    "    ns  = []\n",
    "    dm = []\n",
    "    for file in files:\n",
    "        stats = json.load(open(file))\n",
    "        n = int(stats[\"name\"])\n",
    "        pred = stats['predictive_posterior']\n",
    "        ns.append(n)\n",
    "        dm.append(pred)\n",
    "    return ns, dm\n",
    "\n",
    "t = 'thin'\n",
    "stats_dir = join(root_data_dir, \"MCMC-mock\", t, \"dm\", \"stats\")\n",
    "ns, dm = get_pred(stats_dir)\n",
    "\n",
    "stats_dir = join(root_data_dir, \"MCMC-mock\", t, \"dddm\", \"stats\")\n",
    "ns, dddm = get_pred(stats_dir)\n",
    "\n",
    "stats_dir = join(root_data_dir, \"MCMC-mock\", t, \"no\", \"stats\")\n",
    "ns, no = get_pred(stats_dir)"
   ]
  },
  {
   "cell_type": "code",
   "execution_count": 12,
   "metadata": {},
   "outputs": [
    {
     "data": {
      "image/png": "[encoded data removed]",
      "text/plain": [
       "<Figure size 432x288 with 1 Axes>"
      ]
     },
     "metadata": {
      "needs_background": "light"
     },
     "output_type": "display_data"
    },
    {
     "data": {
      "image/png": "[encoded data removed]",
      "text/plain": [
       "<Figure size 432x288 with 1 Axes>"
      ]
     },
     "metadata": {
      "needs_background": "light"
     },
     "output_type": "display_data"
    },
    {
     "data": {
      "image/png": "[encoded data removed]",
      "text/plain": [
       "<Figure size 432x288 with 1 Axes>"
      ]
     },
     "metadata": {
      "needs_background": "light"
     },
     "output_type": "display_data"
    }
   ],
   "source": [
    "for n, dm_i, dddm_i, no_i in zip(ns, dm, dddm, no):\n",
    "    pred_dm = []\n",
    "    pred_dddm = []\n",
    "    pred_no = []\n",
    "    zs = []\n",
    "    for p_dm, p_dddm, p_no in zip(dm_i, dddm_i, no_i):\n",
    "        z, v_dm = p_dm\n",
    "        z, v_dddm = p_dddm\n",
    "        z, v_no = p_no\n",
    "        zs.append(z)\n",
    "        pred_dm.append(v_dm)\n",
    "        pred_dddm.append(v_dddm)\n",
    "        pred_no.append(v_no)\n",
    "    pred_no_dm = np.array(pred_no) - np.array(pred_dm)\n",
    "    pred_dddm_dm = np.array(pred_dddm) - np.array(pred_dm)\n",
    "    plt.plot(zs, pred_dddm_dm, label='DDDM-DM')\n",
    "    plt.plot(zs, pred_no_dm, label='NO-DM')\n",
    "    # plt.plot(zs, pred_dm, label='DM')\n",
    "    # plt.plot(zs, pred_dddm, label='DDDM')\n",
    "    # plt.plot(zs, pred_no, label='NO')\n",
    "    plt.title(n)\n",
    "    plt.xlabel('$z$ [pc]')\n",
    "    plt.ylabel(r'$\\Delta \\log$(Pred)')\n",
    "    plt.legend()\n",
    "    plt.savefig(join(\"img\", f\"pred_{t}_{n}.pdf\"), dpi=dpi)\n",
    "    plt.show()\n"
   ]
  },
  {
   "cell_type": "code",
   "execution_count": 13,
   "metadata": {},
   "outputs": [
    {
     "name": "stdout",
     "output_type": "stream",
     "text": [
      "& 300 & -0.06 & -0.41 & -0.56 & 0.68 & -0.47 & -1.65 \\\\\n",
      "& 350 & -0.18 & -0.96 & -1.90 & 1.33 & -0.98 & -4.40 \\\\\n",
      "& 400 & -0.27 & -3.20 & -2.84 & 2.12 & -3.13 & -6.41 \\\\\n",
      "& 450 & -0.36 & -5.26 & -2.23 & 2.55 & -5.04 & -5.50 \\\\\n",
      "& 500 & -0.36 & -7.71 & -3.26 & 2.55 & -7.12 & -7.21 \\\\\n"
     ]
    }
   ],
   "source": [
    "zz = None\n",
    "pred_no_dms = np.empty((3, 5))\n",
    "pred_dddm_dms = np.empty((3, 5))\n",
    "for i, (n, dm_i, dddm_i, no_i) in enumerate(zip(ns, dm, dddm, no)):\n",
    "    pred_dm = []\n",
    "    pred_dddm = []\n",
    "    pred_no = []\n",
    "    zs = []\n",
    "    for p_dm, p_dddm, p_no in zip(dm_i, dddm_i, no_i):\n",
    "        z, v_dm = p_dm\n",
    "        z, v_dddm = p_dddm\n",
    "        z, v_no = p_no\n",
    "        zs.append(z)\n",
    "        pred_dm.append(v_dm)\n",
    "        pred_dddm.append(v_dddm)\n",
    "        pred_no.append(v_no)\n",
    "    pred_no_dm = np.array(pred_no) - np.array(pred_dm)\n",
    "    pred_dddm_dm = np.array(pred_dddm) - np.array(pred_dm)\n",
    "    pred_no_dms[i] = pred_no_dm\n",
    "    pred_dddm_dms[i] = pred_dddm_dm\n",
    "    zz = np.array(zs)\n",
    "\n",
    "for i, z_i in enumerate(zz):\n",
    "    print(f\"& {z_i} & {pred_dddm_dms[0, i]:.2f} & {pred_dddm_dms[1, i]:.2f} & {pred_dddm_dms[2, i]:.2f} & {pred_no_dms[0, i]:.2f} & {pred_no_dms[1, i]:.2f} & {pred_no_dms[2, i]:.2f} \\\\\\\\\")"
   ]
  },
  {
   "cell_type": "markdown",
   "metadata": {},
   "source": [
    "# asli"
   ]
  },
  {
   "cell_type": "code",
   "execution_count": 14,
   "metadata": {},
   "outputs": [
    {
     "data": {
      "text/plain": [
       "array([[-0.019     ,  0.12713703],\n",
       "       [ 0.12713703,  0.19024014],\n",
       "       [ 0.19024014,  0.22021412],\n",
       "       [ 0.22021412,  0.24230021],\n",
       "       [ 0.24230021,  0.26004796],\n",
       "       [ 0.26004796,  0.27621813],\n",
       "       [ 0.27621813,  0.28923315],\n",
       "       [ 0.28923315,  0.30106498],\n",
       "       [ 0.30106498,  0.31329121],\n",
       "       [ 0.31329121,  0.32512304],\n",
       "       [ 0.32512304,  0.3353773 ],\n",
       "       [ 0.3353773 ,  0.34523716],\n",
       "       [ 0.34523716,  0.35509702],\n",
       "       [ 0.35509702,  0.36535128],\n",
       "       [ 0.36535128,  0.37402796]])"
      ]
     },
     "execution_count": 14,
     "metadata": {},
     "output_type": "execute_result"
    }
   ],
   "source": [
    "boundaries = np.load(join(root_data_dir, \"boundaries.npy\"))\n",
    "boundaries"
   ]
  },
  {
   "cell_type": "code",
   "execution_count": 15,
   "metadata": {},
   "outputs": [],
   "source": [
    "c0 = boundaries[:, 0]\n",
    "c1 = boundaries[:, 1]\n",
    "\n",
    "c = (c0 + c1) / 2"
   ]
  },
  {
   "cell_type": "code",
   "execution_count": 16,
   "metadata": {},
   "outputs": [],
   "source": [
    "def get_bf(path):\n",
    "    files = glob(join(path, \"*.json\")) \n",
    "    files.sort()\n",
    "    dm = []\n",
    "    e_dm = []\n",
    "    bic = []\n",
    "    aic = []\n",
    "    for file in files:\n",
    "        stats = json.load(open(file))\n",
    "        log_bf = stats['log_bf']\n",
    "        e_log_bf = stats['e_log_bf']\n",
    "        bic.append(stats['bic'])\n",
    "        aic.append(stats['aic'])\n",
    "        dm.append(log_bf)\n",
    "        e_dm.append(e_log_bf)\n",
    "    return dm, e_dm, bic, aic\n",
    "\n",
    "stats_dir = join(root_data_dir, \"MCMC-no\", \"dm\", \"stats\")\n",
    "bf_dm, e_bf_dm, bic_dm, aic_dm = get_bf(stats_dir)\n",
    "\n",
    "stats_dir = join(root_data_dir, \"MCMC-no\", \"dddm\", \"stats\")\n",
    "bf_dddm, e_bf_dddm, bic_dddm, aic_dddm = get_bf(stats_dir)\n",
    "\n",
    "stats_dir = join(root_data_dir, \"MCMC-no\", \"no\", \"stats\")\n",
    "bf_no, e_bf_no, bic_no, aic_no = get_bf(stats_dir)"
   ]
  },
  {
   "cell_type": "code",
   "execution_count": 22,
   "metadata": {},
   "outputs": [
    {
     "data": {
      "image/png": "[encoded data removed]",
      "text/plain": [
       "<Figure size 432x288 with 1 Axes>"
      ]
     },
     "metadata": {
      "needs_background": "light"
     },
     "output_type": "display_data"
    }
   ],
   "source": [
    "bf_dm_dddm = np.array(bf_dddm) - np.array(bf_dm) \n",
    "e_bf_dm_dddm = np.sqrt(np.array(e_bf_dm)**2 + np.array(e_bf_dddm)**2)\n",
    "bf_dm_no = np.array(bf_no) - np.array(bf_dm)\n",
    "e_bf_dm_no = np.sqrt(np.array(e_bf_dm)**2 + np.array(e_bf_no)**2)\n",
    "\n",
    "plt.errorbar(c, bf_dm_dddm, yerr=e_bf_dm_dddm, fmt='.', label='DDDM-DM')\n",
    "plt.errorbar(c, bf_dm_no, yerr=e_bf_dm_no, fmt='.', label='NO-DM')\n",
    "plt.axhline(0, color='k', linestyle='--')\n",
    "plt.xlabel(r'$J-K_s$')\n",
    "plt.ylabel(r'$\\log$(BF)')\n",
    "plt.legend(loc='lower left')\n",
    "# plt.xscale('log')\n",
    "plt.savefig(join(\"img\", f\"bf.pdf\"), dpi=70)\n",
    "plt.show()"
   ]
  },
  {
   "cell_type": "code",
   "execution_count": 18,
   "metadata": {},
   "outputs": [
    {
     "data": {
      "text/plain": [
       "array([-13.10008682, -25.37680407, -20.27973582, -19.6242022 ,\n",
       "       -20.20488146, -33.88088934, -22.72740942, -21.58698332,\n",
       "       -36.00773413, -37.27165216, -29.43132435, -44.8896082 ,\n",
       "       -31.56651125, -29.72203898, -31.83286626])"
      ]
     },
     "execution_count": 18,
     "metadata": {},
     "output_type": "execute_result"
    }
   ],
   "source": [
    "def get_pred(path):\n",
    "    files = glob(join(path, \"*.json\")) \n",
    "    files.sort()\n",
    "    dm = []\n",
    "    for file in files:\n",
    "        stats = json.load(open(file))\n",
    "        pred = stats['predictive_posterior']\n",
    "        dm.append(pred)\n",
    "    return np.array(dm)\n",
    "\n",
    "stats_dir = join(root_data_dir, \"MCMC-no\", \"dm\", \"stats\")\n",
    "pred_dm = get_pred(stats_dir)\n",
    "\n",
    "stats_dir = join(root_data_dir, \"MCMC-no\", \"dddm\", \"stats\")\n",
    "pred_dddm = get_pred(stats_dir)\n",
    "\n",
    "stats_dir = join(root_data_dir, \"MCMC-no\", \"no\", \"stats\")\n",
    "pred_no = get_pred(stats_dir)\n",
    "pred_no"
   ]
  },
  {
   "cell_type": "code",
   "execution_count": 19,
   "metadata": {},
   "outputs": [
    {
     "data": {
      "image/png": "[encoded data removed]",
      "text/plain": [
       "<Figure size 432x288 with 1 Axes>"
      ]
     },
     "metadata": {
      "needs_background": "light"
     },
     "output_type": "display_data"
    }
   ],
   "source": [
    "pred_no_dm = pred_no - pred_dm\n",
    "pred_dddm_dm = pred_dddm - pred_dm\n",
    "plt.scatter(c, pred_dddm_dm, label='DDDM-DM')\n",
    "plt.scatter(c, pred_no_dm, label='NO-DM')\n",
    "plt.axhline(0, color='k', linestyle='--')\n",
    "# plt.plot(zs, pred_dm, label='DM')\n",
    "# plt.plot(zs, pred_dddm, label='DDDM')\n",
    "# plt.plot(zs, pred_no, label='NO')\n",
    "plt.xlabel('$J-K_s$')\n",
    "plt.ylabel(r'$\\Delta \\log$(Pred)')\n",
    "plt.legend(loc='lower left')\n",
    "plt.savefig(join(\"img\", f\"pred.pdf\"), dpi=70)\n",
    "plt.show()"
   ]
  },
  {
   "cell_type": "code",
   "execution_count": 20,
   "metadata": {},
   "outputs": [
    {
     "name": "stdout",
     "output_type": "stream",
     "text": [
      "$[-0.019,0.127]$ & -0.07 & -0.44 & 0.47 & 1.23 \\\\\n",
      "$[0.127,0.190]$ & 0.01 & 0.02 & -2.87 & -4.33 \\\\\n",
      "$[0.190,0.220]$ & 0.07 & -2.37 & -0.78 & -3.76 \\\\\n",
      "$[0.220,0.242]$ & -0.32 & -5.72 & 0.54 & -3.24 \\\\\n",
      "$[0.242,0.260]$ & 0.23 & -5.79 & 1.75 & 8.16 \\\\\n",
      "$[0.260,0.276]$ & 0.45 & -4.47 & -2.37 & -10.50 \\\\\n",
      "$[0.276,0.289]$ & 0.20 & -2.27 & 0.57 & 0.82 \\\\\n",
      "$[0.289,0.301]$ & 0.76 & -1.51 & 2.04 & 3.74 \\\\\n",
      "$[0.301,0.313]$ & 0.62 & 0.06 & -3.98 & -1.92 \\\\\n",
      "$[0.313,0.325]$ & 0.22 & 0.12 & -1.59 & -3.43 \\\\\n",
      "$[0.325,0.335]$ & -0.15 & -0.22 & -2.55 & -5.05 \\\\\n",
      "$[0.335,0.345]$ & 0.30 & 0.30 & -3.83 & -3.79 \\\\\n",
      "$[0.345,0.355]$ & -0.20 & 0.48 & -1.99 & -2.90 \\\\\n",
      "$[0.355,0.365]$ & 0.81 & 0.33 & -3.48 & -2.80 \\\\\n",
      "$[0.365,0.374]$ & 0.28 & 0.83 & -2.23 & -1.64 \\\\\n"
     ]
    }
   ],
   "source": [
    "for i in range(len(c)):\n",
    "    print(f\"$[{c0[i]:.03f},{c1[i]:.03f}]$ & {bf_dm_dddm[i]:.02f} & {bf_dm_no[i]:.02f} & {pred_dddm_dm[i]:.02f} & {pred_no_dm[i]:.02f} \\\\\\\\\")"
   ]
  },
  {
   "cell_type": "code",
   "execution_count": 21,
   "metadata": {},
   "outputs": [
    {
     "name": "stdout",
     "output_type": "stream",
     "text": [
      "Rata-rata & 0.21 & -1.38 & -1.35 & -1.96 \\\\\n"
     ]
    }
   ],
   "source": [
    "print(f\"Rata-rata & {bf_dm_dddm.mean():.02f} & {bf_dm_no.mean():.02f} & {pred_dddm_dm.mean():.02f} & {pred_no_dm.mean():.02f} \\\\\\\\\")"
   ]
  }
 ],
 "metadata": {
  "kernelspec": {
   "display_name": "vaex",
   "language": "python",
   "name": "python3"
  },
  "language_info": {
   "codemirror_mode": {
    "name": "ipython",
    "version": 3
   },
   "file_extension": ".py",
   "mimetype": "text/x-python",
   "name": "python",
   "nbconvert_exporter": "python",
   "pygments_lexer": "ipython3",
   "version": "3.8.10"
  },
  "orig_nbformat": 4
 },
 "nbformat": 4,
 "nbformat_minor": 2
}
