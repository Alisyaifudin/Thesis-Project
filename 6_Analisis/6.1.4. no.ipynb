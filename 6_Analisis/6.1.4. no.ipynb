{
 "cells": [
  {
   "cell_type": "code",
   "execution_count": 1,
   "metadata": {},
   "outputs": [],
   "source": [
    "import sys\n",
    "from os.path import join, abspath\n",
    "from glob import glob\n",
    "import numpy as np\n",
    "import vaex\n",
    "from tqdm import tqdm\n",
    "import matplotlib.pyplot as plt\n",
    "from time import time\n",
    "from scipy.stats import norm, skewnorm"
   ]
  },
  {
   "cell_type": "code",
   "execution_count": 2,
   "metadata": {},
   "outputs": [
    {
     "data": {
      "text/plain": [
       "'/home2/s20321005/Thesis-Project'"
      ]
     },
     "execution_count": 2,
     "metadata": {},
     "output_type": "execute_result"
    }
   ],
   "source": [
    "# import utils\n",
    "root_dir = abspath(join('..'))\n",
    "root_dir"
   ]
  },
  {
   "cell_type": "code",
   "execution_count": 3,
   "metadata": {},
   "outputs": [
    {
     "data": {
      "text/plain": [
       "['/home2/s20321005/Thesis-Project/6_Analisis',\n",
       " '/home2/s20321005/.conda/envs/vaex/lib/python38.zip',\n",
       " '/home2/s20321005/.conda/envs/vaex/lib/python3.8',\n",
       " '/home2/s20321005/.conda/envs/vaex/lib/python3.8/lib-dynload',\n",
       " '',\n",
       " '/home2/s20321005/.local/lib/python3.8/site-packages',\n",
       " '/home2/s20321005/.conda/envs/vaex/lib/python3.8/site-packages',\n",
       " '/home2/s20321005/Thesis-Project']"
      ]
     },
     "execution_count": 3,
     "metadata": {},
     "output_type": "execute_result"
    }
   ],
   "source": [
    "if root_dir not in sys.path:\n",
    "    sys.path.append(root_dir)\n",
    "sys.path"
   ]
  },
  {
   "cell_type": "code",
   "execution_count": 4,
   "metadata": {},
   "outputs": [],
   "source": [
    "from utils import style, hdi, find_max, load_spectral_types"
   ]
  },
  {
   "cell_type": "code",
   "execution_count": 5,
   "metadata": {},
   "outputs": [
    {
     "data": {
      "text/html": [
       "<div>\n",
       "<style scoped>\n",
       "    .dataframe tbody tr th:only-of-type {\n",
       "        vertical-align: middle;\n",
       "    }\n",
       "\n",
       "    .dataframe tbody tr th {\n",
       "        vertical-align: top;\n",
       "    }\n",
       "\n",
       "    .dataframe thead th {\n",
       "        text-align: right;\n",
       "    }\n",
       "</style>\n",
       "<table border=\"1\" class=\"dataframe\">\n",
       "  <thead>\n",
       "    <tr style=\"text-align: right;\">\n",
       "      <th></th>\n",
       "      <th>SpT</th>\n",
       "      <th>M_J</th>\n",
       "      <th>J-H</th>\n",
       "      <th>H-Ks</th>\n",
       "      <th>J-K</th>\n",
       "    </tr>\n",
       "  </thead>\n",
       "  <tbody>\n",
       "    <tr>\n",
       "      <th>0</th>\n",
       "      <td>O9V</td>\n",
       "      <td>-3.44</td>\n",
       "      <td>-0.164</td>\n",
       "      <td>-0.071</td>\n",
       "      <td>-0.235</td>\n",
       "    </tr>\n",
       "    <tr>\n",
       "      <th>1</th>\n",
       "      <td>O9.5V</td>\n",
       "      <td>-3.30</td>\n",
       "      <td>-0.161</td>\n",
       "      <td>-0.069</td>\n",
       "      <td>-0.230</td>\n",
       "    </tr>\n",
       "    <tr>\n",
       "      <th>2</th>\n",
       "      <td>B0V</td>\n",
       "      <td>-3.17</td>\n",
       "      <td>-0.159</td>\n",
       "      <td>-0.067</td>\n",
       "      <td>-0.226</td>\n",
       "    </tr>\n",
       "    <tr>\n",
       "      <th>3</th>\n",
       "      <td>B0.5V</td>\n",
       "      <td>-2.80</td>\n",
       "      <td>-0.153</td>\n",
       "      <td>-0.063</td>\n",
       "      <td>-0.216</td>\n",
       "    </tr>\n",
       "    <tr>\n",
       "      <th>4</th>\n",
       "      <td>B1V</td>\n",
       "      <td>-2.33</td>\n",
       "      <td>-0.148</td>\n",
       "      <td>-0.059</td>\n",
       "      <td>-0.207</td>\n",
       "    </tr>\n",
       "    <tr>\n",
       "      <th>...</th>\n",
       "      <td>...</td>\n",
       "      <td>...</td>\n",
       "      <td>...</td>\n",
       "      <td>...</td>\n",
       "      <td>...</td>\n",
       "    </tr>\n",
       "    <tr>\n",
       "      <th>95</th>\n",
       "      <td>T6V</td>\n",
       "      <td>15.34</td>\n",
       "      <td>0.100</td>\n",
       "      <td>-0.030</td>\n",
       "      <td>0.070</td>\n",
       "    </tr>\n",
       "    <tr>\n",
       "      <th>96</th>\n",
       "      <td>T7V</td>\n",
       "      <td>15.83</td>\n",
       "      <td>0.000</td>\n",
       "      <td>0.000</td>\n",
       "      <td>0.000</td>\n",
       "    </tr>\n",
       "    <tr>\n",
       "      <th>97</th>\n",
       "      <td>T7.5V</td>\n",
       "      <td>16.61</td>\n",
       "      <td>0.200</td>\n",
       "      <td>-0.050</td>\n",
       "      <td>0.150</td>\n",
       "    </tr>\n",
       "    <tr>\n",
       "      <th>98</th>\n",
       "      <td>T8V</td>\n",
       "      <td>17.30</td>\n",
       "      <td>0.200</td>\n",
       "      <td>-0.050</td>\n",
       "      <td>0.150</td>\n",
       "    </tr>\n",
       "    <tr>\n",
       "      <th>99</th>\n",
       "      <td>T9V</td>\n",
       "      <td>18.51</td>\n",
       "      <td>0.100</td>\n",
       "      <td>-0.200</td>\n",
       "      <td>-0.100</td>\n",
       "    </tr>\n",
       "  </tbody>\n",
       "</table>\n",
       "<p>100 rows × 5 columns</p>\n",
       "</div>"
      ],
      "text/plain": [
       "      SpT    M_J    J-H   H-Ks    J-K\n",
       "0     O9V  -3.44 -0.164 -0.071 -0.235\n",
       "1   O9.5V  -3.30 -0.161 -0.069 -0.230\n",
       "2     B0V  -3.17 -0.159 -0.067 -0.226\n",
       "3   B0.5V  -2.80 -0.153 -0.063 -0.216\n",
       "4     B1V  -2.33 -0.148 -0.059 -0.207\n",
       "..    ...    ...    ...    ...    ...\n",
       "95    T6V  15.34  0.100 -0.030  0.070\n",
       "96    T7V  15.83  0.000  0.000  0.000\n",
       "97  T7.5V  16.61  0.200 -0.050  0.150\n",
       "98    T8V  17.30  0.200 -0.050  0.150\n",
       "99    T9V  18.51  0.100 -0.200 -0.100\n",
       "\n",
       "[100 rows x 5 columns]"
      ]
     },
     "execution_count": 5,
     "metadata": {},
     "output_type": "execute_result"
    }
   ],
   "source": [
    "sp = load_spectral_types()\n",
    "sp"
   ]
  },
  {
   "cell_type": "code",
   "execution_count": 6,
   "metadata": {},
   "outputs": [],
   "source": [
    "style(name=\"seaborn-notebook\")"
   ]
  },
  {
   "cell_type": "code",
   "execution_count": 7,
   "metadata": {},
   "outputs": [
    {
     "data": {
      "text/plain": [
       "'/home2/s20321005/Thesis-Project/Data'"
      ]
     },
     "execution_count": 7,
     "metadata": {},
     "output_type": "execute_result"
    }
   ],
   "source": [
    "root_data_dir = abspath(join(root_dir, \"Data\"))\n",
    "root_data_dir"
   ]
  },
  {
   "cell_type": "code",
   "execution_count": 8,
   "metadata": {},
   "outputs": [],
   "source": [
    "data_baryon_dir = join(root_data_dir, \"Baryon\")\n",
    "# load baryons components\n",
    "df_baryon = vaex.open(join(data_baryon_dir, \"baryon.hdf5\"))\n",
    "rhos = df_baryon[\"rho\"].to_numpy()  # Msun/pc^3\n",
    "sigmaz = df_baryon[\"sigma_z\"].to_numpy() # km/s\n",
    "\n",
    "e_rhos = df_baryon[\"e_rho\"].to_numpy()  # Msun/pc^3\n",
    "e_sigmaz = df_baryon[\"e_sigma_z\"].to_numpy() # km/s\n",
    "dpi=100"
   ]
  },
  {
   "cell_type": "code",
   "execution_count": 9,
   "metadata": {},
   "outputs": [
    {
     "data": {
      "text/plain": [
       "['/home2/s20321005/Thesis-Project/Data/Effective-Volume-no/z_(-0.10)_(0.10).hdf5',\n",
       " '/home2/s20321005/Thesis-Project/Data/Effective-Volume-no/z_(0.10)_(0.16).hdf5',\n",
       " '/home2/s20321005/Thesis-Project/Data/Effective-Volume-no/z_(0.16)_(0.20).hdf5',\n",
       " '/home2/s20321005/Thesis-Project/Data/Effective-Volume-no/z_(0.20)_(0.23).hdf5',\n",
       " '/home2/s20321005/Thesis-Project/Data/Effective-Volume-no/z_(0.23)_(0.26).hdf5',\n",
       " '/home2/s20321005/Thesis-Project/Data/Effective-Volume-no/z_(0.26)_(0.28).hdf5',\n",
       " '/home2/s20321005/Thesis-Project/Data/Effective-Volume-no/z_(0.28)_(0.30).hdf5',\n",
       " '/home2/s20321005/Thesis-Project/Data/Effective-Volume-no/z_(0.30)_(0.32).hdf5',\n",
       " '/home2/s20321005/Thesis-Project/Data/Effective-Volume-no/z_(0.32)_(0.34).hdf5',\n",
       " '/home2/s20321005/Thesis-Project/Data/Effective-Volume-no/z_(0.34)_(0.36).hdf5',\n",
       " '/home2/s20321005/Thesis-Project/Data/Effective-Volume-no/z_(0.36)_(0.37).hdf5',\n",
       " '/home2/s20321005/Thesis-Project/Data/Effective-Volume-no/z_(0.37)_(0.39).hdf5',\n",
       " '/home2/s20321005/Thesis-Project/Data/Effective-Volume-no/z_(0.39)_(0.40).hdf5']"
      ]
     },
     "execution_count": 9,
     "metadata": {},
     "output_type": "execute_result"
    }
   ],
   "source": [
    "eff_vol = glob(join(root_data_dir, 'Effective-Volume-no', \"z*\"))\n",
    "eff_vol.sort()\n",
    "eff_vol"
   ]
  },
  {
   "cell_type": "code",
   "execution_count": 10,
   "metadata": {},
   "outputs": [
    {
     "data": {
      "text/plain": [
       "array([0.   , 0.13 , 0.18 , 0.215, 0.245, 0.27 , 0.29 , 0.31 , 0.33 ,\n",
       "       0.35 , 0.365, 0.38 , 0.395])"
      ]
     },
     "execution_count": 10,
     "metadata": {},
     "output_type": "execute_result"
    }
   ],
   "source": [
    "import re\n",
    "c1, c2 = [], []\n",
    "# get the value between () of the file name\n",
    "for f in eff_vol:\n",
    "    c1.append(float(re.findall(r'\\((.*?)\\)', f)[0]))\n",
    "    c2.append(float(re.findall(r'\\((.*?)\\)', f)[1]))\n",
    "c1 = np.array(c1)\n",
    "c2 = np.array(c2)\n",
    "c = 0.5*(c1+c2)\n",
    "c"
   ]
  },
  {
   "cell_type": "code",
   "execution_count": 11,
   "metadata": {},
   "outputs": [
    {
     "data": {
      "text/plain": [
       "'/home2/s20321005/Thesis-Project/Data/MCMC-no/no/data'"
      ]
     },
     "execution_count": 11,
     "metadata": {},
     "output_type": "execute_result"
    }
   ],
   "source": [
    "mcmc_dm_dir = join(root_data_dir, \"MCMC-no\", \"no\", \"data\")\n",
    "mcmc_dm_dir"
   ]
  },
  {
   "cell_type": "code",
   "execution_count": 12,
   "metadata": {},
   "outputs": [
    {
     "data": {
      "text/plain": [
       "['/home2/s20321005/Thesis-Project/Data/MCMC-no/no/data/chain-2-00.npy',\n",
       " '/home2/s20321005/Thesis-Project/Data/MCMC-no/no/data/chain-2-01.npy',\n",
       " '/home2/s20321005/Thesis-Project/Data/MCMC-no/no/data/chain-2-02.npy',\n",
       " '/home2/s20321005/Thesis-Project/Data/MCMC-no/no/data/chain-2-03.npy',\n",
       " '/home2/s20321005/Thesis-Project/Data/MCMC-no/no/data/chain-2-04.npy',\n",
       " '/home2/s20321005/Thesis-Project/Data/MCMC-no/no/data/chain-2-05.npy',\n",
       " '/home2/s20321005/Thesis-Project/Data/MCMC-no/no/data/chain-2-06.npy',\n",
       " '/home2/s20321005/Thesis-Project/Data/MCMC-no/no/data/chain-2-07.npy',\n",
       " '/home2/s20321005/Thesis-Project/Data/MCMC-no/no/data/chain-2-08.npy',\n",
       " '/home2/s20321005/Thesis-Project/Data/MCMC-no/no/data/chain-2-09.npy',\n",
       " '/home2/s20321005/Thesis-Project/Data/MCMC-no/no/data/chain-2-10.npy',\n",
       " '/home2/s20321005/Thesis-Project/Data/MCMC-no/no/data/chain-2-11.npy',\n",
       " '/home2/s20321005/Thesis-Project/Data/MCMC-no/no/data/chain-2-12.npy']"
      ]
     },
     "execution_count": 12,
     "metadata": {},
     "output_type": "execute_result"
    }
   ],
   "source": [
    "dm_2_files = glob(join(mcmc_dm_dir, \"chain-2-*\"))\n",
    "dm_2_files.sort()\n",
    "dm_2_files"
   ]
  },
  {
   "cell_type": "code",
   "execution_count": 31,
   "metadata": {},
   "outputs": [],
   "source": [
    "# import os\n",
    "# for i in range(len(dm_2_files)):\n",
    "#     oldname = join(mcmc_dm_dir, f\"chain-2-{i}.npy\")\n",
    "#     print(\"old:\", oldname)\n",
    "#     newname = join(mcmc_dm_dir, f\"chain-2-{i:02d}.npy\")\n",
    "#     print(\"new:\", newname)\n",
    "#     os.rename(oldname, newname)"
   ]
  },
  {
   "attachments": {},
   "cell_type": "markdown",
   "metadata": {},
   "source": [
    "## tes"
   ]
  },
  {
   "cell_type": "code",
   "execution_count": 13,
   "metadata": {},
   "outputs": [
    {
     "data": {
      "text/plain": [
       "(20000, 66, 32)"
      ]
     },
     "execution_count": 13,
     "metadata": {},
     "output_type": "execute_result"
    }
   ],
   "source": [
    "index = 2\n",
    "df = np.load(join(mcmc_dm_dir, f\"chain-2-{index:02d}.npy\"))\n",
    "df.shape"
   ]
  },
  {
   "cell_type": "code",
   "execution_count": 14,
   "metadata": {},
   "outputs": [],
   "source": [
    "rhob = df[:, :, :12]\n",
    "rhob = rhob.reshape(-1, 12)\n",
    "rhob = rhob.sum(axis=1)/1E-2\n",
    "length = len(rhob)\n",
    "rhob0 = np.empty((length, 12))\n",
    "for i in range(12):\n",
    "    rhob0[:,i] = norm.rvs(loc=rhos[i], scale=e_rhos[i], size=length)\n",
    "rhob0 = rhob0.sum(axis=1)/1E-2\n",
    "\n",
    "rhoD = rhob - rhob0"
   ]
  },
  {
   "cell_type": "code",
   "execution_count": 16,
   "metadata": {},
   "outputs": [
    {
     "data": {
      "image/png": "[encoded data removed]",
      "text/plain": [
       "<Figure size 576x432 with 1 Axes>"
      ]
     },
     "metadata": {
      "needs_background": "light"
     },
     "output_type": "display_data"
    }
   ],
   "source": [
    "rho = np.linspace(-5, 14, 200)\n",
    "rhoD_num, _ = np.histogram(rhoD, bins=rho)\n",
    "rhob_num, _ = np.histogram(rhob, bins=rho)\n",
    "rhob0_num, _ = np.histogram(rhob0, bins=rho)\n",
    "rhomid = 0.5*(rho[1:] + rho[:-1])\n",
    "# plot step\n",
    "fig, ax = plt.subplots(figsize=(8, 6))\n",
    "ax.step(rhomid, rhoD_num, label='DM')\n",
    "ax.step(rhomid, rhob_num, label='Baryon')\n",
    "ax.step(rhomid, rhob0_num, label='Baryon0')\n",
    "ax.set_xlabel(r'$\\rho$')\n",
    "ax.set_ylabel('Number')\n",
    "ax.legend()\n",
    "plt.show()"
   ]
  },
  {
   "cell_type": "code",
   "execution_count": 17,
   "metadata": {},
   "outputs": [],
   "source": [
    "rhoD_sample = np.random.choice(rhoD, size=2000, replace=False)\n",
    "rhoD_fit = skewnorm.fit(rhoD_sample)\n",
    "rhob_sample = np.random.choice(rhob, size=2000, replace=False)\n",
    "rhob_fit = skewnorm.fit(rhob_sample)\n",
    "rhob0_sample = np.random.choice(rhob0, size=2000, replace=False)\n",
    "rhob0_fit = norm.fit(rhob0_sample)"
   ]
  },
  {
   "cell_type": "code",
   "execution_count": 18,
   "metadata": {},
   "outputs": [
    {
     "data": {
      "text/plain": [
       "((0.7858313329918767, 0.6294325015107433, 1.0222395693226296),\n",
       " (1.132729148709779, 9.578351511662792, 0.710908240846716),\n",
       " (8.896385208554962, 0.7174549559193153))"
      ]
     },
     "execution_count": 18,
     "metadata": {},
     "output_type": "execute_result"
    },
    {
     "data": {
      "image/png": "[encoded data removed]",
      "text/plain": [
       "<Figure size 576x432 with 1 Axes>"
      ]
     },
     "metadata": {
      "needs_background": "light"
     },
     "output_type": "display_data"
    }
   ],
   "source": [
    "# plot\n",
    "rho = np.linspace(-5, 14, 100)\n",
    "fig, ax = plt.subplots(figsize=(8, 6))\n",
    "ax.hist(rhoD, bins=rho, density=True, label='DM', ec='k', alpha=0.5, color='C0')\n",
    "ax.hist(rhob, bins=rho, density=True, label='Baryon', ec='k', alpha=0.5,color='C1')\n",
    "ax.hist(rhob0, bins=rho, density=True, label='Baryon0', ec='k', alpha=0.5, color='C2')\n",
    "ax.plot(rho, skewnorm.pdf(rho, *rhoD_fit), label='DM fit', color='C0',  ls='--')\n",
    "ax.plot(rho, skewnorm.pdf(rho, *rhob_fit), label='Baryon fit', color='C1', ls='--')\n",
    "ax.plot(rho, norm.pdf(rho, *rhob0_fit), label='Baryon0 fit', color='C2', ls='--')\n",
    "ax.set_xlabel(r'$\\rho$')\n",
    "ax.set_ylabel(r'$f$')\n",
    "ax.legend()\n",
    "rhoD_fit, rhob_fit, rhob0_fit"
   ]
  },
  {
   "cell_type": "code",
   "execution_count": 19,
   "metadata": {},
   "outputs": [
    {
     "name": "stdout",
     "output_type": "stream",
     "text": [
      "rhoDM = 1.10 +0.90/-0.87\n",
      "rhob = 9.95 +0.59/-0.55\n",
      "rhob0 = 8.90 +0.73/-0.72\n"
     ]
    },
    {
     "data": {
      "image/png": "[encoded data removed]",
      "text/plain": [
       "<Figure size 576x432 with 1 Axes>"
      ]
     },
     "metadata": {
      "needs_background": "light"
     },
     "output_type": "display_data"
    }
   ],
   "source": [
    "rhoD_low, rhoD_high = hdi(lambda x: skewnorm.pdf(x, *rhoD_fit), perc=0.68, res=1E3, min=-5, max=14)\n",
    "rhoD_mode = find_max(lambda x: skewnorm.pdf(x, *rhoD_fit), x0=0.0)[0]\n",
    "\n",
    "rhob_low, rhob_high = hdi(lambda x: skewnorm.pdf(x, *rhob_fit), perc=0.68, res=1E3, min=-5, max=14)\n",
    "rhob_mode = find_max(lambda x: skewnorm.pdf(x, *rhob_fit), x0=0.0)[0]\n",
    "\n",
    "rhob0_low, rhob0_high = hdi(lambda x: norm.pdf(x, *rhob0_fit), perc=0.68, res=1E3, min=-5, max=14)\n",
    "rhob0_mode = find_max(lambda x: norm.pdf(x, *rhob0_fit), x0=0.0)[0]\n",
    "\n",
    "# plot\n",
    "rho = np.linspace(-5, 14, 50)\n",
    "fig, ax = plt.subplots(figsize=(8, 6))\n",
    "ax.hist(rhoD, bins=rho, density=True, label='DM', ec='k', alpha=0.5, color='C0')\n",
    "ax.hist(rhob, bins=rho, density=True, label='Baryon', ec='k', alpha=0.5,color='C1')\n",
    "ax.hist(rhob0, bins=rho, density=True, label='Baryon0', ec='k', alpha=0.5, color='C2')\n",
    "ax.plot(rho, skewnorm.pdf(rho, *rhoD_fit), label='DM fit', color='C0',  ls='--')\n",
    "ax.plot(rho, skewnorm.pdf(rho, *rhob_fit), label='Baryon fit', color='C1', ls='--')\n",
    "ax.plot(rho, norm.pdf(rho, *rhob0_fit), label='Baryon0 fit', color='C2', ls='--')\n",
    "ax.axvline(rhoD_mode, color='C0', ls='-.')\n",
    "ax.axvline(rhob_mode, color='C1', ls='-.')\n",
    "ax.axvline(rhob0_mode, color='C2', ls='-.')\n",
    "ax.axvline(rhoD_low, color='C0', ls='--')\n",
    "ax.axvline(rhoD_high, color='C0', ls='--')\n",
    "ax.axvline(rhob_low, color='C1', ls='--')\n",
    "ax.axvline(rhob_high, color='C1', ls='--')\n",
    "ax.axvline(rhob0_low, color='C2', ls='--')\n",
    "ax.axvline(rhob0_high, color='C2', ls='--')\n",
    "ax.set_xlabel(r'$\\rho$')\n",
    "ax.set_ylabel(r'$f$')\n",
    "ax.legend()\n",
    "print(f'rhoDM = {rhoD_mode:.02f} +{rhoD_high-rhoD_mode:.02f}/-{rhoD_mode-rhoD_low:.02f}')\n",
    "print(f'rhob = {rhob_mode:.02f} +{rhob_high-rhob_mode:.02f}/-{rhob_mode-rhob_low:.02f}')\n",
    "print(f'rhob0 = {rhob0_mode:.02f} +{rhob0_high-rhob0_mode:.02f}/-{rhob0_mode-rhob0_low:.02f}')"
   ]
  },
  {
   "cell_type": "code",
   "execution_count": 20,
   "metadata": {},
   "outputs": [
    {
     "name": "stdout",
     "output_type": "stream",
     "text": [
      "rhob0 = 8.89 +0.71/-0.71\n"
     ]
    },
    {
     "data": {
      "image/png": "[encoded data removed]",
      "text/plain": [
       "<Figure size 576x432 with 1 Axes>"
      ]
     },
     "metadata": {
      "needs_background": "light"
     },
     "output_type": "display_data"
    }
   ],
   "source": [
    "length = len(rhob)\n",
    "rhob0 = np.empty((length, 12))\n",
    "for i in range(12):\n",
    "    rhob0[:,i] = norm.rvs(loc=rhos[i], scale=e_rhos[i], size=length)\n",
    "rhob0 = rhob0.sum(axis=1)/1E-2\n",
    "# fit with gaussian\n",
    "rhob0_fit = norm.fit(rhob0)\n",
    "# mode\n",
    "rhob0_mode = find_max(lambda x: norm.pdf(x, *rhob0_fit), x0=0.0)[0]\n",
    "# find \n",
    "sigma_1 = 68/100\n",
    "sigma_2 = 90/100\n",
    "sigma_3 = 95/100\n",
    "rhob0_low = {}\n",
    "rhob0_high = {}\n",
    "for i, sigma in enumerate([sigma_1, sigma_2, sigma_3]):\n",
    "    low, high = hdi(lambda x: norm.pdf(x, *rhob0_fit), perc=sigma, res=1E3, min=5, max=13)\n",
    "    rhob0_low[i] = low\n",
    "    rhob0_high[i] = high\n",
    "# plot\n",
    "rho = np.linspace(5, 12.5, 50)\n",
    "fig, ax = plt.subplots(figsize=(8, 6))\n",
    "ax.hist(rhob0, bins=rho, density=True, label='Baryon0', ec='k', alpha=0.5, color='C2')\n",
    "ax.plot(rho, norm.pdf(rho, *rhob0_fit), label='Baryon0 fit', color='C2', ls='--')\n",
    "ax.axvline(rhob0_mode, color='C2', ls='-.')\n",
    "for i in range(3):\n",
    "    ax.axvline(rhob0_low[i], color='C2', ls='--')\n",
    "    ax.axvline(rhob0_high[i], color='C2', ls='--')\n",
    "ax.set_xlabel(r'$\\rho$')\n",
    "ax.set_ylabel(r'$f$')\n",
    "ax.legend()\n",
    "print(f'rhob0 = {rhob0_mode:.02f} +{rhob0_high[0]-rhob0_mode:.02f}/-{rhob0_mode-rhob0_low[0]:.02f}')"
   ]
  },
  {
   "cell_type": "code",
   "execution_count": 21,
   "metadata": {},
   "outputs": [
    {
     "name": "stderr",
     "output_type": "stream",
     "text": [
      "  0%|          | 0/13 [00:00<?, ?it/s]"
     ]
    },
    {
     "name": "stdout",
     "output_type": "stream",
     "text": [
      "fitting...\n",
      "calculating HDI...\n"
     ]
    },
    {
     "name": "stderr",
     "output_type": "stream",
     "text": [
      "  8%|▊         | 1/13 [00:04<00:49,  4.11s/it]"
     ]
    },
    {
     "name": "stdout",
     "output_type": "stream",
     "text": [
      "calculating mode\n",
      "fitting...\n",
      "calculating HDI...\n"
     ]
    },
    {
     "name": "stderr",
     "output_type": "stream",
     "text": [
      " 15%|█▌        | 2/13 [00:07<00:43,  3.96s/it]"
     ]
    },
    {
     "name": "stdout",
     "output_type": "stream",
     "text": [
      "calculating mode\n",
      "fitting...\n",
      "calculating HDI...\n"
     ]
    },
    {
     "name": "stderr",
     "output_type": "stream",
     "text": [
      " 23%|██▎       | 3/13 [00:10<00:30,  3.09s/it]"
     ]
    },
    {
     "name": "stdout",
     "output_type": "stream",
     "text": [
      "calculating mode\n",
      "fitting...\n",
      "calculating HDI...\n"
     ]
    },
    {
     "name": "stderr",
     "output_type": "stream",
     "text": [
      " 31%|███       | 4/13 [00:13<00:30,  3.41s/it]"
     ]
    },
    {
     "name": "stdout",
     "output_type": "stream",
     "text": [
      "calculating mode\n",
      "fitting...\n",
      "calculating HDI...\n"
     ]
    },
    {
     "name": "stderr",
     "output_type": "stream",
     "text": [
      " 38%|███▊      | 5/13 [00:18<00:29,  3.68s/it]"
     ]
    },
    {
     "name": "stdout",
     "output_type": "stream",
     "text": [
      "calculating mode\n",
      "fitting...\n",
      "calculating HDI...\n"
     ]
    },
    {
     "name": "stderr",
     "output_type": "stream",
     "text": [
      " 46%|████▌     | 6/13 [00:22<00:26,  3.80s/it]"
     ]
    },
    {
     "name": "stdout",
     "output_type": "stream",
     "text": [
      "calculating mode\n",
      "fitting...\n",
      "calculating HDI...\n"
     ]
    },
    {
     "name": "stderr",
     "output_type": "stream",
     "text": [
      " 54%|█████▍    | 7/13 [00:26<00:23,  3.90s/it]"
     ]
    },
    {
     "name": "stdout",
     "output_type": "stream",
     "text": [
      "calculating mode\n",
      "fitting...\n",
      "calculating HDI...\n"
     ]
    },
    {
     "name": "stderr",
     "output_type": "stream",
     "text": [
      " 62%|██████▏   | 8/13 [00:30<00:19,  3.97s/it]"
     ]
    },
    {
     "name": "stdout",
     "output_type": "stream",
     "text": [
      "calculating mode\n",
      "fitting...\n",
      "calculating HDI...\n"
     ]
    },
    {
     "name": "stderr",
     "output_type": "stream",
     "text": [
      " 69%|██████▉   | 9/13 [00:34<00:16,  4.06s/it]"
     ]
    },
    {
     "name": "stdout",
     "output_type": "stream",
     "text": [
      "calculating mode\n",
      "fitting...\n",
      "calculating HDI...\n"
     ]
    },
    {
     "name": "stderr",
     "output_type": "stream",
     "text": [
      " 77%|███████▋  | 10/13 [00:38<00:12,  4.01s/it]"
     ]
    },
    {
     "name": "stdout",
     "output_type": "stream",
     "text": [
      "calculating mode\n",
      "fitting...\n",
      "calculating HDI...\n"
     ]
    },
    {
     "name": "stderr",
     "output_type": "stream",
     "text": [
      " 85%|████████▍ | 11/13 [00:42<00:07,  4.00s/it]"
     ]
    },
    {
     "name": "stdout",
     "output_type": "stream",
     "text": [
      "calculating mode\n",
      "fitting...\n",
      "calculating HDI...\n"
     ]
    },
    {
     "name": "stderr",
     "output_type": "stream",
     "text": [
      " 92%|█████████▏| 12/13 [00:46<00:03,  3.97s/it]"
     ]
    },
    {
     "name": "stdout",
     "output_type": "stream",
     "text": [
      "calculating mode\n",
      "fitting...\n",
      "calculating HDI...\n"
     ]
    },
    {
     "name": "stderr",
     "output_type": "stream",
     "text": [
      "100%|██████████| 13/13 [00:50<00:00,  3.88s/it]"
     ]
    },
    {
     "name": "stdout",
     "output_type": "stream",
     "text": [
      "calculating mode\n"
     ]
    },
    {
     "name": "stderr",
     "output_type": "stream",
     "text": [
      "\n"
     ]
    }
   ],
   "source": [
    "from tqdm import tqdm\n",
    "\n",
    "rhoD_modes = []\n",
    "rhoD_errs = []\n",
    "rhob_modes = []\n",
    "rhob_errs = []\n",
    "rhoD_fits = []\n",
    "\n",
    "for index in tqdm(range(len(dm_2_files))):\n",
    "    df = np.load(dm_2_files[index])\n",
    "    rhob = df[:, :, :12]\n",
    "    rhob = rhob.reshape(-1, 12)\n",
    "    rhob = rhob.sum(axis=1)/1E-2\n",
    "    rhoD = rhob - rhob0\n",
    "    print(\"fitting...\")\n",
    "    rhoD_sample = np.random.choice(rhoD, size=2000, replace=False)\n",
    "    rhoD_fit = skewnorm.fit(rhoD_sample)\n",
    "    rhoD_fits.append(rhoD_fit)\n",
    "    rhob_sample = np.random.choice(rhob, size=2000, replace=False)\n",
    "    rhob_fit = skewnorm.fit(rhob_sample)\n",
    "    print(\"calculating HDI...\")\n",
    "    rhoD_low = {}\n",
    "    rhoD_high = {}\n",
    "    rhob_low = {}\n",
    "    rhob_high = {}\n",
    "    for i, sigma in enumerate([sigma_1, sigma_2, sigma_3]):\n",
    "        low, high = hdi(lambda x: skewnorm.pdf(x, *rhoD_fit), perc=sigma, res=1E3, min=-5, max=15)\n",
    "        rhoD_low[i] = low\n",
    "        rhoD_high[i] = high\n",
    "        low, high = hdi(lambda x: skewnorm.pdf(x, *rhob_fit), perc=sigma, res=1E3, min=5, max=13)\n",
    "        rhob_low[i] = low\n",
    "        rhob_high[i] = high\n",
    "    print(\"calculating mode\")\n",
    "    rhoD_mode = find_max(lambda x: skewnorm.pdf(x, *rhoD_fit), x0=0.0)[0]\n",
    "    rhob_mode = find_max(lambda x: skewnorm.pdf(x, *rhob_fit), x0=0.0)[0]\n",
    "    rhoD_modes.append(rhoD_mode)\n",
    "    rhoD_errs.append({'low': rhoD_low, 'high': rhoD_high})\n",
    "    rhob_modes.append(rhob_mode)\n",
    "    rhob_errs.append({'low': rhob_low, 'high': rhob_high})"
   ]
  },
  {
   "cell_type": "code",
   "execution_count": 23,
   "metadata": {},
   "outputs": [
    {
     "data": {
      "text/plain": [
       "[(0.8318315624548389, -0.24768588141324713, 1.0403710694168469),\n",
       " (-0.5986936627975171, 0.39487928082642654, 1.0514500181471593),\n",
       " (0.6444087243549461, -1.0386321510168395, 0.9920119671679953),\n",
       " (0.0007424865674033183, -0.4158454932727536, 0.8874428547528233),\n",
       " (0.6778629187336686, -0.3329014137972731, 1.026188070228436),\n",
       " (0.5760031405404518, -0.43706016315091867, 0.9804103917989673),\n",
       " (0.6879442395087345, 0.3179117115352822, 0.9966524750038557),\n",
       " (0.49145918994115917, 0.8045061262426596, 0.947089278806101),\n",
       " (7.119485948567059e-05, 0.1019806812337524, 0.8868936400504872),\n",
       " (0.5235917846513223, -0.4579242647309061, 0.9863303433839441),\n",
       " (0.5656726990329615, -1.4705124703359587, 0.9632520429340719),\n",
       " (0.00010255276896302823, -0.4292495973693398, 0.8784983155045791),\n",
       " (-0.5355939034506996, 0.12646692113728492, 1.015639334781523)]"
      ]
     },
     "execution_count": 23,
     "metadata": {},
     "output_type": "execute_result"
    }
   ],
   "source": [
    "rhoD_fits"
   ]
  },
  {
   "cell_type": "code",
   "execution_count": 22,
   "metadata": {},
   "outputs": [
    {
     "data": {
      "text/plain": [
       "(-2.0, 3.0)"
      ]
     },
     "execution_count": 22,
     "metadata": {},
     "output_type": "execute_result"
    },
    {
     "data": {
      "image/png": "[encoded data removed]",
      "text/plain": [
       "<Figure size 432x288 with 1 Axes>"
      ]
     },
     "metadata": {
      "needs_background": "light"
     },
     "output_type": "display_data"
    }
   ],
   "source": [
    "# multiplying the rhoDM, but it became addition in log\n",
    "rho = np.linspace(-5, 14, 10000)\n",
    "log_rhoD = None\n",
    "for p in rhoD_fits:\n",
    "    if log_rhoD is None:\n",
    "        log_rhoD = skewnorm.logpdf(rho, *p)\n",
    "    else:\n",
    "        log_rhoD += skewnorm.logpdf(rho, *p)\n",
    "# turn into rhoDM\n",
    "rhoD_com = np.exp(log_rhoD)\n",
    "# find max value\n",
    "rho_max = np.max(rhoD_com)\n",
    "# normalize\n",
    "rhoD_com /= rho_max\n",
    "# plot\n",
    "fig, ax = plt.subplots()\n",
    "ax.plot(rho, rhoD_com, label='rhoD')\n",
    "ax.set_xlim(-2,3)"
   ]
  },
  {
   "cell_type": "code",
   "execution_count": 23,
   "metadata": {},
   "outputs": [
    {
     "data": {
      "text/plain": [
       "array([0.62264809, 0.81737851, 0.2552327 , 0.30014307])"
      ]
     },
     "execution_count": 23,
     "metadata": {},
     "output_type": "execute_result"
    }
   ],
   "source": [
    "from scipy.optimize import curve_fit\n",
    "\n",
    "def skewpdf(x, a, loc, scale, alpha):\n",
    "    return a * skewnorm.pdf(x, loc=loc, scale=scale, a=alpha)\n",
    "\n",
    "rhoD_com_fit_un, _ = curve_fit(skewpdf, rho, rhoD_com, p0=[2, 1, 1.0, 2.0])\n",
    "rhoD_com_fit_un"
   ]
  },
  {
   "cell_type": "code",
   "execution_count": 24,
   "metadata": {},
   "outputs": [
    {
     "data": {
      "text/plain": [
       "(-2.0, 3.0)"
      ]
     },
     "execution_count": 24,
     "metadata": {},
     "output_type": "execute_result"
    },
    {
     "data": {
      "image/png": "[encoded data removed]",
      "text/plain": [
       "<Figure size 432x288 with 1 Axes>"
      ]
     },
     "metadata": {
      "needs_background": "light"
     },
     "output_type": "display_data"
    }
   ],
   "source": [
    "plt.plot(rho, rhoD_com, label='rhoDM')\n",
    "plt.plot(rho, skewpdf(rho, *rhoD_com_fit_un), label='rhoDM fit')\n",
    "plt.legend()\n",
    "plt.xlim(-2,3)"
   ]
  },
  {
   "cell_type": "code",
   "execution_count": 25,
   "metadata": {},
   "outputs": [],
   "source": [
    "rhoD_com_fit = rhoD_com_fit_un[1:]\n",
    "rhoD_com_low = {}\n",
    "rhoD_com_high = {}\n",
    "for i, sigma in enumerate([sigma_1, sigma_2, sigma_3]):\n",
    "    low, high = hdi(lambda x: skewnorm.pdf(x, *rhoD_com_fit), perc=sigma, res=1E3, min=-1, max=1)\n",
    "    rhoD_com_low[i] = low\n",
    "    rhoD_com_high[i] = high\n",
    "rhoD_com_mode = find_max(lambda x: skewnorm.pdf(x, *rhoD_com_fit), x0=0.0)[0]"
   ]
  },
  {
   "cell_type": "code",
   "execution_count": 26,
   "metadata": {},
   "outputs": [
    {
     "data": {
      "text/plain": [
       "(0.1355, 0.314)"
      ]
     },
     "execution_count": 26,
     "metadata": {},
     "output_type": "execute_result"
    }
   ],
   "source": [
    "A9 = sp[sp['SpT'] == 'A9V']['J-K'].values[0]\n",
    "F0 = sp[sp['SpT'] == 'F0V']['J-K'].values[0]\n",
    "b1 = (A9+F0)/2\n",
    "\n",
    "F9 = sp[sp['SpT'] == 'F9V']['J-K'].values[0]\n",
    "G0 = sp[sp['SpT'] == 'G0V']['J-K'].values[0]\n",
    "b2 = (F9+G0)/2\n",
    "b1, b2"
   ]
  },
  {
   "cell_type": "code",
   "execution_count": 27,
   "metadata": {},
   "outputs": [],
   "source": [
    "# for i in range(len(c)):\n",
    "#     print(r\"${}\\leq c < {}$ & {:.02f} & [{:.02f},{:.02f}] & [{:.02f},{:.02f}] & [{:.02f},{:.02f}] \\\\\".format(c1[i], c2[i], rhoDM_mode[i], rhoDM_low68[i], rhoDM_high68[i], rhoDM_low90[i], rhoDM_high90[i], rhoDM_low95[i], rhoDM_high95[i]))"
   ]
  },
  {
   "cell_type": "code",
   "execution_count": 28,
   "metadata": {},
   "outputs": [
    {
     "data": {
      "text/plain": [
       "array([0.   , 0.13 , 0.18 , 0.215, 0.245, 0.27 , 0.29 , 0.31 , 0.33 ,\n",
       "       0.35 , 0.365, 0.38 , 0.395])"
      ]
     },
     "execution_count": 28,
     "metadata": {},
     "output_type": "execute_result"
    }
   ],
   "source": [
    "c"
   ]
  },
  {
   "cell_type": "code",
   "execution_count": 31,
   "metadata": {},
   "outputs": [
    {
     "data": {
      "image/png": "[encoded data removed]",
      "text/plain": [
       "<Figure size 576x432 with 1 Axes>"
      ]
     },
     "metadata": {
      "needs_background": "light"
     },
     "output_type": "display_data"
    },
    {
     "data": {
      "text/plain": [
       "0.3955000000000004"
      ]
     },
     "execution_count": 31,
     "metadata": {},
     "output_type": "execute_result"
    }
   ],
   "source": [
    "cs = np.linspace(c.min()-0.05, c.max()+0.05, 100)\n",
    "\n",
    "fig, ax = plt.subplots(figsize=(8, 6))\n",
    "ax.axhline(y=rhob0_mode, color='black', linestyle='--')\n",
    "for i in range(3):\n",
    "    low = np.array([err['low'][i] for err in rhoD_errs])\n",
    "    high = np.array([err['high'][i] for err in rhoD_errs])\n",
    "    dm_ax = ax.errorbar(c, rhoD_modes, yerr=[rhoD_modes-low, high-rhoD_modes], fmt='o', color='blue', capsize=3, alpha=0.5, elinewidth=3, markeredgewidth=1)\n",
    "    low = np.array([err['low'][i] for err in rhob_errs])\n",
    "    high = np.array([err['high'][i] for err in rhob_errs])\n",
    "    rhob_ax = ax.errorbar(c, rhob_modes, yerr=[rhob_modes-low, high-rhob_modes], fmt='o', color='red', capsize=3, alpha=0.5, elinewidth=3, markeredgewidth=1)\n",
    "    rhob0_ax = ax.fill_between(cs, rhob0_low[i], rhob0_high[i], color='black', alpha=0.1)\n",
    "    rhoD_com_ax = ax.fill_between(cs, rhoD_com_low[i], rhoD_com_high[i], color='C0', alpha=0.1)\n",
    "    if i == 2:\n",
    "        ax.legend([dm_ax, rhob_ax, rhob0_ax, rhoD_com_ax], \n",
    "                  [r'$\\rho_{\\textup{D}}$', r'$\\rho_{b}$', r'$\\rho_{b0}$', r'$\\rho_{\\textup{D,com}}$'],\n",
    "                  loc='best', fontsize=12)\n",
    "# real value\n",
    "ax.axhline(y=rhoD_com_mode, color='black', linestyle='--')\n",
    "ax.axvline(x=b1, color='black', linestyle='--')\n",
    "ax.axvline(x=b2, color='black', linestyle='--')\n",
    "ax.text(0.05, -2.8, r'$\\textup{A}$', fontsize=16)\n",
    "ax.text(0.23, -2.8, r'$\\textup{F}$', fontsize=16)\n",
    "ax.text(0.36, -2.8, r'$\\textup{G}$', fontsize=16)\n",
    "ax.set_xlabel(r'$J-K_s$', fontsize=16)\n",
    "ax.set_ylabel(r'$\\rho$ [$\\times 10^{-2}M_{\\odot}\\ $pc$^{-3}$]', fontsize=16)\n",
    "ax.set_xlim(cs.min(), cs.max())\n",
    "ax.set_title(\"Kerapatan Materi Gelap \\& Baryon\", fontsize=16)\n",
    "ax.grid()\n",
    "fig.savefig(join('img', 'rhoD-no.pdf'), dpi=300)\n",
    "plt.show()\n",
    "rhoD_com_mode"
   ]
  }
 ],
 "metadata": {
  "kernelspec": {
   "display_name": "vaex",
   "language": "python",
   "name": "python3"
  },
  "language_info": {
   "codemirror_mode": {
    "name": "ipython",
    "version": 3
   },
   "file_extension": ".py",
   "mimetype": "text/x-python",
   "name": "python",
   "nbconvert_exporter": "python",
   "pygments_lexer": "ipython3",
   "version": "3.8.10"
  },
  "orig_nbformat": 4
 },
 "nbformat": 4,
 "nbformat_minor": 2
}
