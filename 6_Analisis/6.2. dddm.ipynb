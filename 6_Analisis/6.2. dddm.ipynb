{
 "cells": [
  {
   "cell_type": "code",
   "execution_count": 35,
   "metadata": {},
   "outputs": [],
   "source": [
    "import sys\n",
    "from os.path import join, abspath\n",
    "from glob import glob\n",
    "import numpy as np\n",
    "import vaex\n",
    "from tqdm import tqdm\n",
    "import matplotlib.pyplot as plt\n",
    "from time import time\n",
    "from scipy.optimize import curve_fit\n",
    "from scipy.stats import norm, skewnorm"
   ]
  },
  {
   "cell_type": "code",
   "execution_count": 36,
   "metadata": {},
   "outputs": [
    {
     "data": {
      "text/plain": [
       "'/home2/s20321005/Thesis-Project'"
      ]
     },
     "execution_count": 36,
     "metadata": {},
     "output_type": "execute_result"
    }
   ],
   "source": [
    "# import utils\n",
    "root_dir = abspath(join('..'))\n",
    "root_dir"
   ]
  },
  {
   "cell_type": "code",
   "execution_count": 37,
   "metadata": {},
   "outputs": [
    {
     "data": {
      "text/plain": [
       "['/home2/s20321005/Thesis-Project/6_Analisis',\n",
       " '/home2/s20321005/.conda/envs/vaex/lib/python38.zip',\n",
       " '/home2/s20321005/.conda/envs/vaex/lib/python3.8',\n",
       " '/home2/s20321005/.conda/envs/vaex/lib/python3.8/lib-dynload',\n",
       " '',\n",
       " '/home2/s20321005/.local/lib/python3.8/site-packages',\n",
       " '/home2/s20321005/.conda/envs/vaex/lib/python3.8/site-packages',\n",
       " '/home2/s20321005/Thesis-Project']"
      ]
     },
     "execution_count": 37,
     "metadata": {},
     "output_type": "execute_result"
    }
   ],
   "source": [
    "if root_dir not in sys.path:\n",
    "    sys.path.append(root_dir)\n",
    "sys.path"
   ]
  },
  {
   "cell_type": "code",
   "execution_count": 38,
   "metadata": {},
   "outputs": [],
   "source": [
    "from utils import style, hdi, load_spectral_types"
   ]
  },
  {
   "cell_type": "code",
   "execution_count": 39,
   "metadata": {},
   "outputs": [
    {
     "data": {
      "text/html": [
       "<div>\n",
       "<style scoped>\n",
       "    .dataframe tbody tr th:only-of-type {\n",
       "        vertical-align: middle;\n",
       "    }\n",
       "\n",
       "    .dataframe tbody tr th {\n",
       "        vertical-align: top;\n",
       "    }\n",
       "\n",
       "    .dataframe thead th {\n",
       "        text-align: right;\n",
       "    }\n",
       "</style>\n",
       "<table border=\"1\" class=\"dataframe\">\n",
       "  <thead>\n",
       "    <tr style=\"text-align: right;\">\n",
       "      <th></th>\n",
       "      <th>SpT</th>\n",
       "      <th>M_J</th>\n",
       "      <th>J-H</th>\n",
       "      <th>H-Ks</th>\n",
       "      <th>J-K</th>\n",
       "    </tr>\n",
       "  </thead>\n",
       "  <tbody>\n",
       "    <tr>\n",
       "      <th>0</th>\n",
       "      <td>O9V</td>\n",
       "      <td>-3.44</td>\n",
       "      <td>-0.164</td>\n",
       "      <td>-0.071</td>\n",
       "      <td>-0.235</td>\n",
       "    </tr>\n",
       "    <tr>\n",
       "      <th>1</th>\n",
       "      <td>O9.5V</td>\n",
       "      <td>-3.30</td>\n",
       "      <td>-0.161</td>\n",
       "      <td>-0.069</td>\n",
       "      <td>-0.230</td>\n",
       "    </tr>\n",
       "    <tr>\n",
       "      <th>2</th>\n",
       "      <td>B0V</td>\n",
       "      <td>-3.17</td>\n",
       "      <td>-0.159</td>\n",
       "      <td>-0.067</td>\n",
       "      <td>-0.226</td>\n",
       "    </tr>\n",
       "    <tr>\n",
       "      <th>3</th>\n",
       "      <td>B0.5V</td>\n",
       "      <td>-2.80</td>\n",
       "      <td>-0.153</td>\n",
       "      <td>-0.063</td>\n",
       "      <td>-0.216</td>\n",
       "    </tr>\n",
       "    <tr>\n",
       "      <th>4</th>\n",
       "      <td>B1V</td>\n",
       "      <td>-2.33</td>\n",
       "      <td>-0.148</td>\n",
       "      <td>-0.059</td>\n",
       "      <td>-0.207</td>\n",
       "    </tr>\n",
       "    <tr>\n",
       "      <th>...</th>\n",
       "      <td>...</td>\n",
       "      <td>...</td>\n",
       "      <td>...</td>\n",
       "      <td>...</td>\n",
       "      <td>...</td>\n",
       "    </tr>\n",
       "    <tr>\n",
       "      <th>95</th>\n",
       "      <td>T6V</td>\n",
       "      <td>15.34</td>\n",
       "      <td>0.100</td>\n",
       "      <td>-0.030</td>\n",
       "      <td>0.070</td>\n",
       "    </tr>\n",
       "    <tr>\n",
       "      <th>96</th>\n",
       "      <td>T7V</td>\n",
       "      <td>15.83</td>\n",
       "      <td>0.000</td>\n",
       "      <td>0.000</td>\n",
       "      <td>0.000</td>\n",
       "    </tr>\n",
       "    <tr>\n",
       "      <th>97</th>\n",
       "      <td>T7.5V</td>\n",
       "      <td>16.61</td>\n",
       "      <td>0.200</td>\n",
       "      <td>-0.050</td>\n",
       "      <td>0.150</td>\n",
       "    </tr>\n",
       "    <tr>\n",
       "      <th>98</th>\n",
       "      <td>T8V</td>\n",
       "      <td>17.30</td>\n",
       "      <td>0.200</td>\n",
       "      <td>-0.050</td>\n",
       "      <td>0.150</td>\n",
       "    </tr>\n",
       "    <tr>\n",
       "      <th>99</th>\n",
       "      <td>T9V</td>\n",
       "      <td>18.51</td>\n",
       "      <td>0.100</td>\n",
       "      <td>-0.200</td>\n",
       "      <td>-0.100</td>\n",
       "    </tr>\n",
       "  </tbody>\n",
       "</table>\n",
       "<p>100 rows × 5 columns</p>\n",
       "</div>"
      ],
      "text/plain": [
       "      SpT    M_J    J-H   H-Ks    J-K\n",
       "0     O9V  -3.44 -0.164 -0.071 -0.235\n",
       "1   O9.5V  -3.30 -0.161 -0.069 -0.230\n",
       "2     B0V  -3.17 -0.159 -0.067 -0.226\n",
       "3   B0.5V  -2.80 -0.153 -0.063 -0.216\n",
       "4     B1V  -2.33 -0.148 -0.059 -0.207\n",
       "..    ...    ...    ...    ...    ...\n",
       "95    T6V  15.34  0.100 -0.030  0.070\n",
       "96    T7V  15.83  0.000  0.000  0.000\n",
       "97  T7.5V  16.61  0.200 -0.050  0.150\n",
       "98    T8V  17.30  0.200 -0.050  0.150\n",
       "99    T9V  18.51  0.100 -0.200 -0.100\n",
       "\n",
       "[100 rows x 5 columns]"
      ]
     },
     "execution_count": 39,
     "metadata": {},
     "output_type": "execute_result"
    }
   ],
   "source": [
    "sp = load_spectral_types()\n",
    "sp"
   ]
  },
  {
   "cell_type": "code",
   "execution_count": 40,
   "metadata": {},
   "outputs": [],
   "source": [
    "style(name=\"seaborn-notebook\")"
   ]
  },
  {
   "cell_type": "code",
   "execution_count": 41,
   "metadata": {},
   "outputs": [
    {
     "data": {
      "text/plain": [
       "'/home2/s20321005/Thesis-Project/Data'"
      ]
     },
     "execution_count": 41,
     "metadata": {},
     "output_type": "execute_result"
    }
   ],
   "source": [
    "root_data_dir = abspath(join(root_dir, \"Data\"))\n",
    "root_data_dir"
   ]
  },
  {
   "cell_type": "code",
   "execution_count": 42,
   "metadata": {},
   "outputs": [],
   "source": [
    "data_baryon_dir = join(root_data_dir, \"Baryon\")\n",
    "# load baryons components\n",
    "df_baryon = vaex.open(join(data_baryon_dir, \"baryon.hdf5\"))\n",
    "rhos = df_baryon[\"rho\"].to_numpy()  # Msun/pc^3\n",
    "sigmaz = df_baryon[\"sigma_z\"].to_numpy() # km/s\n",
    "\n",
    "e_rhos = df_baryon[\"e_rho\"].to_numpy()  # Msun/pc^3\n",
    "e_sigmaz = df_baryon[\"e_sigma_z\"].to_numpy() # km/s\n",
    "dpi=100"
   ]
  },
  {
   "cell_type": "code",
   "execution_count": 43,
   "metadata": {},
   "outputs": [
    {
     "data": {
      "text/plain": [
       "array([[-0.019     ,  0.12713703],\n",
       "       [ 0.12713703,  0.19024014],\n",
       "       [ 0.19024014,  0.22021412],\n",
       "       [ 0.22021412,  0.24230021],\n",
       "       [ 0.24230021,  0.26004796],\n",
       "       [ 0.26004796,  0.27621813],\n",
       "       [ 0.27621813,  0.28923315],\n",
       "       [ 0.28923315,  0.30106498],\n",
       "       [ 0.30106498,  0.31329121],\n",
       "       [ 0.31329121,  0.32512304],\n",
       "       [ 0.32512304,  0.3353773 ],\n",
       "       [ 0.3353773 ,  0.34523716],\n",
       "       [ 0.34523716,  0.35509702],\n",
       "       [ 0.35509702,  0.36535128],\n",
       "       [ 0.36535128,  0.37402796]])"
      ]
     },
     "execution_count": 43,
     "metadata": {},
     "output_type": "execute_result"
    }
   ],
   "source": [
    "boundaries = np.load(join(root_data_dir, \"boundaries.npy\"))\n",
    "boundaries"
   ]
  },
  {
   "cell_type": "code",
   "execution_count": 44,
   "metadata": {},
   "outputs": [
    {
     "data": {
      "text/plain": [
       "array([0.05406852, 0.15868859, 0.20522713, 0.23125717, 0.25117408,\n",
       "       0.26813305, 0.28272564, 0.29514907, 0.3071781 , 0.31920713,\n",
       "       0.33025017, 0.34030723, 0.35016709, 0.36022415, 0.36968962])"
      ]
     },
     "execution_count": 44,
     "metadata": {},
     "output_type": "execute_result"
    }
   ],
   "source": [
    "c1 = boundaries[:, 0]\n",
    "c2 = boundaries[:, 1]\n",
    "c = (c1 + c2) / 2\n",
    "c"
   ]
  },
  {
   "cell_type": "code",
   "execution_count": 45,
   "metadata": {},
   "outputs": [
    {
     "data": {
      "text/plain": [
       "'/home2/s20321005/Thesis-Project/Data/MCMC-no/dddm/data'"
      ]
     },
     "execution_count": 45,
     "metadata": {},
     "output_type": "execute_result"
    }
   ],
   "source": [
    "mcmc_dir = join(root_data_dir, \"MCMC-no\", \"dddm\", \"data\")\n",
    "mcmc_dir"
   ]
  },
  {
   "cell_type": "code",
   "execution_count": 46,
   "metadata": {},
   "outputs": [
    {
     "data": {
      "text/plain": [
       "['/home2/s20321005/Thesis-Project/Data/MCMC-no/dddm/data/chain-(-0.019)_(0.127).npy',\n",
       " '/home2/s20321005/Thesis-Project/Data/MCMC-no/dddm/data/chain-(0.127)_(0.190).npy',\n",
       " '/home2/s20321005/Thesis-Project/Data/MCMC-no/dddm/data/chain-(0.190)_(0.220).npy',\n",
       " '/home2/s20321005/Thesis-Project/Data/MCMC-no/dddm/data/chain-(0.220)_(0.242).npy',\n",
       " '/home2/s20321005/Thesis-Project/Data/MCMC-no/dddm/data/chain-(0.242)_(0.260).npy',\n",
       " '/home2/s20321005/Thesis-Project/Data/MCMC-no/dddm/data/chain-(0.260)_(0.276).npy',\n",
       " '/home2/s20321005/Thesis-Project/Data/MCMC-no/dddm/data/chain-(0.276)_(0.289).npy',\n",
       " '/home2/s20321005/Thesis-Project/Data/MCMC-no/dddm/data/chain-(0.289)_(0.301).npy',\n",
       " '/home2/s20321005/Thesis-Project/Data/MCMC-no/dddm/data/chain-(0.301)_(0.313).npy',\n",
       " '/home2/s20321005/Thesis-Project/Data/MCMC-no/dddm/data/chain-(0.313)_(0.325).npy',\n",
       " '/home2/s20321005/Thesis-Project/Data/MCMC-no/dddm/data/chain-(0.325)_(0.335).npy',\n",
       " '/home2/s20321005/Thesis-Project/Data/MCMC-no/dddm/data/chain-(0.335)_(0.345).npy',\n",
       " '/home2/s20321005/Thesis-Project/Data/MCMC-no/dddm/data/chain-(0.345)_(0.355).npy',\n",
       " '/home2/s20321005/Thesis-Project/Data/MCMC-no/dddm/data/chain-(0.355)_(0.365).npy',\n",
       " '/home2/s20321005/Thesis-Project/Data/MCMC-no/dddm/data/chain-(0.365)_(0.374).npy']"
      ]
     },
     "execution_count": 46,
     "metadata": {},
     "output_type": "execute_result"
    }
   ],
   "source": [
    "files = glob(join(mcmc_dir, \"chain-*\"))\n",
    "files.sort()\n",
    "files"
   ]
  },
  {
   "attachments": {},
   "cell_type": "markdown",
   "metadata": {},
   "source": [
    "## tes"
   ]
  },
  {
   "cell_type": "code",
   "execution_count": 47,
   "metadata": {},
   "outputs": [
    {
     "data": {
      "text/plain": [
       "(2500, 350, 35)"
      ]
     },
     "execution_count": 47,
     "metadata": {},
     "output_type": "execute_result"
    }
   ],
   "source": [
    "index = 2\n",
    "df = np.load(files[index])\n",
    "df.shape"
   ]
  },
  {
   "cell_type": "code",
   "execution_count": 48,
   "metadata": {},
   "outputs": [],
   "source": [
    "rhob = df[:, :, 12:24]\n",
    "rhob = rhob.reshape(-1, 12)\n",
    "rhob = rhob.sum(axis=1)/1E-2\n",
    "rhoDM = df[:, :, 24].reshape(-1)/1E-2\n",
    "sigmaDD = df[:, :, 25].reshape(-1)\n",
    "hDD = df[:, :, 26].reshape(-1)\n",
    "rhoD = rhoDM + sigmaDD/(4*hDD)/1E-2\n",
    "# mask = rhoDM > 0\n",
    "# rhob = rhob[mask]\n",
    "# rhoDM = rhoDM[mask]\n",
    "# rhoD = rhoD[mask]\n",
    "length = len(rhob)\n",
    "rhob0 = np.empty((length, 12))\n",
    "for i in range(12):\n",
    "    rhob0[:,i] = norm.rvs(loc=rhos[i], scale=e_rhos[i], size=length)\n",
    "rhob0 = rhob0.sum(axis=1)/1E-2"
   ]
  },
  {
   "cell_type": "code",
   "execution_count": 49,
   "metadata": {},
   "outputs": [
    {
     "data": {
      "image/png": "[encoded data removed]",
      "text/plain": [
       "<Figure size 576x432 with 1 Axes>"
      ]
     },
     "metadata": {
      "needs_background": "light"
     },
     "output_type": "display_data"
    }
   ],
   "source": [
    "rho = np.linspace(-5, 24, 200)\n",
    "rhoD_num, _ = np.histogram(rhoD, bins=rho)\n",
    "rhob_num, _ = np.histogram(rhob, bins=rho)\n",
    "rhob0_num, _ = np.histogram(rhob0, bins=rho)\n",
    "rhomid = 0.5*(rho[1:] + rho[:-1])\n",
    "# plot step\n",
    "fig, ax = plt.subplots(figsize=(8, 6))\n",
    "ax.step(rhomid, rhoD_num, label='DM eff')\n",
    "ax.step(rhomid, rhob_num, label='Baryon')\n",
    "ax.step(rhomid, rhob0_num, label='Baryon0')\n",
    "ax.set_xlabel(r'$\\rho$')\n",
    "ax.set_ylabel('Number')\n",
    "ax.legend()\n",
    "plt.show()"
   ]
  },
  {
   "cell_type": "code",
   "execution_count": 50,
   "metadata": {},
   "outputs": [
    {
     "data": {
      "text/plain": [
       "array([0.94355874, 2.32712236, 3.23301195, 2.18046359])"
      ]
     },
     "execution_count": 50,
     "metadata": {},
     "output_type": "execute_result"
    }
   ],
   "source": [
    "from scipy.optimize import curve_fit\n",
    "\n",
    "def skewpdf(x, amp, a, loc, scale):\n",
    "    return amp*skewnorm.pdf(x, a, loc, scale)\n",
    "dx = rhomid[1]-rhomid[0]\n",
    "\n",
    "rhoD_fit, _ = curve_fit(skewpdf, rhomid, rhoD_num/(rhoD_num.sum()*dx), p0=[1, 3, 1, 0.5])\n",
    "# rhoD_fit = rhoD_fit[1:]\n",
    "\n",
    "rhoD_sample = np.random.choice(rhoD, size=1_000)\n",
    "# rhoD_fit = skewnorm.fit(rhoD_sample)\n",
    "rhob_sample = np.random.choice(rhob, size=10_000)\n",
    "rhob_fit = skewnorm.fit(rhob_sample)\n",
    "rhob0_sample = np.random.choice(rhob0, size=10_000)\n",
    "rhob0_fit = norm.fit(rhob0_sample)\n",
    "rhoD_fit"
   ]
  },
  {
   "cell_type": "code",
   "execution_count": 51,
   "metadata": {},
   "outputs": [
    {
     "data": {
      "text/plain": [
       "((6.405417165695415e-06, 8.89556924388702, 0.7128410332994679),\n",
       " (8.89513810867078, 0.7136168922905739))"
      ]
     },
     "execution_count": 51,
     "metadata": {},
     "output_type": "execute_result"
    },
    {
     "data": {
      "image/png": "[encoded data removed]",
      "text/plain": [
       "<Figure size 576x432 with 1 Axes>"
      ]
     },
     "metadata": {
      "needs_background": "light"
     },
     "output_type": "display_data"
    }
   ],
   "source": [
    "# plot\n",
    "rho = np.arange(-5, 20, 0.1)\n",
    "fig, ax = plt.subplots(figsize=(8, 6))\n",
    "ax.bar(rhomid, rhoD_num/(rhoD_num.sum()*dx), width=dx, label='DM eff', ec='k', alpha=0.5, color='C0')\n",
    "# ax.hist(rhoD, bins=rho, density=True, label='DM eff', ec='k', alpha=0.5, color='C0')\n",
    "ax.hist(rhob, bins=rho, density=True, label='Baryon', ec='k', alpha=0.5,color='C1')\n",
    "ax.hist(rhob0, bins=rho, density=True, label='Baryon0', ec='k', alpha=0.5, color='C2')\n",
    "ax.plot(rho, skewpdf(rho, *rhoD_fit), label='DM eff fit', color='C0', ls='--')\n",
    "# ax.plot(rho, skewnorm.pdf(rho, *rhoD_fit), label='DM eff fit', color='C0', ls='--')\n",
    "ax.plot(rho, skewnorm.pdf(rho, *rhob_fit), label='Baryon fit', color='C1', ls='--')\n",
    "ax.plot(rho, norm.pdf(rho, *rhob0_fit), label='Baryon0 fit', color='C2', ls='--')\n",
    "ax.set_xlabel(r'$\\rho$')\n",
    "ax.set_ylabel(r'$f$')\n",
    "ax.legend()\n",
    "rhob_fit, rhob0_fit"
   ]
  },
  {
   "cell_type": "code",
   "execution_count": 52,
   "metadata": {},
   "outputs": [
    {
     "name": "stdout",
     "output_type": "stream",
     "text": [
      "rhoD = 4.52 +2.02/-1.80\n",
      "rhob = 8.89 +0.71/-0.70\n",
      "rhob0 = 8.89 +0.71/-0.70\n"
     ]
    },
    {
     "data": {
      "image/png": "[encoded data removed]",
      "text/plain": [
       "<Figure size 576x432 with 1 Axes>"
      ]
     },
     "metadata": {
      "needs_background": "light"
     },
     "output_type": "display_data"
    }
   ],
   "source": [
    "from utils import hdi_sample\n",
    "\n",
    "sigma = np.array([68, 90, 95])\n",
    "alpha = 1 - sigma/100\n",
    "\n",
    "hpd, modes = hdi_sample(rhoD_sample, -5, 20, alpha=alpha[0])\n",
    "rhoD_mode = modes[0]\n",
    "rhoD_low, rhoD_high = hpd[0]\n",
    "\n",
    "hpd, modes = hdi(lambda x: skewnorm.pdf(x, *rhob_fit), 5, 12.5, alpha=alpha[0])\n",
    "rhob_mode = modes[0]\n",
    "rhob_low, rhob_high = hpd[0]\n",
    "\n",
    "hpd, modes = hdi(lambda x: norm.pdf(x, *rhob0_fit), 5, 12.5, alpha=alpha[0])\n",
    "rhob0_mode = modes[0]\n",
    "rhob0_low, rhob0_high = hpd[0]\n",
    "\n",
    "# plot\n",
    "rho = np.linspace(-5, 14, 100)\n",
    "fig, ax = plt.subplots(figsize=(8, 6))\n",
    "ax.hist(rhoD, bins=rho, density=True, label='DM', ec='k', alpha=0.5, color='C0')\n",
    "ax.hist(rhob, bins=rho, density=True, label='Baryon', ec='k', alpha=0.5,color='C1')\n",
    "ax.hist(rhob0, bins=rho, density=True, label='Baryon0', ec='k', alpha=0.5, color='C2')\n",
    "ax.plot(rho, skewpdf(rho, *rhoD_fit), label='DM eff fit', color='C0', ls='--')\n",
    "ax.plot(rho, skewnorm.pdf(rho, *rhob_fit), label='Baryon fit', color='C1', ls='--')\n",
    "ax.plot(rho, norm.pdf(rho, *rhob0_fit), label='Baryon0 fit', color='C2', ls='--')\n",
    "ax.axvline(rhoD_mode, color='C0', ls='-.')\n",
    "ax.axvline(rhob_mode, color='C1', ls='-.')\n",
    "ax.axvline(rhob0_mode, color='C2', ls='-.')\n",
    "ax.axvline(rhoD_low, color='C0', ls='--')\n",
    "ax.axvline(rhoD_high, color='C0', ls='--')\n",
    "ax.axvline(rhob_low, color='C1', ls='--')\n",
    "ax.axvline(rhob_high, color='C1', ls='--')\n",
    "ax.axvline(rhob0_low, color='C2', ls='--')\n",
    "ax.axvline(rhob0_high, color='C2', ls='--')\n",
    "ax.set_xlabel(r'$\\rho$')\n",
    "ax.set_ylabel(r'$f$')\n",
    "ax.legend()\n",
    "print(f'rhoD = {rhoD_mode:.02f} +{rhoD_high-rhoD_mode:.02f}/-{rhoD_mode-rhoD_low:.02f}')\n",
    "print(f'rhob = {rhob_mode:.02f} +{rhob_high-rhob_mode:.02f}/-{rhob_mode-rhob_low:.02f}')\n",
    "print(f'rhob0 = {rhob0_mode:.02f} +{rhob0_high-rhob0_mode:.02f}/-{rhob0_mode-rhob0_low:.02f}')"
   ]
  },
  {
   "cell_type": "code",
   "execution_count": 53,
   "metadata": {},
   "outputs": [
    {
     "name": "stdout",
     "output_type": "stream",
     "text": [
      "rhob0 = 8.89 +0.71/-0.70\n"
     ]
    },
    {
     "data": {
      "image/png": "[encoded data removed]",
      "text/plain": [
       "<Figure size 576x432 with 1 Axes>"
      ]
     },
     "metadata": {
      "needs_background": "light"
     },
     "output_type": "display_data"
    }
   ],
   "source": [
    "rhob0_low = []\n",
    "rhob0_high = []\n",
    "for i, alp in enumerate(alpha):\n",
    "    hpd, modes = hdi(lambda x: norm.pdf(x, *rhob0_fit), low=5, high=12.5, alpha=alp)\n",
    "    low, high = hpd[0]\n",
    "    rhob0_low.append(low)\n",
    "    rhob0_high.append(high)\n",
    "# plot\n",
    "rho = np.linspace(5, 12.5, 50)\n",
    "fig, ax = plt.subplots(figsize=(8, 6))\n",
    "ax.hist(rhob0, bins=rho, density=True, label='Baryon0', ec='k', alpha=0.5, color='C2')\n",
    "ax.plot(rho, norm.pdf(rho, *rhob0_fit), label='Baryon0 fit', color='C2', ls='--')\n",
    "ax.axvline(rhob0_mode, color='C2', ls='-.')\n",
    "for low, high in zip(rhob0_low, rhob0_high):\n",
    "    ax.axvline(low, color='C2', ls='--')\n",
    "    ax.axvline(high, color='C2', ls='--')\n",
    "ax.set_xlabel(r'$\\rho$')\n",
    "ax.set_ylabel(r'$f$')\n",
    "ax.legend()\n",
    "print(f'rhob0 = {rhob0_mode:.02f} +{rhob0_high[0]-rhob0_mode:.02f}/-{rhob0_mode-rhob0_low[0]:.02f}')"
   ]
  },
  {
   "cell_type": "code",
   "execution_count": 54,
   "metadata": {},
   "outputs": [
    {
     "name": "stderr",
     "output_type": "stream",
     "text": [
      "100%|██████████| 15/15 [00:27<00:00,  1.84s/it]\n"
     ]
    }
   ],
   "source": [
    "from tqdm import tqdm\n",
    "\n",
    "rhoD_modes = []\n",
    "rhoD_errs = []\n",
    "rhob_modes = []\n",
    "rhob_errs = []\n",
    "rhoD_fits = []\n",
    "rhoD_samples = []\n",
    "rho = np.linspace(0, 24, 200)\n",
    "rhomid = 0.5*(rho[1:] + rho[:-1])\n",
    "dx = rhomid[1]-rhomid[0]\n",
    "for file in tqdm(files):\n",
    "    df = np.load(file)\n",
    "    rhob = df[:, :, 12:24]\n",
    "    rhob = rhob.reshape(-1, 12)\n",
    "    rhob = rhob.sum(axis=1)/1E-2\n",
    "    rhoDM = df[:, :, 24].reshape(-1)/1E-2\n",
    "    sigmaDD = df[:, :, 25].reshape(-1)\n",
    "    hDD = df[:, :, 26].reshape(-1)\n",
    "    rhoD = rhoDM + sigmaDD/(4*hDD)/1E-2\n",
    "    rhoD_sample = np.random.choice(rhoD, size=10_000)\n",
    "    rhoD_samples.append(rhoD_sample)\n",
    "    # mask = rhoDM > -3\n",
    "    # rhob = rhob[mask]\n",
    "    # rhoDM = rhoDM[mask]\n",
    "    # rhoD = rhoD[mask]\n",
    "    # rhoD_num, _ = np.histogram(rhoD, bins=rho)\n",
    "    # print(\"fitting...\")\n",
    "    # rhoD_fit, _ = curve_fit(skewpdf, rhomid, rhoD_num/(rhoD_num.sum()*dx), p0=[1, 5, 1, 0.5])\n",
    "    # rhoD_fits.append(rhoD_fit)\n",
    "    # plt.bar(rhomid, rhoD_num/(rhoD_num.sum()*dx), width=dx, label='DM eff', ec='k', alpha=0.5, color='C0')\n",
    "    # plt.plot(rho, skewpdf(rho, *rhoD_fit), label='DM eff fit', color='r', ls='--')\n",
    "    # plt.title(file)\n",
    "    # plt.show()\n",
    "    # continue\n",
    "    rhob_sample = np.random.choice(rhob, size=10_000, replace=False)\n",
    "    rhob_fit = skewnorm.fit(rhob_sample)\n",
    "    # print(\"calculating HDI...\")\n",
    "    rhoD_err = []\n",
    "    rhob_err = []\n",
    "    rhoD_mode = None\n",
    "    rhob_mode = None\n",
    "    for i, alp in enumerate(alpha):\n",
    "        hpd, modes = hdi_sample(rhoD_sample, -5, 24, alpha=alp)\n",
    "        rhoD_mode = modes[0]\n",
    "        low, high = hpd[0]\n",
    "        rhoD_err.append({'alpha': alp, 'low': low, 'high': high})\n",
    "\n",
    "        hpd, modes = hdi(lambda x: skewnorm.pdf(x, *rhob_fit), 5, 15, alpha=alp)\n",
    "        rhob_mode = modes[0]\n",
    "        low, high = hpd[0]\n",
    "        rhob_err.append({'alpha': alp, 'low': low, 'high': high})\n",
    "    rhoD_errs.append(rhoD_err)\n",
    "    rhob_errs.append(rhob_err)\n",
    "    rhoD_modes.append(rhoD_mode)\n",
    "    rhob_modes.append(rhob_mode)"
   ]
  },
  {
   "cell_type": "code",
   "execution_count": 55,
   "metadata": {},
   "outputs": [
    {
     "data": {
      "text/plain": [
       "[]"
      ]
     },
     "execution_count": 55,
     "metadata": {},
     "output_type": "execute_result"
    }
   ],
   "source": [
    "rhoD_fits"
   ]
  },
  {
   "cell_type": "code",
   "execution_count": 58,
   "metadata": {},
   "outputs": [],
   "source": [
    "# # multiplying the rhoDM, but it became addition in log\n",
    "# rho = np.linspace(-10, 14, 10000)\n",
    "# log_rhoD = None\n",
    "# for p in rhoD_fits:\n",
    "#     if log_rhoD is None:\n",
    "#         log_rhoD = np.log(skewpdf(rho, *p))\n",
    "#     else:\n",
    "#         log_rhoD += np.log(skewpdf(rho, *p))\n",
    "#     # print(log_rhoD.sum())\n",
    "# # turn into rhoDM\n",
    "# rhoD_com = np.exp(log_rhoD)\n",
    "# # normalize with max value\n",
    "# rhoD_com /= rhoD_com.max()\n",
    "# # plot\n",
    "# fig, ax = plt.subplots()\n",
    "# ax.plot(rho, rhoD_com, label='rhoD')\n",
    "# ax.set_xlim(-5,5)\n",
    "# rhoD_com"
   ]
  },
  {
   "cell_type": "code",
   "execution_count": null,
   "metadata": {},
   "outputs": [
    {
     "data": {
      "text/plain": [
       "array([ 1.98253592, -1.29066058,  0.31512771,  1.03006676])"
      ]
     },
     "execution_count": 23,
     "metadata": {},
     "output_type": "execute_result"
    }
   ],
   "source": [
    "# # def skewpdf(x, *args):\n",
    "# #     A, other = args[0], args[1:]\n",
    "# #     return A*skewnorm.pdf(x, *other)\n",
    "\n",
    "# rhoD_com_fit, _ = curve_fit(skewpdf, rho, rhoD_com, p0=[1, 1.0, 2.0, 1])\n",
    "# rhoD_com_fit"
   ]
  },
  {
   "cell_type": "code",
   "execution_count": null,
   "metadata": {},
   "outputs": [
    {
     "data": {
      "text/plain": [
       "(-1.0, 5.0)"
      ]
     },
     "execution_count": 24,
     "metadata": {},
     "output_type": "execute_result"
    },
    {
     "data": {
      "image/png": "[encoded data removed]",
      "text/plain": [
       "<Figure size 432x288 with 1 Axes>"
      ]
     },
     "metadata": {
      "needs_background": "light"
     },
     "output_type": "display_data"
    }
   ],
   "source": [
    "# plt.plot(rho, rhoD_com, label='rhoD')\n",
    "# plt.plot(rho, skewpdf(rho, *rhoD_com_fit), label='rhoD fit')\n",
    "# plt.legend()\n",
    "# plt.xlim(-1,5)"
   ]
  },
  {
   "cell_type": "code",
   "execution_count": null,
   "metadata": {},
   "outputs": [
    {
     "data": {
      "text/plain": [
       "(-0.24,\n",
       " [{'sigma': array([68, 90, 95]), 'low': -0.85, 'high': 0.33},\n",
       "  {'sigma': array([68, 90, 95]), 'low': -1.0, 'high': 0.75},\n",
       "  {'sigma': array([68, 90, 95]), 'low': -1.0, 'high': 1.0}])"
      ]
     },
     "execution_count": 25,
     "metadata": {},
     "output_type": "execute_result"
    }
   ],
   "source": [
    "# rhoD_com_err = []\n",
    "# rhoD_com_mode = None\n",
    "# for i, alp in enumerate(alpha):\n",
    "#     hpd, modes = hdi(lambda x: skewpdf(x, *rhoD_com_fit), low=-1, high=5, alpha=alp)\n",
    "#     low, high = hpd[0]\n",
    "#     rhoD_com_err.append({'sigma':sigma, 'low': low, 'high': high})\n",
    "#     rhoD_com_mode = modes[0]\n",
    "# rhoD_com_mode, rhoD_com_err"
   ]
  },
  {
   "cell_type": "code",
   "execution_count": 59,
   "metadata": {},
   "outputs": [
    {
     "data": {
      "text/plain": [
       "(0.1355, 0.314)"
      ]
     },
     "execution_count": 59,
     "metadata": {},
     "output_type": "execute_result"
    }
   ],
   "source": [
    "A9 = sp[sp['SpT'] == 'A9V']['J-K'].values[0]\n",
    "F0 = sp[sp['SpT'] == 'F0V']['J-K'].values[0]\n",
    "b1 = (A9+F0)/2\n",
    "\n",
    "F9 = sp[sp['SpT'] == 'F9V']['J-K'].values[0]\n",
    "G0 = sp[sp['SpT'] == 'G0V']['J-K'].values[0]\n",
    "b2 = (F9+G0)/2\n",
    "b1, b2"
   ]
  },
  {
   "cell_type": "code",
   "execution_count": 60,
   "metadata": {},
   "outputs": [
    {
     "data": {
      "image/png": "[encoded data removed]",
      "text/plain": [
       "<Figure size 576x432 with 1 Axes>"
      ]
     },
     "metadata": {
      "needs_background": "light"
     },
     "output_type": "display_data"
    }
   ],
   "source": [
    "cs = np.linspace(c.min()-0.05, c.max()+0.05, 100)\n",
    "\n",
    "fig, ax = plt.subplots(figsize=(8, 6))\n",
    "ax.axhline(y=rhob0_mode, color='black', linestyle='--')\n",
    "for i in range(3):\n",
    "    low = np.array([err[i]['low'] for err in rhoD_errs])\n",
    "    high = np.array([err[i]['high'] for err in rhoD_errs])\n",
    "    dm_ax = ax.errorbar(c, rhoD_modes, yerr=[rhoD_modes-low, high-rhoD_modes], fmt='o', color='blue', capsize=3, alpha=0.5, elinewidth=3, markeredgewidth=1)\n",
    "    low = np.array([err[i]['low'] for err in rhob_errs])\n",
    "    high = np.array([err[i]['high'] for err in rhob_errs])\n",
    "    rhob_ax = ax.errorbar(c-0.003, rhob_modes, yerr=[rhob_modes-low, high-rhob_modes], fmt='o', color='red', capsize=3, alpha=0.5, elinewidth=3, markeredgewidth=1)\n",
    "    rhob0_ax = ax.fill_between(cs, rhob0_low[i], rhob0_high[i], color='black', alpha=0.1)\n",
    "    # rhoD_com_ax = ax.fill_between(cs, rhoD_com_err[i]['low'], rhoD_com_err[i]['high'], color='C0', alpha=0.1)\n",
    "    if i == 2:\n",
    "        # ax.legend([dm_ax, rhob_ax, rhob0_ax, rhoD_com_ax], \n",
    "        #           [r'$\\rho_{\\textup{D}}$', r'$\\rho_{b}$', r'$\\rho_{b0}$', r'$\\rho_{\\textup{com}}$'],\n",
    "        #           loc='best', fontsize=12)\n",
    "        ax.legend([dm_ax, rhob_ax, rhob0_ax], \n",
    "                  [r'$\\rho_{\\textup{D}}$', r'$\\rho_{b}$', r'$\\rho_{b0}$'],\n",
    "                  loc='best', fontsize=12)\n",
    "# real value\n",
    "# ax.axhline(y=rhoD_com_mode, color='black', linestyle='--')\n",
    "\n",
    "ax.axvline(x=b1, color='black', linestyle='--')\n",
    "ax.axvline(x=b2, color='black', linestyle='--')\n",
    "ax.text(0.105, -4, r'$\\textup{A}$', fontsize=16)\n",
    "ax.text(0.23, -4, r'$\\textup{F}$', fontsize=16)\n",
    "ax.text(0.38, -4, r'$\\textup{G}$', fontsize=16)\n",
    "ax.set_xlabel(r'$J-K_s$', fontsize=16)\n",
    "ax.set_ylabel(r'$\\rho$ [$\\times 10^{-2}M_{\\odot}\\ $pc$^{-3}$]', fontsize=16)\n",
    "ax.set_xlim(cs.min(), cs.max())\n",
    "ax.set_title(\"Kerapatan Materi Gelap \\& Baryon\", fontsize=16)\n",
    "ax.grid()\n",
    "fig.savefig(join('img', 'rhoD-dddm.pdf'), dpi=300)\n",
    "plt.show()\n",
    "# rhoD_com_mode"
   ]
  },
  {
   "cell_type": "markdown",
   "metadata": {},
   "source": [
    "# $\\Sigma$"
   ]
  },
  {
   "cell_type": "code",
   "execution_count": null,
   "metadata": {},
   "outputs": [],
   "source": [
    "import sys\n",
    "from os.path import join, abspath\n",
    "from glob import glob\n",
    "import numpy as np\n",
    "import vaex\n",
    "from tqdm import tqdm\n",
    "import matplotlib.pyplot as plt\n",
    "from time import time\n",
    "from scipy.optimize import curve_fit\n",
    "from scipy.stats import norm, skewnorm"
   ]
  },
  {
   "cell_type": "code",
   "execution_count": 2,
   "metadata": {},
   "outputs": [
    {
     "data": {
      "text/plain": [
       "'/home2/s20321005/Thesis-Project'"
      ]
     },
     "execution_count": 2,
     "metadata": {},
     "output_type": "execute_result"
    }
   ],
   "source": [
    "# import utils\n",
    "root_dir = abspath(join('..'))\n",
    "root_dir"
   ]
  },
  {
   "cell_type": "code",
   "execution_count": 3,
   "metadata": {},
   "outputs": [
    {
     "data": {
      "text/plain": [
       "['/home2/s20321005/Thesis-Project/6_Analisis',\n",
       " '/home2/s20321005/.conda/envs/vaex/lib/python38.zip',\n",
       " '/home2/s20321005/.conda/envs/vaex/lib/python3.8',\n",
       " '/home2/s20321005/.conda/envs/vaex/lib/python3.8/lib-dynload',\n",
       " '',\n",
       " '/home2/s20321005/.local/lib/python3.8/site-packages',\n",
       " '/home2/s20321005/.conda/envs/vaex/lib/python3.8/site-packages',\n",
       " '/home2/s20321005/Thesis-Project']"
      ]
     },
     "execution_count": 3,
     "metadata": {},
     "output_type": "execute_result"
    }
   ],
   "source": [
    "if root_dir not in sys.path:\n",
    "    sys.path.append(root_dir)\n",
    "sys.path"
   ]
  },
  {
   "cell_type": "code",
   "execution_count": 4,
   "metadata": {},
   "outputs": [],
   "source": [
    "from utils import style, hdi, load_spectral_types"
   ]
  },
  {
   "cell_type": "code",
   "execution_count": 5,
   "metadata": {},
   "outputs": [
    {
     "data": {
      "text/html": [
       "<div>\n",
       "<style scoped>\n",
       "    .dataframe tbody tr th:only-of-type {\n",
       "        vertical-align: middle;\n",
       "    }\n",
       "\n",
       "    .dataframe tbody tr th {\n",
       "        vertical-align: top;\n",
       "    }\n",
       "\n",
       "    .dataframe thead th {\n",
       "        text-align: right;\n",
       "    }\n",
       "</style>\n",
       "<table border=\"1\" class=\"dataframe\">\n",
       "  <thead>\n",
       "    <tr style=\"text-align: right;\">\n",
       "      <th></th>\n",
       "      <th>SpT</th>\n",
       "      <th>M_J</th>\n",
       "      <th>J-H</th>\n",
       "      <th>H-Ks</th>\n",
       "      <th>J-K</th>\n",
       "    </tr>\n",
       "  </thead>\n",
       "  <tbody>\n",
       "    <tr>\n",
       "      <th>0</th>\n",
       "      <td>O9V</td>\n",
       "      <td>-3.44</td>\n",
       "      <td>-0.164</td>\n",
       "      <td>-0.071</td>\n",
       "      <td>-0.235</td>\n",
       "    </tr>\n",
       "    <tr>\n",
       "      <th>1</th>\n",
       "      <td>O9.5V</td>\n",
       "      <td>-3.30</td>\n",
       "      <td>-0.161</td>\n",
       "      <td>-0.069</td>\n",
       "      <td>-0.230</td>\n",
       "    </tr>\n",
       "    <tr>\n",
       "      <th>2</th>\n",
       "      <td>B0V</td>\n",
       "      <td>-3.17</td>\n",
       "      <td>-0.159</td>\n",
       "      <td>-0.067</td>\n",
       "      <td>-0.226</td>\n",
       "    </tr>\n",
       "    <tr>\n",
       "      <th>3</th>\n",
       "      <td>B0.5V</td>\n",
       "      <td>-2.80</td>\n",
       "      <td>-0.153</td>\n",
       "      <td>-0.063</td>\n",
       "      <td>-0.216</td>\n",
       "    </tr>\n",
       "    <tr>\n",
       "      <th>4</th>\n",
       "      <td>B1V</td>\n",
       "      <td>-2.33</td>\n",
       "      <td>-0.148</td>\n",
       "      <td>-0.059</td>\n",
       "      <td>-0.207</td>\n",
       "    </tr>\n",
       "    <tr>\n",
       "      <th>...</th>\n",
       "      <td>...</td>\n",
       "      <td>...</td>\n",
       "      <td>...</td>\n",
       "      <td>...</td>\n",
       "      <td>...</td>\n",
       "    </tr>\n",
       "    <tr>\n",
       "      <th>95</th>\n",
       "      <td>T6V</td>\n",
       "      <td>15.34</td>\n",
       "      <td>0.100</td>\n",
       "      <td>-0.030</td>\n",
       "      <td>0.070</td>\n",
       "    </tr>\n",
       "    <tr>\n",
       "      <th>96</th>\n",
       "      <td>T7V</td>\n",
       "      <td>15.83</td>\n",
       "      <td>0.000</td>\n",
       "      <td>0.000</td>\n",
       "      <td>0.000</td>\n",
       "    </tr>\n",
       "    <tr>\n",
       "      <th>97</th>\n",
       "      <td>T7.5V</td>\n",
       "      <td>16.61</td>\n",
       "      <td>0.200</td>\n",
       "      <td>-0.050</td>\n",
       "      <td>0.150</td>\n",
       "    </tr>\n",
       "    <tr>\n",
       "      <th>98</th>\n",
       "      <td>T8V</td>\n",
       "      <td>17.30</td>\n",
       "      <td>0.200</td>\n",
       "      <td>-0.050</td>\n",
       "      <td>0.150</td>\n",
       "    </tr>\n",
       "    <tr>\n",
       "      <th>99</th>\n",
       "      <td>T9V</td>\n",
       "      <td>18.51</td>\n",
       "      <td>0.100</td>\n",
       "      <td>-0.200</td>\n",
       "      <td>-0.100</td>\n",
       "    </tr>\n",
       "  </tbody>\n",
       "</table>\n",
       "<p>100 rows × 5 columns</p>\n",
       "</div>"
      ],
      "text/plain": [
       "      SpT    M_J    J-H   H-Ks    J-K\n",
       "0     O9V  -3.44 -0.164 -0.071 -0.235\n",
       "1   O9.5V  -3.30 -0.161 -0.069 -0.230\n",
       "2     B0V  -3.17 -0.159 -0.067 -0.226\n",
       "3   B0.5V  -2.80 -0.153 -0.063 -0.216\n",
       "4     B1V  -2.33 -0.148 -0.059 -0.207\n",
       "..    ...    ...    ...    ...    ...\n",
       "95    T6V  15.34  0.100 -0.030  0.070\n",
       "96    T7V  15.83  0.000  0.000  0.000\n",
       "97  T7.5V  16.61  0.200 -0.050  0.150\n",
       "98    T8V  17.30  0.200 -0.050  0.150\n",
       "99    T9V  18.51  0.100 -0.200 -0.100\n",
       "\n",
       "[100 rows x 5 columns]"
      ]
     },
     "execution_count": 5,
     "metadata": {},
     "output_type": "execute_result"
    }
   ],
   "source": [
    "sp = load_spectral_types()\n",
    "sp"
   ]
  },
  {
   "cell_type": "code",
   "execution_count": 6,
   "metadata": {},
   "outputs": [],
   "source": [
    "style(name=\"seaborn-notebook\")"
   ]
  },
  {
   "cell_type": "code",
   "execution_count": 7,
   "metadata": {},
   "outputs": [
    {
     "data": {
      "text/plain": [
       "'/home2/s20321005/Thesis-Project/Data'"
      ]
     },
     "execution_count": 7,
     "metadata": {},
     "output_type": "execute_result"
    }
   ],
   "source": [
    "root_data_dir = abspath(join(root_dir, \"Data\"))\n",
    "root_data_dir"
   ]
  },
  {
   "cell_type": "code",
   "execution_count": 8,
   "metadata": {},
   "outputs": [],
   "source": [
    "data_baryon_dir = join(root_data_dir, \"Baryon\")\n",
    "# load baryons components\n",
    "df_baryon = vaex.open(join(data_baryon_dir, \"baryon.hdf5\"))\n",
    "rhos = df_baryon[\"rho\"].to_numpy()  # Msun/pc^3\n",
    "sigmaz = df_baryon[\"sigma_z\"].to_numpy() # km/s\n",
    "\n",
    "e_rhos = df_baryon[\"e_rho\"].to_numpy()  # Msun/pc^3\n",
    "e_sigmaz = df_baryon[\"e_sigma_z\"].to_numpy() # km/s\n",
    "dpi=100"
   ]
  },
  {
   "cell_type": "code",
   "execution_count": 9,
   "metadata": {},
   "outputs": [
    {
     "data": {
      "text/plain": [
       "array([[-0.019     ,  0.12713703],\n",
       "       [ 0.12713703,  0.19024014],\n",
       "       [ 0.19024014,  0.22021412],\n",
       "       [ 0.22021412,  0.24230021],\n",
       "       [ 0.24230021,  0.26004796],\n",
       "       [ 0.26004796,  0.27621813],\n",
       "       [ 0.27621813,  0.28923315],\n",
       "       [ 0.28923315,  0.30106498],\n",
       "       [ 0.30106498,  0.31329121],\n",
       "       [ 0.31329121,  0.32512304],\n",
       "       [ 0.32512304,  0.3353773 ],\n",
       "       [ 0.3353773 ,  0.34523716],\n",
       "       [ 0.34523716,  0.35509702],\n",
       "       [ 0.35509702,  0.36535128],\n",
       "       [ 0.36535128,  0.37402796]])"
      ]
     },
     "execution_count": 9,
     "metadata": {},
     "output_type": "execute_result"
    }
   ],
   "source": [
    "boundaries = np.load(join(root_data_dir, \"boundaries.npy\"))\n",
    "boundaries"
   ]
  },
  {
   "cell_type": "code",
   "execution_count": 10,
   "metadata": {},
   "outputs": [
    {
     "data": {
      "text/plain": [
       "array([0.05406852, 0.15868859, 0.20522713, 0.23125717, 0.25117408,\n",
       "       0.26813305, 0.28272564, 0.29514907, 0.3071781 , 0.31920713,\n",
       "       0.33025017, 0.34030723, 0.35016709, 0.36022415, 0.36968962])"
      ]
     },
     "execution_count": 10,
     "metadata": {},
     "output_type": "execute_result"
    }
   ],
   "source": [
    "c1 = boundaries[:, 0]\n",
    "c2 = boundaries[:, 1]\n",
    "c = (c1 + c2) / 2\n",
    "c"
   ]
  },
  {
   "cell_type": "code",
   "execution_count": 11,
   "metadata": {},
   "outputs": [
    {
     "data": {
      "text/plain": [
       "'/home2/s20321005/Thesis-Project/Data/MCMC-no/dddm/data'"
      ]
     },
     "execution_count": 11,
     "metadata": {},
     "output_type": "execute_result"
    }
   ],
   "source": [
    "mcmc_dir = join(root_data_dir, \"MCMC-no\", \"dddm\", \"data\")\n",
    "mcmc_dir"
   ]
  },
  {
   "cell_type": "code",
   "execution_count": 22,
   "metadata": {},
   "outputs": [
    {
     "data": {
      "text/plain": [
       "(2500, 350, 35)"
      ]
     },
     "execution_count": 22,
     "metadata": {},
     "output_type": "execute_result"
    }
   ],
   "source": [
    "index = 0\n",
    "df = np.load(files[index])\n",
    "df.shape"
   ]
  },
  {
   "cell_type": "code",
   "execution_count": 23,
   "metadata": {},
   "outputs": [
    {
     "data": {
      "text/plain": [
       "['/home2/s20321005/Thesis-Project/Data/MCMC-no/dddm/data/chain-(-0.019)_(0.127).npy',\n",
       " '/home2/s20321005/Thesis-Project/Data/MCMC-no/dddm/data/chain-(0.127)_(0.190).npy',\n",
       " '/home2/s20321005/Thesis-Project/Data/MCMC-no/dddm/data/chain-(0.190)_(0.220).npy',\n",
       " '/home2/s20321005/Thesis-Project/Data/MCMC-no/dddm/data/chain-(0.220)_(0.242).npy',\n",
       " '/home2/s20321005/Thesis-Project/Data/MCMC-no/dddm/data/chain-(0.242)_(0.260).npy',\n",
       " '/home2/s20321005/Thesis-Project/Data/MCMC-no/dddm/data/chain-(0.260)_(0.276).npy',\n",
       " '/home2/s20321005/Thesis-Project/Data/MCMC-no/dddm/data/chain-(0.276)_(0.289).npy',\n",
       " '/home2/s20321005/Thesis-Project/Data/MCMC-no/dddm/data/chain-(0.289)_(0.301).npy',\n",
       " '/home2/s20321005/Thesis-Project/Data/MCMC-no/dddm/data/chain-(0.301)_(0.313).npy',\n",
       " '/home2/s20321005/Thesis-Project/Data/MCMC-no/dddm/data/chain-(0.313)_(0.325).npy',\n",
       " '/home2/s20321005/Thesis-Project/Data/MCMC-no/dddm/data/chain-(0.325)_(0.335).npy',\n",
       " '/home2/s20321005/Thesis-Project/Data/MCMC-no/dddm/data/chain-(0.335)_(0.345).npy',\n",
       " '/home2/s20321005/Thesis-Project/Data/MCMC-no/dddm/data/chain-(0.345)_(0.355).npy',\n",
       " '/home2/s20321005/Thesis-Project/Data/MCMC-no/dddm/data/chain-(0.355)_(0.365).npy',\n",
       " '/home2/s20321005/Thesis-Project/Data/MCMC-no/dddm/data/chain-(0.365)_(0.374).npy']"
      ]
     },
     "execution_count": 23,
     "metadata": {},
     "output_type": "execute_result"
    }
   ],
   "source": [
    "files = glob(join(mcmc_dir, \"chain-*\"))\n",
    "files.sort()\n",
    "files"
   ]
  },
  {
   "cell_type": "code",
   "execution_count": 24,
   "metadata": {},
   "outputs": [
    {
     "data": {
      "text/plain": [
       "(2500, 350, 35)"
      ]
     },
     "execution_count": 24,
     "metadata": {},
     "output_type": "execute_result"
    }
   ],
   "source": [
    "index = 2\n",
    "df = np.load(files[index])\n",
    "df.shape"
   ]
  },
  {
   "cell_type": "code",
   "execution_count": 32,
   "metadata": {},
   "outputs": [],
   "source": [
    "from scipy.stats import gaussian_kde\n",
    "\n",
    "# estimate the density of (sigmaDD, hDD)\n",
    "sigmaDD = df[:, :, 25].reshape(-1)\n",
    "hDD = df[:, :, 26].reshape(-1)\n",
    "mask = np.random.choice(np.arange(len(sigmaDD)), size=10_000)\n",
    "sigmaDD = sigmaDD[mask]\n",
    "hDD = hDD[mask]\n",
    "xy = np.vstack([sigmaDD, hDD])\n",
    "x = np.linspace(0, 30, 100)\n",
    "y = np.linspace(0, 100, 100)\n",
    "X, Y = np.meshgrid(x, y)\n",
    "Z = gaussian_kde(xy)(np.vstack([X.ravel(), Y.ravel()])).reshape(X.shape)\n",
    "\n",
    "vol = Z.sum()"
   ]
  },
  {
   "cell_type": "code",
   "execution_count": 34,
   "metadata": {},
   "outputs": [
    {
     "data": {
      "text/plain": [
       "Text(0.5, 1.0, 'Simplest default with labels')"
      ]
     },
     "execution_count": 34,
     "metadata": {},
     "output_type": "execute_result"
    },
    {
     "data": {
      "image/png": "[encoded data removed]",
      "text/plain": [
       "<Figure size 432x288 with 1 Axes>"
      ]
     },
     "metadata": {
      "needs_background": "light"
     },
     "output_type": "display_data"
    }
   ],
   "source": [
    "# plot the density\n",
    "fig, ax = plt.subplots()\n",
    "CS = ax.contour(X, Y, Z/vol)\n",
    "ax.clabel(CS, inline=True, fontsize=10)\n",
    "ax.set_title('Simplest default with labels')"
   ]
  }
 ],
 "metadata": {
  "kernelspec": {
   "display_name": "vaex",
   "language": "python",
   "name": "python3"
  },
  "language_info": {
   "codemirror_mode": {
    "name": "ipython",
    "version": 3
   },
   "file_extension": ".py",
   "mimetype": "text/x-python",
   "name": "python",
   "nbconvert_exporter": "python",
   "pygments_lexer": "ipython3",
   "version": "3.8.10"
  },
  "orig_nbformat": 4
 },
 "nbformat": 4,
 "nbformat_minor": 2
}
