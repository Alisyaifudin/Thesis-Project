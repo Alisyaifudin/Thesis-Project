{
 "cells": [
  {
   "cell_type": "code",
   "execution_count": 1,
   "metadata": {},
   "outputs": [],
   "source": [
    "import sys\n",
    "from os.path import join, abspath\n",
    "from glob import glob\n",
    "import numpy as np\n",
    "import vaex\n",
    "from tqdm import tqdm\n",
    "import matplotlib.pyplot as plt\n",
    "from time import time\n",
    "from scipy.optimize import curve_fit\n",
    "from scipy.stats import norm, skewnorm"
   ]
  },
  {
   "cell_type": "code",
   "execution_count": 2,
   "metadata": {},
   "outputs": [
    {
     "data": {
      "text/plain": [
       "'/home2/s20321005/Thesis-Project'"
      ]
     },
     "execution_count": 2,
     "metadata": {},
     "output_type": "execute_result"
    }
   ],
   "source": [
    "# import utils\n",
    "root_dir = abspath(join('..'))\n",
    "root_dir"
   ]
  },
  {
   "cell_type": "code",
   "execution_count": 3,
   "metadata": {},
   "outputs": [
    {
     "data": {
      "text/plain": [
       "['/home2/s20321005/Thesis-Project/6_Analisis',\n",
       " '/home2/s20321005/.conda/envs/vaex/lib/python38.zip',\n",
       " '/home2/s20321005/.conda/envs/vaex/lib/python3.8',\n",
       " '/home2/s20321005/.conda/envs/vaex/lib/python3.8/lib-dynload',\n",
       " '',\n",
       " '/home2/s20321005/.local/lib/python3.8/site-packages',\n",
       " '/home2/s20321005/.conda/envs/vaex/lib/python3.8/site-packages',\n",
       " '/home2/s20321005/Thesis-Project']"
      ]
     },
     "execution_count": 3,
     "metadata": {},
     "output_type": "execute_result"
    }
   ],
   "source": [
    "if root_dir not in sys.path:\n",
    "    sys.path.append(root_dir)\n",
    "sys.path"
   ]
  },
  {
   "cell_type": "code",
   "execution_count": 4,
   "metadata": {},
   "outputs": [],
   "source": [
    "from utils import style, hdi, load_spectral_types"
   ]
  },
  {
   "cell_type": "code",
   "execution_count": 5,
   "metadata": {},
   "outputs": [
    {
     "data": {
      "text/html": [
       "<div>\n",
       "<style scoped>\n",
       "    .dataframe tbody tr th:only-of-type {\n",
       "        vertical-align: middle;\n",
       "    }\n",
       "\n",
       "    .dataframe tbody tr th {\n",
       "        vertical-align: top;\n",
       "    }\n",
       "\n",
       "    .dataframe thead th {\n",
       "        text-align: right;\n",
       "    }\n",
       "</style>\n",
       "<table border=\"1\" class=\"dataframe\">\n",
       "  <thead>\n",
       "    <tr style=\"text-align: right;\">\n",
       "      <th></th>\n",
       "      <th>SpT</th>\n",
       "      <th>M_J</th>\n",
       "      <th>J-H</th>\n",
       "      <th>H-Ks</th>\n",
       "      <th>J-K</th>\n",
       "    </tr>\n",
       "  </thead>\n",
       "  <tbody>\n",
       "    <tr>\n",
       "      <th>0</th>\n",
       "      <td>O9V</td>\n",
       "      <td>-3.44</td>\n",
       "      <td>-0.164</td>\n",
       "      <td>-0.071</td>\n",
       "      <td>-0.235</td>\n",
       "    </tr>\n",
       "    <tr>\n",
       "      <th>1</th>\n",
       "      <td>O9.5V</td>\n",
       "      <td>-3.30</td>\n",
       "      <td>-0.161</td>\n",
       "      <td>-0.069</td>\n",
       "      <td>-0.230</td>\n",
       "    </tr>\n",
       "    <tr>\n",
       "      <th>2</th>\n",
       "      <td>B0V</td>\n",
       "      <td>-3.17</td>\n",
       "      <td>-0.159</td>\n",
       "      <td>-0.067</td>\n",
       "      <td>-0.226</td>\n",
       "    </tr>\n",
       "    <tr>\n",
       "      <th>3</th>\n",
       "      <td>B0.5V</td>\n",
       "      <td>-2.80</td>\n",
       "      <td>-0.153</td>\n",
       "      <td>-0.063</td>\n",
       "      <td>-0.216</td>\n",
       "    </tr>\n",
       "    <tr>\n",
       "      <th>4</th>\n",
       "      <td>B1V</td>\n",
       "      <td>-2.33</td>\n",
       "      <td>-0.148</td>\n",
       "      <td>-0.059</td>\n",
       "      <td>-0.207</td>\n",
       "    </tr>\n",
       "    <tr>\n",
       "      <th>...</th>\n",
       "      <td>...</td>\n",
       "      <td>...</td>\n",
       "      <td>...</td>\n",
       "      <td>...</td>\n",
       "      <td>...</td>\n",
       "    </tr>\n",
       "    <tr>\n",
       "      <th>95</th>\n",
       "      <td>T6V</td>\n",
       "      <td>15.34</td>\n",
       "      <td>0.100</td>\n",
       "      <td>-0.030</td>\n",
       "      <td>0.070</td>\n",
       "    </tr>\n",
       "    <tr>\n",
       "      <th>96</th>\n",
       "      <td>T7V</td>\n",
       "      <td>15.83</td>\n",
       "      <td>0.000</td>\n",
       "      <td>0.000</td>\n",
       "      <td>0.000</td>\n",
       "    </tr>\n",
       "    <tr>\n",
       "      <th>97</th>\n",
       "      <td>T7.5V</td>\n",
       "      <td>16.61</td>\n",
       "      <td>0.200</td>\n",
       "      <td>-0.050</td>\n",
       "      <td>0.150</td>\n",
       "    </tr>\n",
       "    <tr>\n",
       "      <th>98</th>\n",
       "      <td>T8V</td>\n",
       "      <td>17.30</td>\n",
       "      <td>0.200</td>\n",
       "      <td>-0.050</td>\n",
       "      <td>0.150</td>\n",
       "    </tr>\n",
       "    <tr>\n",
       "      <th>99</th>\n",
       "      <td>T9V</td>\n",
       "      <td>18.51</td>\n",
       "      <td>0.100</td>\n",
       "      <td>-0.200</td>\n",
       "      <td>-0.100</td>\n",
       "    </tr>\n",
       "  </tbody>\n",
       "</table>\n",
       "<p>100 rows × 5 columns</p>\n",
       "</div>"
      ],
      "text/plain": [
       "      SpT    M_J    J-H   H-Ks    J-K\n",
       "0     O9V  -3.44 -0.164 -0.071 -0.235\n",
       "1   O9.5V  -3.30 -0.161 -0.069 -0.230\n",
       "2     B0V  -3.17 -0.159 -0.067 -0.226\n",
       "3   B0.5V  -2.80 -0.153 -0.063 -0.216\n",
       "4     B1V  -2.33 -0.148 -0.059 -0.207\n",
       "..    ...    ...    ...    ...    ...\n",
       "95    T6V  15.34  0.100 -0.030  0.070\n",
       "96    T7V  15.83  0.000  0.000  0.000\n",
       "97  T7.5V  16.61  0.200 -0.050  0.150\n",
       "98    T8V  17.30  0.200 -0.050  0.150\n",
       "99    T9V  18.51  0.100 -0.200 -0.100\n",
       "\n",
       "[100 rows x 5 columns]"
      ]
     },
     "execution_count": 5,
     "metadata": {},
     "output_type": "execute_result"
    }
   ],
   "source": [
    "sp = load_spectral_types()\n",
    "sp"
   ]
  },
  {
   "cell_type": "code",
   "execution_count": 6,
   "metadata": {},
   "outputs": [],
   "source": [
    "style(name=\"seaborn-notebook\")"
   ]
  },
  {
   "cell_type": "code",
   "execution_count": 7,
   "metadata": {},
   "outputs": [
    {
     "data": {
      "text/plain": [
       "'/home2/s20321005/Thesis-Project/Data'"
      ]
     },
     "execution_count": 7,
     "metadata": {},
     "output_type": "execute_result"
    }
   ],
   "source": [
    "root_data_dir = abspath(join(root_dir, \"Data\"))\n",
    "root_data_dir"
   ]
  },
  {
   "cell_type": "code",
   "execution_count": 8,
   "metadata": {},
   "outputs": [],
   "source": [
    "data_baryon_dir = join(root_data_dir, \"Baryon\")\n",
    "# load baryons components\n",
    "df_baryon = vaex.open(join(data_baryon_dir, \"baryon.hdf5\"))\n",
    "rhos = df_baryon[\"rho\"].to_numpy()  # Msun/pc^3\n",
    "sigmaz = df_baryon[\"sigma_z\"].to_numpy() # km/s\n",
    "\n",
    "e_rhos = df_baryon[\"e_rho\"].to_numpy()  # Msun/pc^3\n",
    "e_sigmaz = df_baryon[\"e_sigma_z\"].to_numpy() # km/s\n",
    "dpi=100"
   ]
  },
  {
   "cell_type": "code",
   "execution_count": 9,
   "metadata": {},
   "outputs": [
    {
     "data": {
      "text/plain": [
       "array([[-0.019     ,  0.12713703],\n",
       "       [ 0.12713703,  0.19024014],\n",
       "       [ 0.19024014,  0.22021412],\n",
       "       [ 0.22021412,  0.24230021],\n",
       "       [ 0.24230021,  0.26004796],\n",
       "       [ 0.26004796,  0.27621813],\n",
       "       [ 0.27621813,  0.28923315],\n",
       "       [ 0.28923315,  0.30106498],\n",
       "       [ 0.30106498,  0.31329121],\n",
       "       [ 0.31329121,  0.32512304],\n",
       "       [ 0.32512304,  0.3353773 ],\n",
       "       [ 0.3353773 ,  0.34523716],\n",
       "       [ 0.34523716,  0.35509702],\n",
       "       [ 0.35509702,  0.36535128],\n",
       "       [ 0.36535128,  0.37402796]])"
      ]
     },
     "execution_count": 9,
     "metadata": {},
     "output_type": "execute_result"
    }
   ],
   "source": [
    "boundaries = np.load(join(root_data_dir, \"boundaries.npy\"))\n",
    "boundaries"
   ]
  },
  {
   "cell_type": "code",
   "execution_count": 10,
   "metadata": {},
   "outputs": [
    {
     "data": {
      "text/plain": [
       "array([0.05406852, 0.15868859, 0.20522713, 0.23125717, 0.25117408,\n",
       "       0.26813305, 0.28272564, 0.29514907, 0.3071781 , 0.31920713,\n",
       "       0.33025017, 0.34030723, 0.35016709, 0.36022415, 0.36968962])"
      ]
     },
     "execution_count": 10,
     "metadata": {},
     "output_type": "execute_result"
    }
   ],
   "source": [
    "c1 = boundaries[:, 0]\n",
    "c2 = boundaries[:, 1]\n",
    "c = (c1 + c2) / 2\n",
    "c"
   ]
  },
  {
   "cell_type": "code",
   "execution_count": 11,
   "metadata": {},
   "outputs": [
    {
     "data": {
      "text/plain": [
       "'/home2/s20321005/Thesis-Project/Data/MCMC-no/dddm/data'"
      ]
     },
     "execution_count": 11,
     "metadata": {},
     "output_type": "execute_result"
    }
   ],
   "source": [
    "mcmc_dir = join(root_data_dir, \"MCMC-no\", \"dddm\", \"data\")\n",
    "mcmc_dir"
   ]
  },
  {
   "cell_type": "code",
   "execution_count": 12,
   "metadata": {},
   "outputs": [
    {
     "data": {
      "text/plain": [
       "['/home2/s20321005/Thesis-Project/Data/MCMC-no/dddm/data/chain-(-0.019)_(0.127).npy',\n",
       " '/home2/s20321005/Thesis-Project/Data/MCMC-no/dddm/data/chain-(0.127)_(0.190).npy',\n",
       " '/home2/s20321005/Thesis-Project/Data/MCMC-no/dddm/data/chain-(0.190)_(0.220).npy',\n",
       " '/home2/s20321005/Thesis-Project/Data/MCMC-no/dddm/data/chain-(0.220)_(0.242).npy',\n",
       " '/home2/s20321005/Thesis-Project/Data/MCMC-no/dddm/data/chain-(0.242)_(0.260).npy',\n",
       " '/home2/s20321005/Thesis-Project/Data/MCMC-no/dddm/data/chain-(0.260)_(0.276).npy',\n",
       " '/home2/s20321005/Thesis-Project/Data/MCMC-no/dddm/data/chain-(0.276)_(0.289).npy',\n",
       " '/home2/s20321005/Thesis-Project/Data/MCMC-no/dddm/data/chain-(0.289)_(0.301).npy',\n",
       " '/home2/s20321005/Thesis-Project/Data/MCMC-no/dddm/data/chain-(0.301)_(0.313).npy',\n",
       " '/home2/s20321005/Thesis-Project/Data/MCMC-no/dddm/data/chain-(0.313)_(0.325).npy',\n",
       " '/home2/s20321005/Thesis-Project/Data/MCMC-no/dddm/data/chain-(0.325)_(0.335).npy',\n",
       " '/home2/s20321005/Thesis-Project/Data/MCMC-no/dddm/data/chain-(0.335)_(0.345).npy',\n",
       " '/home2/s20321005/Thesis-Project/Data/MCMC-no/dddm/data/chain-(0.345)_(0.355).npy',\n",
       " '/home2/s20321005/Thesis-Project/Data/MCMC-no/dddm/data/chain-(0.355)_(0.365).npy',\n",
       " '/home2/s20321005/Thesis-Project/Data/MCMC-no/dddm/data/chain-(0.365)_(0.374).npy']"
      ]
     },
     "execution_count": 12,
     "metadata": {},
     "output_type": "execute_result"
    }
   ],
   "source": [
    "files = glob(join(mcmc_dir, \"chain-*\"))\n",
    "files.sort()\n",
    "files"
   ]
  },
  {
   "attachments": {},
   "cell_type": "markdown",
   "metadata": {},
   "source": [
    "## tes"
   ]
  },
  {
   "cell_type": "code",
   "execution_count": 13,
   "metadata": {},
   "outputs": [
    {
     "data": {
      "text/plain": [
       "(2500, 350, 35)"
      ]
     },
     "execution_count": 13,
     "metadata": {},
     "output_type": "execute_result"
    }
   ],
   "source": [
    "index = 5\n",
    "df = np.load(files[index])\n",
    "df.shape"
   ]
  },
  {
   "cell_type": "code",
   "execution_count": 14,
   "metadata": {},
   "outputs": [],
   "source": [
    "rhob = df[:, :, 12:24]\n",
    "rhob = rhob.reshape(-1, 12)\n",
    "rhob = rhob.sum(axis=1)/1E-2\n",
    "rhoDM = df[:, :, 24].reshape(-1)/1E-2\n",
    "sigmaDD = df[:, :, 25].reshape(-1)\n",
    "hDD = df[:, :, 26].reshape(-1)\n",
    "rhoD = rhoDM + sigmaDD/(4*hDD)/1E-2\n",
    "# mask = rhoDM > 0\n",
    "# rhob = rhob[mask]\n",
    "# rhoDM = rhoDM[mask]\n",
    "# rhoD = rhoD[mask]\n",
    "length = len(rhob)\n",
    "rhob0 = np.empty((length, 12))\n",
    "for i in range(12):\n",
    "    rhob0[:,i] = norm.rvs(loc=rhos[i], scale=e_rhos[i], size=length)\n",
    "rhob0 = rhob0.sum(axis=1)/1E-2"
   ]
  },
  {
   "cell_type": "code",
   "execution_count": 15,
   "metadata": {},
   "outputs": [
    {
     "data": {
      "image/png": "[encoded data removed]",
      "text/plain": [
       "<Figure size 576x432 with 1 Axes>"
      ]
     },
     "metadata": {
      "needs_background": "light"
     },
     "output_type": "display_data"
    }
   ],
   "source": [
    "rho = np.linspace(-5, 30, 200)\n",
    "rhoD_num, _ = np.histogram(rhoD, bins=rho)\n",
    "rhob_num, _ = np.histogram(rhob, bins=rho)\n",
    "rhob0_num, _ = np.histogram(rhob0, bins=rho)\n",
    "rhomid = 0.5*(rho[1:] + rho[:-1])\n",
    "# plot step\n",
    "fig, ax = plt.subplots(figsize=(8, 6))\n",
    "ax.step(rhomid, rhoD_num, label='DM eff')\n",
    "ax.step(rhomid, rhob_num, label='Baryon')\n",
    "ax.step(rhomid, rhob0_num, label='Baryon0')\n",
    "ax.set_xlabel(r'$\\rho$')\n",
    "ax.set_ylabel('Number')\n",
    "ax.legend()\n",
    "plt.show()"
   ]
  },
  {
   "cell_type": "code",
   "execution_count": 16,
   "metadata": {},
   "outputs": [
    {
     "data": {
      "text/plain": [
       "[<matplotlib.lines.Line2D at 0x7f169014abb0>]"
      ]
     },
     "execution_count": 16,
     "metadata": {},
     "output_type": "execute_result"
    },
    {
     "data": {
      "image/png": "[encoded data removed]",
      "text/plain": [
       "<Figure size 432x288 with 1 Axes>"
      ]
     },
     "metadata": {
      "needs_background": "light"
     },
     "output_type": "display_data"
    }
   ],
   "source": [
    "from scipy.optimize import curve_fit\n",
    "from scipy.stats import skewnorm\n",
    "\n",
    "def rhoD_xlog_pdf(x, *args):\n",
    "    loc = args[0]\n",
    "    amp1, a1, scale1 = args[1:4]\n",
    "    amp2, a2, scale2 = args[4:]\n",
    "\n",
    "    return amp1*skewnorm.pdf(x, a1, loc, scale1) + amp2*skewnorm.pdf(x, a2, loc, scale2)\n",
    "\n",
    "def rhoD_pdf(x, *args):\n",
    "    return rhoD_xlog_pdf(np.log(x+5), *args)\n",
    "\n",
    "rhoD_fit, _ = curve_fit(rhoD_xlog_pdf, np.log(rhomid+5), rhoD_num, p0=[0, 1, 0, 0.1, 0.1, 0, 10])\n",
    "\n",
    "plt.step(np.log(rhomid+5), rhoD_num/rhoD_num.sum())\n",
    "plt.plot(np.log(rhomid+5), rhoD_xlog_pdf(np.log(rhomid+5), *rhoD_fit)/rhoD_num.sum(), 'r-')"
   ]
  },
  {
   "cell_type": "code",
   "execution_count": 17,
   "metadata": {},
   "outputs": [
    {
     "data": {
      "text/plain": [
       "array([2.39891319e+00, 4.35188237e+03, 1.46153134e+00, 3.83238035e-01,\n",
       "       7.26896083e+03, 6.78441827e-01, 1.57668786e-01])"
      ]
     },
     "execution_count": 17,
     "metadata": {},
     "output_type": "execute_result"
    }
   ],
   "source": [
    "from scipy.optimize import curve_fit\n",
    "\n",
    "# def skewpdf(x, amp, a, loc, scale):\n",
    "#     return amp*skewnorm.pdf(x, a, loc, scale)\n",
    "# dx = rhomid[1]-rhomid[0]\n",
    "\n",
    "# rhoD_fit, _ = curve_fit(skewpdf, rhomid, rhoD_num/(rhoD_num.sum()*dx), p0=[1, 3, 1, 0.5])\n",
    "# rhoD_fit = rhoD_fit[1:]\n",
    "\n",
    "rhoD_sample = np.random.choice(rhoD, size=1_000)\n",
    "# rhoD_fit = skewnorm.fit(rhoD_sample)\n",
    "rhob_sample = np.random.choice(rhob, size=10_000)\n",
    "rhob_fit = skewnorm.fit(rhob_sample)\n",
    "rhob0_sample = np.random.choice(rhob0, size=10_000)\n",
    "rhob0_fit = norm.fit(rhob0_sample)\n",
    "rhoD_fit"
   ]
  },
  {
   "cell_type": "code",
   "execution_count": 18,
   "metadata": {},
   "outputs": [
    {
     "data": {
      "text/plain": [
       "((-0.43474436302184805, 9.162011854863994, 0.7487414671991586),\n",
       " (8.889274537621016, 0.7081616170416408))"
      ]
     },
     "execution_count": 18,
     "metadata": {},
     "output_type": "execute_result"
    },
    {
     "data": {
      "image/png": "[encoded data removed]",
      "text/plain": [
       "<Figure size 576x432 with 1 Axes>"
      ]
     },
     "metadata": {
      "needs_background": "light"
     },
     "output_type": "display_data"
    }
   ],
   "source": [
    "# plot\n",
    "rho = np.arange(-5, 30, 0.1)\n",
    "dx = rho[1]-rho[0]\n",
    "fig, ax = plt.subplots(figsize=(8, 6))\n",
    "ax.bar(rhomid, rhoD_num/(rhoD_num.sum()*dx), width=dx, label='DM eff', ec='k', alpha=0.5, color='C0')\n",
    "# ax.hist(rhoD, bins=rho, density=True, label='DM eff', ec='k', alpha=0.5, color='C0')\n",
    "ax.hist(rhob, bins=rho, density=True, label='Baryon', ec='k', alpha=0.5,color='C1')\n",
    "ax.hist(rhob0, bins=rho, density=True, label='Baryon0', ec='k', alpha=0.5, color='C2')\n",
    "# ax.plot(rho, skewpdf(rho, *rhoD_fit), label='DM eff fit', color='C0', ls='--')\n",
    "# ax.plot(rho, skewnorm.pdf(rho, *rhoD_fit), label='DM eff fit', color='C0', ls='--')\n",
    "ax.plot(rho, rhoD_pdf(rho, *rhoD_fit)/(rhoD_num.sum()*dx), label='DM eff fit', color='C0', ls='--')\n",
    "ax.plot(rho, skewnorm.pdf(rho, *rhob_fit), label='Baryon fit', color='C1', ls='--')\n",
    "ax.plot(rho, norm.pdf(rho, *rhob0_fit), label='Baryon0 fit', color='C2', ls='--')\n",
    "ax.set_xlabel(r'$\\rho$')\n",
    "ax.set_ylabel(r'$f$')\n",
    "ax.legend()\n",
    "rhob_fit, rhob0_fit"
   ]
  },
  {
   "cell_type": "code",
   "execution_count": 19,
   "metadata": {},
   "outputs": [
    {
     "name": "stdout",
     "output_type": "stream",
     "text": [
      "rhoD = 7.37 +3.79/-3.14\n",
      "rhob = 8.93 +0.70/-0.71\n",
      "rhob0 = 8.89 +0.70/-0.70\n"
     ]
    },
    {
     "data": {
      "image/png": "[encoded data removed]",
      "text/plain": [
       "<Figure size 576x432 with 1 Axes>"
      ]
     },
     "metadata": {
      "needs_background": "light"
     },
     "output_type": "display_data"
    }
   ],
   "source": [
    "from utils import hdi_sample\n",
    "\n",
    "sigma = np.array([68, 90, 95])\n",
    "alpha = 1 - sigma/100\n",
    "\n",
    "hpd, modes = hdi_sample(rhoD_sample, -5, 20, alpha=alpha[0])\n",
    "rhoD_mode = modes[0]\n",
    "rhoD_low, rhoD_high = hpd[0]\n",
    "\n",
    "hpd, modes = hdi(lambda x: skewnorm.pdf(x, *rhob_fit), 5, 12.5, alpha=alpha[0])\n",
    "rhob_mode = modes[0]\n",
    "rhob_low, rhob_high = hpd[0]\n",
    "\n",
    "hpd, modes = hdi(lambda x: norm.pdf(x, *rhob0_fit), 5, 12.5, alpha=alpha[0])\n",
    "rhob0_mode = modes[0]\n",
    "rhob0_low, rhob0_high = hpd[0]\n",
    "\n",
    "# plot\n",
    "rho = np.linspace(-5, 14, 100)\n",
    "fig, ax = plt.subplots(figsize=(8, 6))\n",
    "ax.hist(rhoD, bins=rho, density=True, label='DM', ec='k', alpha=0.5, color='C0')\n",
    "ax.hist(rhob, bins=rho, density=True, label='Baryon', ec='k', alpha=0.5,color='C1')\n",
    "ax.hist(rhob0, bins=rho, density=True, label='Baryon0', ec='k', alpha=0.5, color='C2')\n",
    "ax.plot(rho, rhoD_pdf(rho, *rhoD_fit)/(rhoD_num.sum()*dx), label='DM eff fit', color='C0', ls='--')\n",
    "ax.plot(rho, skewnorm.pdf(rho, *rhob_fit), label='Baryon fit', color='C1', ls='--')\n",
    "ax.plot(rho, norm.pdf(rho, *rhob0_fit), label='Baryon0 fit', color='C2', ls='--')\n",
    "ax.axvline(rhoD_mode, color='C0', ls='-.')\n",
    "ax.axvline(rhob_mode, color='C1', ls='-.')\n",
    "ax.axvline(rhob0_mode, color='C2', ls='-.')\n",
    "ax.axvline(rhoD_low, color='C0', ls='--')\n",
    "ax.axvline(rhoD_high, color='C0', ls='--')\n",
    "ax.axvline(rhob_low, color='C1', ls='--')\n",
    "ax.axvline(rhob_high, color='C1', ls='--')\n",
    "ax.axvline(rhob0_low, color='C2', ls='--')\n",
    "ax.axvline(rhob0_high, color='C2', ls='--')\n",
    "ax.set_xlabel(r'$\\rho$')\n",
    "ax.set_ylabel(r'$f$')\n",
    "ax.legend()\n",
    "print(f'rhoD = {rhoD_mode:.02f} +{rhoD_high-rhoD_mode:.02f}/-{rhoD_mode-rhoD_low:.02f}')\n",
    "print(f'rhob = {rhob_mode:.02f} +{rhob_high-rhob_mode:.02f}/-{rhob_mode-rhob_low:.02f}')\n",
    "print(f'rhob0 = {rhob0_mode:.02f} +{rhob0_high-rhob0_mode:.02f}/-{rhob0_mode-rhob0_low:.02f}')"
   ]
  },
  {
   "cell_type": "code",
   "execution_count": 20,
   "metadata": {},
   "outputs": [
    {
     "name": "stdout",
     "output_type": "stream",
     "text": [
      "rhob0 = 8.89 +0.70/-0.70\n"
     ]
    },
    {
     "data": {
      "image/png": "[encoded data removed]",
      "text/plain": [
       "<Figure size 576x432 with 1 Axes>"
      ]
     },
     "metadata": {
      "needs_background": "light"
     },
     "output_type": "display_data"
    }
   ],
   "source": [
    "rhob0_low = []\n",
    "rhob0_high = []\n",
    "for i, alp in enumerate(alpha):\n",
    "    hpd, modes = hdi(lambda x: norm.pdf(x, *rhob0_fit), low=5, high=12.5, alpha=alp)\n",
    "    low, high = hpd[0]\n",
    "    rhob0_low.append(low)\n",
    "    rhob0_high.append(high)\n",
    "# plot\n",
    "rho = np.linspace(5, 12.5, 50)\n",
    "fig, ax = plt.subplots(figsize=(8, 6))\n",
    "ax.hist(rhob0, bins=rho, density=True, label='Baryon0', ec='k', alpha=0.5, color='C2')\n",
    "ax.plot(rho, norm.pdf(rho, *rhob0_fit), label='Baryon0 fit', color='C2', ls='--')\n",
    "ax.axvline(rhob0_mode, color='C2', ls='-.')\n",
    "for low, high in zip(rhob0_low, rhob0_high):\n",
    "    ax.axvline(low, color='C2', ls='--')\n",
    "    ax.axvline(high, color='C2', ls='--')\n",
    "ax.set_xlabel(r'$\\rho$')\n",
    "ax.set_ylabel(r'$f$')\n",
    "ax.legend()\n",
    "print(f'rhob0 = {rhob0_mode:.02f} +{rhob0_high[0]-rhob0_mode:.02f}/-{rhob0_mode-rhob0_low[0]:.02f}')"
   ]
  },
  {
   "cell_type": "code",
   "execution_count": 21,
   "metadata": {},
   "outputs": [
    {
     "name": "stderr",
     "output_type": "stream",
     "text": [
      "100%|██████████| 15/15 [00:31<00:00,  2.11s/it]\n"
     ]
    }
   ],
   "source": [
    "from tqdm import tqdm\n",
    "\n",
    "rhoD_modes = []\n",
    "rhoD_errs = []\n",
    "rhob_modes = []\n",
    "rhob_errs = []\n",
    "rhoD_fits = []\n",
    "rhoD_samples = []\n",
    "rho = np.linspace(-5, 30, 200)\n",
    "rhomid = 0.5*(rho[1:] + rho[:-1])\n",
    "dx = rhomid[1]-rhomid[0]\n",
    "for file in tqdm(files):\n",
    "    df = np.load(file)\n",
    "    rhob = df[:, :, 12:24]\n",
    "    rhob = rhob.reshape(-1, 12)\n",
    "    rhob = rhob.sum(axis=1)/1E-2\n",
    "    rhoDM = df[:, :, 24].reshape(-1)/1E-2\n",
    "    sigmaDD = df[:, :, 25].reshape(-1)\n",
    "    hDD = df[:, :, 26].reshape(-1)\n",
    "    rhoD = rhoDM + sigmaDD/(4*hDD)/1E-2\n",
    "    rhoD_sample = np.random.choice(rhoD, size=10_000)\n",
    "    rhoD_samples.append(rhoD_sample)\n",
    "    rhoD_num = np.histogram(rhoD, bins=rho)[0]\n",
    "    rhoD_fit, _ = curve_fit(rhoD_xlog_pdf, np.log(rhomid+5), rhoD_num, p0=[0, 1, 0, 0.1, 0.1, 0, 10])\n",
    "    rhoD_fits.append(rhoD_fit)\n",
    "    # plt.step(np.log(rhomid+5), rhoD_num/rhoD_num.sum())\n",
    "    # plt.plot(np.log(rhomid+5), rhoD_xlog_pdf(np.log(rhomid+5), *rhoD_fit)/rhoD_num.sum(), 'r-')\n",
    "    # plt.title(file)\n",
    "    # plt.show()\n",
    "    # continue\n",
    "    # break\n",
    "    # mask = rhoDM > -3\n",
    "    # rhob = rhob[mask]\n",
    "    # rhoDM = rhoDM[mask]\n",
    "    # rhoD = rhoD[mask]\n",
    "    # rhoD_num, _ = np.histogram(rhoD, bins=rho)\n",
    "    # print(\"fitting...\")\n",
    "    # rhoD_fit, _ = curve_fit(skewpdf, rhomid, rhoD_num/(rhoD_num.sum()*dx), p0=[1, 5, 1, 0.5])\n",
    "    # rhoD_fits.append(rhoD_fit)\n",
    "    # plt.bar(rhomid, rhoD_num/(rhoD_num.sum()*dx), width=dx, label='DM eff', ec='k', alpha=0.5, color='C0')\n",
    "    # plt.plot(rho, skewpdf(rho, *rhoD_fit), label='DM eff fit', color='r', ls='--')\n",
    "    # plt.title(file)\n",
    "    # plt.show()\n",
    "    # continue\n",
    "    rhob_sample = np.random.choice(rhob, size=10_000, replace=False)\n",
    "    rhob_fit = skewnorm.fit(rhob_sample)\n",
    "    # print(\"calculating HDI...\")\n",
    "    rhoD_err = []\n",
    "    rhob_err = []\n",
    "    rhoD_mode = None\n",
    "    rhob_mode = None\n",
    "    for i, alp in enumerate(alpha):\n",
    "        hpd, modes = hdi_sample(rhoD_sample, -5, 24, alpha=alp)\n",
    "        rhoD_mode = modes[0]\n",
    "        low, high = hpd[0]\n",
    "        rhoD_err.append({'alpha': alp, 'low': low, 'high': high})\n",
    "\n",
    "        hpd, modes = hdi(lambda x: skewnorm.pdf(x, *rhob_fit), 5, 15, alpha=alp)\n",
    "        rhob_mode = modes[0]\n",
    "        low, high = hpd[0]\n",
    "        rhob_err.append({'alpha': alp, 'low': low, 'high': high})\n",
    "    rhoD_errs.append(rhoD_err)\n",
    "    rhob_errs.append(rhob_err)\n",
    "    rhoD_modes.append(rhoD_mode)\n",
    "    rhob_modes.append(rhob_mode)"
   ]
  },
  {
   "cell_type": "code",
   "execution_count": 22,
   "metadata": {},
   "outputs": [
    {
     "data": {
      "text/plain": [
       "[array([ 2.05868972e+00,  1.86044907e+04, -9.73155398e-01,  1.59621814e-01,\n",
       "         2.46951258e+03, -4.52463862e-01,  1.00636205e-01]),\n",
       " array([ 1.94974602e+00,  7.48707642e+03, -7.00352321e-02,  2.19230777e-01,\n",
       "         1.39653080e+04,  3.61937545e-02,  1.36785571e-01]),\n",
       " array([2.19872630e+00, 3.27883203e+03, 4.89485218e+00, 3.03165202e-01,\n",
       "        1.21704468e+04, 2.16660025e-01, 1.38196559e-01]),\n",
       " array([ 2.45835616e+00,  3.22608437e+03,  1.83748578e-01,  9.44407893e-02,\n",
       "         9.80097801e+03, -1.63616264e-01,  1.32509501e-01]),\n",
       " array([2.49793009e+00, 9.87708896e+03, 2.08188823e-01, 1.31534425e-01,\n",
       "        2.13405548e+03, 5.74569056e-01, 2.42809087e-01]),\n",
       " array([2.39891319e+00, 4.35188237e+03, 1.46153134e+00, 3.83238035e-01,\n",
       "        7.26896083e+03, 6.78441827e-01, 1.57668786e-01]),\n",
       " array([2.25678612e+00, 7.47618091e+03, 4.62242898e-01, 1.83359524e-01,\n",
       "        4.45550789e+03, 6.12716727e+00, 5.28903791e-01]),\n",
       " array([2.19366651e+00, 6.26041433e+03, 2.47507032e+00, 6.23786892e-01,\n",
       "        4.14801649e+03, 9.16131514e-01, 2.01861311e-01]),\n",
       " array([1.99107776e+00, 5.10139781e+03, 1.65382570e+00, 7.36462581e-01,\n",
       "        8.10518828e+03, 7.15009985e-01, 2.26570207e-01]),\n",
       " array([ 2.06541248e+00,  1.16648865e+04,  1.11008835e-01,  1.84541025e-01,\n",
       "         7.14118301e+03, -2.30735903e-01,  2.95960958e-01]),\n",
       " array([ 2.26594253e+00,  1.21556380e+04, -1.23602109e+00,  2.78141763e-01,\n",
       "         4.13675330e+03,  7.34125477e-02,  4.91957755e-01]),\n",
       " array([1.93228560e+00, 1.46150482e+04, 2.96893682e-02, 2.31285768e-01,\n",
       "        5.22221799e+03, 1.24736277e-01, 5.83898549e-01]),\n",
       " array([ 1.78901878e+00,  9.18930754e+03, -5.48092702e-01,  2.91069850e-01,\n",
       "         1.28240113e+04,  1.46290455e+00,  2.98379919e-01]),\n",
       " array([2.04378769e+00, 5.85214132e+03, 5.83620494e-01, 2.44503566e-01,\n",
       "        5.23966936e+03, 1.42904891e+00, 7.89003130e-01]),\n",
       " array([1.84575012e+00, 1.85023494e+04, 3.32909163e-02, 2.67309811e-01,\n",
       "        2.02916175e+03, 1.70297044e+01, 7.44033850e-01])]"
      ]
     },
     "execution_count": 22,
     "metadata": {},
     "output_type": "execute_result"
    }
   ],
   "source": [
    "rhoD_fits"
   ]
  },
  {
   "cell_type": "code",
   "execution_count": 36,
   "metadata": {},
   "outputs": [
    {
     "data": {
      "text/plain": [
       "array([0.00000000e+00, 0.00000000e+00, 0.00000000e+00, ...,\n",
       "       5.63799437e-23, 5.60790629e-23, 5.57797987e-23])"
      ]
     },
     "execution_count": 36,
     "metadata": {},
     "output_type": "execute_result"
    },
    {
     "data": {
      "image/png": "[encoded data removed]",
      "text/plain": [
       "<Figure size 432x288 with 1 Axes>"
      ]
     },
     "metadata": {
      "needs_background": "light"
     },
     "output_type": "display_data"
    }
   ],
   "source": [
    "# multiplying the rhoDM, but it became addition in log\n",
    "rho = np.linspace(-5, 30, 10000)\n",
    "log_rhoD = None\n",
    "for i, p in enumerate(rhoD_fits):\n",
    "    # if i > 1: # A\n",
    "    # if i < 2 or i > 8: # F\n",
    "    if i < 9: # G\n",
    "        continue\n",
    "    if log_rhoD is None:\n",
    "        log_rhoD = np.log(rhoD_pdf(rho, *p))\n",
    "    else:\n",
    "        log_rhoD += np.log(rhoD_pdf(rho, *p))\n",
    "    # print(log_rhoD.sum())\n",
    "# turn into rhoDM\n",
    "rhoD_com = np.exp(log_rhoD)\n",
    "# normalize with max value\n",
    "rhoD_com /= rhoD_com.max()\n",
    "# plot\n",
    "fig, ax = plt.subplots()\n",
    "ax.plot(rho, rhoD_com, label='rhoD')\n",
    "ax.set_xlim(0,10)\n",
    "rhoD_com"
   ]
  },
  {
   "cell_type": "code",
   "execution_count": 37,
   "metadata": {},
   "outputs": [
    {
     "data": {
      "text/plain": [
       "array([1.8728906 , 1.39771808, 1.97751904, 0.99841672])"
      ]
     },
     "execution_count": 37,
     "metadata": {},
     "output_type": "execute_result"
    }
   ],
   "source": [
    "def skewpdf(x, *args):\n",
    "    A, other = args[0], args[1:]\n",
    "    return A*skewnorm.pdf(x, *other)\n",
    "\n",
    "rhoD_com_fit, _ = curve_fit(skewpdf, rho, rhoD_com, p0=[1, 1.0, 2.0, 1])\n",
    "rhoD_com_fit"
   ]
  },
  {
   "cell_type": "code",
   "execution_count": 38,
   "metadata": {},
   "outputs": [
    {
     "data": {
      "text/plain": [
       "(0.0, 7.0)"
      ]
     },
     "execution_count": 38,
     "metadata": {},
     "output_type": "execute_result"
    },
    {
     "data": {
      "image/png": "[encoded data removed]",
      "text/plain": [
       "<Figure size 432x288 with 1 Axes>"
      ]
     },
     "metadata": {
      "needs_background": "light"
     },
     "output_type": "display_data"
    }
   ],
   "source": [
    "plt.plot(rho, rhoD_com, label='rhoD')\n",
    "plt.plot(rho, skewpdf(rho, *rhoD_com_fit), label='rhoD fit')\n",
    "plt.legend()\n",
    "plt.xlim(0,7)"
   ]
  },
  {
   "cell_type": "code",
   "execution_count": 39,
   "metadata": {},
   "outputs": [
    {
     "data": {
      "text/plain": [
       "(2.52,\n",
       " [{'sigma': array([68, 90, 95]), 'low': 1.81, 'high': 3.3},\n",
       "  {'sigma': array([68, 90, 95]), 'low': 1.38, 'high': 3.86},\n",
       "  {'sigma': array([68, 90, 95]), 'low': 1.17, 'high': 4.15}])"
      ]
     },
     "execution_count": 39,
     "metadata": {},
     "output_type": "execute_result"
    }
   ],
   "source": [
    "rhoD_com_err = []\n",
    "rhoD_com_mode = None\n",
    "for i, alp in enumerate(alpha):\n",
    "    hpd, modes = hdi(lambda x: skewpdf(x, *rhoD_com_fit), low=-1, high=10, alpha=alp)\n",
    "    low, high = hpd[0]\n",
    "    rhoD_com_err.append({'sigma':sigma, 'low': low, 'high': high})\n",
    "    rhoD_com_mode = modes[0]\n",
    "rhoD_com_mode, rhoD_com_err"
   ]
  },
  {
   "cell_type": "code",
   "execution_count": 40,
   "metadata": {},
   "outputs": [
    {
     "name": "stdout",
     "output_type": "stream",
     "text": [
      "2.52 + 0.7799999999999998 - 0.71\n"
     ]
    }
   ],
   "source": [
    "print(f\"{rhoD_com_mode} + {rhoD_com_err[0]['high']-rhoD_com_mode} - {rhoD_com_mode-rhoD_com_err[0]['low']}\")"
   ]
  },
  {
   "cell_type": "code",
   "execution_count": 26,
   "metadata": {},
   "outputs": [
    {
     "data": {
      "text/plain": [
       "(0.1355, 0.314)"
      ]
     },
     "execution_count": 26,
     "metadata": {},
     "output_type": "execute_result"
    }
   ],
   "source": [
    "A9 = sp[sp['SpT'] == 'A9V']['J-K'].values[0]\n",
    "F0 = sp[sp['SpT'] == 'F0V']['J-K'].values[0]\n",
    "b1 = (A9+F0)/2\n",
    "\n",
    "F9 = sp[sp['SpT'] == 'F9V']['J-K'].values[0]\n",
    "G0 = sp[sp['SpT'] == 'G0V']['J-K'].values[0]\n",
    "b2 = (F9+G0)/2\n",
    "b1, b2"
   ]
  },
  {
   "cell_type": "code",
   "execution_count": 27,
   "metadata": {},
   "outputs": [
    {
     "data": {
      "image/png": "[encoded data removed]",
      "text/plain": [
       "<Figure size 576x432 with 1 Axes>"
      ]
     },
     "metadata": {
      "needs_background": "light"
     },
     "output_type": "display_data"
    }
   ],
   "source": [
    "cs = np.linspace(c.min()-0.05, c.max()+0.05, 100)\n",
    "\n",
    "fig, ax = plt.subplots(figsize=(8, 6))\n",
    "ax.axhline(y=rhob0_mode, color='black', linestyle='--')\n",
    "for i in range(3):\n",
    "    low = np.array([err[i]['low'] for err in rhoD_errs])\n",
    "    high = np.array([err[i]['high'] for err in rhoD_errs])\n",
    "    dm_ax = ax.errorbar(c, rhoD_modes, yerr=[rhoD_modes-low, high-rhoD_modes], fmt='o', color='blue', capsize=3, alpha=0.5, elinewidth=3, markeredgewidth=1)\n",
    "    low = np.array([err[i]['low'] for err in rhob_errs])\n",
    "    high = np.array([err[i]['high'] for err in rhob_errs])\n",
    "    rhob_ax = ax.errorbar(c-0.003, rhob_modes, yerr=[rhob_modes-low, high-rhob_modes], fmt='o', color='red', capsize=3, alpha=0.5, elinewidth=3, markeredgewidth=1)\n",
    "    rhob0_ax = ax.fill_between(cs, rhob0_low[i], rhob0_high[i], color='black', alpha=0.1)\n",
    "    # rhoD_com_ax = ax.fill_between(cs, rhoD_com_err[i]['low'], rhoD_com_err[i]['high'], color='C0', alpha=0.1)\n",
    "    if i == 2:\n",
    "        # ax.legend([dm_ax, rhob_ax, rhob0_ax, rhoD_com_ax], \n",
    "        #           [r'$\\rho_{\\textup{D}}$', r'$\\rho_{b}$', r'$\\rho_{b0}$', r'$\\rho_{\\textup{com}}$'],\n",
    "        #           loc='best', fontsize=12)\n",
    "        ax.legend([dm_ax, rhob_ax, rhob0_ax], \n",
    "                  [r'$\\rho_{\\textup{D}}$', r'$\\rho_{b}$', r'$\\rho_{b0}$'],\n",
    "                  loc='best', fontsize=12)\n",
    "# real value\n",
    "# ax.axhline(y=rhoD_com_mode, color='black', linestyle='--')\n",
    "\n",
    "ax.axvline(x=b1, color='black', linestyle='--')\n",
    "ax.axvline(x=b2, color='black', linestyle='--')\n",
    "ax.text(0.105, -4, r'$\\textup{A}$', fontsize=16)\n",
    "ax.text(0.23, -4, r'$\\textup{F}$', fontsize=16)\n",
    "ax.text(0.38, -4, r'$\\textup{G}$', fontsize=16)\n",
    "ax.set_xlabel(r'$J-K_s$', fontsize=16)\n",
    "ax.set_ylabel(r'$\\rho$ [$\\times 10^{-2}M_{\\odot}\\ $pc$^{-3}$]', fontsize=16)\n",
    "ax.set_xlim(cs.min(), cs.max())\n",
    "ax.set_title(\"Kerapatan Materi Gelap \\& Baryon\", fontsize=16)\n",
    "ax.grid()\n",
    "fig.savefig(join('img', 'rhoD-dddm.pdf'), dpi=300)\n",
    "plt.show()\n",
    "# rhoD_com_mode"
   ]
  },
  {
   "cell_type": "code",
   "execution_count": 28,
   "metadata": {},
   "outputs": [
    {
     "name": "stdout",
     "output_type": "stream",
     "text": [
      "$[-0.019, 0.127]$ & 2.20 & $[1.37, 3.28]$ & $[0.82, 4.01]$ & $[0.51, 4.34]$ \\\\\n",
      "$[0.127, 0.190]$ & 2.08 & $[0.95, 3.33]$ & $[0.19, 4.39]$ & $[-0.17, 5.13]$ \\\\\n",
      "$[0.190, 0.220]$ & 4.52 & $[2.79, 6.50]$ & $[1.63, 8.43]$ & $[1.08, 9.93]$ \\\\\n",
      "$[0.220, 0.242]$ & 6.75 & $[5.24, 8.27]$ & $[4.23, 9.43]$ & $[3.73, 10.17]$ \\\\\n",
      "$[0.242, 0.260]$ & 7.53 & $[5.75, 9.51]$ & $[4.65, 11.31]$ & $[4.02, 12.39]$ \\\\\n",
      "$[0.260, 0.276]$ & 7.11 & $[4.33, 10.55]$ & $[2.67, 14.48]$ & $[2.04, 17.14]$ \\\\\n",
      "$[0.276, 0.289]$ & 6.52 & $[1.43, 12.35]$ & $[-1.50, 17.34]$ & $[-2.53, 19.97]$ \\\\\n",
      "$[0.289, 0.301]$ & 7.64 & $[1.08, 15.35]$ & $[-1.98, 20.47]$ & $[-2.87, 22.39]$ \\\\\n",
      "$[0.301, 0.313]$ & 4.97 & $[-1.72, 12.48]$ & $[-4.91, 17.27]$ & $[-5.00, 20.00]$ \\\\\n",
      "$[0.313, 0.325]$ & 3.11 & $[1.18, 5.23]$ & $[-0.11, 7.10]$ & $[-0.84, 8.43]$ \\\\\n",
      "$[0.325, 0.335]$ & 3.82 & $[-0.27, 8.32]$ & $[-3.03, 12.51]$ & $[-4.16, 15.54]$ \\\\\n",
      "$[0.335, 0.345]$ & 2.47 & $[-1.17, 6.42]$ & $[-3.69, 10.06]$ & $[-4.81, 12.90]$ \\\\\n",
      "$[0.345, 0.355]$ & 1.77 & $[-0.50, 4.30]$ & $[-2.14, 6.59]$ & $[-3.04, 8.67]$ \\\\\n",
      "$[0.355, 0.365]$ & 6.66 & $[-1.14, 15.47]$ & $[-4.30, 20.00]$ & $[-5.00, 21.48]$ \\\\\n",
      "$[0.365, 0.374]$ & 2.01 & $[-1.50, 5.74]$ & $[-3.94, 9.03]$ & $[-5.00, 11.61]$ \\\\\n"
     ]
    }
   ],
   "source": [
    "for i in range(len(c)):\n",
    "    low1 = np.array([err[0]['low'] for err in rhoD_errs])\n",
    "    high1 = np.array([err[0]['high'] for err in rhoD_errs])\n",
    "    low2 = np.array([err[1]['low'] for err in rhoD_errs])\n",
    "    high2 = np.array([err[1]['high'] for err in rhoD_errs])\n",
    "    low3 = np.array([err[2]['low'] for err in rhoD_errs])\n",
    "    high3 = np.array([err[2]['high'] for err in rhoD_errs])\n",
    "    print(f\"$[{c1[i]:.03f}, {c2[i]:.03f}]$ & {rhoD_modes[i]:.02f} & $[{low1[i]:.02f}, {high1[i]:.02f}]$ & $[{low2[i]:.02f}, {high2[i]:.02f}]$ & $[{low3[i]:.02f}, {high3[i]:.02f}]$ \\\\\\\\\")"
   ]
  },
  {
   "cell_type": "markdown",
   "metadata": {},
   "source": [
    "# $\\Sigma$"
   ]
  },
  {
   "cell_type": "code",
   "execution_count": 29,
   "metadata": {},
   "outputs": [],
   "source": [
    "import sys\n",
    "from os.path import join, abspath\n",
    "from glob import glob\n",
    "import numpy as np\n",
    "import vaex\n",
    "from tqdm import tqdm\n",
    "import matplotlib.pyplot as plt\n",
    "from time import time\n",
    "from scipy.optimize import curve_fit\n",
    "from scipy.stats import norm, skewnorm"
   ]
  },
  {
   "cell_type": "code",
   "execution_count": 30,
   "metadata": {},
   "outputs": [
    {
     "data": {
      "text/plain": [
       "'/home2/s20321005/Thesis-Project'"
      ]
     },
     "execution_count": 30,
     "metadata": {},
     "output_type": "execute_result"
    }
   ],
   "source": [
    "# import utils\n",
    "root_dir = abspath(join('..'))\n",
    "root_dir"
   ]
  },
  {
   "cell_type": "code",
   "execution_count": 31,
   "metadata": {},
   "outputs": [
    {
     "data": {
      "text/plain": [
       "['/home2/s20321005/Thesis-Project/6_Analisis',\n",
       " '/home2/s20321005/.conda/envs/vaex/lib/python38.zip',\n",
       " '/home2/s20321005/.conda/envs/vaex/lib/python3.8',\n",
       " '/home2/s20321005/.conda/envs/vaex/lib/python3.8/lib-dynload',\n",
       " '',\n",
       " '/home2/s20321005/.local/lib/python3.8/site-packages',\n",
       " '/home2/s20321005/.conda/envs/vaex/lib/python3.8/site-packages',\n",
       " '/home2/s20321005/Thesis-Project']"
      ]
     },
     "execution_count": 31,
     "metadata": {},
     "output_type": "execute_result"
    }
   ],
   "source": [
    "if root_dir not in sys.path:\n",
    "    sys.path.append(root_dir)\n",
    "sys.path"
   ]
  },
  {
   "cell_type": "code",
   "execution_count": 32,
   "metadata": {},
   "outputs": [],
   "source": [
    "from utils import style, hdi, load_spectral_types"
   ]
  },
  {
   "cell_type": "code",
   "execution_count": 33,
   "metadata": {},
   "outputs": [
    {
     "data": {
      "text/html": [
       "<div>\n",
       "<style scoped>\n",
       "    .dataframe tbody tr th:only-of-type {\n",
       "        vertical-align: middle;\n",
       "    }\n",
       "\n",
       "    .dataframe tbody tr th {\n",
       "        vertical-align: top;\n",
       "    }\n",
       "\n",
       "    .dataframe thead th {\n",
       "        text-align: right;\n",
       "    }\n",
       "</style>\n",
       "<table border=\"1\" class=\"dataframe\">\n",
       "  <thead>\n",
       "    <tr style=\"text-align: right;\">\n",
       "      <th></th>\n",
       "      <th>SpT</th>\n",
       "      <th>M_J</th>\n",
       "      <th>J-H</th>\n",
       "      <th>H-Ks</th>\n",
       "      <th>J-K</th>\n",
       "    </tr>\n",
       "  </thead>\n",
       "  <tbody>\n",
       "    <tr>\n",
       "      <th>0</th>\n",
       "      <td>O9V</td>\n",
       "      <td>-3.44</td>\n",
       "      <td>-0.164</td>\n",
       "      <td>-0.071</td>\n",
       "      <td>-0.235</td>\n",
       "    </tr>\n",
       "    <tr>\n",
       "      <th>1</th>\n",
       "      <td>O9.5V</td>\n",
       "      <td>-3.30</td>\n",
       "      <td>-0.161</td>\n",
       "      <td>-0.069</td>\n",
       "      <td>-0.230</td>\n",
       "    </tr>\n",
       "    <tr>\n",
       "      <th>2</th>\n",
       "      <td>B0V</td>\n",
       "      <td>-3.17</td>\n",
       "      <td>-0.159</td>\n",
       "      <td>-0.067</td>\n",
       "      <td>-0.226</td>\n",
       "    </tr>\n",
       "    <tr>\n",
       "      <th>3</th>\n",
       "      <td>B0.5V</td>\n",
       "      <td>-2.80</td>\n",
       "      <td>-0.153</td>\n",
       "      <td>-0.063</td>\n",
       "      <td>-0.216</td>\n",
       "    </tr>\n",
       "    <tr>\n",
       "      <th>4</th>\n",
       "      <td>B1V</td>\n",
       "      <td>-2.33</td>\n",
       "      <td>-0.148</td>\n",
       "      <td>-0.059</td>\n",
       "      <td>-0.207</td>\n",
       "    </tr>\n",
       "    <tr>\n",
       "      <th>...</th>\n",
       "      <td>...</td>\n",
       "      <td>...</td>\n",
       "      <td>...</td>\n",
       "      <td>...</td>\n",
       "      <td>...</td>\n",
       "    </tr>\n",
       "    <tr>\n",
       "      <th>95</th>\n",
       "      <td>T6V</td>\n",
       "      <td>15.34</td>\n",
       "      <td>0.100</td>\n",
       "      <td>-0.030</td>\n",
       "      <td>0.070</td>\n",
       "    </tr>\n",
       "    <tr>\n",
       "      <th>96</th>\n",
       "      <td>T7V</td>\n",
       "      <td>15.83</td>\n",
       "      <td>0.000</td>\n",
       "      <td>0.000</td>\n",
       "      <td>0.000</td>\n",
       "    </tr>\n",
       "    <tr>\n",
       "      <th>97</th>\n",
       "      <td>T7.5V</td>\n",
       "      <td>16.61</td>\n",
       "      <td>0.200</td>\n",
       "      <td>-0.050</td>\n",
       "      <td>0.150</td>\n",
       "    </tr>\n",
       "    <tr>\n",
       "      <th>98</th>\n",
       "      <td>T8V</td>\n",
       "      <td>17.30</td>\n",
       "      <td>0.200</td>\n",
       "      <td>-0.050</td>\n",
       "      <td>0.150</td>\n",
       "    </tr>\n",
       "    <tr>\n",
       "      <th>99</th>\n",
       "      <td>T9V</td>\n",
       "      <td>18.51</td>\n",
       "      <td>0.100</td>\n",
       "      <td>-0.200</td>\n",
       "      <td>-0.100</td>\n",
       "    </tr>\n",
       "  </tbody>\n",
       "</table>\n",
       "<p>100 rows × 5 columns</p>\n",
       "</div>"
      ],
      "text/plain": [
       "      SpT    M_J    J-H   H-Ks    J-K\n",
       "0     O9V  -3.44 -0.164 -0.071 -0.235\n",
       "1   O9.5V  -3.30 -0.161 -0.069 -0.230\n",
       "2     B0V  -3.17 -0.159 -0.067 -0.226\n",
       "3   B0.5V  -2.80 -0.153 -0.063 -0.216\n",
       "4     B1V  -2.33 -0.148 -0.059 -0.207\n",
       "..    ...    ...    ...    ...    ...\n",
       "95    T6V  15.34  0.100 -0.030  0.070\n",
       "96    T7V  15.83  0.000  0.000  0.000\n",
       "97  T7.5V  16.61  0.200 -0.050  0.150\n",
       "98    T8V  17.30  0.200 -0.050  0.150\n",
       "99    T9V  18.51  0.100 -0.200 -0.100\n",
       "\n",
       "[100 rows x 5 columns]"
      ]
     },
     "execution_count": 33,
     "metadata": {},
     "output_type": "execute_result"
    }
   ],
   "source": [
    "sp = load_spectral_types()\n",
    "sp"
   ]
  },
  {
   "cell_type": "code",
   "execution_count": 34,
   "metadata": {},
   "outputs": [],
   "source": [
    "style(name=\"seaborn-notebook\")"
   ]
  },
  {
   "cell_type": "code",
   "execution_count": 35,
   "metadata": {},
   "outputs": [
    {
     "data": {
      "text/plain": [
       "'/home2/s20321005/Thesis-Project/Data'"
      ]
     },
     "execution_count": 35,
     "metadata": {},
     "output_type": "execute_result"
    }
   ],
   "source": [
    "root_data_dir = abspath(join(root_dir, \"Data\"))\n",
    "root_data_dir"
   ]
  },
  {
   "cell_type": "code",
   "execution_count": 36,
   "metadata": {},
   "outputs": [],
   "source": [
    "data_baryon_dir = join(root_data_dir, \"Baryon\")\n",
    "# load baryons components\n",
    "df_baryon = vaex.open(join(data_baryon_dir, \"baryon.hdf5\"))\n",
    "rhos = df_baryon[\"rho\"].to_numpy()  # Msun/pc^3\n",
    "sigmaz = df_baryon[\"sigma_z\"].to_numpy() # km/s\n",
    "\n",
    "e_rhos = df_baryon[\"e_rho\"].to_numpy()  # Msun/pc^3\n",
    "e_sigmaz = df_baryon[\"e_sigma_z\"].to_numpy() # km/s\n",
    "dpi=100"
   ]
  },
  {
   "cell_type": "code",
   "execution_count": 37,
   "metadata": {},
   "outputs": [
    {
     "data": {
      "text/plain": [
       "array([[-0.019     ,  0.12713703],\n",
       "       [ 0.12713703,  0.19024014],\n",
       "       [ 0.19024014,  0.22021412],\n",
       "       [ 0.22021412,  0.24230021],\n",
       "       [ 0.24230021,  0.26004796],\n",
       "       [ 0.26004796,  0.27621813],\n",
       "       [ 0.27621813,  0.28923315],\n",
       "       [ 0.28923315,  0.30106498],\n",
       "       [ 0.30106498,  0.31329121],\n",
       "       [ 0.31329121,  0.32512304],\n",
       "       [ 0.32512304,  0.3353773 ],\n",
       "       [ 0.3353773 ,  0.34523716],\n",
       "       [ 0.34523716,  0.35509702],\n",
       "       [ 0.35509702,  0.36535128],\n",
       "       [ 0.36535128,  0.37402796]])"
      ]
     },
     "execution_count": 37,
     "metadata": {},
     "output_type": "execute_result"
    }
   ],
   "source": [
    "boundaries = np.load(join(root_data_dir, \"boundaries.npy\"))\n",
    "boundaries"
   ]
  },
  {
   "cell_type": "code",
   "execution_count": 38,
   "metadata": {},
   "outputs": [
    {
     "data": {
      "text/plain": [
       "array([0.05406852, 0.15868859, 0.20522713, 0.23125717, 0.25117408,\n",
       "       0.26813305, 0.28272564, 0.29514907, 0.3071781 , 0.31920713,\n",
       "       0.33025017, 0.34030723, 0.35016709, 0.36022415, 0.36968962])"
      ]
     },
     "execution_count": 38,
     "metadata": {},
     "output_type": "execute_result"
    }
   ],
   "source": [
    "c1 = boundaries[:, 0]\n",
    "c2 = boundaries[:, 1]\n",
    "c = (c1 + c2) / 2\n",
    "c"
   ]
  },
  {
   "cell_type": "code",
   "execution_count": 39,
   "metadata": {},
   "outputs": [
    {
     "data": {
      "text/plain": [
       "'/home2/s20321005/Thesis-Project/Data/MCMC-no/dddm/data'"
      ]
     },
     "execution_count": 39,
     "metadata": {},
     "output_type": "execute_result"
    }
   ],
   "source": [
    "mcmc_dir = join(root_data_dir, \"MCMC-no\", \"dddm\", \"data\")\n",
    "mcmc_dir"
   ]
  },
  {
   "cell_type": "code",
   "execution_count": 40,
   "metadata": {},
   "outputs": [
    {
     "data": {
      "text/plain": [
       "(2500, 350, 35)"
      ]
     },
     "execution_count": 40,
     "metadata": {},
     "output_type": "execute_result"
    }
   ],
   "source": [
    "index = 0\n",
    "df = np.load(files[index])\n",
    "df.shape"
   ]
  },
  {
   "cell_type": "code",
   "execution_count": 41,
   "metadata": {},
   "outputs": [
    {
     "data": {
      "text/plain": [
       "['/home2/s20321005/Thesis-Project/Data/MCMC-no/dddm/data/chain-(-0.019)_(0.127).npy',\n",
       " '/home2/s20321005/Thesis-Project/Data/MCMC-no/dddm/data/chain-(0.127)_(0.190).npy',\n",
       " '/home2/s20321005/Thesis-Project/Data/MCMC-no/dddm/data/chain-(0.190)_(0.220).npy',\n",
       " '/home2/s20321005/Thesis-Project/Data/MCMC-no/dddm/data/chain-(0.220)_(0.242).npy',\n",
       " '/home2/s20321005/Thesis-Project/Data/MCMC-no/dddm/data/chain-(0.242)_(0.260).npy',\n",
       " '/home2/s20321005/Thesis-Project/Data/MCMC-no/dddm/data/chain-(0.260)_(0.276).npy',\n",
       " '/home2/s20321005/Thesis-Project/Data/MCMC-no/dddm/data/chain-(0.276)_(0.289).npy',\n",
       " '/home2/s20321005/Thesis-Project/Data/MCMC-no/dddm/data/chain-(0.289)_(0.301).npy',\n",
       " '/home2/s20321005/Thesis-Project/Data/MCMC-no/dddm/data/chain-(0.301)_(0.313).npy',\n",
       " '/home2/s20321005/Thesis-Project/Data/MCMC-no/dddm/data/chain-(0.313)_(0.325).npy',\n",
       " '/home2/s20321005/Thesis-Project/Data/MCMC-no/dddm/data/chain-(0.325)_(0.335).npy',\n",
       " '/home2/s20321005/Thesis-Project/Data/MCMC-no/dddm/data/chain-(0.335)_(0.345).npy',\n",
       " '/home2/s20321005/Thesis-Project/Data/MCMC-no/dddm/data/chain-(0.345)_(0.355).npy',\n",
       " '/home2/s20321005/Thesis-Project/Data/MCMC-no/dddm/data/chain-(0.355)_(0.365).npy',\n",
       " '/home2/s20321005/Thesis-Project/Data/MCMC-no/dddm/data/chain-(0.365)_(0.374).npy']"
      ]
     },
     "execution_count": 41,
     "metadata": {},
     "output_type": "execute_result"
    }
   ],
   "source": [
    "files = glob(join(mcmc_dir, \"chain-*\"))\n",
    "files.sort()\n",
    "files"
   ]
  },
  {
   "cell_type": "code",
   "execution_count": 42,
   "metadata": {},
   "outputs": [
    {
     "data": {
      "text/plain": [
       "(2500, 350, 35)"
      ]
     },
     "execution_count": 42,
     "metadata": {},
     "output_type": "execute_result"
    }
   ],
   "source": [
    "index = 5\n",
    "df = np.load(files[index])\n",
    "df.shape"
   ]
  },
  {
   "cell_type": "code",
   "execution_count": 43,
   "metadata": {},
   "outputs": [],
   "source": [
    "from scipy.stats import gaussian_kde\n",
    "\n",
    "# estimate the density of (sigmaDD, hDD)\n",
    "sigmaDD = df[:, :, 25].reshape(-1)\n",
    "hDD = df[:, :, 26].reshape(-1)\n",
    "mask = np.random.choice(np.arange(len(sigmaDD)), size=10_000)\n",
    "sigmaDD = sigmaDD[mask]\n",
    "hDD = hDD[mask]\n",
    "xy = np.vstack([sigmaDD, hDD])\n",
    "x = np.linspace(0, 30, 99)\n",
    "dx = x[1] - x[0]    \n",
    "y = np.linspace(0, 150, 100)\n",
    "dy = y[1] - y[0]\n",
    "X, Y = np.meshgrid(x, y)\n",
    "Z = gaussian_kde(xy)(np.vstack([X.ravel(), Y.ravel()])).reshape(X.shape)"
   ]
  },
  {
   "cell_type": "code",
   "execution_count": 44,
   "metadata": {},
   "outputs": [
    {
     "name": "stderr",
     "output_type": "stream",
     "text": [
      " 82%|████████▏ | 82/100 [00:00<00:00, 36752.82it/s]\n"
     ]
    },
    {
     "data": {
      "text/plain": [
       "array([[False, False, False, ..., False, False, False],\n",
       "       [False, False, False, ..., False, False, False],\n",
       "       [False, False, False, ..., False, False, False],\n",
       "       ...,\n",
       "       [False, False,  True, ...,  True,  True, False],\n",
       "       [False, False, False, ...,  True, False, False],\n",
       "       [False, False, False, ..., False, False, False]])"
      ]
     },
     "execution_count": 44,
     "metadata": {},
     "output_type": "execute_result"
    }
   ],
   "source": [
    "from tqdm import tqdm\n",
    "\n",
    "vol = Z.sum()*dx*dy\n",
    "\n",
    "z = np.linspace(Z.max(), Z.min(), 100)\n",
    "for z_i in tqdm(z):\n",
    "    mask = Z >= z_i\n",
    "    vol_i = Z[mask].sum()*dx*dy\n",
    "    if vol_i > 0.99*vol:\n",
    "        break\n",
    "mask"
   ]
  },
  {
   "cell_type": "code",
   "execution_count": 45,
   "metadata": {},
   "outputs": [
    {
     "data": {
      "text/plain": [
       "<matplotlib.contour.QuadContourSet at 0x7feac1cb0580>"
      ]
     },
     "execution_count": 45,
     "metadata": {},
     "output_type": "execute_result"
    },
    {
     "data": {
      "image/png": "[encoded data removed]",
      "text/plain": [
       "<Figure size 576x396 with 1 Axes>"
      ]
     },
     "metadata": {
      "needs_background": "light"
     },
     "output_type": "display_data"
    }
   ],
   "source": [
    "V = Z.copy()\n",
    "V[~mask] = 0\n",
    "V[mask] = 1\n",
    "\n",
    "plt.contourf(X, Y, V, cmap='gray')"
   ]
  },
  {
   "cell_type": "code",
   "execution_count": 46,
   "metadata": {},
   "outputs": [
    {
     "data": {
      "text/plain": [
       "array([21.21212121, 10.60606061,  7.57575758,  4.54545455,  3.03030303,\n",
       "        1.51515152,  1.51515152,  0.        ,  0.        ,  0.        ,\n",
       "        0.        ,  0.        ,  0.        ,  0.        ,  0.        ,\n",
       "        0.        ,  0.        ,  0.        ,  0.        ,  0.        ,\n",
       "        0.        ,  0.        ,  0.        ,  0.        ,  0.        ,\n",
       "        0.        ,  0.        ,  0.        ,  1.51515152,  1.51515152,\n",
       "        1.51515152,  1.51515152,  1.51515152,  1.51515152,  1.51515152,\n",
       "        1.51515152,  1.51515152,  1.51515152,  1.51515152,  1.51515152,\n",
       "        1.51515152,  1.51515152,  1.51515152,  3.03030303,  3.03030303,\n",
       "        3.03030303,  3.03030303,  3.03030303,  4.54545455,  4.54545455,\n",
       "        4.54545455,  4.54545455,  6.06060606,  6.06060606,  6.06060606,\n",
       "        6.06060606,  6.06060606,  7.57575758,  7.57575758,  7.57575758,\n",
       "        7.57575758,  9.09090909,  9.09090909,  9.09090909,  9.09090909,\n",
       "       10.60606061, 10.60606061, 10.60606061, 10.60606061, 10.60606061,\n",
       "       10.60606061, 12.12121212, 12.12121212, 12.12121212, 12.12121212,\n",
       "       12.12121212, 13.63636364, 13.63636364, 13.63636364, 13.63636364,\n",
       "       15.15151515, 15.15151515, 15.15151515, 16.66666667, 16.66666667,\n",
       "       16.66666667, 18.18181818, 18.18181818, 19.6969697 , 19.6969697 ,\n",
       "       21.21212121, 21.21212121, 22.72727273, 22.72727273, 24.24242424,\n",
       "       27.27272727, 27.27272727, 30.3030303 , 34.84848485])"
      ]
     },
     "execution_count": 46,
     "metadata": {},
     "output_type": "execute_result"
    }
   ],
   "source": [
    "y_coords = np.empty_like(x)\n",
    "for i in range(len(x)):\n",
    "    y_v = V[:,i]\n",
    "    mask = y_v < 1.0\n",
    "    y_coords[i] = y[mask.sum()]\n",
    "\n",
    "y_coords\n"
   ]
  },
  {
   "cell_type": "code",
   "execution_count": 47,
   "metadata": {},
   "outputs": [
    {
     "data": {
      "text/plain": [
       "Text(0, 0.5, '$\\\\sigma_{\\\\rm DD}$')"
      ]
     },
     "execution_count": 47,
     "metadata": {},
     "output_type": "execute_result"
    },
    {
     "data": {
      "image/png": "[encoded data removed]",
      "text/plain": [
       "<Figure size 576x396 with 1 Axes>"
      ]
     },
     "metadata": {
      "needs_background": "light"
     },
     "output_type": "display_data"
    }
   ],
   "source": [
    "plt.plot(x, y_coords)\n",
    "plt.ylabel(r\"$\\sigma_{\\rm DD}$\")"
   ]
  },
  {
   "cell_type": "code",
   "execution_count": 48,
   "metadata": {},
   "outputs": [
    {
     "data": {
      "text/plain": [
       "(0.0, 150.0)"
      ]
     },
     "execution_count": 48,
     "metadata": {},
     "output_type": "execute_result"
    },
    {
     "data": {
      "image/png": "[encoded data removed]",
      "text/plain": [
       "<Figure size 576x396 with 1 Axes>"
      ]
     },
     "metadata": {
      "needs_background": "light"
     },
     "output_type": "display_data"
    }
   ],
   "source": [
    "# smooth the y_coords curve using smoothing spline\n",
    "import numpy as np\n",
    "from scipy.interpolate import splrep, BSpline\n",
    "\n",
    "mask = y_coords > 0\n",
    "x_c = x[mask]\n",
    "y_c = y_coords[mask]\n",
    "\n",
    "tck = splrep(x_c, y_c, s=len(x_c))\n",
    "\n",
    "xnew = np.linspace(x_c.min(), x_c.max(), 1000)\n",
    "ynew = BSpline(*tck)(xnew)\n",
    "\n",
    "plt.plot(ynew, xnew , label='smoothed')\n",
    "plt.ylim(x.min(), x.max())\n",
    "plt.xlim(y.min(), y.max())"
   ]
  },
  {
   "cell_type": "markdown",
   "metadata": {},
   "source": [
    "# auto"
   ]
  },
  {
   "cell_type": "code",
   "execution_count": 49,
   "metadata": {},
   "outputs": [
    {
     "name": "stderr",
     "output_type": "stream",
     "text": [
      "100%|██████████| 3/3 [00:07<00:00,  2.44s/it]\n"
     ]
    },
    {
     "data": {
      "image/png": "[encoded data removed]",
      "text/plain": [
       "<Figure size 576x396 with 1 Axes>"
      ]
     },
     "metadata": {
      "needs_background": "light"
     },
     "output_type": "display_data"
    }
   ],
   "source": [
    "from tqdm import tqdm\n",
    "\n",
    "for index in tqdm(range(len(c))[::5]):\n",
    "    df = np.load(files[index])\n",
    "    sigmaDD = df[:, :, 25].reshape(-1)\n",
    "    hDD = df[:, :, 26].reshape(-1)\n",
    "    mask = np.random.choice(np.arange(len(sigmaDD)), size=10_000)\n",
    "    sigmaDD = sigmaDD[mask]\n",
    "    hDD = hDD[mask]\n",
    "    xy = np.vstack([sigmaDD, hDD])\n",
    "    x = np.linspace(0, 30, 99)\n",
    "    dx = x[1] - x[0]    \n",
    "    y = np.linspace(0, 100, 100)\n",
    "    dy = y[1] - y[0]\n",
    "    X, Y = np.meshgrid(x, y)\n",
    "    Z = gaussian_kde(xy)(np.vstack([X.ravel(), Y.ravel()])).reshape(X.shape)\n",
    "    z = np.linspace(Z.max(), Z.min(), 100)\n",
    "    vol = Z.sum()*dx*dy\n",
    "    for z_i in z:\n",
    "        mask = Z >= z_i\n",
    "        vol_i = Z[mask].sum()*dx*dy\n",
    "        if vol_i > 0.95*vol:\n",
    "            break\n",
    "    V = Z.copy()\n",
    "    V[~mask] = 0\n",
    "    V[mask] = 1\n",
    "    y_coords = np.empty_like(x)\n",
    "    for i in range(len(x)):\n",
    "        y_v = V[:,i]\n",
    "        mask = y_v < 1.0\n",
    "        y_coords[i] = y[mask.sum()-1]\n",
    "    # plt.plot(x, y_coords, label=f\"${c1[index]:.03f} < J-K_s < {c2[index]:.03f}$\")\n",
    "    # break\n",
    "    mask = y_coords > 0\n",
    "    x_c = x[mask]\n",
    "    y_c = y_coords[mask]\n",
    "\n",
    "    tck = splrep(x_c, y_c, s=len(x_c))\n",
    "\n",
    "    xnew = np.linspace(x_c.min(), x_c.max(), 1000)\n",
    "    ynew = BSpline(*tck)(xnew)\n",
    "    plt.plot(ynew, xnew , label=f\"${c1[index]:.03f} < J-K_s < {c2[index]:.03f}$\")\n",
    "\n",
    "# plt.ylim(x.min(), x.max())\n",
    "# plt.xlim(y.min(), y.max())\n",
    "# plt.ylabel(r\"$\\sigma_{\\rm DD}$ [$M_{\\odot}$ pc$^{-2}]\")\n",
    "# plt.xlabel(r\"$h_{\\rm DD}$ [pc]\")\n",
    "# plt.legend()\n",
    "# plt.show()"
   ]
  }
 ],
 "metadata": {
  "kernelspec": {
   "display_name": "vaex",
   "language": "python",
   "name": "python3"
  },
  "language_info": {
   "codemirror_mode": {
    "name": "ipython",
    "version": 3
   },
   "file_extension": ".py",
   "mimetype": "text/x-python",
   "name": "python",
   "nbconvert_exporter": "python",
   "pygments_lexer": "ipython3",
   "version": "3.8.10"
  },
  "orig_nbformat": 4
 },
 "nbformat": 4,
 "nbformat_minor": 2
}
