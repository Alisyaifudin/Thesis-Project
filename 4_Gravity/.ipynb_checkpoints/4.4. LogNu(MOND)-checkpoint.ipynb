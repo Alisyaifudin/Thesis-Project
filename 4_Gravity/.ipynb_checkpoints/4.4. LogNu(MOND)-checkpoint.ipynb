{
 "cells": [
  {
   "cell_type": "code",
   "execution_count": 1,
   "metadata": {},
   "outputs": [],
   "source": [
    "import vaex\n",
    "import numpy as np\n",
    "from matplotlib import pyplot as plt\n",
    "from os.path import join, abspath\n",
    "import sys\n",
    "from scipy.integrate import odeint\n",
    "from scipy.interpolate import interp1d\n",
    "from os import pardir"
   ]
  },
  {
   "cell_type": "code",
   "execution_count": 2,
   "metadata": {},
   "outputs": [
    {
     "data": {
      "text/plain": [
       "'/home2/s20321005/Thesis-Project'"
      ]
     },
     "execution_count": 2,
     "metadata": {},
     "output_type": "execute_result"
    }
   ],
   "source": [
    "root_dir = abspath(pardir)\n",
    "root_dir"
   ]
  },
  {
   "cell_type": "code",
   "execution_count": 3,
   "metadata": {},
   "outputs": [
    {
     "data": {
      "text/plain": [
       "['/home2/s20321005/Thesis-Project/4_Gravity',\n",
       " '/home2/s20321005/.conda/envs/vaex/lib/python38.zip',\n",
       " '/home2/s20321005/.conda/envs/vaex/lib/python3.8',\n",
       " '/home2/s20321005/.conda/envs/vaex/lib/python3.8/lib-dynload',\n",
       " '',\n",
       " '/home2/s20321005/.local/lib/python3.8/site-packages',\n",
       " '/home2/s20321005/.conda/envs/vaex/lib/python3.8/site-packages',\n",
       " '/home2/s20321005/Thesis-Project']"
      ]
     },
     "execution_count": 3,
     "metadata": {},
     "output_type": "execute_result"
    }
   ],
   "source": [
    "if root_dir not in sys.path:\n",
    "    sys.path.append(root_dir)\n",
    "sys.path"
   ]
  },
  {
   "cell_type": "code",
   "execution_count": 4,
   "metadata": {},
   "outputs": [],
   "source": [
    "from utils import safe_mkdir"
   ]
  },
  {
   "cell_type": "code",
   "execution_count": 5,
   "metadata": {},
   "outputs": [
    {
     "data": {
      "text/plain": [
       "'/home2/s20321005/Thesis-Project/Data'"
      ]
     },
     "execution_count": 5,
     "metadata": {},
     "output_type": "execute_result"
    }
   ],
   "source": [
    "root_data_dir = abspath(join(pardir, \"Data\"))\n",
    "root_data_dir "
   ]
  },
  {
   "attachments": {},
   "cell_type": "markdown",
   "metadata": {},
   "source": [
    "## Math\n",
    "\n",
    "The possion equation for MOND\n",
    "\\begin{aligned}\n",
    "  \\nabla \\cdot \\left[ \\mu \\left( \\frac{|\\nabla \\Phi|}{a_0} \\right) \\nabla \\Phi \\right] = 4\\pi G\\rho (z,r,\\phi)\n",
    "\\end{aligned}\n",
    "\n",
    "where for $x \\gg 1 \\Rightarrow \\mu (x) \\approx 1$ and for $x \\ll 1 \\Rightarrow \\mu (x) \\approx x$"
   ]
  },
  {
   "attachments": {},
   "cell_type": "markdown",
   "metadata": {},
   "source": [
    "Assume axisymmetric potential, and can be decoupled\n",
    "\\begin{aligned}\n",
    "  \\Phi(z, r, \\phi) =  \\Phi(z, r) =  \\Phi_z(z) + \\Phi_r(r)\n",
    "\\end{aligned}"
   ]
  },
  {
   "attachments": {},
   "cell_type": "markdown",
   "metadata": {},
   "source": [
    "Therefore\n",
    "\\begin{aligned}\n",
    "  \\nabla \\Phi &= \\frac{\\partial \\Phi_z}{\\partial z}\\hat{z} + \\frac{\\partial \\Phi_r}{\\partial r}\\hat{r}\\\\\n",
    "  &= -K_z\\hat{z} - F_r\\hat{r} \n",
    "\\end{aligned}"
   ]
  },
  {
   "attachments": {},
   "cell_type": "markdown",
   "metadata": {},
   "source": [
    "for $r=R_\\odot$ and $|z|<<h_z$ ($h_z$ is some kind of scale height), $|\\nabla \\Phi| \\approx F_r(R_\\odot)$"
   ]
  },
  {
   "attachments": {},
   "cell_type": "markdown",
   "metadata": {},
   "source": [
    "Therefore, for $r$ around $R_\\odot$, the value of $|\\nabla \\Phi|$ is constant, and can be move out from the divergence operator\n",
    "\n",
    "\\begin{aligned}\n",
    "  \\mu \\left( \\frac{|\\nabla \\Phi|}{a_0} \\right) \\nabla \\cdot  (\\nabla \\Phi)  &= 4\\pi G\\rho (z) \\\\\n",
    "  \\nabla^2 \\Phi  &= 4\\pi G\\rho (z)\\frac{1}{\\mu \\left( \\frac{|\\nabla \\Phi|}{a_0} \\right) } \\\\\n",
    "  \\nabla^2 \\Phi  &= 4\\pi G\\rho' (z)\\\\\n",
    "\\end{aligned}\n",
    "\n"
   ]
  },
  {
   "attachments": {},
   "cell_type": "markdown",
   "metadata": {},
   "source": [
    "Where $\\rho' = \\rho (z) \\frac{1}{\\mu \\left( \\frac{|\\nabla \\Phi|}{a_0} \\right) }=\\rho(z)/\\mu_0$"
   ]
  },
  {
   "attachments": {},
   "cell_type": "markdown",
   "metadata": {},
   "source": [
    "we need to estimate the value of $|\\nabla \\Phi|$ in the vicinity of the sun. This value can be calculated from $LSR$ centrifetal acceleration.\n",
    "\n",
    "\\begin{aligned}\n",
    "  |\\nabla \\Phi| &= \\frac{\\Theta_0^2}{R_\\odot}\n",
    "\\end{aligned}\n",
    "This paper (https://arxiv.org/pdf/1401.5377.pdf paper) gives the values of $\\Theta_0$ and $R_\\odot$.\n",
    "\n",
    "\\begin{aligned}\n",
    "  \\Theta_0 &= 240\\pm8 \\textup{ km s}^{-1} \\\\\n",
    "  R_\\odot &= 8.34\\pm0.16 \\textup{ kpc}\n",
    "\\end{aligned}\n",
    "So\n",
    "\\begin{aligned}\n",
    "  |\\nabla \\Phi| &= (2.24\\pm0.02)\\times 10^{-10} \\textup{ m s}^{-2} \\\\\n",
    "  \\mu &= 1.0\\pm0.1\n",
    "\\end{aligned}"
   ]
  },
  {
   "attachments": {},
   "cell_type": "markdown",
   "metadata": {},
   "source": [
    "Where the error is calculated below\n",
    "\\begin{aligned}\n",
    "    \\sigma_{|\\nabla \\Phi|}^2 &= \\left(\\frac{\\partial |\\nabla \\Phi|}{\\partial \\Theta_0}\\right)^2\\sigma_{\\Theta_0}^2  + \\left(\\frac{\\partial |\\nabla \\Phi|}{\\partial R_\\odot}\\right)^2\\sigma_{R_\\odot}^2 \\\\\n",
    "    \\sigma_{|\\nabla \\Phi|}^2 &= \\left(\\frac{2\\Theta_0}{R_\\odot}\\right)^2\\sigma_{\\Theta_0}^2  + \\left(\\frac{\\Theta_0^2}{R_\\odot^2}\\right)^2\\sigma_{R_\\odot}^2 \\\\\n",
    "    \\left(\\frac{\\sigma_{|\\nabla \\Phi|}}{|\\nabla \\Phi|}\\right)^2 &= \\left(\\frac{2\\sigma_{\\Theta_0}}{\\Theta_0}\\right)^2  + \\left(\\frac{\\sigma_{R_\\odot}}{R_\\odot}\\right)^2 \\\\\n",
    "\\end{aligned}"
   ]
  },
  {
   "attachments": {},
   "cell_type": "markdown",
   "metadata": {},
   "source": [
    "The current best value of $a_0$ is around $1.2\\times 10^{-10} \\textup{ m s}^{-2}$"
   ]
  },
  {
   "attachments": {},
   "cell_type": "markdown",
   "metadata": {},
   "source": [
    "We can let $\\mu_0$ be a free parameter, and fit the data to get the best value of $\\mu_0$, then propagate to get the value of $a_0$ based ont hte interpolation function $\\mu (x)$"
   ]
  },
  {
   "attachments": {},
   "cell_type": "markdown",
   "metadata": {},
   "source": [
    "We will use simple and standard interpolation functions\n",
    "\n",
    "**Simple**\n",
    "\\begin{aligned}\n",
    "    \\mu(x) = \\frac{x}{1+x}\n",
    "\\end{aligned}\n",
    "\n",
    "**Standard**\n",
    "\\begin{aligned}\n",
    "    \\mu(x) = \\sqrt{\\frac{x^2}{1+x^2}}\n",
    "\\end{aligned}"
   ]
  },
  {
   "attachments": {},
   "cell_type": "markdown",
   "metadata": {},
   "source": [
    "For both interpolation functions, the value of $\\mu_0$ is approximaterly\n",
    "\\begin{aligned}\n",
    "    \\mu_0 = \\begin{cases}\n",
    "    0.65 & \\text{for simple} \\\\\n",
    "    0.88 & \\text{for standard}\n",
    "    \\end{cases}\n",
    "\\end{aligned}"
   ]
  },
  {
   "attachments": {},
   "cell_type": "markdown",
   "metadata": {},
   "source": [
    "## 1 Component"
   ]
  },
  {
   "cell_type": "code",
   "execution_count": 6,
   "metadata": {},
   "outputs": [],
   "source": [
    "def rho_tot1(z, phi, rho1, sigmaz1, mu0=0.7, R=3.4E-3):\n",
    "    return rho1*np.exp(-phi/sigmaz1**2)/mu0\n",
    "\n",
    "def f1(u, z, rho1, sigmaz1, mu0=0.7, R=3.4E-3):\n",
    "    G = 4.30091E-3 # pc/M_sun (km/s)^2\n",
    "    return (u[1], 4*np.pi*G*rho_tot1(z, u[0], rho1, sigmaz1, mu0, R))"
   ]
  },
  {
   "cell_type": "code",
   "execution_count": 7,
   "metadata": {},
   "outputs": [],
   "source": [
    "# Test\n",
    "phi0 = 0 # (km/s)^2\n",
    "Kz0 = 0 # pc (km/s)^2\n",
    "\n",
    "y0 = [Kz0, phi0]\n",
    "zs = np.linspace(0, 1000, 1000)\n",
    "\n",
    "rho1 = 0.0104 # Msun/pc^3\n",
    "sigmaz1 = 3.7 # km/s\n",
    "mu0 = 0.7\n",
    "R = 3.4E-3 # Msun/pc^3\n",
    "us = odeint(f1, y0, zs, args=(rho1, sigmaz1, mu0, R))"
   ]
  },
  {
   "cell_type": "code",
   "execution_count": 8,
   "metadata": {},
   "outputs": [
    {
     "data": {
      "image/png": "[encoded data removed]",
      "text/plain": [
       "<Figure size 432x288 with 1 Axes>"
      ]
     },
     "metadata": {
      "needs_background": "light"
     },
     "output_type": "display_data"
    }
   ],
   "source": [
    "phi = us[:, 0]\n",
    "plt.plot(zs, phi)\n",
    "plt.xlabel(\"z (pc)\")\n",
    "plt.ylabel(\"phi (km/s)^2\")\n",
    "plt.xlim(0, zs[-1])\n",
    "plt.ylim(0, phi[-1]*1.2)\n",
    "plt.grid()"
   ]
  },
  {
   "cell_type": "code",
   "execution_count": 9,
   "metadata": {},
   "outputs": [
    {
     "data": {
      "text/plain": [
       "(0.0, 0.17792360561920426)"
      ]
     },
     "execution_count": 9,
     "metadata": {},
     "output_type": "execute_result"
    },
    {
     "data": {
      "image/png": "[encoded data removed]",
      "text/plain": [
       "<Figure size 432x288 with 1 Axes>"
      ]
     },
     "metadata": {
      "needs_background": "light"
     },
     "output_type": "display_data"
    }
   ],
   "source": [
    "Kz = us[:, 1]\n",
    "plt.plot(zs, Kz)\n",
    "plt.xlabel(\"z (pc)\")\n",
    "plt.ylabel(\"Kz [pc (km/s)^2]\")\n",
    "plt.grid()\n",
    "plt.xlim(0, zs[-1])\n",
    "plt.ylim(0, Kz[-1]*1.2)"
   ]
  },
  {
   "attachments": {},
   "cell_type": "markdown",
   "metadata": {},
   "source": [
    "## Multi-components"
   ]
  },
  {
   "cell_type": "code",
   "execution_count": 10,
   "metadata": {},
   "outputs": [],
   "source": [
    "def frho(rho0, phi, sigmaz ):\n",
    "    return rho0*np.exp(-phi/sigmaz**2)\n",
    "\n",
    "def rho_tot(z, phi, rhos, sigmaz, mu0=0.7, R=3.4E-3):\n",
    "    rho = np.array(list(map(lambda par: frho(par[0], phi, par[1]), zip(rhos, sigmaz))))\n",
    "    return rho.sum()/mu0 - R\n",
    "\n",
    "def f(u, z, rhos, sigmaz, mu0=0.7, R=3.4E-3):\n",
    "    G = 4.30091E-3 # pc/M_sun (km/s)^2\n",
    "    return (u[1], 4*np.pi*G*rho_tot(z, u[0], rhos, sigmaz, mu0, R))"
   ]
  },
  {
   "cell_type": "code",
   "execution_count": 17,
   "metadata": {},
   "outputs": [],
   "source": [
    "phi0 = 0 # (km/s)^2\n",
    "Kz0 = 0 # pc (km/s)^2\n",
    "\n",
    "y0 = [Kz0, phi0]\n",
    "zs = np.linspace(0, 200, 1000)\n",
    "\n",
    "rhos = np.array([0.0104, 0.0277, 0.0073]) # Msun/pc^3\n",
    "sigmaz = np.array([3.7, 7.1, 22.1]) # km/s\n",
    "mu0 = 0.1\n",
    "R = 0 # 3.4E-3 # Msun/pc^3\n",
    "us = odeint(f, y0, zs, args=(rhos, sigmaz, mu0, R))"
   ]
  },
  {
   "cell_type": "code",
   "execution_count": 18,
   "metadata": {},
   "outputs": [
    {
     "data": {
      "image/png": "[encoded data removed]",
      "text/plain": [
       "<Figure size 432x288 with 1 Axes>"
      ]
     },
     "metadata": {
      "needs_background": "light"
     },
     "output_type": "display_data"
    }
   ],
   "source": [
    "phi = us[:, 0]\n",
    "plt.plot(zs, phi)\n",
    "plt.xlabel(\"z (pc)\")\n",
    "plt.ylabel(\"phi (km/s)^2\")\n",
    "plt.xlim(0, zs[-1])\n",
    "plt.ylim(0, phi[-1]*1.2)\n",
    "plt.grid()"
   ]
  },
  {
   "cell_type": "code",
   "execution_count": 19,
   "metadata": {},
   "outputs": [
    {
     "data": {
      "text/plain": [
       "(0.0, 2.150456252533618)"
      ]
     },
     "execution_count": 19,
     "metadata": {},
     "output_type": "execute_result"
    },
    {
     "data": {
      "image/png": "[encoded data removed]",
      "text/plain": [
       "<Figure size 432x288 with 1 Axes>"
      ]
     },
     "metadata": {
      "needs_background": "light"
     },
     "output_type": "display_data"
    }
   ],
   "source": [
    "Kz = us[:, 1]\n",
    "plt.plot(zs, Kz)\n",
    "plt.xlabel(\"z (pc)\")\n",
    "plt.ylabel(\"Kz [pc (km/s)^2]\")\n",
    "plt.grid()\n",
    "plt.xlim(0, zs[-1])\n",
    "plt.ylim(0, Kz[-1]*1.2)"
   ]
  },
  {
   "attachments": {},
   "cell_type": "markdown",
   "metadata": {},
   "source": [
    "$\\Phi(z)$ for all $z$ and if the middle planet is at $z_{0}$"
   ]
  },
  {
   "cell_type": "code",
   "execution_count": 20,
   "metadata": {},
   "outputs": [
    {
     "data": {
      "image/png": "[encoded data removed]",
      "text/plain": [
       "<Figure size 432x288 with 1 Axes>"
      ]
     },
     "metadata": {
      "needs_background": "light"
     },
     "output_type": "display_data"
    }
   ],
   "source": [
    "phi0 = 0 # (km/s)^2\n",
    "Kz0 = 0 # pc (km/s)^2\n",
    "\n",
    "y0 = [Kz0, phi0]\n",
    "zmax = 200\n",
    "\n",
    "rhos = np.array([0.0104, 0.0277, 0.0073]) # Msun/pc^3\n",
    "sigmaz = np.array([3.7, 7.1, 22.1]) # km/s\n",
    "mu0 = 0.7\n",
    "R = 0 # 3.4E-3 # Msun/pc^3\n",
    "z0 = 50\n",
    "\n",
    "zs = np.linspace(0, zmax+np.abs(z0), 1000)\n",
    "us = odeint(f, y0, zs, args=(rhos, sigmaz, mu0, R))\n",
    "\n",
    "phi = us[:, 0]\n",
    "\n",
    "phi_interp = interp1d(zs, phi, kind='cubic')\n",
    "phi_z = lambda z, z0: phi_interp(np.abs(z-z0))\n",
    "\n",
    "zs = np.linspace(-200, 200, 1000)\n",
    "plt.plot(zs, phi_z(zs, z0))\n",
    "plt.xlabel(\"z (pc)\")\n",
    "plt.ylabel(\"phi (km/s)^2\")\n",
    "plt.grid()\n",
    "plt.show()"
   ]
  },
  {
   "attachments": {},
   "cell_type": "markdown",
   "metadata": {},
   "source": [
    "# Number density"
   ]
  },
  {
   "attachments": {},
   "cell_type": "markdown",
   "metadata": {},
   "source": [
    "Eq (3.4) from [Schutz et. al (2019)](https://journals.aps.org/prl/abstract/10.1103/PhysRevLett.121.081101)\n",
    "\n",
    "\\begin{aligned}\n",
    "  \\nu(z) &= \\nu_0 \\int_{\\sqrt{2\\Phi(z)}}^\\infty \\frac{2f_{0}(|w|)w \\text{ d}w}{\\sqrt{w^2-2\\Phi(z)}}\n",
    "\\end{aligned}\n",
    "and $f_{0}(|w|)$ is modelled as gaussian with zero mean and some std $\\sigma_w$\n",
    "\\begin{aligned}\n",
    "  f_{0}(|w|) \\approx \\mathcal{N}(|w|; 0, \\sigma_w)\n",
    "\\end{aligned}"
   ]
  },
  {
   "attachments": {},
   "cell_type": "markdown",
   "metadata": {},
   "source": [
    "Integrated, becomes\n",
    "\\begin{aligned}\n",
    "  \\nu(z) &= \\nu_0\\exp{\\left(-\\frac{\\Phi(z)}{\\sigma^2_w}\\right)}\n",
    "\\end{aligned}"
   ]
  },
  {
   "cell_type": "code",
   "execution_count": 21,
   "metadata": {},
   "outputs": [
    {
     "data": {
      "image/png": "[encoded data removed]",
      "text/plain": [
       "<Figure size 432x288 with 1 Axes>"
      ]
     },
     "metadata": {
      "needs_background": "light"
     },
     "output_type": "display_data"
    }
   ],
   "source": [
    "nu0 = 1\n",
    "sigma_w = 5\n",
    "nu = nu0*np.exp(-phi_z(zs, z0)/sigma_w**2)\n",
    "\n",
    "plt.plot(zs, nu)\n",
    "plt.xlabel(\"z (pc)\")\n",
    "plt.ylabel(\"nu\")\n",
    "plt.yscale(\"log\")\n",
    "plt.grid()\n",
    "plt.show()"
   ]
  },
  {
   "attachments": {},
   "cell_type": "markdown",
   "metadata": {},
   "source": [
    "What if $f_0$ is a mixture of gaussians?\n",
    "\\begin{aligned}\n",
    "  f_{0}(|w|) \\approx \\sum_i^Na_i\\mathcal{N}(|w|; \\mu_i, \\sigma_i)\n",
    "\\end{aligned}"
   ]
  },
  {
   "attachments": {},
   "cell_type": "markdown",
   "metadata": {},
   "source": [
    "Where\n",
    "\\begin{align*}\n",
    " \\int_{-\\infty}^\\infty f_{0}(|w|) \\text{ d}w &= 1 \\\\\n",
    " \\int_{-\\infty}^\\infty \\sum_i^Na_i\\mathcal{N}(|w|; \\mu_i, \\sigma_i) &=  1\\\\\n",
    " \\sum_i^N a_i\\int_{-\\infty}^\\infty \\mathcal{N}(|w|; \\mu_i, \\sigma_i) &=  1\\\\\n",
    " \\sum_i^N a_i &=  1\\\\\n",
    "\\end{align*}"
   ]
  },
  {
   "attachments": {},
   "cell_type": "markdown",
   "metadata": {},
   "source": [
    "Then, $\\nu(z)$ becomes\n",
    "\\begin{aligned}\n",
    "  \\nu(z) &= \\nu_0\\sum_i^N\\left[a_i\\exp{\\left(-\\frac{\\Phi(z)}{\\sigma^2_{w,i}}\\right)}\\right]\n",
    "\\end{aligned}"
   ]
  },
  {
   "cell_type": "code",
   "execution_count": 22,
   "metadata": {},
   "outputs": [
    {
     "data": {
      "image/png": "[encoded data removed]",
      "text/plain": [
       "<Figure size 432x288 with 1 Axes>"
      ]
     },
     "metadata": {
      "needs_background": "light"
     },
     "output_type": "display_data"
    }
   ],
   "source": [
    "nu0 = 1\n",
    "sigma_w = np.vstack(np.array([10, 5, 2]))\n",
    "a_raw = np.vstack(np.array([-0.1, 2, 0.3]))\n",
    "a = a_raw/np.sum(a_raw)\n",
    "\n",
    "nu = nu0*np.sum(a*np.exp(-phi_z(zs, z0)/sigma_w**2), axis=0)\n",
    "\n",
    "for ai, sigma_wi in zip(a, sigma_w):\n",
    "    plt.plot(zs, nu0*ai*np.exp(-phi_z(zs, z0)/sigma_wi**2))\n",
    "plt.xlabel(\"z (pc)\")\n",
    "plt.ylabel(\"nu\")\n",
    "plt.plot(zs, nu, c=\"r\", lw=2)\n",
    "plt.ylim(1E-2, nu0*1.2)\n",
    "plt.yscale(\"log\")\n",
    "plt.grid()\n",
    "plt.show()"
   ]
  },
  {
   "attachments": {},
   "cell_type": "markdown",
   "metadata": {},
   "source": [
    "# All Components"
   ]
  },
  {
   "cell_type": "code",
   "execution_count": 23,
   "metadata": {},
   "outputs": [
    {
     "data": {
      "text/plain": [
       "'/home2/s20321005/Thesis-Project/Data/Baryon'"
      ]
     },
     "execution_count": 23,
     "metadata": {},
     "output_type": "execute_result"
    }
   ],
   "source": [
    "name = \"Baryon\"\n",
    "data_dir = join(root_data_dir, name)\n",
    "data_dir"
   ]
  },
  {
   "cell_type": "code",
   "execution_count": 24,
   "metadata": {},
   "outputs": [
    {
     "data": {
      "text/html": [
       "<table>\n",
       "<thead>\n",
       "<tr><th>#                             </th><th>components             </th><th>rho   </th><th>e_rho  </th><th>sigma_z  </th><th>e_sigma_z  </th></tr>\n",
       "</thead>\n",
       "<tbody>\n",
       "<tr><td><i style='opacity: 0.6'>0</i> </td><td>Molecular gas (H2)     </td><td>0.0104</td><td>0.00312</td><td>3.7      </td><td>0.2        </td></tr>\n",
       "<tr><td><i style='opacity: 0.6'>1</i> </td><td>Cold atomic gas (HI(1))</td><td>0.0277</td><td>0.00554</td><td>7.1      </td><td>0.5        </td></tr>\n",
       "<tr><td><i style='opacity: 0.6'>2</i> </td><td>Warm atomic gas (HI(2))</td><td>0.0073</td><td>0.0007 </td><td>22.1     </td><td>2.4        </td></tr>\n",
       "<tr><td><i style='opacity: 0.6'>3</i> </td><td>Hot ionized gas (HII)  </td><td>0.0005</td><td>3e-05  </td><td>39.0     </td><td>4.0        </td></tr>\n",
       "<tr><td><i style='opacity: 0.6'>4</i> </td><td>Giant stars            </td><td>0.0006</td><td>6e-05  </td><td>15.5     </td><td>1.6        </td></tr>\n",
       "<tr><td>...                           </td><td>...                    </td><td>...   </td><td>...    </td><td>...      </td><td>...        </td></tr>\n",
       "<tr><td><i style='opacity: 0.6'>7</i> </td><td>4 &lt; MV &lt; 5             </td><td>0.0029</td><td>0.00029</td><td>18.0     </td><td>1.8        </td></tr>\n",
       "<tr><td><i style='opacity: 0.6'>8</i> </td><td>5 &lt; MV &lt; 8             </td><td>0.0072</td><td>0.00072</td><td>18.5     </td><td>1.9        </td></tr>\n",
       "<tr><td><i style='opacity: 0.6'>9</i> </td><td>MV &gt; 8                 </td><td>0.0216</td><td>0.0028 </td><td>18.5     </td><td>4.0        </td></tr>\n",
       "<tr><td><i style='opacity: 0.6'>10</i></td><td>White dwarfs           </td><td>0.0056</td><td>0.001  </td><td>20.0     </td><td>5.0        </td></tr>\n",
       "<tr><td><i style='opacity: 0.6'>11</i></td><td>Brown dwarfs           </td><td>0.0015</td><td>0.0005 </td><td>20.0     </td><td>5.0        </td></tr>\n",
       "</tbody>\n",
       "</table>"
      ],
      "text/plain": [
       "#    components               rho     e_rho    sigma_z    e_sigma_z\n",
       "0    Molecular gas (H2)       0.0104  0.00312  3.7        0.2\n",
       "1    Cold atomic gas (HI(1))  0.0277  0.00554  7.1        0.5\n",
       "2    Warm atomic gas (HI(2))  0.0073  0.0007   22.1       2.4\n",
       "3    Hot ionized gas (HII)    0.0005  3e-05    39.0       4.0\n",
       "4    Giant stars              0.0006  6e-05    15.5       1.6\n",
       "...  ...                      ...     ...      ...        ...\n",
       "7    4 < MV < 5               0.0029  0.00029  18.0       1.8\n",
       "8    5 < MV < 8               0.0072  0.00072  18.5       1.9\n",
       "9    MV > 8                   0.0216  0.0028   18.5       4.0\n",
       "10   White dwarfs             0.0056  0.001    20.0       5.0\n",
       "11   Brown dwarfs             0.0015  0.0005   20.0       5.0"
      ]
     },
     "execution_count": 24,
     "metadata": {},
     "output_type": "execute_result"
    }
   ],
   "source": [
    "# load baryons components\n",
    "df_baryon = vaex.open(join(data_dir, \"baryon.hdf5\"))\n",
    "df_baryon"
   ]
  },
  {
   "cell_type": "code",
   "execution_count": 26,
   "metadata": {},
   "outputs": [],
   "source": [
    "rhos = df_baryon[\"rho\"].to_numpy()  # Msun/pc^3\n",
    "sigmaz = df_baryon[\"sigma_z\"].to_numpy() # km/s\n",
    "\n",
    "# test the following dark values\n",
    "mu0 = 0.7\n",
    "nu0 = 1\n",
    "\n",
    "# initial values\n",
    "phi0 = 0 # (km/s)^2\n",
    "Kz0 = 0 # pc (km/s)^2\n",
    "R = 3.4E-3 \n",
    "z0 = -50 # pc\n",
    "zmax = 200 # pc\n",
    "y0 = [Kz0, phi0]\n",
    "zs = np.linspace(0, zmax+abs(z0), 1000)\n",
    "us = odeint(f, y0, zs, args=(rhos, sigmaz, mu0, R))"
   ]
  },
  {
   "cell_type": "code",
   "execution_count": 27,
   "metadata": {},
   "outputs": [
    {
     "data": {
      "image/png": "[encoded data removed]",
      "text/plain": [
       "<Figure size 432x288 with 1 Axes>"
      ]
     },
     "metadata": {
      "needs_background": "light"
     },
     "output_type": "display_data"
    }
   ],
   "source": [
    "phi = us[:, 0]\n",
    "plt.plot(zs, phi)\n",
    "plt.xlabel(\"z (pc)\")\n",
    "plt.ylabel(\"phi (km/s)^2\")\n",
    "plt.xlim(0, zs[-1])\n",
    "plt.ylim(0, phi[-1]*1.2)\n",
    "plt.grid()"
   ]
  },
  {
   "cell_type": "code",
   "execution_count": 28,
   "metadata": {},
   "outputs": [
    {
     "data": {
      "text/plain": [
       "(0.0, 1.2892030367816554)"
      ]
     },
     "execution_count": 28,
     "metadata": {},
     "output_type": "execute_result"
    },
    {
     "data": {
      "image/png": "[encoded data removed]",
      "text/plain": [
       "<Figure size 432x288 with 1 Axes>"
      ]
     },
     "metadata": {
      "needs_background": "light"
     },
     "output_type": "display_data"
    }
   ],
   "source": [
    "Kz = us[:, 1]\n",
    "plt.plot(zs, Kz)\n",
    "plt.xlabel(\"z (pc)\")\n",
    "plt.ylabel(\"Kz [pc (km/s)^2]\")\n",
    "plt.grid()\n",
    "plt.xlim(0, zs[-1])\n",
    "plt.ylim(0, Kz[-1]*1.2)"
   ]
  },
  {
   "cell_type": "code",
   "execution_count": 29,
   "metadata": {},
   "outputs": [
    {
     "data": {
      "image/png": "[encoded data removed]",
      "text/plain": [
       "<Figure size 432x288 with 1 Axes>"
      ]
     },
     "metadata": {
      "needs_background": "light"
     },
     "output_type": "display_data"
    }
   ],
   "source": [
    "phi = us[:, 0]\n",
    "\n",
    "phi_interp = interp1d(zs, phi, kind='cubic')\n",
    "phi_z = lambda z, z0: phi_interp(np.abs(z-z0))\n",
    "\n",
    "zs = np.linspace(-200, 200, 1000)\n",
    "plt.plot(zs, phi_z(zs, z0))\n",
    "plt.xlabel(\"z (pc)\")\n",
    "plt.ylabel(\"phi (km/s)^2\")\n",
    "plt.grid()\n",
    "plt.show()"
   ]
  },
  {
   "cell_type": "code",
   "execution_count": 30,
   "metadata": {},
   "outputs": [
    {
     "data": {
      "image/png": "[encoded data removed]",
      "text/plain": [
       "<Figure size 432x288 with 1 Axes>"
      ]
     },
     "metadata": {
      "needs_background": "light"
     },
     "output_type": "display_data"
    }
   ],
   "source": [
    "nu0 = 1\n",
    "sigma_w = np.vstack(np.array([10, 5, 2]))\n",
    "a_raw = np.vstack(np.array([-0.1, 2, 0.3]))\n",
    "a = a_raw/np.sum(a_raw)\n",
    "\n",
    "nu = nu0*np.sum(a*np.exp(-phi_z(zs, z0)/sigma_w**2), axis=0)\n",
    "\n",
    "for ai, sigma_wi in zip(a, sigma_w):\n",
    "    plt.plot(zs, nu0*ai*np.exp(-phi_z(zs, z0)/sigma_wi**2))\n",
    "plt.xlabel(\"z (pc)\")\n",
    "plt.ylabel(\"nu\")\n",
    "plt.plot(zs, nu, c=\"r\", lw=2)\n",
    "plt.ylim(1E-2*nu0, nu0*1.2)\n",
    "plt.yscale(\"log\")\n",
    "plt.grid()\n",
    "plt.show()"
   ]
  },
  {
   "attachments": {},
   "cell_type": "markdown",
   "metadata": {},
   "source": [
    "Compiling and creating $\\nu^{\\text{mod}}(\\theta)$ function\n",
    "\n",
    "all in one"
   ]
  },
  {
   "cell_type": "code",
   "execution_count": 34,
   "metadata": {},
   "outputs": [],
   "source": [
    "from operator import itemgetter\n",
    "from scipy.interpolate import interp1d\n",
    "import numpy as np\n",
    "from scipy.integrate import odeint\n",
    "\n",
    "def frho(rho0, phi, sigmaz ):\n",
    "    return rho0*np.exp(-phi/sigmaz**2)\n",
    "\n",
    "def rho_tot(z, phi, rhos, sigmaz, mu0=0.7, R=3.4E-3):\n",
    "    rho = np.array(list(map(lambda par: frho(par[0], phi, par[1]), zip(rhos, sigmaz))))\n",
    "    return rho.sum()/mu0 - R\n",
    "\n",
    "def f(u, z, rhos, sigmaz, mu0=0.7, R=3.4E-3):\n",
    "    G = 4.30091E-3 # pc/M_sun (km/s)^2\n",
    "    return (u[1], 4*np.pi*G*rho_tot(z, u[0], rhos, sigmaz, mu0, R))\n",
    "\n",
    "def phi_mond(zz, **theta):\n",
    "    args = ('rhos', 'sigmaz', 'mu0', 'zsun', 'R')\n",
    "    rhos, sigmaz, mu0, zsun, R = itemgetter(*args)(theta)\n",
    "    res = 1000\n",
    "    if 'res' in theta:\n",
    "        res = theta['res']\n",
    "    phi0 = 0 # (km/s)^2\n",
    "    Kz0 = 0 # pc (km/s)^2\n",
    "\n",
    "    y0 = [Kz0, phi0]\n",
    "    zmax = np.max(np.abs(zz+zsun))\n",
    "    zs = np.linspace(0, zmax, res)\n",
    "    us = odeint(f, y0, zs, args=(rhos, sigmaz, mu0, R))\n",
    "    phi = us[:, 0]\n",
    "    phi_interp = interp1d(zs, phi, kind='cubic')\n",
    "    phi_z = lambda z, zsun: phi_interp(np.abs(z+zsun))\n",
    "    return phi_z(zz, zsun)\n",
    "\n",
    "def nu_mond(zz, **theta):\n",
    "    args = ('sigma_w', 'a', 'nu0')\n",
    "    sigma_w, a, nu0 = itemgetter(*args)(theta)\n",
    "    sigma_w = np.vstack(sigma_w)\n",
    "    a_raw = np.vstack(a)\n",
    "    a = a_raw/np.sum(a_raw)\n",
    "    nu = nu0*np.sum(a*np.exp(-phi_mond(zz, **theta)/sigma_w**2), axis=0)\n",
    "    nu = np.abs(nu)\n",
    "    return nu"
   ]
  },
  {
   "cell_type": "code",
   "execution_count": 35,
   "metadata": {},
   "outputs": [
    {
     "data": {
      "text/plain": [
       "array([0.06261405, 0.06863565, 0.07521312, 0.08241444, 0.09032242,\n",
       "       0.0990382 , 0.10868512, 0.11941278, 0.13140111, 0.14486372,\n",
       "       0.16005021, 0.17724632, 0.19677101, 0.21896923, 0.24419907,\n",
       "       0.27281201, 0.30512567, 0.34138907, 0.38174262, 0.42617856,\n",
       "       0.47451285, 0.52638485, 0.58129921, 0.63870307, 0.69803928,\n",
       "       0.75865053, 0.81940153, 0.8780403 , 0.93064473, 0.97176433,\n",
       "       0.9956789 , 0.99843839, 0.979557  , 0.94223449, 0.89194947,\n",
       "       0.83438148, 0.77388862, 0.71310447, 0.65337818, 0.59543852,\n",
       "       0.53984949, 0.48716676, 0.43790789, 0.39247293, 0.3510915 ,\n",
       "       0.31381357, 0.28053228, 0.25102191, 0.22497845, 0.20205603])"
      ]
     },
     "execution_count": 35,
     "metadata": {},
     "output_type": "execute_result"
    }
   ],
   "source": [
    "rhos = df_baryon[\"rho\"].to_numpy()  # Msun/pc^3\n",
    "sigmaz = df_baryon[\"sigma_z\"].to_numpy() # km/s\n",
    "\n",
    "# test the following dark values\n",
    "mu0 = 0.7\n",
    "R = 3.4E-3 # Msun/pc^3\n",
    "nu0 = 1\n",
    "zsun = -50\n",
    "sigma_w = np.array([10, 5, 2])\n",
    "a_raw = np.array([1, 2, 0.3])\n",
    "w0 = 0.5\n",
    "\n",
    "theta = dict(rhos=rhos, sigmaz=sigmaz, mu0=mu0, nu0=nu0, zsun=zsun, R=R, w0=w0, sigma_w=sigma_w, a=a_raw)\n",
    "\n",
    "zz = np.linspace(-200, 200, 50)\n",
    "sigma_v = 5\n",
    "nu = nu_mond(zz, **theta)\n",
    "nu"
   ]
  },
  {
   "cell_type": "code",
   "execution_count": 36,
   "metadata": {},
   "outputs": [
    {
     "data": {
      "image/png": "[encoded data removed]",
      "text/plain": [
       "<Figure size 432x288 with 1 Axes>"
      ]
     },
     "metadata": {
      "needs_background": "light"
     },
     "output_type": "display_data"
    }
   ],
   "source": [
    "plt.scatter(zz, nu)\n",
    "plt.yscale(\"log\")\n",
    "plt.grid()"
   ]
  },
  {
   "attachments": {},
   "cell_type": "markdown",
   "metadata": {},
   "source": [
    "save the relevant functions to utils module"
   ]
  },
  {
   "attachments": {},
   "cell_type": "markdown",
   "metadata": {},
   "source": [
    "# Test function from utils"
   ]
  },
  {
   "cell_type": "code",
   "execution_count": 6,
   "metadata": {},
   "outputs": [],
   "source": [
    "from utils import nu_mond"
   ]
  },
  {
   "cell_type": "code",
   "execution_count": 7,
   "metadata": {},
   "outputs": [
    {
     "data": {
      "text/html": [
       "<table>\n",
       "<thead>\n",
       "<tr><th>#                             </th><th>components             </th><th>rho   </th><th>e_rho  </th><th>sigma_z  </th><th>e_sigma_z  </th></tr>\n",
       "</thead>\n",
       "<tbody>\n",
       "<tr><td><i style='opacity: 0.6'>0</i> </td><td>Molecular gas (H2)     </td><td>0.0104</td><td>0.00312</td><td>3.7      </td><td>0.2        </td></tr>\n",
       "<tr><td><i style='opacity: 0.6'>1</i> </td><td>Cold atomic gas (HI(1))</td><td>0.0277</td><td>0.00554</td><td>7.1      </td><td>0.5        </td></tr>\n",
       "<tr><td><i style='opacity: 0.6'>2</i> </td><td>Warm atomic gas (HI(2))</td><td>0.0073</td><td>0.0007 </td><td>22.1     </td><td>2.4        </td></tr>\n",
       "<tr><td><i style='opacity: 0.6'>3</i> </td><td>Hot ionized gas (HII)  </td><td>0.0005</td><td>3e-05  </td><td>39.0     </td><td>4.0        </td></tr>\n",
       "<tr><td><i style='opacity: 0.6'>4</i> </td><td>Giant stars            </td><td>0.0006</td><td>6e-05  </td><td>15.5     </td><td>1.6        </td></tr>\n",
       "<tr><td>...                           </td><td>...                    </td><td>...   </td><td>...    </td><td>...      </td><td>...        </td></tr>\n",
       "<tr><td><i style='opacity: 0.6'>7</i> </td><td>4 &lt; MV &lt; 5             </td><td>0.0029</td><td>0.00029</td><td>18.0     </td><td>1.8        </td></tr>\n",
       "<tr><td><i style='opacity: 0.6'>8</i> </td><td>5 &lt; MV &lt; 8             </td><td>0.0072</td><td>0.00072</td><td>18.5     </td><td>1.9        </td></tr>\n",
       "<tr><td><i style='opacity: 0.6'>9</i> </td><td>MV &gt; 8                 </td><td>0.0216</td><td>0.0028 </td><td>18.5     </td><td>4.0        </td></tr>\n",
       "<tr><td><i style='opacity: 0.6'>10</i></td><td>White dwarfs           </td><td>0.0056</td><td>0.001  </td><td>20.0     </td><td>5.0        </td></tr>\n",
       "<tr><td><i style='opacity: 0.6'>11</i></td><td>Brown dwarfs           </td><td>0.0015</td><td>0.0005 </td><td>20.0     </td><td>5.0        </td></tr>\n",
       "</tbody>\n",
       "</table>"
      ],
      "text/plain": [
       "#    components               rho     e_rho    sigma_z    e_sigma_z\n",
       "0    Molecular gas (H2)       0.0104  0.00312  3.7        0.2\n",
       "1    Cold atomic gas (HI(1))  0.0277  0.00554  7.1        0.5\n",
       "2    Warm atomic gas (HI(2))  0.0073  0.0007   22.1       2.4\n",
       "3    Hot ionized gas (HII)    0.0005  3e-05    39.0       4.0\n",
       "4    Giant stars              0.0006  6e-05    15.5       1.6\n",
       "...  ...                      ...     ...      ...        ...\n",
       "7    4 < MV < 5               0.0029  0.00029  18.0       1.8\n",
       "8    5 < MV < 8               0.0072  0.00072  18.5       1.9\n",
       "9    MV > 8                   0.0216  0.0028   18.5       4.0\n",
       "10   White dwarfs             0.0056  0.001    20.0       5.0\n",
       "11   Brown dwarfs             0.0015  0.0005   20.0       5.0"
      ]
     },
     "execution_count": 7,
     "metadata": {},
     "output_type": "execute_result"
    }
   ],
   "source": [
    "name = \"Baryon\"\n",
    "data_dir = join(root_data_dir, name)\n",
    "df_baryon = vaex.open(join(data_dir, \"baryon.hdf5\"))\n",
    "df_baryon"
   ]
  },
  {
   "cell_type": "code",
   "execution_count": 8,
   "metadata": {},
   "outputs": [],
   "source": [
    "rhos = df_baryon[\"rho\"].to_numpy()  # Msun/pc^3\n",
    "sigmaz = df_baryon[\"sigma_z\"].to_numpy() # km/s\n",
    "\n",
    "# test the following dark values\n",
    "mu0 = 0.7\n",
    "R = 3.4E-3 # Msun/pc^3\n",
    "nu0 = 1\n",
    "zsun = -0\n",
    "sigma_w = np.array([20])\n",
    "a_raw = np.array([1])\n",
    "w0 = 0.5\n",
    "\n",
    "theta = dict(rhos=rhos, sigmaz=sigmaz, mu0=mu0, nu0=nu0, zsun=zsun, R=R, w0=w0, sigma_w=sigma_w, a=a_raw)\n",
    "\n",
    "zz = np.linspace(-1000, 1000, 1000)\n",
    "sigma_v = 5\n",
    "nu = nu_mond(zz, **theta)\n",
    "# filter all z for which nu > 0.2\n",
    "zb = zz[nu < 0.2]\n",
    "nub = nu[nu < 0.2]"
   ]
  },
  {
   "cell_type": "code",
   "execution_count": 9,
   "metadata": {},
   "outputs": [
    {
     "data": {
      "image/png": "[encoded data removed]",
      "text/plain": [
       "<Figure size 432x288 with 1 Axes>"
      ]
     },
     "metadata": {
      "needs_background": "light"
     },
     "output_type": "display_data"
    }
   ],
   "source": [
    "plt.plot(zz, nu)\n",
    "plt.plot(zb, nub, c=\"r\")\n",
    "plt.grid()"
   ]
  }
 ],
 "metadata": {
  "kernelspec": {
   "display_name": "vaex",
   "language": "python",
   "name": "python3"
  },
  "language_info": {
   "codemirror_mode": {
    "name": "ipython",
    "version": 3
   },
   "file_extension": ".py",
   "mimetype": "text/x-python",
   "name": "python",
   "nbconvert_exporter": "python",
   "pygments_lexer": "ipython3",
   "version": "3.8.10"
  },
  "orig_nbformat": 4
 },
 "nbformat": 4,
 "nbformat_minor": 2
}
